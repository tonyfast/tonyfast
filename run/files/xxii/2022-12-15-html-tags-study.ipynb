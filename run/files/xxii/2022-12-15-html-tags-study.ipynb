{
  "cells": [
    {
      "cell_type": "markdown",
      "id": "3137a008-66d1-445c-bc02-cd5cc7e2f453",
      "metadata": {},
      "source": [
        "# all the tags i could be using\n",
        "\n",
        "i'm interested in how we write about code,\n",
        "and i think we should use standards in as many places as possible.\n",
        "the document explores some of the standard html tags\n",
        "that i'm not aware of, or forgot about.\n",
        "\n",
        "let's look through the standard html tags and see what opinions we can reuse."
      ]
    },
    {
      "cell_type": "markdown",
      "id": "c521039e-d586-4b9b-8820-1b7465ae6875",
      "metadata": {},
      "source": [
        "## motivation\n",
        "\n",
        "this exercise is useful for me because i like to write in markdown\n",
        "which has a limited design affordances.\n",
        "since markdown is a superset of html we can reuse standard tags as design units in our literate programming."
      ]
    },
    {
      "cell_type": "markdown",
      "id": "bde9fc56-8487-4687-934d-2abd2dda23b0",
      "metadata": {},
      "source": [
        "### a concrete example is the `<var/>` tag \n",
        "\n",
        "> The <var> HTML element represents the name of a variable in a mathematical expression or a programming context. It's typically presented using an italicized version of the current typeface, although that behavior is browser-dependent. <cite>[The Var Text element][var]</cite>\n",
        "    \n",
        "based on definition the `<var>` tag seems like perfect way\n",
        "to style variables defined within a program.\n",
        "* i do not agree with the style, but i agree with the semantics.\n",
        "* to derive intertextuality between code/narrative. `pre` tags seems to make more sense between there forms will be most consistent. the monospace indicates that this reads code.\n",
        "    * maybe the code has a different style itself.\n",
        "\n",
        "    \n",
        "    \n",
        "[var]: https://developer.mozilla.org/en-US/docs/Web/HTML/Element/var \"the var tag documention on mdn\""
      ]
    },
    {
      "cell_type": "code",
      "execution_count": 168,
      "id": "e37015df-1e33-401d-9bfa-d2fcd564d1d1",
      "metadata": {
        "jupyter": {
          "source_hidden": true
        }
      },
      "outputs": [],
      "source": [
        "    \n",
        "    %pip install requests pidgy pandas jinja2 pyodide-http\n",
        "    __import__('pyodide_http').patch_all()\n",
        "    %reload_ext pidgy\n",
        "    import pandas, requests\n",
        "    pandas.options\n",
        "    __import__(\"requests_cache\").install_cache()"
      ]
    },
    {
      "cell_type": "code",
      "execution_count": 174,
      "id": "65f50fe4-cef2-4fe8-a7c9-63e339fe3ea1",
      "metadata": {
        "jupyter": {
          "source_hidden": true
        }
      },
      "outputs": [
        {
          "data": {
            "text/markdown": [
              "### style choices\n",
              "\n",
              "while toying with the document i realize that some folks might be caught up \n",
              "by style inconsistencies with the tags.\n",
              "i'm changing some styles used in this document.\n",
              "the goal of this is semantic consistency so style matters less today.\n",
              "\n",
              "    style=\\\n",
              "```css\n",
              "var {\n",
              "    font-family: monospace;\n",
              "    whitespace: pre;\n",
              "    font-weight: bold;\n",
              "}\n",
              "\n",
              "mark {\n",
              "    background-color: lightblue;\n",
              "}\n",
              "a:link {\n",
              "    font-weight: bold;\n",
              "}\n",
              "```\n",
              "<style>\n",
              "var {\n",
              "    font-family: monospace;\n",
              "    whitespace: pre;\n",
              "    font-weight: bold;\n",
              "}\n",
              "\n",
              "mark {\n",
              "    background-color: lightblue;\n",
              "}\n",
              "a:link {\n",
              "    font-weight: bold;\n",
              "}\n",
              "```\n",
              "<style>\n",
              "{{style.splitlines(True)[1:-1] | join}}\n",
              "\n",
              "</style>"
            ],
            "text/plain": [
              "<IPython.core.display.Markdown object>"
            ]
          },
          "metadata": {},
          "output_type": "display_data"
        }
      ],
      "source": [
        "### style choices\n",
        "\n",
        "while toying with the document i realize that some folks might be caught up \n",
        "by style inconsistencies with the tags.\n",
        "i'm changing some styles used in this document.\n",
        "the goal of this is semantic consistency so style matters less today.\n",
        "\n",
        "    style=\\\n",
        "```css\n",
        "var {\n",
        "    font-family: monospace;\n",
        "    whitespace: pre;\n",
        "    font-weight: bold;\n",
        "}\n",
        "\n",
        "mark {\n",
        "    background-color: lightblue;\n",
        "}\n",
        "a:link {\n",
        "    font-weight: bold;\n",
        "}\n",
        "```\n",
        "<style>\n",
        "{{style.splitlines(True)[1:-1] | join}}\n",
        "</style>"
      ]
    },
    {
      "cell_type": "markdown",
      "id": "b3d07e20-db0d-4568-91fe-b5fa828a4882",
      "metadata": {},
      "source": [
        "## our resources"
      ]
    },
    {
      "cell_type": "code",
      "execution_count": 175,
      "id": "02412a70-7c09-49e5-9e0b-dfb59414e18d",
      "metadata": {
        "jupyter": {
          "source_hidden": true
        }
      },
      "outputs": [
        {
          "data": {
            "text/markdown": [
              "we are going to explore documentation from <var>mdn</var> and <var>w3schools</var>\n",
              "because they are popular resources that populated the query <quote>all the html tags</quote>.\n",
              "\n",
              "    mdn,w3schools=filter(any, (\n",
              "https://developer.mozilla.org/en-US/docs/Web/HTML/Element\n",
              "\n",
              "https://www.w3schools.com/TAGS/default.asp\n",
              "\n",
              "    ).splitlines())"
            ],
            "text/plain": [
              "<IPython.core.display.Markdown object>"
            ]
          },
          "metadata": {},
          "output_type": "display_data"
        }
      ],
      "source": [
        "we are going to explore documentation from <var>mdn</var> and <var>w3schools</var>\n",
        "because they are popular resources that populated the query <quote>all the html tags</quote>.\n",
        "\n",
        "    mdn,w3schools=filter(any, (\n",
        "https://developer.mozilla.org/en-US/docs/Web/HTML/Element\n",
        "\n",
        "https://www.w3schools.com/TAGS/default.asp\n",
        "\n",
        "    ).splitlines())"
      ]
    },
    {
      "cell_type": "code",
      "execution_count": 176,
      "id": "f480400b-98c1-49c0-a532-eb5bdaeac895",
      "metadata": {
        "jupyter": {
          "source_hidden": true
        }
      },
      "outputs": [
        {
          "data": {
            "text/markdown": [
              "### choosing a resource\n",
              "\n",
              "we are going to refer to the <var>mdn</var> docs:\n",
              "* <var>mdn</var> has more description\n",
              "* the <var>mdn</var> docs have 20 more tags defined. \n",
              "after further inspection these may be mostly deprecated tags.\n",
              "* <var>mdn</var> breaks their tables into groups\n",
              "\n",
              "between the two resources there are 139 tags to explore.\n",
              "\n",
              "<div hidden>\n",
              "\n",
              "    A = pandas.concat(dfs := pandas.read_html(io.StringIO(requests.get(mdn).text))).set_index(\"Element\")\n",
              "    B = pandas.concat(pandas.read_html(io.StringIO(requests.get(w3schools).text))).set_index(\"Tag\")\n",
              "    AB = A[\"Description\"].to_frame(\"mdn\").join(\n",
              "        B[\"Description\"].rename(\"w3schools\"), how=\"outer\"\n",
              "    )\n",
              "    mdn_extras = AB[\"mdn\"].index.symmetric_difference(AB[\"w3schools\"].dropna().index).to_frame().index\n",
              "    \n",
              "</div>"
            ],
            "text/plain": [
              "<IPython.core.display.Markdown object>"
            ]
          },
          "metadata": {},
          "output_type": "display_data"
        }
      ],
      "source": [
        "### choosing a resource\n",
        "\n",
        "we are going to refer to the <var>mdn</var> docs:\n",
        "* <var>mdn</var> has more description\n",
        "* the <var>mdn</var> docs have {{len(mdn_extras)}} more tags defined. \n",
        "after further inspection these may be mostly deprecated tags.\n",
        "* <var>mdn</var> breaks their tables into groups\n",
        "\n",
        "between the two resources there are {{len(AB)}} tags to explore.\n",
        "\n",
        "<div hidden>\n",
        "\n",
        "    A = pandas.concat(dfs := pandas.read_html(io.StringIO(requests.get(mdn).text))).set_index(\"Element\")\n",
        "    B = pandas.concat(pandas.read_html(io.StringIO(requests.get(w3schools).text))).set_index(\"Tag\")\n",
        "    AB = A[\"Description\"].to_frame(\"mdn\").join(\n",
        "        B[\"Description\"].rename(\"w3schools\"), how=\"outer\"\n",
        "    )\n",
        "    mdn_extras = AB[\"mdn\"].index.symmetric_difference(AB[\"w3schools\"].dropna().index).to_frame().index\n",
        "    \n",
        "</div>"
      ]
    },
    {
      "cell_type": "code",
      "execution_count": 178,
      "id": "cd184824-f128-4f33-8ee3-65e1fcb66c12",
      "metadata": {
        "jupyter": {
          "source_hidden": true
        }
      },
      "outputs": [
        {
          "data": {
            "text/markdown": [
              "## the tags"
            ],
            "text/plain": [
              "<IPython.core.display.Markdown object>"
            ]
          },
          "metadata": {},
          "output_type": "display_data"
        }
      ],
      "source": [
        "## the tags"
      ]
    },
    {
      "cell_type": "code",
      "execution_count": 179,
      "id": "63533023-e864-403b-9e6c-c6bbb8465b7b",
      "metadata": {
        "jupyter": {
          "source_hidden": true
        }
      },
      "outputs": [
        {
          "data": {
            "text/markdown": [
              "### the `html` tag\n",
              "\n",
              "<cite>[Using the language attribute on the HTML element]</cite> requires the `lang` attribute to be defined.\n",
              "otherwise, most automated testing with fail.\n",
              "\n",
              "<div>\n",
              "<style scoped>\n",
              "    .dataframe tbody tr th:only-of-type {\n",
              "        vertical-align: middle;\n",
              "    }\n",
              "\n",
              "    .dataframe tbody tr th {\n",
              "        vertical-align: top;\n",
              "    }\n",
              "\n",
              "    .dataframe thead th {\n",
              "        text-align: right;\n",
              "    }\n",
              "</style>\n",
              "<table border=\"1\" class=\"dataframe\">\n",
              "  <thead>\n",
              "    <tr style=\"text-align: right;\">\n",
              "      <th></th>\n",
              "      <th>Element</th>\n",
              "      <th>Description</th>\n",
              "    </tr>\n",
              "  </thead>\n",
              "  <tbody>\n",
              "    <tr>\n",
              "      <th>0</th>\n",
              "      <td>&lt;html&gt;</td>\n",
              "      <td>The &lt;html&gt; HTML element represents the root (t...</td>\n",
              "    </tr>\n",
              "  </tbody>\n",
              "</table>\n",
              "</div>\n",
              "\n",
              "[Using the language attribute on the HTML element]: https://www.w3.org/WAI/WCAG22/Techniques/html/H57"
            ],
            "text/plain": [
              "<IPython.core.display.Markdown object>"
            ]
          },
          "metadata": {},
          "output_type": "display_data"
        }
      ],
      "source": [
        "### the `html` tag\n",
        "\n",
        "<cite>[Using the language attribute on the HTML element]</cite> requires the `lang` attribute to be defined.\n",
        "otherwise, most automated testing with fail.\n",
        "\n",
        "{{dfs[0]}}\n",
        "\n",
        "[Using the language attribute on the HTML element]: https://www.w3.org/WAI/WCAG22/Techniques/html/H57"
      ]
    },
    {
      "cell_type": "code",
      "execution_count": 180,
      "id": "bed14549-3d2a-47f8-9cc7-0682f4e33126",
      "metadata": {
        "jupyter": {
          "source_hidden": true
        }
      },
      "outputs": [
        {
          "data": {
            "text/markdown": [
              "### document tags\n",
              "\n",
              "there is nothing fun and new here. \n",
              "i do need to visit the recommendations for the `<meta>` for others reasons.\n",
              "\n",
              "for accessibility reasons we need to include `<title>` because it is the document title.\n",
              "\n",
              "<div>\n",
              "<style scoped>\n",
              "    .dataframe tbody tr th:only-of-type {\n",
              "        vertical-align: middle;\n",
              "    }\n",
              "\n",
              "    .dataframe tbody tr th {\n",
              "        vertical-align: top;\n",
              "    }\n",
              "\n",
              "    .dataframe thead th {\n",
              "        text-align: right;\n",
              "    }\n",
              "</style>\n",
              "<table border=\"1\" class=\"dataframe\">\n",
              "  <thead>\n",
              "    <tr style=\"text-align: right;\">\n",
              "      <th></th>\n",
              "      <th>Element</th>\n",
              "      <th>Description</th>\n",
              "    </tr>\n",
              "  </thead>\n",
              "  <tbody>\n",
              "    <tr>\n",
              "      <th>0</th>\n",
              "      <td>&lt;base&gt;</td>\n",
              "      <td>The &lt;base&gt; HTML element specifies the base URL...</td>\n",
              "    </tr>\n",
              "    <tr>\n",
              "      <th>1</th>\n",
              "      <td>&lt;head&gt;</td>\n",
              "      <td>The &lt;head&gt; HTML element contains machine-reada...</td>\n",
              "    </tr>\n",
              "    <tr>\n",
              "      <th>2</th>\n",
              "      <td>&lt;link&gt;</td>\n",
              "      <td>The &lt;link&gt; HTML element specifies relationship...</td>\n",
              "    </tr>\n",
              "    <tr>\n",
              "      <th>3</th>\n",
              "      <td>&lt;meta&gt;</td>\n",
              "      <td>The &lt;meta&gt; HTML element represents Metadata th...</td>\n",
              "    </tr>\n",
              "    <tr>\n",
              "      <th>4</th>\n",
              "      <td>&lt;style&gt;</td>\n",
              "      <td>The &lt;style&gt; HTML element contains style inform...</td>\n",
              "    </tr>\n",
              "    <tr>\n",
              "      <th>5</th>\n",
              "      <td>&lt;title&gt;</td>\n",
              "      <td>The &lt;title&gt; HTML element defines the document'...</td>\n",
              "    </tr>\n",
              "  </tbody>\n",
              "</table>\n",
              "</div>\n",
              "\n",
              "[title]: https://developer.mozilla.org/en-US/docs/Web/HTML/Element/title"
            ],
            "text/plain": [
              "<IPython.core.display.Markdown object>"
            ]
          },
          "metadata": {},
          "output_type": "display_data"
        }
      ],
      "source": [
        "### document tags\n",
        "\n",
        "there is nothing fun and new here. \n",
        "i do need to visit the recommendations for the `<meta>` for others reasons.\n",
        "\n",
        "for accessibility reasons we need to include `<title>` because it is the document title.\n",
        "\n",
        "{{dfs[1]}}\n",
        "\n",
        "[title]: https://developer.mozilla.org/en-US/docs/Web/HTML/Element/title"
      ]
    },
    {
      "cell_type": "code",
      "execution_count": 144,
      "id": "502495cc-580e-4b30-a598-3522f0b49ca9",
      "metadata": {
        "jupyter": {
          "source_hidden": true
        }
      },
      "outputs": [],
      "source": [
        "    \n",
        "    dfs[2]; # skip the body tag"
      ]
    },
    {
      "cell_type": "code",
      "execution_count": 181,
      "id": "803fbc88-64b6-4851-bf31-2aa28a49d046",
      "metadata": {
        "jupyter": {
          "source_hidden": true
        }
      },
      "outputs": [
        {
          "data": {
            "text/markdown": [
              "### content sections\n",
              "\n",
              "the `<header>` element might be practial to utilize within markdown.\n",
              "there are probably geo situations where address would be useful too.\n",
              "\n",
              "<div>\n",
              "<style scoped>\n",
              "    .dataframe tbody tr th:only-of-type {\n",
              "        vertical-align: middle;\n",
              "    }\n",
              "\n",
              "    .dataframe tbody tr th {\n",
              "        vertical-align: top;\n",
              "    }\n",
              "\n",
              "    .dataframe thead th {\n",
              "        text-align: right;\n",
              "    }\n",
              "</style>\n",
              "<table border=\"1\" class=\"dataframe\">\n",
              "  <thead>\n",
              "    <tr style=\"text-align: right;\">\n",
              "      <th></th>\n",
              "      <th>Element</th>\n",
              "      <th>Description</th>\n",
              "    </tr>\n",
              "  </thead>\n",
              "  <tbody>\n",
              "    <tr>\n",
              "      <th>0</th>\n",
              "      <td>&lt;address&gt;</td>\n",
              "      <td>The &lt;address&gt; HTML element indicates that the ...</td>\n",
              "    </tr>\n",
              "    <tr>\n",
              "      <th>1</th>\n",
              "      <td>&lt;article&gt;</td>\n",
              "      <td>The &lt;article&gt; HTML element represents a self-c...</td>\n",
              "    </tr>\n",
              "    <tr>\n",
              "      <th>2</th>\n",
              "      <td>&lt;aside&gt;</td>\n",
              "      <td>The &lt;aside&gt; HTML element represents a portion ...</td>\n",
              "    </tr>\n",
              "    <tr>\n",
              "      <th>3</th>\n",
              "      <td>&lt;footer&gt;</td>\n",
              "      <td>The &lt;footer&gt; HTML element represents a footer ...</td>\n",
              "    </tr>\n",
              "    <tr>\n",
              "      <th>4</th>\n",
              "      <td>&lt;header&gt;</td>\n",
              "      <td>The &lt;header&gt; HTML element represents introduct...</td>\n",
              "    </tr>\n",
              "    <tr>\n",
              "      <th>5</th>\n",
              "      <td>&lt;h1&gt;, &lt;h2&gt;, &lt;h3&gt;, &lt;h4&gt;, &lt;h5&gt;, &lt;h6&gt;</td>\n",
              "      <td>The &lt;h1&gt; to &lt;h6&gt; HTML elements represent six l...</td>\n",
              "    </tr>\n",
              "    <tr>\n",
              "      <th>6</th>\n",
              "      <td>&lt;main&gt;</td>\n",
              "      <td>The &lt;main&gt; HTML element represents the dominan...</td>\n",
              "    </tr>\n",
              "    <tr>\n",
              "      <th>7</th>\n",
              "      <td>&lt;nav&gt;</td>\n",
              "      <td>The &lt;nav&gt; HTML element represents a section of...</td>\n",
              "    </tr>\n",
              "    <tr>\n",
              "      <th>8</th>\n",
              "      <td>&lt;section&gt;</td>\n",
              "      <td>The &lt;section&gt; HTML element represents a generi...</td>\n",
              "    </tr>\n",
              "  </tbody>\n",
              "</table>\n",
              "</div>"
            ],
            "text/plain": [
              "<IPython.core.display.Markdown object>"
            ]
          },
          "metadata": {},
          "output_type": "display_data"
        }
      ],
      "source": [
        "### content sections\n",
        "\n",
        "the `<header>` element might be practial to utilize within markdown.\n",
        "there are probably geo situations where address would be useful too.\n",
        "\n",
        "{{dfs[3]}}"
      ]
    },
    {
      "cell_type": "code",
      "execution_count": 182,
      "id": "f776f925-3060-4e88-96de-15ff86eddf9e",
      "metadata": {
        "jupyter": {
          "source_hidden": true
        }
      },
      "outputs": [
        {
          "data": {
            "text/html": [
              "<div>\n",
              "<style scoped>\n",
              "    .dataframe tbody tr th:only-of-type {\n",
              "        vertical-align: middle;\n",
              "    }\n",
              "\n",
              "    .dataframe tbody tr th {\n",
              "        vertical-align: top;\n",
              "    }\n",
              "\n",
              "    .dataframe thead th {\n",
              "        text-align: right;\n",
              "    }\n",
              "</style>\n",
              "<table border=\"1\" class=\"dataframe\">\n",
              "  <thead>\n",
              "    <tr style=\"text-align: right;\">\n",
              "      <th></th>\n",
              "      <th>Element</th>\n",
              "      <th>Description</th>\n",
              "    </tr>\n",
              "  </thead>\n",
              "  <tbody>\n",
              "    <tr>\n",
              "      <th>0</th>\n",
              "      <td>&lt;blockquote&gt;</td>\n",
              "      <td>The &lt;blockquote&gt; HTML element indicates that t...</td>\n",
              "    </tr>\n",
              "    <tr>\n",
              "      <th>1</th>\n",
              "      <td>&lt;dd&gt;</td>\n",
              "      <td>The &lt;dd&gt; HTML element provides the description...</td>\n",
              "    </tr>\n",
              "    <tr>\n",
              "      <th>2</th>\n",
              "      <td>&lt;div&gt;</td>\n",
              "      <td>The &lt;div&gt; HTML element is the generic containe...</td>\n",
              "    </tr>\n",
              "    <tr>\n",
              "      <th>3</th>\n",
              "      <td>&lt;dl&gt;</td>\n",
              "      <td>The &lt;dl&gt; HTML element represents a description...</td>\n",
              "    </tr>\n",
              "    <tr>\n",
              "      <th>4</th>\n",
              "      <td>&lt;dt&gt;</td>\n",
              "      <td>The &lt;dt&gt; HTML element specifies a term in a de...</td>\n",
              "    </tr>\n",
              "    <tr>\n",
              "      <th>5</th>\n",
              "      <td>&lt;figcaption&gt;</td>\n",
              "      <td>The &lt;figcaption&gt; HTML element represents a cap...</td>\n",
              "    </tr>\n",
              "    <tr>\n",
              "      <th>6</th>\n",
              "      <td>&lt;figure&gt;</td>\n",
              "      <td>The &lt;figure&gt; HTML element represents self-cont...</td>\n",
              "    </tr>\n",
              "    <tr>\n",
              "      <th>7</th>\n",
              "      <td>&lt;hr&gt;</td>\n",
              "      <td>The &lt;hr&gt; HTML element represents a thematic br...</td>\n",
              "    </tr>\n",
              "    <tr>\n",
              "      <th>8</th>\n",
              "      <td>&lt;li&gt;</td>\n",
              "      <td>The &lt;li&gt; HTML element is used to represent an ...</td>\n",
              "    </tr>\n",
              "    <tr>\n",
              "      <th>9</th>\n",
              "      <td>&lt;menu&gt;</td>\n",
              "      <td>The &lt;menu&gt; HTML element is described in the HT...</td>\n",
              "    </tr>\n",
              "    <tr>\n",
              "      <th>10</th>\n",
              "      <td>&lt;ol&gt;</td>\n",
              "      <td>The &lt;ol&gt; HTML element represents an ordered li...</td>\n",
              "    </tr>\n",
              "    <tr>\n",
              "      <th>11</th>\n",
              "      <td>&lt;p&gt;</td>\n",
              "      <td>The &lt;p&gt; HTML element represents a paragraph. P...</td>\n",
              "    </tr>\n",
              "    <tr>\n",
              "      <th>12</th>\n",
              "      <td>&lt;pre&gt;</td>\n",
              "      <td>The &lt;pre&gt; HTML element represents preformatted...</td>\n",
              "    </tr>\n",
              "    <tr>\n",
              "      <th>13</th>\n",
              "      <td>&lt;ul&gt;</td>\n",
              "      <td>The &lt;ul&gt; HTML element represents an unordered ...</td>\n",
              "    </tr>\n",
              "  </tbody>\n",
              "</table>\n",
              "</div>"
            ],
            "text/plain": [
              "         Element                                        Description\n",
              "0   <blockquote>  The <blockquote> HTML element indicates that t...\n",
              "1           <dd>  The <dd> HTML element provides the description...\n",
              "2          <div>  The <div> HTML element is the generic containe...\n",
              "3           <dl>  The <dl> HTML element represents a description...\n",
              "4           <dt>  The <dt> HTML element specifies a term in a de...\n",
              "5   <figcaption>  The <figcaption> HTML element represents a cap...\n",
              "6       <figure>  The <figure> HTML element represents self-cont...\n",
              "7           <hr>  The <hr> HTML element represents a thematic br...\n",
              "8           <li>  The <li> HTML element is used to represent an ...\n",
              "9         <menu>  The <menu> HTML element is described in the HT...\n",
              "10          <ol>  The <ol> HTML element represents an ordered li...\n",
              "11           <p>  The <p> HTML element represents a paragraph. P...\n",
              "12         <pre>  The <pre> HTML element represents preformatted...\n",
              "13          <ul>  The <ul> HTML element represents an unordered ..."
            ]
          },
          "execution_count": 182,
          "metadata": {},
          "output_type": "execute_result"
        },
        {
          "data": {
            "text/markdown": [
              "### text content\n",
              "    \n",
              "    dfs[4]"
            ],
            "text/plain": [
              "<IPython.core.display.Markdown object>"
            ]
          },
          "metadata": {},
          "output_type": "display_data"
        }
      ],
      "source": [
        "### text content\n",
        "    \n",
        "    dfs[4]"
      ]
    },
    {
      "cell_type": "code",
      "execution_count": 183,
      "id": "9275d1e3-2a72-457f-8497-2f5256c4c9eb",
      "metadata": {
        "jupyter": {
          "source_hidden": true
        }
      },
      "outputs": [
        {
          "data": {
            "text/markdown": [
              "### inline text content\n",
              "\n",
              "* a variable could be an: `a, abbr, dfn, mark, ruby, var`\n",
              "* there are different references to coded objects like: `var, code, samp` \n",
              "    * these differentiations can help an author give more semantic meaning\n",
              "    \n",
              "    dfs[5]"
            ],
            "text/plain": [
              "<IPython.core.display.Markdown object>"
            ]
          },
          "metadata": {},
          "output_type": "display_data"
        }
      ],
      "source": [
        "### inline text content\n",
        "\n",
        "* a variable could be an: `a, abbr, dfn, mark, ruby, var`\n",
        "* there are different references to coded objects like: `var, code, samp` \n",
        "    * these differentiations can help an author give more semantic meaning\n",
        "    \n",
        "    dfs[5]"
      ]
    },
    {
      "cell_type": "code",
      "execution_count": 184,
      "id": "f36aad3d-a6ad-4fc1-a501-d51562542789",
      "metadata": {
        "jupyter": {
          "source_hidden": true
        }
      },
      "outputs": [
        {
          "data": {
            "text/markdown": [
              "in a literate programming, it seems possible that we layer inline tags together\n",
              "\n",
              "<mark><a href=\"#\"><dfn><var>my variable</var></dfn></a></mark> is an example with layers."
            ],
            "text/plain": [
              "<IPython.core.display.Markdown object>"
            ]
          },
          "metadata": {},
          "output_type": "display_data"
        }
      ],
      "source": [
        "in a literate programming, it seems possible that we layer inline tags together\n",
        "\n",
        "<mark><a href=\"#\"><dfn><var>my variable</var></dfn></a></mark> is an example with layers.\n"
      ]
    },
    {
      "cell_type": "code",
      "execution_count": 186,
      "id": "850e7b63-645c-4a99-8a52-e42b4e53ab72",
      "metadata": {
        "jupyter": {
          "source_hidden": true
        }
      },
      "outputs": [
        {
          "data": {
            "text/html": [
              "<div>\n",
              "<style scoped>\n",
              "    .dataframe tbody tr th:only-of-type {\n",
              "        vertical-align: middle;\n",
              "    }\n",
              "\n",
              "    .dataframe tbody tr th {\n",
              "        vertical-align: top;\n",
              "    }\n",
              "\n",
              "    .dataframe thead th {\n",
              "        text-align: right;\n",
              "    }\n",
              "</style>\n",
              "<table border=\"1\" class=\"dataframe\">\n",
              "  <thead>\n",
              "    <tr style=\"text-align: right;\">\n",
              "      <th></th>\n",
              "      <th>Element</th>\n",
              "      <th>Description</th>\n",
              "    </tr>\n",
              "  </thead>\n",
              "  <tbody>\n",
              "    <tr>\n",
              "      <th>0</th>\n",
              "      <td>&lt;area&gt;</td>\n",
              "      <td>The &lt;area&gt; HTML element defines an area inside...</td>\n",
              "    </tr>\n",
              "    <tr>\n",
              "      <th>1</th>\n",
              "      <td>&lt;audio&gt;</td>\n",
              "      <td>The &lt;audio&gt; HTML element is used to embed soun...</td>\n",
              "    </tr>\n",
              "    <tr>\n",
              "      <th>2</th>\n",
              "      <td>&lt;img&gt;</td>\n",
              "      <td>The &lt;img&gt; HTML element embeds an image into th...</td>\n",
              "    </tr>\n",
              "    <tr>\n",
              "      <th>3</th>\n",
              "      <td>&lt;map&gt;</td>\n",
              "      <td>The &lt;map&gt; HTML element is used with area eleme...</td>\n",
              "    </tr>\n",
              "    <tr>\n",
              "      <th>4</th>\n",
              "      <td>&lt;track&gt;</td>\n",
              "      <td>The &lt;track&gt; HTML element is used as a child of...</td>\n",
              "    </tr>\n",
              "    <tr>\n",
              "      <th>5</th>\n",
              "      <td>&lt;video&gt;</td>\n",
              "      <td>The &lt;video&gt; HTML element embeds a media player...</td>\n",
              "    </tr>\n",
              "  </tbody>\n",
              "</table>\n",
              "</div>"
            ],
            "text/plain": [
              "   Element                                        Description\n",
              "0   <area>  The <area> HTML element defines an area inside...\n",
              "1  <audio>  The <audio> HTML element is used to embed soun...\n",
              "2    <img>  The <img> HTML element embeds an image into th...\n",
              "3    <map>  The <map> HTML element is used with area eleme...\n",
              "4  <track>  The <track> HTML element is used as a child of...\n",
              "5  <video>  The <video> HTML element embeds a media player..."
            ]
          },
          "metadata": {},
          "output_type": "display_data"
        },
        {
          "data": {
            "text/html": [
              "<div>\n",
              "<style scoped>\n",
              "    .dataframe tbody tr th:only-of-type {\n",
              "        vertical-align: middle;\n",
              "    }\n",
              "\n",
              "    .dataframe tbody tr th {\n",
              "        vertical-align: top;\n",
              "    }\n",
              "\n",
              "    .dataframe thead th {\n",
              "        text-align: right;\n",
              "    }\n",
              "</style>\n",
              "<table border=\"1\" class=\"dataframe\">\n",
              "  <thead>\n",
              "    <tr style=\"text-align: right;\">\n",
              "      <th></th>\n",
              "      <th>Element</th>\n",
              "      <th>Description</th>\n",
              "    </tr>\n",
              "  </thead>\n",
              "  <tbody>\n",
              "    <tr>\n",
              "      <th>0</th>\n",
              "      <td>&lt;embed&gt;</td>\n",
              "      <td>The &lt;embed&gt; HTML element embeds external conte...</td>\n",
              "    </tr>\n",
              "    <tr>\n",
              "      <th>1</th>\n",
              "      <td>&lt;iframe&gt;</td>\n",
              "      <td>The &lt;iframe&gt; HTML element represents a nested ...</td>\n",
              "    </tr>\n",
              "    <tr>\n",
              "      <th>2</th>\n",
              "      <td>&lt;object&gt;</td>\n",
              "      <td>The &lt;object&gt; HTML element represents an extern...</td>\n",
              "    </tr>\n",
              "    <tr>\n",
              "      <th>3</th>\n",
              "      <td>&lt;picture&gt;</td>\n",
              "      <td>The &lt;picture&gt; HTML element contains zero or mo...</td>\n",
              "    </tr>\n",
              "    <tr>\n",
              "      <th>4</th>\n",
              "      <td>&lt;portal&gt;</td>\n",
              "      <td>The &lt;portal&gt; HTML element enables the embeddin...</td>\n",
              "    </tr>\n",
              "    <tr>\n",
              "      <th>5</th>\n",
              "      <td>&lt;source&gt;</td>\n",
              "      <td>The &lt;source&gt; HTML element specifies multiple m...</td>\n",
              "    </tr>\n",
              "  </tbody>\n",
              "</table>\n",
              "</div>"
            ],
            "text/plain": [
              "     Element                                        Description\n",
              "0    <embed>  The <embed> HTML element embeds external conte...\n",
              "1   <iframe>  The <iframe> HTML element represents a nested ...\n",
              "2   <object>  The <object> HTML element represents an extern...\n",
              "3  <picture>  The <picture> HTML element contains zero or mo...\n",
              "4   <portal>  The <portal> HTML element enables the embeddin...\n",
              "5   <source>  The <source> HTML element specifies multiple m..."
            ]
          },
          "metadata": {},
          "output_type": "display_data"
        },
        {
          "data": {
            "text/html": [
              "<div>\n",
              "<style scoped>\n",
              "    .dataframe tbody tr th:only-of-type {\n",
              "        vertical-align: middle;\n",
              "    }\n",
              "\n",
              "    .dataframe tbody tr th {\n",
              "        vertical-align: top;\n",
              "    }\n",
              "\n",
              "    .dataframe thead th {\n",
              "        text-align: right;\n",
              "    }\n",
              "</style>\n",
              "<table border=\"1\" class=\"dataframe\">\n",
              "  <thead>\n",
              "    <tr style=\"text-align: right;\">\n",
              "      <th></th>\n",
              "      <th>Element</th>\n",
              "      <th>Description</th>\n",
              "    </tr>\n",
              "  </thead>\n",
              "  <tbody>\n",
              "    <tr>\n",
              "      <th>0</th>\n",
              "      <td>&lt;svg&gt;</td>\n",
              "      <td>The svg element is a container that defines a ...</td>\n",
              "    </tr>\n",
              "    <tr>\n",
              "      <th>1</th>\n",
              "      <td>&lt;math&gt;</td>\n",
              "      <td>The top-level element in MathML is &lt;math&gt;. Eve...</td>\n",
              "    </tr>\n",
              "  </tbody>\n",
              "</table>\n",
              "</div>"
            ],
            "text/plain": [
              "  Element                                        Description\n",
              "0   <svg>  The svg element is a container that defines a ...\n",
              "1  <math>  The top-level element in MathML is <math>. Eve..."
            ]
          },
          "metadata": {},
          "output_type": "display_data"
        },
        {
          "data": {
            "text/markdown": [
              "### multimedia/embeds\n",
              "\n",
              "don't forget your alt text.\n",
              "\n",
              "    return dfs[6], dfs[7], dfs[8]"
            ],
            "text/plain": [
              "<IPython.core.display.Markdown object>"
            ]
          },
          "metadata": {},
          "output_type": "display_data"
        }
      ],
      "source": [
        "### multimedia/embeds\n",
        "\n",
        "don't forget your alt text.\n",
        "\n",
        "    return dfs[6], dfs[7], dfs[8]"
      ]
    }
  ],
  "metadata": {
    "kernelspec": {
      "display_name": "pidgy",
      "language": "markdown",
      "name": "pidgy"
    },
    "language_info": {
      "codemirror_mode": {
        "name": "ipython",
        "version": 3
      },
      "file_extension": ".py",
      "mimetype": "text/x-python",
      "name": "python",
      "nbconvert_exporter": "python",
      "pygments_lexer": "ipython3",
      "version": "3.9.13"
    }
  },
  "nbformat": 4,
  "nbformat_minor": 5
}