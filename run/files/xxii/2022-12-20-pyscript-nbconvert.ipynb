{
  "cells": [
    {
      "cell_type": "markdown",
      "id": "28bfde93-685f-40f2-a109-6bda114e870f",
      "metadata": {},
      "source": [
        "# rendering a notebook with `pyscript`"
      ]
    },
    {
      "cell_type": "markdown",
      "id": "52e0bc44-0a06-467e-9545-ee3ed868e8ae",
      "metadata": {},
      "source": [
        "let's convert a notebook to a <var>pyscript</var> document.\n",
        "\n",
        "we'll using `nbconvert and jinja2` to transform a notebook into a standalone interactive document."
      ]
    },
    {
      "cell_type": "markdown",
      "id": "46d75f3b-f2e4-4162-b074-bb99c6737e62",
      "metadata": {},
      "source": [
        "## `jinja2` template overrides for `nbconvert`"
      ]
    },
    {
      "cell_type": "markdown",
      "id": "b2b903ae-e3f5-4d6e-9f3c-b9b4b3444854",
      "metadata": {},
      "source": [
        "our <var>pyscript</var> extends the base jupyterlab styling."
      ]
    },
    {
      "cell_type": "code",
      "execution_count": 1,
      "id": "4094a6b8-1c6f-4503-b828-69eb3af6920b",
      "metadata": {},
      "outputs": [],
      "source": [
        "    %pip install jinja2 depfinder nbconvert\n",
        "    template = \"\"\"\n",
        "    {%- extends 'lab/index.html.j2' -%}\"\"\""
      ]
    },
    {
      "cell_type": "markdown",
      "id": "b242f3a7-ff29-4712-a0ab-69e676ea9467",
      "metadata": {},
      "source": [
        "[include <var>pyscript</var> css and javascript assets][getting-started] in the `<head>`\n",
        "\n",
        "[getting-started]: https://docs.pyscript.net/latest/tutorials/getting-started.html#your-first-pyscript-html-file"
      ]
    },
    {
      "cell_type": "code",
      "execution_count": 2,
      "id": "98a87901-bd57-46eb-ad49-674392c5b538",
      "metadata": {},
      "outputs": [],
      "source": [
        "    template += \"\"\"\n",
        "    {%- block header -%}\n",
        "    {{super()}}\n",
        "    <link rel=\"stylesheet\" href=\"https://pyscript.net/latest/pyscript.css\" />\n",
        "    <script defer src=\"https://pyscript.net/latest/pyscript.js\"></script>\n",
        "    {%- endblock header -%}\"\"\""
      ]
    },
    {
      "cell_type": "markdown",
      "id": "40d3e25a-63e8-454e-a893-0db0fd905b90",
      "metadata": {},
      "source": [
        "[<var>requirejs</var> and <var>pyscript</var> do not play well together][require-issue], and the block below prevents <var>requirejs</var> from loading.\n",
        "\n",
        "[require-issue]: https://github.com/pyscript/pyscript/issues/317"
      ]
    },
    {
      "cell_type": "code",
      "execution_count": 3,
      "id": "3d6c0f71-0392-4164-a64c-f4b333209c0a",
      "metadata": {},
      "outputs": [],
      "source": [
        "    template += \"\"\"\n",
        "    {%- block html_head_js -%}\n",
        "    {%- endblock html_head_js -%}\"\"\""
      ]
    },
    {
      "cell_type": "markdown",
      "id": "04ac067a-d66b-4c0c-b7c3-6b3eb4de2451",
      "metadata": {},
      "source": [
        "from a notebook's source we can infer the packages it needs to run.\n",
        "the packages are placed in the `<py-config>` tag. \n",
        "\n",
        "> continue reading to see how the `get_imports_from_cells` filter is defined."
      ]
    },
    {
      "cell_type": "code",
      "execution_count": 4,
      "id": "95417c7f-8090-400d-817d-989e37e071b4",
      "metadata": {},
      "outputs": [],
      "source": [
        "    template += \"\"\"\n",
        "    {% block body_header %}   \n",
        "    {{super()}}\n",
        "    <py-config>\n",
        "    packages = {{nb | get_imports_from_cells}}\n",
        "    </py-config>\n",
        "    {% endblock body_header %}\"\"\""
      ]
    },
    {
      "cell_type": "markdown",
      "id": "ee24e41c-4019-406b-acd3-ea91c827d74f",
      "metadata": {},
      "source": [
        "we'll replace standard pygments cell inputs with a `<py-repl>` with autogenerate disabled."
      ]
    },
    {
      "cell_type": "code",
      "execution_count": 5,
      "id": "bee30d3e-b393-46e8-b8f3-af5f0a68dcbf",
      "metadata": {},
      "outputs": [],
      "source": [
        "    template += \"\"\"\n",
        "    {% block input %}\n",
        "    <py-repl output=\"out-{{cell.id}}\">\n",
        "    {{cell.source | escape | dedent}}\n",
        "    </py-repl>\n",
        "    {% endblock input %}\"\"\""
      ]
    },
    {
      "cell_type": "markdown",
      "id": "3ab8c74a-db7e-4e63-886b-a7c25e6f3c08",
      "metadata": {},
      "source": [
        "we use any existing outputs as the dead pixels.\n",
        "the outputs are replaced the first pyscript executes in a nearby cell."
      ]
    },
    {
      "cell_type": "code",
      "execution_count": 6,
      "id": "125b722b-0732-4a4b-8c6b-802d69e20d98",
      "metadata": {},
      "outputs": [],
      "source": [
        "    template += \"\"\"\n",
        "    {% block output %}\n",
        "    <div id=\"out-{{cell.id}}\">{{super()}}</div>\n",
        "    {% endblock output %}\n",
        "    \n",
        "    {% block codecell %}\n",
        "    {{super()}}\n",
        "    {% if not cell.outputs %}\n",
        "    <div id=\"out-{{cell.id}}\"></div>\n",
        "    {% endif %}\n",
        "    {% endblock codecell %}\n",
        "    \"\"\""
      ]
    },
    {
      "cell_type": "markdown",
      "id": "d2475088-3664-49eb-83ce-e64f510e5d66",
      "metadata": {},
      "source": [
        "our `template` is defined for`<py-script>` documents. next we introduce `template` into the `nbconvert` machinery."
      ]
    },
    {
      "cell_type": "markdown",
      "id": "87324e01-589e-4224-9a90-72a7133c704c",
      "metadata": {},
      "source": [
        "## `nbconvert` exporting machinery\n",
        "\n",
        "`nbconvert` is the primary machinery used to transform notebook documents into other file formats. it is a wrapper around the shape of the notebook and a `jinja2` environment."
      ]
    },
    {
      "cell_type": "code",
      "execution_count": 7,
      "id": "e9b325a3-a7f7-4232-9e5a-5d8f9c31c459",
      "metadata": {},
      "outputs": [],
      "source": [
        "    import depfinder; from pathlib import Path; from functools import partial\n",
        "    from nbconvert.exporters import HTMLExporter, TemplateExporter"
      ]
    },
    {
      "cell_type": "markdown",
      "id": "445882d2-e6a3-4795-994b-79190da5fd93",
      "metadata": {},
      "source": [
        "### inferring dependencies\n",
        "\n",
        "the `py-config` defines the environment. we use `depfinder` to do that."
      ]
    },
    {
      "cell_type": "code",
      "execution_count": 8,
      "id": "8e3f7d09-3563-4166-a5d5-f251f40c3106",
      "metadata": {},
      "outputs": [],
      "source": [
        "    def get_imports_from_cells(nb):\n",
        "        imports = set()\n",
        "        for cell in nb.cells:\n",
        "            imports.update(get_imports_from_cell(cell))\n",
        "        if imports.intersection({\"requests\", \"httpx\", \"urllib\"}): # add more later\n",
        "            imports.add(\"pyodide-http\")\n",
        "        return list(imports)\n",
        "        \n",
        "    def get_imports_from_cell(cell):\n",
        "        import depfinder\n",
        "        __import__(\"requests_cache\").install_cache()        \n",
        "        if cell[\"cell_type\"] == \"code\":\n",
        "            try:\n",
        "                yield from depfinder.inspection.get_imported_libs(textwrap.dedent(\"\".join(cell[\"source\"]))).required_modules\n",
        "            except BaseException as e:\n",
        "                pass"
      ]
    },
    {
      "cell_type": "markdown",
      "id": "75191278-3242-4a36-974f-d5924a304667",
      "metadata": {},
      "source": [
        "### the `nbconvert` exporter"
      ]
    },
    {
      "cell_type": "markdown",
      "id": "65480a37-fb69-41c1-9e99-e39b84e8e60b",
      "metadata": {},
      "source": [
        "`get_exporter` generates a new notebook file converter.\n",
        "\n",
        "* adds filters used in `template`\n",
        "* puts a template on the `jinja2.DictLoader` with our custom template"
      ]
    },
    {
      "cell_type": "code",
      "execution_count": 9,
      "id": "53f80b8a-6a76-45e8-8ee3-42347876f37e",
      "metadata": {},
      "outputs": [],
      "source": [
        "    def get_exporter(template=template):\n",
        "        import textwrap, html, jinja2\n",
        "        exporter = HTMLExporter(\n",
        "            template_file=\"pyscript.j2\", filters=dict(\n",
        "                dedent=textwrap.dedent, get_imports_from_cells=get_imports_from_cells, escape=html.escape\n",
        "            )\n",
        "        )\n",
        "        for loader in exporter.environment.loader.loaders:\n",
        "            if isinstance(loader, jinja2.DictLoader):\n",
        "                loader.mapping[\"pyscript.j2\"] = template\n",
        "        return exporter"
      ]
    },
    {
      "cell_type": "markdown",
      "id": "a4194a9e-f75b-4a39-8e13-c20574470713",
      "metadata": {},
      "source": [
        "## `pyscript` transformation functions"
      ]
    },
    {
      "cell_type": "markdown",
      "id": "18fdfa05-f4c5-403f-b7b2-1a7e6e687df8",
      "metadata": {},
      "source": [
        "`get_pyscript` turns a file into a string of <var>py-script</var> html."
      ]
    },
    {
      "cell_type": "code",
      "execution_count": 10,
      "id": "cf43510d-29a6-4cbf-94d0-36b85a031648",
      "metadata": {},
      "outputs": [],
      "source": [
        "    def get_pyscript(file): return get_exporter(template).from_filename(file)[0]"
      ]
    },
    {
      "cell_type": "markdown",
      "id": "d982feec-56eb-41f7-8dec-c275f412ae45",
      "metadata": {},
      "source": [
        "`pyscript` transforms a file and writes the <var>py-script</var> document to disk."
      ]
    },
    {
      "cell_type": "code",
      "execution_count": 11,
      "id": "cff58b2f-b268-4df2-8c6b-a8b9438308d5",
      "metadata": {},
      "outputs": [],
      "source": [
        "    def pyscript(file: Path, target: Path = None, write: bool=True):\n",
        "        \"\"\"generate a pyscript version of a notebook\"\"\"\n",
        "        body = get_pyscript(file)\n",
        "        if write:\n",
        "            if not target:\n",
        "                target = file.with_suffix(F\"{file.suffix}.html\")\n",
        "            target.write_text(body)\n",
        "            print(F\"created {target}\")               "
      ]
    },
    {
      "cell_type": "code",
      "execution_count": 12,
      "id": "082dad53-7879-41aa-a516-b2721343d4be",
      "metadata": {},
      "outputs": [
        {
          "name": "stdout",
          "output_type": "stream",
          "text": [
            "created 2022-12-19-integrating-typer.ipynb.html\n"
          ]
        },
        {
          "data": {
            "text/html": [
              "\n",
              "        <iframe\n",
              "            width=\"100%\"\n",
              "            height=\"600\"\n",
              "            src=\"2022-12-19-integrating-typer.ipynb.html\"\n",
              "            frameborder=\"0\"\n",
              "            allowfullscreen\n",
              "            \n",
              "        ></iframe>\n",
              "        "
            ],
            "text/plain": [
              "<IPython.lib.display.IFrame at 0x7fcf80f06d60>"
            ]
          },
          "metadata": {},
          "output_type": "display_data"
        }
      ],
      "source": [
        "    if __name__ == \"__main__\" and \"__file__\" not in locals():\n",
        "        !python -m tonyfast pyscript 2022-12-19-integrating-typer.ipynb\n",
        "\n",
        "        from IPython.display import display, IFrame\n",
        "        display(IFrame(*\"2022-12-19-integrating-typer.ipynb.html 100% 600\".split()))"
      ]
    },
    {
      "cell_type": "code",
      "execution_count": null,
      "id": "f119671d-c5b8-4621-8ff8-e94319daaf1a",
      "metadata": {},
      "outputs": [],
      "source": []
    }
  ],
  "metadata": {
    "kernelspec": {
      "display_name": "Python [conda env:root] *",
      "language": "python",
      "name": "conda-root-py"
    },
    "language_info": {
      "codemirror_mode": {
        "name": "ipython",
        "version": 3
      },
      "file_extension": ".py",
      "mimetype": "text/x-python",
      "name": "python",
      "nbconvert_exporter": "python",
      "pygments_lexer": "ipython3",
      "version": "3.9.13"
    }
  },
  "nbformat": 4,
  "nbformat_minor": 5
}