{
  "cells": [
    {
      "cell_type": "markdown",
      "id": "a0bf468d-0b50-453c-a948-06354d5f61c0",
      "metadata": {},
      "source": [
        "# configuration files\n",
        "\n",
        "i'm going to include my configuration files in this package. it seems like a great place to keep them for consistency.\n",
        "we can import them."
      ]
    },
    {
      "cell_type": "code",
      "execution_count": null,
      "id": "42909969-036e-4531-8fe7-17796267755e",
      "metadata": {},
      "outputs": [],
      "source": [
        "    %pip install jupyter_core IPython tonyfast\n",
        "    from tonyfast import ipython_config, jupyter_lab_config"
      ]
    },
    {
      "cell_type": "markdown",
      "id": "c3f69ba5-0365-4955-a133-97a007f2df24",
      "metadata": {},
      "source": [
        "the configurations on the `c` symbol staying consistent with traitlets configurations."
      ]
    },
    {
      "cell_type": "code",
      "execution_count": null,
      "id": "b401621b-cf0c-4b80-871c-88076815e59e",
      "metadata": {},
      "outputs": [],
      "source": [
        "    ipython_config.c"
      ]
    },
    {
      "cell_type": "markdown",
      "id": "7dec043d-1b20-4cb4-90df-21f115dbbad8",
      "metadata": {},
      "source": [
        "then we can apply the configuration files to the property directories.\n",
        "`IPython` and `jupyter_core` ship their path locations"
      ]
    },
    {
      "cell_type": "code",
      "execution_count": null,
      "id": "2fbea404-ce9e-4659-93ee-8f7fb0f2072e",
      "metadata": {},
      "outputs": [],
      "source": [
        "    import IPython.paths, jupyter_core.paths\n",
        "    from pathlib import Path"
      ]
    },
    {
      "cell_type": "code",
      "execution_count": null,
      "id": "8a8ec600-7404-4781-86cc-43897ef04038",
      "metadata": {},
      "outputs": [],
      "source": [
        "    JUPYTER = Path(jupyter_core.paths.jupyter_config_dir())\n",
        "    IPYTHON = Path(IPython.paths.get_ipython_dir())"
      ]
    },
    {
      "cell_type": "markdown",
      "id": "e4a44d32-a88d-4793-be76-cef7694edf7b",
      "metadata": {},
      "source": [
        "set the configuration files for `IPython` and `jupyter`"
      ]
    },
    {
      "cell_type": "code",
      "execution_count": null,
      "id": "1d0829bd-0dca-4dc4-8e75-e7d7c695ab8a",
      "metadata": {},
      "outputs": [],
      "source": [
        "    def set_configs(use_platform_dir: bool=True):\n",
        "        import shutil\n",
        "        if use_platform_dir:\n",
        "            shutil.copy(jupyter_lab_config.__file__, JUPYTER / Path(jupyter_lab_config.__file__).name)        \n",
        "            shutil.copy(ipython_config.__file__, IPYTHON / Path(ipython_config.__file__).name)\n",
        "        else:\n",
        "            shutil.copy(jupyter_lab_config.__file__, Path(jupyter_lab_config.__file__).name)        \n",
        "            shutil.copy(ipython_config.__file__, Path(ipython_config.__file__).name)"
      ]
    },
    {
      "cell_type": "code",
      "execution_count": null,
      "id": "5ebc31f8-9c19-449a-8069-e18f008d822f",
      "metadata": {},
      "outputs": [],
      "source": [
        "    if __name__ == \"__main__\":\n",
        "        if \"__file__\" in locals():\n",
        "            __import__(\"typer\").run(set_configs)\n",
        "        else:\n",
        "            !importnb 2022-12-31-jupyter-config-files.ipynb --help"
      ]
    }
  ],
  "metadata": {
    "kernelspec": {
      "display_name": "Python [conda env:root] *",
      "language": "python",
      "name": "conda-root-py"
    },
    "language_info": {
      "codemirror_mode": {
        "name": "ipython",
        "version": 3
      },
      "file_extension": ".py",
      "mimetype": "text/x-python",
      "name": "python",
      "nbconvert_exporter": "python",
      "pygments_lexer": "ipython3",
      "version": "3.9.13"
    }
  },
  "nbformat": 4,
  "nbformat_minor": 5
}