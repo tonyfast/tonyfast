{
  "cells": [
    {
      "cell_type": "markdown",
      "id": "4d65569e-21d0-4089-a924-c6a5d27f7848",
      "metadata": {},
      "source": [
        "# asynchronous imports in python"
      ]
    },
    {
      "cell_type": "markdown",
      "id": "f6d33e1e-9b64-49c3-abbe-bd336e7c1eb8",
      "metadata": {},
      "source": [
        "lets say we have a python module with a top level await statement.\n",
        "this is valid in javascript and ipython, but not python due to the ambiguity of the top level await.\n",
        "we'll start digging into what it takes to have async imports in python\n",
        "\n",
        "https://gist.github.com/Rich-Harris/0b6f317657f5167663b493c722647221"
      ]
    },
    {
      "cell_type": "markdown",
      "id": "86bbcd21-ffb4-43c3-a5ca-80e157270958",
      "metadata": {},
      "source": [
        "`dream` is a our `async` function and `catcher` is a value we have access to"
      ]
    },
    {
      "cell_type": "code",
      "execution_count": 1,
      "id": "7c275286-aaeb-4ac1-b172-42b1dd49b540",
      "metadata": {},
      "outputs": [
        {
          "name": "stdout",
          "output_type": "stream",
          "text": [
            "dream on\n"
          ]
        }
      ],
      "source": [
        "    %pip install __11_12_async_import importnb IPython __\n",
        "    async def dream():\n",
        "        await __import__(\"asyncio\").sleep(1)\n",
        "        return \"dream on\"\n",
        "    print(catcher := await dream())"
      ]
    },
    {
      "cell_type": "markdown",
      "id": "a48cc4a8-ffc0-40c1-b7df-3e9e09486969",
      "metadata": {},
      "source": [
        "by default, importing modules with top level await is a fail because `await` can't be outside a function."
      ]
    },
    {
      "cell_type": "code",
      "execution_count": 2,
      "id": "93d358e6-c9f2-425e-80cb-c21e9781ae2d",
      "metadata": {},
      "outputs": [],
      "source": [
        "    try: \n",
        "        with __import__(\"importnb\").Notebook(): import __\n",
        "    except SyntaxError as error: assert \"'await' outside function\" == error.args[0], error"
      ]
    },
    {
      "cell_type": "code",
      "execution_count": 3,
      "id": "6d63330a-bcdf-4652-918e-8c1ee598e680",
      "metadata": {},
      "outputs": [],
      "source": [
        "    # boiler plate\n",
        "    import importnb, ast; from IPython import get_ipython\n",
        "    shell = get_ipython(); "
      ]
    },
    {
      "cell_type": "markdown",
      "id": "44794724-1cc4-4191-9895-d97bc0d80631",
      "metadata": {},
      "source": [
        "we're about to do some nasty nested `async` business when we are working interactively.\n",
        "below we ask `IPython` to prefer to the `trio` thread when we execute code cells\n",
        "this way we can own the `asyncio` event loop."
      ]
    },
    {
      "cell_type": "code",
      "execution_count": 4,
      "id": "6e804d3f-d65f-4203-836f-d4b06a37b74d",
      "metadata": {},
      "outputs": [],
      "source": [
        "    if \"__file__\" not in locals(): \n",
        "        __import__('nest_asyncio').apply()\n",
        "        shell.loop_runner  =__import__(\"IPython\").core.async_helpers._trio_runner"
      ]
    },
    {
      "cell_type": "markdown",
      "id": "aeef3895-2757-4e5a-9eea-cfe3bcdcf15b",
      "metadata": {},
      "source": [
        "luckily there is a flag for top level awaits  thanks to matthias and his hard work on `IPython`.\n",
        "\n",
        "https://docs.python.org/3/library/ast.html#ast.PyCF_ALLOW_TOP_LEVEL_AWAIT\n"
      ]
    },
    {
      "cell_type": "markdown",
      "id": "7595a44d-70ea-452f-a2a8-c52a6ce02687",
      "metadata": {},
      "source": [
        "we'll make an importer that includes the `PyCF_ALLOW_TOP_LEVEL_AWAIT` flag and executes the module through an asynchronous version of `eval`  "
      ]
    },
    {
      "cell_type": "code",
      "execution_count": 5,
      "id": "a39a3d31-bb8b-49c2-ab85-31a3f3999389",
      "metadata": {},
      "outputs": [],
      "source": [
        "    class ANotebook(importnb.Notebook):\n",
        "        def exec_module(self, module):\n",
        "            code = self.get_code(self.name)\n",
        "            return __import__(\"asyncio\").run(eval(code, vars(module)))\n",
        "        \n",
        "        def source_to_code(self, nodes, path, *, _optimize=-1):\n",
        "            if not isinstance(nodes, ast.Module):\n",
        "                nodes = self.parse(nodes)\n",
        "            return compile(self.visit(nodes), path, \"exec\", optimize=_optimize, flags=ast.PyCF_ALLOW_TOP_LEVEL_AWAIT)"
      ]
    },
    {
      "cell_type": "code",
      "execution_count": 6,
      "id": "90bf2a98-97cf-482b-85a9-700b63615d32",
      "metadata": {},
      "outputs": [
        {
          "name": "stdout",
          "output_type": "stream",
          "text": [
            "dream on\n"
          ]
        }
      ],
      "source": [
        "    with ANotebook(): import __11_12_async_import as anb\n",
        "    assert anb.catcher == \"dream on\""
      ]
    },
    {
      "cell_type": "markdown",
      "id": "59dadbb2-8825-462a-91ce-b7c59970528c",
      "metadata": {},
      "source": [
        "we haven't done anything fancy with asyncing the reading the and decoding of the source.\n",
        "we'll get there though. this is just opening the can of worms. the jokes should follow."
      ]
    },
    {
      "cell_type": "code",
      "execution_count": null,
      "id": "fd129955-4119-42e6-8aa2-d3fb7dff65b2",
      "metadata": {},
      "outputs": [],
      "source": []
    }
  ],
  "metadata": {
    "kernelspec": {
      "display_name": "Python [conda env:root] *",
      "language": "python",
      "name": "conda-root-py"
    },
    "language_info": {
      "codemirror_mode": {
        "name": "ipython",
        "version": 3
      },
      "file_extension": ".py",
      "mimetype": "text/x-python",
      "name": "python",
      "nbconvert_exporter": "python",
      "pygments_lexer": "ipython3",
      "version": "3.9.10"
    }
  },
  "nbformat": 4,
  "nbformat_minor": 5
}