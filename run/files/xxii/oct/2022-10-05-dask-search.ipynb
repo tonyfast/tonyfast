{
  "cells": [
    {
      "cell_type": "markdown",
      "id": "2b4ce5d8-dd28-4f52-84b3-e3a2d5baae06",
      "metadata": {},
      "source": [
        "# searching notebooks\n",
        "\n",
        "sorry haters. notebooks are here to stay. their growth and adoption means that they'll present newer problems.\n",
        "one forthcoming challenge with notebooks and their adoption is the ability to search notebooks\n",
        "across space and time. \n",
        "in this notebook, we build tooling to search notebooks and think about the question we might ask to our notebooks.\n",
        "\n",
        "\n",
        "Searching notebooks as structured data.\n",
        "\n",
        "What questions would you ask? today? a year from today? a lifetime from today?"
      ]
    },
    {
      "cell_type": "markdown",
      "id": "b0611925-0006-4bf2-aafd-dc2230d5a29f",
      "metadata": {},
      "source": [
        "## notebook schema\n",
        "\n",
        "one of the reasons we can search notebooks is their consistent structure defined by the `nbformat` `SCHEMA`.\n",
        "the schema provides both a description of the document format along with type information about the\n",
        "notebook data."
      ]
    },
    {
      "cell_type": "code",
      "execution_count": 1,
      "id": "47a5ffcd-acc2-4a63-a6e4-7b8228ccba61",
      "metadata": {},
      "outputs": [],
      "source": [
        "    %pip install nbformat jinja2 pandas dask jsonref IPython\n",
        "    import nbformat.v4, jsonref, IPython.display as SOME\n",
        "    COMPACT = nbformat.validator._get_schema_json(nbformat.v4)    "
      ]
    },
    {
      "cell_type": "markdown",
      "id": "3110a8fa-80b2-4ed7-923d-41616a578c9d",
      "metadata": {},
      "source": [
        "the `COMPACT` should be expanded to allow for easier access the components of the schema.\n",
        "if we don't that we need to really on the implicit structure of the schema document."
      ]
    },
    {
      "cell_type": "code",
      "execution_count": 2,
      "id": "d83d4083-ec5e-416b-987e-250d29b45f1b",
      "metadata": {},
      "outputs": [],
      "source": [
        "    SCHEMA = jsonref.JsonRef.replace_refs(COMPACT)\n",
        "    SOME.JSON(SCHEMA, root=SCHEMA[\"description\"]);"
      ]
    },
    {
      "cell_type": "markdown",
      "id": "07ff4498-9009-40d2-a81b-ce8299d3fd1a",
      "metadata": {},
      "source": [
        "for this demonstration we are going to avoid anything dealing with the top level metadata. \n",
        "our goal is to explore the contents of cells and think about the questions we may ask on the cell\n",
        "sources and outputs."
      ]
    },
    {
      "cell_type": "markdown",
      "id": "6b316804-0b5c-40e1-aeea-5785c50d0360",
      "metadata": {},
      "source": [
        "### cell schema\n",
        "\n",
        "below we extra the expected `CELL` keys from the `SCHEMA`"
      ]
    },
    {
      "cell_type": "code",
      "execution_count": 3,
      "id": "3b12a378-054a-48af-8308-aef8f197f7c0",
      "metadata": {},
      "outputs": [
        {
          "data": {
            "text/plain": [
              "\"the expected cell keys are ['attachments', 'cell_type', 'execution_count', 'id', 'metadata', 'nid', 'outputs', 'source']\""
            ]
          },
          "execution_count": 3,
          "metadata": {},
          "output_type": "execute_result"
        }
      ],
      "source": [
        "    CELL, CELLS = SCHEMA[\"properties\"][\"cells\"], {\"nid\"}\n",
        "    for s in CELL[\"items\"][\"oneOf\"]:\n",
        "        CELLS.update(s.get(\"properties\", \"\"))\n",
        "    CELLS = sorted(CELLS)\n",
        "    CELLS_META_EXPLICIT = dict(execution_count=\"float64\", nid=int, cell_type=\"category\")\n",
        "    CELLS_META = tuple((k, CELLS_META_EXPLICIT.get(k, \"object\")) for k in CELLS)\n",
        "    F\"the expected cell keys are {CELLS}\""
      ]
    },
    {
      "cell_type": "markdown",
      "id": "8bf84e4f-6ac7-4c12-a320-0aefe984b8e9",
      "metadata": {},
      "source": [
        "## loading our notebook data."
      ]
    },
    {
      "cell_type": "markdown",
      "id": "d45a94fd-58d9-4ab2-af2d-144998882618",
      "metadata": {},
      "source": [
        "we're going to use `dask` to accelerate our efforts.\n",
        "`dask` will help us looking across files in a fast way, and we can speak dataframes natively."
      ]
    },
    {
      "cell_type": "code",
      "execution_count": 4,
      "id": "a402c2ca-0963-4ed8-afdd-99f29d6974af",
      "metadata": {},
      "outputs": [],
      "source": [
        "    import dask.dataframe, pandas, jsonref, json; from dask import delayed; from pathlib import Path"
      ]
    },
    {
      "cell_type": "markdown",
      "id": "4150360d-214a-4a61-bbb0-095163ec39bd",
      "metadata": {},
      "source": [
        "our dataframe is going to be constructed from a bunch of parallel files reads.\n",
        "each file is passed through `get_cell` to return a `pandas.DataFrame`."
      ]
    },
    {
      "cell_type": "code",
      "execution_count": 5,
      "id": "525a91e6-cf99-478f-a71a-29ebf7b55b8a",
      "metadata": {},
      "outputs": [],
      "source": [
        "    def get_cell(path):\n",
        "        with open(path) as file:\n",
        "            if str(path).endswith((\".ipynb\",)):\n",
        "                cells = json.load(file)[\"cells\"]\n",
        "            elif str(path).endswith((\".md\",)):\n",
        "                cells = dict(metadata={}, cells=[dict(\n",
        "                    cell_type=\"markdown\", source=\"\".join(file)\n",
        "                )])\n",
        "        df = pandas.DataFrame(cells)\n",
        "        df.index.name = \"nid\"\n",
        "        df = df.reset_index(\"nid\")\n",
        "        \n",
        "        if \"source\" not in df:\n",
        "            df = pandas.DataFrame(columns=CELLS)\n",
        "        else:\n",
        "            df.execution_count = df.execution_count.fillna(-1) # -1 is outside the valid schema, but we don't validate here!\n",
        "            df.source = df.source.apply(\"\".join)\n",
        "        df.index = [path]*len(df)\n",
        "        df.index.name = \"path\"\n",
        "\n",
        "        for k, _ in CELLS_META:\n",
        "            if k not in df.columns:\n",
        "                df[k] = None\n",
        "            df[k] = df[k].astype(\"O\")\n",
        "        return df[CELLS]"
      ]
    },
    {
      "cell_type": "markdown",
      "id": "18299944-9f73-441a-afe6-1edbd40f50d9",
      "metadata": {},
      "source": [
        "`get_cells` loads, tidies, and separates cells, outputs and metadata"
      ]
    },
    {
      "cell_type": "code",
      "execution_count": 6,
      "id": "46fbf5db-2d9f-4028-aba4-512a5cc6a06c",
      "metadata": {},
      "outputs": [],
      "source": [
        "    def get_delayeds(dir, recursive=False):\n",
        "        dir = Path(dir)\n",
        "        files = (recursive and dir.rglob or dir.glob)(\"*.ipynb\")\n",
        "        return dask.dataframe.from_delayed(\n",
        "            list(map(delayed(get_cell), files))\n",
        "        )"
      ]
    },
    {
      "cell_type": "code",
      "execution_count": 7,
      "id": "30fb48ac-cf8e-4cde-81dd-95a9929a3a42",
      "metadata": {},
      "outputs": [
        {
          "name": "stdout",
          "output_type": "stream",
          "text": [
            "True\n"
          ]
        },
        {
          "data": {
            "text/html": [
              "<div><strong>Dask DataFrame Structure:</strong></div>\n",
              "<div>\n",
              "<style scoped>\n",
              "    .dataframe tbody tr th:only-of-type {\n",
              "        vertical-align: middle;\n",
              "    }\n",
              "\n",
              "    .dataframe tbody tr th {\n",
              "        vertical-align: top;\n",
              "    }\n",
              "\n",
              "    .dataframe thead th {\n",
              "        text-align: right;\n",
              "    }\n",
              "</style>\n",
              "<table border=\"1\" class=\"dataframe\">\n",
              "  <thead>\n",
              "    <tr style=\"text-align: right;\">\n",
              "      <th></th>\n",
              "      <th>attachments</th>\n",
              "      <th>cell_type</th>\n",
              "      <th>execution_count</th>\n",
              "      <th>id</th>\n",
              "      <th>nid</th>\n",
              "      <th>source</th>\n",
              "    </tr>\n",
              "    <tr>\n",
              "      <th>npartitions=8</th>\n",
              "      <th></th>\n",
              "      <th></th>\n",
              "      <th></th>\n",
              "      <th></th>\n",
              "      <th></th>\n",
              "      <th></th>\n",
              "    </tr>\n",
              "  </thead>\n",
              "  <tbody>\n",
              "    <tr>\n",
              "      <th></th>\n",
              "      <td>object</td>\n",
              "      <td>object</td>\n",
              "      <td>object</td>\n",
              "      <td>object</td>\n",
              "      <td>object</td>\n",
              "      <td>object</td>\n",
              "    </tr>\n",
              "    <tr>\n",
              "      <th></th>\n",
              "      <td>...</td>\n",
              "      <td>...</td>\n",
              "      <td>...</td>\n",
              "      <td>...</td>\n",
              "      <td>...</td>\n",
              "      <td>...</td>\n",
              "    </tr>\n",
              "    <tr>\n",
              "      <th>...</th>\n",
              "      <td>...</td>\n",
              "      <td>...</td>\n",
              "      <td>...</td>\n",
              "      <td>...</td>\n",
              "      <td>...</td>\n",
              "      <td>...</td>\n",
              "    </tr>\n",
              "    <tr>\n",
              "      <th></th>\n",
              "      <td>...</td>\n",
              "      <td>...</td>\n",
              "      <td>...</td>\n",
              "      <td>...</td>\n",
              "      <td>...</td>\n",
              "      <td>...</td>\n",
              "    </tr>\n",
              "    <tr>\n",
              "      <th></th>\n",
              "      <td>...</td>\n",
              "      <td>...</td>\n",
              "      <td>...</td>\n",
              "      <td>...</td>\n",
              "      <td>...</td>\n",
              "      <td>...</td>\n",
              "    </tr>\n",
              "  </tbody>\n",
              "</table>\n",
              "</div>\n",
              "<div>Dask Name: drop_by_shallow_copy, 32 tasks</div>"
            ],
            "text/plain": [
              "Dask DataFrame Structure:\n",
              "              attachments cell_type execution_count      id     nid  source\n",
              "npartitions=8                                                              \n",
              "                   object    object          object  object  object  object\n",
              "                      ...       ...             ...     ...     ...     ...\n",
              "...                   ...       ...             ...     ...     ...     ...\n",
              "                      ...       ...             ...     ...     ...     ...\n",
              "                      ...       ...             ...     ...     ...     ...\n",
              "Dask Name: drop_by_shallow_copy, 32 tasks"
            ]
          },
          "metadata": {},
          "output_type": "display_data"
        }
      ],
      "source": [
        "    def get_cells(dir=None, recursive=False):\n",
        "        return get_delayeds(dir or Path.cwd(), recursive).pipe(\n",
        "            lambda df: (df, df.pop(\"outputs\"), df.pop(\"metadata\"))\n",
        "        )\n",
        "    L = \"__file__\" not in locals()\n",
        "    print(L)\n",
        "    if L: cells, outputs, metadata = get_cells(\"../..\"); display(cells)"
      ]
    },
    {
      "cell_type": "markdown",
      "id": "504c9035-7f23-4058-9557-6a9630a44674",
      "metadata": {},
      "source": [
        "find cells with imports in them"
      ]
    },
    {
      "cell_type": "code",
      "execution_count": 8,
      "id": "c4926a47-39f9-4850-b2e9-857dc7f9f1cd",
      "metadata": {},
      "outputs": [
        {
          "data": {
            "text/html": [
              "<div>\n",
              "<style scoped>\n",
              "    .dataframe tbody tr th:only-of-type {\n",
              "        vertical-align: middle;\n",
              "    }\n",
              "\n",
              "    .dataframe tbody tr th {\n",
              "        vertical-align: top;\n",
              "    }\n",
              "\n",
              "    .dataframe thead th {\n",
              "        text-align: right;\n",
              "    }\n",
              "</style>\n",
              "<table border=\"1\" class=\"dataframe\">\n",
              "  <thead>\n",
              "    <tr style=\"text-align: right;\">\n",
              "      <th>path</th>\n",
              "      <th>../../2022-06-28-.ipynb</th>\n",
              "      <th>../../2022-06-24-.ipynb</th>\n",
              "      <th>../../2022-03-06-schemata-scratch.ipynb</th>\n",
              "      <th>../../2022-03-06-schemata-scratch.ipynb</th>\n",
              "    </tr>\n",
              "  </thead>\n",
              "  <tbody>\n",
              "    <tr>\n",
              "      <th>attachments</th>\n",
              "      <td>None</td>\n",
              "      <td>None</td>\n",
              "      <td>None</td>\n",
              "      <td>None</td>\n",
              "    </tr>\n",
              "    <tr>\n",
              "      <th>cell_type</th>\n",
              "      <td>code</td>\n",
              "      <td>code</td>\n",
              "      <td>code</td>\n",
              "      <td>code</td>\n",
              "    </tr>\n",
              "    <tr>\n",
              "      <th>execution_count</th>\n",
              "      <td>9.0</td>\n",
              "      <td>2.0</td>\n",
              "      <td>7.0</td>\n",
              "      <td>6.0</td>\n",
              "    </tr>\n",
              "    <tr>\n",
              "      <th>id</th>\n",
              "      <td>c744325a-8f73-4428-b381-c1f4ee5fdb06</td>\n",
              "      <td>ba46c5ef-78e6-48b2-bee3-cd6be3606fe5</td>\n",
              "      <td>ab6ff11f-a7d1-4e59-9fdd-cac7313a7cf4</td>\n",
              "      <td>5d3d2316-b2b0-4f47-ad0d-9b677b1f7e6a</td>\n",
              "    </tr>\n",
              "    <tr>\n",
              "      <th>nid</th>\n",
              "      <td>6</td>\n",
              "      <td>1</td>\n",
              "      <td>52</td>\n",
              "      <td>126</td>\n",
              "    </tr>\n",
              "    <tr>\n",
              "      <th>source</th>\n",
              "      <td>\\n    import graphviz\\n    hommage = graph...</td>\n",
              "      <td>import functools, abc</td>\n",
              "      <td>import sys</td>\n",
              "      <td>import urllib</td>\n",
              "    </tr>\n",
              "  </tbody>\n",
              "</table>\n",
              "</div>"
            ],
            "text/plain": [
              "path                                       ../../2022-06-28-.ipynb  \\\n",
              "attachments                                                   None   \n",
              "cell_type                                                     code   \n",
              "execution_count                                                9.0   \n",
              "id                            c744325a-8f73-4428-b381-c1f4ee5fdb06   \n",
              "nid                                                              6   \n",
              "source               \\n    import graphviz\\n    hommage = graph...   \n",
              "\n",
              "path                          ../../2022-06-24-.ipynb  \\\n",
              "attachments                                      None   \n",
              "cell_type                                        code   \n",
              "execution_count                                   2.0   \n",
              "id               ba46c5ef-78e6-48b2-bee3-cd6be3606fe5   \n",
              "nid                                                 1   \n",
              "source                          import functools, abc   \n",
              "\n",
              "path            ../../2022-03-06-schemata-scratch.ipynb  \\\n",
              "attachments                                        None   \n",
              "cell_type                                          code   \n",
              "execution_count                                     7.0   \n",
              "id                 ab6ff11f-a7d1-4e59-9fdd-cac7313a7cf4   \n",
              "nid                                                  52   \n",
              "source                                       import sys   \n",
              "\n",
              "path            ../../2022-03-06-schemata-scratch.ipynb  \n",
              "attachments                                        None  \n",
              "cell_type                                          code  \n",
              "execution_count                                     6.0  \n",
              "id                 5d3d2316-b2b0-4f47-ad0d-9b677b1f7e6a  \n",
              "nid                                                 126  \n",
              "source                                    import urllib  "
            ]
          },
          "metadata": {},
          "output_type": "display_data"
        }
      ],
      "source": [
        "    if L: cells[cells.source.str.match(\"\\s*import\\s+.*\")].compute().T.pipe(display)"
      ]
    },
    {
      "cell_type": "markdown",
      "id": "e2b28e41-0926-42df-9ed9-65f1f15c0bda",
      "metadata": {},
      "source": [
        "find some urls?"
      ]
    },
    {
      "cell_type": "code",
      "execution_count": 9,
      "id": "4fcd295c-59c0-47b7-9dc6-d0bf7fcfa01e",
      "metadata": {},
      "outputs": [
        {
          "data": {
            "text/html": [
              "<div>\n",
              "<style scoped>\n",
              "    .dataframe tbody tr th:only-of-type {\n",
              "        vertical-align: middle;\n",
              "    }\n",
              "\n",
              "    .dataframe tbody tr th {\n",
              "        vertical-align: top;\n",
              "    }\n",
              "\n",
              "    .dataframe thead th {\n",
              "        text-align: right;\n",
              "    }\n",
              "</style>\n",
              "<table border=\"1\" class=\"dataframe\">\n",
              "  <thead>\n",
              "    <tr style=\"text-align: right;\">\n",
              "      <th>path</th>\n",
              "      <th>../../2022-06-28-.ipynb</th>\n",
              "      <th>../../2022-06-28-.ipynb</th>\n",
              "      <th>../../2022-06-28-.ipynb</th>\n",
              "      <th>../../2022-06-28-.ipynb</th>\n",
              "      <th>../../2022-06-28-.ipynb</th>\n",
              "      <th>../../2022-04-12-.ipynb</th>\n",
              "      <th>../../2022-04-12-.ipynb</th>\n",
              "      <th>../../2022-03-06-schemata-scratch.ipynb</th>\n",
              "      <th>../../2022-03-06-schemata-scratch.ipynb</th>\n",
              "      <th>../../2022-03-06-schemata-scratch.ipynb</th>\n",
              "      <th>../../2022-03-06-schemata-scratch.ipynb</th>\n",
              "      <th>../../2022-03-06-schemata-scratch.ipynb</th>\n",
              "    </tr>\n",
              "  </thead>\n",
              "  <tbody>\n",
              "    <tr>\n",
              "      <th>0</th>\n",
              "      <td>https://raw.githubusercontent.com/SchemaStore/...</td>\n",
              "      <td>https://joss.theoj.org/papers/in/Jupyter%20Not...</td>\n",
              "      <td>https://raw.githubusercontent.com/SchemaStore/...</td>\n",
              "      <td>https://raw.githubusercontent.com/jupyter/nbfo...</td>\n",
              "      <td>https://c.tenor.com/JHjG5vxW9zIAAAAd/missy-ell...</td>\n",
              "      <td>https://github.com/jupyterlab/lumino\",</td>\n",
              "      <td>https://github.com/jupyterlab/jupyterlab@master\",</td>\n",
              "      <td>https://json-schema.org/draft/next/meta/valida...</td>\n",
              "      <td>https://json-schema.org/draft/2020-12/schema']</td>\n",
              "      <td>https://json-schema.org/draft/2020-12/schema\"]</td>\n",
              "      <td>https://test.json-schema.org/dynamic-resolutio...</td>\n",
              "      <td>https://avatars.githubusercontent.com/u/423627...</td>\n",
              "    </tr>\n",
              "  </tbody>\n",
              "</table>\n",
              "</div>"
            ],
            "text/plain": [
              "path                            ../../2022-06-28-.ipynb  \\\n",
              "0     https://raw.githubusercontent.com/SchemaStore/...   \n",
              "\n",
              "path                            ../../2022-06-28-.ipynb  \\\n",
              "0     https://joss.theoj.org/papers/in/Jupyter%20Not...   \n",
              "\n",
              "path                            ../../2022-06-28-.ipynb  \\\n",
              "0     https://raw.githubusercontent.com/SchemaStore/...   \n",
              "\n",
              "path                            ../../2022-06-28-.ipynb  \\\n",
              "0     https://raw.githubusercontent.com/jupyter/nbfo...   \n",
              "\n",
              "path                            ../../2022-06-28-.ipynb  \\\n",
              "0     https://c.tenor.com/JHjG5vxW9zIAAAAd/missy-ell...   \n",
              "\n",
              "path                 ../../2022-04-12-.ipynb  \\\n",
              "0     https://github.com/jupyterlab/lumino\",   \n",
              "\n",
              "path                            ../../2022-04-12-.ipynb  \\\n",
              "0     https://github.com/jupyterlab/jupyterlab@master\",   \n",
              "\n",
              "path            ../../2022-03-06-schemata-scratch.ipynb  \\\n",
              "0     https://json-schema.org/draft/next/meta/valida...   \n",
              "\n",
              "path         ../../2022-03-06-schemata-scratch.ipynb  \\\n",
              "0     https://json-schema.org/draft/2020-12/schema']   \n",
              "\n",
              "path         ../../2022-03-06-schemata-scratch.ipynb  \\\n",
              "0     https://json-schema.org/draft/2020-12/schema\"]   \n",
              "\n",
              "path            ../../2022-03-06-schemata-scratch.ipynb  \\\n",
              "0     https://test.json-schema.org/dynamic-resolutio...   \n",
              "\n",
              "path            ../../2022-03-06-schemata-scratch.ipynb  \n",
              "0     https://avatars.githubusercontent.com/u/423627...  "
            ]
          },
          "metadata": {},
          "output_type": "display_data"
        }
      ],
      "source": [
        "    if L: cells.source.str.extract(\"(http[s]://\\S+)\").dropna().compute().T.pipe(display)"
      ]
    },
    {
      "cell_type": "markdown",
      "id": "ffe164ca-22c3-4c55-ae9c-7a59b601cc51",
      "metadata": {},
      "source": [
        "## `break`\n",
        "\n",
        "what storage\n",
        "integrate with contents manager\n",
        "what queries"
      ]
    },
    {
      "cell_type": "markdown",
      "id": "e56ea558",
      "metadata": {},
      "source": [
        "working on this notebook revealed an issue with importnb's json parser than needs some care."
      ]
    },
    {
      "cell_type": "markdown",
      "id": "98307929",
      "metadata": {},
      "source": [
        "this document is code and can be used with the statement `from tonyfast import search`"
      ]
    },
    {
      "cell_type": "markdown",
      "id": "fa9b6198",
      "metadata": {},
      "source": []
    }
  ],
  "metadata": {
    "kernelspec": {
      "display_name": "Python [conda env:root] *",
      "language": "python",
      "name": "conda-root-py"
    },
    "language_info": {
      "codemirror_mode": {
        "name": "ipython",
        "version": 3
      },
      "file_extension": ".py",
      "mimetype": "text/x-python",
      "name": "python",
      "nbconvert_exporter": "python",
      "pygments_lexer": "ipython3",
      "version": "3.9.10"
    }
  },
  "nbformat": 4,
  "nbformat_minor": 5
}