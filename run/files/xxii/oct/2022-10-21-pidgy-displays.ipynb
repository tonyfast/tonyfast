{
  "cells": [
    {
      "cell_type": "markdown",
      "id": "381c2197-28df-4512-9ed1-d9a65aea1323",
      "metadata": {},
      "source": [
        "# literate computing - interactive literate programming\n",
        "\n",
        "literate computing relies on a rapid feedback from the computer.\n",
        "`pidgy` features multiple reactive/interactive displays for presenting your content.\n",
        "we'll explore the displays and meaning with two demos:\n",
        "1. the cookies demo\n",
        "2. the dataframe demo"
      ]
    },
    {
      "cell_type": "markdown",
      "id": "0089f28b-c358-4651-9f26-5b32c4a165a9",
      "metadata": {},
      "source": [
        "## cookies demo\n",
        "\n",
        "the cookies demo is mainstay in the deathbeds repertoire.\n",
        "inspired by bret viktors tanglejs we explore the cookie demo in `pidgy`.\n",
        "\n"
      ]
    },
    {
      "cell_type": "code",
      "execution_count": 1,
      "id": "c4560023-1a05-4048-bfbb-bb85b3df0075",
      "metadata": {
        "jupyter": {
          "source_hidden": true
        },
        "slideshow": {
          "slide_type": "skip"
        },
        "tags": []
      },
      "outputs": [
        {
          "data": {
            "application/vnd.jupyter.widget-view+json": {
              "model_id": "f81d8fa1ec824ef3ad5c8e7f2d94b41f",
              "version_major": 2,
              "version_minor": 0
            },
            "text/plain": [
              "HTML(value='<pre><code>%reload_ext pidgy\\nimport pidgy\\nshell.displays_manager.template_cls = pidgy.weave.IPyW\u2026"
            ]
          },
          "metadata": {},
          "output_type": "display_data"
        }
      ],
      "source": [
        "    %pip install pandas jinja2 pidgy ipywidgets\n",
        "    %reload_ext pidgy\n",
        "    import pidgy\n",
        "    shell.displays_manager.template_cls = pidgy.weave.IPyWidgetsHtml"
      ]
    },
    {
      "cell_type": "code",
      "execution_count": 2,
      "id": "68fe0a5e-7b23-46c1-9d8f-7e20156d8538",
      "metadata": {
        "jupyter": {
          "source_hidden": true
        }
      },
      "outputs": [
        {
          "data": {
            "application/vnd.jupyter.widget-view+json": {
              "model_id": "ebab6700b90140c081deb1e9a1da6125",
              "version_major": 2,
              "version_minor": 0
            },
            "text/plain": [
              "HTML(value='<pre><code>cookies = IntSlider(3)</code></pre>\\n')"
            ]
          },
          "metadata": {},
          "output_type": "display_data"
        }
      ],
      "source": [
        "    cookies = IntSlider(3)"
      ]
    },
    {
      "cell_type": "code",
      "execution_count": 3,
      "id": "5a6eee42-7567-4be5-9e49-676926955d68",
      "metadata": {
        "jupyter": {
          "source_hidden": true
        },
        "slideshow": {
          "slide_type": "skip"
        },
        "tags": []
      },
      "outputs": [
        {
          "data": {
            "application/vnd.jupyter.widget-view+json": {
              "model_id": "10478ed443564ad6a92cbe2389a53979",
              "version_major": 2,
              "version_minor": 0
            },
            "text/plain": [
              "HTML(value='<style>\\n#hunger {\\n    opacity: 0.15;\\n    font-size: 0.15rem;\\n    background-image: url(\"https:\u2026"
            ]
          },
          "metadata": {},
          "output_type": "display_data"
        }
      ],
      "source": [
        "<style>\n",
        "#hunger {\n",
        "    opacity: {{cookies.value/20}};\n",
        "    font-size: {{cookies.value/20}}rem;\n",
        "    background-image: url(\"https://media4.giphy.com/media/BsUORZkF3gBqg/giphy.gif\");\n",
        "    background-size: cover;\n",
        "}\n",
        "</style>"
      ]
    },
    {
      "cell_type": "code",
      "execution_count": 4,
      "id": "18724eb0-9e42-4cbc-a105-ea270d7eba94",
      "metadata": {
        "slideshow": {
          "slide_type": "fragment"
        },
        "tags": [],
        "jupyter": {
          "source_hidden": true
        }
      },
      "outputs": [
        {
          "data": {
            "application/vnd.jupyter.widget-view+json": {
              "model_id": "6d6402a4752a4949b39a28d7b2fa07a3",
              "version_major": 2,
              "version_minor": 0
            },
            "text/plain": [
              "HTML(value='<div id=\"hunger\">cookies!\\ncookies!\\ncookies!\\n</div>')"
            ]
          },
          "metadata": {},
          "output_type": "display_data"
        }
      ],
      "source": [
        "<div id=\"hunger\">cookies!\n",
        "cookies!\n",
        "cookies!\n",
        "</div>"
      ]
    },
    {
      "cell_type": "code",
      "execution_count": 5,
      "id": "80ac0df3-1c97-4bb8-8b83-234b0df81dee",
      "metadata": {
        "jupyter": {
          "source_hidden": true
        },
        "slideshow": {
          "slide_type": "fragment"
        },
        "tags": []
      },
      "outputs": [
        {
          "data": {
            "application/vnd.jupyter.widget-view+json": {
              "model_id": "18259fdb817e41e79355ae689d8d003d",
              "version_major": 2,
              "version_minor": 0
            },
            "text/plain": [
              "HTML(value='<p>if i eat 3 then i consume 150 calories.</p>\\n<pre><code>shell.displays_manager.template_cls = p\u2026"
            ]
          },
          "metadata": {},
          "output_type": "display_data"
        }
      ],
      "source": [
        "if i eat {{cookies.value}} then i consume {{cookies.value*50}} calories.\n",
        "\n",
        "    shell.displays_manager.template_cls = pidgy.weave.IPyWidgetsHtml"
      ]
    },
    {
      "cell_type": "code",
      "execution_count": 6,
      "id": "7a3cbce0-a663-49a4-96e4-6e8c57045d06",
      "metadata": {
        "jupyter": {
          "source_hidden": true
        },
        "slideshow": {
          "slide_type": "fragment"
        },
        "tags": []
      },
      "outputs": [
        {
          "data": {
            "text/html": [
              "<p>if i eat 3 then i consume 150 calories.</p>\n",
              "<pre><code>shell.displays_manager.template_cls = pidgy.weave.IPythonHtml</code></pre>\n"
            ],
            "text/plain": [
              "<IPython.core.display.HTML object>"
            ]
          },
          "metadata": {},
          "output_type": "display_data"
        }
      ],
      "source": [
        "if i eat {{cookies.value}} then i consume {{cookies.value*50}} calories.\n",
        "\n",
        "    shell.displays_manager.template_cls = pidgy.weave.IPythonHtml"
      ]
    },
    {
      "cell_type": "code",
      "execution_count": 7,
      "id": "9b802e69-6e69-4036-b536-cb790629e9ab",
      "metadata": {
        "jupyter": {
          "source_hidden": true
        },
        "slideshow": {
          "slide_type": "fragment"
        },
        "tags": []
      },
      "outputs": [
        {
          "data": {
            "text/markdown": [
              "if i eat 3 then i consume 150 calories.\n",
              "\n",
              "    shell.displays_manager.template_cls = pidgy.weave.IPythonMarkdown"
            ],
            "text/plain": [
              "<IPython.core.display.Markdown object>"
            ]
          },
          "metadata": {},
          "output_type": "display_data"
        }
      ],
      "source": [
        "if i eat {{cookies.value}} then i consume {{cookies.value*50}} calories.\n",
        "\n",
        "    shell.displays_manager.template_cls = pidgy.weave.IPythonMarkdown"
      ]
    },
    {
      "cell_type": "code",
      "execution_count": 8,
      "id": "8eaec19d-58d6-470c-8b1e-8e92d4aa58c3",
      "metadata": {
        "jupyter": {
          "source_hidden": true
        },
        "slideshow": {
          "slide_type": "fragment"
        },
        "tags": []
      },
      "outputs": [
        {
          "data": {
            "application/vnd.jupyter.widget-view+json": {
              "model_id": "4a1dbd5b268345e4b99d810bd4a77cd9",
              "version_major": 2,
              "version_minor": 0
            },
            "text/plain": [
              "IntSlider(value=3)"
            ]
          },
          "metadata": {},
          "output_type": "display_data"
        },
        {
          "data": {
            "text/markdown": [
              "    cookies"
            ],
            "text/plain": [
              "<IPython.core.display.Markdown object>"
            ]
          },
          "metadata": {},
          "output_type": "display_data"
        }
      ],
      "source": [
        "    cookies"
      ]
    },
    {
      "cell_type": "markdown",
      "id": "b57da5ed-a94e-4d1b-93ae-68ea46d7ba0f",
      "metadata": {
        "slideshow": {
          "slide_type": "slide"
        },
        "tags": []
      },
      "source": [
        "\n",
        "## Dataframes"
      ]
    },
    {
      "cell_type": "code",
      "execution_count": 9,
      "id": "a4ebb51b-0ad5-479f-b059-1d2fe656993d",
      "metadata": {
        "jupyter": {
          "source_hidden": true
        }
      },
      "outputs": [
        {
          "data": {
            "text/markdown": [
              "    from ipywidgets import interact_manual"
            ],
            "text/plain": [
              "<IPython.core.display.Markdown object>"
            ]
          },
          "metadata": {},
          "output_type": "display_data"
        }
      ],
      "source": [
        "    from ipywidgets import interact_manual"
      ]
    },
    {
      "cell_type": "code",
      "execution_count": 10,
      "id": "c5226361-c0a0-41cf-b858-72ec90dc5c89",
      "metadata": {
        "jupyter": {
          "source_hidden": true
        }
      },
      "outputs": [
        {
          "data": {
            "text/markdown": [
              "    import pandas\n",
              "    who = Text(\"tonyfast\")   "
            ],
            "text/plain": [
              "<IPython.core.display.Markdown object>"
            ]
          },
          "metadata": {},
          "output_type": "display_data"
        }
      ],
      "source": [
        "    import pandas\n",
        "    who = Text(\"tonyfast\")   \n"
      ]
    },
    {
      "cell_type": "code",
      "execution_count": 11,
      "id": "a64b2360-1714-48dc-b292-f3b9dd0f7719",
      "metadata": {
        "tags": [],
        "jupyter": {
          "source_hidden": true
        }
      },
      "outputs": [
        {
          "data": {
            "application/vnd.jupyter.widget-view+json": {
              "model_id": "e4571c30dfcc45d4b983098d9d877a0d",
              "version_major": 2,
              "version_minor": 0
            },
            "text/plain": [
              "HTML(value='<pre><code>shell.displays_manager.template_cls = pidgy.weave.IPyWidgetsHtml\\n</code></pre>\\n<p><co\u2026"
            ]
          },
          "metadata": {},
          "output_type": "display_data"
        }
      ],
      "source": [
        "    shell.displays_manager.template_cls = pidgy.weave.IPyWidgetsHtml\n",
        "{{g.T}}"
      ]
    },
    {
      "cell_type": "code",
      "execution_count": 12,
      "id": "5451eb6e-8ce8-4dd6-968b-30ccfcd2fec3",
      "metadata": {
        "jupyter": {
          "source_hidden": true
        }
      },
      "outputs": [
        {
          "data": {
            "text/html": [
              "<pre><code>shell.displays_manager.template_cls = pidgy.weave.IPythonHtml\n",
              "</code></pre>\n",
              "<p><code>g is undefined</code></p>\n"
            ],
            "text/plain": [
              "<IPython.core.display.HTML object>"
            ]
          },
          "metadata": {},
          "output_type": "display_data"
        }
      ],
      "source": [
        "    shell.displays_manager.template_cls = pidgy.weave.IPythonHtml\n",
        "{{g.T}}"
      ]
    },
    {
      "cell_type": "code",
      "execution_count": 13,
      "id": "93ba44da-1edc-4b16-b56d-5cce0697b442",
      "metadata": {
        "jupyter": {
          "source_hidden": true
        }
      },
      "outputs": [
        {
          "data": {
            "text/markdown": [
              "    shell.displays_manager.template_cls = pidgy.weave.IPythonMarkdown\n",
              "`g is undefined`"
            ],
            "text/plain": [
              "<IPython.core.display.Markdown object>"
            ]
          },
          "metadata": {},
          "output_type": "display_data"
        }
      ],
      "source": [
        "    shell.displays_manager.template_cls = pidgy.weave.IPythonMarkdown\n",
        "{{g.T}}"
      ]
    },
    {
      "cell_type": "markdown",
      "id": "27ad3a47-1ea2-477e-902b-fadd8d0fab64",
      "metadata": {
        "slideshow": {
          "slide_type": "fragment"
        },
        "tags": []
      },
      "source": [
        "    g = df.iloc[:5, :5]"
      ]
    },
    {
      "cell_type": "code",
      "execution_count": 14,
      "id": "d94b1b84-79e2-4c1d-b43e-ae9ff49922f2",
      "metadata": {
        "jupyter": {
          "source_hidden": true
        }
      },
      "outputs": [
        {
          "data": {
            "application/vnd.jupyter.widget-view+json": {
              "model_id": "c9418ad954c649ce9bdfcc5cd4287e2e",
              "version_major": 2,
              "version_minor": 0
            },
            "text/plain": [
              "interactive(children=(Text(value='tonyfast', description='who'), Button(description='Run Interact', style=Butt\u2026"
            ]
          },
          "metadata": {},
          "output_type": "display_data"
        },
        {
          "data": {
            "text/plain": [
              "<function __main__.update(who)>"
            ]
          },
          "execution_count": 14,
          "metadata": {},
          "output_type": "execute_result"
        },
        {
          "data": {
            "text/markdown": [
              "    def update(who):\n",
              "        global df, g\n",
              "        g = df = pandas.read_json(F\"https://api.github.com/users/{who}/gists\")\n",
              "    interact_manual(update, who=who)"
            ],
            "text/plain": [
              "<IPython.core.display.Markdown object>"
            ]
          },
          "metadata": {},
          "output_type": "display_data"
        }
      ],
      "source": [
        "    def update(who):\n",
        "        global df, g\n",
        "        g = df = pandas.read_json(F\"https://api.github.com/users/{who}/gists\")\n",
        "    interact_manual(update, who=who)"
      ]
    },
    {
      "cell_type": "code",
      "execution_count": null,
      "id": "f4afecec-dda1-4577-8db8-b8906ce80561",
      "metadata": {
        "jupyter": {
          "source_hidden": true
        }
      },
      "outputs": [],
      "source": []
    }
  ],
  "metadata": {
    "kernelspec": {
      "display_name": "Python [conda env:root] *",
      "language": "python",
      "name": "conda-root-py"
    },
    "language_info": {
      "codemirror_mode": {
        "name": "ipython",
        "version": 3
      },
      "file_extension": ".py",
      "mimetype": "text/x-python",
      "name": "python",
      "nbconvert_exporter": "python",
      "pygments_lexer": "ipython3",
      "version": "3.9.10"
    }
  },
  "nbformat": 4,
  "nbformat_minor": 5
}