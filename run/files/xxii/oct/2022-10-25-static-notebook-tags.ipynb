{
  "cells": [
    {
      "cell_type": "markdown",
      "id": "c1657dc8-62a2-44e1-bbb1-890671898818",
      "metadata": {
        "slideshow": {
          "slide_type": "slide"
        },
        "tags": []
      },
      "source": [
        "# post processing html accessibility\n",
        "\n",
        "this demo illustrates how an `nbconvert` template's html can be editted directly\n",
        "using `BeautifulSoup`\n",
        "\n",
        "these concepts intersect multiple outstanding issues:\n",
        "* https://github.com/Iota-School/notebooks-for-all/issues/19#issuecomment-1251245078\n",
        "* https://github.com/Iota-School/notebooks-for-all/issues/15\n",
        "* https://github.com/Iota-School/notebooks-for-all/issues/20"
      ]
    },
    {
      "cell_type": "code",
      "execution_count": 1,
      "id": "7cbfcfc5-55f3-44a6-b187-65aa948d83a1",
      "metadata": {
        "slideshow": {
          "slide_type": "notes"
        },
        "tags": []
      },
      "outputs": [],
      "source": [
        "    %pip install beautifulsoup4 nbconvert_html5 __static_notebook_tags playwright\n",
        "    import nbconvert_html5\n",
        "    from bs4 import BeautifulSoup\n",
        "    from pathlib import Path"
      ]
    },
    {
      "cell_type": "markdown",
      "id": "3f32bdc5-6b7b-4fa0-9fc2-ac4eeae2f9f7",
      "metadata": {
        "slideshow": {
          "slide_type": "slide"
        },
        "tags": []
      },
      "source": [
        "## jupyter selectors\n",
        "\n",
        "we need to collect these across representations `nbconvert (lab/class), nbviewer, sphinx, mkdocs`"
      ]
    },
    {
      "cell_type": "code",
      "execution_count": 2,
      "id": "193fc839-6109-4b9e-8d68-dee50708b107",
      "metadata": {
        "slideshow": {
          "slide_type": "fragment"
        },
        "tags": []
      },
      "outputs": [],
      "source": [
        "    MAIN = \"#notebook, .jp-Notebook\"\n",
        "    CELL = \".cell, .jp-Cell\"\n",
        "    CODE = \".code_cell, .jp-CodeCell\"\n",
        "    MD = \".text_cell, .jp-MarkdownCell\"\n",
        "    OUT = \".output, .jp-OutputArea.jp-Cell-outputArea\"\n",
        "    IN = \".code_cell .input .input_area, .jp-Editor\"\n",
        "    PROMPT = \".input_prompt\""
      ]
    },
    {
      "cell_type": "markdown",
      "id": "54017bb1-b95d-4fd2-9cea-5df1924760e8",
      "metadata": {
        "slideshow": {
          "slide_type": "subslide"
        },
        "tags": []
      },
      "source": [
        "## the `Html5` exporter\n",
        "\n",
        "currently the class does not change anything but exposes an api from directly modify exported html."
      ]
    },
    {
      "cell_type": "code",
      "execution_count": 4,
      "id": "8f8dd2cf-db6e-4ed2-b228-1f8119b57d62",
      "metadata": {
        "slideshow": {
          "slide_type": "fragment"
        },
        "tags": []
      },
      "outputs": [
        {
          "data": {
            "text/plain": [
              "603500"
            ]
          },
          "execution_count": 4,
          "metadata": {},
          "output_type": "execute_result"
        }
      ],
      "source": [
        "    old = nbconvert_html5.Html5().from_filename(\"2022-10-25-static-notebook-tags.ipynb\")[0]\n",
        "    source = Path(\"indexed-source.html\"); source.write_text(old)"
      ]
    },
    {
      "cell_type": "markdown",
      "id": "3ddcbf03-1ea2-4dd5-8847-9e6025d245b9",
      "metadata": {
        "slideshow": {
          "slide_type": "subslide"
        },
        "tags": []
      },
      "source": [
        "## `jupyter` remediations for landmarks\n",
        "\n",
        "we are exploring the efficacy of html5 conventions to provide accessibility landmarks in the jupyter notebook. we'll modify:\n",
        "* the primary container\n",
        "* cell inputs and outputs\n",
        "* executin counts"
      ]
    },
    {
      "cell_type": "code",
      "execution_count": 5,
      "id": "89c05f27-4380-4017-a234-4c590795af4a",
      "metadata": {
        "slideshow": {
          "slide_type": "fragment"
        },
        "tags": []
      },
      "outputs": [],
      "source": [
        "    def set_notebook(soup):\n",
        "        set_main(soup); set_cells(soup); set_inputs(soup); set_prompts(soup)\n",
        "\n",
        "    def get_html(x, **k):\n",
        "        soup = BeautifulSoup(x, features=\"lxml\"); set_notebook(soup)\n",
        "        return str(soup)"
      ]
    },
    {
      "cell_type": "markdown",
      "id": "2cdde132-58b9-4818-abbb-1b96e1fb63ae",
      "metadata": {
        "slideshow": {
          "slide_type": "subslide"
        },
        "tags": []
      },
      "source": [
        "### the `setters`"
      ]
    },
    {
      "cell_type": "code",
      "execution_count": null,
      "id": "9fd82d03-8834-4446-8342-1b10f64ffcd0",
      "metadata": {
        "slideshow": {
          "slide_type": "fragment"
        },
        "tags": []
      },
      "outputs": [],
      "source": [
        "    def set_main(soup):\n",
        "        e = soup.select_one(MAIN)\n",
        "        e.attrs.pop(\"tabindex\", None)\n",
        "        e.name = \"main\"\n",
        "        \n",
        "    def set_main_aside(soup):\n",
        "        \"\"\"[Move Metadata to the top](https://github.com/Iota-School/notebooks-for-all/issues/21)\"\"\"\n",
        "\n",
        "    def set_cells(soup):\n",
        "        for element in soup.select(CODE):\n",
        "            set_code_cell(element)\n",
        "        for element in soup.select(MD):\n",
        "            set_md_cell(element)\n",
        "\n",
        "    def set_code_cell(e):        \n",
        "        e.name = \"article\"\n",
        "        # in multi kernel scenarios are cell magics the input might vary\n",
        "        e.attrs.setdefault(\"aria-label\", \"code cell\")\n",
        "            \n",
        "    def set_md_cell(e):\n",
        "        e.name = \"article\"\n",
        "        e.attrs.setdefault(\"aria-label\", \"markdown cell\")\n",
        "\n",
        "    def set_displays(e):\n",
        "        \"\"\"introduces a section tag to the outputs\"\"\"\n",
        "        \n",
        "        out = e.select_one(OUT)\n",
        "        out.name = \"section\"\n",
        "        e.attrs.setdefault(\"aria-label\", \"code outputs\")\n",
        "\n",
        "    def set_inputs(soup):\n",
        "        for inp in soup.select(IN):\n",
        "            inp.replace_with(BeautifulSoup(F\"<code><pre>{inp.text}</pre></code>\", features=\"lxml\").select_one(\"code\"))\n",
        "\n",
        "    def set_prompts(soup):\n",
        "        \"\"\"https://github.com/Iota-School/notebooks-for-all/issues/20#issuecomment-1247172797\"\"\"\n",
        "        \n",
        "        for prompt in soup.select(PROMPT):\n",
        "            prompt.name = \"aside\""
      ]
    },
    {
      "cell_type": "markdown",
      "id": "5cf30eeb-f9eb-48bf-bbf6-2a19143a48df",
      "metadata": {
        "slideshow": {
          "slide_type": "subslide"
        },
        "tags": []
      },
      "source": [
        "## Running the post processor"
      ]
    },
    {
      "cell_type": "code",
      "execution_count": 7,
      "id": "1f286567-3231-4223-98c2-ac84038c254a",
      "metadata": {
        "slideshow": {
          "slide_type": "fragment"
        },
        "tags": []
      },
      "outputs": [],
      "source": [
        "    new = nbconvert_html5.Html5(post_processor=get_html).from_filename(\"2022-10-25-static-notebook-tags.ipynb\")[0]\n",
        "    target = Path(\"indexed-target.html\"); target.write_text(new);"
      ]
    },
    {
      "cell_type": "markdown",
      "id": "0d026edc-e2df-4952-af24-a9e14a4af759",
      "metadata": {
        "slideshow": {
          "slide_type": "slide"
        },
        "tags": []
      },
      "source": [
        "## analysis in a headless browser"
      ]
    },
    {
      "cell_type": "code",
      "execution_count": 9,
      "id": "cbb51b72-0976-4cfa-ad53-229558dc1136",
      "metadata": {
        "slideshow": {
          "slide_type": "fragment"
        },
        "tags": []
      },
      "outputs": [],
      "source": [
        "    async def get_headless(file):\n",
        "        import playwright.async_api\n",
        "        from shlex import split\n",
        "        async with playwright.async_api.async_playwright() as play:\n",
        "            browser = await play.chromium.launch(\n",
        "                args=split('--enable-blink-features=\"AccessibilityObjectModel\"'),\n",
        "                headless=True, \n",
        "                channel=\"chrome-beta\"\n",
        "            )\n",
        "            page = await browser.new_page()\n",
        "            state = await page.goto(file.absolute().as_uri())\n",
        "            data = await page.accessibility.snapshot()\n",
        "            await browser.close()\n",
        "        return data\n",
        "        "
      ]
    },
    {
      "cell_type": "markdown",
      "id": "a3ffd9e7-1a02-4deb-a284-c5c1537e2f17",
      "metadata": {
        "slideshow": {
          "slide_type": "subslide"
        },
        "tags": []
      },
      "source": [
        "### comparing results"
      ]
    },
    {
      "cell_type": "markdown",
      "id": "351a9155-4a10-451f-95ba-9a053279d7e8",
      "metadata": {
        "slideshow": {
          "slide_type": "fragment"
        },
        "tags": []
      },
      "source": [
        "    import pandas\n",
        "    df = pandas.DataFrame(await get_headless(source)); df"
      ]
    },
    {
      "cell_type": "markdown",
      "id": "24809a4b-84cd-4ad1-a9a9-d8614defaf7c",
      "metadata": {
        "slideshow": {
          "slide_type": "subslide"
        },
        "tags": []
      },
      "source": [
        "    A = df.children.apply(pandas.Series).set_index(\"role\")\n",
        "    B = pandas.DataFrame(await get_headless(target)).children.apply(pandas.Series).set_index(\"role\")\n",
        "    display(\"old\", A.T, \"new\", B.T)"
      ]
    },
    {
      "cell_type": "markdown",
      "id": "4c876b2e-4bb1-44f3-8482-97f2673c9ad6",
      "metadata": {
        "slideshow": {
          "slide_type": "slide"
        },
        "tags": []
      },
      "source": [
        "## usage in manual testing\n",
        "\n",
        "`nbconvert_html5` has the hooks to work with `jupyter`s normal command line tool."
      ]
    },
    {
      "cell_type": "code",
      "execution_count": 10,
      "id": "2ccba80d-dfa5-4f95-9ba4-ae725119858f",
      "metadata": {
        "slideshow": {
          "slide_type": "fragment"
        },
        "tags": []
      },
      "outputs": [
        {
          "name": "stdout",
          "output_type": "stream",
          "text": [
            "Writing jupyter_nbconvert_config.py\n"
          ]
        }
      ],
      "source": [
        "    %%file jupyter_nbconvert_config.py\n",
        "    from unittest.mock import Mock    \n",
        "    c = locals().get(\"c\", Mock()) \n",
        "    with __import__(\"importnb\").Notebook():\n",
        "        from __static_notebook_tags import get_html\n",
        "    c.TemplateExporter.post_processor = get_html\n",
        "    \n",
        "    # or put your methods in here. \n",
        "    # what are the A/B tests today?"
      ]
    },
    {
      "cell_type": "code",
      "execution_count": null,
      "id": "731e63e7-c1b8-4961-a6fe-afd418abb51f",
      "metadata": {
        "slideshow": {
          "slide_type": "fragment"
        },
        "tags": []
      },
      "outputs": [
        {
          "name": "stdout",
          "output_type": "stream",
          "text": [
            "[NbConvertApp] WARNING | Config option `kernel_spec_manager_class` not recognized by `NbConvertApp`.\n"
          ]
        }
      ],
      "source": [
        "    if __name__ == \"__main__\" and \"__file__\" not in locals():\n",
        "        !jupyter nbconvert --to html5 --stdout 2022-10-25-static-notebook-tags.ipynb"
      ]
    },
    {
      "cell_type": "code",
      "execution_count": null,
      "id": "b294fd89-cccc-46eb-a108-f419dd652d37",
      "metadata": {},
      "outputs": [],
      "source": []
    }
  ],
  "metadata": {
    "kernelspec": {
      "display_name": "Python [conda env:root] *",
      "language": "python",
      "name": "conda-root-py"
    },
    "language_info": {
      "codemirror_mode": {
        "name": "ipython",
        "version": 3
      },
      "file_extension": ".py",
      "mimetype": "text/x-python",
      "name": "python",
      "nbconvert_exporter": "python",
      "pygments_lexer": "ipython3",
      "version": "3.9.10"
    }
  },
  "nbformat": 4,
  "nbformat_minor": 5
}