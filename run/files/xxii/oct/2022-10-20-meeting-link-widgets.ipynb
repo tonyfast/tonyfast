{
  "cells": [
    {
      "cell_type": "markdown",
      "metadata": {},
      "source": [
        "# making meeting links"
      ]
    },
    {
      "cell_type": "markdown",
      "metadata": {},
      "source": [
        "i need to be able to make meetings with folks.\n",
        "those meetings will often contain:\n",
        "\n",
        "* some content\n",
        "* real time collaboration\n",
        "* video chat\n",
        "\n",
        "the notebooks builds a link for a video chat and real collaboration.\n",
        "\n",
        "this system feels pretty de-platformated using `jupyterlab`s native rtc\n",
        "and `jitsi` video chat. ping me on twitter if you want a tour sometime.\n",
        "\n",
        "in the future we can build: binder links, icalendar events."
      ]
    },
    {
      "cell_type": "code",
      "execution_count": 3,
      "metadata": {},
      "outputs": [],
      "source": [
        "    %pip install uritemplate arrow traitlets icalendar ipywidgets\n",
        "    try:\n",
        "        import ipywidgets, icalendar, dataclasses, uritemplate, traitlets, arrow\n",
        "    except: \n",
        "        await __import__(\"micropip\").install(\"ipywidgets icalendar dataclasses uritemplate traitlets arrow\".split())\n",
        "        import ipywidgets, icalendar, dataclasses, uritemplate, traitlets, arrow\n",
        "    from functools import partial; from ipywidgets import *"
      ]
    },
    {
      "cell_type": "code",
      "execution_count": 4,
      "metadata": {},
      "outputs": [],
      "source": [
        "    video = Text(\"in-this-house-we-wear-sweatpants\", description=\"\ud83d\udcf9 video chat\")\n",
        "    rtc = Text(\"exquisite-potluck\", description=\"\ud83e\udd1d real time collaboration\")\n",
        "    document = Text(\"\", description=\"\ud83d\udcc4 file path\")\n",
        "    input = list(zip(\"JVC-PUBLIC room path\".split(), [video, rtc, document]))\n",
        "    lite_url = HTML(\"\", description=\"\ud83d\udca1 lite\")\n",
        "    "
      ]
    },
    {
      "cell_type": "markdown",
      "metadata": {},
      "source": [
        "`update_lite_url` formats the `input` widgets using a uri template.    "
      ]
    },
    {
      "cell_type": "code",
      "execution_count": 5,
      "metadata": {},
      "outputs": [],
      "source": [
        "    def update_lite_url(*\u0394, lite_template = \"https://tonyfast.github.io/tonyfast/run/lab{?room,JVC-PUBLIC,path}\"):\n",
        "        url = uritemplate.URITemplate(lite_template).expand(dict(\n",
        "            (k, v.value) for k, v in input if v.value))\n",
        "        lite_url.value = F\"\"\"<a href=\"{url}\">{url}</a>\"\"\""
      ]
    },
    {
      "cell_type": "markdown",
      "metadata": {},
      "source": [
        "initialize the widget interactions"
      ]
    },
    {
      "cell_type": "code",
      "execution_count": 6,
      "metadata": {},
      "outputs": [],
      "source": [
        "    for k, widget in input: widget.observe(update_lite_url, \"value\")\n",
        "    update_lite_url()"
      ]
    },
    {
      "cell_type": "markdown",
      "metadata": {},
      "source": [
        "make the `app` and start tinkering with it."
      ]
    },
    {
      "cell_type": "code",
      "execution_count": 7,
      "metadata": {},
      "outputs": [
        {
          "data": {
            "application/vnd.jupyter.widget-view+json": {
              "model_id": "272e5d2c4bf24e4c92914e68ec29b125",
              "version_major": 2,
              "version_minor": 0
            },
            "text/plain": [
              "VBox(children=(Text(value='in-this-house-we-wear-sweatpants', description='\ud83d\udcf9 video chat'), Text(value='exquisi\u2026"
            ]
          },
          "metadata": {},
          "output_type": "display_data"
        }
      ],
      "source": [
        "    app = VBox([x[1] for x in input] + [lite_url]); app"
      ]
    },
    {
      "cell_type": "markdown",
      "metadata": {},
      "source": [
        "i suspect i'll reuse this document to meet with folks, and build some more tooling for it."
      ]
    }
  ],
  "metadata": {
    "kernelspec": {
      "display_name": "Python [conda env:root] *",
      "language": "python",
      "name": "conda-root-py"
    },
    "language_info": {
      "codemirror_mode": {
        "name": "ipython",
        "version": 3
      },
      "file_extension": ".py",
      "mimetype": "text/x-python",
      "name": "python",
      "nbconvert_exporter": "python",
      "pygments_lexer": "ipython3",
      "version": "3.9.10"
    }
  },
  "nbformat": 4,
  "nbformat_minor": 4
}