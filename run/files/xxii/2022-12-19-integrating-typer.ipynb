{
  "cells": [
    {
      "cell_type": "markdown",
      "id": "f6c1e76a-4347-4a78-b584-cf6720c76380",
      "metadata": {},
      "source": [
        "# integrating `typer` into the blog\n",
        "\n",
        "in this blog, posts are programs and they are designed to be reused in python.\n",
        "that means that we want to be able to reuse code and narrative as much as possible. \n",
        "\n",
        "\n",
        "\n",
        "* add command to __main__\n"
      ]
    },
    {
      "cell_type": "code",
      "execution_count": 44,
      "id": "fed91bf5-ef62-4505-a9e1-aba744e3a47b",
      "metadata": {},
      "outputs": [],
      "source": [
        "    %pip install typer doit tonyfast\n",
        "    IMPORTED,MAIN = \"__file__\" in locals(),  __name__ == \"__main__\"; \u00d8 = not IMPORTED and MAIN"
      ]
    },
    {
      "cell_type": "markdown",
      "id": "8e2c08eb-ad0d-438d-a6dc-a45fe5048448",
      "metadata": {},
      "source": [
        "## a small example\n",
        "\n",
        "the first example we'll describe is a simple function with little consequence.\n",
        "this will validate our integration."
      ]
    },
    {
      "cell_type": "code",
      "execution_count": 45,
      "id": "4d0fb335-a5f9-4d43-b34b-87219126a9be",
      "metadata": {},
      "outputs": [],
      "source": [
        "    def main(greeting: str = \"howdy\", name: str=\"tony\"):\n",
        "        \"\"\"a nothing function that says hi to the audience\"\"\"\n",
        "        print(greeting, name)"
      ]
    },
    {
      "cell_type": "markdown",
      "id": "555ced1a-b22a-47e7-ba3d-32d106ebb0af",
      "metadata": {},
      "source": [
        "invoking the command line"
      ]
    },
    {
      "cell_type": "code",
      "execution_count": 25,
      "id": "edaec782-35a3-4250-b390-bdc47d962282",
      "metadata": {},
      "outputs": [
        {
          "name": "stdout",
          "output_type": "stream",
          "text": [
            "\u001b[1m                                                                                \u001b[0m\n",
            "\u001b[1m \u001b[0m\u001b[1;33mUsage: \u001b[0m\u001b[1mpython \u001b[0m\u001b[1;32m-m\u001b[0m\u001b[1m tonyfast [OPTIONS] COMMAND [ARGS]...\u001b[0m\u001b[1m                         \u001b[0m\u001b[1m \u001b[0m\n",
            "\u001b[1m                                                                                \u001b[0m\n",
            "\u001b[2m\u256d\u2500\u001b[0m\u001b[2m Options \u001b[0m\u001b[2m\u2500\u2500\u2500\u2500\u2500\u2500\u2500\u2500\u2500\u2500\u2500\u2500\u2500\u2500\u2500\u2500\u2500\u2500\u2500\u2500\u2500\u2500\u2500\u2500\u2500\u2500\u2500\u2500\u2500\u2500\u2500\u2500\u2500\u2500\u2500\u2500\u2500\u2500\u2500\u2500\u2500\u2500\u2500\u2500\u2500\u2500\u2500\u2500\u2500\u2500\u2500\u2500\u2500\u2500\u2500\u2500\u2500\u2500\u2500\u2500\u2500\u2500\u2500\u2500\u2500\u2500\u2500\u001b[0m\u001b[2m\u2500\u256e\u001b[0m\n",
            "\u001b[2m\u2502\u001b[0m \u001b[1;36m-\u001b[0m\u001b[1;36m-help\u001b[0m  \u001b[1;32m-h\u001b[0m        Show this message and exit.                                \u001b[2m\u2502\u001b[0m\n",
            "\u001b[2m\u2570\u2500\u2500\u2500\u2500\u2500\u2500\u2500\u2500\u2500\u2500\u2500\u2500\u2500\u2500\u2500\u2500\u2500\u2500\u2500\u2500\u2500\u2500\u2500\u2500\u2500\u2500\u2500\u2500\u2500\u2500\u2500\u2500\u2500\u2500\u2500\u2500\u2500\u2500\u2500\u2500\u2500\u2500\u2500\u2500\u2500\u2500\u2500\u2500\u2500\u2500\u2500\u2500\u2500\u2500\u2500\u2500\u2500\u2500\u2500\u2500\u2500\u2500\u2500\u2500\u2500\u2500\u2500\u2500\u2500\u2500\u2500\u2500\u2500\u2500\u2500\u2500\u2500\u2500\u256f\u001b[0m\n",
            "\u001b[2m\u256d\u2500\u001b[0m\u001b[2m Commands \u001b[0m\u001b[2m\u2500\u2500\u2500\u2500\u2500\u2500\u2500\u2500\u2500\u2500\u2500\u2500\u2500\u2500\u2500\u2500\u2500\u2500\u2500\u2500\u2500\u2500\u2500\u2500\u2500\u2500\u2500\u2500\u2500\u2500\u2500\u2500\u2500\u2500\u2500\u2500\u2500\u2500\u2500\u2500\u2500\u2500\u2500\u2500\u2500\u2500\u2500\u2500\u2500\u2500\u2500\u2500\u2500\u2500\u2500\u2500\u2500\u2500\u2500\u2500\u2500\u2500\u2500\u2500\u2500\u2500\u001b[0m\u001b[2m\u2500\u256e\u001b[0m\n",
            "\u001b[2m\u2502\u001b[0m \u001b[1;36mhello   \u001b[0m\u001b[1;36m \u001b[0m a nothing function that says hi to the audience                    \u001b[2m\u2502\u001b[0m\n",
            "\u001b[2m\u2502\u001b[0m \u001b[1;36mtasks   \u001b[0m\u001b[1;36m \u001b[0m run doit tasks                                                     \u001b[2m\u2502\u001b[0m\n",
            "\u001b[2m\u2570\u2500\u2500\u2500\u2500\u2500\u2500\u2500\u2500\u2500\u2500\u2500\u2500\u2500\u2500\u2500\u2500\u2500\u2500\u2500\u2500\u2500\u2500\u2500\u2500\u2500\u2500\u2500\u2500\u2500\u2500\u2500\u2500\u2500\u2500\u2500\u2500\u2500\u2500\u2500\u2500\u2500\u2500\u2500\u2500\u2500\u2500\u2500\u2500\u2500\u2500\u2500\u2500\u2500\u2500\u2500\u2500\u2500\u2500\u2500\u2500\u2500\u2500\u2500\u2500\u2500\u2500\u2500\u2500\u2500\u2500\u2500\u2500\u2500\u2500\u2500\u2500\u2500\u2500\u256f\u001b[0m\n",
            "\n"
          ]
        }
      ],
      "source": [
        "    if \u00d8:\n",
        "        !python -m tonyfast"
      ]
    },
    {
      "cell_type": "code",
      "execution_count": 26,
      "id": "b89fa7be-33d8-4d53-bf40-8cc45ed75bfc",
      "metadata": {},
      "outputs": [
        {
          "name": "stdout",
          "output_type": "stream",
          "text": [
            "howdy y'all\n"
          ]
        }
      ],
      "source": [
        "    if \u00d8:\n",
        "        !python -m tonyfast hello --name y\\'all"
      ]
    },
    {
      "cell_type": "markdown",
      "id": "8f664a85-570c-4f51-aaa8-4d273dd77aed",
      "metadata": {},
      "source": [
        "this is a nice example to start with because it allows us to consider what our works look like as literature."
      ]
    },
    {
      "cell_type": "markdown",
      "id": "afa4ea80-1ebc-4d18-b0a0-21a12d4d760d",
      "metadata": {},
      "source": [
        "## a more complex example\n",
        "\n",
        "in a recent post, we made it possible add `doit` tasks to the blog."
      ]
    },
    {
      "cell_type": "code",
      "execution_count": 46,
      "id": "2ca6610e-481c-42da-adef-0386d7a2a665",
      "metadata": {},
      "outputs": [],
      "source": [
        "    from typer import Typer, Context\n",
        "    app= Typer(rich_markup_mode=\"rich\")\n",
        "    \n",
        "    @app.command(context_settings={\"allow_extra_args\": True, \"ignore_unknown_options\": True})\n",
        "    def tasks(ctx: Context):\n",
        "        \"\"\"run doit tasks\"\"\"\n",
        "        from doit.doit_cmd import DoitMain\n",
        "        from doit.cmd_base import ModuleTaskLoader\n",
        "        from tonyfast import dodo\n",
        "\n",
        "        return DoitMain(ModuleTaskLoader(dodo)).run(ctx.args)"
      ]
    },
    {
      "cell_type": "markdown",
      "id": "99877e7c-db06-4136-ad2d-69eea306934c",
      "metadata": {},
      "source": [
        "verifying the `doit` commands"
      ]
    },
    {
      "cell_type": "code",
      "execution_count": 47,
      "id": "effce6f1-c963-4b9c-bbaf-5355cc716ab2",
      "metadata": {},
      "outputs": [
        {
          "name": "stdout",
          "output_type": "stream",
          "text": [
            "R mkdocs         build document with mkdocs\n",
            "R mkdocs:build   \n",
            "R mkdocs:toc     \n"
          ]
        }
      ],
      "source": [
        "    if \u00d8:\n",
        "        !python -m tonyfast tasks list --status --all"
      ]
    },
    {
      "cell_type": "markdown",
      "id": "8cfebb4d-1fde-4e7f-8003-93bc15e5cfa8",
      "metadata": {},
      "source": [
        "## invoking this document as a standalone script\n",
        "\n"
      ]
    },
    {
      "cell_type": "code",
      "execution_count": 42,
      "id": "a8d70f1b-ac19-4704-9fa8-9871f66273f2",
      "metadata": {},
      "outputs": [],
      "source": [
        "    if IMPORTED and MAIN:\n",
        "        app.command(name=\"hello\")(main)\n",
        "        app()"
      ]
    },
    {
      "cell_type": "code",
      "execution_count": 43,
      "id": "1f020cbc-14ca-461e-9a59-f57b98bce0dd",
      "metadata": {},
      "outputs": [
        {
          "name": "stdout",
          "output_type": "stream",
          "text": [
            "\u001b[1m                                                                                \u001b[0m\n",
            "\u001b[1m \u001b[0m\u001b[1;33mUsage: \u001b[0m\u001b[1m2022-12-19-integrating-typer.ipynb [OPTIONS] COMMAND [ARGS]...\u001b[0m\u001b[1m         \u001b[0m\u001b[1m \u001b[0m\n",
            "\u001b[1m                                                                                \u001b[0m\n",
            "\u001b[2m\u256d\u2500\u001b[0m\u001b[2m Options \u001b[0m\u001b[2m\u2500\u2500\u2500\u2500\u2500\u2500\u2500\u2500\u2500\u2500\u2500\u2500\u2500\u2500\u2500\u2500\u2500\u2500\u2500\u2500\u2500\u2500\u2500\u2500\u2500\u2500\u2500\u2500\u2500\u2500\u2500\u2500\u2500\u2500\u2500\u2500\u2500\u2500\u2500\u2500\u2500\u2500\u2500\u2500\u2500\u2500\u2500\u2500\u2500\u2500\u2500\u2500\u2500\u2500\u2500\u2500\u2500\u2500\u2500\u2500\u2500\u2500\u2500\u2500\u2500\u2500\u2500\u001b[0m\u001b[2m\u2500\u256e\u001b[0m\n",
            "\u001b[2m\u2502\u001b[0m \u001b[1;36m-\u001b[0m\u001b[1;36m-install\u001b[0m\u001b[1;36m-completion\u001b[0m          Install completion for the current shell.      \u001b[2m\u2502\u001b[0m\n",
            "\u001b[2m\u2502\u001b[0m \u001b[1;36m-\u001b[0m\u001b[1;36m-show\u001b[0m\u001b[1;36m-completion\u001b[0m             Show completion for the current shell, to copy \u001b[2m\u2502\u001b[0m\n",
            "\u001b[2m\u2502\u001b[0m                               it or customize the installation.              \u001b[2m\u2502\u001b[0m\n",
            "\u001b[2m\u2502\u001b[0m \u001b[1;36m-\u001b[0m\u001b[1;36m-help\u001b[0m                        Show this message and exit.                    \u001b[2m\u2502\u001b[0m\n",
            "\u001b[2m\u2570\u2500\u2500\u2500\u2500\u2500\u2500\u2500\u2500\u2500\u2500\u2500\u2500\u2500\u2500\u2500\u2500\u2500\u2500\u2500\u2500\u2500\u2500\u2500\u2500\u2500\u2500\u2500\u2500\u2500\u2500\u2500\u2500\u2500\u2500\u2500\u2500\u2500\u2500\u2500\u2500\u2500\u2500\u2500\u2500\u2500\u2500\u2500\u2500\u2500\u2500\u2500\u2500\u2500\u2500\u2500\u2500\u2500\u2500\u2500\u2500\u2500\u2500\u2500\u2500\u2500\u2500\u2500\u2500\u2500\u2500\u2500\u2500\u2500\u2500\u2500\u2500\u2500\u2500\u256f\u001b[0m\n",
            "\u001b[2m\u256d\u2500\u001b[0m\u001b[2m Commands \u001b[0m\u001b[2m\u2500\u2500\u2500\u2500\u2500\u2500\u2500\u2500\u2500\u2500\u2500\u2500\u2500\u2500\u2500\u2500\u2500\u2500\u2500\u2500\u2500\u2500\u2500\u2500\u2500\u2500\u2500\u2500\u2500\u2500\u2500\u2500\u2500\u2500\u2500\u2500\u2500\u2500\u2500\u2500\u2500\u2500\u2500\u2500\u2500\u2500\u2500\u2500\u2500\u2500\u2500\u2500\u2500\u2500\u2500\u2500\u2500\u2500\u2500\u2500\u2500\u2500\u2500\u2500\u2500\u2500\u001b[0m\u001b[2m\u2500\u256e\u001b[0m\n",
            "\u001b[2m\u2502\u001b[0m \u001b[1;36mhello   \u001b[0m\u001b[1;36m \u001b[0m a nothing function that says hi to the audience                    \u001b[2m\u2502\u001b[0m\n",
            "\u001b[2m\u2502\u001b[0m \u001b[1;36mtasks   \u001b[0m\u001b[1;36m \u001b[0m run doit tasks                                                     \u001b[2m\u2502\u001b[0m\n",
            "\u001b[2m\u2570\u2500\u2500\u2500\u2500\u2500\u2500\u2500\u2500\u2500\u2500\u2500\u2500\u2500\u2500\u2500\u2500\u2500\u2500\u2500\u2500\u2500\u2500\u2500\u2500\u2500\u2500\u2500\u2500\u2500\u2500\u2500\u2500\u2500\u2500\u2500\u2500\u2500\u2500\u2500\u2500\u2500\u2500\u2500\u2500\u2500\u2500\u2500\u2500\u2500\u2500\u2500\u2500\u2500\u2500\u2500\u2500\u2500\u2500\u2500\u2500\u2500\u2500\u2500\u2500\u2500\u2500\u2500\u2500\u2500\u2500\u2500\u2500\u2500\u2500\u2500\u2500\u2500\u2500\u256f\u001b[0m\n",
            "\n"
          ]
        }
      ],
      "source": [
        "    if \u00d8:\n",
        "        !importnb 2022-12-19-integrating-typer.ipynb --help"
      ]
    }
  ],
  "metadata": {
    "kernelspec": {
      "display_name": "Python [conda env:root] *",
      "language": "python",
      "name": "conda-root-py"
    },
    "language_info": {
      "codemirror_mode": {
        "name": "ipython",
        "version": 3
      },
      "file_extension": ".py",
      "mimetype": "text/x-python",
      "name": "python",
      "nbconvert_exporter": "python",
      "pygments_lexer": "ipython3",
      "version": "3.9.13"
    }
  },
  "nbformat": 4,
  "nbformat_minor": 5
}