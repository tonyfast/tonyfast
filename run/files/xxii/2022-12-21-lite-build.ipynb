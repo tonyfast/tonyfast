{
  "cells": [
    {
      "cell_type": "markdown",
      "id": "6907976b-bf65-41a8-89b3-bf864502712f",
      "metadata": {},
      "source": [
        "# `jupyterlite` blog integration\n",
        "\n",
        "i've always thought of blog posts as a means, not an ends.\n",
        "my dream has always been content that myself and others can execute themselves.\n",
        "often this goal has been hindered by the need for infrastructure.\n",
        "advances in the `jupyterlite` have made it possible to realize this vision without infrastructure.\n",
        "\n",
        "`jupyterlite` is jupyterlab running completely in the browser without the need for a local server.\n",
        "this means that folks can redirect from a static post into an interactive version they can try themselves.\n",
        "\n",
        "## `jupyterlite` notebooks are different\n",
        "\n",
        "when working with a standard jupyter implementation we are interacting with a server within an implicit environment. when we write our notebooks we assume that we can import modules because they are in our environment. however, in `jupyterlite` we need to explicitly define our dependencies for every notebook.\n",
        "\n",
        "we define our dependencies by inserting the `pip` line magic:\n",
        "\n",
        "    %pip install my dependencies\n",
        "    \n",
        "this statement is superfluous under normal circumstances so it doesn't need to exist in the source.\n",
        "instead we use the `depfinder` project to infer the projects imported by our notebook.\n",
        "the inferred dependencies are then inserted in to the first line of the first code cell of the notebook."
      ]
    },
    {
      "cell_type": "markdown",
      "id": "601a7621-1a06-4378-a11b-bf2f953b8a97",
      "metadata": {},
      "source": [
        "## the `doit lite` implementation\n",
        "\n",
        "in the code that follow we define a `doit` task that:\n",
        "1. builds a `jupyterlite` site for this blog\n",
        "2. make the dependencies compatible with `jupyterlite`"
      ]
    },
    {
      "cell_type": "code",
      "execution_count": 1,
      "id": "035819f1-da11-42dd-9394-8ae9defb2f37",
      "metadata": {},
      "outputs": [],
      "source": [
        "    %pip install tonyfast depfinder midgy\n",
        "    def task_lite():\n",
        "        \"\"\"build the jupyter lite site and append requirements\"\"\"\n",
        "        return dict(\n",
        "            actions=[\n",
        "                \"jupyter lite build --contents tonyfast --output-dir site/run\",\n",
        "                (set_files_imports, (pathlib.Path(\"site/run/files\"),))\n",
        "            ],\n",
        "            clean=[\"rm -rf site/run\"]\n",
        "        )\n",
        "\n",
        "    import typing, tonyfast, pathlib, textwrap, re, json"
      ]
    },
    {
      "cell_type": "markdown",
      "id": "17547381-d8e8-4d95-ad45-093a8eddb39f",
      "metadata": {},
      "source": [
        "## discovering imports with `depfinder`\n",
        "\n",
        " following sections we'll build the methods for discovering imports with `depfinder`"
      ]
    },
    {
      "cell_type": "markdown",
      "id": "2d31745b-144e-45c1-9aef-09f6d0d554cf",
      "metadata": {},
      "source": [
        "`set_files_imports` iterates through a directory and amends notebooks to work in `jupyterlite`"
      ]
    },
    {
      "cell_type": "code",
      "execution_count": 2,
      "id": "767ee9d0-1009-457d-b3a8-ba1b4a079bbc",
      "metadata": {},
      "outputs": [],
      "source": [
        "    def set_files_imports(FILES: typing.Iterable[pathlib.Path]=(\n",
        "        FILES := (WHERE := pathlib.Path(tonyfast.__file__).parent.parent) / \"site/run/files\"\n",
        "    )) -> None:\n",
        "        for file in FILES.rglob(\"*.ipynb\"):  set_file_imports(file)"
      ]
    },
    {
      "cell_type": "markdown",
      "id": "52cf3001-b6ac-4ba6-876d-7c47419dec87",
      "metadata": {},
      "source": [
        "`get_imports` finds the imports in each cell"
      ]
    },
    {
      "cell_type": "code",
      "execution_count": 3,
      "id": "e882c5ea-d3b5-45b2-8476-e47eb4f2e03a",
      "metadata": {},
      "outputs": [],
      "source": [
        "    def get_imports(cell: dict, pidgy=False) -> set:\n",
        "        import depfinder\n",
        "        __import__(\"requests_cache\").install_cache()\n",
        "        source = \"\".join(cell[\"source\"])\n",
        "        if pidgy:\n",
        "            source = tangle.render(source)\n",
        "        source = textwrap.dedent(source)\n",
        "        try:\n",
        "            found = depfinder.inspection.get_imported_libs(source)\n",
        "            return found.required_modules.union(found.sketchy_modules)\n",
        "        except BaseException as e:\n",
        "            return"
      ]
    },
    {
      "cell_type": "markdown",
      "id": "5c0f0fb4-43c6-463f-a97e-77272003659d",
      "metadata": {},
      "source": [
        "`get_deps` transforms inputs to dependencies.\n",
        "\n",
        "some dependencies may require extra features to work in `jupyterlite` and they are appended here."
      ]
    },
    {
      "cell_type": "code",
      "execution_count": 4,
      "id": "14081144-d38f-4430-a4da-b89ffd16f2f9",
      "metadata": {},
      "outputs": [],
      "source": [
        "    mapping = dict(bs4=\"beautifulsoup4\")\n",
        "    def get_deps(deps: set) -> set:\n",
        "        if \"requests\" in deps: deps.add(\"pyodide-http\")\n",
        "        if \"pandas\" in deps: deps.add(\"jinja2\")\n",
        "        return {\n",
        "            mapping.get(x, x) for x in deps \n",
        "            if not x.startswith(\"_\") or x not in {\"tonyfast\"}\n",
        "        }"
      ]
    },
    {
      "cell_type": "markdown",
      "id": "0e33e413-b2a5-48d9-835b-724c02085a2d",
      "metadata": {},
      "source": [
        "### handling `pidgy` documents\n",
        "\n",
        "some documents might use [pidgy] syntax that need to be dealt with."
      ]
    },
    {
      "cell_type": "code",
      "execution_count": 5,
      "id": "619eb956-9cf0-4d86-9a2c-e21583891417",
      "metadata": {},
      "outputs": [],
      "source": [
        "    PIDGY = re.compile(\"^\\s*%(re)?load_ext\\s*pidgy\")\n",
        "    from midgy import Python; tangle = Python()\n",
        "    def has_pidgy(nb: dict):\n",
        "        yes = False\n",
        "        for _, cell in iter_code_cells(nb):\n",
        "            yes = yes or PIDGY.match(\"\".join(cell[\"source\"])) and True\n",
        "        return yes"
      ]
    },
    {
      "cell_type": "markdown",
      "id": "c4990992-c7d7-4dcf-9d4e-a8b2cf130799",
      "metadata": {},
      "source": [
        "### updating the `jupyterlite` notebooks\n",
        "\n",
        "these methods are meant to operate on the contents of a `jupyterlite` not the raw notebooks."
      ]
    },
    {
      "cell_type": "markdown",
      "id": "2841864a-4b81-4f23-b928-d8f8867332a4",
      "metadata": {},
      "source": [
        "`set_file_imports` operates in one file discovers dependencies and writes code back to the source."
      ]
    },
    {
      "cell_type": "code",
      "execution_count": 6,
      "id": "d9b05e94-3a1c-4b40-a40c-25262eef8d08",
      "metadata": {},
      "outputs": [],
      "source": [
        "    def set_file_imports(file: pathlib.Path) -> None:\n",
        "        data = json.loads(file.read_text())\n",
        "        deps, first = set(), None\n",
        "        pidgy = has_pidgy(data)\n",
        "        for no, cell in iter_code_cells(data):\n",
        "            if first is None:\n",
        "                first = no\n",
        "            if pidgy:\n",
        "                data[\"cells\"][no][\"metadata\"].setdefault(\"jupyter\", {})[\"source_hidden\"] = True\n",
        "            deps.update(get_imports(cell, pidgy) or [])\n",
        "            \n",
        "        deps = get_deps(deps)\n",
        "        if pidgy:\n",
        "            deps.add(\"pidgy\")\n",
        "        if deps and (first is not None):\n",
        "            cell = data[\"cells\"][first]\n",
        "            was_str = isinstance(cell[\"source\"], str)\n",
        "            if was_str:\n",
        "                cell[\"source\"] = cell[\"source\"].splitlines(1)\n",
        "            for i, line in enumerate(list(cell[\"source\"])):\n",
        "                if (left := line.lstrip()):\n",
        "                    if left.startswith((\"%pip install\",)):\n",
        "                        break\n",
        "                    indent = len(line) - len(left)                    \n",
        "                    if \"pyodide-http\" in deps:\n",
        "                        data[\"cells\"][first][\"source\"].insert(i, \" \"*indent + \"__import__('pyodide_http').patch_all()\\n\")\n",
        "                    data[\"cells\"][first][\"source\"].insert(i, \" \"*indent + \"%pip install \" + \" \".join(deps) +\"\\n\")\n",
        "                    print(F\"writing {len(set(deps))} pip requirements to {file}\")\n",
        "                    file.write_text(json.dumps(data, indent=2))\n",
        "                    break\n",
        "        else:\n",
        "            print(F'no deps for {file}')"
      ]
    },
    {
      "cell_type": "markdown",
      "id": "0323dfc5-368e-4fa6-b33f-8082fe77567b",
      "metadata": {},
      "source": [
        "`set_files_imports` sets the dependencies for a lot of files."
      ]
    },
    {
      "cell_type": "code",
      "execution_count": 7,
      "id": "319920b1-1aa6-434c-af83-9e291ff3f95a",
      "metadata": {},
      "outputs": [],
      "source": [
        "    def set_files_imports(FILES: typing.Iterable[pathlib.Path]=FILES):\n",
        "        for file in FILES.rglob(\"*.ipynb\"):\n",
        "            set_file_imports(file)\n",
        "            "
      ]
    },
    {
      "cell_type": "markdown",
      "id": "f3347e68-ab74-441a-980c-a689c21adb7e",
      "metadata": {},
      "source": [
        "`iter_code_cells` iterates through just the code cells."
      ]
    },
    {
      "cell_type": "code",
      "execution_count": 8,
      "id": "e9447a07-d253-4a99-93a0-b02d12c9c5f9",
      "metadata": {},
      "outputs": [],
      "source": [
        "    def iter_code_cells(nb: dict) -> typing.Iterator[tuple[int, dict]]:\n",
        "        for i, cell in enumerate(nb[\"cells\"]):\n",
        "            if cell[\"cell_type\"] == \"code\":\n",
        "                yield i, cell"
      ]
    },
    {
      "cell_type": "markdown",
      "id": "d232c491-7dd4-47de-9db9-4ddd0f0b97f1",
      "metadata": {},
      "source": [
        "## usage\n",
        "\n",
        "* from the `tonyfast` module, requires deps"
      ]
    },
    {
      "cell_type": "code",
      "execution_count": 9,
      "id": "34e320cb-809e-4556-be61-b0f12b50f495",
      "metadata": {},
      "outputs": [
        {
          "name": "stdout",
          "output_type": "stream",
          "text": [
            "\n",
            "lite\n",
            "\n",
            "build the jupyter lite site and append requirements\n",
            "\n",
            "status     : run\n",
            " * The task has no dependencies.\n"
          ]
        }
      ],
      "source": [
        "    if (I := '__file__' not in locals()):\n",
        "        !python -m tonyfast tasks info lite"
      ]
    },
    {
      "cell_type": "markdown",
      "id": "dc0ec271-3855-44b7-847c-332ed06c82cd",
      "metadata": {},
      "source": [
        "* from post with `importnb`"
      ]
    },
    {
      "cell_type": "code",
      "execution_count": 10,
      "id": "4d8cdaf7-1590-464c-8331-846c4358b68d",
      "metadata": {},
      "outputs": [
        {
          "name": "stdout",
          "output_type": "stream",
          "text": [
            "lite   build the jupyter lite site and append requirements\n"
          ]
        }
      ],
      "source": [
        "    if (I := '__file__' not in locals()):\n",
        "        !importnb -t 2022-12-21-lite-build.ipynb list"
      ]
    },
    {
      "cell_type": "markdown",
      "id": "5cd9449c-d003-49c6-80a4-408d01ccbe9d",
      "metadata": {},
      "source": [
        "* run this task from `hatch` in the root of the project. the `hatch` environment has all the necessary dependencies defined.\n",
        "\n",
        "        hatch run lite:build"
      ]
    }
  ],
  "metadata": {
    "kernelspec": {
      "display_name": "Python [conda env:root] *",
      "language": "python",
      "name": "conda-root-py"
    },
    "language_info": {
      "codemirror_mode": {
        "name": "ipython",
        "version": 3
      },
      "file_extension": ".py",
      "mimetype": "text/x-python",
      "name": "python",
      "nbconvert_exporter": "python",
      "pygments_lexer": "ipython3",
      "version": "3.9.13"
    }
  },
  "nbformat": 4,
  "nbformat_minor": 5
}