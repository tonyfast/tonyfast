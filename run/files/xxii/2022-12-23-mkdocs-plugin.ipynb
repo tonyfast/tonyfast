{
  "cells": [
    {
      "cell_type": "markdown",
      "id": "8209f189-924c-408b-a4f7-5ceb9721f8ca",
      "metadata": {},
      "source": [
        "# `mkdocs` plugin for jupyter notebooks\n",
        "\n",
        "i think i want more control of how `mkdocs` renders notebooks.\n",
        "i've been using [`mkdocs-jupyter`][mkdocs-jupyter] for a while and it is great,\n",
        "but i need more knobs.\n",
        "\n",
        "my particular need is to configure `nbconvert` exporters with more fine grain control than what [`mkdocs-jupyter`][mkdocs-jupyter] offers.\n",
        "the major difference is we are going to target markdown output rather than html.\n",
        "\n",
        "[mkdocs-jupyter]: https://github.com/danielfrg/mkdocs-jupyter\n",
        "[plugin]: https://www.mkdocs.org/dev-guide/plugins/"
      ]
    },
    {
      "cell_type": "markdown",
      "id": "6c2edbce-22fc-4819-845e-4aa40933daed",
      "metadata": {},
      "source": [
        "## checklist for successfully integrating the plugin\n",
        "\n",
        "steps to adding a [`mkdocs` plugin][plugin] to this the `tonyfast` project:\n",
        "\n",
        "- [x] add plugin to `mkdocs.yml`\n",
        "\n",
        "  ```yaml\n",
        "  plugins:\n",
        "      - markdown_notebook\n",
        "  ```\n",
        "  \n",
        "- [x] define plugin entry point for `tonyfast`\n",
        "\n",
        "   ```toml\n",
        "   [project.entry-points.\"mkdocs.plugins\"]\n",
        "   markdown_notebook = \"tonyfast.mkdocs:MarkdownNotebook\"\n",
        "   ```\n",
        "\n",
        "- [x] build the `MarkdownNotebook` plugin \n",
        "- [x] integrate the plugin\n",
        "\n",
        "   ```python\n",
        "   from tonyfast.mkdocs import MarkdownNotebook\n",
        "   ```\n",
        "   \n",
        "- [ ] add and improve the `nbconvert` export display renderers\n",
        "\n",
        "[mkdocs-jupyter]: https://github.com/danielfrg/mkdocs-jupyter\n",
        "[plugin]: https://www.mkdocs.org/dev-guide/plugins/"
      ]
    },
    {
      "cell_type": "markdown",
      "id": "5f82ffe1-1648-4a28-a037-f2321a93da43",
      "metadata": {},
      "source": [
        "## building the [`mkdocs` plugin][plugin]\n",
        "\n",
        "[mkdocs-jupyter]: https://github.com/danielfrg/mkdocs-jupyter\n",
        "[plugin]: https://www.mkdocs.org/dev-guide/plugins/"
      ]
    },
    {
      "cell_type": "code",
      "execution_count": null,
      "id": "e9608930-7170-4c28-9af3-3e1d2a0270cb",
      "metadata": {},
      "outputs": [],
      "source": [
        "    %pip install jinja2 mkdocs tonyfast markdown nbconvert nbformat\n",
        "    import json, nbconvert, nbformat, pathlib, mkdocs.plugins, warnings, re, functools\n",
        "    warnings.filterwarnings(\"ignore\", category=DeprecationWarning)"
      ]
    },
    {
      "cell_type": "markdown",
      "id": "276f1c0b-39a7-4f30-9eab-1183cda72a8a",
      "metadata": {},
      "source": [
        "the [`mkdocs` plugin]"
      ]
    },
    {
      "cell_type": "markdown",
      "id": "9ee1efbc-7b39-4dde-99f1-d963edcb3fe7",
      "metadata": {},
      "source": [
        "we now use a custom template and expo defined in 2022-12-31-markdownish-notebook.ipynb"
      ]
    },
    {
      "cell_type": "code",
      "execution_count": null,
      "id": "be68df83-0df1-4e58-9583-5cb37deaca9f",
      "metadata": {},
      "outputs": [],
      "source": [
        "        with __import__(\"importnb\").Notebook():\n",
        "            from tonyfast.xxii.__markdownish_notebook import template, PidgyExporter"
      ]
    },
    {
      "cell_type": "code",
      "execution_count": null,
      "id": "69c430f2-ea6a-4c11-b898-18d698394b05",
      "metadata": {},
      "outputs": [],
      "source": [
        "    class MarkdownNotebook(mkdocs.plugins.BasePlugin):\n",
        "        exporter_cls = PidgyExporter\n",
        "        config_scheme = (\n",
        "            # ('foo', mkdocs.config.config_options.Type(str, default='a default value')),\n",
        "        )\n",
        "                    \n",
        "        @functools.lru_cache\n",
        "        def get_exporter(self, key=\"mkdocs\", **kw):\n",
        "            with __import__(\"importnb\").Notebook():\n",
        "                from tonyfast.xxii.__markdownish_notebook import template, HEAD, replace_attachments\n",
        "            kw.setdefault(\"template_file\", key)\n",
        "            exporter = self.exporter_cls(**kw)\n",
        "            exporter.environment.filters.setdefault(\"attachment\", replace_attachments)\n",
        "            from jinja2 import DictLoader\n",
        "            for loader in exporter.environment.loader.loaders:\n",
        "                if isinstance(loader, DictLoader):\n",
        "                    loader.mapping[key] = template\n",
        "                    loader.mapping[\"HEAD\"] = HEAD\n",
        "                    break\n",
        "            return exporter\n",
        "            \n",
        "        def on_page_read_source(self, page, config):\n",
        "            if page.file.is_modified():\n",
        "                if page.file.src_uri.endswith((\".ipynb\", )):\n",
        "                    body = pathlib.Path(page.file.abs_src_path).read_text()\n",
        "                    nb = nbformat.v4.reads(body)\n",
        "                    exporter = self.get_exporter()\n",
        "                    return \"\\n\".join((\n",
        "                        \"---\", json.dumps(nb.metadata),\"---\", # add metadata as front matter\n",
        "                        exporter.from_notebook_node(nb)[0]\n",
        "                    ))\n",
        "                \n",
        "        def on_post_page(self, output, page, config):\n",
        "            if '<script type=\"application/vnd.jupyter.widget-view+json\">' in output:\n",
        "                left, sep, right = output.partition(\"</head\")\n",
        "                exporter = self.get_exporter()\n",
        "                return left + self.get_exporter().environment.get_template(\"HEAD\").render(resources=dict(\n",
        "                            jupyter_widgets_base_url=exporter.jupyter_widgets_base_url, \n",
        "                            html_manager_semver_range=exporter.html_manager_semver_range, \n",
        "                            widget_renderer_url=exporter.widget_renderer_url,\n",
        "                            require_js_url=exporter.require_js_url\n",
        "                        )) + sep + right\n",
        "            \n",
        "        def on_page_markdown(self, markdown, page, config, files):\n",
        "            import markdown\n",
        "            title = markdown.Markdown(extensions=config['markdown_extensions']).convert(page.title)\n",
        "            page.title = title[len(\"<p>\"):-len(\"</p>\")].strip().replace(\"code>\", \"pre>\")"
      ]
    },
    {
      "cell_type": "markdown",
      "id": "19de00db-e0e8-449e-86eb-05e16f54cc68",
      "metadata": {},
      "source": [
        "we trick `mkdocs` into thinking notebook files are markdown extensions."
      ]
    },
    {
      "cell_type": "code",
      "execution_count": null,
      "id": "d1cd99cc-b510-4a32-b371-a462750ba642",
      "metadata": {},
      "outputs": [],
      "source": [
        "    mkdocs.utils.markdown_extensions += \".ipynb\", # this feels naughty."
      ]
    }
  ],
  "metadata": {
    "kernelspec": {
      "display_name": "Python [conda env:root] *",
      "language": "python",
      "name": "conda-root-py"
    },
    "language_info": {
      "codemirror_mode": {
        "name": "ipython",
        "version": 3
      },
      "file_extension": ".py",
      "mimetype": "text/x-python",
      "name": "python",
      "nbconvert_exporter": "python",
      "pygments_lexer": "ipython3",
      "version": "3.9.13"
    },
    "tags": [
      "mkdocs-plugin"
    ],
    "widgets": {
      "application/vnd.jupyter.widget-state+json": {
        "state": {},
        "version_major": 2,
        "version_minor": 0
      }
    }
  },
  "nbformat": 4,
  "nbformat_minor": 5
}