{
  "cells": [
    {
      "cell_type": "markdown",
      "id": "1e61abbd-5b60-4cb4-98b0-d5dc64a769f0",
      "metadata": {},
      "source": [
        "# exploring many `pyproject.toml configs`"
      ]
    },
    {
      "cell_type": "markdown",
      "id": "6d1250fc-3c4e-4ec6-aac2-95d8f1bedf80",
      "metadata": {},
      "source": [
        "i composed the following query using [github's graphql explorer](https://docs.github.com/en/graphql/overview/explorer)\n",
        "because it has completion which helps in the composition.\n",
        "i also refered to [ GitHub GraphQL - Get files in a repository ](https://gist.github.com/MichaelCurrin/6777b91e6374cdb5662b64b8249070ea) for some ideas about how to compose my query.\n",
        "\n",
        "* this work is my first time interacting with graphql for data analysis. i really preferred the iGraphQl experiences that provides completion otherwise i would have been totally lost.\n",
        "* it uses `requests` to retreieve the results, and `requsts_cache` for caching.\n",
        "* at the end, we start looking at some dataframes for our requests."
      ]
    },
    {
      "cell_type": "code",
      "execution_count": 1,
      "id": "bafdd037-f36c-44ee-90ef-d30d83b6a0b5",
      "metadata": {},
      "outputs": [],
      "source": [
        "    %pip install toolz requests jinja2 tomli pyodide-http pandas info\n",
        "    __import__('pyodide_http').patch_all()\n",
        "    from typing import *; from toolz.curried import *; import pandas, requests, tomli"
      ]
    },
    {
      "cell_type": "code",
      "execution_count": 2,
      "id": "3afc0e53-9ef2-4370-a7d6-9584ea51a0b6",
      "metadata": {},
      "outputs": [],
      "source": [
        "    pyproject_query = \"\"\"\n",
        "    {\n",
        "      search(type: REPOSITORY, query: \"install in:readme language:python stars:>500\", first:100 %s) {\n",
        "        pageInfo {\n",
        "          hasNextPage endCursor\n",
        "        }\n",
        "        edges {  \n",
        "            node {\n",
        "            ... on Repository {\n",
        "              url \n",
        "              stargazerCount\n",
        "              object(expression:\"HEAD:pyproject.toml\") {\n",
        "                ... on Blob {\n",
        "                  text\n",
        "                  \n",
        "                }\n",
        "              }\n",
        "            }\n",
        "          }\n",
        "        }\n",
        "      }\n",
        "    }\"\"\""
      ]
    },
    {
      "cell_type": "markdown",
      "id": "e8b5868e-ef13-4689-9878-fe084df3cdbf",
      "metadata": {},
      "source": [
        "the graqhql query i wanted retrieves the `pyproject.toml` from a bunch of python projects. \n",
        "the initial goal of this query is to discover python projects and retrieve their `pyproject.toml` for comparison.\n",
        "\n",
        "we are looking for `pyproject.toml` which outlines [strict metadata specifications](https://peps.python.org/pep-0621/).\n",
        "it would be cool to get a high level view of the python conventions popular projects are using.\n",
        "\n",
        "> i'd love suggestions on a better query that finds more repositories with `pyproject.toml` files."
      ]
    },
    {
      "cell_type": "markdown",
      "id": "7b614ff2-7da8-4b18-83f0-f9dad0c2cd2b",
      "metadata": {},
      "source": [
        "## paginating the requests to get a bunch of data"
      ]
    },
    {
      "cell_type": "markdown",
      "id": "d2db00b8-5bb9-491f-98fd-8f4c35bd4e12",
      "metadata": {},
      "source": [
        "`get_one_page` makes a `POST` the github graphql endpoint - https://api.github.com/graphql"
      ]
    },
    {
      "cell_type": "code",
      "execution_count": 3,
      "id": "d643ed30-9198-4d3c-8546-fc125c301618",
      "metadata": {},
      "outputs": [],
      "source": [
        "    def get_one_page(query: str, prior: requests.Response=None, fill: str = \"\") -> requests.Response: \n",
        "        if prior and prior.json()[\"data\"][\"search\"][\"pageInfo\"][\"hasNextPage\"]:\n",
        "            fill = \"\"\", after: \"%s\" \"\"\" % prior.json()[\"data\"][\"search\"][\"pageInfo\"][\"endCursor\"]\n",
        "        return requests.post(\"https://api.github.com/graphql\", json=dict(query=query % fill), **header)"
      ]
    },
    {
      "cell_type": "markdown",
      "id": "71787cf8-7f40-4cbf-a73f-5a364989f2e3",
      "metadata": {},
      "source": [
        "`get_pages` yields multiple requests if there is pagination the nodes exported."
      ]
    },
    {
      "cell_type": "code",
      "execution_count": 4,
      "id": "9d21aa16-b86a-4de6-b279-b08baf4a1851",
      "metadata": {},
      "outputs": [],
      "source": [
        "    def get_pages(query: str, prior=None, max=15):\n",
        "        for i in range(max):\n",
        "            prior = get_one_page(query, prior=prior)\n",
        "            yield prior\n",
        "            if prior.status_code != 200: break\n",
        "            if not prior.json()[\"data\"][\"search\"][\"pageInfo\"][\"hasNextPage\"]: break"
      ]
    },
    {
      "cell_type": "markdown",
      "id": "4cb40aa3-7ab4-4d1f-a17f-0860362c3a8f",
      "metadata": {},
      "source": [
        "`gather` a few pages into a `list` of responses"
      ]
    },
    {
      "cell_type": "code",
      "execution_count": 5,
      "id": "ff4c1685-ef8f-4261-896f-8ac8baa2d2ae",
      "metadata": {},
      "outputs": [],
      "source": [
        "    def gather(query: str, max: int=2): return list(get_pages(query, max=max))"
      ]
    },
    {
      "cell_type": "markdown",
      "id": "3cb8e320-94c5-409f-b4c5-96642b6f337f",
      "metadata": {},
      "source": [
        "## analyze some actual data"
      ]
    },
    {
      "cell_type": "markdown",
      "id": "8cc8a318-173a-4518-b441-9ad0be6cb52e",
      "metadata": {},
      "source": [
        "> boilerplate to begin the analysis"
      ]
    },
    {
      "cell_type": "code",
      "execution_count": 6,
      "id": "664f8d24-e452-4005-a23e-48d8a23fef17",
      "metadata": {},
      "outputs": [],
      "source": [
        "    __import__(\"requests_cache\").install_cache(allowable_methods=['GET', 'POST'])\n",
        "    from info import header # this has some api info \n",
        "    pandas.options.display.max_colwidth = None\n",
        "    \u00d8 = __name__ == \"__main__\" and \"__file__\" not in locals()"
      ]
    },
    {
      "cell_type": "markdown",
      "id": "176ddf9b-92a0-4008-9fe1-dc31e220f069",
      "metadata": {},
      "source": [
        "transform the responses in a big `pandas` dataframe of `configs`"
      ]
    },
    {
      "cell_type": "markdown",
      "id": "459b5086-95c9-42a6-8f86-6d2f7af1dbaf",
      "metadata": {},
      "source": [
        "`tidy_responses` transforms our query responses into a single dataframe."
      ]
    },
    {
      "cell_type": "code",
      "execution_count": 7,
      "id": "5eeb0864-ba04-40be-b10b-c967766f3ffe",
      "metadata": {},
      "outputs": [],
      "source": [
        "    def tidy_responses(responses: list[requests.Response]) -> pandas.DataFrame:\n",
        "        return pipe(responses, map(\n",
        "            compose_left(operator.methodcaller(\"json\"), get(\"data\"), get(\"search\"), get(\"edges\"), pandas.DataFrame)\n",
        "        ), partial(pandas.concat, axis=1)).stack()"
      ]
    },
    {
      "cell_type": "markdown",
      "id": "221e9c97-991b-4e6f-8171-fad500b72e0b",
      "metadata": {},
      "source": [
        "`tidy_configs` further shapes the data down to the `pyproject.toml` data"
      ]
    },
    {
      "cell_type": "code",
      "execution_count": 8,
      "id": "eba8eab4-fd5b-46ab-98d1-9d738b293080",
      "metadata": {},
      "outputs": [],
      "source": [
        "    def tidy_configs(df: pandas.DataFrame) -> pandas.DataFrame:\n",
        "        return df.apply(pandas.Series).dropna(subset=\"object\")\\\n",
        "        .set_index(\"url\")[\"object\"].apply(pandas.Series)[\"text\"].apply(tomli.loads).apply(pandas.Series)"
      ]
    },
    {
      "cell_type": "code",
      "execution_count": 9,
      "id": "30234678-181e-4a95-91c5-ac5fa52f76c7",
      "metadata": {},
      "outputs": [
        {
          "name": "stdout",
          "output_type": "stream",
          "text": [
            "we made 10 requests returning information about a 1000 repositories.\n",
            "we retrieved 234 pyproject configs from this scrape.\n"
          ]
        }
      ],
      "source": [
        "    if \u00d8:\n",
        "        configs = tidy_configs(df := tidy_responses(responses := gather(pyproject_query, max=15)))\n",
        "        print(F\"\"\"we made {len(responses)} requests returning information about a {len(df)} repositories.\n",
        "    we retrieved {len(configs)} pyproject configs from this scrape.\"\"\")"
      ]
    },
    {
      "cell_type": "markdown",
      "id": "3be6b3b6-ffe3-413c-87a9-965b1f499595",
      "metadata": {},
      "source": [
        "### inspecting the build backend"
      ]
    },
    {
      "cell_type": "code",
      "execution_count": 10,
      "id": "a4909f19-cd32-4d90-bf1a-73c54d2be126",
      "metadata": {},
      "outputs": [
        {
          "name": "stdout",
          "output_type": "stream",
          "text": [
            "173 projects define a build backends, their specific frequencies are:\n"
          ]
        },
        {
          "data": {
            "text/html": [
              "<div>\n",
              "<style scoped>\n",
              "    .dataframe tbody tr th:only-of-type {\n",
              "        vertical-align: middle;\n",
              "    }\n",
              "\n",
              "    .dataframe tbody tr th {\n",
              "        vertical-align: top;\n",
              "    }\n",
              "\n",
              "    .dataframe thead th {\n",
              "        text-align: right;\n",
              "    }\n",
              "</style>\n",
              "<table border=\"1\" class=\"dataframe\">\n",
              "  <thead>\n",
              "    <tr style=\"text-align: right;\">\n",
              "      <th></th>\n",
              "      <th>setuptools.build_meta</th>\n",
              "      <th>poetry.core.masonry.api</th>\n",
              "      <th>hatchling.build</th>\n",
              "      <th>flit_core.buildapi</th>\n",
              "      <th>poetry.masonry.api</th>\n",
              "      <th>pdm.pep517.api</th>\n",
              "      <th>mesonpy</th>\n",
              "      <th>poetry_dynamic_versioning.backend</th>\n",
              "    </tr>\n",
              "  </thead>\n",
              "  <tbody>\n",
              "    <tr>\n",
              "      <th>build-backend</th>\n",
              "      <td>88</td>\n",
              "      <td>25</td>\n",
              "      <td>15</td>\n",
              "      <td>8</td>\n",
              "      <td>4</td>\n",
              "      <td>2</td>\n",
              "      <td>1</td>\n",
              "      <td>1</td>\n",
              "    </tr>\n",
              "  </tbody>\n",
              "</table>\n",
              "</div>"
            ],
            "text/plain": [
              "               setuptools.build_meta  poetry.core.masonry.api  \\\n",
              "build-backend                     88                       25   \n",
              "\n",
              "               hatchling.build  flit_core.buildapi  poetry.masonry.api  \\\n",
              "build-backend               15                   8                   4   \n",
              "\n",
              "               pdm.pep517.api  mesonpy  poetry_dynamic_versioning.backend  \n",
              "build-backend               2        1                                  1  "
            ]
          },
          "metadata": {},
          "output_type": "display_data"
        }
      ],
      "source": [
        "    if \u00d8:\n",
        "        builds = configs[\"build-system\"].dropna().apply(pandas.Series)\n",
        "        print(F\"\"\"{len(builds)} projects define a build backends, their specific frequencies are:\"\"\")\n",
        "        display(builds[\"build-backend\"].dropna().value_counts().to_frame(\"build-backend\").T)"
      ]
    },
    {
      "cell_type": "markdown",
      "id": "1b9233fa-2032-4f4a-9125-90ff8b3655bb",
      "metadata": {},
      "source": [
        "### inspecting the tools\n",
        "\n",
        "the different tool frequencies"
      ]
    },
    {
      "cell_type": "code",
      "execution_count": 11,
      "id": "f5002d62-974d-42f5-8d1f-7153097433c0",
      "metadata": {},
      "outputs": [
        {
          "data": {
            "text/html": [
              "<div>\n",
              "<style scoped>\n",
              "    .dataframe tbody tr th:only-of-type {\n",
              "        vertical-align: middle;\n",
              "    }\n",
              "\n",
              "    .dataframe tbody tr th {\n",
              "        vertical-align: top;\n",
              "    }\n",
              "\n",
              "    .dataframe thead th {\n",
              "        text-align: right;\n",
              "    }\n",
              "</style>\n",
              "<table border=\"1\" class=\"dataframe\">\n",
              "  <thead>\n",
              "    <tr style=\"text-align: right;\">\n",
              "      <th></th>\n",
              "      <th>black</th>\n",
              "      <th>isort</th>\n",
              "      <th>pytest</th>\n",
              "      <th>mypy</th>\n",
              "      <th>coverage</th>\n",
              "      <th>poetry</th>\n",
              "      <th>setuptools_scm</th>\n",
              "      <th>hatch</th>\n",
              "      <th>setuptools</th>\n",
              "      <th>pylint</th>\n",
              "      <th>towncrier</th>\n",
              "      <th>pyright</th>\n",
              "      <th>cibuildwheel</th>\n",
              "      <th>usort</th>\n",
              "      <th>flit</th>\n",
              "    </tr>\n",
              "  </thead>\n",
              "  <tbody>\n",
              "    <tr>\n",
              "      <th>top</th>\n",
              "      <td>123</td>\n",
              "      <td>85</td>\n",
              "      <td>67</td>\n",
              "      <td>42</td>\n",
              "      <td>34</td>\n",
              "      <td>32</td>\n",
              "      <td>21</td>\n",
              "      <td>15</td>\n",
              "      <td>14</td>\n",
              "      <td>14</td>\n",
              "      <td>11</td>\n",
              "      <td>10</td>\n",
              "      <td>6</td>\n",
              "      <td>5</td>\n",
              "      <td>5</td>\n",
              "    </tr>\n",
              "  </tbody>\n",
              "</table>\n",
              "</div>"
            ],
            "text/plain": [
              "     black  isort  pytest  mypy  coverage  poetry  setuptools_scm  hatch  \\\n",
              "top    123     85      67    42        34      32              21     15   \n",
              "\n",
              "     setuptools  pylint  towncrier  pyright  cibuildwheel  usort  flit  \n",
              "top          14      14         11       10             6      5     5  "
            ]
          },
          "metadata": {},
          "output_type": "display_data"
        },
        {
          "data": {
            "text/html": [
              "<div>\n",
              "<style scoped>\n",
              "    .dataframe tbody tr th:only-of-type {\n",
              "        vertical-align: middle;\n",
              "    }\n",
              "\n",
              "    .dataframe tbody tr th {\n",
              "        vertical-align: top;\n",
              "    }\n",
              "\n",
              "    .dataframe thead th {\n",
              "        text-align: right;\n",
              "    }\n",
              "</style>\n",
              "<table border=\"1\" class=\"dataframe\">\n",
              "  <thead>\n",
              "    <tr style=\"text-align: right;\">\n",
              "      <th></th>\n",
              "      <th>nbqa</th>\n",
              "      <th>flake8</th>\n",
              "      <th>tox</th>\n",
              "      <th>ruff</th>\n",
              "      <th>pycln</th>\n",
              "      <th>pydocstyle</th>\n",
              "      <th>autoflake</th>\n",
              "      <th>interrogate</th>\n",
              "      <th>tbump</th>\n",
              "      <th>codespell</th>\n",
              "      <th>...</th>\n",
              "      <th>versioningit</th>\n",
              "      <th>poe</th>\n",
              "      <th>distutils</th>\n",
              "      <th>setuptools-git-versioning</th>\n",
              "      <th>ufmt</th>\n",
              "      <th>hooky</th>\n",
              "      <th>bandit</th>\n",
              "      <th>versioneer</th>\n",
              "      <th>mutmut</th>\n",
              "      <th>typeshed</th>\n",
              "    </tr>\n",
              "  </thead>\n",
              "  <tbody>\n",
              "    <tr>\n",
              "      <th>rest</th>\n",
              "      <td>4</td>\n",
              "      <td>3</td>\n",
              "      <td>3</td>\n",
              "      <td>3</td>\n",
              "      <td>3</td>\n",
              "      <td>3</td>\n",
              "      <td>2</td>\n",
              "      <td>2</td>\n",
              "      <td>2</td>\n",
              "      <td>2</td>\n",
              "      <td>...</td>\n",
              "      <td>1</td>\n",
              "      <td>1</td>\n",
              "      <td>1</td>\n",
              "      <td>1</td>\n",
              "      <td>1</td>\n",
              "      <td>1</td>\n",
              "      <td>1</td>\n",
              "      <td>1</td>\n",
              "      <td>1</td>\n",
              "      <td>1</td>\n",
              "    </tr>\n",
              "  </tbody>\n",
              "</table>\n",
              "<p>1 rows \u00d7 39 columns</p>\n",
              "</div>"
            ],
            "text/plain": [
              "      nbqa  flake8  tox  ruff  pycln  pydocstyle  autoflake  interrogate  \\\n",
              "rest     4       3    3     3      3           3          2            2   \n",
              "\n",
              "      tbump  codespell  ...  versioningit  poe  distutils  \\\n",
              "rest      2          2  ...             1    1          1   \n",
              "\n",
              "      setuptools-git-versioning  ufmt  hooky  bandit  versioneer  mutmut  \\\n",
              "rest                          1     1      1       1           1       1   \n",
              "\n",
              "      typeshed  \n",
              "rest         1  \n",
              "\n",
              "[1 rows x 39 columns]"
            ]
          },
          "metadata": {},
          "output_type": "display_data"
        }
      ],
      "source": [
        "    if \u00d8:\n",
        "        ranks = configs[\"tool\"].dropna().apply(list).apply(pandas.Series).stack().value_counts()\n",
        "        display(ranks[(top := ranks>4)].to_frame(\"top\").T,  ranks[~top].to_frame(\"rest\").T)"
      ]
    },
    {
      "cell_type": "markdown",
      "id": "1b4536af-60f5-4951-9074-8d6d2fb118c1",
      "metadata": {},
      "source": [
        "## fin\n",
        "\n",
        "i think having knowledge at this scope of projects helps making decisions about what to do with your own.\n",
        "if `black` is the zeigeist why are you stalling?"
      ]
    }
  ],
  "metadata": {
    "kernelspec": {
      "display_name": "Python [conda env:root] *",
      "language": "python",
      "name": "conda-root-py"
    },
    "language_info": {
      "codemirror_mode": {
        "name": "ipython",
        "version": 3
      },
      "file_extension": ".py",
      "mimetype": "text/x-python",
      "name": "python",
      "nbconvert_exporter": "python",
      "pygments_lexer": "ipython3",
      "version": "3.9.13"
    }
  },
  "nbformat": 4,
  "nbformat_minor": 5
}