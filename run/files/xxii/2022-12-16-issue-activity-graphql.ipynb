{
  "cells": [
    {
      "cell_type": "markdown",
      "id": "88f69bb3-8e59-4e1d-bdb3-7201cb54c8ca",
      "metadata": {},
      "source": [
        "# retreiving my issue activity\n",
        "\n",
        "retreive my activity with the github graphql api."
      ]
    },
    {
      "cell_type": "code",
      "execution_count": 1,
      "id": "0350249c-95d1-4568-a809-f980db7b11b1",
      "metadata": {
        "jupyter": {
          "source_hidden": true
        }
      },
      "outputs": [],
      "source": [
        "    \n",
        "    %pip install pandas pidgy requests info pyodide-http jinja2\n",
        "    __import__('pyodide_http').patch_all()\n",
        "    %reload_ext pidgy\n",
        "    import requests, pandas\n",
        "    from info import header\n",
        "    __import__(\"requests_cache\").install_cache(allowable_methods=[\"POST\"])"
      ]
    },
    {
      "cell_type": "markdown",
      "id": "93519ae5-5390-4a55-a533-e3bf75cc303a",
      "metadata": {},
      "source": [
        "## construct the query from parameters\n",
        "\n",
        "we use `%` string formatting because of the braces in graphql syntaxes."
      ]
    },
    {
      "cell_type": "code",
      "execution_count": 2,
      "id": "eb8748e6-08b7-4d47-acd8-30919d2a55b8",
      "metadata": {
        "jupyter": {
          "source_hidden": true
        }
      },
      "outputs": [
        {
          "data": {
            "text/markdown": [
              "    def get_stamps(user=\"tonyfast\", repo=\"iota-school/notebooks-for-all\"):\n",
              "        return \\\n",
              "query { \n",
              "  search(type:ISSUE, query: \"user:%s repo:%s\", first: 100) {\n",
              "    edges {\n",
              "      node {\n",
              "      ... on Issue {\n",
              "        url\n",
              "      }\n",
              "       ... on PullRequest {\n",
              "        url\n",
              "      }\n",
              "      ... on Comment {\n",
              "        publishedAt\n",
              "      }\n",
              "      }\n",
              "    }\n",
              "  }\n",
              "}\\\n",
              "    \n",
              "            % (user, repo)"
            ],
            "text/plain": [
              "<IPython.core.display.Markdown object>"
            ]
          },
          "metadata": {},
          "output_type": "display_data"
        }
      ],
      "source": [
        "    def get_stamps(user=\"tonyfast\", repo=\"iota-school/notebooks-for-all\"):\n",
        "        return \\\n",
        "query { \n",
        "  search(type:ISSUE, query: \"user:%s repo:%s\", first: 100) {\n",
        "    edges {\n",
        "      node {\n",
        "      ... on Issue {\n",
        "        url\n",
        "      }\n",
        "       ... on PullRequest {\n",
        "        url\n",
        "      }\n",
        "      ... on Comment {\n",
        "        publishedAt\n",
        "      }\n",
        "      }\n",
        "    }\n",
        "  }\n",
        "}\\\n",
        "    \n",
        "            % (user, repo)\n"
      ]
    },
    {
      "cell_type": "code",
      "execution_count": 3,
      "id": "4c743379-6aae-4d96-8ce4-a9cdf7d3ebbb",
      "metadata": {
        "jupyter": {
          "source_hidden": true
        }
      },
      "outputs": [
        {
          "data": {
            "text/markdown": [
              "<details open>\n",
              "    <summary>\n",
              "a graphql query the find the dates a user made comments on issues or pull requests.\n",
              "    </summary>\n",
              "\n",
              "\n",
              "```graphql\n",
              "query { \n",
              "  search(type:ISSUE, query: \"user:tonyfast repo:iota-school/notebooks-for-all\", first: 100) {\n",
              "    edges {\n",
              "      node {\n",
              "      ... on Issue {\n",
              "        url\n",
              "      }\n",
              "       ... on PullRequest {\n",
              "        url\n",
              "      }\n",
              "      ... on Comment {\n",
              "        publishedAt\n",
              "      }\n",
              "      }\n",
              "    }\n",
              "  }\n",
              "}\n",
              "```\n",
              "\n",
              "</details>"
            ],
            "text/plain": [
              "<IPython.core.display.Markdown object>"
            ]
          },
          "metadata": {},
          "output_type": "display_data"
        }
      ],
      "source": [
        "<details open>\n",
        "    <summary>\n",
        "a graphql query the find the dates a user made comments on issues or pull requests.\n",
        "    </summary>\n",
        "\n",
        "\n",
        "```graphql\n",
        "{{get_stamps()}}\n",
        "```\n",
        "\n",
        "</details>"
      ]
    },
    {
      "cell_type": "code",
      "execution_count": 4,
      "id": "59163c9d-aafc-412b-8cf9-542ae11b955b",
      "metadata": {
        "jupyter": {
          "source_hidden": true
        }
      },
      "outputs": [
        {
          "data": {
            "text/markdown": [
              "    df = pandas.DataFrame((\n",
              "        response := requests.post(\"https://api.github.com/graphql\", json=dict(query=get_stamps()), **header)\n",
              "    ).json()[\"data\"][\"search\"][\"edges\"])[\"node\"].apply(pandas.Series)\n",
              "    df.publishedAt = df.publishedAt.pipe(pandas.to_datetime)\n",
              "    \n",
              "    "
            ],
            "text/plain": [
              "<IPython.core.display.Markdown object>"
            ]
          },
          "metadata": {},
          "output_type": "display_data"
        }
      ],
      "source": [
        "    df = pandas.DataFrame((\n",
        "        response := requests.post(\"https://api.github.com/graphql\", json=dict(query=get_stamps()), **header)\n",
        "    ).json()[\"data\"][\"search\"][\"edges\"])[\"node\"].apply(pandas.Series)\n",
        "    df.publishedAt = df.publishedAt.pipe(pandas.to_datetime)\n",
        "    \n",
        "    "
      ]
    },
    {
      "cell_type": "code",
      "execution_count": 5,
      "id": "cd332641-ad10-486b-9f7d-5df2b38e8829",
      "metadata": {
        "jupyter": {
          "source_hidden": true
        }
      },
      "outputs": [
        {
          "data": {
            "text/markdown": [
              "    freq = df.groupby(pandas.Grouper(freq=\"1D\", key=\"publishedAt\")).count()"
            ],
            "text/plain": [
              "<IPython.core.display.Markdown object>"
            ]
          },
          "metadata": {},
          "output_type": "display_data"
        }
      ],
      "source": [
        "    freq = df.groupby(pandas.Grouper(freq=\"1D\", key=\"publishedAt\")).count()"
      ]
    },
    {
      "cell_type": "markdown",
      "id": "a59a1284-545d-44df-a710-db746c1b97cf",
      "metadata": {},
      "source": [
        "what days where these comments made at?"
      ]
    },
    {
      "cell_type": "code",
      "execution_count": 6,
      "id": "4dd605cc-3ca0-409c-bd4a-4e4633e1ddc9",
      "metadata": {
        "jupyter": {
          "source_hidden": true
        }
      },
      "outputs": [
        {
          "data": {
            "text/html": [
              "<div>\n",
              "<style scoped>\n",
              "    .dataframe tbody tr th:only-of-type {\n",
              "        vertical-align: middle;\n",
              "    }\n",
              "\n",
              "    .dataframe tbody tr th {\n",
              "        vertical-align: top;\n",
              "    }\n",
              "\n",
              "    .dataframe thead th {\n",
              "        text-align: right;\n",
              "    }\n",
              "</style>\n",
              "<table border=\"1\" class=\"dataframe\">\n",
              "  <thead>\n",
              "    <tr style=\"text-align: right;\">\n",
              "      <th></th>\n",
              "      <th>url</th>\n",
              "    </tr>\n",
              "    <tr>\n",
              "      <th>publishedAt</th>\n",
              "      <th></th>\n",
              "    </tr>\n",
              "  </thead>\n",
              "  <tbody>\n",
              "    <tr>\n",
              "      <th>2015-08-07 00:00:00+00:00</th>\n",
              "      <td>1.0</td>\n",
              "    </tr>\n",
              "    <tr>\n",
              "      <th>2016-01-02 00:00:00+00:00</th>\n",
              "      <td>2.0</td>\n",
              "    </tr>\n",
              "    <tr>\n",
              "      <th>2016-01-03 00:00:00+00:00</th>\n",
              "      <td>3.0</td>\n",
              "    </tr>\n",
              "    <tr>\n",
              "      <th>2016-01-11 00:00:00+00:00</th>\n",
              "      <td>1.0</td>\n",
              "    </tr>\n",
              "    <tr>\n",
              "      <th>2016-01-23 00:00:00+00:00</th>\n",
              "      <td>1.0</td>\n",
              "    </tr>\n",
              "    <tr>\n",
              "      <th>...</th>\n",
              "      <td>...</td>\n",
              "    </tr>\n",
              "    <tr>\n",
              "      <th>2022-11-08 00:00:00+00:00</th>\n",
              "      <td>2.0</td>\n",
              "    </tr>\n",
              "    <tr>\n",
              "      <th>2022-11-16 00:00:00+00:00</th>\n",
              "      <td>1.0</td>\n",
              "    </tr>\n",
              "    <tr>\n",
              "      <th>2022-11-21 00:00:00+00:00</th>\n",
              "      <td>1.0</td>\n",
              "    </tr>\n",
              "    <tr>\n",
              "      <th>2022-11-22 00:00:00+00:00</th>\n",
              "      <td>1.0</td>\n",
              "    </tr>\n",
              "    <tr>\n",
              "      <th>2022-12-14 00:00:00+00:00</th>\n",
              "      <td>1.0</td>\n",
              "    </tr>\n",
              "  </tbody>\n",
              "</table>\n",
              "<p>64 rows \u00d7 1 columns</p>\n",
              "</div>"
            ],
            "text/plain": [
              "                           url\n",
              "publishedAt                   \n",
              "2015-08-07 00:00:00+00:00  1.0\n",
              "2016-01-02 00:00:00+00:00  2.0\n",
              "2016-01-03 00:00:00+00:00  3.0\n",
              "2016-01-11 00:00:00+00:00  1.0\n",
              "2016-01-23 00:00:00+00:00  1.0\n",
              "...                        ...\n",
              "2022-11-08 00:00:00+00:00  2.0\n",
              "2022-11-16 00:00:00+00:00  1.0\n",
              "2022-11-21 00:00:00+00:00  1.0\n",
              "2022-11-22 00:00:00+00:00  1.0\n",
              "2022-12-14 00:00:00+00:00  1.0\n",
              "\n",
              "[64 rows x 1 columns]"
            ]
          },
          "execution_count": 6,
          "metadata": {},
          "output_type": "execute_result"
        },
        {
          "data": {
            "text/markdown": [
              "    days = freq[freq.astype(bool)].dropna()\n",
              "    days"
            ],
            "text/plain": [
              "<IPython.core.display.Markdown object>"
            ]
          },
          "metadata": {},
          "output_type": "display_data"
        }
      ],
      "source": [
        "    days = freq[freq.astype(bool)].dropna()\n",
        "    days"
      ]
    },
    {
      "cell_type": "code",
      "execution_count": 7,
      "id": "813c4705-b43a-459d-8532-0df157e579b6",
      "metadata": {
        "jupyter": {
          "source_hidden": true
        }
      },
      "outputs": [
        {
          "data": {
            "text/html": [
              "<div>\n",
              "<style scoped>\n",
              "    .dataframe tbody tr th:only-of-type {\n",
              "        vertical-align: middle;\n",
              "    }\n",
              "\n",
              "    .dataframe tbody tr th {\n",
              "        vertical-align: top;\n",
              "    }\n",
              "\n",
              "    .dataframe thead th {\n",
              "        text-align: right;\n",
              "    }\n",
              "</style>\n",
              "<table border=\"1\" class=\"dataframe\">\n",
              "  <thead>\n",
              "    <tr style=\"text-align: right;\">\n",
              "      <th></th>\n",
              "      <th>url</th>\n",
              "    </tr>\n",
              "    <tr>\n",
              "      <th>publishedAt</th>\n",
              "      <th></th>\n",
              "    </tr>\n",
              "  </thead>\n",
              "  <tbody>\n",
              "    <tr>\n",
              "      <th>2015-08-07 00:00:00+00:00</th>\n",
              "      <td>1.0</td>\n",
              "    </tr>\n",
              "    <tr>\n",
              "      <th>2016-01-02 00:00:00+00:00</th>\n",
              "      <td>2.0</td>\n",
              "    </tr>\n",
              "    <tr>\n",
              "      <th>2016-01-03 00:00:00+00:00</th>\n",
              "      <td>3.0</td>\n",
              "    </tr>\n",
              "    <tr>\n",
              "      <th>2016-01-11 00:00:00+00:00</th>\n",
              "      <td>1.0</td>\n",
              "    </tr>\n",
              "    <tr>\n",
              "      <th>2016-01-23 00:00:00+00:00</th>\n",
              "      <td>1.0</td>\n",
              "    </tr>\n",
              "    <tr>\n",
              "      <th>...</th>\n",
              "      <td>...</td>\n",
              "    </tr>\n",
              "    <tr>\n",
              "      <th>2022-11-08 00:00:00+00:00</th>\n",
              "      <td>2.0</td>\n",
              "    </tr>\n",
              "    <tr>\n",
              "      <th>2022-11-16 00:00:00+00:00</th>\n",
              "      <td>1.0</td>\n",
              "    </tr>\n",
              "    <tr>\n",
              "      <th>2022-11-21 00:00:00+00:00</th>\n",
              "      <td>1.0</td>\n",
              "    </tr>\n",
              "    <tr>\n",
              "      <th>2022-11-22 00:00:00+00:00</th>\n",
              "      <td>1.0</td>\n",
              "    </tr>\n",
              "    <tr>\n",
              "      <th>2022-12-14 00:00:00+00:00</th>\n",
              "      <td>1.0</td>\n",
              "    </tr>\n",
              "  </tbody>\n",
              "</table>\n",
              "<p>64 rows \u00d7 1 columns</p>\n",
              "</div>"
            ],
            "text/plain": [
              "                           url\n",
              "publishedAt                   \n",
              "2015-08-07 00:00:00+00:00  1.0\n",
              "2016-01-02 00:00:00+00:00  2.0\n",
              "2016-01-03 00:00:00+00:00  3.0\n",
              "2016-01-11 00:00:00+00:00  1.0\n",
              "2016-01-23 00:00:00+00:00  1.0\n",
              "...                        ...\n",
              "2022-11-08 00:00:00+00:00  2.0\n",
              "2022-11-16 00:00:00+00:00  1.0\n",
              "2022-11-21 00:00:00+00:00  1.0\n",
              "2022-11-22 00:00:00+00:00  1.0\n",
              "2022-12-14 00:00:00+00:00  1.0\n",
              "\n",
              "[64 rows x 1 columns]"
            ]
          },
          "execution_count": 7,
          "metadata": {},
          "output_type": "execute_result"
        },
        {
          "data": {
            "text/markdown": [
              "    days"
            ],
            "text/plain": [
              "<IPython.core.display.Markdown object>"
            ]
          },
          "metadata": {},
          "output_type": "display_data"
        }
      ],
      "source": [
        "    days"
      ]
    },
    {
      "cell_type": "code",
      "execution_count": null,
      "id": "fefbf497-f825-47f5-a6f4-bd301f23785f",
      "metadata": {
        "jupyter": {
          "source_hidden": true
        }
      },
      "outputs": [],
      "source": []
    }
  ],
  "metadata": {
    "kernelspec": {
      "display_name": "pidgy",
      "language": "markdown",
      "name": "pidgy"
    },
    "language_info": {
      "codemirror_mode": {
        "name": "ipython",
        "version": 3
      },
      "file_extension": ".py",
      "mimetype": "text/x-python",
      "name": "python",
      "nbconvert_exporter": "python",
      "pygments_lexer": "ipython3",
      "version": "3.9.13"
    }
  },
  "nbformat": 4,
  "nbformat_minor": 5
}