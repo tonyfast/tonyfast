{
  "cells": [
    {
      "cell_type": "markdown",
      "id": "b241213b-576b-4c2d-9406-8da63d6b182a",
      "metadata": {},
      "source": [
        "# `doit` integration - a `mkdocs` example\n",
        "\n",
        "in the hunt for a computable blog, i've wanted to be able to reuse the code i write about in posts.\n",
        "one integration we are beginning to experiment with in this post is access to `doit` task specifications \n",
        "from posts. the `tonyfast.dodo` module integrates posts with tasks.\n",
        "\n",
        "`doit` is a great tool for orchestrating commands that operate on files.\n",
        "to demonstrate the integration we'll compose a task to build a `mkdocs` site,\n",
        "and deal with some pain points in the configuration.\n",
        "\n",
        "## the `mkdocs` task\n",
        "\n",
        "`mkdocs` integrations are identified when a project has the `mkdocs.yml` file.\n",
        "this file contains all the information for your site including the documents to build.\n",
        "for blog style content, adding a new post means updating the configuration file.\n",
        "my adhd brain has a tendency to forget the configuration bit.\n",
        "in this file, we wrote tools to infer the files that should be included in the configuration,\n",
        "we sort them, and place them back in the configuration file.\n",
        "\n",
        "\n",
        "\n",
        "what follow is the incovation for `mkdocs` for the `tonyfast` site.\n",
        "in this document we:\n",
        "\n",
        "* define functions to find posts\n",
        "* define a `doit` task to execute `mkdocs`\n",
        "\n",
        "> there is a `mkdocs-material` blog feature avaiable to insiders. when this is generally available a lot of this content will be moot.\n",
        "\n"
      ]
    },
    {
      "cell_type": "markdown",
      "id": "623e5474-ae7e-42c5-bf72-8cc878f78a2e",
      "metadata": {},
      "source": [
        "## the `mkdocs` `doit` task\n",
        "\n",
        "primarily `doit` tasks are functions that begin with the prefix `task_`;\n",
        "`task_mkdocs` is the one task we define in this document."
      ]
    },
    {
      "cell_type": "markdown",
      "id": "04f5b42f-3f0b-42d1-bd67-c59dc4660dcb",
      "metadata": {},
      "source": [
        "find posts and build the mkdocs site"
      ]
    },
    {
      "cell_type": "code",
      "execution_count": 1,
      "id": "930dad21-a5fe-420e-824f-771825a8dd7a",
      "metadata": {},
      "outputs": [],
      "source": [
        "    %pip install tonyfast yaml\n",
        "    def task_mkdocs():\n",
        "        yield dict(name=\"toc\", actions=[\n",
        "            (set_nav, (pathlib.Path(\"tonyfast\"), \"*.ipynb\", \"mkdocs.yml\"))\n",
        "        ], targets=[\"mkdocs.yml\"], uptodate=[False])\n",
        "        yield dict(\n",
        "            name=\"build\",\n",
        "            actions=[\"mkdocs build\"],\n",
        "            file_dep=[\"mkdocs.yml\"],\n",
        "            targets=[\"site/index.html\"]\n",
        "        )"
      ]
    },
    {
      "cell_type": "markdown",
      "id": "133fbac1-5dd6-4340-9943-cbf41eaf6bf7",
      "metadata": {},
      "source": [
        "## finding and sorting the posts"
      ]
    },
    {
      "cell_type": "markdown",
      "id": "e6fe25e8-13a4-4d74-aeef-12336a6af1bd",
      "metadata": {},
      "source": [
        "find all the potential notebook posts"
      ]
    },
    {
      "cell_type": "code",
      "execution_count": 2,
      "id": "28651130-dd80-4f88-aa83-f3ea724bfac6",
      "metadata": {},
      "outputs": [],
      "source": [
        "    def get_posts_from_dir(dir, glob=\"*.ipynb\"):\n",
        "        for file in dir.iterdir():\n",
        "            if file.is_dir():\n",
        "                if \"checkpoints\" not in file.name: yield from get_posts_from_dir(file, glob)\n",
        "            elif file.suffix in {\".ipynb\"}:\n",
        "                if (m := title.match(str(file.stem))): yield file, m\n",
        "\n",
        "    def get_posts(dir, glob=\"*.ipynb\"):\n",
        "        return sorted((\n",
        "            (x.relative_to(WHERE), y) for x, y in get_posts_from_dir(dir, glob)\n",
        "        ), reverse=True, key=lambda x: x[1].group(*\"ymd\"))"
      ]
    },
    {
      "cell_type": "markdown",
      "id": "9a8fe1a3-371b-4a5a-824f-ca03b8dc15b4",
      "metadata": {},
      "source": [
        "format the ordered entries"
      ]
    },
    {
      "cell_type": "code",
      "execution_count": 3,
      "id": "d6d84762-4ee3-4266-b8cd-0a7fafe933a8",
      "metadata": {},
      "outputs": [],
      "source": [
        "    def get_toc(dir, glob=\"*.ipynb\"):\n",
        "        for x, y in list(get_posts(WHERE, glob)):\n",
        "            yield \" \"* 4 + F\"- {x}\" "
      ]
    },
    {
      "cell_type": "markdown",
      "id": "a719a273-c9ee-40ce-9007-914dbee7596b",
      "metadata": {},
      "source": [
        "we don't use `yaml` cause our `mkdocs` uses `yaml`  tags.\n",
        "instead we put the nav at the end of the document\n",
        "then replace the default with the updated version."
      ]
    },
    {
      "cell_type": "markdown",
      "id": "46509e8e-95d8-4b0f-9c29-b415972149d6",
      "metadata": {},
      "source": [
        "### replace the nav"
      ]
    },
    {
      "cell_type": "code",
      "execution_count": 4,
      "id": "21aeb265-8bcf-43e0-b556-bedf6ee15082",
      "metadata": {},
      "outputs": [],
      "source": [
        "    def get_nav(dir, glob=\"*.ipynb\"):\n",
        "        return \"\".join(re.split(\n",
        "            \"(notes\\S*:\\S*)\",\n",
        "            (WHERE.parent / \"mkdocs.yml\").read_text(),\n",
        "            1\n",
        "        )[:2] )+ \"\\n\" + \"\\n\".join(get_toc(dir, glob))\n",
        "\n",
        "    import tonyfast, pathlib, yaml, re\n",
        "    WHERE = pathlib.Path(tonyfast.__file__).parent\n",
        "    title = re.compile(\"(?P<y>[0-9]{4})-(?P<m>[0-9]{1,2})-(?P<d>[0-9]{1,2})-(?P<t>.+)\")\n",
        "    \n",
        "    def set_nav(dir, glob=\"*.ipynb\", target=WHERE.parent / \"mkdocs.yml\"):\n",
        "        pathlib.Path(target).write_text(get_nav(pathlib.Path(dir), glob))"
      ]
    },
    {
      "cell_type": "markdown",
      "id": "0101403d-58c9-45d9-b197-521d6b5989f1",
      "metadata": {},
      "source": [
        "## invocation\n",
        "\n",
        "* the task is exposed in the `tonyfast` module\n",
        "\n",
        "    python -m tonyfast tasks mkdocs\n",
        "    \n",
        "* this command is invoked with `hatch` in a virtual environment using:\n",
        "\n",
        "    hatch run docs:build\n",
        "    \n",
        "* use with `importnb -t`"
      ]
    },
    {
      "cell_type": "code",
      "execution_count": 5,
      "id": "e635afe5-5f1c-4021-b1af-60d36575be4f",
      "metadata": {},
      "outputs": [
        {
          "name": "stdout",
          "output_type": "stream",
          "text": [
            "\n",
            "mkdocs\n",
            "\n",
            "find posts and build the mkdocs site\n",
            "\n",
            "status     : run\n",
            " * The task has no dependencies.\n",
            "\n",
            "task_dep   : \n",
            " - mkdocs:toc\n",
            " - mkdocs:build\n"
          ]
        }
      ],
      "source": [
        "    if \"__file__\" not in locals():\n",
        "        !python -m importnb -t 2022-12-18-mkdocs-task.ipynb info mkdocs"
      ]
    }
  ],
  "metadata": {
    "kernelspec": {
      "display_name": "Python [conda env:root] *",
      "language": "python",
      "name": "conda-root-py"
    },
    "language_info": {
      "codemirror_mode": {
        "name": "ipython",
        "version": 3
      },
      "file_extension": ".py",
      "mimetype": "text/x-python",
      "name": "python",
      "nbconvert_exporter": "python",
      "pygments_lexer": "ipython3",
      "version": "3.9.13"
    }
  },
  "nbformat": 4,
  "nbformat_minor": 5
}