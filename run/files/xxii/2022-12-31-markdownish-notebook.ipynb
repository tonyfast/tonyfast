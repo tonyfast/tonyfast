{
  "cells": [
    {
      "cell_type": "markdown",
      "id": "8295b245-a6b3-42ad-80fe-347553736a3c",
      "metadata": {},
      "source": [
        "# a template for exporting markdownish notebooks"
      ]
    },
    {
      "cell_type": "markdown",
      "id": "6fd5b4f6-12ea-4142-9fd0-49fcf9d0a595",
      "metadata": {},
      "source": [
        "we need a combination of markdown and html templates to operate optimally with mkdocs.\n",
        "this document frankensteins templates and gives us some nice pixels."
      ]
    },
    {
      "cell_type": "markdown",
      "id": "49ffc8d0-4920-427b-b80b-4c96579df216",
      "metadata": {},
      "source": [
        "`get_template` creates our hybrid template from the initial `TEMPLATE` and goes on to append blocks from `nbconvert` templates."
      ]
    },
    {
      "cell_type": "code",
      "execution_count": 1,
      "id": "0f6bd839-ae6b-4bf6-9044-db56b10ca9b1",
      "metadata": {},
      "outputs": [],
      "source": [
        "    %pip install nbconvert tonyfast\n",
        "    def get_template() -> str:\n",
        "        blocks = __import__(\"collections\").ChainMap(*map(get_blocks, \"classic/base.html.j2 classic/index.html.j2\".split()))\n",
        "        template = TEMPLATE \n",
        "        for k in KEEP:\n",
        "            if k in blocks: template += blocks[k].group(\"block\") + \"\\n\" * 3\n",
        "        return template"
      ]
    },
    {
      "cell_type": "markdown",
      "id": "0898dac1-c26d-4755-b221-64622a3cb03d",
      "metadata": {},
      "source": [
        "we `KEEP` some blocks from the classic templates"
      ]
    },
    {
      "cell_type": "code",
      "execution_count": 2,
      "id": "b71d71bb-de85-4e5a-a3a9-a789272a4492",
      "metadata": {},
      "outputs": [],
      "source": [
        "    KEEP = \"notebook_css execute_result  stream_stdout stream_stderr \\\n",
        "    data_svg data_html data_png data_jpg error traceback_line data_widget_state data_widget_view\".split()"
      ]
    },
    {
      "cell_type": "markdown",
      "id": "e390ca6c-affb-4178-99e9-5d10d0297a46",
      "metadata": {},
      "source": [
        "`get_blocks` loads a template and returns a dictionary of its blocks."
      ]
    },
    {
      "cell_type": "code",
      "execution_count": 3,
      "id": "74e41376-596b-4ed4-8a45-b012f75509f6",
      "metadata": {},
      "outputs": [],
      "source": [
        "    def get_blocks(alias) -> dict[str, (T := __import__(\"typing\")).Pattern]:\n",
        "        template = get_exporter().environment.get_template(alias)\n",
        "        with open(template.filename) as file: body = file.read()\n",
        "        return dict(yield_blocks(body))"
      ]
    },
    {
      "cell_type": "markdown",
      "id": "68c04141-6d5c-4c8d-ba1f-151c7b671bb7",
      "metadata": {},
      "source": [
        "`yield` all the blocks recursing into the found matches"
      ]
    },
    {
      "cell_type": "code",
      "execution_count": 4,
      "id": "39fd0fe8-f9d0-4f59-93f9-7436e1432678",
      "metadata": {},
      "outputs": [],
      "source": [
        "    def yield_blocks(string) -> T.Iterator[tuple[str, T.Pattern]]:\n",
        "        from tonyfast.regexs import jinja_block\n",
        "        for m in jinja_block.finditer(string):\n",
        "            yield m.group(\"name\"), m\n",
        "            yield from yield_blocks(m.group(\"inner\"))"
      ]
    },
    {
      "cell_type": "markdown",
      "id": "85388e2c-6614-4a7b-8caf-f8bf674737cd",
      "metadata": {},
      "source": [
        "initialize our exporter and jinja environment"
      ]
    },
    {
      "cell_type": "markdown",
      "id": "23bf0326-c5df-4314-b7f3-6a7d7c2df662",
      "metadata": {},
      "source": [
        "i want to hide the input code, but no remove it;\n",
        "a custom exporter felt like a better way."
      ]
    },
    {
      "cell_type": "code",
      "execution_count": 5,
      "id": "3814c95e-131c-40d9-81c6-dd492d39972a",
      "metadata": {},
      "outputs": [],
      "source": [
        "    import nbconvert, re\n",
        "    class PidgyExporter(nbconvert.exporters.HTMLExporter):\n",
        "        def from_notebook_node(self, nb, resources=None, **kw):\n",
        "            resources = self._init_resources(dict(is_pidgy=is_pidgy(nb)))\n",
        "            return super().from_notebook_node(nb, resources, **kw)"
      ]
    },
    {
      "cell_type": "markdown",
      "id": "91d4ca58-8ea3-4904-a4eb-3ccfa033505b",
      "metadata": {},
      "source": [
        "we moved `is_pidgy` and `PIDGY` from the mkdocs plugin because them make more self here."
      ]
    },
    {
      "cell_type": "code",
      "execution_count": 6,
      "id": "39a6d210-8ade-44be-b10d-354455ff3d62",
      "metadata": {},
      "outputs": [],
      "source": [
        "    def is_pidgy(nb):\n",
        "        for cell in nb[\"cells\"]:\n",
        "            if cell[\"cell_type\"] == \"code\":\n",
        "                if PIDGY.match(\"\".join(cell[\"source\"])):\n",
        "                    return True\n",
        "        return False"
      ]
    },
    {
      "cell_type": "code",
      "execution_count": 7,
      "id": "0049bca1-cc8d-497b-866b-d5773223ad21",
      "metadata": {},
      "outputs": [],
      "source": [
        "    PIDGY = re.compile(r\"\\s*%(re)?load_ext pidgy\")"
      ]
    },
    {
      "cell_type": "code",
      "execution_count": 8,
      "id": "563b0875-e90d-456a-9b8e-bfbedb3141c9",
      "metadata": {},
      "outputs": [],
      "source": [
        "    def replace_attachments(cell):\n",
        "        source = \"\".join(cell[\"source\"])\n",
        "        if cell.get(\"attachments\"):\n",
        "            for k, v in cell[\"attachments\"].items():\n",
        "                for t, v in v.items():\n",
        "                    source = source.replace(\"attachment:\" + k, \"data:\" + t + \";base64,\" + v)\n",
        "        return source"
      ]
    },
    {
      "cell_type": "code",
      "execution_count": 9,
      "id": "7ecd984e-17fd-4307-8a75-90694a968acf",
      "metadata": {},
      "outputs": [],
      "source": [
        "    @(cache := __import__(\"functools\").lru_cache)\n",
        "    def get_exporter() -> \"nbconvert.TemplateExporter\":\n",
        "        exporter = PidgyExporter()\n",
        "        exporter.environment.filters.setdefault(\"highlight_code\", lambda x: x)\n",
        "        exporter.environment.filters.setdefault(\"attachment\", replace_attachments)\n",
        "        return exporter"
      ]
    },
    {
      "cell_type": "markdown",
      "id": "f1f3bf0c-b143-4ba4-a3b7-818fb09cf7b0",
      "metadata": {},
      "source": [
        "## generating the template\n",
        "\n",
        "this template holds so of our own logic."
      ]
    },
    {
      "cell_type": "code",
      "execution_count": 10,
      "id": "0f19147b-d7ec-4425-8f2a-00e5c8d4aec5",
      "metadata": {},
      "outputs": [],
      "source": [
        "    TEMPLATE = \"\"\"{%- extends 'display_priority.j2' -%}\n",
        "    {% block body_footer %}\n",
        "    {{super()}}\n",
        "    {% set mimetype = 'application/vnd.jupyter.widget-state+json'%}\n",
        "    {% if mimetype in nb.metadata.get(\"widgets\",{})%}\n",
        "    <script type=\"{{ mimetype }}\">\n",
        "    {{ nb.metadata.widgets[mimetype] | json_dumps  }}\n",
        "    </script>\n",
        "    {% endif %}\n",
        "    </script>\n",
        "\n",
        "    {% endblock %}\n",
        "    \n",
        "    {% block data_markdown scoped %}\n",
        "    \n",
        "    {{output.data['text/markdown']}}\n",
        "    \n",
        "    {% endblock data_markdown %}\n",
        "\n",
        "    {% block markdowncell scoped %}\n",
        "    \n",
        "    {{cell | attachment}}\n",
        "    \n",
        "    {% endblock markdowncell %} \n",
        "    \n",
        "    {% block input %}\n",
        "    {% if not resources.is_pidgy %}\n",
        "    ``````````````````````````````````````````````````````````````python\n",
        "    {{cell.source}}\n",
        "    \n",
        "    ``````````````````````````````````````````````````````````````\n",
        "    {% endif %}\n",
        "    {% endblock %}\n",
        "    \"\"\""
      ]
    },
    {
      "cell_type": "code",
      "execution_count": 11,
      "id": "22da0090-9268-44a3-89bc-b63ede4e1d49",
      "metadata": {},
      "outputs": [],
      "source": [
        "    HEAD = \"\"\"{% from 'base/jupyter_widgets.html.j2' import jupyter_widgets %}\n",
        "    <script src=\"{{ resources.require_js_url }}\"></script>\n",
        "    {{ jupyter_widgets(resources.jupyter_widgets_base_url, resources.html_manager_semver_range, resources.widget_renderer_url) }}\n",
        "    \"\"\""
      ]
    },
    {
      "cell_type": "markdown",
      "id": "965eb1d2-e81a-4599-9bb3-3dbb72b4e483",
      "metadata": {},
      "source": [
        "we can then combine our base template with existing `nbconvert` ones to compute the final template."
      ]
    },
    {
      "cell_type": "code",
      "execution_count": 13,
      "id": "49ae840a-c057-4880-9452-f4c8559ba26a",
      "metadata": {},
      "outputs": [],
      "source": [
        "    template = get_template()"
      ]
    },
    {
      "cell_type": "markdown",
      "id": "f9c5b7ea-1230-489a-9e39-c73a4da3bffa",
      "metadata": {},
      "source": [
        "## the generated template"
      ]
    },
    {
      "cell_type": "code",
      "execution_count": 14,
      "id": "07af648a-d446-481e-b760-173d8eac9167",
      "metadata": {},
      "outputs": [
        {
          "data": {
            "text/markdown": [
              "``````````````````````````html+jinja\n",
              "{%- extends 'display_priority.j2' -%}\n",
              "{% block body_footer %}\n",
              "{{super()}}\n",
              "{% set mimetype = 'application/vnd.jupyter.widget-state+json'%}\n",
              "{% if mimetype in nb.metadata.get(\"widgets\",{})%}\n",
              "<script type=\"{{ mimetype }}\">\n",
              "{{ nb.metadata.widgets[mimetype] | json_dumps  }}\n",
              "</script>\n",
              "{% endif %}\n",
              "</script>\n",
              "\n",
              "{% endblock %}\n",
              "\n",
              "{% block input %}\n",
              "{% if resources.is_pidgy %}<div class=\"cell source\" hidden>\n",
              "{% endif %}\n",
              "````````````````````````python\n",
              "{{cell.source}}\n",
              "````````````````````````\n",
              "{% if resources.is_pidgy %}</div>\n",
              "{% endif %}\n",
              "{% endblock input %}\n",
              "\n",
              "{% block data_markdown scoped %}\n",
              "\n",
              "{{output.data['text/markdown']}}\n",
              "\n",
              "{% endblock data_markdown %}\n",
              "\n",
              "{% block markdowncell scoped %}\n",
              "\n",
              "{{cell | attachment}}\n",
              "\n",
              "{% endblock markdowncell %} \n",
              "\n",
              "{% block notebook_css %}\n",
              "{{ resources.include_css(\"static/style.css\") }}\n",
              "<style type=\"text/css\">\n",
              "/* Overrides of notebook CSS for static HTML export */\n",
              "body {\n",
              "  overflow: visible;\n",
              "  padding: 8px;\n",
              "}\n",
              "\n",
              "div#notebook {\n",
              "  overflow: visible;\n",
              "  border-top: none;\n",
              "}\n",
              "\n",
              "{%- if resources.global_content_filter.no_prompt-%}\n",
              "div#notebook-container{\n",
              "  padding: 6ex 12ex 8ex 12ex;\n",
              "}\n",
              "{%- endif -%}\n",
              "\n",
              "@media print {\n",
              "  body {\n",
              "    margin: 0;\n",
              "  }\n",
              "  div.cell {\n",
              "    display: block;\n",
              "    page-break-inside: avoid;\n",
              "  }\n",
              "  div.output_wrapper {\n",
              "    display: block;\n",
              "    page-break-inside: avoid;\n",
              "  }\n",
              "  div.output {\n",
              "    display: block;\n",
              "    page-break-inside: avoid;\n",
              "  }\n",
              "}\n",
              "</style>\n",
              "{% endblock notebook_css %}\n",
              "\n",
              "\n",
              "{% block execute_result -%}\n",
              "{%- set extra_class=\"output_execute_result\" -%}\n",
              "{% block data_priority scoped %}\n",
              "{{ super() }}\n",
              "{% endblock data_priority %}\n",
              "{%- set extra_class=\"\" -%}\n",
              "{%- endblock execute_result %}\n",
              "\n",
              "\n",
              "{% block stream_stdout -%}\n",
              "<div class=\"output_subarea output_stream output_stdout output_text\">\n",
              "<pre>\n",
              "{{- output.text | ansi2html -}}\n",
              "</pre>\n",
              "</div>\n",
              "{%- endblock stream_stdout %}\n",
              "\n",
              "\n",
              "{% block stream_stderr -%}\n",
              "<div class=\"output_subarea output_stream output_stderr output_text\">\n",
              "<pre>\n",
              "{{- output.text | ansi2html -}}\n",
              "</pre>\n",
              "</div>\n",
              "{%- endblock stream_stderr %}\n",
              "\n",
              "\n",
              "{% block data_svg scoped -%}\n",
              "<div class=\"output_svg output_subarea {{ extra_class }}\">\n",
              "{%- if output.svg_filename %}\n",
              "<img src=\"{{ output.svg_filename | posix_path }}\">\n",
              "{%- else %}\n",
              "{{ output.data['image/svg+xml'] }}\n",
              "{%- endif %}\n",
              "</div>\n",
              "{%- endblock data_svg %}\n",
              "\n",
              "\n",
              "{% block data_html scoped -%}\n",
              "<div class=\"output_html rendered_html output_subarea {{ extra_class }}\">\n",
              "{%- if output.get('metadata', {}).get('text/html', {}).get('isolated') -%}\n",
              "<iframe\n",
              "    class=\"isolated-iframe\"\n",
              "    style=\"height:520px; width:100%; margin:0; padding: 0\"\n",
              "    frameborder=\"0\"\n",
              "    scrolling=\"auto\"\n",
              "    src=\"data:text/html;base64,{{output.data['text/html'] | text_base64}}\">\n",
              "</iframe>\n",
              "{%- else -%}\n",
              "{{ output.data['text/html'] }}\n",
              "{%- endif -%}\n",
              "</div>\n",
              "{%- endblock data_html %}\n",
              "\n",
              "\n",
              "{% block data_png scoped %}\n",
              "<div class=\"output_png output_subarea {{ extra_class }}\">\n",
              "{%- if 'image/png' in output.metadata.get('filenames', {}) %}\n",
              "<img src=\"{{ output.metadata.filenames['image/png'] | posix_path }}\"\n",
              "{%- else %}\n",
              "<img src=\"data:image/png;base64,{{ output.data['image/png'] }}\"\n",
              "{%- endif %}\n",
              "{%- set width=output | get_metadata('width', 'image/png') -%}\n",
              "{%- if width is not none %}\n",
              "width={{ width }}\n",
              "{%- endif %}\n",
              "{%- set height=output | get_metadata('height', 'image/png') -%}\n",
              "{%- if height is not none %}\n",
              "height={{ height }}\n",
              "{%- endif %}\n",
              "{%- if output | get_metadata('unconfined', 'image/png') %}\n",
              "class=\"unconfined\"\n",
              "{%- endif %}\n",
              "{%- set alttext=(output | get_metadata('alt', 'image/png')) or (cell | get_metadata('alt')) -%}\n",
              "{%- if alttext is not none %}\n",
              "alt=\"{{ alttext }}\"\n",
              "{%- endif %}\n",
              ">\n",
              "</div>\n",
              "{%- endblock data_png %}\n",
              "\n",
              "\n",
              "{% block data_jpg scoped %}\n",
              "<div class=\"output_jpeg output_subarea {{ extra_class }}\">\n",
              "{%- if 'image/jpeg' in output.metadata.get('filenames', {}) %}\n",
              "<img src=\"{{ output.metadata.filenames['image/jpeg'] | posix_path }}\"\n",
              "{%- else %}\n",
              "<img src=\"data:image/jpeg;base64,{{ output.data['image/jpeg'] }}\"\n",
              "{%- endif %}\n",
              "{%- set width=output | get_metadata('width', 'image/jpeg') -%}\n",
              "{%- if width is not none %}\n",
              "width={{ width }}\n",
              "{%- endif %}\n",
              "{%- set height=output | get_metadata('height', 'image/jpeg') -%}\n",
              "{%- if height is not none %}\n",
              "height={{ height }}\n",
              "{%- endif %}\n",
              "{%- if output | get_metadata('unconfined', 'image/jpeg') %}\n",
              "class=\"unconfined\"\n",
              "{%- endif %}\n",
              "{%- set alttext=(output | get_metadata('alt', 'image/jpeg')) or (cell | get_metadata('alt')) -%}\n",
              "{%- if alttext is not none %}\n",
              "alt=\"{{ alttext }}\"\n",
              "{%- endif %}\n",
              ">\n",
              "</div>\n",
              "{%- endblock data_jpg %}\n",
              "\n",
              "\n",
              "{% block error -%}\n",
              "<div class=\"output_subarea output_text output_error\">\n",
              "<pre>\n",
              "{{- super() -}}\n",
              "</pre>\n",
              "</div>\n",
              "{%- endblock error %}\n",
              "\n",
              "\n",
              "{%- block traceback_line %}\n",
              "{{ line | ansi2html }}\n",
              "{%- endblock traceback_line %}\n",
              "\n",
              "\n",
              "{%- block data_widget_state scoped %}\n",
              "{% set div_id = uuid4() %}\n",
              "{% set datatype_list = output.data | filter_data_type %}\n",
              "{% set datatype = datatype_list[0]%}\n",
              "<div id=\"{{ div_id }}\" class=\"output_subarea output_widget_state {{ extra_class }}\">\n",
              "<script type=\"text/javascript\">\n",
              "var element = $('#{{ div_id }}');\n",
              "</script>\n",
              "<script type=\"{{ datatype }}\">\n",
              "{{ output.data[datatype] | json_dumps }}\n",
              "</script>\n",
              "</div>\n",
              "{%- endblock data_widget_state -%}\n",
              "\n",
              "\n",
              "{%- block data_widget_view scoped %}\n",
              "{% set div_id = uuid4() %}\n",
              "{% set datatype_list = output.data | filter_data_type %}\n",
              "{% set datatype = datatype_list[0]%}\n",
              "<div id=\"{{ div_id }}\" class=\"output_subarea output_widget_view {{ extra_class }}\">\n",
              "<script type=\"text/javascript\">\n",
              "var element = $('#{{ div_id }}');\n",
              "</script>\n",
              "<script type=\"{{ datatype }}\">\n",
              "{{ output.data[datatype] | json_dumps }}\n",
              "</script>\n",
              "</div>\n",
              "{%- endblock data_widget_view -%}\n",
              "\n",
              "\n",
              "\n",
              "``````````````````````````"
            ]
          },
          "metadata": {},
          "output_type": "display_data"
        }
      ],
      "source": [
        "    if \"__file__\" not in locals():\n",
        "        display({\"text/markdown\": F\"``````````````````````````html+jinja\\n{template}\\n``````````````````````````\"}, raw=True)"
      ]
    },
    {
      "cell_type": "code",
      "execution_count": null,
      "id": "898f9206-fe8e-4c04-8628-b1be1e9e416a",
      "metadata": {},
      "outputs": [],
      "source": []
    }
  ],
  "metadata": {
    "kernelspec": {
      "display_name": "Python [conda env:root] *",
      "language": "python",
      "name": "conda-root-py"
    },
    "language_info": {
      "codemirror_mode": {
        "name": "ipython",
        "version": 3
      },
      "file_extension": ".py",
      "mimetype": "text/x-python",
      "name": "python",
      "nbconvert_exporter": "python",
      "pygments_lexer": "ipython3",
      "version": "3.9.13"
    },
    "widgets": {
      "application/vnd.jupyter.widget-state+json": {
        "state": {},
        "version_major": 2,
        "version_minor": 0
      }
    }
  },
  "nbformat": 4,
  "nbformat_minor": 5
}