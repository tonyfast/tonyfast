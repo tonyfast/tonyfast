{
  "cells": [
    {
      "cell_type": "markdown",
      "id": "01f8dc91-b433-4ef4-91af-d10a2b9c7e11",
      "metadata": {},
      "source": [
        "# extensible metadata in the notebook format"
      ]
    },
    {
      "cell_type": "markdown",
      "id": "f2e2e224-9be6-495e-9872-1c693fa23ea5",
      "metadata": {},
      "source": [
        "this document is the minimum schema to make metadata extensible.\n",
        "it makes clearer distinctions between the notebook, cell and display metadata.\n",
        "\n",
        "new metadata schema are combined using the `allOf` key that references schema from other places."
      ]
    },
    {
      "cell_type": "code",
      "execution_count": 1,
      "id": "07935ee6-6cc9-4c01-a220-6b8c42b98699",
      "metadata": {
        "jupyter": {
          "source_hidden": true
        }
      },
      "outputs": [
        {
          "data": {
            "text/markdown": [
              "<div hidden>\n",
              "\n",
              "    \n",
              "    %reload_ext pidgy\n",
              "    from midgy.utils import *; import tomli\n",
              "\n",
              "</div>"
            ],
            "text/plain": [
              "<IPython.core.display.Markdown object>"
            ]
          },
          "metadata": {},
          "output_type": "display_data"
        }
      ],
      "source": [
        "    \n",
        "    %pip install tomli midgy pidgy\n",
        "    %reload_ext pidgy\n",
        "    from midgy.utils import *; import tomli"
      ]
    },
    {
      "cell_type": "markdown",
      "id": "fe7941e0-4e6d-4ffd-b2a8-d9233c051cfa",
      "metadata": {},
      "source": [
        "the extended schema is written below in toml."
      ]
    },
    {
      "cell_type": "code",
      "execution_count": 2,
      "id": "8d6eb20b-879d-495f-b48f-e3d3b7d02b17",
      "metadata": {
        "jupyter": {
          "source_hidden": true
        }
      },
      "outputs": [
        {
          "data": {
            "text/markdown": [
              "    schema = strip_fence | tomli.loads | \\\n",
              "```toml\n",
              "description = \"extensible metadata for the notebook schema.\"\n",
              "\n",
              "[\"$defs\".notebook-meta]\n",
              "\"$anchor\" = \"notebook-meta\"\n",
              "allOf = [\n",
              "    {\"$ref\" = \"kernelspec.json\"}\n",
              "]\n",
              "\n",
              "[\"$defs\".code-meta]\n",
              "\"$anchor\" = \"code-meta\"\n",
              "allOf = [\n",
              "    {\"$ref\" = \"#slides\"}\n",
              "]\n",
              "\n",
              "[\"$defs\".display-meta]\n",
              "\"$anchor\" = \"display-meta\"\n",
              "allOf = [\n",
              "    {\"$ref\" = \"#images\"},\n",
              "    {\"$ref\" = \"#json\"}\n",
              "]\n",
              "\n",
              "[\"$defs\".slides]\n",
              "\"$anchor\" = \"slides\"\n",
              "properties.slides.enum = [\"slide\", \"subslide\", \"fragment\"]\n",
              "\n",
              "[properties]\n",
              "metadata.\"$ref\" = \"#notebook-meta\"\n",
              "\n",
              "[properties.cells.items.properties.metadata]\n",
              "\"$ref\" = \"#cell-meta\"\n",
              "\n",
              "[properties.cells.items.properties.outputs.items.properties.metadata]\n",
              "outputs.items.properties.metadata.\"$ref\" = \"#display-meta\"\n",
              "\n",
              "\n",
              "```"
            ],
            "text/plain": [
              "<IPython.core.display.Markdown object>"
            ]
          },
          "metadata": {},
          "output_type": "display_data"
        }
      ],
      "source": [
        "    schema = strip_fence | tomli.loads | \\\n",
        "```toml\n",
        "description = \"extensible metadata for the notebook schema.\"\n",
        "\n",
        "[\"$defs\".notebook-meta]\n",
        "\"$anchor\" = \"notebook-meta\"\n",
        "allOf = [\n",
        "    {\"$ref\" = \"kernelspec.json\"}\n",
        "]\n",
        "\n",
        "[\"$defs\".code-meta]\n",
        "\"$anchor\" = \"code-meta\"\n",
        "allOf = [\n",
        "    {\"$ref\" = \"#slides\"}\n",
        "]\n",
        "\n",
        "[\"$defs\".display-meta]\n",
        "\"$anchor\" = \"display-meta\"\n",
        "allOf = [\n",
        "    {\"$ref\" = \"#images\"},\n",
        "    {\"$ref\" = \"#json\"}\n",
        "]\n",
        "\n",
        "[\"$defs\".slides]\n",
        "\"$anchor\" = \"slides\"\n",
        "properties.slides.enum = [\"slide\", \"subslide\", \"fragment\"]\n",
        "\n",
        "[properties]\n",
        "metadata.\"$ref\" = \"#notebook-meta\"\n",
        "\n",
        "[properties.cells.items.properties.metadata]\n",
        "\"$ref\" = \"#cell-meta\"\n",
        "\n",
        "[properties.cells.items.properties.outputs.items.properties.metadata]\n",
        "outputs.items.properties.metadata.\"$ref\" = \"#display-meta\"\n",
        "\n",
        "\n",
        "```"
      ]
    },
    {
      "cell_type": "markdown",
      "id": "608fae1b-3bc3-4a93-a94b-1993922ac276",
      "metadata": {},
      "source": [
        "it is shown in json below."
      ]
    },
    {
      "cell_type": "code",
      "execution_count": 3,
      "id": "5c1c5f68-d3e7-4831-a286-6a992de04bb9",
      "metadata": {
        "jupyter": {
          "source_hidden": true
        }
      },
      "outputs": [
        {
          "name": "stdout",
          "output_type": "stream",
          "text": [
            "{'$defs': {'code-meta': {'$anchor': 'code-meta',\n",
            "                         'allOf': [{'$ref': '#slides'}]},\n",
            "           'display-meta': {'$anchor': 'display-meta',\n",
            "                            'allOf': [{'$ref': '#images'}, {'$ref': '#json'}]},\n",
            "           'notebook-meta': {'$anchor': 'notebook-meta',\n",
            "                             'allOf': [{'$ref': 'kernelspec.json'}]},\n",
            "           'slides': {'$anchor': 'slides',\n",
            "                      'properties': {'slides': {'enum': ['slide',\n",
            "                                                         'subslide',\n",
            "                                                         'fragment']}}}},\n",
            " 'description': 'extensible metadata for the notebook schema.',\n",
            " 'properties': {'cells': {'items': {'properties': {'metadata': {'$ref': '#cell-meta'},\n",
            "                                                   'outputs': {'items': {'properties': {'metadata': {'outputs': {'items': {'properties': {'metadata': {'$ref': '#display-meta'}}}}}}}}}}},\n",
            "                'metadata': {'$ref': '#notebook-meta'}}}\n"
          ]
        },
        {
          "data": {
            "application/json": {
              "$defs": {
                "code-meta": {
                  "$anchor": "code-meta",
                  "allOf": [
                    {
                      "$ref": "#slides"
                    }
                  ]
                },
                "display-meta": {
                  "$anchor": "display-meta",
                  "allOf": [
                    {
                      "$ref": "#images"
                    },
                    {
                      "$ref": "#json"
                    }
                  ]
                },
                "notebook-meta": {
                  "$anchor": "notebook-meta",
                  "allOf": [
                    {
                      "$ref": "kernelspec.json"
                    }
                  ]
                },
                "slides": {
                  "$anchor": "slides",
                  "properties": {
                    "slides": {
                      "enum": [
                        "slide",
                        "subslide",
                        "fragment"
                      ]
                    }
                  }
                }
              },
              "description": "extensible metadata for the notebook schema.",
              "properties": {
                "cells": {
                  "items": {
                    "properties": {
                      "metadata": {
                        "$ref": "#cell-meta"
                      },
                      "outputs": {
                        "items": {
                          "properties": {
                            "metadata": {
                              "outputs": {
                                "items": {
                                  "properties": {
                                    "metadata": {
                                      "$ref": "#display-meta"
                                    }
                                  }
                                }
                              }
                            }
                          }
                        }
                      }
                    }
                  }
                },
                "metadata": {
                  "$ref": "#notebook-meta"
                }
              }
            },
            "text/plain": [
              "<IPython.core.display.JSON object>"
            ]
          },
          "execution_count": 3,
          "metadata": {
            "application/json": {
              "expanded": false,
              "root": "root"
            }
          },
          "output_type": "execute_result"
        },
        {
          "data": {
            "text/markdown": [
              "    pprint.pprint(schema)\n",
              "    JSON(schema, expanded=False)"
            ],
            "text/plain": [
              "<IPython.core.display.Markdown object>"
            ]
          },
          "metadata": {},
          "output_type": "display_data"
        }
      ],
      "source": [
        "    pprint.pprint(schema)\n",
        "    JSON(schema, expanded=False)"
      ]
    },
    {
      "cell_type": "code",
      "execution_count": null,
      "id": "23be4a05-ae48-4a7b-9a4c-0d643d5da89f",
      "metadata": {
        "jupyter": {
          "source_hidden": true
        }
      },
      "outputs": [],
      "source": []
    }
  ],
  "metadata": {
    "kernelspec": {
      "display_name": "Python [conda env:root] *",
      "language": "python",
      "name": "conda-root-py"
    },
    "language_info": {
      "codemirror_mode": {
        "name": "ipython",
        "version": 3
      },
      "file_extension": ".py",
      "mimetype": "text/x-python",
      "name": "python",
      "nbconvert_exporter": "python",
      "pygments_lexer": "ipython3",
      "version": "3.9.13"
    },
    "widgets": {
      "application/vnd.jupyter.widget-state+json": {
        "state": {},
        "version_major": 2,
        "version_minor": 0
      }
    }
  },
  "nbformat": 4,
  "nbformat_minor": 5
}