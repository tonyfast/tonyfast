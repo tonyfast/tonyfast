{
  "cells": [
    {
      "cell_type": "markdown",
      "id": "b6a29dfa-ce0c-4f2c-8959-576b3b12364a",
      "metadata": {},
      "source": [
        "# diagrams in jupyter and mkdocs\n",
        "\n",
        "[mermaid] has emerged as a community standard for diagrams.\n",
        "we can use it in three places relative to this content:\n",
        "\n",
        "* [mermaid can be used on github][mermaid-gh]\n",
        "* [mermaid can be used in `jupyterlab` with `jupyterlab-markup`][mermaid-gh]\n",
        "* [mermaid can be used with `mkdocs-material`][mermaid-mkdocs]\n",
        "\n",
        "[mermaid]: https://mermaid.js.org/syntax/flowchart.html \"the mermaid.js documentation\"\n",
        "[mermaid-gh]: https://github.blog/2022-02-14-include-diagrams-markdown-files-mermaid/ \"announcement that github renders mermaid.js\"\n",
        "[jupyterlab-markup]: https://github.com/agoose77/jupyterlab-markup \"special code fences for jupyterlab markdown\"\n",
        "[mermaid-mkdocs]: https://squidfunk.github.io/mkdocs-material/reference/diagrams/#configuration \"mkdocs configuration for mermaid\""
      ]
    },
    {
      "cell_type": "code",
      "execution_count": 1,
      "id": "030eec43-436b-41e0-87b5-8d2f4e39f20f",
      "metadata": {
        "jupyter": {
          "source_hidden": true
        }
      },
      "outputs": [],
      "source": [
        "    \n",
        "    %pip install pyodide-http requests_cache requests pidgy beautifulsoup4\n",
        "    __import__('pyodide_http').patch_all()\n",
        "    %reload_ext pidgy\n",
        "    import requests, requests_cache, bs4\n",
        "    requests_cache.install_cache(backend=\"filesystem\")"
      ]
    },
    {
      "cell_type": "code",
      "execution_count": 2,
      "id": "779e2d19-fb7e-42db-a6b8-8b3ffa5525ff",
      "metadata": {
        "jupyter": {
          "source_hidden": true
        }
      },
      "outputs": [
        {
          "data": {
            "text/markdown": [
              "from the `root` page, using `beautifulsoup4` as an intermediary, we can discover that mermaid\n",
              "supports 13 chart syntaxes.\n",
              "\n",
              "```python\n",
              "soup = bs4.BeautifulSoup((root := requests.get(\"https://mermaid.js.org/syntax/classDiagram.html\")).text, \"html.parser\")\n",
              "kinds = set(x.attrs[\"href\"]for x in soup.select(\"a\") if x.attrs[\"href\"].startswith((\"/syntax\",)))\n",
              "```"
            ],
            "text/plain": [
              "<IPython.core.display.Markdown object>"
            ]
          },
          "metadata": {},
          "output_type": "display_data"
        }
      ],
      "source": [
        "from the `root` page, using `beautifulsoup4` as an intermediary, we can discover that mermaid\n",
        "supports {{len(kinds)}} chart syntaxes.\n",
        "\n",
        "```python\n",
        "soup = bs4.BeautifulSoup((root := requests.get(\"https://mermaid.js.org/syntax/classDiagram.html\")).text, \"html.parser\")\n",
        "kinds = set(x.attrs[\"href\"]for x in soup.select(\"a\") if x.attrs[\"href\"].startswith((\"/syntax\",)))\n",
        "```\n"
      ]
    },
    {
      "cell_type": "markdown",
      "id": "aa1c6a4e-de05-477f-b65e-b535dafa917f",
      "metadata": {},
      "source": [
        "extracting the syntaxes to build one master chart."
      ]
    },
    {
      "cell_type": "code",
      "execution_count": 3,
      "id": "64f0a263-f4d6-4622-8e93-4755aca8c8c2",
      "metadata": {
        "jupyter": {
          "source_hidden": true
        }
      },
      "outputs": [
        {
          "data": {
            "text/markdown": [
              "```python\n",
              "baseurl = root.url.rsplit(\"/\", 2)[0]\n",
              "syntaxes = {baseurl + x for x in kinds}\n",
              "responses = {x: requests.get(x) for x in syntaxes}\n",
              "```"
            ],
            "text/plain": [
              "<IPython.core.display.Markdown object>"
            ]
          },
          "metadata": {},
          "output_type": "display_data"
        }
      ],
      "source": [
        "```python\n",
        "baseurl = root.url.rsplit(\"/\", 2)[0]\n",
        "syntaxes = {baseurl + x for x in kinds}\n",
        "responses = {x: requests.get(x) for x in syntaxes}\n",
        "```\n"
      ]
    },
    {
      "cell_type": "code",
      "execution_count": 4,
      "id": "50a8a4ce-fc23-4067-810b-dbcc1203c04b",
      "metadata": {
        "jupyter": {
          "source_hidden": true
        }
      },
      "outputs": [
        {
          "data": {
            "text/markdown": [
              "```python\n",
              "def strip_front_matter(x):\n",
              "    fence = ('---',)\n",
              "    if x.startswith(fence):\n",
              "        y = None\n",
              "        for line in x.splitlines(1)[1:]:\n",
              "            if y is None:\n",
              "                if line.startswith(fence):\n",
              "                    y = \"\"\n",
              "            else:\n",
              "                y += line\n",
              "        return y             \n",
              "    return x\n",
              "\n",
              "```"
            ],
            "text/plain": [
              "<IPython.core.display.Markdown object>"
            ]
          },
          "metadata": {},
          "output_type": "display_data"
        }
      ],
      "source": [
        "```python\n",
        "def strip_front_matter(x):\n",
        "    fence = ('---',)\n",
        "    if x.startswith(fence):\n",
        "        y = None\n",
        "        for line in x.splitlines(1)[1:]:\n",
        "            if y is None:\n",
        "                if line.startswith(fence):\n",
        "                    y = \"\"\n",
        "            else:\n",
        "                y += line\n",
        "        return y             \n",
        "    return x\n",
        "\n",
        "```"
      ]
    },
    {
      "cell_type": "code",
      "execution_count": 5,
      "id": "7b0f8de9-fa28-4f78-aa4a-3dece8590295",
      "metadata": {
        "jupyter": {
          "source_hidden": true
        }
      },
      "outputs": [
        {
          "data": {
            "text/markdown": [
              "## all the diagram styles collection programmatically\n",
              "\n",
              "\n",
              "\n",
              "\n",
              "### Mindmap \n",
              "\n",
              "```mermaid\n",
              "mindmap\n",
              "  root((mindmap))\n",
              "    Origins\n",
              "      Long history\n",
              "      ::icon(fa fa-book)\n",
              "      Popularisation\n",
              "        British popular psychology author Tony Buzan\n",
              "    Research\n",
              "      On effectiveness<br/>and features\n",
              "      On Automatic creation\n",
              "        Uses\n",
              "            Creative techniques\n",
              "            Strategic planning\n",
              "            Argument mapping\n",
              "    Tools\n",
              "      Pen and paper\n",
              "      Mermaid\n",
              "\n",
              "\n",
              "```\n",
              "\n",
              "\n",
              "\n",
              "### C4 Diagrams \n",
              "\n",
              "```mermaid\n",
              "C4Context\n",
              "  title System Context diagram for Internet Banking System\n",
              "  Enterprise_Boundary(b0, \"BankBoundary0\") {\n",
              "    Person(customerA, \"Banking Customer A\", \"A customer of the bank, with personal bank accounts.\")\n",
              "    Person(customerB, \"Banking Customer B\")\n",
              "    Person_Ext(customerC, \"Banking Customer C\", \"desc\")\n",
              "\n",
              "    Person(customerD, \"Banking Customer D\", \"A customer of the bank, <br/> with personal bank accounts.\")\n",
              "\n",
              "    System(SystemAA, \"Internet Banking System\", \"Allows customers to view information about their bank accounts, and make payments.\")\n",
              "\n",
              "    Enterprise_Boundary(b1, \"BankBoundary\") {\n",
              "\n",
              "      SystemDb_Ext(SystemE, \"Mainframe Banking System\", \"Stores all of the core banking information about customers, accounts, transactions, etc.\")\n",
              "\n",
              "      System_Boundary(b2, \"BankBoundary2\") {\n",
              "        System(SystemA, \"Banking System A\")\n",
              "        System(SystemB, \"Banking System B\", \"A system of the bank, with personal bank accounts. next line.\")\n",
              "      }\n",
              "\n",
              "      System_Ext(SystemC, \"E-mail system\", \"The internal Microsoft Exchange e-mail system.\")\n",
              "      SystemDb(SystemD, \"Banking System D Database\", \"A system of the bank, with personal bank accounts.\")\n",
              "\n",
              "      Boundary(b3, \"BankBoundary3\", \"boundary\") {\n",
              "        SystemQueue(SystemF, \"Banking System F Queue\", \"A system of the bank.\")\n",
              "        SystemQueue_Ext(SystemG, \"Banking System G Queue\", \"A system of the bank, with personal bank accounts.\")\n",
              "      }\n",
              "    }\n",
              "  }\n",
              "\n",
              "  BiRel(customerA, SystemAA, \"Uses\")\n",
              "  BiRel(SystemAA, SystemE, \"Uses\")\n",
              "  Rel(SystemAA, SystemC, \"Sends e-mails\", \"SMTP\")\n",
              "  Rel(SystemC, customerA, \"Sends e-mails to\")\n",
              "\n",
              "  UpdateElementStyle(customerA, $fontColor=\"red\", $bgColor=\"grey\", $borderColor=\"red\")\n",
              "  UpdateRelStyle(customerA, SystemAA, $textColor=\"blue\", $lineColor=\"blue\", $offsetX=\"5\")\n",
              "  UpdateRelStyle(SystemAA, SystemE, $textColor=\"blue\", $lineColor=\"blue\", $offsetY=\"-10\")\n",
              "  UpdateRelStyle(SystemAA, SystemC, $textColor=\"blue\", $lineColor=\"blue\", $offsetY=\"-40\", $offsetX=\"-50\")\n",
              "  UpdateRelStyle(SystemC, customerA, $textColor=\"red\", $lineColor=\"red\", $offsetX=\"-50\", $offsetY=\"20\")\n",
              "\n",
              "  UpdateLayoutConfig($c4ShapeInRow=\"3\", $c4BoundaryInRow=\"1\")\n",
              "\n",
              "\n",
              "\n",
              "```\n",
              "\n",
              "\n",
              "\n",
              "### Examples \n",
              "\n",
              "```mermaid\n",
              "pie title NETFLIX\n",
              "         \"Time spent looking for movie\" : 90\n",
              "         \"Time spent watching it\" : 10\n",
              "\n",
              "```\n",
              "\n",
              "\n",
              "\n",
              "### User Journey Diagram \n",
              "\n",
              "```mermaid\n",
              "journey\n",
              "    title My working day\n",
              "    section Go to work\n",
              "      Make tea: 5: Me\n",
              "      Go upstairs: 3: Me\n",
              "      Do work: 1: Me, Cat\n",
              "    section Go home\n",
              "      Go downstairs: 5: Me\n",
              "      Sit down: 5: Me\n",
              "\n",
              "```\n",
              "\n",
              "\n",
              "\n",
              "### Sequence diagrams \n",
              "\n",
              "```mermaid\n",
              "sequenceDiagram\n",
              "    Alice->>John: Hello John, how are you?\n",
              "    John-->>Alice: Great!\n",
              "    Alice-)John: See you later!\n",
              "\n",
              "```\n",
              "\n",
              "\n",
              "\n",
              "### Requirement Diagram \n",
              "\n",
              "```mermaid\n",
              "requirementDiagram\n",
              "\n",
              "requirement test_req {\n",
              "id: 1\n",
              "text: the test text.\n",
              "risk: high\n",
              "verifymethod: test\n",
              "}\n",
              "\n",
              "element test_entity {\n",
              "type: simulation\n",
              "}\n",
              "\n",
              "test_entity - satisfies -> test_req\n",
              "\n",
              "```\n",
              "\n",
              "\n",
              "\n",
              "### Flowcharts - Basic Syntax \n",
              "\n",
              "```mermaid\n",
              "flowchart LR\n",
              "    id\n",
              "\n",
              "```\n",
              "\n",
              "\n",
              "\n",
              "### Entity Relationship Diagrams \n",
              "\n",
              "```mermaid\n",
              "erDiagram\n",
              "    CUSTOMER ||--o{ ORDER : places\n",
              "    ORDER ||--|{ LINE-ITEM : contains\n",
              "    CUSTOMER }|..|{ DELIVERY-ADDRESS : uses\n",
              "\n",
              "```\n",
              "\n",
              "\n",
              "\n",
              "### Pie chart diagrams \n",
              "\n",
              "```mermaid\n",
              "pie title Pets adopted by volunteers\n",
              "    \"Dogs\" : 386\n",
              "    \"Cats\" : 85\n",
              "    \"Rats\" : 15\n",
              "\n",
              "```\n",
              "\n",
              "\n",
              "\n",
              "### State diagrams \n",
              "\n",
              "```mermaid\n",
              "stateDiagram-v2\n",
              "    [*] --> Still\n",
              "    Still --> [*]\n",
              "\n",
              "    Still --> Moving\n",
              "    Moving --> Still\n",
              "    Moving --> Crash\n",
              "    Crash --> [*]\n",
              "\n",
              "```\n",
              "\n",
              "\n",
              "\n",
              "### Gitgraph Diagrams \n",
              "\n",
              "```mermaid\n",
              "gitGraph\n",
              "   commit\n",
              "   commit\n",
              "   branch develop\n",
              "   checkout develop\n",
              "   commit\n",
              "   commit\n",
              "   checkout main\n",
              "   merge develop\n",
              "   commit\n",
              "   commit\n",
              "\n",
              "```\n",
              "\n",
              "\n",
              "\n",
              "### Class diagrams \n",
              "\n",
              "```mermaid\n",
              "classDiagram\n",
              "    note \"From Duck till Zebra\"\n",
              "    Animal <|-- Duck\n",
              "    note for Duck \"can fly\\ncan swim\\ncan dive\\ncan help in debugging\"\n",
              "    Animal <|-- Fish\n",
              "    Animal <|-- Zebra\n",
              "    Animal : +int age\n",
              "    Animal : +String gender\n",
              "    Animal: +isMammal()\n",
              "    Animal: +mate()\n",
              "    class Duck{\n",
              "        +String beakColor\n",
              "        +swim()\n",
              "        +quack()\n",
              "    }\n",
              "    class Fish{\n",
              "        -int sizeInFeet\n",
              "        -canEat()\n",
              "    }\n",
              "    class Zebra{\n",
              "        +bool is_wild\n",
              "        +run()\n",
              "    }\n",
              "\n",
              "```\n",
              "\n",
              "\n",
              "\n",
              "### Gantt diagrams \n",
              "\n",
              "```mermaid\n",
              "gantt\n",
              "    title A Gantt Diagram\n",
              "    dateFormat  YYYY-MM-DD\n",
              "    section Section\n",
              "    A task           :a1, 2014-01-01, 30d\n",
              "    Another task     :after a1  , 20d\n",
              "    section Another\n",
              "    Task in sec      :2014-01-12  , 12d\n",
              "    another task      : 24d\n",
              "\n",
              "```\n"
            ],
            "text/plain": [
              "<IPython.core.display.Markdown object>"
            ]
          },
          "metadata": {},
          "output_type": "display_data"
        }
      ],
      "source": [
        "## all the diagram styles collection programmatically\n",
        "\n",
        "{% for syntax in syntaxes %}\n",
        "{% set page = bs4.BeautifulSoup(responses.get(syntax).text, features=\"html.parser\") %}\n",
        "{% set title = page.select_one(\"h1\").text.rstrip(\"#\") %}\n",
        "### {{title}}\n",
        "\n",
        "```mermaid\n",
        "{{textwrap.dedent(strip_front_matter(page.select_one(\"pre code\").text))}}\n",
        "```\n",
        "{% endfor %}"
      ]
    },
    {
      "cell_type": "code",
      "execution_count": 6,
      "id": "207cc5ef-5de1-4c81-8cf9-5a9aa38c4dd1",
      "metadata": {
        "jupyter": {
          "source_hidden": true
        }
      },
      "outputs": [
        {
          "data": {
            "text/markdown": [
              "the following demos are not working, but 10/13 demos in one place ain't bad.\n",
              "\n",
              "- [ ] C4 Diagrams\n",
              "- [ ] Class diagrams (these work the mkdocs version)\n",
              "- [ ] Mindmap"
            ],
            "text/plain": [
              "<IPython.core.display.Markdown object>"
            ]
          },
          "metadata": {},
          "output_type": "display_data"
        }
      ],
      "source": [
        "the following demos are not working, but {{len(syntaxes)-3}}/{{len(syntaxes)}} demos in one place ain't bad.\n",
        "\n",
        "- [ ] C4 Diagrams\n",
        "- [ ] Class diagrams (these work the mkdocs version)\n",
        "- [ ] Mindmap"
      ]
    },
    {
      "cell_type": "code",
      "execution_count": 7,
      "id": "f01a71e2-fa61-49d6-945c-8e6f7fcd6dd2",
      "metadata": {
        "jupyter": {
          "source_hidden": true
        }
      },
      "outputs": [
        {
          "data": {
            "text/markdown": [
              "## why did mermaid win?\n",
              "\n",
              "i <3 `graphviz` and i'm curius why mermaid one.\n",
              "graphviz is over 30 years old and written in c, but maybe the javascript was enough to win.\n",
              "does wasm change the game?\n",
              "\n",
              "i hope to explore this question further when i read the [graphviz authors take][mermaid-dot-author].\n",
              "\n",
              "[mermaid-dot-author]: https://forum.graphviz.org/t/github-adding-support-for-mermaid-diagrams/998"
            ],
            "text/plain": [
              "<IPython.core.display.Markdown object>"
            ]
          },
          "metadata": {},
          "output_type": "display_data"
        }
      ],
      "source": [
        "## why did mermaid win?\n",
        "\n",
        "i <3 `graphviz` and i'm curius why mermaid one.\n",
        "graphviz is over 30 years old and written in c, but maybe the javascript was enough to win.\n",
        "does wasm change the game?\n",
        "\n",
        "i hope to explore this question further when i read the [graphviz authors take][mermaid-dot-author].\n",
        "\n",
        "[mermaid-dot-author]: https://forum.graphviz.org/t/github-adding-support-for-mermaid-diagrams/998"
      ]
    },
    {
      "cell_type": "code",
      "execution_count": 8,
      "id": "d652d5a0-7f13-4641-9ac0-19b65e5d31e5",
      "metadata": {
        "jupyter": {
          "source_hidden": true
        }
      },
      "outputs": [
        {
          "data": {
            "text/markdown": [
              "## appendix\n",
              "\n",
              "> weird thing: i was only able to get mermaid to work when the title for the document did not have mermaid in it."
            ],
            "text/plain": [
              "<IPython.core.display.Markdown object>"
            ]
          },
          "metadata": {},
          "output_type": "display_data"
        }
      ],
      "source": [
        "## appendix\n",
        "\n",
        "> weird thing: i was only able to get mermaid to work when the title for the document did not have mermaid in it."
      ]
    }
  ],
  "metadata": {
    "kernelspec": {
      "display_name": "Python [conda env:root] *",
      "language": "python",
      "name": "conda-root-py"
    },
    "language_info": {
      "codemirror_mode": {
        "name": "ipython",
        "version": 3
      },
      "file_extension": ".py",
      "mimetype": "text/x-python",
      "name": "python",
      "nbconvert_exporter": "python",
      "pygments_lexer": "ipython3",
      "version": "3.9.13"
    }
  },
  "nbformat": 4,
  "nbformat_minor": 5
}