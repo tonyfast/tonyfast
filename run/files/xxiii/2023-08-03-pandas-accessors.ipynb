{
  "cells": [
    {
      "attachments": {},
      "cell_type": "markdown",
      "id": "08c44845-de7c-441d-a5b3-b34142de96a7",
      "metadata": {},
      "source": [
        "# `pandas` accessors\n",
        "\n",
        "`pandas` accessors provide syntactic sugar for dataframes and series.\n",
        "they make it possible to manipulate `pandas` objects using the familiar\n",
        "fluent interface permitted by chaining pandas methods.\n",
        "\n",
        "further, we consider calling corountines and asynchronous objects during `pandas` computations. at the end, we have a powerful, pluggable interface that permits pandas\n",
        "affordances to be consistently used in an application. designing accessors makes it possible to develop reusable interfaces outside the context of an application."
      ]
    },
    {
      "cell_type": "code",
      "execution_count": 1,
      "id": "9e2faaf5-7b27-41b8-9d10-b6a1f7773421",
      "metadata": {},
      "outputs": [],
      "source": [
        "    %pip install anyio jinja2 pandas\n",
        "    import pandas, anyio, typing, inspect, pathlib\n",
        "    from functools import partial\n",
        "    from operator import *\n",
        "    from functools import singledispatch, partialmethod\n",
        "    from itertools import chain\n",
        "    from enum import auto, IntFlag\n",
        "    class Kind(IntFlag): INDEX, SERIES, DATAFRAME = auto(),auto(),auto()\n",
        "    INDEX, SERIES, FRAME = Kind.INDEX, Kind.SERIES, Kind.DATAFRAME"
      ]
    },
    {
      "cell_type": "markdown",
      "id": "04507910-bbb1-4118-a6d9-56a9beb81fa9",
      "metadata": {},
      "source": [
        "each pandas collection has a mapping method, but the methods vary based on the type of the dataframe. the `apply` function is an async aware generalized mapper for pandas collections that always return a series of dataframe."
      ]
    },
    {
      "cell_type": "markdown",
      "id": "13eca464-469b-4c48-8645-01a47266edf9",
      "metadata": {},
      "source": [
        "the `Accessor` implements the base pattern for `pandas` accessors. we add some conveniences for registering accessors \n",
        "to the class creation"
      ]
    },
    {
      "cell_type": "code",
      "execution_count": 2,
      "id": "c8d81951-0d84-46d2-88ad-0f0ef9ff0dc6",
      "metadata": {},
      "outputs": [],
      "source": [
        "    class Accessor:\n",
        "        def __init__(self, object):\n",
        "            self.object = object\n",
        "\n",
        "        def __init_subclass__(cls, method=None, types=INDEX|SERIES|FRAME, name=None):\n",
        "            cls.method = method\n",
        "\n",
        "            for t in (INDEX, SERIES, FRAME):\n",
        "                if t in types:\n",
        "                    getattr(pandas.api.extensions, F\"register_{t.name.lower()}_accessor\")(name or cls.__name__.lower())(cls)\n",
        "        ACC_METHODS = {pandas.Index: \"index\", pandas.Series: \"series\", pandas.DataFrame: \"dataframe\"}\n",
        "        "
      ]
    },
    {
      "cell_type": "markdown",
      "id": "ccb7c9f4-9e0b-4830-a5cc-420acb3f5bd6",
      "metadata": {},
      "source": [
        "the `Method` generically consumes methods to create accessors for entire method apis."
      ]
    },
    {
      "cell_type": "code",
      "execution_count": 3,
      "id": "038d0f1b-dcc4-4ea8-9efd-58885b8f843c",
      "metadata": {},
      "outputs": [],
      "source": [
        "    class Method(Accessor):\n",
        "        def __init_subclass__(cls, method=None, types=[pandas.Index, pandas.Series, pandas.DataFrame], name=None):\n",
        "            super().__init_subclass__(method=method, types=types, name=name)\n",
        "\n",
        "            for k,v in vars(method).items():\n",
        "                if hasattr(cls, k): continue\n",
        "                if callable(method) and not isinstance(v, classmethod): \n",
        "                    setattr(cls, k, partialmethod(cls.apply, v))\n",
        "                elif isinstance(method, property):\n",
        "                    setattr(cls, k, property(partialmethod(cls.apply, operator.attrgetter(k))))\n",
        "\n",
        "        def apply(self, f, *args, **kwargs):\n",
        "            return apply(self.object,f, *args, **kwargs)"
      ]
    },
    {
      "cell_type": "markdown",
      "id": "b6a4a60f-7c18-4266-be0a-b2d3e7eb1728",
      "metadata": {},
      "source": [
        "### a generalized, async-aware apply method"
      ]
    },
    {
      "cell_type": "code",
      "execution_count": 4,
      "id": "e3f91524-764e-45e9-bdd9-dd027ef86b02",
      "metadata": {},
      "outputs": [],
      "source": [
        "@singledispatch\n",
        "def apply(x, f, *args, **kwargs):\n",
        "    return apply_index(pandas.Index(x), f, *args, **kwargs)\n",
        "\n",
        "@apply.register(pandas.Index)\n",
        "def apply_index(x, f, *args, **kwargs):\n",
        "    return apply_series(x.to_series(), f, *args, **kwargs)\n",
        "\n",
        "@apply.register(pandas.Series)\n",
        "def apply_series(x, f, *args, **kwargs):\n",
        "    return x.apply(f, args=args, **kwargs).rename(f.__name__).pipe(_sync_or_async)\n",
        "\n",
        "@apply.register(pandas.DataFrame)\n",
        "def apply_frame(x, f, *args, **kwargs):\n",
        "    return x.apply(f, axis=1, args=args, **kwargs).pipe(_sync_or_async)\n",
        "\n",
        "@apply.register(pandas.core.groupby.DataFrameGroupBy)\n",
        "def apply_group(x, f, *args, **kwargs):\n",
        "    return x.apply(f, *args, **kwargs).pipe(_sync_or_async)"
      ]
    },
    {
      "cell_type": "code",
      "execution_count": 5,
      "id": "dde0fc41-5483-4079-9dee-99c6b306c864",
      "metadata": {},
      "outputs": [],
      "source": [
        "async def _asyncgen(x): return [x async for x in x]\n",
        "    \n",
        "async def _update(s, gen=None, asyn=None):\n",
        "    from asyncio import gather\n",
        "    if not len(s): return ()\n",
        "    if isinstance(s[0], (typing.AsyncGenerator, typing.AsyncIterable)):\n",
        "        s = s.apply(_asyncgen)\n",
        "    if isinstance(s[0], typing.Coroutine):\n",
        "        y = await gather(*s.tolist())\n",
        "        s.update(dict(zip(s.index, y)))\n",
        "    return s\n",
        "\n",
        "def _sync_or_async(s):\n",
        "    return _update(s) if _isasync(s) else s\n",
        "\n",
        "def _isasync(x):\n",
        "    if len(x):\n",
        "        return isinstance(x[0], (typing.AsyncGenerator, typing.AsyncIterable, typing.AsyncIterator, typing.Coroutine))\n",
        "    return  False\n"
      ]
    },
    {
      "cell_type": "markdown",
      "id": "fbb09b5d-febc-4e18-a5c6-cc021045edfe",
      "metadata": {},
      "source": [
        "let use that boring ass `sleep` example to compare that `pandas` is in fact running async."
      ]
    },
    {
      "cell_type": "code",
      "execution_count": 6,
      "id": "b1bc55ad-9aa1-4ba8-8ab5-96eff4fd16b7",
      "metadata": {},
      "outputs": [],
      "source": [
        "    def hold(x): __import__(\"time\").sleep(x*.1); return x\n",
        "    async def ahold(x): await __import__(\"asyncio\").sleep(x*.1); return x"
      ]
    },
    {
      "cell_type": "markdown",
      "id": "6b200e59-f969-47ca-92f4-ccce19a17e02",
      "metadata": {},
      "source": [
        "when comparing async and sync version the `sleep` code we find that our wall time, the actual duration of time, can be drastically reduced.\n",
        "this comes at a cost of the cpu time required. the async cpu is greater because mode code is required to handle coroutines and async evaluations."
      ]
    },
    {
      "cell_type": "code",
      "execution_count": 7,
      "id": "ebf5dce2-df04-431d-8c59-cb88e37078da",
      "metadata": {},
      "outputs": [
        {
          "name": "stdout",
          "output_type": "stream",
          "text": [
            "the async version runs faster in parallel\n",
            "CPU times: user 6.38 ms, sys: 0 ns, total: 6.38 ms\n",
            "Wall time: 904 ms\n",
            "while the sync version runs in serial\n",
            "CPU times: user 1.78 ms, sys: 973 \u00b5s, total: 2.75 ms\n",
            "Wall time: 4.5 s\n",
            "the difference in the times allows us to see that are accessors are running in parallel.\n"
          ]
        }
      ],
      "source": [
        "    N = 10\n",
        "    __import__(\"nest_asyncio\").apply()\n",
        "    print(\"the async version runs faster in parallel\")\n",
        "    %time __import__(\"asyncio\").run(apply_index(pandas.RangeIndex(N)[::-1], ahold))\n",
        "    print(\"while the sync version runs in serial\")\n",
        "    %time apply_index(pandas.RangeIndex(N)[::-1], hold)\n",
        "    print(\"the difference in the times allows us to see that are accessors are running in parallel.\")"
      ]
    },
    {
      "cell_type": "markdown",
      "id": "fe1d9466-cc79-4334-91e7-276cb6acf62c",
      "metadata": {},
      "source": [
        "## sync and async paths"
      ]
    },
    {
      "cell_type": "code",
      "execution_count": 8,
      "id": "7d748edd-d996-431d-a07b-6293a1d0e581",
      "metadata": {},
      "outputs": [],
      "source": [
        "    class Path(Method, method=pathlib.Path, name=\"path\", types=INDEX | SERIES):\n",
        "        def __call__(self, *args, **kwargs):\n",
        "            if isinstance(self.object, pandas.Index):\n",
        "                return self.object.map(self.method)\n",
        "            return self.object.apply(self.method)"
      ]
    },
    {
      "cell_type": "code",
      "execution_count": 9,
      "id": "45563665-a8d0-42bf-8eff-e13c630a736a",
      "metadata": {},
      "outputs": [],
      "source": [
        "    sync_dirs = (\n",
        "        pandas.Index([\"\"]).path().path.glob(\"*.ipynb\")\n",
        "    ).apply(list).explode()"
      ]
    },
    {
      "cell_type": "markdown",
      "id": "f05f6f1e-0eaf-4be8-9d2c-22420eec68f8",
      "metadata": {},
      "source": [
        "normal `pandas` apply methods are not `async` aware."
      ]
    },
    {
      "cell_type": "code",
      "execution_count": 10,
      "id": "2f6333c2-c243-4683-afc7-e081b8e5d137",
      "metadata": {},
      "outputs": [],
      "source": [
        "    class APath(Method, method=anyio.Path, name=\"apath\", types=INDEX | SERIES):\n",
        "        def __call__(self, *args, **kwargs):\n",
        "            if isinstance(self.object, pandas.Index):\n",
        "                return self.object.map(self.method)\n",
        "            return self.object.apply(self.method)"
      ]
    },
    {
      "cell_type": "markdown",
      "id": "12407328-bb55-4705-9aad-0025bd40c874",
      "metadata": {},
      "source": [
        "the `async_dirs` is returned from the `async` variant that requires an `await` statement ammended to the `sync_dirs` definition"
      ]
    },
    {
      "cell_type": "code",
      "execution_count": 11,
      "id": "4703b2d5-9a15-4bae-b49b-24c660b74436",
      "metadata": {},
      "outputs": [],
      "source": [
        "    async_dirs = (\n",
        "        await pandas.Index([\"\"]).apath().apath.glob(\"*.ipynb\")\n",
        "    ).apply(list).explode()"
      ]
    },
    {
      "cell_type": "code",
      "execution_count": 12,
      "id": "287ac549-93c1-4691-a9e2-ef7fc4717b24",
      "metadata": {},
      "outputs": [],
      "source": [
        "    assert pandas.testing.assert_series_equal(sync_dirs, async_dirs) is None"
      ]
    },
    {
      "cell_type": "code",
      "execution_count": 13,
      "id": "785fecdd-9a81-4943-8bd8-111df8f6fc3e",
      "metadata": {},
      "outputs": [
        {
          "data": {
            "text/html": [
              "<div>\n",
              "<style scoped>\n",
              "    .dataframe tbody tr th:only-of-type {\n",
              "        vertical-align: middle;\n",
              "    }\n",
              "\n",
              "    .dataframe tbody tr th {\n",
              "        vertical-align: top;\n",
              "    }\n",
              "\n",
              "    .dataframe thead th {\n",
              "        text-align: right;\n",
              "    }\n",
              "</style>\n",
              "<table border=\"1\" class=\"dataframe\">\n",
              "  <thead>\n",
              "    <tr style=\"text-align: right;\">\n",
              "      <th></th>\n",
              "      <th>cells</th>\n",
              "      <th>metadata</th>\n",
              "      <th>nbformat</th>\n",
              "      <th>nbformat_minor</th>\n",
              "    </tr>\n",
              "    <tr>\n",
              "      <th>glob</th>\n",
              "      <th></th>\n",
              "      <th></th>\n",
              "      <th></th>\n",
              "      <th></th>\n",
              "    </tr>\n",
              "  </thead>\n",
              "  <tbody>\n",
              "    <tr>\n",
              "      <th>2022-06-28-.ipynb</th>\n",
              "      <td>{'cell_type': 'code', 'execution_count': 8, 'i...</td>\n",
              "      <td>{'kernelspec': {'display_name': 'pidgy', 'lang...</td>\n",
              "      <td>4</td>\n",
              "      <td>5</td>\n",
              "    </tr>\n",
              "    <tr>\n",
              "      <th>2022-06-28-.ipynb</th>\n",
              "      <td>{'cell_type': 'code', 'execution_count': 12, '...</td>\n",
              "      <td>{'kernelspec': {'display_name': 'pidgy', 'lang...</td>\n",
              "      <td>4</td>\n",
              "      <td>5</td>\n",
              "    </tr>\n",
              "    <tr>\n",
              "      <th>2022-06-28-.ipynb</th>\n",
              "      <td>{'cell_type': 'code', 'execution_count': 43, '...</td>\n",
              "      <td>{'kernelspec': {'display_name': 'pidgy', 'lang...</td>\n",
              "      <td>4</td>\n",
              "      <td>5</td>\n",
              "    </tr>\n",
              "    <tr>\n",
              "      <th>2022-06-28-.ipynb</th>\n",
              "      <td>{'cell_type': 'code', 'execution_count': 44, '...</td>\n",
              "      <td>{'kernelspec': {'display_name': 'pidgy', 'lang...</td>\n",
              "      <td>4</td>\n",
              "      <td>5</td>\n",
              "    </tr>\n",
              "    <tr>\n",
              "      <th>2022-06-28-.ipynb</th>\n",
              "      <td>{'cell_type': 'code', 'execution_count': 65, '...</td>\n",
              "      <td>{'kernelspec': {'display_name': 'pidgy', 'lang...</td>\n",
              "      <td>4</td>\n",
              "      <td>5</td>\n",
              "    </tr>\n",
              "    <tr>\n",
              "      <th>...</th>\n",
              "      <td>...</td>\n",
              "      <td>...</td>\n",
              "      <td>...</td>\n",
              "      <td>...</td>\n",
              "    </tr>\n",
              "    <tr>\n",
              "      <th>2022-06-26-.ipynb</th>\n",
              "      <td>{'cell_type': 'code', 'execution_count': 7, 'i...</td>\n",
              "      <td>{'kernelspec': {'display_name': 'Python [conda...</td>\n",
              "      <td>4</td>\n",
              "      <td>5</td>\n",
              "    </tr>\n",
              "    <tr>\n",
              "      <th>2022-06-26-.ipynb</th>\n",
              "      <td>{'cell_type': 'code', 'execution_count': 113, ...</td>\n",
              "      <td>{'kernelspec': {'display_name': 'Python [conda...</td>\n",
              "      <td>4</td>\n",
              "      <td>5</td>\n",
              "    </tr>\n",
              "    <tr>\n",
              "      <th>2022-06-26-.ipynb</th>\n",
              "      <td>{'cell_type': 'code', 'execution_count': 114, ...</td>\n",
              "      <td>{'kernelspec': {'display_name': 'Python [conda...</td>\n",
              "      <td>4</td>\n",
              "      <td>5</td>\n",
              "    </tr>\n",
              "    <tr>\n",
              "      <th>2022-06-26-.ipynb</th>\n",
              "      <td>{'cell_type': 'code', 'execution_count': 101, ...</td>\n",
              "      <td>{'kernelspec': {'display_name': 'Python [conda...</td>\n",
              "      <td>4</td>\n",
              "      <td>5</td>\n",
              "    </tr>\n",
              "    <tr>\n",
              "      <th>2022-06-26-.ipynb</th>\n",
              "      <td>{'cell_type': 'code', 'execution_count': None,...</td>\n",
              "      <td>{'kernelspec': {'display_name': 'Python [conda...</td>\n",
              "      <td>4</td>\n",
              "      <td>5</td>\n",
              "    </tr>\n",
              "  </tbody>\n",
              "</table>\n",
              "<p>1088 rows \u00d7 4 columns</p>\n",
              "</div>"
            ],
            "text/plain": [
              "                                                               cells  \\\n",
              "glob                                                                   \n",
              "2022-06-28-.ipynb  {'cell_type': 'code', 'execution_count': 8, 'i...   \n",
              "2022-06-28-.ipynb  {'cell_type': 'code', 'execution_count': 12, '...   \n",
              "2022-06-28-.ipynb  {'cell_type': 'code', 'execution_count': 43, '...   \n",
              "2022-06-28-.ipynb  {'cell_type': 'code', 'execution_count': 44, '...   \n",
              "2022-06-28-.ipynb  {'cell_type': 'code', 'execution_count': 65, '...   \n",
              "...                                                              ...   \n",
              "2022-06-26-.ipynb  {'cell_type': 'code', 'execution_count': 7, 'i...   \n",
              "2022-06-26-.ipynb  {'cell_type': 'code', 'execution_count': 113, ...   \n",
              "2022-06-26-.ipynb  {'cell_type': 'code', 'execution_count': 114, ...   \n",
              "2022-06-26-.ipynb  {'cell_type': 'code', 'execution_count': 101, ...   \n",
              "2022-06-26-.ipynb  {'cell_type': 'code', 'execution_count': None,...   \n",
              "\n",
              "                                                            metadata  \\\n",
              "glob                                                                   \n",
              "2022-06-28-.ipynb  {'kernelspec': {'display_name': 'pidgy', 'lang...   \n",
              "2022-06-28-.ipynb  {'kernelspec': {'display_name': 'pidgy', 'lang...   \n",
              "2022-06-28-.ipynb  {'kernelspec': {'display_name': 'pidgy', 'lang...   \n",
              "2022-06-28-.ipynb  {'kernelspec': {'display_name': 'pidgy', 'lang...   \n",
              "2022-06-28-.ipynb  {'kernelspec': {'display_name': 'pidgy', 'lang...   \n",
              "...                                                              ...   \n",
              "2022-06-26-.ipynb  {'kernelspec': {'display_name': 'Python [conda...   \n",
              "2022-06-26-.ipynb  {'kernelspec': {'display_name': 'Python [conda...   \n",
              "2022-06-26-.ipynb  {'kernelspec': {'display_name': 'Python [conda...   \n",
              "2022-06-26-.ipynb  {'kernelspec': {'display_name': 'Python [conda...   \n",
              "2022-06-26-.ipynb  {'kernelspec': {'display_name': 'Python [conda...   \n",
              "\n",
              "                   nbformat  nbformat_minor  \n",
              "glob                                         \n",
              "2022-06-28-.ipynb         4               5  \n",
              "2022-06-28-.ipynb         4               5  \n",
              "2022-06-28-.ipynb         4               5  \n",
              "2022-06-28-.ipynb         4               5  \n",
              "2022-06-28-.ipynb         4               5  \n",
              "...                     ...             ...  \n",
              "2022-06-26-.ipynb         4               5  \n",
              "2022-06-26-.ipynb         4               5  \n",
              "2022-06-26-.ipynb         4               5  \n",
              "2022-06-26-.ipynb         4               5  \n",
              "2022-06-26-.ipynb         4               5  \n",
              "\n",
              "[1088 rows x 4 columns]"
            ]
          },
          "execution_count": 13,
          "metadata": {},
          "output_type": "execute_result"
        }
      ],
      "source": [
        "    (\n",
        "        await async_dirs.pipe(pandas.Index).apath.read_text()\n",
        "    ).apply(pandas.read_json, typ=\"series\").explode(\"cells\")"
      ]
    },
    {
      "cell_type": "code",
      "execution_count": 14,
      "id": "4c7469cb-0ba6-4486-8513-bfbd52d3736d",
      "metadata": {},
      "outputs": [],
      "source": [
        "    import jinja2"
      ]
    },
    {
      "cell_type": "code",
      "execution_count": 15,
      "id": "562c0106-77b5-47d9-88e1-7672faee9590",
      "metadata": {},
      "outputs": [],
      "source": [
        "    class Template(Method, method=jinja2.Environment(), types=FRAME):\n",
        "        def render_string(self, tpl, **kwargs):\n",
        "            tpl = self.method.from_string(tpl)\n",
        "            return apply_frame(self.object, self._render_series, tpl)\n",
        "\n",
        "        def _render_series(self, row, tpl, **kwargs):\n",
        "            if self.method.is_async:\n",
        "                return tpl.render_async(**row, **kwargs)\n",
        "            return tpl.render(**row, **kwargs)\n",
        "\n",
        "        def render_template(self, tpl, **kwargs):\n",
        "            tpl = self.method.get_template(tpl)\n",
        "            return apply_frame(self.object, self._render_series, tpl)"
      ]
    },
    {
      "cell_type": "code",
      "execution_count": 16,
      "id": "69c7d289-26e3-49cd-9c2a-523ca4359b95",
      "metadata": {},
      "outputs": [],
      "source": [
        "    class ATemplate(Template, method=jinja2.Environment(enable_async=True), types=FRAME):\n",
        "        pass"
      ]
    },
    {
      "cell_type": "code",
      "execution_count": 17,
      "id": "fd1d483e-c37e-4d20-b381-cce3d604a6cb",
      "metadata": {},
      "outputs": [],
      "source": [
        "    df = sync_dirs.pipe(pandas.Index, name=\"path\").to_series().to_frame()"
      ]
    },
    {
      "cell_type": "code",
      "execution_count": 18,
      "id": "c9f1e4e7-be31-4138-8d29-d01df0e37ee1",
      "metadata": {},
      "outputs": [
        {
          "data": {
            "text/plain": [
              "path\n",
              "2022-06-28-.ipynb                                                      sha256sum 2022-06-28-.ipynb\n",
              "2022-12-29-.ipynb                                                      sha256sum 2022-12-29-.ipynb\n",
              "Untitled6.ipynb                                                          sha256sum Untitled6.ipynb\n",
              "Untitled.ipynb                                                            sha256sum Untitled.ipynb\n",
              "2022-12-14-.ipynb                                                      sha256sum 2022-12-14-.ipynb\n",
              "2022-10-21-.ipynb                                                      sha256sum 2022-10-21-.ipynb\n",
              "2023-01-09-.ipynb                                                      sha256sum 2023-01-09-.ipynb\n",
              "Untitled5.ipynb                                                          sha256sum Untitled5.ipynb\n",
              "index.ipynb                                                                  sha256sum index.ipynb\n",
              "2022-11-21-.ipynb                                                      sha256sum 2022-11-21-.ipynb\n",
              "Untitled3.ipynb                                                          sha256sum Untitled3.ipynb\n",
              "2022-12-21-anatomy-of-cells.ipynb                      sha256sum 2022-12-21-anatomy-of-cells.ipynb\n",
              "2022-06-24-.ipynb                                                      sha256sum 2022-06-24-.ipynb\n",
              "2022-06-23-.ipynb                                                      sha256sum 2022-06-23-.ipynb\n",
              "Untitled10.ipynb                                                        sha256sum Untitled10.ipynb\n",
              "2022-12-14-2.ipynb                                                    sha256sum 2022-12-14-2.ipynb\n",
              "Untitled9.ipynb                                                          sha256sum Untitled9.ipynb\n",
              "Untitled11.ipynb                                                        sha256sum Untitled11.ipynb\n",
              "Untitled7.ipynb                                                          sha256sum Untitled7.ipynb\n",
              "2023-01-15-htmx.ipynb                                              sha256sum 2023-01-15-htmx.ipynb\n",
              "Untitled1.ipynb                                                          sha256sum Untitled1.ipynb\n",
              "Untitled2.ipynb                                                          sha256sum Untitled2.ipynb\n",
              "2022-12-14-nbformat.ipynb                                      sha256sum 2022-12-14-nbformat.ipynb\n",
              "Untitled8.ipynb                                                          sha256sum Untitled8.ipynb\n",
              "2022-04-12-.ipynb                                                      sha256sum 2022-04-12-.ipynb\n",
              "Untitled12.ipynb                                                        sha256sum Untitled12.ipynb\n",
              "2022-03-06-schemata-scratch.ipynb                      sha256sum 2022-03-06-schemata-scratch.ipynb\n",
              "2022-12-15-.ipynb                                                      sha256sum 2022-12-15-.ipynb\n",
              "2022-12-17-1.ipynb                                                    sha256sum 2022-12-17-1.ipynb\n",
              "2022-06-20-.ipynb                                                      sha256sum 2022-06-20-.ipynb\n",
              "2022-12-21-lite-build.ipynb                                  sha256sum 2022-12-21-lite-build.ipynb\n",
              "2022-06-29-.ipynb                                                      sha256sum 2022-06-29-.ipynb\n",
              "2022-12-17-.ipynb                                                      sha256sum 2022-12-17-.ipynb\n",
              "Untitled4.ipynb                                                          sha256sum Untitled4.ipynb\n",
              "2022-12-17-find-dependencies-in-content.ipynb    sha256sum 2022-12-17-find-dependencies-in-cont...\n",
              "2022-06-26-.ipynb                                                      sha256sum 2022-06-26-.ipynb\n",
              "dtype: object"
            ]
          },
          "execution_count": 18,
          "metadata": {},
          "output_type": "execute_result"
        }
      ],
      "source": [
        "    sync_dirs.pipe(pandas.Index, name=\"path\").to_series().to_frame().template.render_string(\"sha256sum {{path}}\")"
      ]
    },
    {
      "cell_type": "code",
      "execution_count": 19,
      "id": "d9adc8a7-60e0-4a54-aeca-67eecbc0e679",
      "metadata": {},
      "outputs": [
        {
          "data": {
            "text/plain": [
              "path\n",
              "2022-06-28-.ipynb                                                      sha256sum 2022-06-28-.ipynb\n",
              "2022-12-29-.ipynb                                                      sha256sum 2022-12-29-.ipynb\n",
              "Untitled6.ipynb                                                          sha256sum Untitled6.ipynb\n",
              "Untitled.ipynb                                                            sha256sum Untitled.ipynb\n",
              "2022-12-14-.ipynb                                                      sha256sum 2022-12-14-.ipynb\n",
              "2022-10-21-.ipynb                                                      sha256sum 2022-10-21-.ipynb\n",
              "2023-01-09-.ipynb                                                      sha256sum 2023-01-09-.ipynb\n",
              "Untitled5.ipynb                                                          sha256sum Untitled5.ipynb\n",
              "index.ipynb                                                                  sha256sum index.ipynb\n",
              "2022-11-21-.ipynb                                                      sha256sum 2022-11-21-.ipynb\n",
              "Untitled3.ipynb                                                          sha256sum Untitled3.ipynb\n",
              "2022-12-21-anatomy-of-cells.ipynb                      sha256sum 2022-12-21-anatomy-of-cells.ipynb\n",
              "2022-06-24-.ipynb                                                      sha256sum 2022-06-24-.ipynb\n",
              "2022-06-23-.ipynb                                                      sha256sum 2022-06-23-.ipynb\n",
              "Untitled10.ipynb                                                        sha256sum Untitled10.ipynb\n",
              "2022-12-14-2.ipynb                                                    sha256sum 2022-12-14-2.ipynb\n",
              "Untitled9.ipynb                                                          sha256sum Untitled9.ipynb\n",
              "Untitled11.ipynb                                                        sha256sum Untitled11.ipynb\n",
              "Untitled7.ipynb                                                          sha256sum Untitled7.ipynb\n",
              "2023-01-15-htmx.ipynb                                              sha256sum 2023-01-15-htmx.ipynb\n",
              "Untitled1.ipynb                                                          sha256sum Untitled1.ipynb\n",
              "Untitled2.ipynb                                                          sha256sum Untitled2.ipynb\n",
              "2022-12-14-nbformat.ipynb                                      sha256sum 2022-12-14-nbformat.ipynb\n",
              "Untitled8.ipynb                                                          sha256sum Untitled8.ipynb\n",
              "2022-04-12-.ipynb                                                      sha256sum 2022-04-12-.ipynb\n",
              "Untitled12.ipynb                                                        sha256sum Untitled12.ipynb\n",
              "2022-03-06-schemata-scratch.ipynb                      sha256sum 2022-03-06-schemata-scratch.ipynb\n",
              "2022-12-15-.ipynb                                                      sha256sum 2022-12-15-.ipynb\n",
              "2022-12-17-1.ipynb                                                    sha256sum 2022-12-17-1.ipynb\n",
              "2022-06-20-.ipynb                                                      sha256sum 2022-06-20-.ipynb\n",
              "2022-12-21-lite-build.ipynb                                  sha256sum 2022-12-21-lite-build.ipynb\n",
              "2022-06-29-.ipynb                                                      sha256sum 2022-06-29-.ipynb\n",
              "2022-12-17-.ipynb                                                      sha256sum 2022-12-17-.ipynb\n",
              "Untitled4.ipynb                                                          sha256sum Untitled4.ipynb\n",
              "2022-12-17-find-dependencies-in-content.ipynb    sha256sum 2022-12-17-find-dependencies-in-cont...\n",
              "2022-06-26-.ipynb                                                      sha256sum 2022-06-26-.ipynb\n",
              "dtype: object"
            ]
          },
          "execution_count": 19,
          "metadata": {},
          "output_type": "execute_result"
        }
      ],
      "source": [
        "    await sync_dirs.pipe(pandas.Index, name=\"path\").to_series().to_frame().atemplate.render_string(\"sha256sum {{path}}\")"
      ]
    }
  ],
  "metadata": {
    "kernelspec": {
      "display_name": "Python [conda env:p311] *",
      "language": "python",
      "name": "conda-env-p311-py"
    },
    "language_info": {
      "codemirror_mode": {
        "name": "ipython",
        "version": 3
      },
      "file_extension": ".py",
      "mimetype": "text/x-python",
      "name": "python",
      "nbconvert_exporter": "python",
      "pygments_lexer": "ipython3",
      "version": "3.11.3"
    },
    "widgets": {
      "application/vnd.jupyter.widget-state+json": {
        "state": {},
        "version_major": 2,
        "version_minor": 0
      }
    }
  },
  "nbformat": 4,
  "nbformat_minor": 5
}