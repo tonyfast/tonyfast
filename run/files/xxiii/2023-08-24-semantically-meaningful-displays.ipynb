{
  "cells": [
    {
      "cell_type": "markdown",
      "id": "2e49b402-55f5-4f5d-a7dc-d183c3f08b6b",
      "metadata": {},
      "source": [
        "# semantically meaningful display outputs for notebooks\n",
        "\n",
        "html is a data structure for visual information"
      ]
    },
    {
      "cell_type": "code",
      "execution_count": 8,
      "id": "3f2602cb-0128-44e8-8355-84780e281d5f",
      "metadata": {
        "jupyter": {
          "source_hidden": true
        }
      },
      "outputs": [
        {
          "data": {
            "text/markdown": [
              "    import jinja2, datetime; from IPython.display import HTML\n",
              "    env = jinja2.Environment(loader=jinja2.DictLoader(templates := {}), extensions=[\"jinja2.ext.loopcontrols\"]);\n",
              "    env.globals.update(dispatch=(dispatch := {}))\n",
              "    env.filters.update(dumps=__import__(\"json\").dumps,**vars(__import__(\"builtins\")))"
            ],
            "text/plain": [
              "<IPython.core.display.Markdown object>"
            ]
          },
          "metadata": {},
          "output_type": "display_data"
        }
      ],
      "source": [
        "    %pip install IPython jinja2 pidgy\n",
        "    import jinja2, datetime; from IPython.display import HTML\n",
        "    env = jinja2.Environment(loader=jinja2.DictLoader(templates := {}), extensions=[\"jinja2.ext.loopcontrols\"]);\n",
        "    env.globals.update(dispatch=(dispatch := {}))\n",
        "    env.filters.update(dumps=__import__(\"json\").dumps,**vars(__import__(\"builtins\")))"
      ]
    },
    {
      "cell_type": "markdown",
      "id": "33e7df38-0287-4e1f-846e-2a8a6c00e72a",
      "metadata": {},
      "source": [
        "## template type dispatcher\n",
        "\n",
        "for need to generate appropriate semantics for different data structures.\n",
        "we'll use a dispatching dictionary to handle that work. when `int` or `float` types are found then the `numeric` templates is used, `str` types use the `string`, `list` and `dict` handle sequences and containers."
      ]
    },
    {
      "cell_type": "code",
      "execution_count": 2,
      "id": "8ff5e4c1-37bd-43ec-b701-9dcba6b06e5e",
      "metadata": {
        "jupyter": {
          "source_hidden": true
        }
      },
      "outputs": [
        {
          "data": {
            "text/html": [
              "<style>\n",
              "data:empty::after {\n",
              "    content: attr(value);\n",
              "}\n",
              "</style>"
            ],
            "text/plain": [
              "<IPython.core.display.HTML object>"
            ]
          },
          "execution_count": 2,
          "metadata": {},
          "output_type": "execute_result"
        }
      ],
      "source": [
        "    HTML(\"\"\"<style>\n",
        "    data:empty::after {\n",
        "        content: attr(value);\n",
        "    }\n",
        "    </style>\"\"\")"
      ]
    },
    {
      "cell_type": "code",
      "execution_count": 3,
      "id": "26f33609-4cfe-4245-bba3-f16fcc37bf9f",
      "metadata": {
        "jupyter": {
          "source_hidden": true
        }
      },
      "outputs": [],
      "source": [
        "    dispatch.update(\n",
        "        numeric=(int, float), string=str, time=datetime.datetime, array=(list, tuple), mapping=dict, set=set)"
      ]
    },
    {
      "cell_type": "markdown",
      "id": "7943e589-b753-4a15-ae6c-51e0507b432b",
      "metadata": {},
      "source": [
        "function class module"
      ]
    },
    {
      "cell_type": "code",
      "execution_count": 4,
      "id": "e8045374-124d-47b7-8031-7574b19bd3e1",
      "metadata": {
        "jupyter": {
          "source_hidden": true
        }
      },
      "outputs": [],
      "source": [
        "    templates.update(\n",
        "        string=\"\"\"<samp>{{object}}</samp>\"\"\",\n",
        "    )"
      ]
    },
    {
      "cell_type": "code",
      "execution_count": 5,
      "id": "84e3fb76-1303-4087-b7f6-26b9fcb7dba0",
      "metadata": {
        "jupyter": {
          "source_hidden": true
        }
      },
      "outputs": [],
      "source": [
        "    templates.update(\n",
        "        numeric=\"\"\"<data value=\"{{object|dumps}}\"></data>\"\"\",\n",
        "        time=\"\"\"<time datetime=\"{{object.isoformat()}}\">{{object}}</time>\"\"\",\n",
        "        format=\"\"\"{% for f, t in dispatch.items() %}{% if object | isinstance(t) %}{% include f %}{% endif %}{% endfor %}\"\"\",\n",
        "        mapping=\"\"\"<dl>{% for object, v in object.items() %}<dt>{% include \"format\" %}</dt><dd>{% set object = v %}{% include \"format\" %}</dd>{% endfor %}</dl>\"\"\",        string=\"\"\"{% if \"://\" in object %}<a href=\"{{object}}\">{{object}}</a>{% else %}<samp>{{object}}</samp>{% endif %}\"\"\",\n",
        "        array=\"\"\"<ol>{% for object in object %}<li>{% include \"format\" %}</li>{% endfor %}</ol>\"\"\",\n",
        "        set=\"\"\"<ul>{% for object in object %}<li>{% include \"format\" %}</li>{% endfor %}</ul>\"\"\",\n",
        "    )"
      ]
    },
    {
      "cell_type": "code",
      "execution_count": 6,
      "id": "5c6cfae2-c0a5-4f78-866f-a16c584ed7bc",
      "metadata": {
        "jupyter": {
          "source_hidden": true
        }
      },
      "outputs": [
        {
          "data": {
            "text/html": [
              "<dl><dt><samp>a</samp></dt><dd><data value=\"1\"></data></dd></dl>"
            ],
            "text/plain": [
              "<IPython.core.display.HTML object>"
            ]
          },
          "execution_count": 6,
          "metadata": {},
          "output_type": "execute_result"
        }
      ],
      "source": [
        "    HTML(env.get_template(\"format\").render(object={\"a\": 1}))"
      ]
    },
    {
      "cell_type": "code",
      "execution_count": 7,
      "id": "5e910688-0e2c-43bf-8a97-83c169a1da29",
      "metadata": {
        "jupyter": {
          "source_hidden": true
        }
      },
      "outputs": [],
      "source": [
        "    abc = \"thanks for the fish\""
      ]
    },
    {
      "cell_type": "code",
      "execution_count": 8,
      "id": "2ee28da5-7607-452f-89be-b01c4fc78206",
      "metadata": {
        "jupyter": {
          "source_hidden": true
        }
      },
      "outputs": [
        {
          "data": {
            "text/plain": [
              "'thanks for the fish'"
            ]
          },
          "execution_count": 8,
          "metadata": {},
          "output_type": "execute_result"
        }
      ],
      "source": [
        "    abc"
      ]
    },
    {
      "cell_type": "markdown",
      "id": "25472070-6b04-41b8-a332-6bdb522595f1",
      "metadata": {},
      "source": [
        "vocab typeof property resource prefix\n",
        "\n",
        "itemid itemprop itemref itemscope itemtype "
      ]
    },
    {
      "cell_type": "code",
      "execution_count": null,
      "id": "8444abca-3e2e-4c89-b1c0-c08de9e27ee8",
      "metadata": {
        "jupyter": {
          "source_hidden": true
        }
      },
      "outputs": [],
      "source": []
    },
    {
      "cell_type": "code",
      "execution_count": null,
      "id": "904a948c-8b9a-40f4-8c5e-0e6b6e2c612c",
      "metadata": {
        "jupyter": {
          "source_hidden": true
        }
      },
      "outputs": [],
      "source": []
    },
    {
      "cell_type": "code",
      "execution_count": 15,
      "id": "2e0395ed-73aa-4506-bd28-a71f31302b87",
      "metadata": {
        "jupyter": {
          "source_hidden": true
        }
      },
      "outputs": [],
      "source": [
        "    %reload_ext pidgy.extras"
      ]
    },
    {
      "cell_type": "code",
      "execution_count": 16,
      "id": "b71d4f53-9f23-49d1-8aea-ec7ad6e3539d",
      "metadata": {
        "jupyter": {
          "source_hidden": true
        }
      },
      "outputs": [],
      "source": [
        "    s = get_ipython()"
      ]
    },
    {
      "cell_type": "code",
      "execution_count": 18,
      "id": "9f64bdc7-6fe1-4b6b-beca-628bb03be895",
      "metadata": {
        "jupyter": {
          "source_hidden": true
        }
      },
      "outputs": [
        {
          "data": {
            "text/plain": [
              "[int,\n",
              " float,\n",
              " str,\n",
              " tuple,\n",
              " list,\n",
              " dict,\n",
              " set,\n",
              " frozenset,\n",
              " super,\n",
              " re.Pattern,\n",
              " type,\n",
              " function,\n",
              " builtin_function_or_method,\n",
              " method,\n",
              " types.SimpleNamespace,\n",
              " datetime.datetime,\n",
              " datetime.timedelta,\n",
              " BaseException,\n",
              " os._Environ,\n",
              " mappingproxy,\n",
              " slice,\n",
              " range,\n",
              " bytes]"
            ]
          },
          "execution_count": 18,
          "metadata": {},
          "output_type": "execute_result"
        }
      ],
      "source": [
        "     times = list(itertools.chain.from_iterable(x.type_printers for x in s.display_formatter.formatters.values()))"
      ]
    },
    {
      "cell_type": "code",
      "execution_count": 13,
      "id": "f3bd67ae-12cf-4686-a4a1-75fdd0c7ce2b",
      "metadata": {
        "jupyter": {
          "source_hidden": true
        }
      },
      "outputs": [
        {
          "data": {
            "text/plain": [
              "<IPython.core.formatters.JavascriptFormatter at 0x7fdec0e53cd0>"
            ]
          },
          "execution_count": 13,
          "metadata": {},
          "output_type": "execute_result"
        }
      ],
      "source": [
        "    y.type_printers"
      ]
    }
  ],
  "metadata": {
    "kernelspec": {
      "display_name": "Python 3 (ipykernel)",
      "language": "python",
      "name": "python3"
    },
    "language_info": {
      "codemirror_mode": {
        "name": "ipython",
        "version": 3
      },
      "file_extension": ".py",
      "mimetype": "text/x-python",
      "name": "python",
      "nbconvert_exporter": "python",
      "pygments_lexer": "ipython3",
      "version": "3.11.3"
    },
    "widgets": {
      "application/vnd.jupyter.widget-state+json": {
        "state": {},
        "version_major": 2,
        "version_minor": 0
      }
    }
  },
  "nbformat": 4,
  "nbformat_minor": 5
}