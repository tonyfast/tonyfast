{
  "cells": [
    {
      "cell_type": "markdown",
      "id": "1affe3c8-8b8c-40a6-8c1b-1cde3120bae2",
      "metadata": {},
      "source": [
        "# slicing and dicing accessibility violations with exception groups\n",
        "\n",
        "[exception groups](https://docs.python.org/3/library/exceptions.html#exception-groups) are a new feature, motivated by `async` applications, to raise multiple unrelated exceptions. this is the ideal representation of bulk accessibility audits. \n",
        "capturing accessibility and inaccessibility in formal testing environments prevents regressions \n",
        "and organizes the entropy of bulk inaccessibilities."
      ]
    },
    {
      "cell_type": "code",
      "execution_count": 1,
      "id": "dfd9fe9a-e624-4f40-be88-5a40158b39bc",
      "metadata": {
        "execution": {
          "iopub.execute_input": "2023-12-15T08:45:02.860413Z",
          "iopub.status.busy": "2023-12-15T08:45:02.860261Z",
          "iopub.status.idle": "2023-12-15T08:45:03.240819Z",
          "shell.execute_reply": "2023-12-15T08:45:03.240436Z",
          "shell.execute_reply.started": "2023-12-15T08:45:02.860395Z"
        },
        "tags": []
      },
      "outputs": [],
      "source": [
        "    %pip install nbconvert_a11y\n",
        "    from nbconvert_a11y import pytest_axe\n",
        "    assert pytest_axe.get_npm_directory(\"axe-core\"), \"axe isn't installed\""
      ]
    },
    {
      "cell_type": "markdown",
      "id": "8659e814-659c-449a-9a3b-24966e4c4005",
      "metadata": {},
      "source": [
        "use the new async axe machinery to generate accessibility test results."
      ]
    },
    {
      "cell_type": "code",
      "execution_count": 2,
      "id": "40e7288b-2d11-4a6b-aab3-4fcf65caa690",
      "metadata": {
        "execution": {
          "iopub.execute_input": "2023-12-15T08:45:03.241835Z",
          "iopub.status.busy": "2023-12-15T08:45:03.241724Z",
          "iopub.status.idle": "2023-12-15T08:45:05.683226Z",
          "shell.execute_reply": "2023-12-15T08:45:05.682907Z",
          "shell.execute_reply.started": "2023-12-15T08:45:03.241825Z"
        },
        "tags": []
      },
      "outputs": [],
      "source": [
        "    async with pytest_axe.AsyncAxe(\n",
        "        url=\"https://nbviewer.org/github/jupyterlab/jupyterlab-demo/blob/master/notebooks/Lorenz.ipynb\"\n",
        "    ) as axe:\n",
        "            await axe.run()"
      ]
    },
    {
      "cell_type": "code",
      "execution_count": 3,
      "id": "8da2b1f2-3e0f-4f11-b681-9f3986251e55",
      "metadata": {
        "execution": {
          "iopub.execute_input": "2023-12-15T08:45:05.683773Z",
          "iopub.status.busy": "2023-12-15T08:45:05.683640Z",
          "iopub.status.idle": "2023-12-15T08:45:05.687257Z",
          "shell.execute_reply": "2023-12-15T08:45:05.686852Z",
          "shell.execute_reply.started": "2023-12-15T08:45:05.683763Z"
        },
        "tags": []
      },
      "outputs": [],
      "source": [
        "    known_failures = axe.exc[\"serious-color-contrast-enhanced\"], axe.exc[\"serious-color-contrast\"], axe.exc[\"a fixed violation\"]"
      ]
    },
    {
      "cell_type": "markdown",
      "id": "3f61f0e1-7ec9-4fbd-97aa-b9c640514191",
      "metadata": {},
      "source": [
        "we discover accessibility violations when we run axe. this audit is a snapshot in time.\n",
        "code changes and accessibility focused efforts may eliminate known accessibility violations.\n",
        "known inaccessibilities are `expected_failures` while remediated violations are contained in \n",
        "`unexpected_passes`."
      ]
    },
    {
      "cell_type": "code",
      "execution_count": 4,
      "id": "45b0440f-7733-41d8-adb0-48de1f46b25a",
      "metadata": {
        "execution": {
          "iopub.execute_input": "2023-12-15T08:45:05.688108Z",
          "iopub.status.busy": "2023-12-15T08:45:05.687841Z",
          "iopub.status.idle": "2023-12-15T08:45:05.702674Z",
          "shell.execute_reply": "2023-12-15T08:45:05.702270Z",
          "shell.execute_reply.started": "2023-12-15T08:45:05.688086Z"
        },
        "tags": []
      },
      "outputs": [
        {
          "name": "stdout",
          "output_type": "stream",
          "text": [
            "expected failures\n",
            "8 accessibility violations (2 sub-exceptions)\n",
            "undocumented accessibility violations\n",
            "8 accessibility violations (6 sub-exceptions)\n"
          ]
        }
      ],
      "source": [
        "    expected_failures, failures = axe.results.exception().split(known_failures)\n",
        "    assert all((expected_failures, failures))\n",
        "    print(\n",
        "        \"expected failures\", expected_failures,\n",
        "        \"undocumented accessibility violations\", failures, sep=\"\\n\"\n",
        "    )"
      ]
    },
    {
      "cell_type": "markdown",
      "id": "40c3f6c8-563f-4de3-932a-8069d48572f5",
      "metadata": {},
      "source": [
        "`unexpected_passes` are interesting scenarios require maintenance to the accessibility tests to update and document improvements."
      ]
    },
    {
      "cell_type": "code",
      "execution_count": 5,
      "id": "ab7fd3c1-d072-4bf9-abbb-2a8f0e22d618",
      "metadata": {
        "execution": {
          "iopub.execute_input": "2023-12-15T08:45:05.703575Z",
          "iopub.status.busy": "2023-12-15T08:45:05.703331Z",
          "iopub.status.idle": "2023-12-15T08:45:05.707706Z",
          "shell.execute_reply": "2023-12-15T08:45:05.707338Z",
          "shell.execute_reply.started": "2023-12-15T08:45:05.703560Z"
        },
        "tags": []
      },
      "outputs": [
        {
          "data": {
            "text/plain": [
              "(nbconvert_a11y.pytest_axe.a fixed violation,)"
            ]
          },
          "execution_count": 5,
          "metadata": {},
          "output_type": "execute_result"
        }
      ],
      "source": [
        "    (unexpected_passes := tuple(set(map(type, expected_failures.exceptions)).symmetric_difference(known_failures)))"
      ]
    },
    {
      "cell_type": "markdown",
      "id": "59a0c8f4-0b7e-43b8-b94c-7c14c15e18a6",
      "metadata": {},
      "source": [
        "these sets of exceptions and types provide different perspectives on the state of accessibility.\n",
        "i try to capture some of these ideas in the four states of knowing we can on a test:"
      ]
    },
    {
      "cell_type": "markdown",
      "id": "bf22218d-4dcd-4a9c-b70b-25e213a674b5",
      "metadata": {
        "execution": {
          "iopub.execute_input": "2023-12-15T08:24:46.840139Z",
          "iopub.status.busy": "2023-12-15T08:24:46.839562Z",
          "iopub.status.idle": "2023-12-15T08:24:46.846178Z",
          "shell.execute_reply": "2023-12-15T08:24:46.845279Z",
          "shell.execute_reply.started": "2023-12-15T08:24:46.840088Z"
        },
        "tags": []
      },
      "source": [
        "|||\n",
        "|---|---|\n",
        "| i know it is | i know it is not |\n",
        "| i don't know it is | i don't know it is not |\n",
        "\n",
        "these states map to different collections and sets of failures.\n",
        "\n",
        "|| it is | it is not|\n",
        "|---|---|---|\n",
        "| i know | pass | expected failure |\n",
        "|i don't know| unexpected pass | failure |"
      ]
    },
    {
      "cell_type": "markdown",
      "id": "ad3d0426-4028-4d88-bbc7-5069e1bd47dc",
      "metadata": {},
      "source": [
        "there is value in this multi dimensional testing system that verifies accessibility and admits to inaccessibilities.\n",
        "this approach will prove useful in retrofitting inaccessible systems."
      ]
    }
  ],
  "metadata": {
    "kernelspec": {
      "display_name": "Python [conda env:test-nbconvert-a11y]",
      "language": "python",
      "name": "conda-env-test-nbconvert-a11y-py"
    },
    "language_info": {
      "codemirror_mode": {
        "name": "ipython",
        "version": 3
      },
      "file_extension": ".py",
      "mimetype": "text/x-python",
      "name": "python",
      "nbconvert_exporter": "python",
      "pygments_lexer": "ipython3",
      "version": "3.11.6"
    },
    "widgets": {
      "application/vnd.jupyter.widget-state+json": {
        "state": {},
        "version_major": 2,
        "version_minor": 0
      }
    }
  },
  "nbformat": 4,
  "nbformat_minor": 5
}