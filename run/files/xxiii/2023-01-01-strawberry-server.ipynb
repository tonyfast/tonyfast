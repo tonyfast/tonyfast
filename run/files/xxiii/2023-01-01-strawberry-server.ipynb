{
  "cells": [
    {
      "cell_type": "markdown",
      "id": "c5b6ceb2-2e9c-4b46-b419-138df462a027",
      "metadata": {},
      "source": [
        "# WIP: strawberry jupyter server\n",
        "\n",
        "a work in progress of a `graphql` schema for jupyter server."
      ]
    },
    {
      "cell_type": "markdown",
      "id": "9f628826-98c1-4b6a-924b-f838fd0279e2",
      "metadata": {},
      "source": [
        " https://strawberry.rocks/docs/general/schema-basics\n",
        "\n",
        "    # %pip install 'strawberry-graphql[debug-server]'"
      ]
    },
    {
      "cell_type": "code",
      "execution_count": 1,
      "id": "416b71c8-61a4-4a64-93c5-cfd044367452",
      "metadata": {},
      "outputs": [],
      "source": [
        "    %pip install fastapi strawberry uvicorn jupyter_server IPython\n",
        "    from jupyter_server.services.contents.largefilemanager import LargeFileManager\n",
        "    from pathlib import Path\n",
        "    contents = LargeFileManager(root_dir=str(Path(\"~\").expanduser()))"
      ]
    },
    {
      "cell_type": "code",
      "execution_count": 2,
      "id": "b021c104-3d67-48ed-b943-8a636594f255",
      "metadata": {},
      "outputs": [],
      "source": [
        "    import strawberry as S, typing as T, strawberry.cli, enum\n",
        "    from pathlib import Path\n",
        "    from datetime import datetime"
      ]
    },
    {
      "cell_type": "code",
      "execution_count": 3,
      "id": "cb731a1c-776e-4fd5-bbdb-92285105d6f5",
      "metadata": {},
      "outputs": [],
      "source": [
        "    DICT =  S.scalar(\n",
        "        T.NewType(\"DICT\", object),\n",
        "        description=\"a dictionary\",\n",
        "        serialize=lambda v: v,\n",
        "        parse_value=lambda v: v,\n",
        "    )"
      ]
    },
    {
      "cell_type": "code",
      "execution_count": 4,
      "id": "dbc05b19-805f-42ba-b291-21ba28c55e63",
      "metadata": {},
      "outputs": [],
      "source": [
        "    @strawberry.enum\n",
        "    class ContentType(enum.Enum):\n",
        "        FILE = \"file\"\n",
        "        NOTEBOOK = \"notebook\"\n",
        "        DIRECTORY = \"directory\"\n",
        "\n",
        "    @S.type\n",
        "    class Base:\n",
        "        name: str\n",
        "        path: str\n",
        "        last_modified: datetime\n",
        "        created: datetime\n",
        "        format: str\n",
        "        mimetype: T.Optional[str]\n",
        "        size: T.Optional[int]\n",
        "        writable: bool\n",
        "        type: ContentType\n",
        "        \n",
        "        \n",
        "    Cells = T.Union[DICT]\n",
        "        \n",
        "    @S.type\n",
        "    class NbFormat:\n",
        "        cells: list[Cells]\n",
        "        metadata: DICT\n",
        "    \n",
        "    @S.type\n",
        "    class Notebook(Base):\n",
        "        content: DICT\n",
        "    \n",
        "    @S.type\n",
        "    class File(Base):\n",
        "        content: str\n",
        "    \n",
        "    @S.type\n",
        "    class Directory(Base):\n",
        "        content: T.Annotated[\"Kinds\", \"__main__\"]\n",
        "\n",
        "    Kinds = T.Union[Notebook, File, Directory]\n",
        "    \n",
        "    @S.type\n",
        "    class Query:        \n",
        "        @S.field\n",
        "        def search(self, dir: str = \"\", kind: T.Optional[ContentType] = None) -> Kinds:\n",
        "            return Directory(**contents.get(dir, ))\n",
        "        \n",
        "    schema = strawberry.Schema(Query)"
      ]
    },
    {
      "cell_type": "code",
      "execution_count": 5,
      "id": "13a903c6-7166-4b92-b9f2-74b1c709effa",
      "metadata": {},
      "outputs": [],
      "source": [
        "    from fastapi import FastAPI\n",
        "    from strawberry.fastapi import GraphQLRouter\n",
        "\n",
        "    graphql_app = GraphQLRouter(schema)\n",
        "\n",
        "    app = FastAPI()\n",
        "    app.include_router(graphql_app, prefix=\"/graphql\")"
      ]
    },
    {
      "cell_type": "code",
      "execution_count": 11,
      "id": "37c24a38-777d-4608-ba5c-49bda232bad5",
      "metadata": {},
      "outputs": [
        {
          "name": "stderr",
          "output_type": "stream",
          "text": [
            "INFO:     Shutting down\n",
            "INFO:     Started server process [288580]\n",
            "INFO:     Waiting for application startup.\n",
            "INFO:     Application startup complete.\n",
            "INFO:     Uvicorn running on http://127.0.0.1:8000 (Press CTRL+C to quit)\n",
            "INFO:     Waiting for application shutdown.\n",
            "INFO:     Application shutdown complete.\n"
          ]
        }
      ],
      "source": [
        "    if (I := \"__file__\" not in locals()):\n",
        "        from IPython.display import IFrame\n",
        "        import uvicorn, asyncio\n",
        "        __import__(\"nest_asyncio\").apply()\n",
        "\n",
        "        config = uvicorn.Config(app)\n",
        "        if \"server\" in locals():\n",
        "            asyncio.ensure_future(server.shutdown())\n",
        "        server = uvicorn.Server(config=config)\n",
        "\n",
        "        asyncio.ensure_future(server.serve())"
      ]
    },
    {
      "cell_type": "code",
      "execution_count": 8,
      "id": "64a3aa91-ebe2-4e3c-8809-de1d7b27b365",
      "metadata": {},
      "outputs": [
        {
          "ename": "NameError",
          "evalue": "name 'I' is not defined",
          "output_type": "error",
          "traceback": [
            "\u001b[0;31m---------------------------------------------------------------------------\u001b[0m",
            "\u001b[0;31mNameError\u001b[0m                                 Traceback (most recent call last)",
            "Cell \u001b[0;32mIn [8], line 1\u001b[0m\n\u001b[0;32m----> 1\u001b[0m \u001b[43mI\u001b[49m \u001b[38;5;129;01mand\u001b[39;00m display(IFrame(\u001b[38;5;124m\"\u001b[39m\u001b[38;5;124mhttp://127.0.0.1:8000/graphql\u001b[39m\u001b[38;5;124m\"\u001b[39m, \u001b[38;5;241m*\u001b[39m\u001b[38;5;124m\"\u001b[39m\u001b[38;5;124m100\u001b[39m\u001b[38;5;124m%\u001b[39m\u001b[38;5;124m 600\u001b[39m\u001b[38;5;124m\"\u001b[39m\u001b[38;5;241m.\u001b[39msplit()))\n",
            "\u001b[0;31mNameError\u001b[0m: name 'I' is not defined"
          ]
        }
      ],
      "source": [
        "    I and display(IFrame(\"http://127.0.0.1:8000/graphql\", *\"100% 600\".split()))"
      ]
    },
    {
      "cell_type": "markdown",
      "id": "86f8bd62-049b-487a-80be-15a2cea8df06",
      "metadata": {},
      "source": [
        "    asyncio.ensure_future(server.shutdown())"
      ]
    },
    {
      "cell_type": "code",
      "execution_count": null,
      "id": "757e6aea-7e1e-4b00-b384-e3bea4fd4adc",
      "metadata": {},
      "outputs": [],
      "source": []
    }
  ],
  "metadata": {
    "kernelspec": {
      "display_name": "Python [conda env:root] *",
      "language": "python",
      "name": "conda-root-py"
    },
    "language_info": {
      "codemirror_mode": {
        "name": "ipython",
        "version": 3
      },
      "file_extension": ".py",
      "mimetype": "text/x-python",
      "name": "python",
      "nbconvert_exporter": "python",
      "pygments_lexer": "ipython3",
      "version": "3.9.13"
    }
  },
  "nbformat": 4,
  "nbformat_minor": 5
}