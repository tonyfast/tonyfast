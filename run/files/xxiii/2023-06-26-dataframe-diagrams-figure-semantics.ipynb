{
  "cells": [
    {
      "cell_type": "markdown",
      "id": "cbef4b80-ff9b-4c1e-afb1-5383160cf3fe",
      "metadata": {},
      "source": [
        "# a semantic dataframe\n",
        "\n",
        "it is reductive to view at dataframe as an html `table`. a table representation is the most minimal data visualization of a dataframe. and, as a visualization, context is critical. \n",
        "\n",
        "my hypothesis is that a dataframe is really a `figure`. we are going attempt to treat the dataframe as `table` inside a `figure`."
      ]
    },
    {
      "cell_type": "code",
      "execution_count": 1,
      "id": "b901ed17-0f33-44e5-ad0f-d585300c569a",
      "metadata": {},
      "outputs": [],
      "source": [
        "    %pip install beautifulsoup4\n",
        "    import bs4 \n",
        "    soup, T, C = (soup:= bs4.BeautifulSoup()), soup.new_tag,bs4.Comment "
      ]
    },
    {
      "cell_type": "markdown",
      "id": "349ec2f9-5ed3-4ed7-9d52-edac44bcae0c",
      "metadata": {},
      "source": [
        "start by treating the entire dataframe as a `figure` containing a `table`."
      ]
    },
    {
      "cell_type": "code",
      "execution_count": 12,
      "id": "91f9d15e-63a1-42e1-bcef-e92ec83eaeef",
      "metadata": {},
      "outputs": [],
      "source": [
        "    figure = T(\"figure\")\n",
        "    figure.append(table := T(\"table\"))"
      ]
    },
    {
      "cell_type": "markdown",
      "id": "18eec6bf-a79d-4881-a98c-f6232a9c17a6",
      "metadata": {},
      "source": [
        "`table`s have a caption that usually is above the form. the `caption` is used to present context specific information."
      ]
    },
    {
      "cell_type": "code",
      "execution_count": 13,
      "id": "69ce5d43-5e36-400d-9ce7-9404d0860519",
      "metadata": {},
      "outputs": [],
      "source": [
        "    table.append(caption := T(\"caption\"))"
      ]
    },
    {
      "cell_type": "markdown",
      "id": "1605db25-af4b-4913-84d0-685055f1983d",
      "metadata": {},
      "source": [
        "and, in general, tables should have `label`s.  the variable name or code repr would be a good default `label`."
      ]
    },
    {
      "cell_type": "code",
      "execution_count": 14,
      "id": "d8ca7c05-04b1-45b7-b58c-492d3c3d8cb8",
      "metadata": {},
      "outputs": [],
      "source": [
        "    caption.append(T(\"label\"))"
      ]
    },
    {
      "cell_type": "markdown",
      "id": "6e97c259-c6f6-4027-8c7f-07a8133376ed",
      "metadata": {},
      "source": [
        "build the rest of the table parts."
      ]
    },
    {
      "cell_type": "code",
      "execution_count": 6,
      "id": "3713baac-a44c-46a5-964b-7e5e5ab7b8dc",
      "metadata": {},
      "outputs": [],
      "source": [
        "    table.append(colgroup := T(\"colgroup\"))\n",
        "    table.append(thead := T(\"thead\"))\n",
        "    table.append(tbody := T(\"tbody\"))"
      ]
    },
    {
      "cell_type": "markdown",
      "id": "914361bf-bb42-4f18-b324-9409e7bb5e99",
      "metadata": {},
      "source": [
        "the footer is under utilized and would be specifically useful in the case of selections."
      ]
    },
    {
      "cell_type": "code",
      "execution_count": 7,
      "id": "ff274f6f-f7df-40bf-a781-ca0c0af0a289",
      "metadata": {},
      "outputs": [],
      "source": [
        "    table.append(tfoot := T(\"tfoot\"))"
      ]
    },
    {
      "cell_type": "markdown",
      "id": "93743844-b371-49d4-9484-04f53efa7a0c",
      "metadata": {},
      "source": [
        "we have another caption for the table and context specific caption. the caption includes `details` and `summary` about the dataframe."
      ]
    },
    {
      "cell_type": "code",
      "execution_count": 8,
      "id": "15d4911e-5bfc-4a12-a303-200d56ea86ce",
      "metadata": {},
      "outputs": [],
      "source": [
        "    figure.append(figcaption := T(\"figcaption\"))\n",
        "    figcaption.append(details := T(\"details\"))\n",
        "    details.append(summary := T(\"summary\"))"
      ]
    },
    {
      "cell_type": "markdown",
      "id": "3265f009-9f5f-4ede-88a5-d68ee864d45f",
      "metadata": {},
      "source": [
        "* represent the tables dtypes as definition list\n",
        "* identifiers can point back to thead for enrichement"
      ]
    },
    {
      "cell_type": "code",
      "execution_count": 9,
      "id": "9375ee41-ed02-4266-8e08-906054dad88a",
      "metadata": {},
      "outputs": [],
      "source": [
        "    figure.append(dl := T(\"dl\"))"
      ]
    },
    {
      "cell_type": "markdown",
      "id": "3d0dce67-b2cf-4b21-9314-bbe58fe27a15",
      "metadata": {},
      "source": [
        "a sketch of a semantically meaningful dataframe table."
      ]
    },
    {
      "cell_type": "code",
      "execution_count": 10,
      "id": "d06f3519-edd1-44f0-9274-ecb6c10c0d5b",
      "metadata": {},
      "outputs": [
        {
          "name": "stdout",
          "output_type": "stream",
          "text": [
            "<figure>\n",
            " <table>\n",
            "  <caption>\n",
            "   <label>\n",
            "   </label>\n",
            "  </caption>\n",
            "  <colgroup>\n",
            "  </colgroup>\n",
            "  <thead>\n",
            "  </thead>\n",
            "  <tbody>\n",
            "  </tbody>\n",
            "  <tfoot>\n",
            "  </tfoot>\n",
            " </table>\n",
            " <figcaption>\n",
            "  <details>\n",
            "   <summary>\n",
            "   </summary>\n",
            "  </details>\n",
            " </figcaption>\n",
            " <dl>\n",
            " </dl>\n",
            "</figure>\n"
          ]
        }
      ],
      "source": [
        "    print(figure.prettify())"
      ]
    },
    {
      "cell_type": "markdown",
      "id": "afbb734c-7b1d-46e6-832f-99ec7aa8185b",
      "metadata": {},
      "source": [
        "## extending this to mermaid\n",
        "\n",
        "in theory a diagram/graph is two dataframes. so we could default to showing a node table and edge table.\n",
        "since we have mermaid we can do better. we'll need to replace the `table` part of the `figure` with a `svg` or `image` created by mermaid. both `svg` and `image` have natural accessibility affordances that should be used."
      ]
    },
    {
      "cell_type": "code",
      "execution_count": 23,
      "id": "a1506045-183e-45b0-bcfc-f0799eebabd1",
      "metadata": {},
      "outputs": [],
      "source": [
        "    diagram = T(\"figure\")\n",
        "    diagram.append(svg := T(\"svg\"))\n",
        "    diagram.append(diagramcaption := T(\"figcaption\"))\n",
        "    diagramcaption.append(deets := T(\"details\"))\n",
        "    deets.append(summ := T(\"summary\"))"
      ]
    },
    {
      "cell_type": "markdown",
      "id": "c75a3df7-8d84-43e4-9c7a-b42fce68fe75",
      "metadata": {},
      "source": [
        "we use the `figcaption` to share extra metadata about the graph and its properties. we could include nodes, edges, cycles, subgraphs, lots of things; some might be possible to get from mermaid."
      ]
    },
    {
      "cell_type": "code",
      "execution_count": 24,
      "id": "007a7b0c-f9ab-4664-8b08-890e25e6d545",
      "metadata": {},
      "outputs": [],
      "source": [
        "    summ.append(\"A flowchart diagram with 100 nodes and 2 edges\")"
      ]
    },
    {
      "cell_type": "markdown",
      "id": "9b32b4db-2926-4e84-837f-4ffcd48a63c0",
      "metadata": {},
      "source": [
        "the mermaid source `code` would follow the summary, and would only be shown when a user asks for input."
      ]
    },
    {
      "cell_type": "code",
      "execution_count": 25,
      "id": "99dad80a-9c1a-4ba0-9e37-af1bd4d923a1",
      "metadata": {},
      "outputs": [
        {
          "name": "stdout",
          "output_type": "stream",
          "text": [
            "<figure>\n",
            " <svg>\n",
            " </svg>\n",
            " <figcaption>\n",
            "  <details>\n",
            "   <summary>\n",
            "    A flowchart diagram with 100 nodes and 2 edges\n",
            "   </summary>\n",
            "   <code>\n",
            "   </code>\n",
            "  </details>\n",
            " </figcaption>\n",
            "</figure>\n"
          ]
        }
      ],
      "source": [
        "    deets.append(T(\"code\"))\n",
        "    print(diagram.prettify())"
      ]
    },
    {
      "cell_type": "code",
      "execution_count": null,
      "id": "819ae7f6-4dcf-4d7e-aded-860661149c9b",
      "metadata": {},
      "outputs": [],
      "source": []
    }
  ],
  "metadata": {
    "kernelspec": {
      "display_name": "base",
      "language": "python",
      "name": "base"
    },
    "language_info": {
      "codemirror_mode": {
        "name": "ipython",
        "version": 3
      },
      "file_extension": ".py",
      "mimetype": "text/x-python",
      "name": "python",
      "nbconvert_exporter": "python",
      "pygments_lexer": "ipython3",
      "version": "3.10.9"
    }
  },
  "nbformat": 4,
  "nbformat_minor": 5
}