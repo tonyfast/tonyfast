{
  "cells": [
    {
      "cell_type": "markdown",
      "id": "7bbba440-993d-4764-8a19-9a1cb0ed6aaa",
      "metadata": {},
      "source": [
        "# using `tfoot` in dataframes for more information\n",
        "\n",
        "while exploring techniques that make dataframes better for screen readers.\n",
        "i found resources on the `tfoot` element. i rarely see it used it with dataframes.\n",
        "this work explores what a footer description might look like."
      ]
    },
    {
      "cell_type": "code",
      "execution_count": 1,
      "id": "2f59bb08-c76e-4de5-9997-5c2a5783f1c2",
      "metadata": {
        "jupyter": {
          "source_hidden": true
        }
      },
      "outputs": [],
      "source": [
        "    \n",
        "    %pip install tonyfast pidgy\n",
        "    %reload_ext pidgy\n",
        "    INTERACTIVE = \"__file__\" not in locals()"
      ]
    },
    {
      "cell_type": "code",
      "execution_count": 2,
      "id": "41a05371-5e6d-41c6-87d8-207c32dc68ff",
      "metadata": {
        "jupyter": {
          "source_hidden": true
        }
      },
      "outputs": [
        {
          "data": {
            "text/markdown": [
              "<details markdown=\"1\">\n",
              "<summary>import functions that make dataframes more useful on screen readers</summary>\n",
              "<pre><code>with __import__('midgy.loader').loader.Markdown(extensions=[&quot;.ipynb&quot;]):\n",
              "    from tonyfast.xxiii.__accessible_dataframes_basic_indexes import (\n",
              "        df, soup, set_caption, \n",
              "        set_col_scope, set_row_scope, set_squashed_th,\n",
              "        set_header_titles, strip_class_ids\n",
              "    )\n",
              "</code></pre>\n",
              "    \n",
              "</details>"
            ],
            "text/plain": [
              "<IPython.core.display.Markdown object>"
            ]
          },
          "metadata": {},
          "output_type": "display_data"
        }
      ],
      "source": [
        "<details markdown=\"1\">\n",
        "<summary>import functions that make dataframes more useful on screen readers</summary>\n",
        "{% filter md %} \n",
        "\n",
        "    with __import__('midgy.loader').loader.Markdown(extensions=[\".ipynb\"]):\n",
        "        from tonyfast.xxiii.__accessible_dataframes_basic_indexes import (\n",
        "            df, soup, set_caption, \n",
        "            set_col_scope, set_row_scope, set_squashed_th,\n",
        "            set_header_titles, strip_class_ids\n",
        "        )\n",
        "        \n",
        "{% endfilter %}    \n",
        "</details>"
      ]
    },
    {
      "cell_type": "code",
      "execution_count": 3,
      "id": "44a9f3bc-5dbd-4628-8171-5e35ddb5a99a",
      "metadata": {
        "jupyter": {
          "source_hidden": true
        }
      },
      "outputs": [
        {
          "data": {
            "text/markdown": [
              "## set `tfoot`\n",
              "\n",
              "`<tfoot>` is meant to contain supplementary `<table>` information.\n",
              "\n",
              "    def set_tfoot(df, caption=None):\n",
              "`set_tfoot` sets the footer as `df.describe`\n",
              "    \n",
              "        tfoot = soup(strip_class_ids(df.describe().style.to_html())).select_one(\"tbody\")        \n",
              "        tfoot.name = \"tfoot\"\n",
              "        with_footer = soup(df.style.set_caption(caption).to_html())\n",
              "        with_footer.select_one(\"table\").append(tfoot)\n",
              "        return str(with_footer)"
            ],
            "text/plain": [
              "<IPython.core.display.Markdown object>"
            ]
          },
          "metadata": {},
          "output_type": "display_data"
        }
      ],
      "source": [
        "## set `tfoot`\n",
        "\n",
        "`<tfoot>` is meant to contain supplementary `<table>` information.\n",
        "\n",
        "    def set_tfoot(df, caption=None):\n",
        "`set_tfoot` sets the footer as `df.describe`\n",
        "    \n",
        "        tfoot = soup(strip_class_ids(df.describe().style.to_html())).select_one(\"tbody\")        \n",
        "        tfoot.name = \"tfoot\"\n",
        "        with_footer = soup(df.style.set_caption(caption).to_html())\n",
        "        with_footer.select_one(\"table\").append(tfoot)\n",
        "        return str(with_footer)"
      ]
    },
    {
      "cell_type": "markdown",
      "id": "35a7aae3-e6e6-44d2-ab9f-2779d3134822",
      "metadata": {},
      "source": [
        "## formatting the final dataframe"
      ]
    },
    {
      "cell_type": "code",
      "execution_count": 4,
      "id": "cadec342-47d0-4b6b-bc72-085bd45252c3",
      "metadata": {
        "jupyter": {
          "source_hidden": true
        }
      },
      "outputs": [
        {
          "data": {
            "text/markdown": [
              "    def format_df(df, caption=None):\n",
              "        return strip_class_ids(set_header_titles(set_squashed_th(\n",
              "            set_row_scope(set_col_scope(set_tfoot(df, caption=caption))))))\n",
              "    final_table = format_df(df, \"a value-less dataframe with thead, tbody and tfoot defined. tfoot are statistical descriptions of the data.\")\n",
              "    "
            ],
            "text/plain": [
              "<IPython.core.display.Markdown object>"
            ]
          },
          "metadata": {},
          "output_type": "display_data"
        }
      ],
      "source": [
        "    def format_df(df, caption=None):\n",
        "        return strip_class_ids(set_header_titles(set_squashed_th(\n",
        "            set_row_scope(set_col_scope(set_tfoot(df, caption=caption))))))\n",
        "    final_table = format_df(df, \"a value-less dataframe with thead, tbody and tfoot defined. tfoot are statistical descriptions of the data.\")\n",
        "    "
      ]
    },
    {
      "cell_type": "code",
      "execution_count": 5,
      "id": "12b11e71-c679-4b58-ba7b-7a2b9c385b86",
      "metadata": {
        "jupyter": {
          "source_hidden": true
        }
      },
      "outputs": [
        {
          "data": {
            "text/markdown": [
              "<details >\n",
              "<summary>import tests from another work.</summary>\n",
              "<pre><code>with __import__('midgy.loader').loader.Markdown(extensions=[&quot;.ipynb&quot;]):\n",
              "    from tonyfast.xxiii.__accessible_dataframes_basic_indexes import (\n",
              "     assert_has_col_scope, assert_has_row_scope, assert_no_blank_header, assert_has_caption\n",
              "    )\n",
              "</code></pre>\n",
              " \n",
              "</details>"
            ],
            "text/plain": [
              "<IPython.core.display.Markdown object>"
            ]
          },
          "metadata": {},
          "output_type": "display_data"
        }
      ],
      "source": [
        "<details >\n",
        "<summary>import tests from another work.</summary>\n",
        "{% filter md %} \n",
        "    \n",
        "    with __import__('midgy.loader').loader.Markdown(extensions=[\".ipynb\"]):\n",
        "        from tonyfast.xxiii.__accessible_dataframes_basic_indexes import (\n",
        "         assert_has_col_scope, assert_has_row_scope, assert_no_blank_header, assert_has_caption\n",
        "        )\n",
        "        \n",
        "{% endfilter %} \n",
        "</details>"
      ]
    },
    {
      "cell_type": "markdown",
      "id": "5bfc2de9-a9f9-43a4-b94c-d1183d02bfaf",
      "metadata": {},
      "source": [
        "### verifying that we pass our tests"
      ]
    },
    {
      "cell_type": "code",
      "execution_count": 6,
      "id": "d6f15ce1-c550-4cce-b077-720006fdaffb",
      "metadata": {
        "jupyter": {
          "source_hidden": true
        }
      },
      "outputs": [
        {
          "data": {
            "text/markdown": [
              "    def test_basic_table_accessibility(html):\n",
              "test for a caption, scope attributes, and populated headers\n",
              "\n",
              "        assert_has_caption(html)\n",
              "        assert_has_col_scope(html)\n",
              "        assert_has_row_scope(html)    \n",
              "        assert_no_blank_header(html)"
            ],
            "text/plain": [
              "<IPython.core.display.Markdown object>"
            ]
          },
          "metadata": {},
          "output_type": "display_data"
        }
      ],
      "source": [
        "    def test_basic_table_accessibility(html):\n",
        "test for a caption, scope attributes, and populated headers\n",
        "\n",
        "        assert_has_caption(html)\n",
        "        assert_has_col_scope(html)\n",
        "        assert_has_row_scope(html)    \n",
        "        assert_no_blank_header(html)"
      ]
    },
    {
      "cell_type": "markdown",
      "id": "a95b12ad-81fe-444c-a485-f30c5d661f90",
      "metadata": {},
      "source": [
        "### the `final_table`"
      ]
    },
    {
      "cell_type": "code",
      "execution_count": 7,
      "id": "5b8e195f-82c0-458f-838c-c4231124e47d",
      "metadata": {
        "jupyter": {
          "source_hidden": true
        }
      },
      "outputs": [
        {
          "name": "stdout",
          "output_type": "stream",
          "text": [
            "this message means our table abides. woo!\n"
          ]
        },
        {
          "data": {
            "text/markdown": [
              "    INTERACTIVE and print(\"this message means our table abides. woo!\")"
            ],
            "text/plain": [
              "<IPython.core.display.Markdown object>"
            ]
          },
          "metadata": {},
          "output_type": "display_data"
        }
      ],
      "source": [
        "    INTERACTIVE and print(\"this message means our table abides. woo!\")"
      ]
    },
    {
      "cell_type": "code",
      "execution_count": 8,
      "id": "b5dfc176-e8e0-4a44-95fb-ec32383843e5",
      "metadata": {
        "jupyter": {
          "source_hidden": true
        }
      },
      "outputs": [
        {
          "data": {
            "text/markdown": [
              "<style type=\"text/css\">\n",
              "</style>\n",
              "<table id=\"T_6ae36\">\n",
              "<caption>a value-less dataframe with thead, tbody and tfoot defined. tfoot are statistical descriptions of the data.</caption>\n",
              "<thead><tr><th scope=\"col\">index</th><th scope=\"col\" title=\"apple\">A</th><th scope=\"col\" title=\"banana\">B</th><th scope=\"col\" title=\"carrot\">C</th></tr></thead>\n",
              "<tbody>\n",
              "<tr>\n",
              "<th scope=\"row\">0</th>\n",
              "<td>nan</td>\n",
              "<td>nan</td>\n",
              "<td>nan</td>\n",
              "</tr>\n",
              "<tr>\n",
              "<th scope=\"row\">1</th>\n",
              "<td>nan</td>\n",
              "<td>nan</td>\n",
              "<td>nan</td>\n",
              "</tr>\n",
              "</tbody>\n",
              "<tfoot>\n",
              "<tr>\n",
              "<th scope=\"row\">count</th>\n",
              "<td>0</td>\n",
              "<td>0</td>\n",
              "<td>0</td>\n",
              "</tr>\n",
              "<tr>\n",
              "<th scope=\"row\">unique</th>\n",
              "<td>0</td>\n",
              "<td>0</td>\n",
              "<td>0</td>\n",
              "</tr>\n",
              "<tr>\n",
              "<th scope=\"row\">top</th>\n",
              "<td>nan</td>\n",
              "<td>nan</td>\n",
              "<td>nan</td>\n",
              "</tr>\n",
              "<tr>\n",
              "<th scope=\"row\">freq</th>\n",
              "<td>nan</td>\n",
              "<td>nan</td>\n",
              "<td>nan</td>\n",
              "</tr>\n",
              "</tfoot></table>\n",
              "\n",
              "\n",
              "remediated `pandas.DataFrame`\n",
              "\n",
              "```html\n",
              "<style type=\"text/css\">\n",
              "</style>\n",
              "<table id=\"T_6ae36\">\n",
              "<caption>a value-less dataframe with thead, tbody and tfoot defined. tfoot are statistical descriptions of the data.</caption>\n",
              "<thead><tr><th scope=\"col\">index</th><th scope=\"col\" title=\"apple\">A</th><th scope=\"col\" title=\"banana\">B</th><th scope=\"col\" title=\"carrot\">C</th></tr></thead>\n",
              "<tbody>\n",
              "<tr>\n",
              "<th scope=\"row\">0</th>\n",
              "<td>nan</td>\n",
              "<td>nan</td>\n",
              "<td>nan</td>\n",
              "</tr>\n",
              "<tr>\n",
              "<th scope=\"row\">1</th>\n",
              "<td>nan</td>\n",
              "<td>nan</td>\n",
              "<td>nan</td>\n",
              "</tr>\n",
              "</tbody>\n",
              "<tfoot>\n",
              "<tr>\n",
              "<th scope=\"row\">count</th>\n",
              "<td>0</td>\n",
              "<td>0</td>\n",
              "<td>0</td>\n",
              "</tr>\n",
              "<tr>\n",
              "<th scope=\"row\">unique</th>\n",
              "<td>0</td>\n",
              "<td>0</td>\n",
              "<td>0</td>\n",
              "</tr>\n",
              "<tr>\n",
              "<th scope=\"row\">top</th>\n",
              "<td>nan</td>\n",
              "<td>nan</td>\n",
              "<td>nan</td>\n",
              "</tr>\n",
              "<tr>\n",
              "<th scope=\"row\">freq</th>\n",
              "<td>nan</td>\n",
              "<td>nan</td>\n",
              "<td>nan</td>\n",
              "</tr>\n",
              "</tfoot></table>\n",
              "\n",
              "```"
            ],
            "text/plain": [
              "<IPython.core.display.Markdown object>"
            ]
          },
          "metadata": {},
          "output_type": "display_data"
        }
      ],
      "source": [
        "{{final_table}}\n",
        "\n",
        "remediated `pandas.DataFrame`\n",
        "\n",
        "```html\n",
        "{{final_table}}\n",
        "```"
      ]
    }
  ],
  "metadata": {
    "kernelspec": {
      "display_name": "Python [conda env:root] *",
      "language": "python",
      "name": "conda-root-py"
    },
    "language_info": {
      "codemirror_mode": {
        "name": "ipython",
        "version": 3
      },
      "file_extension": ".py",
      "mimetype": "text/x-python",
      "name": "python",
      "nbconvert_exporter": "python",
      "pygments_lexer": "ipython3",
      "version": "3.9.13"
    }
  },
  "nbformat": 4,
  "nbformat_minor": 5
}