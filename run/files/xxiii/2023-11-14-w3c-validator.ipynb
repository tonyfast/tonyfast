{
  "cells": [
    {
      "cell_type": "markdown",
      "id": "df13ce33-ba62-43d2-a76d-9551b3ac39a9",
      "metadata": {},
      "source": [
        "# running the w3c validator\n",
        "\n",
        "TLDR: the python package isn't the uptodate to validator and we use node.\n",
        "\n",
        "i use https://validator.w3.org/ a lot in my accessibility testing. it always asks if i am about robot now. i thought it would be better to have a local version i could use. this document is how i got it working after significant trouble shooting."
      ]
    },
    {
      "cell_type": "markdown",
      "id": "aa7e74f5-3c06-4390-b3e3-b73cbec723c0",
      "metadata": {},
      "source": [
        "## installation\n",
        "installing the w3c nu validator https://github.com/validator/validator/ is a good candidate for `conda` because we'll\n",
        "use python, java, and node.  i tried using python's `html5validator`, but the \n",
        "version of the checker that it bundles is old. the best solution for me was to use\n",
        "`node` cause i can figure it out. \n",
        "\n",
        "use a conda `environment.yml` with at least:\n",
        "\n",
        "```yml\n",
        "channels:\n",
        "  - conda-forge\n",
        "dependencies:\n",
        "  - python=3.11\n",
        "  - openjdk\n",
        "  - nodejs\n",
        "```\n",
        "\n",
        "install the jar distributed on `npm`\n",
        "\n",
        "`npm install -g vnu-jar`"
      ]
    },
    {
      "cell_type": "markdown",
      "id": "cefb4f71-fe6e-4e98-9dac-8d2f7e6177e7",
      "metadata": {},
      "source": [
        "## running the validator"
      ]
    },
    {
      "cell_type": "markdown",
      "id": "4ce6503e-85b2-4674-b17e-5b332c9c1ef4",
      "metadata": {},
      "source": [
        "get the path to the jar from the node binary"
      ]
    },
    {
      "cell_type": "code",
      "execution_count": 1,
      "id": "24e5d58d-2b9f-4f83-832b-3d9d6d51575f",
      "metadata": {
        "execution": {
          "iopub.execute_input": "2023-11-16T01:46:29.530029Z",
          "iopub.status.busy": "2023-11-16T01:46:29.529936Z",
          "iopub.status.idle": "2023-11-16T01:46:29.968657Z",
          "shell.execute_reply": "2023-11-16T01:46:29.968247Z",
          "shell.execute_reply.started": "2023-11-16T01:46:29.530020Z"
        }
      },
      "outputs": [],
      "source": [
        "    %pip install exceptiongroup pandas jinja2\n",
        "    import itertools, operator, functools, collections, exceptiongroup, re\n",
        "    import pathlib, pandas, json, subprocess, shlex\n",
        "    VNU_JAR = pathlib.Path(subprocess.check_output(\n",
        "        shlex.split(\n",
        "            \"npm root vnu-jar\"\n",
        "        )\n",
        "    ).strip().decode()) / \"vnu-jar/build/dist/vnu.jar\"\n",
        "    assert VNU_JAR.exists()"
      ]
    },
    {
      "cell_type": "markdown",
      "id": "fcebf5d9-80bd-40c2-9834-a6e6746b3963",
      "metadata": {},
      "source": [
        "`validate_html` runs the checker and returns the serialized payload."
      ]
    },
    {
      "cell_type": "code",
      "execution_count": 2,
      "id": "59fd9e7e-4ab1-4174-ae2c-bd0b3d75bf1b",
      "metadata": {
        "execution": {
          "iopub.execute_input": "2023-11-16T01:46:29.969581Z",
          "iopub.status.busy": "2023-11-16T01:46:29.969388Z",
          "iopub.status.idle": "2023-11-16T01:46:29.971740Z",
          "shell.execute_reply": "2023-11-16T01:46:29.971404Z",
          "shell.execute_reply.started": "2023-11-16T01:46:29.969570Z"
        }
      },
      "outputs": [],
      "source": [
        "    def validate_html(*files: pathlib.Path) -> dict:\n",
        "        return json.loads(subprocess.check_output(\n",
        "            shlex.split(\n",
        "                F\"java -jar {VNU_JAR} --stdout --format json --exit-zero-always\"\n",
        "            ) + list(files)\n",
        "        ).decode())"
      ]
    },
    {
      "cell_type": "markdown",
      "id": "9e604c0a-0375-4e7d-a9c6-e814d4116313",
      "metadata": {},
      "source": [
        "## explore the data as a `pandas.Dataframe`"
      ]
    },
    {
      "cell_type": "code",
      "execution_count": 3,
      "id": "6beed4f9-3bd3-4023-8825-ca85569571f2",
      "metadata": {
        "execution": {
          "iopub.execute_input": "2023-11-16T01:46:29.972257Z",
          "iopub.status.busy": "2023-11-16T01:46:29.972139Z",
          "iopub.status.idle": "2023-11-16T01:46:31.187721Z",
          "shell.execute_reply": "2023-11-16T01:46:31.187254Z",
          "shell.execute_reply.started": "2023-11-16T01:46:29.972244Z"
        }
      },
      "outputs": [
        {
          "data": {
            "text/html": [
              "<div>\n",
              "<style scoped>\n",
              "    .dataframe tbody tr th:only-of-type {\n",
              "        vertical-align: middle;\n",
              "    }\n",
              "\n",
              "    .dataframe tbody tr th {\n",
              "        vertical-align: top;\n",
              "    }\n",
              "\n",
              "    .dataframe thead th {\n",
              "        text-align: right;\n",
              "    }\n",
              "</style>\n",
              "<table border=\"1\" class=\"dataframe\">\n",
              "  <thead>\n",
              "    <tr style=\"text-align: right;\">\n",
              "      <th></th>\n",
              "      <th>type</th>\n",
              "      <th>lastLine</th>\n",
              "      <th>lastColumn</th>\n",
              "      <th>firstColumn</th>\n",
              "      <th>subType</th>\n",
              "      <th>message</th>\n",
              "      <th>extract</th>\n",
              "      <th>hiliteStart</th>\n",
              "      <th>hiliteLength</th>\n",
              "      <th>firstLine</th>\n",
              "    </tr>\n",
              "  </thead>\n",
              "  <tbody>\n",
              "    <tr>\n",
              "      <th>0</th>\n",
              "      <td>info</td>\n",
              "      <td>81</td>\n",
              "      <td>27</td>\n",
              "      <td>4</td>\n",
              "      <td>warning</td>\n",
              "      <td>Section lacks heading. Consider using \u201ch2\u201d-\u201ch6...</td>\n",
              "      <td>ader\"&gt;\\n   &lt;section id=\"skip-link\"&gt;\\n    &lt;</td>\n",
              "      <td>10</td>\n",
              "      <td>24</td>\n",
              "      <td>NaN</td>\n",
              "    </tr>\n",
              "    <tr>\n",
              "      <th>1</th>\n",
              "      <td>error</td>\n",
              "      <td>295</td>\n",
              "      <td>126</td>\n",
              "      <td>11</td>\n",
              "      <td>NaN</td>\n",
              "      <td>The \u201crole\u201d attribute must not be used on a \u201ctr...</td>\n",
              "      <td>&lt;/tr&gt;\\n     &lt;tr aria-labelledby=\"nb-cell-...</td>\n",
              "      <td>10</td>\n",
              "      <td>127</td>\n",
              "      <td>294.0</td>\n",
              "    </tr>\n",
              "    <tr>\n",
              "      <th>2</th>\n",
              "      <td>error</td>\n",
              "      <td>296</td>\n",
              "      <td>40</td>\n",
              "      <td>127</td>\n",
              "      <td>NaN</td>\n",
              "      <td>The \u201crole\u201d attribute must not be used on a \u201ctd...</td>\n",
              "      <td>listitem\"&gt;\\n      &lt;td class=\"nb-anchor\" role=\"...</td>\n",
              "      <td>10</td>\n",
              "      <td>41</td>\n",
              "      <td>295.0</td>\n",
              "    </tr>\n",
              "    <tr>\n",
              "      <th>3</th>\n",
              "      <td>error</td>\n",
              "      <td>301</td>\n",
              "      <td>49</td>\n",
              "      <td>12</td>\n",
              "      <td>NaN</td>\n",
              "      <td>The \u201crole\u201d attribute must not be used on a \u201ctd...</td>\n",
              "      <td>&lt;/td&gt;\\n      &lt;td class=\"nb-execution_coun...</td>\n",
              "      <td>10</td>\n",
              "      <td>50</td>\n",
              "      <td>300.0</td>\n",
              "    </tr>\n",
              "    <tr>\n",
              "      <th>4</th>\n",
              "      <td>error</td>\n",
              "      <td>306</td>\n",
              "      <td>43</td>\n",
              "      <td>12</td>\n",
              "      <td>NaN</td>\n",
              "      <td>The \u201crole\u201d attribute must not be used on a \u201ctd...</td>\n",
              "      <td>&lt;/td&gt;\\n      &lt;td class=\"nb-cell_type\" rol...</td>\n",
              "      <td>10</td>\n",
              "      <td>44</td>\n",
              "      <td>305.0</td>\n",
              "    </tr>\n",
              "    <tr>\n",
              "      <th>...</th>\n",
              "      <td>...</td>\n",
              "      <td>...</td>\n",
              "      <td>...</td>\n",
              "      <td>...</td>\n",
              "      <td>...</td>\n",
              "      <td>...</td>\n",
              "      <td>...</td>\n",
              "      <td>...</td>\n",
              "      <td>...</td>\n",
              "      <td>...</td>\n",
              "    </tr>\n",
              "    <tr>\n",
              "      <th>173</th>\n",
              "      <td>error</td>\n",
              "      <td>1869</td>\n",
              "      <td>54</td>\n",
              "      <td>12</td>\n",
              "      <td>NaN</td>\n",
              "      <td>The \u201crole\u201d attribute must not be used on a \u201ctd...</td>\n",
              "      <td>&lt;/td&gt;\\n      &lt;td class=\"nb-end\" id=\"cell-...</td>\n",
              "      <td>10</td>\n",
              "      <td>55</td>\n",
              "      <td>1868.0</td>\n",
              "    </tr>\n",
              "    <tr>\n",
              "      <th>174</th>\n",
              "      <td>error</td>\n",
              "      <td>1874</td>\n",
              "      <td>40</td>\n",
              "      <td>12</td>\n",
              "      <td>NaN</td>\n",
              "      <td>The \u201crole\u201d attribute must not be used on a \u201ctd...</td>\n",
              "      <td>&lt;/td&gt;\\n      &lt;td class=\"nb-source\" role=\"...</td>\n",
              "      <td>10</td>\n",
              "      <td>41</td>\n",
              "      <td>1873.0</td>\n",
              "    </tr>\n",
              "    <tr>\n",
              "      <th>175</th>\n",
              "      <td>error</td>\n",
              "      <td>1897</td>\n",
              "      <td>42</td>\n",
              "      <td>12</td>\n",
              "      <td>NaN</td>\n",
              "      <td>The \u201crole\u201d attribute must not be used on a \u201ctd...</td>\n",
              "      <td>&lt;/td&gt;\\n      &lt;td class=\"nb-metadata\" role...</td>\n",
              "      <td>10</td>\n",
              "      <td>43</td>\n",
              "      <td>1896.0</td>\n",
              "    </tr>\n",
              "    <tr>\n",
              "      <th>176</th>\n",
              "      <td>error</td>\n",
              "      <td>1912</td>\n",
              "      <td>54</td>\n",
              "      <td>12</td>\n",
              "      <td>NaN</td>\n",
              "      <td>The \u201crole\u201d attribute must not be used on a \u201ctd...</td>\n",
              "      <td>&lt;/td&gt;\\n      &lt;td class=\"nb-loc\" id=\"cell-...</td>\n",
              "      <td>10</td>\n",
              "      <td>55</td>\n",
              "      <td>1911.0</td>\n",
              "    </tr>\n",
              "    <tr>\n",
              "      <th>177</th>\n",
              "      <td>error</td>\n",
              "      <td>1915</td>\n",
              "      <td>41</td>\n",
              "      <td>12</td>\n",
              "      <td>NaN</td>\n",
              "      <td>The \u201crole\u201d attribute must not be used on a \u201ctd...</td>\n",
              "      <td>&lt;/td&gt;\\n      &lt;td class=\"nb-outputs\" role=...</td>\n",
              "      <td>10</td>\n",
              "      <td>42</td>\n",
              "      <td>1914.0</td>\n",
              "    </tr>\n",
              "  </tbody>\n",
              "</table>\n",
              "<p>178 rows \u00d7 10 columns</p>\n",
              "</div>"
            ],
            "text/plain": [
              "      type  lastLine  lastColumn  firstColumn  subType  \\\n",
              "0     info        81          27            4  warning   \n",
              "1    error       295         126           11      NaN   \n",
              "2    error       296          40          127      NaN   \n",
              "3    error       301          49           12      NaN   \n",
              "4    error       306          43           12      NaN   \n",
              "..     ...       ...         ...          ...      ...   \n",
              "173  error      1869          54           12      NaN   \n",
              "174  error      1874          40           12      NaN   \n",
              "175  error      1897          42           12      NaN   \n",
              "176  error      1912          54           12      NaN   \n",
              "177  error      1915          41           12      NaN   \n",
              "\n",
              "                                               message  \\\n",
              "0    Section lacks heading. Consider using \u201ch2\u201d-\u201ch6...   \n",
              "1    The \u201crole\u201d attribute must not be used on a \u201ctr...   \n",
              "2    The \u201crole\u201d attribute must not be used on a \u201ctd...   \n",
              "3    The \u201crole\u201d attribute must not be used on a \u201ctd...   \n",
              "4    The \u201crole\u201d attribute must not be used on a \u201ctd...   \n",
              "..                                                 ...   \n",
              "173  The \u201crole\u201d attribute must not be used on a \u201ctd...   \n",
              "174  The \u201crole\u201d attribute must not be used on a \u201ctd...   \n",
              "175  The \u201crole\u201d attribute must not be used on a \u201ctd...   \n",
              "176  The \u201crole\u201d attribute must not be used on a \u201ctd...   \n",
              "177  The \u201crole\u201d attribute must not be used on a \u201ctd...   \n",
              "\n",
              "                                               extract  hiliteStart  \\\n",
              "0           ader\">\\n   <section id=\"skip-link\">\\n    <           10   \n",
              "1         </tr>\\n     <tr aria-labelledby=\"nb-cell-...           10   \n",
              "2    listitem\">\\n      <td class=\"nb-anchor\" role=\"...           10   \n",
              "3         </td>\\n      <td class=\"nb-execution_coun...           10   \n",
              "4         </td>\\n      <td class=\"nb-cell_type\" rol...           10   \n",
              "..                                                 ...          ...   \n",
              "173       </td>\\n      <td class=\"nb-end\" id=\"cell-...           10   \n",
              "174       </td>\\n      <td class=\"nb-source\" role=\"...           10   \n",
              "175       </td>\\n      <td class=\"nb-metadata\" role...           10   \n",
              "176       </td>\\n      <td class=\"nb-loc\" id=\"cell-...           10   \n",
              "177       </td>\\n      <td class=\"nb-outputs\" role=...           10   \n",
              "\n",
              "     hiliteLength  firstLine  \n",
              "0              24        NaN  \n",
              "1             127      294.0  \n",
              "2              41      295.0  \n",
              "3              50      300.0  \n",
              "4              44      305.0  \n",
              "..            ...        ...  \n",
              "173            55     1868.0  \n",
              "174            41     1873.0  \n",
              "175            43     1896.0  \n",
              "176            55     1911.0  \n",
              "177            42     1914.0  \n",
              "\n",
              "[178 rows x 10 columns]"
            ]
          },
          "execution_count": 3,
          "metadata": {},
          "output_type": "execute_result"
        }
      ],
      "source": [
        "    HTML = pathlib.Path(\"../../../notebooks-for-all/tests/exports/html/lorenz-executed.html\")\n",
        "    df = pandas.DataFrame(pandas.Series(validate_html(HTML)).messages)\n",
        "    del df[\"url\"]\n",
        "    df"
      ]
    },
    {
      "cell_type": "markdown",
      "id": "aef34a3c-31cc-4d8b-810a-c4a03e762fc3",
      "metadata": {},
      "source": [
        "## throwing exceptions\n",
        "\n",
        "we need to collect these results and raise exceptions."
      ]
    },
    {
      "cell_type": "markdown",
      "id": "b50e87c3-e8cb-41a9-a07c-9fdcf7dedd16",
      "metadata": {},
      "source": [
        "we need to organize the `results` into something that can be reported. "
      ]
    },
    {
      "cell_type": "code",
      "execution_count": 4,
      "id": "5b5effdd-7b6f-40f2-b503-7e232b3464c6",
      "metadata": {
        "execution": {
          "iopub.execute_input": "2023-11-16T01:46:31.188534Z",
          "iopub.status.busy": "2023-11-16T01:46:31.188354Z",
          "iopub.status.idle": "2023-11-16T01:46:32.371945Z",
          "shell.execute_reply": "2023-11-16T01:46:32.371238Z",
          "shell.execute_reply.started": "2023-11-16T01:46:31.188516Z"
        }
      },
      "outputs": [],
      "source": [
        "    results = validate_html(HTML)"
      ]
    },
    {
      "cell_type": "markdown",
      "id": "4e643baf-cb72-4768-8cec-d0b57903fc97",
      "metadata": {},
      "source": [
        "group the `results` the nu error messages and the severity."
      ]
    },
    {
      "cell_type": "code",
      "execution_count": 5,
      "id": "7c9ec847-a51f-4be5-a081-f4d0fa38d17c",
      "metadata": {
        "execution": {
          "iopub.execute_input": "2023-11-16T01:46:32.373148Z",
          "iopub.status.busy": "2023-11-16T01:46:32.372881Z",
          "iopub.status.idle": "2023-11-16T01:46:32.376950Z",
          "shell.execute_reply": "2023-11-16T01:46:32.376384Z",
          "shell.execute_reply.started": "2023-11-16T01:46:32.373129Z"
        }
      },
      "outputs": [],
      "source": [
        "    def organize_validator_results(results):\n",
        "        collect = collections.defaultdict(functools.partial(collections.defaultdict, list))\n",
        "        for (error, msg), group in itertools.groupby(results[\"messages\"], key=operator.itemgetter(\"type\", \"message\")):\n",
        "            for item in group:\n",
        "                collect[error][msg].append(item)\n",
        "        return collect"
      ]
    },
    {
      "cell_type": "markdown",
      "id": "975488b4-0953-4d74-a091-39b9fca217c0",
      "metadata": {},
      "source": [
        "the page we are testing overrides `table` roles where the validator throws errors. this is a known issue so we already have to ignore some results."
      ]
    },
    {
      "cell_type": "code",
      "execution_count": 6,
      "id": "52159f1d-9e86-4bab-94ad-062a32209e8e",
      "metadata": {
        "execution": {
          "iopub.execute_input": "2023-11-16T01:46:32.377740Z",
          "iopub.status.busy": "2023-11-16T01:46:32.377581Z",
          "iopub.status.idle": "2023-11-16T01:46:32.380896Z",
          "shell.execute_reply": "2023-11-16T01:46:32.380457Z",
          "shell.execute_reply.started": "2023-11-16T01:46:32.377725Z"
        }
      },
      "outputs": [],
      "source": [
        "    EXCLUDE = re.compile(\n",
        "        \"\"\"or with a \u201crole\u201d attribute whose value is \u201ctable\u201d, \u201cgrid\u201d, or \u201ctreegrid\u201d.$\"\"\"\n",
        "        # https://github.com/validator/validator/issues/1125\n",
        "    )"
      ]
    },
    {
      "cell_type": "code",
      "execution_count": 7,
      "id": "ce7f358f-387f-4bcd-b6cc-4e0c36bcd594",
      "metadata": {
        "execution": {
          "iopub.execute_input": "2023-11-16T01:46:32.381889Z",
          "iopub.status.busy": "2023-11-16T01:46:32.381722Z",
          "iopub.status.idle": "2023-11-16T01:46:32.384364Z",
          "shell.execute_reply": "2023-11-16T01:46:32.383992Z",
          "shell.execute_reply.started": "2023-11-16T01:46:32.381879Z"
        }
      },
      "outputs": [],
      "source": [
        "    def raise_if_errors(results, exclude=EXCLUDE):\n",
        "        collect = organize_validator_results(results)\n",
        "        exceptions = []\n",
        "        for msg in collect[\"error\"]:\n",
        "            if not exclude or not exclude.search(msg):\n",
        "                exceptions.append(exceptiongroup.ExceptionGroup(msg, [Exception(x[\"extract\"]) for x in collect[\"error\"][msg]]))\n",
        "        if exceptions:\n",
        "             raise exceptiongroup.ExceptionGroup(\"nu validator errors\", exceptions)"
      ]
    },
    {
      "cell_type": "markdown",
      "id": "50fa3177-03a2-41ce-af7b-d7d020781faa",
      "metadata": {},
      "source": [
        "since, i've been hand validating, my page doesn't raise any errors except for the excluded ones. i'm really proud of that."
      ]
    },
    {
      "cell_type": "code",
      "execution_count": 8,
      "id": "35fe03b6-a0a7-424a-8995-ca01cc689682",
      "metadata": {
        "execution": {
          "iopub.execute_input": "2023-11-16T01:46:32.385000Z",
          "iopub.status.busy": "2023-11-16T01:46:32.384881Z",
          "iopub.status.idle": "2023-11-16T01:46:32.387045Z",
          "shell.execute_reply": "2023-11-16T01:46:32.386664Z",
          "shell.execute_reply.started": "2023-11-16T01:46:32.384989Z"
        }
      },
      "outputs": [],
      "source": [
        "    raise_if_errors(results)"
      ]
    },
    {
      "cell_type": "markdown",
      "id": "48f146e1-de49-4d6a-854e-929113586bd0",
      "metadata": {},
      "source": [
        "if we include all the validator errors then we raise an exception group"
      ]
    },
    {
      "cell_type": "code",
      "execution_count": 9,
      "id": "7db155db-5b84-4cdc-b881-77f2d637c4e2",
      "metadata": {
        "execution": {
          "iopub.execute_input": "2023-11-16T01:46:32.387758Z",
          "iopub.status.busy": "2023-11-16T01:46:32.387618Z",
          "iopub.status.idle": "2023-11-16T01:46:32.392154Z",
          "shell.execute_reply": "2023-11-16T01:46:32.391729Z",
          "shell.execute_reply.started": "2023-11-16T01:46:32.387745Z"
        }
      },
      "outputs": [
        {
          "name": "stderr",
          "output_type": "stream",
          "text": [
            "  + Exception Group Traceback (most recent call last):\n",
            "  |   File \"/home/tbone/mambaforge/envs/test-nbconvert-a11y/lib/python3.11/site-packages/IPython/core/interactiveshell.py\", line 3548, in run_code\n",
            "  |     exec(code_obj, self.user_global_ns, self.user_ns)\n",
            "  |   File \"/tmp/ipykernel_394727/1257168619.py\", line 1, in <module>\n",
            "  |     raise_if_errors(results, None)\n",
            "  |   File \"/tmp/ipykernel_394727/522998515.py\", line 8, in raise_if_errors\n",
            "  |     raise exceptiongroup.ExceptionGroup(\"nu validator errors\", exceptions)\n",
            "  | ExceptionGroup: nu validator errors (2 sub-exceptions)\n",
            "  +-+---------------- 1 ----------------\n",
            "    | ExceptionGroup: The \u201crole\u201d attribute must not be used on a \u201ctr\u201d element which has a \u201ctable\u201d ancestor with no \u201crole\u201d attribute, or with a \u201crole\u201d attribute whose value is \u201ctable\u201d, \u201cgrid\u201d, or \u201ctreegrid\u201d. (16 sub-exceptions)\n",
            "    +-+---------------- 1 ----------------\n",
            "      | Exception:      </tr>\n",
            "      |      <tr aria-labelledby=\"nb-cell-label 1 cell-1-cell_type\" class=\"cell markdown\" data-index=\"1\" data-loc=\"1\" role=\"listitem\">\n",
            "      |      \n",
            "      +---------------- 2 ----------------\n",
            "      | Exception:      </tr>\n",
            "      |      <tr aria-labelledby=\"nb-cell-label 2 cell-2-cell_type\" class=\"cell markdown\" data-index=\"2\" data-loc=\"1\" role=\"listitem\">\n",
            "      |      \n",
            "      +---------------- 3 ----------------\n",
            "      | Exception:      </tr>\n",
            "      |      <tr aria-labelledby=\"nb-cell-label 3 cell-3-cell_type\" class=\"cell code\" data-index=\"3\" data-loc=\"2\" role=\"listitem\">\n",
            "      |      \n",
            "      +---------------- 4 ----------------\n",
            "      | Exception:      </tr>\n",
            "      |      <tr aria-labelledby=\"nb-cell-label 4 cell-4-cell_type\" class=\"cell markdown\" data-index=\"4\" data-loc=\"11\" role=\"listitem\">\n",
            "      |      \n",
            "      +---------------- 5 ----------------\n",
            "      | Exception:      </tr>\n",
            "      |      <tr aria-labelledby=\"nb-cell-label 5 cell-5-cell_type\" class=\"cell code\" data-index=\"5\" data-loc=\"3\" role=\"listitem\">\n",
            "      |      \n",
            "      +---------------- 6 ----------------\n",
            "      | Exception:      </tr>\n",
            "      |      <tr aria-labelledby=\"nb-cell-label 6 cell-6-cell_type\" class=\"cell markdown\" data-index=\"6\" data-loc=\"1\" role=\"listitem\">\n",
            "      |      \n",
            "      +---------------- 7 ----------------\n",
            "      | Exception:      </tr>\n",
            "      |      <tr aria-labelledby=\"nb-cell-label 7 cell-7-cell_type\" class=\"cell markdown\" data-index=\"7\" data-loc=\"1\" role=\"listitem\">\n",
            "      |      \n",
            "      +---------------- 8 ----------------\n",
            "      | Exception:      </tr>\n",
            "      |      <tr aria-labelledby=\"nb-cell-label 8 cell-8-cell_type\" class=\"cell code\" data-index=\"8\" data-loc=\"1\" role=\"listitem\">\n",
            "      |      \n",
            "      +---------------- 9 ----------------\n",
            "      | Exception:      </tr>\n",
            "      |      <tr aria-labelledby=\"nb-cell-label 9 cell-9-cell_type\" class=\"cell code\" data-index=\"9\" data-loc=\"1\" role=\"listitem\">\n",
            "      |      \n",
            "      +---------------- 10 ----------------\n",
            "      | Exception:      </tr>\n",
            "      |      <tr aria-labelledby=\"nb-cell-label 10 cell-10-cell_type\" class=\"cell markdown\" data-index=\"10\" data-loc=\"1\" role=\"listitem\">\n",
            "      |      \n",
            "      +---------------- 11 ----------------\n",
            "      | Exception:      </tr>\n",
            "      |      <tr aria-labelledby=\"nb-cell-label 11 cell-11-cell_type\" class=\"cell code\" data-index=\"11\" data-loc=\"1\" role=\"listitem\">\n",
            "      |      \n",
            "      +---------------- 12 ----------------\n",
            "      | Exception:      </tr>\n",
            "      |      <tr aria-labelledby=\"nb-cell-label 12 cell-12-cell_type\" class=\"cell code\" data-index=\"12\" data-loc=\"1\" role=\"listitem\">\n",
            "      |      \n",
            "      +---------------- 13 ----------------\n",
            "      | Exception:      </tr>\n",
            "      |      <tr aria-labelledby=\"nb-cell-label 13 cell-13-cell_type\" class=\"cell markdown\" data-index=\"13\" data-loc=\"1\" role=\"listitem\">\n",
            "      |      \n",
            "      +---------------- 14 ----------------\n",
            "      | Exception:      </tr>\n",
            "      |      <tr aria-labelledby=\"nb-cell-label 14 cell-14-cell_type\" class=\"cell code\" data-index=\"14\" data-loc=\"1\" role=\"listitem\">\n",
            "      |      \n",
            "      +---------------- 15 ----------------\n",
            "      | Exception:      </tr>\n",
            "      |      <tr aria-labelledby=\"nb-cell-label 15 cell-15-cell_type\" class=\"cell code\" data-index=\"15\" data-loc=\"2\" role=\"listitem\">\n",
            "      |      \n",
            "      +---------------- ... ----------------\n",
            "      | and 1 more exception\n",
            "      +------------------------------------\n",
            "    +---------------- 2 ----------------\n",
            "    | ExceptionGroup: The \u201crole\u201d attribute must not be used on a \u201ctd\u201d element which has a \u201ctable\u201d ancestor with no \u201crole\u201d attribute, or with a \u201crole\u201d attribute whose value is \u201ctable\u201d, \u201cgrid\u201d, or \u201ctreegrid\u201d. (160 sub-exceptions)\n",
            "    +-+---------------- 1 ----------------\n",
            "      | Exception: listitem\">\n",
            "      |       <td class=\"nb-anchor\" role=\"none\">\n",
            "      |      \n",
            "      +---------------- 2 ----------------\n",
            "      | Exception:      </td>\n",
            "      |       <td class=\"nb-execution_count\" role=\"none\">\n",
            "      |      \n",
            "      +---------------- 3 ----------------\n",
            "      | Exception:      </td>\n",
            "      |       <td class=\"nb-cell_type\" role=\"none\">\n",
            "      |      \n",
            "      +---------------- 4 ----------------\n",
            "      | Exception:      </td>\n",
            "      |       <td class=\"nb-toolbar\" role=\"none\">\n",
            "      |      \n",
            "      +---------------- 5 ----------------\n",
            "      | Exception:      </td>\n",
            "      |       <td class=\"nb-start\" id=\"cell-1-start\" role=\"none\">\n",
            "      |      \n",
            "      +---------------- 6 ----------------\n",
            "      | Exception:      </td>\n",
            "      |       <td class=\"nb-end\" id=\"cell-1-end\" role=\"none\">\n",
            "      |      \n",
            "      +---------------- 7 ----------------\n",
            "      | Exception:      </td>\n",
            "      |       <td class=\"nb-source\" role=\"none\">\n",
            "      |  \n",
            "      +---------------- 8 ----------------\n",
            "      | Exception:      </td>\n",
            "      |       <td class=\"nb-metadata\" role=\"none\">\n",
            "      |      \n",
            "      +---------------- 9 ----------------\n",
            "      | Exception:      </td>\n",
            "      |       <td class=\"nb-loc\" id=\"cell-1-loc\" role=\"none\">\n",
            "      |      \n",
            "      +---------------- 10 ----------------\n",
            "      | Exception:      </td>\n",
            "      |       <td class=\"nb-outputs\" role=\"none\">\n",
            "      |      \n",
            "      +---------------- 11 ----------------\n",
            "      | Exception: listitem\">\n",
            "      |       <td class=\"nb-anchor\" role=\"none\">\n",
            "      |      \n",
            "      +---------------- 12 ----------------\n",
            "      | Exception:      </td>\n",
            "      |       <td class=\"nb-execution_count\" role=\"none\">\n",
            "      |      \n",
            "      +---------------- 13 ----------------\n",
            "      | Exception:      </td>\n",
            "      |       <td class=\"nb-cell_type\" role=\"none\">\n",
            "      |      \n",
            "      +---------------- 14 ----------------\n",
            "      | Exception:      </td>\n",
            "      |       <td class=\"nb-toolbar\" role=\"none\">\n",
            "      |      \n",
            "      +---------------- 15 ----------------\n",
            "      | Exception:      </td>\n",
            "      |       <td class=\"nb-start\" id=\"cell-2-start\" role=\"none\">\n",
            "      |      \n",
            "      +---------------- ... ----------------\n",
            "      | and 145 more exceptions\n",
            "      +------------------------------------\n"
          ]
        }
      ],
      "source": [
        "    raise_if_errors(results, None)"
      ]
    },
    {
      "cell_type": "code",
      "execution_count": null,
      "id": "4915ccc2-bf38-4b16-8cdf-c02eb1163270",
      "metadata": {},
      "outputs": [],
      "source": []
    }
  ],
  "metadata": {
    "kernelspec": {
      "display_name": "Python [conda env:test-nbconvert-a11y]",
      "language": "python",
      "name": "conda-env-test-nbconvert-a11y-py"
    },
    "language_info": {
      "codemirror_mode": {
        "name": "ipython",
        "version": 3
      },
      "file_extension": ".py",
      "mimetype": "text/x-python",
      "name": "python",
      "nbconvert_exporter": "python",
      "pygments_lexer": "ipython3",
      "version": "3.11.6"
    },
    "widgets": {
      "application/vnd.jupyter.widget-state+json": {
        "state": {},
        "version_major": 2,
        "version_minor": 0
      }
    }
  },
  "nbformat": 4,
  "nbformat_minor": 5
}