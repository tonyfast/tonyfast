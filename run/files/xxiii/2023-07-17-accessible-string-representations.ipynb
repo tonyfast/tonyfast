{
  "cells": [
    {
      "cell_type": "markdown",
      "id": "519c5bea-9327-437c-a202-b03c1ba52051",
      "metadata": {},
      "source": [
        "# the string is a samp\n",
        "\n",
        "the semantics of a string output are ambiguous to other outputs. we suggest that strings should be represented with the `samp` tag."
      ]
    },
    {
      "cell_type": "markdown",
      "id": "56be726e-75b5-437b-9a44-6d875f3d0e65",
      "metadata": {},
      "source": [
        "## string displays"
      ]
    },
    {
      "cell_type": "markdown",
      "id": "e8941513-3bd1-42c2-a237-3cb227d409db",
      "metadata": {},
      "source": [
        "the standard python display wraps a string in single questions."
      ]
    },
    {
      "cell_type": "code",
      "execution_count": 5,
      "id": "9c759030-14a4-4e80-8e27-4cee93e64071",
      "metadata": {},
      "outputs": [
        {
          "data": {
            "text/plain": [
              "'this is the example'"
            ]
          },
          "execution_count": 5,
          "metadata": {},
          "output_type": "execute_result"
        }
      ],
      "source": [
        "    %pip install IPython\n",
        "    example = \"this is the example\"\n",
        "    example"
      ]
    },
    {
      "cell_type": "markdown",
      "id": "43bb04f0-367c-454f-a7dd-a9eb736a98cf",
      "metadata": {},
      "source": [
        "we could acheive a similar representation with the native [`samp`][samp] element.\n",
        "\n",
        "[samp]: https://developer.mozilla.org/en-US/docs/Web/HTML/Element/figcaption"
      ]
    },
    {
      "cell_type": "code",
      "execution_count": 6,
      "id": "90116495-ad2a-4d15-80b3-d096c46eaca9",
      "metadata": {},
      "outputs": [
        {
          "data": {
            "text/html": [
              "<samp>this is the example</samp>"
            ],
            "text/plain": [
              "<IPython.core.display.HTML object>"
            ]
          },
          "execution_count": 6,
          "metadata": {},
          "output_type": "execute_result"
        }
      ],
      "source": [
        "    from IPython.display import HTML\n",
        "    HTML(F\"<samp>{example}</samp>\")"
      ]
    },
    {
      "cell_type": "markdown",
      "id": "23b0792d-c4c2-4c38-b7a6-3104b93f3fca",
      "metadata": {},
      "source": [
        "the `samp` provides double quotes by default with monospace text. it almost exactly mimics the standard display if you are specific about your quotes. "
      ]
    },
    {
      "cell_type": "markdown",
      "id": "9224705c-1440-44bd-8359-3ec43645a938",
      "metadata": {},
      "source": [
        "## best solution\n",
        "\n",
        "the best solution would associate the string with the variable. the quickest semantic solution i can think of would look close to."
      ]
    },
    {
      "cell_type": "code",
      "execution_count": 9,
      "id": "0cdac394-849d-4182-a336-feb06d0a5a8f",
      "metadata": {},
      "outputs": [
        {
          "data": {
            "text/html": [
              "<figure>\n",
              "    <samp>this is the example</samp>\n",
              "    <figcaption><var>example</var></figcaption>\n",
              "</figure>"
            ],
            "text/plain": [
              "<IPython.core.display.HTML object>"
            ]
          },
          "execution_count": 9,
          "metadata": {},
          "output_type": "execute_result"
        }
      ],
      "source": [
        "    HTML(F\"\"\"<figure>\n",
        "        <samp>{example}</samp>\n",
        "        <figcaption><var>example</var></figcaption>\n",
        "    </figure>\"\"\")"
      ]
    },
    {
      "cell_type": "markdown",
      "id": "05667451-da43-4f56-96a7-ee62608dee12",
      "metadata": {},
      "source": [
        "## string representations in code."
      ]
    },
    {
      "cell_type": "markdown",
      "id": "5c130fbd-f699-437d-85ec-b2ef68bba667",
      "metadata": {},
      "source": [
        "if we are display code containing a string then the story is different. consider the first snippet of python code.\n",
        "\n",
        "```python\n",
        "example = \"this is the example\"\n",
        "example\n",
        "```"
      ]
    },
    {
      "cell_type": "markdown",
      "id": "668a47ed-931f-43a5-8a7b-783959ae0a90",
      "metadata": {},
      "source": [
        "the source of the string in the code would have the following semantics. when `samp` contains `kbd` it indicates [<q>an actual key or other unit of input as a portion of a larger input</q>][usage]\n",
        "\n",
        "[usage]: https://developer.mozilla.org/en-US/docs/Web/HTML/Element/kbd#usage_notes"
      ]
    },
    {
      "cell_type": "code",
      "execution_count": 10,
      "id": "82c6963f-2169-4130-b8b0-d20abd88b51e",
      "metadata": {},
      "outputs": [
        {
          "data": {
            "text/html": [
              "\n",
              "<pre><code>\n",
              "    <var>example</var> = <span hidden>\"</span><samp><kbd>this is the example</kbd></samp><span hidden>\"</span>\n",
              "    <var>example</var>\n",
              "</code></pre>\n"
            ],
            "text/plain": [
              "<IPython.core.display.HTML object>"
            ]
          },
          "execution_count": 10,
          "metadata": {},
          "output_type": "execute_result"
        }
      ],
      "source": [
        "    HTML(html := \"\"\"\n",
        "    <pre><code>\n",
        "        <var>example</var> = <span hidden>\"</span><samp><kbd>this is the example</kbd></samp><span hidden>\"</span>\n",
        "        <var>example</var>\n",
        "    </code></pre>\n",
        "    \"\"\")"
      ]
    },
    {
      "cell_type": "markdown",
      "id": "36b51903-91f3-4e14-a645-d93bc0d53b3b",
      "metadata": {},
      "source": [
        "## wraps"
      ]
    },
    {
      "cell_type": "markdown",
      "id": "80202ccf-eab4-4ec1-99ff-89608d0d3227",
      "metadata": {},
      "source": [
        "* we explored a few confomrations of the `samp` tag. it seems to hold up as a good semantic for input and output strings.\n",
        "* a consistent use of the `var` tag in code representations and outputs would allow more complex relationships to be inferred from the document."
      ]
    }
  ],
  "metadata": {
    "kernelspec": {
      "display_name": "base",
      "language": "python",
      "name": "base"
    },
    "language_info": {
      "codemirror_mode": {
        "name": "ipython",
        "version": 3
      },
      "file_extension": ".py",
      "mimetype": "text/x-python",
      "name": "python",
      "nbconvert_exporter": "python",
      "pygments_lexer": "ipython3",
      "version": "3.10.9"
    },
    "widgets": {
      "application/vnd.jupyter.widget-state+json": {
        "state": {},
        "version_major": 2,
        "version_minor": 0
      }
    }
  },
  "nbformat": 4,
  "nbformat_minor": 5
}