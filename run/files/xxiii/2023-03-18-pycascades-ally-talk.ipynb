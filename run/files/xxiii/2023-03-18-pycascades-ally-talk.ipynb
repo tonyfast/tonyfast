{
  "cells": [
    {
      "cell_type": "markdown",
      "id": "4e2eecb2-b5b6-4634-8b16-25cd78b94d0a",
      "metadata": {
        "execution": {
          "iopub.execute_input": "2023-03-18T21:39:19.582697Z",
          "iopub.status.busy": "2023-03-18T21:39:19.582528Z",
          "iopub.status.idle": "2023-03-18T21:39:19.587234Z",
          "shell.execute_reply": "2023-03-18T21:39:19.586509Z",
          "shell.execute_reply.started": "2023-03-18T21:39:19.582684Z"
        },
        "tags": []
      },
      "source": [
        "# A Crash Course in Digital Accessibility\n",
        "\n",
        "5 minutes of things you use today to start thinking about accessibility"
      ]
    },
    {
      "cell_type": "code",
      "execution_count": 1,
      "id": "bd8340fe-f1a6-42a0-91a5-0608a0463a76",
      "metadata": {
        "execution": {
          "iopub.execute_input": "2023-03-18T21:55:37.446942Z",
          "iopub.status.busy": "2023-03-18T21:55:37.446839Z",
          "iopub.status.idle": "2023-03-18T21:55:37.523221Z",
          "shell.execute_reply": "2023-03-18T21:55:37.522909Z",
          "shell.execute_reply.started": "2023-03-18T21:55:37.446930Z"
        },
        "tags": [],
        "jupyter": {
          "source_hidden": true
        }
      },
      "outputs": [
        {
          "data": {
            "text/markdown": [
              "<div hidden>\n",
              "\n",
              "    \n",
              "    %reload_ext pidgy\n",
              "\n",
              "</div>"
            ],
            "text/plain": [
              "<IPython.core.display.Markdown object>"
            ]
          },
          "metadata": {},
          "output_type": "display_data"
        }
      ],
      "source": [
        "    \n",
        "    %pip install pidgy\n",
        "    %reload_ext pidgy"
      ]
    },
    {
      "cell_type": "markdown",
      "id": "53096757-48e6-4e3d-bc9e-dd8af8932f1b",
      "metadata": {},
      "source": [
        "## forms of disability\n",
        "\n",
        "prevalence of disability.\n",
        "\n",
        "![](https://pbs.twimg.com/media/Eg8G4xXX0AEvtpC?format=png&name=large)"
      ]
    },
    {
      "cell_type": "code",
      "execution_count": 2,
      "id": "a43002fb-74a0-4325-a52e-f418a2c1efcc",
      "metadata": {
        "execution": {
          "iopub.execute_input": "2023-03-18T21:55:37.524176Z",
          "iopub.status.busy": "2023-03-18T21:55:37.523990Z",
          "iopub.status.idle": "2023-03-18T21:55:37.535114Z",
          "shell.execute_reply": "2023-03-18T21:55:37.534799Z",
          "shell.execute_reply.started": "2023-03-18T21:55:37.524165Z"
        },
        "tags": [],
        "jupyter": {
          "source_hidden": true
        }
      },
      "outputs": [
        {
          "data": {
            "text/markdown": [
              "## forms of accessibility\n",
              "\n",
              "* Vision \n",
              "* Hearing \n",
              "* Neurodiversity \n",
              "* Learning \n",
              "* Mobility \n",
              "* Mental health"
            ],
            "text/plain": [
              "<IPython.core.display.Markdown object>"
            ]
          },
          "metadata": {},
          "output_type": "display_data"
        }
      ],
      "source": [
        "## forms of accessibility\n",
        "\n",
        "* Vision \n",
        "* Hearing \n",
        "* Neurodiversity \n",
        "* Learning \n",
        "* Mobility \n",
        "* Mental health"
      ]
    },
    {
      "cell_type": "code",
      "execution_count": 3,
      "id": "4f5c2f41-2766-4b2f-92b1-8668bb3c14cd",
      "metadata": {
        "execution": {
          "iopub.execute_input": "2023-03-18T21:55:37.535800Z",
          "iopub.status.busy": "2023-03-18T21:55:37.535568Z",
          "iopub.status.idle": "2023-03-18T21:55:37.632915Z",
          "shell.execute_reply": "2023-03-18T21:55:37.632550Z",
          "shell.execute_reply.started": "2023-03-18T21:55:37.535788Z"
        },
        "tags": [],
        "jupyter": {
          "source_hidden": true
        }
      },
      "outputs": [
        {
          "data": {
            "text/markdown": [
              "## web standards\n",
              "\n",
              "* web content accessibility guidelines\n",
              "* https://www.w3.org/WAI/standards-guidelines/act/rules/"
            ],
            "text/plain": [
              "<IPython.core.display.Markdown object>"
            ]
          },
          "metadata": {},
          "output_type": "display_data"
        }
      ],
      "source": [
        "## web standards\n",
        "\n",
        "* web content accessibility guidelines\n",
        "* https://www.w3.org/WAI/standards-guidelines/act/rules/"
      ]
    },
    {
      "cell_type": "code",
      "execution_count": 4,
      "id": "5c1d2c50-a2a8-4d9b-9ef0-fb07fed317e7",
      "metadata": {
        "execution": {
          "iopub.execute_input": "2023-03-18T21:55:37.633680Z",
          "iopub.status.busy": "2023-03-18T21:55:37.633500Z",
          "iopub.status.idle": "2023-03-18T21:55:37.638420Z",
          "shell.execute_reply": "2023-03-18T21:55:37.638066Z",
          "shell.execute_reply.started": "2023-03-18T21:55:37.633662Z"
        },
        "tags": [],
        "jupyter": {
          "source_hidden": true
        }
      },
      "outputs": [
        {
          "data": {
            "text/markdown": [
              "## wcag principles"
            ],
            "text/plain": [
              "<IPython.core.display.Markdown object>"
            ]
          },
          "metadata": {},
          "output_type": "display_data"
        }
      ],
      "source": [
        "## wcag principles"
      ]
    },
    {
      "cell_type": "code",
      "execution_count": 5,
      "id": "56151381-7bdb-43d5-9a39-68efb750c52f",
      "metadata": {
        "execution": {
          "iopub.execute_input": "2023-03-18T21:55:37.639126Z",
          "iopub.status.busy": "2023-03-18T21:55:37.638972Z",
          "iopub.status.idle": "2023-03-18T21:55:37.644440Z",
          "shell.execute_reply": "2023-03-18T21:55:37.644047Z",
          "shell.execute_reply.started": "2023-03-18T21:55:37.639111Z"
        },
        "tags": [],
        "jupyter": {
          "source_hidden": true
        }
      },
      "outputs": [
        {
          "data": {
            "text/markdown": [
              "## auditting accessibility\n",
              "\n",
              "put these in ci!\n",
              "\n",
              "* https://www.ibm.com/able/toolkit/tools/?utm_content=buffer64e12&utm_medium=social&utm_source=twitter.com&utm_campaign=buffer\n",
              "* https://github.com/dequelabs/axe-core\n",
              "* https://github.com/IBMa/equal-access/tree/master\n",
              "* https://webaim.org/services/\n",
              "\n",
              "audits are insufficient. they reveal the flow. disability people need their time back."
            ],
            "text/plain": [
              "<IPython.core.display.Markdown object>"
            ]
          },
          "metadata": {},
          "output_type": "display_data"
        }
      ],
      "source": [
        "## auditting accessibility\n",
        "\n",
        "put these in ci!\n",
        "\n",
        "* https://www.ibm.com/able/toolkit/tools/?utm_content=buffer64e12&utm_medium=social&utm_source=twitter.com&utm_campaign=buffer\n",
        "* https://github.com/dequelabs/axe-core\n",
        "* https://github.com/IBMa/equal-access/tree/master\n",
        "* https://webaim.org/services/\n",
        "\n",
        "audits are insufficient. they reveal the flow. disability people need their time back."
      ]
    },
    {
      "cell_type": "code",
      "execution_count": 6,
      "id": "aa4be25f-8a5e-434c-a786-8fcafe5a70fa",
      "metadata": {
        "execution": {
          "iopub.execute_input": "2023-03-18T21:55:37.645147Z",
          "iopub.status.busy": "2023-03-18T21:55:37.644990Z",
          "iopub.status.idle": "2023-03-18T21:55:37.650518Z",
          "shell.execute_reply": "2023-03-18T21:55:37.650138Z",
          "shell.execute_reply.started": "2023-03-18T21:55:37.645132Z"
        },
        "tags": [],
        "jupyter": {
          "source_hidden": true
        }
      },
      "outputs": [
        {
          "data": {
            "text/markdown": [
              "## manually reviewing accessibility\n",
              "\n",
              "* https://adhoc.team/2023/02/22/the-importance-of-adding-accessibility-design-reviews-to-the-design-process/\n",
              "* [no mouse days](https://www.a11yproject.com/posts/no-mouse-days/)\n",
              "* [community events](https://github.com/isabela-pf/a11y-events/tree/main/workshop-resources/alt-text)\n",
              "    * alt text\n",
              "    * keyboard navigation"
            ],
            "text/plain": [
              "<IPython.core.display.Markdown object>"
            ]
          },
          "metadata": {},
          "output_type": "display_data"
        }
      ],
      "source": [
        "## manually reviewing accessibility\n",
        "\n",
        "* https://adhoc.team/2023/02/22/the-importance-of-adding-accessibility-design-reviews-to-the-design-process/\n",
        "* [no mouse days](https://www.a11yproject.com/posts/no-mouse-days/)\n",
        "* [community events](https://github.com/isabela-pf/a11y-events/tree/main/workshop-resources/alt-text)\n",
        "    * alt text\n",
        "    * keyboard navigation\n"
      ]
    },
    {
      "cell_type": "markdown",
      "id": "42caccf3-b99c-49c7-a8eb-9e2e790c2215",
      "metadata": {},
      "source": [
        "## other sources\n",
        "\n",
        "chartability\n",
        "wai patterns"
      ]
    },
    {
      "cell_type": "code",
      "execution_count": 7,
      "id": "d12dd778-9a84-46b5-b6f6-eb800f32a242",
      "metadata": {
        "execution": {
          "iopub.execute_input": "2023-03-18T21:55:37.657770Z",
          "iopub.status.busy": "2023-03-18T21:55:37.657657Z",
          "iopub.status.idle": "2023-03-18T21:55:37.662721Z",
          "shell.execute_reply": "2023-03-18T21:55:37.662337Z",
          "shell.execute_reply.started": "2023-03-18T21:55:37.657760Z"
        },
        "tags": [],
        "jupyter": {
          "source_hidden": true
        }
      },
      "outputs": [
        {
          "data": {
            "text/markdown": [
              "## conclusion\n",
              "\n",
              "* https://en.wikipedia.org/wiki/Nothing_about_us_without_us"
            ],
            "text/plain": [
              "<IPython.core.display.Markdown object>"
            ]
          },
          "metadata": {},
          "output_type": "display_data"
        }
      ],
      "source": [
        "## conclusion\n",
        "\n",
        "* https://en.wikipedia.org/wiki/Nothing_about_us_without_us\n"
      ]
    },
    {
      "cell_type": "code",
      "execution_count": 8,
      "id": "08a0496f-e9d0-4fef-bb87-81babc3f0b80",
      "metadata": {
        "execution": {
          "iopub.execute_input": "2023-03-18T21:55:37.663310Z",
          "iopub.status.busy": "2023-03-18T21:55:37.663204Z",
          "iopub.status.idle": "2023-03-18T21:55:37.666673Z",
          "shell.execute_reply": "2023-03-18T21:55:37.666305Z",
          "shell.execute_reply.started": "2023-03-18T21:55:37.663300Z"
        },
        "tags": [],
        "jupyter": {
          "source_hidden": true
        }
      },
      "outputs": [
        {
          "data": {
            "text/markdown": [
              "## how?\n",
              "\n",
              "jupyterlite pidgy jupyter deck"
            ],
            "text/plain": [
              "<IPython.core.display.Markdown object>"
            ]
          },
          "metadata": {},
          "output_type": "display_data"
        }
      ],
      "source": [
        "## how?\n",
        "\n",
        "jupyterlite pidgy jupyter deck"
      ]
    }
  ],
  "metadata": {
    "kernelspec": {
      "display_name": "Python [conda env:root] *",
      "language": "python",
      "name": "conda-root-py"
    },
    "language_info": {
      "codemirror_mode": {
        "name": "ipython",
        "version": 3
      },
      "file_extension": ".py",
      "mimetype": "text/x-python",
      "name": "python",
      "nbconvert_exporter": "python",
      "pygments_lexer": "ipython3",
      "version": "3.10.9"
    },
    "widgets": {
      "application/vnd.jupyter.widget-state+json": {
        "state": {},
        "version_major": 2,
        "version_minor": 0
      }
    }
  },
  "nbformat": 4,
  "nbformat_minor": 5
}