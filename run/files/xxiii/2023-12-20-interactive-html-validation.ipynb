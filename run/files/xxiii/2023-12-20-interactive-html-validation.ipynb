{
  "cells": [
    {
      "cell_type": "markdown",
      "id": "a281f2b8-e87e-4c0f-a63f-e9a802c38671",
      "metadata": {},
      "source": [
        "# interactive w3c validation"
      ]
    },
    {
      "cell_type": "code",
      "execution_count": 1,
      "id": "d99ab5ed-2f22-4be4-a678-9420b2da5868",
      "metadata": {
        "execution": {
          "iopub.execute_input": "2023-12-21T04:01:03.402546Z",
          "iopub.status.busy": "2023-12-21T04:01:03.402285Z",
          "iopub.status.idle": "2023-12-21T04:01:03.507551Z",
          "shell.execute_reply": "2023-12-21T04:01:03.507066Z",
          "shell.execute_reply.started": "2023-12-21T04:01:03.402524Z"
        },
        "tags": []
      },
      "outputs": [
        {
          "name": "stdout",
          "output_type": "stream",
          "text": [
            "culling sys module...\n"
          ]
        }
      ],
      "source": [
        "    %pip install nbconvert_a11y IPython pytest\n",
        "    (get_ipython()).reset(True, True)\n",
        "    shell = get_ipython()\n",
        "    from nbconvert_a11y import pytest_w3c\n",
        "    assert pytest_w3c.get_vnu_path(), \"vnu validator isn't installed\"\n",
        "    from pathlib import Path\n",
        "    from IPython.display import *\n",
        "    import pytest, traceback"
      ]
    },
    {
      "cell_type": "code",
      "execution_count": 3,
      "id": "f1a375cb-1527-4706-b1f2-51f004cb108a",
      "metadata": {
        "execution": {
          "iopub.execute_input": "2023-12-21T04:01:15.091370Z",
          "iopub.status.busy": "2023-12-21T04:01:15.091161Z",
          "iopub.status.idle": "2023-12-21T04:01:17.926359Z",
          "shell.execute_reply": "2023-12-21T04:01:17.925960Z",
          "shell.execute_reply.started": "2023-12-21T04:01:15.091355Z"
        },
        "tags": []
      },
      "outputs": [
        {
          "name": "stdout",
          "output_type": "stream",
          "text": [
            "... starting vnu server at http://127.0.0.1:48953\n",
            ">>> /home/tbone/mambaforge/envs/test-nbconvert-a11y/bin/java\t-cp\t/home/tbone/mambaforge/envs/test-nbconvert-a11y/lib/vnu.jar\t-Dnu.validator.servlet.bind-address=127.0.0.1\tnu.validator.servlet.Main\t48953\n",
            "nu.validator.servlet.VerifierServletTransaction - Starting static initializer.\n",
            "nu.validator.servlet.VerifierServletTransaction - Reading miscellaneous properties.\n",
            "nu.validator.servlet.VerifierServletTransaction - Starting to loop over config file lines.\n",
            "nu.validator.servlet.VerifierServletTransaction - Finished reading config.\n",
            "nu.validator.servlet.VerifierServletTransaction - Converted config to arrays.\n",
            "nu.validator.servlet.VerifierServletTransaction - Prepared namespace array.\n",
            "nu.validator.servlet.VerifierServletTransaction - Parsed doctype numbers into ints.\n",
            "nu.validator.servlet.VerifierServletTransaction - The cache path prefix is: null\n",
            "nu.validator.servlet.VerifierServletTransaction - Parsing set up. Starting to read schemas.\n",
            "nu.validator.servlet.VerifierServletTransaction - Will load schema: http://s.validator.nu/html5.rnc\n",
            "nu.validator.servlet.VerifierServletTransaction - Will load schema: http://s.validator.nu/html5-all.rnc\n",
            "nu.validator.servlet.VerifierServletTransaction - Will load schema: http://s.validator.nu/xhtml5.rnc\n",
            "nu.validator.servlet.VerifierServletTransaction - Will load schema: http://s.validator.nu/xhtml5-all.rnc\n",
            "nu.validator.servlet.VerifierServletTransaction - Will load schema: http://s.validator.nu/svg-xhtml5-rdf-mathml.rnc\n",
            "nu.validator.servlet.VerifierServletTransaction - Schemas read.\n",
            "nu.validator.servlet.VerifierServletTransaction - Reading spec.\n",
            "nu.validator.servlet.VerifierServletTransaction - Spec read.\n",
            "\n",
            "WARNING: Future checker releases will bind by default to 127.0.0.1.\n",
            "Your checker deployment might become unreachable unless you use the\n",
            "nu.validator.servlet.bind-address system property or --bind-address\n",
            "script option to bind the checker to a different address:\n",
            "\n",
            "  python ./checker.py --bind-address 192.168.1.21 run\n",
            "  java -Dnu.validator.servlet.bind-address=192.168.1.21 -cp vnu.jar nu.validator.servlet.Main 8888\n",
            "  vnu-runtime-image/bin/java -Dnu.validator.servlet.bind-address=192.168.1.21 nu.validator.servlet.Main 8888\n",
            "  vnu-runtime-image\\bin\\java.exe -Dnu.validator.servlet.bind-address=192.168.1.21 nu.validator.servlet.Main 8888\n",
            "\n",
            "Checker service started at http://127.0.0.1:48953/\n",
            "... vnu server started at http://127.0.0.1:48953\n"
          ]
        }
      ],
      "source": [
        "    exception = pytest_w3c.Validator(\n",
        "        url=Path(\"../../../nbconvert-a11y/tests/exports/html/lorenz-executed-default.html\")\n",
        "    ).run()"
      ]
    },
    {
      "cell_type": "code",
      "execution_count": 4,
      "id": "f33769d6-be0b-4e9d-8b91-719a25a11c68",
      "metadata": {
        "execution": {
          "iopub.execute_input": "2023-12-21T04:01:19.859229Z",
          "iopub.status.busy": "2023-12-21T04:01:19.858976Z",
          "iopub.status.idle": "2023-12-21T04:01:19.875891Z",
          "shell.execute_reply": "2023-12-21T04:01:19.875286Z",
          "shell.execute_reply.started": "2023-12-21T04:01:19.859206Z"
        },
        "tags": []
      },
      "outputs": [
        {
          "name": "stderr",
          "output_type": "stream",
          "text": [
            "  + Exception Group Traceback (most recent call last):\n",
            "  |   File \"/home/tbone/mambaforge/envs/test-nbconvert-a11y/lib/python3.11/site-packages/IPython/core/interactiveshell.py\", line 3548, in run_code\n",
            "  |     exec(code_obj, self.user_global_ns, self.user_ns)\n",
            "  |   File \"/tmp/ipykernel_151294/1259837071.py\", line 1, in <module>\n",
            "  |     exception.raises()\n",
            "  |   File \"/home/tbone/Documents/nbconvert-a11y/nbconvert_a11y/pytest_axe.py\", line 130, in raises\n",
            "  |     raise exception\n",
            "  | nbconvert_a11y.pytest_axe.UnexpectedFail: html violations (14 sub-exceptions)\n",
            "  +-+---------------- 1 ----------------\n",
            "    | nbconvert_a11y.pytest_w3c.info-Trailing slash on void elements has no effect and interacts badly with unquoted attribute values.\n",
            "    +---------------- 2 ----------------\n",
            "    | nbconvert_a11y.pytest_w3c.info-Trailing slash on void elements has no effect and interacts badly with unquoted attribute values.\n",
            "    +---------------- 3 ----------------\n",
            "    | nbconvert_a11y.pytest_w3c.info-The \u201ctype\u201d attribute for the \u201cstyle\u201d element is not needed and should be omitted.\n",
            "    +---------------- 4 ----------------\n",
            "    | nbconvert_a11y.pytest_w3c.info-The \u201ctype\u201d attribute for the \u201cstyle\u201d element is not needed and should be omitted.\n",
            "    +---------------- 5 ----------------\n",
            "    | nbconvert_a11y.pytest_w3c.error-Unknown pseudo-element or pseudo-class \u201c:horizontal\u201d\n",
            "    +---------------- 6 ----------------\n",
            "    | nbconvert_a11y.pytest_w3c.error-Unknown pseudo-element or pseudo-class \u201c:vertical\u201d\n",
            "    +---------------- 7 ----------------\n",
            "    | nbconvert_a11y.pytest_w3c.error-box-shadow\n",
            "    +---------------- 8 ----------------\n",
            "    | nbconvert_a11y.pytest_w3c.error-overflow\n",
            "    +---------------- 9 ----------------\n",
            "    | nbconvert_a11y.pytest_w3c.info-The \u201ctype\u201d attribute for the \u201cstyle\u201d element is not needed and should be omitted.\n",
            "    +---------------- 10 ----------------\n",
            "    | nbconvert_a11y.pytest_w3c.info-The \u201ctype\u201d attribute for the \u201cstyle\u201d element is not needed and should be omitted.\n",
            "    +---------------- 11 ----------------\n",
            "    | nbconvert_a11y.pytest_w3c.info-The \u201ctype\u201d attribute is unnecessary for JavaScript resources.\n",
            "    +---------------- 12 ----------------\n",
            "    | nbconvert_a11y.pytest_w3c.info-Trailing slash on void elements has no effect and interacts badly with unquoted attribute values.\n",
            "    +---------------- 13 ----------------\n",
            "    | nbconvert_a11y.pytest_w3c.info-Trailing slash on void elements has no effect and interacts badly with unquoted attribute values.\n",
            "    +---------------- 14 ----------------\n",
            "    | nbconvert_a11y.pytest_w3c.error-Stray start tag \u201cscript\u201d.\n",
            "    +------------------------------------\n"
          ]
        }
      ],
      "source": [
        "    exception.raises()"
      ]
    },
    {
      "cell_type": "code",
      "execution_count": null,
      "id": "cd310dbc-cc43-4d04-abfa-33cacce1b81b",
      "metadata": {},
      "outputs": [],
      "source": []
    }
  ],
  "metadata": {
    "kernelspec": {
      "display_name": "Python [conda env:test-nbconvert-a11y]",
      "language": "python",
      "name": "conda-env-test-nbconvert-a11y-py"
    },
    "language_info": {
      "codemirror_mode": {
        "name": "ipython",
        "version": 3
      },
      "file_extension": ".py",
      "mimetype": "text/x-python",
      "name": "python",
      "nbconvert_exporter": "python",
      "pygments_lexer": "ipython3",
      "version": "3.11.6"
    },
    "widgets": {
      "application/vnd.jupyter.widget-state+json": {
        "state": {},
        "version_major": 2,
        "version_minor": 0
      }
    }
  },
  "nbformat": 4,
  "nbformat_minor": 5
}