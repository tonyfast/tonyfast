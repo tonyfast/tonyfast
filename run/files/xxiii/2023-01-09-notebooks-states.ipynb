{
  "cells": [
    {
      "cell_type": "markdown",
      "id": "4dffa924-02f5-4113-8774-3fafa3a9aca6",
      "metadata": {},
      "source": [
        "# three states of python in a notebook\n",
        "\n",
        "most folks are familiar with notebooks in their interactive forms.\n",
        "in `IPython`, we are working in python and `__name__ == \"__main__\"`.\n",
        "for python programs, this condition is the last stop for our program,\n",
        "but in notebooks it is just the beginning.\n",
        "i like to thing we development programs and applications in reverse in notebooks.\n",
        "\n",
        "with experience, it is possible to author notebooks that operate as programs/scripts. this document demonstrates some advanced usage patterns to apply to get the most out of future notebooks."
      ]
    },
    {
      "cell_type": "code",
      "execution_count": 1,
      "id": "d509de8a-c26e-40fb-ba85-6fcd26bf59bf",
      "metadata": {
        "jupyter": {
          "source_hidden": true
        }
      },
      "outputs": [
        {
          "data": {
            "text/markdown": [
              "<div hidden>\n",
              "\n",
              "    \n",
              "    %reload_ext pidgy\n",
              "\n",
              "</div>"
            ],
            "text/plain": [
              "<IPython.core.display.Markdown object>"
            ]
          },
          "metadata": {},
          "output_type": "display_data"
        }
      ],
      "source": [
        "    \n",
        "    %pip install pidgy __notebooks_states midgy\n",
        "    %reload_ext pidgy"
      ]
    },
    {
      "cell_type": "code",
      "execution_count": 2,
      "id": "2e84f07d-56b6-4fb1-b8cd-8afb308e7903",
      "metadata": {
        "jupyter": {
          "source_hidden": true
        }
      },
      "outputs": [
        {
          "data": {
            "text/markdown": [
              "the three python compilation states of notebooks:\n",
              "\n",
              "* an __interactive__ state when we are authoring notebooks.\n",
              "* a __script__ state when a notebook is used as procedural code.\n",
              "* a __module__ when it is imported like any python resource \n",
              "\n",
              "we need to confer with the `__name__` and `__file__` properties of a \n",
              "module's runtime to know which state we are in.\n",
              "\n",
              "| state  | `__name__` | `__file__` |\n",
              "|--------|------------|------------|\n",
              "|interactive| `__name__ == \"__main__\"` | `\"__file__\" not in locals()` |\n",
              "|module| `__name__ != \"__main__\"` | `\"__file__\" in locals()` |\n",
              "|script| `__name__ == \"__main__\"` | `\"__file__\" in locals()` |"
            ],
            "text/plain": [
              "<IPython.core.display.Markdown object>"
            ]
          },
          "metadata": {},
          "output_type": "display_data"
        }
      ],
      "source": [
        "the three python compilation states of notebooks:\n",
        "\n",
        "* an __interactive__ state when we are authoring notebooks.\n",
        "* a __script__ state when a notebook is used as procedural code.\n",
        "* a __module__ when it is imported like any python resource \n",
        "\n",
        "we need to confer with the `__name__` and `__file__` properties of a \n",
        "module's runtime to know which state we are in.\n",
        "\n",
        "| state  | `__name__` | `__file__` |\n",
        "|--------|------------|------------|\n",
        "|interactive| `__name__ == \"__main__\"` | `\"__file__\" not in locals()` |\n",
        "|module| `__name__ != \"__main__\"` | `\"__file__\" in locals()` |\n",
        "|script| `__name__ == \"__main__\"` | `\"__file__\" in locals()` |"
      ]
    },
    {
      "cell_type": "code",
      "execution_count": 3,
      "id": "a74c9d9f-6423-493b-ac7c-27daf37c6f1e",
      "metadata": {
        "tags": [],
        "jupyter": {
          "source_hidden": true
        }
      },
      "outputs": [
        {
          "data": {
            "text/markdown": [
              "## python state logic\n",
              "\n",
              "the three conditions are expressed in python code below\n",
              "\n",
              "    MAIN, FILE = __name__ == \"__main__\", \"__file__\" in locals()\n",
              "    INTERACTIVE = MAIN and not FILE\n",
              "    SCRIPT = MAIN and FILE\n",
              "    MODULE = FILE and not MAIN\n",
              "\n",
              "\n",
              "these states let us write multi purpose documents that can be used in multiple contexts\n",
              "and sharing the benefits of all of them."
            ],
            "text/plain": [
              "<IPython.core.display.Markdown object>"
            ]
          },
          "metadata": {},
          "output_type": "display_data"
        }
      ],
      "source": [
        "## python state logic\n",
        "\n",
        "the three conditions are expressed in python code below\n",
        "\n",
        "    MAIN, FILE = __name__ == \"__main__\", \"__file__\" in locals()\n",
        "    INTERACTIVE = MAIN and not FILE\n",
        "    SCRIPT = MAIN and FILE\n",
        "    MODULE = FILE and not MAIN\n",
        "\n",
        "\n",
        "these states let us write multi purpose documents that can be used in multiple contexts\n",
        "and sharing the benefits of all of them."
      ]
    },
    {
      "cell_type": "markdown",
      "id": "451802c0-f0cb-4969-b554-ac6c6a676c7b",
      "metadata": {},
      "source": [
        "## applying the condition"
      ]
    },
    {
      "cell_type": "code",
      "execution_count": 4,
      "id": "edaf716b-cfa5-4437-9772-49712175fbba",
      "metadata": {
        "jupyter": {
          "source_hidden": true
        },
        "tags": []
      },
      "outputs": [
        {
          "data": {
            "text/markdown": [
              "    def a_bad_ass_function(who: str = \"you\"):\n",
              "tells you who the bad ass is.\n",
              "\n",
              "        >>> a_bad_ass_function()\n",
              "        you are bad ass.\n",
              "        \n",
              "        print(F\"{who} are bad ass.\")"
            ],
            "text/plain": [
              "<IPython.core.display.Markdown object>"
            ]
          },
          "metadata": {},
          "output_type": "display_data"
        }
      ],
      "source": [
        "    def a_bad_ass_function(who: str = \"you\"):\n",
        "tells you who the bad ass is.\n",
        "\n",
        "        >>> a_bad_ass_function()\n",
        "        you are bad ass.\n",
        "        \n",
        "        print(F\"{who} are bad ass.\")"
      ]
    },
    {
      "cell_type": "code",
      "execution_count": 5,
      "id": "bd548032-5a0d-47e9-a0d0-530bb0bea0c0",
      "metadata": {
        "tags": [],
        "jupyter": {
          "source_hidden": true
        }
      },
      "outputs": [
        {
          "data": {
            "text/markdown": [
              "### the `MAIN` conditions\n",
              "\n",
              "`INTERACTIVE` notebooks and `SCRIPT`s both have `__name__ == \"__main__\"`"
            ],
            "text/plain": [
              "<IPython.core.display.Markdown object>"
            ]
          },
          "metadata": {},
          "output_type": "display_data"
        }
      ],
      "source": [
        "### the `MAIN` conditions\n",
        "\n",
        "`INTERACTIVE` notebooks and `SCRIPT`s both have `__name__ == \"__main__\"`"
      ]
    },
    {
      "cell_type": "code",
      "execution_count": 6,
      "id": "c2c6f55f-94fd-427a-8884-aaae0368ed4e",
      "metadata": {
        "tags": [],
        "jupyter": {
          "source_hidden": true
        }
      },
      "outputs": [
        {
          "data": {
            "text/markdown": [
              "#### the `SCRIPT` conditin\n",
              "    \n",
              "    if SCRIPT:\n",
              "we import the notebook and run the command line program.\n",
              "\n",
              "belowis a `typer` application that is only executed when the notebook is used as a script\n",
              "        \n",
              "        import typer\n",
              "        typer.run(a_bad_ass_function)\n",
              "\n",
              "#### the `INTERACTIVE` condition\n",
              "\n",
              "        if INTERACTIVE:\n",
              "data for demonstration is computed and displayed\n",
              "\n",
              "            !midgy 2023-01-09-notebooks-states.ipynb --help\n",
              "            !midgy 2023-01-09-notebooks-states.ipynb --who \"y'alls\""
            ],
            "text/plain": [
              "<IPython.core.display.Markdown object>"
            ]
          },
          "metadata": {},
          "output_type": "display_data"
        }
      ],
      "source": [
        "#### the `SCRIPT` conditin\n",
        "    \n",
        "    if SCRIPT:\n",
        "we import the notebook and run the command line program.\n",
        "\n",
        "belowis a `typer` application that is only executed when the notebook is used as a script\n",
        "        \n",
        "        import typer\n",
        "        typer.run(a_bad_ass_function)\n",
        "\n",
        "#### the `INTERACTIVE` condition\n",
        "\n",
        "        if INTERACTIVE:\n",
        "data for demonstration is computed and displayed\n",
        "\n",
        "            !midgy 2023-01-09-notebooks-states.ipynb --help\n",
        "            !midgy 2023-01-09-notebooks-states.ipynb --who \"y'alls\""
      ]
    },
    {
      "cell_type": "markdown",
      "id": "e1b5aaaa-bd30-46a7-a5ef-57af01b4ceda",
      "metadata": {},
      "source": [
        "### the `MODULE` condition"
      ]
    },
    {
      "cell_type": "code",
      "execution_count": 7,
      "id": "b3d0a21d-ca8a-4f2e-b6d2-d4d43683926a",
      "metadata": {
        "jupyter": {
          "source_hidden": true
        }
      },
      "outputs": [
        {
          "data": {
            "text/markdown": [
              "    if MODULE:\n",
              "we import the notebook and avoid running an command line programs.\n",
              "often notebooks as tests are loaded under this condition."
            ],
            "text/plain": [
              "<IPython.core.display.Markdown object>"
            ]
          },
          "metadata": {},
          "output_type": "display_data"
        }
      ],
      "source": [
        "    if MODULE:\n",
        "we import the notebook and avoid running an command line programs.\n",
        "often notebooks as tests are loaded under this condition."
      ]
    },
    {
      "cell_type": "code",
      "execution_count": 8,
      "id": "1ec29fad-378d-451e-b6ac-0e3691f74cc1",
      "metadata": {
        "jupyter": {
          "source_hidden": true
        },
        "tags": []
      },
      "outputs": [
        {
          "data": {
            "text/plain": [
              "\"<module '2023-01-09-notebooks-states' from '/home/tbone/Documents/tonyfast/tonyfast/xxiii/2023-01-09-notebooks-states.ipynb'>\""
            ]
          },
          "metadata": {},
          "output_type": "display_data"
        },
        {
          "data": {
            "text/markdown": [
              "    if INTERACTIVE:\n",
              "        import midgy.loader\n",
              "        with midgy.loader.Markdown(extensions=[\".ipynb\"]):\n",
              "            import __notebooks_states\n",
              "\n",
              "        display(repr(__notebooks_states))"
            ],
            "text/plain": [
              "<IPython.core.display.Markdown object>"
            ]
          },
          "metadata": {},
          "output_type": "display_data"
        }
      ],
      "source": [
        "    if INTERACTIVE:\n",
        "        import midgy.loader\n",
        "        with midgy.loader.Markdown(extensions=[\".ipynb\"]):\n",
        "            import __notebooks_states\n",
        "\n",
        "        display(repr(__notebooks_states))"
      ]
    },
    {
      "cell_type": "code",
      "execution_count": 9,
      "id": "bac0f7f2-67ae-41da-8d48-2d12fe00ddd5",
      "metadata": {
        "jupyter": {
          "source_hidden": true
        },
        "tags": []
      },
      "outputs": [
        {
          "data": {
            "text/markdown": [
              "## the benefits of knowing the state\n",
              "\n",
              "knowing the state or context of a notebook's execution allows us to write logic that makes notebooks a swiss army knife.\n",
              "some advanced patterns are include [testing notebooks] or [writing command line scripts].\n",
              "\n",
              "[testing notebooks]: https://nbviewer.org/gist/tonyfast/b617e4f87337a50e1361ab043b53c2c7\n",
              "[writing command line scripts]: https://tonyfast.github.io/tonyfast/xxii/2022-12-19-integrating-typer.html"
            ],
            "text/plain": [
              "<IPython.core.display.Markdown object>"
            ]
          },
          "metadata": {},
          "output_type": "display_data"
        }
      ],
      "source": [
        "## the benefits of knowing the state\n",
        "\n",
        "knowing the state or context of a notebook's execution allows us to write logic that makes notebooks a swiss army knife.\n",
        "some advanced patterns are include [testing notebooks] or [writing command line scripts].\n",
        "\n",
        "[testing notebooks]: https://nbviewer.org/gist/tonyfast/b617e4f87337a50e1361ab043b53c2c7\n",
        "[writing command line scripts]: https://tonyfast.github.io/tonyfast/xxii/2022-12-19-integrating-typer.html"
      ]
    },
    {
      "cell_type": "code",
      "execution_count": 10,
      "id": "4bc80de3-fb47-41ff-a2f9-5e0180caeda3",
      "metadata": {
        "jupyter": {
          "source_hidden": true
        },
        "tags": []
      },
      "outputs": [
        {
          "data": {
            "text/markdown": [
              "### applying `doctest`s"
            ],
            "text/plain": [
              "<IPython.core.display.Markdown object>"
            ]
          },
          "metadata": {},
          "output_type": "display_data"
        }
      ],
      "source": [
        "### applying `doctest`s"
      ]
    },
    {
      "cell_type": "code",
      "execution_count": 11,
      "id": "8a19c570-1ab1-464f-a792-bcda4341f539",
      "metadata": {
        "jupyter": {
          "source_hidden": true
        },
        "tags": []
      },
      "outputs": [
        {
          "data": {
            "text/plain": [
              "TestResults(failed=0, attempted=1)"
            ]
          },
          "metadata": {},
          "output_type": "display_data"
        },
        {
          "data": {
            "text/markdown": [
              "`a_bad_ass_function` has a doctest in the docstring. \n",
              "when working interactively we might want to run these tests to verify\n",
              "our idea works.\n",
              "\n",
              "    if INTERACTIVE:\n",
              "we only want to execute the `doctest`s in interactive mode\n",
              "\n",
              "        import doctest\n",
              "        display(doctest.testmod())"
            ],
            "text/plain": [
              "<IPython.core.display.Markdown object>"
            ]
          },
          "metadata": {},
          "output_type": "display_data"
        }
      ],
      "source": [
        "`a_bad_ass_function` has a doctest in the docstring. \n",
        "when working interactively we might want to run these tests to verify\n",
        "our idea works.\n",
        "\n",
        "    if INTERACTIVE:\n",
        "we only want to execute the `doctest`s in interactive mode\n",
        "\n",
        "        import doctest\n",
        "        display(doctest.testmod())"
      ]
    }
  ],
  "metadata": {
    "kernelspec": {
      "display_name": "Python [conda env:root] *",
      "language": "python",
      "name": "conda-root-py"
    },
    "language_info": {
      "codemirror_mode": {
        "name": "ipython",
        "version": 3
      },
      "file_extension": ".py",
      "mimetype": "text/x-python",
      "name": "python",
      "nbconvert_exporter": "python",
      "pygments_lexer": "ipython3",
      "version": "3.9.13"
    },
    "widgets": {
      "application/vnd.jupyter.widget-state+json": {
        "state": {},
        "version_major": 2,
        "version_minor": 0
      }
    }
  },
  "nbformat": 4,
  "nbformat_minor": 5
}