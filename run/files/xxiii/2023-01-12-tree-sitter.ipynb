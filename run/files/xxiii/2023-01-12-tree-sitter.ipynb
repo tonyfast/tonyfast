{
  "cells": [
    {
      "cell_type": "markdown",
      "id": "93aac95e-bec5-4a22-a667-49dbaed4dbae",
      "metadata": {},
      "source": [
        "# getting start with tree sitter"
      ]
    },
    {
      "cell_type": "markdown",
      "id": "d7dbe827-0239-431b-a614-06c380e85b16",
      "metadata": {},
      "source": [
        "## installing tree sitter for python"
      ]
    },
    {
      "cell_type": "code",
      "execution_count": 1,
      "id": "c4e077e2-3944-43f2-bd37-8b6f77930482",
      "metadata": {},
      "outputs": [],
      "source": [
        "    %pip install tonyfast midgy tree_sitter\n",
        "    def task_setup_tree_sitter():\n",
        "        import tree_sitter, pathlib, shutil\n",
        "        target = pathlib.Path(\"vendor/tree-sitter-python/.git/HEAD\")\n",
        "        yield dict(\n",
        "            name=\"clone\",\n",
        "            actions=[\n",
        "                \"git clone https://github.com/tree-sitter/tree-sitter-python vendor/tree-sitter-python --depth 1\"\n",
        "            ], targets=[target], uptodate=[target.exists], clean=[\"rm -rf vendor\"]\n",
        "        )\n",
        "        yield dict(\n",
        "            name=\"compile\",\n",
        "            actions=[(tree_sitter.Language.build_library, ('build/my-languages.so', ['vendor/tree-sitter-python']))],\n",
        "            file_dep=[target], targets=[\"build/my-languages.so\"], clean=[\"rm build/my-languages.so\"]\n",
        "        )"
      ]
    },
    {
      "cell_type": "code",
      "execution_count": 2,
      "id": "5ed8929f-16b7-49fd-9679-bec7a4e3d8a7",
      "metadata": {},
      "outputs": [
        {
          "name": "stdout",
          "output_type": "stream",
          "text": [
            "-- setup_tree_sitter:clone\n",
            "-- setup_tree_sitter:compile\n"
          ]
        }
      ],
      "source": [
        "    if I := __name__ == \"__main__\":\n",
        "        %reload_ext doit\n",
        "        %doit setup_tree_sitter"
      ]
    },
    {
      "cell_type": "markdown",
      "id": "8963120d-8d98-45dc-96af-ffbe069017cd",
      "metadata": {},
      "source": [
        "## loading a bunch of python code"
      ]
    },
    {
      "cell_type": "markdown",
      "id": "cd8102ad-f593-4cc7-8bc5-734b1818b4dd",
      "metadata": {},
      "source": [
        "we have some nice dataframes in a prior post that we'll use for demonstration"
      ]
    },
    {
      "cell_type": "code",
      "execution_count": 3,
      "id": "aefdfa93-52f3-4278-b2e9-0ed9b43be01a",
      "metadata": {},
      "outputs": [],
      "source": [
        "    with __import__(\"importnb\").Notebook(): from tonyfast.xxiii.__duckdb_search import *"
      ]
    },
    {
      "cell_type": "code",
      "execution_count": 4,
      "id": "c782b353-a3f5-4873-be0c-5f3d3eed009a",
      "metadata": {},
      "outputs": [],
      "source": [
        "    if I := \"__file__\" not in locals():\n",
        "        cells = get_cells_frame(\"..\")\n",
        "        cells.source = cells.source.apply(\"\".join)"
      ]
    },
    {
      "cell_type": "markdown",
      "id": "e0403cd8-86b9-496d-9a0b-f68adb472994",
      "metadata": {},
      "source": [
        "some of the cells might have `pidgy` syntax so lets sort that otu."
      ]
    },
    {
      "cell_type": "code",
      "execution_count": 5,
      "id": "fca71ae1-fb53-4be0-98a9-98aaefc6eb9d",
      "metadata": {},
      "outputs": [
        {
          "name": "stderr",
          "output_type": "stream",
          "text": [
            "/tmp/ipykernel_994317/2050936253.py:3: UserWarning: This pattern is interpreted as a regular expression, and has match groups. To actually get the groups, use str.extract.\n",
            "  cells = cells.source.str.contains(\"%(re)?load_ext\\s+(pidgy)\").groupby(\"file\").any().rename(\"pidgy\").pipe(cells.join)\n"
          ]
        }
      ],
      "source": [
        "    if I:\n",
        "        import midgy\n",
        "        cells = cells.source.str.contains(\"%(re)?load_ext\\s+(pidgy)\").groupby(\"file\").any().rename(\"pidgy\").pipe(cells.join)\n",
        "        cells.loc[cells[cells.pidgy].index, \"source\"] = cells[cells.pidgy].source.apply(midgy.Python().render)"
      ]
    },
    {
      "cell_type": "markdown",
      "id": "843611ea-e10a-4072-a5eb-c49221bcfa7b",
      "metadata": {},
      "source": [
        "## tree sitting parser"
      ]
    },
    {
      "cell_type": "code",
      "execution_count": 6,
      "id": "f081ce73-e7a5-4fc0-8896-3aa531e4dcc6",
      "metadata": {},
      "outputs": [
        {
          "data": {
            "text/plain": [
              "<tree_sitter.Parser at 0x7f5d2b29cc70>"
            ]
          },
          "metadata": {},
          "output_type": "display_data"
        }
      ],
      "source": [
        "    if I:\n",
        "        import tree_sitter\n",
        "        parser = tree_sitter.Parser()\n",
        "        parser.set_language(language := tree_sitter.Language(\"build/my-languages.so\", \"python\"))\n",
        "        display(parser)"
      ]
    },
    {
      "cell_type": "markdown",
      "id": "ac7cc7e5-d8ea-4741-be2c-c87cb4c59edf",
      "metadata": {},
      "source": [
        "### tree sitting parsed"
      ]
    },
    {
      "cell_type": "code",
      "execution_count": 7,
      "id": "1874ef86-531e-48a5-a915-c9cbff1938af",
      "metadata": {},
      "outputs": [
        {
          "data": {
            "text/html": [
              "<div>\n",
              "<style scoped>\n",
              "    .dataframe tbody tr th:only-of-type {\n",
              "        vertical-align: middle;\n",
              "    }\n",
              "\n",
              "    .dataframe tbody tr th {\n",
              "        vertical-align: top;\n",
              "    }\n",
              "\n",
              "    .dataframe thead th {\n",
              "        text-align: right;\n",
              "    }\n",
              "</style>\n",
              "<table border=\"1\" class=\"dataframe\">\n",
              "  <thead>\n",
              "    <tr style=\"text-align: right;\">\n",
              "      <th></th>\n",
              "      <th></th>\n",
              "      <th>s-expression</th>\n",
              "    </tr>\n",
              "    <tr>\n",
              "      <th>file</th>\n",
              "      <th>cell_ct</th>\n",
              "      <th></th>\n",
              "    </tr>\n",
              "  </thead>\n",
              "  <tbody>\n",
              "    <tr>\n",
              "      <th rowspan=\"5\" valign=\"top\">../regexs.ipynb</th>\n",
              "      <th>0</th>\n",
              "      <td>(module (comment))</td>\n",
              "    </tr>\n",
              "    <tr>\n",
              "      <th>1</th>\n",
              "      <td>(module (import_statement name: (dotted_name (...</td>\n",
              "    </tr>\n",
              "    <tr>\n",
              "      <th>2</th>\n",
              "      <td>(module (comment) (expression_statement (compa...</td>\n",
              "    </tr>\n",
              "    <tr>\n",
              "      <th>3</th>\n",
              "      <td>(module (expression_statement (assignment left...</td>\n",
              "    </tr>\n",
              "    <tr>\n",
              "      <th>4</th>\n",
              "      <td>(module)</td>\n",
              "    </tr>\n",
              "    <tr>\n",
              "      <th>...</th>\n",
              "      <th>...</th>\n",
              "      <td>...</td>\n",
              "    </tr>\n",
              "    <tr>\n",
              "      <th rowspan=\"2\" valign=\"top\">../xxii/2022-12-23-mkdocs-plugin.ipynb</th>\n",
              "      <th>8</th>\n",
              "      <td>(module (ERROR (identifier) (identifier) (stri...</td>\n",
              "    </tr>\n",
              "    <tr>\n",
              "      <th>9</th>\n",
              "      <td>(module (expression_statement (augmented_assig...</td>\n",
              "    </tr>\n",
              "    <tr>\n",
              "      <th>../xxiii/vendor/tree-sitter-python/README.md</th>\n",
              "      <th>0</th>\n",
              "      <td>(module (expression_statement (binary_operator...</td>\n",
              "    </tr>\n",
              "    <tr>\n",
              "      <th>../xxiii/vendor/tree-sitter-python/bindings/rust/README.md</th>\n",
              "      <th>0</th>\n",
              "      <td>(module (comment) (ERROR (identifier) (identif...</td>\n",
              "    </tr>\n",
              "    <tr>\n",
              "      <th>../README.md</th>\n",
              "      <th>0</th>\n",
              "      <td>(module (ERROR (UNEXPECTED '-')) (expression_s...</td>\n",
              "    </tr>\n",
              "  </tbody>\n",
              "</table>\n",
              "<p>866 rows \u00d7 1 columns</p>\n",
              "</div>"
            ],
            "text/plain": [
              "                                                                                                 s-expression\n",
              "file                                               cell_ct                                                   \n",
              "../regexs.ipynb                                    0                                       (module (comment))\n",
              "                                                   1        (module (import_statement name: (dotted_name (...\n",
              "                                                   2        (module (comment) (expression_statement (compa...\n",
              "                                                   3        (module (expression_statement (assignment left...\n",
              "                                                   4                                                 (module)\n",
              "...                                                                                                       ...\n",
              "../xxii/2022-12-23-mkdocs-plugin.ipynb             8        (module (ERROR (identifier) (identifier) (stri...\n",
              "                                                   9        (module (expression_statement (augmented_assig...\n",
              "../xxiii/vendor/tree-sitter-python/README.md       0        (module (expression_statement (binary_operator...\n",
              "../xxiii/vendor/tree-sitter-python/bindings/rus... 0        (module (comment) (ERROR (identifier) (identif...\n",
              "../README.md                                       0        (module (ERROR (UNEXPECTED '-')) (expression_s...\n",
              "\n",
              "[866 rows x 1 columns]"
            ]
          },
          "metadata": {},
          "output_type": "display_data"
        }
      ],
      "source": [
        "    if I:\n",
        "        sitter = cells.source.apply(compose_left(str.encode, parser.parse))\n",
        "        sexp = sitter.apply(compose_left(operator.attrgetter(\"root_node\"), operator.methodcaller(\"sexp\")))\n",
        "        display(sexp.to_frame(\"s-expression\"))"
      ]
    }
  ],
  "metadata": {
    "kernelspec": {
      "display_name": "Python [conda env:root] *",
      "language": "python",
      "name": "conda-root-py"
    },
    "language_info": {
      "codemirror_mode": {
        "name": "ipython",
        "version": 3
      },
      "file_extension": ".py",
      "mimetype": "text/x-python",
      "name": "python",
      "nbconvert_exporter": "python",
      "pygments_lexer": "ipython3",
      "version": "3.9.13"
    },
    "widgets": {
      "application/vnd.jupyter.widget-state+json": {
        "state": {},
        "version_major": 2,
        "version_minor": 0
      }
    }
  },
  "nbformat": 4,
  "nbformat_minor": 5
}