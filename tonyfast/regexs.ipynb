{
 "cells": [
  {
   "cell_type": "markdown",
   "id": "0bb8ba9c-8973-45b8-9e6d-0ad703b9eb3e",
   "metadata": {},
   "source": [
    "# regexes"
   ]
  },
  {
   "cell_type": "code",
   "execution_count": 1,
   "id": "68ce1144-adc0-4753-9a81-73da65df447c",
   "metadata": {},
   "outputs": [],
   "source": [
    "    import re"
   ]
  },
  {
   "cell_type": "markdown",
   "id": "df765866-e6eb-4e61-b2d2-6cb1f3fd064d",
   "metadata": {},
   "source": [
    "## find blocks in jinja templates\n",
    "\n",
    "used in xxii/2022-12-31-markdownish-notebook.ipynb"
   ]
  },
  {
   "cell_type": "code",
   "execution_count": 2,
   "id": "7474d4d4-5eac-4e52-9c63-e69c50383f81",
   "metadata": {},
   "outputs": [],
   "source": [
    "    jinja_block = re.compile(\n",
    "        \"\\\\s*\".join(\"(?P<block>\\\\{\\\\%-? block (?P<name>\\\\S+)(\\\\s+scoped)? -?\\\\%\\\\}(?P<inner>[\\\\S|\\r?\\n]*)\\\\{\\\\%-? endblock (?P=name) -?\\\\%\\\\})\".split()), re.MULTILINE\n",
    "    )"
   ]
  },
  {
   "cell_type": "code",
   "execution_count": null,
   "id": "9725ddab-50b8-46b6-a19f-7ad5f9d9fb8e",
   "metadata": {},
   "outputs": [],
   "source": []
  }
 ],
 "metadata": {
  "kernelspec": {
   "display_name": "Python 3 (ipykernel)",
   "language": "python",
   "name": "python3"
  },
  "language_info": {
   "codemirror_mode": {
    "name": "ipython",
    "version": 3
   },
   "file_extension": ".py",
   "mimetype": "text/x-python",
   "name": "python",
   "nbconvert_exporter": "python",
   "pygments_lexer": "ipython3",
   "version": "3.9.12"
  }
 },
 "nbformat": 4,
 "nbformat_minor": 5
}
