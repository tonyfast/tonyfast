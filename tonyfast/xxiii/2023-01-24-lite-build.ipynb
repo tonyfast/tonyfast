{
 "cells": [
  {
   "cell_type": "markdown",
   "id": "2aff85d0-dcbc-4370-98f4-0d4806747c92",
   "metadata": {
    "execution": {
     "iopub.execute_input": "2023-01-26T23:52:54.652287Z",
     "iopub.status.busy": "2023-01-26T23:52:54.652151Z",
     "iopub.status.idle": "2023-01-26T23:52:54.655199Z",
     "shell.execute_reply": "2023-01-26T23:52:54.654693Z",
     "shell.execute_reply.started": "2023-01-26T23:52:54.652275Z"
    }
   },
   "source": [
    "# including development builds in jupyter lite\n",
    "\n",
    "this work augments our [existing lite build](../xxii/2022-12-21-lite-build.ipynb) by vendoring things that i'm actively working on for demonstration.\n",
    "\n",
    "https://jupyterlite.readthedocs.io/en/latest/howto/python/wheels.html#adding-pyolite-wheels"
   ]
  },
  {
   "cell_type": "code",
   "execution_count": 1,
   "id": "357e6128-3e72-4d3e-b2c9-101489fd0615",
   "metadata": {
    "execution": {
     "iopub.execute_input": "2023-01-27T01:41:20.863663Z",
     "iopub.status.busy": "2023-01-27T01:41:20.863468Z",
     "iopub.status.idle": "2023-01-27T01:41:21.074650Z",
     "shell.execute_reply": "2023-01-27T01:41:21.074366Z",
     "shell.execute_reply.started": "2023-01-27T01:41:20.863599Z"
    },
    "tags": []
   },
   "outputs": [
    {
     "name": "stdout",
     "output_type": "stream",
     "text": [
      "/home/tbone/Documents/tonyfast\n"
     ]
    }
   ],
   "source": [
    "    if __name__ == \"__main__\":\n",
    "        if \"INIT\" not in locals():\n",
    "            %pushd ../..\n",
    "            INIT = True\n",
    "\n",
    "        with __import__(\"importnb\").imports(\"ipynb\"):\n",
    "            import tonyfast.xxii.__lite_build as prior\n",
    "\n",
    "        %reload_ext doit\n",
    "        %reload_ext pidgy.extras\n",
    "\n",
    "    from doit import task_params\n",
    "    from pathlib import Path\n",
    "    import os, doit\n",
    "\n",
    "    TARGET = Path(\"tonyfast\")\n",
    "    SITE = Path(\"site\", \"run\")\n",
    "    PYPI = SITE / \"pypi\""
   ]
  },
  {
   "cell_type": "code",
   "execution_count": 2,
   "id": "1a9c25c8-2100-46e6-a487-e5865a3f18a7",
   "metadata": {
    "execution": {
     "iopub.execute_input": "2023-01-27T01:41:21.075367Z",
     "iopub.status.busy": "2023-01-27T01:41:21.075279Z",
     "iopub.status.idle": "2023-01-27T01:41:21.081793Z",
     "shell.execute_reply": "2023-01-27T01:41:21.081310Z",
     "shell.execute_reply.started": "2023-01-27T01:41:21.075357Z"
    },
    "tags": []
   },
   "outputs": [],
   "source": [
    "    @task_params([dict(name=\"pypi\", type=list, default=[\n",
    "        \"https://github.com/deathbeds/midgy\",\n",
    "        \"https://github.com/deathbeds/pidgy\",\n",
    "        \"https://github.com/deathbeds/importnb\"\n",
    "    ])])\n",
    "    def task_lite(pypi):\n",
    "        with __import__(\"importnb\").imports(\"ipynb\"):\n",
    "            from tonyfast.xxii.__lite_build import set_files_imports\n",
    "            \n",
    "        env = os.environ.copy()\n",
    "        env[\"SETUPTOOLS_SCM_PRETEND_VERSION\"] = \"6.6.6\"\n",
    "        hatch = list(filter(lambda x: x.startswith(\"HATCH\"), env))\n",
    "        for x in hatch:\n",
    "            env.pop(x)\n",
    "        wheels = []\n",
    "        for repo in pypi:\n",
    "            org, _, name = repo.rpartition(\"/\")\n",
    "            target = TARGET / name\n",
    "            yield dict(\n",
    "                name=F\"clone:{repo}\",\n",
    "                actions=[F\"git clone --depth 1 {repo} {target}\"],\n",
    "                targets=[HEAD := (target / \".git\" / \"HEAD\")],\n",
    "                clean=[F\"rm -rf {target}\"],\n",
    "                uptodate=[target.exists()]\n",
    "            )\n",
    "            pypi = Path(\"pypi\").absolute() # this directory needs to relative to build directory\n",
    "            wheel = pypi / F\"{name}-6.6.6-py3-none-any.whl\"\n",
    "            wheels.append(wheel)\n",
    "            yield dict(\n",
    "                name=F\"build:{name}\",\n",
    "                actions=[\n",
    "                    (doit.tools.create_folder, [pypi]),\n",
    "                    doit.tools.CmdAction(F\"python -m build --wheel --outdir {pypi}\", cwd=target, env=env)\n",
    "                ],\n",
    "                clean=True,\n",
    "                targets=[wheel],\n",
    "                uptodate=[False]\n",
    "            )\n",
    "        yield dict(\n",
    "            name=\"build\",\n",
    "            file_dep=wheels,\n",
    "            actions=[\n",
    "                \"rm -rf tonyfast/pidgy/lite tonyfast/pidgy/.binder\",\n",
    "                \"pip install --pre --upgrade notebook\", # development version of notebook for v7\n",
    "                \"jupyter lite build --apps repl --apps notebook --apps lab --contents tonyfast --output-dir site/run\",\n",
    "                # voici is activated here when it works\n",
    "                (set_files_imports, (Path(\"site/run/files\"),))\n",
    "            ],\n",
    "            targets=[\"site/run/index.html\"],\n",
    "            clean=[\"rm -rf site/run\"]\n",
    "        )"
   ]
  }
 ],
 "metadata": {
  "kernelspec": {
   "display_name": "Python 3 (ipykernel)",
   "language": "python",
   "name": "python3"
  },
  "language_info": {
   "codemirror_mode": {
    "name": "ipython",
    "version": 3
   },
   "file_extension": ".py",
   "mimetype": "text/x-python",
   "name": "python",
   "nbconvert_exporter": "python",
   "pygments_lexer": "ipython3",
   "version": "3.11.3"
  },
  "widgets": {
   "application/vnd.jupyter.widget-state+json": {
    "state": {},
    "version_major": 2,
    "version_minor": 0
   }
  }
 },
 "nbformat": 4,
 "nbformat_minor": 5
}
