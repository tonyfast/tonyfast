{
 "cells": [
  {
   "cell_type": "markdown",
   "id": "2bab05f0-3c60-43bc-917c-9f5a07e5e50f",
   "metadata": {},
   "source": [
    "# adding giscus comments to this blog\n",
    "\n",
    "i've wanted comments for a bit. i didn't realize what a can of worms this decision was.\n",
    "during the day i implemented:\n",
    "\n",
    "* disqus after finding that `mkdocs-material` deprecated it. https://github.com/squidfunk/mkdocs-material/pull/3329\n",
    "* then i tried [utterances](https://utteranc.es/), but i guess that is old hat.\n",
    "* now we have [giscus](giscus.app) because it is successor of utterances. https://yihui.org/en/2022/12/disqus-to-giscus/"
   ]
  },
  {
   "cell_type": "code",
   "execution_count": 7,
   "id": "53bcaa55-daa5-4d57-88ba-51f963f84d27",
   "metadata": {},
   "outputs": [
    {
     "name": "stdout",
     "output_type": "stream",
     "text": [
      "\u001b[33mc184b6d10b3405b2b0e227b21dc37c5285800214\u001b[m\u001b[33m (\u001b[m\u001b[1;36mHEAD -> \u001b[m\u001b[1;32mmain\u001b[m\u001b[33m, \u001b[m\u001b[1;31morigin/main\u001b[m\u001b[33m, \u001b[m\u001b[1;31morigin/HEAD\u001b[m\u001b[33m)\u001b[m write repo slug\n",
      "overrides/partials/comments.html\n",
      "\u001b[33m8a4fb23744f10170ca278897c7788297057de570\u001b[m test pilot comments\n",
      "overrides/partials/comments.html\n"
     ]
    }
   ],
   "source": [
    "    if I := \"__file__\" not in locals():\n",
    "        !cd ../.. && git log --name-only --pretty=oneline 8f808b9208e8226b68a243882b5738258d1a6c72..c184b6d10b3405b2b0e227b21dc37c5285800214"
   ]
  },
  {
   "cell_type": "markdown",
   "id": "07b08e4f-774b-4827-a4ec-0921266af1b6",
   "metadata": {},
   "source": [
    "the new comment system was added by overriding the [`commments.html`](../../overrides/partials/comments.html) partial."
   ]
  },
  {
   "cell_type": "code",
   "execution_count": 8,
   "id": "20626542-d0b7-48e5-8805-1013064bdb84",
   "metadata": {},
   "outputs": [
    {
     "data": {
      "text/html": [
       "<style>pre { line-height: 125%; }\n",
       "td.linenos .normal { color: inherit; background-color: transparent; padding-left: 5px; padding-right: 5px; }\n",
       "span.linenos { color: inherit; background-color: transparent; padding-left: 5px; padding-right: 5px; }\n",
       "td.linenos .special { color: #000000; background-color: #ffffc0; padding-left: 5px; padding-right: 5px; }\n",
       "span.linenos.special { color: #000000; background-color: #ffffc0; padding-left: 5px; padding-right: 5px; }\n",
       ".output_html .hll { background-color: #ffffcc }\n",
       ".output_html { background: #f8f8f8; }\n",
       ".output_html .c { color: #3D7B7B; font-style: italic } /* Comment */\n",
       ".output_html .err { border: 1px solid #FF0000 } /* Error */\n",
       ".output_html .k { color: #008000; font-weight: bold } /* Keyword */\n",
       ".output_html .o { color: #666666 } /* Operator */\n",
       ".output_html .ch { color: #3D7B7B; font-style: italic } /* Comment.Hashbang */\n",
       ".output_html .cm { color: #3D7B7B; font-style: italic } /* Comment.Multiline */\n",
       ".output_html .cp { color: #9C6500 } /* Comment.Preproc */\n",
       ".output_html .cpf { color: #3D7B7B; font-style: italic } /* Comment.PreprocFile */\n",
       ".output_html .c1 { color: #3D7B7B; font-style: italic } /* Comment.Single */\n",
       ".output_html .cs { color: #3D7B7B; font-style: italic } /* Comment.Special */\n",
       ".output_html .gd { color: #A00000 } /* Generic.Deleted */\n",
       ".output_html .ge { font-style: italic } /* Generic.Emph */\n",
       ".output_html .gr { color: #E40000 } /* Generic.Error */\n",
       ".output_html .gh { color: #000080; font-weight: bold } /* Generic.Heading */\n",
       ".output_html .gi { color: #008400 } /* Generic.Inserted */\n",
       ".output_html .go { color: #717171 } /* Generic.Output */\n",
       ".output_html .gp { color: #000080; font-weight: bold } /* Generic.Prompt */\n",
       ".output_html .gs { font-weight: bold } /* Generic.Strong */\n",
       ".output_html .gu { color: #800080; font-weight: bold } /* Generic.Subheading */\n",
       ".output_html .gt { color: #0044DD } /* Generic.Traceback */\n",
       ".output_html .kc { color: #008000; font-weight: bold } /* Keyword.Constant */\n",
       ".output_html .kd { color: #008000; font-weight: bold } /* Keyword.Declaration */\n",
       ".output_html .kn { color: #008000; font-weight: bold } /* Keyword.Namespace */\n",
       ".output_html .kp { color: #008000 } /* Keyword.Pseudo */\n",
       ".output_html .kr { color: #008000; font-weight: bold } /* Keyword.Reserved */\n",
       ".output_html .kt { color: #B00040 } /* Keyword.Type */\n",
       ".output_html .m { color: #666666 } /* Literal.Number */\n",
       ".output_html .s { color: #BA2121 } /* Literal.String */\n",
       ".output_html .na { color: #687822 } /* Name.Attribute */\n",
       ".output_html .nb { color: #008000 } /* Name.Builtin */\n",
       ".output_html .nc { color: #0000FF; font-weight: bold } /* Name.Class */\n",
       ".output_html .no { color: #880000 } /* Name.Constant */\n",
       ".output_html .nd { color: #AA22FF } /* Name.Decorator */\n",
       ".output_html .ni { color: #717171; font-weight: bold } /* Name.Entity */\n",
       ".output_html .ne { color: #CB3F38; font-weight: bold } /* Name.Exception */\n",
       ".output_html .nf { color: #0000FF } /* Name.Function */\n",
       ".output_html .nl { color: #767600 } /* Name.Label */\n",
       ".output_html .nn { color: #0000FF; font-weight: bold } /* Name.Namespace */\n",
       ".output_html .nt { color: #008000; font-weight: bold } /* Name.Tag */\n",
       ".output_html .nv { color: #19177C } /* Name.Variable */\n",
       ".output_html .ow { color: #AA22FF; font-weight: bold } /* Operator.Word */\n",
       ".output_html .w { color: #bbbbbb } /* Text.Whitespace */\n",
       ".output_html .mb { color: #666666 } /* Literal.Number.Bin */\n",
       ".output_html .mf { color: #666666 } /* Literal.Number.Float */\n",
       ".output_html .mh { color: #666666 } /* Literal.Number.Hex */\n",
       ".output_html .mi { color: #666666 } /* Literal.Number.Integer */\n",
       ".output_html .mo { color: #666666 } /* Literal.Number.Oct */\n",
       ".output_html .sa { color: #BA2121 } /* Literal.String.Affix */\n",
       ".output_html .sb { color: #BA2121 } /* Literal.String.Backtick */\n",
       ".output_html .sc { color: #BA2121 } /* Literal.String.Char */\n",
       ".output_html .dl { color: #BA2121 } /* Literal.String.Delimiter */\n",
       ".output_html .sd { color: #BA2121; font-style: italic } /* Literal.String.Doc */\n",
       ".output_html .s2 { color: #BA2121 } /* Literal.String.Double */\n",
       ".output_html .se { color: #AA5D1F; font-weight: bold } /* Literal.String.Escape */\n",
       ".output_html .sh { color: #BA2121 } /* Literal.String.Heredoc */\n",
       ".output_html .si { color: #A45A77; font-weight: bold } /* Literal.String.Interpol */\n",
       ".output_html .sx { color: #008000 } /* Literal.String.Other */\n",
       ".output_html .sr { color: #A45A77 } /* Literal.String.Regex */\n",
       ".output_html .s1 { color: #BA2121 } /* Literal.String.Single */\n",
       ".output_html .ss { color: #19177C } /* Literal.String.Symbol */\n",
       ".output_html .bp { color: #008000 } /* Name.Builtin.Pseudo */\n",
       ".output_html .fm { color: #0000FF } /* Name.Function.Magic */\n",
       ".output_html .vc { color: #19177C } /* Name.Variable.Class */\n",
       ".output_html .vg { color: #19177C } /* Name.Variable.Global */\n",
       ".output_html .vi { color: #19177C } /* Name.Variable.Instance */\n",
       ".output_html .vm { color: #19177C } /* Name.Variable.Magic */\n",
       ".output_html .il { color: #666666 } /* Literal.Number.Integer.Long */</style><div class=\"highlight\"><pre><span></span>{% if page.file.name.startswith(&quot;20&quot;) %}\n",
       "<span class=\"p\">&lt;</span><span class=\"nt\">script</span> <span class=\"na\">src</span><span class=\"o\">=</span><span class=\"s\">&quot;https://giscus.app/client.js&quot;</span>\n",
       "<span class=\"na\">data-repo</span><span class=\"o\">=</span><span class=\"s\">&quot;tonyfast/tonyfast&quot;</span>\n",
       "<span class=\"na\">data-repo-id</span><span class=\"o\">=</span><span class=\"s\">&quot;https://github.com/tonyfast/tonyfast&quot;</span>\n",
       "<span class=\"na\">data-category</span><span class=\"o\">=</span><span class=\"s\">&quot;post&quot;</span>\n",
       "<span class=\"na\">data-category-id</span><span class=\"o\">=</span><span class=\"s\">&quot;post&quot;</span>\n",
       "<span class=\"na\">data-mapping</span><span class=\"o\">=</span><span class=\"s\">&quot;pathname&quot;</span>\n",
       "<span class=\"na\">data-strict</span><span class=\"o\">=</span><span class=\"s\">&quot;0&quot;</span>\n",
       "<span class=\"na\">data-reactions-enabled</span><span class=\"o\">=</span><span class=\"s\">&quot;1&quot;</span>\n",
       "<span class=\"na\">data-emit-metadata</span><span class=\"o\">=</span><span class=\"s\">&quot;0&quot;</span>\n",
       "<span class=\"na\">data-input-position</span><span class=\"o\">=</span><span class=\"s\">&quot;bottom&quot;</span>\n",
       "<span class=\"na\">data-theme</span><span class=\"o\">=</span><span class=\"s\">&quot;dark_high_contrast&quot;</span>\n",
       "<span class=\"na\">data-lang</span><span class=\"o\">=</span><span class=\"s\">&quot;en&quot;</span>\n",
       "<span class=\"na\">data-loading</span><span class=\"o\">=</span><span class=\"s\">&quot;lazy&quot;</span>\n",
       "<span class=\"na\">crossorigin</span><span class=\"o\">=</span><span class=\"s\">&quot;anonymous&quot;</span>\n",
       "<span class=\"na\">async</span><span class=\"p\">&gt;</span><span class=\"w\"></span>\n",
       "<span class=\"p\">&lt;/</span><span class=\"nt\">script</span><span class=\"p\">&gt;</span>\n",
       "{% endif %}\n",
       "</pre></div>\n"
      ],
      "text/latex": [
       "\\begin{Verbatim}[commandchars=\\\\\\{\\}]\n",
       "\\PYZob{}\\PYZpc{} if page.file.name.startswith(\\PYZdq{}20\\PYZdq{}) \\PYZpc{}\\PYZcb{}\n",
       "\\PY{p}{\\PYZlt{}}\\PY{n+nt}{script} \\PY{n+na}{src}\\PY{o}{=}\\PY{l+s}{\\PYZdq{}https://giscus.app/client.js\\PYZdq{}}\n",
       "\\PY{n+na}{data\\PYZhy{}repo}\\PY{o}{=}\\PY{l+s}{\\PYZdq{}tonyfast/tonyfast\\PYZdq{}}\n",
       "\\PY{n+na}{data\\PYZhy{}repo\\PYZhy{}id}\\PY{o}{=}\\PY{l+s}{\\PYZdq{}https://github.com/tonyfast/tonyfast\\PYZdq{}}\n",
       "\\PY{n+na}{data\\PYZhy{}category}\\PY{o}{=}\\PY{l+s}{\\PYZdq{}post\\PYZdq{}}\n",
       "\\PY{n+na}{data\\PYZhy{}category\\PYZhy{}id}\\PY{o}{=}\\PY{l+s}{\\PYZdq{}post\\PYZdq{}}\n",
       "\\PY{n+na}{data\\PYZhy{}mapping}\\PY{o}{=}\\PY{l+s}{\\PYZdq{}pathname\\PYZdq{}}\n",
       "\\PY{n+na}{data\\PYZhy{}strict}\\PY{o}{=}\\PY{l+s}{\\PYZdq{}0\\PYZdq{}}\n",
       "\\PY{n+na}{data\\PYZhy{}reactions\\PYZhy{}enabled}\\PY{o}{=}\\PY{l+s}{\\PYZdq{}1\\PYZdq{}}\n",
       "\\PY{n+na}{data\\PYZhy{}emit\\PYZhy{}metadata}\\PY{o}{=}\\PY{l+s}{\\PYZdq{}0\\PYZdq{}}\n",
       "\\PY{n+na}{data\\PYZhy{}input\\PYZhy{}position}\\PY{o}{=}\\PY{l+s}{\\PYZdq{}bottom\\PYZdq{}}\n",
       "\\PY{n+na}{data\\PYZhy{}theme}\\PY{o}{=}\\PY{l+s}{\\PYZdq{}dark\\PYZus{}high\\PYZus{}contrast\\PYZdq{}}\n",
       "\\PY{n+na}{data\\PYZhy{}lang}\\PY{o}{=}\\PY{l+s}{\\PYZdq{}en\\PYZdq{}}\n",
       "\\PY{n+na}{data\\PYZhy{}loading}\\PY{o}{=}\\PY{l+s}{\\PYZdq{}lazy\\PYZdq{}}\n",
       "\\PY{n+na}{crossorigin}\\PY{o}{=}\\PY{l+s}{\\PYZdq{}anonymous\\PYZdq{}}\n",
       "\\PY{n+na}{async}\\PY{p}{\\PYZgt{}}\n",
       "\\PY{p}{\\PYZlt{}}\\PY{p}{/}\\PY{n+nt}{script}\\PY{p}{\\PYZgt{}}\n",
       "\\PYZob{}\\PYZpc{} endif \\PYZpc{}\\PYZcb{}\n",
       "\\end{Verbatim}\n"
      ],
      "text/plain": [
       "{% if page.file.name.startswith(\"20\") %}\n",
       "<script src=\"https://giscus.app/client.js\"\n",
       "data-repo=\"tonyfast/tonyfast\"\n",
       "data-repo-id=\"https://github.com/tonyfast/tonyfast\"\n",
       "data-category=\"post\"\n",
       "data-category-id=\"post\"\n",
       "data-mapping=\"pathname\"\n",
       "data-strict=\"0\"\n",
       "data-reactions-enabled=\"1\"\n",
       "data-emit-metadata=\"0\"\n",
       "data-input-position=\"bottom\"\n",
       "data-theme=\"dark_high_contrast\"\n",
       "data-lang=\"en\"\n",
       "data-loading=\"lazy\"\n",
       "crossorigin=\"anonymous\"\n",
       "async>\n",
       "</script>\n",
       "{% endif %}"
      ]
     },
     "metadata": {},
     "output_type": "display_data"
    }
   ],
   "source": [
    "    if I:\n",
    "        import pathlib, IPython\n",
    "        display(IPython.display.Code(pathlib.Path(\"../../overrides/partials/comments.html\").read_text(), language=\"html\"))"
   ]
  }
 ],
 "metadata": {
  "kernelspec": {
   "display_name": "Python [conda env:root] *",
   "language": "python",
   "name": "conda-root-py"
  },
  "language_info": {
   "codemirror_mode": {
    "name": "ipython",
    "version": 3
   },
   "file_extension": ".py",
   "mimetype": "text/x-python",
   "name": "python",
   "nbconvert_exporter": "python",
   "pygments_lexer": "ipython3",
   "version": "3.9.13"
  },
  "widgets": {
   "application/vnd.jupyter.widget-state+json": {
    "state": {},
    "version_major": 2,
    "version_minor": 0
   }
  }
 },
 "nbformat": 4,
 "nbformat_minor": 5
}
