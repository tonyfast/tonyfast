{
 "cells": [
  {
   "cell_type": "markdown",
   "id": "4f59109a-6c82-4e81-878b-69587ae0b649",
   "metadata": {},
   "source": [
    "# generating higher resolution exceptions for the vnu validator\n",
    "\n",
    "the vnu validator is now available on conda which means it is easier to test your \n",
    "html"
   ]
  },
  {
   "cell_type": "code",
   "execution_count": 24,
   "id": "2263d4dc-246d-4d7e-abf6-12f80262e432",
   "metadata": {
    "execution": {
     "iopub.execute_input": "2023-12-09T05:00:24.118948Z",
     "iopub.status.busy": "2023-12-09T05:00:24.118563Z",
     "iopub.status.idle": "2023-12-09T05:00:24.122833Z",
     "shell.execute_reply": "2023-12-09T05:00:24.122328Z",
     "shell.execute_reply.started": "2023-12-09T05:00:24.118909Z"
    },
    "tags": []
   },
   "outputs": [],
   "source": [
    "    import pandas, pathlib, json, collections, exceptiongroup, re, dataclasses\n",
    "    file = \"../../../nbconvert-a11y/tests/exports/validator/lorenz-executed-default.json\"    "
   ]
  },
  {
   "cell_type": "code",
   "execution_count": 15,
   "id": "4aab8a24-3f74-423b-99e6-59c71dc2f735",
   "metadata": {
    "execution": {
     "iopub.execute_input": "2023-12-09T04:58:49.092507Z",
     "iopub.status.busy": "2023-12-09T04:58:49.092223Z",
     "iopub.status.idle": "2023-12-09T04:58:49.097191Z",
     "shell.execute_reply": "2023-12-09T04:58:49.096575Z",
     "shell.execute_reply.started": "2023-12-09T04:58:49.092484Z"
    },
    "tags": []
   },
   "outputs": [],
   "source": [
    "    class Violation(Exception):\n",
    "        map = {}\n",
    "        def __class_getitem__(cls, id):\n",
    "            bases = None\n",
    "            if isinstance(id, tuple): id, bases = id\n",
    "            if id in cls.map: return cls.map[id]\n",
    "            return cls.map.setdefault(id, type(id, bases or (Violation,), {}))\n",
    "        \n",
    "        def __repr__(self):\n",
    "            return super().__repr__()[:150]"
   ]
  },
  {
   "cell_type": "markdown",
   "id": "12a94b9d-ca94-4e1e-9fe4-d8a4ecc3d96a",
   "metadata": {},
   "source": [
    "exceptions are facetted by their type and info level."
   ]
  },
  {
   "cell_type": "code",
   "execution_count": 27,
   "id": "6f75d461-70f1-4314-a0e1-8965d07ea0f8",
   "metadata": {
    "execution": {
     "iopub.execute_input": "2023-12-09T05:02:55.994150Z",
     "iopub.status.busy": "2023-12-09T05:02:55.993639Z",
     "iopub.status.idle": "2023-12-09T05:02:56.005222Z",
     "shell.execute_reply": "2023-12-09T05:02:56.004767Z",
     "shell.execute_reply.started": "2023-12-09T05:02:55.994103Z"
    },
    "tags": []
   },
   "outputs": [
    {
     "data": {
      "text/plain": [
       "ExceptionGroup('14 violations: 9 info, 5 error',\n",
       "               [('n\">\\n<head><meta charset=\"utf-8\"/>\\n<meta'),\n",
       "                ('\"utf-8\"/>\\n<meta content=\"width=device-width, initial-scale=1.0\" name=\"viewport\"/>\\n<titl'),\n",
       "                ('</script>\\n<style type=\"text/css\">\\n    p'),\n",
       "                ('</style>\\n<style type=\"text/css\">\\n/*---'),\n",
       "                error-Unknown pseudo-element or pseudo-class “:horizontal”('Unknown pseudo-element or pseudo-class “:horizontal”'),\n",
       "                error-Unknown pseudo-element or pseudo-class “:vertical”('Unknown pseudo-element or pseudo-class “:vertical”'),\n",
       "                error-box-shadow(\"“'0px 4px 4px rgba(0, 0, 0, 0.25)'” is not a “box-shadow” value.\"),\n",
       "                error-overflow('“overlay” is not a “overflow” value.'),\n",
       "                ('</style>\\n<style type=\"text/css\">\\n/*---'),\n",
       "                ('</style>\\n<style type=\"text/css\">\\n/* Fo'),\n",
       "                ('ndex=\"0\">\\n<script type=\"text/javascript\">\\nvar e'),\n",
       "                ('ndex=\"0\">\\n<img alt=\"No description has been provided for this image\" class=\"\" src=\"data:image/png;base64,iVBORw0KGgoAAAANSUhEUgAAAhYAAAGzCAYAAABzfl,\n",
       "                ('ndex=\"0\">\\n<img alt=\"No description has been provided for this image\" class=\"\" src=\"data:image/png;base64,iVBORw0KGgoAAAANSUhEUgAAAhYAAAGzCAYAAABzfl,\n",
       "                ('>\\n</body>\\n<script type=\"application/vnd.jupyter.widget-state+json\">\\n{\"sta')])"
      ]
     },
     "execution_count": 27,
     "metadata": {},
     "output_type": "execute_result"
    }
   ],
   "source": [
    "    def messages_to_violations(messages):\n",
    "        ct = collections.defaultdict(int)\n",
    "        CSS_START = re.compile(\"\"\"^“\\S+”:\"\"\")\n",
    "        exceptions = []\n",
    "        for message in messages:\n",
    "            t = message[\"type\"],\n",
    "            ct[t[0]] += 1\n",
    "            if message.get(\"subType\"): t += message.get(\"subType\"),\n",
    "            msg = message[\"message\"]\n",
    "            if msg.startswith(\"CSS:\"):\n",
    "                msg = msg[5:]\n",
    "                t += \"css\",         \n",
    "                if CSS_START.match(msg):\n",
    "                    prop, _, msg = msg.partition(\": \")\n",
    "                    t += prop[1:-1],\n",
    "                    id = F\"\"\"{message[\"type\"]}-{prop[1:-1]}\"\"\"\n",
    "                else:\n",
    "                    id =F\"\"\"{message[\"type\"]}-{msg.strip()}\"\"\"\n",
    "            else:\n",
    "                id = F\"\"\"{message[\"type\"]}-{msg.strip()}\"\"\"\n",
    "                msg = message[\"extract\"]\n",
    "            exceptions.append(Violation[id](msg.strip()))\n",
    "        if exceptions:\n",
    "            return exceptiongroup.ExceptionGroup(\n",
    "                F\"\"\"{sum(ct.values())} violations: \"\"\" + \", \".join(\n",
    "                    F\"\"\"{v} {k}\"\"\"  for k, v in ct.items()\n",
    "                ),\n",
    "                exceptions)\n",
    "    exc = messages_to_violations(\n",
    "        messages := json.loads(pathlib.Path(file).read_text())[\"messages\"]\n",
    "    ); exc"
   ]
  },
  {
   "cell_type": "markdown",
   "id": "d1b38b2d-165c-43a2-a721-f6280c458fc1",
   "metadata": {},
   "source": [
    "`messages_to_violations` to violations dynamically generates `Exception` types for specific responses from the vnu validator."
   ]
  },
  {
   "cell_type": "code",
   "execution_count": 34,
   "id": "024b382e-40ad-4578-947c-82ee387d12f3",
   "metadata": {
    "execution": {
     "iopub.execute_input": "2023-12-09T05:05:23.679965Z",
     "iopub.status.busy": "2023-12-09T05:05:23.679651Z",
     "iopub.status.idle": "2023-12-09T05:05:23.684021Z",
     "shell.execute_reply": "2023-12-09T05:05:23.683600Z",
     "shell.execute_reply.started": "2023-12-09T05:05:23.679942Z"
    },
    "tags": []
   },
   "outputs": [
    {
     "name": "stdout",
     "output_type": "stream",
     "text": [
      "we created 8 exceptions.\n",
      "<class '__main__.info-Trailing slash on void elements has no effect and interacts badly with unquoted attribute values.'>\n",
      "<class '__main__.info-The “type” attribute for the “style” element is not needed and should be omitted.'>\n",
      "<class '__main__.error-Unknown pseudo-element or pseudo-class “:horizontal”'>\n",
      "<class '__main__.error-Unknown pseudo-element or pseudo-class “:vertical”'>\n",
      "<class '__main__.error-box-shadow'>\n",
      "<class '__main__.error-overflow'>\n",
      "<class '__main__.info-The “type” attribute is unnecessary for JavaScript resources.'>\n",
      "<class '__main__.error-Stray start tag “script”.'>\n"
     ]
    }
   ],
   "source": [
    "    \n",
    "    print(\n",
    "        F\"we created {len(Violation.map)} exceptions.\",\n",
    "        *Violation.map.values(), sep=\"\\n\")"
   ]
  }
 ],
 "metadata": {
  "kernelspec": {
   "display_name": "Python [conda env:test-nbconvert-a11y]",
   "language": "python",
   "name": "conda-env-test-nbconvert-a11y-py"
  },
  "language_info": {
   "codemirror_mode": {
    "name": "ipython",
    "version": 3
   },
   "file_extension": ".py",
   "mimetype": "text/x-python",
   "name": "python",
   "nbconvert_exporter": "python",
   "pygments_lexer": "ipython3",
   "version": "3.11.6"
  },
  "widgets": {
   "application/vnd.jupyter.widget-state+json": {
    "state": {},
    "version_major": 2,
    "version_minor": 0
   }
  }
 },
 "nbformat": 4,
 "nbformat_minor": 5
}
