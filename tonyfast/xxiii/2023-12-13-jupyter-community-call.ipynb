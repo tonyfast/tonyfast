{
 "cells": [
  {
   "cell_type": "markdown",
   "id": "c6ee4ac7-c833-47ed-8bb9-e351503a6040",
   "metadata": {
    "slideshow": {
     "slide_type": "slide"
    },
    "tags": []
   },
   "source": [
    "# It's the Community Call Y'all\n",
    "\n",
    "## Who Is Excited to See Demos? \n",
    "\n",
    "Use the zoom chat and emoji reactions to let us know how excited you are to see some demos!\n",
    "\n",
    "## Thank yous\n",
    "\n",
    "* thanks to all y'all for being here!\n",
    "* thank you to all the participants in [jupyterlab/team-compass/issues/223](https://github.com/jupyterlab/team-compass/issues/223) who helped organize this event as a community\n",
    "* thank you to the [executive council](https://jupyter.org/governance/executive_council.html), [community building committee](https://jupyter.org/governance/communitybuildingworkinggroup.html), and [social media committee](https://jupyter.org/governance/charters/MediaStrategyCharter.html) for support in organizing this call"
   ]
  },
  {
   "cell_type": "markdown",
   "id": "aeb8ad56-9852-41c7-a18f-7e1e28d2a45f",
   "metadata": {
    "slideshow": {
     "slide_type": "subslide"
    },
    "tags": []
   },
   "source": [
    "### thank you Isabela Presedo Floyd \n",
    "\n",
    "* for anyone that wants to host future calls there a bunch of [prepared <kbd>Ctrl + C</kbd>/<kbd>Ctrl + V</kbd> resources](https://github.com/Quansight-Labs/jupyter-communitycalls)\n",
    "* thank you for single handedly organizing, hosting, and sharing [2 years of community calls](https://discourse.jupyter.org/t/jupyter-community-calls/668#previous-calls-2)"
   ]
  },
  {
   "cell_type": "markdown",
   "id": "71b56acd-7084-4e42-be5e-16037b064bd8",
   "metadata": {
    "execution": {
     "iopub.execute_input": "2023-12-08T19:31:05.638772Z",
     "iopub.status.busy": "2023-12-08T19:31:05.638534Z",
     "iopub.status.idle": "2023-12-08T19:31:05.641221Z",
     "shell.execute_reply": "2023-12-08T19:31:05.640808Z",
     "shell.execute_reply.started": "2023-12-08T19:31:05.638751Z"
    },
    "slideshow": {
     "slide_type": "subslide"
    },
    "tags": []
   },
   "source": [
    "### thank you Zach Sailor \n",
    "\n",
    "* [reviving the community call](https://discourse.jupyter.org/t/reviving-the-all-jupyter-community-meetings/423)\n",
    "* [communicating the major challenge that the community calls overcome](https://discourse.jupyter.org/t/reviving-the-all-jupyter-community-meetings/423)\n",
    "\n",
    "    > There is often little cross-talk between Jupyter developers in sub-organizations and sub-projects. This isn’t personal; it’s one of the expected pains of being a large, open-source organization. I often find myself surprised by libraries, extensions, tools, etc. created by colleagues that I didn’t know about! While that’s a fun surprise, it can lead to each sub-organization re-inventing the wheel or worse, creating tools that do not work together (even though they are both from Jupyter devs!).\n",
    "\n",
    "* [first community call](https://discourse.jupyter.org/t/jupyter-community-calls/668/3)"
   ]
  },
  {
   "cell_type": "markdown",
   "id": "9aa6bafc-40ba-4d81-a32f-4259f59987cf",
   "metadata": {
    "slideshow": {
     "slide_type": "slide"
    },
    "tags": []
   },
   "source": [
    "## about today's event\n",
    "\n",
    "This is a place to celebrate what people are doing in the Jupyter ecosystem and build connections across communities. There’s a couple things to know while we are here.\n",
    "\n",
    "1. We want to remind everyone that community calls and chat are recorded. Please keep that in mind while we’re here.\n",
    "\n",
    "2. We'd like to remind people that as this is a part of the Jupyter community we are all held to the Jupyter Code of Conduct. You can find this at any time at jupyter.org/conduct.\n",
    "\n",
    "3. If you haven’t been here before, here’s how this works. Presenters have submitted what they want to share ahead of time and can be found on the agenda. We’ll have a little time for discussion with each one. Presenters will keep talks between 5-7 minutes.\n",
    "\n",
    "3. There are several ways to participate if you aren't demoing:\n",
    "\n",
    "    * Keep the Zoom chat zoom active with questions, links and other discussions.\n",
    "    * Help take and record links notes on the [collaborative HackMD](https://hackmd.io/h_S-qpfsQgS_HFewzJvI5g?both#Notes-and-Other-Links)\n",
    "    * React with Emoji's in Zoom"
   ]
  },
  {
   "cell_type": "markdown",
   "id": "10871bd9-b1e6-434a-baa1-e1f2e344cc01",
   "metadata": {
    "slideshow": {
     "slide_type": "slide"
    },
    "tags": []
   },
   "source": [
    "## suggestion for the community\n",
    "\n",
    "on a monthly basis, repurpose a major team meeting eg lab, server, hub to host a community call.\n",
    "using established meetings to host community calls:\n",
    "\n",
    "* gives community leaders a break. for example, today we are repurposing the normal weekly JupyterLab.\n",
    "    * shout out the small group of rotating JupyterLab meeting hosts using the [sign up to host issue](https://github.com/jupyterlab/team-compass/issues/197)\n",
    "* reduces and redistributes organizing efforts for community call organizers\n",
    "* stimulate cross project communication\n",
    "* caution: don't repurpose meetings near releases"
   ]
  },
  {
   "cell_type": "markdown",
   "id": "9672efb4-5ba5-4dac-9cb3-5cd2e765a632",
   "metadata": {
    "slideshow": {
     "slide_type": "slide"
    },
    "tags": []
   },
   "source": [
    "## suggestion to ammend the community working group charter to include community calls.\n",
    "\n",
    "[Community Building Committe Areas of Responsibility](https://jupyter.org/governance/communitybuildingworkinggroup.html#areas-of-responsibility) should include community calls in its charter.\n",
    "\n",
    "* Jupyter Community Workshops\n",
    "* JupyterCon\n",
    "* Jupyter Community Events Staff\n",
    "* Operations and Budget\n",
    "* Diversity, Equity, Inclusion\n",
    "* Reporting\n",
    "* Membership\n",
    "* <ins>Community Calls</ins>"
   ]
  },
  {
   "cell_type": "markdown",
   "id": "a456132e-eccf-4468-8836-16341ce5e17d",
   "metadata": {
    "slideshow": {
     "slide_type": "slide"
    },
    "tags": []
   },
   "source": [
    "---\n",
    "---\n",
    "---\n",
    "\n",
    "\n",
    "## Demonstration or Demolition Time! Which will it be?\n",
    "\n",
    "---\n",
    "---\n",
    "---"
   ]
  },
  {
   "cell_type": "markdown",
   "id": "98c36053-61ee-4bf2-9401-cc7d67294217",
   "metadata": {
    "slideshow": {
     "slide_type": "slide"
    },
    "tags": []
   },
   "source": [
    "## Fin\n",
    "\n",
    "Thank you to everyone presenting and attending! We're happy to have you all as a part of the Jupyter community.\n",
    "\n",
    "If you have any feedback, please direct it at https://github.com/jupyterlab/team-compass/issues/223. We’d love to hear what you think about the call, even if it just an emoji reaction.\n",
    "\n",
    "Our next community call will be when all y'all decide. Check out the [Jupyter community calendar](https://discourse.jupyter.org/t/jupyter-community-calendar/2485) to see what other types of meetings are happening in between.\n",
    "\n",
    "* [Triage meetings are great beginner friendly meetings](https://github.com/jupyterlab/team-compass/issues/203). (could some share more meeting information in the hackmd link in the call notes)\n",
    "\n",
    "If you have any interest in sharing on future community calls, please do! It doesn’t have to be a big share, a polished share, or a technical share, just show off what you do with Jupyter that excites you. \n",
    "\n",
    "If you’re interested in hosting a community call, or [JupyterLab meeting](https://github.com/jupyterlab/team-compass/issues/197), feel free to reach out. We have [community event resources](https://github.com/Quansight-Labs/jupyter-communitycalls) prepared to support you. It would be great to get different people interacting with the community."
   ]
  }
 ],
 "metadata": {
  "kernelspec": {
   "display_name": "base",
   "language": "python",
   "name": "base"
  },
  "language_info": {
   "codemirror_mode": {
    "name": "ipython",
    "version": 3
   },
   "file_extension": ".py",
   "mimetype": "text/x-python",
   "name": "python",
   "nbconvert_exporter": "python",
   "pygments_lexer": "ipython3",
   "version": "3.10.8"
  },
  "widgets": {
   "application/vnd.jupyter.widget-state+json": {
    "state": {},
    "version_major": 2,
    "version_minor": 0
   }
  }
 },
 "nbformat": 4,
 "nbformat_minor": 5
}
