{
 "cells": [
  {
   "cell_type": "markdown",
   "id": "2e2f1034-de21-49d8-82ac-c6769152c56b",
   "metadata": {},
   "source": [
    "# running `pidgy` in `voila`"
   ]
  },
  {
   "cell_type": "code",
   "execution_count": 1,
   "id": "5550bbb6-b12b-4fe3-8104-846ac1d6e97c",
   "metadata": {},
   "outputs": [
    {
     "data": {
      "text/markdown": [
       "<div hidden>\n",
       "\n",
       "    \n",
       "    %reload_ext pidgy\n",
       "    shell.weave.template_type = \"widget\"\n",
       "\n",
       "</div>"
      ],
      "text/plain": [
       "<IPython.core.display.Markdown object>"
      ]
     },
     "metadata": {},
     "output_type": "display_data"
    }
   ],
   "source": [
    "    \n",
    "    %reload_ext pidgy\n",
    "    shell.weave.template_type = \"widget\""
   ]
  },
  {
   "cell_type": "code",
   "execution_count": 4,
   "id": "acee0aff-a722-4a80-8158-263ead08463d",
   "metadata": {},
   "outputs": [
    {
     "data": {
      "application/vnd.jupyter.widget-view+json": {
       "model_id": "a029b57f700c46c6a01324b1aa4feb09",
       "version_major": 2,
       "version_minor": 0
      },
      "text/plain": [
       "IntSlider(value=3, description='COOKIES', min=1)"
      ]
     },
     "metadata": {},
     "output_type": "display_data"
    },
    {
     "data": {
      "text/markdown": [
       "<div hidden>\n",
       "\n",
       "    \n",
       "    calories = 50\n",
       "    display(cookies := IntSlider(3, 1, description=\"COOKIES\"))\n",
       "\n",
       "</div>"
      ],
      "text/plain": [
       "<IPython.core.display.Markdown object>"
      ]
     },
     "metadata": {},
     "output_type": "display_data"
    }
   ],
   "source": [
    "    \n",
    "    calories = 50\n",
    "    display(cookies := IntSlider(3, 1, description=\"COOKIES\"))"
   ]
  },
  {
   "cell_type": "code",
   "execution_count": 5,
   "id": "917c781f-f9a6-47c9-82cc-832c2f562ecf",
   "metadata": {},
   "outputs": [
    {
     "data": {
      "application/vnd.jupyter.widget-view+json": {
       "model_id": "47981834e6384c56bb05060cc1a11ad8",
       "version_major": 2,
       "version_minor": 0
      },
      "text/plain": [
       "HTML(value='if you eat {{cookies.value}} that you consume {{cookies.value * calories}} calories.')"
      ]
     },
     "metadata": {},
     "output_type": "display_data"
    }
   ],
   "source": [
    "if you eat {{cookies.value}} that you consume {{cookies.value * calories}} calories."
   ]
  },
  {
   "cell_type": "code",
   "execution_count": null,
   "id": "bb49e3cb-a4f7-49b6-b19c-b41909d611a5",
   "metadata": {},
   "outputs": [],
   "source": []
  }
 ],
 "metadata": {
  "kernelspec": {
   "display_name": "Python [conda env:root] *",
   "language": "python",
   "name": "conda-root-py"
  },
  "language_info": {
   "codemirror_mode": {
    "name": "ipython",
    "version": 3
   },
   "file_extension": ".py",
   "mimetype": "text/x-python",
   "name": "python",
   "nbconvert_exporter": "python",
   "pygments_lexer": "ipython3",
   "version": "3.9.13"
  },
  "widgets": {
   "application/vnd.jupyter.widget-state+json": {
    "state": {
     "30ec50b2e61d454388fed3fdc87e4943": {
      "model_module": "@jupyter-widgets/controls",
      "model_module_version": "2.0.0",
      "model_name": "IntSliderModel",
      "state": {
       "behavior": "drag-tap",
       "description": "COOKIES",
       "layout": "IPY_MODEL_6820d1f2b6314bff8ad96aad21abf5ea",
       "min": 1,
       "style": "IPY_MODEL_3c3c00c37acb4d55ac7fb7312f5434e8",
       "value": 3
      }
     },
     "3c3c00c37acb4d55ac7fb7312f5434e8": {
      "model_module": "@jupyter-widgets/controls",
      "model_module_version": "2.0.0",
      "model_name": "SliderStyleModel",
      "state": {
       "description_width": ""
      }
     },
     "3df4fdb21d894a86a3d24d8e1ac11193": {
      "model_module": "@jupyter-widgets/controls",
      "model_module_version": "2.0.0",
      "model_name": "HTMLStyleModel",
      "state": {
       "description_width": "",
       "font_size": null,
       "text_color": null
      }
     },
     "47981834e6384c56bb05060cc1a11ad8": {
      "model_module": "@jupyter-widgets/controls",
      "model_module_version": "2.0.0",
      "model_name": "HTMLModel",
      "state": {
       "layout": "IPY_MODEL_55389720dadf4841a165ccb8b2ded5f6",
       "style": "IPY_MODEL_3df4fdb21d894a86a3d24d8e1ac11193",
       "value": "<p>if you eat 3 that you consume 150 calories.</p>\n"
      }
     },
     "4e3b78d0f44e4f51a211062c4fd64fbd": {
      "model_module": "@jupyter-widgets/controls",
      "model_module_version": "2.0.0",
      "model_name": "HTMLModel",
      "state": {
       "layout": "IPY_MODEL_5458c79592744c3d9333b3cd3106921e",
       "style": "IPY_MODEL_a8400943c73d44df8b28bb99002fc954",
       "value": "<p>if you eat 3 that you consume 150 calories.</p>\n"
      }
     },
     "5458c79592744c3d9333b3cd3106921e": {
      "model_module": "@jupyter-widgets/base",
      "model_module_version": "2.0.0",
      "model_name": "LayoutModel",
      "state": {}
     },
     "55389720dadf4841a165ccb8b2ded5f6": {
      "model_module": "@jupyter-widgets/base",
      "model_module_version": "2.0.0",
      "model_name": "LayoutModel",
      "state": {}
     },
     "6820d1f2b6314bff8ad96aad21abf5ea": {
      "model_module": "@jupyter-widgets/base",
      "model_module_version": "2.0.0",
      "model_name": "LayoutModel",
      "state": {}
     },
     "79fd5dea815e47c9a3df634af44682d0": {
      "model_module": "@jupyter-widgets/base",
      "model_module_version": "2.0.0",
      "model_name": "LayoutModel",
      "state": {}
     },
     "a029b57f700c46c6a01324b1aa4feb09": {
      "model_module": "@jupyter-widgets/controls",
      "model_module_version": "2.0.0",
      "model_name": "IntSliderModel",
      "state": {
       "behavior": "drag-tap",
       "description": "COOKIES",
       "layout": "IPY_MODEL_79fd5dea815e47c9a3df634af44682d0",
       "min": 1,
       "style": "IPY_MODEL_d28c5516075142fcbcde4683b923ad7c",
       "value": 3
      }
     },
     "a8400943c73d44df8b28bb99002fc954": {
      "model_module": "@jupyter-widgets/controls",
      "model_module_version": "2.0.0",
      "model_name": "HTMLStyleModel",
      "state": {
       "description_width": "",
       "font_size": null,
       "text_color": null
      }
     },
     "d28c5516075142fcbcde4683b923ad7c": {
      "model_module": "@jupyter-widgets/controls",
      "model_module_version": "2.0.0",
      "model_name": "SliderStyleModel",
      "state": {
       "description_width": ""
      }
     }
    },
    "version_major": 2,
    "version_minor": 0
   }
  }
 },
 "nbformat": 4,
 "nbformat_minor": 5
}
