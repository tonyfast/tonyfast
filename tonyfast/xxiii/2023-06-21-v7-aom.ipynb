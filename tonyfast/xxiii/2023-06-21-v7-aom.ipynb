{
 "cells": [
  {
   "cell_type": "markdown",
   "id": "23942e8a-e00e-47fd-b14f-cd5dc2de906c",
   "metadata": {},
   "source": [
    "# jupyter notebook v7 remediations\n",
    "\n",
    "this document massages the annotation object model of a running jupyter classic notebook. the goal is to get to near to an idealized representation devised in the notebooks for all project.\n",
    "\n",
    "in this representation, we add landmarks and start to codify the semantics of a cell area."
   ]
  },
  {
   "cell_type": "markdown",
   "id": "d2bb72cd-5025-4162-8a19-3ad60738f0ce",
   "metadata": {},
   "source": [
    "click \"trust notebook\" in the File Menu to execute this code yourself."
   ]
  },
  {
   "cell_type": "markdown",
   "id": "002c1850-ccf4-470f-8c40-049dc6a53d00",
   "metadata": {},
   "source": [
    "## fixing document level landmarks"
   ]
  },
  {
   "cell_type": "code",
   "execution_count": 23,
   "id": "bf746a0a-e614-41a3-9360-6b8a5641c823",
   "metadata": {},
   "outputs": [
    {
     "data": {
      "application/javascript": [
       "document.querySelectorAll(\"#top-panel\").forEach((x,i) =>{x.setAttribute(\"aria-label\", \"Notebook Menu\");});\n",
       "document.querySelectorAll(\"#main-panel\").forEach((x,i) =>{x.setAttribute(\"aria-labelledby\", \"jp-title\");});\n",
       "document.querySelectorAll(\"#menu-panel\").forEach((x,i) =>{\n",
       "    x.setAttribute(\"role\", \"banner\"); x.setAttribute(\"aria-label\", \"Notebook Menu\");\n",
       "});\n",
       "document.querySelectorAll(\"#spacer-widget-top\").forEach((x,i) =>{x.setAttribute(\"role\", \"separator\");});\n",
       "document.querySelectorAll(\".jp-Notebook\").forEach((x,i) =>{x.setAttribute(\"aria-label\", \"Notebook Cells\");});\n",
       "// role navigation -> banner, this is a landmark inside of main\n",
       "document.querySelectorAll(\".jp-Toolbar\").forEach((x,i) =>{\n",
       "    x.setAttribute(\"role\", \"banner\"); x.setAttribute(\"aria-label\", \"Notebook Actions\");\n",
       "});    \n"
      ],
      "text/plain": [
       "<IPython.core.display.Javascript object>"
      ]
     },
     "metadata": {},
     "output_type": "display_data"
    }
   ],
   "source": [
    "    %%javascript\n",
    "    document.querySelectorAll(\"#top-panel\").forEach((x,i) =>{x.setAttribute(\"aria-label\", \"Notebook Menu\");});\n",
    "    document.querySelectorAll(\"#main-panel\").forEach((x,i) =>{x.setAttribute(\"aria-labelledby\", \"jp-title\");});\n",
    "    document.querySelectorAll(\"#menu-panel\").forEach((x,i) =>{\n",
    "        x.setAttribute(\"role\", \"banner\"); x.setAttribute(\"aria-label\", \"Notebook Menu\");\n",
    "    });\n",
    "    document.querySelectorAll(\"#spacer-widget-top\").forEach((x,i) =>{x.setAttribute(\"role\", \"separator\");});\n",
    "    document.querySelectorAll(\".jp-Notebook\").forEach((x,i) =>{x.setAttribute(\"aria-label\", \"Notebook Cells\");});\n",
    "    // role navigation -> banner, this is a landmark inside of main\n",
    "    document.querySelectorAll(\".jp-Toolbar\").forEach((x,i) =>{\n",
    "        x.setAttribute(\"role\", \"banner\"); x.setAttribute(\"aria-label\", \"Notebook Actions\");\n",
    "    });    "
   ]
  },
  {
   "cell_type": "markdown",
   "id": "e6e73a17-6583-43fc-a4f9-f384b54fed8c",
   "metadata": {},
   "source": [
    "## the notebook feed and cell articles"
   ]
  },
  {
   "cell_type": "code",
   "execution_count": 24,
   "id": "e9207de6-5ddb-4985-80f0-6fe4aa86594d",
   "metadata": {},
   "outputs": [
    {
     "data": {
      "application/javascript": [
       "document.querySelectorAll(\".jp-WindowedPanel-window\").forEach((x,i) =>{\n",
       "    x.setAttribute(\"role\", \"feed\"); x.setAttribute(\"aria-label\", \"Cells\");\n",
       "});\n",
       "var cells = document.querySelectorAll(\".jp-Cell\");\n",
       "cells.forEach((x,i) =>{\n",
       "    x.setAttribute(\"role\", \"article\"); \n",
       "    x.setAttribute(\"aria-posinset\", i+1); \n",
       "    x.setAttribute(\"aria-setsize\", cells.length); \n",
       "    var MD = x.className.includes(\"jp-MarkdownCell\");\n",
       "    var CODE = x.className.includes(\"jp-CodeCell\");\n",
       "    if (CODE){\n",
       "        x.setAttribute(\"aria-label\", `Code Cell ${i+1}`);\n",
       "    } else if (MD){\n",
       "        x.setAttribute(\"aria-label\", `Markdown Cell ${i+1}`);\n",
       "    } else {\n",
       "        x.setAttribute(\"aria-label\", `Cell ${i+1}`);\n",
       "    };\n",
       "\n",
       "    // i cant directly know the input number. semantically it is some kind of label.\n",
       "    // this effort is concerned with the AOM, not WCAG. \n",
       "    // we do have a visible label so this should satisfy the visible label\n",
       "    prompt = x.querySelectorAll(\".jp-InputPrompt\")[0];\n",
       "    prompt.setAttribute(\"aria-hidden\", \"true\");\n",
       "});\n"
      ],
      "text/plain": [
       "<IPython.core.display.Javascript object>"
      ]
     },
     "metadata": {},
     "output_type": "display_data"
    }
   ],
   "source": [
    "    %%javascript\n",
    "    document.querySelectorAll(\".jp-WindowedPanel-window\").forEach((x,i) =>{\n",
    "        x.setAttribute(\"role\", \"feed\"); x.setAttribute(\"aria-label\", \"Cells\");\n",
    "    });\n",
    "    var cells = document.querySelectorAll(\".jp-Cell\");\n",
    "    cells.forEach((x,i) =>{\n",
    "        x.setAttribute(\"role\", \"article\"); \n",
    "        x.setAttribute(\"aria-posinset\", i+1); \n",
    "        x.setAttribute(\"aria-setsize\", cells.length); \n",
    "        var MD = x.className.includes(\"jp-MarkdownCell\");\n",
    "        var CODE = x.className.includes(\"jp-CodeCell\");\n",
    "        if (CODE){\n",
    "            x.setAttribute(\"aria-label\", `Code Cell ${i+1}`);\n",
    "        } else if (MD){\n",
    "            x.setAttribute(\"aria-label\", `Markdown Cell ${i+1}`);\n",
    "        } else {\n",
    "            x.setAttribute(\"aria-label\", `Cell ${i+1}`);\n",
    "        };\n",
    "\n",
    "        // i cant directly know the input number. semantically it is some kind of label.\n",
    "        // this effort is concerned with the AOM, not WCAG. \n",
    "        // we do have a visible label so this should satisfy the visible label\n",
    "        prompt = x.querySelectorAll(\".jp-InputPrompt\")[0];\n",
    "        prompt.setAttribute(\"aria-hidden\", \"true\");\n",
    "\n",
    "        // STILL NEED TO ADD A LANDMARK FOR THE CELL\n",
    "    });"
   ]
  },
  {
   "cell_type": "markdown",
   "id": "870a857c-bb36-4816-bee3-38b937ff347c",
   "metadata": {},
   "source": [
    "### input area fixes"
   ]
  },
  {
   "cell_type": "code",
   "execution_count": 30,
   "id": "2d54f8ad-e543-47bd-89d8-bfd460f97189",
   "metadata": {},
   "outputs": [
    {
     "data": {
      "application/javascript": [
       "var cells = document.querySelectorAll(\".jp-Cell\");\n",
       "cells.forEach((x,i) =>{\n",
       "    var MD = x.className.includes(\"jp-MarkdownCell\");\n",
       "    var CODE = x.className.includes(\"jp-CodeCell\");\n",
       "\n",
       "    // code, markdown, raw cells need different groupings.\n",
       "    x.querySelectorAll(\".jp-Cell-inputWrapper\").forEach(\n",
       "        (y)=>{\n",
       "            y.setAttribute(\"role\", \"group\");\n",
       "            var label = prompt.textContent.slice(1, -2).trim();\n",
       "            if (CODE){\n",
       "                if (label.length){\n",
       "                    y.setAttribute(\"aria-label\", `In ${label}`);\n",
       "                } else {\n",
       "                    y.setAttribute(\"aria-label\", `New Code Input`);\n",
       "                }\n",
       "            } else if (MD){\n",
       "                y.setAttribute(\"aria-label\", `Markdown Input`);\n",
       "            } else {\n",
       "                y.setAttribute(\"aria-label\", `Input`);\n",
       "            }\n",
       "        }\n",
       "    );\n",
       "    // make the cell toolbar an APG styled toolbar. this is the most cursory modification.\n",
       "    x.querySelectorAll(\".jp-cell-toolbar\").forEach(\n",
       "        (y)=>{\n",
       "            // https://www.w3.org/WAI/ARIA/apg/patterns/toolbar/examples/toolbar/\n",
       "            y.setAttribute(\"role\", \"toolbar\");\n",
       "            y.setAttribute(\"aria-label\", `Cell ${i+1} Toolbar`);\n",
       "            y.setAttribute(\"aria-controls\", `cell-input-${i}`);\n",
       "        }\n",
       "    )\n",
       "});\n"
      ],
      "text/plain": [
       "<IPython.core.display.Javascript object>"
      ]
     },
     "metadata": {},
     "output_type": "display_data"
    }
   ],
   "source": [
    "    %%javascript\n",
    "    var cells = document.querySelectorAll(\".jp-Cell\");\n",
    "    cells.forEach((x,i) =>{\n",
    "        var MD = x.className.includes(\"jp-MarkdownCell\");\n",
    "        var CODE = x.className.includes(\"jp-CodeCell\");\n",
    "\n",
    "        // code, markdown, raw cells need different groupings.\n",
    "        x.querySelectorAll(\".jp-Cell-inputWrapper\").forEach(\n",
    "            (y)=>{\n",
    "                y.setAttribute(\"role\", \"group\");\n",
    "                var label = prompt.textContent.slice(1, -2).trim();\n",
    "                if (CODE){\n",
    "                    if (label.length){\n",
    "                        y.setAttribute(\"aria-label\", `In ${label}`);\n",
    "                    } else {\n",
    "                        y.setAttribute(\"aria-label\", `New Code Input`);\n",
    "                    }\n",
    "                } else if (MD){\n",
    "                    y.setAttribute(\"aria-label\", `Markdown Input`);\n",
    "                } else {\n",
    "                    y.setAttribute(\"aria-label\", `Input`);\n",
    "                }\n",
    "            }\n",
    "        );\n",
    "        // make the cell toolbar an APG styled toolbar. this is the most cursory modification.\n",
    "        x.querySelectorAll(\".jp-cell-toolbar\").forEach(\n",
    "            (y)=>{\n",
    "                // https://www.w3.org/WAI/ARIA/apg/patterns/toolbar/examples/toolbar/\n",
    "                y.setAttribute(\"role\", \"toolbar\");\n",
    "                y.setAttribute(\"aria-label\", `Cell ${i+1} Toolbar`);\n",
    "                y.setAttribute(\"aria-controls\", `cell-input-${i}`);\n",
    "            }\n",
    "        )\n",
    "    });"
   ]
  },
  {
   "cell_type": "markdown",
   "id": "df720eb6-f9ea-4a05-93ef-d224d1396536",
   "metadata": {},
   "source": [
    "### output area fixes"
   ]
  },
  {
   "cell_type": "code",
   "execution_count": 31,
   "id": "6ac4fc65-cd26-4a51-b50e-bc7304c1db63",
   "metadata": {},
   "outputs": [
    {
     "data": {
      "application/javascript": [
       "var cells = document.querySelectorAll(\".jp-Cell\");\n",
       "cells.forEach((x,i) =>{\n",
       "    x.querySelectorAll(\".jp-Cell-outputWrapper\").forEach(\n",
       "        (y)=>{\n",
       "            // this will only be encountered on code cells.\n",
       "            // i have no invested significant time into the semantics of the outputs\n",
       "            // group is a fine semantic, but it is non specific.\n",
       "            // increasingly i feel like the output is nested feed because it \n",
       "            // would allow outputs to be indexed. need more testing.\n",
       "            y.setAttribute(\"role\", \"group\");\n",
       "            var label = prompt.textContent.slice(1, -2).trim();\n",
       "            if (label.length){\n",
       "                y.setAttribute(\"aria-label\", `Output ${label}`);\n",
       "            } else {\n",
       "                // no need to worry about the output label when there is not execution\n",
       "                // aria hidden might be appropriate without testing on a screen reader.\n",
       "                y.setAttribute(\"aria-hidden\", \"true\");\n",
       "            };\n",
       "        }\n",
       "    );\n",
       "    x.querySelectorAll(\".jp-OutputCollapser\").forEach(\n",
       "        (y)=>{\n",
       "            // the collapser button has no semantics or visible label.\n",
       "            // this feature is not accessible, but should because for folks using screen magnification.\n",
       "        }\n",
       "    )\n",
       "});\n"
      ],
      "text/plain": [
       "<IPython.core.display.Javascript object>"
      ]
     },
     "metadata": {},
     "output_type": "display_data"
    }
   ],
   "source": [
    "    %%javascript\n",
    "    var cells = document.querySelectorAll(\".jp-Cell\");\n",
    "    cells.forEach((x,i) =>{\n",
    "        x.querySelectorAll(\".jp-Cell-outputWrapper\").forEach(\n",
    "            (y)=>{\n",
    "                // this will only be encountered on code cells.\n",
    "                // i have no invested significant time into the semantics of the outputs\n",
    "                // group is a fine semantic, but it is non specific.\n",
    "                // increasingly i feel like the output is nested feed because it \n",
    "                // would allow outputs to be indexed. need more testing.\n",
    "                y.setAttribute(\"role\", \"group\");\n",
    "                var label = prompt.textContent.slice(1, -2).trim();\n",
    "                if (label.length){\n",
    "                    y.setAttribute(\"aria-label\", `Output ${label}`);\n",
    "                } else {\n",
    "                    // no need to worry about the output label when there is not execution\n",
    "                    // aria hidden might be appropriate without testing on a screen reader.\n",
    "                    y.setAttribute(\"aria-hidden\", \"true\");\n",
    "                };\n",
    "            }\n",
    "        );\n",
    "        x.querySelectorAll(\".jp-OutputCollapser\").forEach(\n",
    "            (y)=>{\n",
    "                // the collapser button has no semantics or visible label.\n",
    "                // this feature is not accessible, but should because for folks using screen magnification.\n",
    "            }\n",
    "        )\n",
    "    });"
   ]
  },
  {
   "cell_type": "markdown",
   "id": "52aa696f-26ab-4f8f-accf-edc3186495ea",
   "metadata": {},
   "source": [
    "## conclusion\n",
    "\n",
    "* the notebook and cell menu bars are probably fixed at the same time.\n",
    "* the output area is where the research stops. it is less though out than the others."
   ]
  }
 ],
 "metadata": {
  "kernelspec": {
   "display_name": "Python 3 (ipykernel)",
   "language": "python",
   "name": "python3"
  },
  "language_info": {
   "codemirror_mode": {
    "name": "ipython",
    "version": 3
   },
   "file_extension": ".py",
   "mimetype": "text/x-python",
   "name": "python",
   "nbconvert_exporter": "python",
   "pygments_lexer": "ipython3",
   "version": "3.11.3"
  }
 },
 "nbformat": 4,
 "nbformat_minor": 5
}
