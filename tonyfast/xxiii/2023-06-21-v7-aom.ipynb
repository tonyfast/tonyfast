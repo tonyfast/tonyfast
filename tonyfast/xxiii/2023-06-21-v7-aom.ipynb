{
 "cells": [
  {
   "cell_type": "markdown",
   "id": "23942e8a-e00e-47fd-b14f-cd5dc2de906c",
   "metadata": {},
   "source": [
    "# jupyter notebook v7 remediations\n",
    "\n",
    "\n",
    "this document massages the annotation object model of a running jupyter classic notebook. the goal is to get to near to an idealized representation devised in the notebooks for all project.\n",
    "\n",
    "in this representation, we add landmarks and start to codify the semantics of a cell area."
   ]
  },
  {
   "cell_type": "markdown",
   "id": "d2bb72cd-5025-4162-8a19-3ad60738f0ce",
   "metadata": {},
   "source": [
    "click \"trust notebook\" in the File Menu to execute this code yourself."
   ]
  },
  {
   "cell_type": "code",
   "execution_count": null,
   "id": "d9223389-f0b7-40b3-9bc7-e44581461836",
   "metadata": {},
   "outputs": [],
   "source": [
    "    %%javascript\n",
    "    document.querySelectorAll(\"#top-panel\").forEach((x,i) =>{x.setAttribute(\"aria-label\", \"Notebook Menu\");});\n",
    "    document.querySelectorAll(\"#main-panel\").forEach((x,i) =>{x.setAttribute(\"aria-labelledby\", \"jp-title\");});\n",
    "    document.querySelectorAll(\"#menu-panel\").forEach((x,i) =>{\n",
    "        x.setAttribute(\"role\", \"banner\"); x.setAttribute(\"aria-label\", \"Notebook Menu\");\n",
    "    });\n",
    "    document.querySelectorAll(\"#spacer-widget-top\").forEach((x,i) =>{x.setAttribute(\"role\", \"separator\");});\n",
    "\n",
    "    \n",
    "    // role navigation -> banner, this is a landmark inside of main\n",
    "    document.querySelectorAll(\".jp-Toolbar\").forEach((x,i) =>{\n",
    "        x.setAttribute(\"role\", \"banner\"); x.setAttribute(\"aria-label\", \"Notebook Actions\");\n",
    "    });\n",
    "    document.querySelectorAll(\".jp-Notebook\").forEach((x,i) =>{x.setAttribute(\"aria-label\", \"Notebook Cells\");});\n",
    "    document.querySelectorAll(\".jp-WindowedPanel-window\").forEach((x,i) =>{\n",
    "        x.setAttribute(\"role\", \"feed\"); x.setAttribute(\"aria-label\", \"Cells\");\n",
    "    });\n",
    "    var cells = document.querySelectorAll(\".jp-Cell\");\n",
    "    cells.forEach((x,i) =>{\n",
    "        x.setAttribute(\"role\", \"article\"); \n",
    "        x.setAttribute(\"aria-posinset\", i+1); \n",
    "        x.setAttribute(\"aria-setsize\", cells.length); \n",
    "        if (x.className.includes(\"jp-CodeCell\")){\n",
    "            x.setAttribute(\"aria-label\", `Code Cell ${i+1}`);\n",
    "        } else if (x.className.includes(\"jp-MarkdownCell\")){\n",
    "            x.setAttribute(\"aria-label\", `Markdown Cell ${i+1}`);\n",
    "        } else {\n",
    "            x.setAttribute(\"aria-label\", `Cell ${i+1}`);\n",
    "        };\n",
    "\n",
    "        // READER IGNORE THE WIP BELOW \n",
    "        prompt = x.querySelectorAll(\".jp-InputPrompt\")[0];\n",
    "        prompt.setAttribute(\"aria-hidden\", \"true\");\n",
    "\n",
    "        // code, markdown, raw cells need different groupings.\n",
    "        x.querySelectorAll(\".jp-Cell-inputWrapper\").forEach(\n",
    "            (y)=>{\n",
    "                y.setAttribute(\"role\", \"group\");\n",
    "                console.log(prompt.textContent);\n",
    "                y.setAttribute(\"aria-label\", `In ${prompt.textContent.slice(1,-2)}`);\n",
    "            }\n",
    "        );\n",
    "    });\n"
   ]
  },
  {
   "cell_type": "code",
   "execution_count": null,
   "id": "cd88e093-db41-4e9b-b1be-ad2833be1c55",
   "metadata": {},
   "outputs": [],
   "source": []
  }
 ],
 "metadata": {
  "kernelspec": {
   "display_name": "Python 3 (ipykernel)",
   "language": "python",
   "name": "python3"
  },
  "language_info": {
   "codemirror_mode": {
    "name": "ipython",
    "version": 3
   },
   "file_extension": ".py",
   "mimetype": "text/x-python",
   "name": "python",
   "nbconvert_exporter": "python",
   "pygments_lexer": "ipython3",
   "version": "3.11.3"
  }
 },
 "nbformat": 4,
 "nbformat_minor": 5
}
