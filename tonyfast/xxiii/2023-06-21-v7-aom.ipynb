{
 "cells": [
  {
   "cell_type": "markdown",
   "id": "23942e8a-e00e-47fd-b14f-cd5dc2de906c",
   "metadata": {},
   "source": [
    "# jupyter notebook v7 remediations\n",
    "\n",
    "this document provides more structure to the annotation object model in the interactive jupyter notebook v7 experience. this effort is an extension of the notebooks for all effort to establish a minimum, semantic html5 footprint for a rendered notebook. the originial hypothesis still stands that <q>an accessible reference implementation of the rendered notebook will extend to an assistive interactive experience.</q> \n",
    "\n",
    "i think this remediation is 4 primary tasks\n",
    "\n",
    "- [ ] improved notebook level semantics for landmarks and initial APG recommendations\n",
    "- [ ] introduce feed semantics for the cells\n",
    "    - [ ] establish input group semantics\n",
    "    - [ ] establish preliminary group semantics\n",
    "     \n",
    "our goal is presentation an assistive experience that can be extended with feedback from users. this will drastically improve the assistive tech experience through improvements to the annotation object model.\n",
    "     \n",
    "Note: all labels will need to be internationalized."
   ]
  },
  {
   "cell_type": "markdown",
   "id": "41b3d917-3c81-44d1-b880-2e1db8d1685c",
   "metadata": {},
   "source": [
    "## out of scope\n",
    "\n",
    "this documents focus on non-visual changes that improve the quality of Annotation Objective Model so the following important topics are out of scope: \n",
    "\n",
    "- [ ] the split panel handler has an [APG Window Splitter Pattern](https://www.w3.org/WAI/ARIA/apg/patterns/windowsplitter/) that should be implemented.\n",
    "- [ ] tab traps are bad for keyboard users. tab in cell mode should not enter edit mode automatically. the assistive experience hinges on https://github.com/jupyterlab/jupyterlab/pull/14115.\n",
    "- [ ] modifying the native find experience without an escape hatch is super dangerous; so i'm real worried about `.jp-DocumentSearch-overlay`."
   ]
  },
  {
   "cell_type": "markdown",
   "id": "58cccc28-218c-467b-8d6b-863303daa981",
   "metadata": {},
   "source": [
    "click \"trust notebook\" in the File Menu to execute this code yourself."
   ]
  },
  {
   "cell_type": "markdown",
   "id": "002c1850-ccf4-470f-8c40-049dc6a53d00",
   "metadata": {},
   "source": [
    "## application level semantics"
   ]
  },
  {
   "cell_type": "markdown",
   "id": "c5821b98-3baf-4d8d-8bcb-22f9a3df402f",
   "metadata": {},
   "source": [
    "ARIA modifications to the first landmarks we encounter."
   ]
  },
  {
   "cell_type": "code",
   "execution_count": 1,
   "id": "67448feb-48cd-4695-813b-8e3e358f8197",
   "metadata": {},
   "outputs": [
    {
     "data": {
      "application/javascript": [
       "document.querySelectorAll(\"#top-panel\").forEach((x,i) =>{x.setAttribute(\"aria-label\", \"Notebook Menu\");});\n",
       "document.querySelectorAll(\"#main-panel\").forEach((x,i) =>{x.setAttribute(\"aria-labelledby\", \"jp-title\");});\n",
       "document.querySelectorAll(\"#menu-panel\").forEach((x,i) =>{\n",
       "    x.setAttribute(\"role\", \"banner\"); \n",
       "    x.setAttribute(\"aria-label\", \"Notebook Menu\");\n",
       "});\n"
      ],
      "text/plain": [
       "<IPython.core.display.Javascript object>"
      ]
     },
     "metadata": {},
     "output_type": "display_data"
    }
   ],
   "source": [
    "    %%javascript\n",
    "    document.querySelectorAll(\"#top-panel\").forEach((x,i) =>{x.setAttribute(\"aria-label\", \"Notebook Menu\");});\n",
    "    document.querySelectorAll(\"#main-panel\").forEach((x,i) =>{x.setAttribute(\"aria-labelledby\", \"jp-title\");});\n",
    "    document.querySelectorAll(\"#menu-panel\").forEach((x,i) =>{\n",
    "        x.setAttribute(\"role\", \"banner\"); \n",
    "        x.setAttribute(\"aria-label\", \"Notebook Menu\");\n",
    "    });"
   ]
  },
  {
   "cell_type": "markdown",
   "id": "b4c5ad6c-6b55-4fbc-a235-0c2ad1eaad28",
   "metadata": {},
   "source": [
    "the application can't own the first `h1`. we've been suggesting notebooks begin with a markdown cell and `h1` as a best practice."
   ]
  },
  {
   "cell_type": "code",
   "execution_count": 2,
   "id": "3a5ca237-eed2-4b4e-a952-d4474fabbc5b",
   "metadata": {},
   "outputs": [
    {
     "data": {
      "application/javascript": [
       "for (x in document.querySelectorAll(\"#top-panel #jp-title h1\").children){\n",
       "    // we can't set our own h1 as that will mess up custom content.\n",
       "    // the css depends on the h1, but the screen reader won't find it this way.\n",
       "    x.setAttribute(\"role\", \"presentation\");\n",
       "};\n"
      ],
      "text/plain": [
       "<IPython.core.display.Javascript object>"
      ]
     },
     "metadata": {},
     "output_type": "display_data"
    }
   ],
   "source": [
    "    %%javascript\n",
    "    for (x in document.querySelectorAll(\"#top-panel #jp-title h1\").children){\n",
    "        // we can't set our own h1 as that will mess up custom content.\n",
    "        // the css depends on the h1, but the screen reader won't find it this way.\n",
    "        x.setAttribute(\"role\", \"presentation\");\n",
    "    };\n"
   ]
  },
  {
   "cell_type": "markdown",
   "id": "04f66c3e-02cb-45dc-9652-767270b91e9a",
   "metadata": {},
   "source": [
    "### application label concerns."
   ]
  },
  {
   "cell_type": "code",
   "execution_count": 3,
   "id": "ba8c2c05-bbd0-4075-b22f-31c4ec8b57b3",
   "metadata": {},
   "outputs": [
    {
     "data": {
      "application/javascript": [
       "// a user should be able to trigger the logo dialog by clicking on .jp-NotebookKernelLogo\n",
       "// the trusted status button needs alt and a clearer title .jp-NotebookTrustedStatus\n",
       "// the button.jp-Notebook-footer semantics are wrong. the button should be inside a footer, or role=contentinfo\n"
      ],
      "text/plain": [
       "<IPython.core.display.Javascript object>"
      ]
     },
     "metadata": {},
     "output_type": "display_data"
    }
   ],
   "source": [
    "    %%javascript\n",
    "    // a user should be able to trigger the logo dialog by clicking on .jp-NotebookKernelLogo\n",
    "    // the trusted status button needs alt and a clearer title .jp-NotebookTrustedStatus\n",
    "    // the button.jp-Notebook-footer semantics are wrong. the button should be inside a footer, or role=contentinfo"
   ]
  },
  {
   "cell_type": "markdown",
   "id": "9e9e4e91-c3d7-4036-8788-5b9994ceb8e7",
   "metadata": {},
   "source": [
    "> i'm surprised everytime the jupyter logo sends me to the file tree. right now, the first thing you tab to tries to send you to another page. feels weird.\n",
    "\n",
    "the changes below communicate the current semantics, but the feel of this experience should be reconsidered."
   ]
  },
  {
   "cell_type": "code",
   "execution_count": 4,
   "id": "96b8f7ce-d136-452d-a64b-4a76fa4dad4f",
   "metadata": {},
   "outputs": [
    {
     "data": {
      "application/javascript": [
       "// it is going to make no sense to anyone that the jupyter label sends you to open files\n",
       "document.querySelectorAll(\"#top-panel #jp-NotebookLogo\").forEach((x,i) =>{\n",
       "    x.setAttribute(\"title\", \"Open File Browser in a New Tab\");\n",
       "    x.setAttribute(\"alt\", \"Open File Browser in a New Tab\");\n",
       "});\n"
      ],
      "text/plain": [
       "<IPython.core.display.Javascript object>"
      ]
     },
     "metadata": {},
     "output_type": "display_data"
    }
   ],
   "source": [
    "    %%javascript\n",
    "    // it is going to make no sense to anyone that the jupyter label sends you to open files\n",
    "    document.querySelectorAll(\"#top-panel #jp-NotebookLogo\").forEach((x,i) =>{\n",
    "        x.setAttribute(\"title\", \"Open File Browser in a New Tab\");\n",
    "        x.setAttribute(\"alt\", \"Open File Browser in a New Tab\");\n",
    "    });"
   ]
  },
  {
   "cell_type": "markdown",
   "id": "8d122d5f-5cb3-4e27-a715-faadbe4e37d3",
   "metadata": {},
   "source": [
    "label the main notebook area."
   ]
  },
  {
   "cell_type": "code",
   "execution_count": 5,
   "id": "ba2a30c2-9d70-4c0e-bc18-1bc33cbd3d47",
   "metadata": {},
   "outputs": [
    {
     "data": {
      "application/javascript": [
       "document.querySelectorAll(\"#spacer-widget-top\").forEach((x,i) =>{x.setAttribute(\"role\", \"presentation\");});\n",
       "document.querySelectorAll(\".jp-Notebook\").forEach((x,i) =>{x.setAttribute(\"aria-label\", \"Notebook Cells\");});\n"
      ],
      "text/plain": [
       "<IPython.core.display.Javascript object>"
      ]
     },
     "metadata": {},
     "output_type": "display_data"
    }
   ],
   "source": [
    "    %%javascript\n",
    "    document.querySelectorAll(\"#spacer-widget-top\").forEach((x,i) =>{x.setAttribute(\"role\", \"presentation\");});\n",
    "    document.querySelectorAll(\".jp-Notebook\").forEach((x,i) =>{x.setAttribute(\"aria-label\", \"Notebook Cells\");});"
   ]
  },
  {
   "cell_type": "markdown",
   "id": "d8a2cbd7-4f84-473c-84f7-89841e1b94da",
   "metadata": {},
   "source": [
    "the toolbar is banner, not navigation."
   ]
  },
  {
   "cell_type": "code",
   "execution_count": 6,
   "id": "1148dca3-2a63-463f-a7ac-5d0298ccc038",
   "metadata": {},
   "outputs": [
    {
     "data": {
      "application/javascript": [
       "// role navigation -> banner, this is a landmark inside of main\n",
       "document.querySelectorAll(\".jp-Toolbar\").forEach((x,i) =>{\n",
       "    x.setAttribute(\"role\", \"banner\"); x.setAttribute(\"aria-label\", \"Notebook Actions\");\n",
       "});    \n"
      ],
      "text/plain": [
       "<IPython.core.display.Javascript object>"
      ]
     },
     "metadata": {},
     "output_type": "display_data"
    }
   ],
   "source": [
    "    %%javascript\n",
    "    // role navigation -> banner, this is a landmark inside of main\n",
    "    document.querySelectorAll(\".jp-Toolbar\").forEach((x,i) =>{\n",
    "        x.setAttribute(\"role\", \"banner\"); x.setAttribute(\"aria-label\", \"Notebook Actions\");\n",
    "    });    "
   ]
  },
  {
   "cell_type": "markdown",
   "id": "e6e73a17-6583-43fc-a4f9-f384b54fed8c",
   "metadata": {},
   "source": [
    "## the notebook feed and cell articles\n",
    "\n",
    "the feed pattern is read mode pattern for identifying units of content is a potentially infinite scrolling element. we use this pattern because it introduces the minimal aria semantics to add order."
   ]
  },
  {
   "cell_type": "code",
   "execution_count": 7,
   "id": "02f945e0-a8e6-4b1c-8f34-bd6b58f1d02f",
   "metadata": {},
   "outputs": [
    {
     "data": {
      "application/javascript": [
       "document.querySelectorAll(\".jp-WindowedPanel-window\").forEach((x,i) =>{\n",
       "    x.setAttribute(\"role\", \"feed\"); x.setAttribute(\"aria-label\", \"Cells\");\n",
       "});\n"
      ],
      "text/plain": [
       "<IPython.core.display.Javascript object>"
      ]
     },
     "metadata": {},
     "output_type": "display_data"
    }
   ],
   "source": [
    "    %%javascript\n",
    "    document.querySelectorAll(\".jp-WindowedPanel-window\").forEach((x,i) =>{\n",
    "        x.setAttribute(\"role\", \"feed\"); x.setAttribute(\"aria-label\", \"Cells\");\n",
    "    });"
   ]
  },
  {
   "cell_type": "markdown",
   "id": "549ae8d3-f8ad-45a0-bd84-8ea8ce0eb255",
   "metadata": {},
   "source": [
    "for each of the cells, we give them an article role. each cell is labelled by their name with information about the cell type.\n",
    "\n",
    ">> some assistive tech can quickly nagivate articles."
   ]
  },
  {
   "cell_type": "code",
   "execution_count": 8,
   "id": "5ef14c12-3126-436d-90d9-82fb45669240",
   "metadata": {},
   "outputs": [
    {
     "data": {
      "application/javascript": [
       "var cells = document.querySelectorAll(\".jp-Cell\");\n",
       "cells.forEach((x,i) =>{\n",
       "    x.setAttribute(\"role\", \"article\"); \n",
       "    x.setAttribute(\"aria-posinset\", i+1); \n",
       "    x.setAttribute(\"aria-setsize\", cells.length); \n",
       "    var MD = x.className.includes(\"jp-MarkdownCell\");\n",
       "    var CODE = x.className.includes(\"jp-CodeCell\");\n",
       "    if (CODE){\n",
       "        x.setAttribute(\"aria-label\", `Code Cell ${i+1}`);\n",
       "    } else if (MD){\n",
       "        x.setAttribute(\"aria-label\", `Markdown Cell ${i+1}`);\n",
       "    } else {\n",
       "        x.setAttribute(\"aria-label\", `Cell ${i+1}`);\n",
       "    };\n",
       "\n",
       "    // i cant directly know the input number. semantically it is some kind of label.\n",
       "    // this effort is concerned with the AOM, not WCAG. \n",
       "    // we do have a visible label so this should satisfy the visible label\n",
       "    prompt = x.querySelectorAll(\".jp-InputPrompt\")[0];\n",
       "    prompt.setAttribute(\"aria-hidden\", \"true\");\n",
       "\n",
       "    // STILL NEED TO ADD A LANDMARK FOR THE CELL\n",
       "});\n"
      ],
      "text/plain": [
       "<IPython.core.display.Javascript object>"
      ]
     },
     "metadata": {},
     "output_type": "display_data"
    }
   ],
   "source": [
    "    %%javascript\n",
    "    var cells = document.querySelectorAll(\".jp-Cell\");\n",
    "    cells.forEach((x,i) =>{\n",
    "        x.setAttribute(\"role\", \"article\"); \n",
    "        x.setAttribute(\"aria-posinset\", i+1); \n",
    "        x.setAttribute(\"aria-setsize\", cells.length); \n",
    "        var MD = x.className.includes(\"jp-MarkdownCell\");\n",
    "        var CODE = x.className.includes(\"jp-CodeCell\");\n",
    "        if (CODE){\n",
    "            x.setAttribute(\"aria-label\", `Code Cell ${i+1}`);\n",
    "        } else if (MD){\n",
    "            x.setAttribute(\"aria-label\", `Markdown Cell ${i+1}`);\n",
    "        } else {\n",
    "            x.setAttribute(\"aria-label\", `Cell ${i+1}`);\n",
    "        };\n",
    "\n",
    "        // i cant directly know the input number. semantically it is some kind of label.\n",
    "        // this effort is concerned with the AOM, not WCAG. \n",
    "        // we do have a visible label so this should satisfy the visible label\n",
    "        prompt = x.querySelectorAll(\".jp-InputPrompt\")[0];\n",
    "        prompt.setAttribute(\"aria-hidden\", \"true\");\n",
    "\n",
    "        // STILL NEED TO ADD A LANDMARK FOR THE CELL\n",
    "    });"
   ]
  },
  {
   "cell_type": "markdown",
   "id": "870a857c-bb36-4816-bee3-38b937ff347c",
   "metadata": {},
   "source": [
    "### input area fixes"
   ]
  },
  {
   "cell_type": "code",
   "execution_count": 9,
   "id": "2d54f8ad-e543-47bd-89d8-bfd460f97189",
   "metadata": {},
   "outputs": [
    {
     "data": {
      "application/javascript": [
       "var cells = document.querySelectorAll(\".jp-Cell\");\n",
       "cells.forEach((x,i) =>{\n",
       "    var MD = x.className.includes(\"jp-MarkdownCell\");\n",
       "    var CODE = x.className.includes(\"jp-CodeCell\");\n",
       "\n",
       "    // code, markdown, raw cells need different groupings.\n",
       "    x.querySelectorAll(\".jp-Cell-inputWrapper\").forEach(\n",
       "        (y)=>{\n",
       "            y.setAttribute(\"role\", \"group\");\n",
       "            var label = prompt.textContent.slice(1, -2).trim();\n",
       "            if (CODE){\n",
       "                if (label.length){\n",
       "                    y.setAttribute(\"aria-label\", `In ${label}`);\n",
       "                } else {\n",
       "                    y.setAttribute(\"aria-label\", `New Code Input`);\n",
       "                }\n",
       "            } else if (MD){\n",
       "                y.setAttribute(\"aria-label\", `Markdown Input`);\n",
       "            } else {\n",
       "                y.setAttribute(\"aria-label\", `Input`);\n",
       "            }\n",
       "        }\n",
       "    );\n",
       "    // make the cell toolbar an APG styled toolbar. this is the most cursory modification.\n",
       "    x.querySelectorAll(\".jp-cell-toolbar\").forEach(\n",
       "        (y)=>{\n",
       "            // https://www.w3.org/WAI/ARIA/apg/patterns/toolbar/examples/toolbar/\n",
       "            y.setAttribute(\"role\", \"toolbar\");\n",
       "            y.setAttribute(\"aria-label\", `Cell ${i+1} Toolbar`);\n",
       "            y.setAttribute(\"aria-controls\", `cell-input-${i}`);\n",
       "        }\n",
       "    )\n",
       "});\n"
      ],
      "text/plain": [
       "<IPython.core.display.Javascript object>"
      ]
     },
     "metadata": {},
     "output_type": "display_data"
    }
   ],
   "source": [
    "    %%javascript\n",
    "    var cells = document.querySelectorAll(\".jp-Cell\");\n",
    "    cells.forEach((x,i) =>{\n",
    "        var MD = x.className.includes(\"jp-MarkdownCell\");\n",
    "        var CODE = x.className.includes(\"jp-CodeCell\");\n",
    "\n",
    "        // code, markdown, raw cells need different groupings.\n",
    "        x.querySelectorAll(\".jp-Cell-inputWrapper\").forEach(\n",
    "            (y)=>{\n",
    "                y.setAttribute(\"role\", \"group\");\n",
    "                var label = prompt.textContent.slice(1, -2).trim();\n",
    "                if (CODE){\n",
    "                    if (label.length){\n",
    "                        y.setAttribute(\"aria-label\", `In ${label}`);\n",
    "                    } else {\n",
    "                        y.setAttribute(\"aria-label\", `New Code Input`);\n",
    "                    }\n",
    "                } else if (MD){\n",
    "                    y.setAttribute(\"aria-label\", `Markdown Input`);\n",
    "                } else {\n",
    "                    y.setAttribute(\"aria-label\", `Input`);\n",
    "                }\n",
    "            }\n",
    "        );\n",
    "        // make the cell toolbar an APG styled toolbar. this is the most cursory modification.\n",
    "        x.querySelectorAll(\".jp-cell-toolbar\").forEach(\n",
    "            (y)=>{\n",
    "                // https://www.w3.org/WAI/ARIA/apg/patterns/toolbar/examples/toolbar/\n",
    "                y.setAttribute(\"role\", \"toolbar\");\n",
    "                y.setAttribute(\"aria-label\", `Cell ${i+1} Toolbar`);\n",
    "                y.setAttribute(\"aria-controls\", `cell-input-${i}`);\n",
    "            }\n",
    "        )\n",
    "    });"
   ]
  },
  {
   "cell_type": "markdown",
   "id": "df720eb6-f9ea-4a05-93ef-d224d1396536",
   "metadata": {},
   "source": [
    "### output area fixes\n",
    "\n",
    "i am very not confident about the output semantics. my efforts were to understand the rendered cell's landmarks. the output semantics are pure presentation in reading mode, but editting mode is several HCI PhDs.\n",
    "\n",
    "right now, i'm only comfortable calling the outputs a group, this means they may be announced by a screen reader to provide some relative position. on disk, in the notebook format, outputs are a list of structures, as are cells, and it might make the most sense to employ a nested feed pattern. when you start to thinking about async updates then ordering is out the window."
   ]
  },
  {
   "cell_type": "code",
   "execution_count": 10,
   "id": "6ac4fc65-cd26-4a51-b50e-bc7304c1db63",
   "metadata": {},
   "outputs": [
    {
     "data": {
      "application/javascript": [
       "var cells = document.querySelectorAll(\".jp-Cell\");\n",
       "cells.forEach((x,i) =>{\n",
       "    x.querySelectorAll(\".jp-Cell-outputWrapper\").forEach(\n",
       "        (y)=>{\n",
       "            // this will only be encountered on code cells.\n",
       "            // i have no invested significant time into the semantics of the outputs\n",
       "            // group is a fine semantic, but it is non specific.\n",
       "            // increasingly i feel like the output is nested feed because it \n",
       "            // would allow outputs to be indexed. need more testing.\n",
       "            y.setAttribute(\"role\", \"group\");\n",
       "            var label = prompt.textContent.slice(1, -2).trim();\n",
       "            if (label.length){\n",
       "                y.setAttribute(\"aria-label\", `Output ${label}`);\n",
       "            } else {\n",
       "                // no need to worry about the output label when there is not execution\n",
       "                // aria hidden might be appropriate without testing on a screen reader.\n",
       "            };\n",
       "        }\n",
       "    );\n",
       "    x.querySelectorAll(\".jp-OutputCollapser\").forEach(\n",
       "        (y)=>{\n",
       "            // the collapser button has no semantics or visible label.\n",
       "            // this feature is not accessible, but should because for folks using screen magnification.\n",
       "        }\n",
       "    )\n",
       "});\n"
      ],
      "text/plain": [
       "<IPython.core.display.Javascript object>"
      ]
     },
     "metadata": {},
     "output_type": "display_data"
    }
   ],
   "source": [
    "    %%javascript\n",
    "    var cells = document.querySelectorAll(\".jp-Cell\");\n",
    "    cells.forEach((x,i) =>{\n",
    "        x.querySelectorAll(\".jp-Cell-outputWrapper\").forEach(\n",
    "            (y)=>{\n",
    "                // this will only be encountered on code cells.\n",
    "                // i have no invested significant time into the semantics of the outputs\n",
    "                // group is a fine semantic, but it is non specific.\n",
    "                // increasingly i feel like the output is nested feed because it \n",
    "                // would allow outputs to be indexed. need more testing.\n",
    "                y.setAttribute(\"role\", \"group\");\n",
    "                var label = prompt.textContent.slice(1, -2).trim();\n",
    "                if (label.length){\n",
    "                    y.setAttribute(\"aria-label\", `Output ${label}`);\n",
    "                } else {\n",
    "                    // no need to worry about the output label when there is not execution\n",
    "                    // aria hidden might be appropriate without testing on a screen reader.\n",
    "                };\n",
    "            }\n",
    "        );\n",
    "        x.querySelectorAll(\".jp-OutputCollapser\").forEach(\n",
    "            (y)=>{\n",
    "                // the collapser button has no semantics or visible label.\n",
    "                // this feature is not accessible, but should because for folks using screen magnification.\n",
    "            }\n",
    "        )\n",
    "    });"
   ]
  },
  {
   "cell_type": "markdown",
   "id": "52aa696f-26ab-4f8f-accf-edc3186495ea",
   "metadata": {},
   "source": [
    "## conclusion\n",
    "\n",
    "* the output area is where the research stops. it is less though out than the others. announcements are part of the equation too for the proper assistive experience.\n",
    "* there are significant follow up work to improve the whole experience."
   ]
  },
  {
   "cell_type": "code",
   "execution_count": null,
   "id": "d17eb89a-2e8d-4ed8-81e3-d34a0b964e69",
   "metadata": {},
   "outputs": [],
   "source": []
  }
 ],
 "metadata": {
  "kernelspec": {
   "display_name": "Python 3 (ipykernel)",
   "language": "python",
   "name": "python3"
  },
  "language_info": {
   "codemirror_mode": {
    "name": "ipython",
    "version": 3
   },
   "file_extension": ".py",
   "mimetype": "text/x-python",
   "name": "python",
   "nbconvert_exporter": "python",
   "pygments_lexer": "ipython3",
   "version": "3.11.3"
  }
 },
 "nbformat": 4,
 "nbformat_minor": 5
}
