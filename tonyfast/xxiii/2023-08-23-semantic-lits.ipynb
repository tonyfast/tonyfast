{
 "cells": [
  {
   "cell_type": "markdown",
   "id": "c1245624-e47a-4872-b6fe-9b497ea2a273",
   "metadata": {},
   "source": [
    "# semantically meaningful lists\n",
    "\n",
    "lists, sequences, matrices are a life blood of interactive computing.\n",
    "in this document we explore improving the representation of lists in computational literature.\n",
    "as we encode semantics in list representations, we'll discover inequities for both assistive technology users and abled users using the archaic python representations as a reference for rich web representations. ultimately, the html experience can be better for everyone."
   ]
  },
  {
   "cell_type": "code",
   "execution_count": 1,
   "id": "df962596-e135-433f-bdc8-f5d80933d976",
   "metadata": {},
   "outputs": [
    {
     "data": {
      "text/markdown": [
       "<div hidden>\n",
       "\n",
       "\n",
       "%reload_ext pidgy\n",
       "\n",
       "</div>"
      ],
      "text/plain": [
       "<IPython.core.display.Markdown object>"
      ]
     },
     "metadata": {},
     "output_type": "display_data"
    }
   ],
   "source": [
    "\n",
    "%reload_ext pidgy"
   ]
  },
  {
   "cell_type": "code",
   "execution_count": 2,
   "id": "81b6dee0-ab8e-40d0-af08-02b6545de0d2",
   "metadata": {},
   "outputs": [
    {
     "data": {
      "text/markdown": [
       "## a short list\n",
       "\n",
       "consider a short list of integers called <var>abc</var>.\n",
       "\n",
       "    abc = [1, 2, 3]\n",
       "\n",
       "currently, the output from that python produces for terminal applications is provided in a `pre`.\n",
       "\n",
       "```html\n",
       "<pre>[1, 2, 3]</pre>\n",
       "```\n",
       "\n",
       "this representation destroys the rich structure of a list, and \n",
       "no one (eg assistive tech users, crawlers) wins when the semantic structure of objects is destroyed.\n",
       "it would be best to represent the `list` is an `ol` which means ordered list.\n",
       "assistive tech users benefit from proper semantics. \n",
       "most screen readers have easy navigation for lists and announce the size of the element.\n",
       "in fact, list length might not be apparent to a sighted user while it is made more clear to assistive tech.\n",
       "\n",
       "the destructive nature of the pre-formatted representations is an artifact of mapping interactive computing into the browser.\n",
       "extending interactive computing to the browser offers new degrees of freedom that maintain the semantic structure \n",
       "of display objects."
      ],
      "text/plain": [
       "<IPython.core.display.Markdown object>"
      ]
     },
     "metadata": {},
     "output_type": "display_data"
    }
   ],
   "source": [
    "## a short list\n",
    "\n",
    "consider a short list of integers called <var>abc</var>.\n",
    "\n",
    "    abc = [1, 2, 3]\n",
    "\n",
    "currently, the output from that python produces for terminal applications is provided in a `pre`.\n",
    "\n",
    "```html\n",
    "<pre>{{shell.display_formatter.format([1,2,3])[0][\"text/plain\"]}}</pre>\n",
    "```\n",
    "\n",
    "this representation destroys the rich structure of a list, and \n",
    "no one (eg assistive tech users, crawlers) wins when the semantic structure of objects is destroyed.\n",
    "it would be best to represent the `list` is an `ol` which means ordered list.\n",
    "assistive tech users benefit from proper semantics. \n",
    "most screen readers have easy navigation for lists and announce the size of the element.\n",
    "in fact, list length might not be apparent to a sighted user while it is made more clear to assistive tech.\n",
    "\n",
    "the destructive nature of the pre-formatted representations is an artifact of mapping interactive computing into the browser.\n",
    "extending interactive computing to the browser offers new degrees of freedom that maintain the semantic structure \n",
    "of display objects."
   ]
  },
  {
   "cell_type": "code",
   "execution_count": 3,
   "id": "1f8f3c1f-b41e-4083-ba20-77cfeed1149d",
   "metadata": {},
   "outputs": [
    {
     "data": {
      "text/markdown": [
       "## a semantic ordered list \n",
       "\n",
       "\n",
       "\n",
       "<figure>\n",
       "<ol id=abc-simple><li>1</li><li>2</li><li>3</li></ol>\n",
       "\n",
       "<figcaption>\n",
       "<figure>\n",
       "\n",
       "```html\n",
       "\n",
       "<ol id=abc-simple><li>1</li><li>2</li><li>3</li></ol>\n",
       "\n",
       "```\n",
       "<figcaption>\n",
       "html for the ordered list representation\n",
       "</figcaption>\n",
       "</figure>\n",
       "</figcaption>\n",
       "</figure>\n",
       "\n",
       "in this representation, the ordered list structure is maintained \n",
       "and screen readers will announce the list and its length.\n",
       "light css can be added to capture the visual structure of the python pre-cursor.\n",
       "in this representation, the list is implicitly associated with the variable <var>abc</abc>\n",
       "without any visual or audible relationships."
      ],
      "text/plain": [
       "<IPython.core.display.Markdown object>"
      ]
     },
     "metadata": {},
     "output_type": "display_data"
    }
   ],
   "source": [
    "## a semantic ordered list \n",
    "\n",
    "{% set _ %}\n",
    "<ol id=abc-simple>{% for i in range(1, 4) -%}\n",
    "    <li>{{i}}</li>{% endfor -%}\n",
    "</ol>\n",
    "{% endset %}\n",
    "\n",
    "<figure>{{_}}\n",
    "<figcaption>\n",
    "<figure>\n",
    "\n",
    "```html\n",
    "{{_}}\n",
    "```\n",
    "<figcaption>\n",
    "html for the ordered list representation\n",
    "</figcaption>\n",
    "</figure>\n",
    "</figcaption>\n",
    "</figure>\n",
    "\n",
    "in this representation, the ordered list structure is maintained \n",
    "and screen readers will announce the list and its length.\n",
    "light css can be added to capture the visual structure of the python pre-cursor.\n",
    "in this representation, the list is implicitly associated with the variable <var>abc</abc>\n",
    "without any visual or audible relationships."
   ]
  },
  {
   "cell_type": "code",
   "execution_count": 4,
   "id": "88f99e8f-1746-42a3-b99f-d2addc9c7dbe",
   "metadata": {},
   "outputs": [
    {
     "data": {
      "text/markdown": [
       "### css to style lists to look like python output\n",
       "\n",
       "\n",
       "the style changes below bring visual parity to standard python representation.\n",
       "    \n",
       "\n",
       "\n",
       "```css\n",
       "\n",
       "ol {\n",
       "    list-style-type: none; \n",
       "    font-family: monospace;\n",
       "    li {display: inline;}\n",
       "}\n",
       "ol[id^=abc-] {\n",
       "    li:first-of-type:before {content: \"[\";}\n",
       "    li:last-of-type:after {content: \"]\";}\n",
       "    li + li:before {content: \",\";}\n",
       "}\n",
       "\n",
       "```\n",
       "\n",
       "<style>\n",
       "ol {\n",
       "    list-style-type: none; \n",
       "    font-family: monospace;\n",
       "    li {display: inline;}\n",
       "}\n",
       "ol[id^=abc-] {\n",
       "    li:first-of-type:before {content: \"[\";}\n",
       "    li:last-of-type:after {content: \"]\";}\n",
       "    li + li:before {content: \",\";}\n",
       "}\n",
       "</style>\n",
       "\n",
       "unfortunately, the `content` attributes of the screen reader will be reader \n",
       "and that will create a lot of noise. it would be best to explicitly add these glyphs and hide them from the screen reader."
      ],
      "text/plain": [
       "<IPython.core.display.Markdown object>"
      ]
     },
     "metadata": {},
     "output_type": "display_data"
    }
   ],
   "source": [
    "### css to style lists to look like python output\n",
    "\n",
    "\n",
    "the style changes below bring visual parity to standard python representation.\n",
    "    \n",
    "{% set _ %}\n",
    "ol {\n",
    "    list-style-type: none; \n",
    "    font-family: monospace;\n",
    "    li {display: inline;}\n",
    "}\n",
    "ol[id^=abc-] {\n",
    "    li:first-of-type:before {content: \"[\";}\n",
    "    li:last-of-type:after {content: \"]\";}\n",
    "    li + li:before {content: \",\";}\n",
    "}\n",
    "{% endset %}\n",
    "\n",
    "```css\n",
    "{{_}}\n",
    "```\n",
    "\n",
    "<style>{{_}}</style>\n",
    "\n",
    "unfortunately, the `content` attributes of the screen reader will be reader \n",
    "and that will create a lot of noise. it would be best to explicitly add these glyphs and hide them from the screen reader."
   ]
  },
  {
   "cell_type": "code",
   "execution_count": 5,
   "id": "1460ef8e-5fed-4a56-92cf-49b9ba38f57b",
   "metadata": {},
   "outputs": [
    {
     "data": {
      "text/markdown": [
       "## a semantic ordered list \n",
       "\n",
       "https://developer.mozilla.org/en-US/docs/Web/HTML/Element/ol#attributes\n",
       "\n",
       "https://developer.mozilla.org/en-US/docs/Web/Accessibility/ARIA/Attributes/aria-posinset\n",
       "https://developer.mozilla.org/en-US/docs/Web/Accessibility/ARIA/Attributes/aria-setsize\n",
       "\n",
       "\n",
       "\n",
       "\n",
       "\n",
       "<section>\n",
       "<label id=label-abc-short><var>abc</var></label>\n",
       "<ol start reversed type aria-labelledby=label-abc-short id=abc><li value=1 aria-posinset=1 aria-setsize=3>\n",
       "        <span aria-hidden=true>[</span>1<span aria-hidden=true>,</span>\n",
       "    </li><li value=2 aria-posinset=2 aria-setsize=3>\n",
       "        2<span aria-hidden=true>,</span>\n",
       "    </li><li value=3 aria-posinset=3 aria-setsize=3>\n",
       "        3<span aria-hidden=true>]</span>\n",
       "    </li>\n",
       "</ol>\n",
       "</section>\n",
       "\n",
       "\n",
       "```html\n",
       "\n",
       "<section>\n",
       "<label id=label-abc-short><var>abc</var></label>\n",
       "<ol start reversed type aria-labelledby=label-abc-short id=abc><li value=1 aria-posinset=1 aria-setsize=3>\n",
       "        <span aria-hidden=true>[</span>1<span aria-hidden=true>,</span>\n",
       "    </li><li value=2 aria-posinset=2 aria-setsize=3>\n",
       "        2<span aria-hidden=true>,</span>\n",
       "    </li><li value=3 aria-posinset=3 aria-setsize=3>\n",
       "        3<span aria-hidden=true>]</span>\n",
       "    </li>\n",
       "</ol>\n",
       "</section>\n",
       "\n",
       "```\n",
       "\n",
       "some motivations for the design are listed below:\n",
       "\n",
       "* an `ol` is not labellable so the `for` attribute on the `label` doesn't apply. [lists can have titles](https://www.scottohara.me/blog/2020/05/02/labelled-lists.html), and they can be used _situationally_\n",
       "`aria-labelledby` associates the label with the list.\n",
       "\n",
       "    matrices, lists, sequences, tensors are comminly represented in notebook documents.\n",
       "     a lot of ambiguity can arise on a page for screen reader users when the lists are unlabeled.\n",
       "   \n",
       "* the label for the screen reader should be exposed to all users and hidden with a toggle. the standard representation relies on an sighted users to connect the output displays with the source code.\n",
       "* it is common to shorten long lists, the `aria-setsize` and `aria-posinset` attributes let us capture these semantics.\n",
       "* punctuation that recaptures that python representation is hidden from screen readers.\n",
       "* [WHATWG `ol`](https://html.spec.whatwg.org/#the-ol-element) permits `reversed` `type` and `start`.\n",
       "* [ARIA `role=listitem`]() permits `aria-setsize` `aria-posinset`\n",
       "\n",
       "some challenges still exist in our representation of this short list.\n",
       "    \n",
       "* sighted users can't easy discover the length of a long list.\n",
       "* structure is lost because we don't the type of items. is `a` an integer, float, or string?"
      ],
      "text/plain": [
       "<IPython.core.display.Markdown object>"
      ]
     },
     "metadata": {},
     "output_type": "display_data"
    }
   ],
   "source": [
    "## a semantic ordered list \n",
    "\n",
    "https://developer.mozilla.org/en-US/docs/Web/HTML/Element/ol#attributes\n",
    "\n",
    "https://developer.mozilla.org/en-US/docs/Web/Accessibility/ARIA/Attributes/aria-posinset\n",
    "https://developer.mozilla.org/en-US/docs/Web/Accessibility/ARIA/Attributes/aria-setsize\n",
    "\n",
    "{% set l = 3 %}\n",
    "{% set _ %}\n",
    "<section>\n",
    "<label id=label-abc-short><var>abc</var></label>\n",
    "<ol start reversed type aria-labelledby=label-abc-short id=abc>{% for i in range(1, 4) -%}\n",
    "    <li value={{loop.index}} aria-posinset={{loop.index}} aria-setsize={{l}}>\n",
    "        {% if loop.first -%}<span aria-hidden=true>[</span>{%- endif -%}{{i}}<span aria-hidden=true>{{\",]\"[loop.last]}}</span>\n",
    "    </li>{% endfor %}\n",
    "</ol>\n",
    "</section>\n",
    "{% endset %}\n",
    "\n",
    "{{_}}\n",
    "\n",
    "```html\n",
    "{{_}}\n",
    "```\n",
    "\n",
    "some motivations for the design are listed below:\n",
    "\n",
    "* an `ol` is not labellable so the `for` attribute on the `label` doesn't apply. [lists can have titles](https://www.scottohara.me/blog/2020/05/02/labelled-lists.html), and they can be used _situationally_\n",
    "`aria-labelledby` associates the label with the list.\n",
    "\n",
    "    matrices, lists, sequences, tensors are comminly represented in notebook documents.\n",
    "     a lot of ambiguity can arise on a page for screen reader users when the lists are unlabeled.\n",
    "   \n",
    "* the label for the screen reader should be exposed to all users and hidden with a toggle. the standard representation relies on an sighted users to connect the output displays with the source code.\n",
    "* it is common to shorten long lists, the `aria-setsize` and `aria-posinset` attributes let us capture these semantics.\n",
    "* punctuation that recaptures that python representation is hidden from screen readers.\n",
    "* [WHATWG `ol`](https://html.spec.whatwg.org/#the-ol-element) permits `reversed` `type` and `start`.\n",
    "* [ARIA `role=listitem`]() permits `aria-setsize` `aria-posinset`\n",
    "\n",
    "some challenges still exist in our representation of this short list.\n",
    "    \n",
    "* sighted users can't easy discover the length of a long list.\n",
    "* structure is lost because we don't the type of items. is `a` an integer, float, or string?"
   ]
  },
  {
   "cell_type": "code",
   "execution_count": 6,
   "id": "d7ee3cbd-4e7a-49bb-89f3-59babf98501e",
   "metadata": {},
   "outputs": [
    {
     "data": {
      "text/markdown": [
       "## enriched labelling\n",
       "\n",
       "\n",
       "\n",
       "<figure>\n",
       "<label id=label-abc>\n",
       "<label ><var>abc</var></label>\n",
       "<label aria-label=\"of type\">:</label><output id=type-abc><code>list</code></output>\n",
       "<span aria-hidden=true>of</span> <label aria-hidden=true>length</label> <output aria-hidden=true>3</output>\n",
       "</label>\n",
       "\n",
       "<figcaption>\n",
       "<figure>\n",
       "\n",
       "```html\n",
       "\n",
       "<label id=label-abc>\n",
       "<label ><var>abc</var></label>\n",
       "<label aria-label=\"of type\">:</label><output id=type-abc><code>list</code></output>\n",
       "<span aria-hidden=true>of</span> <label aria-hidden=true>length</label> <output aria-hidden=true>3</output>\n",
       "</label>\n",
       "\n",
       "```\n",
       "<figcaption>\n",
       "html for the ordered list representation\n",
       "</figcaption>\n",
       "</figure>\n",
       "</figcaption>\n",
       "</figure>\n",
       "\n",
       "### type annotations provide further enrichment."
      ],
      "text/plain": [
       "<IPython.core.display.Markdown object>"
      ]
     },
     "metadata": {},
     "output_type": "display_data"
    }
   ],
   "source": [
    "## enriched labelling\n",
    "\n",
    "{% set _ %}\n",
    "<label id=label-abc>\n",
    "<label ><var>abc</var></label>\n",
    "<label aria-label=\"of type\">:</label><output id=type-abc><code>{{[].__class__.__name__}}</code></output>\n",
    "<span aria-hidden=true>of</span> <label aria-hidden=true>length</label> <output aria-hidden=true>3</output>\n",
    "</label>\n",
    "{% endset %}\n",
    "\n",
    "<figure>{{_}}\n",
    "<figcaption>\n",
    "<figure>\n",
    "\n",
    "```html\n",
    "{{_}}\n",
    "```\n",
    "<figcaption>\n",
    "html for the ordered list representation\n",
    "</figcaption>\n",
    "</figure>\n",
    "</figcaption>\n",
    "</figure>\n",
    "\n",
    "### type annotations provide further enrichment."
   ]
  },
  {
   "cell_type": "code",
   "execution_count": 7,
   "id": "91c05450-e862-4f75-9881-1a6393ea3c91",
   "metadata": {},
   "outputs": [
    {
     "data": {
      "text/markdown": [
       "\n",
       "\n",
       "<figure>\n",
       "\n",
       "<label id=label-abc-long>\n",
       "<label ><var>abc</var></label>\n",
       "<label aria-label=\"of type\">:</label><code>list</code>\n",
       "<span aria-hidden=true>of</span> <label aria-hidden=true>length</label> <output aria-hidden=true>3</output>\n",
       "</label>\n",
       "\n",
       "<ol aria-labelledby=label-abc-long id=abc><li>\n",
       "        <span aria-hidden=true>[</span>1<span aria-hidden=true>,</span>\n",
       "    </li><li>\n",
       "        2<span aria-hidden=true>,</span>\n",
       "    </li><li>\n",
       "        3<span aria-hidden=true>]</span>\n",
       "    </li></ol>\n",
       "<span></span>\n",
       "\n",
       "<figcaption>\n",
       "<figure>\n",
       "\n",
       "```html\n",
       "\n",
       "\n",
       "<label id=label-abc-long>\n",
       "<label ><var>abc</var></label>\n",
       "<label aria-label=\"of type\">:</label><code>list</code>\n",
       "<span aria-hidden=true>of</span> <label aria-hidden=true>length</label> <output aria-hidden=true>3</output>\n",
       "</label>\n",
       "\n",
       "<ol aria-labelledby=label-abc-long id=abc><li>\n",
       "        <span aria-hidden=true>[</span>1<span aria-hidden=true>,</span>\n",
       "    </li><li>\n",
       "        2<span aria-hidden=true>,</span>\n",
       "    </li><li>\n",
       "        3<span aria-hidden=true>]</span>\n",
       "    </li></ol>\n",
       "<span></span>\n",
       "\n",
       "```\n",
       "<figcaption>\n",
       "html for the ordered list representation\n",
       "</figcaption>\n",
       "</figure>\n",
       "</figcaption>\n",
       "</figure>"
      ],
      "text/plain": [
       "<IPython.core.display.Markdown object>"
      ]
     },
     "metadata": {},
     "output_type": "display_data"
    }
   ],
   "source": [
    "{% set _ %}\n",
    "\n",
    "<label id=label-abc-long>\n",
    "<label ><var>abc</var></label>\n",
    "<label aria-label=\"of type\">:</label><code>{{[].__class__.__name__}}</code>\n",
    "<span aria-hidden=true>of</span> <label aria-hidden=true>length</label> <output aria-hidden=true>3</output>\n",
    "</label>\n",
    "\n",
    "<ol aria-labelledby=label-abc-long id=abc>{% for i in range(1, 4) -%}\n",
    "    <li>\n",
    "        {% if loop.first -%}<span aria-hidden=true>[</span>{%- endif -%}\n",
    "        {{i}}<span aria-hidden=true>{{\",]\"[loop.last]}}</span>\n",
    "    </li>{% endfor -%}\n",
    "</ol>\n",
    "<span></span>\n",
    "{% endset %}\n",
    "\n",
    "<figure>{{_}}\n",
    "<figcaption>\n",
    "<figure>\n",
    "\n",
    "```html\n",
    "{{_}}\n",
    "```\n",
    "<figcaption>\n",
    "html for the ordered list representation\n",
    "</figcaption>\n",
    "</figure>\n",
    "</figcaption>\n",
    "</figure>"
   ]
  }
 ],
 "metadata": {
  "kernelspec": {
   "display_name": "base",
   "language": "python",
   "name": "base"
  },
  "language_info": {
   "codemirror_mode": {
    "name": "ipython",
    "version": 3
   },
   "file_extension": ".py",
   "mimetype": "text/x-python",
   "name": "python",
   "nbconvert_exporter": "python",
   "pygments_lexer": "ipython3",
   "version": "3.10.9"
  },
  "widgets": {
   "application/vnd.jupyter.widget-state+json": {
    "state": {},
    "version_major": 2,
    "version_minor": 0
   }
  }
 },
 "nbformat": 4,
 "nbformat_minor": 5
}
