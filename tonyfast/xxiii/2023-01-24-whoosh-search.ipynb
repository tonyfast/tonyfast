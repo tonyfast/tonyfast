{
 "cells": [
  {
   "cell_type": "markdown",
   "id": "7be13d0c-28ce-4b47-9c6c-798f3378557d",
   "metadata": {},
   "source": [
    "# use `whoosh` to search cells/articles on disk"
   ]
  },
  {
   "cell_type": "markdown",
   "id": "f457c955-db22-4567-b2d0-a1cf0e0eed07",
   "metadata": {},
   "source": [
    "https://whoosh.readthedocs.io/en/latest/\n",
    "\n",
    "    !pip install  whoosh"
   ]
  },
  {
   "cell_type": "code",
   "execution_count": 1,
   "id": "b1f49395-b6c5-4544-a9c2-6fc4373fb7e8",
   "metadata": {
    "execution": {
     "iopub.execute_input": "2023-01-25T02:23:35.068198Z",
     "iopub.status.busy": "2023-01-25T02:23:35.068077Z",
     "iopub.status.idle": "2023-01-25T02:23:35.093483Z",
     "shell.execute_reply": "2023-01-25T02:23:35.093125Z",
     "shell.execute_reply.started": "2023-01-25T02:23:35.068165Z"
    },
    "tags": []
   },
   "outputs": [],
   "source": [
    "    import whoosh.fields, whoosh.index, whoosh.qparser, whoosh.writing\n",
    "    import pathlib, shutil"
   ]
  },
  {
   "cell_type": "code",
   "execution_count": 2,
   "id": "8fd81b1f-f82e-4ac0-9a05-9035a0556b68",
   "metadata": {
    "execution": {
     "iopub.execute_input": "2023-01-25T02:23:35.094280Z",
     "iopub.status.busy": "2023-01-25T02:23:35.094185Z",
     "iopub.status.idle": "2023-01-25T02:23:36.405529Z",
     "shell.execute_reply": "2023-01-25T02:23:36.405214Z",
     "shell.execute_reply.started": "2023-01-25T02:23:35.094265Z"
    },
    "tags": []
   },
   "outputs": [],
   "source": [
    "    from tonyfast import nbframe\n",
    "    __import__(\"nest_asyncio\").apply()\n",
    "    self = nbframe.Documents(nbframe.Finder(dir=\"..\")).load()    "
   ]
  },
  {
   "cell_type": "markdown",
   "id": "5acc22bd-4491-4d33-ba28-726938c68c73",
   "metadata": {},
   "source": [
    "## initialize the search index"
   ]
  },
  {
   "cell_type": "code",
   "execution_count": 3,
   "id": "ebbb4995-45f8-4a0e-a4e8-fae2aa7717b4",
   "metadata": {
    "execution": {
     "iopub.execute_input": "2023-01-25T02:23:36.406185Z",
     "iopub.status.busy": "2023-01-25T02:23:36.406033Z",
     "iopub.status.idle": "2023-01-25T02:23:36.409957Z",
     "shell.execute_reply": "2023-01-25T02:23:36.409622Z",
     "shell.execute_reply.started": "2023-01-25T02:23:36.406168Z"
    },
    "tags": []
   },
   "outputs": [],
   "source": [
    "    INDEX = pathlib.Path(\"search_index\")\n",
    "    INDEX.mkdir(exist_ok=True)\n",
    "\n",
    "    whoosh.index.create_in(INDEX, schema := whoosh.fields.Schema(source=whoosh.fields.TEXT, path=whoosh.fields.ID(stored=True)))\n",
    "    index=whoosh.index.open_dir(INDEX)"
   ]
  },
  {
   "cell_type": "code",
   "execution_count": 4,
   "id": "f72c5d22-8359-4f22-866c-bdf732a4aae6",
   "metadata": {
    "execution": {
     "iopub.execute_input": "2023-01-25T02:23:36.410758Z",
     "iopub.status.busy": "2023-01-25T02:23:36.410526Z",
     "iopub.status.idle": "2023-01-25T02:23:36.871721Z",
     "shell.execute_reply": "2023-01-25T02:23:36.871399Z",
     "shell.execute_reply.started": "2023-01-25T02:23:36.410738Z"
    },
    "tags": []
   },
   "outputs": [],
   "source": [
    "    from tonyfast import nbframe\n",
    "    self = nbframe.Documents(nbframe.Finder(dir=\"..\")).load()    "
   ]
  },
  {
   "cell_type": "markdown",
   "id": "27657f18-23f8-40d5-a562-07493ac165dd",
   "metadata": {},
   "source": [
    "`self.articles` is a dataframe containing notebooks and files cast to the notebook schema. the dask and dataframes are shown below."
   ]
  },
  {
   "cell_type": "code",
   "execution_count": 5,
   "id": "acdb0138-b1ec-4614-a200-dcba1a94c66f",
   "metadata": {
    "execution": {
     "iopub.execute_input": "2023-01-25T02:23:36.872419Z",
     "iopub.status.busy": "2023-01-25T02:23:36.872279Z",
     "iopub.status.idle": "2023-01-25T02:23:36.898316Z",
     "shell.execute_reply": "2023-01-25T02:23:36.897872Z",
     "shell.execute_reply.started": "2023-01-25T02:23:36.872403Z"
    },
    "tags": []
   },
   "outputs": [
    {
     "data": {
      "text/html": [
       "<div><strong>Dask DataFrame Structure:</strong></div>\n",
       "<div>\n",
       "<style scoped>\n",
       "    .dataframe tbody tr th:only-of-type {\n",
       "        vertical-align: middle;\n",
       "    }\n",
       "\n",
       "    .dataframe tbody tr th {\n",
       "        vertical-align: top;\n",
       "    }\n",
       "\n",
       "    .dataframe thead th {\n",
       "        text-align: right;\n",
       "    }\n",
       "</style>\n",
       "<table border=\"1\" class=\"dataframe\">\n",
       "  <thead>\n",
       "    <tr style=\"text-align: right;\">\n",
       "      <th></th>\n",
       "      <th>cell_type</th>\n",
       "      <th>execution_count</th>\n",
       "      <th>id</th>\n",
       "      <th>metadata</th>\n",
       "      <th>outputs</th>\n",
       "      <th>source</th>\n",
       "      <th>cell_ct</th>\n",
       "      <th>attachments</th>\n",
       "    </tr>\n",
       "    <tr>\n",
       "      <th>npartitions=85</th>\n",
       "      <th></th>\n",
       "      <th></th>\n",
       "      <th></th>\n",
       "      <th></th>\n",
       "      <th></th>\n",
       "      <th></th>\n",
       "      <th></th>\n",
       "      <th></th>\n",
       "    </tr>\n",
       "  </thead>\n",
       "  <tbody>\n",
       "    <tr>\n",
       "      <th>../2023-01-19-.ipynb</th>\n",
       "      <td>object</td>\n",
       "      <td>int64</td>\n",
       "      <td>object</td>\n",
       "      <td>object</td>\n",
       "      <td>object</td>\n",
       "      <td>object</td>\n",
       "      <td>int64</td>\n",
       "      <td>object</td>\n",
       "    </tr>\n",
       "    <tr>\n",
       "      <th>../2023-01-19-pidgy-afforndances.ipynb</th>\n",
       "      <td>...</td>\n",
       "      <td>...</td>\n",
       "      <td>...</td>\n",
       "      <td>...</td>\n",
       "      <td>...</td>\n",
       "      <td>...</td>\n",
       "      <td>...</td>\n",
       "      <td>...</td>\n",
       "    </tr>\n",
       "    <tr>\n",
       "      <th>...</th>\n",
       "      <td>...</td>\n",
       "      <td>...</td>\n",
       "      <td>...</td>\n",
       "      <td>...</td>\n",
       "      <td>...</td>\n",
       "      <td>...</td>\n",
       "      <td>...</td>\n",
       "      <td>...</td>\n",
       "    </tr>\n",
       "    <tr>\n",
       "      <th>../xxiii/vendor/tree-sitter-python/test/highlight/pattern_matching.py</th>\n",
       "      <td>...</td>\n",
       "      <td>...</td>\n",
       "      <td>...</td>\n",
       "      <td>...</td>\n",
       "      <td>...</td>\n",
       "      <td>...</td>\n",
       "      <td>...</td>\n",
       "      <td>...</td>\n",
       "    </tr>\n",
       "    <tr>\n",
       "      <th>../xxiii/what.md</th>\n",
       "      <td>...</td>\n",
       "      <td>...</td>\n",
       "      <td>...</td>\n",
       "      <td>...</td>\n",
       "      <td>...</td>\n",
       "      <td>...</td>\n",
       "      <td>...</td>\n",
       "      <td>...</td>\n",
       "    </tr>\n",
       "  </tbody>\n",
       "</table>\n",
       "</div>\n",
       "<div>Dask Name: apply, 1 graph layer</div>"
      ],
      "text/plain": [
       "Dask DataFrame Structure:\n",
       "                                                                      cell_type execution_count      id metadata outputs  source cell_ct attachments\n",
       "npartitions=85                                                                                                                                      \n",
       "../2023-01-19-.ipynb                                                     object           int64  object   object  object  object   int64      object\n",
       "../2023-01-19-pidgy-afforndances.ipynb                                      ...             ...     ...      ...     ...     ...     ...         ...\n",
       "...                                                                         ...             ...     ...      ...     ...     ...     ...         ...\n",
       "../xxiii/vendor/tree-sitter-python/test/highlight/pattern_matching.py       ...             ...     ...      ...     ...     ...     ...         ...\n",
       "../xxiii/what.md                                                            ...             ...     ...      ...     ...     ...     ...         ...\n",
       "Dask Name: apply, 1 graph layer"
      ]
     },
     "metadata": {},
     "output_type": "display_data"
    },
    {
     "data": {
      "text/html": [
       "<div>\n",
       "<style scoped>\n",
       "    .dataframe tbody tr th:only-of-type {\n",
       "        vertical-align: middle;\n",
       "    }\n",
       "\n",
       "    .dataframe tbody tr th {\n",
       "        vertical-align: top;\n",
       "    }\n",
       "\n",
       "    .dataframe thead th {\n",
       "        text-align: right;\n",
       "    }\n",
       "</style>\n",
       "<table border=\"1\" class=\"dataframe\">\n",
       "  <thead>\n",
       "    <tr style=\"text-align: right;\">\n",
       "      <th></th>\n",
       "      <th>cell_type</th>\n",
       "      <th>execution_count</th>\n",
       "      <th>id</th>\n",
       "      <th>metadata</th>\n",
       "      <th>outputs</th>\n",
       "      <th>source</th>\n",
       "      <th>cell_ct</th>\n",
       "      <th>attachments</th>\n",
       "    </tr>\n",
       "    <tr>\n",
       "      <th>path</th>\n",
       "      <th></th>\n",
       "      <th></th>\n",
       "      <th></th>\n",
       "      <th></th>\n",
       "      <th></th>\n",
       "      <th></th>\n",
       "      <th></th>\n",
       "      <th></th>\n",
       "    </tr>\n",
       "  </thead>\n",
       "  <tbody>\n",
       "    <tr>\n",
       "      <th>../2023-01-19-.ipynb</th>\n",
       "      <td>code</td>\n",
       "      <td>None</td>\n",
       "      <td>ad5f3630-daac-4b8b-95b0-22f27ea47af2</td>\n",
       "      <td>{}</td>\n",
       "      <td>[]</td>\n",
       "      <td></td>\n",
       "      <td>0</td>\n",
       "      <td>None</td>\n",
       "    </tr>\n",
       "    <tr>\n",
       "      <th>../2023-01-19-pidgy-afforndances.ipynb</th>\n",
       "      <td>code</td>\n",
       "      <td>1.0</td>\n",
       "      <td>409a2348-866f-4127-a25b-7fc0adcac5fc</td>\n",
       "      <td>{}</td>\n",
       "      <td>[{'ename': 'SyntaxError', 'evalue': 'invalid s...</td>\n",
       "      <td>when i program in `pidgy`\\n\\n* `sys.modules` a...</td>\n",
       "      <td>0</td>\n",
       "      <td>None</td>\n",
       "    </tr>\n",
       "    <tr>\n",
       "      <th>../2023-01-19-pidgy-afforndances.ipynb</th>\n",
       "      <td>code</td>\n",
       "      <td>1.0</td>\n",
       "      <td>45c4aa5d-e53d-4a02-82b2-8f872906ceba</td>\n",
       "      <td>{}</td>\n",
       "      <td>[{'data': {'text/markdown': '    %reload_ext p...</td>\n",
       "      <td>%reload_ext pidgy\\n    from toolz.curried ...</td>\n",
       "      <td>1</td>\n",
       "      <td>None</td>\n",
       "    </tr>\n",
       "    <tr>\n",
       "      <th>../2023-01-19-pidgy-afforndances.ipynb</th>\n",
       "      <td>markdown</td>\n",
       "      <td>NaN</td>\n",
       "      <td>87b3dd7c-3b9a-406d-b39c-547c69a938f7</td>\n",
       "      <td>{}</td>\n",
       "      <td>None</td>\n",
       "      <td>&lt;iframe src=\"http://127.0.0.1:8787/status\"...</td>\n",
       "      <td>2</td>\n",
       "      <td>None</td>\n",
       "    </tr>\n",
       "    <tr>\n",
       "      <th>../2023-01-19-pidgy-afforndances.ipynb</th>\n",
       "      <td>markdown</td>\n",
       "      <td>NaN</td>\n",
       "      <td>d3d234cd-7d46-44b2-b26f-a80e524764ec</td>\n",
       "      <td>{}</td>\n",
       "      <td>None</td>\n",
       "      <td># start the contents finder</td>\n",
       "      <td>3</td>\n",
       "      <td>None</td>\n",
       "    </tr>\n",
       "    <tr>\n",
       "      <th>../2023-01-19-pidgy-afforndances.ipynb</th>\n",
       "      <td>code</td>\n",
       "      <td>1.0</td>\n",
       "      <td>3563e7c1-6f4f-4774-84c9-f2db766238cb</td>\n",
       "      <td>{}</td>\n",
       "      <td>[{'data': {'text/html': '&lt;div&gt;\n",
       "    &lt;div style=...</td>\n",
       "      <td>\\n    %reload_ext pidgy\\n    import nbfram...</td>\n",
       "      <td>4</td>\n",
       "      <td>None</td>\n",
       "    </tr>\n",
       "    <tr>\n",
       "      <th>../2023-01-19-pidgy-afforndances.ipynb</th>\n",
       "      <td>code</td>\n",
       "      <td>11.0</td>\n",
       "      <td>4b4f8e4c-d192-4dd8-818e-b728d4b6673e</td>\n",
       "      <td>{}</td>\n",
       "      <td>[{'data': {'text/html': '&lt;div&gt;\n",
       "&lt;style scoped&gt;\n",
       "...</td>\n",
       "      <td>result</td>\n",
       "      <td>5</td>\n",
       "      <td>None</td>\n",
       "    </tr>\n",
       "    <tr>\n",
       "      <th>../2023-01-19-pidgy-afforndances.ipynb</th>\n",
       "      <td>code</td>\n",
       "      <td>21.0</td>\n",
       "      <td>1fba636a-14c1-4011-8af1-5d54452f7e36</td>\n",
       "      <td>{}</td>\n",
       "      <td>[{'data': {'text/markdown': ' pretty neat that...</td>\n",
       "      <td>{{asyncio.sleep(1) or \"\"}} pretty neat that we...</td>\n",
       "      <td>6</td>\n",
       "      <td>None</td>\n",
       "    </tr>\n",
       "    <tr>\n",
       "      <th>../2023-01-19-pidgy-afforndances.ipynb</th>\n",
       "      <td>code</td>\n",
       "      <td>18.0</td>\n",
       "      <td>efdfc300-da33-40d5-b1ea-8636e8e1a001</td>\n",
       "      <td>{}</td>\n",
       "      <td>[{'data': {'text/markdown': '    docs= 2', 'te...</td>\n",
       "      <td>docs= 2</td>\n",
       "      <td>7</td>\n",
       "      <td>None</td>\n",
       "    </tr>\n",
       "    <tr>\n",
       "      <th>../2023-01-19-pidgy-afforndances.ipynb</th>\n",
       "      <td>markdown</td>\n",
       "      <td>NaN</td>\n",
       "      <td>bad77dd2-294b-4f6a-a520-4ff25be27d41</td>\n",
       "      <td>{}</td>\n",
       "      <td>None</td>\n",
       "      <td>load and persist the data</td>\n",
       "      <td>8</td>\n",
       "      <td>None</td>\n",
       "    </tr>\n",
       "  </tbody>\n",
       "</table>\n",
       "</div>"
      ],
      "text/plain": [
       "                                       cell_type execution_count  \\\n",
       "path                                                               \n",
       "../2023-01-19-.ipynb                        code            None   \n",
       "../2023-01-19-pidgy-afforndances.ipynb      code             1.0   \n",
       "../2023-01-19-pidgy-afforndances.ipynb      code             1.0   \n",
       "../2023-01-19-pidgy-afforndances.ipynb  markdown             NaN   \n",
       "../2023-01-19-pidgy-afforndances.ipynb  markdown             NaN   \n",
       "../2023-01-19-pidgy-afforndances.ipynb      code             1.0   \n",
       "../2023-01-19-pidgy-afforndances.ipynb      code            11.0   \n",
       "../2023-01-19-pidgy-afforndances.ipynb      code            21.0   \n",
       "../2023-01-19-pidgy-afforndances.ipynb      code            18.0   \n",
       "../2023-01-19-pidgy-afforndances.ipynb  markdown             NaN   \n",
       "\n",
       "                                                                          id  \\\n",
       "path                                                                           \n",
       "../2023-01-19-.ipynb                    ad5f3630-daac-4b8b-95b0-22f27ea47af2   \n",
       "../2023-01-19-pidgy-afforndances.ipynb  409a2348-866f-4127-a25b-7fc0adcac5fc   \n",
       "../2023-01-19-pidgy-afforndances.ipynb  45c4aa5d-e53d-4a02-82b2-8f872906ceba   \n",
       "../2023-01-19-pidgy-afforndances.ipynb  87b3dd7c-3b9a-406d-b39c-547c69a938f7   \n",
       "../2023-01-19-pidgy-afforndances.ipynb  d3d234cd-7d46-44b2-b26f-a80e524764ec   \n",
       "../2023-01-19-pidgy-afforndances.ipynb  3563e7c1-6f4f-4774-84c9-f2db766238cb   \n",
       "../2023-01-19-pidgy-afforndances.ipynb  4b4f8e4c-d192-4dd8-818e-b728d4b6673e   \n",
       "../2023-01-19-pidgy-afforndances.ipynb  1fba636a-14c1-4011-8af1-5d54452f7e36   \n",
       "../2023-01-19-pidgy-afforndances.ipynb  efdfc300-da33-40d5-b1ea-8636e8e1a001   \n",
       "../2023-01-19-pidgy-afforndances.ipynb  bad77dd2-294b-4f6a-a520-4ff25be27d41   \n",
       "\n",
       "                                       metadata  \\\n",
       "path                                              \n",
       "../2023-01-19-.ipynb                         {}   \n",
       "../2023-01-19-pidgy-afforndances.ipynb       {}   \n",
       "../2023-01-19-pidgy-afforndances.ipynb       {}   \n",
       "../2023-01-19-pidgy-afforndances.ipynb       {}   \n",
       "../2023-01-19-pidgy-afforndances.ipynb       {}   \n",
       "../2023-01-19-pidgy-afforndances.ipynb       {}   \n",
       "../2023-01-19-pidgy-afforndances.ipynb       {}   \n",
       "../2023-01-19-pidgy-afforndances.ipynb       {}   \n",
       "../2023-01-19-pidgy-afforndances.ipynb       {}   \n",
       "../2023-01-19-pidgy-afforndances.ipynb       {}   \n",
       "\n",
       "                                                                                  outputs  \\\n",
       "path                                                                                        \n",
       "../2023-01-19-.ipynb                                                                   []   \n",
       "../2023-01-19-pidgy-afforndances.ipynb  [{'ename': 'SyntaxError', 'evalue': 'invalid s...   \n",
       "../2023-01-19-pidgy-afforndances.ipynb  [{'data': {'text/markdown': '    %reload_ext p...   \n",
       "../2023-01-19-pidgy-afforndances.ipynb                                               None   \n",
       "../2023-01-19-pidgy-afforndances.ipynb                                               None   \n",
       "../2023-01-19-pidgy-afforndances.ipynb  [{'data': {'text/html': '<div>\n",
       "    <div style=...   \n",
       "../2023-01-19-pidgy-afforndances.ipynb  [{'data': {'text/html': '<div>\n",
       "<style scoped>\n",
       "...   \n",
       "../2023-01-19-pidgy-afforndances.ipynb  [{'data': {'text/markdown': ' pretty neat that...   \n",
       "../2023-01-19-pidgy-afforndances.ipynb  [{'data': {'text/markdown': '    docs= 2', 'te...   \n",
       "../2023-01-19-pidgy-afforndances.ipynb                                               None   \n",
       "\n",
       "                                                                                   source  \\\n",
       "path                                                                                        \n",
       "../2023-01-19-.ipynb                                                                        \n",
       "../2023-01-19-pidgy-afforndances.ipynb  when i program in `pidgy`\\n\\n* `sys.modules` a...   \n",
       "../2023-01-19-pidgy-afforndances.ipynb      %reload_ext pidgy\\n    from toolz.curried ...   \n",
       "../2023-01-19-pidgy-afforndances.ipynb      <iframe src=\"http://127.0.0.1:8787/status\"...   \n",
       "../2023-01-19-pidgy-afforndances.ipynb                        # start the contents finder   \n",
       "../2023-01-19-pidgy-afforndances.ipynb      \\n    %reload_ext pidgy\\n    import nbfram...   \n",
       "../2023-01-19-pidgy-afforndances.ipynb                                             result   \n",
       "../2023-01-19-pidgy-afforndances.ipynb  {{asyncio.sleep(1) or \"\"}} pretty neat that we...   \n",
       "../2023-01-19-pidgy-afforndances.ipynb                                            docs= 2   \n",
       "../2023-01-19-pidgy-afforndances.ipynb                          load and persist the data   \n",
       "\n",
       "                                        cell_ct attachments  \n",
       "path                                                         \n",
       "../2023-01-19-.ipynb                          0        None  \n",
       "../2023-01-19-pidgy-afforndances.ipynb        0        None  \n",
       "../2023-01-19-pidgy-afforndances.ipynb        1        None  \n",
       "../2023-01-19-pidgy-afforndances.ipynb        2        None  \n",
       "../2023-01-19-pidgy-afforndances.ipynb        3        None  \n",
       "../2023-01-19-pidgy-afforndances.ipynb        4        None  \n",
       "../2023-01-19-pidgy-afforndances.ipynb        5        None  \n",
       "../2023-01-19-pidgy-afforndances.ipynb        6        None  \n",
       "../2023-01-19-pidgy-afforndances.ipynb        7        None  \n",
       "../2023-01-19-pidgy-afforndances.ipynb        8        None  "
      ]
     },
     "metadata": {},
     "output_type": "display_data"
    }
   ],
   "source": [
    "    display(self.articles, self.articles.head(10, 5))"
   ]
  },
  {
   "cell_type": "code",
   "execution_count": 6,
   "id": "c6033240-6532-4a76-b63c-ad13fd396734",
   "metadata": {
    "execution": {
     "iopub.execute_input": "2023-01-25T02:23:36.899159Z",
     "iopub.status.busy": "2023-01-25T02:23:36.899002Z",
     "iopub.status.idle": "2023-01-25T02:23:36.905709Z",
     "shell.execute_reply": "2023-01-25T02:23:36.905474Z",
     "shell.execute_reply.started": "2023-01-25T02:23:36.899138Z"
    },
    "tags": []
   },
   "outputs": [],
   "source": [
    "    def get_article_path(s): return str(s.name) + \"#/cells/\" + str(s.cell_ct)\n",
    "    self.articles[\"path\"] = self.articles.apply(get_article_path, meta=(\"path\", \"O\"), axis=1)"
   ]
  },
  {
   "cell_type": "code",
   "execution_count": 7,
   "id": "2e862285-8455-44f6-b1c0-998399319882",
   "metadata": {
    "execution": {
     "iopub.execute_input": "2023-01-25T02:23:36.907156Z",
     "iopub.status.busy": "2023-01-25T02:23:36.907089Z",
     "iopub.status.idle": "2023-01-25T02:23:37.639167Z",
     "shell.execute_reply": "2023-01-25T02:23:37.638898Z",
     "shell.execute_reply.started": "2023-01-25T02:23:36.907147Z"
    },
    "tags": []
   },
   "outputs": [
    {
     "data": {
      "text/plain": [
       "Series([], Name: none, dtype: int64)"
      ]
     },
     "execution_count": 7,
     "metadata": {},
     "output_type": "execute_result"
    }
   ],
   "source": [
    "    def write_documents(df):\n",
    "        with whoosh.writing.AsyncWriter(index) as w:\n",
    "            for _, x in df.iterrows(): w.add_document(**x)\n",
    "    self.articles[[\"source\", \"path\"]].applymap(\"\".join).groupby(self.articles.index).apply(write_documents, meta=(\"none\", int)).compute()\n",
    "    "
   ]
  },
  {
   "cell_type": "markdown",
   "id": "65f75ba5-363d-46e3-9d92-d984e398ea22",
   "metadata": {},
   "source": [
    "## querying the documents "
   ]
  },
  {
   "cell_type": "code",
   "execution_count": 8,
   "id": "62070377-8250-41b4-bef7-8f7b35e7b32a",
   "metadata": {
    "execution": {
     "iopub.execute_input": "2023-01-25T02:23:37.639714Z",
     "iopub.status.busy": "2023-01-25T02:23:37.639576Z",
     "iopub.status.idle": "2023-01-25T02:23:37.642457Z",
     "shell.execute_reply": "2023-01-25T02:23:37.642199Z",
     "shell.execute_reply.started": "2023-01-25T02:23:37.639703Z"
    },
    "tags": []
   },
   "outputs": [],
   "source": [
    "    query = whoosh.qparser.QueryParser(\"source\", schema)"
   ]
  },
  {
   "cell_type": "code",
   "execution_count": 9,
   "id": "eb4b1b44-697a-4a53-829f-6ad1709ff488",
   "metadata": {
    "execution": {
     "iopub.execute_input": "2023-01-25T02:23:37.643158Z",
     "iopub.status.busy": "2023-01-25T02:23:37.643052Z",
     "iopub.status.idle": "2023-01-25T02:23:37.662134Z",
     "shell.execute_reply": "2023-01-25T02:23:37.661337Z",
     "shell.execute_reply.started": "2023-01-25T02:23:37.643147Z"
    },
    "tags": []
   },
   "outputs": [
    {
     "name": "stdout",
     "output_type": "stream",
     "text": [
      "<Top 0 Results for And([Term('source', 'literate'), Term('source', 'computing')]) runtime=9.207999937643763e-05>\n"
     ]
    }
   ],
   "source": [
    "    with index.searcher() as search:\n",
    "        print(search.search(query.parse(\"literate computing\")))"
   ]
  }
 ],
 "metadata": {
  "kernelspec": {
   "display_name": "Python [conda env:root] *",
   "language": "python",
   "name": "conda-root-py"
  },
  "language_info": {
   "codemirror_mode": {
    "name": "ipython",
    "version": 3
   },
   "file_extension": ".py",
   "mimetype": "text/x-python",
   "name": "python",
   "nbconvert_exporter": "python",
   "pygments_lexer": "ipython3",
   "version": "3.9.13"
  },
  "widgets": {
   "application/vnd.jupyter.widget-state+json": {
    "state": {},
    "version_major": 2,
    "version_minor": 0
   }
  }
 },
 "nbformat": 4,
 "nbformat_minor": 5
}
