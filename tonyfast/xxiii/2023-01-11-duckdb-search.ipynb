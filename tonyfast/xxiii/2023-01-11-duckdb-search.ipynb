{
 "cells": [
  {
   "cell_type": "markdown",
   "id": "4bb9d096-dc49-4b47-99f5-b0838bceb999",
   "metadata": {},
   "source": [
    "# full text search for notebooks and files using duckdb\n",
    "\n",
    "`duckdb` is great for moderate sized data.\n",
    "maybe it would be good for searching notebooks.\n",
    "i know `pandas` so we are going to use `pandas` to load in our data\n",
    "\n",
    "1. reads files\n",
    "2. load contents in the `nbformat`\n",
    "3. create the table on a in memory duckdb\n",
    "4. at full text search the columns\n",
    "5. search the source"
   ]
  },
  {
   "cell_type": "code",
   "execution_count": 1,
   "id": "f5771b2a-216b-4a76-a714-0bae8974f182",
   "metadata": {},
   "outputs": [],
   "source": [
    "    import pandas, duckdb, functools"
   ]
  },
  {
   "cell_type": "markdown",
   "id": "5595896f-bf8c-4f18-a118-145d515b8ecc",
   "metadata": {},
   "source": [
    "### `search` is our database goal\n",
    "\n",
    "the use of the `search` is demonstrated at the end of the document"
   ]
  },
  {
   "cell_type": "code",
   "execution_count": 2,
   "id": "273b5dd3-59b4-4673-8b26-82d2d7ce661d",
   "metadata": {},
   "outputs": [],
   "source": [
    "    def search(q) -> pandas.DataFrame:\n",
    "        return (get_db().execute(F\"\"\"\n",
    "        SELECT * FROM\n",
    "        (\n",
    "            SELECT *, fts_main_cells.match_bm25(path, '{q}', fields:='source') AS score FROM cells\n",
    "        )\n",
    "        WHERE score IS NOT NULL\n",
    "        ORDER BY score DESC;\n",
    "        \"\"\")).df()"
   ]
  },
  {
   "cell_type": "markdown",
   "id": "1c0a582a-7a08-4a84-a16c-c174c4de6ad1",
   "metadata": {},
   "source": [
    "https://duckdb.org/docs/extensions/full_text_search"
   ]
  },
  {
   "cell_type": "code",
   "execution_count": 3,
   "id": "c0e24d28-e252-400d-9b3e-7efad0d4103a",
   "metadata": {},
   "outputs": [],
   "source": [
    "    @functools.lru_cache # this makes our function a singleton\n",
    "    def get_db() -> duckdb.DuckDBPyConnection:\n",
    "        con = duckdb.connect()\n",
    "        con.execute(\"CREATE TABLE cells AS SELECT * FROM sources\")\n",
    "        con.execute(\"INSERT INTO cells SELECT * FROM sources\")\n",
    "        con.execute(\"\"\"PRAGMA create_fts_index('cells', 'path', 'source');\"\"\")\n",
    "        return con    "
   ]
  },
  {
   "cell_type": "markdown",
   "id": "a6de550a-7d11-4c30-a00d-5a9a7f6f9b7c",
   "metadata": {},
   "source": [
    "create a shape of the cells that duckdb can use. we ignore metadata, attachments and outputs."
   ]
  },
  {
   "cell_type": "code",
   "execution_count": 4,
   "id": "e7751e39-f706-4af0-aecd-697c17906047",
   "metadata": {
    "tags": []
   },
   "outputs": [],
   "source": [
    "    def get_fts_sources(cells):\n",
    "        sources = cells.drop(columns=[\"metadata\", \"attachments\", \"outputs\"])\n",
    "        sources.source = sources.source.str.join(\"\")\n",
    "        sources = sources.set_index(sources.index.map(compose_left(map(str), \"#/cells/\".join)).rename(\"path\")).reset_index()\n",
    "        sources.execution_count = sources.execution_count.fillna(-1)\n",
    "        return sources"
   ]
  },
  {
   "cell_type": "markdown",
   "id": "3ddff599-4e2d-49f6-9925-53e48aa65d00",
   "metadata": {},
   "source": [
    "### load all the documents in as cells"
   ]
  },
  {
   "cell_type": "code",
   "execution_count": 5,
   "id": "714d7018-028d-4bd8-9877-17738d294739",
   "metadata": {},
   "outputs": [],
   "source": [
    "    def get_cells(docs):    \n",
    "        return (\n",
    "            docs[\"cells\"].apply(\n",
    "                compose_left(enumerate, list)\n",
    "            ).explode().apply(pandas.Series)\n",
    "            .rename(columns={0: \"cell_ct\", 1: \"cell\"})\n",
    "            .set_index(\"cell_ct\", append=True)[\"cell\"]\n",
    "            .apply(pandas.Series)\n",
    "        )"
   ]
  },
  {
   "cell_type": "markdown",
   "id": "c30d24c5-bdd3-49a9-a27e-fdd6d05b801a",
   "metadata": {},
   "source": [
    "`get_files` creates our first dataframes"
   ]
  },
  {
   "cell_type": "code",
   "execution_count": 6,
   "id": "e6c98e94-8490-482b-b343-179c000cb61c",
   "metadata": {},
   "outputs": [],
   "source": [
    "    def get_files(dir) -> pandas.DataFrame:\n",
    "        files = pandas.DataFrame(index=pandas.Index(iter_files(dir), name=\"file\"))\n",
    "        return files.assign(suffix=files.index.map(operator.attrgetter(\"suffix\")))"
   ]
  },
  {
   "cell_type": "markdown",
   "id": "6069d860-0795-419d-9f3f-57800f98742a",
   "metadata": {},
   "source": [
    "`get_markdown_file` reads a markdown file as a markdown notebook cell."
   ]
  },
  {
   "cell_type": "code",
   "execution_count": 7,
   "id": "c1bfbca1-f757-4c5c-b87e-51efdf8f8be5",
   "metadata": {},
   "outputs": [],
   "source": [
    "    def get_markdown_file(md):\n",
    "        import nbformat\n",
    "        return nbformat.v4.new_notebook(cells=[nbformat.v4.new_markdown_cell(md)])    "
   ]
  },
  {
   "cell_type": "code",
   "execution_count": 8,
   "id": "4516dbe4-9160-4155-9d76-4f45498aea56",
   "metadata": {},
   "outputs": [],
   "source": [
    "    def get_docs(files: pandas.DataFrame) -> pandas.DataFrame:\n",
    "        files = files.assign(text=files.index.map(pathlib.Path.read_text))\n",
    "        return pandas.concat([\n",
    "            files[files.suffix.eq(\".ipynb\")].text.apply(compose_left(orjson.loads, pandas.Series)),\n",
    "            files[files.suffix.eq(\".md\")].text.apply(compose_left(get_markdown_file, pandas.Series)),        \n",
    "        ])"
   ]
  },
  {
   "cell_type": "code",
   "execution_count": 9,
   "id": "aae74fae-ca69-419a-ae8c-b5643be42c40",
   "metadata": {},
   "outputs": [],
   "source": [
    "    def get_cells_frame(dir): return get_cells(get_docs(get_files(dir))) "
   ]
  },
  {
   "cell_type": "markdown",
   "id": "da0223e7-ea5b-4bda-a1b8-3791fe991a8e",
   "metadata": {},
   "source": [
    "`iter_files` finds files matching an include pattern, and not matching an exclude pattern"
   ]
  },
  {
   "cell_type": "code",
   "execution_count": 10,
   "id": "8ceafb46-4a0d-4d10-beb4-ebed3c6a7d09",
   "metadata": {},
   "outputs": [],
   "source": [
    "    def iter_files(dir=None, exclude=\".nox\\n.ipynb_checkpoints\\n\", include=\"*.md\\n*.ipynb\"):\n",
    "        import pathspec\n",
    "        exclude_spec = pathspec.PathSpec.from_lines(pathspec.GitIgnorePattern, exclude.splitlines())\n",
    "        include_spec = pathspec.PathSpec.from_lines(pathspec.GitIgnorePattern, include.splitlines())            \n",
    "        dir = pathlib.Path(dir or pathlib.Path.cwd())\n",
    "        for f in dir.iterdir():\n",
    "            if f.is_dir():\n",
    "                if not exclude_spec.match_file(f):\n",
    "                    yield from iter_files(f)\n",
    "            if f.is_file():\n",
    "                if include_spec.match_file(f):\n",
    "                    if not exclude_spec.match_file(f):\n",
    "                        yield f"
   ]
  },
  {
   "cell_type": "markdown",
   "id": "11df8edb-5436-4e6b-9a62-60c0f464db08",
   "metadata": {},
   "source": [
    "`iter_files` uses a pattern i like where `pathspec` defines the files included and excluded.\n",
    "sometimes include/exclude logic can be confusing. the `.gitignore` convention is adopted to rely on that and point someone else's docs."
   ]
  },
  {
   "cell_type": "markdown",
   "id": "e0d809d9-d053-4048-baf4-259334951624",
   "metadata": {},
   "source": [
    "## using our search function"
   ]
  },
  {
   "cell_type": "code",
   "execution_count": 11,
   "id": "d3a6ca2a-7b1d-4f0a-a86c-9345913468c0",
   "metadata": {
    "tags": []
   },
   "outputs": [],
   "source": [
    "    import pathspec, dataclasses, orjson, pathlib; from toolz.curried import *"
   ]
  },
  {
   "cell_type": "markdown",
   "id": "8a061dd2-e611-4fdd-95d9-08b4545539f2",
   "metadata": {},
   "source": [
    "initialize the `pandas.DataFrame` so `duckdb` can use it. our table in this work is `cells`"
   ]
  },
  {
   "cell_type": "markdown",
   "id": "9abae1a6-27e5-46c8-9db4-f05ae4a6361c",
   "metadata": {},
   "source": [
    "### initialize the `duckdb` tables from pandas\n",
    "\n",
    "https://duckdb.org/docs/guides/python/import_pandas.html"
   ]
  },
  {
   "cell_type": "code",
   "execution_count": 12,
   "id": "a9b6fdf0-a50e-4a81-9ad3-e58feaf3cd47",
   "metadata": {},
   "outputs": [
    {
     "data": {
      "text/html": [
       "<div>\n",
       "<style scoped>\n",
       "    .dataframe tbody tr th:only-of-type {\n",
       "        vertical-align: middle;\n",
       "    }\n",
       "\n",
       "    .dataframe tbody tr th {\n",
       "        vertical-align: top;\n",
       "    }\n",
       "\n",
       "    .dataframe thead th {\n",
       "        text-align: right;\n",
       "    }\n",
       "</style>\n",
       "<table border=\"1\" class=\"dataframe\">\n",
       "  <thead>\n",
       "    <tr style=\"text-align: right;\">\n",
       "      <th></th>\n",
       "      <th>column_name</th>\n",
       "      <th>column_type</th>\n",
       "      <th>null</th>\n",
       "      <th>key</th>\n",
       "      <th>default</th>\n",
       "      <th>extra</th>\n",
       "    </tr>\n",
       "  </thead>\n",
       "  <tbody>\n",
       "    <tr>\n",
       "      <th>0</th>\n",
       "      <td>path</td>\n",
       "      <td>VARCHAR</td>\n",
       "      <td>YES</td>\n",
       "      <td>NaN</td>\n",
       "      <td>NaN</td>\n",
       "      <td>NaN</td>\n",
       "    </tr>\n",
       "    <tr>\n",
       "      <th>1</th>\n",
       "      <td>cell_type</td>\n",
       "      <td>VARCHAR</td>\n",
       "      <td>YES</td>\n",
       "      <td>NaN</td>\n",
       "      <td>NaN</td>\n",
       "      <td>NaN</td>\n",
       "    </tr>\n",
       "    <tr>\n",
       "      <th>2</th>\n",
       "      <td>id</td>\n",
       "      <td>VARCHAR</td>\n",
       "      <td>YES</td>\n",
       "      <td>NaN</td>\n",
       "      <td>NaN</td>\n",
       "      <td>NaN</td>\n",
       "    </tr>\n",
       "    <tr>\n",
       "      <th>3</th>\n",
       "      <td>source</td>\n",
       "      <td>VARCHAR</td>\n",
       "      <td>YES</td>\n",
       "      <td>NaN</td>\n",
       "      <td>NaN</td>\n",
       "      <td>NaN</td>\n",
       "    </tr>\n",
       "    <tr>\n",
       "      <th>4</th>\n",
       "      <td>execution_count</td>\n",
       "      <td>DOUBLE</td>\n",
       "      <td>YES</td>\n",
       "      <td>NaN</td>\n",
       "      <td>NaN</td>\n",
       "      <td>NaN</td>\n",
       "    </tr>\n",
       "  </tbody>\n",
       "</table>\n",
       "</div>"
      ],
      "text/plain": [
       "       column_name column_type null  key default  extra\n",
       "0             path     VARCHAR  YES  NaN     NaN    NaN\n",
       "1        cell_type     VARCHAR  YES  NaN     NaN    NaN\n",
       "2               id     VARCHAR  YES  NaN     NaN    NaN\n",
       "3           source     VARCHAR  YES  NaN     NaN    NaN\n",
       "4  execution_count      DOUBLE  YES  NaN     NaN    NaN"
      ]
     },
     "metadata": {},
     "output_type": "display_data"
    }
   ],
   "source": [
    "    if (I := \"__file__\" not in locals()):\n",
    "        sources = get_fts_sources(get_cells_frame(\"..\"))\n",
    "        display(get_db().execute(\"DESCRIBE cells\").df())"
   ]
  },
  {
   "cell_type": "markdown",
   "id": "3e1623ab-8508-4b26-b18a-f424ae4ec4f0",
   "metadata": {},
   "source": [
    "### sample searches"
   ]
  },
  {
   "cell_type": "code",
   "execution_count": 13,
   "id": "0ad69065-ddef-4032-ba89-72b0c6e424f6",
   "metadata": {},
   "outputs": [
    {
     "data": {
      "text/html": [
       "<div>\n",
       "<style scoped>\n",
       "    .dataframe tbody tr th:only-of-type {\n",
       "        vertical-align: middle;\n",
       "    }\n",
       "\n",
       "    .dataframe tbody tr th {\n",
       "        vertical-align: top;\n",
       "    }\n",
       "\n",
       "    .dataframe thead th {\n",
       "        text-align: right;\n",
       "    }\n",
       "</style>\n",
       "<table border=\"1\" class=\"dataframe\">\n",
       "  <thead>\n",
       "    <tr style=\"text-align: right;\">\n",
       "      <th></th>\n",
       "      <th>path</th>\n",
       "      <th>cell_type</th>\n",
       "      <th>id</th>\n",
       "      <th>source</th>\n",
       "      <th>execution_count</th>\n",
       "      <th>score</th>\n",
       "    </tr>\n",
       "  </thead>\n",
       "  <tbody>\n",
       "    <tr>\n",
       "      <th>0</th>\n",
       "      <td>../xxii/oct/2022-10-29-metadata-formatter.ipyn...</td>\n",
       "      <td>code</td>\n",
       "      <td>e3a8b43e-aaeb-4b7a-9ccb-4485ae0689a0</td>\n",
       "      <td>if ACTIVE:\\n        import pandas\\n       ...</td>\n",
       "      <td>8.0</td>\n",
       "      <td>1.718594</td>\n",
       "    </tr>\n",
       "    <tr>\n",
       "      <th>1</th>\n",
       "      <td>../xxii/oct/2022-10-29-metadata-formatter.ipyn...</td>\n",
       "      <td>code</td>\n",
       "      <td>e3a8b43e-aaeb-4b7a-9ccb-4485ae0689a0</td>\n",
       "      <td>if ACTIVE:\\n        import pandas\\n       ...</td>\n",
       "      <td>8.0</td>\n",
       "      <td>1.718594</td>\n",
       "    </tr>\n",
       "    <tr>\n",
       "      <th>2</th>\n",
       "      <td>../xxiii/2023-01-02-accessible-dataframes-basi...</td>\n",
       "      <td>code</td>\n",
       "      <td>401913ff-534f-4659-aec5-0784b1f1f34c</td>\n",
       "      <td>(df := pandas.DataFrame(\\n        columns=...</td>\n",
       "      <td>2.0</td>\n",
       "      <td>1.679535</td>\n",
       "    </tr>\n",
       "    <tr>\n",
       "      <th>3</th>\n",
       "      <td>../xxiii/2023-01-11-accessible-dataframes-comp...</td>\n",
       "      <td>code</td>\n",
       "      <td>401913ff-534f-4659-aec5-0784b1f1f34c</td>\n",
       "      <td>(df := pandas.DataFrame(\\n        columns=...</td>\n",
       "      <td>2.0</td>\n",
       "      <td>1.679535</td>\n",
       "    </tr>\n",
       "    <tr>\n",
       "      <th>4</th>\n",
       "      <td>../xxiii/2023-01-02-accessible-dataframes-basi...</td>\n",
       "      <td>code</td>\n",
       "      <td>401913ff-534f-4659-aec5-0784b1f1f34c</td>\n",
       "      <td>(df := pandas.DataFrame(\\n        columns=...</td>\n",
       "      <td>2.0</td>\n",
       "      <td>1.679535</td>\n",
       "    </tr>\n",
       "  </tbody>\n",
       "</table>\n",
       "</div>"
      ],
      "text/plain": [
       "                                                path cell_type  \\\n",
       "0  ../xxii/oct/2022-10-29-metadata-formatter.ipyn...      code   \n",
       "1  ../xxii/oct/2022-10-29-metadata-formatter.ipyn...      code   \n",
       "2  ../xxiii/2023-01-02-accessible-dataframes-basi...      code   \n",
       "3  ../xxiii/2023-01-11-accessible-dataframes-comp...      code   \n",
       "4  ../xxiii/2023-01-02-accessible-dataframes-basi...      code   \n",
       "\n",
       "                                     id  \\\n",
       "0  e3a8b43e-aaeb-4b7a-9ccb-4485ae0689a0   \n",
       "1  e3a8b43e-aaeb-4b7a-9ccb-4485ae0689a0   \n",
       "2  401913ff-534f-4659-aec5-0784b1f1f34c   \n",
       "3  401913ff-534f-4659-aec5-0784b1f1f34c   \n",
       "4  401913ff-534f-4659-aec5-0784b1f1f34c   \n",
       "\n",
       "                                              source  execution_count  \\\n",
       "0      if ACTIVE:\\n        import pandas\\n       ...              8.0   \n",
       "1      if ACTIVE:\\n        import pandas\\n       ...              8.0   \n",
       "2      (df := pandas.DataFrame(\\n        columns=...              2.0   \n",
       "3      (df := pandas.DataFrame(\\n        columns=...              2.0   \n",
       "4      (df := pandas.DataFrame(\\n        columns=...              2.0   \n",
       "\n",
       "      score  \n",
       "0  1.718594  \n",
       "1  1.718594  \n",
       "2  1.679535  \n",
       "3  1.679535  \n",
       "4  1.679535  "
      ]
     },
     "metadata": {},
     "output_type": "display_data"
    }
   ],
   "source": [
    "    I and display(search(\"pandas\").head())"
   ]
  },
  {
   "cell_type": "code",
   "execution_count": 14,
   "id": "589d3fb6-a4bb-434f-a06e-05d57fe57f09",
   "metadata": {},
   "outputs": [
    {
     "data": {
      "text/html": [
       "<div>\n",
       "<style scoped>\n",
       "    .dataframe tbody tr th:only-of-type {\n",
       "        vertical-align: middle;\n",
       "    }\n",
       "\n",
       "    .dataframe tbody tr th {\n",
       "        vertical-align: top;\n",
       "    }\n",
       "\n",
       "    .dataframe thead th {\n",
       "        text-align: right;\n",
       "    }\n",
       "</style>\n",
       "<table border=\"1\" class=\"dataframe\">\n",
       "  <thead>\n",
       "    <tr style=\"text-align: right;\">\n",
       "      <th></th>\n",
       "      <th>path</th>\n",
       "      <th>cell_type</th>\n",
       "      <th>id</th>\n",
       "      <th>source</th>\n",
       "      <th>execution_count</th>\n",
       "      <th>score</th>\n",
       "    </tr>\n",
       "  </thead>\n",
       "  <tbody>\n",
       "    <tr>\n",
       "      <th>0</th>\n",
       "      <td>../xxii/oct/colormap-dataframes/2021-10-11-col...</td>\n",
       "      <td>code</td>\n",
       "      <td>391cab50-209e-4843-8bea-0405f6734e6f</td>\n",
       "      <td>import pandas, numpy, toolz.curried as toolz</td>\n",
       "      <td>1.0</td>\n",
       "      <td>3.776350</td>\n",
       "    </tr>\n",
       "    <tr>\n",
       "      <th>1</th>\n",
       "      <td>../xxii/oct/colormap-dataframes/2021-10-11-col...</td>\n",
       "      <td>code</td>\n",
       "      <td>391cab50-209e-4843-8bea-0405f6734e6f</td>\n",
       "      <td>import pandas, numpy, toolz.curried as toolz</td>\n",
       "      <td>1.0</td>\n",
       "      <td>3.776350</td>\n",
       "    </tr>\n",
       "    <tr>\n",
       "      <th>2</th>\n",
       "      <td>../xxiii/2023-01-11-duckdb-search.ipynb#/cells/20</td>\n",
       "      <td>code</td>\n",
       "      <td>d3a6ca2a-7b1d-4f0a-a86c-9345913468c0</td>\n",
       "      <td>import pathspec, dataclasses, orjson, path...</td>\n",
       "      <td>-1.0</td>\n",
       "      <td>3.340617</td>\n",
       "    </tr>\n",
       "    <tr>\n",
       "      <th>3</th>\n",
       "      <td>../xxiii/2023-01-11-duckdb-search.ipynb#/cells/26</td>\n",
       "      <td>code</td>\n",
       "      <td>589d3fb6-a4bb-434f-a06e-05d57fe57f09</td>\n",
       "      <td>I and display(search(\"toolz\").head(4))</td>\n",
       "      <td>-1.0</td>\n",
       "      <td>3.340617</td>\n",
       "    </tr>\n",
       "  </tbody>\n",
       "</table>\n",
       "</div>"
      ],
      "text/plain": [
       "                                                path cell_type  \\\n",
       "0  ../xxii/oct/colormap-dataframes/2021-10-11-col...      code   \n",
       "1  ../xxii/oct/colormap-dataframes/2021-10-11-col...      code   \n",
       "2  ../xxiii/2023-01-11-duckdb-search.ipynb#/cells/20      code   \n",
       "3  ../xxiii/2023-01-11-duckdb-search.ipynb#/cells/26      code   \n",
       "\n",
       "                                     id  \\\n",
       "0  391cab50-209e-4843-8bea-0405f6734e6f   \n",
       "1  391cab50-209e-4843-8bea-0405f6734e6f   \n",
       "2  d3a6ca2a-7b1d-4f0a-a86c-9345913468c0   \n",
       "3  589d3fb6-a4bb-434f-a06e-05d57fe57f09   \n",
       "\n",
       "                                              source  execution_count  \\\n",
       "0       import pandas, numpy, toolz.curried as toolz              1.0   \n",
       "1       import pandas, numpy, toolz.curried as toolz              1.0   \n",
       "2      import pathspec, dataclasses, orjson, path...             -1.0   \n",
       "3             I and display(search(\"toolz\").head(4))             -1.0   \n",
       "\n",
       "      score  \n",
       "0  3.776350  \n",
       "1  3.776350  \n",
       "2  3.340617  \n",
       "3  3.340617  "
      ]
     },
     "metadata": {},
     "output_type": "display_data"
    }
   ],
   "source": [
    "    I and display(search(\"toolz\").head(4))"
   ]
  }
 ],
 "metadata": {
  "kernelspec": {
   "display_name": "Python [conda env:root] *",
   "language": "python",
   "name": "conda-root-py"
  },
  "language_info": {
   "codemirror_mode": {
    "name": "ipython",
    "version": 3
   },
   "file_extension": ".py",
   "mimetype": "text/x-python",
   "name": "python",
   "nbconvert_exporter": "python",
   "pygments_lexer": "ipython3",
   "version": "3.9.13"
  },
  "widgets": {
   "application/vnd.jupyter.widget-state+json": {
    "state": {},
    "version_major": 2,
    "version_minor": 0
   }
  }
 },
 "nbformat": 4,
 "nbformat_minor": 5
}
