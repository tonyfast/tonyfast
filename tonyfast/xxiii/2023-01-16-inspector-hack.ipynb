{
 "cells": [
  {
   "cell_type": "markdown",
   "id": "209c3743-5c7f-417a-af17-70fbb082cbba",
   "metadata": {},
   "source": [
    "# customizing the `IPython` contextual help\n",
    "\n",
    "an original feature of `pidgy` is the use `jupyter`s contextual help to provide wysiwyg experience.\n",
    "\n",
    "as author's write `pidgy` they reveal a preview of the output and explore variables in the workspace."
   ]
  },
  {
   "cell_type": "markdown",
   "id": "bee08a89-8c13-449f-a0c9-69ccd6ccdb6f",
   "metadata": {},
   "source": [
    "* when no inspector is found show help\n",
    "* when inspection is found show the default\n",
    "* when is not found show the markdown preview"
   ]
  },
  {
   "cell_type": "markdown",
   "id": "8973095a-93bb-49ee-8b29-0d448fa33122",
   "metadata": {},
   "source": [
    "the inspector uses `jupyter`s rich display system.\n",
    "we can send html and markdown to the contextual help."
   ]
  },
  {
   "cell_type": "markdown",
   "id": "52ac428a-16ac-4b06-b0e1-43e64f712a77",
   "metadata": {},
   "source": [
    "we create an ipython extension that modifies the `IPython` contextual help using rich displays.\n",
    "we are going to create a wsyiwyg for "
   ]
  },
  {
   "cell_type": "code",
   "execution_count": 1,
   "id": "f6002d65-e000-4258-8f15-e42e19297dae",
   "metadata": {},
   "outputs": [],
   "source": [
    "    def load_ipython_extension(shell):\n",
    "        shell.enable_html_pager = True\n",
    "        shell.kernel.do_inspect = types.MethodType(do_inspect, shell)"
   ]
  },
  {
   "cell_type": "code",
   "execution_count": 2,
   "id": "9eb8b5c2-b3bb-4bf1-bd7a-b00bd46ea4d3",
   "metadata": {},
   "outputs": [
    {
     "data": {
      "text/markdown": [
       "<div hidden>\n",
       "\n",
       "    \n",
       "    %reload_ext pidgy\n",
       "    import pandas\n",
       "\n",
       "</div>"
      ],
      "text/plain": [
       "<IPython.core.display.Markdown object>"
      ]
     },
     "metadata": {},
     "output_type": "display_data"
    }
   ],
   "source": [
    "    \n",
    "    %reload_ext pidgy\n",
    "    import pandas"
   ]
  },
  {
   "cell_type": "markdown",
   "id": "8b5c0f5e-022e-4af3-9585-b04138e83e6d",
   "metadata": {},
   "source": [
    "for any of this to work need to enable the html pager"
   ]
  },
  {
   "cell_type": "code",
   "execution_count": 3,
   "id": "6b059ee8-95a9-4d40-8eea-9fa67d9ab074",
   "metadata": {},
   "outputs": [
    {
     "data": {
      "text/markdown": [
       "    shell.enable_html_pager = True"
      ],
      "text/plain": [
       "<IPython.core.display.Markdown object>"
      ]
     },
     "metadata": {},
     "output_type": "display_data"
    }
   ],
   "source": [
    "    shell.enable_html_pager = True"
   ]
  },
  {
   "cell_type": "markdown",
   "id": "69fa3ca8-223e-41a2-a7e4-70b43a553771",
   "metadata": {},
   "source": [
    "when our original inspector `_do_inspect` does not find any results we return a markdown preview."
   ]
  },
  {
   "cell_type": "code",
   "execution_count": 4,
   "id": "267e2dd9-e4ff-44a6-8edb-0769057e4005",
   "metadata": {},
   "outputs": [
    {
     "data": {
      "text/markdown": [
       "    def do_inspect(self, obj, *args, **kwargs):\n",
       "        data = _do_inspect(obj, *args, **kwargs)\n",
       "        if not data[\"found\"]:\n",
       "            data[\"found\"] = True\n",
       "            data[\"data\"] = {\"text/markdown\": obj.strip() and obj or help}\n",
       "        return data    "
      ],
      "text/plain": [
       "<IPython.core.display.Markdown object>"
      ]
     },
     "metadata": {},
     "output_type": "display_data"
    }
   ],
   "source": [
    "    def do_inspect(self, obj, *args, **kwargs):\n",
    "        data = _do_inspect(obj, *args, **kwargs)\n",
    "        if not data[\"found\"]:\n",
    "            data[\"found\"] = True\n",
    "            data[\"data\"] = {\"text/markdown\": obj.strip() and obj or help}\n",
    "        return data    "
   ]
  },
  {
   "cell_type": "markdown",
   "id": "b774d4e9-1bdc-4d9a-aa3d-e91b109c8679",
   "metadata": {},
   "source": [
    "this is a hack! we'll hold the original inspect function and monkey patch it."
   ]
  },
  {
   "cell_type": "code",
   "execution_count": 5,
   "id": "d0d5739d-8740-4316-bdf6-538a9ca91609",
   "metadata": {},
   "outputs": [
    {
     "data": {
      "text/plain": [
       "<bound method IPythonKernel.do_inspect of <ipykernel.ipkernel.IPythonKernel object at 0x7f91bed56340>>"
      ]
     },
     "execution_count": 5,
     "metadata": {},
     "output_type": "execute_result"
    },
    {
     "data": {
      "text/markdown": [
       "    locals().setdefault(\"_do_inspect\", shell.kernel.do_inspect)"
      ],
      "text/plain": [
       "<IPython.core.display.Markdown object>"
      ]
     },
     "metadata": {},
     "output_type": "display_data"
    }
   ],
   "source": [
    "    locals().setdefault(\"_do_inspect\", shell.kernel.do_inspect)"
   ]
  },
  {
   "cell_type": "code",
   "execution_count": 6,
   "id": "ae6722fc-9cda-422f-8557-33027893ce46",
   "metadata": {},
   "outputs": [
    {
     "data": {
      "text/markdown": [
       "    if I := \"__file__\" not in locals(): load_ipython_extension(shell)"
      ],
      "text/plain": [
       "<IPython.core.display.Markdown object>"
      ]
     },
     "metadata": {},
     "output_type": "display_data"
    }
   ],
   "source": [
    "    if I := \"__file__\" not in locals(): load_ipython_extension(shell)"
   ]
  },
  {
   "cell_type": "markdown",
   "id": "0528646d-dd24-4eef-b2d5-fd2021a0ec6a",
   "metadata": {},
   "source": [
    "## the opportunity in the misses\n",
    "\n",
    "the contextual help renders on keypress when a result is found."
   ]
  },
  {
   "cell_type": "code",
   "execution_count": 7,
   "id": "7b5f1227-cd06-42e8-a936-1321827186d8",
   "metadata": {},
   "outputs": [
    {
     "data": {
      "text/markdown": [
       "\n",
       "\n",
       "when we use the normal inspection. we find that there is a lot of time where the contextual help is not found.\n",
       "for example, when we process all the code inputs in this document the inspector finds information 37.0% of the time,\n",
       "meaning 63.0% opporuntity!\n",
       "    \n",
       "    def measure(x): yield from (shell.kernel.do_inspect(x, i) for i in range(len(x)))\n",
       "    shell.kernel.do_inspect = _do_inspect\n",
       "    inspection = pandas.Series(In).apply(measure).apply(list).explode().dropna().apply(pandas.Series)\n",
       "    load_ipython_extension(shell)"
      ],
      "text/plain": [
       "<IPython.core.display.Markdown object>"
      ]
     },
     "metadata": {},
     "output_type": "display_data"
    }
   ],
   "source": [
    "{% set help_hits = inspection.found.mean().round(2) * 100 %}\n",
    "\n",
    "when we use the normal inspection. we find that there is a lot of time where the contextual help is not found.\n",
    "for example, when we process all the code inputs in this document the inspector finds information {{help_hits}}% of the time,\n",
    "meaning {{100-help_hits}}% opporuntity!\n",
    "    \n",
    "    def measure(x): yield from (shell.kernel.do_inspect(x, i) for i in range(len(x)))\n",
    "    shell.kernel.do_inspect = _do_inspect\n",
    "    inspection = pandas.Series(In).apply(measure).apply(list).explode().dropna().apply(pandas.Series)\n",
    "    load_ipython_extension(shell)"
   ]
  },
  {
   "cell_type": "markdown",
   "id": "ebba0f7e-e3cf-4e3e-aa69-037f72da8c51",
   "metadata": {},
   "source": [
    "when the screen is blank we can graffitti the contextual help in a few ways."
   ]
  },
  {
   "cell_type": "code",
   "execution_count": 8,
   "id": "c3b426f8-37e8-43ff-b4d6-4d64bb12d61d",
   "metadata": {},
   "outputs": [
    {
     "data": {
      "text/markdown": [
       "perhalps we provide a use help interface for people to learn our new tool.\n",
       "    \n",
       "    help =\\\n",
       "`pidgy` is markdown/python literate programming language.\n",
       "    \n",
       "* indented code and fenced code are executed\n",
       "\n",
       "## documentation \n",
       "\n",
       "* jinja2 documentation\n",
       "* markdown documentation\n",
       "* python documentation"
      ],
      "text/plain": [
       "<IPython.core.display.Markdown object>"
      ]
     },
     "metadata": {},
     "output_type": "display_data"
    }
   ],
   "source": [
    "perhalps we provide a use help interface for people to learn our new tool.\n",
    "    \n",
    "    help =\\\n",
    "`pidgy` is markdown/python literate programming language.\n",
    "    \n",
    "* indented code and fenced code are executed\n",
    "\n",
    "## documentation \n",
    "\n",
    "* jinja2 documentation\n",
    "* markdown documentation\n",
    "* python documentation"
   ]
  },
  {
   "cell_type": "markdown",
   "id": "fe54e6e3-1655-4e62-91ac-4769eabe0a0c",
   "metadata": {},
   "source": [
    "an accidental outcome is this _hack_ adds contextual help to markdown cells. its good."
   ]
  },
  {
   "cell_type": "code",
   "execution_count": null,
   "id": "8c782728-ea32-4f17-a64f-25c5bc3fb293",
   "metadata": {},
   "outputs": [],
   "source": []
  }
 ],
 "metadata": {
  "kernelspec": {
   "display_name": "Python [conda env:root] *",
   "language": "python",
   "name": "conda-root-py"
  },
  "language_info": {
   "codemirror_mode": {
    "name": "ipython",
    "version": 3
   },
   "file_extension": ".py",
   "mimetype": "text/x-python",
   "name": "python",
   "nbconvert_exporter": "python",
   "pygments_lexer": "ipython3",
   "version": "3.9.13"
  },
  "widgets": {
   "application/vnd.jupyter.widget-state+json": {
    "state": {},
    "version_major": 2,
    "version_minor": 0
   }
  }
 },
 "nbformat": 4,
 "nbformat_minor": 5
}
