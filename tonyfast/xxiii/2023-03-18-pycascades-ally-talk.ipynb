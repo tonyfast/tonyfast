{
 "cells": [
  {
   "cell_type": "markdown",
   "id": "4e2eecb2-b5b6-4634-8b16-25cd78b94d0a",
   "metadata": {
    "execution": {
     "iopub.execute_input": "2023-03-18T21:39:19.582697Z",
     "iopub.status.busy": "2023-03-18T21:39:19.582528Z",
     "iopub.status.idle": "2023-03-18T21:39:19.587234Z",
     "shell.execute_reply": "2023-03-18T21:39:19.586509Z",
     "shell.execute_reply.started": "2023-03-18T21:39:19.582684Z"
    },
    "tags": []
   },
   "source": [
    "# A Crash Course in Digital Accessibility\n",
    "\n",
    "5 minutes of things you use today to start thinking about accessibility"
   ]
  },
  {
   "cell_type": "code",
   "execution_count": 1,
   "id": "bd8340fe-f1a6-42a0-91a5-0608a0463a76",
   "metadata": {
    "execution": {
     "iopub.execute_input": "2023-03-18T22:03:16.029575Z",
     "iopub.status.busy": "2023-03-18T22:03:16.029232Z",
     "iopub.status.idle": "2023-03-18T22:03:16.105483Z",
     "shell.execute_reply": "2023-03-18T22:03:16.105171Z",
     "shell.execute_reply.started": "2023-03-18T22:03:16.029550Z"
    },
    "tags": []
   },
   "outputs": [
    {
     "data": {
      "text/markdown": [
       "<div hidden>\n",
       "\n",
       "    \n",
       "    %reload_ext pidgy\n",
       "\n",
       "</div>"
      ],
      "text/plain": [
       "<IPython.core.display.Markdown object>"
      ]
     },
     "metadata": {},
     "output_type": "display_data"
    }
   ],
   "source": [
    "    \n",
    "    %reload_ext pidgy"
   ]
  },
  {
   "cell_type": "markdown",
   "id": "53096757-48e6-4e3d-bc9e-dd8af8932f1b",
   "metadata": {},
   "source": [
    "## forms of disability\n",
    "\n",
    "prevalence of disability.\n",
    "\n",
    "![](https://pbs.twimg.com/media/Eg8G4xXX0AEvtpC?format=png&name=large)"
   ]
  },
  {
   "cell_type": "code",
   "execution_count": 2,
   "id": "a43002fb-74a0-4325-a52e-f418a2c1efcc",
   "metadata": {
    "execution": {
     "iopub.execute_input": "2023-03-18T22:03:16.106487Z",
     "iopub.status.busy": "2023-03-18T22:03:16.106319Z",
     "iopub.status.idle": "2023-03-18T22:03:16.117951Z",
     "shell.execute_reply": "2023-03-18T22:03:16.117657Z",
     "shell.execute_reply.started": "2023-03-18T22:03:16.106477Z"
    },
    "tags": []
   },
   "outputs": [
    {
     "data": {
      "text/markdown": [
       "## forms of accessibility\n",
       "\n",
       "* Vision \n",
       "* Hearing \n",
       "* Neurodiversity \n",
       "* Learning \n",
       "* Mobility \n",
       "* Mental health"
      ],
      "text/plain": [
       "<IPython.core.display.Markdown object>"
      ]
     },
     "metadata": {},
     "output_type": "display_data"
    }
   ],
   "source": [
    "## principles of accessibility\n",
    "\n",
    "WAI \n",
    "\n",
    "* Vision \n",
    "* Hearing \n",
    "* Neurodiversity \n",
    "* Learning \n",
    "* Mobility \n",
    "* Mental health"
   ]
  },
  {
   "cell_type": "code",
   "execution_count": 3,
   "id": "b455b5b1-1f88-450d-af8b-780da9a0ea1d",
   "metadata": {
    "execution": {
     "iopub.execute_input": "2023-03-18T22:03:16.118470Z",
     "iopub.status.busy": "2023-03-18T22:03:16.118357Z",
     "iopub.status.idle": "2023-03-18T22:03:16.122219Z",
     "shell.execute_reply": "2023-03-18T22:03:16.121933Z",
     "shell.execute_reply.started": "2023-03-18T22:03:16.118459Z"
    },
    "tags": []
   },
   "outputs": [
    {
     "data": {
      "text/markdown": [
       "## where does accessibility matter for open source\n",
       "\n",
       "* everything html on the web\n",
       "* this pdf could have been html."
      ],
      "text/plain": [
       "<IPython.core.display.Markdown object>"
      ]
     },
     "metadata": {},
     "output_type": "display_data"
    }
   ],
   "source": [
    "## where does accessibility matter for open source\n",
    "\n",
    "* everything html on the web\n",
    "* this pdf could have been html."
   ]
  },
  {
   "cell_type": "code",
   "execution_count": 21,
   "id": "4f5c2f41-2766-4b2f-92b1-8668bb3c14cd",
   "metadata": {
    "execution": {
     "iopub.execute_input": "2023-03-19T01:14:08.257811Z",
     "iopub.status.busy": "2023-03-19T01:14:08.257626Z",
     "iopub.status.idle": "2023-03-19T01:14:08.263141Z",
     "shell.execute_reply": "2023-03-19T01:14:08.262624Z",
     "shell.execute_reply.started": "2023-03-19T01:14:08.257798Z"
    },
    "tags": []
   },
   "outputs": [
    {
     "data": {
      "text/markdown": [
       "## web standards\n",
       "\n",
       "\n",
       "* [web content accessibility guidelines](https://www.w3.org/WAI/standards-guidelines/)\n",
       "* [accessibility conformance testing](https://www.w3.org/WAI/standards-guidelines/act/rules/)\n",
       "* [accessibility object model](https://wicg.github.io/aom/spec/)\n",
       "* [WAI patterns](https://wicg.github.io/aom/spec/)"
      ],
      "text/plain": [
       "<IPython.core.display.Markdown object>"
      ]
     },
     "metadata": {},
     "output_type": "display_data"
    }
   ],
   "source": [
    "## web standards\n",
    "\n",
    "\n",
    "* [web content accessibility guidelines](https://www.w3.org/WAI/standards-guidelines/)\n",
    "* [accessibility conformance testing](https://www.w3.org/WAI/standards-guidelines/act/rules/)\n",
    "* [accessibility object model](https://wicg.github.io/aom/spec/)\n",
    "* [WAI patterns](https://wicg.github.io/aom/spec/)"
   ]
  },
  {
   "cell_type": "code",
   "execution_count": 17,
   "id": "5c1d2c50-a2a8-4d9b-9ef0-fb07fed317e7",
   "metadata": {
    "execution": {
     "iopub.execute_input": "2023-03-19T01:12:04.353266Z",
     "iopub.status.busy": "2023-03-19T01:12:04.353057Z",
     "iopub.status.idle": "2023-03-19T01:12:04.359587Z",
     "shell.execute_reply": "2023-03-19T01:12:04.359190Z",
     "shell.execute_reply.started": "2023-03-19T01:12:04.353251Z"
    },
    "tags": []
   },
   "outputs": [
    {
     "data": {
      "text/markdown": [
       "## wcag principles\n",
       "\n",
       "<blockquote markdown cite=\"https://en.wikipedia.org/wiki/Web_Content_Accessibility_Guidelines\">\n",
       "\n",
       "* Guideline 1: Provide equivalent alternatives to auditory and visual content\n",
       "* Guideline 2: Don't rely on colour alone\n",
       "* Guideline 3: Use markup and style sheets, and do so properly\n",
       "* Guideline 4: Clarify natural language usage\n",
       "* Guideline 5: Create tables that transform gracefully\n",
       "* Guideline 6: Ensure that pages featuring new technologies transform gracefully\n",
       "* Guideline 7: Ensure user control of time sensitive content changes\n",
       "* Guideline 8: Ensure direct accessibility of embedded user interfaces\n",
       "* Guideline 9: Design for device independence\n",
       "* Guideline 10: User interim solutions\n",
       "* Guideline 11: Use W3C technologies and guidelines\n",
       "* Guideline 12: Provide context and orientation information\n",
       "* Guideline 13: Provide clear navigation mechanisms\n",
       "* Guideline 14: Ensure that documents are clear and simple\n",
       "\n",
       "</blockquote>"
      ],
      "text/plain": [
       "<IPython.core.display.Markdown object>"
      ]
     },
     "metadata": {},
     "output_type": "display_data"
    }
   ],
   "source": [
    "## wcag principles\n",
    "\n",
    "<blockquote markdown cite=\"https://en.wikipedia.org/wiki/Web_Content_Accessibility_Guidelines\">\n",
    "\n",
    "* Guideline 1: Provide equivalent alternatives to auditory and visual content\n",
    "* Guideline 2: Don't rely on colour alone\n",
    "* Guideline 3: Use markup and style sheets, and do so properly\n",
    "* Guideline 4: Clarify natural language usage\n",
    "* Guideline 5: Create tables that transform gracefully\n",
    "* Guideline 6: Ensure that pages featuring new technologies transform gracefully\n",
    "* Guideline 7: Ensure user control of time sensitive content changes\n",
    "* Guideline 8: Ensure direct accessibility of embedded user interfaces\n",
    "* Guideline 9: Design for device independence\n",
    "* Guideline 10: User interim solutions\n",
    "* Guideline 11: Use W3C technologies and guidelines\n",
    "* Guideline 12: Provide context and orientation information\n",
    "* Guideline 13: Provide clear navigation mechanisms\n",
    "* Guideline 14: Ensure that documents are clear and simple\n",
    "\n",
    "</blockquote>"
   ]
  },
  {
   "cell_type": "code",
   "execution_count": 22,
   "id": "56151381-7bdb-43d5-9a39-68efb750c52f",
   "metadata": {
    "execution": {
     "iopub.execute_input": "2023-03-19T01:14:36.252086Z",
     "iopub.status.busy": "2023-03-19T01:14:36.251846Z",
     "iopub.status.idle": "2023-03-19T01:14:36.258054Z",
     "shell.execute_reply": "2023-03-19T01:14:36.257655Z",
     "shell.execute_reply.started": "2023-03-19T01:14:36.252072Z"
    },
    "tags": []
   },
   "outputs": [
    {
     "data": {
      "text/markdown": [
       "## auditting accessibility\n",
       "\n",
       "put these in ci!\n",
       "\n",
       "* https://www.ibm.com/able/toolkit/tools/?utm_content=buffer64e12&utm_medium=social&utm_source=twitter.com&utm_campaign=buffer\n",
       "* https://github.com/dequelabs/axe-core\n",
       "* https://github.com/IBMa/equal-access/tree/master\n",
       "* https://webaim.org/services/\n",
       "* prettier\n",
       "* https://validator.w3.org/\n",
       "\n",
       "audits are insufficient. they reveal the flow. disability people need their time back."
      ],
      "text/plain": [
       "<IPython.core.display.Markdown object>"
      ]
     },
     "metadata": {},
     "output_type": "display_data"
    }
   ],
   "source": [
    "## auditting accessibility\n",
    "\n",
    "put these in ci!\n",
    "\n",
    "* https://www.ibm.com/able/toolkit/tools/?utm_content=buffer64e12&utm_medium=social&utm_source=twitter.com&utm_campaign=buffer\n",
    "* https://github.com/dequelabs/axe-core\n",
    "* https://github.com/IBMa/equal-access/tree/master\n",
    "* https://webaim.org/services/\n",
    "* prettier\n",
    "* https://validator.w3.org/\n",
    "\n",
    "audits are insufficient. they reveal the flow. disability people need their time back."
   ]
  },
  {
   "cell_type": "code",
   "execution_count": 26,
   "id": "aa4be25f-8a5e-434c-a786-8fcafe5a70fa",
   "metadata": {
    "execution": {
     "iopub.execute_input": "2023-03-19T01:22:50.781152Z",
     "iopub.status.busy": "2023-03-19T01:22:50.780670Z",
     "iopub.status.idle": "2023-03-19T01:22:50.789284Z",
     "shell.execute_reply": "2023-03-19T01:22:50.788816Z",
     "shell.execute_reply.started": "2023-03-19T01:22:50.781127Z"
    },
    "tags": []
   },
   "outputs": [
    {
     "data": {
      "text/markdown": [
       "## manually reviewing accessibility\n",
       "\n",
       "* [reviewing accessible design principles](https://adhoc.team/2023/02/22/the-importance-of-adding-accessibility-design-reviews-to-the-design-process/)\n",
       "    * Think about focus order\n",
       "    * Examine copy\n",
       "    * Pay attention to colors\n",
       "    * Look at page context and components\n",
       "    * Annotate the designs\n",
       "* [no mouse days](https://www.a11yproject.com/posts/no-mouse-days/)\n",
       "* [community events](https://github.com/isabela-pf/a11y-events/tree/main/workshop-resources/alt-text)\n",
       "    * alt text\n",
       "    * keyboard navigation\n",
       "\n",
       "    \n",
       "    "
      ],
      "text/plain": [
       "<IPython.core.display.Markdown object>"
      ]
     },
     "metadata": {},
     "output_type": "display_data"
    }
   ],
   "source": [
    "## manually reviewing accessibility\n",
    "\n",
    "* [reviewing accessible design principles](https://adhoc.team/2023/02/22/the-importance-of-adding-accessibility-design-reviews-to-the-design-process/)\n",
    "    * Think about focus order\n",
    "    * Examine copy\n",
    "    * Pay attention to colors\n",
    "    * Look at page context and components\n",
    "    * Annotate the designs\n",
    "* [no mouse days](https://www.a11yproject.com/posts/no-mouse-days/)\n",
    "* [community events](https://github.com/isabela-pf/a11y-events/tree/main/workshop-resources/alt-text)\n",
    "    * alt text\n",
    "    * keyboard navigation\n",
    "\n",
    "    \n",
    "    "
   ]
  },
  {
   "cell_type": "markdown",
   "id": "42caccf3-b99c-49c7-a8eb-9e2e790c2215",
   "metadata": {},
   "source": [
    "## other useful sources sources\n",
    "\n",
    "* chartability\n",
    "* wai patterns\n",
    "* http://diagramcenter.org/general-guidelines-final-draft.html\n",
    "* [do no harm](https://www.urban.org/research/publication/do-no-harm-guide-applying-equity-awareness-data-visualization)"
   ]
  },
  {
   "cell_type": "code",
   "execution_count": 27,
   "id": "d12dd778-9a84-46b5-b6f6-eb800f32a242",
   "metadata": {
    "execution": {
     "iopub.execute_input": "2023-03-19T01:27:47.691605Z",
     "iopub.status.busy": "2023-03-19T01:27:47.691426Z",
     "iopub.status.idle": "2023-03-19T01:27:47.696477Z",
     "shell.execute_reply": "2023-03-19T01:27:47.695910Z",
     "shell.execute_reply.started": "2023-03-19T01:27:47.691591Z"
    },
    "tags": []
   },
   "outputs": [
    {
     "data": {
      "text/markdown": [
       "## conclusion\n",
       "\n",
       "* https://en.wikipedia.org/wiki/Nothing_about_us_without_us"
      ],
      "text/plain": [
       "<IPython.core.display.Markdown object>"
      ]
     },
     "metadata": {},
     "output_type": "display_data"
    }
   ],
   "source": [
    "## conclusion\n",
    "\n",
    "* https://en.wikipedia.org/wiki/Nothing_about_us_without_us"
   ]
  },
  {
   "cell_type": "code",
   "execution_count": 9,
   "id": "08a0496f-e9d0-4fef-bb87-81babc3f0b80",
   "metadata": {
    "execution": {
     "iopub.execute_input": "2023-03-18T22:03:16.258043Z",
     "iopub.status.busy": "2023-03-18T22:03:16.257914Z",
     "iopub.status.idle": "2023-03-18T22:03:16.261694Z",
     "shell.execute_reply": "2023-03-18T22:03:16.261399Z",
     "shell.execute_reply.started": "2023-03-18T22:03:16.258031Z"
    },
    "tags": []
   },
   "outputs": [
    {
     "data": {
      "text/markdown": [
       "## how?\n",
       "\n",
       "jupyterlite pidgy jupyter deck"
      ],
      "text/plain": [
       "<IPython.core.display.Markdown object>"
      ]
     },
     "metadata": {},
     "output_type": "display_data"
    }
   ],
   "source": [
    "## how?\n",
    "\n",
    "jupyterlite pidgy jupyter deck"
   ]
  }
 ],
 "metadata": {
  "kernelspec": {
   "display_name": "Python [conda env:root] *",
   "language": "python",
   "name": "conda-root-py"
  },
  "language_info": {
   "codemirror_mode": {
    "name": "ipython",
    "version": 3
   },
   "file_extension": ".py",
   "mimetype": "text/x-python",
   "name": "python",
   "nbconvert_exporter": "python",
   "pygments_lexer": "ipython3",
   "version": "3.10.9"
  },
  "widgets": {
   "application/vnd.jupyter.widget-state+json": {
    "state": {},
    "version_major": 2,
    "version_minor": 0
   }
  }
 },
 "nbformat": 4,
 "nbformat_minor": 5
}
