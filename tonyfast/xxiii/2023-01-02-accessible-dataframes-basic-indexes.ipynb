{
 "cells": [
  {
   "cell_type": "markdown",
   "id": "46960ad4-06fc-4469-bc83-e924767bd580",
   "metadata": {},
   "source": [
    "# rendering dataframes for screen readers with `pandas`\n",
    "\n",
    "in the document we'll explore what it takes to make `pandas.DataFrame`s accessible.\n",
    "we'll follow [Paul J Adam's](https://pauljadam.com) instructions for making [Simple Data Tables](https://pauljadam.com/demos/data-tables.html#heading1)."
   ]
  },
  {
   "cell_type": "code",
   "execution_count": 1,
   "id": "dc23272f-ba16-4499-942d-b6f288c7545a",
   "metadata": {},
   "outputs": [],
   "source": [
    "    \n",
    "    %reload_ext pidgy\n",
    "    import pandas.io.formats.style, bs4, pytest\n",
    "    soup = lambda x: bs4.BeautifulSoup(x, features=\"html.parser\")"
   ]
  },
  {
   "cell_type": "markdown",
   "id": "534d88b2-ebaf-4fdc-b92e-733b8060a9a2",
   "metadata": {},
   "source": [
    "## scoping this document\n",
    "\n",
    "in this document we only work with `df`. "
   ]
  },
  {
   "cell_type": "code",
   "execution_count": 2,
   "id": "401913ff-534f-4659-aec5-0784b1f1f34c",
   "metadata": {},
   "outputs": [
    {
     "data": {
      "text/html": [
       "<style type=\"text/css\">\n",
       "</style>\n",
       "<table id=\"T_f118a\">\n",
       "  <thead>\n",
       "    <tr>\n",
       "      <th class=\"blank level0\" >&nbsp;</th>\n",
       "      <th id=\"T_f118a_level0_col0\" class=\"col_heading level0 col0\" >A</th>\n",
       "      <th id=\"T_f118a_level0_col1\" class=\"col_heading level0 col1\" >B</th>\n",
       "      <th id=\"T_f118a_level0_col2\" class=\"col_heading level0 col2\" >C</th>\n",
       "    </tr>\n",
       "    <tr>\n",
       "      <th class=\"index_name level0\" >index</th>\n",
       "      <th class=\"blank col0\" >&nbsp;</th>\n",
       "      <th class=\"blank col1\" >&nbsp;</th>\n",
       "      <th class=\"blank col2\" >&nbsp;</th>\n",
       "    </tr>\n",
       "  </thead>\n",
       "  <tbody>\n",
       "    <tr>\n",
       "      <th id=\"T_f118a_level0_row0\" class=\"row_heading level0 row0\" >0</th>\n",
       "      <td id=\"T_f118a_row0_col0\" class=\"data row0 col0\" >nan</td>\n",
       "      <td id=\"T_f118a_row0_col1\" class=\"data row0 col1\" >nan</td>\n",
       "      <td id=\"T_f118a_row0_col2\" class=\"data row0 col2\" >nan</td>\n",
       "    </tr>\n",
       "    <tr>\n",
       "      <th id=\"T_f118a_level0_row1\" class=\"row_heading level0 row1\" >1</th>\n",
       "      <td id=\"T_f118a_row1_col0\" class=\"data row1 col0\" >nan</td>\n",
       "      <td id=\"T_f118a_row1_col1\" class=\"data row1 col1\" >nan</td>\n",
       "      <td id=\"T_f118a_row1_col2\" class=\"data row1 col2\" >nan</td>\n",
       "    </tr>\n",
       "  </tbody>\n",
       "</table>\n"
      ],
      "text/plain": [
       "<pandas.io.formats.style.Styler at 0x7f827eadb070>"
      ]
     },
     "execution_count": 2,
     "metadata": {},
     "output_type": "execute_result"
    },
    {
     "data": {
      "text/markdown": [
       "    (df := pandas.DataFrame(\n",
       "        columns=pandas.Index(list(\"ABC\")), \n",
       "        index=pandas.Index(range(2), name=\"index\"))).style"
      ],
      "text/plain": [
       "<IPython.core.display.Markdown object>"
      ]
     },
     "metadata": {},
     "output_type": "display_data"
    }
   ],
   "source": [
    "    (df := pandas.DataFrame(\n",
    "        columns=pandas.Index(list(\"ABC\")), \n",
    "        index=pandas.Index(range(2), name=\"index\"))).style"
   ]
  },
  {
   "cell_type": "code",
   "execution_count": 3,
   "id": "9cf4e973-2d61-40d5-880a-b404529de6ca",
   "metadata": {},
   "outputs": [
    {
     "data": {
      "text/markdown": [
       "it is a basic `pandas.DataFrame` because:    \n",
       "    \n",
       "* it has ONE row level \n",
       "* it has ONE column level \n",
       "\n",
       "> we'll deal with more complex shapes in other documents."
      ],
      "text/plain": [
       "<IPython.core.display.Markdown object>"
      ]
     },
     "metadata": {},
     "output_type": "display_data"
    }
   ],
   "source": [
    "it is a basic `pandas.DataFrame` because:    \n",
    "    \n",
    "* it has ONE row level \n",
    "* it has ONE column level \n",
    "\n",
    "> we'll deal with more complex shapes in other documents."
   ]
  },
  {
   "cell_type": "code",
   "execution_count": 4,
   "id": "f4c5baa1-5519-4969-90cf-045d4b831e2f",
   "metadata": {},
   "outputs": [
    {
     "data": {
      "text/markdown": [
       "## 1. Title of data table is inside the `<caption>` element.\n",
       "\n",
       "this rule requires knowledge of the data and is context dependent"
      ],
      "text/plain": [
       "<IPython.core.display.Markdown object>"
      ]
     },
     "metadata": {},
     "output_type": "display_data"
    }
   ],
   "source": [
    "## 1. Title of data table is inside the `<caption>` element.\n",
    "\n",
    "this rule requires knowledge of the data and is context dependent"
   ]
  },
  {
   "cell_type": "code",
   "execution_count": 5,
   "id": "822e85ee-39c2-4057-9ac5-4fa54f14f362",
   "metadata": {},
   "outputs": [
    {
     "data": {
      "text/markdown": [
       "    def assert_has_caption(object):\n",
       "        caption = soup(object).select_one(\"table caption\")\n",
       "        assert caption and caption.string.strip(), \"table is missing a <caption>\""
      ],
      "text/plain": [
       "<IPython.core.display.Markdown object>"
      ]
     },
     "metadata": {},
     "output_type": "display_data"
    }
   ],
   "source": [
    "    def assert_has_caption(object):\n",
    "        caption = soup(object).select_one(\"table caption\")\n",
    "        assert caption and caption.string.strip(), \"table is missing a <caption>\""
   ]
  },
  {
   "cell_type": "code",
   "execution_count": 6,
   "id": "74ea2cee-3914-41bb-be6e-7026c43be4da",
   "metadata": {},
   "outputs": [
    {
     "data": {
      "text/markdown": [
       "    def set_caption(df, caption) -> pandas.io.formats.style.Styler:\n",
       "        return df.style.set_caption(caption)\n",
       "    \n",
       "after we have a styler we are working with a subset of pandas operations.\n",
       "the styler should be the last stop for the data."
      ],
      "text/plain": [
       "<IPython.core.display.Markdown object>"
      ]
     },
     "metadata": {},
     "output_type": "display_data"
    }
   ],
   "source": [
    "    def set_caption(df, caption) -> pandas.io.formats.style.Styler:\n",
    "        return df.style.set_caption(caption)\n",
    "    \n",
    "after we have a styler we are working with a subset of pandas operations.\n",
    "the styler should be the last stop for the data."
   ]
  },
  {
   "cell_type": "code",
   "execution_count": 7,
   "id": "23f39ad1-c216-4c18-a416-25ad84ea11c3",
   "metadata": {},
   "outputs": [
    {
     "data": {
      "text/markdown": [
       "    with pytest.raises(AssertionError): assert_has_caption(df._repr_html_())\n",
       "    assert_has_caption(\n",
       "        captioned := set_caption(df, \"a value-less dataframe with columns and row indexes\")._repr_html_()\n",
       "    )"
      ],
      "text/plain": [
       "<IPython.core.display.Markdown object>"
      ]
     },
     "metadata": {},
     "output_type": "display_data"
    }
   ],
   "source": [
    "    with pytest.raises(AssertionError): assert_has_caption(df._repr_html_())\n",
    "    assert_has_caption(\n",
    "        captioned := set_caption(df, \"a value-less dataframe with columns and row indexes\")._repr_html_()\n",
    "    )"
   ]
  },
  {
   "cell_type": "code",
   "execution_count": 8,
   "id": "9f54eec7-e8f2-44f6-8751-64de02d02530",
   "metadata": {},
   "outputs": [
    {
     "data": {
      "text/markdown": [
       "## 2. Column headers are inside `<th scope=\"col\">` elements."
      ],
      "text/plain": [
       "<IPython.core.display.Markdown object>"
      ]
     },
     "metadata": {},
     "output_type": "display_data"
    }
   ],
   "source": [
    "## 2. Column headers are inside `<th scope=\"col\">` elements."
   ]
  },
  {
   "cell_type": "code",
   "execution_count": 9,
   "id": "39628698-e848-45a2-98f0-ed35a178010b",
   "metadata": {},
   "outputs": [
    {
     "data": {
      "text/markdown": [
       "    def assert_has_col_scope(object, selector=\"thead tr th\"):\n",
       "        assert all(th.attrs.get(\"scope\") in {\"col\", \"colgroup\"} for th in soup(object).select(selector)), \"<th> is missing `scope='col'`\""
      ],
      "text/plain": [
       "<IPython.core.display.Markdown object>"
      ]
     },
     "metadata": {},
     "output_type": "display_data"
    }
   ],
   "source": [
    "    def assert_has_col_scope(object, selector=\"thead tr th\"):\n",
    "        assert all(th.attrs.get(\"scope\") in {\"col\", \"colgroup\"} for th in soup(object).select(selector)), \"<th> is missing `scope='col'`\""
   ]
  },
  {
   "cell_type": "code",
   "execution_count": 10,
   "id": "eaf0ab40-a76e-4eb8-b169-5eb414ad44fd",
   "metadata": {},
   "outputs": [
    {
     "data": {
      "text/markdown": [
       "    def set_col_scope(object, selector=\"thead tr th\"):\n",
       "        for th in (object := soup(object)).select(selector):\n",
       "            th.attrs.setdefault(\"scope\", \"col\")\n",
       "        return str(object)"
      ],
      "text/plain": [
       "<IPython.core.display.Markdown object>"
      ]
     },
     "metadata": {},
     "output_type": "display_data"
    }
   ],
   "source": [
    "    def set_col_scope(object, selector=\"thead tr th\"):\n",
    "        for th in (object := soup(object)).select(selector):\n",
    "            th.attrs.setdefault(\"scope\", \"col\")\n",
    "        return str(object)"
   ]
  },
  {
   "cell_type": "code",
   "execution_count": 11,
   "id": "50806d26-8e34-4f66-a423-53d29f1a690a",
   "metadata": {},
   "outputs": [
    {
     "data": {
      "text/html": [
       "<style type=\"text/css\">\n",
       "</style>\n",
       "<table id=\"T_1111b\">\n",
       "<caption>a value-less dataframe with columns and row indexes</caption>\n",
       "<thead>\n",
       "<tr>\n",
       "<th class=\"blank level0\" scope=\"col\"> </th>\n",
       "<th class=\"col_heading level0 col0\" id=\"T_1111b_level0_col0\" scope=\"col\">A</th>\n",
       "<th class=\"col_heading level0 col1\" id=\"T_1111b_level0_col1\" scope=\"col\">B</th>\n",
       "<th class=\"col_heading level0 col2\" id=\"T_1111b_level0_col2\" scope=\"col\">C</th>\n",
       "</tr>\n",
       "<tr>\n",
       "<th class=\"index_name level0\" scope=\"col\">index</th>\n",
       "<th class=\"blank col0\" scope=\"col\"> </th>\n",
       "<th class=\"blank col1\" scope=\"col\"> </th>\n",
       "<th class=\"blank col2\" scope=\"col\"> </th>\n",
       "</tr>\n",
       "</thead>\n",
       "<tbody>\n",
       "<tr>\n",
       "<th class=\"row_heading level0 row0\" id=\"T_1111b_level0_row0\">0</th>\n",
       "<td class=\"data row0 col0\" id=\"T_1111b_row0_col0\">nan</td>\n",
       "<td class=\"data row0 col1\" id=\"T_1111b_row0_col1\">nan</td>\n",
       "<td class=\"data row0 col2\" id=\"T_1111b_row0_col2\">nan</td>\n",
       "</tr>\n",
       "<tr>\n",
       "<th class=\"row_heading level0 row1\" id=\"T_1111b_level0_row1\">1</th>\n",
       "<td class=\"data row1 col0\" id=\"T_1111b_row1_col0\">nan</td>\n",
       "<td class=\"data row1 col1\" id=\"T_1111b_row1_col1\">nan</td>\n",
       "<td class=\"data row1 col2\" id=\"T_1111b_row1_col2\">nan</td>\n",
       "</tr>\n",
       "</tbody>\n",
       "</table>\n"
      ],
      "text/plain": [
       "<IPython.core.display.HTML object>"
      ]
     },
     "execution_count": 11,
     "metadata": {},
     "output_type": "execute_result"
    },
    {
     "data": {
      "text/markdown": [
       "    with pytest.raises(AssertionError): assert_has_col_scope(captioned)\n",
       "    assert_has_col_scope(col_scoped := set_col_scope(captioned))\n",
       "    HTML(col_scoped)"
      ],
      "text/plain": [
       "<IPython.core.display.Markdown object>"
      ]
     },
     "metadata": {},
     "output_type": "display_data"
    }
   ],
   "source": [
    "    with pytest.raises(AssertionError): assert_has_col_scope(captioned)\n",
    "    assert_has_col_scope(col_scoped := set_col_scope(captioned))\n",
    "    HTML(col_scoped)"
   ]
  },
  {
   "cell_type": "code",
   "execution_count": 12,
   "id": "2df0d29e-d11e-4f06-a69f-4dbcb49eaf5d",
   "metadata": {},
   "outputs": [
    {
     "data": {
      "text/markdown": [
       "## 3. Row headers are inside `<th scope=\"row\">` elements."
      ],
      "text/plain": [
       "<IPython.core.display.Markdown object>"
      ]
     },
     "metadata": {},
     "output_type": "display_data"
    }
   ],
   "source": [
    "## 3. Row headers are inside `<th scope=\"row\">` elements."
   ]
  },
  {
   "cell_type": "code",
   "execution_count": 13,
   "id": "58be471c-5fce-4cd7-bfdd-53dde37b78b9",
   "metadata": {},
   "outputs": [
    {
     "data": {
      "text/markdown": [
       "    def assert_has_row_scope(object, selector=\"tbody tr th\"):\n",
       "        assert all(th.attrs.get(\"scope\") in {\"row\", \"rowgroup\"} for th in soup(object).select(selector)), \"<th> is missing `scope='col'`\""
      ],
      "text/plain": [
       "<IPython.core.display.Markdown object>"
      ]
     },
     "metadata": {},
     "output_type": "display_data"
    }
   ],
   "source": [
    "    def assert_has_row_scope(object, selector=\"tbody tr th\"):\n",
    "        assert all(th.attrs.get(\"scope\") in {\"row\", \"rowgroup\"} for th in soup(object).select(selector)), \"<th> is missing `scope='col'`\""
   ]
  },
  {
   "cell_type": "code",
   "execution_count": 14,
   "id": "ca3fa93f-ad42-4dc3-9194-57daffb0f0ca",
   "metadata": {},
   "outputs": [
    {
     "data": {
      "text/markdown": [
       "    def set_row_scope(object, selector=\"tbody tr th\"):\n",
       "        for th in (object := soup(object)).select(selector):\n",
       "            th.attrs.setdefault(\"scope\", \"row\")\n",
       "        return str(object)"
      ],
      "text/plain": [
       "<IPython.core.display.Markdown object>"
      ]
     },
     "metadata": {},
     "output_type": "display_data"
    }
   ],
   "source": [
    "    def set_row_scope(object, selector=\"tbody tr th\"):\n",
    "        for th in (object := soup(object)).select(selector):\n",
    "            th.attrs.setdefault(\"scope\", \"row\")\n",
    "        return str(object)"
   ]
  },
  {
   "cell_type": "code",
   "execution_count": 15,
   "id": "f59da272-30a8-4175-b368-d7072154b8df",
   "metadata": {},
   "outputs": [
    {
     "data": {
      "text/markdown": [
       "    with pytest.raises(AssertionError): assert_has_row_scope(col_scoped)\n",
       "    assert_has_row_scope(row_scoped := set_row_scope(col_scoped))"
      ],
      "text/plain": [
       "<IPython.core.display.Markdown object>"
      ]
     },
     "metadata": {},
     "output_type": "display_data"
    }
   ],
   "source": [
    "    with pytest.raises(AssertionError): assert_has_row_scope(col_scoped)\n",
    "    assert_has_row_scope(row_scoped := set_row_scope(col_scoped))"
   ]
  },
  {
   "cell_type": "code",
   "execution_count": 16,
   "id": "f26bf91d-bb28-431c-9730-bb01cdb08a76",
   "metadata": {},
   "outputs": [
    {
     "data": {
      "text/markdown": [
       "## 4. Avoid using blank header cells.\n",
       "\n",
       "name your indexes"
      ],
      "text/plain": [
       "<IPython.core.display.Markdown object>"
      ]
     },
     "metadata": {},
     "output_type": "display_data"
    }
   ],
   "source": [
    "## 4. Avoid using blank header cells.\n",
    "\n",
    "name your indexes"
   ]
  },
  {
   "cell_type": "code",
   "execution_count": 17,
   "id": "6a8b3c05-e255-4876-96ee-20c999cac8e7",
   "metadata": {},
   "outputs": [
    {
     "data": {
      "text/markdown": [
       "    def assert_no_blank_header(body):\n",
       "        assert all(th.string.strip() for th in soup(body).select(\"th\")), \"there is a blank <th>\""
      ],
      "text/plain": [
       "<IPython.core.display.Markdown object>"
      ]
     },
     "metadata": {},
     "output_type": "display_data"
    }
   ],
   "source": [
    "    def assert_no_blank_header(body):\n",
    "        assert all(th.string.strip() for th in soup(body).select(\"th\")), \"there is a blank <th>\""
   ]
  },
  {
   "cell_type": "code",
   "execution_count": 18,
   "id": "82c42934-fcb4-41ee-baae-5027ea25b945",
   "metadata": {},
   "outputs": [
    {
     "data": {
      "text/markdown": [
       "    with pytest.raises(AssertionError): assert_no_blank_header(row_scoped)"
      ],
      "text/plain": [
       "<IPython.core.display.Markdown object>"
      ]
     },
     "metadata": {},
     "output_type": "display_data"
    }
   ],
   "source": [
    "    with pytest.raises(AssertionError): assert_no_blank_header(row_scoped)"
   ]
  },
  {
   "cell_type": "code",
   "execution_count": 19,
   "id": "5ac35663-aaec-4f72-905a-602bf118e904",
   "metadata": {},
   "outputs": [
    {
     "data": {
      "text/markdown": [
       "    def set_squashed_th(body):\n",
       "        table = soup(body)\n",
       "        tr = bs4.Tag(name=\"tr\")\n",
       "        col, row = table.select(\"thead tr\")\n",
       "        for top, bottom in zip(col.select(\"th\"), row.select(\"th\")):\n",
       "            tr.append(top if top.string.strip() else bottom)\n",
       "        thead = bs4.Tag(name=\"thead\"); thead.append(tr)\n",
       "        table.select_one(\"thead\").replace_with(thead)\n",
       "        return str(table)"
      ],
      "text/plain": [
       "<IPython.core.display.Markdown object>"
      ]
     },
     "metadata": {},
     "output_type": "display_data"
    }
   ],
   "source": [
    "    def set_squashed_th(body):\n",
    "        table = soup(body)\n",
    "        tr = bs4.Tag(name=\"tr\")\n",
    "        col, row = table.select(\"thead tr\")\n",
    "        for top, bottom in zip(col.select(\"th\"), row.select(\"th\")):\n",
    "            tr.append(top if top.string.strip() else bottom)\n",
    "        thead = bs4.Tag(name=\"thead\"); thead.append(tr)\n",
    "        table.select_one(\"thead\").replace_with(thead)\n",
    "        return str(table)"
   ]
  },
  {
   "cell_type": "code",
   "execution_count": 20,
   "id": "025d0c03-0917-40e0-ac5f-fd12ba8aff91",
   "metadata": {},
   "outputs": [
    {
     "data": {
      "text/markdown": [
       "    assert_no_blank_header(squashed_th := set_squashed_th(row_scoped))"
      ],
      "text/plain": [
       "<IPython.core.display.Markdown object>"
      ]
     },
     "metadata": {},
     "output_type": "display_data"
    }
   ],
   "source": [
    "    assert_no_blank_header(squashed_th := set_squashed_th(row_scoped))"
   ]
  },
  {
   "cell_type": "code",
   "execution_count": 21,
   "id": "17523b50-dc92-4c7b-b6f1-f0a9eb15db69",
   "metadata": {},
   "outputs": [
    {
     "data": {
      "text/markdown": [
       "## 5. Header cells with text abbreviations that need expansion use the title attribute with the expanded text set as the value."
      ],
      "text/plain": [
       "<IPython.core.display.Markdown object>"
      ]
     },
     "metadata": {},
     "output_type": "display_data"
    }
   ],
   "source": [
    "## 5. Header cells with text abbreviations that need expansion use the title attribute with the expanded text set as the value."
   ]
  },
  {
   "cell_type": "code",
   "execution_count": 22,
   "id": "5c9edb96-8679-49f6-a545-c4fd0172d3d2",
   "metadata": {},
   "outputs": [
    {
     "data": {
      "text/markdown": [
       "    def set_header_titles(body, titles):\n",
       "        for th in (body := soup(body)).select(\"thead tr th\"):\n",
       "            name = th.string.strip()\n",
       "            if name in titles:\n",
       "                th.attrs[\"title\"] = titles[name]\n",
       "        return str(body)"
      ],
      "text/plain": [
       "<IPython.core.display.Markdown object>"
      ]
     },
     "metadata": {},
     "output_type": "display_data"
    }
   ],
   "source": [
    "    def set_header_titles(body, titles):\n",
    "        for th in (body := soup(body)).select(\"thead tr th\"):\n",
    "            name = th.string.strip()\n",
    "            if name in titles:\n",
    "                th.attrs[\"title\"] = titles[name]\n",
    "        return str(body)"
   ]
  },
  {
   "cell_type": "code",
   "execution_count": 23,
   "id": "60d3c07b-b330-4a37-822a-f21f5f94bea8",
   "metadata": {},
   "outputs": [
    {
     "data": {
      "text/markdown": [
       "    titled = set_header_titles(squashed_th, dict(A=\"apple\", B=\"banana\", C=\"carrot\"))"
      ],
      "text/plain": [
       "<IPython.core.display.Markdown object>"
      ]
     },
     "metadata": {},
     "output_type": "display_data"
    }
   ],
   "source": [
    "    titled = set_header_titles(squashed_th, dict(A=\"apple\", B=\"banana\", C=\"carrot\"))"
   ]
  },
  {
   "cell_type": "code",
   "execution_count": 24,
   "id": "9106761c-19fc-4497-82f9-069ed98fb6fe",
   "metadata": {},
   "outputs": [
    {
     "data": {
      "text/markdown": [
       "    def strip_class_ids(body):\n",
       "        for e in (body := soup(body)).select(\"td, th\"): \n",
       "            e.attrs.pop(\"id\", None)\n",
       "            e.attrs.pop(\"class\", None)\n",
       "\n",
       "        return str(body)\n",
       "    final = strip_class_ids(titled)"
      ],
      "text/plain": [
       "<IPython.core.display.Markdown object>"
      ]
     },
     "metadata": {},
     "output_type": "display_data"
    }
   ],
   "source": [
    "    def strip_class_ids(body):\n",
    "        for e in (body := soup(body)).select(\"td, th\"): \n",
    "            e.attrs.pop(\"id\", None)\n",
    "            e.attrs.pop(\"class\", None)\n",
    "\n",
    "        return str(body)\n",
    "    final = strip_class_ids(titled)"
   ]
  },
  {
   "cell_type": "markdown",
   "id": "795af1ff-7bfa-48dc-9517-7cab531ceb0c",
   "metadata": {},
   "source": [
    "## conclusions"
   ]
  },
  {
   "cell_type": "markdown",
   "id": "d4688225-5b15-45b1-8926-3daee4235fe1",
   "metadata": {},
   "source": [
    "for basic dataframes:\n",
    "\n",
    "* 2 3 4 are context free and can be fixed. there are upstream fixes that could be made too.\n",
    "* 1 and 5 and context dependent and can't be autofixed."
   ]
  },
  {
   "cell_type": "markdown",
   "id": "40a611d7-e2cd-451a-9b54-198bd336369a",
   "metadata": {},
   "source": [
    "## the final html\n",
    "\n",
    "our final dataframe has:\n",
    "\n",
    "- [x] `<caption>`\n",
    "- [x] `<th scope=\"col\">`\n",
    "- [x] `<th scope=\"row\">`\n",
    "- [x] no empty `<th>`\n",
    "- [x] `<th title>` for abbreviations"
   ]
  },
  {
   "cell_type": "code",
   "execution_count": 25,
   "id": "a03163a3-d6a1-470a-a766-e62cbb6400ca",
   "metadata": {},
   "outputs": [
    {
     "data": {
      "text/markdown": [
       "```html\n",
       "<style type=\"text/css\">\n",
       "</style>\n",
       "<table id=\"T_1111b\">\n",
       "<caption>a value-less dataframe with columns and row indexes</caption>\n",
       "<thead><tr><th scope=\"col\">index</th><th scope=\"col\" title=\"apple\">A</th><th scope=\"col\" title=\"banana\">B</th><th scope=\"col\" title=\"carrot\">C</th></tr></thead>\n",
       "<tbody>\n",
       "<tr>\n",
       "<th scope=\"row\">0</th>\n",
       "<td>nan</td>\n",
       "<td>nan</td>\n",
       "<td>nan</td>\n",
       "</tr>\n",
       "<tr>\n",
       "<th scope=\"row\">1</th>\n",
       "<td>nan</td>\n",
       "<td>nan</td>\n",
       "<td>nan</td>\n",
       "</tr>\n",
       "</tbody>\n",
       "</table>\n",
       "\n",
       "```"
      ],
      "text/plain": [
       "<IPython.core.display.Markdown object>"
      ]
     },
     "metadata": {},
     "output_type": "display_data"
    }
   ],
   "source": [
    "```html\n",
    "{{final}}\n",
    "```"
   ]
  },
  {
   "cell_type": "markdown",
   "id": "b251eb5b-9005-4ba2-aa22-3e87c9b4f9fa",
   "metadata": {},
   "source": [
    "https://pandas.pydata.org/docs/user_guide/style.html\n",
    "https://pauljadam.com/demos/data-tables.html\n",
    "https://www.w3.org/WAI/tutorials/tables/\n",
    "https://developer.mozilla.org/en-US/docs/Learn/HTML/Tables/Advanced\n"
   ]
  },
  {
   "cell_type": "code",
   "execution_count": null,
   "id": "00a477fa-a030-4da9-a252-1f47dfe5489e",
   "metadata": {},
   "outputs": [],
   "source": []
  }
 ],
 "metadata": {
  "kernelspec": {
   "display_name": "Python [conda env:root] *",
   "language": "python",
   "name": "conda-root-py"
  },
  "language_info": {
   "codemirror_mode": {
    "name": "ipython",
    "version": 3
   },
   "file_extension": ".py",
   "mimetype": "text/x-python",
   "name": "python",
   "nbconvert_exporter": "python",
   "pygments_lexer": "ipython3",
   "version": "3.9.13"
  }
 },
 "nbformat": 4,
 "nbformat_minor": 5
}
