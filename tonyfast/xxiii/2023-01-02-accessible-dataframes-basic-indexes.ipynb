{
 "cells": [
  {
   "cell_type": "markdown",
   "id": "46960ad4-06fc-4469-bc83-e924767bd580",
   "metadata": {},
   "source": [
    "# rendering dataframes for screen readers with `pandas`\n",
    "\n",
    "in the document we'll explore what it takes to make `pandas.DataFrame`s accessible.\n",
    "we'll follow [Paul J Adam's](https://pauljadam.com) instructions for making [Simple Data Tables](https://pauljadam.com/demos/data-tables.html#heading1)."
   ]
  },
  {
   "cell_type": "code",
   "execution_count": 1,
   "id": "dc23272f-ba16-4499-942d-b6f288c7545a",
   "metadata": {},
   "outputs": [],
   "source": [
    "    \n",
    "    %reload_ext pidgy\n",
    "    import pandas.io.formats.style, bs4, pytest\n",
    "    soup = lambda x: bs4.BeautifulSoup(x, features=\"html.parser\")"
   ]
  },
  {
   "cell_type": "markdown",
   "id": "534d88b2-ebaf-4fdc-b92e-733b8060a9a2",
   "metadata": {},
   "source": [
    "in this document we only work with a most basic dataframe <var>df</var>. "
   ]
  },
  {
   "cell_type": "code",
   "execution_count": 2,
   "id": "401913ff-534f-4659-aec5-0784b1f1f34c",
   "metadata": {},
   "outputs": [
    {
     "data": {
      "text/html": [
       "<style type=\"text/css\">\n",
       "</style>\n",
       "<table id=\"T_0120f\">\n",
       "  <thead>\n",
       "    <tr>\n",
       "      <th class=\"blank level0\" >&nbsp;</th>\n",
       "      <th id=\"T_0120f_level0_col0\" class=\"col_heading level0 col0\" >A</th>\n",
       "      <th id=\"T_0120f_level0_col1\" class=\"col_heading level0 col1\" >B</th>\n",
       "      <th id=\"T_0120f_level0_col2\" class=\"col_heading level0 col2\" >C</th>\n",
       "    </tr>\n",
       "    <tr>\n",
       "      <th class=\"index_name level0\" >index</th>\n",
       "      <th class=\"blank col0\" >&nbsp;</th>\n",
       "      <th class=\"blank col1\" >&nbsp;</th>\n",
       "      <th class=\"blank col2\" >&nbsp;</th>\n",
       "    </tr>\n",
       "  </thead>\n",
       "  <tbody>\n",
       "    <tr>\n",
       "      <th id=\"T_0120f_level0_row0\" class=\"row_heading level0 row0\" >0</th>\n",
       "      <td id=\"T_0120f_row0_col0\" class=\"data row0 col0\" >nan</td>\n",
       "      <td id=\"T_0120f_row0_col1\" class=\"data row0 col1\" >nan</td>\n",
       "      <td id=\"T_0120f_row0_col2\" class=\"data row0 col2\" >nan</td>\n",
       "    </tr>\n",
       "    <tr>\n",
       "      <th id=\"T_0120f_level0_row1\" class=\"row_heading level0 row1\" >1</th>\n",
       "      <td id=\"T_0120f_row1_col0\" class=\"data row1 col0\" >nan</td>\n",
       "      <td id=\"T_0120f_row1_col1\" class=\"data row1 col1\" >nan</td>\n",
       "      <td id=\"T_0120f_row1_col2\" class=\"data row1 col2\" >nan</td>\n",
       "    </tr>\n",
       "  </tbody>\n",
       "</table>\n"
      ],
      "text/plain": [
       "<pandas.io.formats.style.Styler at 0x7f824705cc40>"
      ]
     },
     "execution_count": 2,
     "metadata": {},
     "output_type": "execute_result"
    },
    {
     "data": {
      "text/markdown": [
       "    (df := pandas.DataFrame(\n",
       "        columns=pandas.Index(list(\"ABC\")), \n",
       "        index=pandas.Index(range(2), name=\"index\"))).style"
      ],
      "text/plain": [
       "<IPython.core.display.Markdown object>"
      ]
     },
     "metadata": {},
     "output_type": "display_data"
    }
   ],
   "source": [
    "    (df := pandas.DataFrame(\n",
    "        columns=pandas.Index(list(\"ABC\")), \n",
    "        index=pandas.Index(range(2), name=\"index\"))).style"
   ]
  },
  {
   "cell_type": "code",
   "execution_count": 3,
   "id": "9cf4e973-2d61-40d5-880a-b404529de6ca",
   "metadata": {},
   "outputs": [
    {
     "data": {
      "text/markdown": [
       "`df` is a basic `pandas.DataFrame` because:    \n",
       "    \n",
       "* it has ONE row level \n",
       "* it has ONE column level \n",
       "\n",
       "> we'll deal with more complex shapes in other documents."
      ],
      "text/plain": [
       "<IPython.core.display.Markdown object>"
      ]
     },
     "metadata": {},
     "output_type": "display_data"
    }
   ],
   "source": [
    "`df` is a basic `pandas.DataFrame` because:    \n",
    "    \n",
    "* it has ONE row level \n",
    "* it has ONE column level \n",
    "\n",
    "> we'll deal with more complex shapes in other documents."
   ]
  },
  {
   "cell_type": "code",
   "execution_count": 4,
   "id": "fc84f90d-5721-4c09-94b9-90f74ccdba72",
   "metadata": {},
   "outputs": [
    {
     "data": {
      "text/markdown": [
       "## applying best practices  to pandas"
      ],
      "text/plain": [
       "<IPython.core.display.Markdown object>"
      ]
     },
     "metadata": {},
     "output_type": "display_data"
    }
   ],
   "source": [
    "## applying best practices  to pandas"
   ]
  },
  {
   "cell_type": "code",
   "execution_count": 5,
   "id": "f4c5baa1-5519-4969-90cf-045d4b831e2f",
   "metadata": {},
   "outputs": [
    {
     "data": {
      "text/markdown": [
       "### 1. Title of data table is inside the `<caption>` element.\n",
       "\n",
       "the caption is dependent on the data and effects the visual appearance of the table. \n",
       "it is context dependent up to the author to supply."
      ],
      "text/plain": [
       "<IPython.core.display.Markdown object>"
      ]
     },
     "metadata": {},
     "output_type": "display_data"
    }
   ],
   "source": [
    "### 1. Title of data table is inside the `<caption>` element.\n",
    "\n",
    "the caption is dependent on the data and effects the visual appearance of the table. \n",
    "it is context dependent up to the author to supply."
   ]
  },
  {
   "cell_type": "code",
   "execution_count": 6,
   "id": "822e85ee-39c2-4057-9ac5-4fa54f14f362",
   "metadata": {},
   "outputs": [
    {
     "data": {
      "text/markdown": [
       "    def assert_has_caption(object):\n",
       "        caption = soup(object).select_one(\"table caption\")\n",
       "        assert caption and caption.string.strip(), \"table is missing a <caption>\"\n",
       "    with pytest.raises(AssertionError): assert_has_caption(df._repr_html_())"
      ],
      "text/plain": [
       "<IPython.core.display.Markdown object>"
      ]
     },
     "metadata": {},
     "output_type": "display_data"
    }
   ],
   "source": [
    "    def assert_has_caption(object):\n",
    "        caption = soup(object).select_one(\"table caption\")\n",
    "        assert caption and caption.string.strip(), \"table is missing a <caption>\"\n",
    "    with pytest.raises(AssertionError): assert_has_caption(df._repr_html_())"
   ]
  },
  {
   "cell_type": "markdown",
   "id": "6db10438-cd4c-4a7d-925f-03924506c0d3",
   "metadata": {},
   "source": [
    "the caption can be set using the `pandas.DataFrame.style.set_caption` method.\n",
    "the result is a `pandas.io.formats.style.Styler` object that let's us modify how the\n",
    "instance is displayed."
   ]
  },
  {
   "cell_type": "code",
   "execution_count": 7,
   "id": "f4c9e1e2-21d3-4b64-95f0-61c5034a61be",
   "metadata": {},
   "outputs": [
    {
     "data": {
      "text/markdown": [
       "`set_caption` user the `pandas.DataFrame.style` attribute to set a caption"
      ],
      "text/plain": [
       "<IPython.core.display.Markdown object>"
      ]
     },
     "metadata": {},
     "output_type": "display_data"
    }
   ],
   "source": [
    "`set_caption` user the `pandas.DataFrame.style` attribute to set a caption"
   ]
  },
  {
   "cell_type": "code",
   "execution_count": 8,
   "id": "74ea2cee-3914-41bb-be6e-7026c43be4da",
   "metadata": {},
   "outputs": [
    {
     "data": {
      "text/markdown": [
       "    def set_caption(df, caption) -> pandas.io.formats.style.Styler:\n",
       "        return df.style.set_caption(caption)\n",
       "    \n",
       "after we have a styler we are working with a subset of pandas operations.\n",
       "the styler should be the last stop for the data."
      ],
      "text/plain": [
       "<IPython.core.display.Markdown object>"
      ]
     },
     "metadata": {},
     "output_type": "display_data"
    }
   ],
   "source": [
    "    def set_caption(df, caption) -> pandas.io.formats.style.Styler:\n",
    "        return df.style.set_caption(caption)\n",
    "    \n",
    "after we have a styler we are working with a subset of pandas operations.\n",
    "the styler should be the last stop for the data."
   ]
  },
  {
   "cell_type": "code",
   "execution_count": 9,
   "id": "23f39ad1-c216-4c18-a416-25ad84ea11c3",
   "metadata": {},
   "outputs": [
    {
     "data": {
      "text/markdown": [
       "the `<table>` below demonstrates how the `<caption>` appears on a `captioned` `pandas.DataFrame`.\n",
       "\n",
       "<style type=\"text/css\">\n",
       "</style>\n",
       "<table id=\"T_f8dc6\">\n",
       "  <caption>a value-less dataframe with columns and row indexes</caption>\n",
       "  <thead>\n",
       "    <tr>\n",
       "      <th class=\"blank level0\" >&nbsp;</th>\n",
       "      <th id=\"T_f8dc6_level0_col0\" class=\"col_heading level0 col0\" >A</th>\n",
       "      <th id=\"T_f8dc6_level0_col1\" class=\"col_heading level0 col1\" >B</th>\n",
       "      <th id=\"T_f8dc6_level0_col2\" class=\"col_heading level0 col2\" >C</th>\n",
       "    </tr>\n",
       "    <tr>\n",
       "      <th class=\"index_name level0\" >index</th>\n",
       "      <th class=\"blank col0\" >&nbsp;</th>\n",
       "      <th class=\"blank col1\" >&nbsp;</th>\n",
       "      <th class=\"blank col2\" >&nbsp;</th>\n",
       "    </tr>\n",
       "  </thead>\n",
       "  <tbody>\n",
       "    <tr>\n",
       "      <th id=\"T_f8dc6_level0_row0\" class=\"row_heading level0 row0\" >0</th>\n",
       "      <td id=\"T_f8dc6_row0_col0\" class=\"data row0 col0\" >nan</td>\n",
       "      <td id=\"T_f8dc6_row0_col1\" class=\"data row0 col1\" >nan</td>\n",
       "      <td id=\"T_f8dc6_row0_col2\" class=\"data row0 col2\" >nan</td>\n",
       "    </tr>\n",
       "    <tr>\n",
       "      <th id=\"T_f8dc6_level0_row1\" class=\"row_heading level0 row1\" >1</th>\n",
       "      <td id=\"T_f8dc6_row1_col0\" class=\"data row1 col0\" >nan</td>\n",
       "      <td id=\"T_f8dc6_row1_col1\" class=\"data row1 col1\" >nan</td>\n",
       "      <td id=\"T_f8dc6_row1_col2\" class=\"data row1 col2\" >nan</td>\n",
       "    </tr>\n",
       "  </tbody>\n",
       "</table>\n",
       "\n",
       "    \n",
       "    assert_has_caption(\n",
       "        captioned := set_caption(df, \"a value-less dataframe with columns and row indexes\")._repr_html_()\n",
       "    );"
      ],
      "text/plain": [
       "<IPython.core.display.Markdown object>"
      ]
     },
     "metadata": {},
     "output_type": "display_data"
    }
   ],
   "source": [
    "the `<table>` below demonstrates how the `<caption>` appears on a `captioned` `pandas.DataFrame`.\n",
    "\n",
    "{{captioned}}\n",
    "    \n",
    "    assert_has_caption(\n",
    "        captioned := set_caption(df, \"a value-less dataframe with columns and row indexes\")._repr_html_()\n",
    "    );"
   ]
  },
  {
   "cell_type": "code",
   "execution_count": 10,
   "id": "44812212-8ca4-44db-9d18-d1a79f313380",
   "metadata": {},
   "outputs": [
    {
     "data": {
      "text/markdown": [
       "#### `pandas.io.formats.style.Styler`\n",
       "\n",
       "`pandas.io.formats.style.Styler` gives a different html representation that `_repr_html_`\n",
       "\n",
       "    assert df.style.to_html() != df.to_html()"
      ],
      "text/plain": [
       "<IPython.core.display.Markdown object>"
      ]
     },
     "metadata": {},
     "output_type": "display_data"
    }
   ],
   "source": [
    "#### `pandas.io.formats.style.Styler`\n",
    "\n",
    "`pandas.io.formats.style.Styler` gives a different html representation that `_repr_html_`\n",
    "\n",
    "    assert df.style.to_html() != df.to_html()\n"
   ]
  },
  {
   "cell_type": "code",
   "execution_count": 11,
   "id": "2e0842d7-6815-4f63-9868-b42e338957c9",
   "metadata": {},
   "outputs": [
    {
     "data": {
      "text/markdown": [
       "### 2. Column headers are inside `<th scope=\"col\">` elements.\n",
       "\n",
       "the `scope` property improves navigation for screen readers when used properly."
      ],
      "text/plain": [
       "<IPython.core.display.Markdown object>"
      ]
     },
     "metadata": {},
     "output_type": "display_data"
    }
   ],
   "source": [
    "### 2. Column headers are inside `<th scope=\"col\">` elements.\n",
    "\n",
    "the `scope` property improves navigation for screen readers when used properly."
   ]
  },
  {
   "cell_type": "code",
   "execution_count": 12,
   "id": "39628698-e848-45a2-98f0-ed35a178010b",
   "metadata": {},
   "outputs": [
    {
     "data": {
      "text/markdown": [
       "    def assert_has_col_scope(object, selector=\"thead tr th\"):\n",
       "for basic frames, all the `<th>` tags in `<thead>` should have `scope=\"col\"`\n",
       "        \n",
       "        assert all(th.attrs.get(\"scope\") in {\"col\", \"colgroup\"} for th in soup(object).select(selector)), \"<th> is missing `scope='col'`\"\n",
       "    with pytest.raises(AssertionError): assert_has_col_scope(captioned)"
      ],
      "text/plain": [
       "<IPython.core.display.Markdown object>"
      ]
     },
     "metadata": {},
     "output_type": "display_data"
    }
   ],
   "source": [
    "    def assert_has_col_scope(object, selector=\"thead tr th\"):\n",
    "for basic frames, all the `<th>` tags in `<thead>` should have `scope=\"col\"`\n",
    "        \n",
    "        assert all(th.attrs.get(\"scope\") in {\"col\", \"colgroup\"} for th in soup(object).select(selector)), \"<th> is missing `scope='col'`\"\n",
    "    with pytest.raises(AssertionError): assert_has_col_scope(captioned)"
   ]
  },
  {
   "cell_type": "code",
   "execution_count": 13,
   "id": "eaf0ab40-a76e-4eb8-b169-5eb414ad44fd",
   "metadata": {},
   "outputs": [
    {
     "data": {
      "text/markdown": [
       "    def set_col_scope(object, selector=\"thead tr th\"):\n",
       "`set_col_scope` automatically remediates missing columns `scope`s\n",
       "        \n",
       "        for th in (object := soup(object)).select(selector):\n",
       "            th.attrs.setdefault(\"scope\", \"col\")\n",
       "        return str(object)"
      ],
      "text/plain": [
       "<IPython.core.display.Markdown object>"
      ]
     },
     "metadata": {},
     "output_type": "display_data"
    }
   ],
   "source": [
    "    def set_col_scope(object, selector=\"thead tr th\"):\n",
    "`set_col_scope` automatically remediates missing columns `scope`s\n",
    "        \n",
    "        for th in (object := soup(object)).select(selector):\n",
    "            th.attrs.setdefault(\"scope\", \"col\")\n",
    "        return str(object)"
   ]
  },
  {
   "cell_type": "code",
   "execution_count": 14,
   "id": "c5dad262-734d-4533-b72f-7b1faa0cbd82",
   "metadata": {},
   "outputs": [
    {
     "data": {
      "text/markdown": [
       "these `scope` has no visual effect, however we can use `assert_has_col_scope` to verify the scope is correct.\n",
       "\n",
       "    assert_has_col_scope(col_scoped := set_col_scope(captioned));"
      ],
      "text/plain": [
       "<IPython.core.display.Markdown object>"
      ]
     },
     "metadata": {},
     "output_type": "display_data"
    }
   ],
   "source": [
    "these `scope` has no visual effect, however we can use `assert_has_col_scope` to verify the scope is correct.\n",
    "\n",
    "    assert_has_col_scope(col_scoped := set_col_scope(captioned));"
   ]
  },
  {
   "cell_type": "code",
   "execution_count": 15,
   "id": "2df0d29e-d11e-4f06-a69f-4dbcb49eaf5d",
   "metadata": {},
   "outputs": [
    {
     "data": {
      "text/markdown": [
       "### 3. Row headers are inside `<th scope=\"row\">` elements.\n",
       "\n",
       "similar to `scope=\"col\"`, the `<th>` elements in the body require `scope=\"row\"`;\n",
       "basically every `<th>` needs the scope property."
      ],
      "text/plain": [
       "<IPython.core.display.Markdown object>"
      ]
     },
     "metadata": {},
     "output_type": "display_data"
    }
   ],
   "source": [
    "### 3. Row headers are inside `<th scope=\"row\">` elements.\n",
    "\n",
    "similar to `scope=\"col\"`, the `<th>` elements in the body require `scope=\"row\"`;\n",
    "basically every `<th>` needs the scope property."
   ]
  },
  {
   "cell_type": "code",
   "execution_count": 16,
   "id": "58be471c-5fce-4cd7-bfdd-53dde37b78b9",
   "metadata": {},
   "outputs": [
    {
     "data": {
      "text/markdown": [
       "    def assert_has_row_scope(object, selector=\"tbody tr th\"):\n",
       "        assert all(th.attrs.get(\"scope\") in {\"row\", \"rowgroup\"} for th in soup(object).select(selector)),\\\n",
       "        \"<th> is missing `scope='col'`\"\n",
       "    with pytest.raises(AssertionError): assert_has_row_scope(col_scoped)"
      ],
      "text/plain": [
       "<IPython.core.display.Markdown object>"
      ]
     },
     "metadata": {},
     "output_type": "display_data"
    }
   ],
   "source": [
    "    def assert_has_row_scope(object, selector=\"tbody tr th\"):\n",
    "        assert all(th.attrs.get(\"scope\") in {\"row\", \"rowgroup\"} for th in soup(object).select(selector)),\\\n",
    "        \"<th> is missing `scope='col'`\"\n",
    "    with pytest.raises(AssertionError): assert_has_row_scope(col_scoped)"
   ]
  },
  {
   "cell_type": "code",
   "execution_count": 17,
   "id": "ca3fa93f-ad42-4dc3-9194-57daffb0f0ca",
   "metadata": {},
   "outputs": [
    {
     "data": {
      "text/markdown": [
       "    def set_row_scope(object, selector=\"tbody tr th, tfoot tr th\"):\n",
       "like the columns, we can deterministically add `scope=\"row\"`\n",
       "\n",
       "        for th in (object := soup(object)).select(selector):\n",
       "            th.attrs.setdefault(\"scope\", \"row\")\n",
       "        return str(object)"
      ],
      "text/plain": [
       "<IPython.core.display.Markdown object>"
      ]
     },
     "metadata": {},
     "output_type": "display_data"
    }
   ],
   "source": [
    "    def set_row_scope(object, selector=\"tbody tr th, tfoot tr th\"):\n",
    "like the columns, we can deterministically add `scope=\"row\"`\n",
    "\n",
    "        for th in (object := soup(object)).select(selector):\n",
    "            th.attrs.setdefault(\"scope\", \"row\")\n",
    "        return str(object)"
   ]
  },
  {
   "cell_type": "code",
   "execution_count": 18,
   "id": "f59da272-30a8-4175-b368-d7072154b8df",
   "metadata": {},
   "outputs": [
    {
     "data": {
      "text/markdown": [
       "we use `set_row_scope` to verify the `scope` because, again, there aren't any visual effects to these changes.\n",
       "\n",
       "    assert_has_row_scope(row_scoped := set_row_scope(col_scoped))"
      ],
      "text/plain": [
       "<IPython.core.display.Markdown object>"
      ]
     },
     "metadata": {},
     "output_type": "display_data"
    }
   ],
   "source": [
    "we use `set_row_scope` to verify the `scope` because, again, there aren't any visual effects to these changes.\n",
    "\n",
    "    assert_has_row_scope(row_scoped := set_row_scope(col_scoped))"
   ]
  },
  {
   "cell_type": "code",
   "execution_count": 19,
   "id": "f26bf91d-bb28-431c-9730-bb01cdb08a76",
   "metadata": {},
   "outputs": [
    {
     "data": {
      "text/markdown": [
       "### 4. Avoid using blank header cells.\n",
       "\n",
       "this instruction to yield a best practice to __name the dataframe index__.\n",
       "without a name, the index `<th>` will always be empty."
      ],
      "text/plain": [
       "<IPython.core.display.Markdown object>"
      ]
     },
     "metadata": {},
     "output_type": "display_data"
    }
   ],
   "source": [
    "### 4. Avoid using blank header cells.\n",
    "\n",
    "this instruction to yield a best practice to __name the dataframe index__.\n",
    "without a name, the index `<th>` will always be empty."
   ]
  },
  {
   "cell_type": "code",
   "execution_count": 20,
   "id": "6a8b3c05-e255-4876-96ee-20c999cac8e7",
   "metadata": {},
   "outputs": [
    {
     "data": {
      "text/markdown": [
       "    def assert_no_blank_header(body):\n",
       "        assert all(th.string.strip() for th in soup(body).select(\"th\")), \"there is a blank <th>\""
      ],
      "text/plain": [
       "<IPython.core.display.Markdown object>"
      ]
     },
     "metadata": {},
     "output_type": "display_data"
    }
   ],
   "source": [
    "    def assert_no_blank_header(body):\n",
    "        assert all(th.string.strip() for th in soup(body).select(\"th\")), \"there is a blank <th>\""
   ]
  },
  {
   "cell_type": "code",
   "execution_count": 21,
   "id": "82c42934-fcb4-41ee-baae-5027ea25b945",
   "metadata": {},
   "outputs": [
    {
     "data": {
      "text/markdown": [
       "    with pytest.raises(AssertionError): assert_no_blank_header(row_scoped)"
      ],
      "text/plain": [
       "<IPython.core.display.Markdown object>"
      ]
     },
     "metadata": {},
     "output_type": "display_data"
    }
   ],
   "source": [
    "    with pytest.raises(AssertionError): assert_no_blank_header(row_scoped)"
   ]
  },
  {
   "cell_type": "code",
   "execution_count": 22,
   "id": "29574635-1437-47e7-809e-34932e023037",
   "metadata": {},
   "outputs": [
    {
     "data": {
      "text/markdown": [
       "`pandas` requires some upstream work to satisfy this instruction."
      ],
      "text/plain": [
       "<IPython.core.display.Markdown object>"
      ]
     },
     "metadata": {},
     "output_type": "display_data"
    }
   ],
   "source": [
    "`pandas` requires some upstream work to satisfy this instruction."
   ]
  },
  {
   "cell_type": "code",
   "execution_count": 23,
   "id": "5ac35663-aaec-4f72-905a-602bf118e904",
   "metadata": {},
   "outputs": [
    {
     "data": {
      "text/markdown": [
       "    def set_squashed_th(body):\n",
       "`set_squashed_th` squashes the table column names. this method on works for the most basic dataframes.\n",
       "        \n",
       "        table = soup(body)\n",
       "        tr = bs4.Tag(name=\"tr\")\n",
       "        col, row = table.select(\"thead tr\")\n",
       "        for top, bottom in zip(col.select(\"th\"), row.select(\"th\")):\n",
       "            tr.append(top if top.string.strip() else bottom)\n",
       "        thead = bs4.Tag(name=\"thead\"); thead.append(tr)\n",
       "        table.select_one(\"thead\").replace_with(thead)\n",
       "        return str(table)"
      ],
      "text/plain": [
       "<IPython.core.display.Markdown object>"
      ]
     },
     "metadata": {},
     "output_type": "display_data"
    }
   ],
   "source": [
    "    def set_squashed_th(body):\n",
    "`set_squashed_th` squashes the table column names. this method on works for the most basic dataframes.\n",
    "        \n",
    "        table = soup(body)\n",
    "        tr = bs4.Tag(name=\"tr\")\n",
    "        col, row = table.select(\"thead tr\")\n",
    "        for top, bottom in zip(col.select(\"th\"), row.select(\"th\")):\n",
    "            tr.append(top if top.string.strip() else bottom)\n",
    "        thead = bs4.Tag(name=\"thead\"); thead.append(tr)\n",
    "        table.select_one(\"thead\").replace_with(thead)\n",
    "        return str(table)"
   ]
  },
  {
   "cell_type": "code",
   "execution_count": 24,
   "id": "025d0c03-0917-40e0-ac5f-fd12ba8aff91",
   "metadata": {},
   "outputs": [
    {
     "data": {
      "text/markdown": [
       "the frame below doesn't have empty `<th>` elements and is denser.\n",
       "\n",
       "<style type=\"text/css\">\n",
       "</style>\n",
       "<table id=\"T_f8dc6\">\n",
       "<caption>a value-less dataframe with columns and row indexes</caption>\n",
       "<thead><tr><th class=\"index_name level0\" scope=\"col\">index</th><th class=\"col_heading level0 col0\" id=\"T_f8dc6_level0_col0\" scope=\"col\">A</th><th class=\"col_heading level0 col1\" id=\"T_f8dc6_level0_col1\" scope=\"col\">B</th><th class=\"col_heading level0 col2\" id=\"T_f8dc6_level0_col2\" scope=\"col\">C</th></tr></thead>\n",
       "<tbody>\n",
       "<tr>\n",
       "<th class=\"row_heading level0 row0\" id=\"T_f8dc6_level0_row0\" scope=\"row\">0</th>\n",
       "<td class=\"data row0 col0\" id=\"T_f8dc6_row0_col0\">nan</td>\n",
       "<td class=\"data row0 col1\" id=\"T_f8dc6_row0_col1\">nan</td>\n",
       "<td class=\"data row0 col2\" id=\"T_f8dc6_row0_col2\">nan</td>\n",
       "</tr>\n",
       "<tr>\n",
       "<th class=\"row_heading level0 row1\" id=\"T_f8dc6_level0_row1\" scope=\"row\">1</th>\n",
       "<td class=\"data row1 col0\" id=\"T_f8dc6_row1_col0\">nan</td>\n",
       "<td class=\"data row1 col1\" id=\"T_f8dc6_row1_col1\">nan</td>\n",
       "<td class=\"data row1 col2\" id=\"T_f8dc6_row1_col2\">nan</td>\n",
       "</tr>\n",
       "</tbody>\n",
       "</table>\n",
       "\n",
       "    \n",
       "    assert_no_blank_header(squashed_th := set_squashed_th(row_scoped))"
      ],
      "text/plain": [
       "<IPython.core.display.Markdown object>"
      ]
     },
     "metadata": {},
     "output_type": "display_data"
    }
   ],
   "source": [
    "the frame below doesn't have empty `<th>` elements and is denser.\n",
    "\n",
    "{{squashed_th}}\n",
    "    \n",
    "    assert_no_blank_header(squashed_th := set_squashed_th(row_scoped))"
   ]
  },
  {
   "cell_type": "code",
   "execution_count": 25,
   "id": "17523b50-dc92-4c7b-b6f1-f0a9eb15db69",
   "metadata": {},
   "outputs": [
    {
     "data": {
      "text/markdown": [
       "### 5. Header cells with text abbreviations that need expansion use the title attribute with the expanded text set as the value.\n",
       "\n",
       "the naming of columns is a context specific screen reader feature.\n",
       "authors would have to add this information themselves."
      ],
      "text/plain": [
       "<IPython.core.display.Markdown object>"
      ]
     },
     "metadata": {},
     "output_type": "display_data"
    }
   ],
   "source": [
    "### 5. Header cells with text abbreviations that need expansion use the title attribute with the expanded text set as the value.\n",
    "\n",
    "the naming of columns is a context specific screen reader feature.\n",
    "authors would have to add this information themselves."
   ]
  },
  {
   "cell_type": "code",
   "execution_count": 26,
   "id": "5c9edb96-8679-49f6-a545-c4fd0172d3d2",
   "metadata": {},
   "outputs": [
    {
     "data": {
      "text/markdown": [
       "    titles = dict(A=\"apple\", B=\"banana\", C=\"carrot\")\n",
       "    def set_header_titles(body, titles=titles):\n",
       "`set_header_titles` is a method that includes the name of the abbreviation in the `title`.\n",
       "        \n",
       "        for th in (body := soup(body)).select(\"thead tr th\"):\n",
       "            name = th.string.strip()\n",
       "            if name in titles:\n",
       "                th.attrs[\"title\"] = titles[name]\n",
       "        return str(body)\n",
       "    \n",
       "> a real dataset would make more sense in this example."
      ],
      "text/plain": [
       "<IPython.core.display.Markdown object>"
      ]
     },
     "metadata": {},
     "output_type": "display_data"
    }
   ],
   "source": [
    "    titles = dict(A=\"apple\", B=\"banana\", C=\"carrot\")\n",
    "    def set_header_titles(body, titles=titles):\n",
    "`set_header_titles` is a method that includes the name of the abbreviation in the `title`.\n",
    "        \n",
    "        for th in (body := soup(body)).select(\"thead tr th\"):\n",
    "            name = th.string.strip()\n",
    "            if name in titles:\n",
    "                th.attrs[\"title\"] = titles[name]\n",
    "        return str(body)\n",
    "    \n",
    "> a real dataset would make more sense in this example."
   ]
  },
  {
   "cell_type": "code",
   "execution_count": 27,
   "id": "60d3c07b-b330-4a37-822a-f21f5f94bea8",
   "metadata": {},
   "outputs": [
    {
     "data": {
      "text/markdown": [
       "    titled = set_header_titles(squashed_th, titles)"
      ],
      "text/plain": [
       "<IPython.core.display.Markdown object>"
      ]
     },
     "metadata": {},
     "output_type": "display_data"
    }
   ],
   "source": [
    "    titled = set_header_titles(squashed_th, titles)"
   ]
  },
  {
   "cell_type": "code",
   "execution_count": 28,
   "id": "9106761c-19fc-4497-82f9-069ed98fb6fe",
   "metadata": {},
   "outputs": [
    {
     "data": {
      "text/markdown": [
       "    def strip_class_ids(body):\n",
       "`pandas` adds classes and ids to elements that for the sake of this discussion are superfluous.\n",
       "\n",
       "        for e in (body := soup(body)).select(\"td, th\"): \n",
       "            e.attrs.pop(\"id\", None)\n",
       "            e.attrs.pop(\"class\", None)\n",
       "\n",
       "        return str(body)\n",
       "    final = strip_class_ids(titled)"
      ],
      "text/plain": [
       "<IPython.core.display.Markdown object>"
      ]
     },
     "metadata": {},
     "output_type": "display_data"
    }
   ],
   "source": [
    "    def strip_class_ids(body):\n",
    "`pandas` adds classes and ids to elements that for the sake of this discussion are superfluous.\n",
    "\n",
    "        for e in (body := soup(body)).select(\"td, th\"): \n",
    "            e.attrs.pop(\"id\", None)\n",
    "            e.attrs.pop(\"class\", None)\n",
    "\n",
    "        return str(body)\n",
    "    final = strip_class_ids(titled)"
   ]
  },
  {
   "cell_type": "code",
   "execution_count": 29,
   "id": "eee26eea-baaf-4325-b581-30528762acfe",
   "metadata": {},
   "outputs": [
    {
     "data": {
      "text/markdown": [
       "## inconsistencies in labelled indexes\n",
       "\n",
       "everything goes to hell when we name `df.columns`.\n",
       "\n",
       "    df2 = df.copy()\n",
       "    df2.columns.name = \"letters\""
      ],
      "text/plain": [
       "<IPython.core.display.Markdown object>"
      ]
     },
     "metadata": {},
     "output_type": "display_data"
    }
   ],
   "source": [
    "## inconsistencies in labelled indexes\n",
    "\n",
    "everything goes to hell when we name `df.columns`.\n",
    "\n",
    "    df2 = df.copy()\n",
    "    df2.columns.name = \"letters\""
   ]
  },
  {
   "cell_type": "code",
   "execution_count": 30,
   "id": "d4b9433b-0340-4b9d-ae00-cb08014642e9",
   "metadata": {},
   "outputs": [
    {
     "data": {
      "text/markdown": [
       "### column and index names\n",
       "\n",
       "consider the case of `df2` where the `df2.columns` is named and `df2.index` is not. \n",
       "    \n",
       "\n",
       "<style type=\"text/css\">\n",
       "</style>\n",
       "<table id=\"T_6509d\">\n",
       "  <caption><p>the <code>df2</code> dataframe with a column name</p>\n",
       "</caption>\n",
       "  <thead>\n",
       "    <tr>\n",
       "      <th class=\"index_name level0\" >letters</th>\n",
       "      <th id=\"T_6509d_level0_col0\" class=\"col_heading level0 col0\" >A</th>\n",
       "      <th id=\"T_6509d_level0_col1\" class=\"col_heading level0 col1\" >B</th>\n",
       "      <th id=\"T_6509d_level0_col2\" class=\"col_heading level0 col2\" >C</th>\n",
       "    </tr>\n",
       "  </thead>\n",
       "  <tbody>\n",
       "    <tr>\n",
       "      <th id=\"T_6509d_level0_row0\" class=\"row_heading level0 row0\" >0</th>\n",
       "      <td id=\"T_6509d_row0_col0\" class=\"data row0 col0\" >nan</td>\n",
       "      <td id=\"T_6509d_row0_col1\" class=\"data row0 col1\" >nan</td>\n",
       "      <td id=\"T_6509d_row0_col2\" class=\"data row0 col2\" >nan</td>\n",
       "    </tr>\n",
       "    <tr>\n",
       "      <th id=\"T_6509d_level0_row1\" class=\"row_heading level0 row1\" >1</th>\n",
       "      <td id=\"T_6509d_row1_col0\" class=\"data row1 col0\" >nan</td>\n",
       "      <td id=\"T_6509d_row1_col1\" class=\"data row1 col1\" >nan</td>\n",
       "      <td id=\"T_6509d_row1_col2\" class=\"data row1 col2\" >nan</td>\n",
       "    </tr>\n",
       "  </tbody>\n",
       "</table>\n",
       "\n",
       "\n",
       "screenreader visitors may struggle to interpret the meaning of \"letters\" relative to the index.\n",
       "ensurely a proper experience for screen readers will require extra markup to group the `<th> with the columns. "
      ],
      "text/plain": [
       "<IPython.core.display.Markdown object>"
      ]
     },
     "metadata": {},
     "output_type": "display_data"
    }
   ],
   "source": [
    "### column and index names\n",
    "\n",
    "consider the case of `df2` where the `df2.columns` is named and `df2.index` is not. \n",
    "    \n",
    "{% set df = df2.style.set_caption(pidgy.filters.md(\"the `df2` dataframe with a column name\")) %}\n",
    "{{df}}\n",
    "\n",
    "screenreader visitors may struggle to interpret the meaning of \"letters\" relative to the index.\n",
    "ensurely a proper experience for screen readers will require extra markup to group the `<th> with the columns. "
   ]
  },
  {
   "cell_type": "code",
   "execution_count": 31,
   "id": "677f00ca-9ce8-495b-9552-6fedf838416e",
   "metadata": {},
   "outputs": [
    {
     "data": {
      "text/markdown": [
       "### column name and no index name\n",
       "\n",
       "    df2.index.name = None\n",
       "    \n",
       "\n",
       "<style type=\"text/css\">\n",
       "</style>\n",
       "<table id=\"T_e2083\">\n",
       "  <caption><p>the <code>df2</code> dataframe with a column name and without an index name</p>\n",
       "</caption>\n",
       "  <thead>\n",
       "    <tr>\n",
       "      <th class=\"index_name level0\" >letters</th>\n",
       "      <th id=\"T_e2083_level0_col0\" class=\"col_heading level0 col0\" >A</th>\n",
       "      <th id=\"T_e2083_level0_col1\" class=\"col_heading level0 col1\" >B</th>\n",
       "      <th id=\"T_e2083_level0_col2\" class=\"col_heading level0 col2\" >C</th>\n",
       "    </tr>\n",
       "  </thead>\n",
       "  <tbody>\n",
       "    <tr>\n",
       "      <th id=\"T_e2083_level0_row0\" class=\"row_heading level0 row0\" >0</th>\n",
       "      <td id=\"T_e2083_row0_col0\" class=\"data row0 col0\" >nan</td>\n",
       "      <td id=\"T_e2083_row0_col1\" class=\"data row0 col1\" >nan</td>\n",
       "      <td id=\"T_e2083_row0_col2\" class=\"data row0 col2\" >nan</td>\n",
       "    </tr>\n",
       "    <tr>\n",
       "      <th id=\"T_e2083_level0_row1\" class=\"row_heading level0 row1\" >1</th>\n",
       "      <td id=\"T_e2083_row1_col0\" class=\"data row1 col0\" >nan</td>\n",
       "      <td id=\"T_e2083_row1_col1\" class=\"data row1 col1\" >nan</td>\n",
       "      <td id=\"T_e2083_row1_col2\" class=\"data row1 col2\" >nan</td>\n",
       "    </tr>\n",
       "  </tbody>\n",
       "</table>\n"
      ],
      "text/plain": [
       "<IPython.core.display.Markdown object>"
      ]
     },
     "metadata": {},
     "output_type": "display_data"
    }
   ],
   "source": [
    "### column name and no index name\n",
    "\n",
    "    df2.index.name = None\n",
    "    \n",
    "{% set df = df2.style.set_caption(pidgy.filters.md(\"the `df2` dataframe with a column name and without an index name\")) %}\n",
    "{{df}}"
   ]
  },
  {
   "cell_type": "code",
   "execution_count": 32,
   "id": "620b06f7-b99d-4fd4-bdbc-f18f9407182a",
   "metadata": {},
   "outputs": [
    {
     "data": {
      "text/markdown": [
       "that application of the column name over the index is decieving. \n",
       "based on standards, this version of the dataframe reads as if the index the columns is name \"letters\".\n",
       "i think i'd consider this a bug.\n",
       "\n",
       "### alternative approach: drop the index\n",
       "\n",
       "\n",
       "<style type=\"text/css\">\n",
       "</style>\n",
       "<table id=\"T_39131\">\n",
       "  <caption><p>the <code>df2</code> dataframe with a column name and without an index</p>\n",
       "</caption>\n",
       "  <thead>\n",
       "    <tr>\n",
       "      <th id=\"T_39131_level0_col0\" class=\"col_heading level0 col0\" >A</th>\n",
       "      <th id=\"T_39131_level0_col1\" class=\"col_heading level0 col1\" >B</th>\n",
       "      <th id=\"T_39131_level0_col2\" class=\"col_heading level0 col2\" >C</th>\n",
       "    </tr>\n",
       "  </thead>\n",
       "  <tbody>\n",
       "    <tr>\n",
       "      <td id=\"T_39131_row0_col0\" class=\"data row0 col0\" >nan</td>\n",
       "      <td id=\"T_39131_row0_col1\" class=\"data row0 col1\" >nan</td>\n",
       "      <td id=\"T_39131_row0_col2\" class=\"data row0 col2\" >nan</td>\n",
       "    </tr>\n",
       "    <tr>\n",
       "      <td id=\"T_39131_row1_col0\" class=\"data row1 col0\" >nan</td>\n",
       "      <td id=\"T_39131_row1_col1\" class=\"data row1 col1\" >nan</td>\n",
       "      <td id=\"T_39131_row1_col2\" class=\"data row1 col2\" >nan</td>\n",
       "    </tr>\n",
       "  </tbody>\n",
       "</table>\n",
       "\n",
       "\n",
       "in this approach, we mitigate confusion but lose information by removing the column name."
      ],
      "text/plain": [
       "<IPython.core.display.Markdown object>"
      ]
     },
     "metadata": {},
     "output_type": "display_data"
    }
   ],
   "source": [
    "that application of the column name over the index is decieving. \n",
    "based on standards, this version of the dataframe reads as if the index the columns is name \"letters\".\n",
    "i think i'd consider this a bug.\n",
    "\n",
    "### alternative approach: drop the index\n",
    "\n",
    "{% set df = df2.style.set_caption(pidgy.filters.md(\"the `df2` dataframe with a column name and without an index\")) %}\n",
    "{{df.hide(axis=0)}}\n",
    "\n",
    "in this approach, we mitigate confusion but lose information by removing the column name."
   ]
  },
  {
   "cell_type": "code",
   "execution_count": 33,
   "id": "f32cd381-5b83-4f64-b3af-92040a15287b",
   "metadata": {},
   "outputs": [
    {
     "data": {
      "text/markdown": [
       "that application of the column name over the index is decieving. \n",
       "based on standards, this version of the dataframe reads as if the index the columns is name \"letters\".\n",
       "i think i'd consider this a bug.\n",
       "\n",
       "### alternative approach: drop the index\n",
       "\n",
       "\n",
       "<style type=\"text/css\">\n",
       "</style>\n",
       "<table id=\"T_7f34b\">\n",
       "  <caption><p>the <code>df2</code> dataframe with a column name and without an index</p>\n",
       "</caption>\n",
       "  <thead>\n",
       "    <tr>\n",
       "      <th id=\"T_7f34b_level0_col0\" class=\"col_heading level0 col0\" >A</th>\n",
       "      <th id=\"T_7f34b_level0_col1\" class=\"col_heading level0 col1\" >B</th>\n",
       "      <th id=\"T_7f34b_level0_col2\" class=\"col_heading level0 col2\" >C</th>\n",
       "    </tr>\n",
       "  </thead>\n",
       "  <tbody>\n",
       "    <tr>\n",
       "      <td id=\"T_7f34b_row0_col0\" class=\"data row0 col0\" >nan</td>\n",
       "      <td id=\"T_7f34b_row0_col1\" class=\"data row0 col1\" >nan</td>\n",
       "      <td id=\"T_7f34b_row0_col2\" class=\"data row0 col2\" >nan</td>\n",
       "    </tr>\n",
       "    <tr>\n",
       "      <td id=\"T_7f34b_row1_col0\" class=\"data row1 col0\" >nan</td>\n",
       "      <td id=\"T_7f34b_row1_col1\" class=\"data row1 col1\" >nan</td>\n",
       "      <td id=\"T_7f34b_row1_col2\" class=\"data row1 col2\" >nan</td>\n",
       "    </tr>\n",
       "  </tbody>\n",
       "</table>\n",
       "\n",
       "\n",
       "in this approach, we mitigate confusion but lose information by removing the column name."
      ],
      "text/plain": [
       "<IPython.core.display.Markdown object>"
      ]
     },
     "metadata": {},
     "output_type": "display_data"
    }
   ],
   "source": [
    "that application of the column name over the index is decieving. \n",
    "based on standards, this version of the dataframe reads as if the index the columns is name \"letters\".\n",
    "i think i'd consider this a bug.\n",
    "\n",
    "### alternative approach: drop the index\n",
    "\n",
    "{% set df = df2.style.set_caption(pidgy.filters.md(\"the `df2` dataframe with a column name and without an index\")) %}\n",
    "{{df.hide(axis=0)}}\n",
    "\n",
    "in this approach, we mitigate confusion but lose information by removing the column name."
   ]
  },
  {
   "cell_type": "code",
   "execution_count": 34,
   "id": "f53026d2-d5f9-4548-8903-57a288561f81",
   "metadata": {},
   "outputs": [
    {
     "data": {
      "text/markdown": [
       "### alternative approach: multi index columns\n",
       "\n",
       "    df3 = df2.copy()\n",
       "    \n",
       "`df3` places the column name over top of the existing columns.\n",
       "    \n",
       "    df3.columns.name = None\n",
       "    \n",
       "to acheive this we make the columns a multi index\n",
       "\n",
       "    df3.columns = pandas.MultiIndex.from_arrays([pandas.Index([\"letters\"]*df3.shape[1]), df3.columns])\n",
       "    df3.index.name = \"index\"\n",
       "    \n",
       "\n",
       "<style type=\"text/css\">\n",
       "</style>\n",
       "<table id=\"T_05b00\">\n",
       "  <caption><p>the <code>df3</code> dataframe with a column name and index name grouped</p>\n",
       "</caption>\n",
       "  <thead>\n",
       "    <tr>\n",
       "      <th class=\"blank level0\" >&nbsp;</th>\n",
       "      <th id=\"T_05b00_level0_col0\" class=\"col_heading level0 col0\" colspan=\"3\">letters</th>\n",
       "    </tr>\n",
       "    <tr>\n",
       "      <th class=\"blank level1\" >&nbsp;</th>\n",
       "      <th id=\"T_05b00_level1_col0\" class=\"col_heading level1 col0\" >A</th>\n",
       "      <th id=\"T_05b00_level1_col1\" class=\"col_heading level1 col1\" >B</th>\n",
       "      <th id=\"T_05b00_level1_col2\" class=\"col_heading level1 col2\" >C</th>\n",
       "    </tr>\n",
       "    <tr>\n",
       "      <th class=\"index_name level0\" >index</th>\n",
       "      <th class=\"blank col0\" >&nbsp;</th>\n",
       "      <th class=\"blank col1\" >&nbsp;</th>\n",
       "      <th class=\"blank col2\" >&nbsp;</th>\n",
       "    </tr>\n",
       "  </thead>\n",
       "  <tbody>\n",
       "    <tr>\n",
       "      <th id=\"T_05b00_level0_row0\" class=\"row_heading level0 row0\" >0</th>\n",
       "      <td id=\"T_05b00_row0_col0\" class=\"data row0 col0\" >nan</td>\n",
       "      <td id=\"T_05b00_row0_col1\" class=\"data row0 col1\" >nan</td>\n",
       "      <td id=\"T_05b00_row0_col2\" class=\"data row0 col2\" >nan</td>\n",
       "    </tr>\n",
       "    <tr>\n",
       "      <th id=\"T_05b00_level0_row1\" class=\"row_heading level0 row1\" >1</th>\n",
       "      <td id=\"T_05b00_row1_col0\" class=\"data row1 col0\" >nan</td>\n",
       "      <td id=\"T_05b00_row1_col1\" class=\"data row1 col1\" >nan</td>\n",
       "      <td id=\"T_05b00_row1_col2\" class=\"data row1 col2\" >nan</td>\n",
       "    </tr>\n",
       "  </tbody>\n",
       "</table>\n",
       "\n",
       "\n",
       "the form of this dataframe seems more appropriate, but we've exited the scope of this work and will have to continue another time."
      ],
      "text/plain": [
       "<IPython.core.display.Markdown object>"
      ]
     },
     "metadata": {},
     "output_type": "display_data"
    }
   ],
   "source": [
    "### alternative approach: multi index columns\n",
    "\n",
    "    df3 = df2.copy()\n",
    "    \n",
    "`df3` places the column name over top of the existing columns.\n",
    "    \n",
    "    df3.columns.name = None\n",
    "    \n",
    "to acheive this we make the columns a multi index\n",
    "\n",
    "    df3.columns = pandas.MultiIndex.from_arrays([pandas.Index([\"letters\"]*df3.shape[1]), df3.columns])\n",
    "    df3.index.name = \"index\"\n",
    "    \n",
    "{% set df = df3.style.set_caption(pidgy.filters.md(\"the `df3` dataframe with a column name and index name grouped\")) %}\n",
    "{{df}}\n",
    "\n",
    "the form of this dataframe seems more appropriate, but we've exited the scope of this work and will have to continue another time."
   ]
  },
  {
   "cell_type": "markdown",
   "id": "795af1ff-7bfa-48dc-9517-7cab531ceb0c",
   "metadata": {},
   "source": [
    "## conclusions"
   ]
  },
  {
   "cell_type": "code",
   "execution_count": 35,
   "id": "a42ec2be-3287-4139-a66b-d9b648cd5808",
   "metadata": {},
   "outputs": [
    {
     "data": {
      "text/markdown": [
       "for basic dataframes, two practices can be enforced without knowledge of the data:\n",
       "\n",
       "- [x] Column headers are inside <th scope=\"col\"> elements.\n",
       "- [x] Row headers are inside <th scope=\"row\"> elements.\n",
       "    \n",
       "    \n",
       "the abbreviations and caption are context specific and require knowledge of the data:\n",
       "\n",
       "- [ ] Title of data table is inside the <caption> element.\n",
       "- [ ] Header cells with text abbreviations that need expansion use the title attribute with the expanded text set as the value.\n",
       "    \n",
       "with `pandas<=1.4.2`, it is hard to avoid black header cells without some significant effort.\n",
       "\n",
       "    \n",
       "- [ ] Avoid using blank header cells.\n",
       "\n",
       "    \n",
       "some conventions we can extract from this study is:\n",
       "    \n",
       "* treat the `df.index` as a column that needs to be named\n",
       "* if an index is superfluous then remove it. this can be down with the styler `df.style.hide(axis=0)`"
      ],
      "text/plain": [
       "<IPython.core.display.Markdown object>"
      ]
     },
     "metadata": {},
     "output_type": "display_data"
    }
   ],
   "source": [
    "for basic dataframes, two practices can be enforced without knowledge of the data:\n",
    "\n",
    "- [x] Column headers are inside <th scope=\"col\"> elements.\n",
    "- [x] Row headers are inside <th scope=\"row\"> elements.\n",
    "    \n",
    "    \n",
    "the abbreviations and caption are context specific and require knowledge of the data:\n",
    "\n",
    "- [ ] Title of data table is inside the <caption> element.\n",
    "- [ ] Header cells with text abbreviations that need expansion use the title attribute with the expanded text set as the value.\n",
    "    \n",
    "with `pandas<={{pandas.__version__}}`, it is hard to avoid black header cells without some significant effort.\n",
    "\n",
    "    \n",
    "- [ ] Avoid using blank header cells.\n",
    "\n",
    "    \n",
    "some conventions we can extract from this study is:\n",
    "    \n",
    "* treat the `df.index` as a column that needs to be named\n",
    "* if an index is superfluous then remove it. this can be down with the styler `df.style.hide(axis=0)`"
   ]
  },
  {
   "cell_type": "code",
   "execution_count": 36,
   "id": "a03163a3-d6a1-470a-a766-e62cbb6400ca",
   "metadata": {},
   "outputs": [
    {
     "data": {
      "text/markdown": [
       "### final frame\n",
       "\n",
       "our final dataframe has:\n",
       "\n",
       "- [x] `<caption>`\n",
       "- [x] `<th scope=\"col\">`\n",
       "- [x] `<th scope=\"row\">`\n",
       "- [x] no empty `<th>`\n",
       "- [x] `<th title>` for abbreviations\n",
       "\n",
       "<style type=\"text/css\">\n",
       "</style>\n",
       "<table id=\"T_f8dc6\">\n",
       "<caption>a value-less dataframe with columns and row indexes</caption>\n",
       "<thead><tr><th scope=\"col\">index</th><th scope=\"col\" title=\"apple\">A</th><th scope=\"col\" title=\"banana\">B</th><th scope=\"col\" title=\"carrot\">C</th></tr></thead>\n",
       "<tbody>\n",
       "<tr>\n",
       "<th scope=\"row\">0</th>\n",
       "<td>nan</td>\n",
       "<td>nan</td>\n",
       "<td>nan</td>\n",
       "</tr>\n",
       "<tr>\n",
       "<th scope=\"row\">1</th>\n",
       "<td>nan</td>\n",
       "<td>nan</td>\n",
       "<td>nan</td>\n",
       "</tr>\n",
       "</tbody>\n",
       "</table>\n",
       "\n",
       "\n",
       "\n",
       "### final html source\n",
       "\n",
       "```html\n",
       "<style type=\"text/css\">\n",
       "</style>\n",
       "<table id=\"T_f8dc6\">\n",
       "<caption>a value-less dataframe with columns and row indexes</caption>\n",
       "<thead><tr><th scope=\"col\">index</th><th scope=\"col\" title=\"apple\">A</th><th scope=\"col\" title=\"banana\">B</th><th scope=\"col\" title=\"carrot\">C</th></tr></thead>\n",
       "<tbody>\n",
       "<tr>\n",
       "<th scope=\"row\">0</th>\n",
       "<td>nan</td>\n",
       "<td>nan</td>\n",
       "<td>nan</td>\n",
       "</tr>\n",
       "<tr>\n",
       "<th scope=\"row\">1</th>\n",
       "<td>nan</td>\n",
       "<td>nan</td>\n",
       "<td>nan</td>\n",
       "</tr>\n",
       "</tbody>\n",
       "</table>\n",
       "\n",
       "```"
      ],
      "text/plain": [
       "<IPython.core.display.Markdown object>"
      ]
     },
     "metadata": {},
     "output_type": "display_data"
    }
   ],
   "source": [
    "### final frame\n",
    "\n",
    "our final dataframe has:\n",
    "\n",
    "- [x] `<caption>`\n",
    "- [x] `<th scope=\"col\">`\n",
    "- [x] `<th scope=\"row\">`\n",
    "- [x] no empty `<th>`\n",
    "- [x] `<th title>` for abbreviations\n",
    "\n",
    "{{final}}\n",
    "\n",
    "\n",
    "### final html source\n",
    "\n",
    "```html\n",
    "{{final}}\n",
    "```"
   ]
  },
  {
   "cell_type": "code",
   "execution_count": 37,
   "id": "9f54eec7-e8f2-44f6-8751-64de02d02530",
   "metadata": {},
   "outputs": [
    {
     "data": {
      "text/markdown": [
       "### about the `scope` attribute\n",
       "\n",
       "<q cite=\"https://www.w3schools.com/tags/att_scope.asp\">The scope attribute specifies whether a header cell is a header for a column, row, or group of columns or rows.</q>\n",
       "\n",
       "<q cite=\"https://dequeuniversity.com/rules/axe/4.0/scope-attr-valid\">The scope attribute makes table navigation much easier for screen reader users, provided that it is used correctly. Incorrectly used, scope can make table navigation much harder and less efficient. <q>"
      ],
      "text/plain": [
       "<IPython.core.display.Markdown object>"
      ]
     },
     "metadata": {},
     "output_type": "display_data"
    }
   ],
   "source": [
    "### about the `scope` attribute\n",
    "\n",
    "<q cite=\"https://www.w3schools.com/tags/att_scope.asp\">The scope attribute specifies whether a header cell is a header for a column, row, or group of columns or rows.</q>\n",
    "\n",
    "<q cite=\"https://dequeuniversity.com/rules/axe/4.0/scope-attr-valid\">The scope attribute makes table navigation much easier for screen reader users, provided that it is used correctly. Incorrectly used, scope can make table navigation much harder and less efficient. <q>"
   ]
  },
  {
   "cell_type": "markdown",
   "id": "b251eb5b-9005-4ba2-aa22-3e87c9b4f9fa",
   "metadata": {},
   "source": [
    "### links\n",
    "\n",
    "* https://pandas.pydata.org/docs/user_guide/style.html\n",
    "* https://pauljadam.com/demos/data-tables.html\n",
    "* https://www.w3.org/WAI/tutorials/tables/\n",
    "* https://developer.mozilla.org/en-US/docs/Learn/HTML/Tables/Advanced\n"
   ]
  }
 ],
 "metadata": {
  "kernelspec": {
   "display_name": "Python [conda env:root] *",
   "language": "python",
   "name": "conda-root-py"
  },
  "language_info": {
   "codemirror_mode": {
    "name": "ipython",
    "version": 3
   },
   "file_extension": ".py",
   "mimetype": "text/x-python",
   "name": "python",
   "nbconvert_exporter": "python",
   "pygments_lexer": "ipython3",
   "version": "3.9.13"
  }
 },
 "nbformat": 4,
 "nbformat_minor": 5
}
