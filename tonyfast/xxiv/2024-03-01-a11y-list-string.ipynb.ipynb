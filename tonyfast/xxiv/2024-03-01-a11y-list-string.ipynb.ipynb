{
 "cells": [
  {
   "attachments": {
    "931392ee-8c73-455a-ac4f-7f7d02c45d72.png": {
     "image/png": "[encoded data removed]"
    }
   },
   "cell_type": "markdown",
   "id": "1a8b51cb-e4e8-45a1-ac02-274a8de69637",
   "metadata": {
    "editable": true,
    "slideshow": {
     "slide_type": ""
    },
    "tags": []
   },
   "source": [
    "# using microdata and semantic html to represent python objects\n",
    "\n",
    "microdata attributes exist to append metadata to html elements.\n",
    "it is possible to use [microdata] to describe python types,\n",
    "and in doing so we have standard selectors for styling python objects.\n",
    "lists, sequences, and containers can and should be summarized by screen reader technology.\n",
    "the outcome of these codes great accessible representation of common python objects that are assistive to assistive technology users.\n",
    "\n",
    "\n",
    "![image.png](attachment:931392ee-8c73-455a-ac4f-7f7d02c45d72.png)\n",
    "\n"
   ]
  },
  {
   "cell_type": "code",
   "execution_count": 1,
   "id": "b437216a-fb9b-475a-93c8-5334dd26b311",
   "metadata": {},
   "outputs": [],
   "source": [
    "    import midgy"
   ]
  },
  {
   "cell_type": "markdown",
   "id": "4b572bb2-c8f4-4fc6-8756-698ccb0e0c34",
   "metadata": {},
   "source": [
    "https://www.tpgi.com/making-numbers-in-web-content-accessible/"
   ]
  },
  {
   "cell_type": "markdown",
   "id": "9f13b2c6-971b-4b51-967a-64ff2ffdebb3",
   "metadata": {},
   "source": [
    "https://developer.mozilla.org/en-US/docs/Web/HTML/Element/time"
   ]
  },
  {
   "cell_type": "code",
   "execution_count": 155,
   "id": "742f54e6-cf08-4a2c-bc76-ce70fa38f6d5",
   "metadata": {},
   "outputs": [
    {
     "data": {
      "text/markdown": [
       "\n",
       "## representing constants\n",
       "\n",
       "there are python constants that have most natural respresentations use the [`data`](https://developer.mozilla.org/en-US/docs/Web/HTML/Element/data)s tag.\n",
       "    \n",
       "```html\n",
       "<data value=\"true\">True</data>,\n",
       "<data value=\"false\">False</data>,\n",
       "<data value>None</data>,\n",
       "<style>\n",
       "data[value] {\n",
       "    /**recapture the style used in the code editor for the constants.**/\n",
       "    font-family: monospace;\n",
       "    color: var(--jp-mirror-editor-keyword-color, green);\n",
       "    font-weight: bold;\n",
       "}\n",
       "</style>\n",
       "```\n"
      ],
      "text/plain": [
       "<IPython.core.display.Markdown object>"
      ]
     },
     "metadata": {},
     "output_type": "display_data"
    },
    {
     "data": {
      "text/html": [
       "<data value=\"true\">True</data>,\n",
       "<data value=\"false\">False</data>,\n",
       "<data value>None</data>,\n",
       "<style>\n",
       "data[value] {\n",
       "    /**recapture the style used in the code editor for the constants.**/\n",
       "    font-family: monospace;\n",
       "    color: var(--jp-mirror-editor-keyword-color, green);\n",
       "    font-weight: bold;\n",
       "}\n",
       "</style>\n"
      ],
      "text/plain": [
       "<IPython.core.display.HTML object>"
      ]
     },
     "execution_count": 155,
     "metadata": {},
     "output_type": "execute_result"
    }
   ],
   "source": [
    "%%\n",
    "## representing constants\n",
    "\n",
    "there are python constants that have most natural respresentations use the [`data`](https://developer.mozilla.org/en-US/docs/Web/HTML/Element/data)s tag.\n",
    "    \n",
    "```html\n",
    "<data value=\"true\">True</data>,\n",
    "<data value=\"false\">False</data>,\n",
    "<data value>None</data>,\n",
    "<style>\n",
    "data[value] {\n",
    "    /**recapture the style used in the code editor for the constants.**/\n",
    "    font-family: monospace;\n",
    "    color: var(--jp-mirror-editor-keyword-color, green);\n",
    "    font-weight: bold;\n",
    "}\n",
    "</style>\n",
    "```"
   ]
  },
  {
   "cell_type": "code",
   "execution_count": 156,
   "id": "69c00761-3e1f-4bc9-969a-d32a4e30bff9",
   "metadata": {},
   "outputs": [
    {
     "data": {
      "text/markdown": [
       "\n",
       "## representing strings\n",
       "\n",
       "https://developer.mozilla.org/en-US/docs/Web/HTML/Element/samp\n",
       "\n",
       "```html\n",
       "<samp itemscope itemtype=\"https://docs.python.org/3/library/functions.html#str\">a string representation makes sense as a samp</samp>\n",
       "<br/>\n",
       "<samp itemscope itemtype=\"https://docs.python.org/3/library/functions.html#str\" style=\"--nb-quote-style: var(--nb-single-quote);\">a single quoted string</samp>\n",
       "\n",
       "<style>\n",
       ":root {\n",
       "    /**its hard to write quotes inside of html tags so it helps to have constants to use.**/\n",
       "    --nb-single-quote: \"'\";\n",
       "    --nb-double-quote: \"\\\"\";\n",
       "    --nb-quote-style: var(--nb-double-quote);\n",
       "}\n",
       "samp[itemtype$=\"str\"] {\n",
       "    &::before, &::after {content: var(--nb-quote-style);}\n",
       "}\n",
       "</style>\n",
       "```\n"
      ],
      "text/plain": [
       "<IPython.core.display.Markdown object>"
      ]
     },
     "metadata": {},
     "output_type": "display_data"
    },
    {
     "data": {
      "text/html": [
       "<samp itemscope itemtype=\"https://docs.python.org/3/library/functions.html#str\">a string representation makes sense as a samp</samp>\n",
       "<br/>\n",
       "<samp itemscope itemtype=\"https://docs.python.org/3/library/functions.html#str\" style=\"--nb-quote-style: var(--nb-single-quote);\">a single quoted string</samp>\n",
       "\n",
       "<style>\n",
       ":root {\n",
       "    /**its hard to write quotes inside of html tags so it helps to have constants to use.**/\n",
       "    --nb-single-quote: \"'\";\n",
       "    --nb-double-quote: \"\\\"\";\n",
       "    --nb-quote-style: var(--nb-double-quote);\n",
       "}\n",
       "samp[itemtype$=\"str\"] {\n",
       "    &::before, &::after {content: var(--nb-quote-style);}\n",
       "}\n",
       "</style>\n"
      ],
      "text/plain": [
       "<IPython.core.display.HTML object>"
      ]
     },
     "execution_count": 156,
     "metadata": {},
     "output_type": "execute_result"
    }
   ],
   "source": [
    "%%\n",
    "## representing strings\n",
    "\n",
    "https://developer.mozilla.org/en-US/docs/Web/HTML/Element/samp\n",
    "\n",
    "```html\n",
    "<samp itemscope itemtype=\"https://docs.python.org/3/library/functions.html#str\">a string representation makes sense as a samp</samp>\n",
    "<br/>\n",
    "<samp itemscope itemtype=\"https://docs.python.org/3/library/functions.html#str\" style=\"--nb-quote-style: var(--nb-single-quote);\">a single quoted string</samp>\n",
    "\n",
    "<style>\n",
    ":root {\n",
    "    /**its hard to write quotes inside of html tags so it helps to have constants to use.**/\n",
    "    --nb-single-quote: \"'\";\n",
    "    --nb-double-quote: \"\\\"\";\n",
    "    --nb-quote-style: var(--nb-double-quote);\n",
    "}\n",
    "samp[itemtype$=\"str\"] {\n",
    "    &::before, &::after {content: var(--nb-quote-style);}\n",
    "}\n",
    "</style>\n",
    "```"
   ]
  },
  {
   "cell_type": "code",
   "execution_count": 157,
   "id": "0acf42cc-1d2e-4bd5-b4b7-ebd7aac6eb60",
   "metadata": {},
   "outputs": [
    {
     "data": {
      "text/markdown": [
       "\n",
       "## representing numbers\n",
       "\n",
       "\n",
       "https://developer.mozilla.org/en-US/docs/Web/HTML/Element/samp\n",
       "\n",
       "```html\n",
       "<samp itemscope itemtype=\"https://docs.python.org/3/library/functions.html#int\">42</samp>\n",
       "<br/>\n",
       "<samp itemscope itemtype=\"https://docs.python.org/3/library/functions.html#float\">3.141596</samp>\n",
       "```\n"
      ],
      "text/plain": [
       "<IPython.core.display.Markdown object>"
      ]
     },
     "metadata": {},
     "output_type": "display_data"
    },
    {
     "data": {
      "text/html": [
       "<samp itemscope itemtype=\"https://docs.python.org/3/library/functions.html#int\">42</samp>\n",
       "<br/>\n",
       "<samp itemscope itemtype=\"https://docs.python.org/3/library/functions.html#float\">3.141596</samp>\n"
      ],
      "text/plain": [
       "<IPython.core.display.HTML object>"
      ]
     },
     "execution_count": 157,
     "metadata": {},
     "output_type": "execute_result"
    }
   ],
   "source": [
    "%%\n",
    "## representing numbers\n",
    "\n",
    "\n",
    "https://developer.mozilla.org/en-US/docs/Web/HTML/Element/samp\n",
    "\n",
    "```html\n",
    "<samp itemscope itemtype=\"https://docs.python.org/3/library/functions.html#int\">42</samp>\n",
    "<br/>\n",
    "<samp itemscope itemtype=\"https://docs.python.org/3/library/functions.html#float\">3.141596</samp>\n",
    "```"
   ]
  },
  {
   "cell_type": "markdown",
   "id": "576cecb7-8f11-4715-9b2e-939f83aa3a79",
   "metadata": {},
   "source": [
    "## representing containers"
   ]
  },
  {
   "cell_type": "markdown",
   "id": "97b3c5a8-f4b7-4a8a-95b2-9496143c4fe9",
   "metadata": {},
   "source": [
    "containers allow presenting multiple constants, strings, numbers, or other containers."
   ]
  },
  {
   "cell_type": "code",
   "execution_count": 159,
   "id": "7adebfc1-e326-4f4c-ae2e-fc2c55ba985c",
   "metadata": {},
   "outputs": [
    {
     "data": {
      "text/markdown": [
       "\n",
       "### representing lists\n",
       "\n",
       "\n",
       "```html\n",
       "<ol itemscope itemtype=\"https://docs.python.org/3/library/functions.html#list\">\n",
       "    <li>1</li><li>2</li><li>3</li>\n",
       "</ol>\n",
       "<style>\n",
       "ol[itemtype$=\"#list\"] {\n",
       "    font-family: mono-space;\n",
       "    li {\n",
       "        display: inline-block;\n",
       "        &:not(:last-child)::after {content: \",\";}\n",
       "    }\n",
       "    list-style: none;\n",
       "    &::before {content: \"[\";}\n",
       "    &::after {content: \"]\";}\n",
       "}\n",
       "</style>\n",
       "```\n"
      ],
      "text/plain": [
       "<IPython.core.display.Markdown object>"
      ]
     },
     "metadata": {},
     "output_type": "display_data"
    },
    {
     "data": {
      "text/html": [
       "<ol itemscope itemtype=\"https://docs.python.org/3/library/functions.html#list\">\n",
       "    <li>1</li><li>2</li><li>3</li>\n",
       "</ol>\n",
       "<style>\n",
       "ol[itemtype$=\"#list\"] {\n",
       "    font-family: mono-space;\n",
       "    li {\n",
       "        display: inline-block;\n",
       "        &:not(:last-child)::after {content: \",\";}\n",
       "    }\n",
       "    list-style: none;\n",
       "    &::before {content: \"[\";}\n",
       "    &::after {content: \"]\";}\n",
       "}\n",
       "</style>\n"
      ],
      "text/plain": [
       "<IPython.core.display.HTML object>"
      ]
     },
     "execution_count": 159,
     "metadata": {},
     "output_type": "execute_result"
    }
   ],
   "source": [
    "%%\n",
    "### representing lists\n",
    "\n",
    "\n",
    "```html\n",
    "<ol itemscope itemtype=\"https://docs.python.org/3/library/functions.html#list\">\n",
    "    <li>1</li><li>2</li><li>3</li>\n",
    "</ol>\n",
    "<style>\n",
    "ol[itemtype$=\"#list\"] {\n",
    "    font-family: mono-space;\n",
    "    li {\n",
    "        display: inline-block;\n",
    "        &:not(:last-child)::after {content: \",\";}\n",
    "    }\n",
    "    list-style: none;\n",
    "    &::before {content: \"[\";}\n",
    "    &::after {content: \"]\";}\n",
    "}\n",
    "</style>\n",
    "```"
   ]
  },
  {
   "cell_type": "code",
   "execution_count": 160,
   "id": "76317e1a-c808-4201-b999-1ef747af0101",
   "metadata": {},
   "outputs": [
    {
     "data": {
      "text/markdown": [
       "\n",
       "### representing tuples\n",
       "\n",
       "in this example we introduce the `itemscope` and `itemtype` properties to describe the types of the output.\n",
       "the outcome is the ability to tailor styling based on specific python types.\n",
       "lists and tuples are both ordered lists and the `itemtype` attributes provide a way to disambiguate the ordered \n",
       "lists from each other.\n",
       "\n",
       "tuples also have ordered list semantics, but their visual representation differs in the enclosing characters.1\n",
       "\n",
       "```html\n",
       "<ol itemscope itemtype=\"https://docs.python.org/3/library/functions.html#tuple\">\n",
       "    <li>1</li><li>2</li><li>3</li>\n",
       "</ol>\n",
       "<style>\n",
       "ol[itemtype$=\"#tuple\"] {\n",
       "    list-style: none;\n",
       "    font-family: mono-space;\n",
       "    li {\n",
       "        display: inline-block;\n",
       "        &:not(:last-child)::after {content: \", \";}\n",
       "    }\n",
       "    &::before {content: \"(\";}\n",
       "    &::after {content: \")\";}\n",
       "}\n",
       "</style>\n",
       "```\n"
      ],
      "text/plain": [
       "<IPython.core.display.Markdown object>"
      ]
     },
     "metadata": {},
     "output_type": "display_data"
    },
    {
     "data": {
      "text/html": [
       "<ol itemscope itemtype=\"https://docs.python.org/3/library/functions.html#tuple\">\n",
       "    <li>1</li><li>2</li><li>3</li>\n",
       "</ol>\n",
       "<style>\n",
       "ol[itemtype$=\"#tuple\"] {\n",
       "    list-style: none;\n",
       "    font-family: mono-space;\n",
       "    li {\n",
       "        display: inline-block;\n",
       "        &:not(:last-child)::after {content: \", \";}\n",
       "    }\n",
       "    &::before {content: \"(\";}\n",
       "    &::after {content: \")\";}\n",
       "}\n",
       "</style>\n"
      ],
      "text/plain": [
       "<IPython.core.display.HTML object>"
      ]
     },
     "execution_count": 160,
     "metadata": {},
     "output_type": "execute_result"
    }
   ],
   "source": [
    "%%\n",
    "### representing tuples\n",
    "\n",
    "in this example we introduce the `itemscope` and `itemtype` properties to describe the types of the output.\n",
    "the outcome is the ability to tailor styling based on specific python types.\n",
    "lists and tuples are both ordered lists and the `itemtype` attributes provide a way to disambiguate the ordered \n",
    "lists from each other.\n",
    "\n",
    "tuples also have ordered list semantics, but their visual representation differs in the enclosing characters.1\n",
    "\n",
    "```html\n",
    "<ol itemscope itemtype=\"https://docs.python.org/3/library/functions.html#tuple\">\n",
    "    <li>1</li><li>2</li><li>3</li>\n",
    "</ol>\n",
    "<style>\n",
    "ol[itemtype$=\"#tuple\"] {\n",
    "    list-style: none;\n",
    "    font-family: mono-space;\n",
    "    li {\n",
    "        display: inline-block;\n",
    "        &:not(:last-child)::after {content: \", \";}\n",
    "    }\n",
    "    &::before {content: \"(\";}\n",
    "    &::after {content: \")\";}\n",
    "}\n",
    "</style>\n",
    "```\n"
   ]
  },
  {
   "cell_type": "code",
   "execution_count": 137,
   "id": "5fafb328-e843-4c80-a4d2-dccac52a4be1",
   "metadata": {},
   "outputs": [
    {
     "data": {
      "text/markdown": [
       "\n",
       "### representing sets\n",
       "\n",
       "sets different from lists and tuples because they are unordered. they use braces to wrap the output instead.\n",
       "\n",
       "```html\n",
       "<ul itemscope itemtype=\"https://docs.python.org/3/library/functions.html#set\">\n",
       "    <li>30</li><li>3</li>\n",
       "</ul>\n",
       "<style>\n",
       "ul[itemtype$=\"#set\"] {\n",
       "    font-family: mono-space;\n",
       "    list-style: none;\n",
       "    li {\n",
       "        display: inline;\n",
       "        &:not(:last-child)::after {content: \", \";}\n",
       "    }\n",
       "    &::before {content: \"{\";}\n",
       "    &::after {content: \"}\";}\n",
       "}\n",
       "</style>\n",
       "```\n"
      ],
      "text/plain": [
       "<IPython.core.display.Markdown object>"
      ]
     },
     "metadata": {},
     "output_type": "display_data"
    },
    {
     "data": {
      "text/html": [
       "<ul itemscope itemtype=\"https://docs.python.org/3/library/functions.html#set\">\n",
       "    <li>30</li><li>3</li>\n",
       "</ul>\n",
       "<style>\n",
       "ul[itemtype$=\"#set\"] {\n",
       "    font-family: mono-space;\n",
       "    list-style: none;\n",
       "    li {\n",
       "        display: inline;\n",
       "        &:not(:last-child)::after {content: \", \";}\n",
       "    }\n",
       "    &::before {content: \"{\";}\n",
       "    &::after {content: \"}\";}\n",
       "}\n",
       "</style>\n"
      ],
      "text/plain": [
       "<IPython.core.display.HTML object>"
      ]
     },
     "execution_count": 137,
     "metadata": {},
     "output_type": "execute_result"
    }
   ],
   "source": [
    "%%\n",
    "### representing sets\n",
    "\n",
    "sets different from lists and tuples because they are unordered. they use braces to wrap the output instead.\n",
    "\n",
    "```html\n",
    "<ul itemscope itemtype=\"https://docs.python.org/3/library/functions.html#set\">\n",
    "    <li>30</li><li>3</li>\n",
    "</ul>\n",
    "<style>\n",
    "ul[itemtype$=\"#set\"] {\n",
    "    font-family: mono-space;\n",
    "    list-style: none;\n",
    "    li {\n",
    "        display: inline;\n",
    "        &:not(:last-child)::after {content: \", \";}\n",
    "    }\n",
    "    &::before {content: \"{\";}\n",
    "    &::after {content: \"}\";}\n",
    "}\n",
    "</style>\n",
    "```"
   ]
  },
  {
   "cell_type": "code",
   "execution_count": 133,
   "id": "1d56bbde-14b2-4e69-85d8-0d2969a3eea4",
   "metadata": {},
   "outputs": [
    {
     "data": {
      "text/markdown": [
       "\n",
       "### representing dictionaries\n",
       "\n",
       "definition lists are from capturing the structure python dictionaries.\n",
       "\n",
       "```html\n",
       "<dl itemscope itemtype=\"https://docs.python.org/3/library/functions.html#dict\">\n",
       "    <dt>foo</dt><dd>1</dd>\n",
       "    <dt>bar</dt><dd>2</dd>\n",
       "    <dt>baz</dt><dd>3</dd>\n",
       "</dl>\n",
       "<style>\n",
       "dl[itemtype$=\"#dict\"] {\n",
       "    display: inline;\n",
       "    dd, dt {\n",
       "        display: inline;\n",
       "        float: unset; /** disable weird jupyter float thing**/\n",
       "    } \n",
       "    dt {&::after {content: \": \";}}\n",
       "    dd {&:not(:last-child)::after {content: \",\";}}\n",
       "    &::before {content: \"{\";}\n",
       "    &::after {content: \"}\";}\n",
       "}\n",
       "</style>\n",
       "```\n"
      ],
      "text/plain": [
       "<IPython.core.display.Markdown object>"
      ]
     },
     "metadata": {},
     "output_type": "display_data"
    },
    {
     "data": {
      "text/html": [
       "<dl itemscope itemtype=\"https://docs.python.org/3/library/functions.html#dict\">\n",
       "    <dt>foo</dt><dd>1</dd>\n",
       "    <dt>bar</dt><dd>2</dd>\n",
       "    <dt>baz</dt><dd>3</dd>\n",
       "</dl>\n",
       "<style>\n",
       "dl[itemtype$=\"#dict\"] {\n",
       "    display: inline;\n",
       "    dd, dt {\n",
       "        display: inline;\n",
       "        float: unset; /** disable weird jupyter float thing**/\n",
       "    } \n",
       "    dt {&::after {content: \": \";}}\n",
       "    dd {&:not(:last-child)::after {content: \",\";}}\n",
       "    &::before {content: \"{\";}\n",
       "    &::after {content: \"}\";}\n",
       "}\n",
       "</style>\n"
      ],
      "text/plain": [
       "<IPython.core.display.HTML object>"
      ]
     },
     "execution_count": 133,
     "metadata": {},
     "output_type": "execute_result"
    }
   ],
   "source": [
    "%%\n",
    "### representing dictionaries\n",
    "\n",
    "definition lists are from capturing the structure python dictionaries.\n",
    "\n",
    "```html\n",
    "<dl itemscope itemtype=\"https://docs.python.org/3/library/functions.html#dict\">\n",
    "    <dt>foo</dt><dd>1</dd>\n",
    "    <dt>bar</dt><dd>2</dd>\n",
    "    <dt>baz</dt><dd>3</dd>\n",
    "</dl>\n",
    "<style>\n",
    "dl[itemtype$=\"#dict\"] {\n",
    "    display: inline;\n",
    "    dd, dt {\n",
    "        display: inline;\n",
    "        float: unset; /** disable weird jupyter float thing**/\n",
    "    } \n",
    "    dt {&::after {content: \": \";}}\n",
    "    dd {&:not(:last-child)::after {content: \",\";}}\n",
    "    &::before {content: \"{\";}\n",
    "    &::after {content: \"}\";}\n",
    "}\n",
    "</style>\n",
    "```"
   ]
  },
  {
   "cell_type": "code",
   "execution_count": null,
   "id": "b0340165-0cc0-47d8-b16d-7412214d5256",
   "metadata": {},
   "outputs": [],
   "source": []
  }
 ],
 "metadata": {
  "kernelspec": {
   "display_name": "Python [conda env:p311] *",
   "language": "python",
   "name": "conda-env-p311-py"
  },
  "language_info": {
   "codemirror_mode": {
    "name": "ipython",
    "version": 3
   },
   "file_extension": ".py",
   "mimetype": "text/x-python",
   "name": "python",
   "nbconvert_exporter": "python",
   "pygments_lexer": "ipython3",
   "version": "3.11.3"
  },
  "widgets": {
   "application/vnd.jupyter.widget-state+json": {
    "state": {},
    "version_major": 2,
    "version_minor": 0
   }
  }
 },
 "nbformat": 4,
 "nbformat_minor": 5
}
