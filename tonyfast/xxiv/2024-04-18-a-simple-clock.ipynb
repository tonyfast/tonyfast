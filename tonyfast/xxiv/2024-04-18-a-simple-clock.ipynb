{
 "cells": [
  {
   "cell_type": "markdown",
   "id": "154a7436-fc90-434c-848b-8b865d847662",
   "metadata": {},
   "source": [
    "# the bones of a clock\n",
    "\n",
    "i was reading about dyscalculia at https://accessiblenumbers.com trying to understand how tables can be improved for folks with low numeracy. there was mention of time blindness which is a thing that can happen deep in interactive programming sessions. i thought it would be fun to start thinking about clocks and styling them and having fun. heres my sketch of a clock."
   ]
  },
  {
   "cell_type": "code",
   "execution_count": 1,
   "id": "adc71357-a6c6-4d6f-b11d-6ed39f17de15",
   "metadata": {},
   "outputs": [
    {
     "data": {
      "text/html": [
       "<div>\n",
       "<style scoped>\n",
       "    .dataframe tbody tr th:only-of-type {\n",
       "        vertical-align: middle;\n",
       "    }\n",
       "\n",
       "    .dataframe tbody tr th {\n",
       "        vertical-align: top;\n",
       "    }\n",
       "\n",
       "    .dataframe thead th {\n",
       "        text-align: right;\n",
       "    }\n",
       "</style>\n",
       "<table border=\"1\" class=\"dataframe\">\n",
       "  <thead>\n",
       "    <tr style=\"text-align: right;\">\n",
       "      <th>key</th>\n",
       "      <th>year</th>\n",
       "      <th>month</th>\n",
       "      <th>day</th>\n",
       "      <th>hour</th>\n",
       "      <th>minute</th>\n",
       "      <th>second</th>\n",
       "    </tr>\n",
       "  </thead>\n",
       "  <tbody>\n",
       "    <tr>\n",
       "      <th>value</th>\n",
       "      <td>2024</td>\n",
       "      <td>4</td>\n",
       "      <td>18</td>\n",
       "      <td>22</td>\n",
       "      <td>57</td>\n",
       "      <td>28</td>\n",
       "    </tr>\n",
       "  </tbody>\n",
       "</table>\n",
       "</div>"
      ],
      "text/plain": [
       "key    year  month  day  hour  minute  second\n",
       "value  2024      4   18    22      57      28"
      ]
     },
     "execution_count": 1,
     "metadata": {},
     "output_type": "execute_result"
    }
   ],
   "source": [
    "    time_stuff = operator.attrgetter(*(keys := \"year month day hour minute second\".split()))\n",
    "    df = (\n",
    "        pandas.to_datetime([\"now\"])\n",
    "        .to_series()\n",
    "        .apply(time_stuff)\n",
    "        .apply(list)\n",
    "        .series()\n",
    "        .rename(columns=dict(enumerate(keys))).reset_index(drop=True)\n",
    "        .set_index(Index([\"value\"]))\n",
    "        .rename_axis(columns=[\"key\"])\n",
    "    ); df"
   ]
  },
  {
   "cell_type": "code",
   "execution_count": 2,
   "id": "ae819aac-cc25-48c5-b639-17fa7da454f0",
   "metadata": {},
   "outputs": [
    {
     "data": {
      "text/html": [
       "<script>\n",
       "function setTime(){\n",
       "    let now = new Date();\n",
       "    let parts = {\n",
       "        year: now.getFullYear(), month: now.getMonth() + 1,\n",
       "        day: now.getDate(), hour: now.getHours(), \n",
       "        minute: now.getMinutes(), second: now.getSeconds()};\n",
       "    for (clock of document.getElementsByClassName(\"clock\")) {\n",
       "        for (key of ['year', 'month', 'day', 'hour', 'minute', 'second']){\n",
       "            for (td of clock.getElementsByClassName(key)) {\n",
       "                td.textContent = parts[key];\n",
       "            }\n",
       "        }\n",
       "    }\n",
       "}\n",
       "setTime();\n",
       "setInterval(setTime, 1000);\n",
       "</script>\n",
       "<style>.year {--this: --year;}.month {--this: --month;}.day {--this: --day;}.hour {--this: --hour;}.minute {--this: --minute;}.second {--this: --second;}</style>\n",
       "<table id=A class=clock style=\"--year: 2024; --month: 4; --day: 18; --hour: 22; --minute: 57; --second: 28;\">\n",
       "    <caption>a clock</caption>\n",
       "    <thead><th>year</th><th>month</th><th>day</th><th>hour</th><th>minute</th><th>second</th></thead>\n",
       "    <tbody>\n",
       "        <tr><td class=year>2024</td><td class=month>4</td><td class=day>18</td><td class=hour>22</td><td class=minute>57</td><td class=second>28</td></tr>\n",
       "    </tbody>\n",
       "</table>"
      ],
      "text/plain": [
       "<IPython.core.display.HTML object>"
      ]
     },
     "metadata": {},
     "output_type": "display_data"
    }
   ],
   "source": [
    "%%\n",
    "<script>\n",
    "function setTime(){\n",
    "    let now = new Date();\n",
    "    let parts = {\n",
    "        year: now.getFullYear(), month: now.getMonth() + 1,\n",
    "        day: now.getDate(), hour: now.getHours(), \n",
    "        minute: now.getMinutes(), second: now.getSeconds()};\n",
    "    for (clock of document.getElementsByClassName(\"clock\")) {\n",
    "        for (key of {{df.columns.to_list()}}){\n",
    "            for (td of clock.getElementsByClassName(key)) {\n",
    "                td.textContent = parts[key];\n",
    "            }\n",
    "        }\n",
    "    }\n",
    "}\n",
    "setTime();\n",
    "setInterval(setTime, 1000);\n",
    "</script>\n",
    "<style>\n",
    "{%- for k in df.columns -%}\n",
    ".{{k}} {--this: --{{k}};}\n",
    "{%- endfor -%}\n",
    "</style>\n",
    "<table id=A class=clock style=\"{{pipe(df.T[\"value\"].items(), map(\"--%s: %s\".__mod__), \"; \".join, \"{};\".format)}}\">\n",
    "    <caption>a clock</caption>\n",
    "    <thead>\n",
    "         {%- for k in df.columns -%}\n",
    "            <th>{{k}}</th>\n",
    "         {%- endfor -%}\n",
    "    </thead>\n",
    "    <tbody>\n",
    "        <tr>\n",
    "            {%- for k in df.columns -%}\n",
    "            <td class={{k}}>{{df.loc[\"value\", k]}}</td>\n",
    "            {%- endfor -%}\n",
    "        </tr>\n",
    "    </tbody>\n",
    "</table>"
   ]
  },
  {
   "cell_type": "code",
   "execution_count": 3,
   "id": "46328062-5be7-4d02-b758-b08cfa072c3f",
   "metadata": {},
   "outputs": [
    {
     "data": {
      "text/html": [
       "<style>\n",
       "#A {\n",
       "    thead {\n",
       "        display: none;\n",
       "    }\n",
       "    tr, td {\n",
       "        display: inline;\n",
       "    }\n",
       "    .hour {\n",
       "        font-size: larger;\n",
       "    }\n",
       "    .year, .month {\n",
       "        &::after {\n",
       "            content: \".\";\n",
       "        }\n",
       "    }\n",
       "    .minute::before {\n",
       "        content: \":\"; \n",
       "    }\n",
       "    .second {\n",
       "        font-size: smaller;\n",
       "        &::before {\n",
       "            content: \":\";\n",
       "        }\n",
       "    }\n",
       "}\n",
       "</style>\n"
      ],
      "text/plain": [
       "<IPython.core.display.HTML object>"
      ]
     },
     "metadata": {},
     "output_type": "display_data"
    }
   ],
   "source": [
    "%%html\n",
    "<style>\n",
    "#A {\n",
    "    thead {\n",
    "        display: none;\n",
    "    }\n",
    "    tr, td {\n",
    "        display: inline;\n",
    "    }\n",
    "    .hour {\n",
    "        font-size: larger;\n",
    "    }\n",
    "    .year, .month {\n",
    "        &::after {\n",
    "            content: \".\";\n",
    "        }\n",
    "    }\n",
    "    .minute::before {\n",
    "        content: \":\"; \n",
    "    }\n",
    "    .second {\n",
    "        font-size: smaller;\n",
    "        &::before {\n",
    "            content: \":\";\n",
    "        }\n",
    "    }\n",
    "}\n",
    "</style>"
   ]
  }
 ],
 "metadata": {
  "kernelspec": {
   "display_name": "Python [conda env:p311] *",
   "language": "python",
   "name": "conda-env-p311-py"
  },
  "language_info": {
   "codemirror_mode": {
    "name": "ipython",
    "version": 3
   },
   "file_extension": ".py",
   "mimetype": "text/x-python",
   "name": "python",
   "nbconvert_exporter": "python",
   "pygments_lexer": "ipython3",
   "version": "3.11.3"
  },
  "widgets": {
   "application/vnd.jupyter.widget-state+json": {
    "state": {},
    "version_major": 2,
    "version_minor": 0
   }
  }
 },
 "nbformat": 4,
 "nbformat_minor": 5
}
