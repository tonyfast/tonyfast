{
 "cells": [
  {
   "cell_type": "markdown",
   "id": "99eee926-d49b-4445-ba84-6c12d4e320c0",
   "metadata": {},
   "source": [
    "# executing the mast notebooks\n",
    "\n",
    "the notebooks in the mast repo are not executed. some of them are considerably and take time to execute on the fly. it makes more sense to pre compute them before operating on the documentation."
   ]
  },
  {
   "cell_type": "code",
   "execution_count": 15,
   "id": "5ffefa92-5d04-4e1d-aac1-5f60f0287925",
   "metadata": {},
   "outputs": [],
   "source": [
    "    from nobook.utils import Index"
   ]
  },
  {
   "cell_type": "markdown",
   "id": "a85c3ed1-d9d8-4989-9962-dad3cd0857a9",
   "metadata": {},
   "source": [
    "the nbconvert convert template to execute each notebook"
   ]
  },
  {
   "cell_type": "code",
   "execution_count": 16,
   "id": "f88c631b-473c-494c-9c44-d332394ff219",
   "metadata": {},
   "outputs": [],
   "source": [
    "    execute = \"\"\"jupyter nbconvert \\\n",
    "    --to notebook --inplace \\\n",
    "    --execute --allow-errors \\\n",
    "    --ExecutePreprocessor.kernel_name=mast_nb %s\"\"\""
   ]
  },
  {
   "cell_type": "markdown",
   "id": "8764744a-24c5-4638-b7df-b057793f19d3",
   "metadata": {},
   "source": [
    "an example command run for one notebook"
   ]
  },
  {
   "cell_type": "markdown",
   "id": "c6db0ec4-6734-4fbd-8a26-811264382c7e",
   "metadata": {},
   "source": [
    "    !jupyter nbconvert \\\n",
    "    --to notebook --inplace \\\n",
    "    --execute \\\n",
    "    --allow-errors \\\n",
    "    --ExecutePreprocessor.kernel_name=mast_nb \\\n",
    "    mast_notebooks/notebooks/JWST/SI_keyword_exoplanet_search/SI_keyword_exoplanet_search.ipynb"
   ]
  },
  {
   "cell_type": "markdown",
   "id": "d641fc12-065c-4410-b352-bff46109a2e9",
   "metadata": {},
   "source": [
    "doit task to execute all the notebooks"
   ]
  },
  {
   "cell_type": "code",
   "execution_count": 17,
   "id": "dcd22127-a3ca-4e25-8c4b-f00fc06a151e",
   "metadata": {},
   "outputs": [],
   "source": [
    "    def task_execute():\n",
    "        for file in Index([\"mast_notebooks\"]).path().glob(\"**/*.ipynb\", recursive=True).drop_duplicates():\n",
    "            yield dict(\n",
    "                name=str(file),\n",
    "                file_dep=[file],\n",
    "                actions=[\n",
    "                    execute % file\n",
    "                ]\n",
    "            )"
   ]
  },
  {
   "cell_type": "markdown",
   "id": "3ac1e379-23b6-489a-9e53-264931ab88c0",
   "metadata": {},
   "source": [
    "invoke the doit tasks"
   ]
  },
  {
   "cell_type": "code",
   "execution_count": 19,
   "id": "6d914e89-abb3-4916-9997-cb817668cbf1",
   "metadata": {},
   "outputs": [],
   "source": [
    "    %reload_ext doit    "
   ]
  },
  {
   "cell_type": "code",
   "execution_count": 20,
   "id": "6c2aea0b-6e8b-464b-9120-897a5d38a9cd",
   "metadata": {},
   "outputs": [
    {
     "name": "stdout",
     "output_type": "stream",
     "text": [
      "execute                                                                                                                                                                                         \n",
      "execute:mast_notebooks/contributing/notebook_template/notebook_template.ipynb                                                                                                                   \n",
      "execute:mast_notebooks/notebooks/GALEX/mis-mosaic/mis_mosaic.ipynb                                                                                                                              \n",
      "execute:mast_notebooks/notebooks/HSC/HCV_API/HCV_API_demo.ipynb                                                                                                                                 \n",
      "execute:mast_notebooks/notebooks/HSC/HCV_CASJOBS/HCV_casjobs_demo.ipynb                                                                                                                         \n",
      "execute:mast_notebooks/notebooks/HSC/HSCV3_API/hscv3_api.ipynb                                                                                                                                  \n",
      "execute:mast_notebooks/notebooks/HSC/HSCV3_SMC_API/hscv3_smc_api.ipynb                                                                                                                          \n",
      "execute:mast_notebooks/notebooks/HSC/HSC_TAP/HSC_TAP.ipynb                                                                                                                                      \n",
      "execute:mast_notebooks/notebooks/HSC/SWEEPS_HSCV3P1/sweeps_hscv3p1.ipynb                                                                                                                        \n",
      "execute:mast_notebooks/notebooks/HSC/SWEEPS_HSCV3P1_API/sweeps_hscv3p1_api.ipynb                                                                                                                \n",
      "execute:mast_notebooks/notebooks/IUE/exploring_UV_extinction_curves/exploring_UV_extinction_curves.ipynb                                                                                        \n",
      "execute:mast_notebooks/notebooks/JWST/Engineering_Database_Retreival/EDB_Retrieval.ipynb                                                                                                        \n",
      "execute:mast_notebooks/notebooks/JWST/SI_keyword_exoplanet_search/SI_keyword_exoplanet_search.ipynb                                                                                             \n",
      "execute:mast_notebooks/notebooks/JWST/download_by_program_id/download_by_program_id.ipynb                                                                                                       \n",
      "execute:mast_notebooks/notebooks/JWST/duplication_checking/duplication_checking.ipynb                                                                                                           \n",
      "execute:mast_notebooks/notebooks/K2/Lightcurve/Lightcurve.ipynb                                                                                                                                 \n",
      "execute:mast_notebooks/notebooks/K2/TPF/TPF.ipynb                                                                                                                                               \n",
      "execute:mast_notebooks/notebooks/K2/beginner_how_to_use_ffi/beginner_how_to_use_ffi.ipynb                                                                                                       \n",
      "execute:mast_notebooks/notebooks/K2/removing_instrumental_noise_using_pld/removing_instrumental_noise_using_pld.ipynb                                                                           \n",
      "execute:mast_notebooks/notebooks/Kepler/creating_periodograms/creating_periodograms.ipynb                                                                                                       \n",
      "execute:mast_notebooks/notebooks/Kepler/how_to_estimate_a_stars_mass_and_radius_using_asteroseismology/how_to_estimate_a_stars_mass_and_radius_using_asteroseismology.ipynb                     \n",
      "execute:mast_notebooks/notebooks/Kepler/how_to_understand_and_manipulate_the_periodogram_of_an_oscillating_star/how_to_understand_and_manipulate_the_periodogram_of_an_oscillating_star.ipynb   \n",
      "execute:mast_notebooks/notebooks/Kepler/identifying_transiting_planet_signals/identifying_transiting_planet_signals.ipynb                                                                       \n",
      "execute:mast_notebooks/notebooks/Kepler/instrumental_noise_1_data_gaps_and_quality_flags/instrumental_noise_1_data_gaps_and_quality_flags.ipynb                                                 \n",
      "execute:mast_notebooks/notebooks/Kepler/instrumental_noise_2_spurious_signals_and_time_sampling_effects/instrumental_noise_2_spurious_signals_and_time_sampling_effects.ipynb                   \n",
      "execute:mast_notebooks/notebooks/Kepler/instrumental_noise_3_seasonal_and_detector_effects/instrumental_noise_3_seasonal_and_detector_effects.ipynb                                             \n",
      "execute:mast_notebooks/notebooks/Kepler/instrumental_noise_4_electronic_noise/instrumental_noise_4_electronic_noise.ipynb                                                                       \n",
      "execute:mast_notebooks/notebooks/Kepler/lightkurve_analyzing_lc_products/lightkurve_analyzing_lc_products.ipynb                                                                                 \n",
      "execute:mast_notebooks/notebooks/Kepler/lightkurve_analyzing_tpf_products/lightkurve_analyzing_tpf_products.ipynb                                                                               \n",
      "execute:mast_notebooks/notebooks/Kepler/lightkurve_combining_multiple_quarters/lightkurve_combining_multiple_quarters.ipynb                                                                     \n",
      "execute:mast_notebooks/notebooks/Kepler/lightkurve_custom_aperture_photometry/lightkurve_custom_aperture_photometry.ipynb                                                                       \n",
      "execute:mast_notebooks/notebooks/Kepler/lightkurve_interactively_inspecting_TPFs_and_LCs/lightkurve_interactively_inspecting_TPFs_and_LCs.ipynb                                                 \n",
      "execute:mast_notebooks/notebooks/Kepler/lightkurve_searching_for_data/lightkurve_searching_for_data.ipynb                                                                                       \n",
      "execute:mast_notebooks/notebooks/Kepler/measuring_a_rotation_period/measuring_a_rotation_period.ipynb                                                                                           \n",
      "execute:mast_notebooks/notebooks/Kepler/plotting_catalog_over_FFI/plotting_catalog_over_FFI.ipynb                                                                                               \n",
      "execute:mast_notebooks/notebooks/Kepler/plotting_dvts/plotting_dvts.ipynb                                                                                                                       \n",
      "execute:mast_notebooks/notebooks/Kepler/plotting_images_from_tpf/plotting_images_from_tpf.ipynb                                                                                                 \n",
      "execute:mast_notebooks/notebooks/Kepler/plotting_lightcurves/plotting_lightcurves.ipynb                                                                                                         \n",
      "execute:mast_notebooks/notebooks/Kepler/verifying_the_location_of_a_signal/verifying_the_location_of_a_signal.ipynb                                                                             \n",
      "execute:mast_notebooks/notebooks/Kepler/visualizing_periodic_signals_using_a_river_plot/visualizing_periodic_signals_using_a_river_plot.ipynb                                                   \n",
      "execute:mast_notebooks/notebooks/MCCM/FIMS-SPEAR/hyperspectral_healpix_maps/hyperspectral_healpix_maps.ipynb                                                                                    \n",
      "execute:mast_notebooks/notebooks/PanSTARRS/PS1_DR2_TAP/PS1_DR2_TAP.ipynb                                                                                                                        \n",
      "execute:mast_notebooks/notebooks/PanSTARRS/PS1_image/PS1_image.ipynb                                                                                                                            \n",
      "execute:mast_notebooks/notebooks/TESS/asteroid_rotation/asteroid_rotation.ipynb                                                                                                                 \n",
      "execute:mast_notebooks/notebooks/TESS/asteroid_rotation/asteroid_rotation_soutions.ipynb                                                                                                        \n",
      "execute:mast_notebooks/notebooks/TESS/beginner_astroquery_dv/beginner_astroquery_dv.ipynb                                                                                                       \n",
      "execute:mast_notebooks/notebooks/TESS/beginner_how_to_use_dvt/beginner_how_to_use_dvt.ipynb                                                                                                     \n",
      "execute:mast_notebooks/notebooks/TESS/beginner_how_to_use_ffi/beginner_how_to_use_ffi.ipynb                                                                                                     \n",
      "execute:mast_notebooks/notebooks/TESS/beginner_how_to_use_lc/beginner_how_to_use_lc.ipynb                                                                                                       \n",
      "execute:mast_notebooks/notebooks/TESS/beginner_how_to_use_tp/beginner_how_to_use_tp.ipynb                                                                                                       \n",
      "execute:mast_notebooks/notebooks/TESS/beginner_tess_exomast/beginner_tess_exomast.ipynb                                                                                                         \n",
      "execute:mast_notebooks/notebooks/TESS/beginner_tess_tap_search/beginner_tess_tap_search.ipynb                                                                                                   \n",
      "execute:mast_notebooks/notebooks/TESS/beginner_tesscut_astroquery/beginner_tesscut_astroquery.ipynb                                                                                             \n",
      "execute:mast_notebooks/notebooks/TESS/beginner_tic_search_hd209458/beginner_tic_search_hd209458.ipynb                                                                                           \n",
      "execute:mast_notebooks/notebooks/TESS/beginner_tour_lc_tp/beginner_tour_lc_tp.ipynb                                                                                                             \n",
      "execute:mast_notebooks/notebooks/TESS/interm_gi_query/interm_gi_query.ipynb                                                                                                                     \n",
      "execute:mast_notebooks/notebooks/TESS/interm_tasoc_lc/interm_tasoc_lc.ipynb                                                                                                                     \n",
      "execute:mast_notebooks/notebooks/TESS/interm_tess_prf_retrieve/interm_tess_prf_retrieve.ipynb                                                                                                   \n",
      "execute:mast_notebooks/notebooks/TESS/interm_tesscut_dss_overlay/interm_tesscut_dss_overlay.ipynb                                                                                               \n",
      "execute:mast_notebooks/notebooks/TESS/interm_tesscut_requests/interm_tesscut_requests.ipynb                                                                                                     \n",
      "execute:mast_notebooks/notebooks/TESS/removing_scattered_light_using_regression/removing_scattered_light_using_regression.ipynb                                                                 \n",
      "execute:mast_notebooks/notebooks/astrocut/making_tess_cubes_and_cutouts/making_tess_cubes_and_cutouts.ipynb                                                                                     \n",
      "execute:mast_notebooks/notebooks/astroquery/beginner_search/beginner_search.ipynb                                                                                                               \n",
      "execute:mast_notebooks/notebooks/astroquery/beginner_zcut/beginner_zcut.ipynb                                                                                                                   \n",
      "execute:mast_notebooks/notebooks/astroquery/historic_quasar_observations/historic_quasar_observations.ipynb                                                                                     \n",
      "execute:mast_notebooks/notebooks/astroquery/large_downloads/large_downloads.ipynb                                                                                                               \n",
      "execute:mast_notebooks/notebooks/astroquery/wildcard_searches/wildcard_searches.ipynb                                                                                                           \n"
     ]
    }
   ],
   "source": [
    "    %doit list  --all "
   ]
  },
  {
   "cell_type": "markdown",
   "id": "0323fe74-9d7f-4bdd-95ab-d2fd475e0866",
   "metadata": {},
   "source": [
    "    %doit -n4 --continue"
   ]
  }
 ],
 "metadata": {
  "kernelspec": {
   "display_name": "Python [conda env:p311] *",
   "language": "python",
   "name": "conda-env-p311-py"
  },
  "language_info": {
   "codemirror_mode": {
    "name": "ipython",
    "version": 3
   },
   "file_extension": ".py",
   "mimetype": "text/x-python",
   "name": "python",
   "nbconvert_exporter": "python",
   "pygments_lexer": "ipython3",
   "version": "3.11.3"
  },
  "widgets": {
   "application/vnd.jupyter.widget-state+json": {
    "state": {},
    "version_major": 2,
    "version_minor": 0
   }
  }
 },
 "nbformat": 4,
 "nbformat_minor": 5
}
