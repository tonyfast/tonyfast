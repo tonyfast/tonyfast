{
 "cells": [
  {
   "cell_type": "markdown",
   "id": "87685c01-9027-499c-b862-0b5b70b303ae",
   "metadata": {},
   "source": [
    "# my first table schema integration\n",
    "\n",
    "untangling the degrees of freedom of tables has taken a while.\n",
    "a sign of significant progress is being able to integrate a schema into the table representation.\n",
    "the schema provides rich supplementary context for future visual and non-visual use.s"
   ]
  },
  {
   "cell_type": "code",
   "execution_count": 4,
   "id": "6550b8a6-ab4e-49fc-a669-a35519677bb4",
   "metadata": {},
   "outputs": [
    {
     "data": {
      "text/html": [
       "<section aria-labelledby=\"a4e4e094a-1e58-439a-a3f3-f696ccbed98b-figcaption\"><figure><figcaption id=\"a4e4e094a-1e58-439a-a3f3-f696ccbed98b-figcaption\"></figcaption><table aria-colcount=\"2\" aria-rowcount=\"2\" id=\"a4e4e094a-1e58-439a-a3f3-f696ccbed98b\" role=\"table\"><caption id=\"a4e4e094a-1e58-439a-a3f3-f696ccbed98b-caption\">pandas dataframe with 0 rows, 1 columns with 1 index levels and 2 columns levels.</caption><thead role=\"rowgroup\"><tr aria-selected=\"true\" role=\"row\"><th aria-colindex=\"1\" aria-current=\"true\" aria-rowindex=\"1\" aria-sort=\"descending\" role=\"colheader\" rowspan=\"2\" tabindex=\"1\">None</th><th aria-colindex=\"2\" aria-rowindex=\"1\" aria-sort=\"descending\" role=\"colheader\">foo</th></tr><tr role=\"row\"><th aria-colindex=\"2\" aria-rowindex=\"2\" aria-sort=\"descending\" role=\"colheader\">bar</th></tr><tr role=\"row\" style=\"--0: number; \"><th aria-colindex=\"1\" aria-rowindex=\"4\">type</th><td aria-colindex=\"2\" aria-rowindex=\"4\" role=\"cell\">number</td></tr></thead></table></figure><form aria-labelledby=\"a4e4e094a-1e58-439a-a3f3-f696ccbed98b-figcaption\" name=\"a4e4e094a-1e58-439a-a3f3-f696ccbed98b\"><button aria-controls=\"None-schema\" onclick='event.preventDefault(); document.getElementById(this.getAttribute(\"aria-controls\")).showModal()'>more information</button></form><style><style>#None tr { --foo-bar: var(--0);\n",
       " }</style></style><script>function setScroll(table) {\n",
       "    console.log(table);\n",
       "    let y = (table.scrollTop) / (table.scrollHeight - table.clientHeight);\n",
       "    let x = (table.scrollLeft) / (table.scrollWidth - table.clientWidth);\n",
       "    table.style.setProperty(\"--scroll-y\", y);\n",
       "    table.style.setProperty(\"--scroll-x\", x);\n",
       "    table.dataset.scrollY = y;\n",
       "    table.dataset.scrollX = x;\n",
       "}</script><script>document.querySelectorAll(\"#a4e4e094a-1e58-439a-a3f3-f696ccbed98b [data-scroll]\").forEach(\n",
       "    (element) => {\n",
       "        element.onscroll = (element) => {setScroll(element.target)};\n",
       "    }\n",
       ")</script><dialog id=\"None-schema\"><form><button formmethod=\"dialog\">close</button><h1>schema</h1><dt><samp class=\"s2\" itemscope itemtype=\"builtins:str\">properties</samp></dt><dd><dl id=\"123555092395200\" itemscope itemtype=\"builtins:dict\"><dt><samp class=\"s2\" itemscope itemtype=\"builtins:str\">foo</samp></dt><dd><dl id=\"123555092522368\" itemscope itemtype=\"builtins:dict\"><dt><samp class=\"s2\" itemscope itemtype=\"builtins:str\">properties</samp></dt><dd><dl id=\"123555094287104\" itemscope itemtype=\"builtins:dict\"><dt><samp class=\"s2\" itemscope itemtype=\"builtins:str\">bar</samp></dt><dd><dl id=\"123555092522176\" itemscope itemtype=\"builtins:dict\"><dt><samp class=\"s2\" itemscope itemtype=\"builtins:str\">description</samp></dt><dd><samp class=\"s2\" itemscope itemtype=\"builtins:str\">the meaning of the second levels column named bar.</samp></dd><dt><samp class=\"s2\" itemscope itemtype=\"builtins:str\">type</samp></dt><dd><samp class=\"s2\" itemscope itemtype=\"builtins:str\">number</samp></dd></dl></dd></dl></dd></dl></dd></dl></dd></form></dialog></section>"
      ],
      "text/plain": [
       "'<section aria-labelledby=\"a4e4e094a-1e58-439a-a3f3-f696ccbed98b-figcaption\"><figure><figcaption id=\"a4e4e094a-1e58-439a-a3f3-f696ccbed98b-figcaption\"></figcaption><table aria-colcount=\"2\" aria-rowcount=\"2\" id=\"a4e4e094a-1e58-439a-a3f3-f696ccbed98b\" role=\"table\"><caption id=\"a4e4e094a-1e58-439a-a3f3-f696ccbed98b-caption\">pandas dataframe with 0 rows, 1 columns with 1 index levels and 2 columns levels.</caption><thead role=\"rowgroup\"><tr aria-selected=\"true\" role=\"row\"><th aria-colindex=\"1\" aria-current=\"true\" aria-rowindex=\"1\" aria-sort=\"descending\" role=\"colheader\" rowspan=\"2\" tabindex=\"1\">None</th><th aria-colindex=\"2\" aria-rowindex=\"1\" aria-sort=\"descending\" role=\"colheader\">foo</th></tr><tr role=\"row\"><th aria-colindex=\"2\" aria-rowindex=\"2\" aria-sort=\"descending\" role=\"colheader\">bar</th></tr><tr role=\"row\" style=\"--0: number; \"><th aria-colindex=\"1\" aria-rowindex=\"4\">type</th><td aria-colindex=\"2\" aria-rowindex=\"4\" role=\"cell\">number</td></tr></thead></table></figure><form aria-labelledby=\"a4e4e094a-1e58-439a-a3f3-f696ccbed98b-figcaption\" name=\"a4e4e094a-1e58-439a-a3f3-f696ccbed98b\"><button aria-controls=\"None-schema\" onclick=\\'event.preventDefault(); document.getElementById(this.getAttribute(\"aria-controls\")).showModal()\\'>more information</button></form><style><style>#None tr { --foo-bar: var(--0);\\n }</style></style><script>function setScroll(table) {\\n    console.log(table);\\n    let y = (table.scrollTop) / (table.scrollHeight - table.clientHeight);\\n    let x = (table.scrollLeft) / (table.scrollWidth - table.clientWidth);\\n    table.style.setProperty(\"--scroll-y\", y);\\n    table.style.setProperty(\"--scroll-x\", x);\\n    table.dataset.scrollY = y;\\n    table.dataset.scrollX = x;\\n}</script><script>document.querySelectorAll(\"#a4e4e094a-1e58-439a-a3f3-f696ccbed98b [data-scroll]\").forEach(\\n    (element) => {\\n        element.onscroll = (element) => {setScroll(element.target)};\\n    }\\n)</script><dialog id=\"None-schema\"><form><button formmethod=\"dialog\">close</button><h1>schema</h1><dt><samp class=\"s2\" itemscope itemtype=\"builtins:str\">properties</samp></dt><dd><dl id=\"123555092395200\" itemscope itemtype=\"builtins:dict\"><dt><samp class=\"s2\" itemscope itemtype=\"builtins:str\">foo</samp></dt><dd><dl id=\"123555092522368\" itemscope itemtype=\"builtins:dict\"><dt><samp class=\"s2\" itemscope itemtype=\"builtins:str\">properties</samp></dt><dd><dl id=\"123555094287104\" itemscope itemtype=\"builtins:dict\"><dt><samp class=\"s2\" itemscope itemtype=\"builtins:str\">bar</samp></dt><dd><dl id=\"123555092522176\" itemscope itemtype=\"builtins:dict\"><dt><samp class=\"s2\" itemscope itemtype=\"builtins:str\">description</samp></dt><dd><samp class=\"s2\" itemscope itemtype=\"builtins:str\">the meaning of the second levels column named bar.</samp></dd><dt><samp class=\"s2\" itemscope itemtype=\"builtins:str\">type</samp></dt><dd><samp class=\"s2\" itemscope itemtype=\"builtins:str\">number</samp></dd></dl></dd></dl></dd></dl></dd></dl></dd></form></dialog></section>'"
      ]
     },
     "execution_count": 4,
     "metadata": {},
     "output_type": "execute_result"
    },
    {
     "data": {
      "text/html": [
       "<pre><code>from nbconvert_a11y.repr import get_table, TableOptions\n",
       "HTML(DataFrame(columns=pandas.MultiIndex.from_product([&quot;foo&quot;.split(), &quot;bar&quot;.split()])).pipe(\n",
       "    get_table, TableOptions(schema=\n",
       "</code></pre>\n",
       "<pre><code class=\"toml\">[properties.foo.properties.bar]\n",
       "description = &quot;the meaning of the second levels column named bar.&quot;\n",
       "type = &quot;number&quot;\n",
       "</code></pre>\n",
       "<pre><code>)))</code></pre>\n"
      ],
      "text/plain": [
       "<IPython.core.display.HTML object>"
      ]
     },
     "metadata": {},
     "output_type": "display_data"
    }
   ],
   "source": [
    "%%\n",
    "    from nbconvert_a11y.repr import get_table, TableOptions\n",
    "    HTML(DataFrame(columns=pandas.MultiIndex.from_product([\"foo\".split(), \"bar\".split()])).pipe(\n",
    "        get_table, TableOptions(schema=\n",
    "```toml\n",
    "[properties.foo.properties.bar]\n",
    "description = \"the meaning of the second levels column named bar.\"\n",
    "type = \"number\"\n",
    "```\n",
    "    )))"
   ]
  },
  {
   "cell_type": "code",
   "execution_count": null,
   "id": "412f4edd-daa4-46ee-b6ad-056c465f639e",
   "metadata": {},
   "outputs": [],
   "source": []
  }
 ],
 "metadata": {
  "kernelspec": {
   "display_name": "Python [conda env:p311] *",
   "language": "python",
   "name": "conda-env-p311-py"
  },
  "language_info": {
   "codemirror_mode": {
    "name": "ipython",
    "version": 3
   },
   "file_extension": ".py",
   "mimetype": "text/x-python",
   "name": "python",
   "nbconvert_exporter": "python",
   "pygments_lexer": "ipython3",
   "version": "3.11.3"
  },
  "widgets": {
   "application/vnd.jupyter.widget-state+json": {
    "state": {},
    "version_major": 2,
    "version_minor": 0
   }
  }
 },
 "nbformat": 4,
 "nbformat_minor": 5
}
