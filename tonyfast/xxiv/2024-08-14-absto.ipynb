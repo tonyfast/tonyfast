{
 "cells": [
  {
   "cell_type": "markdown",
   "id": "f05cf234-7115-4cf1-bc3c-97cb66d3007c",
   "metadata": {},
   "source": [
    "# gleaming the cube with absto\n",
    "\n",
    "using css to make a cube.\n",
    "\n",
    "https://getabsto.com\n",
    "\n",
    "[abstodemo](#absto)"
   ]
  },
  {
   "cell_type": "code",
   "execution_count": 1,
   "id": "709ae2ca-3e44-4d2d-9ca8-a93273d2b04e",
   "metadata": {},
   "outputs": [],
   "source": [
    "    import bs4, requests\n",
    "    from midgy.language.python import Css, HTML\n",
    "    from nbconvert_a11y.table import new\n",
    "    __import__(\"requests_cache\").install_cache()\n",
    "    soup = bs4.BeautifulSoup((response := requests.get(\"https://getabsto.com/\")).text, features=\"lxml\")\n",
    "    df = Series(soup.select(\"img\")).attrgetter(\"attrs\").series()\n",
    "    df.src = response.url + df.src"
   ]
  },
  {
   "cell_type": "code",
   "execution_count": 2,
   "id": "39f20b68-9a7f-4085-8bea-18b8e1447b6f",
   "metadata": {},
   "outputs": [
    {
     "data": {
      "text/html": [
       "<div id=\"absto\"><img src=\"https://getabsto.com/images/c153d0290e7452643306bb38c080e305.jpg\"/><img src=\"https://getabsto.com/images/1083f95e8f1bf0fc971a5426a57e97cc.png\"/><img src=\"https://getabsto.com/images/1083f95e8f1bf0fc971a5426a57e97cc.png\"/><img src=\"https://getabsto.com/images/41cb5dbf4d2d74b76b2ec30ab2d100df.png\"/><img src=\"https://getabsto.com/images/a5f675633ff811108876d1551a12079e.svg\"/><img src=\"https://getabsto.com/images/ba50c9e3b039009804b00f9d0e07f060.png\"/></div>"
      ],
      "text/plain": [
       "'<div id=\"absto\"><img src=\"https://getabsto.com/images/c153d0290e7452643306bb38c080e305.jpg\"/><img src=\"https://getabsto.com/images/1083f95e8f1bf0fc971a5426a57e97cc.png\"/><img src=\"https://getabsto.com/images/1083f95e8f1bf0fc971a5426a57e97cc.png\"/><img src=\"https://getabsto.com/images/41cb5dbf4d2d74b76b2ec30ab2d100df.png\"/><img src=\"https://getabsto.com/images/a5f675633ff811108876d1551a12079e.svg\"/><img src=\"https://getabsto.com/images/ba50c9e3b039009804b00f9d0e07f060.png\"/></div>'"
      ]
     },
     "execution_count": 2,
     "metadata": {},
     "output_type": "execute_result"
    },
    {
     "data": {
      "text/html": [
       "<h2>the cube</h2>\n",
       "<pre><code>cube = df.sample(6)\n",
       "HTML(new(&quot;div&quot;, *cube.apply(lambda s: new(&quot;img&quot;, src=s.src), axis=1), id=&quot;absto&quot;))</code></pre>\n"
      ],
      "text/plain": [
       "<IPython.core.display.HTML object>"
      ]
     },
     "metadata": {},
     "output_type": "display_data"
    }
   ],
   "source": [
    "%%\n",
    "## the cube\n",
    "\n",
    "    cube = df.sample(6)\n",
    "    HTML(new(\"div\", *cube.apply(lambda s: new(\"img\", src=s.src), axis=1), id=\"absto\"))"
   ]
  },
  {
   "cell_type": "code",
   "execution_count": 3,
   "id": "2f41f263-2b7f-4b38-90e5-e21278f71341",
   "metadata": {},
   "outputs": [
    {
     "data": {
      "text/html": [
       "<style>#absto {\n",
       "    --w: 200px;\n",
       "    --w2: calc(var(--w) / 2);\n",
       "    --mul: 2;\n",
       "    --opacity: 90%;\n",
       "    --h: 200px;\n",
       "    --α: 10deg;\n",
       "    --β: 10deg;\n",
       "    --γ: 10deg;\n",
       "    --hue: 180deg;\n",
       "}\n",
       "</style>"
      ],
      "text/plain": [
       "'#absto {\\n    --w: 200px;\\n    --w2: calc(var(--w) / 2);\\n    --mul: 2;\\n    --opacity: 90%;\\n    --h: 200px;\\n    --α: 10deg;\\n    --β: 10deg;\\n    --γ: 10deg;\\n    --hue: 180deg;\\n}\\n'"
      ]
     },
     "metadata": {},
     "output_type": "display_data"
    },
    {
     "data": {
      "text/html": [
       "<style>#absto {\n",
       "    border: 100px;\n",
       "    display: block;\n",
       "    position: relative;\n",
       "    width: calc(var(--mul) * var(--w)); height: calc(var(--mul) * var(--h));\n",
       "    transform-style: preserve-3d;\n",
       "    padding: 100px;\n",
       "    box-sizing: border-box;\n",
       "    img {\n",
       "        transition: rotate 2s;\n",
       "        filter: hue-rotate(var(--hue));\n",
       "        position: absolute;\n",
       "        width: var(--w); height: var(--h);\n",
       "        border: solid 2px;\n",
       "        opacity: var(--opacity);\n",
       "    }\n",
       "}\n",
       "</style>"
      ],
      "text/plain": [
       "'#absto {\\n    border: 100px;\\n    display: block;\\n    position: relative;\\n    width: calc(var(--mul) * var(--w)); height: calc(var(--mul) * var(--h));\\n    transform-style: preserve-3d;\\n    padding: 100px;\\n    box-sizing: border-box;\\n    img {\\n        transition: rotate 2s;\\n        filter: hue-rotate(var(--hue));\\n        position: absolute;\\n        width: var(--w); height: var(--h);\\n        border: solid 2px;\\n        opacity: var(--opacity);\\n    }\\n}\\n'"
      ]
     },
     "metadata": {},
     "output_type": "display_data"
    },
    {
     "data": {
      "text/html": [
       "<style>#absto {\n",
       "    --r:  rotateY(var(--α)) rotateZ(var(--β)) rotateX(var(--γ));\n",
       "    filter: var(--hue);\n",
       "    transform-origin: var(--w2) var(--w2) 0;\n",
       "    transform:  var(--r) translate(var(--w2), var(--w2));\n",
       "    img {\n",
       "        transform-origin: 50% 50% 0;\n",
       "    }\n",
       "    img:nth-child(2) {\n",
       "        transform: \n",
       "            translateX(var(--w2))\n",
       "            rotateY(90deg)\n",
       "            ;\n",
       "    }\n",
       "    img:nth-child(3) {\n",
       "        transform: \n",
       "            translateX(calc(-1 * var(--w2)))\n",
       "            rotateY(90deg)\n",
       "            ;\n",
       "    }\n",
       "    img:nth-child(4) {\n",
       "        transform: \n",
       "            translateY(var(--w2))\n",
       "            rotateX(90deg)\n",
       "            ;\n",
       "    }\n",
       "    img:nth-child(5) {\n",
       "        transform: \n",
       "            translateY(calc(-1 * var(--w2)))\n",
       "            rotateX(90deg)\n",
       "            ;\n",
       "    }\n",
       "    img:nth-child(6) {\n",
       "        transform: \n",
       "            translateZ(var(--w2))\n",
       "            ;\n",
       "    }\n",
       "    img:nth-child(1) {\n",
       "        transform: \n",
       "            translateZ(calc(-1 * var(--w2)))\n",
       "            ;\n",
       "    }\n",
       "\n",
       "}\n",
       "</style>"
      ],
      "text/plain": [
       "'#absto {\\n    --r:  rotateY(var(--α)) rotateZ(var(--β)) rotateX(var(--γ));\\n    filter: var(--hue);\\n    transform-origin: var(--w2) var(--w2) 0;\\n    transform:  var(--r) translate(var(--w2), var(--w2));\\n    img {\\n        transform-origin: 50% 50% 0;\\n    }\\n    img:nth-child(2) {\\n        transform: \\n            translateX(var(--w2))\\n            rotateY(90deg)\\n            ;\\n    }\\n    img:nth-child(3) {\\n        transform: \\n            translateX(calc(-1 * var(--w2)))\\n            rotateY(90deg)\\n            ;\\n    }\\n    img:nth-child(4) {\\n        transform: \\n            translateY(var(--w2))\\n            rotateX(90deg)\\n            ;\\n    }\\n    img:nth-child(5) {\\n        transform: \\n            translateY(calc(-1 * var(--w2)))\\n            rotateX(90deg)\\n            ;\\n    }\\n    img:nth-child(6) {\\n        transform: \\n            translateZ(var(--w2))\\n            ;\\n    }\\n    img:nth-child(1) {\\n        transform: \\n            translateZ(calc(-1 * var(--w2)))\\n            ;\\n    }\\n\\n}\\n'"
      ]
     },
     "metadata": {},
     "output_type": "display_data"
    },
    {
     "data": {
      "text/html": [
       "<h2>css sorcery</h2>\n",
       "<p>defining variables independent of their expressions lets us use dev tools a user interface for changing the parameters. it is cheap, cheap UI.</p>\n",
       "<pre><code>variables: Css =\\\n",
       "</code></pre>\n",
       "<pre><code class=\"css\">#absto {\n",
       "    --w: 200px;\n",
       "    --w2: calc(var(--w) / 2);\n",
       "    --mul: 2;\n",
       "    --opacity: 90%;\n",
       "    --h: 200px;\n",
       "    --α: 10deg;\n",
       "    --β: 10deg;\n",
       "    --γ: 10deg;\n",
       "    --hue: 180deg;\n",
       "}\n",
       "</code></pre>\n",
       "<h3>define constraints for the parent holding the faces.</h3>\n",
       "<pre><code>parent_and_images: Css =\\\n",
       "</code></pre>\n",
       "<pre><code class=\"css\">#absto {\n",
       "    border: 100px;\n",
       "    display: block;\n",
       "    position: relative;\n",
       "    width: calc(var(--mul) * var(--w)); height: calc(var(--mul) * var(--h));\n",
       "    transform-style: preserve-3d;\n",
       "    padding: 100px;\n",
       "    box-sizing: border-box;\n",
       "    img {\n",
       "        transition: rotate 2s;\n",
       "        filter: hue-rotate(var(--hue));\n",
       "        position: absolute;\n",
       "        width: var(--w); height: var(--h);\n",
       "        border: solid 2px;\n",
       "        opacity: var(--opacity);\n",
       "    }\n",
       "}\n",
       "</code></pre>\n",
       "<h3>define rotation properties to make the faces.</h3>\n",
       "<pre><code>rotations: Css =\\\n",
       "</code></pre>\n",
       "<pre><code class=\"css\">#absto {\n",
       "    --r:  rotateY(var(--α)) rotateZ(var(--β)) rotateX(var(--γ));\n",
       "    filter: var(--hue);\n",
       "    transform-origin: var(--w2) var(--w2) 0;\n",
       "    transform:  var(--r) translate(var(--w2), var(--w2));\n",
       "    img {\n",
       "        transform-origin: 50% 50% 0;\n",
       "    }\n",
       "    img:nth-child(2) {\n",
       "        transform: \n",
       "            translateX(var(--w2))\n",
       "            rotateY(90deg)\n",
       "            ;\n",
       "    }\n",
       "    img:nth-child(3) {\n",
       "        transform: \n",
       "            translateX(calc(-1 * var(--w2)))\n",
       "            rotateY(90deg)\n",
       "            ;\n",
       "    }\n",
       "    img:nth-child(4) {\n",
       "        transform: \n",
       "            translateY(var(--w2))\n",
       "            rotateX(90deg)\n",
       "            ;\n",
       "    }\n",
       "    img:nth-child(5) {\n",
       "        transform: \n",
       "            translateY(calc(-1 * var(--w2)))\n",
       "            rotateX(90deg)\n",
       "            ;\n",
       "    }\n",
       "    img:nth-child(6) {\n",
       "        transform: \n",
       "            translateZ(var(--w2))\n",
       "            ;\n",
       "    }\n",
       "    img:nth-child(1) {\n",
       "        transform: \n",
       "            translateZ(calc(-1 * var(--w2)))\n",
       "            ;\n",
       "    }\n",
       "\n",
       "}\n",
       "</code></pre>\n",
       "<pre><code>display(variables, parent_and_images, rotations)</code></pre>\n"
      ],
      "text/plain": [
       "<IPython.core.display.HTML object>"
      ]
     },
     "metadata": {},
     "output_type": "display_data"
    }
   ],
   "source": [
    "%%\n",
    "## css sorcery\n",
    "\n",
    "defining variables independent of their expressions lets us use dev tools a user interface for changing the parameters. it is cheap, cheap UI.\n",
    "\n",
    "    variables: Css =\\\n",
    "```css\n",
    "#absto {\n",
    "    --w: 200px;\n",
    "    --w2: calc(var(--w) / 2);\n",
    "    --mul: 2;\n",
    "    --opacity: 90%;\n",
    "    --h: 200px;\n",
    "    --α: 10deg;\n",
    "    --β: 10deg;\n",
    "    --γ: 10deg;\n",
    "    --hue: 180deg;\n",
    "}\n",
    "```\n",
    "\n",
    "### define constraints for the parent holding the faces.\n",
    "\n",
    "    parent_and_images: Css =\\\n",
    "```css\n",
    "#absto {\n",
    "    border: 100px;\n",
    "    display: block;\n",
    "    position: relative;\n",
    "    width: calc(var(--mul) * var(--w)); height: calc(var(--mul) * var(--h));\n",
    "    transform-style: preserve-3d;\n",
    "    padding: 100px;\n",
    "    box-sizing: border-box;\n",
    "    img {\n",
    "        transition: rotate 2s;\n",
    "        filter: hue-rotate(var(--hue));\n",
    "        position: absolute;\n",
    "        width: var(--w); height: var(--h);\n",
    "        border: solid 2px;\n",
    "        opacity: var(--opacity);\n",
    "    }\n",
    "}\n",
    "```\n",
    "\n",
    "### define rotation properties to make the faces.\n",
    "\n",
    "    rotations: Css =\\\n",
    "```css\n",
    "#absto {\n",
    "    --r:  rotateY(var(--α)) rotateZ(var(--β)) rotateX(var(--γ));\n",
    "    filter: var(--hue);\n",
    "    transform-origin: var(--w2) var(--w2) 0;\n",
    "    transform:  var(--r) translate(var(--w2), var(--w2));\n",
    "    img {\n",
    "        transform-origin: 50% 50% 0;\n",
    "    }\n",
    "    img:nth-child(2) {\n",
    "        transform: \n",
    "            translateX(var(--w2))\n",
    "            rotateY(90deg)\n",
    "            ;\n",
    "    }\n",
    "    img:nth-child(3) {\n",
    "        transform: \n",
    "            translateX(calc(-1 * var(--w2)))\n",
    "            rotateY(90deg)\n",
    "            ;\n",
    "    }\n",
    "    img:nth-child(4) {\n",
    "        transform: \n",
    "            translateY(var(--w2))\n",
    "            rotateX(90deg)\n",
    "            ;\n",
    "    }\n",
    "    img:nth-child(5) {\n",
    "        transform: \n",
    "            translateY(calc(-1 * var(--w2)))\n",
    "            rotateX(90deg)\n",
    "            ;\n",
    "    }\n",
    "    img:nth-child(6) {\n",
    "        transform: \n",
    "            translateZ(var(--w2))\n",
    "            ;\n",
    "    }\n",
    "    img:nth-child(1) {\n",
    "        transform: \n",
    "            translateZ(calc(-1 * var(--w2)))\n",
    "            ;\n",
    "    }\n",
    "\n",
    "}\n",
    "```\n",
    "\n",
    "    display(variables, parent_and_images, rotations)"
   ]
  },
  {
   "cell_type": "code",
   "execution_count": 4,
   "id": "7e261a55-de91-4078-bf6c-096a317c5293",
   "metadata": {},
   "outputs": [
    {
     "data": {
      "text/html": [
       "<style>[href=\"#absto\"] {\n",
       "    display: inline-block;\n",
       "    background: -moz-element(#absto);\n",
       "    background-size: contain;\n",
       "    font-size: 5rem;\n",
       "}\n",
       "</style>"
      ],
      "text/plain": [
       "'[href=\"#absto\"] {\\n    display: inline-block;\\n    background: -moz-element(#absto);\\n    background-size: contain;\\n    font-size: 5rem;\\n}\\n'"
      ]
     },
     "execution_count": 4,
     "metadata": {},
     "output_type": "execute_result"
    },
    {
     "data": {
      "text/html": [
       "<pre><code class=\"css\">[href=&quot;#absto&quot;] {\n",
       "    display: inline-block;\n",
       "    background: -moz-element(#absto);\n",
       "    background-size: contain;\n",
       "    font-size: 5rem;\n",
       "}\n",
       "</code></pre>\n"
      ],
      "text/plain": [
       "<IPython.core.display.HTML object>"
      ]
     },
     "metadata": {},
     "output_type": "display_data"
    }
   ],
   "source": [
    "%% \n",
    "```css\n",
    "[href=\"#absto\"] {\n",
    "    display: inline-block;\n",
    "    background: -moz-element(#absto);\n",
    "    background-size: contain;\n",
    "    font-size: 5rem;\n",
    "}\n",
    "```"
   ]
  },
  {
   "cell_type": "code",
   "execution_count": null,
   "id": "b648a0a7-f78e-436c-a81f-068763396a82",
   "metadata": {},
   "outputs": [],
   "source": []
  }
 ],
 "metadata": {
  "kernelspec": {
   "display_name": "Python [conda env:p311] *",
   "language": "python",
   "name": "conda-env-p311-py"
  },
  "language_info": {
   "codemirror_mode": {
    "name": "ipython",
    "version": 3
   },
   "file_extension": ".py",
   "mimetype": "text/x-python",
   "name": "python",
   "nbconvert_exporter": "python",
   "pygments_lexer": "ipython3",
   "version": "3.11.3"
  },
  "widgets": {
   "application/vnd.jupyter.widget-state+json": {
    "state": {},
    "version_major": 2,
    "version_minor": 0
   }
  }
 },
 "nbformat": 4,
 "nbformat_minor": 5
}
