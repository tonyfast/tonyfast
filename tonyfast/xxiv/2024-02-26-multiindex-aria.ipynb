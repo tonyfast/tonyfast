{
 "cells": [
  {
   "cell_type": "markdown",
   "id": "40eff853-aaf6-4642-afd1-22d02378d016",
   "metadata": {},
   "source": [
    "# adding aria to long or wide tables\n",
    "\n",
    "sometimes tables are large and truncated by default to save screen and disc real estate.\n",
    "when this happens, we break the meaning of the columns/row ordering to assistive technology.\n",
    "we need to supplement the table elements with aria to ensure an accessible experience.\n",
    "\n",
    "we'll also highlight a persistent ambiguity between visual dataframe indexing and audible dataframe indexing."
   ]
  },
  {
   "cell_type": "code",
   "execution_count": 1,
   "id": "a33615b5-269f-4430-b172-69125ecfab6c",
   "metadata": {},
   "outputs": [
    {
     "name": "stderr",
     "output_type": "stream",
     "text": [
      "/tmp/ipykernel_18771/1227099998.py:1: DeprecationWarning: \n",
      "Pyarrow will become a required dependency of pandas in the next major release of pandas (pandas 3.0),\n",
      "(to allow more performant data types, such as the Arrow string type, and better interoperability with other libraries)\n",
      "but was not found to be installed on your system.\n",
      "If this would cause problems for you,\n",
      "please provide us feedback at https://github.com/pandas-dev/pandas/issues/54466\n",
      "        \n",
      "  import pandas, bs4, enum, numpy, midgy, functools\n"
     ]
    }
   ],
   "source": [
    "    import pandas, bs4, enum, numpy, midgy, functools\n",
    "    get_ipython().display_formatter.formatters[\"text/html\"].for_type(bs4.BeautifulSoup, str);"
   ]
  },
  {
   "cell_type": "code",
   "execution_count": 2,
   "id": "4cf0dc44-429c-47f0-b504-b6220f375b9a",
   "metadata": {},
   "outputs": [
    {
     "data": {
      "text/markdown": [
       "\n",
       "<style>\n",
       ":is(.jp-OutputArea-output.jp-RenderedHTMLCommon, .nb-outputs) :is(td,th) {\n",
       "    border: 1px solid;\n",
       "}\n",
       "</style>\n"
      ],
      "text/plain": [
       "<IPython.core.display.Markdown object>"
      ]
     },
     "metadata": {},
     "output_type": "display_data"
    }
   ],
   "source": [
    "%%\n",
    "<style>\n",
    ":is(.jp-OutputArea-output.jp-RenderedHTMLCommon, .nb-outputs) :is(td,th) {\n",
    "    border: 1px solid;\n",
    "}\n",
    "</style>"
   ]
  },
  {
   "cell_type": "markdown",
   "id": "aaa93d16-f27d-490e-aa31-a7d4b6f7300a",
   "metadata": {},
   "source": [
    "get an aria marked up, non-uniform table."
   ]
  },
  {
   "cell_type": "code",
   "execution_count": 3,
   "id": "9f083283-b55b-4262-9d0c-b60a4c4ded97",
   "metadata": {},
   "outputs": [],
   "source": [
    "    def get_table(df, ARIA=True, caption=None):\n",
    "        soup = bs4.BeautifulSoup(features=\"lxml\")\n",
    "        ROWS, COLS = any(df.index.names), any(df.columns.names)\n",
    "        WIDE = (df.shape[1] + 1) > pandas.options.display.max_columns\n",
    "        LONG = (df.shape[0] + 1) > pandas.options.display.max_rows\n",
    "        col_ranges, row_ranges = get_ranges(df, WIDE, LONG)\n",
    "        soup.append(table := new(\"table\", \n",
    "                                 colcount=row_major_at_cols(df) if ARIA or WIDE else None,\n",
    "                                 rowcount=row_major_at_rows(df) if ARIA or LONG else None))\n",
    "        table.append(cap := new(\"caption\", caption))    \n",
    "        cap.append(get_caption(df))\n",
    "        get_thead(df, table, col_ranges, WIDE, ARIA, LONG)\n",
    "        get_tbody(df, table, col_ranges, row_ranges, WIDE, ARIA, LONG)\n",
    "        return soup"
   ]
  },
  {
   "cell_type": "code",
   "execution_count": 4,
   "id": "5765530f-6cba-4117-a660-dc5732f2d925",
   "metadata": {},
   "outputs": [],
   "source": [
    "    def get_thead(df, table, col_ranges, WIDE=False, ARIA=False, LONG=False):\n",
    "        ROWS, COLS = any(df.index.names), any(df.columns.names)\n",
    "        col_center = col_ranges[1].start - col_ranges[0].stop\n",
    "        for col_level, col_name in enumerate(df.columns.names):\n",
    "            table.append(tr := trow(rowindex=col_level+1 if ARIA or LONG and row_part else None))\n",
    "            if not col_level:\n",
    "                if ROWS or not COLS:\n",
    "                    for row_level, row_name in enumerate(df.index.names):\n",
    "                        tr.append(th := theading(\n",
    "                            str(row_name) or F\"index {row_level}\", scope=\"col\", \n",
    "                            rowspan=df.columns.nlevels if df.columns.nlevels > 1 else None, \n",
    "                            colindex=row_level+1 if ARIA else None))\n",
    "            if COLS: tr.append(theading(\n",
    "                str(col_name) or F\"level {col_level}\", scope=\"row\",\n",
    "                colindex=df.index.nlevels+1 if ARIA else None))\n",
    "    \n",
    "            for col_part, col_range in enumerate(col_ranges):\n",
    "                if col_part:\n",
    "                    tr.append(theading(HIDDEN, colindex=col_index+2+df.index.nlevels + bool(LONG and WIDE) if ARIA else None,\n",
    "                                       **{\"aria-colspan\": col_center}))\n",
    "                for col_index in col_range:\n",
    "                    col_value = df.columns.get_level_values(col_level)[col_index]\n",
    "                    tr.append(theading(str(col_value), scope=\"col\", colindex=df.index.nlevels + int(ROWS and COLS) + col_index + 1 if ARIA or WIDE and col_part else None))"
   ]
  },
  {
   "cell_type": "markdown",
   "id": "5f779396-9118-47bf-baf6-37895387f10f",
   "metadata": {},
   "source": [
    "one of the confusions that will be encountered is that \n",
    "natural row and column indexing of tidy data frames will be inconsistent with those announced by assistive technology.\n",
    "assistive technology indexes tables starting from"
   ]
  },
  {
   "cell_type": "code",
   "execution_count": 5,
   "id": "1319c6fa-4adc-4428-aa5e-e3b8515673fd",
   "metadata": {},
   "outputs": [],
   "source": [
    "    def row_major_at_rows(df): return df.columns.nlevels + len(df) \n",
    "    def row_major_at_cols(df): return df.index.nlevels + int(any(df.columns.names)) + len(df.columns) "
   ]
  },
  {
   "cell_type": "markdown",
   "id": "5247ddb3-2ed1-4d2e-a987-36aa4c30fc9e",
   "metadata": {},
   "source": [
    "we present a potentational solution provide more information in the caption that may alert screen readers to the mismatch."
   ]
  },
  {
   "cell_type": "code",
   "execution_count": 6,
   "id": "1a7a1f1d-6510-4530-93cc-6404d8f27836",
   "metadata": {},
   "outputs": [],
   "source": [
    "    def get_caption(df):\n",
    "        dl = new(\"dl\", role=\"presentation\")\n",
    "        dl.append(new(\"dt\", \"rows\")), dl.append(new(\"dd\", str(len(df))))\n",
    "        dl.append(new(\"dt\", \"columns\")), dl.append(new(\"dd\", str(len(df.columns))))\n",
    "        dl.append(new(\"dt\", \"indexes:\")), dl.append(new(\"dd\", indexes := new(\"dl\", role=\"presentation\")))\n",
    "        indexes.append(new(\"dt\", \"rows\")), indexes.append(new(\"dd\", str(df.index.nlevels)))\n",
    "        indexes.append(new(\"dt\", \"columns\")), indexes.append(new(\"dd\", str(df.columns.nlevels)))\n",
    "        return dl"
   ]
  },
  {
   "cell_type": "markdown",
   "id": "367e0b1f-c625-40e4-8028-d055db832d3e",
   "metadata": {},
   "source": [
    "iterate through the rows of data and append them to the table"
   ]
  },
  {
   "cell_type": "code",
   "execution_count": 7,
   "id": "5ea33ebb-dfd7-44cb-a1ca-889adca8ad2d",
   "metadata": {},
   "outputs": [],
   "source": [
    "    def get_tbody(df, table, col_ranges, row_ranges, WIDE=False, ARIA=False, LONG=False):\n",
    "        ROWS, COLS = any(df.index.names), any(df.columns.names)\n",
    "        row_center = row_ranges[1].start - row_ranges[0].stop\n",
    "        col_center = col_ranges[1].start - col_ranges[0].stop\n",
    "        for row_part, row_range in enumerate(row_ranges):\n",
    "            if row_part:\n",
    "                table.append(tr := trow(rowindex=row_index+2+df.columns.nlevels, **{\"aria-rowspan\": row_center}))\n",
    "                for row_level in range(df.index.nlevels): tr.append(theading(HIDDEN,colindex=row_level+1))\n",
    "                if ROWS and COLS: tr.append(tdata(EMPTY, colindex=row_level+2))\n",
    "                for col_part, col_range in enumerate(col_ranges):\n",
    "                    if col_part: tr.append(tdata(HIDDEN, colindex=col_index+2+df.index.nlevels+int(ROWS and COLS), **{\"aria-rowspan\": row_center, \"aria-colspan\": col_center}),)\n",
    "                    for col_index in col_range: tr.append(tdata(HIDDEN, colindex=col_index + 1 + df.index.nlevels + int(ROWS and COLS)))\n",
    "            for row_index in row_range:\n",
    "                table.append(tr := trow(rowindex=row_index+1+df.columns.nlevels))        \n",
    "                for row_level in range(df.index.nlevels):\n",
    "                    tr.append(theading(str(df.index.get_level_values(row_level)[row_index]), colindex=row_level+1 if ARIA else None, scope=\"row\"))\n",
    "                if ROWS and COLS: tr.append(tdata(EMPTY, colindex=row_level+2))\n",
    "                for col_part, col_range in enumerate(col_ranges):\n",
    "                    if col_part: tr.append(tdata(\n",
    "                        HIDDEN, colindex=col_index+2+ df.index.nlevels + int(ROWS and COLS), **{\"aria-colspan\": col_center}))\n",
    "                    for col_index in col_range:\n",
    "                        tr.append(tdata(str(df.iloc[row_index, col_index]), colindex=col_index + 1 + df.index.nlevels + int(ROWS and COLS)))"
   ]
  },
  {
   "cell_type": "markdown",
   "id": "01796828-56d8-4d83-b9a2-dbdfa65eed20",
   "metadata": {},
   "source": [
    "`pandas.options.display.max_columns, pandas.options.display.max_rows` determine the ranges of values that are presented to the visitor.\n",
    "this work implements special logic for spanning multiple rows and columns for truncated data."
   ]
  },
  {
   "cell_type": "code",
   "execution_count": 8,
   "id": "d583cce8-3a12-43cd-a506-bd3f62e2493e",
   "metadata": {},
   "outputs": [],
   "source": [
    "    def get_frame_bounds(df, WIDE=False, LONG=False):\n",
    "        a, b, c, d = len(df.columns), len(df.columns), len(df), len(df)\n",
    "        if WIDE: a = pandas.options.display.max_columns//2; b -=  a\n",
    "        if LONG: c = pandas.options.display.max_rows//2; d -= c\n",
    "        return a, b, c, d\n",
    "    def get_ranges(df, WIDE=False, LONG=False):\n",
    "        a, b, c, d = get_frame_bounds(df, WIDE=WIDE, LONG=LONG)\n",
    "        return (range(a), range(b, df.shape[1])), (range(c), range(d, df.shape[0]))"
   ]
  },
  {
   "cell_type": "markdown",
   "id": "f9c9ae78-4426-4b24-922a-3d406aecb33b",
   "metadata": {},
   "source": [
    "to provide the proper mark up for large tables we need to be rigorous about use of ARIA: `rowindex` `colindex` `rowspan` `colspan`."
   ]
  },
  {
   "cell_type": "code",
   "execution_count": 9,
   "id": "4ba07ba7-2d78-4746-983d-0ae8628adcff",
   "metadata": {},
   "outputs": [],
   "source": [
    "    def new(tag, \n",
    "            string=None,rowindex=None, colindex=None, rowcount=None, colcount=None,rowspan=None,colspan=None,scope=None,\n",
    "            *, soup=bs4.BeautifulSoup(features=\"lxml\"), **attrs):\n",
    "        \"\"\"create a new beautiful soup with table and aria properties\"\"\"\n",
    "        data = locals()\n",
    "        attrs.update({F\"aria-{k}\": data.get(k) for k in [\"rowindex\", \"colindex\", \"rowcount\", \"colcount\"]  if data.get(k)})\n",
    "        attrs.update({k: data.get(k) for k in [\"rowspan\", \"colspan\", \"scope\"] if data.get(k)})\n",
    "        tag = soup.new_tag(tag, attrs=attrs)\n",
    "        if string: tag.append(string)\n",
    "        return tag\n",
    "    trow = functools.partial(new, \"tr\")\n",
    "    theading = functools.partial(new, \"th\")\n",
    "    tdata = functools.partial(new, \"td\")"
   ]
  },
  {
   "cell_type": "markdown",
   "id": "4c953899-f187-4bb0-91d5-c2566a0650cb",
   "metadata": {},
   "source": [
    "sample data"
   ]
  },
  {
   "cell_type": "code",
   "execution_count": 10,
   "id": "ba6dd68c-46e0-425b-8ba0-d31fc9cc3257",
   "metadata": {},
   "outputs": [
    {
     "data": {
      "text/html": [
       "<div>\n",
       "<style scoped>\n",
       "    .dataframe tbody tr th:only-of-type {\n",
       "        vertical-align: middle;\n",
       "    }\n",
       "\n",
       "    .dataframe tbody tr th {\n",
       "        vertical-align: top;\n",
       "    }\n",
       "\n",
       "    .dataframe thead tr th {\n",
       "        text-align: left;\n",
       "    }\n",
       "\n",
       "    .dataframe thead tr:last-of-type th {\n",
       "        text-align: right;\n",
       "    }\n",
       "</style>\n",
       "<table border=\"1\" class=\"dataframe\">\n",
       "  <thead>\n",
       "    <tr>\n",
       "      <th></th>\n",
       "      <th></th>\n",
       "      <th>10</th>\n",
       "      <th colspan=\"2\" halign=\"left\">A</th>\n",
       "      <th>...</th>\n",
       "      <th colspan=\"2\" halign=\"left\">Z</th>\n",
       "    </tr>\n",
       "    <tr>\n",
       "      <th></th>\n",
       "      <th></th>\n",
       "      <th>100</th>\n",
       "      <th colspan=\"2\" halign=\"left\">M</th>\n",
       "      <th>...</th>\n",
       "      <th colspan=\"2\" halign=\"left\">O</th>\n",
       "    </tr>\n",
       "    <tr>\n",
       "      <th></th>\n",
       "      <th></th>\n",
       "      <th>1000</th>\n",
       "      <th>1</th>\n",
       "      <th>2</th>\n",
       "      <th>...</th>\n",
       "      <th>2</th>\n",
       "      <th>3</th>\n",
       "    </tr>\n",
       "    <tr>\n",
       "      <th>J</th>\n",
       "      <th>K</th>\n",
       "      <th>L</th>\n",
       "      <th></th>\n",
       "      <th></th>\n",
       "      <th></th>\n",
       "      <th></th>\n",
       "      <th></th>\n",
       "    </tr>\n",
       "  </thead>\n",
       "  <tbody>\n",
       "    <tr>\n",
       "      <th rowspan=\"5\" valign=\"top\">A</th>\n",
       "      <th rowspan=\"2\" valign=\"top\">M</th>\n",
       "      <th>1</th>\n",
       "      <td>NaN</td>\n",
       "      <td>NaN</td>\n",
       "      <td>...</td>\n",
       "      <td>NaN</td>\n",
       "      <td>NaN</td>\n",
       "    </tr>\n",
       "    <tr>\n",
       "      <th>2</th>\n",
       "      <td>NaN</td>\n",
       "      <td>NaN</td>\n",
       "      <td>...</td>\n",
       "      <td>NaN</td>\n",
       "      <td>NaN</td>\n",
       "    </tr>\n",
       "    <tr>\n",
       "      <th>...</th>\n",
       "      <th>...</th>\n",
       "      <td>...</td>\n",
       "      <td>...</td>\n",
       "      <td>...</td>\n",
       "      <td>...</td>\n",
       "      <td>...</td>\n",
       "    </tr>\n",
       "    <tr>\n",
       "      <th rowspan=\"2\" valign=\"top\">N</th>\n",
       "      <th>1</th>\n",
       "      <td>NaN</td>\n",
       "      <td>NaN</td>\n",
       "      <td>...</td>\n",
       "      <td>NaN</td>\n",
       "      <td>NaN</td>\n",
       "    </tr>\n",
       "    <tr>\n",
       "      <th>2</th>\n",
       "      <td>NaN</td>\n",
       "      <td>NaN</td>\n",
       "      <td>...</td>\n",
       "      <td>NaN</td>\n",
       "      <td>NaN</td>\n",
       "    </tr>\n",
       "  </tbody>\n",
       "</table>\n",
       "<p>100 rows × 180 columns</p>\n",
       "</div>"
      ],
      "text/plain": [
       "10       A       ...    Z     \n",
       "100      M       ...    O     \n",
       "1000     1    2  ...    2    3\n",
       "J K L            ...          \n",
       "A M 1  NaN  NaN  ...  NaN  NaN\n",
       "    2  NaN  NaN  ...  NaN  NaN\n",
       "...    ...  ...  ...  ...  ...\n",
       "  N 1  NaN  NaN  ...  NaN  NaN\n",
       "    2  NaN  NaN  ...  NaN  NaN\n",
       "\n",
       "[100 rows x 180 columns]"
      ]
     },
     "metadata": {},
     "output_type": "display_data"
    }
   ],
   "source": [
    "    index = pandas.MultiIndex.from_product([[\"A\", \"Z\"], [\"M\", \"N\", \"O\"], [1, 2, 3]], names=[*\"JKL\"])\n",
    "    (df := pandas.DataFrame(columns=index, index=index).rename_axis(columns=[10, 100, 1000]).head())\n",
    "    single = df.droplevel((0, 1), 0).droplevel((0, 1), 1).rename_axis(None, axis=1).rename_axis(None, axis=0)\n",
    "    wide = pandas.concat([pandas.concat([df]*10, axis=1)]*20)\n",
    "    with (options := pandas.option_context(\"display.max_rows\", 4, \"display.max_columns\", 4)):\n",
    "        display(wide)"
   ]
  },
  {
   "cell_type": "code",
   "execution_count": 11,
   "id": "dcb1bab9-b006-4d60-98ed-bb6c0840bcfb",
   "metadata": {},
   "outputs": [
    {
     "data": {
      "text/markdown": [
       "\n",
       "<style>\n",
       "/**inline flex the dl block display and force it cause jupyter is aggressive.**/\n",
       "table>caption dl {\n",
       "    display: inline-flex !important;\n",
       "    justify-content: flex-start;\n",
       "}\n",
       "/** add punctation after each of the descriptors. **/\n",
       "table>caption dl>dd {\n",
       "    &::after {content: \", \"}; &:last-child::after {content: \" \"};\n",
       "}\n",
       "/**unset some jupyter nonsense**/\n",
       "dl > dt, dl > dd {\n",
       "    width: unset !important;\n",
       "    float: unset !important;\n",
       "    padding-right: 1rem !important;\n",
       "}\n",
       "</style>\n"
      ],
      "text/plain": [
       "<IPython.core.display.Markdown object>"
      ]
     },
     "metadata": {},
     "output_type": "display_data"
    }
   ],
   "source": [
    "%%\n",
    "<style>\n",
    "/**inline flex the dl block display and force it cause jupyter is aggressive.**/\n",
    "table>caption dl {\n",
    "    display: inline-flex !important;\n",
    "    justify-content: flex-start;\n",
    "}\n",
    "/** add punctation after each of the descriptors. **/\n",
    "table>caption dl>dd {\n",
    "    &::after {content: \", \"}; &:last-child::after {content: \" \"};\n",
    "}\n",
    "/**unset some jupyter nonsense**/\n",
    "dl > dt, dl > dd {\n",
    "    width: unset !important;\n",
    "    float: unset !important;\n",
    "    padding-right: 1rem !important;\n",
    "}\n",
    "</style>"
   ]
  },
  {
   "cell_type": "markdown",
   "id": "8d334e07-9b03-4210-8fda-5a2c58e3a8e0",
   "metadata": {},
   "source": [
    "HIDDEN and EMPTY are used for visual verification of the technique."
   ]
  },
  {
   "cell_type": "code",
   "execution_count": 12,
   "id": "bfab4d72-31db-4f27-96ea-73f5f4a9f5d3",
   "metadata": {},
   "outputs": [],
   "source": [
    "    HIDDEN, EMPTY = \"hidden\",  \"empty\""
   ]
  },
  {
   "cell_type": "code",
   "execution_count": 13,
   "id": "dbf3de5c-b34f-4088-8452-a5954f3e71bc",
   "metadata": {},
   "outputs": [
    {
     "data": {
      "text/html": [
       "<table aria-colcount=\"184\" aria-rowcount=\"103\"><caption><dl role=\"presentation\"><dt>rows</dt><dd>100</dd><dt>columns</dt><dd>180</dd><dt>indexes:</dt><dd><dl role=\"presentation\"><dt>rows</dt><dd>3</dd><dt>columns</dt><dd>3</dd></dl></dd></dl></caption><tr aria-rowindex=\"1\"><th aria-colindex=\"1\" rowspan=\"3\" scope=\"col\">J</th><th aria-colindex=\"2\" rowspan=\"3\" scope=\"col\">K</th><th aria-colindex=\"3\" rowspan=\"3\" scope=\"col\">L</th><th aria-colindex=\"4\" scope=\"row\">10</th><th aria-colindex=\"5\" scope=\"col\">A</th><th aria-colindex=\"6\" scope=\"col\">A</th><th aria-colindex=\"7\" aria-colspan=\"176\">hidden</th><th aria-colindex=\"183\" scope=\"col\">Z</th><th aria-colindex=\"184\" scope=\"col\">Z</th></tr><tr aria-rowindex=\"2\"><th aria-colindex=\"4\" scope=\"row\">100</th><th aria-colindex=\"5\" scope=\"col\">M</th><th aria-colindex=\"6\" scope=\"col\">M</th><th aria-colindex=\"7\" aria-colspan=\"176\">hidden</th><th aria-colindex=\"183\" scope=\"col\">O</th><th aria-colindex=\"184\" scope=\"col\">O</th></tr><tr aria-rowindex=\"3\"><th aria-colindex=\"4\" scope=\"row\">1000</th><th aria-colindex=\"5\" scope=\"col\">1</th><th aria-colindex=\"6\" scope=\"col\">2</th><th aria-colindex=\"7\" aria-colspan=\"176\">hidden</th><th aria-colindex=\"183\" scope=\"col\">2</th><th aria-colindex=\"184\" scope=\"col\">3</th></tr><tr aria-rowindex=\"4\"><th aria-colindex=\"1\" scope=\"row\">A</th><th aria-colindex=\"2\" scope=\"row\">M</th><th aria-colindex=\"3\" scope=\"row\">1</th><td aria-colindex=\"4\">empty</td><td aria-colindex=\"5\">nan</td><td aria-colindex=\"6\">nan</td><td aria-colindex=\"7\" aria-colspan=\"176\">hidden</td><td aria-colindex=\"183\">nan</td><td aria-colindex=\"184\">nan</td></tr><tr aria-rowindex=\"5\"><th aria-colindex=\"1\" scope=\"row\">A</th><th aria-colindex=\"2\" scope=\"row\">M</th><th aria-colindex=\"3\" scope=\"row\">2</th><td aria-colindex=\"4\">empty</td><td aria-colindex=\"5\">nan</td><td aria-colindex=\"6\">nan</td><td aria-colindex=\"7\" aria-colspan=\"176\">hidden</td><td aria-colindex=\"183\">nan</td><td aria-colindex=\"184\">nan</td></tr><tr aria-rowindex=\"6\" aria-rowspan=\"96\"><th aria-colindex=\"1\">hidden</th><th aria-colindex=\"2\">hidden</th><th aria-colindex=\"3\">hidden</th><td aria-colindex=\"4\">empty</td><td aria-colindex=\"5\">hidden</td><td aria-colindex=\"6\">hidden</td><td aria-colindex=\"7\" aria-colspan=\"176\" aria-rowspan=\"96\">hidden</td><td aria-colindex=\"183\">hidden</td><td aria-colindex=\"184\">hidden</td></tr><tr aria-rowindex=\"102\"><th aria-colindex=\"1\" scope=\"row\">A</th><th aria-colindex=\"2\" scope=\"row\">N</th><th aria-colindex=\"3\" scope=\"row\">1</th><td aria-colindex=\"4\">empty</td><td aria-colindex=\"5\">nan</td><td aria-colindex=\"6\">nan</td><td aria-colindex=\"7\" aria-colspan=\"176\">hidden</td><td aria-colindex=\"183\">nan</td><td aria-colindex=\"184\">nan</td></tr><tr aria-rowindex=\"103\"><th aria-colindex=\"1\" scope=\"row\">A</th><th aria-colindex=\"2\" scope=\"row\">N</th><th aria-colindex=\"3\" scope=\"row\">2</th><td aria-colindex=\"4\">empty</td><td aria-colindex=\"5\">nan</td><td aria-colindex=\"6\">nan</td><td aria-colindex=\"7\" aria-colspan=\"176\">hidden</td><td aria-colindex=\"183\">nan</td><td aria-colindex=\"184\">nan</td></tr></table>"
      ],
      "text/plain": [
       "<table aria-colcount=\"184\" aria-rowcount=\"103\"><caption><dl role=\"presentation\"><dt>rows</dt><dd>100</dd><dt>columns</dt><dd>180</dd><dt>indexes:</dt><dd><dl role=\"presentation\"><dt>rows</dt><dd>3</dd><dt>columns</dt><dd>3</dd></dl></dd></dl></caption><tr aria-rowindex=\"1\"><th aria-colindex=\"1\" rowspan=\"3\" scope=\"col\">J</th><th aria-colindex=\"2\" rowspan=\"3\" scope=\"col\">K</th><th aria-colindex=\"3\" rowspan=\"3\" scope=\"col\">L</th><th aria-colindex=\"4\" scope=\"row\">10</th><th aria-colindex=\"5\" scope=\"col\">A</th><th aria-colindex=\"6\" scope=\"col\">A</th><th aria-colindex=\"7\" aria-colspan=\"176\">hidden</th><th aria-colindex=\"183\" scope=\"col\">Z</th><th aria-colindex=\"184\" scope=\"col\">Z</th></tr><tr aria-rowindex=\"2\"><th aria-colindex=\"4\" scope=\"row\">100</th><th aria-colindex=\"5\" scope=\"col\">M</th><th aria-colindex=\"6\" scope=\"col\">M</th><th aria-colindex=\"7\" aria-colspan=\"176\">hidden</th><th aria-colindex=\"183\" scope=\"col\">O</th><th aria-colindex=\"184\" scope=\"col\">O</th></tr><tr aria-rowindex=\"3\"><th aria-colindex=\"4\" scope=\"row\">1000</th><th aria-colindex=\"5\" scope=\"col\">1</th><th aria-colindex=\"6\" scope=\"col\">2</th><th aria-colindex=\"7\" aria-colspan=\"176\">hidden</th><th aria-colindex=\"183\" scope=\"col\">2</th><th aria-colindex=\"184\" scope=\"col\">3</th></tr><tr aria-rowindex=\"4\"><th aria-colindex=\"1\" scope=\"row\">A</th><th aria-colindex=\"2\" scope=\"row\">M</th><th aria-colindex=\"3\" scope=\"row\">1</th><td aria-colindex=\"4\">empty</td><td aria-colindex=\"5\">nan</td><td aria-colindex=\"6\">nan</td><td aria-colindex=\"7\" aria-colspan=\"176\">hidden</td><td aria-colindex=\"183\">nan</td><td aria-colindex=\"184\">nan</td></tr><tr aria-rowindex=\"5\"><th aria-colindex=\"1\" scope=\"row\">A</th><th aria-colindex=\"2\" scope=\"row\">M</th><th aria-colindex=\"3\" scope=\"row\">2</th><td aria-colindex=\"4\">empty</td><td aria-colindex=\"5\">nan</td><td aria-colindex=\"6\">nan</td><td aria-colindex=\"7\" aria-colspan=\"176\">hidden</td><td aria-colindex=\"183\">nan</td><td aria-colindex=\"184\">nan</td></tr><tr aria-rowindex=\"6\" aria-rowspan=\"96\"><th aria-colindex=\"1\">hidden</th><th aria-colindex=\"2\">hidden</th><th aria-colindex=\"3\">hidden</th><td aria-colindex=\"4\">empty</td><td aria-colindex=\"5\">hidden</td><td aria-colindex=\"6\">hidden</td><td aria-colindex=\"7\" aria-colspan=\"176\" aria-rowspan=\"96\">hidden</td><td aria-colindex=\"183\">hidden</td><td aria-colindex=\"184\">hidden</td></tr><tr aria-rowindex=\"102\"><th aria-colindex=\"1\" scope=\"row\">A</th><th aria-colindex=\"2\" scope=\"row\">N</th><th aria-colindex=\"3\" scope=\"row\">1</th><td aria-colindex=\"4\">empty</td><td aria-colindex=\"5\">nan</td><td aria-colindex=\"6\">nan</td><td aria-colindex=\"7\" aria-colspan=\"176\">hidden</td><td aria-colindex=\"183\">nan</td><td aria-colindex=\"184\">nan</td></tr><tr aria-rowindex=\"103\"><th aria-colindex=\"1\" scope=\"row\">A</th><th aria-colindex=\"2\" scope=\"row\">N</th><th aria-colindex=\"3\" scope=\"row\">2</th><td aria-colindex=\"4\">empty</td><td aria-colindex=\"5\">nan</td><td aria-colindex=\"6\">nan</td><td aria-colindex=\"7\" aria-colspan=\"176\">hidden</td><td aria-colindex=\"183\">nan</td><td aria-colindex=\"184\">nan</td></tr></table>"
      ]
     },
     "metadata": {},
     "output_type": "display_data"
    }
   ],
   "source": [
    "    with options: display(get_table(wide, \"a smaller table representation with hidden rows and columns.\"))"
   ]
  },
  {
   "cell_type": "code",
   "execution_count": 14,
   "id": "aa8ddeca-992f-457c-bfa8-1bdd28183005",
   "metadata": {},
   "outputs": [
    {
     "data": {
      "text/html": [
       "<table aria-colcount=\"184\" aria-rowcount=\"103\"><caption><dl role=\"presentation\"><dt>rows</dt><dd>100</dd><dt>columns</dt><dd>180</dd><dt>indexes:</dt><dd><dl role=\"presentation\"><dt>rows</dt><dd>3</dd><dt>columns</dt><dd>3</dd></dl></dd></dl></caption><tr aria-rowindex=\"1\"><th aria-colindex=\"1\" rowspan=\"3\" scope=\"col\">J</th><th aria-colindex=\"2\" rowspan=\"3\" scope=\"col\">K</th><th aria-colindex=\"3\" rowspan=\"3\" scope=\"col\">L</th><th aria-colindex=\"4\" scope=\"row\">10</th><th aria-colindex=\"5\" scope=\"col\">A</th><th aria-colindex=\"6\" scope=\"col\">A</th><th aria-colindex=\"7\" scope=\"col\">A</th><th aria-colindex=\"8\" scope=\"col\">A</th><th aria-colindex=\"9\" scope=\"col\">A</th><th aria-colindex=\"10\" aria-colspan=\"170\">hidden</th><th aria-colindex=\"180\" scope=\"col\">Z</th><th aria-colindex=\"181\" scope=\"col\">Z</th><th aria-colindex=\"182\" scope=\"col\">Z</th><th aria-colindex=\"183\" scope=\"col\">Z</th><th aria-colindex=\"184\" scope=\"col\">Z</th></tr><tr aria-rowindex=\"2\"><th aria-colindex=\"4\" scope=\"row\">100</th><th aria-colindex=\"5\" scope=\"col\">M</th><th aria-colindex=\"6\" scope=\"col\">M</th><th aria-colindex=\"7\" scope=\"col\">M</th><th aria-colindex=\"8\" scope=\"col\">N</th><th aria-colindex=\"9\" scope=\"col\">N</th><th aria-colindex=\"10\" aria-colspan=\"170\">hidden</th><th aria-colindex=\"180\" scope=\"col\">N</th><th aria-colindex=\"181\" scope=\"col\">N</th><th aria-colindex=\"182\" scope=\"col\">O</th><th aria-colindex=\"183\" scope=\"col\">O</th><th aria-colindex=\"184\" scope=\"col\">O</th></tr><tr aria-rowindex=\"3\"><th aria-colindex=\"4\" scope=\"row\">1000</th><th aria-colindex=\"5\" scope=\"col\">1</th><th aria-colindex=\"6\" scope=\"col\">2</th><th aria-colindex=\"7\" scope=\"col\">3</th><th aria-colindex=\"8\" scope=\"col\">1</th><th aria-colindex=\"9\" scope=\"col\">2</th><th aria-colindex=\"10\" aria-colspan=\"170\">hidden</th><th aria-colindex=\"180\" scope=\"col\">2</th><th aria-colindex=\"181\" scope=\"col\">3</th><th aria-colindex=\"182\" scope=\"col\">1</th><th aria-colindex=\"183\" scope=\"col\">2</th><th aria-colindex=\"184\" scope=\"col\">3</th></tr><tr aria-rowindex=\"4\"><th aria-colindex=\"1\" scope=\"row\">A</th><th aria-colindex=\"2\" scope=\"row\">M</th><th aria-colindex=\"3\" scope=\"row\">1</th><td aria-colindex=\"4\">empty</td><td aria-colindex=\"5\">nan</td><td aria-colindex=\"6\">nan</td><td aria-colindex=\"7\">nan</td><td aria-colindex=\"8\">nan</td><td aria-colindex=\"9\">nan</td><td aria-colindex=\"10\" aria-colspan=\"170\">hidden</td><td aria-colindex=\"180\">nan</td><td aria-colindex=\"181\">nan</td><td aria-colindex=\"182\">nan</td><td aria-colindex=\"183\">nan</td><td aria-colindex=\"184\">nan</td></tr><tr aria-rowindex=\"5\"><th aria-colindex=\"1\" scope=\"row\">A</th><th aria-colindex=\"2\" scope=\"row\">M</th><th aria-colindex=\"3\" scope=\"row\">2</th><td aria-colindex=\"4\">empty</td><td aria-colindex=\"5\">nan</td><td aria-colindex=\"6\">nan</td><td aria-colindex=\"7\">nan</td><td aria-colindex=\"8\">nan</td><td aria-colindex=\"9\">nan</td><td aria-colindex=\"10\" aria-colspan=\"170\">hidden</td><td aria-colindex=\"180\">nan</td><td aria-colindex=\"181\">nan</td><td aria-colindex=\"182\">nan</td><td aria-colindex=\"183\">nan</td><td aria-colindex=\"184\">nan</td></tr><tr aria-rowindex=\"6\"><th aria-colindex=\"1\" scope=\"row\">A</th><th aria-colindex=\"2\" scope=\"row\">M</th><th aria-colindex=\"3\" scope=\"row\">3</th><td aria-colindex=\"4\">empty</td><td aria-colindex=\"5\">nan</td><td aria-colindex=\"6\">nan</td><td aria-colindex=\"7\">nan</td><td aria-colindex=\"8\">nan</td><td aria-colindex=\"9\">nan</td><td aria-colindex=\"10\" aria-colspan=\"170\">hidden</td><td aria-colindex=\"180\">nan</td><td aria-colindex=\"181\">nan</td><td aria-colindex=\"182\">nan</td><td aria-colindex=\"183\">nan</td><td aria-colindex=\"184\">nan</td></tr><tr aria-rowindex=\"7\"><th aria-colindex=\"1\" scope=\"row\">A</th><th aria-colindex=\"2\" scope=\"row\">N</th><th aria-colindex=\"3\" scope=\"row\">1</th><td aria-colindex=\"4\">empty</td><td aria-colindex=\"5\">nan</td><td aria-colindex=\"6\">nan</td><td aria-colindex=\"7\">nan</td><td aria-colindex=\"8\">nan</td><td aria-colindex=\"9\">nan</td><td aria-colindex=\"10\" aria-colspan=\"170\">hidden</td><td aria-colindex=\"180\">nan</td><td aria-colindex=\"181\">nan</td><td aria-colindex=\"182\">nan</td><td aria-colindex=\"183\">nan</td><td aria-colindex=\"184\">nan</td></tr><tr aria-rowindex=\"8\"><th aria-colindex=\"1\" scope=\"row\">A</th><th aria-colindex=\"2\" scope=\"row\">N</th><th aria-colindex=\"3\" scope=\"row\">2</th><td aria-colindex=\"4\">empty</td><td aria-colindex=\"5\">nan</td><td aria-colindex=\"6\">nan</td><td aria-colindex=\"7\">nan</td><td aria-colindex=\"8\">nan</td><td aria-colindex=\"9\">nan</td><td aria-colindex=\"10\" aria-colspan=\"170\">hidden</td><td aria-colindex=\"180\">nan</td><td aria-colindex=\"181\">nan</td><td aria-colindex=\"182\">nan</td><td aria-colindex=\"183\">nan</td><td aria-colindex=\"184\">nan</td></tr><tr aria-rowindex=\"9\" aria-rowspan=\"90\"><th aria-colindex=\"1\">hidden</th><th aria-colindex=\"2\">hidden</th><th aria-colindex=\"3\">hidden</th><td aria-colindex=\"4\">empty</td><td aria-colindex=\"5\">hidden</td><td aria-colindex=\"6\">hidden</td><td aria-colindex=\"7\">hidden</td><td aria-colindex=\"8\">hidden</td><td aria-colindex=\"9\">hidden</td><td aria-colindex=\"10\" aria-colspan=\"170\" aria-rowspan=\"90\">hidden</td><td aria-colindex=\"180\">hidden</td><td aria-colindex=\"181\">hidden</td><td aria-colindex=\"182\">hidden</td><td aria-colindex=\"183\">hidden</td><td aria-colindex=\"184\">hidden</td></tr><tr aria-rowindex=\"99\"><th aria-colindex=\"1\" scope=\"row\">A</th><th aria-colindex=\"2\" scope=\"row\">M</th><th aria-colindex=\"3\" scope=\"row\">1</th><td aria-colindex=\"4\">empty</td><td aria-colindex=\"5\">nan</td><td aria-colindex=\"6\">nan</td><td aria-colindex=\"7\">nan</td><td aria-colindex=\"8\">nan</td><td aria-colindex=\"9\">nan</td><td aria-colindex=\"10\" aria-colspan=\"170\">hidden</td><td aria-colindex=\"180\">nan</td><td aria-colindex=\"181\">nan</td><td aria-colindex=\"182\">nan</td><td aria-colindex=\"183\">nan</td><td aria-colindex=\"184\">nan</td></tr><tr aria-rowindex=\"100\"><th aria-colindex=\"1\" scope=\"row\">A</th><th aria-colindex=\"2\" scope=\"row\">M</th><th aria-colindex=\"3\" scope=\"row\">2</th><td aria-colindex=\"4\">empty</td><td aria-colindex=\"5\">nan</td><td aria-colindex=\"6\">nan</td><td aria-colindex=\"7\">nan</td><td aria-colindex=\"8\">nan</td><td aria-colindex=\"9\">nan</td><td aria-colindex=\"10\" aria-colspan=\"170\">hidden</td><td aria-colindex=\"180\">nan</td><td aria-colindex=\"181\">nan</td><td aria-colindex=\"182\">nan</td><td aria-colindex=\"183\">nan</td><td aria-colindex=\"184\">nan</td></tr><tr aria-rowindex=\"101\"><th aria-colindex=\"1\" scope=\"row\">A</th><th aria-colindex=\"2\" scope=\"row\">M</th><th aria-colindex=\"3\" scope=\"row\">3</th><td aria-colindex=\"4\">empty</td><td aria-colindex=\"5\">nan</td><td aria-colindex=\"6\">nan</td><td aria-colindex=\"7\">nan</td><td aria-colindex=\"8\">nan</td><td aria-colindex=\"9\">nan</td><td aria-colindex=\"10\" aria-colspan=\"170\">hidden</td><td aria-colindex=\"180\">nan</td><td aria-colindex=\"181\">nan</td><td aria-colindex=\"182\">nan</td><td aria-colindex=\"183\">nan</td><td aria-colindex=\"184\">nan</td></tr><tr aria-rowindex=\"102\"><th aria-colindex=\"1\" scope=\"row\">A</th><th aria-colindex=\"2\" scope=\"row\">N</th><th aria-colindex=\"3\" scope=\"row\">1</th><td aria-colindex=\"4\">empty</td><td aria-colindex=\"5\">nan</td><td aria-colindex=\"6\">nan</td><td aria-colindex=\"7\">nan</td><td aria-colindex=\"8\">nan</td><td aria-colindex=\"9\">nan</td><td aria-colindex=\"10\" aria-colspan=\"170\">hidden</td><td aria-colindex=\"180\">nan</td><td aria-colindex=\"181\">nan</td><td aria-colindex=\"182\">nan</td><td aria-colindex=\"183\">nan</td><td aria-colindex=\"184\">nan</td></tr><tr aria-rowindex=\"103\"><th aria-colindex=\"1\" scope=\"row\">A</th><th aria-colindex=\"2\" scope=\"row\">N</th><th aria-colindex=\"3\" scope=\"row\">2</th><td aria-colindex=\"4\">empty</td><td aria-colindex=\"5\">nan</td><td aria-colindex=\"6\">nan</td><td aria-colindex=\"7\">nan</td><td aria-colindex=\"8\">nan</td><td aria-colindex=\"9\">nan</td><td aria-colindex=\"10\" aria-colspan=\"170\">hidden</td><td aria-colindex=\"180\">nan</td><td aria-colindex=\"181\">nan</td><td aria-colindex=\"182\">nan</td><td aria-colindex=\"183\">nan</td><td aria-colindex=\"184\">nan</td></tr></table>"
      ],
      "text/plain": [
       "<table aria-colcount=\"184\" aria-rowcount=\"103\"><caption><dl role=\"presentation\"><dt>rows</dt><dd>100</dd><dt>columns</dt><dd>180</dd><dt>indexes:</dt><dd><dl role=\"presentation\"><dt>rows</dt><dd>3</dd><dt>columns</dt><dd>3</dd></dl></dd></dl></caption><tr aria-rowindex=\"1\"><th aria-colindex=\"1\" rowspan=\"3\" scope=\"col\">J</th><th aria-colindex=\"2\" rowspan=\"3\" scope=\"col\">K</th><th aria-colindex=\"3\" rowspan=\"3\" scope=\"col\">L</th><th aria-colindex=\"4\" scope=\"row\">10</th><th aria-colindex=\"5\" scope=\"col\">A</th><th aria-colindex=\"6\" scope=\"col\">A</th><th aria-colindex=\"7\" scope=\"col\">A</th><th aria-colindex=\"8\" scope=\"col\">A</th><th aria-colindex=\"9\" scope=\"col\">A</th><th aria-colindex=\"10\" aria-colspan=\"170\">hidden</th><th aria-colindex=\"180\" scope=\"col\">Z</th><th aria-colindex=\"181\" scope=\"col\">Z</th><th aria-colindex=\"182\" scope=\"col\">Z</th><th aria-colindex=\"183\" scope=\"col\">Z</th><th aria-colindex=\"184\" scope=\"col\">Z</th></tr><tr aria-rowindex=\"2\"><th aria-colindex=\"4\" scope=\"row\">100</th><th aria-colindex=\"5\" scope=\"col\">M</th><th aria-colindex=\"6\" scope=\"col\">M</th><th aria-colindex=\"7\" scope=\"col\">M</th><th aria-colindex=\"8\" scope=\"col\">N</th><th aria-colindex=\"9\" scope=\"col\">N</th><th aria-colindex=\"10\" aria-colspan=\"170\">hidden</th><th aria-colindex=\"180\" scope=\"col\">N</th><th aria-colindex=\"181\" scope=\"col\">N</th><th aria-colindex=\"182\" scope=\"col\">O</th><th aria-colindex=\"183\" scope=\"col\">O</th><th aria-colindex=\"184\" scope=\"col\">O</th></tr><tr aria-rowindex=\"3\"><th aria-colindex=\"4\" scope=\"row\">1000</th><th aria-colindex=\"5\" scope=\"col\">1</th><th aria-colindex=\"6\" scope=\"col\">2</th><th aria-colindex=\"7\" scope=\"col\">3</th><th aria-colindex=\"8\" scope=\"col\">1</th><th aria-colindex=\"9\" scope=\"col\">2</th><th aria-colindex=\"10\" aria-colspan=\"170\">hidden</th><th aria-colindex=\"180\" scope=\"col\">2</th><th aria-colindex=\"181\" scope=\"col\">3</th><th aria-colindex=\"182\" scope=\"col\">1</th><th aria-colindex=\"183\" scope=\"col\">2</th><th aria-colindex=\"184\" scope=\"col\">3</th></tr><tr aria-rowindex=\"4\"><th aria-colindex=\"1\" scope=\"row\">A</th><th aria-colindex=\"2\" scope=\"row\">M</th><th aria-colindex=\"3\" scope=\"row\">1</th><td aria-colindex=\"4\">empty</td><td aria-colindex=\"5\">nan</td><td aria-colindex=\"6\">nan</td><td aria-colindex=\"7\">nan</td><td aria-colindex=\"8\">nan</td><td aria-colindex=\"9\">nan</td><td aria-colindex=\"10\" aria-colspan=\"170\">hidden</td><td aria-colindex=\"180\">nan</td><td aria-colindex=\"181\">nan</td><td aria-colindex=\"182\">nan</td><td aria-colindex=\"183\">nan</td><td aria-colindex=\"184\">nan</td></tr><tr aria-rowindex=\"5\"><th aria-colindex=\"1\" scope=\"row\">A</th><th aria-colindex=\"2\" scope=\"row\">M</th><th aria-colindex=\"3\" scope=\"row\">2</th><td aria-colindex=\"4\">empty</td><td aria-colindex=\"5\">nan</td><td aria-colindex=\"6\">nan</td><td aria-colindex=\"7\">nan</td><td aria-colindex=\"8\">nan</td><td aria-colindex=\"9\">nan</td><td aria-colindex=\"10\" aria-colspan=\"170\">hidden</td><td aria-colindex=\"180\">nan</td><td aria-colindex=\"181\">nan</td><td aria-colindex=\"182\">nan</td><td aria-colindex=\"183\">nan</td><td aria-colindex=\"184\">nan</td></tr><tr aria-rowindex=\"6\"><th aria-colindex=\"1\" scope=\"row\">A</th><th aria-colindex=\"2\" scope=\"row\">M</th><th aria-colindex=\"3\" scope=\"row\">3</th><td aria-colindex=\"4\">empty</td><td aria-colindex=\"5\">nan</td><td aria-colindex=\"6\">nan</td><td aria-colindex=\"7\">nan</td><td aria-colindex=\"8\">nan</td><td aria-colindex=\"9\">nan</td><td aria-colindex=\"10\" aria-colspan=\"170\">hidden</td><td aria-colindex=\"180\">nan</td><td aria-colindex=\"181\">nan</td><td aria-colindex=\"182\">nan</td><td aria-colindex=\"183\">nan</td><td aria-colindex=\"184\">nan</td></tr><tr aria-rowindex=\"7\"><th aria-colindex=\"1\" scope=\"row\">A</th><th aria-colindex=\"2\" scope=\"row\">N</th><th aria-colindex=\"3\" scope=\"row\">1</th><td aria-colindex=\"4\">empty</td><td aria-colindex=\"5\">nan</td><td aria-colindex=\"6\">nan</td><td aria-colindex=\"7\">nan</td><td aria-colindex=\"8\">nan</td><td aria-colindex=\"9\">nan</td><td aria-colindex=\"10\" aria-colspan=\"170\">hidden</td><td aria-colindex=\"180\">nan</td><td aria-colindex=\"181\">nan</td><td aria-colindex=\"182\">nan</td><td aria-colindex=\"183\">nan</td><td aria-colindex=\"184\">nan</td></tr><tr aria-rowindex=\"8\"><th aria-colindex=\"1\" scope=\"row\">A</th><th aria-colindex=\"2\" scope=\"row\">N</th><th aria-colindex=\"3\" scope=\"row\">2</th><td aria-colindex=\"4\">empty</td><td aria-colindex=\"5\">nan</td><td aria-colindex=\"6\">nan</td><td aria-colindex=\"7\">nan</td><td aria-colindex=\"8\">nan</td><td aria-colindex=\"9\">nan</td><td aria-colindex=\"10\" aria-colspan=\"170\">hidden</td><td aria-colindex=\"180\">nan</td><td aria-colindex=\"181\">nan</td><td aria-colindex=\"182\">nan</td><td aria-colindex=\"183\">nan</td><td aria-colindex=\"184\">nan</td></tr><tr aria-rowindex=\"9\" aria-rowspan=\"90\"><th aria-colindex=\"1\">hidden</th><th aria-colindex=\"2\">hidden</th><th aria-colindex=\"3\">hidden</th><td aria-colindex=\"4\">empty</td><td aria-colindex=\"5\">hidden</td><td aria-colindex=\"6\">hidden</td><td aria-colindex=\"7\">hidden</td><td aria-colindex=\"8\">hidden</td><td aria-colindex=\"9\">hidden</td><td aria-colindex=\"10\" aria-colspan=\"170\" aria-rowspan=\"90\">hidden</td><td aria-colindex=\"180\">hidden</td><td aria-colindex=\"181\">hidden</td><td aria-colindex=\"182\">hidden</td><td aria-colindex=\"183\">hidden</td><td aria-colindex=\"184\">hidden</td></tr><tr aria-rowindex=\"99\"><th aria-colindex=\"1\" scope=\"row\">A</th><th aria-colindex=\"2\" scope=\"row\">M</th><th aria-colindex=\"3\" scope=\"row\">1</th><td aria-colindex=\"4\">empty</td><td aria-colindex=\"5\">nan</td><td aria-colindex=\"6\">nan</td><td aria-colindex=\"7\">nan</td><td aria-colindex=\"8\">nan</td><td aria-colindex=\"9\">nan</td><td aria-colindex=\"10\" aria-colspan=\"170\">hidden</td><td aria-colindex=\"180\">nan</td><td aria-colindex=\"181\">nan</td><td aria-colindex=\"182\">nan</td><td aria-colindex=\"183\">nan</td><td aria-colindex=\"184\">nan</td></tr><tr aria-rowindex=\"100\"><th aria-colindex=\"1\" scope=\"row\">A</th><th aria-colindex=\"2\" scope=\"row\">M</th><th aria-colindex=\"3\" scope=\"row\">2</th><td aria-colindex=\"4\">empty</td><td aria-colindex=\"5\">nan</td><td aria-colindex=\"6\">nan</td><td aria-colindex=\"7\">nan</td><td aria-colindex=\"8\">nan</td><td aria-colindex=\"9\">nan</td><td aria-colindex=\"10\" aria-colspan=\"170\">hidden</td><td aria-colindex=\"180\">nan</td><td aria-colindex=\"181\">nan</td><td aria-colindex=\"182\">nan</td><td aria-colindex=\"183\">nan</td><td aria-colindex=\"184\">nan</td></tr><tr aria-rowindex=\"101\"><th aria-colindex=\"1\" scope=\"row\">A</th><th aria-colindex=\"2\" scope=\"row\">M</th><th aria-colindex=\"3\" scope=\"row\">3</th><td aria-colindex=\"4\">empty</td><td aria-colindex=\"5\">nan</td><td aria-colindex=\"6\">nan</td><td aria-colindex=\"7\">nan</td><td aria-colindex=\"8\">nan</td><td aria-colindex=\"9\">nan</td><td aria-colindex=\"10\" aria-colspan=\"170\">hidden</td><td aria-colindex=\"180\">nan</td><td aria-colindex=\"181\">nan</td><td aria-colindex=\"182\">nan</td><td aria-colindex=\"183\">nan</td><td aria-colindex=\"184\">nan</td></tr><tr aria-rowindex=\"102\"><th aria-colindex=\"1\" scope=\"row\">A</th><th aria-colindex=\"2\" scope=\"row\">N</th><th aria-colindex=\"3\" scope=\"row\">1</th><td aria-colindex=\"4\">empty</td><td aria-colindex=\"5\">nan</td><td aria-colindex=\"6\">nan</td><td aria-colindex=\"7\">nan</td><td aria-colindex=\"8\">nan</td><td aria-colindex=\"9\">nan</td><td aria-colindex=\"10\" aria-colspan=\"170\">hidden</td><td aria-colindex=\"180\">nan</td><td aria-colindex=\"181\">nan</td><td aria-colindex=\"182\">nan</td><td aria-colindex=\"183\">nan</td><td aria-colindex=\"184\">nan</td></tr><tr aria-rowindex=\"103\"><th aria-colindex=\"1\" scope=\"row\">A</th><th aria-colindex=\"2\" scope=\"row\">N</th><th aria-colindex=\"3\" scope=\"row\">2</th><td aria-colindex=\"4\">empty</td><td aria-colindex=\"5\">nan</td><td aria-colindex=\"6\">nan</td><td aria-colindex=\"7\">nan</td><td aria-colindex=\"8\">nan</td><td aria-colindex=\"9\">nan</td><td aria-colindex=\"10\" aria-colspan=\"170\">hidden</td><td aria-colindex=\"180\">nan</td><td aria-colindex=\"181\">nan</td><td aria-colindex=\"182\">nan</td><td aria-colindex=\"183\">nan</td><td aria-colindex=\"184\">nan</td></tr></table>"
      ]
     },
     "metadata": {},
     "output_type": "display_data"
    }
   ],
   "source": [
    "    with pandas.option_context(\"display.max_rows\", 10, \"display.max_columns\", 10): display(get_table(wide))"
   ]
  },
  {
   "cell_type": "markdown",
   "id": "a6eec7a2-8a6d-492e-ba96-00fc17fbec7a",
   "metadata": {},
   "source": [
    "## notes/discussion"
   ]
  },
  {
   "cell_type": "markdown",
   "id": "70e504bd-39db-4cfa-b990-17a4912403c8",
   "metadata": {},
   "source": [
    "an array be a special case for tables where headings aren't needed. a table with no rows or columns headings will reveal a nice array."
   ]
  },
  {
   "cell_type": "markdown",
   "id": "2d6cb802-41e4-4136-b69a-a66932765b68",
   "metadata": {},
   "source": [
    "this example is a most complex axis case and does not include grouping. "
   ]
  }
 ],
 "metadata": {
  "kernelspec": {
   "display_name": "Python 3 (ipykernel)",
   "language": "python",
   "name": "python3"
  },
  "language_info": {
   "codemirror_mode": {
    "name": "ipython",
    "version": 3
   },
   "file_extension": ".py",
   "mimetype": "text/x-python",
   "name": "python",
   "nbconvert_exporter": "python",
   "pygments_lexer": "ipython3",
   "version": "3.11.3"
  },
  "widgets": {
   "application/vnd.jupyter.widget-state+json": {
    "state": {},
    "version_major": 2,
    "version_minor": 0
   }
  }
 },
 "nbformat": 4,
 "nbformat_minor": 5
}
