{
 "cells": [
  {
   "cell_type": "markdown",
   "id": "bb56921e-8509-4b4f-81e4-caf5b8e0e0da",
   "metadata": {},
   "source": [
    "# resize images from yesterday's presentation\n",
    "\n",
    "i made a notebook presentation with a lot original images in it.\n",
    "the document is HUGE.\n",
    "we're going to resize them.\n",
    "\n",
    "1. we start by making a dataframe of the notebook so it is easy to rip through.\n",
    "2. resize an image with PIL\n",
    "3. apply that to all the attached pngs\n",
    "4. create and save a new notebook "
   ]
  },
  {
   "cell_type": "code",
   "execution_count": 1,
   "id": "27fc69ae-7ddc-47be-8a58-b610318123a7",
   "metadata": {},
   "outputs": [],
   "source": [
    "    from pandas import *\n",
    "    import pandas, io, json, base64, copy\n",
    "    from toolz.curried.operator import *\n",
    "    from toolz.curried import *\n",
    "    from pathlib import Path\n",
    "    compose = compose_left\n",
    "    from PIL import Image"
   ]
  },
  {
   "cell_type": "markdown",
   "id": "63c67888-17c3-4293-ac3e-9166e2d530b8",
   "metadata": {},
   "source": [
    "the original file is `20MB`"
   ]
  },
  {
   "cell_type": "code",
   "execution_count": 2,
   "id": "2f103c12-f44e-4762-958f-02d6806d4e1f",
   "metadata": {},
   "outputs": [
    {
     "name": "stdout",
     "output_type": "stream",
     "text": [
      "-rw-r--r--  1 tonyfast  staff    20M May  2 22:31 2025-05-01-present.ipynb\n"
     ]
    }
   ],
   "source": [
    "ls -lathr 2025-05-01-present.ipynb"
   ]
  },
  {
   "cell_type": "markdown",
   "id": "bdfd527f-ca49-405a-ad88-7854cf993dac",
   "metadata": {},
   "source": [
    "we load a dataframe of the original notebook document"
   ]
  },
  {
   "cell_type": "code",
   "execution_count": 3,
   "id": "1ec1052d-d09d-4fd4-b18a-2646549b09f3",
   "metadata": {},
   "outputs": [],
   "source": [
    "df = pipe(\n",
    "    data := pipe(\n",
    "        \"2025-05-01-present.ipynb\",\n",
    "        Path,\n",
    "        Path.read_text,\n",
    "        json.loads\n",
    "    ),\n",
    "    get(\"cells\"),\n",
    "    Series,\n",
    "    methodcaller(\"apply\", Series),\n",
    "    methodcaller(\"set_index\", \"id\")\n",
    ")"
   ]
  },
  {
   "cell_type": "markdown",
   "id": "12c63be1-b418-4465-9f28-0e1e9b0115fd",
   "metadata": {},
   "source": [
    "we target the `attachments` contained in the markdown cells that have images pasted in them"
   ]
  },
  {
   "cell_type": "code",
   "execution_count": 4,
   "id": "6dc83988-3a7e-44db-ae96-b17ea71cd2a9",
   "metadata": {},
   "outputs": [],
   "source": [
    "    attachments = (\n",
    "        df.attachments\n",
    "        .dropna()\n",
    "        .apply(\n",
    "            dict.items\n",
    "        ).explode()\n",
    "        .dropna()\n",
    "        .apply(\n",
    "            compose(list, partial(zip, \"key value\".split()), dict, Series)\n",
    "        )\n",
    "    )"
   ]
  },
  {
   "cell_type": "markdown",
   "id": "051d44bc-3c7a-4897-9bc2-3c9afa9a0fd2",
   "metadata": {},
   "source": [
    "extract the specfic png values in the document"
   ]
  },
  {
   "cell_type": "code",
   "execution_count": 5,
   "id": "1abd0d3e-9935-4faf-860a-240307515f24",
   "metadata": {},
   "outputs": [],
   "source": [
    "    pngs = attachments.set_index(\"key\").value.apply(get(\"image/png\"))"
   ]
  },
  {
   "cell_type": "markdown",
   "id": "7376be9e-8ddf-4393-9683-66cff0c0bb19",
   "metadata": {},
   "source": [
    "a function to <dfn>resize</dfn> a png base64 encoded string"
   ]
  },
  {
   "cell_type": "code",
   "execution_count": 6,
   "id": "2751b5be-cbad-4c0c-a3e7-abcbddb372b7",
   "metadata": {},
   "outputs": [],
   "source": [
    "    def resize(object: \"image/png\"):\n",
    "        img = Image.open(io.BytesIO(base64.b64decode(object)))\n",
    "        w = 800\n",
    "        if img.size[0] < w:\n",
    "            return object\n",
    "        h = int(img.size[1]/img.size[0] * w)\n",
    "        img = img.resize((w,h))\n",
    "        img.save(new := io.BytesIO(), \"png\")\n",
    "        return base64.b64encode(new.getvalue()).decode()\n",
    "    "
   ]
  },
  {
   "cell_type": "markdown",
   "id": "815bc7a4-8236-4b14-9e3c-55e00db121bb",
   "metadata": {},
   "source": [
    "apply the `resize` function to all the original pngs making smaller images"
   ]
  },
  {
   "cell_type": "code",
   "execution_count": 7,
   "id": "3318d4c9-45bd-485b-a184-1e7fe5517a25",
   "metadata": {},
   "outputs": [],
   "source": [
    "    new_pngs = dict(pngs.apply(resize))"
   ]
  },
  {
   "cell_type": "markdown",
   "id": "4c2578cb-a29e-413f-9556-319c776074ef",
   "metadata": {},
   "source": [
    "create a new notebook to hold the smaller images"
   ]
  },
  {
   "cell_type": "code",
   "execution_count": 8,
   "id": "2a971daf-78cb-43dd-8e87-9329f8542f70",
   "metadata": {},
   "outputs": [],
   "source": [
    "    new_data = copy.deepcopy(data)"
   ]
  },
  {
   "cell_type": "markdown",
   "id": "f3c15e5d-8d06-4a4d-9ab3-79412f66d45c",
   "metadata": {},
   "source": [
    "insert the smaller images into the new document"
   ]
  },
  {
   "cell_type": "code",
   "execution_count": 9,
   "id": "e6413702-57df-4751-a882-2baae5bb4c50",
   "metadata": {},
   "outputs": [],
   "source": [
    "for cell in new_data[\"cells\"]:\n",
    "    if attachments := cell.get(\"attachments\"):\n",
    "        for k, v in attachments.items():\n",
    "            if k in new_pngs:\n",
    "                attachments[k] = {\"image/png\": new_pngs[k]}"
   ]
  },
  {
   "cell_type": "markdown",
   "id": "50fa4386-4a97-46b9-bff6-da2b654b7381",
   "metadata": {},
   "source": [
    "save the file"
   ]
  },
  {
   "cell_type": "code",
   "execution_count": 10,
   "id": "1c17cf85-b158-4bf1-a0d5-ce8f0f226c85",
   "metadata": {},
   "outputs": [
    {
     "data": {
      "text/plain": [
       "11162684"
      ]
     },
     "execution_count": 10,
     "metadata": {},
     "output_type": "execute_result"
    }
   ],
   "source": [
    "Path(\"2025-05-01-present-small.ipynb\").write_text(json.dumps(new_data, indent=2))"
   ]
  },
  {
   "cell_type": "markdown",
   "id": "c845ad40-8dbf-45d0-af69-838bcd881396",
   "metadata": {},
   "source": [
    "the resulting file is half the size"
   ]
  },
  {
   "cell_type": "code",
   "execution_count": 11,
   "id": "7039551d-a96a-4eb1-aa12-17fa11f6c5ee",
   "metadata": {},
   "outputs": [
    {
     "name": "stdout",
     "output_type": "stream",
     "text": [
      "-rw-r--r--  1 tonyfast  staff    20M May  2 22:31 2025-05-01-present.ipynb\n",
      "-rw-r--r--  1 tonyfast  staff    11M May  2 23:13 2025-05-01-present-small.ipynb\n"
     ]
    }
   ],
   "source": [
    "ls -lathr 2025-05-01-present*.ipynb"
   ]
  }
 ],
 "metadata": {
  "kernelspec": {
   "display_name": "a11yhood-research",
   "language": "python",
   "name": "a11yhood-research"
  },
  "language_info": {
   "codemirror_mode": {
    "name": "ipython",
    "version": 3
   },
   "file_extension": ".py",
   "mimetype": "text/x-python",
   "name": "python",
   "nbconvert_exporter": "python",
   "pygments_lexer": "ipython3",
   "version": "3.13.3"
  }
 },
 "nbformat": 4,
 "nbformat_minor": 5
}
