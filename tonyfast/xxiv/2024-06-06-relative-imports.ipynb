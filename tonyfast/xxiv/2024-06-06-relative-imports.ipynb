{
 "cells": [
  {
   "cell_type": "markdown",
   "id": "1ccbff77-f1ef-45fd-b591-4040089599ff",
   "metadata": {},
   "source": [
    "# activating relative imports in an interactive notebook"
   ]
  },
  {
   "cell_type": "code",
   "execution_count": 1,
   "id": "1d57f550-0dc4-4f3e-addb-ca242b7a827f",
   "metadata": {},
   "outputs": [
    {
     "data": {
      "text/html": [
       "<p>make a directory called <code>relative</code> to demonstrate permitting relative imports in notebooks.</p>\n",
       "<pre><code>!mkdir relative -p\n",
       "!touch relative/script.py\n",
       "!touch relative/__init__.py</code></pre>\n"
      ],
      "text/plain": [
       "<IPython.core.display.HTML object>"
      ]
     },
     "metadata": {},
     "output_type": "display_data"
    }
   ],
   "source": [
    "%%\n",
    "make a directory called `relative` to demonstrate permitting relative imports in notebooks.\n",
    "\n",
    "    !mkdir relative -p\n",
    "    !touch relative/script.py\n",
    "    !touch relative/__init__.py"
   ]
  },
  {
   "cell_type": "code",
   "execution_count": 2,
   "id": "743d2816-4b1b-4d38-98f0-a6e4b7f2a28d",
   "metadata": {},
   "outputs": [
    {
     "data": {
      "text/html": [
       "<p>normally when we encounter an <code>ImportError</code> if we attempt to use a relative import\n",
       "in an interative notebook</p>\n",
       "<pre><code>    &gt;&gt;&gt; from .relative import script\n",
       "    Traceback (most recent call last):\n",
       "      ...\n",
       "    ImportError: attempted relative import with no known parent package</code></pre>\n"
      ],
      "text/plain": [
       "<IPython.core.display.HTML object>"
      ]
     },
     "metadata": {},
     "output_type": "display_data"
    }
   ],
   "source": [
    "%%\n",
    "normally when we encounter an `ImportError` if we attempt to use a relative import\n",
    "in an interative notebook\n",
    "\n",
    "    >>> from .relative import script\n",
    "    Traceback (most recent call last):\n",
    "      ...\n",
    "    ImportError: attempted relative import with no known parent package"
   ]
  },
  {
   "cell_type": "code",
   "execution_count": 3,
   "id": "d9fd8114-94d0-4c83-9c96-84e6cdc8f43b",
   "metadata": {},
   "outputs": [
    {
     "data": {
      "text/html": [
       "<p>we can make the interactive shell imitate a package that would have relative imports\n",
       "by including <code>__path__</code> and <code>__package__</code> variables.</p>\n",
       "<pre><code>__path__, __package__ = [&quot;&quot;], &quot;__main__&quot;\n",
       "</code></pre>\n",
       "<p>the statement above unlocks relative imports, and we don't fail the following statements.</p>\n",
       "<pre><code>    &gt;&gt;&gt; from .relative import script\n",
       "</code></pre>\n",
       "<pre><code>    &gt;&gt;&gt; script\n",
       "    &lt;module '__main__.relative.script' from ...&gt;</code></pre>\n"
      ],
      "text/plain": [
       "<IPython.core.display.HTML object>"
      ]
     },
     "metadata": {},
     "output_type": "display_data"
    }
   ],
   "source": [
    "%%\n",
    "we can make the interactive shell imitate a package that would have relative imports\n",
    "by including `__path__` and `__package__` variables. \n",
    "\n",
    "    __path__, __package__ = [\"\"], \"__main__\"\n",
    "\n",
    "the statement above unlocks relative imports, and we don't fail the following statements.\n",
    "\n",
    "    >>> from .relative import script\n",
    "    >>> script\n",
    "    <module '__main__.relative.script' from ...>"
   ]
  },
  {
   "cell_type": "markdown",
   "id": "9b180af0-8a0a-49ca-be12-6f0d9ac62e19",
   "metadata": {},
   "source": [
    "## conclusion\n",
    "\n",
    "* set the `__path__` and `__package__` to enjoy a more flexible programming experience.\n",
    "* using relative importants makes it easier to include notebook content in python packages."
   ]
  }
 ],
 "metadata": {
  "kernelspec": {
   "display_name": "Python [conda env:p311] *",
   "language": "python",
   "name": "conda-env-p311-py"
  },
  "language_info": {
   "codemirror_mode": {
    "name": "ipython",
    "version": 3
   },
   "file_extension": ".py",
   "mimetype": "text/x-python",
   "name": "python",
   "nbconvert_exporter": "python",
   "pygments_lexer": "ipython3",
   "version": "3.11.3"
  },
  "widgets": {
   "application/vnd.jupyter.widget-state+json": {
    "state": {},
    "version_major": 2,
    "version_minor": 0
   }
  }
 },
 "nbformat": 4,
 "nbformat_minor": 5
}
