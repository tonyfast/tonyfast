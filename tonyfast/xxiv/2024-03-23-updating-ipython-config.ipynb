{
 "cells": [
  {
   "cell_type": "markdown",
   "id": "10a1dc9c-2c4d-41a7-beb2-d512f6d42815",
   "metadata": {},
   "source": [
    "# ipython profile updates\n",
    "\n",
    "when i want to write, i really want to write! i don't want to `import` modules i know i should have access to. i only care about this in interactive computing circumstances. i need to satisfy my compulsion to write new things, and avoid the old things. a revision stage after this initial burst will formalize the reuse of the module. \n",
    "\n",
    "we're going to supply ourselves with better literate programming interfaces by defining a custom [ipython configuration file](https://ipython.org/ipython-doc/3/config/intro.html) that is loaded by default. once the configuration is applied we have a superior functional programming vocabulary that the standard distribution would provide.\n",
    "\n"
   ]
  },
  {
   "cell_type": "code",
   "execution_count": 1,
   "id": "caa0b59b-0ffc-48ac-9152-69870e18dd13",
   "metadata": {},
   "outputs": [
    {
     "data": {
      "text/markdown": [
       "\n",
       "programmatically discover the default `ipython profile location` which is where we need to write or update our configuration at.\n",
       "\n",
       "    config = !ipython profile locate\n",
       "    config = pathlib.Path(*config, \"ipython_config.py\")\n"
      ],
      "text/plain": [
       "<IPython.core.display.Markdown object>"
      ]
     },
     "metadata": {},
     "output_type": "display_data"
    }
   ],
   "source": [
    "%%\n",
    "programmatically discover the default `ipython profile location` which is where we need to write or update our configuration at.\n",
    "\n",
    "    config = !ipython profile locate\n",
    "    config = pathlib.Path(*config, \"ipython_config.py\")"
   ]
  },
  {
   "cell_type": "markdown",
   "id": "1d7eb99a-931a-4fb1-b6fe-1e57cb3f32ef",
   "metadata": {},
   "source": [
    "`config_source` contains the lines of code we want to write to our configuration."
   ]
  },
  {
   "cell_type": "code",
   "execution_count": 2,
   "id": "bd14287d-1b9b-4f34-a5c6-506c40a54b83",
   "metadata": {},
   "outputs": [],
   "source": [
    "    def config_source():        \n",
    "        c.InteractiveShellApp.exec_lines = [\n",
    "            \"from nobook.utils import Index, Series, DataFrame\",\n",
    "            \"import midgy, pathlib\",\n",
    "            \"from dataclasses import dataclass, field\",\n",
    "            \"\"\"[get_ipython().user_ns.setdefault(k, v) for k, v in __import__(\"sys\").modules.items() if \".\" not in k]\"\"\",\n",
    "            \"from toolz.curried import *\"]"
   ]
  },
  {
   "cell_type": "code",
   "execution_count": 3,
   "id": "c92ac317-aa1a-48b2-b28d-8ae646d2e47a",
   "metadata": {},
   "outputs": [
    {
     "data": {
      "text/markdown": [
       "\n",
       "write the `config_source` to disc \n",
       "\n",
       "    config.write_text(textwrap.dedent(\n",
       "        \"\".join(inspect.getsourcelines(config_source)[0][1:])\n",
       "    ))\n",
       "\n",
       "when we restart our kernel we should have some new variables \n",
       "that we can use by default. \n",
       "\n",
       "* i always want my pandas dataframes because i use them as first class citizens\n",
       "\n",
       "        >>> assert all((Index, Series, DataFrame))\n",
       "\n",
       "* we loaded in all the modules we know about from `sys` modules. this enriched namespace makes it easier to continue flowing thoughts.\n",
       "\n",
       "        >>> assert all((pathlib,))\n",
       "\n",
       "* `toolz` is the shit for functional programming, especially the curried versions. we want them to shred faster.\n",
       "\n",
       "        >>> assert all((operator, compose, pipe))\n"
      ],
      "text/plain": [
       "<IPython.core.display.Markdown object>"
      ]
     },
     "metadata": {},
     "output_type": "display_data"
    }
   ],
   "source": [
    "%%\n",
    "write the `config_source` to disc \n",
    "\n",
    "    config.write_text(textwrap.dedent(\n",
    "        \"\".join(inspect.getsourcelines(config_source)[0][1:])\n",
    "    ))\n",
    "\n",
    "when we restart our kernel we should have some new variables \n",
    "that we can use by default. \n",
    "\n",
    "* i always want my pandas dataframes because i use them as first class citizens\n",
    "\n",
    "        >>> assert all((Index, Series, DataFrame))\n",
    "\n",
    "* we loaded in all the modules we know about from `sys` modules. this enriched namespace makes it easier to continue flowing thoughts.\n",
    "\n",
    "        >>> assert all((pathlib,))\n",
    "\n",
    "* `toolz` is the shit for functional programming, especially the curried versions. we want them to shred faster.\n",
    "\n",
    "        >>> assert all((operator, compose, pipe))"
   ]
  },
  {
   "cell_type": "markdown",
   "id": "e8401960-12d3-42e2-9851-a3d71a4e73e2",
   "metadata": {},
   "source": [
    "all these modifications make it possible run this without any imports.\n",
    "we start with imports, but could remove them after our configuration\n",
    "was defined properly."
   ]
  }
 ],
 "metadata": {
  "kernelspec": {
   "display_name": "Python [conda env:p311] *",
   "language": "python",
   "name": "conda-env-p311-py"
  },
  "language_info": {
   "codemirror_mode": {
    "name": "ipython",
    "version": 3
   },
   "file_extension": ".py",
   "mimetype": "text/x-python",
   "name": "python",
   "nbconvert_exporter": "python",
   "pygments_lexer": "ipython3",
   "version": "3.11.3"
  },
  "widgets": {
   "application/vnd.jupyter.widget-state+json": {
    "state": {},
    "version_major": 2,
    "version_minor": 0
   }
  }
 },
 "nbformat": 4,
 "nbformat_minor": 5
}
