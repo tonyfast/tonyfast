{
 "cells": [
  {
   "cell_type": "markdown",
   "id": "bc1cad34-e433-4660-a605-24c7b4431fc4",
   "metadata": {},
   "source": [
    "# an enhanced html magic with the ability to test for violations"
   ]
  },
  {
   "cell_type": "markdown",
   "id": "5da3998b-aabe-4b25-a276-d14305fb2b13",
   "metadata": {},
   "source": [
    "i want to ship some tools that make it easier for interactive accessibility testing and analysis.\n",
    "typically, accessibility is a challenge to integrate with python because of the need for multiple run times.\n",
    "to run axe we need javascript and to run the vnu validator we need java.\n",
    "after we've run our accessibility tests we need to reason with them,\n",
    "and working in a python environment is ideal for data analysis.\n",
    "\n",
    "in this post we'll explore standard testing with explicit and implicit accessibility testing invocations."
   ]
  },
  {
   "cell_type": "code",
   "execution_count": 64,
   "id": "58385f72-84b0-456b-9135-ca58ec50385e",
   "metadata": {},
   "outputs": [],
   "source": [
    "import playwright.async_api, playwright.sync_api, nbconvert_a11y.axe.async_axe"
   ]
  },
  {
   "cell_type": "code",
   "execution_count": 65,
   "id": "162e1037-6550-4629-9432-9bac2211e745",
   "metadata": {},
   "outputs": [
    {
     "data": {
      "text/html": [
       "<pre><code>files:\\\n",
       "</code></pre>\n",
       "<p>is a collection of html documents we want to test.\\</p>\n",
       "<pre><code>= Index(Path(&quot;../../../nbconvert-a11y/tests/exports/html/&quot;).glob(&quot;*.html&quot;), name=&quot;file&quot;).to_series().head(5)\n",
       "</code></pre>\n",
       "<details>\n",
       "<summary>in <code>IPython</code> we must use the async api because the sync api raises an error.</summary>\n",
       "<pre><code>    &gt;&gt;&gt; playwright.sync_api.sync_playwright().__enter__()\n",
       "    Traceback (most recent call last):\n",
       "    ...\n",
       "    playwright._impl._errors.Error: It looks like you are using Playwright Sync API inside the asyncio loop.\n",
       "    Please use the Async API instead.\n",
       "</code></pre>\n",
       "</details>\n",
       "<p>therefore we need to write a lot more code to manage the async state.</p>\n"
      ],
      "text/plain": [
       "<IPython.core.display.HTML object>"
      ]
     },
     "metadata": {},
     "output_type": "display_data"
    }
   ],
   "source": [
    "%%\n",
    "    files:\\\n",
    "is a collection of html documents we want to test.\\\n",
    "\n",
    "    = Index(Path(\"../../../nbconvert-a11y/tests/exports/html/\").glob(\"*.html\"), name=\"file\").to_series().head(5)\n",
    "\n",
    "<details>\n",
    "<summary>in <code>IPython</code> we must use the async api because the sync api raises an error.</summary>\n",
    "\n",
    "    >>> playwright.sync_api.sync_playwright().__enter__()\n",
    "    Traceback (most recent call last):\n",
    "    ...\n",
    "    playwright._impl._errors.Error: It looks like you are using Playwright Sync API inside the asyncio loop.\n",
    "    Please use the Async API instead.\n",
    "\n",
    "</details>\n",
    "\n",
    "therefore we need to write a lot more code to manage the async state."
   ]
  },
  {
   "cell_type": "code",
   "execution_count": 66,
   "id": "23dbb519-687e-4e5c-832c-244c8267b9de",
   "metadata": {},
   "outputs": [
    {
     "data": {
      "text/html": [
       "<h2>testing axe and vnu with nbnbconvert_a11y</h2>\n",
       "<pre><code>async with playwright.async_api.async_playwright() as pw:\n",
       "</code></pre>\n",
       "<ol>\n",
       "<li>\n",
       "<p>enter an asynchronous playwright context</p>\n",
       "<pre><code> browser = await pw.chromium.launch()\n",
       "</code></pre>\n",
       "</li>\n",
       "<li>\n",
       "<p>navigation to an html document</p>\n",
       "<pre><code> page = await browser.new_page()\n",
       "</code></pre>\n",
       "<p>we need to use the uri format of the file</p>\n",
       "<pre><code> await page.goto(file := files.iloc[0].absolute().as_uri())\n",
       "</code></pre>\n",
       "</li>\n",
       "<li>\n",
       "<p><code>nbconvert_a11y</code> now provides convenience functions for testing these pages</p>\n",
       "<pre><code> axe, vnu, aom = await asyncio.gather(\n",
       "     nbconvert_a11y.axe.async_axe.pw_axe(page),\n",
       "     nbconvert_a11y.axe.async_axe.pw_validate_html(page),\n",
       "     nbconvert_a11y.axe.async_axe.pw_accessibility_tree(page)\n",
       " )\n",
       "</code></pre>\n",
       "</li>\n",
       "</ol>\n",
       "<p>the example above represents the analysis of single file's accessibility, html formatting, and accessibility tree.\n",
       "there are times where we might have to measure many pages or perhaps only part of a page.\n",
       "the next sections will look at scaling testing to multiple files then parts of a html document.</p>\n"
      ],
      "text/plain": [
       "<IPython.core.display.HTML object>"
      ]
     },
     "metadata": {},
     "output_type": "display_data"
    }
   ],
   "source": [
    "%%\n",
    "## testing axe and vnu with nbnbconvert_a11y\n",
    "\n",
    "    async with playwright.async_api.async_playwright() as pw:\n",
    "1. enter an asynchronous playwright context\n",
    "\n",
    "        browser = await pw.chromium.launch()\n",
    "2. navigation to an html document\n",
    "\n",
    "        page = await browser.new_page()\n",
    "    we need to use the uri format of the file\n",
    "\n",
    "        await page.goto(file := files.iloc[0].absolute().as_uri())\n",
    "3. `nbconvert_a11y` now provides convenience functions for testing these pages\n",
    "\n",
    "        axe, vnu, aom = await asyncio.gather(\n",
    "            nbconvert_a11y.axe.async_axe.pw_axe(page),\n",
    "            nbconvert_a11y.axe.async_axe.pw_validate_html(page),\n",
    "            nbconvert_a11y.axe.async_axe.pw_accessibility_tree(page)\n",
    "        )\n",
    "\n",
    "the example above represents the analysis of single file's accessibility, html formatting, and accessibility tree.\n",
    "there are times where we might have to measure many pages or perhaps only part of a page. \n",
    "the next sections will look at scaling testing to multiple files then parts of a html document."
   ]
  },
  {
   "cell_type": "markdown",
   "id": "df2b0fd9-1b2e-4dac-a226-fbb2a58df06c",
   "metadata": {},
   "source": [
    "## analyzing many files as dataframes\n",
    "\n",
    "aggregating accessibility violations across many files has been a challenge.\n",
    "this reasoning is often required when venturing to retrofit accessibility  of exists sites.\n",
    "we'll want to figure out how to reason with common and uncommon violations in documents.\n",
    "the dataframe approach that follows brings accessibility violations nearer to data analytics."
   ]
  },
  {
   "cell_type": "code",
   "execution_count": 67,
   "id": "f18e707c-b6fc-4692-9cb8-cabda174dea9",
   "metadata": {},
   "outputs": [
    {
     "data": {
      "text/html": [
       "<div>\n",
       "<style scoped>\n",
       "    .dataframe tbody tr th:only-of-type {\n",
       "        vertical-align: middle;\n",
       "    }\n",
       "\n",
       "    .dataframe tbody tr th {\n",
       "        vertical-align: top;\n",
       "    }\n",
       "\n",
       "    .dataframe thead th {\n",
       "        text-align: right;\n",
       "    }\n",
       "</style>\n",
       "<table border=\"1\" class=\"dataframe\">\n",
       "  <thead>\n",
       "    <tr style=\"text-align: right;\">\n",
       "      <th></th>\n",
       "      <th>axe</th>\n",
       "      <th>vnu</th>\n",
       "      <th>aom</th>\n",
       "    </tr>\n",
       "    <tr>\n",
       "      <th>file</th>\n",
       "      <th></th>\n",
       "      <th></th>\n",
       "      <th></th>\n",
       "    </tr>\n",
       "  </thead>\n",
       "  <tbody>\n",
       "    <tr>\n",
       "      <th>../../../nbconvert-a11y/tests/exports/html/lorenz-executed-default.html</th>\n",
       "      <td>{'testEngine': {'name': 'axe-core', 'version':...</td>\n",
       "      <td>{'messages': [{'type': 'error', 'lastLine': 1,...</td>\n",
       "      <td>{'role': 'WebArea', 'name': 'lorenz-executed',...</td>\n",
       "    </tr>\n",
       "    <tr>\n",
       "      <th>../../../nbconvert-a11y/tests/exports/html/lorenz-a11y.html</th>\n",
       "      <td>{'testEngine': {'name': 'axe-core', 'version':...</td>\n",
       "      <td>{'messages': [{'type': 'error', 'lastLine': 1,...</td>\n",
       "      <td>{'role': 'WebArea', 'name': 'lorenz', 'childre...</td>\n",
       "    </tr>\n",
       "    <tr>\n",
       "      <th>../../../nbconvert-a11y/tests/exports/html/lorenz-executed-a11y.html</th>\n",
       "      <td>{'testEngine': {'name': 'axe-core', 'version':...</td>\n",
       "      <td>{'messages': [{'type': 'error', 'lastLine': 1,...</td>\n",
       "      <td>{'role': 'WebArea', 'name': 'lorenz-executed',...</td>\n",
       "    </tr>\n",
       "    <tr>\n",
       "      <th>../../../nbconvert-a11y/tests/exports/html/lorenz-executed-section.html</th>\n",
       "      <td>{'testEngine': {'name': 'axe-core', 'version':...</td>\n",
       "      <td>{'messages': [{'type': 'error', 'lastLine': 1,...</td>\n",
       "      <td>{'role': 'WebArea', 'name': 'lorenz-executed',...</td>\n",
       "    </tr>\n",
       "    <tr>\n",
       "      <th>../../../nbconvert-a11y/tests/exports/html/lorenz-default.html</th>\n",
       "      <td>{'testEngine': {'name': 'axe-core', 'version':...</td>\n",
       "      <td>{'messages': [{'type': 'error', 'lastLine': 1,...</td>\n",
       "      <td>{'role': 'WebArea', 'name': 'lorenz', 'childre...</td>\n",
       "    </tr>\n",
       "  </tbody>\n",
       "</table>\n",
       "</div>"
      ],
      "text/plain": [
       "                                                                                                  axe  \\\n",
       "file                                                                                                    \n",
       "../../../nbconvert-a11y/tests/exports/html/lore...  {'testEngine': {'name': 'axe-core', 'version':...   \n",
       "../../../nbconvert-a11y/tests/exports/html/lore...  {'testEngine': {'name': 'axe-core', 'version':...   \n",
       "../../../nbconvert-a11y/tests/exports/html/lore...  {'testEngine': {'name': 'axe-core', 'version':...   \n",
       "../../../nbconvert-a11y/tests/exports/html/lore...  {'testEngine': {'name': 'axe-core', 'version':...   \n",
       "../../../nbconvert-a11y/tests/exports/html/lore...  {'testEngine': {'name': 'axe-core', 'version':...   \n",
       "\n",
       "                                                                                                  vnu  \\\n",
       "file                                                                                                    \n",
       "../../../nbconvert-a11y/tests/exports/html/lore...  {'messages': [{'type': 'error', 'lastLine': 1,...   \n",
       "../../../nbconvert-a11y/tests/exports/html/lore...  {'messages': [{'type': 'error', 'lastLine': 1,...   \n",
       "../../../nbconvert-a11y/tests/exports/html/lore...  {'messages': [{'type': 'error', 'lastLine': 1,...   \n",
       "../../../nbconvert-a11y/tests/exports/html/lore...  {'messages': [{'type': 'error', 'lastLine': 1,...   \n",
       "../../../nbconvert-a11y/tests/exports/html/lore...  {'messages': [{'type': 'error', 'lastLine': 1,...   \n",
       "\n",
       "                                                                                                  aom  \n",
       "file                                                                                                   \n",
       "../../../nbconvert-a11y/tests/exports/html/lore...  {'role': 'WebArea', 'name': 'lorenz-executed',...  \n",
       "../../../nbconvert-a11y/tests/exports/html/lore...  {'role': 'WebArea', 'name': 'lorenz', 'childre...  \n",
       "../../../nbconvert-a11y/tests/exports/html/lore...  {'role': 'WebArea', 'name': 'lorenz-executed',...  \n",
       "../../../nbconvert-a11y/tests/exports/html/lore...  {'role': 'WebArea', 'name': 'lorenz-executed',...  \n",
       "../../../nbconvert-a11y/tests/exports/html/lore...  {'role': 'WebArea', 'name': 'lorenz', 'childre...  "
      ]
     },
     "execution_count": 67,
     "metadata": {},
     "output_type": "execute_result"
    },
    {
     "data": {
      "text/html": [
       "<pre><code>async def goto(browser, file):\n",
       "</code></pre>\n",
       "<p><code>goto</code> is a covenience function for creating a new browser page and populating it with the contents of a file.</p>\n",
       "<pre><code>    page = await browser.new_page()\n",
       "    await page.goto(file.absolute().as_uri())\n",
       "    return page\n",
       "\n",
       "\n",
       "async with playwright.async_api.async_playwright() as pw:\n",
       "</code></pre>\n",
       "<p>we can scale the analysis by applying our per file analysis to many files.\n",
       "the outcome of this are three different dataframes that are ripe for data analysis.</p>\n",
       "<pre><code>    browser = await pw.chromium.launch()\n",
       "    pages = await files.apply(partial(goto, browser)).gather()\n",
       "    axe, vnu, aom = await asyncio.gather(\n",
       "        pages.apply(nbconvert_a11y.axe.async_axe.pw_axe).gather(),\n",
       "        pages.apply(nbconvert_a11y.axe.async_axe.pw_validate_html).gather(),\n",
       "        pages.apply(nbconvert_a11y.axe.async_axe.pw_accessibility_tree).gather(),\n",
       "    )\n",
       "</code></pre>\n",
       "<p>at this point, we've generated a larger dataframe that aggregates the <code>results</code> of each analysis\n",
       "that we can reason with.</p>\n",
       "<pre><code>(results := pandas.concat(dict(axe=axe, vnu=vnu, aom=aom), axis=1))</code></pre>\n"
      ],
      "text/plain": [
       "<IPython.core.display.HTML object>"
      ]
     },
     "metadata": {},
     "output_type": "display_data"
    }
   ],
   "source": [
    "%%\n",
    "    async def goto(browser, file):\n",
    "`goto` is a covenience function for creating a new browser page and populating it with the contents of a file.\n",
    "        \n",
    "        page = await browser.new_page()\n",
    "        await page.goto(file.absolute().as_uri())\n",
    "        return page\n",
    "\n",
    "\n",
    "    async with playwright.async_api.async_playwright() as pw:\n",
    "we can scale the analysis by applying our per file analysis to many files.\n",
    "the outcome of this are three different dataframes that are ripe for data analysis.\n",
    "        \n",
    "        browser = await pw.chromium.launch()\n",
    "        pages = await files.apply(partial(goto, browser)).gather()\n",
    "        axe, vnu, aom = await asyncio.gather(\n",
    "            pages.apply(nbconvert_a11y.axe.async_axe.pw_axe).gather(),\n",
    "            pages.apply(nbconvert_a11y.axe.async_axe.pw_validate_html).gather(),\n",
    "            pages.apply(nbconvert_a11y.axe.async_axe.pw_accessibility_tree).gather(),\n",
    "        )\n",
    "        \n",
    "\n",
    "at this point, we've generated a larger dataframe that aggregates the `results` of each analysis\n",
    "that we can reason with.\n",
    "\n",
    "    (results := pandas.concat(dict(axe=axe, vnu=vnu, aom=aom), axis=1))"
   ]
  },
  {
   "cell_type": "markdown",
   "id": "9eb6ffa9-d8b5-499f-b51e-3ae1dee931ce",
   "metadata": {},
   "source": [
    "## example analyses"
   ]
  },
  {
   "cell_type": "code",
   "execution_count": 68,
   "id": "d849db85-2123-4325-9c48-7f9cedcbdd36",
   "metadata": {},
   "outputs": [
    {
     "data": {
      "text/html": [
       "<div>\n",
       "<style scoped>\n",
       "    .dataframe tbody tr th:only-of-type {\n",
       "        vertical-align: middle;\n",
       "    }\n",
       "\n",
       "    .dataframe tbody tr th {\n",
       "        vertical-align: top;\n",
       "    }\n",
       "\n",
       "    .dataframe thead th {\n",
       "        text-align: right;\n",
       "    }\n",
       "</style>\n",
       "<table border=\"1\" class=\"dataframe\">\n",
       "  <thead>\n",
       "    <tr style=\"text-align: right;\">\n",
       "      <th>file</th>\n",
       "      <th>../../../nbconvert-a11y/tests/exports/html/lorenz-a11y.html</th>\n",
       "      <th>../../../nbconvert-a11y/tests/exports/html/lorenz-default.html</th>\n",
       "      <th>../../../nbconvert-a11y/tests/exports/html/lorenz-executed-a11y.html</th>\n",
       "      <th>../../../nbconvert-a11y/tests/exports/html/lorenz-executed-default.html</th>\n",
       "      <th>../../../nbconvert-a11y/tests/exports/html/lorenz-executed-section.html</th>\n",
       "    </tr>\n",
       "    <tr>\n",
       "      <th>id</th>\n",
       "      <th></th>\n",
       "      <th></th>\n",
       "      <th></th>\n",
       "      <th></th>\n",
       "      <th></th>\n",
       "    </tr>\n",
       "  </thead>\n",
       "  <tbody>\n",
       "    <tr>\n",
       "      <th>aria-input-field-name</th>\n",
       "      <td></td>\n",
       "      <td></td>\n",
       "      <td>3.0</td>\n",
       "      <td>3.0</td>\n",
       "      <td>3.0</td>\n",
       "    </tr>\n",
       "    <tr>\n",
       "      <th>color-contrast</th>\n",
       "      <td></td>\n",
       "      <td>13.0</td>\n",
       "      <td></td>\n",
       "      <td>16.0</td>\n",
       "      <td></td>\n",
       "    </tr>\n",
       "    <tr>\n",
       "      <th>color-contrast-enhanced</th>\n",
       "      <td></td>\n",
       "      <td>10.0</td>\n",
       "      <td></td>\n",
       "      <td>10.0</td>\n",
       "      <td></td>\n",
       "    </tr>\n",
       "    <tr>\n",
       "      <th>focus-order-semantics</th>\n",
       "      <td>7.0</td>\n",
       "      <td>23.0</td>\n",
       "      <td>7.0</td>\n",
       "      <td>28.0</td>\n",
       "      <td>7.0</td>\n",
       "    </tr>\n",
       "    <tr>\n",
       "      <th>image-alt</th>\n",
       "      <td></td>\n",
       "      <td></td>\n",
       "      <td>1.0</td>\n",
       "      <td>1.0</td>\n",
       "      <td>1.0</td>\n",
       "    </tr>\n",
       "  </tbody>\n",
       "</table>\n",
       "</div>"
      ],
      "text/plain": [
       "file                    ../../../nbconvert-a11y/tests/exports/html/lorenz-a11y.html  \\\n",
       "id                                                                                    \n",
       "aria-input-field-name                                                                 \n",
       "color-contrast                                                                        \n",
       "color-contrast-enhanced                                                               \n",
       "focus-order-semantics                                                  7.0            \n",
       "image-alt                                                                             \n",
       "\n",
       "file                    ../../../nbconvert-a11y/tests/exports/html/lorenz-default.html  \\\n",
       "id                                                                                       \n",
       "aria-input-field-name                                                                    \n",
       "color-contrast                                                        13.0               \n",
       "color-contrast-enhanced                                               10.0               \n",
       "focus-order-semantics                                                 23.0               \n",
       "image-alt                                                                                \n",
       "\n",
       "file                    ../../../nbconvert-a11y/tests/exports/html/lorenz-executed-a11y.html  \\\n",
       "id                                                                                             \n",
       "aria-input-field-name                                                  3.0                     \n",
       "color-contrast                                                                                 \n",
       "color-contrast-enhanced                                                                        \n",
       "focus-order-semantics                                                  7.0                     \n",
       "image-alt                                                              1.0                     \n",
       "\n",
       "file                     ../../../nbconvert-a11y/tests/exports/html/lorenz-executed-default.html  \\\n",
       "id                                                                                                 \n",
       "aria-input-field-name                                                  3.0                         \n",
       "color-contrast                                                        16.0                         \n",
       "color-contrast-enhanced                                               10.0                         \n",
       "focus-order-semantics                                                 28.0                         \n",
       "image-alt                                                              1.0                         \n",
       "\n",
       "file                    ../../../nbconvert-a11y/tests/exports/html/lorenz-executed-section.html  \n",
       "id                                                                                               \n",
       "aria-input-field-name                                                  3.0                       \n",
       "color-contrast                                                                                   \n",
       "color-contrast-enhanced                                                                          \n",
       "focus-order-semantics                                                  7.0                       \n",
       "image-alt                                                              1.0                       "
      ]
     },
     "execution_count": 68,
     "metadata": {},
     "output_type": "execute_result"
    },
    {
     "data": {
      "text/html": [
       "<p>the tabular format makes it easier to query results from the testing</p>\n",
       "<pre><code>violations = results.axe.series().violations.explode().series()\n",
       "violations[&quot;num_nodes&quot;] = violations.nodes.apply(len)\n",
       "</code></pre>\n",
       "<p>for example, we can discover an overview of the violations in different files.</p>\n",
       "<pre><code>violations.groupby([&quot;file&quot;, &quot;id&quot;]).num_nodes.sum().unstack(0).fillna(&quot;&quot;)</code></pre>\n"
      ],
      "text/plain": [
       "<IPython.core.display.HTML object>"
      ]
     },
     "metadata": {},
     "output_type": "display_data"
    }
   ],
   "source": [
    "%%\n",
    "the tabular format makes it easier to query results from the testing\n",
    "\n",
    "    violations = results.axe.series().violations.explode().series()\n",
    "    violations[\"num_nodes\"] = violations.nodes.apply(len)\n",
    "\n",
    "for example, we can discover an overview of the violations in different files.\n",
    "\n",
    "    violations.groupby([\"file\", \"id\"]).num_nodes.sum().unstack(0).fillna(\"\")"
   ]
  },
  {
   "cell_type": "code",
   "execution_count": 69,
   "id": "96c6f031-643e-4135-b3e0-7598845b5ade",
   "metadata": {},
   "outputs": [
    {
     "data": {
      "text/html": [
       "<div>\n",
       "<style scoped>\n",
       "    .dataframe tbody tr th:only-of-type {\n",
       "        vertical-align: middle;\n",
       "    }\n",
       "\n",
       "    .dataframe tbody tr th {\n",
       "        vertical-align: top;\n",
       "    }\n",
       "\n",
       "    .dataframe thead th {\n",
       "        text-align: right;\n",
       "    }\n",
       "</style>\n",
       "<table border=\"1\" class=\"dataframe\">\n",
       "  <thead>\n",
       "    <tr style=\"text-align: right;\">\n",
       "      <th>file</th>\n",
       "      <th>../../../nbconvert-a11y/tests/exports/html/lorenz-a11y.html</th>\n",
       "      <th>../../../nbconvert-a11y/tests/exports/html/lorenz-default.html</th>\n",
       "      <th>../../../nbconvert-a11y/tests/exports/html/lorenz-executed-a11y.html</th>\n",
       "      <th>../../../nbconvert-a11y/tests/exports/html/lorenz-executed-default.html</th>\n",
       "      <th>../../../nbconvert-a11y/tests/exports/html/lorenz-executed-section.html</th>\n",
       "    </tr>\n",
       "    <tr>\n",
       "      <th>type</th>\n",
       "      <th></th>\n",
       "      <th></th>\n",
       "      <th></th>\n",
       "      <th></th>\n",
       "      <th></th>\n",
       "    </tr>\n",
       "  </thead>\n",
       "  <tbody>\n",
       "    <tr>\n",
       "      <th>error</th>\n",
       "      <td>40</td>\n",
       "      <td>7</td>\n",
       "      <td>40</td>\n",
       "      <td>18</td>\n",
       "      <td>42</td>\n",
       "    </tr>\n",
       "    <tr>\n",
       "      <th>info</th>\n",
       "      <td>14</td>\n",
       "      <td>13</td>\n",
       "      <td>14</td>\n",
       "      <td>14</td>\n",
       "      <td>31</td>\n",
       "    </tr>\n",
       "  </tbody>\n",
       "</table>\n",
       "</div>"
      ],
      "text/plain": [
       "file   ../../../nbconvert-a11y/tests/exports/html/lorenz-a11y.html  \\\n",
       "type                                                                 \n",
       "error                                                 40             \n",
       "info                                                  14             \n",
       "\n",
       "file   ../../../nbconvert-a11y/tests/exports/html/lorenz-default.html  \\\n",
       "type                                                                    \n",
       "error                                                  7                \n",
       "info                                                  13                \n",
       "\n",
       "file   ../../../nbconvert-a11y/tests/exports/html/lorenz-executed-a11y.html  \\\n",
       "type                                                                          \n",
       "error                                                 40                      \n",
       "info                                                  14                      \n",
       "\n",
       "file   ../../../nbconvert-a11y/tests/exports/html/lorenz-executed-default.html  \\\n",
       "type                                                                             \n",
       "error                                                 18                         \n",
       "info                                                  14                         \n",
       "\n",
       "file   ../../../nbconvert-a11y/tests/exports/html/lorenz-executed-section.html  \n",
       "type                                                                            \n",
       "error                                                 42                        \n",
       "info                                                  31                        "
      ]
     },
     "execution_count": 69,
     "metadata": {},
     "output_type": "execute_result"
    },
    {
     "data": {
      "text/html": [
       "<p>we can manipulate the same <code>results</code> to extact the html violations from the vnu validator.</p>\n",
       "<pre><code>results.vnu.series().messages.explode().series().groupby(&quot;file type&quot;.split()).message.count().unstack(0)</code></pre>\n"
      ],
      "text/plain": [
       "<IPython.core.display.HTML object>"
      ]
     },
     "metadata": {},
     "output_type": "display_data"
    }
   ],
   "source": [
    "%%\n",
    "we can manipulate the same `results` to extact the html violations from the vnu validator.\n",
    "    \n",
    "    results.vnu.series().messages.explode().series().groupby(\"file type\".split()).message.count().unstack(0)"
   ]
  },
  {
   "cell_type": "markdown",
   "id": "33d01a03-7824-4027-ae71-9dd9efe13909",
   "metadata": {},
   "source": [
    "## analyzing components individual\n",
    "\n",
    "when developing components we tend to not want a firehose like we get from the files approach.\n",
    "rather we'll report one at a time."
   ]
  },
  {
   "cell_type": "code",
   "execution_count": 70,
   "id": "4e7728aa-f67c-446b-88f0-b0b8267bb3a1",
   "metadata": {},
   "outputs": [],
   "source": [
    "%reload_ext nbconvert_a11y.axe"
   ]
  },
  {
   "cell_type": "markdown",
   "id": "f7647ee4-bbcb-4c15-af9d-663daab8c1ee",
   "metadata": {},
   "source": [
    "the magic exposes a persistent browser that we can use to generate pages from from."
   ]
  },
  {
   "cell_type": "code",
   "execution_count": 71,
   "id": "cb0a34a6-2679-4b5b-b113-58e0b3df0065",
   "metadata": {},
   "outputs": [
    {
     "data": {
      "text/html": [
       "<section role=list></section>\n"
      ],
      "text/plain": [
       "<IPython.core.display.HTML object>"
      ]
     },
     "metadata": {},
     "output_type": "display_data"
    },
    {
     "name": "stdout",
     "output_type": "stream",
     "text": [
      "accessibility violations for about:blank (1 sub-exception)\n",
      "5 html violations (5 sub-exceptions)\n"
     ]
    },
    {
     "name": "stderr",
     "output_type": "stream",
     "text": [
      "  | nbconvert_a11y.axe.base_axe_exceptions.AxeExceptions: accessibility violations for about:blank (1 sub-exception)\n",
      "  +-+---------------- 1 ----------------\n",
      "    | nbconvert_a11y.axe.base_axe_exceptions.aria_allowed_role_minor: {'description': 'Ensures role attribute has an appropriate value for the '\n",
      "    |                 'element',\n",
      "    |  'help': 'ARIA role should be appropriate for the element',\n",
      "    |  'helpUrl': 'https://dequeuniversity.com/rules/axe/4.8/aria-allowed-role?application=axeAPI',\n",
      "    |  'id': 'aria-allowed-role',\n",
      "    |  'impact': 'minor',\n",
      "    |  'nodes': [{'all': [],\n",
      "    |             'any': [{'data': ['list'],\n",
      "    |                      'id': 'aria-allowed-role',\n",
      "    |                      'impact': 'minor',\n",
      "    |                      'message': 'ARIA role list is not allowed for given '\n",
      "    |                                 'element',\n",
      "    |                      'relatedNodes': []}],\n",
      "    |             'failureSummary': 'Fix any of the following:\\n'\n",
      "    |                               '  ARIA role list is not allowed for given '\n",
      "    |                               'element',\n",
      "    |             'html': '<section role=\"list\"></section>',\n",
      "    |             'impact': 'minor',\n",
      "    |             'none': [],\n",
      "    |             'target': ['section']}],\n",
      "    |  'tags': ['cat.aria', 'best-practice']}\n",
      "    +------------------------------------\n",
      "  | ExceptionGroup: 5 html violations (5 sub-exceptions)\n",
      "  +-+---------------- 1 ----------------\n",
      "    | nbconvert_a11y.pytest_w3c.error-Start tag seen without seeing a doctype first. Expected “<!DOCTYPE html>”.\n",
      "    +---------------- 2 ----------------\n",
      "    | nbconvert_a11y.pytest_w3c.error-Element “head” is missing a required instance of child element “title”.\n",
      "    +---------------- 3 ----------------\n",
      "    | nbconvert_a11y.pytest_w3c.error-Bad value “list” for attribute “role” on element “section”.\n",
      "    +---------------- 4 ----------------\n",
      "    | nbconvert_a11y.pytest_w3c.info-Section lacks heading. Consider using “h2”-“h6” elements to add identifying headings to all sections, or else use a “div” element instead for any cases where no heading is needed.\n",
      "    +---------------- 5 ----------------\n",
      "    | nbconvert_a11y.pytest_w3c.info-Consider adding a “lang” attribute to the “html” start tag to declare the language of this document.\n",
      "    +------------------------------------\n"
     ]
    }
   ],
   "source": [
    "%%html\n",
    "<section role=list></section>"
   ]
  },
  {
   "cell_type": "code",
   "execution_count": 72,
   "id": "d204fe83-bebe-45e6-8f6d-e85ab2235e96",
   "metadata": {},
   "outputs": [
    {
     "data": {
      "text/html": [
       "<form aria-label>\n",
       "    <input type=number aria-label=numbers/>\n",
       "</form>\n"
      ],
      "text/plain": [
       "<IPython.core.display.HTML object>"
      ]
     },
     "metadata": {},
     "output_type": "display_data"
    },
    {
     "name": "stdout",
     "output_type": "stream",
     "text": [
      "accessibility violations for about:blank (1 sub-exception)\n",
      "3 html violations (3 sub-exceptions)\n"
     ]
    },
    {
     "name": "stderr",
     "output_type": "stream",
     "text": [
      "  | nbconvert_a11y.axe.base_axe_exceptions.AxeExceptions: accessibility violations for about:blank (1 sub-exception)\n",
      "  +-+---------------- 1 ----------------\n",
      "    | nbconvert_a11y.axe.base_axe_exceptions.region_moderate: {'description': 'Ensures all page content is contained by landmarks',\n",
      "    |  'help': 'All page content should be contained by landmarks',\n",
      "    |  'helpUrl': 'https://dequeuniversity.com/rules/axe/4.8/region?application=axeAPI',\n",
      "    |  'id': 'region',\n",
      "    |  'impact': 'moderate',\n",
      "    |  'nodes': [{'all': [],\n",
      "    |             'any': [{'data': {'isIframe': False},\n",
      "    |                      'id': 'region',\n",
      "    |                      'impact': 'moderate',\n",
      "    |                      'message': 'Some page content is not contained by '\n",
      "    |                                 'landmarks',\n",
      "    |                      'relatedNodes': []}],\n",
      "    |             'failureSummary': 'Fix any of the following:\\n'\n",
      "    |                               '  Some page content is not contained by '\n",
      "    |                               'landmarks',\n",
      "    |             'html': '<form aria-label=\"\">\\n'\n",
      "    |                     '    <input type=\"number\" aria-label=\"numbers/\">\\n'\n",
      "    |                     '</form>',\n",
      "    |             'impact': 'moderate',\n",
      "    |             'none': [],\n",
      "    |             'target': ['form']}],\n",
      "    |  'tags': ['cat.keyboard', 'best-practice']}\n",
      "    +------------------------------------\n",
      "  | ExceptionGroup: 3 html violations (3 sub-exceptions)\n",
      "  +-+---------------- 1 ----------------\n",
      "    | nbconvert_a11y.pytest_w3c.error-Start tag seen without seeing a doctype first. Expected “<!DOCTYPE html>”.\n",
      "    +---------------- 2 ----------------\n",
      "    | nbconvert_a11y.pytest_w3c.error-Element “head” is missing a required instance of child element “title”.\n",
      "    +---------------- 3 ----------------\n",
      "    | nbconvert_a11y.pytest_w3c.info-Consider adding a “lang” attribute to the “html” start tag to declare the language of this document.\n",
      "    +------------------------------------\n"
     ]
    }
   ],
   "source": [
    "%%html\n",
    "<form aria-label>\n",
    "    <input type=number aria-label=numbers/>\n",
    "</form>"
   ]
  }
 ],
 "metadata": {
  "kernelspec": {
   "display_name": "Python [conda env:p311] *",
   "language": "python",
   "name": "conda-env-p311-py"
  },
  "language_info": {
   "codemirror_mode": {
    "name": "ipython",
    "version": 3
   },
   "file_extension": ".py",
   "mimetype": "text/x-python",
   "name": "python",
   "nbconvert_exporter": "python",
   "pygments_lexer": "ipython3",
   "version": "3.11.3"
  },
  "widgets": {
   "application/vnd.jupyter.widget-state+json": {
    "state": {},
    "version_major": 2,
    "version_minor": 0
   }
  }
 },
 "nbformat": 4,
 "nbformat_minor": 5
}
