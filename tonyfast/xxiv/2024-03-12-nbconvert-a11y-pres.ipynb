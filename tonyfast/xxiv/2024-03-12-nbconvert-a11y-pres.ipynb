{
 "cells": [
  {
   "cell_type": "markdown",
   "id": "c86987c8-ef17-4eae-bb08-8b179be606ec",
   "metadata": {},
   "source": [
    "# semantically meaningful notebooks\n",
    "\n",
    "this is the first presentation of the `nbconvert-a11y` template for assistive reading experiences in notebooks."
   ]
  },
  {
   "cell_type": "code",
   "execution_count": 3,
   "id": "a999370a-63cb-4858-b577-783500f842f2",
   "metadata": {},
   "outputs": [],
   "source": [
    "    import midgy, bs4"
   ]
  },
  {
   "cell_type": "markdown",
   "id": "832631c2-c907-40f8-88b5-ce48027de774",
   "metadata": {},
   "source": [
    "## beyond wcag\n",
    "\n",
    "[section 508 amendent of the rehabiliation act of 1973](https://en.wikipedia.org/wiki/Section_508_Amendment_to_the_Rehabilitation_Act_of_1973) is drastically insufficient for the needs of interactive computing technology. [WCAG 2.0](https://www.w3.org/TR/WCAG20/) was published in Dec 2008 long before the demanding needs of modern javascript. compliance actively neglects the needs of assistive technology users in modern learning environments and creates a two-tier system."
   ]
  },
  {
   "cell_type": "markdown",
   "id": "cbd786fe-b82a-4a77-a50c-6e4d446bc00b",
   "metadata": {},
   "source": [
    "## what if web content accessibility guidelines cared about visualization and data?"
   ]
  },
  {
   "cell_type": "code",
   "execution_count": 4,
   "id": "6d03d953-21e3-46b6-abf4-4995a5d167cd",
   "metadata": {},
   "outputs": [
    {
     "data": {
      "text/html": [
       "<style>\n",
       ".barb li {\n",
       "    list-style: none;\n",
       "    a {font-size: 400%;}\n",
       "    q {display: block; font-size: 150%; text-transform: lowercase;}\n",
       "    background-color: black;\n",
       "    font-weight: 1000;\n",
       "    &:nth-child(2n+1) {filter: invert(100%);}\n",
       "    &:nth-child(4) ~ li {text-transform: uppercase;}\n",
       "    a:visited, a:link {\n",
       "        color: unset;\n",
       "    }\n",
       "        \n",
       "}\n",
       "</style>\n",
       "<figure>\n",
       "<figcaption>\n",
       "<q cite=\"https://github.com/Chartability/POUR-CAF\">Chartability is a set of heuristics for ensuring that data visualizations, systems, and interfaces are accessible.</q></figcaption>\n",
       "\n",
       "the first four principles extend from web content accessibility guidelines. the last three principles are the additional principles for accessibile data experiences.\n",
       "\n",
       "</figure>\n",
       "<ul class=barb aria-label=\"accessibility principles for accessibile data experiences.\">\n",
       "<li><a href=\"https://github.com/Chartability/POUR-CAF#perceivable\">perceivable</a>\n",
       "<q>User must be able to easily identify content using their senses: sight, sound, and touch.</q></li>\n",
       "<li><a href=\"https://github.com/Chartability/POUR-CAF#operable\">operable</a>\n",
       "<q>All controls must be error-tolerant, discoverable, and multi-modal (not just mouse operable, but using keyboard, etc).</q></li>\n",
       "<li><a href=\"https://github.com/Chartability/POUR-CAF#understandable\">understandable</a>\n",
       "<q>Any information or data are presented without ambiguity, with clarity, and in a way that minimizes cognitive load.\n",
       "</q></li>\n",
       "<li><a href=\"https://github.com/Chartability/POUR-CAF#robust\">robust</a>\n",
       "<q>The design is compliant with existing standards and works with the user’s compliant, assistive technologies of choice.\n",
       "</q></li>\n",
       "<li><a href=\"https://github.com/Chartability/POUR-CAF#compromising\">compromising</a>\n",
       "<q>(Understandable, yet Robust): Information flows must provide transparency, tolerance, and consideration for different ways that users with assistive technologies and disabilities will prefer to consume different information.</q></li>\n",
       "<li><a href=\"https://github.com/Chartability/POUR-CAF#assistive\">assistive</a>\n",
       "<q>(Understandable and Perceivable but labor-reducing): Interface must be intelligent and multi-sensory in a way that reduces the cognitive and functional labor required for use.\n",
       "</q></li>\n",
       "<li><a href=\"https://github.com/Chartability/POUR-CAF#flexible\">flexible</a>\n",
       "<q>(Perceivable and Operable, yet Robust): Design must respect user settings from user agents (browsers, operating systems, applications) and provide presentation and operation control.\n",
       "</q></li>\n",
       "</ul>\n"
      ],
      "text/plain": [
       "<IPython.core.display.HTML object>"
      ]
     },
     "metadata": {},
     "output_type": "display_data"
    }
   ],
   "source": [
    "%%html\n",
    "<style>\n",
    ".barb li {\n",
    "    list-style: none;\n",
    "    a {font-size: 400%;}\n",
    "    q {display: block; font-size: 150%; text-transform: lowercase;}\n",
    "    background-color: black;\n",
    "    font-weight: 1000;\n",
    "    &:nth-child(2n+1) {filter: invert(100%);}\n",
    "    &:nth-child(4) ~ li {text-transform: uppercase;}\n",
    "    a:visited, a:link {\n",
    "        color: unset;\n",
    "    }\n",
    "        \n",
    "}\n",
    "</style>\n",
    "<figure>\n",
    "<figcaption>\n",
    "<q cite=\"https://github.com/Chartability/POUR-CAF\">Chartability is a set of heuristics for ensuring that data visualizations, systems, and interfaces are accessible.</q></figcaption>\n",
    "\n",
    "the first four principles extend from web content accessibility guidelines. the last three principles are the additional principles for accessibile data experiences.\n",
    "\n",
    "</figure>\n",
    "<ul class=barb aria-label=\"accessibility principles for accessibile data experiences.\">\n",
    "<li><a href=\"https://github.com/Chartability/POUR-CAF#perceivable\">perceivable</a>\n",
    "<q>User must be able to easily identify content using their senses: sight, sound, and touch.</q></li>\n",
    "<li><a href=\"https://github.com/Chartability/POUR-CAF#operable\">operable</a>\n",
    "<q>All controls must be error-tolerant, discoverable, and multi-modal (not just mouse operable, but using keyboard, etc).</q></li>\n",
    "<li><a href=\"https://github.com/Chartability/POUR-CAF#understandable\">understandable</a>\n",
    "<q>Any information or data are presented without ambiguity, with clarity, and in a way that minimizes cognitive load.\n",
    "</q></li>\n",
    "<li><a href=\"https://github.com/Chartability/POUR-CAF#robust\">robust</a>\n",
    "<q>The design is compliant with existing standards and works with the user’s compliant, assistive technologies of choice.\n",
    "</q></li>\n",
    "<li><a href=\"https://github.com/Chartability/POUR-CAF#compromising\">compromising</a>\n",
    "<q>(Understandable, yet Robust): Information flows must provide transparency, tolerance, and consideration for different ways that users with assistive technologies and disabilities will prefer to consume different information.</q></li>\n",
    "<li><a href=\"https://github.com/Chartability/POUR-CAF#assistive\">assistive</a>\n",
    "<q>(Understandable and Perceivable but labor-reducing): Interface must be intelligent and multi-sensory in a way that reduces the cognitive and functional labor required for use.\n",
    "</q></li>\n",
    "<li><a href=\"https://github.com/Chartability/POUR-CAF#flexible\">flexible</a>\n",
    "<q>(Perceivable and Operable, yet Robust): Design must respect user settings from user agents (browsers, operating systems, applications) and provide presentation and operation control.\n",
    "</q></li>\n",
    "</ul>"
   ]
  },
  {
   "cell_type": "markdown",
   "id": "13d80773-e71b-41a3-8cd7-6e2d30e36003",
   "metadata": {},
   "source": [
    "## what are we going to do?\n",
    "\n",
    "talk about notebooks being used for stories\n",
    "\n",
    "* we will not retrofit jupyter notebook accessibility\n",
    "* we will consider a perfect idealized scenario"
   ]
  },
  {
   "cell_type": "markdown",
   "id": "a88bd2e5-a297-44d8-9a17-e8400d86f477",
   "metadata": {},
   "source": [
    "## how do we design assistive interfaces for POUR-CAF outcomes?\n",
    "\n",
    "accessibility is the floor. \n",
    "our designs consider all the sensory modalities that are possible with hypermedia.\n",
    "we'll find that correctly choosing semantics from the html standard has superior accessibility outcomes.\n",
    "\n",
    "* what does the story feel like?\n",
    "* what does the story sound like?\n",
    "* what does the story look like?\n",
    "* do you have an opinion?\n",
    "    * who are you including?  \n",
    "    * who are you excluding?\n",
    "    * is it configurable?\n",
    "    * what would [game accessibility guidelines say](https://gameaccessibilityguidelines.com/full-list/)?\n",
    "* did you test?\n",
    "    * did you validate the html data structure?\n",
    "    * did you check the accessibility tree?\n",
    "    * did you test with at least one screen reader?\n",
    "    * how you consulted affected communities?"
   ]
  },
  {
   "cell_type": "markdown",
   "id": "bab84a6b-d45d-47bf-b5fb-b80e3a6508b3",
   "metadata": {},
   "source": [
    "## demo: what does the story feel like?\n",
    "\n",
    "a demonstration of standard, low vision, and screen navigation of the `nbconvert-a11y` template.\n",
    "\n",
    "* tab\n",
    "* screen reader navigation\n",
    "* `dialog`s\n",
    "* `accesskey`\n",
    "* `aria-keyshortcut` "
   ]
  },
  {
   "cell_type": "markdown",
   "id": "3d029be4-dac9-4a85-b83f-501efb865a91",
   "metadata": {},
   "source": [
    "## what does the story sound like?\n",
    "\n",
    "we'll listen different aspects of screen reader navigation.\n",
    "\n",
    "* cell navigation\n",
    "* aria labelledby describedby\n",
    "* aria live activity log"
   ]
  },
  {
   "cell_type": "markdown",
   "id": "fea9533e-c684-47f7-ba20-1cebeed35e04",
   "metadata": {},
   "source": [
    "## what does the story look like?\n",
    "\n",
    "* color settings\n",
    "* activity log"
   ]
  },
  {
   "cell_type": "markdown",
   "id": "ac85693c-5ad2-4316-a3ab-93a136c42309",
   "metadata": {},
   "source": [
    "## did you test?\n",
    "\n",
    "* sa11y\n",
    "* is the html validated?\n",
    "* what does the accessibility tree look like?\n",
    "\n",
    "No Table (Critical)\n",
    "\n",
    "https://github.com/Chartability/POUR-CAF?tab=readme-ov-file#no-table-critical"
   ]
  },
  {
   "cell_type": "markdown",
   "id": "d7541f11-8365-47b6-ab97-80ebbee02c60",
   "metadata": {},
   "source": [
    "## tables"
   ]
  },
  {
   "attachments": {},
   "cell_type": "markdown",
   "id": "5e79d927-4e7b-4ad3-b3ba-c1d056d5e1e1",
   "metadata": {},
   "source": [
    "## what next?\n",
    "\n",
    "* more people try to use this\n",
    "* user testing\n",
    "* outputs! outputs!\n",
    "    * [structured tracebacks](2024-03-05-traceback-figure-tables.ipynb.html)\n",
    "    * [accessible pandas dataframes](2024-02-26-multiindex-aria.html)\n",
    "    * [better semantics for python reprs](2024-03-04-semantic-outputs.html)\n",
    "* automated tests\n",
    "* executing notebooks\n"
   ]
  },
  {
   "cell_type": "markdown",
   "id": "1a4b23f6-38b5-4d43-b63c-6e6d7f433f59",
   "metadata": {},
   "source": [
    "https://github.com/deathbeds/nbconvert-a11y/wiki/accessible-computational-notebooks#accessibility-standards-and-recommendations"
   ]
  },
  {
   "cell_type": "code",
   "execution_count": null,
   "id": "af454dec-91bb-458e-a12f-4bbbc29679b2",
   "metadata": {},
   "outputs": [],
   "source": []
  },
  {
   "cell_type": "code",
   "execution_count": 5,
   "id": "84964bf7-d4ab-45cf-97d9-578bfd98c947",
   "metadata": {},
   "outputs": [
    {
     "data": {
      "text/html": [
       "<h3><a href=\"https://science.nasa.gov/mission/hubble/multimedia/sonifications/\">data sonification - westerlund 2</a></h3>\n",
       "\n",
       "<blockquote>\n",
       "This is a cluster of young stars – about one to two million years old – located about 20,000 light-years from Earth. In its visual image form, data from Hubble (green and blue) reveals thick clouds where stars are forming, while X-rays seen by Chandra (purple) penetrate through that haze. In the sonified version of this data, sounds sweep from left to right across the field of view with brighter light producing louder sound. The pitch of the notes indicates the vertical position of the sources in the image with the higher pitches towards the top of the image. The Hubble data is played by strings, either plucked for individual stars or bowed for diffuse clouds. Chandra’s X-ray data is represented by bells, and the more diffuse X-ray light is played by more sustained tones.\n",
       "</blockquote>\n",
       "\n",
       "<iframe width=\"840\" height=\"473\" src=\"https://www.youtube.com/embed/ESz8Cvirh00\" title=\"Data Sonification: Westerlund 2 (Multiwavelength)\" frameborder=\"0\" allow=\"accelerometer; autoplay; clipboard-write; encrypted-media; gyroscope; picture-in-picture; web-share\" allowfullscreen></iframe>\n"
      ],
      "text/plain": [
       "<IPython.core.display.HTML object>"
      ]
     },
     "metadata": {},
     "output_type": "display_data"
    }
   ],
   "source": [
    "%%html\n",
    "<h3><a href=\"https://science.nasa.gov/mission/hubble/multimedia/sonifications/\">data sonification - westerlund 2</a></h3>\n",
    "\n",
    "<blockquote>\n",
    "This is a cluster of young stars – about one to two million years old – located about 20,000 light-years from Earth. In its visual image form, data from Hubble (green and blue) reveals thick clouds where stars are forming, while X-rays seen by Chandra (purple) penetrate through that haze. In the sonified version of this data, sounds sweep from left to right across the field of view with brighter light producing louder sound. The pitch of the notes indicates the vertical position of the sources in the image with the higher pitches towards the top of the image. The Hubble data is played by strings, either plucked for individual stars or bowed for diffuse clouds. Chandra’s X-ray data is represented by bells, and the more diffuse X-ray light is played by more sustained tones.\n",
    "</blockquote>\n",
    "\n",
    "<iframe width=\"840\" height=\"473\" src=\"https://www.youtube.com/embed/ESz8Cvirh00\" title=\"Data Sonification: Westerlund 2 (Multiwavelength)\" frameborder=\"0\" allow=\"accelerometer; autoplay; clipboard-write; encrypted-media; gyroscope; picture-in-picture; web-share\" allowfullscreen></iframe>"
   ]
  }
 ],
 "metadata": {
  "kernelspec": {
   "display_name": "Python [conda env:p311] *",
   "language": "python",
   "name": "conda-env-p311-py"
  },
  "language_info": {
   "codemirror_mode": {
    "name": "ipython",
    "version": 3
   },
   "file_extension": ".py",
   "mimetype": "text/x-python",
   "name": "python",
   "nbconvert_exporter": "python",
   "pygments_lexer": "ipython3",
   "version": "3.11.3"
  },
  "widgets": {
   "application/vnd.jupyter.widget-state+json": {
    "state": {},
    "version_major": 2,
    "version_minor": 0
   }
  }
 },
 "nbformat": 4,
 "nbformat_minor": 5
}
