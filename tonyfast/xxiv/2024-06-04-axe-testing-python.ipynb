{
 "cells": [
  {
   "cell_type": "markdown",
   "id": "8ff86c79-c976-462b-b73c-53f11e0ad811",
   "metadata": {},
   "source": [
    "# python interface for handling axe accessibility tests\n",
    "\n",
    "reasoning with accessibility tests requires interacting with the contents of the report.\n",
    "i desire a really smooth interactive experience that lets me test many things at once and interact with the data."
   ]
  },
  {
   "cell_type": "code",
   "execution_count": 1,
   "id": "afa1613e-c6ad-4016-97eb-662ae67f2cbe",
   "metadata": {},
   "outputs": [],
   "source": [
    "from nbconvert_a11y.axe import Browser, AxeExceptions, aria_input_field_name, image_alt, serious, aria_allowed_role"
   ]
  },
  {
   "cell_type": "code",
   "execution_count": 3,
   "id": "8ee02a29-f883-45a2-9146-c2eeb6bee1d4",
   "metadata": {},
   "outputs": [],
   "source": [
    "async for page in Browser.pages(Path(\"../../../nbconvert-a11y/tests/exports/html/lorenz-executed-section.html\")):\n",
    "    violations = await AxeExceptions.from_page(page)"
   ]
  },
  {
   "cell_type": "markdown",
   "id": "ac1a887e-0164-4070-9963-371ed6d4a2a0",
   "metadata": {},
   "source": [
    "it is hard to have zero accessibility violations. we can use tests to quantify inaccessibility rather than conveniently ignore things. measuring inaccessibility is a good baseline improving accessibility. since zero accessibility violations is a huge accomplishment we use our `xfail` to indicate violations we are aware of."
   ]
  },
  {
   "cell_type": "code",
   "execution_count": 3,
   "id": "f384a532-3e2d-4ec6-8139-2a2025adb6cf",
   "metadata": {},
   "outputs": [],
   "source": [
    "assert violations.xfail(aria_input_field_name, image_alt)"
   ]
  },
  {
   "cell_type": "markdown",
   "id": "0db6c1cc-7299-43b6-9300-2b1464705377",
   "metadata": {},
   "source": [
    "assert is not required; it is used to state that there is indeed a test at this place in the code.\n",
    "if there is a failure the assertion never reached, otherwise the methods returns true."
   ]
  },
  {
   "cell_type": "markdown",
   "id": "37e15ebd-d9f5-4557-a5b6-cbe5c14b010c",
   "metadata": {},
   "source": [
    "the statement above is shorthand for the following representations using modern python syntax for exception groups."
   ]
  },
  {
   "cell_type": "code",
   "execution_count": 4,
   "id": "10e4e6af-ae39-49c0-8347-5b664cb4a7a2",
   "metadata": {},
   "outputs": [],
   "source": [
    "try:\n",
    "    assert violations.xfail(), \"there are user content accessibility violations\"\n",
    "except* image_alt: pass\n",
    "except* aria_input_field_name: pass"
   ]
  },
  {
   "cell_type": "code",
   "execution_count": 5,
   "id": "87fe9c2e-c1e1-4f7d-9a97-56f80c9444a5",
   "metadata": {},
   "outputs": [
    {
     "name": "stderr",
     "output_type": "stream",
     "text": [
      "  + Exception Group Traceback (most recent call last):\n",
      "  |   File \"/home/tbone/mambaforge/envs/p311/lib/python3.11/site-packages/IPython/core/interactiveshell.py\", line 3548, in run_code\n",
      "  |     exec(code_obj, self.user_global_ns, self.user_ns)\n",
      "  |   File \"/tmp/ipykernel_74808/1746942673.py\", line 1, in <module>\n",
      "  |     assert violations.xfail()\n",
      "  |            ^^^^^^^^^^^^^^^^^^\n",
      "  |   File \"/home/tbone/Documents/nbconvert-a11y/nbconvert_a11y/base_axe_exceptions.py\", line 12, in xfail\n",
      "  |     raise self\n",
      "  |   File \"/home/tbone/Documents/nbconvert-a11y/nbconvert_a11y/base_axe_exceptions.py\", line 12, in xfail\n",
      "  |     raise self\n",
      "  |   File \"/home/tbone/Documents/nbconvert-a11y/nbconvert_a11y/base_axe_exceptions.py\", line 12, in xfail\n",
      "  |     raise self\n",
      "  | ExceptionGroup: 1 serious, 1 critical accessibility violations (2 sub-exceptions)\n",
      "  | ARIA input fields must have an accessible name\n",
      "  | https://dequeuniversity.com/rules/axe/4.8/aria-input-field-name?application=axeAPI\n",
      "  | Images must have alternate text\n",
      "  | https://dequeuniversity.com/rules/axe/4.8/image-alt?application=axeAPI\n",
      "  +-+---------------- 1 ----------------\n",
      "    | nbconvert_a11y.base_axe_exceptions.serious_aria_input_field_name: ('Fix any of the following:\\n  aria-label attribute does not exist or is empty\\n  aria-labelledby attribute does not exist, references elements that do not exist or references elements that are empty\\n  Element has no title attribute', {'id': 'aria-input-field-name', 'impact': 'serious', 'tags': ['cat.aria', 'wcag2a', 'wcag412', 'TTv5', 'TT5.c', 'EN-301-549', 'EN-9.4.1.2', 'ACT'], 'description': 'Ensures every ARIA input field has an accessible name', 'help': 'ARIA input fields must have an accessible name', 'helpUrl': 'https://dequeuniversity.com/rules/axe/4.8/aria-input-field-name?application=axeAPI', 'nodes': [{'any': [{'id': 'aria-label', 'data': None, 'relatedNodes': [], 'impact': 'serious', 'message': 'aria-label attribute does not exist or is empty'}, {'id': 'aria-labelledby', 'data': None, 'relatedNodes': [], 'impact': 'serious', 'message': 'aria-labelledby attribute does not exist, references elements that do not exist or references elements that are empty'}, {'id': 'non-empty-title', 'data': {'messageKey': 'noAttr'}, 'relatedNodes': [], 'impact': 'serious', 'message': 'Element has no title attribute'}], 'all': [], 'none': [], 'impact': 'serious', 'html': '<div class=\"noUi-handle noUi-handle-lower\" data-handle=\"0\" tabindex=\"0\" role=\"slider\" aria-orientati', 'target': ['div[aria-valuetext=\"10\"]'], 'failureSummary': 'Fix any of the following:\\n  aria-label attribute does not exist or is empty\\n  aria-labelledby attribute does not exist, references elements that do not exist or references elements that are empty\\n  Element has no title attribute'}, {'any': [{'id': 'aria-label', 'data': None, 'relatedNodes': [], 'impact': 'serious', 'message': 'aria-label attribute does not exist or is empty'}, {'id': 'aria-labelledby', 'data': None, 'relatedNodes': [], 'impact': 'serious', 'message': 'aria-labelledby attribute does not exist, references elements that do not exist or references elements that are empty'}, {'id': 'non-empty-title', 'data': {'messageKey': 'noAttr'}, 'relatedNodes': [], 'impact': 'serious', 'message': 'Element has no title attribute'}], 'all': [], 'none': [], 'impact': 'serious', 'html': '<div class=\"noUi-handle noUi-handle-lower\" data-handle=\"0\" tabindex=\"0\" role=\"slider\" aria-orientati', 'target': ['div[aria-valuemin=\"-2.7\"]'], 'failureSummary': 'Fix any of the following:\\n  aria-label attribute does not exist or is empty\\n  aria-labelledby attribute does not exist, references elements that do not exist or references elements that are empty\\n  Element has no title attribute'}, {'any': [{'id': 'aria-label', 'data': None, 'relatedNodes': [], 'impact': 'serious', 'message': 'aria-label attribute does not exist or is empty'}, {'id': 'aria-labelledby', 'data': None, 'relatedNodes': [], 'impact': 'serious', 'message': 'aria-labelledby attribute does not exist, references elements that do not exist or references elements that are empty'}, {'id': 'non-empty-title', 'data': {'messageKey': 'noAttr'}, 'relatedNodes': [], 'impact': 'serious', 'message': 'Element has no title attribute'}], 'all': [], 'none': [], 'impact': 'serious', 'html': '<div class=\"noUi-handle noUi-handle-lower\" data-handle=\"0\" tabindex=\"0\" role=\"slider\" aria-orientati', 'target': ['div[aria-valuetext=\"28\"]'], 'failureSummary': 'Fix any of the following:\\n  aria-label attribute does not exist or is empty\\n  aria-labelledby attribute does not exist, references elements that do not exist or references elements that are empty\\n  Element has no title attribute'}]})\n",
      "    +---------------- 2 ----------------\n",
      "    | nbconvert_a11y.base_axe_exceptions.critical_image_alt: ('Fix any of the following:\\n  Element does not have an alt attribute\\n  aria-label attribute does not exist or is empty\\n  aria-labelledby attribute does not exist, references elements that do not exist or references elements that are empty\\n  Element has no title attribute\\n  Element\\'s default semantics were not overridden with role=\"none\" or role=\"presentation\"', {'id': 'image-alt', 'impact': 'critical', 'tags': ['cat.text-alternatives', 'wcag2a', 'wcag111', 'section508', 'section508.22.a', 'TTv5', 'TT7.a', 'TT7.b', 'EN-301-549', 'EN-9.1.1.1', 'ACT'], 'description': 'Ensures <img> elements have alternate text or a role of none or presentation', 'help': 'Images must have alternate text', 'helpUrl': 'https://dequeuniversity.com/rules/axe/4.8/image-alt?application=axeAPI', 'nodes': [{'any': [{'id': 'has-alt', 'data': None, 'relatedNodes': [], 'impact': 'critical', 'message': 'Element does not have an alt attribute'}, {'id': 'aria-label', 'data': None, 'relatedNodes': [], 'impact': 'critical', 'message': 'aria-label attribute does not exist or is empty'}, {'id': 'aria-labelledby', 'data': None, 'relatedNodes': [], 'impact': 'critical', 'message': 'aria-labelledby attribute does not exist, references elements that do not exist or references elements that are empty'}, {'id': 'non-empty-title', 'data': {'messageKey': 'noAttr'}, 'relatedNodes': [], 'impact': 'critical', 'message': 'Element has no title attribute'}, {'id': 'presentational-role', 'data': None, 'relatedNodes': [], 'impact': 'critical', 'message': 'Element\\'s default semantics were not overridden with role=\"none\" or role=\"presentation\"'}], 'all': [], 'none': [], 'impact': 'critical', 'html': '<img src=\"data:image/png;base64,iVBORw0KGgoAAAANSUhEUgAAAfQAAAHzCAYAAADW0+8yAAAAOXRFWHRTb2Z0d2FyZQBN', 'target': ['.jp-RenderedImage > img'], 'failureSummary': 'Fix any of the following:\\n  Element does not have an alt attribute\\n  aria-label attribute does not exist or is empty\\n  aria-labelledby attribute does not exist, references elements that do not exist or references elements that are empty\\n  Element has no title attribute\\n  Element\\'s default semantics were not overridden with role=\"none\" or role=\"presentation\"'}]})\n",
      "    +------------------------------------\n"
     ]
    }
   ],
   "source": [
    "assert violations.xfail()"
   ]
  }
 ],
 "metadata": {
  "kernelspec": {
   "display_name": "Python [conda env:p311] *",
   "language": "python",
   "name": "conda-env-p311-py"
  },
  "language_info": {
   "codemirror_mode": {
    "name": "ipython",
    "version": 3
   },
   "file_extension": ".py",
   "mimetype": "text/x-python",
   "name": "python",
   "nbconvert_exporter": "python",
   "pygments_lexer": "ipython3",
   "version": "3.11.3"
  },
  "widgets": {
   "application/vnd.jupyter.widget-state+json": {
    "state": {},
    "version_major": 2,
    "version_minor": 0
   }
  }
 },
 "nbformat": 4,
 "nbformat_minor": 5
}
