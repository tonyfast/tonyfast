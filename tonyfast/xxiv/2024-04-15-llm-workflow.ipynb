{
 "cells": [
  {
   "cell_type": "markdown",
   "id": "b7e3723d-ff31-426a-b07c-4e737fb58a79",
   "metadata": {},
   "source": [
    "## integrating llms into my notebook worflows.\n",
    "\n",
    "im finally giving in and integrating llms into my notebooks. i'll eventually need to experiment with their accessibility. i do believe that llms are assistive technology is a familiar way to interactive computing, one compute rich and the other compute poor. i'll learn to understand this technology as an accessibility tool. it feels like the sharper image selling accessibility to abled people at high markups.\n",
    "\n",
    "to use on the daily i want this feature to be lazy. \n",
    "i'll start using huggingfae and if i dig this life then ill edit this document accordingly.\n",
    "i want it as a magic and a code fence for `midgy`. i want caching."
   ]
  },
  {
   "cell_type": "code",
   "execution_count": 4,
   "id": "b9e5c96a-f6d6-40fa-9350-ddc35b8cbf1a",
   "metadata": {},
   "outputs": [],
   "source": [
    "    import langchain.cache, langchain.globals, langchain.chains.conversation.base, langchain.chains.conversation.memory, langchain.prompts.prompt\n",
    "    import langchain_community.chat_models.huggingface\n",
    "\n",
    "    if \"initialize\" not in locals():\n",
    "        @functools.lru_cache\n",
    "        def initialize():\n",
    "            langchain.globals.set_llm_cache(langchain.cache.SQLiteCache())\n",
    "            __import__(\"dotenv\").load_dotenv()\n",
    "    initialize()"
   ]
  },
  {
   "cell_type": "markdown",
   "id": "bb31293b-929c-4a6f-a695-178b24419c14",
   "metadata": {},
   "source": [
    "https://python.langchain.com/docs/modules/model_io/chat/chat_model_caching/"
   ]
  },
  {
   "cell_type": "code",
   "execution_count": 2,
   "id": "37e03fde-1b2c-4b98-8db5-046e539f43e9",
   "metadata": {},
   "outputs": [
    {
     "data": {
      "text/html": [
       "<p>create our <code>llm</code> using the default <code>parser</code> values</p>\n",
       "<pre><code>parser = argparse.ArgumentParser(prog=&quot;🗩&quot;)\n",
       "parser.add_argument(&quot;repo_id&quot;,  type=str, nargs=&quot;?&quot;, default=&quot;mistralai/Mistral-7B-Instruct-v0.2&quot;)\n",
       "parser.add_argument(&quot;-t&quot;, &quot;--max_new_tokens&quot;,  type=int, default=512)\n",
       "parser.add_argument(&quot;-k&quot;, &quot;--top_k&quot;,  type=int, default=30)\n",
       "parser.add_argument(&quot;-r&quot;, &quot;--repetition_penalty&quot;, type=float, default=1.03)\n",
       "</code></pre>\n",
       "<p>ensure that our creditials were accepted.</p>\n",
       "<pre><code>    &gt;&gt;&gt; registration.stdout\n",
       "    'Token...Login successful...'\n",
       "</code></pre>\n",
       "<pre><code>%%capture registration\n",
       "llm = langchain_community.chat_models.huggingface.HuggingFaceEndpoint(**vars(parser.parse_args([])))</code></pre>\n"
      ],
      "text/plain": [
       "<IPython.core.display.HTML object>"
      ]
     },
     "metadata": {},
     "output_type": "display_data"
    }
   ],
   "source": [
    "%%\n",
    "create our `llm` using the default `parser` values\n",
    "\n",
    "    parser = argparse.ArgumentParser(prog=\"🗩\")\n",
    "    parser.add_argument(\"repo_id\",  type=str, nargs=\"?\", default=\"mistralai/Mistral-7B-Instruct-v0.2\")\n",
    "    parser.add_argument(\"-t\", \"--max_new_tokens\",  type=int, default=512)\n",
    "    parser.add_argument(\"-k\", \"--top_k\",  type=int, default=30)\n",
    "    parser.add_argument(\"-r\", \"--repetition_penalty\", type=float, default=1.03)\n",
    "\n",
    "ensure that our creditials were accepted.\n",
    "\n",
    "    >>> registration.stdout\n",
    "    'Token...Login successful...'\n",
    "\n",
    "    %%capture registration\n",
    "    llm = langchain_community.chat_models.huggingface.HuggingFaceEndpoint(**vars(parser.parse_args([])))"
   ]
  },
  {
   "attachments": {},
   "cell_type": "markdown",
   "id": "666d1dea-5ddd-4db0-96b2-7a6a9ffb9318",
   "metadata": {},
   "source": [
    "i figure it makes sense to curate my own prompt template over time. i'll start with this template and modify the files on disk\n",
    "\n",
    "https://python.langchain.com/docs/modules/memory/conversational_customization/\n",
    "\n",
    "```ipython\n",
    "%%file prompt_template.md\n",
    "The following is a friendly conversation between a human and an AI. \n",
    "The AI is talkative and provides lots of specific details from its context. \n",
    "If the AI does not know the answer to a question, it truthfully says it does not know.\n",
    "The AI always responds in well structured markdown with headings beginning at level 2.\n",
    "\n",
    "Current conversation:\n",
    "{history}\n",
    "🥩: {input}\n",
    "🤗:\n",
    "```"
   ]
  },
  {
   "cell_type": "markdown",
   "id": "8ba1efbe-bba9-4dca-839c-a28b39b7af5c",
   "metadata": {},
   "source": [
    "establish a conversation chain. we'll want to name these things and curate them over time."
   ]
  },
  {
   "cell_type": "code",
   "execution_count": 5,
   "id": "6113e833-bba8-4db3-b9fd-b7feee0f4ddc",
   "metadata": {},
   "outputs": [],
   "source": [
    "    conversation = langchain.chains.conversation.base.ConversationChain(\n",
    "        prompt=langchain.prompts.prompt.PromptTemplate(input_variables=[\"history\", \"input\"], template=Path(\"prompt_template.md\").read_text()),\n",
    "        llm=llm,\n",
    "        memory=langchain.chains.conversation.memory.ConversationBufferMemory(ai_prefix=\"🤗\", human_prefix=\"🥩\"),\n",
    "    )"
   ]
  },
  {
   "cell_type": "code",
   "execution_count": 6,
   "id": "3413a928-f8b4-4e72-95b7-1f78ba0ebcbd",
   "metadata": {},
   "outputs": [],
   "source": [
    "    async def invoke(input):\n",
    "        global result\n",
    "        try:\n",
    "            id = display(IPython.display.HTML(shell.tangle.parser.parser.render(F\"pending\\n: > {input}\")), display_id=True)\n",
    "            return id\n",
    "        finally:\n",
    "            result = await conversation.ainvoke(input)\n",
    "            left, sep, right = result[\"response\"].rpartition(\"🤗:\")\n",
    "            id.update(IPython.display.Markdown(right))"
   ]
  },
  {
   "cell_type": "markdown",
   "id": "730c8590-95c2-4c80-81a2-0cf6bec700eb",
   "metadata": {},
   "source": [
    "register the magic functions for `chat`"
   ]
  },
  {
   "cell_type": "code",
   "execution_count": 7,
   "id": "c2017cbc-829e-4793-b4c7-bddb0ba5e840",
   "metadata": {},
   "outputs": [],
   "source": [
    "    @functools.partial(shell.register_magic_function, magic_kind=\"line_cell\")\n",
    "    def chat(line, cell=None):\n",
    "        if cell:\n",
    "            asyncio.create_task(invoke(cell))"
   ]
  },
  {
   "cell_type": "markdown",
   "id": "fc2ec565-a6ff-4a8d-9105-027f6673cb50",
   "metadata": {},
   "source": [
    "## conclusion"
   ]
  },
  {
   "cell_type": "markdown",
   "id": "d6b5b654-4f89-4618-a682-bbb5ba0acc0a",
   "metadata": {},
   "source": [
    "an overall theme is curating your llm over time. the feeling of control and consent is important in the interactive computing experience."
   ]
  },
  {
   "cell_type": "markdown",
   "id": "6cfd114e-0367-41ed-a8bf-8fc6a44eda16",
   "metadata": {},
   "source": [
    "## some queries i made making this"
   ]
  },
  {
   "cell_type": "code",
   "execution_count": 8,
   "id": "557e070b-6850-491d-9f93-c7a9f15eb532",
   "metadata": {},
   "outputs": [
    {
     "data": {
      "text/markdown": [
       "## Understanding CSS Specificity\n",
       "\n",
       "CSS Specificity is a mechanism used by the Cascading Style Sheets (CSS) to determine which style property should be applied to an HTML element when there are multiple conflicting declarations for that property.\n",
       "\n",
       "Here's a breakdown of how CSS Specificity works:\n",
       "\n",
       "### Inline Styles\n",
       "\n",
       "Styles defined directly on the HTML element using the `style` attribute take precedence over all other styles.\n",
       "\n",
       "```html\n",
       "<div id=\"my-div\" style=\"color: red;\">This text will be red.</div>\n",
       "\n",
       "<style>\n",
       "  #my-div {\n",
       "    color: blue;\n",
       "  }\n",
       "</style>\n",
       "```\n",
       "In this example, the inline style on the `div` element with the id `my-div` will override the `color` property in the external stylesheet.\n",
       "\n",
       "### ID Selector\n",
       "\n",
       "Selectors that use the `#` symbol to target an element by its id have the highest specificity value, at 1000.\n",
       "\n",
       "```css\n",
       "#my-id {\n",
       "  color: green;\n",
       "}\n",
       "```\n",
       "\n",
       "### Class and Attribute Selectors\n",
       "\n",
       "Class and attribute selectors have a specificity value of 10.\n",
       "\n",
       "```css\n",
       ".my-class {\n",
       "  color: yellow;\n",
       "}\n",
       "\n",
       "[data-custom=\"value\"] {\n",
       "  color: orange;\n",
       "}\n",
       "```\n",
       "\n",
       "### Type Selectors and Pseudo-Classes\n",
       "\n",
       "Type selectors (selecting elements based on their tag name) and pseudo-classes have a specificity value of 1.\n",
       "\n",
       "```css\n",
       "p {\n",
       "  color: black;\n",
       "}\n",
       "\n",
       "p:hover {\n",
       "  color: gray;\n",
       "}\n",
       "```\n",
       "\n",
       "### Importance\n",
       "\n",
       "You can also manually increase the specificity of a rule by adding the `!important` keyword. Be careful with this, as it may make debugging more difficult.\n",
       "\n",
       "```css\n",
       ".my-class {\n",
       "  color: yellow;\n",
       "}\n",
       "\n",
       ".my-class {\n",
       "  color: red !important;\n",
       "}\n",
       "```\n",
       "In this example, the second rule with the `!important` keyword takes precedence over the first rule.\n",
       "\n",
       "Keep in mind that the order in which the styles are defined also plays a role in determining which one takes effect,"
      ],
      "text/plain": [
       "<IPython.core.display.Markdown object>"
      ]
     },
     "metadata": {},
     "output_type": "display_data"
    }
   ],
   "source": [
    "%%chat\n",
    "how do i understand css specificity?"
   ]
  },
  {
   "cell_type": "code",
   "execution_count": 9,
   "id": "8e08d5ed-02a1-448d-b7de-082048a7ba53",
   "metadata": {},
   "outputs": [
    {
     "data": {
      "text/markdown": [
       "## Tagged PDF and HTML Relationship\n",
       "\n",
       "A Tagged PDF (PDF/A or Tagged PDF/A) is a type of Portable Document Format (PDF) file that contains structure information (tags) in addition to the visual representation of the document. These tags describe the meaning of the content, allowing assistive technology and search engines to access and understand the information within the PDF.\n",
       "\n",
       "HTML, on the other hand, is a markup language used for creating the structure, content, and presentation of web pages. HTML files are text-based and consist of a hierarchical tree-like structure with elements and tags.\n",
       "\n",
       "Regarding your second question, it is technically possible to create a Tagged PDF from well-formed HTML using dedicated tools like Adobe Acrobat or third-party libraries such as iText or Apache PDFBox. However, the process involves converting the HTML to XML, applying XSL-FO stylesheets to transform the XML into Tagged PDF format, and finally exporting the document as a Tagged PDF. This conversion process can be complex, and the resulting Tagged PDF may not perfectly preserve all the formatting and layout of the original HTML document."
      ],
      "text/plain": [
       "<IPython.core.display.Markdown object>"
      ]
     },
     "metadata": {},
     "output_type": "display_data"
    },
    {
     "data": {
      "text/plain": [
       "<DisplayHandle display_id=1bcf2ddf37a486c47bde440f32c99269>"
      ]
     },
     "execution_count": 9,
     "metadata": {},
     "output_type": "execute_result"
    }
   ],
   "source": [
    "await invoke(\"what is a tagged pdf and how does it relate to an html document? can tagged pdf be made from well formed html?\")"
   ]
  },
  {
   "cell_type": "code",
   "execution_count": 10,
   "id": "8f28844d-e686-4481-a5e5-d6cacf04e55e",
   "metadata": {},
   "outputs": [
    {
     "data": {
      "text/markdown": [
       "## Web Content Accessibility Guidelines (WCAG) and PDF\n",
       "\n",
       "Yes, Web Content Accessibility Guidelines (WCAG) apply to PDF documents to ensure they are accessible to people with disabilities. WCAG provides a set of recommendations for making web content more accessible. Although WCAG is primarily designed for web content, many of its principles can be applied to PDF documents to make them more accessible.\n",
       "\n",
       "To help you understand how to make PDFs accessible, the World Wide Web Consortium (W3C) has created an additional set of guidelines called the [Accessible PDF Metadata](https://www.w3.org/TR/pdf-accessibility-1/) (APM) specification. APM focuses on providing metadata that describes the structure and accessibility features of a PDF document.\n",
       "\n",
       "Here are some ways to make PDFs accessible:\n",
       "\n",
       "1. Use descriptive and meaningful text for all non-text content, such as images, graphs, and charts.\n",
       "2. Provide alternative text for images using the \"Alt Text\" tag.\n",
       "3. Make sure the document is tagged correctly, including headings, lists, tables, and other structural elements.\n",
       "4. Use proper color contrast for readability.\n",
       "5. Ensure all form fields are labeled and accessible.\n",
       "6. Add bookmarks and internal links to help users navigate through the document.\n",
       "7. Use clear and consistent language and formatting throughout the document.\n",
       "8. Use a logical reading order.\n",
       "\n",
       "For more detailed information, you can refer to the [PDF Accessibility Checklist](https://www.adobe.com/content/dam/acom/en/devnet/accessibility/pdfs/pdfs_accessibility_checklist.pdf) provided by Adobe.\n",
       "\n",
       "By following these guidelines, you can ensure that your PDF documents are accessible to as many users as possible, regardless of their abilities."
      ],
      "text/plain": [
       "<IPython.core.display.Markdown object>"
      ]
     },
     "metadata": {},
     "output_type": "display_data"
    },
    {
     "data": {
      "text/plain": [
       "<DisplayHandle display_id=3bb2b4603e2d884a4ba367ac1e0b8ebc>"
      ]
     },
     "execution_count": 10,
     "metadata": {},
     "output_type": "execute_result"
    }
   ],
   "source": [
    "await invoke(\"do web content accessibiity guidelines apply to pdf? is there a different standard? links are helpful.\")"
   ]
  },
  {
   "cell_type": "code",
   "execution_count": null,
   "id": "c68a105d-c244-4823-a07a-d3bc3bb5f53f",
   "metadata": {},
   "outputs": [
    {
     "data": {
      "text/html": [
       "<dl>\n",
       "<dt>pending</dt>\n",
       "<dd>\n",
       "<blockquote>\n",
       "<p>what are the major css apis or concepts like block contexts and 3d rendering?</p>\n",
       "</blockquote>\n",
       "</dd>\n",
       "</dl>\n"
      ],
      "text/plain": [
       "<IPython.core.display.HTML object>"
      ]
     },
     "metadata": {},
     "output_type": "display_data"
    }
   ],
   "source": [
    "await invoke(\"what are the major css apis or concepts like block contexts and 3d rendering?\")"
   ]
  },
  {
   "cell_type": "code",
   "execution_count": null,
   "id": "bf6c8d1d-3f2e-462a-90de-79e808816901",
   "metadata": {},
   "outputs": [],
   "source": [
    "await invoke(\"could you tell me some more core features of css so that i can better understand ALL of the capabilities\")"
   ]
  },
  {
   "cell_type": "code",
   "execution_count": null,
   "id": "bf84f3f5-29cd-4cb6-9dc4-69546c8c088b",
   "metadata": {},
   "outputs": [],
   "source": [
    "await invoke(\"what are some of the most advanced css concepts a seasoned developer will encounter?\")"
   ]
  }
 ],
 "metadata": {
  "kernelspec": {
   "display_name": "Python [conda env:p311] *",
   "language": "python",
   "name": "conda-env-p311-py"
  },
  "language_info": {
   "codemirror_mode": {
    "name": "ipython",
    "version": 3
   },
   "file_extension": ".py",
   "mimetype": "text/x-python",
   "name": "python",
   "nbconvert_exporter": "python",
   "pygments_lexer": "ipython3",
   "version": "3.11.3"
  },
  "widgets": {
   "application/vnd.jupyter.widget-state+json": {
    "state": {},
    "version_major": 2,
    "version_minor": 0
   }
  }
 },
 "nbformat": 4,
 "nbformat_minor": 5
}
