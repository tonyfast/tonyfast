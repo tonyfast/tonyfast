{
 "cells": [
  {
   "cell_type": "markdown",
   "id": "c3a2dcbf-d0a8-4833-8551-a73869ae1a22",
   "metadata": {},
   "source": [
    "# sketch of configurable keyboard interaction patterns for tables\n",
    "\n",
    "html only without interactive javascript.\n",
    "table roles can be quite flexible depending upon the contents of the data.\n",
    "when we get to [`role=grid`](https://developer.mozilla.org/en-US/docs/Web/Accessibility/ARIA/Roles/grid_role#keyboard_interactions) and [`role=treegrid`](https://developer.mozilla.org/en-US/docs/Web/Accessibility/ARIA/Roles/treegrid_role#keyboard_interactions\n",
    ") we need to implement\n",
    "keyboard shortcuts for navigation and selection. the keyboard shortcuts should be configurable."
   ]
  },
  {
   "cell_type": "code",
   "execution_count": 1,
   "id": "6c3da227-243f-4ffb-898a-fca177621605",
   "metadata": {},
   "outputs": [],
   "source": [
    "from nbconvert_a11y.repr import get_table, new\n",
    "from nbconvert_a11y.table import aria"
   ]
  },
  {
   "cell_type": "markdown",
   "id": "d2854cbb-f366-4e11-8ef2-5c9dfeee8e80",
   "metadata": {},
   "source": [
    "\n",
    "grid and treegrid pattern appear the same\n",
    "\n",
    "need patterns for navigation and selection\n",
    "\n",
    "to design for accessibility we isolate every keyboard action as a button.\n",
    "each button element recieves an isolated function for a single action."
   ]
  },
  {
   "cell_type": "code",
   "execution_count": 7,
   "id": "6f4c4a2e-357e-4aca-ac6e-4b84b151552d",
   "metadata": {},
   "outputs": [
    {
     "data": {
      "text/html": [
       "<section aria-labelledby=\"ab2450e68-0769-448e-941c-ba66c0e0ec18-figcaption\"><figure><figcaption id=\"ab2450e68-0769-448e-941c-ba66c0e0ec18-figcaption\"></figcaption><table aria-colcount=\"5\" aria-rowcount=\"7\" id=\"ab2450e68-0769-448e-941c-ba66c0e0ec18\" role=\"table\" style=\"---0-min: 0; ---0-max: 2; ---0-diff: 2; ---0-magnitude: 1; --0-min: 0.2300; --0-max: 1.0833; --0-diff: 0.8533; --1-min: -0.8067; --1-max: 0.3505; --1-diff: 1.1572; --2-min: -1.0920; --2-max: 0.0387; --2-diff: 1.1307; --3-min: -0.6555; --3-max: 1.2720; --3-diff: 1.9275;\"><caption id=\"ab2450e68-0769-448e-941c-ba66c0e0ec18-caption\">pandas dataframe with 3 rows, 4 columns with 1 index levels and 1 columns levels.</caption><thead role=\"rowgroup\"><tr aria-selected=\"true\" role=\"row\"><th aria-colindex=\"1\" aria-current=\"true\" aria-rowindex=\"1\" aria-sort=\"ascending\" role=\"colheader\" tabindex=\"1\">None</th><th aria-colindex=\"2\" aria-rowindex=\"1\" aria-sort=\"ascending\" role=\"colheader\">0</th><th aria-colindex=\"3\" aria-rowindex=\"1\" role=\"colheader\">1</th><th aria-colindex=\"4\" aria-rowindex=\"1\" aria-sort=\"ascending\" role=\"colheader\">2</th><th aria-colindex=\"5\" aria-rowindex=\"1\" role=\"colheader\">3</th></tr></thead><tbody role=\"rowgroup\" style=\"--g: 0; \"><tr role=\"row\" style=\"---0: 0;  --0: 0.2300;  --1: -0.8067;  --2: -1.0920;  --3: 0.0112; \"><th aria-colindex=\"1\" aria-rowindex=\"2\" role=\"rowheader\" scope=\"row\">0</th><td aria-colindex=\"2\" aria-rowindex=\"2\" role=\"cell\">0.230</td><td aria-colindex=\"3\" aria-rowindex=\"2\" role=\"cell\">-0.807</td><td aria-colindex=\"4\" aria-rowindex=\"2\" role=\"cell\">-1.092</td><td aria-colindex=\"5\" aria-rowindex=\"2\" role=\"cell\">0.011</td></tr><tr role=\"row\" style=\"---0: 1;  --0: 0.3116;  --1: 0.3505;  --2: -0.8640;  --3: -0.6555; \"><th aria-colindex=\"1\" aria-rowindex=\"3\" role=\"rowheader\" scope=\"row\">1</th><td aria-colindex=\"2\" aria-rowindex=\"3\" role=\"cell\">0.312</td><td aria-colindex=\"3\" aria-rowindex=\"3\" role=\"cell\">0.351</td><td aria-colindex=\"4\" aria-rowindex=\"3\" role=\"cell\">-0.864</td><td aria-colindex=\"5\" aria-rowindex=\"3\" role=\"cell\">-0.655</td></tr><tr role=\"row\" style=\"---0: 2;  --0: 1.0833;  --1: -0.4786;  --2: 0.0387;  --3: 1.2720; \"><th aria-colindex=\"1\" aria-rowindex=\"4\" role=\"rowheader\" scope=\"row\">2</th><td aria-colindex=\"2\" aria-rowindex=\"4\" role=\"cell\">1.083</td><td aria-colindex=\"3\" aria-rowindex=\"4\" role=\"cell\">-0.479</td><td aria-colindex=\"4\" aria-rowindex=\"4\" role=\"cell\">0.039</td><td aria-colindex=\"5\" aria-rowindex=\"4\" role=\"cell\">1.272</td></tr></tbody><tfoot role=\"rowgroup\"><tr role=\"row\" style=\"--0: 0.2300;  --1: -0.8067;  --2: -1.0920;  --3: -0.6555; \"><th aria-colindex=\"1\" aria-rowindex=\"5\">min</th><td aria-colindex=\"2\" aria-rowindex=\"5\" role=\"cell\">0.230</td><td aria-colindex=\"3\" aria-rowindex=\"5\" role=\"cell\">-0.807</td><td aria-colindex=\"4\" aria-rowindex=\"5\" role=\"cell\">-1.092</td><td aria-colindex=\"5\" aria-rowindex=\"5\" role=\"cell\">-0.655</td></tr><tr role=\"row\" style=\"--0: 1.0833;  --1: 0.3505;  --2: 0.0387;  --3: 1.2720; \"><th aria-colindex=\"1\" aria-rowindex=\"6\">max</th><td aria-colindex=\"2\" aria-rowindex=\"6\" role=\"cell\">1.083</td><td aria-colindex=\"3\" aria-rowindex=\"6\" role=\"cell\">0.351</td><td aria-colindex=\"4\" aria-rowindex=\"6\" role=\"cell\">0.039</td><td aria-colindex=\"5\" aria-rowindex=\"6\" role=\"cell\">1.272</td></tr><tr role=\"row\" style=\"--0: 0.8533;  --1: 1.1572;  --2: 1.1307;  --3: 1.9275; \"><th aria-colindex=\"1\" aria-rowindex=\"7\">diff</th><td aria-colindex=\"2\" aria-rowindex=\"7\" role=\"cell\">0.853</td><td aria-colindex=\"3\" aria-rowindex=\"7\" role=\"cell\">1.157</td><td aria-colindex=\"4\" aria-rowindex=\"7\" role=\"cell\">1.131</td><td aria-colindex=\"5\" aria-rowindex=\"7\" role=\"cell\">1.928</td></tr></tfoot></table></figure><form aria-labelledby=\"ab2450e68-0769-448e-941c-ba66c0e0ec18-figcaption\" name=\"ab2450e68-0769-448e-941c-ba66c0e0ec18\"><fieldset><legend>navigation</legend><label><input checked=\"\" type=\"checkbox\"/>allow navigation</label><button aria-keyshortcuts=\"Ctrl+Home\">first cell in table</button><button aria-keyshortcuts=\"ArrowLeft\">left</button><button aria-keyshortcuts=\"ArrowRight\">right</button><button aria-keyshortcuts=\"ArrowUp\">up</button><button aria-keyshortcuts=\"ArrowDown\">down</button><button aria-keyshortcuts=\"Home\">first cell in row</button><button aria-keyshortcuts=\"End\">last cell in row</button><button aria-keyshortcuts=\"PageDown\">next group</button><button aria-keyshortcuts=\"PageUp\">prior group</button><button aria-keyshortcuts=\"Ctrl+End\">last cell in table</button></fieldset><fieldset><legend>selection</legend><label><input checked=\"\" type=\"checkbox\"/>allow selection</label><button aria-keyshortcuts=\"Ctrl+End\">select current column</button><button aria-keyshortcuts=\"Ctrl+End\">select current row</button><button aria-keyshortcuts=\"Shift+ArrowLeft\">select and focus cell to the left</button><button aria-keyshortcuts=\"Shift+ArrowRight\">select and focus cell to the right</button><button aria-keyshortcuts=\"Shift+ArrowUp\">select and focus cell above</button><button aria-keyshortcuts=\"Shift+ArrowDown\">select and focus cell below</button></fieldset></form><style>#None tr {  }</style><script>function setScroll(table) {\n",
       "    console.log(table);\n",
       "    let y = (table.scrollTop) / (table.scrollHeight - table.clientHeight);\n",
       "    let x = (table.scrollLeft) / (table.scrollWidth - table.clientWidth);\n",
       "    table.style.setProperty(\"--scroll-y\", y);\n",
       "    table.style.setProperty(\"--scroll-x\", x);\n",
       "    table.dataset.scrollY = y;\n",
       "    table.dataset.scrollX = x;\n",
       "}</script><script>document.querySelectorAll(\"#ab2450e68-0769-448e-941c-ba66c0e0ec18 [data-scroll]\").forEach(\n",
       "    (element) => {\n",
       "        element.onscroll = (element) => {setScroll(element.target)};\n",
       "    }\n",
       ")</script></section>"
      ],
      "text/plain": [
       "'<section aria-labelledby=\"ab2450e68-0769-448e-941c-ba66c0e0ec18-figcaption\"><figure><figcaption id=\"ab2450e68-0769-448e-941c-ba66c0e0ec18-figcaption\"></figcaption><table aria-colcount=\"5\" aria-rowcount=\"7\" id=\"ab2450e68-0769-448e-941c-ba66c0e0ec18\" role=\"table\" style=\"---0-min: 0; ---0-max: 2; ---0-diff: 2; ---0-magnitude: 1; --0-min: 0.2300; --0-max: 1.0833; --0-diff: 0.8533; --1-min: -0.8067; --1-max: 0.3505; --1-diff: 1.1572; --2-min: -1.0920; --2-max: 0.0387; --2-diff: 1.1307; --3-min: -0.6555; --3-max: 1.2720; --3-diff: 1.9275;\"><caption id=\"ab2450e68-0769-448e-941c-ba66c0e0ec18-caption\">pandas dataframe with 3 rows, 4 columns with 1 index levels and 1 columns levels.</caption><thead role=\"rowgroup\"><tr aria-selected=\"true\" role=\"row\"><th aria-colindex=\"1\" aria-current=\"true\" aria-rowindex=\"1\" aria-sort=\"ascending\" role=\"colheader\" tabindex=\"1\">None</th><th aria-colindex=\"2\" aria-rowindex=\"1\" aria-sort=\"ascending\" role=\"colheader\">0</th><th aria-colindex=\"3\" aria-rowindex=\"1\" role=\"colheader\">1</th><th aria-colindex=\"4\" aria-rowindex=\"1\" aria-sort=\"ascending\" role=\"colheader\">2</th><th aria-colindex=\"5\" aria-rowindex=\"1\" role=\"colheader\">3</th></tr></thead><tbody role=\"rowgroup\" style=\"--g: 0; \"><tr role=\"row\" style=\"---0: 0;  --0: 0.2300;  --1: -0.8067;  --2: -1.0920;  --3: 0.0112; \"><th aria-colindex=\"1\" aria-rowindex=\"2\" role=\"rowheader\" scope=\"row\">0</th><td aria-colindex=\"2\" aria-rowindex=\"2\" role=\"cell\">0.230</td><td aria-colindex=\"3\" aria-rowindex=\"2\" role=\"cell\">-0.807</td><td aria-colindex=\"4\" aria-rowindex=\"2\" role=\"cell\">-1.092</td><td aria-colindex=\"5\" aria-rowindex=\"2\" role=\"cell\">0.011</td></tr><tr role=\"row\" style=\"---0: 1;  --0: 0.3116;  --1: 0.3505;  --2: -0.8640;  --3: -0.6555; \"><th aria-colindex=\"1\" aria-rowindex=\"3\" role=\"rowheader\" scope=\"row\">1</th><td aria-colindex=\"2\" aria-rowindex=\"3\" role=\"cell\">0.312</td><td aria-colindex=\"3\" aria-rowindex=\"3\" role=\"cell\">0.351</td><td aria-colindex=\"4\" aria-rowindex=\"3\" role=\"cell\">-0.864</td><td aria-colindex=\"5\" aria-rowindex=\"3\" role=\"cell\">-0.655</td></tr><tr role=\"row\" style=\"---0: 2;  --0: 1.0833;  --1: -0.4786;  --2: 0.0387;  --3: 1.2720; \"><th aria-colindex=\"1\" aria-rowindex=\"4\" role=\"rowheader\" scope=\"row\">2</th><td aria-colindex=\"2\" aria-rowindex=\"4\" role=\"cell\">1.083</td><td aria-colindex=\"3\" aria-rowindex=\"4\" role=\"cell\">-0.479</td><td aria-colindex=\"4\" aria-rowindex=\"4\" role=\"cell\">0.039</td><td aria-colindex=\"5\" aria-rowindex=\"4\" role=\"cell\">1.272</td></tr></tbody><tfoot role=\"rowgroup\"><tr role=\"row\" style=\"--0: 0.2300;  --1: -0.8067;  --2: -1.0920;  --3: -0.6555; \"><th aria-colindex=\"1\" aria-rowindex=\"5\">min</th><td aria-colindex=\"2\" aria-rowindex=\"5\" role=\"cell\">0.230</td><td aria-colindex=\"3\" aria-rowindex=\"5\" role=\"cell\">-0.807</td><td aria-colindex=\"4\" aria-rowindex=\"5\" role=\"cell\">-1.092</td><td aria-colindex=\"5\" aria-rowindex=\"5\" role=\"cell\">-0.655</td></tr><tr role=\"row\" style=\"--0: 1.0833;  --1: 0.3505;  --2: 0.0387;  --3: 1.2720; \"><th aria-colindex=\"1\" aria-rowindex=\"6\">max</th><td aria-colindex=\"2\" aria-rowindex=\"6\" role=\"cell\">1.083</td><td aria-colindex=\"3\" aria-rowindex=\"6\" role=\"cell\">0.351</td><td aria-colindex=\"4\" aria-rowindex=\"6\" role=\"cell\">0.039</td><td aria-colindex=\"5\" aria-rowindex=\"6\" role=\"cell\">1.272</td></tr><tr role=\"row\" style=\"--0: 0.8533;  --1: 1.1572;  --2: 1.1307;  --3: 1.9275; \"><th aria-colindex=\"1\" aria-rowindex=\"7\">diff</th><td aria-colindex=\"2\" aria-rowindex=\"7\" role=\"cell\">0.853</td><td aria-colindex=\"3\" aria-rowindex=\"7\" role=\"cell\">1.157</td><td aria-colindex=\"4\" aria-rowindex=\"7\" role=\"cell\">1.131</td><td aria-colindex=\"5\" aria-rowindex=\"7\" role=\"cell\">1.928</td></tr></tfoot></table></figure><form aria-labelledby=\"ab2450e68-0769-448e-941c-ba66c0e0ec18-figcaption\" name=\"ab2450e68-0769-448e-941c-ba66c0e0ec18\"><fieldset><legend>navigation</legend><label><input checked=\"\" type=\"checkbox\"/>allow navigation</label><button aria-keyshortcuts=\"Ctrl+Home\">first cell in table</button><button aria-keyshortcuts=\"ArrowLeft\">left</button><button aria-keyshortcuts=\"ArrowRight\">right</button><button aria-keyshortcuts=\"ArrowUp\">up</button><button aria-keyshortcuts=\"ArrowDown\">down</button><button aria-keyshortcuts=\"Home\">first cell in row</button><button aria-keyshortcuts=\"End\">last cell in row</button><button aria-keyshortcuts=\"PageDown\">next group</button><button aria-keyshortcuts=\"PageUp\">prior group</button><button aria-keyshortcuts=\"Ctrl+End\">last cell in table</button></fieldset><fieldset><legend>selection</legend><label><input checked=\"\" type=\"checkbox\"/>allow selection</label><button aria-keyshortcuts=\"Ctrl+End\">select current column</button><button aria-keyshortcuts=\"Ctrl+End\">select current row</button><button aria-keyshortcuts=\"Shift+ArrowLeft\">select and focus cell to the left</button><button aria-keyshortcuts=\"Shift+ArrowRight\">select and focus cell to the right</button><button aria-keyshortcuts=\"Shift+ArrowUp\">select and focus cell above</button><button aria-keyshortcuts=\"Shift+ArrowDown\">select and focus cell below</button></fieldset></form><style>#None tr {  }</style><script>function setScroll(table) {\\n    console.log(table);\\n    let y = (table.scrollTop) / (table.scrollHeight - table.clientHeight);\\n    let x = (table.scrollLeft) / (table.scrollWidth - table.clientWidth);\\n    table.style.setProperty(\"--scroll-y\", y);\\n    table.style.setProperty(\"--scroll-x\", x);\\n    table.dataset.scrollY = y;\\n    table.dataset.scrollX = x;\\n}</script><script>document.querySelectorAll(\"#ab2450e68-0769-448e-941c-ba66c0e0ec18 [data-scroll]\").forEach(\\n    (element) => {\\n        element.onscroll = (element) => {setScroll(element.target)};\\n    }\\n)</script></section>'"
      ]
     },
     "execution_count": 7,
     "metadata": {},
     "output_type": "execute_result"
    },
    {
     "data": {
      "text/html": [
       "<p>use a random dataframe to seed our table region</p>\n",
       "<pre><code>section = get_table(DataFrame(numpy.random.randn(3, 4)))\n",
       "</code></pre>\n",
       "<p>define navigation actions</p>\n",
       "<pre><code>section.form.append(\n",
       "    new(&quot;fieldset&quot;, new(&quot;legend&quot;, &quot;navigation&quot;),\n",
       "    new(&quot;label&quot;, new(&quot;input&quot;, type=&quot;checkbox&quot;, checked=&quot;&quot;), &quot;allow navigation&quot;),    \n",
       "    new(&quot;button&quot;, &quot;first cell in table&quot;, **aria(keyshortcuts=&quot;Ctrl+Home&quot;)),\n",
       "    new(&quot;button&quot;, &quot;left&quot;, **aria(keyshortcuts=&quot;ArrowLeft&quot;)),\n",
       "    new(&quot;button&quot;, &quot;right&quot;, **aria(keyshortcuts=&quot;ArrowRight&quot;)),\n",
       "    new(&quot;button&quot;, &quot;up&quot;, **aria(keyshortcuts=&quot;ArrowUp&quot;)),\n",
       "    new(&quot;button&quot;, &quot;down&quot;, **aria(keyshortcuts=&quot;ArrowDown&quot;)),\n",
       "    new(&quot;button&quot;, &quot;first cell in row&quot;, **aria(keyshortcuts=&quot;Home&quot;)),\n",
       "    new(&quot;button&quot;, &quot;last cell in row&quot;, **aria(keyshortcuts=&quot;End&quot;)),\n",
       "    new(&quot;button&quot;, &quot;next group&quot;, **aria(keyshortcuts=&quot;PageDown&quot;)),\n",
       "    new(&quot;button&quot;, &quot;prior group&quot;, **aria(keyshortcuts=&quot;PageUp&quot;)),\n",
       "    new(&quot;button&quot;, &quot;last cell in table&quot;, **aria(keyshortcuts=&quot;Ctrl+End&quot;)),\n",
       "))\n",
       "</code></pre>\n",
       "<p>define selection actions</p>\n",
       "<pre><code>section.form.append(\n",
       "    new(&quot;fieldset&quot;, \n",
       "        new(&quot;legend&quot;, &quot;selection&quot;),\n",
       "        new(&quot;label&quot;, new(&quot;input&quot;, type=&quot;checkbox&quot;, checked=&quot;&quot;), &quot;allow selection&quot;),\n",
       "        new(&quot;button&quot;, &quot;select current column&quot;, **aria(keyshortcuts=&quot;Ctrl+End&quot;)),\n",
       "        new(&quot;button&quot;, &quot;select current row&quot;, **aria(keyshortcuts=&quot;Ctrl+End&quot;)),\n",
       "        new(&quot;button&quot;, &quot;select and focus cell to the left&quot;, **aria(keyshortcuts=&quot;Shift+ArrowLeft&quot;)),\n",
       "        new(&quot;button&quot;, &quot;select and focus cell to the right&quot;, **aria(keyshortcuts=&quot;Shift+ArrowRight&quot;)),\n",
       "        new(&quot;button&quot;, &quot;select and focus cell above&quot;, **aria(keyshortcuts=&quot;Shift+ArrowUp&quot;)),\n",
       "        new(&quot;button&quot;, &quot;select and focus cell below&quot;, **aria(keyshortcuts=&quot;Shift+ArrowDown&quot;)),\n",
       "    ))\n",
       "HTML(section)</code></pre>\n"
      ],
      "text/plain": [
       "<IPython.core.display.HTML object>"
      ]
     },
     "metadata": {},
     "output_type": "display_data"
    }
   ],
   "source": [
    "%%\n",
    "use a random dataframe to seed our table region\n",
    "\n",
    "    section = get_table(DataFrame(numpy.random.randn(3, 4)))\n",
    "define navigation actions\n",
    "\n",
    "    section.form.append(\n",
    "        new(\"fieldset\", new(\"legend\", \"navigation\"),\n",
    "        new(\"label\", new(\"input\", type=\"checkbox\", checked=\"\"), \"allow navigation\"),    \n",
    "        new(\"button\", \"first cell in table\", **aria(keyshortcuts=\"Ctrl+Home\")),\n",
    "        new(\"button\", \"left\", **aria(keyshortcuts=\"ArrowLeft\")),\n",
    "        new(\"button\", \"right\", **aria(keyshortcuts=\"ArrowRight\")),\n",
    "        new(\"button\", \"up\", **aria(keyshortcuts=\"ArrowUp\")),\n",
    "        new(\"button\", \"down\", **aria(keyshortcuts=\"ArrowDown\")),\n",
    "        new(\"button\", \"first cell in row\", **aria(keyshortcuts=\"Home\")),\n",
    "        new(\"button\", \"last cell in row\", **aria(keyshortcuts=\"End\")),\n",
    "        new(\"button\", \"next group\", **aria(keyshortcuts=\"PageDown\")),\n",
    "        new(\"button\", \"prior group\", **aria(keyshortcuts=\"PageUp\")),\n",
    "        new(\"button\", \"last cell in table\", **aria(keyshortcuts=\"Ctrl+End\")),\n",
    "    ))\n",
    "\n",
    "define selection actions\n",
    "\n",
    "    section.form.append(\n",
    "        new(\"fieldset\", \n",
    "            new(\"legend\", \"selection\"),\n",
    "            new(\"label\", new(\"input\", type=\"checkbox\", checked=\"\"), \"allow selection\"),\n",
    "            new(\"button\", \"select current column\", **aria(keyshortcuts=\"Ctrl+End\")),\n",
    "            new(\"button\", \"select current row\", **aria(keyshortcuts=\"Ctrl+End\")),\n",
    "            new(\"button\", \"select and focus cell to the left\", **aria(keyshortcuts=\"Shift+ArrowLeft\")),\n",
    "            new(\"button\", \"select and focus cell to the right\", **aria(keyshortcuts=\"Shift+ArrowRight\")),\n",
    "            new(\"button\", \"select and focus cell above\", **aria(keyshortcuts=\"Shift+ArrowUp\")),\n",
    "            new(\"button\", \"select and focus cell below\", **aria(keyshortcuts=\"Shift+ArrowDown\")),\n",
    "        ))\n",
    "    HTML(section)"
   ]
  },
  {
   "cell_type": "code",
   "execution_count": 10,
   "id": "6068f405-ea0b-446d-bac3-39cb29683e81",
   "metadata": {},
   "outputs": [
    {
     "data": {
      "text/html": [
       "<section aria-labelledby=\"a6a6fbadd-631a-463c-9777-92449a3d161f-figcaption\"><figure><figcaption id=\"a6a6fbadd-631a-463c-9777-92449a3d161f-figcaption\">keyboard shortcuts</figcaption><table aria-colcount=\"3\" aria-rowcount=\"17\" id=\"a6a6fbadd-631a-463c-9777-92449a3d161f\" role=\"table\"><caption id=\"a6a6fbadd-631a-463c-9777-92449a3d161f-caption\"></caption><thead role=\"rowgroup\"><tr aria-selected=\"true\" role=\"row\"><th aria-colindex=\"1\" aria-current=\"true\" aria-rowindex=\"1\" role=\"colheader\" tabindex=\"1\">action</th><th aria-colindex=\"2\" aria-rowindex=\"1\" role=\"colheader\">shortcut</th><th aria-colindex=\"3\" aria-rowindex=\"1\" role=\"colheader\">update</th></tr></thead><tbody role=\"rowgroup\" style=\"--g: 0; \"><tr role=\"row\" style=\"---0: first cell in table; \"><th aria-colindex=\"1\" aria-rowindex=\"2\" role=\"rowheader\" scope=\"row\">'first cell in table'</th><td aria-colindex=\"2\" aria-rowindex=\"2\" role=\"cell\"><kbd>Ctrl+Home</kbd></td><td aria-colindex=\"3\" aria-rowindex=\"2\" role=\"cell\"><button>update</button></td></tr><tr role=\"row\" style=\"---0: left; \"><th aria-colindex=\"1\" aria-rowindex=\"3\" role=\"rowheader\" scope=\"row\">'left'</th><td aria-colindex=\"2\" aria-rowindex=\"3\" role=\"cell\"><kbd>ArrowLeft</kbd></td><td aria-colindex=\"3\" aria-rowindex=\"3\" role=\"cell\"><button>update</button></td></tr><tr role=\"row\" style=\"---0: right; \"><th aria-colindex=\"1\" aria-rowindex=\"4\" role=\"rowheader\" scope=\"row\">'right'</th><td aria-colindex=\"2\" aria-rowindex=\"4\" role=\"cell\"><kbd>ArrowRight</kbd></td><td aria-colindex=\"3\" aria-rowindex=\"4\" role=\"cell\"><button>update</button></td></tr><tr role=\"row\" style=\"---0: up; \"><th aria-colindex=\"1\" aria-rowindex=\"5\" role=\"rowheader\" scope=\"row\">'up'</th><td aria-colindex=\"2\" aria-rowindex=\"5\" role=\"cell\"><kbd>ArrowUp</kbd></td><td aria-colindex=\"3\" aria-rowindex=\"5\" role=\"cell\"><button>update</button></td></tr><tr role=\"row\" style=\"---0: down; \"><th aria-colindex=\"1\" aria-rowindex=\"6\" role=\"rowheader\" scope=\"row\">'down'</th><td aria-colindex=\"2\" aria-rowindex=\"6\" role=\"cell\"><kbd>ArrowDown</kbd></td><td aria-colindex=\"3\" aria-rowindex=\"6\" role=\"cell\"><button>update</button></td></tr><tr role=\"row\" style=\"---0: first cell in row; \"><th aria-colindex=\"1\" aria-rowindex=\"7\" role=\"rowheader\" scope=\"row\">'first cell in row'</th><td aria-colindex=\"2\" aria-rowindex=\"7\" role=\"cell\"><kbd>Home</kbd></td><td aria-colindex=\"3\" aria-rowindex=\"7\" role=\"cell\"><button>update</button></td></tr><tr role=\"row\" style=\"---0: last cell in row; \"><th aria-colindex=\"1\" aria-rowindex=\"8\" role=\"rowheader\" scope=\"row\">'last cell in row'</th><td aria-colindex=\"2\" aria-rowindex=\"8\" role=\"cell\"><kbd>End</kbd></td><td aria-colindex=\"3\" aria-rowindex=\"8\" role=\"cell\"><button>update</button></td></tr><tr role=\"row\" style=\"---0: next group; \"><th aria-colindex=\"1\" aria-rowindex=\"9\" role=\"rowheader\" scope=\"row\">'next group'</th><td aria-colindex=\"2\" aria-rowindex=\"9\" role=\"cell\"><kbd>PageDown</kbd></td><td aria-colindex=\"3\" aria-rowindex=\"9\" role=\"cell\"><button>update</button></td></tr><tr role=\"row\" style=\"---0: prior group; \"><th aria-colindex=\"1\" aria-rowindex=\"10\" role=\"rowheader\" scope=\"row\">'prior group'</th><td aria-colindex=\"2\" aria-rowindex=\"10\" role=\"cell\"><kbd>PageUp</kbd></td><td aria-colindex=\"3\" aria-rowindex=\"10\" role=\"cell\"><button>update</button></td></tr><tr role=\"row\" style=\"---0: last cell in table; \"><th aria-colindex=\"1\" aria-rowindex=\"11\" role=\"rowheader\" scope=\"row\">'last cell in table'</th><td aria-colindex=\"2\" aria-rowindex=\"11\" role=\"cell\"><kbd>Ctrl+End</kbd></td><td aria-colindex=\"3\" aria-rowindex=\"11\" role=\"cell\"><button>update</button></td></tr><tr role=\"row\" style=\"---0: select current column; \"><th aria-colindex=\"1\" aria-rowindex=\"12\" role=\"rowheader\" scope=\"row\">'select current column'</th><td aria-colindex=\"2\" aria-rowindex=\"12\" role=\"cell\"><kbd>Ctrl+End</kbd></td><td aria-colindex=\"3\" aria-rowindex=\"12\" role=\"cell\"><button>update</button></td></tr><tr role=\"row\" style=\"---0: select current row; \"><th aria-colindex=\"1\" aria-rowindex=\"13\" role=\"rowheader\" scope=\"row\">'select current row'</th><td aria-colindex=\"2\" aria-rowindex=\"13\" role=\"cell\"><kbd>Ctrl+End</kbd></td><td aria-colindex=\"3\" aria-rowindex=\"13\" role=\"cell\"><button>update</button></td></tr><tr role=\"row\" style=\"---0: select and focus cell to the left; \"><th aria-colindex=\"1\" aria-rowindex=\"14\" role=\"rowheader\" scope=\"row\">'select and focus cell to the left'</th><td aria-colindex=\"2\" aria-rowindex=\"14\" role=\"cell\"><kbd>Shift+ArrowLeft</kbd></td><td aria-colindex=\"3\" aria-rowindex=\"14\" role=\"cell\"><button>update</button></td></tr><tr role=\"row\" style=\"---0: select and focus cell to the right; \"><th aria-colindex=\"1\" aria-rowindex=\"15\" role=\"rowheader\" scope=\"row\">'select and focus cell to the right'</th><td aria-colindex=\"2\" aria-rowindex=\"15\" role=\"cell\"><kbd>Shift+ArrowRight</kbd></td><td aria-colindex=\"3\" aria-rowindex=\"15\" role=\"cell\"><button>update</button></td></tr><tr role=\"row\" style=\"---0: select and focus cell above; \"><th aria-colindex=\"1\" aria-rowindex=\"16\" role=\"rowheader\" scope=\"row\">'select and focus cell above'</th><td aria-colindex=\"2\" aria-rowindex=\"16\" role=\"cell\"><kbd>Shift+ArrowUp</kbd></td><td aria-colindex=\"3\" aria-rowindex=\"16\" role=\"cell\"><button>update</button></td></tr><tr role=\"row\" style=\"---0: select and focus cell below; \"><th aria-colindex=\"1\" aria-rowindex=\"17\" role=\"rowheader\" scope=\"row\">'select and focus cell below'</th><td aria-colindex=\"2\" aria-rowindex=\"17\" role=\"cell\"><kbd>Shift+ArrowDown</kbd></td><td aria-colindex=\"3\" aria-rowindex=\"17\" role=\"cell\"><button>update</button></td></tr></tbody></table></figure><form aria-labelledby=\"a6a6fbadd-631a-463c-9777-92449a3d161f-figcaption\" name=\"a6a6fbadd-631a-463c-9777-92449a3d161f\"></form><style>#None tr { --action: var(---0);\n",
       "--shortcut: var(--0);\n",
       "--shortcut-min: var(--0-min);\n",
       "--shortcut-max: var(--0-max);\n",
       "--shortcut-diff: var(--0-diff);\n",
       "--update: var(--1);\n",
       "--update-min: var(--1-min);\n",
       "--update-max: var(--1-max);\n",
       "--update-diff: var(--1-diff);\n",
       " }</style><script>function setScroll(table) {\n",
       "    console.log(table);\n",
       "    let y = (table.scrollTop) / (table.scrollHeight - table.clientHeight);\n",
       "    let x = (table.scrollLeft) / (table.scrollWidth - table.clientWidth);\n",
       "    table.style.setProperty(\"--scroll-y\", y);\n",
       "    table.style.setProperty(\"--scroll-x\", x);\n",
       "    table.dataset.scrollY = y;\n",
       "    table.dataset.scrollX = x;\n",
       "}</script><script>document.querySelectorAll(\"#a6a6fbadd-631a-463c-9777-92449a3d161f [data-scroll]\").forEach(\n",
       "    (element) => {\n",
       "        element.onscroll = (element) => {setScroll(element.target)};\n",
       "    }\n",
       ")</script></section>"
      ],
      "text/plain": [
       "'<section aria-labelledby=\"a6a6fbadd-631a-463c-9777-92449a3d161f-figcaption\"><figure><figcaption id=\"a6a6fbadd-631a-463c-9777-92449a3d161f-figcaption\">keyboard shortcuts</figcaption><table aria-colcount=\"3\" aria-rowcount=\"17\" id=\"a6a6fbadd-631a-463c-9777-92449a3d161f\" role=\"table\"><caption id=\"a6a6fbadd-631a-463c-9777-92449a3d161f-caption\"></caption><thead role=\"rowgroup\"><tr aria-selected=\"true\" role=\"row\"><th aria-colindex=\"1\" aria-current=\"true\" aria-rowindex=\"1\" role=\"colheader\" tabindex=\"1\">action</th><th aria-colindex=\"2\" aria-rowindex=\"1\" role=\"colheader\">shortcut</th><th aria-colindex=\"3\" aria-rowindex=\"1\" role=\"colheader\">update</th></tr></thead><tbody role=\"rowgroup\" style=\"--g: 0; \"><tr role=\"row\" style=\"---0: first cell in table; \"><th aria-colindex=\"1\" aria-rowindex=\"2\" role=\"rowheader\" scope=\"row\">\\'first cell in table\\'</th><td aria-colindex=\"2\" aria-rowindex=\"2\" role=\"cell\"><kbd>Ctrl+Home</kbd></td><td aria-colindex=\"3\" aria-rowindex=\"2\" role=\"cell\"><button>update</button></td></tr><tr role=\"row\" style=\"---0: left; \"><th aria-colindex=\"1\" aria-rowindex=\"3\" role=\"rowheader\" scope=\"row\">\\'left\\'</th><td aria-colindex=\"2\" aria-rowindex=\"3\" role=\"cell\"><kbd>ArrowLeft</kbd></td><td aria-colindex=\"3\" aria-rowindex=\"3\" role=\"cell\"><button>update</button></td></tr><tr role=\"row\" style=\"---0: right; \"><th aria-colindex=\"1\" aria-rowindex=\"4\" role=\"rowheader\" scope=\"row\">\\'right\\'</th><td aria-colindex=\"2\" aria-rowindex=\"4\" role=\"cell\"><kbd>ArrowRight</kbd></td><td aria-colindex=\"3\" aria-rowindex=\"4\" role=\"cell\"><button>update</button></td></tr><tr role=\"row\" style=\"---0: up; \"><th aria-colindex=\"1\" aria-rowindex=\"5\" role=\"rowheader\" scope=\"row\">\\'up\\'</th><td aria-colindex=\"2\" aria-rowindex=\"5\" role=\"cell\"><kbd>ArrowUp</kbd></td><td aria-colindex=\"3\" aria-rowindex=\"5\" role=\"cell\"><button>update</button></td></tr><tr role=\"row\" style=\"---0: down; \"><th aria-colindex=\"1\" aria-rowindex=\"6\" role=\"rowheader\" scope=\"row\">\\'down\\'</th><td aria-colindex=\"2\" aria-rowindex=\"6\" role=\"cell\"><kbd>ArrowDown</kbd></td><td aria-colindex=\"3\" aria-rowindex=\"6\" role=\"cell\"><button>update</button></td></tr><tr role=\"row\" style=\"---0: first cell in row; \"><th aria-colindex=\"1\" aria-rowindex=\"7\" role=\"rowheader\" scope=\"row\">\\'first cell in row\\'</th><td aria-colindex=\"2\" aria-rowindex=\"7\" role=\"cell\"><kbd>Home</kbd></td><td aria-colindex=\"3\" aria-rowindex=\"7\" role=\"cell\"><button>update</button></td></tr><tr role=\"row\" style=\"---0: last cell in row; \"><th aria-colindex=\"1\" aria-rowindex=\"8\" role=\"rowheader\" scope=\"row\">\\'last cell in row\\'</th><td aria-colindex=\"2\" aria-rowindex=\"8\" role=\"cell\"><kbd>End</kbd></td><td aria-colindex=\"3\" aria-rowindex=\"8\" role=\"cell\"><button>update</button></td></tr><tr role=\"row\" style=\"---0: next group; \"><th aria-colindex=\"1\" aria-rowindex=\"9\" role=\"rowheader\" scope=\"row\">\\'next group\\'</th><td aria-colindex=\"2\" aria-rowindex=\"9\" role=\"cell\"><kbd>PageDown</kbd></td><td aria-colindex=\"3\" aria-rowindex=\"9\" role=\"cell\"><button>update</button></td></tr><tr role=\"row\" style=\"---0: prior group; \"><th aria-colindex=\"1\" aria-rowindex=\"10\" role=\"rowheader\" scope=\"row\">\\'prior group\\'</th><td aria-colindex=\"2\" aria-rowindex=\"10\" role=\"cell\"><kbd>PageUp</kbd></td><td aria-colindex=\"3\" aria-rowindex=\"10\" role=\"cell\"><button>update</button></td></tr><tr role=\"row\" style=\"---0: last cell in table; \"><th aria-colindex=\"1\" aria-rowindex=\"11\" role=\"rowheader\" scope=\"row\">\\'last cell in table\\'</th><td aria-colindex=\"2\" aria-rowindex=\"11\" role=\"cell\"><kbd>Ctrl+End</kbd></td><td aria-colindex=\"3\" aria-rowindex=\"11\" role=\"cell\"><button>update</button></td></tr><tr role=\"row\" style=\"---0: select current column; \"><th aria-colindex=\"1\" aria-rowindex=\"12\" role=\"rowheader\" scope=\"row\">\\'select current column\\'</th><td aria-colindex=\"2\" aria-rowindex=\"12\" role=\"cell\"><kbd>Ctrl+End</kbd></td><td aria-colindex=\"3\" aria-rowindex=\"12\" role=\"cell\"><button>update</button></td></tr><tr role=\"row\" style=\"---0: select current row; \"><th aria-colindex=\"1\" aria-rowindex=\"13\" role=\"rowheader\" scope=\"row\">\\'select current row\\'</th><td aria-colindex=\"2\" aria-rowindex=\"13\" role=\"cell\"><kbd>Ctrl+End</kbd></td><td aria-colindex=\"3\" aria-rowindex=\"13\" role=\"cell\"><button>update</button></td></tr><tr role=\"row\" style=\"---0: select and focus cell to the left; \"><th aria-colindex=\"1\" aria-rowindex=\"14\" role=\"rowheader\" scope=\"row\">\\'select and focus cell to the left\\'</th><td aria-colindex=\"2\" aria-rowindex=\"14\" role=\"cell\"><kbd>Shift+ArrowLeft</kbd></td><td aria-colindex=\"3\" aria-rowindex=\"14\" role=\"cell\"><button>update</button></td></tr><tr role=\"row\" style=\"---0: select and focus cell to the right; \"><th aria-colindex=\"1\" aria-rowindex=\"15\" role=\"rowheader\" scope=\"row\">\\'select and focus cell to the right\\'</th><td aria-colindex=\"2\" aria-rowindex=\"15\" role=\"cell\"><kbd>Shift+ArrowRight</kbd></td><td aria-colindex=\"3\" aria-rowindex=\"15\" role=\"cell\"><button>update</button></td></tr><tr role=\"row\" style=\"---0: select and focus cell above; \"><th aria-colindex=\"1\" aria-rowindex=\"16\" role=\"rowheader\" scope=\"row\">\\'select and focus cell above\\'</th><td aria-colindex=\"2\" aria-rowindex=\"16\" role=\"cell\"><kbd>Shift+ArrowUp</kbd></td><td aria-colindex=\"3\" aria-rowindex=\"16\" role=\"cell\"><button>update</button></td></tr><tr role=\"row\" style=\"---0: select and focus cell below; \"><th aria-colindex=\"1\" aria-rowindex=\"17\" role=\"rowheader\" scope=\"row\">\\'select and focus cell below\\'</th><td aria-colindex=\"2\" aria-rowindex=\"17\" role=\"cell\"><kbd>Shift+ArrowDown</kbd></td><td aria-colindex=\"3\" aria-rowindex=\"17\" role=\"cell\"><button>update</button></td></tr></tbody></table></figure><form aria-labelledby=\"a6a6fbadd-631a-463c-9777-92449a3d161f-figcaption\" name=\"a6a6fbadd-631a-463c-9777-92449a3d161f\"></form><style>#None tr { --action: var(---0);\\n--shortcut: var(--0);\\n--shortcut-min: var(--0-min);\\n--shortcut-max: var(--0-max);\\n--shortcut-diff: var(--0-diff);\\n--update: var(--1);\\n--update-min: var(--1-min);\\n--update-max: var(--1-max);\\n--update-diff: var(--1-diff);\\n }</style><script>function setScroll(table) {\\n    console.log(table);\\n    let y = (table.scrollTop) / (table.scrollHeight - table.clientHeight);\\n    let x = (table.scrollLeft) / (table.scrollWidth - table.clientWidth);\\n    table.style.setProperty(\"--scroll-y\", y);\\n    table.style.setProperty(\"--scroll-x\", x);\\n    table.dataset.scrollY = y;\\n    table.dataset.scrollX = x;\\n}</script><script>document.querySelectorAll(\"#a6a6fbadd-631a-463c-9777-92449a3d161f [data-scroll]\").forEach(\\n    (element) => {\\n        element.onscroll = (element) => {setScroll(element.target)};\\n    }\\n)</script></section>'"
      ]
     },
     "execution_count": 10,
     "metadata": {},
     "output_type": "execute_result"
    },
    {
     "data": {
      "text/html": [
       "<p>when we consistently define <code>aria-keyshortcuts</code> we recieve canonical accessors\n",
       "for defining a widget for summarizing and modifying the keyboard shortcuts.</p>\n",
       "<p>it is most likely that this will be hidden in <code>dialog</code> to reduce the elements interfering with content.</p>\n",
       "<pre><code>shortcuts = Series(section.select(&quot;[aria-keyshortcuts], [accesskey]&quot;))\n",
       "\n",
       "table = DataFrame(\n",
       "    index=Index(shortcuts.attrgetter(&quot;string&quot;), name=&quot;action&quot;)\n",
       ").assign(\n",
       "    shortcut=shortcuts.attrgetter(&quot;attrs&quot;).series(\n",
       "    )[&quot;aria-keyshortcuts&quot;].apply(\n",
       "        lambda x: new(&quot;kbd&quot;, x)\n",
       "    ).values,\n",
       "    update=list(new(&quot;button&quot;, &quot;update&quot;) for x in range(len(shortcuts)))\n",
       ").pipe(get_table, caption=&quot;keyboard shortcuts&quot;)\n",
       "table.table.caption.clear()\n",
       "HTML(table)</code></pre>\n"
      ],
      "text/plain": [
       "<IPython.core.display.HTML object>"
      ]
     },
     "metadata": {},
     "output_type": "display_data"
    }
   ],
   "source": [
    "%%\n",
    "when we consistently define `aria-keyshortcuts` we recieve canonical accessors\n",
    "for defining a widget for summarizing and modifying the keyboard shortcuts.\n",
    "\n",
    "it is most likely that this will be hidden in `dialog` to reduce the elements interfering with content.\n",
    "\n",
    "    shortcuts = Series(section.select(\"[aria-keyshortcuts], [accesskey]\"))\n",
    "    \n",
    "    table = DataFrame(\n",
    "        index=Index(shortcuts.attrgetter(\"string\"), name=\"action\")\n",
    "    ).assign(\n",
    "        shortcut=shortcuts.attrgetter(\"attrs\").series(\n",
    "        )[\"aria-keyshortcuts\"].apply(\n",
    "            lambda x: new(\"kbd\", x)\n",
    "        ).values,\n",
    "        update=list(new(\"button\", \"update\") for x in range(len(shortcuts)))\n",
    "    ).pipe(get_table, caption=\"keyboard shortcuts\")\n",
    "    table.table.caption.clear()\n",
    "    HTML(table)"
   ]
  },
  {
   "cell_type": "markdown",
   "id": "37e49fd1-b9bd-43ca-bf9f-47314052f78a",
   "metadata": {},
   "source": [
    "## marginalia\n",
    "\n",
    "there likely needs to be a visual representation of the current cell.\n",
    "\n",
    "collapse : tree :: select : grid"
   ]
  },
  {
   "cell_type": "code",
   "execution_count": null,
   "id": "2147d4c0-ddc1-4e29-ae1e-840457602062",
   "metadata": {},
   "outputs": [],
   "source": []
  }
 ],
 "metadata": {
  "kernelspec": {
   "display_name": "Python [conda env:p311] *",
   "language": "python",
   "name": "conda-env-p311-py"
  },
  "language_info": {
   "codemirror_mode": {
    "name": "ipython",
    "version": 3
   },
   "file_extension": ".py",
   "mimetype": "text/x-python",
   "name": "python",
   "nbconvert_exporter": "python",
   "pygments_lexer": "ipython3",
   "version": "3.11.3"
  },
  "widgets": {
   "application/vnd.jupyter.widget-state+json": {
    "state": {},
    "version_major": 2,
    "version_minor": 0
   }
  }
 },
 "nbformat": 4,
 "nbformat_minor": 5
}
