{
 "cells": [
  {
   "cell_type": "markdown",
   "id": "521807dc-6fd2-4d5f-8242-d788fa1774a0",
   "metadata": {},
   "source": [
    "# a three component venn diagram in css"
   ]
  },
  {
   "cell_type": "code",
   "execution_count": 2,
   "id": "fe85a803-0f70-41a2-9582-7b08b55eab7d",
   "metadata": {},
   "outputs": [],
   "source": [
    "from nbconvert_a11y.t import get_table, Config"
   ]
  },
  {
   "cell_type": "code",
   "execution_count": 30,
   "id": "095f51a9-24e9-415d-b885-c9c5e3245389",
   "metadata": {
    "scrolled": true
   },
   "outputs": [
    {
     "data": {
      "text/html": [
       "<table aria-colcount=\"3\" aria-rowcount=\"4\" id=\"venn\" role=\"table\" style=\"--0-min: 0.0;--x-min: -3.0;--y-min: -1.3333333333333333;--0-max: 2.0;--x-max: 3.0;--y-max: 2.666666666666667;\">\n",
       " <tbody role=\"rowgroup\">\n",
       "  <tr role=\"row\" style=\"--index-0: 0;--x: -3.0;--y: -1.3333333333333333;\">\n",
       "   <th aria-colindex=\"1\" aria-rowindex=\"2\" role=\"colheader\" scope=\"col\">\n",
       "    0\n",
       "   </th>\n",
       "   <td aria-colindex=\"2\" aria-rowindex=\"2\" role=\"cell\">\n",
       "    -3.00\n",
       "   </td>\n",
       "   <td aria-colindex=\"3\" aria-rowindex=\"2\" role=\"cell\">\n",
       "    -1.33\n",
       "   </td>\n",
       "  </tr>\n",
       "  <tr role=\"row\" style=\"--index-0: 1;--x: 0.0;--y: 2.666666666666667;\">\n",
       "   <th aria-colindex=\"1\" aria-rowindex=\"3\" role=\"colheader\" scope=\"col\">\n",
       "    1\n",
       "   </th>\n",
       "   <td aria-colindex=\"2\" aria-rowindex=\"3\" role=\"cell\">\n",
       "    0.00\n",
       "   </td>\n",
       "   <td aria-colindex=\"3\" aria-rowindex=\"3\" role=\"cell\">\n",
       "    2.67\n",
       "   </td>\n",
       "  </tr>\n",
       "  <tr role=\"row\" style=\"--index-0: 2;--x: 3.0;--y: -1.3333333333333333;\">\n",
       "   <th aria-colindex=\"1\" aria-rowindex=\"4\" role=\"colheader\" scope=\"col\">\n",
       "    2\n",
       "   </th>\n",
       "   <td aria-colindex=\"2\" aria-rowindex=\"4\" role=\"cell\">\n",
       "    3.00\n",
       "   </td>\n",
       "   <td aria-colindex=\"3\" aria-rowindex=\"4\" role=\"cell\">\n",
       "    -1.33\n",
       "   </td>\n",
       "  </tr>\n",
       " </tbody>\n",
       " <thead role=\"rowgroup\">\n",
       "  <tr role=\"row\">\n",
       "   <th aria-colindex=\"1\" aria-rowindex=\"1\" role=\"colheader\" scope=\"col\">\n",
       "    index 1\n",
       "   </th>\n",
       "   <th aria-colindex=\"2\" aria-rowindex=\"1\" role=\"colheader\" scope=\"col\">\n",
       "    x\n",
       "   </th>\n",
       "   <th aria-colindex=\"3\" aria-rowindex=\"1\" role=\"colheader\" scope=\"col\">\n",
       "    y\n",
       "   </th>\n",
       "  </tr>\n",
       " </thead>\n",
       " <tbody aria-hidden=\"true\" role=\"rowgroup\">\n",
       "  <tr role=\"row\">\n",
       "   <th aria-colindex=\"1\" aria-rowindex=\"1\" role=\"colheader\" scope=\"col\">\n",
       "    index 1\n",
       "   </th>\n",
       "   <th aria-colindex=\"2\" aria-rowindex=\"1\" role=\"colheader\" scope=\"col\">\n",
       "    x\n",
       "   </th>\n",
       "   <th aria-colindex=\"3\" aria-rowindex=\"1\" role=\"colheader\" scope=\"col\">\n",
       "    y\n",
       "   </th>\n",
       "  </tr>\n",
       " </tbody>\n",
       " <tfoot role=\"rowgroup\">\n",
       "  <tr role=\"row\">\n",
       "   <th aria-colindex=\"1\" aria-colspan=\"1\" aria-rowindex=\"5\" colspan=\"1\" role=\"rowheader\" scope=\"row\">\n",
       "    min\n",
       "   </th>\n",
       "   <td aria-colindex=\"2\" aria-rowindex=\"5\" role=\"cell\">\n",
       "    0.00\n",
       "   </td>\n",
       "   <td aria-colindex=\"3\" aria-rowindex=\"5\" role=\"cell\">\n",
       "    -3.00\n",
       "   </td>\n",
       "  </tr>\n",
       "  <tr role=\"row\">\n",
       "   <th aria-colindex=\"1\" aria-colspan=\"1\" aria-rowindex=\"6\" colspan=\"1\" role=\"rowheader\" scope=\"row\">\n",
       "    max\n",
       "   </th>\n",
       "   <td aria-colindex=\"2\" aria-rowindex=\"6\" role=\"cell\">\n",
       "    2.00\n",
       "   </td>\n",
       "   <td aria-colindex=\"3\" aria-rowindex=\"6\" role=\"cell\">\n",
       "    3.00\n",
       "   </td>\n",
       "  </tr>\n",
       " </tfoot>\n",
       "</table>\n"
      ],
      "text/plain": [
       "<table aria-colcount=\"3\" aria-rowcount=\"4\" id=\"venn\" role=\"table\" style=\"--0-min: 0.0;--x-min: -3.0;--y-min: -1.3333333333333333;--0-max: 2.0;--x-max: 3.0;--y-max: 2.666666666666667;\"><tbody role=\"rowgroup\"><tr role=\"row\" style=\"--index-0: 0;--x: -3.0;--y: -1.3333333333333333;\"><th aria-colindex=\"1\" aria-rowindex=\"2\" role=\"colheader\" scope=\"col\">0</th><td aria-colindex=\"2\" aria-rowindex=\"2\" role=\"cell\">-3.00</td><td aria-colindex=\"3\" aria-rowindex=\"2\" role=\"cell\">-1.33</td></tr><tr role=\"row\" style=\"--index-0: 1;--x: 0.0;--y: 2.666666666666667;\"><th aria-colindex=\"1\" aria-rowindex=\"3\" role=\"colheader\" scope=\"col\">1</th><td aria-colindex=\"2\" aria-rowindex=\"3\" role=\"cell\">0.00</td><td aria-colindex=\"3\" aria-rowindex=\"3\" role=\"cell\">2.67</td></tr><tr role=\"row\" style=\"--index-0: 2;--x: 3.0;--y: -1.3333333333333333;\"><th aria-colindex=\"1\" aria-rowindex=\"4\" role=\"colheader\" scope=\"col\">2</th><td aria-colindex=\"2\" aria-rowindex=\"4\" role=\"cell\">3.00</td><td aria-colindex=\"3\" aria-rowindex=\"4\" role=\"cell\">-1.33</td></tr></tbody><thead role=\"rowgroup\"><tr role=\"row\"><th aria-colindex=\"1\" aria-rowindex=\"1\" role=\"colheader\" scope=\"col\">index 1</th><th aria-colindex=\"2\" aria-rowindex=\"1\" role=\"colheader\" scope=\"col\">x</th><th aria-colindex=\"3\" aria-rowindex=\"1\" role=\"colheader\" scope=\"col\">y</th></tr></thead><tbody aria-hidden=\"true\" role=\"rowgroup\"><tr role=\"row\"><th aria-colindex=\"1\" aria-rowindex=\"1\" role=\"colheader\" scope=\"col\">index 1</th><th aria-colindex=\"2\" aria-rowindex=\"1\" role=\"colheader\" scope=\"col\">x</th><th aria-colindex=\"3\" aria-rowindex=\"1\" role=\"colheader\" scope=\"col\">y</th></tr></tbody><tfoot role=\"rowgroup\"><tr role=\"row\"><th aria-colindex=\"1\" aria-colspan=\"1\" aria-rowindex=\"5\" colspan=\"1\" role=\"rowheader\" scope=\"row\">min</th><td aria-colindex=\"2\" aria-rowindex=\"5\" role=\"cell\">0.00</td><td aria-colindex=\"3\" aria-rowindex=\"5\" role=\"cell\">-3.00</td></tr><tr role=\"row\"><th aria-colindex=\"1\" aria-colspan=\"1\" aria-rowindex=\"6\" colspan=\"1\" role=\"rowheader\" scope=\"row\">max</th><td aria-colindex=\"2\" aria-rowindex=\"6\" role=\"cell\">2.00</td><td aria-colindex=\"3\" aria-rowindex=\"6\" role=\"cell\">3.00</td></tr></tfoot></table>"
      ]
     },
     "execution_count": 30,
     "metadata": {},
     "output_type": "execute_result"
    }
   ],
   "source": [
    "Series(\"\"\"0 0\n",
    "3 4\n",
    "6 0\"\"\".splitlines()).apply(str.split).series().astype(int).pipe(\n",
    "    lambda df: df - df.mean()\n",
    ").rename(columns=dict(zip(range(2), \"xy\"))).pipe(\n",
    "    get_table, id=\"venn\"\n",
    ")"
   ]
  },
  {
   "cell_type": "code",
   "execution_count": 57,
   "id": "3b33ebb2-43f0-48c6-98d3-70b2c7136308",
   "metadata": {},
   "outputs": [
    {
     "data": {
      "text/html": [
       "<style>.jp-RenderedHTML:has(#venn){\n",
       "    overflow: hidden;\n",
       "}\n",
       "#venn {\n",
       "    --w: 200px;\n",
       "    --h: 200px;\n",
       "    top: -75%;\n",
       "    display: block;\n",
       "    position: relative;\n",
       "    height: var(--h);\n",
       "    width: var(--w);\n",
       "    margin: 50px;\n",
       "    tbody:first-of-type{\n",
       "        display: block;\n",
       "        height: 1000px; width: var(--w);\n",
       "        tr {\n",
       "            --dy: calc(var(--y-max) - var(--y-min));\n",
       "            --dx: calc(var(--x-max) - var(--x-min));\n",
       "            --mul: 2;\n",
       "            --y-frac: calc((var(--y) - var(--y-min)) / var(--dy));\n",
       "            --x-frac: calc((var(--x) - var(--x-min)) / var(--dx));\n",
       "            display: block;\n",
       "            position: absolute;\n",
       "            top: calc(var(--y-frac) * 100%);\n",
       "            left: calc(var(--x-frac) * 100%);\n",
       "            border: 20px solid red;\n",
       "            border-radius: 100%;\n",
       "            width: calc(var(--mul) * var(--w));\n",
       "            height: calc(var(--mul) * var(--w));\n",
       "            background: none;\n",
       "            td{}\n",
       "        }\n",
       "    }\n",
       "}\n",
       "</style>"
      ],
      "text/plain": [
       "<IPython.core.display.HTML object>"
      ]
     },
     "execution_count": 57,
     "metadata": {},
     "output_type": "execute_result"
    }
   ],
   "source": [
    "%%\n",
    "\n",
    "```css\n",
    ".jp-RenderedHTML:has(#venn){\n",
    "    overflow: hidden;\n",
    "}\n",
    "#venn {\n",
    "    --w: 200px;\n",
    "    --h: 200px;\n",
    "    top: -75%;\n",
    "    display: block;\n",
    "    position: relative;\n",
    "    height: var(--h);\n",
    "    width: var(--w);\n",
    "    margin: 50px;\n",
    "    tbody:first-of-type{\n",
    "        display: block;\n",
    "        height: 1000px; width: var(--w);\n",
    "        tr {\n",
    "            --dy: calc(var(--y-max) - var(--y-min));\n",
    "            --dx: calc(var(--x-max) - var(--x-min));\n",
    "            --mul: 2;\n",
    "            --y-frac: calc((var(--y) - var(--y-min)) / var(--dy));\n",
    "            --x-frac: calc((var(--x) - var(--x-min)) / var(--dx));\n",
    "            display: block;\n",
    "            position: absolute;\n",
    "            top: calc(var(--y-frac) * 100%);\n",
    "            left: calc(var(--x-frac) * 100%);\n",
    "            border: 20px solid red;\n",
    "            border-radius: 100%;\n",
    "            width: calc(var(--mul) * var(--w));\n",
    "            height: calc(var(--mul) * var(--w));\n",
    "            background: none;\n",
    "            td{}\n",
    "        }\n",
    "    }\n",
    "}\n",
    "```"
   ]
  },
  {
   "cell_type": "code",
   "execution_count": null,
   "id": "95d92765-92e4-4c24-88ca-66e948e76773",
   "metadata": {},
   "outputs": [],
   "source": []
  }
 ],
 "metadata": {
  "kernelspec": {
   "display_name": "Python [conda env:p311] *",
   "language": "python",
   "name": "conda-env-p311-py"
  },
  "language_info": {
   "codemirror_mode": {
    "name": "ipython",
    "version": 3
   },
   "file_extension": ".py",
   "mimetype": "text/x-python",
   "name": "python",
   "nbconvert_exporter": "python",
   "pygments_lexer": "ipython3",
   "version": "3.11.3"
  },
  "widgets": {
   "application/vnd.jupyter.widget-state+json": {
    "state": {},
    "version_major": 2,
    "version_minor": 0
   }
  }
 },
 "nbformat": 4,
 "nbformat_minor": 5
}
