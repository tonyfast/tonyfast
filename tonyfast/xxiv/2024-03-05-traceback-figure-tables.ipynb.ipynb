{
 "cells": [
  {
   "cell_type": "markdown",
   "id": "93dc0520-3864-4d28-aac9-886b548d9207",
   "metadata": {},
   "source": [
    "# using tables to structure tracebacks\n",
    "\n",
    "tracebacks are critical to improving code, but they must something that can be explored. this is not the case for AT the moment. exceptions are represented as long strings with no structure.\n",
    "\n",
    "this approach uses to tables to structure tracebacks with improve the quality of experience for screen readers."
   ]
  },
  {
   "cell_type": "markdown",
   "id": "b21674a3-0417-4196-92b6-726acfb146c6",
   "metadata": {},
   "source": [
    "this approach does not include the underlying mechanism for the failure"
   ]
  },
  {
   "cell_type": "code",
   "execution_count": 1,
   "id": "847e598d-2777-4856-948e-5c6b9c5e8743",
   "metadata": {},
   "outputs": [
    {
     "name": "stderr",
     "output_type": "stream",
     "text": [
      "/tmp/ipykernel_42448/3040624387.py:2: DeprecationWarning: \n",
      "Pyarrow will become a required dependency of pandas in the next major release of pandas (pandas 3.0),\n",
      "(to allow more performant data types, such as the Arrow string type, and better interoperability with other libraries)\n",
      "but was not found to be installed on your system.\n",
      "If this would cause problems for you,\n",
      "please provide us feedback at https://github.com/pandas-dev/pandas/issues/54466\n",
      "        \n",
      "  import traceback, contextlib, pandas, nbconvert_a11y\n"
     ]
    },
    {
     "data": {
      "text/html": [
       "<style>/* css to accompany the semantic outputs.py\n",
       "\n",
       "these styles make the semantic html appear like python styled reprs.\n",
       "prettifying python combines content and style, but with html\n",
       "we can seperate these concerns. */\n",
       "\n",
       ":root {\n",
       "    --quote: '\"';\n",
       "}\n",
       "\n",
       "data[value],\n",
       "[itemscope]:not([itemtype$=DataFrame]),\n",
       "[itemscope]:not([itemtype$=Series]) {\n",
       "    font-family: monospace;\n",
       "}\n",
       "\n",
       ".jp-RenderedHTMLCommon kbd {\n",
       "    font-size: unset;\n",
       "}\n",
       "\n",
       "samp[itemscope]::before,\n",
       "samp[itemscope]::after {\n",
       "    content: var(--quote);\n",
       "}\n",
       "\n",
       ".jp-RenderedHTMLCommon data[itemscope] {\n",
       "    color: var(--jp-mirror-editor-number-color);\n",
       "}\n",
       "\n",
       ".jp-RenderedHTMLCommon data[value] {\n",
       "    color: var(--jp-mirror-editor-keyword-color);\n",
       "    font-weight: bold;\n",
       "}\n",
       "\n",
       ".jp-RenderedHTMLCommon samp[itemscope] {\n",
       "    color: var(--jp-mirror-editor-string-color);\n",
       "}\n",
       "\n",
       "ol[itemscope],\n",
       "ul[itemscope] {\n",
       "    li {\n",
       "        display: inline;\n",
       "\n",
       "        &::after {\n",
       "            content: \", \";\n",
       "        }\n",
       "\n",
       "        &:first-child::before {\n",
       "            content: '[';\n",
       "            color: var(--jp-mirror-editor-bracket-color);\n",
       "        }\n",
       "\n",
       "        &:last-child::after {\n",
       "            content: ']';\n",
       "            color: var(--jp-mirror-editor-bracket-color);\n",
       "        }\n",
       "    }\n",
       "}\n",
       "\n",
       "ol[itemtype$=tuple] li {\n",
       "    &:first-child::before {\n",
       "        content: '(';\n",
       "    }\n",
       "\n",
       "    &:last-child::after {\n",
       "        content: ')';\n",
       "    }\n",
       "}\n",
       "\n",
       "ul[itemtype$=set] li {\n",
       "    &:first-child::before {\n",
       "        content: '{';\n",
       "    }\n",
       "\n",
       "    &:last-child::after {\n",
       "        content: '}';\n",
       "    }\n",
       "}\n",
       "\n",
       ".jp-OutputArea-output table caption,\n",
       "table caption {\n",
       "\n",
       "    dl,\n",
       "    dd,\n",
       "    dt {\n",
       "        padding-left: .5em;\n",
       "        padding-right: .5em;\n",
       "    }\n",
       "\n",
       "}\n",
       "\n",
       "\n",
       ".jp-OutputArea-output dd,\n",
       ".jp-OutputArea-output dt {\n",
       "    float: unset;\n",
       "    display: unset;\n",
       "}\n",
       "\n",
       "dl[itemscope] dd,\n",
       "dl[itemscope] dt {\n",
       "    display: inline;\n",
       "}\n",
       "\n",
       "dl[itemtype] {\n",
       "\n",
       "    dt:first-child::before {\n",
       "        content: \"{\";\n",
       "        color: var(--jp-mirror-editor-bracket-color);\n",
       "    }\n",
       "\n",
       "    dd:last-child::after {\n",
       "        content: \"}\";\n",
       "        color: var(--jp-mirror-editor-bracket-color);\n",
       "\n",
       "    }\n",
       "\n",
       "    dt::after {\n",
       "        content: \": \";\n",
       "    }\n",
       "\n",
       "    dd::after {\n",
       "        content: \", \";\n",
       "    }\n",
       "}\n",
       "\n",
       ".visually-hidden:not(:active):not(:focus-within),\n",
       ".non-visual,\n",
       ".nv {\n",
       "    clip: rect(0 0 0 0);\n",
       "    clip-path: inset(50%);\n",
       "    height: 1px;\n",
       "    overflow: hidden;\n",
       "    position: absolute;\n",
       "    white-space: nowrap;\n",
       "    width: 1px;\n",
       "}\n",
       "\n",
       "table[itemtype$=ndarray] {\n",
       "    text-align: right;\n",
       "\n",
       "    td:first-child::before {\n",
       "        content: \"[\";\n",
       "        float: left;\n",
       "    }\n",
       "\n",
       "    td::after {\n",
       "        content: \",\";\n",
       "    }\n",
       "\n",
       "    td:last-child::after {\n",
       "        content: \"]\";\n",
       "    }\n",
       "}\n",
       "\n",
       ":not(.jp-RenderedMarkdown).jp-RenderedHTMLCommon td,\n",
       ":not(.jp-RenderedMarkdown).jp-RenderedHTMLCommon th,\n",
       ":not(.jp-RenderedMarkdown).jp-RenderedHTMLCommon tr {\n",
       "    vertical-align: unset;\n",
       "    text-align: unset;\n",
       "}\n",
       "\n",
       ".jp-RenderedHTMLCommon tr {\n",
       "    padding: unset;\n",
       "}</style>"
      ]
     },
     "metadata": {},
     "output_type": "display_data"
    }
   ],
   "source": [
    "    import sysconfig, operator, pathlib\n",
    "    import traceback, contextlib, pandas, nbconvert_a11y\n",
    "    %reload_ext nbconvert_a11y.outputs\n",
    "    %reload_ext nbconvert_a11y.tables\n",
    "    from nbconvert_a11y import tables"
   ]
  },
  {
   "cell_type": "code",
   "execution_count": 2,
   "id": "51b3ffa0-9b1a-47a5-bc59-de947ba57f97",
   "metadata": {},
   "outputs": [],
   "source": [
    "    def multiply_wrong(x):\n",
    "        \"a function that wil raise an error\"\n",
    "        x[:-1].T@x"
   ]
  },
  {
   "cell_type": "markdown",
   "id": "fea90802-431d-42d6-87df-53f62e4facdf",
   "metadata": {},
   "source": [
    "create an exception"
   ]
  },
  {
   "cell_type": "code",
   "execution_count": 3,
   "id": "ae1fb259-3451-455c-9351-71e24e7a4b8c",
   "metadata": {},
   "outputs": [],
   "source": [
    "    try:\n",
    "        pandas.Series(range(10)).to_frame().pipe(multiply_wrong)\n",
    "    except ValueError as e:\n",
    "        exception = e"
   ]
  },
  {
   "cell_type": "code",
   "execution_count": 4,
   "id": "a9a424d5-041c-4ec7-a2ab-2c18c77c9f88",
   "metadata": {},
   "outputs": [
    {
     "name": "stderr",
     "output_type": "stream",
     "text": [
      "Traceback (most recent call last):\n",
      "  File \"/tmp/ipykernel_42448/1648588067.py\", line 2, in <module>\n",
      "    pandas.Series(range(10)).to_frame().pipe(multiply_wrong)\n",
      "  File \"/home/tbone/mambaforge/envs/p311/lib/python3.11/site-packages/pandas/core/generic.py\", line 6225, in pipe\n",
      "    return common.pipe(self, func, *args, **kwargs)\n",
      "           ^^^^^^^^^^^^^^^^^^^^^^^^^^^^^^^^^^^^^^^^\n",
      "  File \"/home/tbone/mambaforge/envs/p311/lib/python3.11/site-packages/pandas/core/common.py\", line 500, in pipe\n",
      "    return func(obj, *args, **kwargs)\n",
      "           ^^^^^^^^^^^^^^^^^^^^^^^^^^\n",
      "  File \"/tmp/ipykernel_42448/3574275760.py\", line 3, in multiply_wrong\n",
      "    x[:-1].T@x\n",
      "    ~~~~~~~~^~\n",
      "  File \"/home/tbone/mambaforge/envs/p311/lib/python3.11/site-packages/pandas/core/frame.py\", line 1775, in __matmul__\n",
      "    return self.dot(other)\n",
      "           ^^^^^^^^^^^^^^^\n",
      "  File \"/home/tbone/mambaforge/envs/p311/lib/python3.11/site-packages/pandas/core/frame.py\", line 1725, in dot\n",
      "    raise ValueError(\"matrices are not aligned\")\n",
      "ValueError: matrices are not aligned\n"
     ]
    }
   ],
   "source": [
    "    traceback.print_exception(exception)"
   ]
  },
  {
   "cell_type": "markdown",
   "id": "6832737e-eaf5-4ea9-9e75-645341cd254e",
   "metadata": {},
   "source": [
    "turn the exceptions traceback into an array of arrays"
   ]
  },
  {
   "cell_type": "code",
   "execution_count": 5,
   "id": "da8f0657-cd55-438e-9a63-d2e3791f5c90",
   "metadata": {},
   "outputs": [],
   "source": [
    "    def get_exception_array(exception):\n",
    "        return traceback.extract_tb(exception.__traceback__)"
   ]
  },
  {
   "cell_type": "markdown",
   "id": "991080d1-fe0b-4c49-9d6e-e2397ccf85dc",
   "metadata": {},
   "source": [
    "format the exception as a dataframe"
   ]
  },
  {
   "cell_type": "code",
   "execution_count": 6,
   "id": "bd875335-8efc-413d-a8d4-c01ada8df4d6",
   "metadata": {},
   "outputs": [],
   "source": [
    "    df = pandas.DataFrame(\n",
    "        get_exception_array(exception),\n",
    "        columns=[\"file\", \"line\", \"method\", \"source\"]\n",
    "    )[[\"line\", \"method\", \"source\", \"file\"]]"
   ]
  },
  {
   "cell_type": "markdown",
   "id": "d5e8d8f3-2c9c-4283-b6e1-52514f8d5c52",
   "metadata": {},
   "source": [
    "the filename makes it really hard to reason with what is being reported.\n",
    "it would be good to extract module name instead even though it is not part of the current repr"
   ]
  },
  {
   "cell_type": "markdown",
   "id": "f9996656-2964-432e-bc71-a2bf621c9343",
   "metadata": {},
   "source": [
    "the path locations that we can use to shorten the file representation"
   ]
  },
  {
   "cell_type": "code",
   "execution_count": 7,
   "id": "83c00350-72f6-49bb-abed-81f726c4f8f4",
   "metadata": {},
   "outputs": [],
   "source": [
    "    def get_paths():\n",
    "        import ipykernel\n",
    "        sys = sysconfig.get_paths()\n",
    "        sys.update(__main__=ipykernel.compiler.get_tmp_directory())\n",
    "        return sys"
   ]
  },
  {
   "cell_type": "code",
   "execution_count": 8,
   "id": "dd818272-94a7-4b75-b498-61cb3a36f773",
   "metadata": {},
   "outputs": [],
   "source": [
    "    def shorten_path(paths):\n",
    "        sys = get_paths()\n",
    "        visited = set()\n",
    "        relative = [None]*len(paths)\n",
    "        for lib in (\"__main__\", \"purelib\", \"platlib\", \"stdlib\", \"platstdlib\"):\n",
    "            value = pathlib.Path(sys[lib])\n",
    "            if value not in visited:\n",
    "                for i, path in enumerate(paths):\n",
    "                    if relative[i] is not None:\n",
    "                        continue\n",
    "                    try:\n",
    "                        relative[i] = F\"{lib}:{pathlib.Path(path).relative_to(value)}\"\n",
    "                    except ValueError:\n",
    "                        pass\n",
    "                \n",
    "                visited.add(value)\n",
    "        return relative"
   ]
  },
  {
   "cell_type": "markdown",
   "id": "1a6fc5c2-806b-49e4-96e2-5d92067785f1",
   "metadata": {},
   "source": [
    "the dataframe indexes by shorted filenames making it easier to listen to"
   ]
  },
  {
   "cell_type": "markdown",
   "id": "0327ecdb-549c-434a-83e7-a1a8d20ace0d",
   "metadata": {},
   "source": [
    "the traceback table is nested inside a figcaption that captures externals messages contained on the exception."
   ]
  },
  {
   "cell_type": "code",
   "execution_count": 9,
   "id": "fde09d6a-fd77-4b97-a8f7-b7e93b3e49d0",
   "metadata": {},
   "outputs": [],
   "source": [
    "    def repr_traceback_frame(exception):\n",
    "        df = pandas.DataFrame(get_exception_array(exception), columns=[\"file\", \"line\", \"method\", \"source\"])\n",
    "        df = df.set_index([pandas.Index(\n",
    "            df.file.pipe(shorten_path),\n",
    "            name=\"module\"\n",
    "        )])\n",
    "        return df\n",
    "\n",
    "    def repr_traceback(exception):\n",
    "        figure = nbconvert_a11y.outputs.new(\n",
    "            \"figure\", \n",
    "            tables.get_table(repr_traceback_frame(exception), type_=type(exception), COL_INDEX=tables.SHOW_INDEX.nonvisual, ROW_INDEX=tables.SHOW_INDEX.nonvisual, SEMANTIC=False),\n",
    "            nbconvert_a11y.outputs.new(\"figcaption\", F\"{type(exception).__name__}: {exception}\")\n",
    "        )\n",
    "        return str(figure)"
   ]
  },
  {
   "cell_type": "code",
   "execution_count": 10,
   "id": "bce786d9-32ab-4add-9ded-b53d9ea77d56",
   "metadata": {},
   "outputs": [
    {
     "data": {
      "text/html": [
       "<figure><table colcount=\"5\" id=\"140573046814736\" itemscope itemtype=\"builtins:ValueError\" rowcount=\"7\"><caption class=\"nv\"><dl role=\"presentation\"><dt>rows</dt><dd>6</dd><dt>columns</dt><dd>4</dd><dt>indexes</dt><dd><dl role=\"presentation\"><dt>rows</dt><dd>1</dd><dt>columns</dt><dd>1</dd></dl></dd></dl></caption><tr aria-rowindex=\"1\"><th aria-colindex=\"1\" class=\"visually-hidden\" scope=\"col\">module</th><th aria-colindex=\"2\" scope=\"col\">file</th><th aria-colindex=\"3\" scope=\"col\">line</th><th aria-colindex=\"4\" scope=\"col\">method</th><th aria-colindex=\"5\" scope=\"col\">source</th></tr><tr aria-rowindex=\"2\"><th aria-colindex=\"1\" scope=\"row\">__main__:1648588067.py</th><td aria-colindex=\"2\">/tmp/ipykernel_42448/1648588067.py</td><td aria-colindex=\"3\">2</td><td aria-colindex=\"4\">&lt;module&gt;</td><td aria-colindex=\"5\">pandas.Series(range(10)).to_frame().pipe(multiply_wrong)</td></tr><tr aria-rowindex=\"3\"><th aria-colindex=\"1\" scope=\"row\">purelib:pandas/core/generic.py</th><td aria-colindex=\"2\">/home/tbone/mambaforge/envs/p311/lib/python3.11/site-packages/pandas/core/generic.py</td><td aria-colindex=\"3\">6225</td><td aria-colindex=\"4\">pipe</td><td aria-colindex=\"5\">return common.pipe(self, func, *args, **kwargs)</td></tr><tr aria-rowindex=\"4\"><th aria-colindex=\"1\" scope=\"row\">purelib:pandas/core/common.py</th><td aria-colindex=\"2\">/home/tbone/mambaforge/envs/p311/lib/python3.11/site-packages/pandas/core/common.py</td><td aria-colindex=\"3\">500</td><td aria-colindex=\"4\">pipe</td><td aria-colindex=\"5\">return func(obj, *args, **kwargs)</td></tr><tr aria-rowindex=\"5\"><th aria-colindex=\"1\" scope=\"row\">__main__:3574275760.py</th><td aria-colindex=\"2\">/tmp/ipykernel_42448/3574275760.py</td><td aria-colindex=\"3\">3</td><td aria-colindex=\"4\">multiply_wrong</td><td aria-colindex=\"5\">x[:-1].T@x</td></tr><tr aria-rowindex=\"6\"><th aria-colindex=\"1\" scope=\"row\">purelib:pandas/core/frame.py</th><td aria-colindex=\"2\">/home/tbone/mambaforge/envs/p311/lib/python3.11/site-packages/pandas/core/frame.py</td><td aria-colindex=\"3\">1775</td><td aria-colindex=\"4\">__matmul__</td><td aria-colindex=\"5\">return self.dot(other)</td></tr><tr aria-rowindex=\"7\"><th aria-colindex=\"1\" scope=\"row\">purelib:pandas/core/frame.py</th><td aria-colindex=\"2\">/home/tbone/mambaforge/envs/p311/lib/python3.11/site-packages/pandas/core/frame.py</td><td aria-colindex=\"3\">1725</td><td aria-colindex=\"4\">dot</td><td aria-colindex=\"5\">raise ValueError(\"matrices are not aligned\")</td></tr></table><figcaption>ValueError: matrices are not aligned</figcaption></figure>"
      ]
     },
     "metadata": {},
     "output_type": "display_data"
    }
   ],
   "source": [
    "    display({\"text/html\": repr_traceback(exception)}, raw=True)"
   ]
  },
  {
   "cell_type": "markdown",
   "id": "57799edb-d397-4b03-b937-ba351ae40038",
   "metadata": {},
   "source": [
    "custom css to make the table appear similar to native tracebacks"
   ]
  },
  {
   "cell_type": "code",
   "execution_count": 11,
   "id": "2b75cd22-56be-4bcc-9791-a022d9afce42",
   "metadata": {},
   "outputs": [
    {
     "data": {
      "text/html": [
       "<style>\n",
       "table[itemscope]::before {\n",
       "    content: \"Traceback (most recent call last):\";\n",
       "}\n",
       "table[itemscope] {\n",
       "    td data {color: unset;}\n",
       "    tr:first-child, tr > th:first-child {\n",
       "        clip: rect(0 0 0 0);\n",
       "        clip-path: inset(50%);\n",
       "        height: 1px;\n",
       "        overflow: hidden;\n",
       "        position: absolute;\n",
       "        white-space: nowrap;\n",
       "        width: 1px;\n",
       "    }\n",
       "    tr {\n",
       "        display: block;\n",
       "        position: relative;\n",
       "\n",
       "        td {\n",
       "            display: inline;\n",
       "        }\n",
       "        td:nth-of-type(1)::before {content: 'File \"';}\n",
       "        td:nth-of-type(1)::after {content: '\", ';}\n",
       "        td:nth-of-type(2)::before {content: 'line ';}\n",
       "        td:nth-of-type(2)::after {content: ', ';}\n",
       "        td:nth-of-type(3)::before {content: 'in ';}\n",
       "        td {\n",
       "            left: 2em;\n",
       "            position: relative;\n",
       "        }\n",
       "        td:nth-of-type(4) {\n",
       "            display: block;\n",
       "            left: 4em;\n",
       "        }\n",
       "    }\n",
       "\n",
       "}\n",
       "figure {\n",
       "    figcaption {\n",
       "        font-family: monospace;\n",
       "    }\n",
       "}\n",
       "</style>\n"
      ],
      "text/plain": [
       "<IPython.core.display.HTML object>"
      ]
     },
     "metadata": {},
     "output_type": "display_data"
    }
   ],
   "source": [
    "%%html\n",
    "<style>\n",
    "table[itemscope]::before {\n",
    "    content: \"Traceback (most recent call last):\";\n",
    "}\n",
    "table[itemscope] {\n",
    "    td data {color: unset;}\n",
    "    tr:first-child, tr > th:first-child {\n",
    "        clip: rect(0 0 0 0);\n",
    "        clip-path: inset(50%);\n",
    "        height: 1px;\n",
    "        overflow: hidden;\n",
    "        position: absolute;\n",
    "        white-space: nowrap;\n",
    "        width: 1px;\n",
    "    }\n",
    "    tr {\n",
    "        display: block;\n",
    "        position: relative;\n",
    "\n",
    "        td {\n",
    "            display: inline;\n",
    "        }\n",
    "        td:nth-of-type(1)::before {content: 'File \"';}\n",
    "        td:nth-of-type(1)::after {content: '\", ';}\n",
    "        td:nth-of-type(2)::before {content: 'line ';}\n",
    "        td:nth-of-type(2)::after {content: ', ';}\n",
    "        td:nth-of-type(3)::before {content: 'in ';}\n",
    "        td {\n",
    "            left: 2em;\n",
    "            position: relative;\n",
    "        }\n",
    "        td:nth-of-type(4) {\n",
    "            display: block;\n",
    "            left: 4em;\n",
    "        }\n",
    "    }\n",
    "\n",
    "}\n",
    "figure {\n",
    "    figcaption {\n",
    "        font-family: monospace;\n",
    "    }\n",
    "}\n",
    "</style>"
   ]
  },
  {
   "cell_type": "code",
   "execution_count": null,
   "id": "550b277f-8419-4379-b4d2-ad83f5422cab",
   "metadata": {},
   "outputs": [],
   "source": []
  }
 ],
 "metadata": {
  "kernelspec": {
   "display_name": "Python 3 (ipykernel)",
   "language": "python",
   "name": "python3"
  },
  "language_info": {
   "codemirror_mode": {
    "name": "ipython",
    "version": 3
   },
   "file_extension": ".py",
   "mimetype": "text/x-python",
   "name": "python",
   "nbconvert_exporter": "python",
   "pygments_lexer": "ipython3",
   "version": "3.11.3"
  },
  "widgets": {
   "application/vnd.jupyter.widget-state+json": {
    "state": {},
    "version_major": 2,
    "version_minor": 0
   }
  }
 },
 "nbformat": 4,
 "nbformat_minor": 5
}
