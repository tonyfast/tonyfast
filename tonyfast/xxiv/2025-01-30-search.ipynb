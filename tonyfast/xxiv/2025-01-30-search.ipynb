{
 "cells": [
  {
   "cell_type": "markdown",
   "id": "0d88127c-75d0-4005-87bc-40906da860df",
   "metadata": {},
   "source": [
    "# a quick duckdb fts assistive technology search application\n",
    "\n",
    "we take the results saved from [<time>2025-01-29</time>](2025-01-29-ravelry.ipynb) document\n",
    "that searches from assistive technology on ravelry. \n",
    "\n",
    "warning: the search application is not is accessible to screen readers."
   ]
  },
  {
   "cell_type": "code",
   "execution_count": 1,
   "id": "10a9f95a-1b84-44c0-9b55-a5013d8e2592",
   "metadata": {},
   "outputs": [
    {
     "data": {
      "text/html": [
       "<h2>initializing the database</h2>\n",
       "<p>load ravelry patterns into a dataframe from a the <var>file</var> on disk.</p>\n",
       "<details><summary>seed the <var>duckdb</var> database</summary>\n",
       "<pre><code>import ipywidgets, duckdb\n",
       "df = pandas.read_feather(file := &quot;patterns.feather&quot;)\n",
       "</code></pre>\n",
       "<p>reuse and modify code from <a href=\"https://duckdb.org/2021/01/25/full-text-search.html\">Testing Out DuckDB's Full Text Search Extension</a>\n",
       "to create our search application.</p>\n",
       "<pre><code>atexit.register((\n",
       "    connection := duckdb.connect(read_only=False)\n",
       ").close)\n",
       "</code></pre>\n",
       "<p>create a <code>duckdb</code> database from the <var>df</var> the dataframe\n",
       "and create the full text search components.</p>\n",
       "<pre><code>connection.register('documents_df', df)\n",
       "connection.execute\\\n",
       "</code></pre>\n",
       "<pre><code class=\"sql\"><div class=\"highlight\"><pre><span></span><span class=\"k\">CREATE</span><span class=\"w\"> </span><span class=\"k\">TABLE</span><span class=\"w\"> </span><span class=\"n\">documents</span><span class=\"w\"> </span><span class=\"k\">AS</span><span class=\"w\"> </span><span class=\"p\">(</span><span class=\"k\">SELECT</span><span class=\"w\"> </span><span class=\"o\">*</span><span class=\"w\"> </span><span class=\"k\">FROM</span><span class=\"w\"> </span><span class=\"n\">documents_df</span><span class=\"p\">);</span>\n",
       "</pre></div>\n",
       "</code></pre>\n",
       "<pre><code>connection.execute\\\n",
       "</code></pre>\n",
       "<pre><code class=\"sql\"><div class=\"highlight\"><pre><span></span><span class=\"n\">PRAGMA</span><span class=\"w\"> </span><span class=\"n\">create_fts_index</span><span class=\"p\">(</span><span class=\"s1\">&#39;documents&#39;</span><span class=\"p\">,</span><span class=\"w\"> </span><span class=\"s1\">&#39;id&#39;</span><span class=\"p\">,</span><span class=\"w\"> </span><span class=\"s1\">&#39;notes&#39;</span><span class=\"p\">,</span><span class=\"w\"> </span><span class=\"n\">stopwords</span><span class=\"o\">=</span><span class=\"s1\">&#39;english&#39;</span><span class=\"p\">);</span>\n",
       "</pre></div>\n",
       "</code></pre>\n",
       "<pre><code>connection.execute\\\n",
       "</code></pre>\n",
       "<pre><code class=\"sql\"><div class=\"highlight\"><pre><span></span><span class=\"k\">PREPARE</span><span class=\"w\"> </span><span class=\"n\">fts_query</span><span class=\"w\"> </span><span class=\"k\">AS</span><span class=\"w\"> </span><span class=\"p\">(</span>\n",
       "<span class=\"w\">    </span><span class=\"k\">WITH</span><span class=\"w\"> </span><span class=\"n\">scored_docs</span><span class=\"w\"> </span><span class=\"k\">AS</span><span class=\"w\"> </span><span class=\"p\">(</span>\n",
       "<span class=\"w\">        </span><span class=\"k\">SELECT</span><span class=\"w\"> </span><span class=\"o\">*</span><span class=\"p\">,</span><span class=\"w\"> </span><span class=\"n\">fts_main_documents</span><span class=\"p\">.</span><span class=\"n\">match_bm25</span><span class=\"p\">(</span><span class=\"n\">id</span><span class=\"p\">,</span><span class=\"w\"> </span><span class=\"o\">?</span><span class=\"p\">)</span><span class=\"w\"> </span><span class=\"k\">AS</span><span class=\"w\"> </span><span class=\"n\">score</span><span class=\"w\"> </span><span class=\"k\">FROM</span><span class=\"w\"> </span><span class=\"n\">documents</span><span class=\"p\">)</span>\n",
       "<span class=\"w\">    </span><span class=\"k\">SELECT</span><span class=\"w\"> </span><span class=\"n\">permalink</span><span class=\"p\">,</span><span class=\"w\"> </span><span class=\"n\">notes</span>\n",
       "<span class=\"w\">    </span><span class=\"k\">FROM</span><span class=\"w\"> </span><span class=\"n\">scored_docs</span>\n",
       "<span class=\"w\">    </span><span class=\"k\">WHERE</span><span class=\"w\"> </span><span class=\"n\">score</span><span class=\"w\"> </span><span class=\"k\">IS</span><span class=\"w\"> </span><span class=\"k\">NOT</span><span class=\"w\"> </span><span class=\"k\">NULL</span>\n",
       "<span class=\"w\">    </span><span class=\"k\">ORDER</span><span class=\"w\"> </span><span class=\"k\">BY</span><span class=\"w\"> </span><span class=\"n\">score</span><span class=\"w\"> </span><span class=\"k\">DESC</span>\n",
       "<span class=\"w\">    </span><span class=\"k\">LIMIT</span><span class=\"w\"> </span><span class=\"mi\">10</span><span class=\"p\">)</span>\n",
       "</pre></div>\n",
       "</code></pre>\n",
       "</details>"
      ],
      "text/x-python": [
       "\n",
       "(\"\"\"## initializing the database\n",
       "load ravelry patterns into a dataframe from a the <var>file</var> on disk.\n",
       "<details><summary>seed the <var>duckdb</var> database</summary>\"\"\")\n",
       "\n",
       "import ipywidgets, duckdb\n",
       "df = pandas.read_feather(file := \"patterns.feather\")\n",
       "(\"\"\"reuse and modify code from [Testing Out DuckDB's Full Text Search Extension](https://duckdb.org/2021/01/25/full-text-search.html)\n",
       "to create our search application.\"\"\")\n",
       "\n",
       "atexit.register((\n",
       "    connection := duckdb.connect(read_only=False)\n",
       ").close)\n",
       "(\"\"\"create a `duckdb` database from the <var>df</var> the dataframe\n",
       "and create the full text search components.\"\"\")\n",
       "\n",
       "connection.register('documents_df', df)\n",
       "connection.execute\\\n",
       "( # ```sql\n",
       "\"\"\"CREATE TABLE documents AS (SELECT * FROM documents_df);\n",
       "\"\"\") # ```\n",
       "\\\n",
       "connection.execute\\\n",
       "( # ```sql\n",
       "\"\"\"PRAGMA create_fts_index('documents', 'id', 'notes', stopwords='english');\n",
       "\"\"\") # ```\n",
       "\\\n",
       "connection.execute\\\n",
       "( # ```sql\n",
       "\"\"\"PREPARE fts_query AS (\n",
       "    WITH scored_docs AS (\n",
       "        SELECT *, fts_main_documents.match_bm25(id, ?) AS score FROM documents)\n",
       "    SELECT permalink, notes\n",
       "    FROM scored_docs\n",
       "    WHERE score IS NOT NULL\n",
       "    ORDER BY score DESC\n",
       "    LIMIT 10)\n",
       "\"\"\") # ```;\n",
       "\\\n",
       "\\\n",
       "(\"\"\"</details>\"\"\");\n"
      ]
     },
     "metadata": {},
     "output_type": "display_data"
    }
   ],
   "source": [
    "%% \n",
    "## initializing the database\n",
    "load ravelry patterns into a dataframe from a the <var>file</var> on disk.\n",
    "<details><summary>seed the <var>duckdb</var> database</summary>\n",
    "\n",
    "    import ipywidgets, duckdb\n",
    "    df = pandas.read_feather(file := \"patterns.feather\")\n",
    "reuse and modify code from [Testing Out DuckDB's Full Text Search Extension](https://duckdb.org/2021/01/25/full-text-search.html)\n",
    "to create our search application.\n",
    "\n",
    "    atexit.register((\n",
    "        connection := duckdb.connect(read_only=False)\n",
    "    ).close)\n",
    "create a `duckdb` database from the <var>df</var> the dataframe\n",
    "and create the full text search components.\n",
    "\n",
    "    connection.register('documents_df', df)\n",
    "    connection.execute\\\n",
    "```sql\n",
    "CREATE TABLE documents AS (SELECT * FROM documents_df);\n",
    "```\n",
    "\n",
    "    connection.execute\\\n",
    "```sql\n",
    "PRAGMA create_fts_index('documents', 'id', 'notes', stopwords='english');\n",
    "```\n",
    "\n",
    "    connection.execute\\\n",
    "```sql\n",
    "PREPARE fts_query AS (\n",
    "    WITH scored_docs AS (\n",
    "        SELECT *, fts_main_documents.match_bm25(id, ?) AS score FROM documents)\n",
    "    SELECT permalink, notes\n",
    "    FROM scored_docs\n",
    "    WHERE score IS NOT NULL\n",
    "    ORDER BY score DESC\n",
    "    LIMIT 10)\n",
    "```\n",
    "    \n",
    "\n",
    "</details>"
   ]
  },
  {
   "cell_type": "code",
   "execution_count": 2,
   "id": "2ed19496-a417-45da-9afd-5a2417fb4f26",
   "metadata": {},
   "outputs": [
    {
     "data": {
      "text/html": [
       "<details><summary>the <var>search</var> function</summary>\n",
       "<pre><code>def search(q: str) -&gt; DataFrame:\n",
       "</code></pre>\n",
       "<p>use <code>duckdb</code> full text search to find assistive technology patterns from ravelry.</p>\n",
       "<pre><code>    df = DataFrame(\n",
       "        connection.execute(&quot;EXECUTE fts_query('&quot; + q + &quot;')&quot;).fetchall(), None, &quot;permalink notes&quot;.split()\n",
       "    )\n",
       "    df.permalink = &quot;https://www.ravelry.com/patterns/&quot; + df.permalink \n",
       "    df = df.set_index(&quot;permalink&quot;)\n",
       "    return df.notes.apply(shell.tangle.parser.parser.render).to_frame(&quot;info&quot;)\n",
       "</code></pre>\n",
       "</details>"
      ],
      "text/x-python": [
       "\n",
       "(\"\"\"<details><summary>the <var>search</var> function</summary>\"\"\")\n",
       "\n",
       "def search(q: str) -> DataFrame:\n",
       "    (\"\"\"use `duckdb` full text search to find assistive technology patterns from ravelry.\"\"\")\n",
       "\n",
       "    df = DataFrame(\n",
       "        connection.execute(\"EXECUTE fts_query('\" + q + \"')\").fetchall(), None, \"permalink notes\".split()\n",
       "    )\n",
       "    df.permalink = \"https://www.ravelry.com/patterns/\" + df.permalink \n",
       "    df = df.set_index(\"permalink\")\n",
       "    return df.notes.apply(shell.tangle.parser.parser.render).to_frame(\"info\")\n",
       "\n",
       "    (\"\"\"</details>\"\"\");\n"
      ]
     },
     "metadata": {},
     "output_type": "display_data"
    }
   ],
   "source": [
    "%%\n",
    "<details><summary>the <var>search</var> function</summary>\n",
    "\n",
    "    def search(q: str) -> DataFrame:\n",
    "use `duckdb` full text search to find assistive technology patterns from ravelry.\n",
    "        \n",
    "        df = DataFrame(\n",
    "            connection.execute(\"EXECUTE fts_query('\" + q + \"')\").fetchall(), None, \"permalink notes\".split()\n",
    "        )\n",
    "        df.permalink = \"https://www.ravelry.com/patterns/\" + df.permalink \n",
    "        df = df.set_index(\"permalink\")\n",
    "        return df.notes.apply(shell.tangle.parser.parser.render).to_frame(\"info\")\n",
    "\n",
    "</details>"
   ]
  },
  {
   "cell_type": "markdown",
   "id": "057b5540-fa8a-42b2-b2ca-f471c707c49c",
   "metadata": {},
   "source": [
    "## demo\n",
    "\n",
    "use <var>ipywidgets</var> to demo the search."
   ]
  },
  {
   "cell_type": "code",
   "execution_count": 3,
   "id": "71cf9253-a5dd-49f3-a8f9-8f4ca7c6b3a6",
   "metadata": {},
   "outputs": [
    {
     "data": {
      "application/vnd.jupyter.widget-view+json": {
       "model_id": "162a53d3bd82409f8091ce055e10a2bd",
       "version_major": 2,
       "version_minor": 0
      },
      "text/plain": [
       "interactive(children=(Text(value='hat', description='text'), Output()), _dom_classes=('widget-interact',))"
      ]
     },
     "metadata": {},
     "output_type": "display_data"
    }
   ],
   "source": [
    "    @ipywidgets.interact\n",
    "    def app(text: str = \"hat\"): return ipywidgets.HTML(search(text).style._repr_html_())"
   ]
  }
 ],
 "metadata": {
  "kernelspec": {
   "display_name": "Python [conda env:p311] *",
   "language": "python",
   "name": "conda-env-p311-py"
  },
  "language_info": {
   "codemirror_mode": {
    "name": "ipython",
    "version": 3
   },
   "file_extension": ".py",
   "mimetype": "text/x-python",
   "name": "python",
   "nbconvert_exporter": "python",
   "pygments_lexer": "ipython3",
   "version": "3.11.6"
  },
  "widgets": {
   "application/vnd.jupyter.widget-state+json": {
    "state": {},
    "version_major": 2,
    "version_minor": 0
   }
  }
 },
 "nbformat": 4,
 "nbformat_minor": 5
}
