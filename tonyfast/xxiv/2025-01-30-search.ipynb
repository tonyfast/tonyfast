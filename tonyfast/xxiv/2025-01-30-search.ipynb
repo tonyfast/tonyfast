{
 "cells": [
  {
   "cell_type": "markdown",
   "id": "0d88127c-75d0-4005-87bc-40906da860df",
   "metadata": {},
   "source": [
    "# a quick duckdb fts assistive technology search application\n",
    "\n",
    "we take the results saved from [<time>2025-01-29</time>](2025-01-29-ravelry.ipynb) document\n",
    "that searches from assistive technology on ravelry. \n",
    "\n",
    "warning: the search application is not is accessible to screen readers."
   ]
  },
  {
   "cell_type": "code",
   "execution_count": 5,
   "id": "1921aed0-b3a3-4374-a04e-6e9cd7163a53",
   "metadata": {},
   "outputs": [
    {
     "data": {
      "text/html": [
       "<h2>recording</h2>\n",
       "<iframe width=\"923\" height=\"661\" src=\"https://www.youtube.com/embed/JB6vCC8LxWA\" title=\"a11yhood progress 2025-01-30\" frameborder=\"0\" allow=\"accelerometer; autoplay; clipboard-write; encrypted-media; gyroscope; picture-in-picture; web-share\" referrerpolicy=\"strict-origin-when-cross-origin\" allowfullscreen></iframe>"
      ],
      "text/x-python": [
       "\n",
       "(\"\"\"## recording\n",
       "\n",
       "<iframe width=\\\"923\\\" height=\\\"661\\\" src=\\\"https://www.youtube.com/embed/JB6vCC8LxWA\\\" title=\\\"a11yhood progress 2025-01-30\\\" frameborder=\\\"0\\\" allow=\\\"accelerometer; autoplay; clipboard-write; encrypted-media; gyroscope; picture-in-picture; web-share\\\" referrerpolicy=\\\"strict-origin-when-cross-origin\\\" allowfullscreen></iframe>\"\"\");\n"
      ]
     },
     "metadata": {},
     "output_type": "display_data"
    }
   ],
   "source": [
    "%%\n",
    "## recording\n",
    "\n",
    "<iframe width=\"923\" height=\"661\" src=\"https://www.youtube.com/embed/JB6vCC8LxWA\" title=\"a11yhood progress 2025-01-30\" frameborder=\"0\" allow=\"accelerometer; autoplay; clipboard-write; encrypted-media; gyroscope; picture-in-picture; web-share\" referrerpolicy=\"strict-origin-when-cross-origin\" allowfullscreen></iframe>"
   ]
  },
  {
   "cell_type": "code",
   "execution_count": 1,
   "id": "10a9f95a-1b84-44c0-9b55-a5013d8e2592",
   "metadata": {
    "jupyter": {
     "source_hidden": true
    }
   },
   "outputs": [
    {
     "data": {
      "text/html": [
       "<h2>initializing the database</h2>\n",
       "<p>load ravelry patterns into a dataframe from a the <var>file</var> on disk.</p>\n",
       "<details><summary>seed the <var>duckdb</var> database</summary>\n",
       "<pre><code>import ipywidgets, duckdb\n",
       "df = pandas.read_feather(file := &quot;patterns.feather&quot;)\n",
       "</code></pre>\n",
       "<p>reuse and modify code from <a href=\"https://duckdb.org/2021/01/25/full-text-search.html\">Testing Out DuckDB's Full Text Search Extension</a>\n",
       "to create our search application.</p>\n",
       "<pre><code>atexit.register((\n",
       "    connection := duckdb.connect(read_only=False)\n",
       ").close)\n",
       "</code></pre>\n",
       "<p>create a <code>duckdb</code> database from the <var>df</var> the dataframe\n",
       "and create the full text search components.</p>\n",
       "<pre><code>connection.register('documents_df', df)\n",
       "connection.execute\\\n",
       "</code></pre>\n",
       "<pre><code class=\"sql\"><div class=\"highlight\"><pre><span></span><span class=\"k\">CREATE</span><span class=\"w\"> </span><span class=\"k\">TABLE</span><span class=\"w\"> </span><span class=\"n\">documents</span><span class=\"w\"> </span><span class=\"k\">AS</span><span class=\"w\"> </span><span class=\"p\">(</span><span class=\"k\">SELECT</span><span class=\"w\"> </span><span class=\"o\">*</span><span class=\"w\"> </span><span class=\"k\">FROM</span><span class=\"w\"> </span><span class=\"n\">documents_df</span><span class=\"p\">);</span>\n",
       "</pre></div>\n",
       "</code></pre>\n",
       "<pre><code>connection.execute\\\n",
       "</code></pre>\n",
       "<pre><code class=\"sql\"><div class=\"highlight\"><pre><span></span><span class=\"n\">PRAGMA</span><span class=\"w\"> </span><span class=\"n\">create_fts_index</span><span class=\"p\">(</span><span class=\"s1\">&#39;documents&#39;</span><span class=\"p\">,</span><span class=\"w\"> </span><span class=\"s1\">&#39;id&#39;</span><span class=\"p\">,</span><span class=\"w\"> </span><span class=\"s1\">&#39;notes&#39;</span><span class=\"p\">,</span><span class=\"w\"> </span><span class=\"n\">stopwords</span><span class=\"o\">=</span><span class=\"s1\">&#39;english&#39;</span><span class=\"p\">);</span>\n",
       "</pre></div>\n",
       "</code></pre>\n",
       "<pre><code>connection.execute\\\n",
       "</code></pre>\n",
       "<pre><code class=\"sql\"><div class=\"highlight\"><pre><span></span><span class=\"k\">PREPARE</span><span class=\"w\"> </span><span class=\"n\">fts_query</span><span class=\"w\"> </span><span class=\"k\">AS</span><span class=\"w\"> </span><span class=\"p\">(</span>\n",
       "<span class=\"w\">    </span><span class=\"k\">WITH</span><span class=\"w\"> </span><span class=\"n\">scored_docs</span><span class=\"w\"> </span><span class=\"k\">AS</span><span class=\"w\"> </span><span class=\"p\">(</span>\n",
       "<span class=\"w\">        </span><span class=\"k\">SELECT</span><span class=\"w\"> </span><span class=\"o\">*</span><span class=\"p\">,</span><span class=\"w\"> </span><span class=\"n\">fts_main_documents</span><span class=\"p\">.</span><span class=\"n\">match_bm25</span><span class=\"p\">(</span><span class=\"n\">id</span><span class=\"p\">,</span><span class=\"w\"> </span><span class=\"o\">?</span><span class=\"p\">)</span><span class=\"w\"> </span><span class=\"k\">AS</span><span class=\"w\"> </span><span class=\"n\">score</span><span class=\"w\"> </span><span class=\"k\">FROM</span><span class=\"w\"> </span><span class=\"n\">documents</span><span class=\"p\">)</span>\n",
       "<span class=\"w\">    </span><span class=\"k\">SELECT</span><span class=\"w\"> </span><span class=\"n\">permalink</span><span class=\"p\">,</span><span class=\"w\"> </span><span class=\"n\">notes</span>\n",
       "<span class=\"w\">    </span><span class=\"k\">FROM</span><span class=\"w\"> </span><span class=\"n\">scored_docs</span>\n",
       "<span class=\"w\">    </span><span class=\"k\">WHERE</span><span class=\"w\"> </span><span class=\"n\">score</span><span class=\"w\"> </span><span class=\"k\">IS</span><span class=\"w\"> </span><span class=\"k\">NOT</span><span class=\"w\"> </span><span class=\"k\">NULL</span>\n",
       "<span class=\"w\">    </span><span class=\"k\">ORDER</span><span class=\"w\"> </span><span class=\"k\">BY</span><span class=\"w\"> </span><span class=\"n\">score</span><span class=\"w\"> </span><span class=\"k\">DESC</span>\n",
       "<span class=\"w\">    </span><span class=\"k\">LIMIT</span><span class=\"w\"> </span><span class=\"mi\">10</span><span class=\"p\">)</span>\n",
       "</pre></div>\n",
       "</code></pre>\n",
       "</details>"
      ],
      "text/x-python": [
       "\n",
       "(\"\"\"## initializing the database\n",
       "load ravelry patterns into a dataframe from a the <var>file</var> on disk.\n",
       "<details><summary>seed the <var>duckdb</var> database</summary>\"\"\")\n",
       "\n",
       "import ipywidgets, duckdb\n",
       "df = pandas.read_feather(file := \"patterns.feather\")\n",
       "(\"\"\"reuse and modify code from [Testing Out DuckDB's Full Text Search Extension](https://duckdb.org/2021/01/25/full-text-search.html)\n",
       "to create our search application.\"\"\")\n",
       "\n",
       "atexit.register((\n",
       "    connection := duckdb.connect(read_only=False)\n",
       ").close)\n",
       "(\"\"\"create a `duckdb` database from the <var>df</var> the dataframe\n",
       "and create the full text search components.\"\"\")\n",
       "\n",
       "connection.register('documents_df', df)\n",
       "connection.execute\\\n",
       "( # ```sql\n",
       "\"\"\"CREATE TABLE documents AS (SELECT * FROM documents_df);\n",
       "\"\"\") # ```\n",
       "\\\n",
       "connection.execute\\\n",
       "( # ```sql\n",
       "\"\"\"PRAGMA create_fts_index('documents', 'id', 'notes', stopwords='english');\n",
       "\"\"\") # ```\n",
       "\\\n",
       "connection.execute\\\n",
       "( # ```sql\n",
       "\"\"\"PREPARE fts_query AS (\n",
       "    WITH scored_docs AS (\n",
       "        SELECT *, fts_main_documents.match_bm25(id, ?) AS score FROM documents)\n",
       "    SELECT permalink, notes\n",
       "    FROM scored_docs\n",
       "    WHERE score IS NOT NULL\n",
       "    ORDER BY score DESC\n",
       "    LIMIT 10)\n",
       "\"\"\") # ```;\n",
       "\\\n",
       "\\\n",
       "(\"\"\"</details>\"\"\");\n"
      ]
     },
     "metadata": {},
     "output_type": "display_data"
    }
   ],
   "source": [
    "%% \n",
    "## initializing the database\n",
    "load ravelry patterns into a dataframe from a the <var>file</var> on disk.\n",
    "<details><summary>seed the <var>duckdb</var> database</summary>\n",
    "\n",
    "    import ipywidgets, duckdb\n",
    "    df = pandas.read_feather(file := \"patterns.feather\")\n",
    "reuse and modify code from [Testing Out DuckDB's Full Text Search Extension](https://duckdb.org/2021/01/25/full-text-search.html)\n",
    "to create our search application.\n",
    "\n",
    "    atexit.register((\n",
    "        connection := duckdb.connect(read_only=False)\n",
    "    ).close)\n",
    "create a `duckdb` database from the <var>df</var> the dataframe\n",
    "and create the full text search components.\n",
    "\n",
    "    connection.register('documents_df', df)\n",
    "    connection.execute\\\n",
    "```sql\n",
    "CREATE TABLE documents AS (SELECT * FROM documents_df);\n",
    "```\n",
    "\n",
    "    connection.execute\\\n",
    "```sql\n",
    "PRAGMA create_fts_index('documents', 'id', 'notes', stopwords='english');\n",
    "```\n",
    "\n",
    "    connection.execute\\\n",
    "```sql\n",
    "PREPARE fts_query AS (\n",
    "    WITH scored_docs AS (\n",
    "        SELECT *, fts_main_documents.match_bm25(id, ?) AS score FROM documents)\n",
    "    SELECT permalink, notes\n",
    "    FROM scored_docs\n",
    "    WHERE score IS NOT NULL\n",
    "    ORDER BY score DESC\n",
    "    LIMIT 10)\n",
    "```\n",
    "    \n",
    "\n",
    "</details>"
   ]
  },
  {
   "cell_type": "code",
   "execution_count": 2,
   "id": "2ed19496-a417-45da-9afd-5a2417fb4f26",
   "metadata": {
    "jupyter": {
     "source_hidden": true
    }
   },
   "outputs": [
    {
     "data": {
      "text/html": [
       "<details><summary>the <var>search</var> function</summary>\n",
       "<pre><code>def search(q: str) -&gt; DataFrame:\n",
       "</code></pre>\n",
       "<p>use <code>duckdb</code> full text search to find assistive technology patterns from ravelry.</p>\n",
       "<pre><code>    df = DataFrame(\n",
       "        connection.execute(&quot;EXECUTE fts_query('&quot; + q + &quot;')&quot;).fetchall(), None, &quot;permalink notes&quot;.split()\n",
       "    )\n",
       "    df.permalink = &quot;https://www.ravelry.com/patterns/&quot; + df.permalink \n",
       "    df = df.set_index(&quot;permalink&quot;)\n",
       "    return df.notes.apply(shell.tangle.parser.parser.render).to_frame(&quot;info&quot;)\n",
       "</code></pre>\n",
       "</details>"
      ],
      "text/x-python": [
       "\n",
       "(\"\"\"<details><summary>the <var>search</var> function</summary>\"\"\")\n",
       "\n",
       "def search(q: str) -> DataFrame:\n",
       "    (\"\"\"use `duckdb` full text search to find assistive technology patterns from ravelry.\"\"\")\n",
       "\n",
       "    df = DataFrame(\n",
       "        connection.execute(\"EXECUTE fts_query('\" + q + \"')\").fetchall(), None, \"permalink notes\".split()\n",
       "    )\n",
       "    df.permalink = \"https://www.ravelry.com/patterns/\" + df.permalink \n",
       "    df = df.set_index(\"permalink\")\n",
       "    return df.notes.apply(shell.tangle.parser.parser.render).to_frame(\"info\")\n",
       "\n",
       "    (\"\"\"</details>\"\"\");\n"
      ]
     },
     "metadata": {},
     "output_type": "display_data"
    }
   ],
   "source": [
    "%%\n",
    "<details><summary>the <var>search</var> function</summary>\n",
    "\n",
    "    def search(q: str) -> DataFrame:\n",
    "use `duckdb` full text search to find assistive technology patterns from ravelry.\n",
    "        \n",
    "        df = DataFrame(\n",
    "            connection.execute(\"EXECUTE fts_query('\" + q + \"')\").fetchall(), None, \"permalink notes\".split()\n",
    "        )\n",
    "        df.permalink = \"https://www.ravelry.com/patterns/\" + df.permalink \n",
    "        df = df.set_index(\"permalink\")\n",
    "        return df.notes.apply(shell.tangle.parser.parser.render).to_frame(\"info\")\n",
    "\n",
    "</details>"
   ]
  },
  {
   "cell_type": "markdown",
   "id": "057b5540-fa8a-42b2-b2ca-f471c707c49c",
   "metadata": {},
   "source": [
    "## demo\n",
    "\n",
    "use <var>ipywidgets</var> to demo the search."
   ]
  },
  {
   "cell_type": "code",
   "execution_count": 3,
   "id": "71cf9253-a5dd-49f3-a8f9-8f4ca7c6b3a6",
   "metadata": {
    "jupyter": {
     "source_hidden": true
    }
   },
   "outputs": [
    {
     "data": {
      "application/vnd.jupyter.widget-view+json": {
       "model_id": "28751ef500cb43e8982dcce033a75a9b",
       "version_major": 2,
       "version_minor": 0
      },
      "text/plain": [
       "interactive(children=(Text(value='hat', description='text'), Output()), _dom_classes=('widget-interact',))"
      ]
     },
     "metadata": {},
     "output_type": "display_data"
    }
   ],
   "source": [
    "    @ipywidgets.interact\n",
    "    def app(text: str = \"hat\"): return ipywidgets.HTML(search(text).style._repr_html_())"
   ]
  }
 ],
 "metadata": {
  "kernelspec": {
   "display_name": "Python [conda env:p311] *",
   "language": "python",
   "name": "conda-env-p311-py"
  },
  "language_info": {
   "codemirror_mode": {
    "name": "ipython",
    "version": 3
   },
   "file_extension": ".py",
   "mimetype": "text/x-python",
   "name": "python",
   "nbconvert_exporter": "python",
   "pygments_lexer": "ipython3",
   "version": "3.11.6"
  },
  "widgets": {
   "application/vnd.jupyter.widget-state+json": {
    "state": {
     "031e5cb8ab644f0786070bebaa5093a7": {
      "model_module": "@jupyter-widgets/controls",
      "model_module_version": "2.0.0",
      "model_name": "HTMLStyleModel",
      "state": {
       "description_width": "",
       "font_size": null,
       "text_color": null
      }
     },
     "03cb93e0a0ac4667bebd6f1da52eaa33": {
      "model_module": "@jupyter-widgets/controls",
      "model_module_version": "2.0.0",
      "model_name": "HTMLModel",
      "state": {
       "layout": "IPY_MODEL_d8e6fb6860314c4a8ac7a7be4d968240",
       "style": "IPY_MODEL_44a9069cd7ce41f8a2f2e5b06670707e",
       "value": "<style type=\"text/css\">\n</style>\n<table id=\"T_ed189\">\n  <thead>\n    <tr>\n      <th class=\"blank level0\" >&nbsp;</th>\n      <th id=\"T_ed189_level0_col0\" class=\"col_heading level0 col0\" >info</th>\n    </tr>\n    <tr>\n      <th class=\"index_name level0\" >permalink</th>\n      <th class=\"blank col0\" >&nbsp;</th>\n    </tr>\n  </thead>\n  <tbody>\n  </tbody>\n</table>\n"
      }
     },
     "040e96eed7ca4ca7a55603f2470e732e": {
      "model_module": "@jupyter-widgets/controls",
      "model_module_version": "2.0.0",
      "model_name": "HTMLStyleModel",
      "state": {
       "description_width": "",
       "font_size": null,
       "text_color": null
      }
     },
     "1467045f862f4d67a6bbc7a1222813af": {
      "model_module": "@jupyter-widgets/controls",
      "model_module_version": "2.0.0",
      "model_name": "HTMLStyleModel",
      "state": {
       "description_width": "",
       "font_size": null,
       "text_color": null
      }
     },
     "1c00a97f6fac49709b5812e17ee5de0b": {
      "model_module": "@jupyter-widgets/controls",
      "model_module_version": "2.0.0",
      "model_name": "HTMLStyleModel",
      "state": {
       "description_width": "",
       "font_size": null,
       "text_color": null
      }
     },
     "1e4f45aa9d3243759800c7d1939cd809": {
      "model_module": "@jupyter-widgets/base",
      "model_module_version": "2.0.0",
      "model_name": "LayoutModel",
      "state": {}
     },
     "20147792d2264be78580bba957d39cb0": {
      "model_module": "@jupyter-widgets/base",
      "model_module_version": "2.0.0",
      "model_name": "LayoutModel",
      "state": {}
     },
     "2069c1baafa8408bb5c9616d3baceebb": {
      "model_module": "@jupyter-widgets/controls",
      "model_module_version": "2.0.0",
      "model_name": "HTMLStyleModel",
      "state": {
       "description_width": "",
       "font_size": null,
       "text_color": null
      }
     },
     "26e19d3dba3d44d280afa286754bd918": {
      "model_module": "@jupyter-widgets/base",
      "model_module_version": "2.0.0",
      "model_name": "LayoutModel",
      "state": {}
     },
     "2718065944984afda5222f8d6cf40ecb": {
      "model_module": "@jupyter-widgets/base",
      "model_module_version": "2.0.0",
      "model_name": "LayoutModel",
      "state": {}
     },
     "28751ef500cb43e8982dcce033a75a9b": {
      "model_module": "@jupyter-widgets/controls",
      "model_module_version": "2.0.0",
      "model_name": "VBoxModel",
      "state": {
       "_dom_classes": [
        "widget-interact"
       ],
       "children": [
        "IPY_MODEL_e9cb2cf5bb2e4a469c48df6cc6c37ee2",
        "IPY_MODEL_58f199cfb8df4f36b1c21d8b914116fa"
       ],
       "layout": "IPY_MODEL_37c8e08abb6f4d59b577178a721873a9"
      }
     },
     "324685b23ab54e6bafa24a0f2d45d06c": {
      "model_module": "@jupyter-widgets/controls",
      "model_module_version": "2.0.0",
      "model_name": "HTMLStyleModel",
      "state": {
       "description_width": "",
       "font_size": null,
       "text_color": null
      }
     },
     "36559f1c2bc34418ac46dd4610552bdc": {
      "model_module": "@jupyter-widgets/controls",
      "model_module_version": "2.0.0",
      "model_name": "TextStyleModel",
      "state": {
       "description_width": "",
       "font_size": null,
       "text_color": null
      }
     },
     "36fc43758a5643929e1c894f81a9cf9f": {
      "model_module": "@jupyter-widgets/controls",
      "model_module_version": "2.0.0",
      "model_name": "HTMLModel",
      "state": {
       "layout": "IPY_MODEL_dc3ea6a2dfe64030a26e52f116b8ca61",
       "style": "IPY_MODEL_38af49c611704cab9e6221701d75e140",
       "value": "<style type=\"text/css\">\n</style>\n<table id=\"T_bdc32\">\n  <thead>\n    <tr>\n      <th class=\"blank level0\" >&nbsp;</th>\n      <th id=\"T_bdc32_level0_col0\" class=\"col_heading level0 col0\" >info</th>\n    </tr>\n    <tr>\n      <th class=\"index_name level0\" >permalink</th>\n      <th class=\"blank col0\" >&nbsp;</th>\n    </tr>\n  </thead>\n  <tbody>\n  </tbody>\n</table>\n"
      }
     },
     "37c8e08abb6f4d59b577178a721873a9": {
      "model_module": "@jupyter-widgets/base",
      "model_module_version": "2.0.0",
      "model_name": "LayoutModel",
      "state": {}
     },
     "38af49c611704cab9e6221701d75e140": {
      "model_module": "@jupyter-widgets/controls",
      "model_module_version": "2.0.0",
      "model_name": "HTMLStyleModel",
      "state": {
       "description_width": "",
       "font_size": null,
       "text_color": null
      }
     },
     "3aa73f948fca466b9f1481ae4d654e2d": {
      "model_module": "@jupyter-widgets/base",
      "model_module_version": "2.0.0",
      "model_name": "LayoutModel",
      "state": {}
     },
     "3c26bcd56cc149a19421840e6974034f": {
      "model_module": "@jupyter-widgets/base",
      "model_module_version": "2.0.0",
      "model_name": "LayoutModel",
      "state": {}
     },
     "404fa477a9ee4088b0259454bcc02a9b": {
      "model_module": "@jupyter-widgets/controls",
      "model_module_version": "2.0.0",
      "model_name": "HTMLModel",
      "state": {
       "layout": "IPY_MODEL_26e19d3dba3d44d280afa286754bd918",
       "style": "IPY_MODEL_9986b7ae58244feb9ecc3648e39d1ff2",
       "value": "<style type=\"text/css\">\n</style>\n<table id=\"T_e7ff7\">\n  <thead>\n    <tr>\n      <th class=\"blank level0\" >&nbsp;</th>\n      <th id=\"T_e7ff7_level0_col0\" class=\"col_heading level0 col0\" >info</th>\n    </tr>\n    <tr>\n      <th class=\"index_name level0\" >permalink</th>\n      <th class=\"blank col0\" >&nbsp;</th>\n    </tr>\n  </thead>\n  <tbody>\n  </tbody>\n</table>\n"
      }
     },
     "44a9069cd7ce41f8a2f2e5b06670707e": {
      "model_module": "@jupyter-widgets/controls",
      "model_module_version": "2.0.0",
      "model_name": "HTMLStyleModel",
      "state": {
       "description_width": "",
       "font_size": null,
       "text_color": null
      }
     },
     "5210f110490b4467b149e44f1b3098d0": {
      "model_module": "@jupyter-widgets/controls",
      "model_module_version": "2.0.0",
      "model_name": "HTMLModel",
      "state": {
       "layout": "IPY_MODEL_f927d6e370624465b21b4a0c1f249e6d",
       "style": "IPY_MODEL_6644d6fa73264eac8e8cd8ea91b9c45a",
       "value": "<style type=\"text/css\">\n</style>\n<table id=\"T_d48c1\">\n  <thead>\n    <tr>\n      <th class=\"blank level0\" >&nbsp;</th>\n      <th id=\"T_d48c1_level0_col0\" class=\"col_heading level0 col0\" >info</th>\n    </tr>\n    <tr>\n      <th class=\"index_name level0\" >permalink</th>\n      <th class=\"blank col0\" >&nbsp;</th>\n    </tr>\n  </thead>\n  <tbody>\n  </tbody>\n</table>\n"
      }
     },
     "58f199cfb8df4f36b1c21d8b914116fa": {
      "model_module": "@jupyter-widgets/output",
      "model_module_version": "1.0.0",
      "model_name": "OutputModel",
      "state": {
       "layout": "IPY_MODEL_3aa73f948fca466b9f1481ae4d654e2d",
       "outputs": [
        {
         "data": {
          "application/vnd.jupyter.widget-view+json": {
           "model_id": "6595f14c04c9427a9d0d51e13573366e",
           "version_major": 2,
           "version_minor": 0
          },
          "text/plain": "HTML(value='<style type=\"text/css\">\\n</style>\\n<table id=\"T_ac0be\">\\n  <thead>\\n    <tr>\\n      <th class=\"bla…"
         },
         "metadata": {},
         "output_type": "display_data"
        }
       ]
      }
     },
     "59700dfc710e4cba98b9dff7ca2950f8": {
      "model_module": "@jupyter-widgets/controls",
      "model_module_version": "2.0.0",
      "model_name": "HTMLModel",
      "state": {
       "layout": "IPY_MODEL_1e4f45aa9d3243759800c7d1939cd809",
       "style": "IPY_MODEL_64387706039049f78595d80a5287d6ad",
       "value": "<style type=\"text/css\">\n</style>\n<table id=\"T_9c84a\">\n  <thead>\n    <tr>\n      <th class=\"blank level0\" >&nbsp;</th>\n      <th id=\"T_9c84a_level0_col0\" class=\"col_heading level0 col0\" >info</th>\n    </tr>\n    <tr>\n      <th class=\"index_name level0\" >permalink</th>\n      <th class=\"blank col0\" >&nbsp;</th>\n    </tr>\n  </thead>\n  <tbody>\n    <tr>\n      <th id=\"T_9c84a_level0_row0\" class=\"row_heading level0 row0\" >https://www.ravelry.com/patterns/pane-lace-with-moon</th>\n      <td id=\"T_9c84a_row0_col0\" class=\"data row0 col0\" ><p>The last pattern of the “Pane Lace” series is here!! ^_^</p>\n<p>For guys who come across this design as first time, this is the last one of the hat in the “Pane Lace” series which I have designed to donate to the local hospital for brain surgery patients.This design also use the same pattern in the body part as the other hat in this series but have different shaping crown.</p>\n<p>This hat looks more different than the other hats in this series as I was required to leave the hole at the top of the hat so the IV tube can go through. But some friends said they can use the hat with the hole on top for pulling out the pony ^_^</p>\n<p>As this was required for the brain surgery patients which light and soft yarn preferred, then I use the Thai Cotton Bamboo for this project.</p>\n<p>You can find the other hat of the “Pane Lace” series in the link following,</p>\n<p>Pane Lace with Star:\n<a href=\"http://www.ravelry.com/patterns/library/pane-lace-with-star\">http://www.ravelry.com/patterns/library/pane-lace-with-star</a></p>\n<p>Pane Lace with Sun:\n<a href=\"http://www.ravelry.com/patterns/library/pane-lace-with-sun\">http://www.ravelry.com/patterns/library/pane-lace-with-sun</a></p>\n<p>Send my best wishes to all the people you knit these hats for ^_^</p>\n<p>**One of our friend found some error on the pattern of this hat. Please be sure if you have the update version one, revised on July 8, 2016. Thank you!</p>\n</td>\n    </tr>\n    <tr>\n      <th id=\"T_9c84a_level0_row1\" class=\"row_heading level0 row1\" >https://www.ravelry.com/patterns/olivias-nicu-hat</th>\n      <td id=\"T_9c84a_row1_col0\" class=\"data row1 col0\" ><p>In 2014, my youngest daughter spent time in the NICU.  She was given a cute hat that allowed her IV to poke out the top so that her little head could still be warm.  The staff at our NICU were so fabulous and the support families were so generous that I wanted to give something back.  I searched the internet for the pattern, but none was to be found.  I designed this hat like the hat we were given to that I could make and donate some hats to the NICU.  I ask that you do not sell items from this pattern, it is meant to be free for those people who want to donate or make for personal use.\nThe hat is knit flat and an easy beginner pattern.</p>\n</td>\n    </tr>\n    <tr>\n      <th id=\"T_9c84a_level0_row2\" class=\"row_heading level0 row2\" >https://www.ravelry.com/patterns/nicu-preemie-hat</th>\n      <td id=\"T_9c84a_row2_col0\" class=\"data row2 col0\" ><p>Knitted hat for NICU use for preemies in three sizes. Small amount of sock weight yarn needed for each hat, one skein will make several hats. Merino wool/poly mix preferred by medical staff.</p>\n</td>\n    </tr>\n    <tr>\n      <th id=\"T_9c84a_level0_row3\" class=\"row_heading level0 row3\" >https://www.ravelry.com/patterns/irena-neck-warmer</th>\n      <td id=\"T_9c84a_row3_col0\" class=\"data row3 col0\" ><p>The FREE neckwarmer crochet pattern is available on the website</p>\n<p>**If you choose to BUY the Irena Neck Warmer, you will also receive the Matching HAT crochet pattern and the Crochet ROSE pattern within the 1 PDF</p>\n<p><a href=\"https://crochet-patterns-free.com/free-crochet-flower-pattern-how-to/\">Crochet Rose Pattern used you can find HERE</a>\n<a href=\"https://crochet-patterns-free.com/easy-crochet-hat-pattern-beginners/\">and the EASY beginner Hat</a></p>\n< />\n< />\n</td>\n    </tr>\n    <tr>\n      <th id=\"T_9c84a_level0_row4\" class=\"row_heading level0 row4\" >https://www.ravelry.com/patterns/freerider-hat</th>\n      <td id=\"T_9c84a_row4_col0\" class=\"data row4 col0\" ><p>The freerider hat incorporates a pocket for small children to put their hands while riding on their parent's shoulders, or to store a small snack.  This is the hoodie of hats</p>\n<p>Gauge isn't terribly important other than to ensure fit, however this is a rather elastic pattern</p>\n</td>\n    </tr>\n    <tr>\n      <th id=\"T_9c84a_level0_row5\" class=\"row_heading level0 row5\" >https://www.ravelry.com/patterns/snuggle-hat</th>\n      <td id=\"T_9c84a_row5_col0\" class=\"data row5 col0\" ><p>The easy baby beanie type crochet hat is worked in ROWS and is super simple to make</p>\n<p>I also have matching <a href=\"https://crochet-patterns-free.com/free-crochet-mittens-pattern-for-baby/\">mittens crochet pattern for free</a> on website OR</p>\n<p>you can BUY BOTH hat and Mittens patterns right here on ravlery</p>\n< />\n</td>\n    </tr>\n    <tr>\n      <th id=\"T_9c84a_level0_row6\" class=\"row_heading level0 row6\" >https://www.ravelry.com/patterns/nicu-vitacap</th>\n      <td id=\"T_9c84a_row6_col0\" class=\"data row6 col0\" ><p>The unique feature of this hat is that it opens up and lies almost flat.  Baby is placed on top, and the hat is wrapped around any IVs, monitor attachments or wires, then buttoned.  This allows for easy access to change wires, as well as keeping them in place and out of the way – all the while keeping baby nice and warm.</p>\n<p>Please feel free to use this pattern for your own use or for charity knitting.</p>\n</td>\n    </tr>\n    <tr>\n      <th id=\"T_9c84a_level0_row7\" class=\"row_heading level0 row7\" >https://www.ravelry.com/patterns/mini-santa-hat-15</th>\n      <td id=\"T_9c84a_row7_col0\" class=\"data row7 col0\" ><p>Crochet mini Santa hat pattern. This smoll santa hat pattern will be a nice little gift for your relatives and friends when you visit them.</p>\n<p>Mini Santa’s Hat   can be hung on the Christmas tree like a christmas decor, or Santa miniature hats garland. And every next year they will remember you with warmth in their hearts.</p>\n<p>✔step by step instructions\n✔ video tutorials\nEverything is very detailed</p>\n<p>MATERIALS:\n• Approx. 15 m of red yarn, and 2 m of white yarn. Length– 125 m in 50 gr.\n• Small pompoms with a diameter of about 2 cm\n• Crocheting hook 3.5 mm\n• Scissors\n•Measuring tape\n• A darning needle to hide the ends of the thread\n• Knitting marker</p>\n<p>LEVEL\n✔ beginning\n✔ intermediate</p>\n<p>APPROX FINISHED SIZE:</p>\n<p>Width 4.5 cm\nHeight 7 cm without the pom pom\nWhen the tip of the hat is tilted to the side, the height is 5 cm</p>\n<p>Written in US terms</p>\n<p>Abbreviations:\nML – magic loop;\nCh – chain;\nInc – increase;\nSc – single crochet;\nDc – double crochet;\nSl st– joining slip stitch\n(Sc, Inc) * N - repeat N times</p>\n<p>If you have any questions, do not hesitate to contact me!</p>\n<p>Add your product to your shopping cart!</p>\n</td>\n    </tr>\n    <tr>\n      <th id=\"T_9c84a_level0_row8\" class=\"row_heading level0 row8\" >https://www.ravelry.com/patterns/comfy-penguin</th>\n      <td id=\"T_9c84a_row8_col0\" class=\"data row8 col0\" ><p>Not included in this pattern:\nHat and Socks</p>\n</td>\n    </tr>\n    <tr>\n      <th id=\"T_9c84a_level0_row9\" class=\"row_heading level0 row9\" >https://www.ravelry.com/patterns/blanckethat</th>\n      <td id=\"T_9c84a_row9_col0\" class=\"data row9 col0\" ><p>Обʼємна тепла затишна шапка для морозних днів.\nОсновний візерунок - резинка 3*3 та візерунок з переплетених жгутів.</p>\n<p>Конструкція виробу є адаптивною під будь-який розмір та щільність вʼязання: шапка в’яжеться по колу знизу догори без швів, рапортами по 12 петель.\nВам потрібно тільки розрахувати необхідну кількість рапортів для Вашого розміру та щільності вʼязання.</p>\n<p>A voluminous, warm, cozy hat for frosty days.\nThe main patterns are the 3x3 ribbing and a 6-stitch cable pattern.</p>\n<p>The construction of the hat is adaptable to any size and knitting gauge: the hat is knitted in the round from the bottom up without seams, using 12-stitch repeats.\nYou just need to calculate the number of repeats required for your size and gauge.</p>\n</td>\n    </tr>\n  </tbody>\n</table>\n"
      }
     },
     "5e4c1e77e341453687f07d9c72e7e820": {
      "model_module": "@jupyter-widgets/base",
      "model_module_version": "2.0.0",
      "model_name": "LayoutModel",
      "state": {}
     },
     "64387706039049f78595d80a5287d6ad": {
      "model_module": "@jupyter-widgets/controls",
      "model_module_version": "2.0.0",
      "model_name": "HTMLStyleModel",
      "state": {
       "description_width": "",
       "font_size": null,
       "text_color": null
      }
     },
     "6595f14c04c9427a9d0d51e13573366e": {
      "model_module": "@jupyter-widgets/controls",
      "model_module_version": "2.0.0",
      "model_name": "HTMLModel",
      "state": {
       "layout": "IPY_MODEL_7bc97a98a0ec4266a741a8a9deacab6d",
       "style": "IPY_MODEL_040e96eed7ca4ca7a55603f2470e732e",
       "value": "<style type=\"text/css\">\n</style>\n<table id=\"T_ac0be\">\n  <thead>\n    <tr>\n      <th class=\"blank level0\" >&nbsp;</th>\n      <th id=\"T_ac0be_level0_col0\" class=\"col_heading level0 col0\" >info</th>\n    </tr>\n    <tr>\n      <th class=\"index_name level0\" >permalink</th>\n      <th class=\"blank col0\" >&nbsp;</th>\n    </tr>\n  </thead>\n  <tbody>\n    <tr>\n      <th id=\"T_ac0be_level0_row0\" class=\"row_heading level0 row0\" >https://www.ravelry.com/patterns/kays-slippers</th>\n      <td id=\"T_ac0be_row0_col0\" class=\"data row0 col0\" ><p><em>Also known as &quot;Wheelchair Slippers</em></p>\n<p><strong>From the Website:</strong>\nThis is a great beginner project! THESE ARE GREAT FOR WHEELCHAIR OR THE BED BOUND PERSON because of the way they wrap around the foot. Great Ann Norling pattern, done as no one else can do it!  We don't recommend these slippers for people who will be walking on tile, linoleum, or slate floors because they will slide on smooth surfaces... they  are really intended for use on rugs or for wheelchair or a bed bound person.</p>\n<p>Make with bulky or worsted weight yarn.</p>\n</td>\n    </tr>\n    <tr>\n      <th id=\"T_ac0be_level0_row1\" class=\"row_heading level0 row1\" >https://www.ravelry.com/patterns/mitred-cape</th>\n      <td id=\"T_ac0be_row1_col0\" class=\"data row1 col0\" ><p>Intended for wheelchair users as more useful than a coat with sleeves.</p>\n</td>\n    </tr>\n    <tr>\n      <th id=\"T_ac0be_level0_row2\" class=\"row_heading level0 row2\" >https://www.ravelry.com/patterns/customizable-wheelchair-blanket</th>\n      <td id=\"T_ac0be_row2_col0\" class=\"data row2 col0\" ><p>This wheelchair blanket pattern is a simple design for an advanced beginner crocheter.</p>\n<p>Straps with button closer to attach blanket to the wheelchair and prevent sliding and falling off.</p>\n<p>A lap pocket to warm hands or store small items.</p>\n<p>Pattern Features:\n⏺️ Low-vision font selection\n⏺️ High contrast colors\n⏺️ Large, easy-to-read print\n⏺️ Large, color photographs for design details\n⏺️ Tips to make a beautiful, functional, customized creation.</p>\n</td>\n    </tr>\n    <tr>\n      <th id=\"T_ac0be_level0_row3\" class=\"row_heading level0 row3\" >https://www.ravelry.com/patterns/dishcloth-mitts</th>\n      <td id=\"T_ac0be_row3_col0\" class=\"data row3 col0\" ><p>Quick and easy mitts made with Peaches &amp; Creme, 100% cotton yarn that is made in North Carolina!\nI have made lots of dishcloths and one night I thought I would try a mitt pattern with the yarn. My mother is in a wheelchair and while I made her lots of the popular fingerless mitts in other yarns, they just didn’t hold up with the daily washings. When you are confined to a wheelchair, your hands take lots of abuse from turning the wheels. These mitts are just what she needed. I even make them for myself since my hands freeze when I am at the computer, especially in the summer with air conditioning. Try a pair! You can wash them daily, and they only shrink a tad. Great for bazaars or gifts.</p>\n</td>\n    </tr>\n    <tr>\n      <th id=\"T_ac0be_level0_row4\" class=\"row_heading level0 row4\" >https://www.ravelry.com/patterns/wheelchair-wrap</th>\n      <td id=\"T_ac0be_row4_col0\" class=\"data row4 col0\" ><p>Pattern calls for 12 ounces worsted weight yarn.</p>\n<p>.\n~\n<a href=\"https://www.interweave.com/article/crochet/crochet-wheelchair-wrap-pattern/\">Also available here at Interweave</a></p>\n< />\n</td>\n    </tr>\n    <tr>\n      <th id=\"T_ac0be_level0_row5\" class=\"row_heading level0 row5\" >https://www.ravelry.com/patterns/stefans-wheelchair-sweater</th>\n      <td id=\"T_ac0be_row5_col0\" class=\"data row5 col0\" ><p>This sweater is specially designed for persons sitting in wheelchair and persons that have difficulties in dressing themselves. There are bi-directional zippers on both sleeves, so that they can be opened both at the top and at the bottom. The front is a little shorter than on other sweaters (so that it will look better when seated) and a little longer in the back (to cover the lower back when seated).</p>\n<p>The sweater is crocheted top-down, i.e. you start at the collar and work downwards. No parts are crocheted in the round.</p>\n<p>This is also a fairly quick and easy pattern (compared with other sweaters of my design).</p>\n</td>\n    </tr>\n    <tr>\n      <th id=\"T_ac0be_level0_row6\" class=\"row_heading level0 row6\" >https://www.ravelry.com/patterns/adaptive-adult-thumbless-mittens</th>\n      <td id=\"T_ac0be_row6_col0\" class=\"data row6 col0\" ><p>These mittens were designed with the help of a woman I met on Facebook, who was looking for thumbless mittens for her daughter. Off-the-shelf mittens didn't work for her daughter or allow her to drive her own wheelchair. These were designed according to her size recommendations for her daughter.</p>\n<p><strong>This is a beginner-friendly pattern with a couple of options for customization.</strong></p>\n<p><strong>Final Size (Laid Flat)</strong>\nGlove: 8 inches tall by 6 inches wide\nCuff: 4 inches tall by 3 inches wide.</p>\n<p>I've added a bulky yarn version of this pattern, check it out here: <a href=\"https://www.ravelry.com/patterns/library/bulky-adaptive-thumbless-mittens\">https://www.ravelry.com/patterns/library/bulky-adaptive-thumbless-mittens</a></p>\n< />\n</td>\n    </tr>\n    <tr>\n      <th id=\"T_ac0be_level0_row7\" class=\"row_heading level0 row7\" >https://www.ravelry.com/patterns/bulky-adaptive-thumbless-mittens</th>\n      <td id=\"T_ac0be_row7_col0\" class=\"data row7 col0\" ><p>This is the bulky yarn version of my previous <a href=\"https://www.ravelry.com/patterns/library/adaptive-adult-thumbless-mittens\">Adaptive Adult Thumbless Mittens pattern</a>! With chunkier yarn and a bigger hook, these worked up for me in about an hour. You could also use two strands of worsted weight yarn for the same effect!</p>\n<p>The original mittens were designed with the help of a woman I met on Facebook, who was looking for thumbless mittens for her daughter. Off-the-shelf mittens didn’t work for her daughter or allow her to drive her own wheelchair. These were designed according to her size recommendations for her daughter.</p>\n<p>This is a beginner-friendly pattern.</p>\n<p>Final Size (Laid Flat)\nGlove: 8 inches tall by 6 inches wide\nCuff: 4 inches tall by 3 inches wide.</p>\n< />\n</td>\n    </tr>\n    <tr>\n      <th id=\"T_ac0be_level0_row8\" class=\"row_heading level0 row8\" >https://www.ravelry.com/patterns/basketweave-poncho-4</th>\n      <td id=\"T_ac0be_row8_col0\" class=\"data row8 col0\" ><p>I created this pattern with several requirements in mind.  I wanted it in different weights of yarn, but the exact same pattern.  I wanted to be able to use either a 3 weight yarn or a worsted weight yarn.</p>\n<p>I wanted to use solids and the lovely Mandela/Self-striping yarn.</p>\n<p>I wanted the length to be adjustable, to let the knitter decide whether or not to make the pattern longer.  The pattern does make the length shown, but just keep doing the last repeat to make it longer if you prefer.</p>\n<p>I wanted something the elderly could wear in a wheelchair and not be concerned about it catching in the wheels.  It can also be work by nursing mothers for &quot;modesty&quot; reasons.  It would also be lovely for young girls.  And yes, that is all in this one pattern.  Just choose the yarn you want to use and appropriate needle to go with it.</p>\n<p>This may also be made with a crew neck instead of the rolled ribbed neck.  Many possibilities.</p>\n<p>Plus it is an easy pattern to memorize!</p>\n<p>Thank you for choosing my pattern.</p>\n</td>\n    </tr>\n    <tr>\n      <th id=\"T_ac0be_level0_row9\" class=\"row_heading level0 row9\" >https://www.ravelry.com/patterns/grand-canyon-shawl-2</th>\n      <td id=\"T_ac0be_row9_col0\" class=\"data row9 col0\" ><p>The Grand Canyon Shawl is the perfect accessory for your wardrobe or to give as a gift. This would also make a great gift for an elderly person or person confined to a wheelchair.</p>\n<p>This is an intermediate level pattern and within the pattern is a link to a very detailed, step-by-step photo tutorial depicting how to execute all of the stitches necessary to make this shawl.</p>\n<p>This shawl is V-shaped and the length in the back is long enough to cover your rear, while the front hangs at a comfortable length so as not to get in your way as you move around. If you require something longer or shorter, the pattern is easily customizable by adding or removing rows.</p>\n<p>Because of the nature of the design, each row contains the same amount of stitches throughout. So changing the amount of rows will not alter the design.</p>\n<p>This pattern has been updated to include the original which is a L/XL, 2XL, 3XL. If you would like a S/M, leave the beginning chain the same and eliminate about 6-8 rows.</p>\n</td>\n    </tr>\n  </tbody>\n</table>\n"
      }
     },
     "6644d6fa73264eac8e8cd8ea91b9c45a": {
      "model_module": "@jupyter-widgets/controls",
      "model_module_version": "2.0.0",
      "model_name": "HTMLStyleModel",
      "state": {
       "description_width": "",
       "font_size": null,
       "text_color": null
      }
     },
     "6920c3723d8043fbb4d639ca064eba1b": {
      "model_module": "@jupyter-widgets/controls",
      "model_module_version": "2.0.0",
      "model_name": "HTMLModel",
      "state": {
       "layout": "IPY_MODEL_78a9f0c7734543f0a6cf1865e4f01833",
       "style": "IPY_MODEL_cbd548a5026941088d4e647b2760083b",
       "value": "<style type=\"text/css\">\n</style>\n<table id=\"T_7f157\">\n  <thead>\n    <tr>\n      <th class=\"blank level0\" >&nbsp;</th>\n      <th id=\"T_7f157_level0_col0\" class=\"col_heading level0 col0\" >info</th>\n    </tr>\n    <tr>\n      <th class=\"index_name level0\" >permalink</th>\n      <th class=\"blank col0\" >&nbsp;</th>\n    </tr>\n  </thead>\n  <tbody>\n  </tbody>\n</table>\n"
      }
     },
     "6b331f141bf24627af015f80455fba46": {
      "model_module": "@jupyter-widgets/controls",
      "model_module_version": "2.0.0",
      "model_name": "HTMLModel",
      "state": {
       "layout": "IPY_MODEL_76c6bcac125643a29ded637e00a2bcdf",
       "style": "IPY_MODEL_324685b23ab54e6bafa24a0f2d45d06c",
       "value": "<style type=\"text/css\">\n</style>\n<table id=\"T_63549\">\n  <thead>\n    <tr>\n      <th class=\"blank level0\" >&nbsp;</th>\n      <th id=\"T_63549_level0_col0\" class=\"col_heading level0 col0\" >info</th>\n    </tr>\n    <tr>\n      <th class=\"index_name level0\" >permalink</th>\n      <th class=\"blank col0\" >&nbsp;</th>\n    </tr>\n  </thead>\n  <tbody>\n  </tbody>\n</table>\n"
      }
     },
     "76c6bcac125643a29ded637e00a2bcdf": {
      "model_module": "@jupyter-widgets/base",
      "model_module_version": "2.0.0",
      "model_name": "LayoutModel",
      "state": {}
     },
     "78a9f0c7734543f0a6cf1865e4f01833": {
      "model_module": "@jupyter-widgets/base",
      "model_module_version": "2.0.0",
      "model_name": "LayoutModel",
      "state": {}
     },
     "7a814e44eb64476bbbafc814893bc0a8": {
      "model_module": "@jupyter-widgets/controls",
      "model_module_version": "2.0.0",
      "model_name": "HTMLStyleModel",
      "state": {
       "description_width": "",
       "font_size": null,
       "text_color": null
      }
     },
     "7bc97a98a0ec4266a741a8a9deacab6d": {
      "model_module": "@jupyter-widgets/base",
      "model_module_version": "2.0.0",
      "model_name": "LayoutModel",
      "state": {}
     },
     "827fe44d39014bddb6f591516c9b5dad": {
      "model_module": "@jupyter-widgets/controls",
      "model_module_version": "2.0.0",
      "model_name": "HTMLModel",
      "state": {
       "layout": "IPY_MODEL_3c26bcd56cc149a19421840e6974034f",
       "style": "IPY_MODEL_9c5d342daf634e0aabee9711e3e94151",
       "value": "<style type=\"text/css\">\n</style>\n<table id=\"T_041ed\">\n  <thead>\n    <tr>\n      <th class=\"blank level0\" >&nbsp;</th>\n      <th id=\"T_041ed_level0_col0\" class=\"col_heading level0 col0\" >info</th>\n    </tr>\n    <tr>\n      <th class=\"index_name level0\" >permalink</th>\n      <th class=\"blank col0\" >&nbsp;</th>\n    </tr>\n  </thead>\n  <tbody>\n    <tr>\n      <th id=\"T_041ed_level0_row0\" class=\"row_heading level0 row0\" >https://www.ravelry.com/patterns/leonardo-lescargot</th>\n      <td id=\"T_041ed_row0_col0\" class=\"data row0 col0\" ><p>Alors oui, notre ami Léonardo, porte sur son dos sa maisonnette. Mais il sera aussi le compagnon idéal pour vos promenades pluvieuses ou encore pour ramasser les feuilles en automne !</p>\n<p>Tricotées du haut vers le bas, avec deux couleurs contrastantes et un talon en rangs-raccourcis.</p>\n<p>Matériel :</p>\n<p>Aiguilles de 2,25 mm (pour les côtes, talons et pointes)\nAiguilles de 2,5 mm pour le corps de la chaussette.\nAiguille à laine et anneaux marqueurs.</p>\n<p>Le patron est très facilement ajustable. Il est possible de faire le jacquard uniquement sur la jambe et le pied tout en jersey.</p>\n<p>Je vous invite à regarder les différentes versions de mes supers tricopines testeuses !</p>\n</td>\n    </tr>\n    <tr>\n      <th id=\"T_041ed_level0_row1\" class=\"row_heading level0 row1\" >https://www.ravelry.com/patterns/coussin-sous-locean</th>\n      <td id=\"T_041ed_row1_col0\" class=\"data row1 col0\" ><p>Un aquarium de fibres en miniature !\nIdéal pour ajouter une touche de déco dans votre chez vous !</p>\n<p>Patron facilement adaptable pour la taille (en jouant avec la laine et votre échantillon).</p>\n<p>Le patron est disponible en deux versions :</p>\n<ul>\n<li>\n<p>Récif de corail : jacquard niveau intermédiaire avec 2 ou 3 couleurs.</p>\n</li>\n<li>\n<p>Eaux profondes : jacquard simple et répétitif avec plusieurs lignes de poissons en quinconce.</p>\n</li>\n</ul>\n<p>Construction : le coussin est tricoté du bas vers le haut en rond et en jacquard.</p>\n<p>Note : la laine est tricotée en double</p>\n<ul>\n<li>Matériel :</li>\n</ul>\n<ul>\n<li>Aiguilles circulaires de 4 mm.</li>\n<li>Anneaux marqueurs.</li>\n<li>Aiguille à laine.</li>\n<li>Facultatif : scoubidou (pour le montage provisoire)</li>\n<li>Tambour à broderie (pour la broderie des algues et du corail en broderie).</li>\n</ul>\n<p>Il est tout à fait possible d’imaginer d’autres versions pour faire un col, ou pourquoi pas un sac à projet !</p>\n<p>Bon tricot !</p>\n</td>\n    </tr>\n    <tr>\n      <th id=\"T_041ed_level0_row2\" class=\"row_heading level0 row2\" >https://www.ravelry.com/patterns/cowl-for-a-walk-in-the-park</th>\n      <td id=\"T_041ed_row2_col0\" class=\"data row2 col0\" ><p>Den här cowlen är riktigt mysig att använda ”For a walk in the park.” Den mjuka blandningen av lama och fårull blommar ut efter att du har tvättat den och värmer fint under kyliga dagar.</p>\n<p>Cowlen stickas i två färger.\nDu behöver rundsticka i storlek 3. Säkerhetsnålar, sax och trubbig nål att fästa trådarna med.</p>\n<p>Det går åt ett nystan av basfärger och ett nystan till accent. Val av färger är personligt i vad du gillar och vem du är. I mönstret har jag valt att använda färgen Kamel som bas och Natur som accentfärg. Vill du ha en stark kontrast mellan färgerna ska du tänka på att låta de olika färgerna ha olika nyanser. För att se nyansskillnader kan du ta ett foto i svartvitt på dina tilltänkta garner. Är det ena nystanet mörkare än det andra kommer du få en kontrast i ditt arbete. Jobbar du med alltför nyanslika färger minskar kontrasten och det finns risk att färgerna ”flyter ihop.”</p>\n<p>Vill du minska garnspill? Det finns ett matchande mönster Fingervantar, For a walk in the park.</p>\n</td>\n    </tr>\n    <tr>\n      <th id=\"T_041ed_level0_row3\" class=\"row_heading level0 row3\" >https://www.ravelry.com/patterns/for-a-walk-in-the-park</th>\n      <td id=\"T_041ed_row3_col0\" class=\"data row3 col0\" ><p>Den här vanten är en riktig finvante, att använda ”For a walk in the park.” Den mjuka blandningen av lama och fårull blommar ut efter att du har tvättat den och värmer fint under kyliga dagar.</p>\n<p>Vanten stickas med mudden i två färger. Handen och fingrar i en färg och ett spetsmönster över handryggen. Vanten har tumkil.\nDu behöver strumpstickor i storlek 2,5 och 3. Säkerhetsnålar, sax och trubbig nål att fästa trådarna med.</p>\n<p>Det går åt ett nystan av basfärger och ett nystan till accent. Val av färger är personligt i vad du gillar och vem du är. I mönstret har jag valt att använda färgen Natur som bas och Kamel som accentfärg. Vill du ha en stark kontrast mellan färgerna ska du tänka på  att låta de olika färgerna ha olika nyanser. För att se nyansskillnader kan du ta ett foto i svartvitt på dina tilltänkta garner. Är det ena nystanet mörkare än det andra kommer du få en kontrast i ditt arbete. Jobbar du med alltför nyanslika färger minskar kontrasten och det finns risk att färgerna ”flyter ihop.”</p>\n<p>Vill du minska garnspill? Det finns ett matchande mönster Cowl, For a walk in the park.</p>\n<p>Mönstret är kvalitetssäkrat av Karin Falk.</p>\n</td>\n    </tr>\n    <tr>\n      <th id=\"T_041ed_level0_row4\" class=\"row_heading level0 row4\" >https://www.ravelry.com/patterns/monsieur-louis</th>\n      <td id=\"T_041ed_row4_col0\" class=\"data row4 col0\" ><blockquote>\n<p>Pay-as-you-can Sytem: All patterns\nfrom Les Caspérides offer a 15%\ndiscount when needed with the code:\nWelcome</p>\n</blockquote>\n<p>####This pattern is available in English (English description below)\n####Ce patron est disponible en français\n####Este patrón es escrito en español/castillano</p>\n<p>###<strong>FR</strong>\n###<strong>Description</strong>\n<strong>Monsieur Louis</strong><sup> (40x30 cm) </sup> est un tour de cou dont le délicat motif de nopes forme une phrase en braille.</p>\n<p>::::</p>\n<p><em>La phrase écrite est :</em> Avec le <strong>bon</strong> sens, je vois la vie en rose</p>\n<p>::::</p>\n<p>Le patron comprend les explications pour le réaliser en fingering tricotée avec deux fils en même temps comme avec un seul fil de dk, ainsi que deux vitesses de lecture (débutant.e.s + confirmé.e.s). Les points importants bénéficient de tutoriels vidéo.</p>\n<p>###<strong>Construction</strong>\nMonsieur Louis se construit <strong>sans couture</strong>, du haut vers le bas, <strong>en rond</strong>.</p>\n<p>###<strong>Échantillon</strong>\nL'échantillon est de <strong>24x32</strong>.</p>\n<p>###<strong>Tailles</strong>\nLe patron propose une taille unique dont les dimensions finales sont de <strong>40x30 cm</strong>.\nLe patron explique comment raccourcir le tour de cou et/ou comment l'élargir, et donne des indications pour des échantillons différents.</p>\n<p>###<strong>Laine et métrage</strong>\n<strong>1 écheveau de Baroque Single Les Caspérides</strong> (65% merino superwash, 20% soie, 15% yak, 480m/120g) ou 1 écheveau (2 pelotes) soit 100g de laine <strong>fingering tricotée double</strong> ou <strong>dk tricotée simple</strong>.</p>\n<p><em>Le modèle de présentation a été tricoté double dans le coloris Monsieur Louis et a nécessité 80g soit 320m</em></p>\n<p>###<strong>Aiguilles</strong>\n<strong>4 mm</strong></p>\n<p>! Il ne s'agit là que d'une suggestion : la taille d'aiguille est déterminée par l'échantillon.</p>\n<p>###<strong>Matériel</strong>\n1 marqueur de début de rang + 3 marqueurs\n1 aiguille à laine pour rabattre souplement</p>\n<p>###<strong>EN</strong>\n###<strong>Description</strong>\n<strong>Monsieur Louis</strong><sup> (40x30 cm/15.7x11.8 inch.) </sup> is a snood which delicate bubbles design hides a sentence in Braille. the tactile written sytem invented by Louis Braille (reason why its name is Monsieur Louis).</p>\n<p>::::</p>\n<p><em>The hidden message is:</em> Avec le <strong>bon</strong> sens, je vois la vie en rose <em>(With the <strong>right</strong> sense, I see life in pink)</em>\n!this pattern being a tribute to the French Louis Braille, the sentence remains written in French even in the English version.</p>\n<p>::::</p>\n<p>The pattern provides instructions to knit it in fingering with two strands held together and in dk with only one, as well as two reading rythmes (beginners + experts).\n<strong>Video tutorials</strong> are here to help you get the best out of your project!</p>\n<p>###<strong>Construction</strong>\nMonsieur Louis is <strong>seamless</strong>. We knit it top-down <strong>in the round</strong>.</p>\n<p>###<strong>Gauge</strong>\nGauge is <strong>24x32</strong>.</p>\n<p>###<strong>Size</strong>\nMonsieur Louis provides a unique size, 40x30 cm/15.7x11.8 inch., yet includes tips to make it shorter and/or larger, as well as indications to different gauges.</p>\n<p>###<strong>Yarn and yardage</strong>\n<strong>1 skein of Baroque Single Les Caspérides</strong> (65% merino superwash, 20% silk, 15% yak, 480m-527 y./120g) or 1 skein (2 balls) of <strong>fingering</strong> or <strong>dk</strong>.</p>\n<p><em>The presentation model is in the colour Monsieur Louis and uses 80g/320m-350 y.</em></p>\n<p>###<strong>Needles</strong>\n<strong>4 mm/US 6</strong> or any size that gives you the gauge</p>\n<p>###<strong>Material</strong>\n1 BORmarker + 3 markers\n1 tapestry needle for bind-off</p>\n</td>\n    </tr>\n    <tr>\n      <th id=\"T_041ed_level0_row5\" class=\"row_heading level0 row5\" >https://www.ravelry.com/patterns/the-nibbles</th>\n      <td id=\"T_041ed_row5_col0\" class=\"data row5 col0\" ><p>Meet the Nibble siblings, a family of four tiny bunnies, knitted in one piece, totally seamlessly, from the tip of their nose to the tip of their toes.</p>\n<p>Languages available : english / français (description en français plus bas)\nThe knitting pattern includes instructions to knit the bunnies and all their outfits.\nIt also includes a section of notes to help you to sail through the process of knitting my seamless toys with ease and pleasure.</p>\n<p>Instructions are written to be worked either with DPNs or magic loop.</p>\n<p>AMOUNT OF YARN &amp; NEEDLES\n° Knitted in fingering weight yarn, with 2 mm (US 0) needles, a little bunny requires about 13 g of wool (52 m / 56 yds) to come to life\n° Their garments are made with very small amounts of wool, no more than 10 g (40 m / 44 yds) for each color. Perfect for mini skeins and leftovers !</p>\n<p>If you'd like to knit them with bigger wool, focus on the yardage required, and adapt the needle size (advices are given in the pattern).</p>\n<p>As shown in pictures, The Nibbles are knitted with Ovis et cetera Close for the bunnies and Ovis et cetera Igneae (for the garments).</p>\n<p>As for all my patterns, the process is thought for the maker’s happiness of having a character truly emerging during the knitting, a very lively little soul appearing at a early stage of the making then growing organically stitch by stitch.</p>\n<ul>\n<li>No seaming.</li>\n<li>No assembling.</li>\n<li>All the finishing done as you go, and face features added right from the beginning.\nWhen you’re done with the last stitch, you’re done with your little woolly friend too.</li>\n</ul>\n<p>The Nibbles pattern has been carefully tested and fully tech edited.</p>\n<ul>\n<li>About the difficulty level : i would rate it between advanced beginners and intermediate. The only true prerequisite is knowing how to knit small circumferences in the round (either with magic loop or DPNs). On this basis, I worked at providing detailed instructions as well as extra tips to offer a very smooth process.</li>\n</ul>\n<p>SIZE\nWith the yarn and needle size used for the sample shown, a tiny bunny measure about 12 cm (4,75 inches) from the top of the head to the sole of the little feet. If you use a thicker yarn, you will get a bigger bunny. In that case, don’t forget to adapt the size of the eyes if you use safety eyes.</p>\n<p>SPECIFIC NOTIONS\nStuffing, safety eyes (as shown here, from 4,5mm to 6 mm diameter dark brown), embroidery floss</p>\n<p>RIGHT RESERVATIONS\n© Cinthia Vallet\nThis pattern is intended for your personal non-commercial use only. It may not be reproduced or transmitted in any form, as a whole or partially. The finished toys made from it may not be sold. They are meant to be used for yourself or gifted. No yarn kit may be proposed without my explicit permission. If you would like to sell yarn kits, please contact me to have a chat about it first.\nThank you very much for respecting these rights reservations.</p>\n<p>For pattern queries, contact by email at <a href=\"mailto:fromcinthia@gmail.com\">fromcinthia@gmail.com</a></p>\n<hr />\n<p>FRANÇAIS</p>\n<p>Les Nibble sont de tout petits lapins tricotés en un seul morceau, 100% sans couture, du bout du nez jusqu’au bout des orteils.</p>\n<p>Le patron de tricot comprend les instructions pour tricoter les lapins toutes leurs tenues. Il inclue également des compléments techniques pour bien aborder le tricot de peluches en un seul morceau.</p>\n<p>Les instructions sont écrites pour tricoter indifféremment en magic loop ou avec des aiguilles double-pointe.</p>\n<p>NOTE IMPORTANTE AU SUJET DES CONVENTIONS DE TRADUCTION\nToutes les explications sont intégralement rédigées en français mais les instructions techniques en\nelles-mêmes intègrent l’usage d’abréviations issues de l’anglais. Ce parti pris est expliqué en détail dans le patron lui-même et ne requiert pas de connaissance de l'anglais.</p>\n<p>QUANTITÉ DE LAINE NÉCESSAIRE\n° Avec une laine de type fingering (type laine à chaussettes), il faut environ 13 g (52 m) de laine pour tricoter un lapin\n° Pour les vêtements, il ne vous faudra que de très petites quantités, pas plus de 10 g par couleur (environ 40 m). Parfait pour les mini écheveaux et les restes !</p>\n<p>Tels que vous les voyez ici, les Nibble sont tricotés en laine Close d'Ovis et cetera et leur vêtements en laine Igneae d'Ovis et cetera.</p>\n<p>Comme pour tous mes patrons, l’accent est mis sur le plaisir de faire, et la joie d’avoir un personnage très vivant qui émerge très tôt au cours de la fabrication, et qui grandit directement sur les aiguilles, maille après maille, vous encourageant à aller jusqu’au bout.</p>\n<ul>\n<li>\n<p>Pas de coutures.</p>\n</li>\n<li>\n<p>Pas d’assemblage.</p>\n</li>\n<li>\n<p>Les finitions sont évacuées tout au long de la fabrication et les détails du visage complétés dès le début.\nQuand vous tricotez votre dernière maille, votre personnage est terminé !</p>\n</li>\n<li>\n<p>Le patron pour Les Nibble a été intégralement testé et édité.</p>\n</li>\n<li>\n<p>Niveau de difficulté : entre débutants avancés et niveau intermédiaire. Le seul véritable pré-requis est de savoir tricoter en rond, des petites circonférences (avec la technique qui vous convient : magic loop ou aiguilles double pointe). À partir de là, les instructions sont très détaillées et accompagnées de nombreuses explications, pour faciliter la fabrication au maximum.</p>\n</li>\n</ul>\n<p>TAILLE\nAvec la laine suggérée dans le patron, un petit lapin mesure environ 12 cm de la tête aux pieds. Si vous utilisez une laine plus épaisse, vous obtiendrez un plus grand lapin (il vous faudra alors adapter la taille des yeux de sécurité si vous en utilisez)</p>\n<p>MATÉRIEL SPÉCIFIQUE\nRembourrage, yeux de sécurité (utilisés ici : de 4,5 mm à 6 mm de diamètre), fil à broder</p>\n<p>TOUS DROITS RÉSERVÉS\n© Cinthia Vallet\nCe patron est réservé à un usage personnel, non-commercial uniquement. Il ne doit être ni reproduit, ni transmis sous aucune forme, même partiellement. Les peluches réalisées à partir de ce patron ne peuvent pas être vendues. Elles sont destinées à être gardées pour vous-mêmes ou offertes uniquement. Aucun kit ne doit être proposé sans mon autorisation explicite. Je vous remercie par avance pour le strict respect de ces limitations d’usage.</p>\n<p>Pour toute question concernant le patron : n‘hésitez pas à prendre contact à l’adresse <a href=\"mailto:fromcinthia@gmail.com\">fromcinthia@gmail.com</a></p>\n</td>\n    </tr>\n  </tbody>\n</table>\n"
      }
     },
     "89ab9af32b8a446e8c0156e4b65afa9c": {
      "model_module": "@jupyter-widgets/controls",
      "model_module_version": "2.0.0",
      "model_name": "HTMLStyleModel",
      "state": {
       "description_width": "",
       "font_size": null,
       "text_color": null
      }
     },
     "8c0bbd32500b453c8351707d773641bc": {
      "model_module": "@jupyter-widgets/controls",
      "model_module_version": "2.0.0",
      "model_name": "HTMLModel",
      "state": {
       "layout": "IPY_MODEL_20147792d2264be78580bba957d39cb0",
       "style": "IPY_MODEL_fc70a17acbdb4ae5843a201c5c10a787",
       "value": "<style type=\"text/css\">\n</style>\n<table id=\"T_34aad\">\n  <thead>\n    <tr>\n      <th class=\"blank level0\" >&nbsp;</th>\n      <th id=\"T_34aad_level0_col0\" class=\"col_heading level0 col0\" >info</th>\n    </tr>\n    <tr>\n      <th class=\"index_name level0\" >permalink</th>\n      <th class=\"blank col0\" >&nbsp;</th>\n    </tr>\n  </thead>\n  <tbody>\n  </tbody>\n</table>\n"
      }
     },
     "97a8168cf3734bd0b7574b774363094b": {
      "model_module": "@jupyter-widgets/base",
      "model_module_version": "2.0.0",
      "model_name": "LayoutModel",
      "state": {}
     },
     "9986b7ae58244feb9ecc3648e39d1ff2": {
      "model_module": "@jupyter-widgets/controls",
      "model_module_version": "2.0.0",
      "model_name": "HTMLStyleModel",
      "state": {
       "description_width": "",
       "font_size": null,
       "text_color": null
      }
     },
     "9bdcedbd75874ce9b7a840976bd3764d": {
      "model_module": "@jupyter-widgets/controls",
      "model_module_version": "2.0.0",
      "model_name": "HTMLModel",
      "state": {
       "layout": "IPY_MODEL_b5895790476e444aa26bf40138f08c7a",
       "style": "IPY_MODEL_89ab9af32b8a446e8c0156e4b65afa9c",
       "value": "<style type=\"text/css\">\n</style>\n<table id=\"T_74517\">\n  <thead>\n    <tr>\n      <th class=\"blank level0\" >&nbsp;</th>\n      <th id=\"T_74517_level0_col0\" class=\"col_heading level0 col0\" >info</th>\n    </tr>\n    <tr>\n      <th class=\"index_name level0\" >permalink</th>\n      <th class=\"blank col0\" >&nbsp;</th>\n    </tr>\n  </thead>\n  <tbody>\n  </tbody>\n</table>\n"
      }
     },
     "9c5d342daf634e0aabee9711e3e94151": {
      "model_module": "@jupyter-widgets/controls",
      "model_module_version": "2.0.0",
      "model_name": "HTMLStyleModel",
      "state": {
       "description_width": "",
       "font_size": null,
       "text_color": null
      }
     },
     "b1bdbf667f9147d5bc3b8d6a280945e9": {
      "model_module": "@jupyter-widgets/base",
      "model_module_version": "2.0.0",
      "model_name": "LayoutModel",
      "state": {}
     },
     "b5895790476e444aa26bf40138f08c7a": {
      "model_module": "@jupyter-widgets/base",
      "model_module_version": "2.0.0",
      "model_name": "LayoutModel",
      "state": {}
     },
     "b93f47b329d44097b897d86b99db9539": {
      "model_module": "@jupyter-widgets/base",
      "model_module_version": "2.0.0",
      "model_name": "LayoutModel",
      "state": {}
     },
     "ca4182f7f40d431a96eb653d636b984b": {
      "model_module": "@jupyter-widgets/controls",
      "model_module_version": "2.0.0",
      "model_name": "HTMLModel",
      "state": {
       "layout": "IPY_MODEL_b1bdbf667f9147d5bc3b8d6a280945e9",
       "style": "IPY_MODEL_7a814e44eb64476bbbafc814893bc0a8",
       "value": "<style type=\"text/css\">\n</style>\n<table id=\"T_5899f\">\n  <thead>\n    <tr>\n      <th class=\"blank level0\" >&nbsp;</th>\n      <th id=\"T_5899f_level0_col0\" class=\"col_heading level0 col0\" >info</th>\n    </tr>\n    <tr>\n      <th class=\"index_name level0\" >permalink</th>\n      <th class=\"blank col0\" >&nbsp;</th>\n    </tr>\n  </thead>\n  <tbody>\n    <tr>\n      <th id=\"T_5899f_level0_row0\" class=\"row_heading level0 row0\" >https://www.ravelry.com/patterns/ednor-gardens-ostomy-cover</th>\n      <td id=\"T_5899f_row0_col0\" class=\"data row0 col0\" ><p>Crochet covers for ostomy bags lessen the noise that an ostomy bag makes. I had trouble finding a clear pattern for them to make a cover for my neighbor, so I created this one. This is my first pattern, so it likely has many mistakes, but if you follow it, you will get a nice ostomy bag cover out of it.</p>\n</td>\n    </tr>\n    <tr>\n      <th id=\"T_5899f_level0_row1\" class=\"row_heading level0 row1\" >https://www.ravelry.com/patterns/inhaler-cover</th>\n      <td id=\"T_5899f_row1_col0\" class=\"data row1 col0\" ><p>This pattern was an idea I had after I kept having to root in my bag for the inhaler. It makes my inhaler look a bit better and hooks onto my bag so is always within reach.</p>\n</td>\n    </tr>\n    <tr>\n      <th id=\"T_5899f_level0_row2\" class=\"row_heading level0 row2\" >https://www.ravelry.com/patterns/knitted-catheter-bag-cover-ii</th>\n      <td id=\"T_5899f_row2_col0\" class=\"data row2 col0\" ><p>To some, the catheter bag is one of the most humiliating and obvious signs of illness.  By design, the clear plastic bag easily indicates indicates to caregivers the amount of urine in the bag.  But it also telegraphs the contents to anyone visiting the patient.  In the case of hospice. It's just one more indignity at the end of life.</p>\n<p>The volunteer knitters for Hopewell House in Portland, Oregon were asked by the caregivers to create a cover for the catheter bags being used. The caregivers were thrilled with the design.</p>\n<p>This cover will fit two types of bags that attach to a hospital bed. One measures approximately 9” high, 11” at the bottom and tapers to 10” at the top. The other is flat and roughly 12&quot; round with a plastic box on the front.  The cover has two buttons at the top, allowing an opening of about 4” for the the hanger and tube.  Caregivers can easily check or change the bag.</p>\n<p>Using a worsted weight acrylic yarn that can be machine washed and dried, the cover is knit in the round with a top and bottom 1x1 ribbing.  Two buttons are placed at the top on either side of the plastic hanger and tube.</p>\n</td>\n    </tr>\n    <tr>\n      <th id=\"T_5899f_level0_row3\" class=\"row_heading level0 row3\" >https://www.ravelry.com/patterns/knitted-catheter-bag-cover-i</th>\n      <td id=\"T_5899f_row3_col0\" class=\"data row3 col0\" ><p>To some, the catheter bag is one of the most humiliating and obvious signs of illness.  By design, the clear plastic bag easily indicates to caregivers the amount of urine in the bag.  But it also telegraphs the contents to anyone visiting the patient.  In the case of hospice, it's jut one more indignity at the end of life.</p>\n<p>The volunteer knitters for Hopewell House in Portland, Oregon were asked by the caregivers to create a cover for the catheter bag.  The caregivers were thrilled with the design.</p>\n<p>This cover is for a bag that attaches to a hospital bed and measures approximately 9&quot; high, 11&quot; at the bottom and tapers to 10&quot; at the top.  The cover has two tabs that button at the top, allowing an opening of about 3&quot; for the the hanger and tube.</p>\n<p>Using a worsted weight acrylic yarn that can be machine washed and dried, the cover is a simple rectangle with tabs on one end, folds over and is seamed at the sides.  Buttons are used on the tabs.  Generally a single skein of 200 yards is sufficient.</p>\n</td>\n    </tr>\n    <tr>\n      <th id=\"T_5899f_level0_row4\" class=\"row_heading level0 row4\" >https://www.ravelry.com/patterns/crocheted-cast-cover-cuff-for-a-dog</th>\n      <td id=\"T_5899f_row4_col0\" class=\"data row4 col0\" ><p>When my dog had surgery, the cast needed to be covered and kept dry whenever she went outside. The vet gave me an IV bag and used tape to hold it in place. Kaylee has long legs, and the iv bag barely made it to the top of the cast.  I crocheted a cuff attached to the bag, and included eyelets for a tie.\nI’m not an experienced crocheter, so this is more of a recipe rather than a real pattern. Hopefully this will give you a start so you can make your own version of the cuff.\nThe cuff I made measures 3” from the top of the bag to the top of the cuff. The whole contraption measures 12 ½” from the floor to the top of the cuff. Good luck, and best wishes for your dog’s speedy recovery.</p>\n</td>\n    </tr>\n    <tr>\n      <th id=\"T_5899f_level0_row5\" class=\"row_heading level0 row5\" >https://www.ravelry.com/patterns/the-blood-bag-project</th>\n      <td id=\"T_5899f_row5_col0\" class=\"data row5 col0\" ><p>This pattern was written for the Blood Bag Project which raises awareness of the rare blood condition Diamond Blackfan Anaemia.</p>\n<p>Please go to the website for more information and what to do with your bag after making it.</p>\n<p><a href=\"http://www.thebloodbagproject.com/\">http://www.thebloodbagproject.com/</a></p>\n</td>\n    </tr>\n    <tr>\n      <th id=\"T_5899f_level0_row6\" class=\"row_heading level0 row6\" >https://www.ravelry.com/patterns/ostomy-bag-and-stoma-for-amigurumi-toys</th>\n      <td id=\"T_5899f_row6_col0\" class=\"data row6 col0\" ><p>A set of amigurumi ostomy bag and stoma that you can place on a crochet/knit stuffed animal or doll. The bag is removable and 3D. Ideal for giving away to young children with a stoma, wether ileostomy, colostomy or urostomy.</p>\n<p>Really easy and quick to make. Very short length of yarn needed.</p>\n<p>This pattern is free for personal use and for giving away finished products. Please don't redistribute this pattern without linking to the source.</p>\n<p>The pattern is only for the stoma and bag, not for the entire toy.</p>\n<p>Hippo design is by Zara Home and pig design is by Sharon Ojala (<a href=\"http://www.amigurumitogo.com\">www.amigurumitogo.com</a>).</p>\n</td>\n    </tr>\n    <tr>\n      <th id=\"T_5899f_level0_row7\" class=\"row_heading level0 row7\" >https://www.ravelry.com/patterns/knitted-rice-bags</th>\n      <td id=\"T_5899f_row7_col0\" class=\"data row7 col0\" ><p>This is a general pattern for knitted rice bags. I used almost a complete skein of Lily Sugar'n Cream Twists, or approximately 100 yards. If you make them in other sizes, plan for 1.5 skeins for added yardage.</p>\n<p>These rice bags are great for aches and pain. All you need to do is heat them up in the microwave for 2 minutes and place it where you hurt. It isn’t as effective as a prescription, but it can be a non-drug alternative in between your pain medications.</p>\n<p>Cotton yarn should be used for this project. Cotton retains heat well and will not catch fire in the microwave.</p>\n<p>Gauge is approximate and does not need to be exact.\nYardage is based on the general pattern. If modifying the pattern for a larger size, more yardage is required.</p>\n<p>The pattern requires you to be able to sew a rectangle, but it does not need to be perfect and pretty because it will be hiding inside the knitted rice bag.</p>\n</td>\n    </tr>\n    <tr>\n      <th id=\"T_5899f_level0_row8\" class=\"row_heading level0 row8\" >https://www.ravelry.com/patterns/super-simple-clutch-bag</th>\n      <td id=\"T_5899f_row8_col0\" class=\"data row8 col0\" ><p>Written in uk terms but if you would like it in us terms just purchase and email me.\nIf you are a beginner who can dc/tr then you can make this bag! This super simple bag was initially designed for a group of 10/11year olds that i was teaching, so has been made as simple as possible but with a decorative edge. I made using acrylic - again as its easier to use than some other yarns but you can use any chunky yarn you like - check gauge to ensure size.</p>\n<p>If you have any questions or spot any errors feel free to drop me a message! :slightly_smiling_face:</p>\n</td>\n    </tr>\n    <tr>\n      <th id=\"T_5899f_level0_row9\" class=\"row_heading level0 row9\" >https://www.ravelry.com/patterns/round-ice-bag</th>\n      <td id=\"T_5899f_row9_col0\" class=\"data row9 col0\" ><p>The ice bag's shape is modeled on the <a href=\"http://www.ravelry.com/patterns/library/bonjour-baby-beret\">Bonjour Baby Beret</a>. There are some structural changes, and it's smaller, but the shape is very much the same.</p>\n<p>I thought it would be nice to have an ice bag around the house - in case anyone gets bumps and bruises from New Year's resolution workouts.</p>\n< />\n<p>The pattern has a typo. Where it says &quot;knit to to stitches before marker,&quot; it should saw &quot;knit to two stitches before marker.&quot;</p>\n<p><strong>The website that previously hosted this has dropped all of my old patterns. They are currently unavailable, but I may reissue them at another time.</strong></p>\n</td>\n    </tr>\n  </tbody>\n</table>\n"
      }
     },
     "ca488660389943d88b43d50781d12b23": {
      "model_module": "@jupyter-widgets/controls",
      "model_module_version": "2.0.0",
      "model_name": "HTMLModel",
      "state": {
       "layout": "IPY_MODEL_5e4c1e77e341453687f07d9c72e7e820",
       "style": "IPY_MODEL_031e5cb8ab644f0786070bebaa5093a7",
       "value": "<style type=\"text/css\">\n</style>\n<table id=\"T_02664\">\n  <thead>\n    <tr>\n      <th class=\"blank level0\" >&nbsp;</th>\n      <th id=\"T_02664_level0_col0\" class=\"col_heading level0 col0\" >info</th>\n    </tr>\n    <tr>\n      <th class=\"index_name level0\" >permalink</th>\n      <th class=\"blank col0\" >&nbsp;</th>\n    </tr>\n  </thead>\n  <tbody>\n  </tbody>\n</table>\n"
      }
     },
     "cbd548a5026941088d4e647b2760083b": {
      "model_module": "@jupyter-widgets/controls",
      "model_module_version": "2.0.0",
      "model_name": "HTMLStyleModel",
      "state": {
       "description_width": "",
       "font_size": null,
       "text_color": null
      }
     },
     "cea5bbafcf2f4dc4851666205264a294": {
      "model_module": "@jupyter-widgets/base",
      "model_module_version": "2.0.0",
      "model_name": "LayoutModel",
      "state": {}
     },
     "d118be71a27f41c7b3c9cb5144613ec5": {
      "model_module": "@jupyter-widgets/base",
      "model_module_version": "2.0.0",
      "model_name": "LayoutModel",
      "state": {}
     },
     "d56c27f9326a4673b4e9123377dd6477": {
      "model_module": "@jupyter-widgets/controls",
      "model_module_version": "2.0.0",
      "model_name": "HTMLModel",
      "state": {
       "layout": "IPY_MODEL_2718065944984afda5222f8d6cf40ecb",
       "style": "IPY_MODEL_2069c1baafa8408bb5c9616d3baceebb",
       "value": "<style type=\"text/css\">\n</style>\n<table id=\"T_5b902\">\n  <thead>\n    <tr>\n      <th class=\"blank level0\" >&nbsp;</th>\n      <th id=\"T_5b902_level0_col0\" class=\"col_heading level0 col0\" >info</th>\n    </tr>\n    <tr>\n      <th class=\"index_name level0\" >permalink</th>\n      <th class=\"blank col0\" >&nbsp;</th>\n    </tr>\n  </thead>\n  <tbody>\n  </tbody>\n</table>\n"
      }
     },
     "d8e6fb6860314c4a8ac7a7be4d968240": {
      "model_module": "@jupyter-widgets/base",
      "model_module_version": "2.0.0",
      "model_name": "LayoutModel",
      "state": {}
     },
     "dc3ea6a2dfe64030a26e52f116b8ca61": {
      "model_module": "@jupyter-widgets/base",
      "model_module_version": "2.0.0",
      "model_name": "LayoutModel",
      "state": {}
     },
     "e6c824ec7aa84ef8a802f37ffac344b9": {
      "model_module": "@jupyter-widgets/controls",
      "model_module_version": "2.0.0",
      "model_name": "HTMLModel",
      "state": {
       "layout": "IPY_MODEL_d118be71a27f41c7b3c9cb5144613ec5",
       "style": "IPY_MODEL_1467045f862f4d67a6bbc7a1222813af",
       "value": "<style type=\"text/css\">\n</style>\n<table id=\"T_157e0\">\n  <thead>\n    <tr>\n      <th class=\"blank level0\" >&nbsp;</th>\n      <th id=\"T_157e0_level0_col0\" class=\"col_heading level0 col0\" >info</th>\n    </tr>\n    <tr>\n      <th class=\"index_name level0\" >permalink</th>\n      <th class=\"blank col0\" >&nbsp;</th>\n    </tr>\n  </thead>\n  <tbody>\n  </tbody>\n</table>\n"
      }
     },
     "e9cb2cf5bb2e4a469c48df6cc6c37ee2": {
      "model_module": "@jupyter-widgets/controls",
      "model_module_version": "2.0.0",
      "model_name": "TextModel",
      "state": {
       "description": "text",
       "layout": "IPY_MODEL_b93f47b329d44097b897d86b99db9539",
       "style": "IPY_MODEL_36559f1c2bc34418ac46dd4610552bdc",
       "value": "wheelchair"
      }
     },
     "f7501169bcb4447fa5a426995410aae3": {
      "model_module": "@jupyter-widgets/controls",
      "model_module_version": "2.0.0",
      "model_name": "HTMLModel",
      "state": {
       "layout": "IPY_MODEL_cea5bbafcf2f4dc4851666205264a294",
       "style": "IPY_MODEL_1c00a97f6fac49709b5812e17ee5de0b",
       "value": "<style type=\"text/css\">\n</style>\n<table id=\"T_5b723\">\n  <thead>\n    <tr>\n      <th class=\"blank level0\" >&nbsp;</th>\n      <th id=\"T_5b723_level0_col0\" class=\"col_heading level0 col0\" >info</th>\n    </tr>\n    <tr>\n      <th class=\"index_name level0\" >permalink</th>\n      <th class=\"blank col0\" >&nbsp;</th>\n    </tr>\n  </thead>\n  <tbody>\n    <tr>\n      <th id=\"T_5b723_level0_row0\" class=\"row_heading level0 row0\" >https://www.ravelry.com/patterns/dishcloth-mitts</th>\n      <td id=\"T_5b723_row0_col0\" class=\"data row0 col0\" ><p>Quick and easy mitts made with Peaches &amp; Creme, 100% cotton yarn that is made in North Carolina!\nI have made lots of dishcloths and one night I thought I would try a mitt pattern with the yarn. My mother is in a wheelchair and while I made her lots of the popular fingerless mitts in other yarns, they just didn’t hold up with the daily washings. When you are confined to a wheelchair, your hands take lots of abuse from turning the wheels. These mitts are just what she needed. I even make them for myself since my hands freeze when I am at the computer, especially in the summer with air conditioning. Try a pair! You can wash them daily, and they only shrink a tad. Great for bazaars or gifts.</p>\n</td>\n    </tr>\n    <tr>\n      <th id=\"T_5b723_level0_row1\" class=\"row_heading level0 row1\" >https://www.ravelry.com/patterns/basketweave-poncho-4</th>\n      <td id=\"T_5b723_row1_col0\" class=\"data row1 col0\" ><p>I created this pattern with several requirements in mind.  I wanted it in different weights of yarn, but the exact same pattern.  I wanted to be able to use either a 3 weight yarn or a worsted weight yarn.</p>\n<p>I wanted to use solids and the lovely Mandela/Self-striping yarn.</p>\n<p>I wanted the length to be adjustable, to let the knitter decide whether or not to make the pattern longer.  The pattern does make the length shown, but just keep doing the last repeat to make it longer if you prefer.</p>\n<p>I wanted something the elderly could wear in a wheelchair and not be concerned about it catching in the wheels.  It can also be work by nursing mothers for &quot;modesty&quot; reasons.  It would also be lovely for young girls.  And yes, that is all in this one pattern.  Just choose the yarn you want to use and appropriate needle to go with it.</p>\n<p>This may also be made with a crew neck instead of the rolled ribbed neck.  Many possibilities.</p>\n<p>Plus it is an easy pattern to memorize!</p>\n<p>Thank you for choosing my pattern.</p>\n</td>\n    </tr>\n    <tr>\n      <th id=\"T_5b723_level0_row2\" class=\"row_heading level0 row2\" >https://www.ravelry.com/patterns/wheelchair-sweater</th>\n      <td id=\"T_5b723_row2_col0\" class=\"data row2 col0\" ><p>I designed this sweater to meet the needs of someone in a wheelchair.</p>\n<p>It is my experience that a shawl doesn't stay in place or it catches in the wheels. A blanket doesn't warm the upper body and a sweater bunches uncomfortably at the back of the chair. Someone with limited mobility can't adjust for comfort and warmth.</p>\n<p>This design has a shortened back for warmth but not bulk. It has sleeves to hold the fit and allow for movement.</p>\n<p>This unisex sweater, is easy to knit, seamless and knit top down with room to adjust front and sleeve lengths. My experience is that full cut sleeves are not as successful for my clients so the pattern has short sleeves that you can adjust.</p>\n<p>*This garment is worked seamlessly from the top-down using the contiguous sleeve method developed by Susie Myers, SusieM on Ravelry (<a href=\"http://www.ravelry.com/people/SusieM\">http://www.ravelry.com/people/SusieM</a>).</p>\n</td>\n    </tr>\n    <tr>\n      <th id=\"T_5b723_level0_row3\" class=\"row_heading level0 row3\" >https://www.ravelry.com/patterns/textured-sensory-blanket</th>\n      <td id=\"T_5b723_row3_col0\" class=\"data row3 col0\" ><p>When someone you love has Alzheimer’s it is sometimes difficult to know what to gift them on their birthday. We had learned through our experience with Alzheimer’s that sensory played a part in brain stimulation. We thought we could bring together sensory stimulation and the warmth and coziness of a jumper together, the idea for the textured sensory blanket was born.\nThe idea behind this blanket is that loved ones will be able to make a gift that will be both practical and personal. This pattern provides ways to personalise the blanket from the choice of the yarn to the additional attachments on certain squares.\nThere are two mesh squares where ribbons, yarn or even fabric from an old shirt could be weaved in and out to provide extra texture and personalisation. One attachment square where you can add bells, pompoms, cotton wheels, badges, or anything that can be sewn on. This is a great square to make the blanket really personal by adding things that mean something or represent something about the person.\nMade up of squares using different stitch patterns to provide texture, along with different types of yarn this blanket is a beautiful gift for your loved one.</p>\n<p>By buying this pattern you have contributed to helping find an end to Alzheimer’s. All profits of the sale of this pattern will go to Alzheimer’s research.</p>\n<p>This crochet pattern is written using UK crochet terms.</p>\n<p>All the of yarn in this pattern is DK, 100g of each colour and 150g of natural or white.</p>\n<p>Light Green\t\t\t\tTeal\nYellow\t\t\t\t\tRed/brown\nAqua \t\t\t\t\tDark blue\nLight blue\t\t\t\tGrey/white\nDark green\t\t\t\tDark green (felted)\nNatural undyed</p>\n</td>\n    </tr>\n    <tr>\n      <th id=\"T_5b723_level0_row4\" class=\"row_heading level0 row4\" >https://www.ravelry.com/patterns/cloud-on-her-shoulders</th>\n      <td id=\"T_5b723_row4_col0\" class=\"data row4 col0\" ><p>In exchange for downloading this pattern, please consider making a shawl for a friend or stranger who may find it comforting when recovering from injury, illness or going through chemo therapy.\nPreviously this was a for-sale pattern with $1 donation for each sale going to Susan G. Komen foundation, but after hearing many touching stories of the comfort it gave both knitter and receiver, I wanted to open up the potential for giving by making the pattern free. Thanks to all who donated via purchase previously, and thank you to all who might make this pattern as a way to give.</p>\n<p>Feather Light, Cozy Warm, Easy and Portable\nPattern revised to include two shapes.\nBe sure to try and get close to gauge on this pattern or your shawl will be smaller than you might wish.</p>\n<p>Unless you are a tight knitter, uses about 220 yards</p>\n<p>People who have had shoulder injuries, or older folks who are a little frail can be very vulnerable to cold, yet find heavy shoulder coverings uncomfortable. People receiving cancer treatment sometimes feel very chilled, and any extra weight can feel like a burden. This shawl will keep them warm, with almost no added weight.</p>\n<p>The curved back and neckline means the shawl sits securely on the shoulders, and does not roll or fold uncomfortably against the back when seated. It has the added advantage of being extremely compressible, so it can be smooshed into a small container for travel and will be just as fluffy and warm when it’s taken out for use.</p>\n<p>Great for using your own handspun yarn, as well.</p>\n<p>If you wish to use a worsted or Aran weight yarn and smaller needles:</p>\n<p>1: skip the first 6 rows, and begin by casting on 17 stitches (otherwise the neck portion will be uncomfortably small) then begin with row 7.<br />\n2: Use the variation for larger framed people</p>\n<p>and</p>\n<p>3: just continue to knit rows 1 and 2 from the second half of the shawl until the knitter feels it is long enough. :-}</p>\n<p>Too long makes it awkward for wheel chair users, so I suggest it be no longer than 13 inches when measured down the spine. Since it will stretch a bit from its own weight, I usually start my bind off when it measures between 12 1/2 to 12 3/4 inches.</p>\n</td>\n    </tr>\n    <tr>\n      <th id=\"T_5b723_level0_row5\" class=\"row_heading level0 row5\" >https://www.ravelry.com/patterns/zephyr-infinity-shawl</th>\n      <td id=\"T_5b723_row5_col0\" class=\"data row5 col0\" ><blockquote>\n<p>This shawl design came about as a\ndesire to still cover my shoulders in\nthe spring with a light weight shawl\nbut not have to mess about with the\ntail ends of a shawl. Looping or tying\nthe ends just never seems to suit me:\nthe tie doesn’t stay put or it makes a\nhuge knot that I don’t like. But I\nlove the drape and general shape of\nshawls—what to do? I’ve been designing\na fair amount of neck cowls recently\nso I thought: why don’t I just make\nthis a longer looped cowl but drape it\nlike a shawl and call it an infinity\nshawl? Yay!</p>\n<p>An early reviewer pointed out to me\nthat this design is also nicely\nadaptive for wheelchair users: no\nshawl ends to get untied or undone and\nthen get accidentally caught in wheels\nor other hardware. Double yay!</p>\n</blockquote>\n<p>I chose the word Zephyr as the perfect name to describe the very gentle breeze that this wrap is meant to counter and that also appears as gentle meandering waves bending this way and that in the main pattern section of the shawl. Just a few well-placed yarnovers and decreases create an easy to follow simple lace pattern with a strong graphic impact.</p>\n<blockquote>\n<p>I am working on being more size\ninclusive in my patterns and so this\nwrap is offered in 5 different sizes:\nS, M, L, XL, and XXL. Triple yay! The\npictured shawl is an XL and fits me\n(size range 18-22) beautifully hanging\ndown to my waist in the front.\nCircumference of the shawl measures\n45, 50, 55, 60, 70 inches when\nfinished and blocked.</p>\n</blockquote>\n<p><strong>Yarn recommendations:</strong> Soft fingering weight yarn in solid or only very slightly tonal hues are recommended.  Single ply yarns will yield a lovely soft drape here. Self-striping, highly variegated or speckled yarns are not appropriate; the pattern will be obscured.</p>\n<p><strong>Materials:</strong>\n•\tYarn:  Manos Del Uruguay, Fino (fingering weight): 30% silk, 70% extrafine merino.\nSize XL as shown: 490 yds or 100 g used (almost exactly one skein). S, M and L will thus use less than 100 g. (less than one skein), size XXL will need more than one skein (ca. 550-600 yds).</p>\n<p><strong>Gauge:</strong>\n24 ST and 32 rows = 4 inches in blocked garter stitch. Gauge is not super important, it’s a shawl that is knit to size by altering the length.</p>\n</td>\n    </tr>\n    <tr>\n      <th id=\"T_5b723_level0_row6\" class=\"row_heading level0 row6\" >https://www.ravelry.com/patterns/railway-twiddle-pouch</th>\n      <td id=\"T_5b723_row6_col0\" class=\"data row6 col0\" ><p>FUN and CREATIVE- Designed with male sensory impaired who enjoy railways.\nIt incorporates similar embellishment ideas to the Basic Twiddle bag and Twiddle muff patterns with a railway themed twist.</p>\n<p><strong>YARNS</strong>: Main bag colour: Robin DK Forest 045 or Royal 086\nFire Box door and surround; chimney: Black 044\nFire Box flames: King Cole Moments Eyelash Fluffy Yarn 1876 Ginger or 487 Orange or any equivalent textured orange yarn\nBuffer Beam: Poppy 018\nSteam: Sirdar Touch Fleecy Cream 06, Sirdar Snuggly Snowflake Chunky white 063\nCoals ¼” black pompom ribbon removed from ribbon <em>and sewn as cluster of coals on side of pouch.</em></p>\n<p>Buffers 2 x 2”/ 5cm circles of machine washable black cotton fabric and two ¾” Doll joints with safety backs. It may sound obvious, but please DO NOT ATTACH SAFETY BACKS until instructed to do so.</p>\n<p>Railway signal colour ribbons in red, black, white and yellow;\nFirebox door lock: black wooden toggle\nRailway lights Beads in green, orange red, thin ¼” length thin, black cord\nName label /‘tickets’ - old clothing labels on ¼” length cream tape,\nFirebox: soft machine washable fabric -3½” square;\nFire crackle: cellophane wrapper 2¾” square\nLoco wheels: 2 x 0.6mm wooden buttons and 3 x 1” wooden buttons\nWooden letter beads that spell ‘steam’ or ‘coal’,\nmetal curtain ring on ¼”” length silver or black 0.6mm cord\nSqueezy stress ball, attached to length of cord inside mail bag 3 x 8” length soft fabric</p>\n<p>TECHNIQUES used: ICord; Garter St; Stocking Stitch;  coils/ curls in knit or crochet, in-the-round knitting and straight knitting.Button.</p>\n</td>\n    </tr>\n  </tbody>\n</table>\n"
      }
     },
     "f927d6e370624465b21b4a0c1f249e6d": {
      "model_module": "@jupyter-widgets/base",
      "model_module_version": "2.0.0",
      "model_name": "LayoutModel",
      "state": {}
     },
     "fc70a17acbdb4ae5843a201c5c10a787": {
      "model_module": "@jupyter-widgets/controls",
      "model_module_version": "2.0.0",
      "model_name": "HTMLStyleModel",
      "state": {
       "description_width": "",
       "font_size": null,
       "text_color": null
      }
     },
     "fd1dccd3bfaa49629b22d807be88e193": {
      "model_module": "@jupyter-widgets/controls",
      "model_module_version": "2.0.0",
      "model_name": "HTMLModel",
      "state": {
       "layout": "IPY_MODEL_97a8168cf3734bd0b7574b774363094b",
       "style": "IPY_MODEL_fe8903c6b1a14d53ba57e3676b3e7b32",
       "value": "<style type=\"text/css\">\n</style>\n<table id=\"T_d933a\">\n  <thead>\n    <tr>\n      <th class=\"blank level0\" >&nbsp;</th>\n      <th id=\"T_d933a_level0_col0\" class=\"col_heading level0 col0\" >info</th>\n    </tr>\n    <tr>\n      <th class=\"index_name level0\" >permalink</th>\n      <th class=\"blank col0\" >&nbsp;</th>\n    </tr>\n  </thead>\n  <tbody>\n  </tbody>\n</table>\n"
      }
     },
     "fe8903c6b1a14d53ba57e3676b3e7b32": {
      "model_module": "@jupyter-widgets/controls",
      "model_module_version": "2.0.0",
      "model_name": "HTMLStyleModel",
      "state": {
       "description_width": "",
       "font_size": null,
       "text_color": null
      }
     }
    },
    "version_major": 2,
    "version_minor": 0
   }
  }
 },
 "nbformat": 4,
 "nbformat_minor": 5
}
