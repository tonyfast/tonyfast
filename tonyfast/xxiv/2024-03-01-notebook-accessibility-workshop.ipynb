{
 "cells": [
  {
   "cell_type": "markdown",
   "id": "34b1e0b3-1753-4788-adde-b0cc8b42bdc2",
   "metadata": {},
   "source": [
    "# notebooks and accessibility workshop\n",
    "\n",
    "the path to accessible notebooks is paved in technical debt."
   ]
  },
  {
   "cell_type": "markdown",
   "id": "270bd8f2-c961-4a1e-a8c9-729dfa782dbc",
   "metadata": {},
   "source": [
    "| time    | activity   |\n",
    "|-----------|---------------------------|\n",
    "| 2:05-2:10 | \tIntroduction and workshop structure         |\n",
    "| 2:10-2:20 | \twhat are notebooks to you?         |\n",
    "| 2:20-2:27 | \tnotebooks, wcag, and ada         |\n",
    "| 2:27-2:40 | \texample of auditing a notebook         |\n",
    "| 2:40-3:20 | \taudit your notebook         |\n",
    "| 3:20-3:30 | \tgroup discussion or share out reflections/findings (depending on number of teams)         |\n",
    "| 3:30-3:40 | \tnotebook inaccessibility in the wild         |\n",
    "| 3:40-3:50 | \tauthoring accessible notebooks         |\n",
    "| 3:50-3:55 | \tresources sharing for participants.   |\n",
    "| 3:55-4PM\t | thank you and where do we physically go next         |"
   ]
  },
  {
   "cell_type": "markdown",
   "id": "390fba60-3dbb-4833-b3ad-61058c086a18",
   "metadata": {},
   "source": [
    "## what are notebooks to y'all?\n",
    "\n",
    "<time>10 min</time>\n",
    "\n",
    "1. what are notebooks to you? \n",
    "2. where have you used them?\n",
    "3. where do you wish you could use them? "
   ]
  },
  {
   "cell_type": "markdown",
   "id": "26683324-8e2a-4272-ae3c-b9d7339f9f0e",
   "metadata": {},
   "source": [
    "## notebooks, accessibility, and ada\n",
    "\n",
    "[skip to timeline](#timeline)"
   ]
  },
  {
   "cell_type": "markdown",
   "id": "adfe254d-8a6b-4581-8952-aa58730cb9f4",
   "metadata": {},
   "source": [
    "## example notebook audit\n",
    "\n",
    "[skip to section](#auditting)"
   ]
  },
  {
   "attachments": {},
   "cell_type": "markdown",
   "id": "a2ed2ea5-bb65-4638-8f3c-90d5be715ae2",
   "metadata": {},
   "source": [
    "## hands on accessibility - auditting notebooks\n",
    "\n",
    "take your time exploring accessibility tools on your mobile or desktop device.\n",
    "the goal is to focus on accessibility related aspects of web content,\n",
    "you'll learn to about assistive technology and web accessibility terminology.\n",
    "\n",
    "* mobile users do not have access to most of these developers tools. they should practice manually auditting their content with different accessibility settings (eg color filters, magnification, large text, voice control)\n",
    "* desktop users can choose manually test content with accessibility settings, use developer tools/bookmarklets to analyze their document, or install different tools to experience them. chrome has the most accessibility developer tools, but we need to test all the browsers.\n",
    "\n",
    "Example notebooks - still need fill in the names\n",
    "\n",
    "* https://github.com/mmattb/coproc-poc/grasp-coproc.ipynb\n",
    "* https://github.com/makeabilitylab/accessibility-literature-survey/src/Study2_QuantitativeAnalysis.ipynb\n",
    "* https://www.zoesteinehanson.com/Exploring%20Brain%20Activity%20During%20Movement.html\n",
    "* https://jakevdp.github.io/PythonDataScienceHandbook/03.01-introducing-pandas-objects.html"
   ]
  },
  {
   "cell_type": "markdown",
   "id": "776bbb69-6ff8-4786-8cf7-a38ad0e7869b",
   "metadata": {
    "slideshow": {
     "slide_type": "slide"
    },
    "tags": []
   },
   "source": [
    "### auditting accessibility\n",
    "\n",
    "where applicable, build the accessibility floor by using these in ci.\n",
    "\n",
    "<details>\n",
    "    <summary>list of more accessibility tools </summary>\n",
    "\n",
    "* [Deque Labs Axe](https://github.com/dequelabs/axe-core)\n",
    "* [IBM Equal Access](https://github.com/IBMa/equal-access/tree/master)\n",
    "* [WAVE accessibility evaluator](https://wave.webaim.org/extension/)\n",
    "* [W3C markup validator](https://validator.w3.org/)\n",
    "    \n",
    "</details>"
   ]
  },
  {
   "cell_type": "markdown",
   "id": "2b8e4105-fccd-4d9e-857f-b1391f11152e",
   "metadata": {},
   "source": [
    "## hands work workshop reflections and findings\n",
    "\n",
    "* what topics did you discuss the most?\n",
    "* what suprised you?\n",
    "* did you learn anything new?\n",
    "* are there things you now want to learn more about?"
   ]
  },
  {
   "cell_type": "markdown",
   "id": "c4b16a33-06db-4d75-b09a-540ca979e69a",
   "metadata": {},
   "source": [
    "## notebook inaccessibility in the wild\n",
    "\n",
    "a presentation by [venkatesh potluri](https://venkateshpotluri.me/)"
   ]
  },
  {
   "cell_type": "markdown",
   "id": "6e902c30-0148-4a18-90cf-bbc43536e35c",
   "metadata": {},
   "source": [
    "## notebook accessibility and accessible authoring\n",
    "\n",
    "what makes this page accessible? a demo by [tonyfast](https://github.com/tonyfast)\n",
    "\n",
    "[skip to accessible authoring recommendations](#recs)"
   ]
  },
  {
   "cell_type": "markdown",
   "id": "287a3f96-d2cb-4a1d-93f1-d3a4794ba1f5",
   "metadata": {},
   "source": [
    "## slides for notebooks, accessibility, ada"
   ]
  },
  {
   "cell_type": "markdown",
   "id": "0da39e11-54fa-4725-a4d1-d0fecf61891b",
   "metadata": {},
   "source": [
    "a <span id=timeline>timeline</span> of disability rights, digital accessibility, and interactive computing\n",
    "\n",
    "\n",
    "|  year  |  event   |\n",
    "|--------|------------|\n",
    "|  1955  |  [a proposal for the dartmouth summer research project on artificial intelligence](http://jmc.stanford.edu/articles/dartmouth/dartmouth.pdf) |\n",
    "|  1973  |  [Section 504 Rehabilitation Act of 1973](https://www.dol.gov/agencies/oasam/centers-offices/civil-rights-center/statutes/section-504-rehabilitation-act-of-1973) |\n",
    "|  1973  |  [50 years later, we're still living in the Xerox Alto's world](https://spectrum.ieee.org/xerox-alto) |\n",
    "|  1988  |  Mathematica |\n",
    "|  1990  |  [The Americans with Disabilities Act (ADA) protects people with disabilities from discrimination](https://www.ada.gov) |\n",
    "|  1993  | [the first html website](http://info.cern.ch/hypertext/WWW/TheProject.html) |\n",
    "|  1998  | Section 508 Rehabilitation Act - eliminate barriers to information technology |\n",
    "|  1999  | Web Content Accessibility Guidelines 1.0    |\n",
    "|  1999  | HTML 4.1  |\n",
    "|  1999  | [Computer programming for everybody](https://www.python.org/doc/essays/cp4e/) |\n",
    "|  2001  | [ANNOUNCE - IPython, a new interactive shell for Python.](https://mail.python.org/pipermail/python-list/2001-December/093408.html)   |\n",
    "|  2005  | [SageMath - open source alternative to Magma, Maple, Mathematica, and MATLAB](https://en.wikipedia.org/wiki/SageMath) |\n",
    "|  2008  | [Web Content Accessibility Guidelines 2.0](https://www.w3.org/TR/WCAG20/) |\n",
    "|  2008  |  Semantic HTML5   |\n",
    "|  2013  | initial react release |\n",
    "|  2014  |  [Project Jupyter](https://blog.jupyter.org/the-big-split-9d7b88a031a7) |\n",
    "|  2016  |  Jupyter Lab |\n",
    "|  2017  | [Project Jupyter wins ACM software systems award](https://awards.acm.org/about/2017-technical-awards)\n",
    "|  2017  | [Section 508 Rehabilitation Act Updated](https://www.section508.gov/blog/accessibility-news-the-section-508-Update/) Web Content Accessibility Guidelines 2.0 AA |\n",
    "|  2017  | Google Colab | \n",
    "|  2018  | [Web Content Accessibility Guidelines 2.1](https://www.w3.org/WAI/standards-guidelines/wcag/new-in-21/) |\n",
    "|  2019  | [First Jupyter Accessibility Event](https://github.com/jupyter/accessibility/blob/main/docs/community/meeting-minutes/2019-web4all-hackathon/hackathon-resources.md)\n",
    "|  2023  | [Web Content Accessibility Guidelines 2.2](https://www.w3.org/WAI/standards-guidelines/wcag/new-in-22/) |"
   ]
  },
  {
   "attachments": {},
   "cell_type": "markdown",
   "id": "b0423964-3a9f-425b-abeb-a52775245b68",
   "metadata": {},
   "source": [
    "### web content accessibility guidelines principles\n",
    "\n",
    "let all practice sounding like digital accessibility experts\n",
    "\n",
    "when you see WCAG you should hear WUH-CAG. \n",
    "\n",
    "let's practice.\n",
    "\n",
    "<dl aria-label=\"aria principles\">\n",
    "    <dt>Perceivable</dt><dd>Information and user interface components must be presentable to users in ways they can perceive.</dd>\n",
    "    <dt>Operable</dt><dd>User interface components and navigation must be operable.</dd>\n",
    "    <dt>Understandable</dt><dd>Information and the operation of user interface must be understandable.</dd>\n",
    "    <dt>Robust</dt><dd>Content must be robust enough that it can be interpreted reliably by a wide variety of user agents, including assistive technologies.</dd>\n",
    "</dl>"
   ]
  },
  {
   "cell_type": "markdown",
   "id": "31e28d93-7600-4785-b6a8-805bab4967f7",
   "metadata": {
    "slideshow": {
     "slide_type": "subslide"
    },
    "tags": []
   },
   "source": [
    "<figure markdown>\n",
    "<figcaption markdown>\n",
    "\n",
    "summarized guidelines on the [wcag wikipedia](https://en.wikipedia.org/wiki/Web_Content_Accessibility_Guidelines)\n",
    "\n",
    "</figcaption>\n",
    "<blockquote markdown cite=\"https://en.wikipedia.org/wiki/Web_Content_Accessibility_Guidelines\">\n",
    "\n",
    "* Guideline 1: Provide equivalent alternatives to auditory and visual content\n",
    "* Guideline 2: Don't rely on colour alone\n",
    "* Guideline 3: Use markup and style sheets, and do so properly\n",
    "* Guideline 4: Clarify natural language usage\n",
    "* Guideline 5: Create tables that transform gracefully\n",
    "* Guideline 6: Ensure that pages featuring new technologies transform gracefully\n",
    "* Guideline 7: Ensure user control of time sensitive content changes\n",
    "* Guideline 8: Ensure direct accessibility of embedded user interfaces\n",
    "* Guideline 9: Design for device independence\n",
    "* Guideline 10: User interim solutions\n",
    "* Guideline 11: Use W3C technologies and guidelines\n",
    "* Guideline 12: Provide context and orientation information\n",
    "* Guideline 13: Provide clear navigation mechanisms\n",
    "* Guideline 14: Ensure that documents are clear and simple\n",
    "\n",
    "</blockquote>"
   ]
  },
  {
   "cell_type": "markdown",
   "id": "7a700fc2-85a9-4117-9eba-fb4ac9a4dec7",
   "metadata": {},
   "source": [
    "### example notebook <span id=audit>audit</span>\n",
    "\n",
    "1. let us hear about lived experiences first.\n",
    "2. connect lived experience with accessibility tooling.\n",
    "    1. developer tools\n",
    "        * accessibility tree \n",
    "    3. lighthouse\n",
    "    4. axe\n",
    "    5. [accessibility bookmarklets](https://accessibility-bookmarklets.org/install.html)\n",
    "    6. screen reader/magnifier\n",
    "  \n",
    "> With [axe-core](https://github.com/dequelabs/axe-core), you can find on average 57% of WCAG issues automatically. Additionally, axe-core will return elements as \"incomplete\" where axe-core could not be certain, and manual review is needed.\n",
    "\n",
    "[adrian roselli provides an in depth comparison of manual and free automated wcag tools](https://adrianroselli.com/2023/01/comparing-manual-and-free-automated-wcag-reviews.html)"
   ]
  },
  {
   "cell_type": "markdown",
   "id": "032a42a3-f60f-496f-8597-d734ba41cecf",
   "metadata": {},
   "source": [
    "## accessibile notebook authoring"
   ]
  },
  {
   "attachments": {},
   "cell_type": "markdown",
   "id": "cfe4a9cf-ba0d-4e16-a432-74b1fabb874c",
   "metadata": {},
   "source": [
    "<h3>\n",
    "    \n",
    "[chartability is a set of heuristics for ensuring that data visualizations, systems, and interfaces are accessible.](https://github.com/Chartability/POUR-CAF)\n",
    "\n",
    "</h3>\n",
    "\n",
    "expands POUR principles with...\n",
    "\n",
    "<dl aria-label=\"extended chartability principles\">\n",
    "    <dt>Compromising</dt><dd>(Understandable, yet Robust): Information flows must provide transparency, tolerance, and consideration for different ways that users with assistive technologies and disabilities will prefer to consume different information.</dd>\n",
    "    <dt>Assistive</dt><dd>(Understandable and Perceivable but labor-reducing): Interface must be intelligent and multi-sensory in a way that reduces the cognitive and functional labor required for use.</dd>\n",
    "    <dt>Flexible</dt><dd>(Perceivable and Operable, yet Robust): Design must respect user settings from user agents (browsers, operating systems, applications) and provide presentation and operation control.\n",
    "</dd>\n",
    "</dl>"
   ]
  },
  {
   "cell_type": "code",
   "execution_count": 1,
   "id": "e0adc15b-50fb-42b2-a042-10bb4aa2d1a7",
   "metadata": {},
   "outputs": [
    {
     "data": {
      "text/markdown": [
       "## Authoring Tips (Draft)\n",
       "\n",
       "### Use well-formatted Markdown\n",
       "\n",
       "Use content headings. There is only one H1. Do not skip heading levels.\n",
       "\n",
       "### All text in the document needs to appear as plain text\n",
       "\n",
       "* If there’s text in an image, in a chart, in a video, in an audio recording, or other relatively inaccessible formats, it should also be in plain text somewhere. There are multiple ways you can handle this depending on content and context.\n",
       "* Options for providing information in plain text alongside other formats include: adding a description, including a caption, or describing everything fully in surrounding paragraphs.\n",
       "\n",
       "### Visualization Accessibility\n",
       "\n",
       "* Include titles in visualizations, such as the outputs from libraries such as Matplotlib. Both in plot and as a property.\n",
       "* Label visualization axes, include keys/legends \n",
       "* They should have good contrast (the relative difference in tonal hues). Be cautious of low opacity and thin lines, or color choices that are too similar, such as light gray on white. Try https://github.com/Quansight-Labs/accessible-pygments \n",
       "* Consider plotting in only black and white. You can always add color later.\n",
       "* Don’t rely only on color to convey information. Include labels. Consider using a mix of color and patterns to differentiate values.\n",
       "\n",
       "### Descriptive text for visual areas\n",
       "\n",
       "* When using an image with an .img tag in the HTML, alt text may be used normally\n",
       "* When creating a plot or graph, some libraries allow alt text and others don’t. Captions and titles should be used to fill in information that alt text would normally contain when there is no option for it. \n",
       "* Legends, Axis labels, numbered tic-marks, and other text in generated graphs cannot currently be read by a screen reader and may be too small for low vision people to find with magnification. \n",
       "* When writing alt text for a plot, Include: \n",
       "    * Type of Plot (bar chart, image, scatter-plot,etc)\n",
       "    * Title of graph\n",
       "    * Axis labels and range\n",
       "    * Key / legend\n",
       "    * General explanation of graph and what it is communicating\n",
       "* It can be very helpful to link to a file containing the original data, or if possible include a data table near the plot so it can be accessed in a non visual way\n",
       "* Include a sonification for a plot. You can use [Astronify](https://astronify.readthedocs.io/en/latest/) to do this for time series and spectral astronomy data.\n",
       "\n",
       "### Organization\n",
       "\n",
       "To help people orient themselves in the notebook and understand what to expect, give some context at the beginning. We recommend:\n",
       "* Give the document a title. This should be the one H1 you use, and it should be at the top.\n",
       "* Include a summary of the document under the title.\n",
       "* Add a table of contents as an ordered list (even if it cannot contain links)\n",
       "* Add the author and affiliation, where relevant\n",
       "* Include information such as the date and time first published and the date and time last edited.\n",
       "* Link to the notebook source, where it can be used in editable form\n",
       "\n",
       "### Color contrast\n",
       "\n",
       "* Color Contrast for in[] out[] can be templated to be higher contrast, standard does not read well for low vision\n",
       "* Use a syntax highlighting theme that considers accessible contrast (examples at ericwbailey/a11y-syntax-highlighting)\n",
       "\n",
       "### Use “plain language”\n",
       "\n",
       "* Define acronyms the first time you use them and use them sparingly\n",
       "* Only use field-specific terms when needed. Use approachable language when the terms aren’t critical to understanding the rest of the document or related literature.\n",
       "* More general tips on stylistic choices with accessibility considerations can be found on Google’s developer documentation style guide.\n",
       "\n",
       "### Use descriptive link names!\n",
       "\n",
       "* Do not: Click here!\n",
       "* Do: Learn more at Space Telescope\n",
       "\n",
       "### Lead into your code cells (where relevant)\n",
       "\n",
       "* Make sure they are under other content headings (ie. an imports cell can be preceded by a markdown cell with a header “Imports”)\n",
       "* Tell what the cell should do before it is done. Usually this is in a markdown cell before, but it also could be a comment in the code cell.\n",
       "* Do not list several different ways someone could complete the task unless that is the point of the notebook. Focus on what you are doing first, and mention alternates later if needed.\n",
       "\n",
       "### Comment on your code (where relevant)\n",
       "* This is especially important for long stretches of code or where more specificity is needed. \n"
      ],
      "text/plain": [
       "<IPython.core.display.Markdown object>"
      ]
     },
     "execution_count": 1,
     "metadata": {},
     "output_type": "execute_result"
    }
   ],
   "source": [
    "    import requests, requests_cache, IPython\n",
    "    requests_cache.install_cache()\n",
    "\n",
    "draft = requests.get(\n",
    "    \"https://raw.githubusercontent.com/Iota-School/notebooks-for-all/main/resources/event-hackathon/accessibility-tips-for-jupyter-notebooks.md\"\n",
    ").text\n",
    "_, heading, body =  draft.partition(\"## Authoring Tips (Draft)\")\n",
    "IPython.display.Markdown(heading + body)"
   ]
  },
  {
   "cell_type": "markdown",
   "id": "d9538712-58e2-4bca-828b-432700f367e9",
   "metadata": {
    "slideshow": {
     "slide_type": "subslide"
    },
    "tags": []
   },
   "source": [
    "### other useful authoring resources\n",
    "\n",
    "* [chartability](https://chartability.fizz.studio/https://chartability.fizz.studio/)\n",
    "* [wai patterns](https://www.w3.org/WAI/ARIA/apg/patterns/https://www.w3.org/WAI/ARIA/apg/patterns/)\n",
    "* [diagram center general guidelines](http://diagramcenter.org/general-guidelines-final-draft.html)\n",
    "* Frameworks? [Modern Health, frameworks, performance, and harm Modern Health, frameworks, performance, and harm ](https://ericwbailey.website/published/modern-health-frameworks-performance-and-harm/)\n",
    "* [Do No Harm Guide: Applying Equity Awareness in Data Visualization](https://www.urban.org/research/publication/do-no-harm-guide-applying-equity-awareness-data-visualization)\n",
    "* [accessible pygments themes for code](https://github.com/Quansight-Labs/accessible-pygmentshttps://github.com/Quansight-Labs/accessible-pygments)\n",
    "* [game accessibility guidelines](gameaccessibilityguidelines.com/)"
   ]
  },
  {
   "cell_type": "markdown",
   "id": "fe6d8fdf-11d4-46c2-9262-e13e28ee2416",
   "metadata": {},
   "source": [
    "## extra links"
   ]
  },
  {
   "cell_type": "code",
   "execution_count": 2,
   "id": "9a5c6676-c8ac-468d-a559-9984d0a5f049",
   "metadata": {},
   "outputs": [
    {
     "data": {
      "text/html": [
       "<h3><a href=\"https://science.nasa.gov/mission/hubble/multimedia/sonifications/\">data sonification - westerlund 2</a></h3>\n",
       "\n",
       "<blockquote>\n",
       "This is a cluster of young stars – about one to two million years old – located about 20,000 light-years from Earth. In its visual image form, data from Hubble (green and blue) reveals thick clouds where stars are forming, while X-rays seen by Chandra (purple) penetrate through that haze. In the sonified version of this data, sounds sweep from left to right across the field of view with brighter light producing louder sound. The pitch of the notes indicates the vertical position of the sources in the image with the higher pitches towards the top of the image. The Hubble data is played by strings, either plucked for individual stars or bowed for diffuse clouds. Chandra’s X-ray data is represented by bells, and the more diffuse X-ray light is played by more sustained tones.\n",
       "</blockquote>\n",
       "\n",
       "<iframe width=\"840\" height=\"473\" src=\"https://www.youtube.com/embed/ESz8Cvirh00\" title=\"Data Sonification: Westerlund 2 (Multiwavelength)\" frameborder=\"0\" allow=\"accelerometer; autoplay; clipboard-write; encrypted-media; gyroscope; picture-in-picture; web-share\" allowfullscreen></iframe>\n"
      ],
      "text/plain": [
       "<IPython.core.display.HTML object>"
      ]
     },
     "metadata": {},
     "output_type": "display_data"
    }
   ],
   "source": [
    "%%html\n",
    "<h3><a href=\"https://science.nasa.gov/mission/hubble/multimedia/sonifications/\">data sonification - westerlund 2</a></h3>\n",
    "\n",
    "<blockquote>\n",
    "This is a cluster of young stars – about one to two million years old – located about 20,000 light-years from Earth. In its visual image form, data from Hubble (green and blue) reveals thick clouds where stars are forming, while X-rays seen by Chandra (purple) penetrate through that haze. In the sonified version of this data, sounds sweep from left to right across the field of view with brighter light producing louder sound. The pitch of the notes indicates the vertical position of the sources in the image with the higher pitches towards the top of the image. The Hubble data is played by strings, either plucked for individual stars or bowed for diffuse clouds. Chandra’s X-ray data is represented by bells, and the more diffuse X-ray light is played by more sustained tones.\n",
    "</blockquote>\n",
    "\n",
    "<iframe width=\"840\" height=\"473\" src=\"https://www.youtube.com/embed/ESz8Cvirh00\" title=\"Data Sonification: Westerlund 2 (Multiwavelength)\" frameborder=\"0\" allow=\"accelerometer; autoplay; clipboard-write; encrypted-media; gyroscope; picture-in-picture; web-share\" allowfullscreen></iframe>"
   ]
  },
  {
   "cell_type": "markdown",
   "id": "a7dcea45-4ccf-4b86-9af7-7a376e9f51ff",
   "metadata": {},
   "source": [
    "[The James Webb Space Telescope provides exemplary alt text](https://webbtelescope.org/news/first-images/gallery) and are frequently regard for it. The Space Telescope Science Institute provides accessibility services relative most large open science projects."
   ]
  }
 ],
 "metadata": {
  "kernelspec": {
   "display_name": "Python [conda env:p311] *",
   "language": "python",
   "name": "conda-env-p311-py"
  },
  "language_info": {
   "codemirror_mode": {
    "name": "ipython",
    "version": 3
   },
   "file_extension": ".py",
   "mimetype": "text/x-python",
   "name": "python",
   "nbconvert_exporter": "python",
   "pygments_lexer": "ipython3",
   "version": "3.11.3"
  },
  "widgets": {
   "application/vnd.jupyter.widget-state+json": {
    "state": {},
    "version_major": 2,
    "version_minor": 0
   }
  }
 },
 "nbformat": 4,
 "nbformat_minor": 5
}
