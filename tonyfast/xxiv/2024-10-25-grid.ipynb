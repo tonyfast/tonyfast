{
 "cells": [
  {
   "cell_type": "markdown",
   "id": "352848d4-4b7a-4d93-80da-552b1f894c50",
   "metadata": {},
   "source": [
    "# ez layout for print with css grid\n",
    "\n",
    "https://css-tricks.com/snippets/css/complete-guide-grid/"
   ]
  },
  {
   "cell_type": "code",
   "execution_count": 9,
   "id": "aba356a9-cd95-42e3-8c57-3dcb6d3cbade",
   "metadata": {},
   "outputs": [
    {
     "data": {
      "text/html": [
       "<style>#discs {\n",
       "    display: grid;\n",
       "    grid-template-columns: 2in 2in 2in;\n",
       "    li::marker {\n",
       "        content: \"\";\n",
       "    }\n",
       "}\n",
       "</style>"
      ],
      "text/plain": [
       "'#discs {\\n    display: grid;\\n    grid-template-columns: 2in 2in 2in;\\n    li::marker {\\n        content: \"\";\\n    }\\n}\\n'"
      ]
     },
     "metadata": {},
     "output_type": "display_data"
    },
    {
     "data": {
      "text/html": [
       "<pre><code>display\\\n",
       "</code></pre>\n",
       "<pre><code class=\"css\"><div class=\"highlight\" style=\"background: #f8f8f8\"><pre style=\"line-height: 125%;\"><span></span>#<span style=\"color: #0000FF; font-weight: bold\">discs</span><span style=\"color: #bbbbbb\"> </span>{\n",
       "<span style=\"color: #bbbbbb\">    </span><span style=\"color: #008000; font-weight: bold\">display</span>:<span style=\"color: #bbbbbb\"> </span><span style=\"color: #008000; font-weight: bold\">grid</span>;\n",
       "<span style=\"color: #bbbbbb\">    </span><span style=\"color: #008000; font-weight: bold\">grid-template-columns</span>:<span style=\"color: #bbbbbb\"> </span><span style=\"color: #666666\">2</span><span style=\"color: #B00040\">in</span><span style=\"color: #bbbbbb\"> </span><span style=\"color: #666666\">2</span><span style=\"color: #B00040\">in</span><span style=\"color: #bbbbbb\"> </span><span style=\"color: #666666\">2</span><span style=\"color: #B00040\">in</span>;\n",
       "<span style=\"color: #bbbbbb\">    </span>li:<span style=\"color: #666666\">:</span><span style=\"color: #008000; font-weight: bold\">marker</span><span style=\"color: #bbbbbb\"> </span><span style=\"border: 1px solid #FF0000\">{</span>\n",
       "<span style=\"color: #bbbbbb\">        </span><span style=\"color: #008000; font-weight: bold\">content</span><span style=\"color: #666666\">:</span><span style=\"color: #bbbbbb\"> </span><span style=\"color: #BA2121\">&quot;&quot;</span>;\n",
       "<span style=\"color: #bbbbbb\">    </span>}\n",
       "<span style=\"border: 1px solid #FF0000\">}</span>\n",
       "</pre></div>\n",
       "</code></pre>\n",
       "<ol id=discs>\n",
       "<li><img src=\"https://gadfly-ai.github.io/literate-computing-1/poster.png\"></li>\n",
       "<li><img src=\"https://gadfly-ai.github.io/literate-computing-1/poster.png\"></li>\n",
       "<li><img src=\"https://gadfly-ai.github.io/literate-computing-1/poster.png\"></li>\n",
       "<li><img src=\"https://gadfly-ai.github.io/literate-computing-1/poster.png\"></li>\n",
       "<li><img src=\"https://gadfly-ai.github.io/literate-computing-1/poster.png\"></li>\n",
       "<li><img src=\"https://gadfly-ai.github.io/literate-computing-1/poster.png\"></li>\n",
       "<li><img src=\"https://gadfly-ai.github.io/literate-computing-1/poster.png\"></li>\n",
       "<li><img src=\"https://gadfly-ai.github.io/literate-computing-1/poster.png\"></li>\n",
       "<li><img src=\"https://gadfly-ai.github.io/literate-computing-1/poster.png\"></li>\n",
       "<li><img src=\"https://gadfly-ai.github.io/literate-computing-1/poster.png\"></li>\n",
       "<li><img src=\"https://gadfly-ai.github.io/literate-computing-1/poster.png\"></li>\n",
       "<li><img src=\"https://gadfly-ai.github.io/literate-computing-1/poster.png\"></li>\n",
       "</ol>"
      ],
      "text/x-python": [
       "\n",
       "display\\\n",
       "(__import__(\"importlib\").metadata.EntryPoint(None, \"midgy.types:Css\", None).load()( # ```css\n",
       "\"\"\"#discs {\n",
       "    display: grid;\n",
       "    grid-template-columns: 2in 2in 2in;\n",
       "    li::marker {\n",
       "        content: \\\"\\\";\n",
       "    }\n",
       "}\n",
       "\"\"\")) # ```\n",
       "(\"\"\"<ol id=discs>{% for object in range(12) %}\n",
       "<li><img src=\\\"https://gadfly-ai.github.io/literate-computing-1/poster.png\\\"></li>\n",
       "{% endfor %}</ol>\"\"\");\n"
      ]
     },
     "metadata": {},
     "output_type": "display_data"
    }
   ],
   "source": [
    "%%\n",
    "    display\\\n",
    "```css\n",
    "#discs {\n",
    "    display: grid;\n",
    "    grid-template-columns: 2in 2in 2in;\n",
    "    li::marker {\n",
    "        content: \"\";\n",
    "    }\n",
    "}\n",
    "```\n",
    "<ol id=discs>{% for object in range(12) %}\n",
    "<li><img src=\"https://gadfly-ai.github.io/literate-computing-1/poster.png\"></li>\n",
    "{% endfor %}</ol>"
   ]
  }
 ],
 "metadata": {
  "kernelspec": {
   "display_name": "Python [conda env:p311] *",
   "language": "python",
   "name": "conda-env-p311-py"
  },
  "language_info": {
   "codemirror_mode": {
    "name": "ipython",
    "version": 3
   },
   "file_extension": ".py",
   "mimetype": "text/x-python",
   "name": "python",
   "nbconvert_exporter": "python",
   "pygments_lexer": "ipython3",
   "version": "3.11.6"
  },
  "widgets": {
   "application/vnd.jupyter.widget-state+json": {
    "state": {},
    "version_major": 2,
    "version_minor": 0
   }
  }
 },
 "nbformat": 4,
 "nbformat_minor": 5
}
