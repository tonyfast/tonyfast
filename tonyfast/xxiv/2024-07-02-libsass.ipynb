{
 "cells": [
  {
   "cell_type": "markdown",
   "id": "a3262357-334d-4c46-8ad8-aaa646cea438",
   "metadata": {},
   "source": [
    "# using libsass in python\n",
    "\n",
    "[libsass](https://github.com/sass/libsass-python) is sass from compiled c and shipped in python.\n",
    "we can use sass with pip and without a node runtime."
   ]
  },
  {
   "cell_type": "code",
   "execution_count": 1,
   "id": "fe94fbe9-c176-4e2a-bdbc-d4cc9af7dffa",
   "metadata": {},
   "outputs": [
    {
     "data": {
      "text/html": [
       "<pre><code>def sassy(str) -&gt; HTML:\n",
       "</code></pre>\n",
       "<p><code>sassy</code> is a function in the main scope that translates sass into an <code>IPython</code> display object.</p>\n",
       "<pre><code>    import sass\n",
       "    return HTML(F&quot;&lt;style&gt;{sass.compile(string=str)}&lt;/style&gt;&quot;)\n",
       "\n",
       "shell.tangle.parser.fence_methods['sass'] = &quot;__main__:sassy&quot;</code></pre>\n"
      ],
      "text/plain": [
       "<IPython.core.display.HTML object>"
      ]
     },
     "metadata": {},
     "output_type": "display_data"
    }
   ],
   "source": [
    "%%\n",
    "    def sassy(str) -> HTML:\n",
    "`sassy` is a function in the main scope that translates sass into an `IPython` display object.\n",
    "\n",
    "        import sass\n",
    "        return HTML(F\"<style>{sass.compile(string=str)}</style>\")\n",
    "\n",
    "    shell.tangle.parser.fence_methods['sass'] = \"__main__:sassy\""
   ]
  },
  {
   "cell_type": "code",
   "execution_count": 2,
   "id": "19956956-bfa3-467e-90a7-69d9bd94cb7a",
   "metadata": {},
   "outputs": [
    {
     "data": {
      "text/html": [
       "<style>.jp-Cell, .cell {\n",
       "  background: gray !important; }\n",
       "</style>"
      ],
      "text/plain": [
       "<IPython.core.display.HTML object>"
      ]
     },
     "execution_count": 2,
     "metadata": {},
     "output_type": "execute_result"
    },
    {
     "data": {
      "text/html": [
       "<p>now we can freely write sass and change the style with a denser syntax than css.s</p>\n",
       "<pre><code class=\"sass\">$color: gray;\n",
       ".jp-Cell, .cell {\n",
       "    background: $color !important;\n",
       "}\n",
       "</code></pre>\n"
      ],
      "text/plain": [
       "<IPython.core.display.HTML object>"
      ]
     },
     "metadata": {},
     "output_type": "display_data"
    }
   ],
   "source": [
    "%%\n",
    "now we can freely write sass and change the style with a denser syntax than css.s\n",
    "\n",
    "```sass\n",
    "$color: gray;\n",
    ".jp-Cell, .cell {\n",
    "    background: $color !important;\n",
    "}\n",
    "```\n",
    "    "
   ]
  }
 ],
 "metadata": {
  "kernelspec": {
   "display_name": "Python [conda env:p311] *",
   "language": "python",
   "name": "conda-env-p311-py"
  },
  "language_info": {
   "codemirror_mode": {
    "name": "ipython",
    "version": 3
   },
   "file_extension": ".py",
   "mimetype": "text/x-python",
   "name": "python",
   "nbconvert_exporter": "python",
   "pygments_lexer": "ipython3",
   "version": "3.11.3"
  },
  "widgets": {
   "application/vnd.jupyter.widget-state+json": {
    "state": {},
    "version_major": 2,
    "version_minor": 0
   }
  }
 },
 "nbformat": 4,
 "nbformat_minor": 5
}
