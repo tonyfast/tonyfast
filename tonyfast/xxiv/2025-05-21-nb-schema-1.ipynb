{
 "cells": [
  {
   "cell_type": "markdown",
   "id": "cf8a1c59-a3a3-4645-a080-ef4150a2dd03",
   "metadata": {},
   "source": [
    "# a notebook schema\n",
    "\n",
    "a bespoke notebook schema used to create accessible representations.\n",
    "\n",
    "In effect, the schema is a non-visual component of the notebook representation. Well, the schema is never exactly perceived by an agent, it is a clear guide and starting point for the perceived representation. We use it as a data structure that can be consumed by the representation system and provide a consistent structure throughout all of the semantics that need to be represented.\n",
    "\n",
    "Once we have the schema will translate that data structure into an HTML data structure. Where the HTML tags provide semantic meaning to a notebook document's contents.\n",
    "\n",
    "Once we have the schema will translate that data structure into an HTML data structure. Where the HTML tags provide semantic meaning to a notebook document contents.\n",
    "\n",
    "This approach doesn't use the existing NB format schema, but that can be appended later. The original schema was not written for any of the properties to be exposed to a user, but our approach does and requires reworking of the language in the original schema."
   ]
  },
  {
   "cell_type": "code",
   "execution_count": 20,
   "id": "2bdc7974-4db8-41a7-a941-15d7da1853e2",
   "metadata": {
    "scrolled": true
   },
   "outputs": [],
   "source": [
    "import jsonschema, jsonref, jsonpointer, bs4\n",
    "builder = bs4.BeautifulSoup(features=(FEATURES := \"html.parser\"))"
   ]
  },
  {
   "cell_type": "code",
   "execution_count": 21,
   "id": "c9d9a5ef-20f2-4f69-a67b-e3e6a7197729",
   "metadata": {
    "scrolled": true
   },
   "outputs": [
    {
     "data": {
      "application/json": {
       "$defs": {
        "attachments": {
         "hidden": true,
         "readOnly": true,
         "title": "cell source",
         "type": "string"
        },
        "cell": {
         "description": "the primary notebook unit containing input source code and formatted output",
         "properties": {
          "cell_type": [
           "oneOf",
           "title",
           "readOnly",
           "hidden"
          ],
          "id": [
           "description",
           "title",
           "type",
           "hidden"
          ],
          "index": [
           "description",
           "title",
           "type",
           "minimum"
          ],
          "metadata": [
           "type",
           "title",
           "description",
           "hidden"
          ],
          "outputs": [
           "type",
           "title",
           "properties"
          ],
          "source": [
           "type",
           "title",
           "readOnly"
          ]
         },
         "title": "cell",
         "type": "object"
        },
        "cell_count": {
         "description": "the total number of cells in the document",
         "title": "total cell count",
         "type": "integer"
        },
        "cell_type": {
         "hidden": true,
         "oneOf": [
          [
           "type",
           "title",
           "description",
           "const"
          ],
          [
           "type",
           "title",
           "description",
           "const"
          ],
          [
           "type",
           "title",
           "description",
           "const"
          ],
          [
           "type",
           "title",
           "description",
           "const"
          ]
         ],
         "readOnly": true,
         "title": "cell type"
        },
        "code_cell": {
         "const": "code",
         "description": "",
         "title": "code",
         "type": "string"
        },
        "code_cell_count": {
         "description": "the total number of cells in the document",
         "title": "total cell count",
         "type": "integer"
        },
        "complete": {
         "enum": [
          "unexecuted",
          "partially executed",
          "executed"
         ],
         "title": "completeness"
        },
        "completed_at": {
         "description": "the time the response received from the kernel to the client\n",
         "format": "datetime",
         "hidden": true,
         "title": "end time",
         "type": [
          null,
          "string"
         ],
         "writeOnly": true
        },
        "duration": {
         "description": "the time the response received from the kernel to the client\n",
         "format": "timedelta",
         "hidden": true,
         "title": "duration",
         "type": [
          null,
          "string"
         ],
         "writeOnly": true
        },
        "execution_count": {
         "minimum": 1,
         "title": "execution count",
         "type": "integer"
        },
        "highlighted": {
         "description": "a region of highlighted code syntax",
         "title": "highlighted"
        },
        "id": {
         "description": "a persistent unique identifier for a cell",
         "hidden": true,
         "title": "cell id",
         "type": "string"
        },
        "index": {
         "description": "the ordinal cell number in the document",
         "minimum": 1,
         "title": "cell number",
         "type": "integer"
        },
        "kernel": {
         "description": "",
         "title": "",
         "type": "object"
        },
        "loc": {
         "description": "lines of code in the source, including whitespace",
         "hidden": true,
         "minimum": 0,
         "title": "lines of code",
         "type": "integer",
         "writeOnly": true
        },
        "markdown_cell": {
         "const": "markdown",
         "description": "",
         "title": "markdown",
         "type": "string"
        },
        "metadata": {
         "description": "",
         "hidden": true,
         "title": "metadata",
         "type": "dict"
        },
        "notebook": {
         "description": "",
         "properties": {
          "cells": {
           "items": [
            "type",
            "title",
            "description",
            "properties"
           ],
           "type": "array"
          },
          "metadata": {
           "properties": {
            "authors": {
             "item": {
              "type": "string"
             },
             "type": "array"
            },
            "description": {
             "description": "the description of the document",
             "title": "description"
            },
            "kernelspec": {
             "properties": {
              "language": {
               "type": "string"
              }
             },
             "type": "object"
            },
            "published_at": {
             "format": "date",
             "title": "published at"
            },
            "title": {
             "description": "the title of the document",
             "title": "title"
            },
            "updated_at": {
             "format": "date",
             "title": "created at"
            }
           },
           "type": "object"
          }
         },
         "type": "object"
        },
        "order": {
         "description": "the orderedness of notebook cells",
         "enum": [
          "out of order",
          "in order"
         ],
         "title": "orderedness"
        },
        "outputs": {
         "properties": {
          "data": {
           "type": "object"
          },
          "ename": {
           "type": "string"
          },
          "evalue": {
           "type": "string"
          },
          "execution_count": [
           "type",
           "minimum",
           "title"
          ],
          "metadata": {
           "hidden": true,
           "type": "object"
          },
          "name": {
           "enum": [
            "stdout",
            "stderr"
           ]
          },
          "output_type": {
           "hidden": true
          },
          "text": {
           "type": "string"
          },
          "traceback": {
           "type": "string"
          }
         },
         "title": "outputs",
         "type": "array"
        },
        "outputs_count": {
         "description": "the number of outputs in a code cell",
         "hidden": true,
         "title": "outputs",
         "type": "integer"
        },
        "raw_cell": {
         "const": "raw",
         "description": "",
         "title": "raw",
         "type": "string"
        },
        "selected": {
         "hidden": true,
         "title": "selected",
         "type": "boolean"
        },
        "source": {
         "readOnly": true,
         "title": "cell source",
         "type": "string"
        },
        "started_at": {
         "description": "the time the cell source was submitted by the client to the kernel\n",
         "format": "datetime",
         "hidden": true,
         "title": "start time",
         "type": [
          null,
          "string"
         ],
         "writeOnly": true
        },
        "toolbar": {
         "hidden": true,
         "title": "cell toolbar",
         "type": "array"
        },
        "undefined_cell": {
         "const": "undefined",
         "description": "",
         "title": "undefined",
         "type": "string"
        }
       },
       "description": "the nonvisual description of a notebook layout\n",
       "properties": {
        "display_priority": {
         "default": [
          "application/pdf",
          "image/svg+xml",
          "image/png",
          "text/html",
          "text/markdown",
          "image/jpeg",
          "application/json",
          "text/vnd.mermaid",
          "text/latex",
          "text/plain",
          "application/javascript",
          "application/vnd.jupyter.widget-view+json"
         ],
         "type": "array"
        },
        "notebook_columns": {
         "default": [
          [
           [
            "description",
            "title",
            "type",
            "minimum"
           ],
           [
            "description",
            "title",
            "type",
            "hidden"
           ]
          ],
          [
           [
            "title",
            "type",
            "hidden"
           ],
           [
            "type",
            "minimum",
            "title"
           ],
           [
            "oneOf",
            "title",
            "readOnly",
            "hidden"
           ],
           [
            "type",
            "title",
            "readOnly"
           ],
           [
            "type",
            "title",
            "hidden"
           ],
           [
            "type",
            "title",
            "minimum",
            "description",
            "writeOnly",
            "hidden"
           ],
           [
            "type",
            "description",
            "format",
            "title",
            "writeOnly",
            "hidden"
           ],
           [
            "type",
            "format",
            "title",
            "description",
            "writeOnly",
            "hidden"
           ],
           [
            "type",
            "title",
            "description",
            "format",
            "writeOnly",
            "hidden"
           ],
           [
            "type",
            "hidden",
            "description",
            "title"
           ],
           [
            "type",
            "title",
            "properties"
           ],
           [
            "type",
            "title",
            "description",
            "hidden"
           ],
           [
            "type",
            "title",
            "readOnly",
            "hidden"
           ]
          ]
         ]
        },
        "outputs_columns": {
         "default": [
          [
           "hidden"
          ],
          [
           "type"
          ],
          [
           "type",
           "hidden"
          ],
          [
           "type"
          ],
          [
           "type"
          ],
          [
           "type"
          ],
          [
           "type"
          ]
         ]
        },
        "summary": {
         "default": [
          [
           "title",
           "format"
          ],
          [
           "title",
           "format"
          ],
          [
           "title",
           "description",
           "type"
          ],
          [
           "title",
           "description",
           "type"
          ],
          [
           "type"
          ],
          [
           "title",
           "enum"
          ],
          [
           "title",
           "description",
           "enum"
          ]
         ]
        }
       }
      },
      "text/plain": [
       "<IPython.core.display.JSON object>"
      ]
     },
     "execution_count": 21,
     "metadata": {
      "application/json": {
       "expanded": 0,
       "root": "root"
      }
     },
     "output_type": "execute_result"
    },
    {
     "data": {
      "text/x-python": [
       "\n",
       "\n",
       "JSON(SCHEMA:=\n",
       "     jsonref.replace_refs(raw:=\n",
       "     (__import__(\"importlib\").metadata.EntryPoint(None, \"yaml:safe_load\", None).load()( # ```yaml\n",
       "\"\"\"description: |\n",
       "    the nonvisual description of a notebook layout\n",
       "properties:\n",
       "    notebook_columns: \n",
       "        default:\n",
       "        -   - $ref: \\\"#/$defs/index\\\"\n",
       "            - $ref: \\\"#/$defs/id\\\"\n",
       "        -   - $ref: \\\"#/$defs/selected\\\"\n",
       "            - $ref: \\\"#/$defs/execution_count\\\"\n",
       "            - $ref: \\\"#/$defs/cell_type\\\"\n",
       "            - $ref: \\\"#/$defs/source\\\"\n",
       "            - $ref: \\\"#/$defs/toolbar\\\"\n",
       "            - $ref: \\\"#/$defs/loc\\\"\n",
       "            - $ref: \\\"#/$defs/duration\\\"\n",
       "            - $ref: \\\"#/$defs/started_at\\\"\n",
       "            - $ref: \\\"#/$defs/completed_at\\\"\n",
       "            - $ref: \\\"#/$defs/outputs_count\\\"\n",
       "            - $ref: \\\"#/$defs/outputs\\\"\n",
       "            - $ref: \\\"#/$defs/metadata\\\"\n",
       "            - $ref: \\\"#/$defs/attachments\\\"\n",
       "    outputs_columns:\n",
       "        default:\n",
       "        - $ref: \\\"#/$defs/outputs/properties/output_type\\\"\n",
       "        - $ref: \\\"#/$defs/outputs/properties/data\\\"\n",
       "        - $ref: \\\"#/$defs/outputs/properties/metadata\\\"\n",
       "        - $ref: \\\"#/$defs/outputs/properties/text\\\"\n",
       "        - $ref: \\\"#/$defs/outputs/properties/ename\\\"\n",
       "        - $ref: \\\"#/$defs/outputs/properties/evalue\\\"\n",
       "        - $ref: \\\"#/$defs/outputs/properties/traceback\\\"\n",
       "    summary:\n",
       "        default:\n",
       "        - $ref: \\\"#/$defs/notebook/properties/metadata/properties/published_at\\\"\n",
       "        - $ref: \\\"#/$defs/notebook/properties/metadata/properties/updated_at\\\"\n",
       "        - $ref: \\\"#/$defs/cell_count\\\"\n",
       "        - $ref: \\\"#/$defs/code_cell_count\\\"\n",
       "        - $ref: \\\"#/$defs/notebook/properties/metadata/properties/kernelspec/properties/language\\\"\n",
       "        - $ref: \\\"#/$defs/complete\\\"\n",
       "        - $ref: \\\"#/$defs/order\\\"\n",
       "    display_priority:\n",
       "        type: array\n",
       "        default:\n",
       "        - application/pdf\n",
       "        - image/svg+xml\n",
       "        - image/png\n",
       "        - text/html\n",
       "        - text/markdown\n",
       "        - image/jpeg\n",
       "        - application/json\n",
       "        - text/vnd.mermaid\n",
       "        - text/latex\n",
       "        - text/plain\n",
       "        - application/javascript\n",
       "        - application/vnd.jupyter.widget-view+json\n",
       "$defs:\n",
       "    notebook:\n",
       "        type: object\n",
       "        description: \\\"\\\"\n",
       "        properties:\n",
       "            metadata:\n",
       "                type: object\n",
       "                properties:\n",
       "                    title: \n",
       "                        title: title\n",
       "                        description: the title of the document\n",
       "                    description: \n",
       "                        title: description\n",
       "                        description: the description of the document\n",
       "                    authors: \n",
       "                        type: array\n",
       "                        item: \n",
       "                            type: string\n",
       "                    published_at:\n",
       "                        title: published at\n",
       "                        format: date\n",
       "                    updated_at:\n",
       "                        title: created at\n",
       "                        format: date\n",
       "                    kernelspec:\n",
       "                        type: object\n",
       "                        properties:\n",
       "                            language: \n",
       "                                type: string\n",
       "            cells:\n",
       "                type: array\n",
       "                items:\n",
       "                    $ref: \\\"#/$defs/cell\\\"\n",
       "    cell:\n",
       "        type: object\n",
       "        title: cell\n",
       "        description: the primary notebook unit containing input source code and formatted output\n",
       "        properties:\n",
       "            index: {$ref: \\\"#/$defs/index\\\"}\n",
       "            id: {$ref: \\\"#/$defs/id\\\"}\n",
       "            cell_type: {$ref: \\\"#/$defs/cell_type\\\"}\n",
       "            metadata: {$ref: \\\"#/$defs/metadata\\\"}\n",
       "            outputs: {$ref: \\\"#/$defs/outputs\\\"}\n",
       "            source: {$ref: \\\"#/$defs/source\\\"}\n",
       "    index:\n",
       "        description: the ordinal cell number in the document\n",
       "        title: cell number\n",
       "        type: integer\n",
       "        minimum: 1\n",
       "    id:\n",
       "        description: a persistent unique identifier for a cell\n",
       "        title: cell id\n",
       "        type: string\n",
       "        hidden: true\n",
       "\n",
       "    cell_type:\n",
       "        oneOf:\n",
       "        - $ref: \\\"#/$defs/code_cell\\\"\n",
       "        - $ref: \\\"#/$defs/markdown_cell\\\"\n",
       "        - $ref: \\\"#/$defs/raw_cell\\\"\n",
       "        - $ref: \\\"#/$defs/undefined_cell\\\"\n",
       "        title: cell type\n",
       "        readOnly: true\n",
       "        hidden: true\n",
       "    source: \n",
       "        type: string\n",
       "        title: cell source\n",
       "        readOnly: true\n",
       "    attachments: \n",
       "        type: string\n",
       "        title: cell source\n",
       "        readOnly: true\n",
       "        hidden: true\n",
       "    execution_count:\n",
       "        type: integer\n",
       "        minimum: 1\n",
       "        title: execution count\n",
       "    started_at:\n",
       "        type: [null, string]\n",
       "        format: datetime\n",
       "        title: start time\n",
       "        description: |\n",
       "            the time the cell source was submitted by the client to the kernel\n",
       "        writeOnly: true\n",
       "        hidden: true\n",
       "    duration:\n",
       "        type: [null, string]\n",
       "        description: |\n",
       "            the time the response received from the kernel to the client\n",
       "        format: timedelta\n",
       "        title: duration\n",
       "        writeOnly: true\n",
       "        hidden: true\n",
       "\n",
       "    completed_at:\n",
       "        type: [null, string]\n",
       "        title: end time\n",
       "        description: |\n",
       "            the time the response received from the kernel to the client\n",
       "        format: datetime\n",
       "        writeOnly: true\n",
       "        hidden: true\n",
       "    loc:\n",
       "        type: integer\n",
       "        title: lines of code\n",
       "        minimum: 0\n",
       "        description: lines of code in the source, including whitespace\n",
       "        writeOnly: true\n",
       "        hidden: true\n",
       "    toolbar:\n",
       "        type: array\n",
       "        title: cell toolbar\n",
       "        hidden: true\n",
       "    code_cell:\n",
       "        type: string\n",
       "        title: code\n",
       "        description: \\\"\\\"\n",
       "        const: code\n",
       "    markdown_cell:\n",
       "        type: string\n",
       "        title: markdown\n",
       "        description: \\\"\\\"\n",
       "        const: markdown\n",
       "    raw_cell:\n",
       "        type: string\n",
       "        title: raw\n",
       "        description: \\\"\\\"\n",
       "        const: raw\n",
       "    undefined_cell:\n",
       "        type: string\n",
       "        title: undefined\n",
       "        description: \\\"\\\"\n",
       "        const: undefined\n",
       "    outputs:\n",
       "        type: array\n",
       "        title: outputs\n",
       "        properties:\n",
       "            output_type:\n",
       "                hidden: true\n",
       "            data: \n",
       "                type: object\n",
       "            execution_count:\n",
       "                $ref: \\\"#/$defs/execution_count\\\"\n",
       "            metadata: \n",
       "                type: object\n",
       "                hidden: true\n",
       "            text: \n",
       "                type: string\n",
       "            name: \n",
       "                enum: [stdout, stderr]\n",
       "            ename:\n",
       "                type: string\n",
       "            evalue:\n",
       "                type: string\n",
       "            traceback:\n",
       "                type: string\n",
       "    metadata: \n",
       "        type: dict\n",
       "        title: metadata\n",
       "        description: \\\"\\\"\n",
       "        hidden: true\n",
       "    kernel:\n",
       "        type: object\n",
       "        title: \\\"\\\"\n",
       "        description: \\\"\\\"\n",
       "    selected:\n",
       "        title: selected\n",
       "        type: boolean\n",
       "        hidden: true\n",
       "\n",
       "    outputs_count:\n",
       "        type: integer\n",
       "        hidden: true\n",
       "        description: the number of outputs in a code cell\n",
       "        title: outputs\n",
       "    highlighted:\n",
       "        title: highlighted\n",
       "        description: a region of highlighted code syntax\n",
       "    cell_count:\n",
       "        title: total cell count\n",
       "        description: the total number of cells in the document\n",
       "        type: integer\n",
       "    code_cell_count:\n",
       "        title: total cell count\n",
       "        description: the total number of cells in the document\n",
       "        type: integer\n",
       "    order:\n",
       "        title: orderedness\n",
       "        description: the orderedness of notebook cells\n",
       "        enum:\n",
       "        - out of order\n",
       "        - in order\n",
       "    complete:\n",
       "        title: completeness\n",
       "        enum: \n",
       "        - unexecuted\n",
       "        - partially executed\n",
       "        - executed\n",
       "\n",
       "\"\"\")) # ```\n",
       ", merge_props=True), expanded=0)\n",
       "\n"
      ]
     },
     "metadata": {},
     "output_type": "display_data"
    }
   ],
   "source": [
    "%%\n",
    "\n",
    "    JSON(SCHEMA:=\n",
    "         jsonref.replace_refs(raw:=\n",
    "```yaml\n",
    "description: |\n",
    "    the nonvisual description of a notebook layout\n",
    "properties:\n",
    "    notebook_columns: \n",
    "        default:\n",
    "        -   - $ref: \"#/$defs/index\"\n",
    "            - $ref: \"#/$defs/id\"\n",
    "        -   - $ref: \"#/$defs/selected\"\n",
    "            - $ref: \"#/$defs/execution_count\"\n",
    "            - $ref: \"#/$defs/cell_type\"\n",
    "            - $ref: \"#/$defs/source\"\n",
    "            - $ref: \"#/$defs/toolbar\"\n",
    "            - $ref: \"#/$defs/loc\"\n",
    "            - $ref: \"#/$defs/duration\"\n",
    "            - $ref: \"#/$defs/started_at\"\n",
    "            - $ref: \"#/$defs/completed_at\"\n",
    "            - $ref: \"#/$defs/outputs_count\"\n",
    "            - $ref: \"#/$defs/outputs\"\n",
    "            - $ref: \"#/$defs/metadata\"\n",
    "            - $ref: \"#/$defs/attachments\"\n",
    "    outputs_columns:\n",
    "        default:\n",
    "        - $ref: \"#/$defs/outputs/properties/output_type\"\n",
    "        - $ref: \"#/$defs/outputs/properties/data\"\n",
    "        - $ref: \"#/$defs/outputs/properties/metadata\"\n",
    "        - $ref: \"#/$defs/outputs/properties/text\"\n",
    "        - $ref: \"#/$defs/outputs/properties/ename\"\n",
    "        - $ref: \"#/$defs/outputs/properties/evalue\"\n",
    "        - $ref: \"#/$defs/outputs/properties/traceback\"\n",
    "    summary:\n",
    "        default:\n",
    "        - $ref: \"#/$defs/notebook/properties/metadata/properties/published_at\"\n",
    "        - $ref: \"#/$defs/notebook/properties/metadata/properties/updated_at\"\n",
    "        - $ref: \"#/$defs/cell_count\"\n",
    "        - $ref: \"#/$defs/code_cell_count\"\n",
    "        - $ref: \"#/$defs/notebook/properties/metadata/properties/kernelspec/properties/language\"\n",
    "        - $ref: \"#/$defs/complete\"\n",
    "        - $ref: \"#/$defs/order\"\n",
    "    display_priority:\n",
    "        type: array\n",
    "        default:\n",
    "        - application/pdf\n",
    "        - image/svg+xml\n",
    "        - image/png\n",
    "        - text/html\n",
    "        - text/markdown\n",
    "        - image/jpeg\n",
    "        - application/json\n",
    "        - text/vnd.mermaid\n",
    "        - text/latex\n",
    "        - text/plain\n",
    "        - application/javascript\n",
    "        - application/vnd.jupyter.widget-view+json\n",
    "$defs:\n",
    "    notebook:\n",
    "        type: object\n",
    "        description: \"\"\n",
    "        properties:\n",
    "            metadata:\n",
    "                type: object\n",
    "                properties:\n",
    "                    title: \n",
    "                        title: title\n",
    "                        description: the title of the document\n",
    "                    description: \n",
    "                        title: description\n",
    "                        description: the description of the document\n",
    "                    authors: \n",
    "                        type: array\n",
    "                        item: \n",
    "                            type: string\n",
    "                    published_at:\n",
    "                        title: published at\n",
    "                        format: date\n",
    "                    updated_at:\n",
    "                        title: created at\n",
    "                        format: date\n",
    "                    kernelspec:\n",
    "                        type: object\n",
    "                        properties:\n",
    "                            language: \n",
    "                                type: string\n",
    "            cells:\n",
    "                type: array\n",
    "                items:\n",
    "                    $ref: \"#/$defs/cell\"\n",
    "    cell:\n",
    "        type: object\n",
    "        title: cell\n",
    "        description: the primary notebook unit containing input source code and formatted output\n",
    "        properties:\n",
    "            index: {$ref: \"#/$defs/index\"}\n",
    "            id: {$ref: \"#/$defs/id\"}\n",
    "            cell_type: {$ref: \"#/$defs/cell_type\"}\n",
    "            metadata: {$ref: \"#/$defs/metadata\"}\n",
    "            outputs: {$ref: \"#/$defs/outputs\"}\n",
    "            source: {$ref: \"#/$defs/source\"}\n",
    "    index:\n",
    "        description: the ordinal cell number in the document\n",
    "        title: cell number\n",
    "        type: integer\n",
    "        minimum: 1\n",
    "    id:\n",
    "        description: a persistent unique identifier for a cell\n",
    "        title: cell id\n",
    "        type: string\n",
    "        hidden: true\n",
    "        \n",
    "    cell_type:\n",
    "        oneOf:\n",
    "        - $ref: \"#/$defs/code_cell\"\n",
    "        - $ref: \"#/$defs/markdown_cell\"\n",
    "        - $ref: \"#/$defs/raw_cell\"\n",
    "        - $ref: \"#/$defs/undefined_cell\"\n",
    "        title: cell type\n",
    "        readOnly: true\n",
    "        hidden: true\n",
    "    source: \n",
    "        type: string\n",
    "        title: cell source\n",
    "        readOnly: true\n",
    "    attachments: \n",
    "        type: string\n",
    "        title: cell source\n",
    "        readOnly: true\n",
    "        hidden: true\n",
    "    execution_count:\n",
    "        type: integer\n",
    "        minimum: 1\n",
    "        title: execution count\n",
    "    started_at:\n",
    "        type: [null, string]\n",
    "        format: datetime\n",
    "        title: start time\n",
    "        description: |\n",
    "            the time the cell source was submitted by the client to the kernel\n",
    "        writeOnly: true\n",
    "        hidden: true\n",
    "    duration:\n",
    "        type: [null, string]\n",
    "        description: |\n",
    "            the time the response received from the kernel to the client\n",
    "        format: timedelta\n",
    "        title: duration\n",
    "        writeOnly: true\n",
    "        hidden: true\n",
    "\n",
    "    completed_at:\n",
    "        type: [null, string]\n",
    "        title: end time\n",
    "        description: |\n",
    "            the time the response received from the kernel to the client\n",
    "        format: datetime\n",
    "        writeOnly: true\n",
    "        hidden: true\n",
    "    loc:\n",
    "        type: integer\n",
    "        title: lines of code\n",
    "        minimum: 0\n",
    "        description: lines of code in the source, including whitespace\n",
    "        writeOnly: true\n",
    "        hidden: true\n",
    "    toolbar:\n",
    "        type: array\n",
    "        title: cell toolbar\n",
    "        hidden: true\n",
    "    code_cell:\n",
    "        type: string\n",
    "        title: code\n",
    "        description: \"\"\n",
    "        const: code\n",
    "    markdown_cell:\n",
    "        type: string\n",
    "        title: markdown\n",
    "        description: \"\"\n",
    "        const: markdown\n",
    "    raw_cell:\n",
    "        type: string\n",
    "        title: raw\n",
    "        description: \"\"\n",
    "        const: raw\n",
    "    undefined_cell:\n",
    "        type: string\n",
    "        title: undefined\n",
    "        description: \"\"\n",
    "        const: undefined\n",
    "    outputs:\n",
    "        type: array\n",
    "        title: outputs\n",
    "        properties:\n",
    "            output_type:\n",
    "                hidden: true\n",
    "            data: \n",
    "                type: object\n",
    "            execution_count:\n",
    "                $ref: \"#/$defs/execution_count\"\n",
    "            metadata: \n",
    "                type: object\n",
    "                hidden: true\n",
    "            text: \n",
    "                type: string\n",
    "            name: \n",
    "                enum: [stdout, stderr]\n",
    "            ename:\n",
    "                type: string\n",
    "            evalue:\n",
    "                type: string\n",
    "            traceback:\n",
    "                type: string\n",
    "    metadata: \n",
    "        type: dict\n",
    "        title: metadata\n",
    "        description: \"\"\n",
    "        hidden: true\n",
    "    kernel:\n",
    "        type: object\n",
    "        title: \"\"\n",
    "        description: \"\"\n",
    "    selected:\n",
    "        title: selected\n",
    "        type: boolean\n",
    "        hidden: true\n",
    "        \n",
    "    outputs_count:\n",
    "        type: integer\n",
    "        hidden: true\n",
    "        description: the number of outputs in a code cell\n",
    "        title: outputs\n",
    "    highlighted:\n",
    "        title: highlighted\n",
    "        description: a region of highlighted code syntax\n",
    "    cell_count:\n",
    "        title: total cell count\n",
    "        description: the total number of cells in the document\n",
    "        type: integer\n",
    "    code_cell_count:\n",
    "        title: total cell count\n",
    "        description: the total number of cells in the document\n",
    "        type: integer\n",
    "    order:\n",
    "        title: orderedness\n",
    "        description: the orderedness of notebook cells\n",
    "        enum:\n",
    "        - out of order\n",
    "        - in order\n",
    "    complete:\n",
    "        title: completeness\n",
    "        enum: \n",
    "        - unexecuted\n",
    "        - partially executed\n",
    "        - executed\n",
    "        \n",
    "```\n",
    "    , merge_props=True), expanded=0)\n",
    "\n"
   ]
  },
  {
   "cell_type": "code",
   "execution_count": 22,
   "id": "eac7424a-fbea-4fd0-b717-7f00a55f50ed",
   "metadata": {},
   "outputs": [
    {
     "data": {
      "text/plain": [
       "12246"
      ]
     },
     "execution_count": 22,
     "metadata": {},
     "output_type": "execute_result"
    }
   ],
   "source": [
    "\n",
    "Path(\"notebook.jsonschema\").write_text(json.dumps(raw, indent=4))"
   ]
  },
  {
   "cell_type": "code",
   "execution_count": null,
   "id": "cdb13122-1dee-4d3a-9d08-994ec05a47d6",
   "metadata": {},
   "outputs": [],
   "source": []
  },
  {
   "cell_type": "code",
   "execution_count": null,
   "id": "073db966-bec7-41cd-98a7-eef12300e519",
   "metadata": {},
   "outputs": [],
   "source": []
  },
  {
   "cell_type": "code",
   "execution_count": null,
   "id": "7f191b33-39b9-4a7f-8b75-1e8fc7dac875",
   "metadata": {},
   "outputs": [],
   "source": []
  },
  {
   "cell_type": "code",
   "execution_count": null,
   "id": "dbcac876-f59f-4689-ab81-e4cad224a3e6",
   "metadata": {},
   "outputs": [],
   "source": []
  },
  {
   "cell_type": "code",
   "execution_count": null,
   "id": "5e45cd11-576a-42f6-afe6-f0a70abb7bb6",
   "metadata": {},
   "outputs": [],
   "source": []
  },
  {
   "cell_type": "code",
   "execution_count": null,
   "id": "3cd0626f-c059-47ff-812e-9309ee470ef5",
   "metadata": {},
   "outputs": [],
   "source": []
  }
 ],
 "metadata": {
  "kernelspec": {
   "display_name": "allYourBase",
   "language": "python",
   "name": "based"
  },
  "language_info": {
   "codemirror_mode": {
    "name": "ipython",
    "version": 3
   },
   "file_extension": ".py",
   "mimetype": "text/x-python",
   "name": "python",
   "nbconvert_exporter": "python",
   "pygments_lexer": "ipython3",
   "version": "3.13.3"
  }
 },
 "nbformat": 4,
 "nbformat_minor": 5
}
