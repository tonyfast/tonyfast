{
 "cells": [
  {
   "cell_type": "markdown",
   "id": "c1ae03e2-4f77-4ca3-8c94-0c70d6246d1c",
   "metadata": {},
   "source": [
    "## listening for scroll position\n",
    "\n",
    "scroll could be a potential ux interactive that could influence the style of information."
   ]
  },
  {
   "cell_type": "code",
   "execution_count": 59,
   "id": "2fb53af0-6398-43e5-8f04-4bd5557ae767",
   "metadata": {},
   "outputs": [
    {
     "data": {
      "text/html": [
       "<div id=thing>\n",
       "    <div>stuff\n",
       "    </div>\n",
       "</div>\n",
       "<style>\n",
       "#thing {\n",
       "    max-height: 10rem;\n",
       "    position: relative;\n",
       "    &::before {\n",
       "        position: sticky;\n",
       "        left: 0;\n",
       "        top: 0;\n",
       "        content: \"y:\" attr(data-scroll-y) \", x:\" attr(data-scroll-x);\n",
       "    }\n",
       "    overflow-y: auto;\n",
       "    >div{\n",
       "        vertical-align: bottom;\n",
       "        width: 300vw;\n",
       "        height: 100rem;\n",
       "            background-color: rgba(255,255,255,var(--scroll-y));\n",
       "        &::after {\n",
       "            display: block;\n",
       "            position: sticky;\n",
       "            bottom: 0;\n",
       "            content: \"end\";\n",
       "        }\n",
       "    }\n",
       "}\n",
       "</style>\n",
       "<script>\n",
       "thing = document.getElementById(\"thing\");\n",
       "thing.addEventListener(\"scroll\", (event) => {\n",
       "    let target = event.target;\n",
       "    let y = (target.scrollTop) / (target.scrollHeight - target.clientHeight);\n",
       "    let x = (target.scrollLeft) / (target.scrollWidth - target.clientWidth);\n",
       "    thing.style.setProperty(\"--scroll-y\", y);\n",
       "    thing.style.setProperty(\"--scroll-x\", x);\n",
       "    thing.dataset.scrollY = y;\n",
       "    thing.dataset.scrollX = x\n",
       "});\n",
       "</script>\n"
      ],
      "text/plain": [
       "<IPython.core.display.HTML object>"
      ]
     },
     "metadata": {},
     "output_type": "display_data"
    }
   ],
   "source": [
    "%%html\n",
    "<div id=thing>\n",
    "    <div>stuff\n",
    "    </div>\n",
    "</div>\n",
    "<style>\n",
    "#thing {\n",
    "    max-height: 10rem;\n",
    "    position: relative;\n",
    "    &::before {\n",
    "        position: sticky;\n",
    "        left: 0;\n",
    "        top: 0;\n",
    "        content: \"y:\" attr(data-scroll-y) \", x:\" attr(data-scroll-x);\n",
    "    }\n",
    "    overflow-y: auto;\n",
    "    >div{\n",
    "        vertical-align: bottom;\n",
    "        width: 300vw;\n",
    "        height: 100rem;\n",
    "            background-color: rgba(255,255,255,var(--scroll-y));\n",
    "        &::after {\n",
    "            display: block;\n",
    "            position: sticky;\n",
    "            bottom: 0;\n",
    "            content: \"end\";\n",
    "        }\n",
    "    }\n",
    "}\n",
    "</style>\n",
    "<script>\n",
    "thing = document.getElementById(\"thing\");\n",
    "thing.addEventListener(\"scroll\", (event) => {\n",
    "    let target = event.target;\n",
    "    let y = (target.scrollTop) / (target.scrollHeight - target.clientHeight);\n",
    "    let x = (target.scrollLeft) / (target.scrollWidth - target.clientWidth);\n",
    "    thing.style.setProperty(\"--scroll-y\", y);\n",
    "    thing.style.setProperty(\"--scroll-x\", x);\n",
    "    thing.dataset.scrollY = y;\n",
    "    thing.dataset.scrollX = x\n",
    "});\n",
    "</script>"
   ]
  },
  {
   "cell_type": "code",
   "execution_count": null,
   "id": "b2ca59d9-9372-4f19-b222-0ba7c3aa649a",
   "metadata": {},
   "outputs": [],
   "source": []
  }
 ],
 "metadata": {
  "kernelspec": {
   "display_name": "Python [conda env:p311] *",
   "language": "python",
   "name": "conda-env-p311-py"
  },
  "language_info": {
   "codemirror_mode": {
    "name": "ipython",
    "version": 3
   },
   "file_extension": ".py",
   "mimetype": "text/x-python",
   "name": "python",
   "nbconvert_exporter": "python",
   "pygments_lexer": "ipython3",
   "version": "3.11.3"
  },
  "widgets": {
   "application/vnd.jupyter.widget-state+json": {
    "state": {},
    "version_major": 2,
    "version_minor": 0
   }
  }
 },
 "nbformat": 4,
 "nbformat_minor": 5
}
