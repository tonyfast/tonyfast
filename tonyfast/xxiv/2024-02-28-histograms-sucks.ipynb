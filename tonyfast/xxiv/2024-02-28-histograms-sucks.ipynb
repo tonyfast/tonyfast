{
 "cells": [
  {
   "attachments": {},
   "cell_type": "markdown",
   "id": "a8c03d35-c6dd-40d4-93a7-f2b83513f60d",
   "metadata": {},
   "source": [
    "# histograms suck\n",
    "\n",
    "what is an accessible histogram made out of a table? in this form AT have access to each entry and tactile navigation.\n",
    "\n",
    "i use synthetic data which kinda makes a crumby demo, but the idea could be sound independent of data."
   ]
  },
  {
   "cell_type": "code",
   "execution_count": 1,
   "id": "bc3bfba5-2bad-4e7a-a68b-a281b63503c7",
   "metadata": {},
   "outputs": [],
   "source": [
    "    %%capture\n",
    "    import pandas, random, midgy, string\n",
    "    import importnb\n",
    "    with __import__(\"importnb\").Notebook(): from __multi__aria import get_table"
   ]
  },
  {
   "cell_type": "markdown",
   "id": "0634455e-1b63-411a-98ce-39dbfc03b6dd",
   "metadata": {},
   "source": [
    "synthetic data that creates a histogram like looking dataframe"
   ]
  },
  {
   "cell_type": "code",
   "execution_count": 2,
   "id": "c343416e-1f65-4227-bb12-1c77c1e19bce",
   "metadata": {},
   "outputs": [
    {
     "data": {
      "text/html": [
       "<table aria-colcount=\"11\" aria-rowcount=\"2\"><caption><dl role=\"presentation\"><dt>rows</dt><dd>1</dd><dt>columns</dt><dd>9</dd><dt>indexes:</dt><dd><dl role=\"presentation\"><dt>rows</dt><dd>1</dd><dt>columns</dt><dd>1</dd></dl></dd></dl></caption><tr aria-rowindex=\"1\"><th aria-colindex=\"2\" scope=\"row\">category</th><th aria-colindex=\"2\" scope=\"col\">A</th><th aria-colindex=\"3\" scope=\"col\">B</th><th aria-colindex=\"4\" scope=\"col\">C</th><th aria-colindex=\"5\" scope=\"col\">D</th><th aria-colindex=\"6\" scope=\"col\">E</th><th aria-colindex=\"7\" scope=\"col\">F</th><th aria-colindex=\"8\" scope=\"col\">G</th><th aria-colindex=\"9\" scope=\"col\">H</th><th aria-colindex=\"10\" scope=\"col\">I</th></tr><tr aria-rowindex=\"2\"><th aria-colindex=\"1\" scope=\"row\">count</th><td aria-colindex=\"2\">11</td><td aria-colindex=\"3\">8</td><td aria-colindex=\"4\">6</td><td aria-colindex=\"5\">8</td><td aria-colindex=\"6\">17</td><td aria-colindex=\"7\">9</td><td aria-colindex=\"8\">8</td><td aria-colindex=\"9\">7</td><td aria-colindex=\"10\">18</td></tr></table>"
      ],
      "text/plain": [
       "<table aria-colcount=\"11\" aria-rowcount=\"2\"><caption><dl role=\"presentation\"><dt>rows</dt><dd>1</dd><dt>columns</dt><dd>9</dd><dt>indexes:</dt><dd><dl role=\"presentation\"><dt>rows</dt><dd>1</dd><dt>columns</dt><dd>1</dd></dl></dd></dl></caption><tr aria-rowindex=\"1\"><th aria-colindex=\"2\" scope=\"row\">category</th><th aria-colindex=\"2\" scope=\"col\">A</th><th aria-colindex=\"3\" scope=\"col\">B</th><th aria-colindex=\"4\" scope=\"col\">C</th><th aria-colindex=\"5\" scope=\"col\">D</th><th aria-colindex=\"6\" scope=\"col\">E</th><th aria-colindex=\"7\" scope=\"col\">F</th><th aria-colindex=\"8\" scope=\"col\">G</th><th aria-colindex=\"9\" scope=\"col\">H</th><th aria-colindex=\"10\" scope=\"col\">I</th></tr><tr aria-rowindex=\"2\"><th aria-colindex=\"1\" scope=\"row\">count</th><td aria-colindex=\"2\">11</td><td aria-colindex=\"3\">8</td><td aria-colindex=\"4\">6</td><td aria-colindex=\"5\">8</td><td aria-colindex=\"6\">17</td><td aria-colindex=\"7\">9</td><td aria-colindex=\"8\">8</td><td aria-colindex=\"9\">7</td><td aria-colindex=\"10\">18</td></tr></table>"
      ]
     },
     "execution_count": 2,
     "metadata": {},
     "output_type": "execute_result"
    }
   ],
   "source": [
    "    data = pandas.RangeIndex(100).to_series().apply(lambda x: random.random()*10).astype(int).value_counts()\n",
    "    hist = data.to_frame().reindex(pandas.RangeIndex(min(data.index), max(data.index)))\n",
    "    hist = hist.set_index(hist.index.map(string.ascii_uppercase.__getitem__))\n",
    "    hist = hist.rename_axis(\"category\", axis=0)\n",
    "    hist.T.pipe(get_table)"
   ]
  },
  {
   "cell_type": "markdown",
   "id": "ec331271-a049-4e8d-ad81-f566ab375039",
   "metadata": {},
   "source": [
    "customize the style with pandas styler. do some weird shit so we have access to a string and numerical version of the value. `content` can't show a string and we can't math on a string so we need both. this is redundant, but lets stick to css."
   ]
  },
  {
   "cell_type": "code",
   "execution_count": 3,
   "id": "3969636f-f465-4a10-bee7-4a67cd3b701e",
   "metadata": {},
   "outputs": [
    {
     "data": {
      "text/html": [
       "<style type=\"text/css\">\n",
       "</style>\n",
       "<table id=\"T_eec07\" class=\"hist v\" >\n",
       "  <caption>a vertical histogram of sythetic data to demostrate the technique.</caption>\n",
       "  <thead>\n",
       "    <tr>\n",
       "      <th class=\"index_name level0\" >category</th>\n",
       "      <th id=\"T_eec07_level0_col0\" class=\"col_heading level0 col0\" >A</th>\n",
       "      <th id=\"T_eec07_level0_col1\" class=\"col_heading level0 col1\" >B</th>\n",
       "      <th id=\"T_eec07_level0_col2\" class=\"col_heading level0 col2\" >C</th>\n",
       "      <th id=\"T_eec07_level0_col3\" class=\"col_heading level0 col3\" >D</th>\n",
       "      <th id=\"T_eec07_level0_col4\" class=\"col_heading level0 col4\" >E</th>\n",
       "      <th id=\"T_eec07_level0_col5\" class=\"col_heading level0 col5\" >F</th>\n",
       "      <th id=\"T_eec07_level0_col6\" class=\"col_heading level0 col6\" >G</th>\n",
       "      <th id=\"T_eec07_level0_col7\" class=\"col_heading level0 col7\" >H</th>\n",
       "      <th id=\"T_eec07_level0_col8\" class=\"col_heading level0 col8\" >I</th>\n",
       "    </tr>\n",
       "  </thead>\n",
       "  <tbody>\n",
       "    <tr>\n",
       "      <th id=\"T_eec07_level0_row0\" class=\"row_heading level0 row0\" >count</th>\n",
       "      <td id=\"T_eec07_row0_col0\" class=\"data row0 col0\" ><data style=\"--val: 11\">11</data></td>\n",
       "      <td id=\"T_eec07_row0_col1\" class=\"data row0 col1\" ><data style=\"--val: 8\">8</data></td>\n",
       "      <td id=\"T_eec07_row0_col2\" class=\"data row0 col2\" ><data style=\"--val: 6\">6</data></td>\n",
       "      <td id=\"T_eec07_row0_col3\" class=\"data row0 col3\" ><data style=\"--val: 8\">8</data></td>\n",
       "      <td id=\"T_eec07_row0_col4\" class=\"data row0 col4\" ><data style=\"--val: 17\">17</data></td>\n",
       "      <td id=\"T_eec07_row0_col5\" class=\"data row0 col5\" ><data style=\"--val: 9\">9</data></td>\n",
       "      <td id=\"T_eec07_row0_col6\" class=\"data row0 col6\" ><data style=\"--val: 8\">8</data></td>\n",
       "      <td id=\"T_eec07_row0_col7\" class=\"data row0 col7\" ><data style=\"--val: 7\">7</data></td>\n",
       "      <td id=\"T_eec07_row0_col8\" class=\"data row0 col8\" ><data style=\"--val: 18\">18</data></td>\n",
       "    </tr>\n",
       "  </tbody>\n",
       "</table>\n"
      ],
      "text/plain": [
       "<pandas.io.formats.style.Styler at 0x7fc046600cd0>"
      ]
     },
     "execution_count": 3,
     "metadata": {},
     "output_type": "execute_result"
    }
   ],
   "source": [
    "hist.T.map(\n",
    "    lambda x: F\"\"\"<data style=\"--val: {x}\">{x}</data>\"\"\"\n",
    ").style.set_table_attributes(\"\"\"class=\"hist v\" \"\"\").set_caption(\"a vertical histogram of sythetic data to demostrate the technique.\")"
   ]
  },
  {
   "cell_type": "markdown",
   "id": "c49686a5-663e-4090-a296-bf019319a5ce",
   "metadata": {},
   "source": [
    "now some css to make it visually appear like histogram"
   ]
  },
  {
   "cell_type": "code",
   "execution_count": 4,
   "id": "f2a0679a-1107-4a25-a4c2-c06d4caf62d2",
   "metadata": {},
   "outputs": [
    {
     "data": {
      "text/markdown": [
       "\n",
       "    display\\\n",
       "```html\n",
       "<style>\n",
       "table.hist {\n",
       "    caption dl {\n",
       "        display: inline-flex !important;\n",
       "        justify-content: flex-start;\n",
       "    }\n",
       "    table-layout: fixed;\n",
       "    &, td, th {border: none !important;}\n",
       "    th, td {\n",
       "        position: relative;\n",
       "        data {\n",
       "            position: relative;\n",
       "            display: inline-block;\n",
       "            background-color: darkslategray;\n",
       "            color: white;\n",
       "        }\n",
       "    }\n",
       "}\n",
       "table.hist {\n",
       "    &.v {\n",
       "        width: 100%;\n",
       "    \n",
       "    }\n",
       "    &.v :is(th,td) {\n",
       "        top: 0;\n",
       "        vertical-align: bottom;   \n",
       "        text-align: center !important;\n",
       "\n",
       "    }\n",
       "    &.v data {\n",
       "        vertical-align: bottom;\n",
       "        text-align: center;\n",
       "        width: 100%;\n",
       "        height: calc(var(--val)*1rem);\n",
       "    }\n",
       "    &.h data {\n",
       "        float: left;\n",
       "\n",
       "        \n",
       "        \n",
       "        vertical-align: bottom;\n",
       "        text-align: left;\n",
       "        left: 0;\n",
       "        width: calc(var(--val)*1rem);\n",
       "\n",
       "    }\n",
       "}\n",
       "</style>\n",
       "```\n"
      ],
      "text/plain": [
       "<IPython.core.display.Markdown object>"
      ]
     },
     "metadata": {},
     "output_type": "display_data"
    },
    {
     "data": {
      "text/html": [
       "<style>\n",
       "table.hist {\n",
       "    caption dl {\n",
       "        display: inline-flex !important;\n",
       "        justify-content: flex-start;\n",
       "    }\n",
       "    table-layout: fixed;\n",
       "    &, td, th {border: none !important;}\n",
       "    th, td {\n",
       "        position: relative;\n",
       "        data {\n",
       "            position: relative;\n",
       "            display: inline-block;\n",
       "            background-color: darkslategray;\n",
       "            color: white;\n",
       "        }\n",
       "    }\n",
       "}\n",
       "table.hist {\n",
       "    &.v {\n",
       "        width: 100%;\n",
       "    \n",
       "    }\n",
       "    &.v :is(th,td) {\n",
       "        top: 0;\n",
       "        vertical-align: bottom;   \n",
       "        text-align: center !important;\n",
       "\n",
       "    }\n",
       "    &.v data {\n",
       "        vertical-align: bottom;\n",
       "        text-align: center;\n",
       "        width: 100%;\n",
       "        height: calc(var(--val)*1rem);\n",
       "    }\n",
       "    &.h data {\n",
       "        float: left;\n",
       "\n",
       "        \n",
       "        \n",
       "        vertical-align: bottom;\n",
       "        text-align: left;\n",
       "        left: 0;\n",
       "        width: calc(var(--val)*1rem);\n",
       "\n",
       "    }\n",
       "}\n",
       "</style>\n"
      ],
      "text/plain": [
       "<IPython.core.display.HTML object>"
      ]
     },
     "metadata": {},
     "output_type": "display_data"
    }
   ],
   "source": [
    "%%\n",
    "    display\\\n",
    "```html\n",
    "<style>\n",
    "table.hist {\n",
    "    caption dl {\n",
    "        display: inline-flex !important;\n",
    "        justify-content: flex-start;\n",
    "    }\n",
    "    table-layout: fixed;\n",
    "    &, td, th {border: none !important;}\n",
    "    th, td {\n",
    "        position: relative;\n",
    "        data {\n",
    "            position: relative;\n",
    "            display: inline-block;\n",
    "            background-color: darkslategray;\n",
    "            color: white;\n",
    "        }\n",
    "    }\n",
    "}\n",
    "table.hist {\n",
    "    &.v {\n",
    "        width: 100%;\n",
    "    \n",
    "    }\n",
    "    &.v :is(th,td) {\n",
    "        top: 0;\n",
    "        vertical-align: bottom;   \n",
    "        text-align: center !important;\n",
    "\n",
    "    }\n",
    "    &.v data {\n",
    "        vertical-align: bottom;\n",
    "        text-align: center;\n",
    "        width: 100%;\n",
    "        height: calc(var(--val)*1rem);\n",
    "    }\n",
    "    &.h data {\n",
    "        float: left;\n",
    "        vertical-align: bottom;\n",
    "        text-align: left;\n",
    "        left: 0;\n",
    "        width: calc(var(--val)*1rem);\n",
    "\n",
    "    }\n",
    "}\n",
    "</style>\n",
    "```"
   ]
  },
  {
   "cell_type": "code",
   "execution_count": 5,
   "id": "011b615a-08ae-4c50-bef3-931ae6c434e9",
   "metadata": {},
   "outputs": [
    {
     "data": {
      "text/html": [
       "<style type=\"text/css\">\n",
       "</style>\n",
       "<table id=\"T_f0abe\" class=\"hist h\" >\n",
       "  <caption>a horizontal histogram of sythetic data to demostrate the technique.</caption>\n",
       "  <thead>\n",
       "    <tr>\n",
       "      <th class=\"blank level0\" >&nbsp;</th>\n",
       "      <th id=\"T_f0abe_level0_col0\" class=\"col_heading level0 col0\" >count</th>\n",
       "    </tr>\n",
       "    <tr>\n",
       "      <th class=\"index_name level0\" >category</th>\n",
       "      <th class=\"blank col0\" >&nbsp;</th>\n",
       "    </tr>\n",
       "  </thead>\n",
       "  <tbody>\n",
       "    <tr>\n",
       "      <th id=\"T_f0abe_level0_row0\" class=\"row_heading level0 row0\" >A</th>\n",
       "      <td id=\"T_f0abe_row0_col0\" class=\"data row0 col0\" ><data style=\"--val: 11\">11</data></td>\n",
       "    </tr>\n",
       "    <tr>\n",
       "      <th id=\"T_f0abe_level0_row1\" class=\"row_heading level0 row1\" >B</th>\n",
       "      <td id=\"T_f0abe_row1_col0\" class=\"data row1 col0\" ><data style=\"--val: 8\">8</data></td>\n",
       "    </tr>\n",
       "    <tr>\n",
       "      <th id=\"T_f0abe_level0_row2\" class=\"row_heading level0 row2\" >C</th>\n",
       "      <td id=\"T_f0abe_row2_col0\" class=\"data row2 col0\" ><data style=\"--val: 6\">6</data></td>\n",
       "    </tr>\n",
       "    <tr>\n",
       "      <th id=\"T_f0abe_level0_row3\" class=\"row_heading level0 row3\" >D</th>\n",
       "      <td id=\"T_f0abe_row3_col0\" class=\"data row3 col0\" ><data style=\"--val: 8\">8</data></td>\n",
       "    </tr>\n",
       "    <tr>\n",
       "      <th id=\"T_f0abe_level0_row4\" class=\"row_heading level0 row4\" >E</th>\n",
       "      <td id=\"T_f0abe_row4_col0\" class=\"data row4 col0\" ><data style=\"--val: 17\">17</data></td>\n",
       "    </tr>\n",
       "    <tr>\n",
       "      <th id=\"T_f0abe_level0_row5\" class=\"row_heading level0 row5\" >F</th>\n",
       "      <td id=\"T_f0abe_row5_col0\" class=\"data row5 col0\" ><data style=\"--val: 9\">9</data></td>\n",
       "    </tr>\n",
       "    <tr>\n",
       "      <th id=\"T_f0abe_level0_row6\" class=\"row_heading level0 row6\" >G</th>\n",
       "      <td id=\"T_f0abe_row6_col0\" class=\"data row6 col0\" ><data style=\"--val: 8\">8</data></td>\n",
       "    </tr>\n",
       "    <tr>\n",
       "      <th id=\"T_f0abe_level0_row7\" class=\"row_heading level0 row7\" >H</th>\n",
       "      <td id=\"T_f0abe_row7_col0\" class=\"data row7 col0\" ><data style=\"--val: 7\">7</data></td>\n",
       "    </tr>\n",
       "    <tr>\n",
       "      <th id=\"T_f0abe_level0_row8\" class=\"row_heading level0 row8\" >I</th>\n",
       "      <td id=\"T_f0abe_row8_col0\" class=\"data row8 col0\" ><data style=\"--val: 18\">18</data></td>\n",
       "    </tr>\n",
       "  </tbody>\n",
       "</table>\n"
      ],
      "text/plain": [
       "<pandas.io.formats.style.Styler at 0x7fbfda5bb2d0>"
      ]
     },
     "execution_count": 5,
     "metadata": {},
     "output_type": "execute_result"
    }
   ],
   "source": [
    "hist.map(\n",
    "    lambda x: F\"\"\"<data style=\"--val: {x}\">{x}</data>\"\"\"\n",
    ").style.set_table_attributes(\"\"\"class=\"hist h\" \"\"\").set_caption(\"a horizontal histogram of sythetic data to demostrate the technique.\")\n"
   ]
  },
  {
   "cell_type": "code",
   "execution_count": 6,
   "id": "6dbf7a06-564d-44fa-9ad7-5983e73b5bcd",
   "metadata": {},
   "outputs": [
    {
     "data": {
      "text/html": [
       "<style type=\"text/css\">\n",
       "</style>\n",
       "<table id=\"T_0d2f9\" class=\"hist h\" >\n",
       "  <caption>a histogram of sythetic data to demostrate the technique.</caption>\n",
       "  <thead>\n",
       "    <tr>\n",
       "      <th class=\"blank level0\" >&nbsp;</th>\n",
       "      <th id=\"T_0d2f9_level0_col0\" class=\"col_heading level0 col0\" >count</th>\n",
       "    </tr>\n",
       "    <tr>\n",
       "      <th class=\"index_name level0\" >category</th>\n",
       "      <th class=\"blank col0\" >&nbsp;</th>\n",
       "    </tr>\n",
       "  </thead>\n",
       "  <tbody>\n",
       "    <tr>\n",
       "      <th id=\"T_0d2f9_level0_row0\" class=\"row_heading level0 row0\" >A</th>\n",
       "      <td id=\"T_0d2f9_row0_col0\" class=\"data row0 col0\" ><data style=\"--val: 11\">11</data></td>\n",
       "    </tr>\n",
       "    <tr>\n",
       "      <th id=\"T_0d2f9_level0_row1\" class=\"row_heading level0 row1\" >B</th>\n",
       "      <td id=\"T_0d2f9_row1_col0\" class=\"data row1 col0\" ><data style=\"--val: 8\">8</data></td>\n",
       "    </tr>\n",
       "    <tr>\n",
       "      <th id=\"T_0d2f9_level0_row2\" class=\"row_heading level0 row2\" >C</th>\n",
       "      <td id=\"T_0d2f9_row2_col0\" class=\"data row2 col0\" ><data style=\"--val: 6\">6</data></td>\n",
       "    </tr>\n",
       "    <tr>\n",
       "      <th id=\"T_0d2f9_level0_row3\" class=\"row_heading level0 row3\" >D</th>\n",
       "      <td id=\"T_0d2f9_row3_col0\" class=\"data row3 col0\" ><data style=\"--val: 8\">8</data></td>\n",
       "    </tr>\n",
       "    <tr>\n",
       "      <th id=\"T_0d2f9_level0_row4\" class=\"row_heading level0 row4\" >E</th>\n",
       "      <td id=\"T_0d2f9_row4_col0\" class=\"data row4 col0\" ><data style=\"--val: 17\">17</data></td>\n",
       "    </tr>\n",
       "    <tr>\n",
       "      <th id=\"T_0d2f9_level0_row5\" class=\"row_heading level0 row5\" >F</th>\n",
       "      <td id=\"T_0d2f9_row5_col0\" class=\"data row5 col0\" ><data style=\"--val: 9\">9</data></td>\n",
       "    </tr>\n",
       "    <tr>\n",
       "      <th id=\"T_0d2f9_level0_row6\" class=\"row_heading level0 row6\" >G</th>\n",
       "      <td id=\"T_0d2f9_row6_col0\" class=\"data row6 col0\" ><data style=\"--val: 8\">8</data></td>\n",
       "    </tr>\n",
       "    <tr>\n",
       "      <th id=\"T_0d2f9_level0_row7\" class=\"row_heading level0 row7\" >H</th>\n",
       "      <td id=\"T_0d2f9_row7_col0\" class=\"data row7 col0\" ><data style=\"--val: 7\">7</data></td>\n",
       "    </tr>\n",
       "    <tr>\n",
       "      <th id=\"T_0d2f9_level0_row8\" class=\"row_heading level0 row8\" >I</th>\n",
       "      <td id=\"T_0d2f9_row8_col0\" class=\"data row8 col0\" ><data style=\"--val: 18\">18</data></td>\n",
       "    </tr>\n",
       "  </tbody>\n",
       "</table>\n"
      ],
      "text/plain": [
       "<pandas.io.formats.style.Styler at 0x7fbfda28b090>"
      ]
     },
     "execution_count": 6,
     "metadata": {},
     "output_type": "execute_result"
    }
   ],
   "source": [
    "hist.map(\n",
    "    lambda x: F\"\"\"<data style=\"--val: {x}\">{x}</data>\"\"\"\n",
    ").style.set_table_attributes(\"\"\"class=\"hist h\" \"\"\").set_caption(\"a histogram of sythetic data to demostrate the technique.\")\n"
   ]
  },
  {
   "cell_type": "code",
   "execution_count": 7,
   "id": "6fec4b56-f826-4155-a2fd-038db4970e36",
   "metadata": {},
   "outputs": [
    {
     "data": {
      "text/html": [
       "<style type=\"text/css\">\n",
       "</style>\n",
       "<table id=\"T_f38ed\" class=\"hist h\" >\n",
       "  <caption>a sorted vertical histogram of sythetic data to demostrate the technique.</caption>\n",
       "  <thead>\n",
       "    <tr>\n",
       "      <th class=\"blank level0\" >&nbsp;</th>\n",
       "      <th id=\"T_f38ed_level0_col0\" class=\"col_heading level0 col0\" >count</th>\n",
       "    </tr>\n",
       "    <tr>\n",
       "      <th class=\"index_name level0\" >category</th>\n",
       "      <th class=\"blank col0\" >&nbsp;</th>\n",
       "    </tr>\n",
       "  </thead>\n",
       "  <tbody>\n",
       "    <tr>\n",
       "      <th id=\"T_f38ed_level0_row0\" class=\"row_heading level0 row0\" >I</th>\n",
       "      <td id=\"T_f38ed_row0_col0\" class=\"data row0 col0\" ><data style=\"--val: 18\">18</data></td>\n",
       "    </tr>\n",
       "    <tr>\n",
       "      <th id=\"T_f38ed_level0_row1\" class=\"row_heading level0 row1\" >E</th>\n",
       "      <td id=\"T_f38ed_row1_col0\" class=\"data row1 col0\" ><data style=\"--val: 17\">17</data></td>\n",
       "    </tr>\n",
       "    <tr>\n",
       "      <th id=\"T_f38ed_level0_row2\" class=\"row_heading level0 row2\" >A</th>\n",
       "      <td id=\"T_f38ed_row2_col0\" class=\"data row2 col0\" ><data style=\"--val: 11\">11</data></td>\n",
       "    </tr>\n",
       "    <tr>\n",
       "      <th id=\"T_f38ed_level0_row3\" class=\"row_heading level0 row3\" >F</th>\n",
       "      <td id=\"T_f38ed_row3_col0\" class=\"data row3 col0\" ><data style=\"--val: 9\">9</data></td>\n",
       "    </tr>\n",
       "    <tr>\n",
       "      <th id=\"T_f38ed_level0_row4\" class=\"row_heading level0 row4\" >B</th>\n",
       "      <td id=\"T_f38ed_row4_col0\" class=\"data row4 col0\" ><data style=\"--val: 8\">8</data></td>\n",
       "    </tr>\n",
       "    <tr>\n",
       "      <th id=\"T_f38ed_level0_row5\" class=\"row_heading level0 row5\" >G</th>\n",
       "      <td id=\"T_f38ed_row5_col0\" class=\"data row5 col0\" ><data style=\"--val: 8\">8</data></td>\n",
       "    </tr>\n",
       "    <tr>\n",
       "      <th id=\"T_f38ed_level0_row6\" class=\"row_heading level0 row6\" >D</th>\n",
       "      <td id=\"T_f38ed_row6_col0\" class=\"data row6 col0\" ><data style=\"--val: 8\">8</data></td>\n",
       "    </tr>\n",
       "    <tr>\n",
       "      <th id=\"T_f38ed_level0_row7\" class=\"row_heading level0 row7\" >H</th>\n",
       "      <td id=\"T_f38ed_row7_col0\" class=\"data row7 col0\" ><data style=\"--val: 7\">7</data></td>\n",
       "    </tr>\n",
       "    <tr>\n",
       "      <th id=\"T_f38ed_level0_row8\" class=\"row_heading level0 row8\" >C</th>\n",
       "      <td id=\"T_f38ed_row8_col0\" class=\"data row8 col0\" ><data style=\"--val: 6\">6</data></td>\n",
       "    </tr>\n",
       "  </tbody>\n",
       "</table>\n"
      ],
      "text/plain": [
       "<pandas.io.formats.style.Styler at 0x7fbfda2bef50>"
      ]
     },
     "execution_count": 7,
     "metadata": {},
     "output_type": "execute_result"
    }
   ],
   "source": [
    "hist.sort_values(by=\"count\", ascending=False).map(\n",
    "    lambda x: F\"\"\"<data style=\"--val: {x}\">{x}</data>\"\"\"\n",
    ").style.set_table_attributes(\"\"\"class=\"hist h\" \"\"\").set_caption(\"a sorted vertical histogram of sythetic data to demostrate the technique.\")"
   ]
  },
  {
   "cell_type": "code",
   "execution_count": 8,
   "id": "fe59b433-24d7-4c8e-adff-5cdc4ba7a3e8",
   "metadata": {},
   "outputs": [
    {
     "data": {
      "text/html": [
       "<style type=\"text/css\">\n",
       "</style>\n",
       "<table id=\"T_24764\" class=\"hist v\" >\n",
       "  <caption>a sorted vertical histogram of sythetic data to demostrate the technique.</caption>\n",
       "  <thead>\n",
       "    <tr>\n",
       "      <th class=\"index_name level0\" >category</th>\n",
       "      <th id=\"T_24764_level0_col0\" class=\"col_heading level0 col0\" >I</th>\n",
       "      <th id=\"T_24764_level0_col1\" class=\"col_heading level0 col1\" >E</th>\n",
       "      <th id=\"T_24764_level0_col2\" class=\"col_heading level0 col2\" >A</th>\n",
       "      <th id=\"T_24764_level0_col3\" class=\"col_heading level0 col3\" >F</th>\n",
       "      <th id=\"T_24764_level0_col4\" class=\"col_heading level0 col4\" >B</th>\n",
       "      <th id=\"T_24764_level0_col5\" class=\"col_heading level0 col5\" >G</th>\n",
       "      <th id=\"T_24764_level0_col6\" class=\"col_heading level0 col6\" >D</th>\n",
       "      <th id=\"T_24764_level0_col7\" class=\"col_heading level0 col7\" >H</th>\n",
       "      <th id=\"T_24764_level0_col8\" class=\"col_heading level0 col8\" >C</th>\n",
       "    </tr>\n",
       "  </thead>\n",
       "  <tbody>\n",
       "    <tr>\n",
       "      <th id=\"T_24764_level0_row0\" class=\"row_heading level0 row0\" >count</th>\n",
       "      <td id=\"T_24764_row0_col0\" class=\"data row0 col0\" ><data style=\"--val: 18\">18</data></td>\n",
       "      <td id=\"T_24764_row0_col1\" class=\"data row0 col1\" ><data style=\"--val: 17\">17</data></td>\n",
       "      <td id=\"T_24764_row0_col2\" class=\"data row0 col2\" ><data style=\"--val: 11\">11</data></td>\n",
       "      <td id=\"T_24764_row0_col3\" class=\"data row0 col3\" ><data style=\"--val: 9\">9</data></td>\n",
       "      <td id=\"T_24764_row0_col4\" class=\"data row0 col4\" ><data style=\"--val: 8\">8</data></td>\n",
       "      <td id=\"T_24764_row0_col5\" class=\"data row0 col5\" ><data style=\"--val: 8\">8</data></td>\n",
       "      <td id=\"T_24764_row0_col6\" class=\"data row0 col6\" ><data style=\"--val: 8\">8</data></td>\n",
       "      <td id=\"T_24764_row0_col7\" class=\"data row0 col7\" ><data style=\"--val: 7\">7</data></td>\n",
       "      <td id=\"T_24764_row0_col8\" class=\"data row0 col8\" ><data style=\"--val: 6\">6</data></td>\n",
       "    </tr>\n",
       "  </tbody>\n",
       "</table>\n"
      ],
      "text/plain": [
       "<pandas.io.formats.style.Styler at 0x7fbfda678810>"
      ]
     },
     "execution_count": 8,
     "metadata": {},
     "output_type": "execute_result"
    }
   ],
   "source": [
    "hist.sort_values(by=\"count\", ascending=False).T.map(\n",
    "    lambda x: F\"\"\"<data style=\"--val: {x}\">{x}</data>\"\"\"\n",
    ").style.set_table_attributes(\"\"\"class=\"hist v\" \"\"\").set_caption(\"a sorted vertical histogram of sythetic data to demostrate the technique.\")"
   ]
  }
 ],
 "metadata": {
  "kernelspec": {
   "display_name": "Python 3 (ipykernel)",
   "language": "python",
   "name": "python3"
  },
  "language_info": {
   "codemirror_mode": {
    "name": "ipython",
    "version": 3
   },
   "file_extension": ".py",
   "mimetype": "text/x-python",
   "name": "python",
   "nbconvert_exporter": "python",
   "pygments_lexer": "ipython3",
   "version": "3.11.3"
  },
  "widgets": {
   "application/vnd.jupyter.widget-state+json": {
    "state": {},
    "version_major": 2,
    "version_minor": 0
   }
  }
 },
 "nbformat": 4,
 "nbformat_minor": 5
}
