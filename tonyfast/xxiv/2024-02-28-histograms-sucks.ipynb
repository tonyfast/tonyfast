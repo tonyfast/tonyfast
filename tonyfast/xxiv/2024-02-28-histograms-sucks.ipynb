{
 "cells": [
  {
   "cell_type": "markdown",
   "id": "7cc90659-4e2d-4392-8208-0496c6a8a58b",
   "metadata": {},
   "source": [
    "# histograms suck\n",
    "\n",
    "what is an accessible histogram made out of a table?"
   ]
  },
  {
   "cell_type": "code",
   "execution_count": 1,
   "id": "bc3bfba5-2bad-4e7a-a68b-a281b63503c7",
   "metadata": {},
   "outputs": [],
   "source": [
    "    %%capture\n",
    "    import pandas, random, midgy\n",
    "    import importnb\n",
    "    with __import__(\"importnb\").Notebook(): from __multi__aria import get_table"
   ]
  },
  {
   "cell_type": "markdown",
   "id": "0634455e-1b63-411a-98ce-39dbfc03b6dd",
   "metadata": {},
   "source": [
    "synthetic data that creates a histogram like looking dataframe"
   ]
  },
  {
   "cell_type": "code",
   "execution_count": 2,
   "id": "c343416e-1f65-4227-bb12-1c77c1e19bce",
   "metadata": {},
   "outputs": [
    {
     "data": {
      "text/html": [
       "<table aria-colcount=\"11\" aria-rowcount=\"2\"><caption><dl role=\"presentation\"><dt>rows</dt><dd>1</dd><dt>columns</dt><dd>9</dd><dt>indexes:</dt><dd><dl role=\"presentation\"><dt>rows</dt><dd>1</dd><dt>columns</dt><dd>1</dd></dl></dd></dl></caption><tr aria-rowindex=\"1\"><th aria-colindex=\"2\" scope=\"row\">bin</th><th aria-colindex=\"2\" scope=\"col\">0</th><th aria-colindex=\"3\" scope=\"col\">1</th><th aria-colindex=\"4\" scope=\"col\">2</th><th aria-colindex=\"5\" scope=\"col\">3</th><th aria-colindex=\"6\" scope=\"col\">4</th><th aria-colindex=\"7\" scope=\"col\">5</th><th aria-colindex=\"8\" scope=\"col\">6</th><th aria-colindex=\"9\" scope=\"col\">7</th><th aria-colindex=\"10\" scope=\"col\">8</th></tr><tr aria-rowindex=\"2\"><th aria-colindex=\"1\" scope=\"row\">count</th><td aria-colindex=\"2\">7</td><td aria-colindex=\"3\">11</td><td aria-colindex=\"4\">6</td><td aria-colindex=\"5\">7</td><td aria-colindex=\"6\">8</td><td aria-colindex=\"7\">7</td><td aria-colindex=\"8\">10</td><td aria-colindex=\"9\">11</td><td aria-colindex=\"10\">12</td></tr></table>"
      ],
      "text/plain": [
       "<table aria-colcount=\"11\" aria-rowcount=\"2\"><caption><dl role=\"presentation\"><dt>rows</dt><dd>1</dd><dt>columns</dt><dd>9</dd><dt>indexes:</dt><dd><dl role=\"presentation\"><dt>rows</dt><dd>1</dd><dt>columns</dt><dd>1</dd></dl></dd></dl></caption><tr aria-rowindex=\"1\"><th aria-colindex=\"2\" scope=\"row\">bin</th><th aria-colindex=\"2\" scope=\"col\">0</th><th aria-colindex=\"3\" scope=\"col\">1</th><th aria-colindex=\"4\" scope=\"col\">2</th><th aria-colindex=\"5\" scope=\"col\">3</th><th aria-colindex=\"6\" scope=\"col\">4</th><th aria-colindex=\"7\" scope=\"col\">5</th><th aria-colindex=\"8\" scope=\"col\">6</th><th aria-colindex=\"9\" scope=\"col\">7</th><th aria-colindex=\"10\" scope=\"col\">8</th></tr><tr aria-rowindex=\"2\"><th aria-colindex=\"1\" scope=\"row\">count</th><td aria-colindex=\"2\">7</td><td aria-colindex=\"3\">11</td><td aria-colindex=\"4\">6</td><td aria-colindex=\"5\">7</td><td aria-colindex=\"6\">8</td><td aria-colindex=\"7\">7</td><td aria-colindex=\"8\">10</td><td aria-colindex=\"9\">11</td><td aria-colindex=\"10\">12</td></tr></table>"
      ]
     },
     "execution_count": 2,
     "metadata": {},
     "output_type": "execute_result"
    }
   ],
   "source": [
    "    data = pandas.RangeIndex(100).to_series().apply(lambda x: random.random()*10).astype(int).value_counts()\n",
    "    hist = data.to_frame().reindex(pandas.RangeIndex(min(data.index), max(data.index))).T.rename_axis(\"bin\", axis=1)\n",
    "    hist.pipe(get_table )"
   ]
  },
  {
   "cell_type": "markdown",
   "id": "ec331271-a049-4e8d-ad81-f566ab375039",
   "metadata": {},
   "source": [
    "customize the style with pandas styler. do some weird shit so we have access to a string and numerical version of the value. `content` can't show a string and we can't math on a string so we need both. this is redundant, but lets stick to css."
   ]
  },
  {
   "cell_type": "code",
   "execution_count": 3,
   "id": "3969636f-f465-4a10-bee7-4a67cd3b701e",
   "metadata": {},
   "outputs": [
    {
     "data": {
      "text/html": [
       "<style type=\"text/css\">\n",
       "</style>\n",
       "<table id=\"T_0c4c8\" class=hist>\n",
       "  <caption>a histogram of sythetic data to demostrate the technique.</caption>\n",
       "  <thead>\n",
       "    <tr>\n",
       "      <th class=\"index_name level0\" >bin</th>\n",
       "      <th id=\"T_0c4c8_level0_col0\" class=\"col_heading level0 col0\" >0</th>\n",
       "      <th id=\"T_0c4c8_level0_col1\" class=\"col_heading level0 col1\" >1</th>\n",
       "      <th id=\"T_0c4c8_level0_col2\" class=\"col_heading level0 col2\" >2</th>\n",
       "      <th id=\"T_0c4c8_level0_col3\" class=\"col_heading level0 col3\" >3</th>\n",
       "      <th id=\"T_0c4c8_level0_col4\" class=\"col_heading level0 col4\" >4</th>\n",
       "      <th id=\"T_0c4c8_level0_col5\" class=\"col_heading level0 col5\" >5</th>\n",
       "      <th id=\"T_0c4c8_level0_col6\" class=\"col_heading level0 col6\" >6</th>\n",
       "      <th id=\"T_0c4c8_level0_col7\" class=\"col_heading level0 col7\" >7</th>\n",
       "      <th id=\"T_0c4c8_level0_col8\" class=\"col_heading level0 col8\" >8</th>\n",
       "    </tr>\n",
       "  </thead>\n",
       "  <tbody>\n",
       "    <tr>\n",
       "      <th id=\"T_0c4c8_level0_row0\" class=\"row_heading level0 row0\" >count</th>\n",
       "      <td id=\"T_0c4c8_row0_col0\" class=\"data row0 col0\" ><data value=7 style=\"--val: 7\"></data></td>\n",
       "      <td id=\"T_0c4c8_row0_col1\" class=\"data row0 col1\" ><data value=11 style=\"--val: 11\"></data></td>\n",
       "      <td id=\"T_0c4c8_row0_col2\" class=\"data row0 col2\" ><data value=6 style=\"--val: 6\"></data></td>\n",
       "      <td id=\"T_0c4c8_row0_col3\" class=\"data row0 col3\" ><data value=7 style=\"--val: 7\"></data></td>\n",
       "      <td id=\"T_0c4c8_row0_col4\" class=\"data row0 col4\" ><data value=8 style=\"--val: 8\"></data></td>\n",
       "      <td id=\"T_0c4c8_row0_col5\" class=\"data row0 col5\" ><data value=7 style=\"--val: 7\"></data></td>\n",
       "      <td id=\"T_0c4c8_row0_col6\" class=\"data row0 col6\" ><data value=10 style=\"--val: 10\"></data></td>\n",
       "      <td id=\"T_0c4c8_row0_col7\" class=\"data row0 col7\" ><data value=11 style=\"--val: 11\"></data></td>\n",
       "      <td id=\"T_0c4c8_row0_col8\" class=\"data row0 col8\" ><data value=12 style=\"--val: 12\"></data></td>\n",
       "    </tr>\n",
       "  </tbody>\n",
       "</table>\n"
      ],
      "text/plain": [
       "<pandas.io.formats.style.Styler at 0x7fcfff330750>"
      ]
     },
     "execution_count": 3,
     "metadata": {},
     "output_type": "execute_result"
    }
   ],
   "source": [
    "hist.rename_axis(\n",
    "    \"bin\", axis=1\n",
    ").map(\n",
    "    lambda x: F\"\"\"<data value={x} style=\"--val: {x}\"></data>\"\"\"\n",
    ").style.set_table_attributes(\"\"\"class=hist\"\"\").set_caption(\"a histogram of sythetic data to demostrate the technique.\")\n",
    "\n"
   ]
  },
  {
   "cell_type": "markdown",
   "id": "c49686a5-663e-4090-a296-bf019319a5ce",
   "metadata": {},
   "source": [
    "now some css to make it visually appear like histogram"
   ]
  },
  {
   "cell_type": "code",
   "execution_count": 4,
   "id": "f2a0679a-1107-4a25-a4c2-c06d4caf62d2",
   "metadata": {},
   "outputs": [
    {
     "data": {
      "text/markdown": [
       "\n",
       "    display\\\n",
       "```html\n",
       "<style>\n",
       "table.hist {\n",
       "    table-layout: fixed;\n",
       "    width: 100%;\n",
       "    &, td, th {border: none !important;}\n",
       "    th {text-align: center !important;}\n",
       "    th, td {\n",
       "        position: relative;\n",
       "        data::after{content: attr(value);}\n",
       "        top: 0;\n",
       "        vertical-align: bottom;\n",
       "        data {\n",
       "            display: inline-block;\n",
       "            vertical-align: bottom;\n",
       "            text-align: center;\n",
       "            width: 100%;\n",
       "            height: calc(var(--val)*1rem);\n",
       "            background-color: blue;\n",
       "            color: white;\n",
       "\n",
       "        }\n",
       "\n",
       "    }\n",
       "}\n",
       "</style>\n",
       "```\n"
      ],
      "text/plain": [
       "<IPython.core.display.Markdown object>"
      ]
     },
     "metadata": {},
     "output_type": "display_data"
    },
    {
     "data": {
      "text/html": [
       "<style>\n",
       "table.hist {\n",
       "    table-layout: fixed;\n",
       "    width: 100%;\n",
       "    &, td, th {border: none !important;}\n",
       "    th {text-align: center !important;}\n",
       "    th, td {\n",
       "        position: relative;\n",
       "        data::after{content: attr(value);}\n",
       "        top: 0;\n",
       "        vertical-align: bottom;\n",
       "        data {\n",
       "            display: inline-block;\n",
       "            vertical-align: bottom;\n",
       "            text-align: center;\n",
       "            width: 100%;\n",
       "            height: calc(var(--val)*1rem);\n",
       "            background-color: blue;\n",
       "            color: white;\n",
       "\n",
       "        }\n",
       "\n",
       "    }\n",
       "}\n",
       "</style>\n"
      ],
      "text/plain": [
       "<IPython.core.display.HTML object>"
      ]
     },
     "metadata": {},
     "output_type": "display_data"
    }
   ],
   "source": [
    "%%\n",
    "    display\\\n",
    "```html\n",
    "<style>\n",
    "table.hist {\n",
    "    table-layout: fixed;\n",
    "    width: 100%;\n",
    "    &, td, th {border: none !important;}\n",
    "    th {text-align: center !important;}\n",
    "    th, td {\n",
    "        position: relative;\n",
    "        data::after{content: attr(value);}\n",
    "        top: 0;\n",
    "        vertical-align: bottom;\n",
    "        data {\n",
    "            display: inline-block;\n",
    "            vertical-align: bottom;\n",
    "            text-align: center;\n",
    "            width: 100%;\n",
    "            height: calc(var(--val)*1rem);\n",
    "            background-color: blue;\n",
    "            color: white;\n",
    "\n",
    "        }\n",
    "\n",
    "    }\n",
    "}\n",
    "</style>\n",
    "```"
   ]
  },
  {
   "cell_type": "markdown",
   "id": "39870d9b-fe22-43df-9203-ebedf6fee0ad",
   "metadata": {},
   "source": [
    "in this form screen readers have access to each entry and tactile navigation."
   ]
  }
 ],
 "metadata": {
  "kernelspec": {
   "display_name": "Python 3 (ipykernel)",
   "language": "python",
   "name": "python3"
  },
  "language_info": {
   "codemirror_mode": {
    "name": "ipython",
    "version": 3
   },
   "file_extension": ".py",
   "mimetype": "text/x-python",
   "name": "python",
   "nbconvert_exporter": "python",
   "pygments_lexer": "ipython3",
   "version": "3.11.3"
  },
  "widgets": {
   "application/vnd.jupyter.widget-state+json": {
    "state": {},
    "version_major": 2,
    "version_minor": 0
   }
  }
 },
 "nbformat": 4,
 "nbformat_minor": 5
}
