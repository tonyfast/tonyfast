{
 "cells": [
  {
   "cell_type": "markdown",
   "id": "d036aef6-11f3-4818-b7b5-0d81f3014d02",
   "metadata": {},
   "source": [
    "# proper html tables with multiple indexes\n",
    "\n",
    "our goal is reduce the empty cells in tables, especially where headers should.\n",
    "empty cells diminish the experience for assistive technology users.\n",
    "through this study we'll design some accessible options we could generically use to represent dataframes."
   ]
  },
  {
   "cell_type": "code",
   "execution_count": 1,
   "id": "a33615b5-269f-4430-b172-69125ecfab6c",
   "metadata": {},
   "outputs": [
    {
     "name": "stderr",
     "output_type": "stream",
     "text": [
      "/tmp/ipykernel_36609/2026141445.py:1: DeprecationWarning: \n",
      "Pyarrow will become a required dependency of pandas in the next major release of pandas (pandas 3.0),\n",
      "(to allow more performant data types, such as the Arrow string type, and better interoperability with other libraries)\n",
      "but was not found to be installed on your system.\n",
      "If this would cause problems for you,\n",
      "please provide us feedback at https://github.com/pandas-dev/pandas/issues/54466\n",
      "        \n",
      "  import pandas, bs4, enum, numpy, midgy\n"
     ]
    }
   ],
   "source": [
    "    import pandas, bs4, enum, numpy, midgy\n",
    "    get_ipython().display_formatter.formatters[\"text/html\"].for_type(bs4.BeautifulSoup, str);"
   ]
  },
  {
   "cell_type": "code",
   "execution_count": 2,
   "id": "4cf0dc44-429c-47f0-b504-b6220f375b9a",
   "metadata": {},
   "outputs": [
    {
     "data": {
      "text/markdown": [
       "\n",
       "<style>\n",
       ":is(.jp-OutputArea-output.jp-RenderedHTMLCommon, .nb-outputs) :is(td,th) {\n",
       "    border: 1px solid;\n",
       "}\n",
       "</style>\n"
      ],
      "text/plain": [
       "<IPython.core.display.Markdown object>"
      ]
     },
     "metadata": {},
     "output_type": "display_data"
    }
   ],
   "source": [
    "%%\n",
    "<style>\n",
    ":is(.jp-OutputArea-output.jp-RenderedHTMLCommon, .nb-outputs) :is(td,th) {\n",
    "    border: 1px solid;\n",
    "}\n",
    "</style>"
   ]
  },
  {
   "cell_type": "markdown",
   "id": "667e5cff-0803-4bcf-a018-5f141e4ce056",
   "metadata": {},
   "source": [
    "create a sample dataframe to work with that has multiple indexes on both axes.\n",
    "this facilitates our study because it is easier to remove axes than add them later. the code snippet below provides our expected outcome."
   ]
  },
  {
   "cell_type": "code",
   "execution_count": 3,
   "id": "116b0189-9ed5-4c15-b2d4-8762bcae74b1",
   "metadata": {},
   "outputs": [
    {
     "data": {
      "text/html": [
       "<div>\n",
       "<style scoped>\n",
       "    .dataframe tbody tr th:only-of-type {\n",
       "        vertical-align: middle;\n",
       "    }\n",
       "\n",
       "    .dataframe tbody tr th {\n",
       "        vertical-align: top;\n",
       "    }\n",
       "\n",
       "    .dataframe thead tr th {\n",
       "        text-align: left;\n",
       "    }\n",
       "\n",
       "    .dataframe thead tr:last-of-type th {\n",
       "        text-align: right;\n",
       "    }\n",
       "</style>\n",
       "<table border=\"1\" class=\"dataframe\">\n",
       "  <thead>\n",
       "    <tr>\n",
       "      <th></th>\n",
       "      <th></th>\n",
       "      <th>10</th>\n",
       "      <th colspan=\"9\" halign=\"left\">A</th>\n",
       "      <th colspan=\"9\" halign=\"left\">Z</th>\n",
       "    </tr>\n",
       "    <tr>\n",
       "      <th></th>\n",
       "      <th></th>\n",
       "      <th>100</th>\n",
       "      <th colspan=\"3\" halign=\"left\">M</th>\n",
       "      <th colspan=\"3\" halign=\"left\">N</th>\n",
       "      <th colspan=\"3\" halign=\"left\">O</th>\n",
       "      <th colspan=\"3\" halign=\"left\">M</th>\n",
       "      <th colspan=\"3\" halign=\"left\">N</th>\n",
       "      <th colspan=\"3\" halign=\"left\">O</th>\n",
       "    </tr>\n",
       "    <tr>\n",
       "      <th></th>\n",
       "      <th></th>\n",
       "      <th>1000</th>\n",
       "      <th>1</th>\n",
       "      <th>2</th>\n",
       "      <th>3</th>\n",
       "      <th>1</th>\n",
       "      <th>2</th>\n",
       "      <th>3</th>\n",
       "      <th>1</th>\n",
       "      <th>2</th>\n",
       "      <th>3</th>\n",
       "      <th>1</th>\n",
       "      <th>2</th>\n",
       "      <th>3</th>\n",
       "      <th>1</th>\n",
       "      <th>2</th>\n",
       "      <th>3</th>\n",
       "      <th>1</th>\n",
       "      <th>2</th>\n",
       "      <th>3</th>\n",
       "    </tr>\n",
       "    <tr>\n",
       "      <th>J</th>\n",
       "      <th>K</th>\n",
       "      <th>L</th>\n",
       "      <th></th>\n",
       "      <th></th>\n",
       "      <th></th>\n",
       "      <th></th>\n",
       "      <th></th>\n",
       "      <th></th>\n",
       "      <th></th>\n",
       "      <th></th>\n",
       "      <th></th>\n",
       "      <th></th>\n",
       "      <th></th>\n",
       "      <th></th>\n",
       "      <th></th>\n",
       "      <th></th>\n",
       "      <th></th>\n",
       "      <th></th>\n",
       "      <th></th>\n",
       "      <th></th>\n",
       "    </tr>\n",
       "  </thead>\n",
       "  <tbody>\n",
       "    <tr>\n",
       "      <th rowspan=\"5\" valign=\"top\">A</th>\n",
       "      <th rowspan=\"3\" valign=\"top\">M</th>\n",
       "      <th>1</th>\n",
       "      <td>NaN</td>\n",
       "      <td>NaN</td>\n",
       "      <td>NaN</td>\n",
       "      <td>NaN</td>\n",
       "      <td>NaN</td>\n",
       "      <td>NaN</td>\n",
       "      <td>NaN</td>\n",
       "      <td>NaN</td>\n",
       "      <td>NaN</td>\n",
       "      <td>NaN</td>\n",
       "      <td>NaN</td>\n",
       "      <td>NaN</td>\n",
       "      <td>NaN</td>\n",
       "      <td>NaN</td>\n",
       "      <td>NaN</td>\n",
       "      <td>NaN</td>\n",
       "      <td>NaN</td>\n",
       "      <td>NaN</td>\n",
       "    </tr>\n",
       "    <tr>\n",
       "      <th>2</th>\n",
       "      <td>NaN</td>\n",
       "      <td>NaN</td>\n",
       "      <td>NaN</td>\n",
       "      <td>NaN</td>\n",
       "      <td>NaN</td>\n",
       "      <td>NaN</td>\n",
       "      <td>NaN</td>\n",
       "      <td>NaN</td>\n",
       "      <td>NaN</td>\n",
       "      <td>NaN</td>\n",
       "      <td>NaN</td>\n",
       "      <td>NaN</td>\n",
       "      <td>NaN</td>\n",
       "      <td>NaN</td>\n",
       "      <td>NaN</td>\n",
       "      <td>NaN</td>\n",
       "      <td>NaN</td>\n",
       "      <td>NaN</td>\n",
       "    </tr>\n",
       "    <tr>\n",
       "      <th>3</th>\n",
       "      <td>NaN</td>\n",
       "      <td>NaN</td>\n",
       "      <td>NaN</td>\n",
       "      <td>NaN</td>\n",
       "      <td>NaN</td>\n",
       "      <td>NaN</td>\n",
       "      <td>NaN</td>\n",
       "      <td>NaN</td>\n",
       "      <td>NaN</td>\n",
       "      <td>NaN</td>\n",
       "      <td>NaN</td>\n",
       "      <td>NaN</td>\n",
       "      <td>NaN</td>\n",
       "      <td>NaN</td>\n",
       "      <td>NaN</td>\n",
       "      <td>NaN</td>\n",
       "      <td>NaN</td>\n",
       "      <td>NaN</td>\n",
       "    </tr>\n",
       "    <tr>\n",
       "      <th rowspan=\"2\" valign=\"top\">N</th>\n",
       "      <th>1</th>\n",
       "      <td>NaN</td>\n",
       "      <td>NaN</td>\n",
       "      <td>NaN</td>\n",
       "      <td>NaN</td>\n",
       "      <td>NaN</td>\n",
       "      <td>NaN</td>\n",
       "      <td>NaN</td>\n",
       "      <td>NaN</td>\n",
       "      <td>NaN</td>\n",
       "      <td>NaN</td>\n",
       "      <td>NaN</td>\n",
       "      <td>NaN</td>\n",
       "      <td>NaN</td>\n",
       "      <td>NaN</td>\n",
       "      <td>NaN</td>\n",
       "      <td>NaN</td>\n",
       "      <td>NaN</td>\n",
       "      <td>NaN</td>\n",
       "    </tr>\n",
       "    <tr>\n",
       "      <th>2</th>\n",
       "      <td>NaN</td>\n",
       "      <td>NaN</td>\n",
       "      <td>NaN</td>\n",
       "      <td>NaN</td>\n",
       "      <td>NaN</td>\n",
       "      <td>NaN</td>\n",
       "      <td>NaN</td>\n",
       "      <td>NaN</td>\n",
       "      <td>NaN</td>\n",
       "      <td>NaN</td>\n",
       "      <td>NaN</td>\n",
       "      <td>NaN</td>\n",
       "      <td>NaN</td>\n",
       "      <td>NaN</td>\n",
       "      <td>NaN</td>\n",
       "      <td>NaN</td>\n",
       "      <td>NaN</td>\n",
       "      <td>NaN</td>\n",
       "    </tr>\n",
       "  </tbody>\n",
       "</table>\n",
       "</div>"
      ],
      "text/plain": [
       "10       A                                            Z                      \\\n",
       "100      M              N              O              M              N        \n",
       "1000     1    2    3    1    2    3    1    2    3    1    2    3    1    2   \n",
       "J K L                                                                         \n",
       "A M 1  NaN  NaN  NaN  NaN  NaN  NaN  NaN  NaN  NaN  NaN  NaN  NaN  NaN  NaN   \n",
       "    2  NaN  NaN  NaN  NaN  NaN  NaN  NaN  NaN  NaN  NaN  NaN  NaN  NaN  NaN   \n",
       "    3  NaN  NaN  NaN  NaN  NaN  NaN  NaN  NaN  NaN  NaN  NaN  NaN  NaN  NaN   \n",
       "  N 1  NaN  NaN  NaN  NaN  NaN  NaN  NaN  NaN  NaN  NaN  NaN  NaN  NaN  NaN   \n",
       "    2  NaN  NaN  NaN  NaN  NaN  NaN  NaN  NaN  NaN  NaN  NaN  NaN  NaN  NaN   \n",
       "\n",
       "10                         \n",
       "100           O            \n",
       "1000     3    1    2    3  \n",
       "J K L                      \n",
       "A M 1  NaN  NaN  NaN  NaN  \n",
       "    2  NaN  NaN  NaN  NaN  \n",
       "    3  NaN  NaN  NaN  NaN  \n",
       "  N 1  NaN  NaN  NaN  NaN  \n",
       "    2  NaN  NaN  NaN  NaN  "
      ]
     },
     "execution_count": 3,
     "metadata": {},
     "output_type": "execute_result"
    }
   ],
   "source": [
    "    index = pandas.MultiIndex.from_product([\n",
    "        [\"A\", \"Z\"], [\"M\", \"N\", \"O\"], [1, 2, 3]\n",
    "    ], names=[*\"JKL\"])\n",
    "    (df := pandas.DataFrame(columns=index, index=index).rename_axis(columns=[10, 100, 1000]).head())\n",
    "    single = df.droplevel((0, 1), 0).droplevel((0, 1), 1).rename_axis(None, axis=1).rename_axis(None, axis=0)\n",
    "    df"
   ]
  },
  {
   "cell_type": "markdown",
   "id": "ca601d2a-6f86-4691-b745-647651077479",
   "metadata": {},
   "source": [
    "## accessibility html recommendations\n",
    "\n",
    "there is a long [history of html table layouts], they have existed since [html 3.2 in january 1997](http://www.w3.org/TR/REC-html32), these standards precede a lot of the history of mass data literacy.\n",
    "`table`s are introduced to present 2-D data structures \n",
    "\n",
    "\n",
    "> [VISICALC](https://en.wikipedia.org/wiki/VisiCalc) represented a new idea of a way to use a computer and a new way of thinking about the world. Where conventional programming was thought of as a sequence of steps, this new thing was no longer sequential in effect: When you made a change in one place, all other things changed instantly and automatically.\n",
    ">> Ted Nelson[13]\n",
    "\n",
    "considering the accessibility of `table`s means we need extend the visual representation to the tactile and audible experiences.\n",
    "\n",
    "let's start with some popular advice from [rachele ditullio] about [5 ways to improve table accessibility]\n",
    "\n",
    "1. Caption that table\n",
    "2. Include header text for every column\n",
    "3. Use alt attributes meaningfully\n",
    "4. Have data in every table cell\n",
    "5. Check your (con)text\n",
    "\n",
    "this is where we start because these recommendations represent users needs before needs.\n",
    "accessibility requires us to center a user's visual, audible, and tactile experience when working with data.\n",
    "\n",
    "[5 ways to improve table accessibility]: https://racheleditullio.com/blog/2020/03/5-ways-to-improve-table-accessibility/\n",
    "[rachele ditullio]: https://racheleditullio.com\n",
    "[history of html table layouts]: http://www.tiernok.com/posts/history-of-html-table-layouts.html"
   ]
  },
  {
   "cell_type": "code",
   "execution_count": 4,
   "id": "b06a2ba8-edf4-4d65-a402-750fcfcd4a62",
   "metadata": {},
   "outputs": [
    {
     "data": {
      "text/markdown": [
       "\n",
       "## testing an actual dataframe\n",
       "\n",
       "based off these suggestions we can connect dataframe parlance to the consistent standards of html.\n",
       "what follows are comments on how each all 5 of the suggestions apply to `pandas.DataFrame` objects.\n",
       "\n",
       "1. `pandas` tables typically lack a `caption` unless the code author is aware of `df.style.set_caption`.\n",
       "the `caption` element provides an aria label that`  gives assistive technology users more context as they navigate information.\n",
       "\n",
       "            df.style.set_caption(\"the public api for adding a caption to a dataframe.\")\n",
       "        \n",
       "2. as of v2.2, there are conformations pandas columns and indexes that generate representations containing empty headers.\n",
       "    an accessible, assistive experience will avoid empty cells, especially header cells.\n",
       "    the first cell in the table is empty for the cases where `count_empty_cell` reveals non-zero results.\n",
       "    this means that assistive technology users will find empty cells in most of the pandas dataframe\n",
       "    representations available online. this oversight is costly because technologies like screen readers \n",
       "    and braille displays require parsing information serially rather than our parallel vision experience.\n",
       "        \n",
       "            def count_empty_cell(df):\n",
       "    `count_empty_cell` will count the empty `th` and `td` elements in a rendered dataframe.\n",
       "    it was created to demonstrate the different conditions on dataframe indexes and columns\n",
       "    that influence the current visual form of the dataframe.\n",
       "\n",
       "    * our test dataframe has empty cells because the index and columns are unnamed.\n",
       "        \n",
       "            >>> assert count_empty_cell(df) > 0 \n",
       "        \n",
       "    * a dataframe with a named column index has no empty cells.\n",
       "        \n",
       "            >>> assert count_empty_cell(single.rename_axis(columns=\"upper\")) == 0\n",
       "        \n",
       "    * there are empty cells when the index is named because the index name is given its own row.\n",
       "        \n",
       "            >>> assert count_empty_cell(single.rename_axis(index=\"lower\")) > 0\n",
       "        \n",
       "                table_cells = pandas.Series(bs4.BeautifulSoup(df.to_html(), features=\"lxml\").select(\"th,td\"))\n",
       "                return table_cells.apply(any).__invert__().sum()\n",
       "        \n",
       "4. adding alt text to images is out of scope for this investigation. it is very valid. pandas dataframes \n",
       "    may contain various mimetypes of content and their representations should be assistive. \n",
       "    however, for this study, the index and columns are the primary axes for building an accessible table substrate.\n",
       "                                                     \n",
       "5. `null` and `Nan` need semantically meaningful representations.\n",
       "    the programming collquialisms for empty content may not translate to assistive technology.\n",
       "    _what about braille_?\n",
       "    it is unlikely there is a best placeholder for this values so this value should be configurable.\n",
       "\n",
       "            placeholder = \"not a number\"\n",
       "            df.fillna(F\"<span class=sro>{placeholder}</span>\").style\n",
       "        \n",
       "6. yes abbreviations and punctuation should be considered, \n",
       "    but this is an advanced technique that requires manually screen reader testing literacies.\n",
       "\n",
       "the comparison between rachel's advice and `pandas` dataframes is just a start down the rabbit hole.\n",
       "we'll begin to bring in other articles, standards, and specifications to design ARIA first rule implementations\n",
       "of pandas tidy frames.\n"
      ],
      "text/plain": [
       "<IPython.core.display.Markdown object>"
      ]
     },
     "metadata": {},
     "output_type": "display_data"
    }
   ],
   "source": [
    "%% -u\n",
    "## testing an actual dataframe\n",
    "\n",
    "based off these suggestions we can connect dataframe parlance to the consistent standards of html.\n",
    "what follows are comments on how each all 5 of the suggestions apply to `pandas.DataFrame` objects.\n",
    "\n",
    "1. `pandas` tables typically lack a `caption` unless the code author is aware of `df.style.set_caption`.\n",
    "the `caption` element provides an aria label that`  gives assistive technology users more context as they navigate information.\n",
    "\n",
    "            df.style.set_caption(\"the public api for adding a caption to a dataframe.\")\n",
    "        \n",
    "2. as of v2.2, there are conformations pandas columns and indexes that generate representations containing empty headers.\n",
    "    an accessible, assistive experience will avoid empty cells, especially header cells.\n",
    "    the first cell in the table is empty for the cases where `count_empty_cell` reveals non-zero results.\n",
    "    this means that assistive technology users will find empty cells in most of the pandas dataframe\n",
    "    representations available online. this oversight is costly because technologies like screen readers \n",
    "    and braille displays require parsing information serially rather than our parallel vision experience.\n",
    "        \n",
    "            def count_empty_cell(df):\n",
    "    `count_empty_cell` will count the empty `th` and `td` elements in a rendered dataframe.\n",
    "    it was created to demonstrate the different conditions on dataframe indexes and columns\n",
    "    that influence the current visual form of the dataframe.\n",
    "\n",
    "    * our test dataframe has empty cells because the index and columns are unnamed.\n",
    "        \n",
    "            >>> assert count_empty_cell(df) > 0 \n",
    "        \n",
    "    * a dataframe with a named column index has no empty cells.\n",
    "        \n",
    "            >>> assert count_empty_cell(single.rename_axis(columns=\"upper\")) == 0\n",
    "        \n",
    "    * there are empty cells when the index is named because the index name is given its own row.\n",
    "        \n",
    "            >>> assert count_empty_cell(single.rename_axis(index=\"lower\")) > 0\n",
    "        \n",
    "                table_cells = pandas.Series(bs4.BeautifulSoup(df.to_html(), features=\"lxml\").select(\"th,td\"))\n",
    "                return table_cells.apply(any).__invert__().sum()\n",
    "        \n",
    "4. adding alt text to images is out of scope for this investigation. it is very valid. pandas dataframes \n",
    "    may contain various mimetypes of content and their representations should be assistive. \n",
    "    however, for this study, the index and columns are the primary axes for building an accessible table substrate.\n",
    "                                                     \n",
    "5. `null` and `Nan` need semantically meaningful representations.\n",
    "    the programming collquialisms for empty content may not translate to assistive technology.\n",
    "    _what about braille_?\n",
    "    it is unlikely there is a best placeholder for this values so this value should be configurable.\n",
    "\n",
    "            placeholder = \"not a number\"\n",
    "            df.fillna(F\"<span class=sro>{placeholder}</span>\").style\n",
    "        \n",
    "6. yes abbreviations and punctuation should be considered, \n",
    "    but this is an advanced technique that requires manually screen reader testing literacies.\n",
    "\n",
    "the comparison between rachel's advice and `pandas` dataframes is just a start down the rabbit hole.\n",
    "we'll begin to bring in other articles, standards, and specifications to design ARIA first rule implementations\n",
    "of pandas tidy frames."
   ]
  },
  {
   "cell_type": "markdown",
   "id": "c7d1680b-cf67-4140-b841-abca1c4e775e",
   "metadata": {},
   "source": [
    "### more accessible tables\n",
    "\n",
    "our next resource provides more dos and don'ts that correspond to accessible table experiences.\n",
    "\n",
    "* ✅ Designate at least one row and/or column header using the table formatting tools in your web content management system or document creation software.\n",
    "\n",
    "    `pandas` dataframes should be represented with a named index or column.\n",
    "  \n",
    "* ✅ Use the `<th>` element to mark up table headers in HTML.\n",
    "* ❌ Table headers should never be empty. This is particularly of concern for the top-left cell of some tables.\n",
    "\n",
    "    our primary task is to remove empty cells from the `thead` porition of the dataframe representation.\n",
    "    currently, it is very common for screen reader users to find empty first cells in a table.\n",
    "    imagine how much it sucks.\n",
    "  \n",
    "* ✅ If you do create a complex data table on a webpage, use the `<scope>` tag to programmatically associate the data cells with the appropriate headers.\n",
    "* ❌ Don't merge cells.\n",
    "\n",
    "    merging cells creates ambiguities. `td`s in dataframes will NEVER be spanned.\n",
    "\n",
    "#### Accessible table do and don't\n",
    "\n",
    "https://accessibility.umn.edu/what-you-can-do/start-7-core-skills/tables\n",
    "\n",
    "<details><summary>Use Tables to Display Data</summary>\n",
    "\n",
    "* ✅ Use tables to present information in a grid, or matrix, with columns or rows that show the meaning of the information.\n",
    "- ❌ Don't use tables to make your webpage look a particular way. Layout tables on webpages do not pose inherent accessibility issues, but it is more difficult to make sure screen reader software reads the cells in the proper order.\n",
    "- ❌ Never use tables as a means of laying out a page in a Google or Microsoft Word document. While these tables can be hidden from visual users by simply eliminating the borders between cells, they cannot be hidden from screen readers.\n",
    "\n",
    "</details>\n",
    "<details><summary>Designate Row and/or Column Headers</summary>\n",
    "\n",
    "* ✅ Designate at least one row and/or column header using the table formatting tools in your web content management system or document creation software. \n",
    "* ✅ Use the `<th>` element to mark up table headers in HTML.\n",
    "- ❌ Don't create tables without table headers.\n",
    "- ❌ Don't just change the visual formatting of the text, such as the font size or color, to visually indicate table header rows and/or columns. Screen readers will not be able to associate the headers with the correct cells.\n",
    "- ❌ Table headers should never be empty. This is particularly of concern for the top-left cell of some tables.\n",
    "\n",
    "</details>\n",
    "<details><summary>Avoid or Simplify Complex Tables</summary>\n",
    "\n",
    "* ✅ Include a maximum of one header row and one header column.\n",
    "* ✅ Spell out abbreviations or acronyms, or use the `<abbr>` or `<acronym>` tags in HTML to ensure accessibility.\n",
    "* ✅ If your table has multiple header rows, merged cells, or another table embedded in it, split it into two or more simple tables. \n",
    "* ✅ If you do create a complex data table on a webpage, use the `<scope>` tag to programmatically associate the data cells with the appropriate headers.\n",
    "- ❌ Don't merge cells.\n",
    "- ❌ Don't include a table within another table.\n",
    "\n",
    "</details>\n",
    "<details><summary>Provide Contextual Information</summary>\n",
    "\n",
    "* ✅ Associate descriptive text about a table with its respective table by including a `<caption>` element in HTML or alt text in Microsoft Word. Captions are not necessary for each table, but can helpful for screen reader users. The caption can be visually formatted and positioned above or below the table as needed, but on webpages, the `<caption>` element must be the first one after the opening `<table>` tag.\n",
    "* ✅ You may use `<thead>`, `<tfoot>`, and `<tbody>` tags in HTML tables so that the head and/or foot rows repeat at the top or bottom of the table when it is printed, but these do not provide any additional accessibility benefits. \n",
    "- ❌ Don't repeat the same text in the caption that appears in a heading preceding the table.\n",
    "- ❌ You may provide a summary of the structure of the data table (not of the content) using the `<summary>` attribute, but screen reader support for it varies, and it is not part of the HTML5 specification, so WebAim does not recommend it.\n",
    "- ❌ If both a caption and summary are provided for one table, the summary should not duplicate information present in the caption.\n",
    "\n",
    "</details>\n",
    "<details><summary>Include Content in All Cells</summary>\n",
    "\n",
    "* ✅ Include text such as \"not applicable,\" \"none,\" etc. to indicate that there is no data in empty cells.\n",
    "- ❌ Don't leave any table cells empty.\n",
    "\n",
    "</details>"
   ]
  },
  {
   "cell_type": "markdown",
   "id": "3af281ca-2a8a-486e-aa5a-721cc1f2cb9b",
   "metadata": {},
   "source": [
    "## better tables"
   ]
  },
  {
   "cell_type": "code",
   "execution_count": 5,
   "id": "7638f5f3-6364-46b2-b06e-5e9d5680a9f2",
   "metadata": {},
   "outputs": [
    {
     "data": {
      "text/markdown": [
       "\n",
       "    def index_span(index: pandas.Index) -> pandas.DataFrame: \n",
       "we need to tidy our indexes that may have grouped indexes. \n",
       "`index_span` defines the logic for diffing and labelling the index to measure the column\n",
       "and row spans for an index.\n",
       "        \n",
       "        return pandas.concat(\n",
       "            dict(\n",
       "                diff=(diff := index.to_frame().pipe(diff_shift)),\n",
       "                label=(label := diff.cumsum()),\n",
       "                span=label.apply(\n",
       "                    lambda s: s.drop_duplicates().apply(s.value_counts().get), axis=0\n",
       "                )\n",
       "            ), axis=1\n",
       "        ).replace({numpy.nan: None})\n",
       "\n",
       "    def diff_shift(df: pandas.DataFrame) -> pandas.DataFrame:\n",
       "shift a data by a row to determine the nearest change in the index when determining spanning metrics.\n",
       "    \n",
       "        return pandas.DataFrame(\n",
       "            numpy.concatenate((numpy.array([[True]*df.shape[1]]), df.values[:-1] != df.values[1:]), 0), \n",
       "            columns=df.columns\n",
       "        )\n"
      ],
      "text/plain": [
       "<IPython.core.display.Markdown object>"
      ]
     },
     "metadata": {},
     "output_type": "display_data"
    }
   ],
   "source": [
    "%%\n",
    "    def index_span(index: pandas.Index) -> pandas.DataFrame: \n",
    "we need to tidy our indexes that may have grouped indexes. \n",
    "`index_span` defines the logic for diffing and labelling the index to measure the column\n",
    "and row spans for an index.\n",
    "        \n",
    "        return pandas.concat(\n",
    "            dict(\n",
    "                diff=(diff := index.to_frame().pipe(diff_shift)),\n",
    "                label=(label := diff.cumsum()),\n",
    "                span=label.apply(\n",
    "                    lambda s: s.drop_duplicates().apply(s.value_counts().get), axis=0\n",
    "                )\n",
    "            ), axis=1\n",
    "        ).replace({numpy.nan: None})\n",
    "\n",
    "    def diff_shift(df: pandas.DataFrame) -> pandas.DataFrame:\n",
    "shift a data by a row to determine the nearest change in the index when determining spanning metrics.\n",
    "    \n",
    "        return pandas.DataFrame(\n",
    "            numpy.concatenate((numpy.array([[True]*df.shape[1]]), df.values[:-1] != df.values[1:]), 0), \n",
    "            columns=df.columns\n",
    "        )"
   ]
  },
  {
   "cell_type": "code",
   "execution_count": 6,
   "id": "9a7e3310-61e9-4ea5-b38f-f6742ad4a6f8",
   "metadata": {},
   "outputs": [
    {
     "data": {
      "text/markdown": [
       "\n",
       "    def column_major(df: pandas.DataFrame, caption=None, SPAN=True) -> bs4.BeautifulSoup:\n",
       "convert a dataframe to a `column_major` html representation that presents the column index names first.\n",
       "        \n",
       "        soup = bs4.BeautifulSoup(features=\"html.parser\")\n",
       "        soup.append(table := soup.new_tag(\"table\"))\n",
       "        if caption:\n",
       "            table.append(cap := soup.new_tag(\"caption\"))\n",
       "            cap.append(caption)\n",
       "        ROWS, COLS = any(df.index.names), any(df.columns.names)\n",
       "\n",
       "pre-compute the grouping structure of the indexes\n",
       "\n",
       "        row_span, col_span = index_span(df.index), index_span(df.columns)\n",
       "        \n",
       "        for col_level, col_name in enumerate(df.columns.names):\n",
       "1. show the column index names\n",
       "            \n",
       "            table.append(tr := soup.new_tag(\"tr\"))\n",
       "            if COLS:\n",
       "                attrs = dict(scope=\"row\")\n",
       "                if df.index.nlevels > 1:\n",
       "                    attrs.update(colspan=df.index.nlevels)\n",
       "                tr.append(th := soup.new_tag(\"th\", attrs=attrs))\n",
       "                th.append(str(col_name) or F\"level {col_level}\")\n",
       "    \n",
       "            for col_index, col_value in enumerate(df.columns.get_level_values(col_level)):\n",
       "1. show the column index values\n",
       "\n",
       "                attrs = dict(scope=\"col\")\n",
       "                span = col_span[\"span\"].iloc[col_index, col_level] if SPAN else 1\n",
       "                if span:\n",
       "                    if span > 1:\n",
       "                        attrs.update(colspan=int(span))\n",
       "                    tr.append(th := soup.new_tag(\"th\", attrs=attrs))\n",
       "                    th.append(str(col_value))\n",
       "        if ROWS:\n",
       "1. insert the row names below the column names \n",
       "\n",
       "            table.append(tr := soup.new_tag(\"tr\"))\n",
       "            attrs = dict(scope=\"col\")\n",
       "            for row_level, row_name in enumerate(df.index.names):\n",
       "                tr.append(th := soup.new_tag(\"th\", attrs=attrs))\n",
       "                th.append(str(row_name) or F\"index {row_level}\")\n",
       "                \n",
       "            for col_value in df.columns.get_level_values(col_level):\n",
       "   followed by a blank row, a blank row is suboptimal for assistive technology.\n",
       "                \n",
       "                attrs = dict(scope=\"col\")\n",
       "                tr.append(td := soup.new_tag(\"td\"))\n",
       "    \n",
       "        for row_index in range(df.shape[0]):\n",
       "1. write the row index headers\n",
       "\n",
       "            table.append(tr := soup.new_tag(\"tr\"))\n",
       "            for row_level in range(df.index.nlevels):\n",
       "                span = row_span[\"span\"].iloc[row_index, row_level] if SPAN else 1\n",
       "                if span:\n",
       "                    attrs = dict(scope=\"row\")\n",
       "                    if span > 1:\n",
       "                        attrs.update(rowspan=int(span))\n",
       "                    tr.append(th := soup.new_tag(\"th\", attrs=attrs))\n",
       "                    th.append(str(df.index.get_level_values(row_level)[row_index]))\n",
       "    \n",
       "            for value in df.iloc[row_index].values:\n",
       "1. write the values of the dataframe\n",
       "                \n",
       "                tr.append(td := soup.new_tag(\"td\"))\n",
       "                td.append(str(value))\n",
       "        return soup\n"
      ],
      "text/plain": [
       "<IPython.core.display.Markdown object>"
      ]
     },
     "metadata": {},
     "output_type": "display_data"
    }
   ],
   "source": [
    "%%\n",
    "    def column_major(df: pandas.DataFrame, caption=None, SPAN=True) -> bs4.BeautifulSoup:\n",
    "convert a dataframe to a `column_major` html representation that presents the column index names first.\n",
    "        \n",
    "        soup = bs4.BeautifulSoup(features=\"html.parser\")\n",
    "        soup.append(table := soup.new_tag(\"table\"))\n",
    "        if caption:\n",
    "            table.append(cap := soup.new_tag(\"caption\"))\n",
    "            cap.append(caption)\n",
    "        ROWS, COLS = any(df.index.names), any(df.columns.names)\n",
    "\n",
    "pre-compute the grouping structure of the indexes\n",
    "\n",
    "        row_span, col_span = index_span(df.index), index_span(df.columns)\n",
    "        \n",
    "        for col_level, col_name in enumerate(df.columns.names):\n",
    "1. show the column index names\n",
    "            \n",
    "            table.append(tr := soup.new_tag(\"tr\"))\n",
    "            if COLS:\n",
    "                attrs = dict(scope=\"row\")\n",
    "                if df.index.nlevels > 1:\n",
    "                    attrs.update(colspan=df.index.nlevels)\n",
    "                tr.append(th := soup.new_tag(\"th\", attrs=attrs))\n",
    "                th.append(str(col_name) or F\"level {col_level}\")\n",
    "    \n",
    "            for col_index, col_value in enumerate(df.columns.get_level_values(col_level)):\n",
    "1. show the column index values\n",
    "\n",
    "                attrs = dict(scope=\"col\")\n",
    "                span = col_span[\"span\"].iloc[col_index, col_level] if SPAN else 1\n",
    "                if span:\n",
    "                    if span > 1:\n",
    "                        attrs.update(colspan=int(span))\n",
    "                    tr.append(th := soup.new_tag(\"th\", attrs=attrs))\n",
    "                    th.append(str(col_value))\n",
    "        if ROWS:\n",
    "1. insert the row names below the column names \n",
    "\n",
    "            table.append(tr := soup.new_tag(\"tr\"))\n",
    "            attrs = dict(scope=\"col\")\n",
    "            for row_level, row_name in enumerate(df.index.names):\n",
    "                tr.append(th := soup.new_tag(\"th\", attrs=attrs))\n",
    "                th.append(str(row_name) or F\"index {row_level}\")\n",
    "                \n",
    "            for col_value in df.columns.get_level_values(col_level):\n",
    "   followed by a blank row, a blank row is suboptimal for assistive technology.\n",
    "                \n",
    "                attrs = dict(scope=\"col\")\n",
    "                tr.append(td := soup.new_tag(\"td\"))\n",
    "    \n",
    "        for row_index in range(df.shape[0]):\n",
    "1. write the row index headers\n",
    "\n",
    "            table.append(tr := soup.new_tag(\"tr\"))\n",
    "            for row_level in range(df.index.nlevels):\n",
    "                span = row_span[\"span\"].iloc[row_index, row_level] if SPAN else 1\n",
    "                if span:\n",
    "                    attrs = dict(scope=\"row\")\n",
    "                    if span > 1:\n",
    "                        attrs.update(rowspan=int(span))\n",
    "                    tr.append(th := soup.new_tag(\"th\", attrs=attrs))\n",
    "                    th.append(str(df.index.get_level_values(row_level)[row_index]))\n",
    "    \n",
    "            for value in df.iloc[row_index].values:\n",
    "1. write the values of the dataframe\n",
    "                \n",
    "                tr.append(td := soup.new_tag(\"td\"))\n",
    "                td.append(str(value))\n",
    "        return soup"
   ]
  },
  {
   "cell_type": "code",
   "execution_count": 7,
   "id": "42b37be2-5f16-4949-957a-15ed42555956",
   "metadata": {},
   "outputs": [
    {
     "data": {
      "text/markdown": [
       "\n",
       "    def row_major(df, caption=None, SPAN=True):\n",
       "a `row_major` representation that presents the row index names first.\n",
       "    \n",
       "        soup = bs4.BeautifulSoup(features=\"lxml\")\n",
       "        soup.append(table := soup.new_tag(\"table\"))\n",
       "\n",
       "        if caption:\n",
       "            table.append(cap := soup.new_tag(\"caption\"))\n",
       "            cap.append(caption)\n",
       "\n",
       "        ROWS, COLS = any(df.index.names), any(df.columns.names)\n",
       "1. precompute the row and column index spans\n",
       "\n",
       "        row_span, col_span = index_span(df.index), index_span(df.columns)\n",
       "        \n",
       "        for col_level, col_name in enumerate(df.columns.names):\n",
       "            table.append(tr := soup.new_tag(\"tr\"))\n",
       "            if not col_level:\n",
       "1. write the index names on the first pass of the header rows.\n",
       "\n",
       "                if ROWS or not COLS:\n",
       "                    attrs = dict(scope=\"col\")\n",
       "                    if df.columns.nlevels > 1:\n",
       "                        attrs.update(rowspan=df.columns.nlevels) \n",
       "                    for row_level, row_name in enumerate(df.index.names):\n",
       "                        tr.append(th := soup.new_tag(\"th\", attrs=attrs))\n",
       "                        th.append(str(row_name) or F\"index {row_level}\")\n",
       "                \n",
       "            if COLS:\n",
       "1. include the column index names if they exist\n",
       "\n",
       "                attrs = dict(scope=\"row\")\n",
       "                if not ROWS and df.index.nlevels > 1:\n",
       "                    attrs.update(colspan=df.index.nlevels)\n",
       "                tr.append(th := soup.new_tag(\"th\", attrs=attrs))\n",
       "                th.append(str(col_name) or F\"level {col_level}\")\n",
       "    \n",
       "            for col_index, col_value in enumerate(df.columns.get_level_values(col_level)):\n",
       "1.  write the values for the column index\n",
       "                \n",
       "                attrs = dict(scope=\"col\")\n",
       "                span = col_span[\"span\"].iloc[col_index, col_level] if SPAN else 1\n",
       "                if span:\n",
       "                    attrs = dict(scope=\"col\")\n",
       "                    if span > 1:\n",
       "                        attrs.update(colspan=int(span))\n",
       "                    tr.append(th := soup.new_tag(\"th\", attrs=attrs))\n",
       "                    th.append(str(col_value))\n",
       "            \n",
       "    \n",
       "        for row_index in range(df.shape[0]):\n",
       "1.  write the index header values\n",
       "\n",
       "            table.append(tr := soup.new_tag(\"tr\"))\n",
       "            for row_level in range(df.index.nlevels):\n",
       "                span = row_span[\"span\"].iloc[row_index, row_level] if SPAN else 1\n",
       "                if span:\n",
       "                    attrs = dict(scope=\"row\")\n",
       "                    if span > 1:\n",
       "                        attrs.update(rowspan=int(span))\n",
       "                    tr.append(th := soup.new_tag(\"th\", attrs=attrs))\n",
       "                    th.append(str(df.index.get_level_values(row_level)[row_index]))\n",
       "    \n",
       "            if ROWS and COLS:\n",
       "1.  insert an empty column if we have column names\n",
       "\n",
       "                tr.append(td := soup.new_tag(\"td\"))\n",
       "    \n",
       "            for value in df.iloc[row_index].values:\n",
       "1.  write the data\n",
       "\n",
       "                tr.append(td := soup.new_tag(\"td\"))\n",
       "                td.append(str(value))\n",
       "        return soup\n"
      ],
      "text/plain": [
       "<IPython.core.display.Markdown object>"
      ]
     },
     "metadata": {},
     "output_type": "display_data"
    }
   ],
   "source": [
    "%%\n",
    "    def row_major(df, caption=None, SPAN=True):\n",
    "a `row_major` representation that presents the row index names first.\n",
    "    \n",
    "        soup = bs4.BeautifulSoup(features=\"lxml\")\n",
    "        soup.append(table := soup.new_tag(\"table\"))\n",
    "\n",
    "        if caption:\n",
    "            table.append(cap := soup.new_tag(\"caption\"))\n",
    "            cap.append(caption)\n",
    "\n",
    "        ROWS, COLS = any(df.index.names), any(df.columns.names)\n",
    "1. precompute the row and column index spans\n",
    "\n",
    "        row_span, col_span = index_span(df.index), index_span(df.columns)\n",
    "        \n",
    "        for col_level, col_name in enumerate(df.columns.names):\n",
    "            table.append(tr := soup.new_tag(\"tr\"))\n",
    "            if not col_level:\n",
    "1. write the index names on the first pass of the header rows.\n",
    "\n",
    "                if ROWS or not COLS:\n",
    "                    attrs = dict(scope=\"col\")\n",
    "                    if df.columns.nlevels > 1:\n",
    "                        attrs.update(rowspan=df.columns.nlevels) \n",
    "                    for row_level, row_name in enumerate(df.index.names):\n",
    "                        tr.append(th := soup.new_tag(\"th\", attrs=attrs))\n",
    "                        th.append(str(row_name) or F\"index {row_level}\")\n",
    "                \n",
    "            if COLS:\n",
    "1. include the column index names if they exist\n",
    "\n",
    "                attrs = dict(scope=\"row\")\n",
    "                if not ROWS and df.index.nlevels > 1:\n",
    "                    attrs.update(colspan=df.index.nlevels)\n",
    "                tr.append(th := soup.new_tag(\"th\", attrs=attrs))\n",
    "                th.append(str(col_name) or F\"level {col_level}\")\n",
    "    \n",
    "            for col_index, col_value in enumerate(df.columns.get_level_values(col_level)):\n",
    "1.  write the values for the column index\n",
    "                \n",
    "                attrs = dict(scope=\"col\")\n",
    "                span = col_span[\"span\"].iloc[col_index, col_level] if SPAN else 1\n",
    "                if span:\n",
    "                    attrs = dict(scope=\"col\")\n",
    "                    if span > 1:\n",
    "                        attrs.update(colspan=int(span))\n",
    "                    tr.append(th := soup.new_tag(\"th\", attrs=attrs))\n",
    "                    th.append(str(col_value))\n",
    "            \n",
    "    \n",
    "        for row_index in range(df.shape[0]):\n",
    "1.  write the index header values\n",
    "\n",
    "            table.append(tr := soup.new_tag(\"tr\"))\n",
    "            for row_level in range(df.index.nlevels):\n",
    "                span = row_span[\"span\"].iloc[row_index, row_level] if SPAN else 1\n",
    "                if span:\n",
    "                    attrs = dict(scope=\"row\")\n",
    "                    if span > 1:\n",
    "                        attrs.update(rowspan=int(span))\n",
    "                    tr.append(th := soup.new_tag(\"th\", attrs=attrs))\n",
    "                    th.append(str(df.index.get_level_values(row_level)[row_index]))\n",
    "    \n",
    "            if ROWS and COLS:\n",
    "1.  insert an empty column if we have column names\n",
    "\n",
    "                tr.append(td := soup.new_tag(\"td\"))\n",
    "    \n",
    "            for value in df.iloc[row_index].values:\n",
    "1.  write the data\n",
    "\n",
    "                tr.append(td := soup.new_tag(\"td\"))\n",
    "                td.append(str(value))\n",
    "        return soup"
   ]
  },
  {
   "cell_type": "markdown",
   "id": "babd97d3-dd79-45b7-8eb1-4ae52642ced9",
   "metadata": {},
   "source": [
    "## single index names"
   ]
  },
  {
   "cell_type": "code",
   "execution_count": 8,
   "id": "4bf95a07-95e2-49cf-9656-921a7670dbb8",
   "metadata": {},
   "outputs": [
    {
     "data": {
      "text/html": [
       "<table><caption>a single index row major</caption><tr><th scope=\"col\">L</th><th scope=\"col\">1</th><th scope=\"col\">2</th><th scope=\"col\">3</th><th scope=\"col\">1</th><th scope=\"col\">2</th><th scope=\"col\">3</th><th scope=\"col\">1</th><th scope=\"col\">2</th><th scope=\"col\">3</th><th scope=\"col\">1</th><th scope=\"col\">2</th><th scope=\"col\">3</th><th scope=\"col\">1</th><th scope=\"col\">2</th><th scope=\"col\">3</th><th scope=\"col\">1</th><th scope=\"col\">2</th><th scope=\"col\">3</th></tr><tr><th scope=\"row\">1</th><td>nan</td><td>nan</td><td>nan</td><td>nan</td><td>nan</td><td>nan</td><td>nan</td><td>nan</td><td>nan</td><td>nan</td><td>nan</td><td>nan</td><td>nan</td><td>nan</td><td>nan</td><td>nan</td><td>nan</td><td>nan</td></tr><tr><th scope=\"row\">2</th><td>nan</td><td>nan</td><td>nan</td><td>nan</td><td>nan</td><td>nan</td><td>nan</td><td>nan</td><td>nan</td><td>nan</td><td>nan</td><td>nan</td><td>nan</td><td>nan</td><td>nan</td><td>nan</td><td>nan</td><td>nan</td></tr><tr><th scope=\"row\">3</th><td>nan</td><td>nan</td><td>nan</td><td>nan</td><td>nan</td><td>nan</td><td>nan</td><td>nan</td><td>nan</td><td>nan</td><td>nan</td><td>nan</td><td>nan</td><td>nan</td><td>nan</td><td>nan</td><td>nan</td><td>nan</td></tr><tr><th scope=\"row\">1</th><td>nan</td><td>nan</td><td>nan</td><td>nan</td><td>nan</td><td>nan</td><td>nan</td><td>nan</td><td>nan</td><td>nan</td><td>nan</td><td>nan</td><td>nan</td><td>nan</td><td>nan</td><td>nan</td><td>nan</td><td>nan</td></tr><tr><th scope=\"row\">2</th><td>nan</td><td>nan</td><td>nan</td><td>nan</td><td>nan</td><td>nan</td><td>nan</td><td>nan</td><td>nan</td><td>nan</td><td>nan</td><td>nan</td><td>nan</td><td>nan</td><td>nan</td><td>nan</td><td>nan</td><td>nan</td></tr></table>"
      ],
      "text/plain": [
       "<table><caption>a single index row major</caption><tr><th scope=\"col\">L</th><th scope=\"col\">1</th><th scope=\"col\">2</th><th scope=\"col\">3</th><th scope=\"col\">1</th><th scope=\"col\">2</th><th scope=\"col\">3</th><th scope=\"col\">1</th><th scope=\"col\">2</th><th scope=\"col\">3</th><th scope=\"col\">1</th><th scope=\"col\">2</th><th scope=\"col\">3</th><th scope=\"col\">1</th><th scope=\"col\">2</th><th scope=\"col\">3</th><th scope=\"col\">1</th><th scope=\"col\">2</th><th scope=\"col\">3</th></tr><tr><th scope=\"row\">1</th><td>nan</td><td>nan</td><td>nan</td><td>nan</td><td>nan</td><td>nan</td><td>nan</td><td>nan</td><td>nan</td><td>nan</td><td>nan</td><td>nan</td><td>nan</td><td>nan</td><td>nan</td><td>nan</td><td>nan</td><td>nan</td></tr><tr><th scope=\"row\">2</th><td>nan</td><td>nan</td><td>nan</td><td>nan</td><td>nan</td><td>nan</td><td>nan</td><td>nan</td><td>nan</td><td>nan</td><td>nan</td><td>nan</td><td>nan</td><td>nan</td><td>nan</td><td>nan</td><td>nan</td><td>nan</td></tr><tr><th scope=\"row\">3</th><td>nan</td><td>nan</td><td>nan</td><td>nan</td><td>nan</td><td>nan</td><td>nan</td><td>nan</td><td>nan</td><td>nan</td><td>nan</td><td>nan</td><td>nan</td><td>nan</td><td>nan</td><td>nan</td><td>nan</td><td>nan</td></tr><tr><th scope=\"row\">1</th><td>nan</td><td>nan</td><td>nan</td><td>nan</td><td>nan</td><td>nan</td><td>nan</td><td>nan</td><td>nan</td><td>nan</td><td>nan</td><td>nan</td><td>nan</td><td>nan</td><td>nan</td><td>nan</td><td>nan</td><td>nan</td></tr><tr><th scope=\"row\">2</th><td>nan</td><td>nan</td><td>nan</td><td>nan</td><td>nan</td><td>nan</td><td>nan</td><td>nan</td><td>nan</td><td>nan</td><td>nan</td><td>nan</td><td>nan</td><td>nan</td><td>nan</td><td>nan</td><td>nan</td><td>nan</td></tr></table>"
      ]
     },
     "execution_count": 8,
     "metadata": {},
     "output_type": "execute_result"
    }
   ],
   "source": [
    "    row_major(df.head().rename_axis((None, None, None), axis=1).droplevel((0, 1), axis=1).droplevel((0,1), axis=0),\n",
    "             \"a single index row major\")"
   ]
  },
  {
   "cell_type": "code",
   "execution_count": 9,
   "id": "39f46b83-6c3e-4c6a-a710-c0dd55973eb6",
   "metadata": {},
   "outputs": [
    {
     "data": {
      "text/html": [
       "<table><caption>a single index column major</caption><tr><th scope=\"row\">1000</th><th scope=\"col\">1</th><th scope=\"col\">2</th><th scope=\"col\">3</th><th scope=\"col\">1</th><th scope=\"col\">2</th><th scope=\"col\">3</th><th scope=\"col\">1</th><th scope=\"col\">2</th><th scope=\"col\">3</th><th scope=\"col\">1</th><th scope=\"col\">2</th><th scope=\"col\">3</th><th scope=\"col\">1</th><th scope=\"col\">2</th><th scope=\"col\">3</th><th scope=\"col\">1</th><th scope=\"col\">2</th><th scope=\"col\">3</th></tr><tr><th scope=\"row\">1</th><td>nan</td><td>nan</td><td>nan</td><td>nan</td><td>nan</td><td>nan</td><td>nan</td><td>nan</td><td>nan</td><td>nan</td><td>nan</td><td>nan</td><td>nan</td><td>nan</td><td>nan</td><td>nan</td><td>nan</td><td>nan</td></tr><tr><th scope=\"row\">2</th><td>nan</td><td>nan</td><td>nan</td><td>nan</td><td>nan</td><td>nan</td><td>nan</td><td>nan</td><td>nan</td><td>nan</td><td>nan</td><td>nan</td><td>nan</td><td>nan</td><td>nan</td><td>nan</td><td>nan</td><td>nan</td></tr><tr><th scope=\"row\">3</th><td>nan</td><td>nan</td><td>nan</td><td>nan</td><td>nan</td><td>nan</td><td>nan</td><td>nan</td><td>nan</td><td>nan</td><td>nan</td><td>nan</td><td>nan</td><td>nan</td><td>nan</td><td>nan</td><td>nan</td><td>nan</td></tr><tr><th scope=\"row\">1</th><td>nan</td><td>nan</td><td>nan</td><td>nan</td><td>nan</td><td>nan</td><td>nan</td><td>nan</td><td>nan</td><td>nan</td><td>nan</td><td>nan</td><td>nan</td><td>nan</td><td>nan</td><td>nan</td><td>nan</td><td>nan</td></tr><tr><th scope=\"row\">2</th><td>nan</td><td>nan</td><td>nan</td><td>nan</td><td>nan</td><td>nan</td><td>nan</td><td>nan</td><td>nan</td><td>nan</td><td>nan</td><td>nan</td><td>nan</td><td>nan</td><td>nan</td><td>nan</td><td>nan</td><td>nan</td></tr></table>"
      ],
      "text/plain": [
       "<table><caption>a single index column major</caption><tr><th scope=\"row\">1000</th><th scope=\"col\">1</th><th scope=\"col\">2</th><th scope=\"col\">3</th><th scope=\"col\">1</th><th scope=\"col\">2</th><th scope=\"col\">3</th><th scope=\"col\">1</th><th scope=\"col\">2</th><th scope=\"col\">3</th><th scope=\"col\">1</th><th scope=\"col\">2</th><th scope=\"col\">3</th><th scope=\"col\">1</th><th scope=\"col\">2</th><th scope=\"col\">3</th><th scope=\"col\">1</th><th scope=\"col\">2</th><th scope=\"col\">3</th></tr><tr><th scope=\"row\">1</th><td>nan</td><td>nan</td><td>nan</td><td>nan</td><td>nan</td><td>nan</td><td>nan</td><td>nan</td><td>nan</td><td>nan</td><td>nan</td><td>nan</td><td>nan</td><td>nan</td><td>nan</td><td>nan</td><td>nan</td><td>nan</td></tr><tr><th scope=\"row\">2</th><td>nan</td><td>nan</td><td>nan</td><td>nan</td><td>nan</td><td>nan</td><td>nan</td><td>nan</td><td>nan</td><td>nan</td><td>nan</td><td>nan</td><td>nan</td><td>nan</td><td>nan</td><td>nan</td><td>nan</td><td>nan</td></tr><tr><th scope=\"row\">3</th><td>nan</td><td>nan</td><td>nan</td><td>nan</td><td>nan</td><td>nan</td><td>nan</td><td>nan</td><td>nan</td><td>nan</td><td>nan</td><td>nan</td><td>nan</td><td>nan</td><td>nan</td><td>nan</td><td>nan</td><td>nan</td></tr><tr><th scope=\"row\">1</th><td>nan</td><td>nan</td><td>nan</td><td>nan</td><td>nan</td><td>nan</td><td>nan</td><td>nan</td><td>nan</td><td>nan</td><td>nan</td><td>nan</td><td>nan</td><td>nan</td><td>nan</td><td>nan</td><td>nan</td><td>nan</td></tr><tr><th scope=\"row\">2</th><td>nan</td><td>nan</td><td>nan</td><td>nan</td><td>nan</td><td>nan</td><td>nan</td><td>nan</td><td>nan</td><td>nan</td><td>nan</td><td>nan</td><td>nan</td><td>nan</td><td>nan</td><td>nan</td><td>nan</td><td>nan</td></tr></table>"
      ]
     },
     "execution_count": 9,
     "metadata": {},
     "output_type": "execute_result"
    }
   ],
   "source": [
    "    column_major(df.head().rename_axis((None, None, None), axis=0).droplevel((0, 1), axis=0).droplevel((0,1), axis=1),\n",
    "             \"a single index column major\")"
   ]
  },
  {
   "cell_type": "code",
   "execution_count": 10,
   "id": "49db7cde-3a89-437e-bd87-f8f6c30aeae9",
   "metadata": {},
   "outputs": [
    {
     "data": {
      "text/html": [
       "<table><caption>a multi index row major</caption><tr><th rowspan=\"2\" scope=\"col\">L</th><th colspan=\"3\" scope=\"col\">M</th><th colspan=\"3\" scope=\"col\">N</th><th colspan=\"3\" scope=\"col\">O</th><th colspan=\"3\" scope=\"col\">M</th><th colspan=\"3\" scope=\"col\">N</th><th colspan=\"3\" scope=\"col\">O</th></tr><tr><th scope=\"col\">1</th><th scope=\"col\">2</th><th scope=\"col\">3</th><th scope=\"col\">1</th><th scope=\"col\">2</th><th scope=\"col\">3</th><th scope=\"col\">1</th><th scope=\"col\">2</th><th scope=\"col\">3</th><th scope=\"col\">1</th><th scope=\"col\">2</th><th scope=\"col\">3</th><th scope=\"col\">1</th><th scope=\"col\">2</th><th scope=\"col\">3</th><th scope=\"col\">1</th><th scope=\"col\">2</th><th scope=\"col\">3</th></tr><tr><th scope=\"row\">1</th><td>nan</td><td>nan</td><td>nan</td><td>nan</td><td>nan</td><td>nan</td><td>nan</td><td>nan</td><td>nan</td><td>nan</td><td>nan</td><td>nan</td><td>nan</td><td>nan</td><td>nan</td><td>nan</td><td>nan</td><td>nan</td></tr><tr><th scope=\"row\">2</th><td>nan</td><td>nan</td><td>nan</td><td>nan</td><td>nan</td><td>nan</td><td>nan</td><td>nan</td><td>nan</td><td>nan</td><td>nan</td><td>nan</td><td>nan</td><td>nan</td><td>nan</td><td>nan</td><td>nan</td><td>nan</td></tr><tr><th scope=\"row\">3</th><td>nan</td><td>nan</td><td>nan</td><td>nan</td><td>nan</td><td>nan</td><td>nan</td><td>nan</td><td>nan</td><td>nan</td><td>nan</td><td>nan</td><td>nan</td><td>nan</td><td>nan</td><td>nan</td><td>nan</td><td>nan</td></tr><tr><th scope=\"row\">1</th><td>nan</td><td>nan</td><td>nan</td><td>nan</td><td>nan</td><td>nan</td><td>nan</td><td>nan</td><td>nan</td><td>nan</td><td>nan</td><td>nan</td><td>nan</td><td>nan</td><td>nan</td><td>nan</td><td>nan</td><td>nan</td></tr><tr><th scope=\"row\">2</th><td>nan</td><td>nan</td><td>nan</td><td>nan</td><td>nan</td><td>nan</td><td>nan</td><td>nan</td><td>nan</td><td>nan</td><td>nan</td><td>nan</td><td>nan</td><td>nan</td><td>nan</td><td>nan</td><td>nan</td><td>nan</td></tr></table>"
      ],
      "text/plain": [
       "<table><caption>a multi index row major</caption><tr><th rowspan=\"2\" scope=\"col\">L</th><th colspan=\"3\" scope=\"col\">M</th><th colspan=\"3\" scope=\"col\">N</th><th colspan=\"3\" scope=\"col\">O</th><th colspan=\"3\" scope=\"col\">M</th><th colspan=\"3\" scope=\"col\">N</th><th colspan=\"3\" scope=\"col\">O</th></tr><tr><th scope=\"col\">1</th><th scope=\"col\">2</th><th scope=\"col\">3</th><th scope=\"col\">1</th><th scope=\"col\">2</th><th scope=\"col\">3</th><th scope=\"col\">1</th><th scope=\"col\">2</th><th scope=\"col\">3</th><th scope=\"col\">1</th><th scope=\"col\">2</th><th scope=\"col\">3</th><th scope=\"col\">1</th><th scope=\"col\">2</th><th scope=\"col\">3</th><th scope=\"col\">1</th><th scope=\"col\">2</th><th scope=\"col\">3</th></tr><tr><th scope=\"row\">1</th><td>nan</td><td>nan</td><td>nan</td><td>nan</td><td>nan</td><td>nan</td><td>nan</td><td>nan</td><td>nan</td><td>nan</td><td>nan</td><td>nan</td><td>nan</td><td>nan</td><td>nan</td><td>nan</td><td>nan</td><td>nan</td></tr><tr><th scope=\"row\">2</th><td>nan</td><td>nan</td><td>nan</td><td>nan</td><td>nan</td><td>nan</td><td>nan</td><td>nan</td><td>nan</td><td>nan</td><td>nan</td><td>nan</td><td>nan</td><td>nan</td><td>nan</td><td>nan</td><td>nan</td><td>nan</td></tr><tr><th scope=\"row\">3</th><td>nan</td><td>nan</td><td>nan</td><td>nan</td><td>nan</td><td>nan</td><td>nan</td><td>nan</td><td>nan</td><td>nan</td><td>nan</td><td>nan</td><td>nan</td><td>nan</td><td>nan</td><td>nan</td><td>nan</td><td>nan</td></tr><tr><th scope=\"row\">1</th><td>nan</td><td>nan</td><td>nan</td><td>nan</td><td>nan</td><td>nan</td><td>nan</td><td>nan</td><td>nan</td><td>nan</td><td>nan</td><td>nan</td><td>nan</td><td>nan</td><td>nan</td><td>nan</td><td>nan</td><td>nan</td></tr><tr><th scope=\"row\">2</th><td>nan</td><td>nan</td><td>nan</td><td>nan</td><td>nan</td><td>nan</td><td>nan</td><td>nan</td><td>nan</td><td>nan</td><td>nan</td><td>nan</td><td>nan</td><td>nan</td><td>nan</td><td>nan</td><td>nan</td><td>nan</td></tr></table>"
      ]
     },
     "execution_count": 10,
     "metadata": {},
     "output_type": "execute_result"
    }
   ],
   "source": [
    "    row_major(df.head().rename_axis((None, None, None), axis=1).droplevel(0, axis=1).droplevel((0,1), axis=0),\n",
    "             \"a multi index row major\")"
   ]
  },
  {
   "cell_type": "code",
   "execution_count": 11,
   "id": "14e7cdc0-bc1b-41f9-beb1-1d0133547a7f",
   "metadata": {},
   "outputs": [
    {
     "data": {
      "text/html": [
       "<table><caption>a multi index column major</caption><tr><th colspan=\"2\" scope=\"row\">1000</th><th scope=\"col\">1</th><th scope=\"col\">2</th><th scope=\"col\">3</th><th scope=\"col\">1</th><th scope=\"col\">2</th><th scope=\"col\">3</th><th scope=\"col\">1</th><th scope=\"col\">2</th><th scope=\"col\">3</th><th scope=\"col\">1</th><th scope=\"col\">2</th><th scope=\"col\">3</th><th scope=\"col\">1</th><th scope=\"col\">2</th><th scope=\"col\">3</th><th scope=\"col\">1</th><th scope=\"col\">2</th><th scope=\"col\">3</th></tr><tr><th rowspan=\"3\" scope=\"row\">M</th><th scope=\"row\">1</th><td>nan</td><td>nan</td><td>nan</td><td>nan</td><td>nan</td><td>nan</td><td>nan</td><td>nan</td><td>nan</td><td>nan</td><td>nan</td><td>nan</td><td>nan</td><td>nan</td><td>nan</td><td>nan</td><td>nan</td><td>nan</td></tr><tr><th scope=\"row\">2</th><td>nan</td><td>nan</td><td>nan</td><td>nan</td><td>nan</td><td>nan</td><td>nan</td><td>nan</td><td>nan</td><td>nan</td><td>nan</td><td>nan</td><td>nan</td><td>nan</td><td>nan</td><td>nan</td><td>nan</td><td>nan</td></tr><tr><th scope=\"row\">3</th><td>nan</td><td>nan</td><td>nan</td><td>nan</td><td>nan</td><td>nan</td><td>nan</td><td>nan</td><td>nan</td><td>nan</td><td>nan</td><td>nan</td><td>nan</td><td>nan</td><td>nan</td><td>nan</td><td>nan</td><td>nan</td></tr><tr><th rowspan=\"2\" scope=\"row\">N</th><th scope=\"row\">1</th><td>nan</td><td>nan</td><td>nan</td><td>nan</td><td>nan</td><td>nan</td><td>nan</td><td>nan</td><td>nan</td><td>nan</td><td>nan</td><td>nan</td><td>nan</td><td>nan</td><td>nan</td><td>nan</td><td>nan</td><td>nan</td></tr><tr><th scope=\"row\">2</th><td>nan</td><td>nan</td><td>nan</td><td>nan</td><td>nan</td><td>nan</td><td>nan</td><td>nan</td><td>nan</td><td>nan</td><td>nan</td><td>nan</td><td>nan</td><td>nan</td><td>nan</td><td>nan</td><td>nan</td><td>nan</td></tr></table>"
      ],
      "text/plain": [
       "<table><caption>a multi index column major</caption><tr><th colspan=\"2\" scope=\"row\">1000</th><th scope=\"col\">1</th><th scope=\"col\">2</th><th scope=\"col\">3</th><th scope=\"col\">1</th><th scope=\"col\">2</th><th scope=\"col\">3</th><th scope=\"col\">1</th><th scope=\"col\">2</th><th scope=\"col\">3</th><th scope=\"col\">1</th><th scope=\"col\">2</th><th scope=\"col\">3</th><th scope=\"col\">1</th><th scope=\"col\">2</th><th scope=\"col\">3</th><th scope=\"col\">1</th><th scope=\"col\">2</th><th scope=\"col\">3</th></tr><tr><th rowspan=\"3\" scope=\"row\">M</th><th scope=\"row\">1</th><td>nan</td><td>nan</td><td>nan</td><td>nan</td><td>nan</td><td>nan</td><td>nan</td><td>nan</td><td>nan</td><td>nan</td><td>nan</td><td>nan</td><td>nan</td><td>nan</td><td>nan</td><td>nan</td><td>nan</td><td>nan</td></tr><tr><th scope=\"row\">2</th><td>nan</td><td>nan</td><td>nan</td><td>nan</td><td>nan</td><td>nan</td><td>nan</td><td>nan</td><td>nan</td><td>nan</td><td>nan</td><td>nan</td><td>nan</td><td>nan</td><td>nan</td><td>nan</td><td>nan</td><td>nan</td></tr><tr><th scope=\"row\">3</th><td>nan</td><td>nan</td><td>nan</td><td>nan</td><td>nan</td><td>nan</td><td>nan</td><td>nan</td><td>nan</td><td>nan</td><td>nan</td><td>nan</td><td>nan</td><td>nan</td><td>nan</td><td>nan</td><td>nan</td><td>nan</td></tr><tr><th rowspan=\"2\" scope=\"row\">N</th><th scope=\"row\">1</th><td>nan</td><td>nan</td><td>nan</td><td>nan</td><td>nan</td><td>nan</td><td>nan</td><td>nan</td><td>nan</td><td>nan</td><td>nan</td><td>nan</td><td>nan</td><td>nan</td><td>nan</td><td>nan</td><td>nan</td><td>nan</td></tr><tr><th scope=\"row\">2</th><td>nan</td><td>nan</td><td>nan</td><td>nan</td><td>nan</td><td>nan</td><td>nan</td><td>nan</td><td>nan</td><td>nan</td><td>nan</td><td>nan</td><td>nan</td><td>nan</td><td>nan</td><td>nan</td><td>nan</td><td>nan</td></tr></table>"
      ]
     },
     "execution_count": 11,
     "metadata": {},
     "output_type": "execute_result"
    }
   ],
   "source": [
    "    row_major(df.head().rename_axis((None, None, None), axis=0).droplevel(0, axis=0).droplevel((0,1), axis=1),\n",
    "             \"a multi index column major\")"
   ]
  },
  {
   "cell_type": "markdown",
   "id": "f543fcb9-830f-411e-b829-f61ebb7fe71e",
   "metadata": {},
   "source": [
    "## more than one named index"
   ]
  },
  {
   "cell_type": "code",
   "execution_count": 12,
   "id": "92c88ae2-2250-49ad-9169-d0803da90e6c",
   "metadata": {},
   "outputs": [
    {
     "data": {
      "text/html": [
       "<table><caption>spanning multiple index row major</caption><tr><th rowspan=\"3\" scope=\"col\">J</th><th rowspan=\"3\" scope=\"col\">K</th><th rowspan=\"3\" scope=\"col\">L</th><th colspan=\"9\" scope=\"col\">A</th><th colspan=\"9\" scope=\"col\">Z</th></tr><tr><th colspan=\"3\" scope=\"col\">M</th><th colspan=\"3\" scope=\"col\">N</th><th colspan=\"3\" scope=\"col\">O</th><th colspan=\"3\" scope=\"col\">M</th><th colspan=\"3\" scope=\"col\">N</th><th colspan=\"3\" scope=\"col\">O</th></tr><tr><th scope=\"col\">1</th><th scope=\"col\">2</th><th scope=\"col\">3</th><th scope=\"col\">1</th><th scope=\"col\">2</th><th scope=\"col\">3</th><th scope=\"col\">1</th><th scope=\"col\">2</th><th scope=\"col\">3</th><th scope=\"col\">1</th><th scope=\"col\">2</th><th scope=\"col\">3</th><th scope=\"col\">1</th><th scope=\"col\">2</th><th scope=\"col\">3</th><th scope=\"col\">1</th><th scope=\"col\">2</th><th scope=\"col\">3</th></tr><tr><th rowspan=\"5\" scope=\"row\">A</th><th rowspan=\"3\" scope=\"row\">M</th><th scope=\"row\">1</th><td>nan</td><td>nan</td><td>nan</td><td>nan</td><td>nan</td><td>nan</td><td>nan</td><td>nan</td><td>nan</td><td>nan</td><td>nan</td><td>nan</td><td>nan</td><td>nan</td><td>nan</td><td>nan</td><td>nan</td><td>nan</td></tr><tr><th scope=\"row\">2</th><td>nan</td><td>nan</td><td>nan</td><td>nan</td><td>nan</td><td>nan</td><td>nan</td><td>nan</td><td>nan</td><td>nan</td><td>nan</td><td>nan</td><td>nan</td><td>nan</td><td>nan</td><td>nan</td><td>nan</td><td>nan</td></tr><tr><th scope=\"row\">3</th><td>nan</td><td>nan</td><td>nan</td><td>nan</td><td>nan</td><td>nan</td><td>nan</td><td>nan</td><td>nan</td><td>nan</td><td>nan</td><td>nan</td><td>nan</td><td>nan</td><td>nan</td><td>nan</td><td>nan</td><td>nan</td></tr><tr><th rowspan=\"2\" scope=\"row\">N</th><th scope=\"row\">1</th><td>nan</td><td>nan</td><td>nan</td><td>nan</td><td>nan</td><td>nan</td><td>nan</td><td>nan</td><td>nan</td><td>nan</td><td>nan</td><td>nan</td><td>nan</td><td>nan</td><td>nan</td><td>nan</td><td>nan</td><td>nan</td></tr><tr><th scope=\"row\">2</th><td>nan</td><td>nan</td><td>nan</td><td>nan</td><td>nan</td><td>nan</td><td>nan</td><td>nan</td><td>nan</td><td>nan</td><td>nan</td><td>nan</td><td>nan</td><td>nan</td><td>nan</td><td>nan</td><td>nan</td><td>nan</td></tr></table>"
      ],
      "text/plain": [
       "<table><caption>spanning multiple index row major</caption><tr><th rowspan=\"3\" scope=\"col\">J</th><th rowspan=\"3\" scope=\"col\">K</th><th rowspan=\"3\" scope=\"col\">L</th><th colspan=\"9\" scope=\"col\">A</th><th colspan=\"9\" scope=\"col\">Z</th></tr><tr><th colspan=\"3\" scope=\"col\">M</th><th colspan=\"3\" scope=\"col\">N</th><th colspan=\"3\" scope=\"col\">O</th><th colspan=\"3\" scope=\"col\">M</th><th colspan=\"3\" scope=\"col\">N</th><th colspan=\"3\" scope=\"col\">O</th></tr><tr><th scope=\"col\">1</th><th scope=\"col\">2</th><th scope=\"col\">3</th><th scope=\"col\">1</th><th scope=\"col\">2</th><th scope=\"col\">3</th><th scope=\"col\">1</th><th scope=\"col\">2</th><th scope=\"col\">3</th><th scope=\"col\">1</th><th scope=\"col\">2</th><th scope=\"col\">3</th><th scope=\"col\">1</th><th scope=\"col\">2</th><th scope=\"col\">3</th><th scope=\"col\">1</th><th scope=\"col\">2</th><th scope=\"col\">3</th></tr><tr><th rowspan=\"5\" scope=\"row\">A</th><th rowspan=\"3\" scope=\"row\">M</th><th scope=\"row\">1</th><td>nan</td><td>nan</td><td>nan</td><td>nan</td><td>nan</td><td>nan</td><td>nan</td><td>nan</td><td>nan</td><td>nan</td><td>nan</td><td>nan</td><td>nan</td><td>nan</td><td>nan</td><td>nan</td><td>nan</td><td>nan</td></tr><tr><th scope=\"row\">2</th><td>nan</td><td>nan</td><td>nan</td><td>nan</td><td>nan</td><td>nan</td><td>nan</td><td>nan</td><td>nan</td><td>nan</td><td>nan</td><td>nan</td><td>nan</td><td>nan</td><td>nan</td><td>nan</td><td>nan</td><td>nan</td></tr><tr><th scope=\"row\">3</th><td>nan</td><td>nan</td><td>nan</td><td>nan</td><td>nan</td><td>nan</td><td>nan</td><td>nan</td><td>nan</td><td>nan</td><td>nan</td><td>nan</td><td>nan</td><td>nan</td><td>nan</td><td>nan</td><td>nan</td><td>nan</td></tr><tr><th rowspan=\"2\" scope=\"row\">N</th><th scope=\"row\">1</th><td>nan</td><td>nan</td><td>nan</td><td>nan</td><td>nan</td><td>nan</td><td>nan</td><td>nan</td><td>nan</td><td>nan</td><td>nan</td><td>nan</td><td>nan</td><td>nan</td><td>nan</td><td>nan</td><td>nan</td><td>nan</td></tr><tr><th scope=\"row\">2</th><td>nan</td><td>nan</td><td>nan</td><td>nan</td><td>nan</td><td>nan</td><td>nan</td><td>nan</td><td>nan</td><td>nan</td><td>nan</td><td>nan</td><td>nan</td><td>nan</td><td>nan</td><td>nan</td><td>nan</td><td>nan</td></tr></table>"
      ]
     },
     "execution_count": 12,
     "metadata": {},
     "output_type": "execute_result"
    }
   ],
   "source": [
    "    row_major(df.head().rename_axis((None, None, None), axis=1), \"spanning multiple index row major\")"
   ]
  },
  {
   "cell_type": "code",
   "execution_count": 13,
   "id": "6815516f-1bad-4de9-8ebe-0fb5f4810aba",
   "metadata": {},
   "outputs": [
    {
     "data": {
      "text/html": [
       "<table><caption>spanning multiple index column major</caption><tr><th colspan=\"3\" scope=\"row\">10</th><th colspan=\"9\" scope=\"col\">A</th><th colspan=\"9\" scope=\"col\">Z</th></tr><tr><th colspan=\"3\" scope=\"row\">100</th><th colspan=\"3\" scope=\"col\">M</th><th colspan=\"3\" scope=\"col\">N</th><th colspan=\"3\" scope=\"col\">O</th><th colspan=\"3\" scope=\"col\">M</th><th colspan=\"3\" scope=\"col\">N</th><th colspan=\"3\" scope=\"col\">O</th></tr><tr><th colspan=\"3\" scope=\"row\">1000</th><th scope=\"col\">1</th><th scope=\"col\">2</th><th scope=\"col\">3</th><th scope=\"col\">1</th><th scope=\"col\">2</th><th scope=\"col\">3</th><th scope=\"col\">1</th><th scope=\"col\">2</th><th scope=\"col\">3</th><th scope=\"col\">1</th><th scope=\"col\">2</th><th scope=\"col\">3</th><th scope=\"col\">1</th><th scope=\"col\">2</th><th scope=\"col\">3</th><th scope=\"col\">1</th><th scope=\"col\">2</th><th scope=\"col\">3</th></tr><tr><th rowspan=\"5\" scope=\"row\">A</th><th rowspan=\"3\" scope=\"row\">M</th><th scope=\"row\">1</th><td>nan</td><td>nan</td><td>nan</td><td>nan</td><td>nan</td><td>nan</td><td>nan</td><td>nan</td><td>nan</td><td>nan</td><td>nan</td><td>nan</td><td>nan</td><td>nan</td><td>nan</td><td>nan</td><td>nan</td><td>nan</td></tr><tr><th scope=\"row\">2</th><td>nan</td><td>nan</td><td>nan</td><td>nan</td><td>nan</td><td>nan</td><td>nan</td><td>nan</td><td>nan</td><td>nan</td><td>nan</td><td>nan</td><td>nan</td><td>nan</td><td>nan</td><td>nan</td><td>nan</td><td>nan</td></tr><tr><th scope=\"row\">3</th><td>nan</td><td>nan</td><td>nan</td><td>nan</td><td>nan</td><td>nan</td><td>nan</td><td>nan</td><td>nan</td><td>nan</td><td>nan</td><td>nan</td><td>nan</td><td>nan</td><td>nan</td><td>nan</td><td>nan</td><td>nan</td></tr><tr><th rowspan=\"2\" scope=\"row\">N</th><th scope=\"row\">1</th><td>nan</td><td>nan</td><td>nan</td><td>nan</td><td>nan</td><td>nan</td><td>nan</td><td>nan</td><td>nan</td><td>nan</td><td>nan</td><td>nan</td><td>nan</td><td>nan</td><td>nan</td><td>nan</td><td>nan</td><td>nan</td></tr><tr><th scope=\"row\">2</th><td>nan</td><td>nan</td><td>nan</td><td>nan</td><td>nan</td><td>nan</td><td>nan</td><td>nan</td><td>nan</td><td>nan</td><td>nan</td><td>nan</td><td>nan</td><td>nan</td><td>nan</td><td>nan</td><td>nan</td><td>nan</td></tr></table>"
      ],
      "text/plain": [
       "<table><caption>spanning multiple index column major</caption><tr><th colspan=\"3\" scope=\"row\">10</th><th colspan=\"9\" scope=\"col\">A</th><th colspan=\"9\" scope=\"col\">Z</th></tr><tr><th colspan=\"3\" scope=\"row\">100</th><th colspan=\"3\" scope=\"col\">M</th><th colspan=\"3\" scope=\"col\">N</th><th colspan=\"3\" scope=\"col\">O</th><th colspan=\"3\" scope=\"col\">M</th><th colspan=\"3\" scope=\"col\">N</th><th colspan=\"3\" scope=\"col\">O</th></tr><tr><th colspan=\"3\" scope=\"row\">1000</th><th scope=\"col\">1</th><th scope=\"col\">2</th><th scope=\"col\">3</th><th scope=\"col\">1</th><th scope=\"col\">2</th><th scope=\"col\">3</th><th scope=\"col\">1</th><th scope=\"col\">2</th><th scope=\"col\">3</th><th scope=\"col\">1</th><th scope=\"col\">2</th><th scope=\"col\">3</th><th scope=\"col\">1</th><th scope=\"col\">2</th><th scope=\"col\">3</th><th scope=\"col\">1</th><th scope=\"col\">2</th><th scope=\"col\">3</th></tr><tr><th rowspan=\"5\" scope=\"row\">A</th><th rowspan=\"3\" scope=\"row\">M</th><th scope=\"row\">1</th><td>nan</td><td>nan</td><td>nan</td><td>nan</td><td>nan</td><td>nan</td><td>nan</td><td>nan</td><td>nan</td><td>nan</td><td>nan</td><td>nan</td><td>nan</td><td>nan</td><td>nan</td><td>nan</td><td>nan</td><td>nan</td></tr><tr><th scope=\"row\">2</th><td>nan</td><td>nan</td><td>nan</td><td>nan</td><td>nan</td><td>nan</td><td>nan</td><td>nan</td><td>nan</td><td>nan</td><td>nan</td><td>nan</td><td>nan</td><td>nan</td><td>nan</td><td>nan</td><td>nan</td><td>nan</td></tr><tr><th scope=\"row\">3</th><td>nan</td><td>nan</td><td>nan</td><td>nan</td><td>nan</td><td>nan</td><td>nan</td><td>nan</td><td>nan</td><td>nan</td><td>nan</td><td>nan</td><td>nan</td><td>nan</td><td>nan</td><td>nan</td><td>nan</td><td>nan</td></tr><tr><th rowspan=\"2\" scope=\"row\">N</th><th scope=\"row\">1</th><td>nan</td><td>nan</td><td>nan</td><td>nan</td><td>nan</td><td>nan</td><td>nan</td><td>nan</td><td>nan</td><td>nan</td><td>nan</td><td>nan</td><td>nan</td><td>nan</td><td>nan</td><td>nan</td><td>nan</td><td>nan</td></tr><tr><th scope=\"row\">2</th><td>nan</td><td>nan</td><td>nan</td><td>nan</td><td>nan</td><td>nan</td><td>nan</td><td>nan</td><td>nan</td><td>nan</td><td>nan</td><td>nan</td><td>nan</td><td>nan</td><td>nan</td><td>nan</td><td>nan</td><td>nan</td></tr></table>"
      ]
     },
     "execution_count": 13,
     "metadata": {},
     "output_type": "execute_result"
    }
   ],
   "source": [
    "    column_major(df.head().rename_axis((None, None, None), axis=0), \"spanning multiple index column major\")"
   ]
  },
  {
   "cell_type": "code",
   "execution_count": 14,
   "id": "b15f956f-1ac7-4913-938e-e6ffd75ebcfe",
   "metadata": {},
   "outputs": [
    {
     "data": {
      "text/html": [
       "<table><caption>non-spanning multiple indexes row major</caption><tr><th rowspan=\"3\" scope=\"col\">J</th><th rowspan=\"3\" scope=\"col\">K</th><th rowspan=\"3\" scope=\"col\">L</th><th scope=\"row\">10</th><th scope=\"col\">A</th><th scope=\"col\">A</th><th scope=\"col\">A</th><th scope=\"col\">A</th><th scope=\"col\">A</th><th scope=\"col\">A</th><th scope=\"col\">A</th><th scope=\"col\">A</th><th scope=\"col\">A</th><th scope=\"col\">Z</th><th scope=\"col\">Z</th><th scope=\"col\">Z</th><th scope=\"col\">Z</th><th scope=\"col\">Z</th><th scope=\"col\">Z</th><th scope=\"col\">Z</th><th scope=\"col\">Z</th><th scope=\"col\">Z</th></tr><tr><th scope=\"row\">100</th><th scope=\"col\">M</th><th scope=\"col\">M</th><th scope=\"col\">M</th><th scope=\"col\">N</th><th scope=\"col\">N</th><th scope=\"col\">N</th><th scope=\"col\">O</th><th scope=\"col\">O</th><th scope=\"col\">O</th><th scope=\"col\">M</th><th scope=\"col\">M</th><th scope=\"col\">M</th><th scope=\"col\">N</th><th scope=\"col\">N</th><th scope=\"col\">N</th><th scope=\"col\">O</th><th scope=\"col\">O</th><th scope=\"col\">O</th></tr><tr><th scope=\"row\">1000</th><th scope=\"col\">1</th><th scope=\"col\">2</th><th scope=\"col\">3</th><th scope=\"col\">1</th><th scope=\"col\">2</th><th scope=\"col\">3</th><th scope=\"col\">1</th><th scope=\"col\">2</th><th scope=\"col\">3</th><th scope=\"col\">1</th><th scope=\"col\">2</th><th scope=\"col\">3</th><th scope=\"col\">1</th><th scope=\"col\">2</th><th scope=\"col\">3</th><th scope=\"col\">1</th><th scope=\"col\">2</th><th scope=\"col\">3</th></tr><tr><th scope=\"row\">A</th><th scope=\"row\">M</th><th scope=\"row\">1</th><td></td><td>nan</td><td>nan</td><td>nan</td><td>nan</td><td>nan</td><td>nan</td><td>nan</td><td>nan</td><td>nan</td><td>nan</td><td>nan</td><td>nan</td><td>nan</td><td>nan</td><td>nan</td><td>nan</td><td>nan</td><td>nan</td></tr><tr><th scope=\"row\">A</th><th scope=\"row\">M</th><th scope=\"row\">2</th><td></td><td>nan</td><td>nan</td><td>nan</td><td>nan</td><td>nan</td><td>nan</td><td>nan</td><td>nan</td><td>nan</td><td>nan</td><td>nan</td><td>nan</td><td>nan</td><td>nan</td><td>nan</td><td>nan</td><td>nan</td><td>nan</td></tr><tr><th scope=\"row\">A</th><th scope=\"row\">M</th><th scope=\"row\">3</th><td></td><td>nan</td><td>nan</td><td>nan</td><td>nan</td><td>nan</td><td>nan</td><td>nan</td><td>nan</td><td>nan</td><td>nan</td><td>nan</td><td>nan</td><td>nan</td><td>nan</td><td>nan</td><td>nan</td><td>nan</td><td>nan</td></tr><tr><th scope=\"row\">A</th><th scope=\"row\">N</th><th scope=\"row\">1</th><td></td><td>nan</td><td>nan</td><td>nan</td><td>nan</td><td>nan</td><td>nan</td><td>nan</td><td>nan</td><td>nan</td><td>nan</td><td>nan</td><td>nan</td><td>nan</td><td>nan</td><td>nan</td><td>nan</td><td>nan</td><td>nan</td></tr><tr><th scope=\"row\">A</th><th scope=\"row\">N</th><th scope=\"row\">2</th><td></td><td>nan</td><td>nan</td><td>nan</td><td>nan</td><td>nan</td><td>nan</td><td>nan</td><td>nan</td><td>nan</td><td>nan</td><td>nan</td><td>nan</td><td>nan</td><td>nan</td><td>nan</td><td>nan</td><td>nan</td><td>nan</td></tr></table>"
      ],
      "text/plain": [
       "<table><caption>non-spanning multiple indexes row major</caption><tr><th rowspan=\"3\" scope=\"col\">J</th><th rowspan=\"3\" scope=\"col\">K</th><th rowspan=\"3\" scope=\"col\">L</th><th scope=\"row\">10</th><th scope=\"col\">A</th><th scope=\"col\">A</th><th scope=\"col\">A</th><th scope=\"col\">A</th><th scope=\"col\">A</th><th scope=\"col\">A</th><th scope=\"col\">A</th><th scope=\"col\">A</th><th scope=\"col\">A</th><th scope=\"col\">Z</th><th scope=\"col\">Z</th><th scope=\"col\">Z</th><th scope=\"col\">Z</th><th scope=\"col\">Z</th><th scope=\"col\">Z</th><th scope=\"col\">Z</th><th scope=\"col\">Z</th><th scope=\"col\">Z</th></tr><tr><th scope=\"row\">100</th><th scope=\"col\">M</th><th scope=\"col\">M</th><th scope=\"col\">M</th><th scope=\"col\">N</th><th scope=\"col\">N</th><th scope=\"col\">N</th><th scope=\"col\">O</th><th scope=\"col\">O</th><th scope=\"col\">O</th><th scope=\"col\">M</th><th scope=\"col\">M</th><th scope=\"col\">M</th><th scope=\"col\">N</th><th scope=\"col\">N</th><th scope=\"col\">N</th><th scope=\"col\">O</th><th scope=\"col\">O</th><th scope=\"col\">O</th></tr><tr><th scope=\"row\">1000</th><th scope=\"col\">1</th><th scope=\"col\">2</th><th scope=\"col\">3</th><th scope=\"col\">1</th><th scope=\"col\">2</th><th scope=\"col\">3</th><th scope=\"col\">1</th><th scope=\"col\">2</th><th scope=\"col\">3</th><th scope=\"col\">1</th><th scope=\"col\">2</th><th scope=\"col\">3</th><th scope=\"col\">1</th><th scope=\"col\">2</th><th scope=\"col\">3</th><th scope=\"col\">1</th><th scope=\"col\">2</th><th scope=\"col\">3</th></tr><tr><th scope=\"row\">A</th><th scope=\"row\">M</th><th scope=\"row\">1</th><td></td><td>nan</td><td>nan</td><td>nan</td><td>nan</td><td>nan</td><td>nan</td><td>nan</td><td>nan</td><td>nan</td><td>nan</td><td>nan</td><td>nan</td><td>nan</td><td>nan</td><td>nan</td><td>nan</td><td>nan</td><td>nan</td></tr><tr><th scope=\"row\">A</th><th scope=\"row\">M</th><th scope=\"row\">2</th><td></td><td>nan</td><td>nan</td><td>nan</td><td>nan</td><td>nan</td><td>nan</td><td>nan</td><td>nan</td><td>nan</td><td>nan</td><td>nan</td><td>nan</td><td>nan</td><td>nan</td><td>nan</td><td>nan</td><td>nan</td><td>nan</td></tr><tr><th scope=\"row\">A</th><th scope=\"row\">M</th><th scope=\"row\">3</th><td></td><td>nan</td><td>nan</td><td>nan</td><td>nan</td><td>nan</td><td>nan</td><td>nan</td><td>nan</td><td>nan</td><td>nan</td><td>nan</td><td>nan</td><td>nan</td><td>nan</td><td>nan</td><td>nan</td><td>nan</td><td>nan</td></tr><tr><th scope=\"row\">A</th><th scope=\"row\">N</th><th scope=\"row\">1</th><td></td><td>nan</td><td>nan</td><td>nan</td><td>nan</td><td>nan</td><td>nan</td><td>nan</td><td>nan</td><td>nan</td><td>nan</td><td>nan</td><td>nan</td><td>nan</td><td>nan</td><td>nan</td><td>nan</td><td>nan</td><td>nan</td></tr><tr><th scope=\"row\">A</th><th scope=\"row\">N</th><th scope=\"row\">2</th><td></td><td>nan</td><td>nan</td><td>nan</td><td>nan</td><td>nan</td><td>nan</td><td>nan</td><td>nan</td><td>nan</td><td>nan</td><td>nan</td><td>nan</td><td>nan</td><td>nan</td><td>nan</td><td>nan</td><td>nan</td><td>nan</td></tr></table>"
      ]
     },
     "execution_count": 14,
     "metadata": {},
     "output_type": "execute_result"
    }
   ],
   "source": [
    "    row_major(df.head(), \"non-spanning multiple indexes row major\", False)"
   ]
  },
  {
   "cell_type": "code",
   "execution_count": 15,
   "id": "d4eec4f9-01c8-47f7-9b9c-bf2906c39ef8",
   "metadata": {},
   "outputs": [
    {
     "data": {
      "text/html": [
       "<table><caption>non-spanning multiple index column major</caption><tr><th colspan=\"3\" scope=\"row\">10</th><th scope=\"col\">A</th><th scope=\"col\">A</th><th scope=\"col\">A</th><th scope=\"col\">A</th><th scope=\"col\">A</th><th scope=\"col\">A</th><th scope=\"col\">A</th><th scope=\"col\">A</th><th scope=\"col\">A</th><th scope=\"col\">Z</th><th scope=\"col\">Z</th><th scope=\"col\">Z</th><th scope=\"col\">Z</th><th scope=\"col\">Z</th><th scope=\"col\">Z</th><th scope=\"col\">Z</th><th scope=\"col\">Z</th><th scope=\"col\">Z</th></tr><tr><th colspan=\"3\" scope=\"row\">100</th><th scope=\"col\">M</th><th scope=\"col\">M</th><th scope=\"col\">M</th><th scope=\"col\">N</th><th scope=\"col\">N</th><th scope=\"col\">N</th><th scope=\"col\">O</th><th scope=\"col\">O</th><th scope=\"col\">O</th><th scope=\"col\">M</th><th scope=\"col\">M</th><th scope=\"col\">M</th><th scope=\"col\">N</th><th scope=\"col\">N</th><th scope=\"col\">N</th><th scope=\"col\">O</th><th scope=\"col\">O</th><th scope=\"col\">O</th></tr><tr><th colspan=\"3\" scope=\"row\">1000</th><th scope=\"col\">1</th><th scope=\"col\">2</th><th scope=\"col\">3</th><th scope=\"col\">1</th><th scope=\"col\">2</th><th scope=\"col\">3</th><th scope=\"col\">1</th><th scope=\"col\">2</th><th scope=\"col\">3</th><th scope=\"col\">1</th><th scope=\"col\">2</th><th scope=\"col\">3</th><th scope=\"col\">1</th><th scope=\"col\">2</th><th scope=\"col\">3</th><th scope=\"col\">1</th><th scope=\"col\">2</th><th scope=\"col\">3</th></tr><tr><th scope=\"col\">J</th><th scope=\"col\">K</th><th scope=\"col\">L</th><td></td><td></td><td></td><td></td><td></td><td></td><td></td><td></td><td></td><td></td><td></td><td></td><td></td><td></td><td></td><td></td><td></td><td></td></tr><tr><th scope=\"row\">A</th><th scope=\"row\">M</th><th scope=\"row\">1</th><td>nan</td><td>nan</td><td>nan</td><td>nan</td><td>nan</td><td>nan</td><td>nan</td><td>nan</td><td>nan</td><td>nan</td><td>nan</td><td>nan</td><td>nan</td><td>nan</td><td>nan</td><td>nan</td><td>nan</td><td>nan</td></tr><tr><th scope=\"row\">A</th><th scope=\"row\">M</th><th scope=\"row\">2</th><td>nan</td><td>nan</td><td>nan</td><td>nan</td><td>nan</td><td>nan</td><td>nan</td><td>nan</td><td>nan</td><td>nan</td><td>nan</td><td>nan</td><td>nan</td><td>nan</td><td>nan</td><td>nan</td><td>nan</td><td>nan</td></tr><tr><th scope=\"row\">A</th><th scope=\"row\">M</th><th scope=\"row\">3</th><td>nan</td><td>nan</td><td>nan</td><td>nan</td><td>nan</td><td>nan</td><td>nan</td><td>nan</td><td>nan</td><td>nan</td><td>nan</td><td>nan</td><td>nan</td><td>nan</td><td>nan</td><td>nan</td><td>nan</td><td>nan</td></tr><tr><th scope=\"row\">A</th><th scope=\"row\">N</th><th scope=\"row\">1</th><td>nan</td><td>nan</td><td>nan</td><td>nan</td><td>nan</td><td>nan</td><td>nan</td><td>nan</td><td>nan</td><td>nan</td><td>nan</td><td>nan</td><td>nan</td><td>nan</td><td>nan</td><td>nan</td><td>nan</td><td>nan</td></tr><tr><th scope=\"row\">A</th><th scope=\"row\">N</th><th scope=\"row\">2</th><td>nan</td><td>nan</td><td>nan</td><td>nan</td><td>nan</td><td>nan</td><td>nan</td><td>nan</td><td>nan</td><td>nan</td><td>nan</td><td>nan</td><td>nan</td><td>nan</td><td>nan</td><td>nan</td><td>nan</td><td>nan</td></tr></table>"
      ],
      "text/plain": [
       "<table><caption>non-spanning multiple index column major</caption><tr><th colspan=\"3\" scope=\"row\">10</th><th scope=\"col\">A</th><th scope=\"col\">A</th><th scope=\"col\">A</th><th scope=\"col\">A</th><th scope=\"col\">A</th><th scope=\"col\">A</th><th scope=\"col\">A</th><th scope=\"col\">A</th><th scope=\"col\">A</th><th scope=\"col\">Z</th><th scope=\"col\">Z</th><th scope=\"col\">Z</th><th scope=\"col\">Z</th><th scope=\"col\">Z</th><th scope=\"col\">Z</th><th scope=\"col\">Z</th><th scope=\"col\">Z</th><th scope=\"col\">Z</th></tr><tr><th colspan=\"3\" scope=\"row\">100</th><th scope=\"col\">M</th><th scope=\"col\">M</th><th scope=\"col\">M</th><th scope=\"col\">N</th><th scope=\"col\">N</th><th scope=\"col\">N</th><th scope=\"col\">O</th><th scope=\"col\">O</th><th scope=\"col\">O</th><th scope=\"col\">M</th><th scope=\"col\">M</th><th scope=\"col\">M</th><th scope=\"col\">N</th><th scope=\"col\">N</th><th scope=\"col\">N</th><th scope=\"col\">O</th><th scope=\"col\">O</th><th scope=\"col\">O</th></tr><tr><th colspan=\"3\" scope=\"row\">1000</th><th scope=\"col\">1</th><th scope=\"col\">2</th><th scope=\"col\">3</th><th scope=\"col\">1</th><th scope=\"col\">2</th><th scope=\"col\">3</th><th scope=\"col\">1</th><th scope=\"col\">2</th><th scope=\"col\">3</th><th scope=\"col\">1</th><th scope=\"col\">2</th><th scope=\"col\">3</th><th scope=\"col\">1</th><th scope=\"col\">2</th><th scope=\"col\">3</th><th scope=\"col\">1</th><th scope=\"col\">2</th><th scope=\"col\">3</th></tr><tr><th scope=\"col\">J</th><th scope=\"col\">K</th><th scope=\"col\">L</th><td></td><td></td><td></td><td></td><td></td><td></td><td></td><td></td><td></td><td></td><td></td><td></td><td></td><td></td><td></td><td></td><td></td><td></td></tr><tr><th scope=\"row\">A</th><th scope=\"row\">M</th><th scope=\"row\">1</th><td>nan</td><td>nan</td><td>nan</td><td>nan</td><td>nan</td><td>nan</td><td>nan</td><td>nan</td><td>nan</td><td>nan</td><td>nan</td><td>nan</td><td>nan</td><td>nan</td><td>nan</td><td>nan</td><td>nan</td><td>nan</td></tr><tr><th scope=\"row\">A</th><th scope=\"row\">M</th><th scope=\"row\">2</th><td>nan</td><td>nan</td><td>nan</td><td>nan</td><td>nan</td><td>nan</td><td>nan</td><td>nan</td><td>nan</td><td>nan</td><td>nan</td><td>nan</td><td>nan</td><td>nan</td><td>nan</td><td>nan</td><td>nan</td><td>nan</td></tr><tr><th scope=\"row\">A</th><th scope=\"row\">M</th><th scope=\"row\">3</th><td>nan</td><td>nan</td><td>nan</td><td>nan</td><td>nan</td><td>nan</td><td>nan</td><td>nan</td><td>nan</td><td>nan</td><td>nan</td><td>nan</td><td>nan</td><td>nan</td><td>nan</td><td>nan</td><td>nan</td><td>nan</td></tr><tr><th scope=\"row\">A</th><th scope=\"row\">N</th><th scope=\"row\">1</th><td>nan</td><td>nan</td><td>nan</td><td>nan</td><td>nan</td><td>nan</td><td>nan</td><td>nan</td><td>nan</td><td>nan</td><td>nan</td><td>nan</td><td>nan</td><td>nan</td><td>nan</td><td>nan</td><td>nan</td><td>nan</td></tr><tr><th scope=\"row\">A</th><th scope=\"row\">N</th><th scope=\"row\">2</th><td>nan</td><td>nan</td><td>nan</td><td>nan</td><td>nan</td><td>nan</td><td>nan</td><td>nan</td><td>nan</td><td>nan</td><td>nan</td><td>nan</td><td>nan</td><td>nan</td><td>nan</td><td>nan</td><td>nan</td><td>nan</td></tr></table>"
      ]
     },
     "execution_count": 15,
     "metadata": {},
     "output_type": "execute_result"
    }
   ],
   "source": [
    "    column_major(df.head(), \"non-spanning multiple index column major\", False)"
   ]
  },
  {
   "cell_type": "code",
   "execution_count": 17,
   "id": "d5bccfaf-be44-4ebe-a35b-058cd0b88fe3",
   "metadata": {},
   "outputs": [
    {
     "data": {
      "text/markdown": [
       "\n",
       "## visual and nonvisual shape\n",
       "\n",
       "rows and columns references in a `table` are the not the same as a dataframe.\n",
       "convention holds that dataframes show their shape, the shape of the data.\n",
       "the nominal references we use for dataframes are shifted ordinal references\n",
       "when the shape is shared along side a screen reader.\n",
       "the shape of the table to the screen reader inclused the rows and columns.\n",
       "to assistive technology, the shape of the dataframe is computed by [^note]:\n",
       "\n",
       "    df.shape[0] + df.columns.nlevels, df.shape[1] + df.index.nlevels\n",
       "\n",
       "this naive heuristic is only true for certain combinations of multi indexes. a more rigorous implementation would handle these edge cases.\n",
       "\n",
       "these inconsistencies mean that screen reader users may be referencing an different indexing system than sighted users.s\n"
      ],
      "text/plain": [
       "<IPython.core.display.Markdown object>"
      ]
     },
     "metadata": {},
     "output_type": "display_data"
    }
   ],
   "source": [
    "%%\n",
    "## visual and nonvisual shape\n",
    "\n",
    "rows and columns references in a `table` are the not the same as a dataframe.\n",
    "convention holds that dataframes show their shape, the shape of the data.\n",
    "the nominal references we use for dataframes are shifted ordinal references\n",
    "when the shape is shared along side a screen reader.\n",
    "the shape of the table to the screen reader inclused the rows and columns.\n",
    "to assistive technology, the shape of the dataframe is computed by [^note]:\n",
    "\n",
    "    df.shape[0] + df.columns.nlevels, df.shape[1] + df.index.nlevels\n",
    "\n",
    "this naive heuristic is only true for certain combinations of multi indexes. a more rigorous implementation would handle these edge cases.\n",
    "\n",
    "these inconsistencies mean that screen reader users may be referencing an different indexing system than sighted users.s"
   ]
  },
  {
   "cell_type": "code",
   "execution_count": null,
   "id": "85b6c4ba-7edf-4666-b850-42368d52a5cc",
   "metadata": {},
   "outputs": [],
   "source": []
  }
 ],
 "metadata": {
  "kernelspec": {
   "display_name": "Python 3 (ipykernel)",
   "language": "python",
   "name": "python3"
  },
  "language_info": {
   "codemirror_mode": {
    "name": "ipython",
    "version": 3
   },
   "file_extension": ".py",
   "mimetype": "text/x-python",
   "name": "python",
   "nbconvert_exporter": "python",
   "pygments_lexer": "ipython3",
   "version": "3.11.3"
  },
  "widgets": {
   "application/vnd.jupyter.widget-state+json": {
    "state": {},
    "version_major": 2,
    "version_minor": 0
   }
  }
 },
 "nbformat": 4,
 "nbformat_minor": 5
}
