{
 "cells": [
  {
   "cell_type": "markdown",
   "id": "d036aef6-11f3-4818-b7b5-0d81f3014d02",
   "metadata": {},
   "source": [
    "# proper html tables with multiple indexes\n",
    "\n",
    "our goal is reduce the empty cells in tables, especially where headers should.\n",
    "empty cells diminish the experience for assistive technology users.\n",
    "through this study we'll design some accessible options we could generically use to represent dataframes."
   ]
  },
  {
   "cell_type": "code",
   "execution_count": 1,
   "id": "4d50d832-b43e-4be2-838b-06383b7d005d",
   "metadata": {},
   "outputs": [
    {
     "name": "stderr",
     "output_type": "stream",
     "text": [
      "/tmp/ipykernel_15678/4203597224.py:1: DeprecationWarning: \n",
      "Pyarrow will become a required dependency of pandas in the next major release of pandas (pandas 3.0),\n",
      "(to allow more performant data types, such as the Arrow string type, and better interoperability with other libraries)\n",
      "but was not found to be installed on your system.\n",
      "If this would cause problems for you,\n",
      "please provide us feedback at https://github.com/pandas-dev/pandas/issues/54466\n",
      "        \n",
      "  import pandas, bs4, enum, numpy, midgy\n"
     ]
    }
   ],
   "source": [
    "    import pandas, bs4, enum, numpy, midgy"
   ]
  },
  {
   "cell_type": "code",
   "execution_count": 2,
   "id": "da405c16-baf3-4a61-99ea-18ddc9ab3124",
   "metadata": {},
   "outputs": [
    {
     "data": {
      "text/markdown": [
       "\n",
       "<style>\n",
       ":is(.cell, .jp-OutputArea-output.jp-RenderedHTMLCommon) :is(td,th) {\n",
       "    border: 1px solid;\n",
       "}\n",
       "</style>\n"
      ],
      "text/plain": [
       "<IPython.core.display.Markdown object>"
      ]
     },
     "metadata": {},
     "output_type": "display_data"
    }
   ],
   "source": [
    "%%\n",
    "<style>\n",
    ":is(.cell, .jp-OutputArea-output.jp-RenderedHTMLCommon) :is(td,th) {\n",
    "    border: 1px solid;\n",
    "}\n",
    "</style>"
   ]
  },
  {
   "cell_type": "markdown",
   "id": "667e5cff-0803-4bcf-a018-5f141e4ce056",
   "metadata": {},
   "source": [
    "sample dataframe"
   ]
  },
  {
   "cell_type": "code",
   "execution_count": 3,
   "id": "116b0189-9ed5-4c15-b2d4-8762bcae74b1",
   "metadata": {},
   "outputs": [
    {
     "data": {
      "text/html": [
       "<div>\n",
       "<style scoped>\n",
       "    .dataframe tbody tr th:only-of-type {\n",
       "        vertical-align: middle;\n",
       "    }\n",
       "\n",
       "    .dataframe tbody tr th {\n",
       "        vertical-align: top;\n",
       "    }\n",
       "\n",
       "    .dataframe thead tr th {\n",
       "        text-align: left;\n",
       "    }\n",
       "\n",
       "    .dataframe thead tr:last-of-type th {\n",
       "        text-align: right;\n",
       "    }\n",
       "</style>\n",
       "<table border=\"1\" class=\"dataframe\">\n",
       "  <thead>\n",
       "    <tr>\n",
       "      <th></th>\n",
       "      <th></th>\n",
       "      <th>10</th>\n",
       "      <th colspan=\"9\" halign=\"left\">A</th>\n",
       "      <th colspan=\"9\" halign=\"left\">Z</th>\n",
       "    </tr>\n",
       "    <tr>\n",
       "      <th></th>\n",
       "      <th></th>\n",
       "      <th>100</th>\n",
       "      <th colspan=\"3\" halign=\"left\">M</th>\n",
       "      <th colspan=\"3\" halign=\"left\">N</th>\n",
       "      <th colspan=\"3\" halign=\"left\">O</th>\n",
       "      <th colspan=\"3\" halign=\"left\">M</th>\n",
       "      <th colspan=\"3\" halign=\"left\">N</th>\n",
       "      <th colspan=\"3\" halign=\"left\">O</th>\n",
       "    </tr>\n",
       "    <tr>\n",
       "      <th></th>\n",
       "      <th></th>\n",
       "      <th>1000</th>\n",
       "      <th>1</th>\n",
       "      <th>2</th>\n",
       "      <th>3</th>\n",
       "      <th>1</th>\n",
       "      <th>2</th>\n",
       "      <th>3</th>\n",
       "      <th>1</th>\n",
       "      <th>2</th>\n",
       "      <th>3</th>\n",
       "      <th>1</th>\n",
       "      <th>2</th>\n",
       "      <th>3</th>\n",
       "      <th>1</th>\n",
       "      <th>2</th>\n",
       "      <th>3</th>\n",
       "      <th>1</th>\n",
       "      <th>2</th>\n",
       "      <th>3</th>\n",
       "    </tr>\n",
       "    <tr>\n",
       "      <th>J</th>\n",
       "      <th>K</th>\n",
       "      <th>L</th>\n",
       "      <th></th>\n",
       "      <th></th>\n",
       "      <th></th>\n",
       "      <th></th>\n",
       "      <th></th>\n",
       "      <th></th>\n",
       "      <th></th>\n",
       "      <th></th>\n",
       "      <th></th>\n",
       "      <th></th>\n",
       "      <th></th>\n",
       "      <th></th>\n",
       "      <th></th>\n",
       "      <th></th>\n",
       "      <th></th>\n",
       "      <th></th>\n",
       "      <th></th>\n",
       "      <th></th>\n",
       "    </tr>\n",
       "  </thead>\n",
       "  <tbody>\n",
       "    <tr>\n",
       "      <th rowspan=\"5\" valign=\"top\">A</th>\n",
       "      <th rowspan=\"3\" valign=\"top\">M</th>\n",
       "      <th>1</th>\n",
       "      <td>NaN</td>\n",
       "      <td>NaN</td>\n",
       "      <td>NaN</td>\n",
       "      <td>NaN</td>\n",
       "      <td>NaN</td>\n",
       "      <td>NaN</td>\n",
       "      <td>NaN</td>\n",
       "      <td>NaN</td>\n",
       "      <td>NaN</td>\n",
       "      <td>NaN</td>\n",
       "      <td>NaN</td>\n",
       "      <td>NaN</td>\n",
       "      <td>NaN</td>\n",
       "      <td>NaN</td>\n",
       "      <td>NaN</td>\n",
       "      <td>NaN</td>\n",
       "      <td>NaN</td>\n",
       "      <td>NaN</td>\n",
       "    </tr>\n",
       "    <tr>\n",
       "      <th>2</th>\n",
       "      <td>NaN</td>\n",
       "      <td>NaN</td>\n",
       "      <td>NaN</td>\n",
       "      <td>NaN</td>\n",
       "      <td>NaN</td>\n",
       "      <td>NaN</td>\n",
       "      <td>NaN</td>\n",
       "      <td>NaN</td>\n",
       "      <td>NaN</td>\n",
       "      <td>NaN</td>\n",
       "      <td>NaN</td>\n",
       "      <td>NaN</td>\n",
       "      <td>NaN</td>\n",
       "      <td>NaN</td>\n",
       "      <td>NaN</td>\n",
       "      <td>NaN</td>\n",
       "      <td>NaN</td>\n",
       "      <td>NaN</td>\n",
       "    </tr>\n",
       "    <tr>\n",
       "      <th>3</th>\n",
       "      <td>NaN</td>\n",
       "      <td>NaN</td>\n",
       "      <td>NaN</td>\n",
       "      <td>NaN</td>\n",
       "      <td>NaN</td>\n",
       "      <td>NaN</td>\n",
       "      <td>NaN</td>\n",
       "      <td>NaN</td>\n",
       "      <td>NaN</td>\n",
       "      <td>NaN</td>\n",
       "      <td>NaN</td>\n",
       "      <td>NaN</td>\n",
       "      <td>NaN</td>\n",
       "      <td>NaN</td>\n",
       "      <td>NaN</td>\n",
       "      <td>NaN</td>\n",
       "      <td>NaN</td>\n",
       "      <td>NaN</td>\n",
       "    </tr>\n",
       "    <tr>\n",
       "      <th rowspan=\"2\" valign=\"top\">N</th>\n",
       "      <th>1</th>\n",
       "      <td>NaN</td>\n",
       "      <td>NaN</td>\n",
       "      <td>NaN</td>\n",
       "      <td>NaN</td>\n",
       "      <td>NaN</td>\n",
       "      <td>NaN</td>\n",
       "      <td>NaN</td>\n",
       "      <td>NaN</td>\n",
       "      <td>NaN</td>\n",
       "      <td>NaN</td>\n",
       "      <td>NaN</td>\n",
       "      <td>NaN</td>\n",
       "      <td>NaN</td>\n",
       "      <td>NaN</td>\n",
       "      <td>NaN</td>\n",
       "      <td>NaN</td>\n",
       "      <td>NaN</td>\n",
       "      <td>NaN</td>\n",
       "    </tr>\n",
       "    <tr>\n",
       "      <th>2</th>\n",
       "      <td>NaN</td>\n",
       "      <td>NaN</td>\n",
       "      <td>NaN</td>\n",
       "      <td>NaN</td>\n",
       "      <td>NaN</td>\n",
       "      <td>NaN</td>\n",
       "      <td>NaN</td>\n",
       "      <td>NaN</td>\n",
       "      <td>NaN</td>\n",
       "      <td>NaN</td>\n",
       "      <td>NaN</td>\n",
       "      <td>NaN</td>\n",
       "      <td>NaN</td>\n",
       "      <td>NaN</td>\n",
       "      <td>NaN</td>\n",
       "      <td>NaN</td>\n",
       "      <td>NaN</td>\n",
       "      <td>NaN</td>\n",
       "    </tr>\n",
       "  </tbody>\n",
       "</table>\n",
       "</div>"
      ],
      "text/plain": [
       "10       A                                            Z                      \\\n",
       "100      M              N              O              M              N        \n",
       "1000     1    2    3    1    2    3    1    2    3    1    2    3    1    2   \n",
       "J K L                                                                         \n",
       "A M 1  NaN  NaN  NaN  NaN  NaN  NaN  NaN  NaN  NaN  NaN  NaN  NaN  NaN  NaN   \n",
       "    2  NaN  NaN  NaN  NaN  NaN  NaN  NaN  NaN  NaN  NaN  NaN  NaN  NaN  NaN   \n",
       "    3  NaN  NaN  NaN  NaN  NaN  NaN  NaN  NaN  NaN  NaN  NaN  NaN  NaN  NaN   \n",
       "  N 1  NaN  NaN  NaN  NaN  NaN  NaN  NaN  NaN  NaN  NaN  NaN  NaN  NaN  NaN   \n",
       "    2  NaN  NaN  NaN  NaN  NaN  NaN  NaN  NaN  NaN  NaN  NaN  NaN  NaN  NaN   \n",
       "\n",
       "10                         \n",
       "100           O            \n",
       "1000     3    1    2    3  \n",
       "J K L                      \n",
       "A M 1  NaN  NaN  NaN  NaN  \n",
       "    2  NaN  NaN  NaN  NaN  \n",
       "    3  NaN  NaN  NaN  NaN  \n",
       "  N 1  NaN  NaN  NaN  NaN  \n",
       "    2  NaN  NaN  NaN  NaN  "
      ]
     },
     "execution_count": 3,
     "metadata": {},
     "output_type": "execute_result"
    }
   ],
   "source": [
    "    index = pandas.MultiIndex.from_product([\n",
    "        [\"A\", \"Z\"], [\"M\", \"N\", \"O\"], [1, 2, 3]\n",
    "    ], names=[*\"JKL\"])\n",
    "    (df := pandas.DataFrame(columns=index, index=index).rename_axis(columns=[10, 100, 1000]).head())"
   ]
  },
  {
   "cell_type": "code",
   "execution_count": 4,
   "id": "7638f5f3-6364-46b2-b06e-5e9d5680a9f2",
   "metadata": {},
   "outputs": [
    {
     "data": {
      "text/markdown": [
       "\n",
       "    def index_span(index: pandas.Index) -> pandas.DataFrame: \n",
       "analyze an index to determine how different indexes span rows or columns.\n",
       "        \n",
       "        return pandas.concat(\n",
       "            dict(\n",
       "                diff=(diff := index.to_frame().pipe(diff_shift)),\n",
       "                label=(label := diff.cumsum()),\n",
       "                span=label.apply(\n",
       "                    lambda s: s.drop_duplicates().apply(s.value_counts().get), axis=0\n",
       "                )\n",
       "            ), axis=1\n",
       "        ).replace({numpy.nan: None})\n",
       "\n",
       "    def diff_shift(df: pandas.DataFrame) -> pandas.DataFrame:\n",
       "        return pandas.DataFrame(\n",
       "            numpy.concatenate((numpy.array([[True]*df.shape[1]]), df.values[:-1] != df.values[1:]), 0), \n",
       "            columns=df.columns\n",
       "        )\n"
      ],
      "text/plain": [
       "<IPython.core.display.Markdown object>"
      ]
     },
     "metadata": {},
     "output_type": "display_data"
    }
   ],
   "source": [
    "%%\n",
    "    def index_span(index: pandas.Index) -> pandas.DataFrame: \n",
    "analyze an index to determine how different indexes span rows or columns.\n",
    "        \n",
    "        return pandas.concat(\n",
    "            dict(\n",
    "                diff=(diff := index.to_frame().pipe(diff_shift)),\n",
    "                label=(label := diff.cumsum()),\n",
    "                span=label.apply(\n",
    "                    lambda s: s.drop_duplicates().apply(s.value_counts().get), axis=0\n",
    "                )\n",
    "            ), axis=1\n",
    "        ).replace({numpy.nan: None})\n",
    "\n",
    "    def diff_shift(df: pandas.DataFrame) -> pandas.DataFrame:\n",
    "        return pandas.DataFrame(\n",
    "            numpy.concatenate((numpy.array([[True]*df.shape[1]]), df.values[:-1] != df.values[1:]), 0), \n",
    "            columns=df.columns\n",
    "        )"
   ]
  },
  {
   "cell_type": "code",
   "execution_count": 5,
   "id": "9a7e3310-61e9-4ea5-b38f-f6742ad4a6f8",
   "metadata": {},
   "outputs": [
    {
     "data": {
      "text/markdown": [
       "\n",
       "    def column_major(df: pandas.DataFrame, caption=None, SPAN=True) -> bs4.BeautifulSoup:\n",
       "convert a dataframe to a `column_major` html representation that presents the column index names first.\n",
       "        \n",
       "        soup = bs4.BeautifulSoup(features=\"html.parser\")\n",
       "        soup.append(table := soup.new_tag(\"table\"))\n",
       "        if caption:\n",
       "            table.append(cap := soup.new_tag(\"caption\"))\n",
       "            cap.append(caption)\n",
       "        ROWS, COLS = any(df.index.names), any(df.columns.names)\n",
       "\n",
       "pre-compute the grouping structure of the indexes\n",
       "\n",
       "        row_span, col_span = index_span(df.index), index_span(df.columns)\n",
       "        \n",
       "        for col_level, col_name in enumerate(df.columns.names):\n",
       "1. show the column index names\n",
       "            \n",
       "            table.append(tr := soup.new_tag(\"tr\"))\n",
       "            if COLS:\n",
       "                attrs = dict(scope=\"row\")\n",
       "                if df.index.nlevels > 1:\n",
       "                    attrs.update(colspan=df.index.nlevels)\n",
       "                tr.append(th := soup.new_tag(\"th\", attrs=attrs))\n",
       "                th.append(str(col_name) or F\"level {col_level}\")\n",
       "    \n",
       "            for col_index, col_value in enumerate(df.columns.get_level_values(col_level)):\n",
       "1. show the column index values\n",
       "\n",
       "                attrs = dict(scope=\"col\")\n",
       "                span = col_span[\"span\"].iloc[col_index, col_level] if SPAN else 1\n",
       "                if span:\n",
       "                    if span > 1:\n",
       "                        attrs.update(colspan=int(span))\n",
       "                    tr.append(th := soup.new_tag(\"th\", attrs=attrs))\n",
       "                    th.append(str(col_value))\n",
       "        if ROWS:\n",
       "1. insert the row names below the column names \n",
       "\n",
       "            table.append(tr := soup.new_tag(\"tr\"))\n",
       "            attrs = dict(scope=\"col\")\n",
       "            for row_level, row_name in enumerate(df.index.names):\n",
       "                tr.append(th := soup.new_tag(\"th\", attrs=attrs))\n",
       "                th.append(str(row_name) or F\"index {row_level}\")\n",
       "                \n",
       "            for col_value in df.columns.get_level_values(col_level):\n",
       "   followed by a blank row, a blank row is suboptimal for assistive technology.\n",
       "                \n",
       "                attrs = dict(scope=\"col\")\n",
       "                tr.append(td := soup.new_tag(\"td\"))\n",
       "    \n",
       "        for row_index in range(df.shape[0]):\n",
       "1. write the row index headers\n",
       "\n",
       "            table.append(tr := soup.new_tag(\"tr\"))\n",
       "            for row_level in range(df.index.nlevels):\n",
       "                span = row_span[\"span\"].iloc[row_index, row_level] if SPAN else 1\n",
       "                if span:\n",
       "                    attrs = dict(scope=\"row\")\n",
       "                    if span > 1:\n",
       "                        attrs.update(rowspan=int(span))\n",
       "                    tr.append(th := soup.new_tag(\"th\", attrs=attrs))\n",
       "                    th.append(str(df.index.get_level_values(row_level)[row_index]))\n",
       "    \n",
       "            for value in df.iloc[row_index].values:\n",
       "1. write the values of the dataframe\n",
       "                \n",
       "                tr.append(td := soup.new_tag(\"td\"))\n",
       "                td.append(str(value))\n",
       "        return soup\n"
      ],
      "text/plain": [
       "<IPython.core.display.Markdown object>"
      ]
     },
     "metadata": {},
     "output_type": "display_data"
    }
   ],
   "source": [
    "%%\n",
    "    def column_major(df: pandas.DataFrame, caption=None, SPAN=True) -> bs4.BeautifulSoup:\n",
    "convert a dataframe to a `column_major` html representation that presents the column index names first.\n",
    "        \n",
    "        soup = bs4.BeautifulSoup(features=\"html.parser\")\n",
    "        soup.append(table := soup.new_tag(\"table\"))\n",
    "        if caption:\n",
    "            table.append(cap := soup.new_tag(\"caption\"))\n",
    "            cap.append(caption)\n",
    "        ROWS, COLS = any(df.index.names), any(df.columns.names)\n",
    "\n",
    "pre-compute the grouping structure of the indexes\n",
    "\n",
    "        row_span, col_span = index_span(df.index), index_span(df.columns)\n",
    "        \n",
    "        for col_level, col_name in enumerate(df.columns.names):\n",
    "1. show the column index names\n",
    "            \n",
    "            table.append(tr := soup.new_tag(\"tr\"))\n",
    "            if COLS:\n",
    "                attrs = dict(scope=\"row\")\n",
    "                if df.index.nlevels > 1:\n",
    "                    attrs.update(colspan=df.index.nlevels)\n",
    "                tr.append(th := soup.new_tag(\"th\", attrs=attrs))\n",
    "                th.append(str(col_name) or F\"level {col_level}\")\n",
    "    \n",
    "            for col_index, col_value in enumerate(df.columns.get_level_values(col_level)):\n",
    "1. show the column index values\n",
    "\n",
    "                attrs = dict(scope=\"col\")\n",
    "                span = col_span[\"span\"].iloc[col_index, col_level] if SPAN else 1\n",
    "                if span:\n",
    "                    if span > 1:\n",
    "                        attrs.update(colspan=int(span))\n",
    "                    tr.append(th := soup.new_tag(\"th\", attrs=attrs))\n",
    "                    th.append(str(col_value))\n",
    "        if ROWS:\n",
    "1. insert the row names below the column names \n",
    "\n",
    "            table.append(tr := soup.new_tag(\"tr\"))\n",
    "            attrs = dict(scope=\"col\")\n",
    "            for row_level, row_name in enumerate(df.index.names):\n",
    "                tr.append(th := soup.new_tag(\"th\", attrs=attrs))\n",
    "                th.append(str(row_name) or F\"index {row_level}\")\n",
    "                \n",
    "            for col_value in df.columns.get_level_values(col_level):\n",
    "   followed by a blank row, a blank row is suboptimal for assistive technology.\n",
    "                \n",
    "                attrs = dict(scope=\"col\")\n",
    "                tr.append(td := soup.new_tag(\"td\"))\n",
    "    \n",
    "        for row_index in range(df.shape[0]):\n",
    "1. write the row index headers\n",
    "\n",
    "            table.append(tr := soup.new_tag(\"tr\"))\n",
    "            for row_level in range(df.index.nlevels):\n",
    "                span = row_span[\"span\"].iloc[row_index, row_level] if SPAN else 1\n",
    "                if span:\n",
    "                    attrs = dict(scope=\"row\")\n",
    "                    if span > 1:\n",
    "                        attrs.update(rowspan=int(span))\n",
    "                    tr.append(th := soup.new_tag(\"th\", attrs=attrs))\n",
    "                    th.append(str(df.index.get_level_values(row_level)[row_index]))\n",
    "    \n",
    "            for value in df.iloc[row_index].values:\n",
    "1. write the values of the dataframe\n",
    "                \n",
    "                tr.append(td := soup.new_tag(\"td\"))\n",
    "                td.append(str(value))\n",
    "        return soup"
   ]
  },
  {
   "cell_type": "code",
   "execution_count": 6,
   "id": "42b37be2-5f16-4949-957a-15ed42555956",
   "metadata": {},
   "outputs": [
    {
     "data": {
      "text/markdown": [
       "\n",
       "    def row_major(df, caption=None, SPAN=True):\n",
       "a `row_major` representation that presents the row index names first.\n",
       "    \n",
       "        soup = bs4.BeautifulSoup(features=\"lxml\")\n",
       "        soup.append(table := soup.new_tag(\"table\"))\n",
       "    \n",
       "        ROWS, COLS = any(df.index.names), any(df.columns.names)\n",
       "1. precompute the row and column index spans\n",
       "\n",
       "        row_span, col_span = index_span(df.index), index_span(df.columns)\n",
       "        \n",
       "        for col_level, col_name in enumerate(df.columns.names):\n",
       "            table.append(tr := soup.new_tag(\"tr\"))\n",
       "            if not col_level:\n",
       "1. write the index names on the first pass of the header rows.\n",
       "\n",
       "                if ROWS or not COLS:\n",
       "                    attrs = dict(scope=\"col\")\n",
       "                    if df.columns.nlevels > 1:\n",
       "                        attrs.update(rowspan=df.columns.nlevels) \n",
       "                    for row_level, row_name in enumerate(df.index.names):\n",
       "                        tr.append(th := soup.new_tag(\"th\", attrs=attrs))\n",
       "                        th.append(str(row_name) or F\"index {row_level}\")\n",
       "                \n",
       "            if COLS:\n",
       "1. include the column index names if they exist\n",
       "\n",
       "                attrs = dict(scope=\"row\")\n",
       "                if not ROWS and df.index.nlevels > 1:\n",
       "                    attrs.update(colspan=df.index.nlevels)\n",
       "                tr.append(th := soup.new_tag(\"th\", attrs=attrs))\n",
       "                th.append(str(col_name) or F\"level {col_level}\")\n",
       "    \n",
       "            for col_index, col_value in enumerate(df.columns.get_level_values(col_level)):\n",
       "1.  write the values for the column index\n",
       "                \n",
       "                attrs = dict(scope=\"col\")\n",
       "                span = col_span[\"span\"].iloc[col_index, col_level] if SPAN else 1\n",
       "                if span:\n",
       "                    attrs = dict(scope=\"col\")\n",
       "                    if span > 1:\n",
       "                        attrs.update(colspan=int(span))\n",
       "                    tr.append(th := soup.new_tag(\"th\", attrs=attrs))\n",
       "                    th.append(str(col_value))\n",
       "            \n",
       "    \n",
       "        for row_index in range(df.shape[0]):\n",
       "1.  write the index header values\n",
       "\n",
       "            table.append(tr := soup.new_tag(\"tr\"))\n",
       "            for row_level in range(df.index.nlevels):\n",
       "                span = row_span[\"span\"].iloc[row_index, row_level] if SPAN else 1\n",
       "                if span:\n",
       "                    attrs = dict(scope=\"row\")\n",
       "                    if span > 1:\n",
       "                        attrs.update(rowspan=int(span))\n",
       "                    tr.append(th := soup.new_tag(\"th\", attrs=attrs))\n",
       "                    th.append(str(df.index.get_level_values(row_level)[row_index]))\n",
       "    \n",
       "            if ROWS and COLS:\n",
       "1.  insert an empty column if we have column names\n",
       "\n",
       "                tr.append(td := soup.new_tag(\"td\"))\n",
       "    \n",
       "            for value in df.iloc[row_index].values:\n",
       "1.  write the data\n",
       "\n",
       "                tr.append(td := soup.new_tag(\"td\"))\n",
       "                td.append(str(value))\n",
       "        return soup\n"
      ],
      "text/plain": [
       "<IPython.core.display.Markdown object>"
      ]
     },
     "metadata": {},
     "output_type": "display_data"
    }
   ],
   "source": [
    "%%\n",
    "    def row_major(df, caption=None, SPAN=True):\n",
    "a `row_major` representation that presents the row index names first.\n",
    "    \n",
    "        soup = bs4.BeautifulSoup(features=\"lxml\")\n",
    "        soup.append(table := soup.new_tag(\"table\"))\n",
    "    \n",
    "        ROWS, COLS = any(df.index.names), any(df.columns.names)\n",
    "1. precompute the row and column index spans\n",
    "\n",
    "        row_span, col_span = index_span(df.index), index_span(df.columns)\n",
    "        \n",
    "        for col_level, col_name in enumerate(df.columns.names):\n",
    "            table.append(tr := soup.new_tag(\"tr\"))\n",
    "            if not col_level:\n",
    "1. write the index names on the first pass of the header rows.\n",
    "\n",
    "                if ROWS or not COLS:\n",
    "                    attrs = dict(scope=\"col\")\n",
    "                    if df.columns.nlevels > 1:\n",
    "                        attrs.update(rowspan=df.columns.nlevels) \n",
    "                    for row_level, row_name in enumerate(df.index.names):\n",
    "                        tr.append(th := soup.new_tag(\"th\", attrs=attrs))\n",
    "                        th.append(str(row_name) or F\"index {row_level}\")\n",
    "                \n",
    "            if COLS:\n",
    "1. include the column index names if they exist\n",
    "\n",
    "                attrs = dict(scope=\"row\")\n",
    "                if not ROWS and df.index.nlevels > 1:\n",
    "                    attrs.update(colspan=df.index.nlevels)\n",
    "                tr.append(th := soup.new_tag(\"th\", attrs=attrs))\n",
    "                th.append(str(col_name) or F\"level {col_level}\")\n",
    "    \n",
    "            for col_index, col_value in enumerate(df.columns.get_level_values(col_level)):\n",
    "1.  write the values for the column index\n",
    "                \n",
    "                attrs = dict(scope=\"col\")\n",
    "                span = col_span[\"span\"].iloc[col_index, col_level] if SPAN else 1\n",
    "                if span:\n",
    "                    attrs = dict(scope=\"col\")\n",
    "                    if span > 1:\n",
    "                        attrs.update(colspan=int(span))\n",
    "                    tr.append(th := soup.new_tag(\"th\", attrs=attrs))\n",
    "                    th.append(str(col_value))\n",
    "            \n",
    "    \n",
    "        for row_index in range(df.shape[0]):\n",
    "1.  write the index header values\n",
    "\n",
    "            table.append(tr := soup.new_tag(\"tr\"))\n",
    "            for row_level in range(df.index.nlevels):\n",
    "                span = row_span[\"span\"].iloc[row_index, row_level] if SPAN else 1\n",
    "                if span:\n",
    "                    attrs = dict(scope=\"row\")\n",
    "                    if span > 1:\n",
    "                        attrs.update(rowspan=int(span))\n",
    "                    tr.append(th := soup.new_tag(\"th\", attrs=attrs))\n",
    "                    th.append(str(df.index.get_level_values(row_level)[row_index]))\n",
    "    \n",
    "            if ROWS and COLS:\n",
    "1.  insert an empty column if we have column names\n",
    "\n",
    "                tr.append(td := soup.new_tag(\"td\"))\n",
    "    \n",
    "            for value in df.iloc[row_index].values:\n",
    "1.  write the data\n",
    "\n",
    "                tr.append(td := soup.new_tag(\"td\"))\n",
    "                td.append(str(value))\n",
    "        return soup"
   ]
  },
  {
   "cell_type": "code",
   "execution_count": 7,
   "id": "23729189-ee57-48d4-93f2-c925056a8f05",
   "metadata": {},
   "outputs": [
    {
     "data": {
      "text/markdown": [
       "\n",
       "replace the `bs4.BeautifulSoup` representation with an html representation\n",
       "\n",
       "    get_ipython().display_formatter.formatters[\"text/html\"].for_type(bs4.BeautifulSoup, str)\n"
      ],
      "text/plain": [
       "<IPython.core.display.Markdown object>"
      ]
     },
     "metadata": {},
     "output_type": "display_data"
    }
   ],
   "source": [
    "%%\n",
    "replace the `bs4.BeautifulSoup` representation with an html representation\n",
    "\n",
    "    get_ipython().display_formatter.formatters[\"text/html\"].for_type(bs4.BeautifulSoup, str)"
   ]
  },
  {
   "cell_type": "code",
   "execution_count": 8,
   "id": "4bf95a07-95e2-49cf-9656-921a7670dbb8",
   "metadata": {},
   "outputs": [
    {
     "data": {
      "text/html": [
       "<table><tr><th scope=\"col\">L</th><th scope=\"col\">1</th><th scope=\"col\">2</th><th scope=\"col\">3</th><th scope=\"col\">1</th><th scope=\"col\">2</th><th scope=\"col\">3</th><th scope=\"col\">1</th><th scope=\"col\">2</th><th scope=\"col\">3</th><th scope=\"col\">1</th><th scope=\"col\">2</th><th scope=\"col\">3</th><th scope=\"col\">1</th><th scope=\"col\">2</th><th scope=\"col\">3</th><th scope=\"col\">1</th><th scope=\"col\">2</th><th scope=\"col\">3</th></tr><tr><th scope=\"row\">1</th><td>nan</td><td>nan</td><td>nan</td><td>nan</td><td>nan</td><td>nan</td><td>nan</td><td>nan</td><td>nan</td><td>nan</td><td>nan</td><td>nan</td><td>nan</td><td>nan</td><td>nan</td><td>nan</td><td>nan</td><td>nan</td></tr><tr><th scope=\"row\">2</th><td>nan</td><td>nan</td><td>nan</td><td>nan</td><td>nan</td><td>nan</td><td>nan</td><td>nan</td><td>nan</td><td>nan</td><td>nan</td><td>nan</td><td>nan</td><td>nan</td><td>nan</td><td>nan</td><td>nan</td><td>nan</td></tr><tr><th scope=\"row\">3</th><td>nan</td><td>nan</td><td>nan</td><td>nan</td><td>nan</td><td>nan</td><td>nan</td><td>nan</td><td>nan</td><td>nan</td><td>nan</td><td>nan</td><td>nan</td><td>nan</td><td>nan</td><td>nan</td><td>nan</td><td>nan</td></tr><tr><th scope=\"row\">1</th><td>nan</td><td>nan</td><td>nan</td><td>nan</td><td>nan</td><td>nan</td><td>nan</td><td>nan</td><td>nan</td><td>nan</td><td>nan</td><td>nan</td><td>nan</td><td>nan</td><td>nan</td><td>nan</td><td>nan</td><td>nan</td></tr><tr><th scope=\"row\">2</th><td>nan</td><td>nan</td><td>nan</td><td>nan</td><td>nan</td><td>nan</td><td>nan</td><td>nan</td><td>nan</td><td>nan</td><td>nan</td><td>nan</td><td>nan</td><td>nan</td><td>nan</td><td>nan</td><td>nan</td><td>nan</td></tr></table>"
      ],
      "text/plain": [
       "<table><tr><th scope=\"col\">L</th><th scope=\"col\">1</th><th scope=\"col\">2</th><th scope=\"col\">3</th><th scope=\"col\">1</th><th scope=\"col\">2</th><th scope=\"col\">3</th><th scope=\"col\">1</th><th scope=\"col\">2</th><th scope=\"col\">3</th><th scope=\"col\">1</th><th scope=\"col\">2</th><th scope=\"col\">3</th><th scope=\"col\">1</th><th scope=\"col\">2</th><th scope=\"col\">3</th><th scope=\"col\">1</th><th scope=\"col\">2</th><th scope=\"col\">3</th></tr><tr><th scope=\"row\">1</th><td>nan</td><td>nan</td><td>nan</td><td>nan</td><td>nan</td><td>nan</td><td>nan</td><td>nan</td><td>nan</td><td>nan</td><td>nan</td><td>nan</td><td>nan</td><td>nan</td><td>nan</td><td>nan</td><td>nan</td><td>nan</td></tr><tr><th scope=\"row\">2</th><td>nan</td><td>nan</td><td>nan</td><td>nan</td><td>nan</td><td>nan</td><td>nan</td><td>nan</td><td>nan</td><td>nan</td><td>nan</td><td>nan</td><td>nan</td><td>nan</td><td>nan</td><td>nan</td><td>nan</td><td>nan</td></tr><tr><th scope=\"row\">3</th><td>nan</td><td>nan</td><td>nan</td><td>nan</td><td>nan</td><td>nan</td><td>nan</td><td>nan</td><td>nan</td><td>nan</td><td>nan</td><td>nan</td><td>nan</td><td>nan</td><td>nan</td><td>nan</td><td>nan</td><td>nan</td></tr><tr><th scope=\"row\">1</th><td>nan</td><td>nan</td><td>nan</td><td>nan</td><td>nan</td><td>nan</td><td>nan</td><td>nan</td><td>nan</td><td>nan</td><td>nan</td><td>nan</td><td>nan</td><td>nan</td><td>nan</td><td>nan</td><td>nan</td><td>nan</td></tr><tr><th scope=\"row\">2</th><td>nan</td><td>nan</td><td>nan</td><td>nan</td><td>nan</td><td>nan</td><td>nan</td><td>nan</td><td>nan</td><td>nan</td><td>nan</td><td>nan</td><td>nan</td><td>nan</td><td>nan</td><td>nan</td><td>nan</td><td>nan</td></tr></table>"
      ]
     },
     "execution_count": 8,
     "metadata": {},
     "output_type": "execute_result"
    }
   ],
   "source": [
    "    row_major(df.head().rename_axis((None, None, None), axis=1).droplevel((0, 1), axis=1).droplevel((0,1), axis=0),\n",
    "             \"a single index row major\")"
   ]
  },
  {
   "cell_type": "code",
   "execution_count": 9,
   "id": "92c88ae2-2250-49ad-9169-d0803da90e6c",
   "metadata": {},
   "outputs": [
    {
     "data": {
      "text/html": [
       "<table><tr><th rowspan=\"3\" scope=\"col\">J</th><th rowspan=\"3\" scope=\"col\">K</th><th rowspan=\"3\" scope=\"col\">L</th><th colspan=\"9\" scope=\"col\">A</th><th colspan=\"9\" scope=\"col\">Z</th></tr><tr><th colspan=\"3\" scope=\"col\">M</th><th colspan=\"3\" scope=\"col\">N</th><th colspan=\"3\" scope=\"col\">O</th><th colspan=\"3\" scope=\"col\">M</th><th colspan=\"3\" scope=\"col\">N</th><th colspan=\"3\" scope=\"col\">O</th></tr><tr><th scope=\"col\">1</th><th scope=\"col\">2</th><th scope=\"col\">3</th><th scope=\"col\">1</th><th scope=\"col\">2</th><th scope=\"col\">3</th><th scope=\"col\">1</th><th scope=\"col\">2</th><th scope=\"col\">3</th><th scope=\"col\">1</th><th scope=\"col\">2</th><th scope=\"col\">3</th><th scope=\"col\">1</th><th scope=\"col\">2</th><th scope=\"col\">3</th><th scope=\"col\">1</th><th scope=\"col\">2</th><th scope=\"col\">3</th></tr><tr><th rowspan=\"5\" scope=\"row\">A</th><th rowspan=\"3\" scope=\"row\">M</th><th scope=\"row\">1</th><td>nan</td><td>nan</td><td>nan</td><td>nan</td><td>nan</td><td>nan</td><td>nan</td><td>nan</td><td>nan</td><td>nan</td><td>nan</td><td>nan</td><td>nan</td><td>nan</td><td>nan</td><td>nan</td><td>nan</td><td>nan</td></tr><tr><th scope=\"row\">2</th><td>nan</td><td>nan</td><td>nan</td><td>nan</td><td>nan</td><td>nan</td><td>nan</td><td>nan</td><td>nan</td><td>nan</td><td>nan</td><td>nan</td><td>nan</td><td>nan</td><td>nan</td><td>nan</td><td>nan</td><td>nan</td></tr><tr><th scope=\"row\">3</th><td>nan</td><td>nan</td><td>nan</td><td>nan</td><td>nan</td><td>nan</td><td>nan</td><td>nan</td><td>nan</td><td>nan</td><td>nan</td><td>nan</td><td>nan</td><td>nan</td><td>nan</td><td>nan</td><td>nan</td><td>nan</td></tr><tr><th rowspan=\"2\" scope=\"row\">N</th><th scope=\"row\">1</th><td>nan</td><td>nan</td><td>nan</td><td>nan</td><td>nan</td><td>nan</td><td>nan</td><td>nan</td><td>nan</td><td>nan</td><td>nan</td><td>nan</td><td>nan</td><td>nan</td><td>nan</td><td>nan</td><td>nan</td><td>nan</td></tr><tr><th scope=\"row\">2</th><td>nan</td><td>nan</td><td>nan</td><td>nan</td><td>nan</td><td>nan</td><td>nan</td><td>nan</td><td>nan</td><td>nan</td><td>nan</td><td>nan</td><td>nan</td><td>nan</td><td>nan</td><td>nan</td><td>nan</td><td>nan</td></tr></table>"
      ],
      "text/plain": [
       "<table><tr><th rowspan=\"3\" scope=\"col\">J</th><th rowspan=\"3\" scope=\"col\">K</th><th rowspan=\"3\" scope=\"col\">L</th><th colspan=\"9\" scope=\"col\">A</th><th colspan=\"9\" scope=\"col\">Z</th></tr><tr><th colspan=\"3\" scope=\"col\">M</th><th colspan=\"3\" scope=\"col\">N</th><th colspan=\"3\" scope=\"col\">O</th><th colspan=\"3\" scope=\"col\">M</th><th colspan=\"3\" scope=\"col\">N</th><th colspan=\"3\" scope=\"col\">O</th></tr><tr><th scope=\"col\">1</th><th scope=\"col\">2</th><th scope=\"col\">3</th><th scope=\"col\">1</th><th scope=\"col\">2</th><th scope=\"col\">3</th><th scope=\"col\">1</th><th scope=\"col\">2</th><th scope=\"col\">3</th><th scope=\"col\">1</th><th scope=\"col\">2</th><th scope=\"col\">3</th><th scope=\"col\">1</th><th scope=\"col\">2</th><th scope=\"col\">3</th><th scope=\"col\">1</th><th scope=\"col\">2</th><th scope=\"col\">3</th></tr><tr><th rowspan=\"5\" scope=\"row\">A</th><th rowspan=\"3\" scope=\"row\">M</th><th scope=\"row\">1</th><td>nan</td><td>nan</td><td>nan</td><td>nan</td><td>nan</td><td>nan</td><td>nan</td><td>nan</td><td>nan</td><td>nan</td><td>nan</td><td>nan</td><td>nan</td><td>nan</td><td>nan</td><td>nan</td><td>nan</td><td>nan</td></tr><tr><th scope=\"row\">2</th><td>nan</td><td>nan</td><td>nan</td><td>nan</td><td>nan</td><td>nan</td><td>nan</td><td>nan</td><td>nan</td><td>nan</td><td>nan</td><td>nan</td><td>nan</td><td>nan</td><td>nan</td><td>nan</td><td>nan</td><td>nan</td></tr><tr><th scope=\"row\">3</th><td>nan</td><td>nan</td><td>nan</td><td>nan</td><td>nan</td><td>nan</td><td>nan</td><td>nan</td><td>nan</td><td>nan</td><td>nan</td><td>nan</td><td>nan</td><td>nan</td><td>nan</td><td>nan</td><td>nan</td><td>nan</td></tr><tr><th rowspan=\"2\" scope=\"row\">N</th><th scope=\"row\">1</th><td>nan</td><td>nan</td><td>nan</td><td>nan</td><td>nan</td><td>nan</td><td>nan</td><td>nan</td><td>nan</td><td>nan</td><td>nan</td><td>nan</td><td>nan</td><td>nan</td><td>nan</td><td>nan</td><td>nan</td><td>nan</td></tr><tr><th scope=\"row\">2</th><td>nan</td><td>nan</td><td>nan</td><td>nan</td><td>nan</td><td>nan</td><td>nan</td><td>nan</td><td>nan</td><td>nan</td><td>nan</td><td>nan</td><td>nan</td><td>nan</td><td>nan</td><td>nan</td><td>nan</td><td>nan</td></tr></table>"
      ]
     },
     "execution_count": 9,
     "metadata": {},
     "output_type": "execute_result"
    }
   ],
   "source": [
    "    row_major(df.head().rename_axis((None, None, None), axis=1), \"spanning multiple index row major\")"
   ]
  },
  {
   "cell_type": "code",
   "execution_count": 10,
   "id": "6815516f-1bad-4de9-8ebe-0fb5f4810aba",
   "metadata": {},
   "outputs": [
    {
     "data": {
      "text/html": [
       "<table><caption>spanning multiple index column major</caption><tr><th colspan=\"3\" scope=\"row\">10</th><th colspan=\"9\" scope=\"col\">A</th><th colspan=\"9\" scope=\"col\">Z</th></tr><tr><th colspan=\"3\" scope=\"row\">100</th><th colspan=\"3\" scope=\"col\">M</th><th colspan=\"3\" scope=\"col\">N</th><th colspan=\"3\" scope=\"col\">O</th><th colspan=\"3\" scope=\"col\">M</th><th colspan=\"3\" scope=\"col\">N</th><th colspan=\"3\" scope=\"col\">O</th></tr><tr><th colspan=\"3\" scope=\"row\">1000</th><th scope=\"col\">1</th><th scope=\"col\">2</th><th scope=\"col\">3</th><th scope=\"col\">1</th><th scope=\"col\">2</th><th scope=\"col\">3</th><th scope=\"col\">1</th><th scope=\"col\">2</th><th scope=\"col\">3</th><th scope=\"col\">1</th><th scope=\"col\">2</th><th scope=\"col\">3</th><th scope=\"col\">1</th><th scope=\"col\">2</th><th scope=\"col\">3</th><th scope=\"col\">1</th><th scope=\"col\">2</th><th scope=\"col\">3</th></tr><tr><th rowspan=\"5\" scope=\"row\">A</th><th rowspan=\"3\" scope=\"row\">M</th><th scope=\"row\">1</th><td>nan</td><td>nan</td><td>nan</td><td>nan</td><td>nan</td><td>nan</td><td>nan</td><td>nan</td><td>nan</td><td>nan</td><td>nan</td><td>nan</td><td>nan</td><td>nan</td><td>nan</td><td>nan</td><td>nan</td><td>nan</td></tr><tr><th scope=\"row\">2</th><td>nan</td><td>nan</td><td>nan</td><td>nan</td><td>nan</td><td>nan</td><td>nan</td><td>nan</td><td>nan</td><td>nan</td><td>nan</td><td>nan</td><td>nan</td><td>nan</td><td>nan</td><td>nan</td><td>nan</td><td>nan</td></tr><tr><th scope=\"row\">3</th><td>nan</td><td>nan</td><td>nan</td><td>nan</td><td>nan</td><td>nan</td><td>nan</td><td>nan</td><td>nan</td><td>nan</td><td>nan</td><td>nan</td><td>nan</td><td>nan</td><td>nan</td><td>nan</td><td>nan</td><td>nan</td></tr><tr><th rowspan=\"2\" scope=\"row\">N</th><th scope=\"row\">1</th><td>nan</td><td>nan</td><td>nan</td><td>nan</td><td>nan</td><td>nan</td><td>nan</td><td>nan</td><td>nan</td><td>nan</td><td>nan</td><td>nan</td><td>nan</td><td>nan</td><td>nan</td><td>nan</td><td>nan</td><td>nan</td></tr><tr><th scope=\"row\">2</th><td>nan</td><td>nan</td><td>nan</td><td>nan</td><td>nan</td><td>nan</td><td>nan</td><td>nan</td><td>nan</td><td>nan</td><td>nan</td><td>nan</td><td>nan</td><td>nan</td><td>nan</td><td>nan</td><td>nan</td><td>nan</td></tr></table>"
      ],
      "text/plain": [
       "<table><caption>spanning multiple index column major</caption><tr><th colspan=\"3\" scope=\"row\">10</th><th colspan=\"9\" scope=\"col\">A</th><th colspan=\"9\" scope=\"col\">Z</th></tr><tr><th colspan=\"3\" scope=\"row\">100</th><th colspan=\"3\" scope=\"col\">M</th><th colspan=\"3\" scope=\"col\">N</th><th colspan=\"3\" scope=\"col\">O</th><th colspan=\"3\" scope=\"col\">M</th><th colspan=\"3\" scope=\"col\">N</th><th colspan=\"3\" scope=\"col\">O</th></tr><tr><th colspan=\"3\" scope=\"row\">1000</th><th scope=\"col\">1</th><th scope=\"col\">2</th><th scope=\"col\">3</th><th scope=\"col\">1</th><th scope=\"col\">2</th><th scope=\"col\">3</th><th scope=\"col\">1</th><th scope=\"col\">2</th><th scope=\"col\">3</th><th scope=\"col\">1</th><th scope=\"col\">2</th><th scope=\"col\">3</th><th scope=\"col\">1</th><th scope=\"col\">2</th><th scope=\"col\">3</th><th scope=\"col\">1</th><th scope=\"col\">2</th><th scope=\"col\">3</th></tr><tr><th rowspan=\"5\" scope=\"row\">A</th><th rowspan=\"3\" scope=\"row\">M</th><th scope=\"row\">1</th><td>nan</td><td>nan</td><td>nan</td><td>nan</td><td>nan</td><td>nan</td><td>nan</td><td>nan</td><td>nan</td><td>nan</td><td>nan</td><td>nan</td><td>nan</td><td>nan</td><td>nan</td><td>nan</td><td>nan</td><td>nan</td></tr><tr><th scope=\"row\">2</th><td>nan</td><td>nan</td><td>nan</td><td>nan</td><td>nan</td><td>nan</td><td>nan</td><td>nan</td><td>nan</td><td>nan</td><td>nan</td><td>nan</td><td>nan</td><td>nan</td><td>nan</td><td>nan</td><td>nan</td><td>nan</td></tr><tr><th scope=\"row\">3</th><td>nan</td><td>nan</td><td>nan</td><td>nan</td><td>nan</td><td>nan</td><td>nan</td><td>nan</td><td>nan</td><td>nan</td><td>nan</td><td>nan</td><td>nan</td><td>nan</td><td>nan</td><td>nan</td><td>nan</td><td>nan</td></tr><tr><th rowspan=\"2\" scope=\"row\">N</th><th scope=\"row\">1</th><td>nan</td><td>nan</td><td>nan</td><td>nan</td><td>nan</td><td>nan</td><td>nan</td><td>nan</td><td>nan</td><td>nan</td><td>nan</td><td>nan</td><td>nan</td><td>nan</td><td>nan</td><td>nan</td><td>nan</td><td>nan</td></tr><tr><th scope=\"row\">2</th><td>nan</td><td>nan</td><td>nan</td><td>nan</td><td>nan</td><td>nan</td><td>nan</td><td>nan</td><td>nan</td><td>nan</td><td>nan</td><td>nan</td><td>nan</td><td>nan</td><td>nan</td><td>nan</td><td>nan</td><td>nan</td></tr></table>"
      ]
     },
     "execution_count": 10,
     "metadata": {},
     "output_type": "execute_result"
    }
   ],
   "source": [
    "    column_major(df.head().rename_axis((None, None, None), axis=0), \"spanning multiple index column major\")"
   ]
  },
  {
   "cell_type": "code",
   "execution_count": 11,
   "id": "b15f956f-1ac7-4913-938e-e6ffd75ebcfe",
   "metadata": {},
   "outputs": [
    {
     "data": {
      "text/html": [
       "<table><tr><th rowspan=\"3\" scope=\"col\">J</th><th rowspan=\"3\" scope=\"col\">K</th><th rowspan=\"3\" scope=\"col\">L</th><th scope=\"row\">10</th><th scope=\"col\">A</th><th scope=\"col\">A</th><th scope=\"col\">A</th><th scope=\"col\">A</th><th scope=\"col\">A</th><th scope=\"col\">A</th><th scope=\"col\">A</th><th scope=\"col\">A</th><th scope=\"col\">A</th><th scope=\"col\">Z</th><th scope=\"col\">Z</th><th scope=\"col\">Z</th><th scope=\"col\">Z</th><th scope=\"col\">Z</th><th scope=\"col\">Z</th><th scope=\"col\">Z</th><th scope=\"col\">Z</th><th scope=\"col\">Z</th></tr><tr><th scope=\"row\">100</th><th scope=\"col\">M</th><th scope=\"col\">M</th><th scope=\"col\">M</th><th scope=\"col\">N</th><th scope=\"col\">N</th><th scope=\"col\">N</th><th scope=\"col\">O</th><th scope=\"col\">O</th><th scope=\"col\">O</th><th scope=\"col\">M</th><th scope=\"col\">M</th><th scope=\"col\">M</th><th scope=\"col\">N</th><th scope=\"col\">N</th><th scope=\"col\">N</th><th scope=\"col\">O</th><th scope=\"col\">O</th><th scope=\"col\">O</th></tr><tr><th scope=\"row\">1000</th><th scope=\"col\">1</th><th scope=\"col\">2</th><th scope=\"col\">3</th><th scope=\"col\">1</th><th scope=\"col\">2</th><th scope=\"col\">3</th><th scope=\"col\">1</th><th scope=\"col\">2</th><th scope=\"col\">3</th><th scope=\"col\">1</th><th scope=\"col\">2</th><th scope=\"col\">3</th><th scope=\"col\">1</th><th scope=\"col\">2</th><th scope=\"col\">3</th><th scope=\"col\">1</th><th scope=\"col\">2</th><th scope=\"col\">3</th></tr><tr><th scope=\"row\">A</th><th scope=\"row\">M</th><th scope=\"row\">1</th><td></td><td>nan</td><td>nan</td><td>nan</td><td>nan</td><td>nan</td><td>nan</td><td>nan</td><td>nan</td><td>nan</td><td>nan</td><td>nan</td><td>nan</td><td>nan</td><td>nan</td><td>nan</td><td>nan</td><td>nan</td><td>nan</td></tr><tr><th scope=\"row\">A</th><th scope=\"row\">M</th><th scope=\"row\">2</th><td></td><td>nan</td><td>nan</td><td>nan</td><td>nan</td><td>nan</td><td>nan</td><td>nan</td><td>nan</td><td>nan</td><td>nan</td><td>nan</td><td>nan</td><td>nan</td><td>nan</td><td>nan</td><td>nan</td><td>nan</td><td>nan</td></tr><tr><th scope=\"row\">A</th><th scope=\"row\">M</th><th scope=\"row\">3</th><td></td><td>nan</td><td>nan</td><td>nan</td><td>nan</td><td>nan</td><td>nan</td><td>nan</td><td>nan</td><td>nan</td><td>nan</td><td>nan</td><td>nan</td><td>nan</td><td>nan</td><td>nan</td><td>nan</td><td>nan</td><td>nan</td></tr><tr><th scope=\"row\">A</th><th scope=\"row\">N</th><th scope=\"row\">1</th><td></td><td>nan</td><td>nan</td><td>nan</td><td>nan</td><td>nan</td><td>nan</td><td>nan</td><td>nan</td><td>nan</td><td>nan</td><td>nan</td><td>nan</td><td>nan</td><td>nan</td><td>nan</td><td>nan</td><td>nan</td><td>nan</td></tr><tr><th scope=\"row\">A</th><th scope=\"row\">N</th><th scope=\"row\">2</th><td></td><td>nan</td><td>nan</td><td>nan</td><td>nan</td><td>nan</td><td>nan</td><td>nan</td><td>nan</td><td>nan</td><td>nan</td><td>nan</td><td>nan</td><td>nan</td><td>nan</td><td>nan</td><td>nan</td><td>nan</td><td>nan</td></tr></table>"
      ],
      "text/plain": [
       "<table><tr><th rowspan=\"3\" scope=\"col\">J</th><th rowspan=\"3\" scope=\"col\">K</th><th rowspan=\"3\" scope=\"col\">L</th><th scope=\"row\">10</th><th scope=\"col\">A</th><th scope=\"col\">A</th><th scope=\"col\">A</th><th scope=\"col\">A</th><th scope=\"col\">A</th><th scope=\"col\">A</th><th scope=\"col\">A</th><th scope=\"col\">A</th><th scope=\"col\">A</th><th scope=\"col\">Z</th><th scope=\"col\">Z</th><th scope=\"col\">Z</th><th scope=\"col\">Z</th><th scope=\"col\">Z</th><th scope=\"col\">Z</th><th scope=\"col\">Z</th><th scope=\"col\">Z</th><th scope=\"col\">Z</th></tr><tr><th scope=\"row\">100</th><th scope=\"col\">M</th><th scope=\"col\">M</th><th scope=\"col\">M</th><th scope=\"col\">N</th><th scope=\"col\">N</th><th scope=\"col\">N</th><th scope=\"col\">O</th><th scope=\"col\">O</th><th scope=\"col\">O</th><th scope=\"col\">M</th><th scope=\"col\">M</th><th scope=\"col\">M</th><th scope=\"col\">N</th><th scope=\"col\">N</th><th scope=\"col\">N</th><th scope=\"col\">O</th><th scope=\"col\">O</th><th scope=\"col\">O</th></tr><tr><th scope=\"row\">1000</th><th scope=\"col\">1</th><th scope=\"col\">2</th><th scope=\"col\">3</th><th scope=\"col\">1</th><th scope=\"col\">2</th><th scope=\"col\">3</th><th scope=\"col\">1</th><th scope=\"col\">2</th><th scope=\"col\">3</th><th scope=\"col\">1</th><th scope=\"col\">2</th><th scope=\"col\">3</th><th scope=\"col\">1</th><th scope=\"col\">2</th><th scope=\"col\">3</th><th scope=\"col\">1</th><th scope=\"col\">2</th><th scope=\"col\">3</th></tr><tr><th scope=\"row\">A</th><th scope=\"row\">M</th><th scope=\"row\">1</th><td></td><td>nan</td><td>nan</td><td>nan</td><td>nan</td><td>nan</td><td>nan</td><td>nan</td><td>nan</td><td>nan</td><td>nan</td><td>nan</td><td>nan</td><td>nan</td><td>nan</td><td>nan</td><td>nan</td><td>nan</td><td>nan</td></tr><tr><th scope=\"row\">A</th><th scope=\"row\">M</th><th scope=\"row\">2</th><td></td><td>nan</td><td>nan</td><td>nan</td><td>nan</td><td>nan</td><td>nan</td><td>nan</td><td>nan</td><td>nan</td><td>nan</td><td>nan</td><td>nan</td><td>nan</td><td>nan</td><td>nan</td><td>nan</td><td>nan</td><td>nan</td></tr><tr><th scope=\"row\">A</th><th scope=\"row\">M</th><th scope=\"row\">3</th><td></td><td>nan</td><td>nan</td><td>nan</td><td>nan</td><td>nan</td><td>nan</td><td>nan</td><td>nan</td><td>nan</td><td>nan</td><td>nan</td><td>nan</td><td>nan</td><td>nan</td><td>nan</td><td>nan</td><td>nan</td><td>nan</td></tr><tr><th scope=\"row\">A</th><th scope=\"row\">N</th><th scope=\"row\">1</th><td></td><td>nan</td><td>nan</td><td>nan</td><td>nan</td><td>nan</td><td>nan</td><td>nan</td><td>nan</td><td>nan</td><td>nan</td><td>nan</td><td>nan</td><td>nan</td><td>nan</td><td>nan</td><td>nan</td><td>nan</td><td>nan</td></tr><tr><th scope=\"row\">A</th><th scope=\"row\">N</th><th scope=\"row\">2</th><td></td><td>nan</td><td>nan</td><td>nan</td><td>nan</td><td>nan</td><td>nan</td><td>nan</td><td>nan</td><td>nan</td><td>nan</td><td>nan</td><td>nan</td><td>nan</td><td>nan</td><td>nan</td><td>nan</td><td>nan</td><td>nan</td></tr></table>"
      ]
     },
     "execution_count": 11,
     "metadata": {},
     "output_type": "execute_result"
    }
   ],
   "source": [
    "    row_major(df.head(), \"non-spanning multiple indexes row major\", False)"
   ]
  },
  {
   "cell_type": "code",
   "execution_count": 12,
   "id": "d4eec4f9-01c8-47f7-9b9c-bf2906c39ef8",
   "metadata": {},
   "outputs": [
    {
     "data": {
      "text/html": [
       "<table><caption>non-spanning multiple index column major</caption><tr><th colspan=\"3\" scope=\"row\">10</th><th scope=\"col\">A</th><th scope=\"col\">A</th><th scope=\"col\">A</th><th scope=\"col\">A</th><th scope=\"col\">A</th><th scope=\"col\">A</th><th scope=\"col\">A</th><th scope=\"col\">A</th><th scope=\"col\">A</th><th scope=\"col\">Z</th><th scope=\"col\">Z</th><th scope=\"col\">Z</th><th scope=\"col\">Z</th><th scope=\"col\">Z</th><th scope=\"col\">Z</th><th scope=\"col\">Z</th><th scope=\"col\">Z</th><th scope=\"col\">Z</th></tr><tr><th colspan=\"3\" scope=\"row\">100</th><th scope=\"col\">M</th><th scope=\"col\">M</th><th scope=\"col\">M</th><th scope=\"col\">N</th><th scope=\"col\">N</th><th scope=\"col\">N</th><th scope=\"col\">O</th><th scope=\"col\">O</th><th scope=\"col\">O</th><th scope=\"col\">M</th><th scope=\"col\">M</th><th scope=\"col\">M</th><th scope=\"col\">N</th><th scope=\"col\">N</th><th scope=\"col\">N</th><th scope=\"col\">O</th><th scope=\"col\">O</th><th scope=\"col\">O</th></tr><tr><th colspan=\"3\" scope=\"row\">1000</th><th scope=\"col\">1</th><th scope=\"col\">2</th><th scope=\"col\">3</th><th scope=\"col\">1</th><th scope=\"col\">2</th><th scope=\"col\">3</th><th scope=\"col\">1</th><th scope=\"col\">2</th><th scope=\"col\">3</th><th scope=\"col\">1</th><th scope=\"col\">2</th><th scope=\"col\">3</th><th scope=\"col\">1</th><th scope=\"col\">2</th><th scope=\"col\">3</th><th scope=\"col\">1</th><th scope=\"col\">2</th><th scope=\"col\">3</th></tr><tr><th scope=\"col\">J</th><th scope=\"col\">K</th><th scope=\"col\">L</th><td></td><td></td><td></td><td></td><td></td><td></td><td></td><td></td><td></td><td></td><td></td><td></td><td></td><td></td><td></td><td></td><td></td><td></td></tr><tr><th scope=\"row\">A</th><th scope=\"row\">M</th><th scope=\"row\">1</th><td>nan</td><td>nan</td><td>nan</td><td>nan</td><td>nan</td><td>nan</td><td>nan</td><td>nan</td><td>nan</td><td>nan</td><td>nan</td><td>nan</td><td>nan</td><td>nan</td><td>nan</td><td>nan</td><td>nan</td><td>nan</td></tr><tr><th scope=\"row\">A</th><th scope=\"row\">M</th><th scope=\"row\">2</th><td>nan</td><td>nan</td><td>nan</td><td>nan</td><td>nan</td><td>nan</td><td>nan</td><td>nan</td><td>nan</td><td>nan</td><td>nan</td><td>nan</td><td>nan</td><td>nan</td><td>nan</td><td>nan</td><td>nan</td><td>nan</td></tr><tr><th scope=\"row\">A</th><th scope=\"row\">M</th><th scope=\"row\">3</th><td>nan</td><td>nan</td><td>nan</td><td>nan</td><td>nan</td><td>nan</td><td>nan</td><td>nan</td><td>nan</td><td>nan</td><td>nan</td><td>nan</td><td>nan</td><td>nan</td><td>nan</td><td>nan</td><td>nan</td><td>nan</td></tr><tr><th scope=\"row\">A</th><th scope=\"row\">N</th><th scope=\"row\">1</th><td>nan</td><td>nan</td><td>nan</td><td>nan</td><td>nan</td><td>nan</td><td>nan</td><td>nan</td><td>nan</td><td>nan</td><td>nan</td><td>nan</td><td>nan</td><td>nan</td><td>nan</td><td>nan</td><td>nan</td><td>nan</td></tr><tr><th scope=\"row\">A</th><th scope=\"row\">N</th><th scope=\"row\">2</th><td>nan</td><td>nan</td><td>nan</td><td>nan</td><td>nan</td><td>nan</td><td>nan</td><td>nan</td><td>nan</td><td>nan</td><td>nan</td><td>nan</td><td>nan</td><td>nan</td><td>nan</td><td>nan</td><td>nan</td><td>nan</td></tr></table>"
      ],
      "text/plain": [
       "<table><caption>non-spanning multiple index column major</caption><tr><th colspan=\"3\" scope=\"row\">10</th><th scope=\"col\">A</th><th scope=\"col\">A</th><th scope=\"col\">A</th><th scope=\"col\">A</th><th scope=\"col\">A</th><th scope=\"col\">A</th><th scope=\"col\">A</th><th scope=\"col\">A</th><th scope=\"col\">A</th><th scope=\"col\">Z</th><th scope=\"col\">Z</th><th scope=\"col\">Z</th><th scope=\"col\">Z</th><th scope=\"col\">Z</th><th scope=\"col\">Z</th><th scope=\"col\">Z</th><th scope=\"col\">Z</th><th scope=\"col\">Z</th></tr><tr><th colspan=\"3\" scope=\"row\">100</th><th scope=\"col\">M</th><th scope=\"col\">M</th><th scope=\"col\">M</th><th scope=\"col\">N</th><th scope=\"col\">N</th><th scope=\"col\">N</th><th scope=\"col\">O</th><th scope=\"col\">O</th><th scope=\"col\">O</th><th scope=\"col\">M</th><th scope=\"col\">M</th><th scope=\"col\">M</th><th scope=\"col\">N</th><th scope=\"col\">N</th><th scope=\"col\">N</th><th scope=\"col\">O</th><th scope=\"col\">O</th><th scope=\"col\">O</th></tr><tr><th colspan=\"3\" scope=\"row\">1000</th><th scope=\"col\">1</th><th scope=\"col\">2</th><th scope=\"col\">3</th><th scope=\"col\">1</th><th scope=\"col\">2</th><th scope=\"col\">3</th><th scope=\"col\">1</th><th scope=\"col\">2</th><th scope=\"col\">3</th><th scope=\"col\">1</th><th scope=\"col\">2</th><th scope=\"col\">3</th><th scope=\"col\">1</th><th scope=\"col\">2</th><th scope=\"col\">3</th><th scope=\"col\">1</th><th scope=\"col\">2</th><th scope=\"col\">3</th></tr><tr><th scope=\"col\">J</th><th scope=\"col\">K</th><th scope=\"col\">L</th><td></td><td></td><td></td><td></td><td></td><td></td><td></td><td></td><td></td><td></td><td></td><td></td><td></td><td></td><td></td><td></td><td></td><td></td></tr><tr><th scope=\"row\">A</th><th scope=\"row\">M</th><th scope=\"row\">1</th><td>nan</td><td>nan</td><td>nan</td><td>nan</td><td>nan</td><td>nan</td><td>nan</td><td>nan</td><td>nan</td><td>nan</td><td>nan</td><td>nan</td><td>nan</td><td>nan</td><td>nan</td><td>nan</td><td>nan</td><td>nan</td></tr><tr><th scope=\"row\">A</th><th scope=\"row\">M</th><th scope=\"row\">2</th><td>nan</td><td>nan</td><td>nan</td><td>nan</td><td>nan</td><td>nan</td><td>nan</td><td>nan</td><td>nan</td><td>nan</td><td>nan</td><td>nan</td><td>nan</td><td>nan</td><td>nan</td><td>nan</td><td>nan</td><td>nan</td></tr><tr><th scope=\"row\">A</th><th scope=\"row\">M</th><th scope=\"row\">3</th><td>nan</td><td>nan</td><td>nan</td><td>nan</td><td>nan</td><td>nan</td><td>nan</td><td>nan</td><td>nan</td><td>nan</td><td>nan</td><td>nan</td><td>nan</td><td>nan</td><td>nan</td><td>nan</td><td>nan</td><td>nan</td></tr><tr><th scope=\"row\">A</th><th scope=\"row\">N</th><th scope=\"row\">1</th><td>nan</td><td>nan</td><td>nan</td><td>nan</td><td>nan</td><td>nan</td><td>nan</td><td>nan</td><td>nan</td><td>nan</td><td>nan</td><td>nan</td><td>nan</td><td>nan</td><td>nan</td><td>nan</td><td>nan</td><td>nan</td></tr><tr><th scope=\"row\">A</th><th scope=\"row\">N</th><th scope=\"row\">2</th><td>nan</td><td>nan</td><td>nan</td><td>nan</td><td>nan</td><td>nan</td><td>nan</td><td>nan</td><td>nan</td><td>nan</td><td>nan</td><td>nan</td><td>nan</td><td>nan</td><td>nan</td><td>nan</td><td>nan</td><td>nan</td></tr></table>"
      ]
     },
     "execution_count": 12,
     "metadata": {},
     "output_type": "execute_result"
    }
   ],
   "source": [
    "    column_major(df.head(), \"non-spanning multiple index column major\", False)"
   ]
  }
 ],
 "metadata": {
  "kernelspec": {
   "display_name": "Python 3 (ipykernel)",
   "language": "python",
   "name": "python3"
  },
  "language_info": {
   "codemirror_mode": {
    "name": "ipython",
    "version": 3
   },
   "file_extension": ".py",
   "mimetype": "text/x-python",
   "name": "python",
   "nbconvert_exporter": "python",
   "pygments_lexer": "ipython3",
   "version": "3.11.3"
  },
  "widgets": {
   "application/vnd.jupyter.widget-state+json": {
    "state": {},
    "version_major": 2,
    "version_minor": 0
   }
  }
 },
 "nbformat": 4,
 "nbformat_minor": 5
}
