{
 "cells": [
  {
   "cell_type": "markdown",
   "id": "879927fa-3744-401a-a7d8-435f2cb6dc6f",
   "metadata": {},
   "source": [
    "# controlling accessibility with css using `::before` `::after` selectors"
   ]
  },
  {
   "cell_type": "markdown",
   "id": "6c6f8df9-1cd8-4639-9244-5a223785fc4c",
   "metadata": {},
   "source": [
    "rough draft of this owrk. there has been some recent movement that needs to be aggregated."
   ]
  },
  {
   "cell_type": "markdown",
   "id": "dfca596a-6831-4f32-803d-20c9d42be83d",
   "metadata": {},
   "source": [
    "can i control what an anchor link says with `::before` `::after`?"
   ]
  },
  {
   "cell_type": "markdown",
   "id": "59fed423-6fa2-4b11-bec2-f7d1311321da",
   "metadata": {},
   "source": [
    "it seems the guidance for not using before/after is gone"
   ]
  },
  {
   "cell_type": "markdown",
   "id": "2bd80dd5-d253-4295-8a20-35510f98c195",
   "metadata": {},
   "source": [
    "https://www.w3.org/TR/WCAG-TECHS/css.html"
   ]
  },
  {
   "cell_type": "code",
   "execution_count": 1,
   "id": "a7b37643-7bea-4337-a3b2-052acbf284e1",
   "metadata": {},
   "outputs": [
    {
     "data": {
      "text/html": [
       "<form name=toggle>\n",
       "    <label>\n",
       "        before\n",
       "        <input type=checkbox name=before>\n",
       "    </label>\n",
       "    <label>\n",
       "        after\n",
       "        <input type=checkbox name=after>\n",
       "    </label>\n",
       "    <label>\n",
       "        show all\n",
       "        <input type=checkbox name=show>\n",
       "    </label>\n",
       "</form>\n",
       "<a class=\"nva nvb\" id=link-bf href=\"#\">contents</a>\n",
       "<script>\n",
       "var a = document.getElementById(\"link-bf\");\n",
       "document.forms.toggle.before.onchange = (element) => { a.classList.toggle(\"before\", element.target.checked)};\n",
       "document.forms.toggle.after.onchange = (element) => { a.classList.toggle(\"after\", element.target.checked)};\n",
       "document.forms.toggle.show.onchange = (element) => { document.body.classList.toggle(\"show-decorative\", element.target.checked)};\n",
       "</script>\n"
      ],
      "text/plain": [
       "<IPython.core.display.HTML object>"
      ]
     },
     "metadata": {},
     "output_type": "display_data"
    }
   ],
   "source": [
    "%%html\n",
    "<form name=toggle>\n",
    "    <label>\n",
    "        before\n",
    "        <input type=checkbox name=before>\n",
    "    </label>\n",
    "    <label>\n",
    "        after\n",
    "        <input type=checkbox name=after>\n",
    "    </label>\n",
    "    <label>\n",
    "        show all\n",
    "        <input type=checkbox name=show>\n",
    "    </label>\n",
    "</form>\n",
    "<a class=\"nva nvb\" id=link-bf href=\"#\">contents</a>\n",
    "<script>\n",
    "var a = document.getElementById(\"link-bf\");\n",
    "document.forms.toggle.before.onchange = (element) => { a.classList.toggle(\"before\", element.target.checked)};\n",
    "document.forms.toggle.after.onchange = (element) => { a.classList.toggle(\"after\", element.target.checked)};\n",
    "document.forms.toggle.show.onchange = (element) => { document.body.classList.toggle(\"show-decorative\", element.target.checked)};\n",
    "</script>"
   ]
  },
  {
   "cell_type": "markdown",
   "id": "e11f6aa0-99d5-4759-8d64-21407c94081b",
   "metadata": {},
   "source": [
    "how to make the before and after elements non visual elements. \n",
    "create class selectors `nvb` and `nva` - short for nonvisual before and nonvisual after"
   ]
  },
  {
   "cell_type": "markdown",
   "id": "dad837df-fc57-41c2-a9b7-c711c8afa083",
   "metadata": {},
   "source": [
    "i think there might be a case for having all decorative css pseudo elements displayed. `.show-all`. is an escape hatch for this to work"
   ]
  },
  {
   "cell_type": "markdown",
   "id": "6c935c2e-ab6a-4642-ab6f-4eb7580926ab",
   "metadata": {},
   "source": [
    "%%\n",
    "```css\n",
    "a#link-bf {\n",
    "    &.before::before {content: \"skip to \"}\n",
    "    &.after::after {content: \" or not\"}\n",
    "}\n",
    ":not(.show-decorative){\n",
    "    .nv, .non-visual, \n",
    "    .nva::after, .nvb::before {\n",
    "        clip-path: inset(50%);\n",
    "        height: 1px;\n",
    "        overflow: hidden;\n",
    "        position: absolute;\n",
    "        white-space: nowrap;\n",
    "        width: 1px;\n",
    "    }\n",
    "}\n",
    "```"
   ]
  },
  {
   "cell_type": "markdown",
   "id": "a4672018-0be0-40b0-a69c-81ccc4a9c193",
   "metadata": {},
   "source": [
    "https://adrianroselli.com/2019/02/f87-css-generated-content-and-wcag-conformance.html"
   ]
  },
  {
   "cell_type": "markdown",
   "id": "9e525288-18f9-44e5-b303-8f11069b9787",
   "metadata": {},
   "source": [
    "https://developer.paciellogroup.com/blog/2017/12/short-note-on-making-your-mark-more-accessible/"
   ]
  },
  {
   "cell_type": "markdown",
   "id": "1bd5d3fa-11c9-4a09-8ee2-2b271e5f42e2",
   "metadata": {},
   "source": []
  }
 ],
 "metadata": {
  "kernelspec": {
   "display_name": "a11yhood-research",
   "language": "python",
   "name": "a11yhood-research"
  },
  "language_info": {
   "codemirror_mode": {
    "name": "ipython",
    "version": 3
   },
   "file_extension": ".py",
   "mimetype": "text/x-python",
   "name": "python",
   "nbconvert_exporter": "python",
   "pygments_lexer": "ipython3",
   "version": "3.13.3"
  }
 },
 "nbformat": 4,
 "nbformat_minor": 5
}
