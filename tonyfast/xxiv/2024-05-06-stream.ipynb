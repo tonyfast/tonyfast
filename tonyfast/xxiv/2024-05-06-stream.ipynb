{
 "cells": [
  {
   "cell_type": "markdown",
   "id": "784d82f8-acba-4ef8-aef7-2350eeaab063",
   "metadata": {},
   "source": [
    "# listening to sounds of data visualizations\n",
    "\n",
    "in this stream i connect concepts in accessible web development to tidy dataframes.\n",
    "we explore different tactile and audible aspects of data to understand the unifying concept of the `table` domain. together we listen to and experience different data represented with audio dimensions."
   ]
  },
  {
   "cell_type": "code",
   "execution_count": 55,
   "id": "aaf77b85-e659-40de-9114-a5ae288338e9",
   "metadata": {},
   "outputs": [
    {
     "data": {
      "text/html": [
       "<iframe width=\"1058\" height=\"758\" src=\"https://www.youtube.com/embed/MJFAyGLzjkY\" title=\"the visual, audible, and tactile parts aspects of data\" frameborder=\"0\" allow=\"accelerometer; autoplay; clipboard-write; encrypted-media; gyroscope; picture-in-picture; web-share\" referrerpolicy=\"strict-origin-when-cross-origin\" allowfullscreen></iframe>\n"
      ],
      "text/plain": [
       "<IPython.core.display.HTML object>"
      ]
     },
     "metadata": {},
     "output_type": "display_data"
    }
   ],
   "source": [
    "%%html\n",
    "<iframe width=\"1058\" height=\"758\" src=\"https://www.youtube.com/embed/MJFAyGLzjkY\" title=\"the visual, audible, and tactile parts aspects of data\" frameborder=\"0\" allow=\"accelerometer; autoplay; clipboard-write; encrypted-media; gyroscope; picture-in-picture; web-share\" referrerpolicy=\"strict-origin-when-cross-origin\" allowfullscreen></iframe>"
   ]
  },
  {
   "cell_type": "markdown",
   "id": "e34f1995-9fa9-43cb-be43-c4d233aa6a50",
   "metadata": {},
   "source": [
    "## links shared during the stream"
   ]
  },
  {
   "attachments": {},
   "cell_type": "markdown",
   "id": "bfaaf4f5-3a08-4978-a95d-480d39c99a2a",
   "metadata": {},
   "source": [
    "* [table figures](https://tonyfast.github.io/tonyfast/draft/tonyfast/tonyfast/tonyfast/xxiv/2024-04-08-table-plots.html)\n",
    "* [NASA hubble sonifications](https://science.nasa.gov/mission/hubble/multimedia/sonifications/)\n",
    "* [Apollo 11 Lunar Landing Visualization](https://vimeo.com/28199826)\n",
    "* [powers of ten](https://www.youtube.com/watch?v=0fKBhvDjuy0)\n",
    "* [life and death of data](http://www.lifeanddeathofdata.org/)\n",
    "* [high charts sonification](https://www.highcharts.com/demo/highcharts/sonification-navigation)\n",
    "* [chartability](https://github.com/Chartability/POUR-CAF)\n",
    "* [highcharts from html tables](https://www.highcharts.com/blog/tutorials/visualize-data-from-html-tables/)\n",
    "* [tidy data](https://vita.had.co.nz/papers/tidy-data.pdf)\n",
    "* [dataframe apis](https://github.com/data-apis/dataframe-api)"
   ]
  },
  {
   "cell_type": "markdown",
   "id": "e806d3af-6121-49cc-9d00-e3c2f68eaaaf",
   "metadata": {},
   "source": [
    "## a sine wave sonification with high charts"
   ]
  },
  {
   "cell_type": "code",
   "execution_count": 58,
   "id": "41d5c61e-869b-4af0-a2ca-1fb460d0b0fa",
   "metadata": {},
   "outputs": [
    {
     "data": {
      "text/html": [
       "<script src=\"https://code.highcharts.com/highcharts.js\"></script>\n",
       "<script src=\"https://code.highcharts.com/modules/sonification.js\"></script>\n",
       "<script src=\"https://code.highcharts.com/modules/accessibility.js\"></script>\n",
       "<style>.highcharts-figure {\n",
       "    max-width: 550px;\n",
       "    min-width: 360px;\n",
       "    margin: 0 auto;\n",
       "    position: relative;\n",
       "}\n",
       "\n",
       "#sonify {\n",
       "    position: absolute;\n",
       "    top: 0;\n",
       "    right: 8px;\n",
       "    z-index: 1;\n",
       "    background-color: #fff;\n",
       "    border: 1px solid #25386f;\n",
       "    color: #25386f;\n",
       "    font-size: 0.9rem;\n",
       "    line-height: 1rem;\n",
       "    min-height: 25px;\n",
       "    font-weight: 500;\n",
       "    border-radius: 4px;\n",
       "    padding: 0.375rem 0;\n",
       "    width: 7rem;\n",
       "    margin-bottom: 0.25rem;\n",
       "    margin-top: 0.25rem;\n",
       "    text-align: center;\n",
       "    cursor: pointer;\n",
       "}\n",
       "\n",
       "#sonify:hover {\n",
       "    background-color: #25386f;\n",
       "    color: #fff;\n",
       "}\n",
       "\n",
       "@media (max-width: 530px) {\n",
       "    #sonify {\n",
       "        position: static;\n",
       "        margin: 10px;\n",
       "    }\n",
       "}\n",
       "</style>\n",
       "<figure class=\"highcharts-figure\">\n",
       "  <button id=\"sonify\">Play chart</button>\n",
       "  <div id=\"container\"></div>\n",
       "  <p class=\"highcharts-description\">This is a simple demo showing how a continuous line can be sonified. In this case we are sonifying the equation y = 1 / x. The graph has a vertical asymptote at x = 0, and a horizontal asymptote at y = 0, creating a hyperbolic shape with the function approaching, but never touching, the X and Y axes.</p>\n",
       "</figure>\n"
      ],
      "text/plain": [
       "<IPython.core.display.HTML object>"
      ]
     },
     "metadata": {},
     "output_type": "display_data"
    }
   ],
   "source": [
    "%%html\n",
    "<script src=\"https://code.highcharts.com/highcharts.js\"></script>\n",
    "<script src=\"https://code.highcharts.com/modules/sonification.js\"></script>\n",
    "<script src=\"https://code.highcharts.com/modules/accessibility.js\"></script>\n",
    "<style>.highcharts-figure {\n",
    "    max-width: 550px;\n",
    "    min-width: 360px;\n",
    "    margin: 0 auto;\n",
    "    position: relative;\n",
    "}\n",
    "\n",
    "#sonify {\n",
    "    position: absolute;\n",
    "    top: 0;\n",
    "    right: 8px;\n",
    "    z-index: 1;\n",
    "    background-color: #fff;\n",
    "    border: 1px solid #25386f;\n",
    "    color: #25386f;\n",
    "    font-size: 0.9rem;\n",
    "    line-height: 1rem;\n",
    "    min-height: 25px;\n",
    "    font-weight: 500;\n",
    "    border-radius: 4px;\n",
    "    padding: 0.375rem 0;\n",
    "    width: 7rem;\n",
    "    margin-bottom: 0.25rem;\n",
    "    margin-top: 0.25rem;\n",
    "    text-align: center;\n",
    "    cursor: pointer;\n",
    "}\n",
    "\n",
    "#sonify:hover {\n",
    "    background-color: #25386f;\n",
    "    color: #fff;\n",
    "}\n",
    "\n",
    "@media (max-width: 530px) {\n",
    "    #sonify {\n",
    "        position: static;\n",
    "        margin: 10px;\n",
    "    }\n",
    "}\n",
    "</style>\n",
    "<figure class=\"highcharts-figure\">\n",
    "  <button id=\"sonify\">Play chart</button>\n",
    "  <div id=\"container\"></div>\n",
    "  <p class=\"highcharts-description\">This is a simple demo showing how a continuous line can be sonified. In this case we are sonifying the equation y = 1 / x. The graph has a vertical asymptote at x = 0, and a horizontal asymptote at y = 0, creating a hyperbolic shape with the function approaching, but never touching, the X and Y axes.</p>\n",
    "</figure>\n"
   ]
  },
  {
   "cell_type": "code",
   "execution_count": 59,
   "id": "8cd8a8c9-3779-4ed4-9565-fd5c3381a157",
   "metadata": {},
   "outputs": [
    {
     "data": {
      "text/html": [
       "<script>\n",
       "    // Create an array with data from y = 1 / x\n",
       "data = [];\n",
       "for (let x = 0; x < 360; x += 1) {\n",
       "    // Note: Push y = null for x = 0\n",
       "    data.push([\n",
       "        // x, Math.round(x * 100) ? 1 / x : null\n",
       "        x, Math.sin(x * Math.PI / 180)\n",
       "    ]);\n",
       "}\n",
       "\n",
       "// Create the chart\n",
       "chart = Highcharts.chart('container', {\n",
       "    chart: {\n",
       "        height: '100%'\n",
       "    },\n",
       "    title: {\n",
       "        text: 'Sonified mathematical function',\n",
       "        align: 'left'\n",
       "    },\n",
       "    sonification: {\n",
       "        duration: 8000,\n",
       "        defaultInstrumentOptions: {\n",
       "            instrument: 'basic1',\n",
       "            roundToMusicalNotes: false\n",
       "        }\n",
       "    },\n",
       "    accessibility: {\n",
       "        landmarkVerbosity: 'one'\n",
       "    },\n",
       "    xAxis: {\n",
       "        min: 0,\n",
       "        max: 360,\n",
       "        gridLineWidth: 1,\n",
       "        tickInterval: 1,\n",
       "        crossing: 0\n",
       "    },\n",
       "    yAxis: {\n",
       "        min: -1,\n",
       "        max: 1,\n",
       "        tickInterval: 1,\n",
       "        lineWidth: 1,\n",
       "        crossing: 0,\n",
       "        title: {\n",
       "            text: null\n",
       "        }\n",
       "    },\n",
       "    legend: {\n",
       "        enabled: false\n",
       "    },\n",
       "    tooltip: {\n",
       "        headerFormat: '',\n",
       "        pointFormat: 'y = {point.y:.2f}'\n",
       "    },\n",
       "    series: [{\n",
       "        data\n",
       "    }]\n",
       "});\n",
       "    \n",
       "document.getElementById('sonify').onclick = function () {\n",
       "    chart.toggleSonify();\n",
       "};\n",
       "</script>\n"
      ],
      "text/plain": [
       "<IPython.core.display.HTML object>"
      ]
     },
     "metadata": {},
     "output_type": "display_data"
    }
   ],
   "source": [
    "%%html\n",
    "<script>\n",
    "    // Create an array with data from y = 1 / x\n",
    "data = [];\n",
    "for (let x = 0; x < 360; x += 1) {\n",
    "    // Note: Push y = null for x = 0\n",
    "    data.push([\n",
    "        // x, Math.round(x * 100) ? 1 / x : null\n",
    "        x, Math.sin(x * Math.PI / 180)\n",
    "    ]);\n",
    "}\n",
    "\n",
    "// Create the chart\n",
    "chart = Highcharts.chart('container', {\n",
    "    chart: {\n",
    "        height: '100%'\n",
    "    },\n",
    "    title: {\n",
    "        text: 'Sonified mathematical function',\n",
    "        align: 'left'\n",
    "    },\n",
    "    sonification: {\n",
    "        duration: 8000,\n",
    "        defaultInstrumentOptions: {\n",
    "            instrument: 'basic1',\n",
    "            roundToMusicalNotes: false\n",
    "        }\n",
    "    },\n",
    "    accessibility: {\n",
    "        landmarkVerbosity: 'one'\n",
    "    },\n",
    "    xAxis: {\n",
    "        min: 0,\n",
    "        max: 360,\n",
    "        gridLineWidth: 1,\n",
    "        tickInterval: 1,\n",
    "        crossing: 0\n",
    "    },\n",
    "    yAxis: {\n",
    "        min: -1,\n",
    "        max: 1,\n",
    "        tickInterval: 1,\n",
    "        lineWidth: 1,\n",
    "        crossing: 0,\n",
    "        title: {\n",
    "            text: null\n",
    "        }\n",
    "    },\n",
    "    legend: {\n",
    "        enabled: false\n",
    "    },\n",
    "    tooltip: {\n",
    "        headerFormat: '',\n",
    "        pointFormat: 'y = {point.y:.2f}'\n",
    "    },\n",
    "    series: [{\n",
    "        data\n",
    "    }]\n",
    "});\n",
    "    \n",
    "document.getElementById('sonify').onclick = function () {\n",
    "    chart.toggleSonify();\n",
    "};\n",
    "</script>"
   ]
  }
 ],
 "metadata": {
  "kernelspec": {
   "display_name": "Python [conda env:p311] *",
   "language": "python",
   "name": "conda-env-p311-py"
  },
  "language_info": {
   "codemirror_mode": {
    "name": "ipython",
    "version": 3
   },
   "file_extension": ".py",
   "mimetype": "text/x-python",
   "name": "python",
   "nbconvert_exporter": "python",
   "pygments_lexer": "ipython3",
   "version": "3.11.3"
  },
  "widgets": {
   "application/vnd.jupyter.widget-state+json": {
    "state": {},
    "version_major": 2,
    "version_minor": 0
   }
  }
 },
 "nbformat": 4,
 "nbformat_minor": 5
}
