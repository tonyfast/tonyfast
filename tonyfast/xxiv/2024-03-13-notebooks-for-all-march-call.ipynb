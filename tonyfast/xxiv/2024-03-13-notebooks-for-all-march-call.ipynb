{
 "cells": [
  {
   "cell_type": "markdown",
   "id": "118dd238-d2bc-461d-8620-caf5cbbf771a",
   "metadata": {},
   "source": [
    "# notebooks for all community summary\n",
    "\n",
    "<time>march 12, 2024 @ 10:00 PST</time> was the first monthly _notebooks for all_ community call with 4 attendees!\n",
    "\n",
    "we had a great time together talking about nonvisual data science and assistive technology.\n",
    "we encourage more folks to join on <time>april 9, 2024 @ 10:00 PST</time>.\n",
    "\n",
    "[notebooks for all community calendar](https://calendar.google.com/calendar/u/0?cid=MzM0YzI0MTEyNWQ1OTRhZTMyMjIyOTdjZGQ5MTA2ZmRhNTU1MTE2NjAwZDE4NzMzMjg0YmNhOWJmZWViOGY4NUBncm91cC5jYWxlbmRhci5nb29nbGUuY29t)"
   ]
  },
  {
   "cell_type": "markdown",
   "id": "bdce66a7-657f-45ac-9a23-439065e16be4",
   "metadata": {},
   "source": [
    "## full video\n",
    "\n",
    "* [notebooks for all history notebook](2024-03-11-NOA.html)\n",
    "* [semantically meaningful notebook discussion](2024-03-12-nbconvert-a11y-pres.html)"
   ]
  },
  {
   "cell_type": "code",
   "execution_count": 1,
   "id": "1558ea7c-56a8-4f2e-a1cb-2e7d782a4713",
   "metadata": {
    "jupyter": {
     "source_hidden": true
    }
   },
   "outputs": [
    {
     "data": {
      "text/html": [
       "<iframe width=\"560\" height=\"315\" src=\"https://www.youtube.com/embed/0W1zOS-sJ48?si=RCrUBJFziF5MUWD5&amp;start=257\" title=\"YouTube video player\" frameborder=\"0\" allow=\"accelerometer; autoplay; clipboard-write; encrypted-media; gyroscope; picture-in-picture; web-share\" allowfullscreen></iframe>\n"
      ],
      "text/plain": [
       "<IPython.core.display.HTML object>"
      ]
     },
     "metadata": {},
     "output_type": "display_data"
    }
   ],
   "source": [
    "%%html\n",
    "<iframe width=\"560\" height=\"315\" src=\"https://www.youtube.com/embed/0W1zOS-sJ48?si=RCrUBJFziF5MUWD5&amp;start=257\" title=\"YouTube video player\" frameborder=\"0\" allow=\"accelerometer; autoplay; clipboard-write; encrypted-media; gyroscope; picture-in-picture; web-share\" allowfullscreen></iframe>"
   ]
  },
  {
   "cell_type": "markdown",
   "id": "90103ac8-9147-4268-a7b0-df972fe63a67",
   "metadata": {},
   "source": [
    "## clips"
   ]
  },
  {
   "cell_type": "markdown",
   "id": "7fd2ee50-c095-4c5c-857f-1e169ed411f8",
   "metadata": {},
   "source": [
    "eric shared how notebook and cell level statistics filled a real need they were in colab.\n",
    "a goal of `nbconvert-a11y` is to be general enough to inform the accessibility of the many notebook interfaces that are available to learners."
   ]
  },
  {
   "cell_type": "code",
   "execution_count": 2,
   "id": "65cbb759-04a0-4759-badb-47b8e60e4579",
   "metadata": {
    "jupyter": {
     "source_hidden": true
    }
   },
   "outputs": [
    {
     "data": {
      "text/html": [
       "<iframe width=\"560\" height=\"315\" src=\"https://www.youtube.com/embed/0W1zOS-sJ48?si=lZkwDtoxvmeRyW8S&amp;clip=UgkxutF9hmfu_ojfy2tii7gtY2zt7BVIYvJK&amp;clipt=EKuI4AEYubDhAQ\" title=\"YouTube video player\" frameborder=\"0\" allow=\"accelerometer; autoplay; clipboard-write; encrypted-media; gyroscope; picture-in-picture; web-share\" allowfullscreen></iframe>\n"
      ],
      "text/plain": [
       "<IPython.core.display.HTML object>"
      ]
     },
     "metadata": {},
     "output_type": "display_data"
    }
   ],
   "source": [
    "%%html\n",
    "<iframe width=\"560\" height=\"315\" src=\"https://www.youtube.com/embed/0W1zOS-sJ48?si=lZkwDtoxvmeRyW8S&amp;clip=UgkxutF9hmfu_ojfy2tii7gtY2zt7BVIYvJK&amp;clipt=EKuI4AEYubDhAQ\" title=\"YouTube video player\" frameborder=\"0\" allow=\"accelerometer; autoplay; clipboard-write; encrypted-media; gyroscope; picture-in-picture; web-share\" allowfullscreen></iframe>"
   ]
  },
  {
   "cell_type": "markdown",
   "id": "940ec61e-422e-451e-aaf4-52736c97fa4e",
   "metadata": {},
   "source": [
    "my last magic trick demonstrated some recent work that explores [semantic python outputs](2024-03-04-semantic-outputs.html) that make it possible assistive navigations to access summarizes of the page. this clip specifically shows how a screen reader can differentiate between lists, sets, and tuples."
   ]
  },
  {
   "cell_type": "code",
   "execution_count": 3,
   "id": "877d5581-37cd-4c70-900a-037f33b925b8",
   "metadata": {
    "jupyter": {
     "source_hidden": true
    }
   },
   "outputs": [
    {
     "data": {
      "text/html": [
       "<iframe width=\"560\" height=\"315\" src=\"https://www.youtube.com/embed/0W1zOS-sJ48?si=THUy0hcIRFgn0fW6&amp;clip=UgkxRFkGud3JVUkN80pF97zxoCS0vBl2PRgk&amp;clipt=EPi5hQIYj7iIAg\" title=\"YouTube video player\" frameborder=\"0\" allow=\"accelerometer; autoplay; clipboard-write; encrypted-media; gyroscope; picture-in-picture; web-share\" allowfullscreen></iframe>\n"
      ],
      "text/plain": [
       "<IPython.core.display.HTML object>"
      ]
     },
     "metadata": {},
     "output_type": "display_data"
    }
   ],
   "source": [
    "%%html\n",
    "<iframe width=\"560\" height=\"315\" src=\"https://www.youtube.com/embed/0W1zOS-sJ48?si=THUy0hcIRFgn0fW6&amp;clip=UgkxRFkGud3JVUkN80pF97zxoCS0vBl2PRgk&amp;clipt=EPi5hQIYj7iIAg\" title=\"YouTube video player\" frameborder=\"0\" allow=\"accelerometer; autoplay; clipboard-write; encrypted-media; gyroscope; picture-in-picture; web-share\" allowfullscreen></iframe>"
   ]
  }
 ],
 "metadata": {
  "kernelspec": {
   "display_name": "Python [conda env:p311] *",
   "language": "python",
   "name": "conda-env-p311-py"
  },
  "language_info": {
   "codemirror_mode": {
    "name": "ipython",
    "version": 3
   },
   "file_extension": ".py",
   "mimetype": "text/x-python",
   "name": "python",
   "nbconvert_exporter": "python",
   "pygments_lexer": "ipython3",
   "version": "3.11.3"
  },
  "widgets": {
   "application/vnd.jupyter.widget-state+json": {
    "state": {},
    "version_major": 2,
    "version_minor": 0
   }
  }
 },
 "nbformat": 4,
 "nbformat_minor": 5
}
