{
 "cells": [
  {
   "attachments": {},
   "cell_type": "markdown",
   "id": "2e0ff246-55ce-4965-8884-84a72fccb6d6",
   "metadata": {},
   "source": [
    "# creating accessible search\n",
    "\n",
    "this post explores searching documents with [https://lunrjs.com](lunrjs) to be added to the blog.\n",
    "\n"
   ]
  },
  {
   "cell_type": "code",
   "execution_count": null,
   "id": "15e341f2-cb46-4091-8fd1-356805d56c89",
   "metadata": {},
   "outputs": [],
   "source": [
    "    import pandas, importlib.metadata, tonyfast.utils, json"
   ]
  },
  {
   "cell_type": "code",
   "execution_count": null,
   "id": "229e7ac3-9f09-41f6-a54d-b82641ceec8f",
   "metadata": {},
   "outputs": [],
   "source": [
    "%%\n",
    "## initializing lunr\n",
    "\n",
    "load in [lunrjs](https://lunrjs.com)\n",
    "\n",
    "    display\\\n",
    "```html\n",
    "<script src=\"https://unpkg.com/lunr/lunr.js\"></script>\n",
    "```\n",
    "\n",
    "create the source code load in some actual data to search.\n",
    "\n",
    "\n",
    "    template =\\\n",
    "~~~javascript\n",
    "var documents = %s;\n",
    "var index = lunr(function () {\n",
    "  this.ref('Name')\n",
    "  this.field('Summary')\n",
    "  this.metadataWhitelist = ['position']\n",
    "\n",
    "\n",
    "  documents.forEach(function (doc) {\n",
    "    this.add(doc)\n",
    "  }, this)\n",
    "})\n",
    "~~~"
   ]
  },
  {
   "cell_type": "markdown",
   "id": "53b902ce-b289-449a-aa58-aef012bcf337",
   "metadata": {},
   "source": [
    "for sample data we'll use the python distributions on the machine this was created on."
   ]
  },
  {
   "cell_type": "code",
   "execution_count": null,
   "id": "d9a7cc79-108e-44ea-bea1-f675c282d4e7",
   "metadata": {},
   "outputs": [],
   "source": [
    "    distributions =  pandas.Series(importlib.metadata.distributions())\n",
    "\n",
    "    dist = distributions.attrgetter(\"metadata\").methodcaller(\"items\").apply(dict).series()[\n",
    "        \"Name Summary Home-page\".split()\n",
    "    ]\n",
    "    search_index = dist.to_dict(orient=\"records\")\n",
    "    display({\"text/html\": \"<script>%s</script>\" % (template % json.dumps(search_index))}, raw=True)"
   ]
  },
  {
   "cell_type": "code",
   "execution_count": null,
   "id": "657d2bac-b200-4e9f-bd16-22f71d9f07a3",
   "metadata": {},
   "outputs": [],
   "source": [
    "%%\n",
    "## an accessible form\n",
    "\n",
    "wip\n",
    "\n",
    "https://adrianroselli.com/2015/12/responsive-progressive-accessible-vanilla-search.html\n",
    "\n",
    "an accessible search form\n",
    "\n",
    "    display\\\n",
    "```html\n",
    "<form method=\"post\" name=\"searcher\">\n",
    "    <div role=\"search\">\n",
    "      <input type=\"text\" value=\"\" name=\"query\" placeholder=\"Search…\">\n",
    "      <button type=\"submit\">perform search</button>\n",
    "    </div>\n",
    "</form>\n",
    "<section id=results aria-labelledby=results-label>\n",
    "    <h2 id=results-label>search results</h2>\n",
    "      <output name=summary form=searcher></output>\n",
    "      <ol></ol>\n",
    "</section>\n",
    "\n",
    "<script>\n",
    "var search = document.forms.searcher;\n",
    "search.addEventListener(\"submit\", (x)=>{\n",
    "    event.preventDefault();\n",
    "    var results = index.search(document.forms.searcher.query.value);\n",
    "    var refs = results.map((x)=>x.ref)    ;\n",
    "    var original = refs.slice(0, 10).map((x) => documents.find((y) => y.Name === x));\n",
    "    var ol = document.getElementById(\"results\").querySelector(\"ol\");\n",
    "    var summary = document.getElementById(\"results\").querySelector(\"output\");\n",
    "    summary.innerHTML = `${results.length} results found`\n",
    "    ol.innerHTML = \"\";\n",
    "    original.forEach((x)=>{\n",
    "        var li = document.createElement(\"li\");\n",
    "        li.innerHTML = `<b>${x.Name}</b> ${x.Summary}`;\n",
    "        ol.appendChild(li);\n",
    "    })\n",
    "    return true; // dont redirect\n",
    "})\n",
    "</script>\n",
    "```"
   ]
  }
 ],
 "metadata": {
  "kernelspec": {
   "display_name": "Python [conda env:p311] *",
   "language": "python",
   "name": "conda-env-p311-py"
  },
  "language_info": {
   "codemirror_mode": {
    "name": "ipython",
    "version": 3
   },
   "file_extension": ".py",
   "mimetype": "text/x-python",
   "name": "python",
   "nbconvert_exporter": "python",
   "pygments_lexer": "ipython3",
   "version": "3.11.3"
  },
  "widgets": {
   "application/vnd.jupyter.widget-state+json": {
    "state": {},
    "version_major": 2,
    "version_minor": 0
   }
  }
 },
 "nbformat": 4,
 "nbformat_minor": 5
}
