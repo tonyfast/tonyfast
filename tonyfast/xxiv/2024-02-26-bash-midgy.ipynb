{
 "cells": [
  {
   "cell_type": "markdown",
   "id": "5e45668b-bdcd-4a4e-b481-2d91b542dd03",
   "metadata": {},
   "source": [
    "# adding shell and css fence directives to midgy\n",
    "\n",
    "some markdown code fences in midgy have transpile code with functions that operate on the contents of the fence. for example, `toml`, `json`, and `yaml` fences will load the string into python object. this post talks about the subprocess fences.\n",
    "\n",
    "all of these behaviors can be turned off using `~~~` fences"
   ]
  },
  {
   "cell_type": "code",
   "execution_count": 82,
   "id": "975af080-0858-47bc-bebd-3f402f36f978",
   "metadata": {
    "editable": true,
    "jupyter": {
     "source_hidden": false
    },
    "slideshow": {
     "slide_type": ""
    },
    "tags": []
   },
   "outputs": [
    {
     "ename": "ModuleNotFoundError",
     "evalue": "No module named 'jsons'",
     "output_type": "error",
     "traceback": [
      "\u001b[0;31m---------------------------------------------------------------------------\u001b[0m",
      "\u001b[0;31mModuleNotFoundError\u001b[0m                       Traceback (most recent call last)",
      "Cell \u001b[0;32mIn[82], line 1\u001b[0m\n\u001b[0;32m----> 1\u001b[0m \u001b[38;5;28;01mimport\u001b[39;00m \u001b[38;5;21;01mmidgy\u001b[39;00m\u001b[38;5;241m,\u001b[39m \u001b[38;5;21;01mpandas\u001b[39;00m\u001b[38;5;241m,\u001b[39m \u001b[38;5;21;01mjsons\u001b[39;00m\n",
      "\u001b[0;31mModuleNotFoundError\u001b[0m: No module named 'jsons'"
     ]
    }
   ],
   "source": [
    "    import midgy, pandas, json"
   ]
  },
  {
   "cell_type": "code",
   "execution_count": 75,
   "id": "2fba3301-bbc6-4a3e-ba16-daef37e5662e",
   "metadata": {
    "editable": true,
    "slideshow": {
     "slide_type": ""
    },
    "tags": []
   },
   "outputs": [
    {
     "data": {
      "text/plain": [
       "{'description': 'passed throught toml.loads'}"
      ]
     },
     "metadata": {},
     "output_type": "display_data"
    }
   ],
   "source": [
    "%% \n",
    "\n",
    "this example shows how a `toml` code fence can reused as variable\n",
    "\n",
    "    toml_data=\\\n",
    "```toml\n",
    "description=\"passed throught toml.loads\"\n",
    "```\n",
    "    display(toml_data)"
   ]
  },
  {
   "cell_type": "markdown",
   "id": "5e06ecb9-c03a-4e75-b9f5-6f6dd0577fdf",
   "metadata": {},
   "source": [
    "`IPython` exposes `!` syntactic sugar to process shell commands.\n",
    "we use this code fence syntax to trigger shell commands."
   ]
  },
  {
   "cell_type": "code",
   "execution_count": 76,
   "id": "b2250f16-639b-4b1d-8150-f92993edda73",
   "metadata": {},
   "outputs": [
    {
     "data": {
      "text/markdown": [
       "\n",
       "whats the date?\n",
       "    \n",
       "    print\\\n",
       "```!\n",
       "date\n",
       "```\n",
       "\n",
       "see how this is similar to the `IPython` version following?\n",
       "\n",
       "    !date\n"
      ],
      "text/plain": [
       "<IPython.core.display.Markdown object>"
      ]
     },
     "metadata": {},
     "output_type": "display_data"
    },
    {
     "name": "stdout",
     "output_type": "stream",
     "text": [
      "Mon Feb 26 01:13:49 PM PST 2024\n",
      "\n",
      "Mon Feb 26 01:13:49 PM PST 2024\n"
     ]
    }
   ],
   "source": [
    "%%\n",
    "whats the date?\n",
    "    \n",
    "    print\\\n",
    "```!\n",
    "date\n",
    "```\n",
    "\n",
    "see how this is similar to the `IPython` version following?\n",
    "\n",
    "    !date"
   ]
  },
  {
   "cell_type": "code",
   "execution_count": 77,
   "id": "4f1c0063-2a9b-42b9-a5cf-9a5833834bbc",
   "metadata": {
    "editable": true,
    "jupyter": {
     "source_hidden": false
    },
    "slideshow": {
     "slide_type": ""
    },
    "tags": []
   },
   "outputs": [
    {
     "data": {
      "text/markdown": [
       "\n",
       "the advantange though is that with this version we run blocks of bash\n",
       "\n",
       "    print\\\n",
       "```!\n",
       "echo \"one fish\"\n",
       "echo \"two fish\"\n",
       "```\n",
       "\n",
       "which is strikingly similar the `IPython` `%%bash` magic\n",
       "\n",
       "    %%bash\n",
       "    echo \"red fish\"\n",
       "    echo \"blue fish\"\n",
       "\n",
       "the outputs can be stored as variables in both these forms.\n"
      ],
      "text/plain": [
       "<IPython.core.display.Markdown object>"
      ]
     },
     "metadata": {},
     "output_type": "display_data"
    },
    {
     "name": "stdout",
     "output_type": "stream",
     "text": [
      "one fish\n",
      "two fish\n",
      "\n",
      "red fish\n",
      "blue fish\n"
     ]
    }
   ],
   "source": [
    "%%\n",
    "the advantange though is that with this version we run blocks of bash\n",
    "\n",
    "    print\\\n",
    "```!\n",
    "echo \"one fish\"\n",
    "echo \"two fish\"\n",
    "```\n",
    "\n",
    "which is strikingly similar the `IPython` `%%bash` magic\n",
    "\n",
    "    %%bash\n",
    "    echo \"red fish\"\n",
    "    echo \"blue fish\"\n",
    "\n",
    "the outputs can be stored as variables in both these forms."
   ]
  },
  {
   "cell_type": "markdown",
   "id": "c2cda7d6-294e-402a-8528-061f3076201f",
   "metadata": {},
   "source": [
    "## more examples"
   ]
  },
  {
   "cell_type": "code",
   "execution_count": 78,
   "id": "59befb7e-9186-4be1-a04c-c816fc104a56",
   "metadata": {
    "editable": true,
    "jupyter": {
     "source_hidden": false
    },
    "slideshow": {
     "slide_type": ""
    },
    "tags": []
   },
   "outputs": [
    {
     "data": {
      "text/markdown": [
       "\n",
       "maybe we want to work with out git history as a pandas series?\n",
       "\n",
       "log = pandas.Series(\n",
       "```!\n",
       "git log\n",
       "```\n",
       "        .splitlines())\n",
       "    log.groupby(log.str.extract(\"commit\\s+(?P<commit>\\S+)\").ffill().commit).apply(\n",
       "        lambda s: \"\".join(s.iloc[3:])\n",
       "    ).to_frame(\"msg\")\n"
      ],
      "text/plain": [
       "<IPython.core.display.Markdown object>"
      ]
     },
     "metadata": {},
     "output_type": "display_data"
    }
   ],
   "source": [
    "%%\n",
    "maybe we want to work with out git history as a pandas series?\n",
    "\n",
    "log = pandas.Series(\n",
    "```!\n",
    "git log\n",
    "```\n",
    "        .splitlines())\n",
    "    log.groupby(log.str.extract(\"commit\\s+(?P<commit>\\S+)\").ffill().commit).apply(\n",
    "        lambda s: \"\".join(s.iloc[3:])\n",
    "    ).to_frame(\"msg\")"
   ]
  },
  {
   "cell_type": "code",
   "execution_count": 79,
   "id": "8613338c-8417-4049-8dfc-e1082a62fee9",
   "metadata": {
    "editable": true,
    "jupyter": {
     "source_hidden": false
    },
    "slideshow": {
     "slide_type": ""
    },
    "tags": []
   },
   "outputs": [
    {
     "data": {
      "text/markdown": [
       "\n",
       "maybe we want to search some json using `jq` and explore it interactively\n",
       "\n",
       "    display({\"application/json\":\n",
       "            json.loads(\n",
       "```!\n",
       "jq  .cells[0] Untitled10.ipynb\n",
       "```\n",
       "\n",
       "    )}, raw=True)\n"
      ],
      "text/plain": [
       "<IPython.core.display.Markdown object>"
      ]
     },
     "metadata": {},
     "output_type": "display_data"
    },
    {
     "data": {
      "application/json": {
       "cell_type": "markdown",
       "id": "fbe4d4f6-90e4-43ea-98c2-c74ee620316e",
       "metadata": {},
       "source": [
        "# presentations in notebooks\n",
        "\n",
        "one of the features that has harmed the adoption of the jupyterlab is the lack of a community supported presentation tool similar to RISE that is the workhorse of a lot scientific community presentations."
       ]
      }
     },
     "metadata": {},
     "output_type": "display_data"
    }
   ],
   "source": [
    "%% \n",
    "maybe we want to search some json using `jq` and explore it interactively\n",
    "\n",
    "    display({\"application/json\":\n",
    "            json.loads(\n",
    "```!\n",
    "jq  .cells[0] Untitled10.ipynb\n",
    "```\n",
    "\n",
    "    )}, raw=True)"
   ]
  }
 ],
 "metadata": {
  "kernelspec": {
   "display_name": "Python [conda env:p311] *",
   "language": "python",
   "name": "conda-env-p311-py"
  },
  "language_info": {
   "codemirror_mode": {
    "name": "ipython",
    "version": 3
   },
   "file_extension": ".py",
   "mimetype": "text/x-python",
   "name": "python",
   "nbconvert_exporter": "python",
   "pygments_lexer": "ipython3",
   "version": "3.11.3"
  },
  "widgets": {
   "application/vnd.jupyter.widget-state+json": {
    "state": {},
    "version_major": 2,
    "version_minor": 0
   }
  }
 },
 "nbformat": 4,
 "nbformat_minor": 5
}
