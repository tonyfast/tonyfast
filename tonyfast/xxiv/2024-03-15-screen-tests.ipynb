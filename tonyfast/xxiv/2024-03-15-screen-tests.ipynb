{
 "cells": [
  {
   "attachments": {},
   "cell_type": "markdown",
   "id": "fd26afaa-dbce-4283-80a6-80949bb387bc",
   "metadata": {},
   "source": [
    "# revisiting nbviewer/nbconvert screen reader experiences\n",
    "\n",
    "today i recorded stream that started by watching [patrick's first screen reader demo of navigating notebooks](https://github.com/smythp). i add some color commentary and demonstrate how the situation has not changed. we explore the same patterns through different rendering engines: nbviewer, github, a custom theme. the chapters below summarize the different concepts we discussed.\n",
    "\n",
    "* [0:00](https://www.youtube.com/watch?v=rEnJNlPtPH8&t=0s) rendered notebooks and screen readers\n",
    "* [1:29](https://www.youtube.com/watch?v=rEnJNlPtPH8&t=89s) patricks NVDA notebook walk through\n",
    "* [6:18](https://www.youtube.com/watch?v=rEnJNlPtPH8&t=378s) tony demonstrates screen reader navigation with Orca\n",
    "* [12:34](https://www.youtube.com/watch?v=rEnJNlPtPH8&t=754s) return to patrick's audit with heading navigation\n",
    "* [25:20](https://www.youtube.com/watch?v=rEnJNlPtPH8&t=1520s) tony uses the screen reader\n",
    "* [30:07](https://www.youtube.com/watch?v=rEnJNlPtPH8&t=1807s) tony gets really mad at jupyterlab\n",
    "* [31:00](https://www.youtube.com/watch?v=rEnJNlPtPH8&t=1860s) convert notebook to the accessible template\n",
    "* [33:25](https://www.youtube.com/watch?v=rEnJNlPtPH8&t=2005s) accessible template version\n",
    "* [34:00](https://www.youtube.com/watch?v=rEnJNlPtPH8&t=2040s) notebook summary\n",
    "* [35:39](https://www.youtube.com/watch?v=rEnJNlPtPH8&t=2139s) navigating cells audibly and visually\n",
    "* [42:25](https://www.youtube.com/watch?v=rEnJNlPtPH8&t=2545s) nbviewer screen reader audit\n",
    "* [49:20](https://www.youtube.com/watch?v=rEnJNlPtPH8&t=2960s) clean up notebook and wrap up\n",
    "* [54:41](https://www.youtube.com/watch?v=rEnJNlPtPH8&t=3281s) github notebook screen reader example"
   ]
  },
  {
   "cell_type": "code",
   "execution_count": 1,
   "id": "1517827d-e03e-4017-9c72-1ecb7a22dac2",
   "metadata": {
    "jupyter": {
     "source_hidden": true
    }
   },
   "outputs": [
    {
     "data": {
      "text/html": [
       "<iframe width=\"560\" height=\"315\" src=\"https://www.youtube.com/embed/rEnJNlPtPH8?si=lCXyjutgeLcqNUKH\" title=\"YouTube video player\" frameborder=\"0\" allow=\"accelerometer; autoplay; clipboard-write; encrypted-media; gyroscope; picture-in-picture; web-share\" allowfullscreen></iframe>\n"
      ],
      "text/plain": [
       "<IPython.core.display.HTML object>"
      ]
     },
     "metadata": {},
     "output_type": "display_data"
    }
   ],
   "source": [
    "%%html\n",
    "<iframe width=\"560\" height=\"315\" src=\"https://www.youtube.com/embed/rEnJNlPtPH8?si=lCXyjutgeLcqNUKH\" title=\"YouTube video player\" frameborder=\"0\" allow=\"accelerometer; autoplay; clipboard-write; encrypted-media; gyroscope; picture-in-picture; web-share\" allowfullscreen></iframe>"
   ]
  },
  {
   "cell_type": "markdown",
   "id": "69497551-c6df-4ac9-8f34-3ed8570edabe",
   "metadata": {},
   "source": [
    "patrick's original video provided a lot of fodder for the rest of the stream."
   ]
  },
  {
   "cell_type": "code",
   "execution_count": 2,
   "id": "cb0cd4b7-2db3-47bc-8d72-a8970651edb3",
   "metadata": {},
   "outputs": [
    {
     "data": {
      "text/html": [
       "<iframe width=\"560\" height=\"315\" src=\"https://www.youtube.com/embed/KsUF_HjA97U?si=HGlqvW_gc0ojpsrJ\" title=\"YouTube video player\" frameborder=\"0\" allow=\"accelerometer; autoplay; clipboard-write; encrypted-media; gyroscope; picture-in-picture; web-share\" allowfullscreen></iframe>\n"
      ],
      "text/plain": [
       "<IPython.core.display.HTML object>"
      ]
     },
     "metadata": {},
     "output_type": "display_data"
    }
   ],
   "source": [
    "%%html\n",
    "<iframe width=\"560\" height=\"315\" src=\"https://www.youtube.com/embed/KsUF_HjA97U?si=HGlqvW_gc0ojpsrJ\" title=\"YouTube video player\" frameborder=\"0\" allow=\"accelerometer; autoplay; clipboard-write; encrypted-media; gyroscope; picture-in-picture; web-share\" allowfullscreen></iframe>"
   ]
  },
  {
   "cell_type": "markdown",
   "id": "d6a0c0b4-fbf7-42c5-a5d2-f794ea071f16",
   "metadata": {},
   "source": [
    "the cos data notebook rendered by nbviewer\n",
    "\n",
    "* [stsci version of cos notebook](https://spacetelescope.github.io/COS-Notebooks/ViewData.html)\n",
    "* [nbviewer version of cos notebook](https://nbviewer.org/github/spacetelescope/notebooks/blob/ed198fc29ae9a030059304c78ac6a6cdaa47192b/notebooks/COS/ViewData/ViewData.ipynb#L9)\n",
    "* [github version of the cos notebook](https://github.com/spacetelescope/notebooks/blob/ed198fc29ae9a030059304c78ac6a6cdaa47192b/notebooks/COS/ViewData/ViewData.ipynb)"
   ]
  },
  {
   "attachments": {},
   "cell_type": "markdown",
   "id": "4110fb50-bbf9-45b1-8561-ade0593d3082",
   "metadata": {},
   "source": [
    "## creating an accessible version of the document\n",
    "\n",
    "using the new `nbconvert-a11y` we export an assistive, labor reducing version of the template outputs.\n",
    "\n",
    "the code below exports an assistive version of the COS notebook designed for a screen reader "
   ]
  },
  {
   "cell_type": "code",
   "execution_count": 3,
   "id": "6e416118-ea4e-49d9-827b-14f1410ba333",
   "metadata": {},
   "outputs": [
    {
     "name": "stdout",
     "output_type": "stream",
     "text": [
      "[NbConvertApp] WARNING | Config option `kernel_spec_manager_class` not recognized by `NbConvertApp`.\n",
      "[NbConvertApp] Converting notebook /home/tbone/Downloads/ViewData.ipynb to a11y\n",
      "[NbConvertApp] Writing 546006 bytes to /home/tbone/Downloads/ViewData.html\n"
     ]
    }
   ],
   "source": [
    "    !jupyter nbconvert --to a11y /home/tbone/Downloads/ViewData.ipynb"
   ]
  }
 ],
 "metadata": {
  "kernelspec": {
   "display_name": "Python [conda env:p311] *",
   "language": "python",
   "name": "conda-env-p311-py"
  },
  "language_info": {
   "codemirror_mode": {
    "name": "ipython",
    "version": 3
   },
   "file_extension": ".py",
   "mimetype": "text/x-python",
   "name": "python",
   "nbconvert_exporter": "python",
   "pygments_lexer": "ipython3",
   "version": "3.11.3"
  },
  "widgets": {
   "application/vnd.jupyter.widget-state+json": {
    "state": {},
    "version_major": 2,
    "version_minor": 0
   }
  }
 },
 "nbformat": 4,
 "nbformat_minor": 5
}
