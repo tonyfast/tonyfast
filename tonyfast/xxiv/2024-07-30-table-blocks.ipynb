{
 "cells": [
  {
   "cell_type": "markdown",
   "id": "89dbe49b-ce13-4514-91b2-eee3e7d510c6",
   "metadata": {},
   "source": [
    "# table blocks\n",
    "\n",
    "a study in what happens when we destroy the table structure.\n",
    "\n",
    "the tables in this document are not accessible beause they are assumed to be layout tables."
   ]
  },
  {
   "cell_type": "markdown",
   "id": "f3d699a4-6582-4c73-8802-8900c0c0846a",
   "metadata": {},
   "source": [
    "make some data to build our table to experiment from"
   ]
  },
  {
   "cell_type": "code",
   "execution_count": 138,
   "id": "d766d3ee-01ba-4e29-a7df-0c3e4f9b32cf",
   "metadata": {},
   "outputs": [],
   "source": [
    "n = 5\n",
    "df = DataFrame(Series(list((string.ascii_letters*10)[:n**2])).values.reshape((n,n)))"
   ]
  },
  {
   "cell_type": "markdown",
   "id": "e7c36fe4-742e-47ea-9691-e52776257ae2",
   "metadata": {},
   "source": [
    "utilities to create html elements from data"
   ]
  },
  {
   "cell_type": "code",
   "execution_count": 142,
   "id": "03c404a5-d197-4c39-b18a-fc8b7b961584",
   "metadata": {},
   "outputs": [],
   "source": [
    "soup = __import__(\"bs4\").BeautifulSoup(features=\"lxml\")\n",
    "def new(tag, *children, style=None, **attrs):\n",
    "    style and attrs.update(style=\" \".join(F\"{k}: {v};\" for k, v in style.items()))\n",
    "    (element := soup.new_tag(tag, attrs=attrs)).extend(children)\n",
    "    return element"
   ]
  },
  {
   "cell_type": "markdown",
   "id": "05dac384-56a1-4094-87e3-ef5c4dba9d25",
   "metadata": {},
   "source": [
    "reduce a dataframe to a table"
   ]
  },
  {
   "cell_type": "code",
   "execution_count": 143,
   "id": "01802f35-3fde-4fac-9356-d106abfcf3f2",
   "metadata": {},
   "outputs": [],
   "source": [
    "def table_of_cells(df: DataFrame, caption=\"\", **kwargs):\n",
    "    table = new(\"table\", caption, **kwargs)\n",
    "    for i in range(0, len(df), 2):\n",
    "        table.append(\n",
    "            new(\"tbody\", *(\n",
    "                new(\"tr\", *row) for _, row in df.iloc[i:i+2].iterrows()\n",
    "            ))\n",
    "        )\n",
    "    return table"
   ]
  },
  {
   "cell_type": "markdown",
   "id": "8770f3c0-491e-4ac9-8f1e-78134e57782b",
   "metadata": {},
   "source": [
    "add randomness in size to observe table changes. words would make more sense. they don't mean anything. nothing but sound and light. waves."
   ]
  },
  {
   "cell_type": "code",
   "execution_count": 144,
   "id": "af3db45a-be4b-41b9-83d2-8264e72a513f",
   "metadata": {},
   "outputs": [],
   "source": [
    "cells = df.map(lambda x: new(\"td\", x, style={\"font-size\": F\"\"\"{random.randint(1, 10)/5}rem\"\"\"}))"
   ]
  },
  {
   "cell_type": "markdown",
   "id": "4e0ac310-cfff-45dd-b3ab-6b45104089ae",
   "metadata": {},
   "source": [
    "our tables turned into blocks"
   ]
  },
  {
   "cell_type": "code",
   "execution_count": 146,
   "id": "150f3e90-7416-4c64-8db4-1d040c357c89",
   "metadata": {},
   "outputs": [
    {
     "data": {
      "text/html": [
       "<style>table:hover {\n",
       "    outline: dashed;\n",
       "    tbody:hover {\n",
       "        outline: dotted;\n",
       "        tr {\n",
       "            border: solid;\n",
       "        }\n",
       "    }\n",
       "}\n",
       "#tbody {tbody {display:block;}}\n",
       "#tr {tr {display:block;}}\n",
       "#td {td {display:block;}}\n",
       "</style>"
      ],
      "text/plain": [
       "<IPython.core.display.HTML object>"
      ]
     },
     "execution_count": 146,
     "metadata": {},
     "output_type": "execute_result"
    },
    {
     "data": {
      "text/html": [
       "<table id=\"table\">🍒 table<tbody><tr><td style=\"font-size: 1.2rem;\">a</td><td style=\"font-size: 1.8rem;\">b</td><td style=\"font-size: 1.8rem;\">c</td><td style=\"font-size: 1.8rem;\">d</td><td style=\"font-size: 0.8rem;\">e</td></tr><tr><td style=\"font-size: 1.4rem;\">f</td><td style=\"font-size: 1.8rem;\">g</td><td style=\"font-size: 0.8rem;\">h</td><td style=\"font-size: 2.0rem;\">i</td><td style=\"font-size: 0.4rem;\">j</td></tr></tbody><tbody><tr><td style=\"font-size: 0.4rem;\">k</td><td style=\"font-size: 2.0rem;\">l</td><td style=\"font-size: 0.2rem;\">m</td><td style=\"font-size: 2.0rem;\">n</td><td style=\"font-size: 1.6rem;\">o</td></tr><tr><td style=\"font-size: 0.6rem;\">p</td><td style=\"font-size: 2.0rem;\">q</td><td style=\"font-size: 2.0rem;\">r</td><td style=\"font-size: 1.6rem;\">s</td><td style=\"font-size: 0.2rem;\">t</td></tr></tbody><tbody><tr><td style=\"font-size: 1.6rem;\">u</td><td style=\"font-size: 0.4rem;\">v</td><td style=\"font-size: 0.4rem;\">w</td><td style=\"font-size: 1.0rem;\">x</td><td style=\"font-size: 0.6rem;\">y</td></tr></tbody></table>\n",
       "<table id=\"tbody\">body blocks<tbody><tr><td style=\"font-size: 1.2rem;\">a</td><td style=\"font-size: 1.8rem;\">b</td><td style=\"font-size: 1.8rem;\">c</td><td style=\"font-size: 1.8rem;\">d</td><td style=\"font-size: 0.8rem;\">e</td></tr><tr><td style=\"font-size: 1.4rem;\">f</td><td style=\"font-size: 1.8rem;\">g</td><td style=\"font-size: 0.8rem;\">h</td><td style=\"font-size: 2.0rem;\">i</td><td style=\"font-size: 0.4rem;\">j</td></tr></tbody><tbody><tr><td style=\"font-size: 0.4rem;\">k</td><td style=\"font-size: 2.0rem;\">l</td><td style=\"font-size: 0.2rem;\">m</td><td style=\"font-size: 2.0rem;\">n</td><td style=\"font-size: 1.6rem;\">o</td></tr><tr><td style=\"font-size: 0.6rem;\">p</td><td style=\"font-size: 2.0rem;\">q</td><td style=\"font-size: 2.0rem;\">r</td><td style=\"font-size: 1.6rem;\">s</td><td style=\"font-size: 0.2rem;\">t</td></tr></tbody><tbody><tr><td style=\"font-size: 1.6rem;\">u</td><td style=\"font-size: 0.4rem;\">v</td><td style=\"font-size: 0.4rem;\">w</td><td style=\"font-size: 1.0rem;\">x</td><td style=\"font-size: 0.6rem;\">y</td></tr></tbody></table>\n",
       "<table id=\"tr\">block rows<tbody><tr><td style=\"font-size: 1.2rem;\">a</td><td style=\"font-size: 1.8rem;\">b</td><td style=\"font-size: 1.8rem;\">c</td><td style=\"font-size: 1.8rem;\">d</td><td style=\"font-size: 0.8rem;\">e</td></tr><tr><td style=\"font-size: 1.4rem;\">f</td><td style=\"font-size: 1.8rem;\">g</td><td style=\"font-size: 0.8rem;\">h</td><td style=\"font-size: 2.0rem;\">i</td><td style=\"font-size: 0.4rem;\">j</td></tr></tbody><tbody><tr><td style=\"font-size: 0.4rem;\">k</td><td style=\"font-size: 2.0rem;\">l</td><td style=\"font-size: 0.2rem;\">m</td><td style=\"font-size: 2.0rem;\">n</td><td style=\"font-size: 1.6rem;\">o</td></tr><tr><td style=\"font-size: 0.6rem;\">p</td><td style=\"font-size: 2.0rem;\">q</td><td style=\"font-size: 2.0rem;\">r</td><td style=\"font-size: 1.6rem;\">s</td><td style=\"font-size: 0.2rem;\">t</td></tr></tbody><tbody><tr><td style=\"font-size: 1.6rem;\">u</td><td style=\"font-size: 0.4rem;\">v</td><td style=\"font-size: 0.4rem;\">w</td><td style=\"font-size: 1.0rem;\">x</td><td style=\"font-size: 0.6rem;\">y</td></tr></tbody></table>\n",
       "<table id=\"td\">cell blocks<tbody><tr><td style=\"font-size: 1.2rem;\">a</td><td style=\"font-size: 1.8rem;\">b</td><td style=\"font-size: 1.8rem;\">c</td><td style=\"font-size: 1.8rem;\">d</td><td style=\"font-size: 0.8rem;\">e</td></tr><tr><td style=\"font-size: 1.4rem;\">f</td><td style=\"font-size: 1.8rem;\">g</td><td style=\"font-size: 0.8rem;\">h</td><td style=\"font-size: 2.0rem;\">i</td><td style=\"font-size: 0.4rem;\">j</td></tr></tbody><tbody><tr><td style=\"font-size: 0.4rem;\">k</td><td style=\"font-size: 2.0rem;\">l</td><td style=\"font-size: 0.2rem;\">m</td><td style=\"font-size: 2.0rem;\">n</td><td style=\"font-size: 1.6rem;\">o</td></tr><tr><td style=\"font-size: 0.6rem;\">p</td><td style=\"font-size: 2.0rem;\">q</td><td style=\"font-size: 2.0rem;\">r</td><td style=\"font-size: 1.6rem;\">s</td><td style=\"font-size: 0.2rem;\">t</td></tr></tbody><tbody><tr><td style=\"font-size: 1.6rem;\">u</td><td style=\"font-size: 0.4rem;\">v</td><td style=\"font-size: 0.4rem;\">w</td><td style=\"font-size: 1.0rem;\">x</td><td style=\"font-size: 0.6rem;\">y</td></tr></tbody></table>\n",
       "<pre><code class=\"css\">table:hover {\n",
       "    outline: dashed;\n",
       "    tbody:hover {\n",
       "        outline: dotted;\n",
       "        tr {\n",
       "            border: solid;\n",
       "        }\n",
       "    }\n",
       "}\n",
       "#tbody {tbody {display:block;}}\n",
       "#tr {tr {display:block;}}\n",
       "#td {td {display:block;}}\n",
       "</code></pre>\n"
      ],
      "text/plain": [
       "<IPython.core.display.HTML object>"
      ]
     },
     "metadata": {},
     "output_type": "display_data"
    }
   ],
   "source": [
    "%%\n",
    "{{table_of_cells(cells, \"🍒 table\", id=\"table\")}}\n",
    "{{table_of_cells(cells, \"body blocks\", id=\"tbody\")}}\n",
    "{{table_of_cells(cells, \"block rows\", id=\"tr\")}}\n",
    "{{table_of_cells(cells, \"cell blocks\", id=\"td\")}}\n",
    "\n",
    "```css\n",
    "table:hover {\n",
    "    outline: dashed;\n",
    "    tbody:hover {\n",
    "        outline: dotted;\n",
    "        tr {\n",
    "            border: solid;\n",
    "        }\n",
    "    }\n",
    "}\n",
    "#tbody {tbody {display:block;}}\n",
    "#tr {tr {display:block;}}\n",
    "#td {td {display:block;}}\n",
    "```\n"
   ]
  }
 ],
 "metadata": {
  "kernelspec": {
   "display_name": "Python [conda env:p311] *",
   "language": "python",
   "name": "conda-env-p311-py"
  },
  "language_info": {
   "codemirror_mode": {
    "name": "ipython",
    "version": 3
   },
   "file_extension": ".py",
   "mimetype": "text/x-python",
   "name": "python",
   "nbconvert_exporter": "python",
   "pygments_lexer": "ipython3",
   "version": "3.11.3"
  },
  "widgets": {
   "application/vnd.jupyter.widget-state+json": {
    "state": {},
    "version_major": 2,
    "version_minor": 0
   }
  }
 },
 "nbformat": 4,
 "nbformat_minor": 5
}
