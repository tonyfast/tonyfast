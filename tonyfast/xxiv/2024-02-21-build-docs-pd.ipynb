{
 "cells": [
  {
   "cell_type": "markdown",
   "id": "55111ffc-f0d9-4486-8ba8-51ce8a382b1a",
   "metadata": {},
   "source": [
    "# build the site docs\n",
    "\n",
    "building documentation with `nbconvert` and dataframes. this approach treats document as data using the\n",
    "`nbformat` at the primary interface for multimedia content.\n",
    "\n",
    "the following is an example rendering https://tonyfast.github.io/tonyfast/draft/tonyfast/tonyfast/tonyfast/xxiii/2023-12-13-jupyter-community-call.html . something got wonky with the paths."
   ]
  },
  {
   "cell_type": "code",
   "execution_count": 1,
   "id": "6bfc716a-2456-4ccf-adf7-ed8aa0f20025",
   "metadata": {},
   "outputs": [],
   "source": [
    "    import tonyfast.utils, pandas, json, nbconvert, nbformat, operator, bs4, anyio, pathlib, re, os\n",
    "    __import__(\"nest_asyncio\").apply()"
   ]
  },
  {
   "cell_type": "code",
   "execution_count": 2,
   "id": "180e0b01-2bcf-4c8d-8aaf-ccbbde176047",
   "metadata": {},
   "outputs": [],
   "source": [
    "    if MAIN := __name__ == \"__main__\":\n",
    "        class Config:\n",
    "            dir = pathlib.Path(globals().get(\"__file_\") or \"2024-02-21-build-docs-pd.ipynb\").absolute().parent.parent.parent\n",
    "            paths = [\"tonyfast\"]\n",
    "            target = pathlib.Path(\"site/draft\")\n",
    "            exporter = nbconvert.get_exporter(\"a11y\")(\n",
    "                exclude_input_prompt=True, \n",
    "                include_sa11y=False,\n",
    "                exclude_output_prompt=True,\n",
    "                hide_anchor_links=True,\n",
    "                include_settings=True,\n",
    "                include_visibility=True\n",
    "            )\n",
    "    FILE = globals().get(\"__file_\") or os.environ.get(\"WRITE\")\n",
    "    async def from_notebook_node(nb, resources=None, exporter=Config.exporter):\n",
    "        return exporter.from_notebook_node(nb, resources=resources)[0]"
   ]
  },
  {
   "cell_type": "markdown",
   "id": "a35555d8-12a3-4864-87a5-ceb35d4aef2c",
   "metadata": {},
   "source": [
    "load in all the notebooks\n",
    "\n",
    "find all the notebooks resembling a post.\n",
    "we are skipping the work needing to be done on the indexes and readmes.\n",
    "indexes and readmes use different exporter configurations than content notebooks."
   ]
  },
  {
   "cell_type": "code",
   "execution_count": 3,
   "id": "86745651-8ff9-4b2a-addc-8ed54c00f688",
   "metadata": {},
   "outputs": [],
   "source": [
    "    df = (\n",
    "        Config.dir / pandas.Index(Config.paths)\n",
    "    ).rename(\"directory\").path(\n",
    "    ).glob(\"**/[0-9][0-9][0-9][0-9]-*.ipynb\", recursive=True).apath().pipe(\n",
    "        pandas.Index, name=\"files\"\n",
    "    ).to_series()"
   ]
  },
  {
   "cell_type": "markdown",
   "id": "8232cc9b-6a4b-4f41-9247-a92cbbb73e6c",
   "metadata": {},
   "source": [
    "remove checkpoint files."
   ]
  },
  {
   "cell_type": "code",
   "execution_count": 4,
   "id": "c5587b3c-b0f8-4e55-969c-255cad57a52c",
   "metadata": {
    "editable": true,
    "slideshow": {
     "slide_type": ""
    },
    "tags": []
   },
   "outputs": [],
   "source": [
    "    df = df.loc[~df.astype(str).str.contains(\"checkpoint\")].pipe(pandas.Index).rename(\"file\")"
   ]
  },
  {
   "cell_type": "markdown",
   "id": "ad280053-c2c2-4707-8dbc-53b99ef95d28",
   "metadata": {},
   "source": [
    "extract the date from the title. this can later be enriched with git information"
   ]
  },
  {
   "cell_type": "code",
   "execution_count": 5,
   "id": "b4c12c8c-f170-4cd6-b2e7-de4e8e4927c4",
   "metadata": {},
   "outputs": [],
   "source": [
    "    TITLE = \"(?P<year>[0-9]{4})-(?P<month>[0-9]{2})-(?P<day>[0-9]{1,2})-(?P<slug>.+)\"\n",
    "    df = df.apath.stem.str.extract(TITLE).set_index(df).dropna(how=\"all\")\n",
    "    df[\"date\"] = pandas.to_datetime(df.year +\"-\"+ df.month +\"-\"+ df.day)\n",
    "    df = df.sort_values(\"date\", ascending=False)"
   ]
  },
  {
   "cell_type": "markdown",
   "id": "6c324e32-b323-4a38-8a96-f3df573ee66a",
   "metadata": {},
   "source": [
    "read in all the notebooks"
   ]
  },
  {
   "cell_type": "code",
   "execution_count": 6,
   "id": "53e8b588-47fc-4878-be24-942bf025efdc",
   "metadata": {},
   "outputs": [
    {
     "data": {
      "text/html": [
       "<div>\n",
       "<style scoped>\n",
       "    .dataframe tbody tr th:only-of-type {\n",
       "        vertical-align: middle;\n",
       "    }\n",
       "\n",
       "    .dataframe tbody tr th {\n",
       "        vertical-align: top;\n",
       "    }\n",
       "\n",
       "    .dataframe thead th {\n",
       "        text-align: right;\n",
       "    }\n",
       "</style>\n",
       "<table border=\"1\" class=\"dataframe\">\n",
       "  <thead>\n",
       "    <tr style=\"text-align: right;\">\n",
       "      <th></th>\n",
       "      <th>year</th>\n",
       "      <th>month</th>\n",
       "      <th>day</th>\n",
       "      <th>slug</th>\n",
       "      <th>date</th>\n",
       "      <th>nb</th>\n",
       "    </tr>\n",
       "    <tr>\n",
       "      <th>file</th>\n",
       "      <th></th>\n",
       "      <th></th>\n",
       "      <th></th>\n",
       "      <th></th>\n",
       "      <th></th>\n",
       "      <th></th>\n",
       "    </tr>\n",
       "  </thead>\n",
       "  <tbody>\n",
       "    <tr>\n",
       "      <th>/home/tbone/Documents/tonyfast/tonyfast/xxiv/2024-02-24-presentation-a11y.ipynb</th>\n",
       "      <td>2024</td>\n",
       "      <td>02</td>\n",
       "      <td>24</td>\n",
       "      <td>presentation-a11y</td>\n",
       "      <td>2024-02-24</td>\n",
       "      <td>{'cells': [{'cell_type': 'markdown', 'id': 'fb...</td>\n",
       "    </tr>\n",
       "    <tr>\n",
       "      <th>/home/tbone/Documents/tonyfast/tonyfast/xxiv/2024-02-21-build-docs-pd.ipynb</th>\n",
       "      <td>2024</td>\n",
       "      <td>02</td>\n",
       "      <td>21</td>\n",
       "      <td>build-docs-pd</td>\n",
       "      <td>2024-02-21</td>\n",
       "      <td>{'cells': [{'cell_type': 'markdown', 'id': '55...</td>\n",
       "    </tr>\n",
       "    <tr>\n",
       "      <th>/home/tbone/Documents/tonyfast/tonyfast/xxiv/2024-02-20-multiindex-html.ipynb</th>\n",
       "      <td>2024</td>\n",
       "      <td>02</td>\n",
       "      <td>20</td>\n",
       "      <td>multiindex-html</td>\n",
       "      <td>2024-02-20</td>\n",
       "      <td>{'cells': [{'cell_type': 'markdown', 'id': 'd0...</td>\n",
       "    </tr>\n",
       "    <tr>\n",
       "      <th>/home/tbone/Documents/tonyfast/tonyfast/xxiv/2024-02-15-pandas-table-names.ipynb</th>\n",
       "      <td>2024</td>\n",
       "      <td>02</td>\n",
       "      <td>15</td>\n",
       "      <td>pandas-table-names</td>\n",
       "      <td>2024-02-15</td>\n",
       "      <td>{'cells': [{'cell_type': 'markdown', 'id': '98...</td>\n",
       "    </tr>\n",
       "    <tr>\n",
       "      <th>/home/tbone/Documents/tonyfast/tonyfast/xxiv/2024-02-05-aiohttp-pandas-accessor.ipynb</th>\n",
       "      <td>2024</td>\n",
       "      <td>02</td>\n",
       "      <td>05</td>\n",
       "      <td>aiohttp-pandas-accessor</td>\n",
       "      <td>2024-02-05</td>\n",
       "      <td>{'cells': [{'cell_type': 'markdown', 'id': '44...</td>\n",
       "    </tr>\n",
       "    <tr>\n",
       "      <th>/home/tbone/Documents/tonyfast/tonyfast/xxiv/2024-01-25-mast-a11y-notebooks.ipynb</th>\n",
       "      <td>2024</td>\n",
       "      <td>01</td>\n",
       "      <td>25</td>\n",
       "      <td>mast-a11y-notebooks</td>\n",
       "      <td>2024-01-25</td>\n",
       "      <td>{'cells': [{'attachments': {}, 'cell_type': 'm...</td>\n",
       "    </tr>\n",
       "    <tr>\n",
       "      <th>/home/tbone/Documents/tonyfast/tonyfast/xxiv/2024-01-20-colgroup-schema.ipynb</th>\n",
       "      <td>2024</td>\n",
       "      <td>01</td>\n",
       "      <td>20</td>\n",
       "      <td>colgroup-schema</td>\n",
       "      <td>2024-01-20</td>\n",
       "      <td>{'cells': [{'cell_type': 'markdown', 'id': '8c...</td>\n",
       "    </tr>\n",
       "    <tr>\n",
       "      <th>/home/tbone/Documents/tonyfast/tonyfast/xxiv/2024-01-05-docx-to-data.ipynb</th>\n",
       "      <td>2024</td>\n",
       "      <td>01</td>\n",
       "      <td>05</td>\n",
       "      <td>docx-to-data</td>\n",
       "      <td>2024-01-05</td>\n",
       "      <td>{'cells': [{'cell_type': 'markdown', 'id': '2a...</td>\n",
       "    </tr>\n",
       "    <tr>\n",
       "      <th>/home/tbone/Documents/tonyfast/tonyfast/xxiii/2024-01-05-docx-to-data.ipynb</th>\n",
       "      <td>2024</td>\n",
       "      <td>01</td>\n",
       "      <td>05</td>\n",
       "      <td>docx-to-data</td>\n",
       "      <td>2024-01-05</td>\n",
       "      <td>{'cells': [{'cell_type': 'markdown', 'id': '2a...</td>\n",
       "    </tr>\n",
       "    <tr>\n",
       "      <th>/home/tbone/Documents/tonyfast/tonyfast/xxiii/2023-12-20-interactive-html-validation.ipynb</th>\n",
       "      <td>2023</td>\n",
       "      <td>12</td>\n",
       "      <td>20</td>\n",
       "      <td>interactive-html-validation</td>\n",
       "      <td>2023-12-20</td>\n",
       "      <td>{'cells': [{'cell_type': 'markdown', 'id': 'a2...</td>\n",
       "    </tr>\n",
       "  </tbody>\n",
       "</table>\n",
       "</div>"
      ],
      "text/plain": [
       "                                                    year month day  \\\n",
       "file                                                                 \n",
       "/home/tbone/Documents/tonyfast/tonyfast/xxiv/20...  2024    02  24   \n",
       "/home/tbone/Documents/tonyfast/tonyfast/xxiv/20...  2024    02  21   \n",
       "/home/tbone/Documents/tonyfast/tonyfast/xxiv/20...  2024    02  20   \n",
       "/home/tbone/Documents/tonyfast/tonyfast/xxiv/20...  2024    02  15   \n",
       "/home/tbone/Documents/tonyfast/tonyfast/xxiv/20...  2024    02  05   \n",
       "/home/tbone/Documents/tonyfast/tonyfast/xxiv/20...  2024    01  25   \n",
       "/home/tbone/Documents/tonyfast/tonyfast/xxiv/20...  2024    01  20   \n",
       "/home/tbone/Documents/tonyfast/tonyfast/xxiv/20...  2024    01  05   \n",
       "/home/tbone/Documents/tonyfast/tonyfast/xxiii/2...  2024    01  05   \n",
       "/home/tbone/Documents/tonyfast/tonyfast/xxiii/2...  2023    12  20   \n",
       "\n",
       "                                                                           slug  \\\n",
       "file                                                                              \n",
       "/home/tbone/Documents/tonyfast/tonyfast/xxiv/20...            presentation-a11y   \n",
       "/home/tbone/Documents/tonyfast/tonyfast/xxiv/20...                build-docs-pd   \n",
       "/home/tbone/Documents/tonyfast/tonyfast/xxiv/20...              multiindex-html   \n",
       "/home/tbone/Documents/tonyfast/tonyfast/xxiv/20...           pandas-table-names   \n",
       "/home/tbone/Documents/tonyfast/tonyfast/xxiv/20...      aiohttp-pandas-accessor   \n",
       "/home/tbone/Documents/tonyfast/tonyfast/xxiv/20...          mast-a11y-notebooks   \n",
       "/home/tbone/Documents/tonyfast/tonyfast/xxiv/20...              colgroup-schema   \n",
       "/home/tbone/Documents/tonyfast/tonyfast/xxiv/20...                 docx-to-data   \n",
       "/home/tbone/Documents/tonyfast/tonyfast/xxiii/2...                 docx-to-data   \n",
       "/home/tbone/Documents/tonyfast/tonyfast/xxiii/2...  interactive-html-validation   \n",
       "\n",
       "                                                         date  \\\n",
       "file                                                            \n",
       "/home/tbone/Documents/tonyfast/tonyfast/xxiv/20... 2024-02-24   \n",
       "/home/tbone/Documents/tonyfast/tonyfast/xxiv/20... 2024-02-21   \n",
       "/home/tbone/Documents/tonyfast/tonyfast/xxiv/20... 2024-02-20   \n",
       "/home/tbone/Documents/tonyfast/tonyfast/xxiv/20... 2024-02-15   \n",
       "/home/tbone/Documents/tonyfast/tonyfast/xxiv/20... 2024-02-05   \n",
       "/home/tbone/Documents/tonyfast/tonyfast/xxiv/20... 2024-01-25   \n",
       "/home/tbone/Documents/tonyfast/tonyfast/xxiv/20... 2024-01-20   \n",
       "/home/tbone/Documents/tonyfast/tonyfast/xxiv/20... 2024-01-05   \n",
       "/home/tbone/Documents/tonyfast/tonyfast/xxiii/2... 2024-01-05   \n",
       "/home/tbone/Documents/tonyfast/tonyfast/xxiii/2... 2023-12-20   \n",
       "\n",
       "                                                                                                   nb  \n",
       "file                                                                                                   \n",
       "/home/tbone/Documents/tonyfast/tonyfast/xxiv/20...  {'cells': [{'cell_type': 'markdown', 'id': 'fb...  \n",
       "/home/tbone/Documents/tonyfast/tonyfast/xxiv/20...  {'cells': [{'cell_type': 'markdown', 'id': '55...  \n",
       "/home/tbone/Documents/tonyfast/tonyfast/xxiv/20...  {'cells': [{'cell_type': 'markdown', 'id': 'd0...  \n",
       "/home/tbone/Documents/tonyfast/tonyfast/xxiv/20...  {'cells': [{'cell_type': 'markdown', 'id': '98...  \n",
       "/home/tbone/Documents/tonyfast/tonyfast/xxiv/20...  {'cells': [{'cell_type': 'markdown', 'id': '44...  \n",
       "/home/tbone/Documents/tonyfast/tonyfast/xxiv/20...  {'cells': [{'attachments': {}, 'cell_type': 'm...  \n",
       "/home/tbone/Documents/tonyfast/tonyfast/xxiv/20...  {'cells': [{'cell_type': 'markdown', 'id': '8c...  \n",
       "/home/tbone/Documents/tonyfast/tonyfast/xxiv/20...  {'cells': [{'cell_type': 'markdown', 'id': '2a...  \n",
       "/home/tbone/Documents/tonyfast/tonyfast/xxiii/2...  {'cells': [{'cell_type': 'markdown', 'id': '2a...  \n",
       "/home/tbone/Documents/tonyfast/tonyfast/xxiii/2...  {'cells': [{'cell_type': 'markdown', 'id': 'a2...  "
      ]
     },
     "execution_count": 6,
     "metadata": {},
     "output_type": "execute_result"
    }
   ],
   "source": [
    "    df = (await df.index.apath.read_text()).apply(json.loads)\\\n",
    "    .rename(\"nb\").apply(nbformat.from_dict).pipe(df.join)\n",
    "    if not FILE:\n",
    "        df = df.head(10)\n",
    "    df"
   ]
  },
  {
   "cell_type": "markdown",
   "id": "efb0b2a6-e81f-4fa7-bef2-539e3941be4e",
   "metadata": {},
   "source": [
    "the notebooks require preparation before they can transform to html"
   ]
  },
  {
   "cell_type": "code",
   "execution_count": 7,
   "id": "c1b9e70b-479a-410f-9f45-187a4aa92f89",
   "metadata": {},
   "outputs": [],
   "source": [
    "    MIDGY = re.compile(\"^\\%\\%[\\s+,(pidgy),(midgy)]\")\n",
    "\n",
    "    def prepare_cell(cell):\n",
    "        \"\"\"make inplace changes to the notebook that carried through the publishing process\"\"\"\n",
    "        cell.source = \"\".join(cell.source)\n",
    "        if MIDGY.match(cell.source):\n",
    "            cell.metadata.setdefault(\"jupyter\", {})[\"source_hidden\"] = True\n",
    "        for out in cell.get(\"outputs\", \"\"):\n",
    "            for k, v in out.get(\"data\", {}).items():  k.startswith(\"text\") and out[\"data\"].__setitem__(k, \"\".join(v))\n",
    "            if \"text\" in out: out.text = \"\".join(out.text)\n",
    "        return cell"
   ]
  },
  {
   "cell_type": "code",
   "execution_count": 8,
   "id": "0636f694-7fa5-4fea-a7fb-3249782e6de0",
   "metadata": {},
   "outputs": [],
   "source": [
    "    cells = df.nb.itemgetter(\"cells\").enumerate(\"index\").apply(prepare_cell).series()\n",
    "    code = cells.loc[cells.cell_type.eq(\"code\"), :]\n",
    "    _idgy = code[code.source.str.contains(\"\\s*%(?:re)load_ext\\s+[pm]idgy\")]"
   ]
  },
  {
   "cell_type": "code",
   "execution_count": 9,
   "id": "dba116c4-103d-4d0b-8220-0c0c2fc6c976",
   "metadata": {},
   "outputs": [],
   "source": [
    "    df.loc[_idgy.index.get_level_values(0).drop_duplicates()].apply(\n",
    "        lambda x: [\n",
    "            y[\"metadata\"].setdefault(\"jupyter\", {}).setdefault(\"source_hidden\", True)\n",
    "            for y in x.loc[\"nb\"][\"cells\"] if y[\"cell_type\"] == \"code\"\n",
    "        ] and None, axis=1 \n",
    "    );"
   ]
  },
  {
   "cell_type": "code",
   "execution_count": 10,
   "id": "1a72f3e8-6614-48ca-8900-b8dae47224cf",
   "metadata": {},
   "outputs": [],
   "source": [
    "    def render_markdown_output(output):\n",
    "        if \"data\" in output:\n",
    "            if \"text/markdown\" in output[\"data\"]:\n",
    "                md = Config.exporter.environment.globals[\"markdown\"](output[\"data\"][\"text/markdown\"])\n",
    "                output[\"data\"][\"text/html\"] = md\n",
    "                return md\n",
    "                "
   ]
  },
  {
   "cell_type": "code",
   "execution_count": 11,
   "id": "bdeb3475-3340-4b53-84eb-6035ee71b6a9",
   "metadata": {},
   "outputs": [],
   "source": [
    "    outputs = cells.outputs.dropna().enumerate(\"output\").dropna()\n",
    "    outputs.apply(render_markdown_output);\n",
    "    markdowns = cells[cells.cell_type.eq(\"markdown\")].apply(\n",
    "        lambda s: operator.setitem(\n",
    "            s.metadata.setdefault(\"data\", {}),\n",
    "            \"text/html\",\n",
    "            html := Config.exporter.environment.globals[\"markdown\"](s.source),\n",
    "        )\n",
    "        or html,\n",
    "        axis=1,\n",
    "    ).to_frame(\"html\").assign(output=-1).set_index(\"output\", append=True)"
   ]
  },
  {
   "cell_type": "markdown",
   "id": "330037d4-9d00-4662-a1fa-2285d9623c35",
   "metadata": {},
   "source": [
    "screate intermediate representations of markdown. when we handle this work before templating we can use partial information from the outcome\n",
    "to build the table of contents and relative links."
   ]
  },
  {
   "cell_type": "code",
   "execution_count": 12,
   "id": "066a00c6-7b49-4294-85cd-44e6db8e8318",
   "metadata": {},
   "outputs": [],
   "source": [
    "    html = pandas.concat(\n",
    "        [\n",
    "            markdowns,\n",
    "            outputs.itemgetter(\"data\").dropna().itemgetter(\"text/html\").dropna().to_frame(\"html\"),\n",
    "            \n",
    "        ]\n",
    "    ).sort_index()\n",
    "\n",
    "    html[\"soup\"] = html.html.apply(bs4.BeautifulSoup, features=\"lxml\")"
   ]
  },
  {
   "cell_type": "markdown",
   "id": "d3f1dbd6-05d3-4e65-b0ff-43c0245ab181",
   "metadata": {},
   "source": [
    "extract the headings from each cell"
   ]
  },
  {
   "cell_type": "code",
   "execution_count": 13,
   "id": "38f341b6-d2f4-4ad7-a187-9b65d93c89c7",
   "metadata": {},
   "outputs": [],
   "source": [
    "    html[\"h\"] = html.soup.methodcaller(\"select\", \"h1,h2,h3,h4,h5,h6\")\n",
    "    h = html.h.enumerate(\"h\").dropna()"
   ]
  },
  {
   "cell_type": "markdown",
   "id": "ee0523bf-80e0-407e-90b0-e11e70d2a8b2",
   "metadata": {},
   "source": [
    "expand the headings into features on the dataframe"
   ]
  },
  {
   "cell_type": "code",
   "execution_count": 14,
   "id": "c89d9fb5-cf60-4036-80e5-22ff89a344ac",
   "metadata": {},
   "outputs": [
    {
     "data": {
      "text/html": [
       "<div>\n",
       "<style scoped>\n",
       "    .dataframe tbody tr th:only-of-type {\n",
       "        vertical-align: middle;\n",
       "    }\n",
       "\n",
       "    .dataframe tbody tr th {\n",
       "        vertical-align: top;\n",
       "    }\n",
       "\n",
       "    .dataframe thead th {\n",
       "        text-align: right;\n",
       "    }\n",
       "</style>\n",
       "<table border=\"1\" class=\"dataframe\">\n",
       "  <thead>\n",
       "    <tr style=\"text-align: right;\">\n",
       "      <th></th>\n",
       "      <th></th>\n",
       "      <th></th>\n",
       "      <th></th>\n",
       "      <th>h</th>\n",
       "      <th>level</th>\n",
       "      <th>string</th>\n",
       "      <th>id</th>\n",
       "    </tr>\n",
       "    <tr>\n",
       "      <th>file</th>\n",
       "      <th>index</th>\n",
       "      <th>output</th>\n",
       "      <th>h</th>\n",
       "      <th></th>\n",
       "      <th></th>\n",
       "      <th></th>\n",
       "      <th></th>\n",
       "    </tr>\n",
       "  </thead>\n",
       "  <tbody>\n",
       "    <tr>\n",
       "      <th>/home/tbone/Documents/tonyfast/tonyfast/xxiii/2023-12-20-interactive-html-validation.ipynb</th>\n",
       "      <th>0</th>\n",
       "      <th>-1</th>\n",
       "      <th>0</th>\n",
       "      <td>[interactive w3c validation]</td>\n",
       "      <td>1</td>\n",
       "      <td>interactive w3c validation</td>\n",
       "      <td>interactive-w3c-validation</td>\n",
       "    </tr>\n",
       "    <tr>\n",
       "      <th rowspan=\"4\" valign=\"top\">/home/tbone/Documents/tonyfast/tonyfast/xxiii/2024-01-05-docx-to-data.ipynb</th>\n",
       "      <th>0</th>\n",
       "      <th>-1</th>\n",
       "      <th>0</th>\n",
       "      <td>[convertin a docx into a structured dataframe]</td>\n",
       "      <td>1</td>\n",
       "      <td>convertin a docx into a structured dataframe</td>\n",
       "      <td>convertin-a-docx-into-a-structured-dataframe</td>\n",
       "    </tr>\n",
       "    <tr>\n",
       "      <th rowspan=\"3\" valign=\"top\">11</th>\n",
       "      <th>0</th>\n",
       "      <th>0</th>\n",
       "      <td>[Ellingham diagram and buffered systems]</td>\n",
       "      <td>2</td>\n",
       "      <td>Ellingham diagram and buffered systems</td>\n",
       "      <td>ellingham-diagram-and-buffered-systems</td>\n",
       "    </tr>\n",
       "    <tr>\n",
       "      <th>1</th>\n",
       "      <th>0</th>\n",
       "      <td>[Internal process and differential and integra...</td>\n",
       "      <td>2</td>\n",
       "      <td>Internal process and differential and integrat...</td>\n",
       "      <td>internal-process-and-differential-and-integrat...</td>\n",
       "    </tr>\n",
       "    <tr>\n",
       "      <th>2</th>\n",
       "      <th>0</th>\n",
       "      <td>[Maximum reaction rate and chemical transport ...</td>\n",
       "      <td>2</td>\n",
       "      <td>Maximum reaction rate and chemical transport r...</td>\n",
       "      <td>maximum-reaction-rate-and-chemical-transport-r...</td>\n",
       "    </tr>\n",
       "  </tbody>\n",
       "</table>\n",
       "</div>"
      ],
      "text/plain": [
       "                                                                                                                   h  \\\n",
       "file                                               index output h                                                      \n",
       "/home/tbone/Documents/tonyfast/tonyfast/xxiii/2... 0     -1     0                       [interactive w3c validation]   \n",
       "/home/tbone/Documents/tonyfast/tonyfast/xxiii/2... 0     -1     0     [convertin a docx into a structured dataframe]   \n",
       "                                                   11     0     0           [Ellingham diagram and buffered systems]   \n",
       "                                                          1     0  [Internal process and differential and integra...   \n",
       "                                                          2     0  [Maximum reaction rate and chemical transport ...   \n",
       "\n",
       "                                                                   level  \\\n",
       "file                                               index output h          \n",
       "/home/tbone/Documents/tonyfast/tonyfast/xxiii/2... 0     -1     0      1   \n",
       "/home/tbone/Documents/tonyfast/tonyfast/xxiii/2... 0     -1     0      1   \n",
       "                                                   11     0     0      2   \n",
       "                                                          1     0      2   \n",
       "                                                          2     0      2   \n",
       "\n",
       "                                                                                                              string  \\\n",
       "file                                               index output h                                                      \n",
       "/home/tbone/Documents/tonyfast/tonyfast/xxiii/2... 0     -1     0                         interactive w3c validation   \n",
       "/home/tbone/Documents/tonyfast/tonyfast/xxiii/2... 0     -1     0       convertin a docx into a structured dataframe   \n",
       "                                                   11     0     0             Ellingham diagram and buffered systems   \n",
       "                                                          1     0  Internal process and differential and integrat...   \n",
       "                                                          2     0  Maximum reaction rate and chemical transport r...   \n",
       "\n",
       "                                                                                                                  id  \n",
       "file                                               index output h                                                     \n",
       "/home/tbone/Documents/tonyfast/tonyfast/xxiii/2... 0     -1     0                         interactive-w3c-validation  \n",
       "/home/tbone/Documents/tonyfast/tonyfast/xxiii/2... 0     -1     0       convertin-a-docx-into-a-structured-dataframe  \n",
       "                                                   11     0     0             ellingham-diagram-and-buffered-systems  \n",
       "                                                          1     0  internal-process-and-differential-and-integrat...  \n",
       "                                                          2     0  maximum-reaction-rate-and-chemical-transport-r...  "
      ]
     },
     "execution_count": 14,
     "metadata": {},
     "output_type": "execute_result"
    }
   ],
   "source": [
    "    h = h.to_frame(\"h\").assign(\n",
    "        level=h.attrgetter(\"name\").str.lstrip(\"h\").astype(int),\n",
    "        string=h.attrgetter(\"string\"),\n",
    "        id=h.attrgetter(\"attrs\").itemgetter(\"id\")\n",
    "    ); h.head()"
   ]
  },
  {
   "cell_type": "markdown",
   "id": "a30518f9-bb8a-49f3-a143-859f0361d54b",
   "metadata": {},
   "source": [
    "extract the document title from the headings. _we should probably extract a description too. \n",
    "adding description to the meta is good for accessibility when choosing tabs."
   ]
  },
  {
   "cell_type": "code",
   "execution_count": 15,
   "id": "587ac244-08d8-4a7a-8b32-0ca1d2d45a53",
   "metadata": {},
   "outputs": [],
   "source": [
    "    df = df.assign(title=h.groupby(h.index.get_level_values(\"file\")).apply(\n",
    "        lambda s: s.sort_values(\"level\").string.iloc[0]\n",
    "    ).rename(\"title\"))"
   ]
  },
  {
   "cell_type": "code",
   "execution_count": 16,
   "id": "5433c005-9038-496a-a280-4629d28580cf",
   "metadata": {},
   "outputs": [],
   "source": [
    "    df = df.assign(description=html.soup.methodcaller(\"select_one\", \"p\").dropna().attrgetter(\"text\").groupby(\n",
    "        \"file\"\n",
    "    ).apply(lambda x: x.sort_index().iloc[0]).rename(\"description\").reindex(df.index))"
   ]
  },
  {
   "cell_type": "code",
   "execution_count": 17,
   "id": "f171ccf2-ae67-4971-86a0-edc0f7f79cf6",
   "metadata": {},
   "outputs": [],
   "source": [
    "    df.apply(\n",
    "        lambda x: (\n",
    "            x.title and x.loc[\"nb\"].metadata.setdefault(\"title\", x.title),\n",
    "            x.description and x.loc[\"nb\"].metadata.setdefault(\"description\", x.description)\n",
    "        ), axis=1\n",
    "    );"
   ]
  },
  {
   "cell_type": "markdown",
   "id": "88810eb8-8766-4c07-b697-940b00b45ead",
   "metadata": {},
   "source": [
    "make a table of contents `details > nav > ol` for a dataframe"
   ]
  },
  {
   "cell_type": "code",
   "execution_count": 18,
   "id": "d9609949-8501-4fb1-b056-ebc57523a543",
   "metadata": {},
   "outputs": [],
   "source": [
    "    def make_toc(df):        \n",
    "        toc = bs4.BeautifulSoup(features=\"lxml\")\n",
    "        toc.append(nav := toc.new_tag(\"nav\"))\n",
    "        nav.append(ol := toc.new_tag(\"ol\"))\n",
    "        last_level = 1\n",
    "        for i, row in df.iterrows():\n",
    "            if row.string:\n",
    "                if row.level > last_level:\n",
    "                    for i in range(last_level, row.level):\n",
    "                        last_level = i + 1\n",
    "                        ol.append(li := toc.new_tag(\"li\"))\n",
    "                        li.append(ol := toc.new_tag(\"ol\"))\n",
    "                else:\n",
    "                    for i in range(row.level, last_level):\n",
    "                        if i == 1:\n",
    "                            continue\n",
    "                        if ol.parent and ol.parent.parent:\n",
    "                            ol = ol.parent.parent\n",
    "                ol.append(li := toc.new_tag(\"li\"))\n",
    "                li.append( a:= toc.new_tag(\"a\"))\n",
    "                a.append(row.string)\n",
    "                a.attrs.update(href=F\"#{row.id}\")\n",
    "        return toc"
   ]
  },
  {
   "cell_type": "markdown",
   "id": "a0f7f0c6-a17f-467c-a00d-4752a4613935",
   "metadata": {},
   "source": [
    "generate the table of contents for each file we have indexed"
   ]
  },
  {
   "cell_type": "code",
   "execution_count": 19,
   "id": "78315172-a032-440d-ba4f-78d752e7ef0d",
   "metadata": {},
   "outputs": [],
   "source": [
    "    df = df.assign(toc=h.groupby(h.index.get_level_values(\"file\")).apply(make_toc).apply(str))"
   ]
  },
  {
   "cell_type": "markdown",
   "id": "0d9d6baa-ccc8-4b99-b64b-7c06feac7291",
   "metadata": {},
   "source": [
    "determine the location of the html version of the file."
   ]
  },
  {
   "cell_type": "code",
   "execution_count": 20,
   "id": "ecbfe5ac-5a3d-4089-8032-9e24b1533702",
   "metadata": {},
   "outputs": [],
   "source": [
    "    df = df.assign(target=(await (\n",
    "        Config.target / df.index.apath.relative_to(Config.dir)\n",
    "    ).apath().apath.with_suffix(\".html\").apath.absolute()).values)"
   ]
  },
  {
   "cell_type": "code",
   "execution_count": 21,
   "id": "b6ba1505-5d4e-4285-b1b8-a0bf76636460",
   "metadata": {},
   "outputs": [],
   "source": [
    "    df = df.assign(**pandas.DataFrame([\n",
    "            [None] + df.index.values[:-1].tolist(), df.index.values, df.index.values[1:].tolist() + [None]\n",
    "    ], index=[\"prev\", \"file\", \"next\"]).T.set_index(\"file\"))"
   ]
  },
  {
   "cell_type": "code",
   "execution_count": 22,
   "id": "ea65a82d-cd26-4acd-b88e-7bce7aff388f",
   "metadata": {},
   "outputs": [],
   "source": [
    "    def relative_path(source, target):\n",
    "        \"\"\"compute a relative path from source to target\"\"\"\n",
    "        if target:\n",
    "            common = []\n",
    "            if not source.is_absolute():\n",
    "                source = pathlib.Path(source).absolute()\n",
    "            if not target.is_absolute():\n",
    "                target = pathlib.Path(target).absolute()\n",
    "            for common, (s, t) in enumerate(zip(source.parts, target.parts)):\n",
    "                if s != t: break\n",
    "            return type(source)(*[\"..\"]*(len(target.parents)-common), *target.parts[common:])"
   ]
  },
  {
   "cell_type": "markdown",
   "id": "bb238b12-1692-4ccc-bb55-e193125d6d79",
   "metadata": {},
   "source": [
    "generate the footer that contains the previous and next links "
   ]
  },
  {
   "cell_type": "code",
   "execution_count": 23,
   "id": "65e5d0a5-f3ee-4825-a1c9-b835d75f1cff",
   "metadata": {},
   "outputs": [],
   "source": [
    "    df = df.assign(\n",
    "        footer = df.apply(\n",
    "                lambda s: (s.prev and F\"\"\"<a href=\"{relative_path(s.target, df.loc[s.prev].target)}\" rel=\"prev><span aria-hidden=\"true\">&lt;</span>{df.loc[s.prev].title}</a><br/>\"\"\" or \"\")\n",
    "                + (s.next and F\"\"\"<a href=\"{relative_path(s.target, df.loc[s.next].target)}\" rel=\"next\">{df.loc[s.next].title} <span aria-hidden=\"true\">&gt;</span></a><br/>\"\"\" or \"\"),\n",
    "                axis=1\n",
    "        )\n",
    "    )"
   ]
  },
  {
   "cell_type": "code",
   "execution_count": 24,
   "id": "06182b10-ae1f-4808-8195-baae6ac508b9",
   "metadata": {},
   "outputs": [],
   "source": [
    "    me = \"\"\"<p><a href=\"https://github.com/tonyfast\" rel=\"me\" style=\"font-size: bigger;\"\n",
    "    aria-description=\"opens new tab\" target=\"_blank\">@tonyfast</a>s notebooks</p>\"\"\""
   ]
  },
  {
   "cell_type": "code",
   "execution_count": 25,
   "id": "3416b39f-123b-43f8-b779-29afc50398be",
   "metadata": {},
   "outputs": [],
   "source": [
    "    df = df.assign(\n",
    "        header = df.apply(\n",
    "        lambda s: me + \"<details><summary>site navigation</summary><nav><ol>%s</ol></nav></details>\"% \"\".join(\n",
    "            F\"\"\"<li><a href=\"{relative_path(s.target, t.target)}\">{t.title}</a></li>\"\"\"\n",
    "            for i, t in df.iterrows()\n",
    "        ), axis=1\n",
    "    ))"
   ]
  },
  {
   "cell_type": "code",
   "execution_count": 26,
   "id": "31860c69-561c-427a-be75-0a5b477ba6a1",
   "metadata": {},
   "outputs": [],
   "source": [
    "    await df.target.apath.parent.drop_duplicates().apath.mkdir(exist_ok=True, parents=True);\n",
    "    "
   ]
  },
  {
   "cell_type": "code",
   "execution_count": null,
   "id": "930ad11c-f5f3-4f62-a45c-853d8d742ecf",
   "metadata": {},
   "outputs": [],
   "source": [
    "    df[\"html\"] = await df[[\"nb\"]].apply(\n",
    "        lambda s: from_notebook_node(s[\"nb\"], dict(toc=df.toc.loc[s.name], footer=df.loc[s.name].footer, header=df.loc[s.name].header)), axis=1).gather()"
   ]
  },
  {
   "cell_type": "code",
   "execution_count": null,
   "id": "700d5ed7-7192-464f-85f3-dac7bcfb9edf",
   "metadata": {
    "editable": true,
    "slideshow": {
     "slide_type": ""
    },
    "tags": []
   },
   "outputs": [],
   "source": [
    "    if 0 or FILE:\n",
    "        await df.target.apath.parent.drop_duplicates().apath.mkdir(exist_ok=True, parents=True);\n",
    "        await df.apply(\n",
    "            lambda s: print(F\"\"\"writing {s.target.as_uri()}\"\"\") or s.target.write_text(str(s.loc[\"html\"])), axis=1\n",
    "        ).gather()\n",
    "    else:\n",
    "        df.html.head(2).display.iframe().display()\n",
    "\n",
    "    "
   ]
  },
  {
   "cell_type": "code",
   "execution_count": null,
   "id": "effbae7d-3160-422d-b4dd-9dd4ddb7cf1e",
   "metadata": {},
   "outputs": [],
   "source": [
    "    readmes = df.groupby(df.target.apath.parent / \"index.html\").apply(\n",
    "        (top_toc := lambda x: x.apply(\n",
    "          lambda y: F\"\"\"<li><a href=\"{relative_path(y.target.parent / \"index.html\", y.target)}\">{y.loc[\"title\"]}</a></li>\"\"\", axis=1\n",
    "        ).pipe(lambda df: \"<nav><ul>{}</ul></nav>\".format(\"\".join(df.values))))\n",
    "    ).apply(nbformat.v4.new_markdown_cell).apply(lambda x: nbformat.v4.new_notebook(cells=[x])).to_frame(\"nb\")"
   ]
  },
  {
   "cell_type": "code",
   "execution_count": null,
   "id": "8f76cd62-1020-4a61-850c-56f475c72b4c",
   "metadata": {},
   "outputs": [],
   "source": [
    "    readmes = readmes.assign(target=Config.target / readmes.index.apath.relative_to(Config.dir))"
   ]
  },
  {
   "cell_type": "code",
   "execution_count": null,
   "id": "c1be9670-b128-418c-9612-dd77e5d9ce20",
   "metadata": {},
   "outputs": [],
   "source": [
    "    await readmes.target.apath().apath.parent.drop_duplicates().apath.mkdir(exist_ok=True, parents=True);"
   ]
  },
  {
   "cell_type": "code",
   "execution_count": null,
   "id": "5af28d42-81f6-478b-8f4c-0c54bb8f1cc7",
   "metadata": {
    "editable": true,
    "scrolled": true,
    "slideshow": {
     "slide_type": ""
    },
    "tags": []
   },
   "outputs": [],
   "source": [
    "    content = readmes.nb.apply(\n",
    "        from_notebook_node, exporter=(\n",
    "            toc_exporter := nbconvert.get_exporter(\"a11y\")(\n",
    "                exclude_input_prompt=True, \n",
    "                include_sa11y=False,\n",
    "                exclude_output_prompt=True,\n",
    "                exclude_anchor_links=True,\n",
    "                include_toc=False,\n",
    "                include_summary=False,\n",
    "                table_pattern=\"Region\"\n",
    "            )\n",
    "        )\n",
    "    ).gather()\n",
    "    primary = pandas.Series([nbformat.v4.new_notebook(cells=[nbformat.v4.new_markdown_cell(df.pipe(top_toc))])], index=[Config.target/\"index.html\"]).apply(\n",
    "        toc_exporter.from_notebook_node\n",
    "    ).apply(list).series()[0]\n",
    "\n",
    "    if 0 or FILE:\n",
    "        (await content).to_frame(\"html\").apply(\n",
    "            lambda x: print(F\"write index {readmes.loc[x.name].target}\") or readmes.loc[x.name].target.write_text(str(x.loc[\"html\"])), axis=1\n",
    "        )\n",
    "        primary.to_frame(\"html\").apply(\n",
    "            lambda x: print(F\"write index {x.name}\") or x.name.write_text(str(x.loc[\"html\"])), axis=1\n",
    "        )\n",
    "    else:\n",
    "        (await content).display.iframe().display()\n",
    "        primary.display.iframe().display()"
   ]
  }
 ],
 "metadata": {
  "kernelspec": {
   "display_name": "Python [conda env:p311] *",
   "language": "python",
   "name": "conda-env-p311-py"
  },
  "language_info": {
   "codemirror_mode": {
    "name": "ipython",
    "version": 3
   },
   "file_extension": ".py",
   "mimetype": "text/x-python",
   "name": "python",
   "nbconvert_exporter": "python",
   "pygments_lexer": "ipython3",
   "version": "3.11.3"
  },
  "widgets": {
   "application/vnd.jupyter.widget-state+json": {
    "state": {},
    "version_major": 2,
    "version_minor": 0
   }
  }
 },
 "nbformat": 4,
 "nbformat_minor": 5
}
