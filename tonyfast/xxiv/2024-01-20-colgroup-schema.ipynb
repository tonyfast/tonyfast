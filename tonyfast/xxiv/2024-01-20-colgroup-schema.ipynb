{
 "cells": [
  {
   "cell_type": "markdown",
   "id": "8c80c42a-e0a0-4d02-abb0-fe0c032f6247",
   "metadata": {},
   "source": [
    "# semantic representation of columns based on schema\n",
    "\n",
    "schema may define the columnar properties of a table.\n",
    "that can be canonically presented using the `colgroup` and `col` elements\n",
    "that allow for bulk operations on column styles."
   ]
  },
  {
   "cell_type": "code",
   "execution_count": 22,
   "id": "d3ac8daa-05db-4876-8f4e-9daeb6ca4918",
   "metadata": {},
   "outputs": [
    {
     "data": {
      "text/plain": [
       "{'allOf': [{'$ref': '#/$defs/A'}, {'$ref': '#/$defs/B'}],\n",
       " '$defs': {'A': {'properties': {'foo': {}, 'bar': {}}},\n",
       "  'B': {'properties': {'baz': {}}}}}"
      ]
     },
     "execution_count": 22,
     "metadata": {},
     "output_type": "execute_result"
    },
    {
     "data": {
      "text/markdown": [
       "make a schema with subschema\n",
       "\n",
       "    (schema := tomli.loads(\"\".join(\n",
       "\n",
       "```toml\n",
       "[[allOf]]\n",
       "\"$ref\" = \"#/$defs/A\"\n",
       "[[allOf]]\n",
       "\"$ref\" = \"#/$defs/B\"\n",
       "[\"$defs\".A.properties.foo]\n",
       "[\"$defs\".A.properties.bar]\n",
       "[\"$defs\".B.properties.baz]\n",
       "```\n",
       "\n",
       "    .splitlines(1)[1:-1])))"
      ],
      "text/plain": [
       "<IPython.core.display.Markdown object>"
      ]
     },
     "metadata": {},
     "output_type": "display_data"
    }
   ],
   "source": [
    "make a schema with subschema\n",
    "\n",
    "    (schema := tomli.loads(\"\".join(\n",
    "\n",
    "```toml\n",
    "[[allOf]]\n",
    "\"$ref\" = \"#/$defs/A\"\n",
    "[[allOf]]\n",
    "\"$ref\" = \"#/$defs/B\"\n",
    "[\"$defs\".A.properties.foo]\n",
    "[\"$defs\".A.properties.bar]\n",
    "[\"$defs\".B.properties.baz]\n",
    "```\n",
    "\n",
    "    .splitlines(1)[1:-1])))"
   ]
  },
  {
   "cell_type": "code",
   "execution_count": 23,
   "id": "5fd1e708-13db-4d4f-aa08-7cdccf5ab511",
   "metadata": {},
   "outputs": [
    {
     "data": {
      "text/markdown": [
       "the form we create uses `colgroup` and `col` elements as demonstrated next\n",
       "\n",
       "```html\n",
       "<table>\n",
       " <colgroup>\n",
       "  <col id=\"/$defs/A\" span=\"2\"/>\n",
       "  <col id=\"/$defs/B\" span=\"1\"/>\n",
       " </colgroup>\n",
       " <colgroup>\n",
       "  <col id=\"/$defs/A/properties/foo\"/>\n",
       "  <col id=\"/$defs/A/properties/bar\"/>\n",
       "  <col id=\"/$defs/B/properties/baz\"/>\n",
       " </colgroup>\n",
       "</table>\n",
       "\n",
       "```\n",
       "\n",
       "and it is generated directly from schema using the following code generate example `colgroup` and `col` elements\n",
       "\n",
       "    import bs4, jsonpointer\n",
       "    soup = bs4.BeautifulSoup(features=\"html5lib\")\n",
       "    soup.append(table := soup.new_tag(\"table\"))\n",
       "    table.append(colgroup := soup.new_tag(\"colgroup\"))\n",
       "    table.append(props := soup.new_tag(\"colgroup\"))\n",
       "    for s in schema[\"allOf\"]:\n",
       "        id = jsonpointer.JsonPointer.from_parts((ref:=s.get(\"$ref\")).split(\"/\")[1:])\n",
       "        colgroup.append(col := soup.new_tag(\"col\"))\n",
       "        p = id.get(schema).get(\"properties\")\n",
       "        col.attrs.update(id=str(id), span=len(p))\n",
       "        for k in p:\n",
       "            props.append(x := soup.new_tag(\"col\"))\n",
       "            x.attrs.update(id=jsonpointer.JsonPointer.from_parts(ref.split(\"/\")[1:] + [\"properties\", k]))\n"
      ],
      "text/plain": [
       "<IPython.core.display.Markdown object>"
      ]
     },
     "metadata": {},
     "output_type": "display_data"
    }
   ],
   "source": [
    "the form we create uses `colgroup` and `col` elements as demonstrated next\n",
    "\n",
    "```html\n",
    "{{table.prettify()}}\n",
    "```\n",
    "\n",
    "and it is generated directly from schema using the following code generate example `colgroup` and `col` elements\n",
    "\n",
    "    import bs4, jsonpointer\n",
    "    soup = bs4.BeautifulSoup(features=\"html5lib\")\n",
    "    soup.append(table := soup.new_tag(\"table\"))\n",
    "    table.append(colgroup := soup.new_tag(\"colgroup\"))\n",
    "    table.append(props := soup.new_tag(\"colgroup\"))\n",
    "    for s in schema[\"allOf\"]:\n",
    "        id = jsonpointer.JsonPointer.from_parts((ref:=s.get(\"$ref\")).split(\"/\")[1:])\n",
    "        colgroup.append(col := soup.new_tag(\"col\"))\n",
    "        p = id.get(schema).get(\"properties\")\n",
    "        col.attrs.update(id=str(id), span=len(p))\n",
    "        for k in p:\n",
    "            props.append(x := soup.new_tag(\"col\"))\n",
    "            x.attrs.update(id=jsonpointer.JsonPointer.from_parts(ref.split(\"/\")[1:] + [\"properties\", k]))\n",
    "\n"
   ]
  }
 ],
 "metadata": {
  "kernelspec": {
   "display_name": "pidgy [conda env:p311] *",
   "language": "markdown",
   "name": "conda-env-p311-pidgy"
  },
  "language_info": {
   "codemirror_mode": {
    "name": "ipython",
    "version": 3
   },
   "file_extension": ".py",
   "mimetype": "text/x-python",
   "name": "python",
   "nbconvert_exporter": "python",
   "pygments_lexer": "ipython3",
   "version": "3.11.3"
  },
  "widgets": {
   "application/vnd.jupyter.widget-state+json": {
    "state": {},
    "version_major": 2,
    "version_minor": 0
   }
  }
 },
 "nbformat": 4,
 "nbformat_minor": 5
}
