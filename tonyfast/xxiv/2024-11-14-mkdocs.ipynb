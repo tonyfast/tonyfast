{
 "cells": [
  {
   "attachments": {},
   "cell_type": "markdown",
   "id": "d1bdd8c6-f3c3-4862-b163-c84474c6f701",
   "metadata": {},
   "source": [
    "# connecting a code fence language to a plugin in mkdocs\n",
    "\n",
    "uses `superfences.custom_fences` to connect `urljsf` output in the docs.\n",
    "\n",
    "https://facelessuser.github.io/pymdown-extensions/extensions/superfences/#custom-fences"
   ]
  },
  {
   "cell_type": "markdown",
   "id": "e685355e-7626-4a40-9986-8810299c298c",
   "metadata": {},
   "source": [
    "to minimize the configuration add a `mkdocs.plugin` entry point to `pyproject.toml`\n",
    "\n",
    "```toml\n",
    "[project.entry-points.\"mkdocs.plugins\"]\n",
    "urljsf = \"urljsf.mkdocs_plugin:Urljsf\"\n",
    "```"
   ]
  },
  {
   "cell_type": "markdown",
   "id": "619caf10-f274-46fa-8728-a59d55830ff3",
   "metadata": {},
   "source": [
    "the plugin source code automatically registers the superfences plugin and urljsf plugin."
   ]
  },
  {
   "cell_type": "code",
   "execution_count": 1,
   "id": "bdb11f62-b62c-4544-991c-d2513f239455",
   "metadata": {},
   "outputs": [
    {
     "name": "stdout",
     "output_type": "stream",
     "text": [
      "Overwriting ../../../urljsf/src/urljsf/mkdocs_plugin.py\n"
     ]
    }
   ],
   "source": [
    "%%file ../../../urljsf/src/urljsf/mkdocs_plugin.py\n",
    "from mkdocs.plugins import BasePlugin\n",
    "class Urljsf(BasePlugin):\n",
    "    def on_config(self, config):\n",
    "        config.theme.static_templates.add('my_template.html')\n",
    "        config.markdown_extensions.append(\"pymdownx.superfences\")\n",
    "        config.mdx_configs[\"pymdownx.superfences\"] = dict(custom_fences=[dict(\n",
    "            name=\"urljsf\", format=urljsf, **{\"class\": \"urljsf\"}\n",
    "        )])\n",
    "        return config\n",
    "        \n",
    "def urljsf(source, language, css_class, options, md, classes=None, id_value='', attrs=None, **kwargs):\n",
    "    print(\"nailed it\")\n",
    "    return F\"\"\"<script>{source}</script>\"\"\"\n",
    "..."
   ]
  },
  {
   "cell_type": "markdown",
   "id": "f539b19d-47ac-444d-8241-b89ea0dc596c",
   "metadata": {},
   "source": [
    "update the mkdocs config"
   ]
  },
  {
   "cell_type": "code",
   "execution_count": 2,
   "id": "46863b22-04a8-4405-bab5-f3ddee9e9aff",
   "metadata": {},
   "outputs": [
    {
     "name": "stdout",
     "output_type": "stream",
     "text": [
      "Overwriting ../../../urljsf/mkdocs.yml\n"
     ]
    }
   ],
   "source": [
    "%%file ../../../urljsf/mkdocs.yml\n",
    "site_name: urljsf\n",
    "plugins:\n",
    "    - urljsf"
   ]
  },
  {
   "cell_type": "markdown",
   "id": "71c1c077-a482-4ac1-9478-48b0f0dd119d",
   "metadata": {},
   "source": [
    "introduce a test file"
   ]
  },
  {
   "cell_type": "code",
   "execution_count": 3,
   "id": "6226d2f5-9251-40e5-8cba-4a42dfa7c4bf",
   "metadata": {},
   "outputs": [
    {
     "name": "stdout",
     "output_type": "stream",
     "text": [
      "Overwriting ../../../urljsf/docs/test.md\n"
     ]
    }
   ],
   "source": [
    "%%file ../../../urljsf/docs/test.md\n",
    "# this a test\n",
    "\n",
    "```urljsf\n",
    "testing\n",
    "```"
   ]
  },
  {
   "cell_type": "code",
   "execution_count": 4,
   "id": "6a2a132e-33f0-4424-af5f-d503f77e9d5b",
   "metadata": {},
   "outputs": [],
   "source": [
    "    output = !cd ../../../urljsf && mkdocs build \n",
    "    assert \"nailed it\" in \"\".join(output)"
   ]
  }
 ],
 "metadata": {
  "kernelspec": {
   "display_name": "Python [conda env:p311] *",
   "language": "python",
   "name": "conda-env-p311-py"
  },
  "language_info": {
   "codemirror_mode": {
    "name": "ipython",
    "version": 3
   },
   "file_extension": ".py",
   "mimetype": "text/x-python",
   "name": "python",
   "nbconvert_exporter": "python",
   "pygments_lexer": "ipython3",
   "version": "3.11.6"
  },
  "widgets": {
   "application/vnd.jupyter.widget-state+json": {
    "state": {},
    "version_major": 2,
    "version_minor": 0
   }
  }
 },
 "nbformat": 4,
 "nbformat_minor": 5
}
