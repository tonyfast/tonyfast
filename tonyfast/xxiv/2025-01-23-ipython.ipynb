{
 "cells": [
  {
   "attachments": {},
   "cell_type": "markdown",
   "id": "38a35262-d09b-4129-a1e3-5659dd14c354",
   "metadata": {},
   "source": [
    "# how to hack an ipython kernel and shell\n",
    "\n",
    "exploring the `IPython.InteractiveShell` and `shell.kernel` which are based on the flexible and configurable [traitlets](https://github.com/ipython/traitlets) type system."
   ]
  },
  {
   "cell_type": "code",
   "execution_count": 1,
   "id": "68d0a404-7d44-4cf7-a720-da6f58d5004d",
   "metadata": {},
   "outputs": [
    {
     "data": {
      "text/html": [
       "<iframe width=\"800\" height=\"400\" src=\"https://www.youtube.com/embed/PN8WVReTx-0\" title=\"hacking an ipython shell and kernel\" frameborder=\"0\" allow=\"accelerometer; autoplay; clipboard-write; encrypted-media; gyroscope; picture-in-picture; web-share\" referrerpolicy=\"strict-origin-when-cross-origin\" allowfullscreen></iframe>"
      ],
      "text/x-python": [
       "\n",
       "(\"\"\"<iframe width=\\\"800\\\" height=\\\"400\\\" src=\\\"https://www.youtube.com/embed/PN8WVReTx-0\\\" title=\\\"hacking an ipython shell and kernel\\\" frameborder=\\\"0\\\" allow=\\\"accelerometer; autoplay; clipboard-write; encrypted-media; gyroscope; picture-in-picture; web-share\\\" referrerpolicy=\\\"strict-origin-when-cross-origin\\\" allowfullscreen></iframe>\"\"\");\n"
      ]
     },
     "metadata": {},
     "output_type": "display_data"
    }
   ],
   "source": [
    "%%\n",
    "<iframe width=\"800\" height=\"400\" src=\"https://www.youtube.com/embed/PN8WVReTx-0\" title=\"hacking an ipython shell and kernel\" frameborder=\"0\" allow=\"accelerometer; autoplay; clipboard-write; encrypted-media; gyroscope; picture-in-picture; web-share\" referrerpolicy=\"strict-origin-when-cross-origin\" allowfullscreen></iframe>"
   ]
  },
  {
   "cell_type": "code",
   "execution_count": 2,
   "id": "cb1e1a3e-8daa-468f-8a49-51e344667d8f",
   "metadata": {},
   "outputs": [
    {
     "data": {
      "text/html": [
       "<h2>the shell and kernel are connected</h2>\n",
       "<p>the <code>get_ipython</code> accesses the shell and its connected kernel.</p>\n",
       "<pre><code>(shell := get_ipython()), shell.kernel\n",
       "assert shell.kernel.shell is shell\n",
       "assert isinstance(shell.kernel, traitlets.HasTraits)\n",
       "assert isinstance(shell, traitlets.HasTraits)</code></pre>"
      ],
      "text/x-python": [
       "\n",
       "(\"\"\"## the shell and kernel are connected\n",
       "\n",
       "the `get_ipython` accesses the shell and its connected kernel.\"\"\")\n",
       "\n",
       "(shell := get_ipython()), shell.kernel\n",
       "assert shell.kernel.shell is shell\n",
       "assert isinstance(shell.kernel, traitlets.HasTraits)\n",
       "assert isinstance(shell, traitlets.HasTraits)\n"
      ]
     },
     "metadata": {},
     "output_type": "display_data"
    }
   ],
   "source": [
    "%%\n",
    "## the shell and kernel are connected\n",
    "\n",
    "the `get_ipython` accesses the shell and its connected kernel.\n",
    "\n",
    "    (shell := get_ipython()), shell.kernel\n",
    "    assert shell.kernel.shell is shell\n",
    "    assert isinstance(shell.kernel, traitlets.HasTraits)\n",
    "    assert isinstance(shell, traitlets.HasTraits)"
   ]
  },
  {
   "cell_type": "code",
   "execution_count": 3,
   "id": "630793bd-9a8f-4f5e-b0e9-d7ba5046b168",
   "metadata": {},
   "outputs": [
    {
     "data": {
      "text/html": [
       "<h2>what happens when we run a cell?</h2>\n",
       "<ol>\n",
       "<li>\n",
       "<p><code>shell.run_cell</code> , <code>shell._run_cell</code> prepares code strings for execution</p>\n",
       "<ol>\n",
       "<li>\n",
       "<p><code>shell.transform_cell</code> transforms the code (eg magics)</p>\n",
       "<ol>\n",
       "<li>\n",
       "<p>transform the raw string to valid code</p>\n",
       "<ol>\n",
       "<li><code>shell.input_transformer_manager.cleanup_transforms</code></li>\n",
       "<li><code>shell.input_transformer_manager.line_transforms</code></li>\n",
       "<li><code>shell.input_transformer_manager.do_token_transforms</code></li>\n",
       "</ol>\n",
       "</li>\n",
       "</ol>\n",
       "</li>\n",
       "</ol>\n",
       "</li>\n",
       "<li>\n",
       "<p><code>shell.run_cell_async</code> compiles and execution code strings</p>\n",
       "<ol>\n",
       "<li>\n",
       "<p><code>shell.compile.ast_parse</code> turns the string into an abstract syntax trees</p>\n",
       "</li>\n",
       "<li>\n",
       "<p><code>shell.transform_ast</code></p>\n",
       "<p>a custom ast.NodeTransformer can be used to inspect and modify the\n",
       "abstract syntrax tree.</p>\n",
       "<pre><code>         class NodeInspector(ast.NodeTransformer): ...\n",
       "</code></pre>\n",
       "</li>\n",
       "<li>\n",
       "<p><code>shell.run_ast_nodes</code></p>\n",
       "<ol>\n",
       "<li>\n",
       "<p><code>shell.compile.__call__</code> turns ast into byte code</p>\n",
       "<pre><code>     class CustomCompiler(shell.compiler_class): \n",
       "</code></pre>\n",
       "<p>you need custom compiler to introspect bytecode</p>\n",
       "</li>\n",
       "</ol>\n",
       "</li>\n",
       "</ol>\n",
       "</li>\n",
       "</ol>"
      ],
      "text/x-python": [
       "\n",
       "(\"\"\"## what happens when we run a cell?\n",
       "\n",
       "1. `shell.run_cell` , `shell._run_cell` prepares code strings for execution\n",
       "\n",
       "    1. `shell.transform_cell` transforms the code (eg magics)\n",
       "\n",
       "        1. transform the raw string to valid code\n",
       "\n",
       "            1. `shell.input_transformer_manager.cleanup_transforms`\n",
       "            2. `shell.input_transformer_manager.line_transforms`\n",
       "            2. `shell.input_transformer_manager.do_token_transforms`\n",
       "\n",
       "1. `shell.run_cell_async` compiles and execution code strings\n",
       "    1. `shell.compile.ast_parse` turns the string into an abstract syntax trees\n",
       "    1. `shell.transform_ast`\n",
       "\n",
       "        a custom ast.NodeTransformer can be used to inspect and modify the\n",
       "        abstract syntrax tree.\"\"\")\n",
       "\n",
       "class NodeInspector(ast.NodeTransformer): ...\n",
       "(\"\"\"1. `shell.run_ast_nodes`\n",
       "    1. `shell.compile.__call__` turns ast into byte code\"\"\")\n",
       "\n",
       "class CustomCompiler(shell.compiler_class): \n",
       "    (\"\"\"you need custom compiler to introspect bytecode\"\"\");\n",
       "\n",
       "\n",
       "\n"
      ]
     },
     "metadata": {},
     "output_type": "display_data"
    }
   ],
   "source": [
    "%%\n",
    "## what happens when we run a cell?\n",
    "\n",
    "1. `shell.run_cell` , `shell._run_cell` prepares code strings for execution\n",
    "\n",
    "    1. `shell.transform_cell` transforms the code (eg magics)\n",
    "\n",
    "        1. transform the raw string to valid code\n",
    "\n",
    "            1. `shell.input_transformer_manager.cleanup_transforms`\n",
    "            2. `shell.input_transformer_manager.line_transforms`\n",
    "            2. `shell.input_transformer_manager.do_token_transforms`\n",
    "\n",
    "1. `shell.run_cell_async` compiles and execution code strings\n",
    "    1. `shell.compile.ast_parse` turns the string into an abstract syntax trees\n",
    "    1. `shell.transform_ast`\n",
    "\n",
    "        a custom ast.NodeTransformer can be used to inspect and modify the\n",
    "        abstract syntrax tree.\n",
    "\n",
    "                    class NodeInspector(ast.NodeTransformer): ...\n",
    "    1. `shell.run_ast_nodes`\n",
    "        1. `shell.compile.__call__` turns ast into byte code\n",
    "\n",
    "                    class CustomCompiler(shell.compiler_class): \n",
    "            you need custom compiler to introspect bytecode\n",
    "\n",
    "\n",
    "    "
   ]
  },
  {
   "attachments": {},
   "cell_type": "markdown",
   "id": "9830a438-98a4-454f-aff6-8f3a0da6935d",
   "metadata": {},
   "source": [
    "## tldr\n",
    "\n",
    "1. hacking a python kernel in jupyter means customizing an ipython shell\n",
    "2. customizing a shell means being familiar with the steps in transforming strings to code.\n",
    "2. customizing a shell means being familiar working with the `traitlets` library.\n",
    "2. custom shells can be live hacked!"
   ]
  }
 ],
 "metadata": {
  "kernelspec": {
   "display_name": "Python [conda env:p311] *",
   "language": "python",
   "name": "conda-env-p311-py"
  },
  "language_info": {
   "codemirror_mode": {
    "name": "ipython",
    "version": 3
   },
   "file_extension": ".py",
   "mimetype": "text/x-python",
   "name": "python",
   "nbconvert_exporter": "python",
   "pygments_lexer": "ipython3",
   "version": "3.11.6"
  }
 },
 "nbformat": 4,
 "nbformat_minor": 5
}
