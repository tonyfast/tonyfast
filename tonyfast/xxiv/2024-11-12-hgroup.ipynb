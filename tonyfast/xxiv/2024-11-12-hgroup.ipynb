{
 "cells": [
  {
   "cell_type": "markdown",
   "id": "a674b5cb-161a-4507-802b-e0c5918bc2b5",
   "metadata": {},
   "source": [
    "# making an `hgroup` in markdown\n",
    "\n",
    "the [`hgroup`](https://html.spec.whatwg.org/dev/sections.html#the-hgroup-element) is a lesser known organizational strategy for headings.\n",
    "sometimes we want to include supplementary heading information without effecting and the heading presented to assistive technology.\n"
   ]
  },
  {
   "cell_type": "markdown",
   "id": "210f1f66-c8b5-4abf-b141-84c59f18e680",
   "metadata": {},
   "source": [
    "the markdown/html `hgroup` has the following structure\n",
    "\n",
    "1. `hgroup` opening tag\n",
    "2. white space \n",
    "3. markdown heading\n",
    "4. white space to break the heading\n",
    "5. a markdown paragraph containing supplementary content\n",
    "7. white space to break the paragraph\n",
    "6. `hgroup` closing tag"
   ]
  },
  {
   "cell_type": "code",
   "execution_count": 1,
   "id": "f5ac410e-4d8d-4709-bb3b-5eed461101f9",
   "metadata": {
    "jupyter": {
     "source_hidden": true
    }
   },
   "outputs": [
    {
     "data": {
      "text/html": [
       "<figure>\n",
       "<figcaption>\n",
       "<p>markdown source code for an <code>hgroup</code></p>\n",
       "</figcaption>\n",
       "<pre><code>hgroup=\\\n",
       "</code></pre>\n",
       "<pre><code class=\"markdown\"><div class=\"highlight\" style=\"background: #f8f8f8\"><pre style=\"line-height: 125%;\"><span></span>&lt;hgroup&gt;\n",
       "\n",
       "<span style=\"color: #800080; font-weight: bold\">## the mother of all demos</span>\n",
       "\n",
       "the first live computer demo presented by &lt;a&gt;doug englebart&lt;/a&gt;\n",
       "    \n",
       "&lt;/hgroup&gt;\n",
       "</pre></div>\n",
       "</code></pre>\n",
       "<fieldset><legend>\n",
       "<p><code>html</code> rendering</p>\n",
       "</legend>\n",
       "<hgroup>\n",
       "<h2>the mother of all demos</h2>\n",
       "<p>the first live computer demo presented by <a>doug englebart</a></p>\n",
       "</hgroup>\n",
       "</fieldset>\n",
       "<fieldset><legend>\n",
       "<p><code>html</code> source</p>\n",
       "</legend>\n",
       "<pre><code class=\"html\"><div class=\"highlight\" style=\"background: #f8f8f8\"><pre style=\"line-height: 125%;\"><span></span>&lt;<span style=\"color: #008000; font-weight: bold\">hgroup</span>&gt;\n",
       "&lt;<span style=\"color: #008000; font-weight: bold\">h2</span>&gt;the mother of all demos&lt;/<span style=\"color: #008000; font-weight: bold\">h2</span>&gt;\n",
       "&lt;<span style=\"color: #008000; font-weight: bold\">p</span>&gt;the first live computer demo presented by &lt;<span style=\"color: #008000; font-weight: bold\">a</span>&gt;doug englebart&lt;/<span style=\"color: #008000; font-weight: bold\">a</span>&gt;&lt;/<span style=\"color: #008000; font-weight: bold\">p</span>&gt;\n",
       "&lt;/<span style=\"color: #008000; font-weight: bold\">hgroup</span>&gt;\n",
       "</pre></div>\n",
       "</code></pre>\n",
       "</fieldset>\n",
       "</figure>"
      ],
      "text/x-python": [
       "\n",
       "(\"\"\"<figure>\n",
       "<figcaption>\n",
       "\n",
       "markdown source code for an `hgroup`\n",
       "\n",
       "</figcaption>\"\"\")\n",
       "\n",
       "hgroup=\\\n",
       "(__import__(\"importlib\").metadata.EntryPoint(None, \"midgy.types:Markdown\", None).load()( # ```markdown\n",
       "\"\"\"<hgroup>\n",
       "\n",
       "## the mother of all demos\n",
       "\n",
       "the first live computer demo presented by <a>doug englebart</a>\n",
       "    \n",
       "</hgroup>\n",
       "\"\"\")) # ```\n",
       "\\\n",
       "(\"\"\"<fieldset><legend>\n",
       "\n",
       "`html` rendering\n",
       "\n",
       "</legend>\n",
       "\n",
       "{{hgroup}}\n",
       "</fieldset>\n",
       "\n",
       "<fieldset><legend>\n",
       "\n",
       "`html` source\n",
       "\n",
       "</legend>\"\"\")\n",
       "\n",
       "(__import__(\"importlib\").metadata.EntryPoint(None, \"midgy.types:HTML\", None).load()( # ```html\n",
       "\"\"\"{{shell.tangle.parser.parser.render(hgroup)}}\n",
       "\"\"\")) # ```\n",
       "\n",
       "(\"\"\"</fieldset>\n",
       "\n",
       "\n",
       "</figure>\"\"\");\n"
      ]
     },
     "metadata": {},
     "output_type": "display_data"
    }
   ],
   "source": [
    "%%\n",
    "<figure>\n",
    "<figcaption>\n",
    "\n",
    "markdown source code for an `hgroup`\n",
    "     \n",
    "</figcaption>\n",
    "    \n",
    "    hgroup=\\\n",
    "```markdown\n",
    "<hgroup>\n",
    "\n",
    "## the mother of all demos\n",
    "\n",
    "the first live computer demo presented by <a>doug englebart</a>\n",
    "    \n",
    "</hgroup>\n",
    "```\n",
    "\n",
    "<fieldset><legend>\n",
    "\n",
    "`html` rendering\n",
    "\n",
    "</legend>\n",
    "\n",
    "{{hgroup}}\n",
    "</fieldset>\n",
    "\n",
    "<fieldset><legend>\n",
    "\n",
    "`html` source\n",
    "\n",
    "</legend>\n",
    "\n",
    "```html\n",
    "{{shell.tangle.parser.parser.render(hgroup)}}\n",
    "```\n",
    "\n",
    "</fieldset>\n",
    "\n",
    "\n",
    "</figure>"
   ]
  },
  {
   "cell_type": "code",
   "execution_count": null,
   "id": "c57d7a84-b5d0-4bcf-a949-9c7b40377866",
   "metadata": {},
   "outputs": [],
   "source": []
  }
 ],
 "metadata": {
  "kernelspec": {
   "display_name": "Python [conda env:p311] *",
   "language": "python",
   "name": "conda-env-p311-py"
  },
  "language_info": {
   "codemirror_mode": {
    "name": "ipython",
    "version": 3
   },
   "file_extension": ".py",
   "mimetype": "text/x-python",
   "name": "python",
   "nbconvert_exporter": "python",
   "pygments_lexer": "ipython3",
   "version": "3.11.6"
  },
  "widgets": {
   "application/vnd.jupyter.widget-state+json": {
    "state": {},
    "version_major": 2,
    "version_minor": 0
   }
  }
 },
 "nbformat": 4,
 "nbformat_minor": 5
}
