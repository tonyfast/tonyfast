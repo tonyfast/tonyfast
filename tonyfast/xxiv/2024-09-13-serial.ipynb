{
 "cells": [
  {
   "cell_type": "markdown",
   "id": "67eaa23c-4d63-4310-8692-d898f49296a3",
   "metadata": {},
   "source": [
    "# serializing dataframe values to contextual html\n",
    "\n",
    "when serializing a dataframe we need several serializations"
   ]
  },
  {
   "cell_type": "code",
   "execution_count": 1,
   "id": "09de7704-5c97-4c30-a74b-f3ff66adbd49",
   "metadata": {},
   "outputs": [
    {
     "data": {
      "text/html": [
       "<ol>\n",
       "<li>\n",
       "<p>the series comprosing a dataframe contains type and object information,\n",
       "colorless and colorful forms. this information needs to be transformed to many strings.</p>\n",
       "<pre><code> flowchart =\\\n",
       "</code></pre>\n",
       "</li>\n",
       "</ol>\n",
       "<pre><code class=\"mermaid\">flowchart LR\n",
       "    dataframe --> series\n",
       "    series --> value\n",
       "    series --> dtype\n",
       "</code></pre>\n",
       "<ol start=\"2\">\n",
       "<li>\n",
       "<p>at the value level, we need to dispatch on the <code>dtype</code> or the <code>type</code>.</p>\n",
       "<pre><code> flowchart +=\\\n",
       "</code></pre>\n",
       "</li>\n",
       "</ol>\n",
       "<pre><code class=\"mermaid\">    dtype --> value\n",
       "    type --> value\n",
       "</code></pre>\n",
       "<ol start=\"3\">\n",
       "<li>\n",
       "<p>for each value may need to create 3 different representations for a single <code>value</code>.\n",
       "for example, a <code>time</code> value will separate attribute and css representations</p>\n",
       "<pre><code> time = pandas.to_datetime(&quot;now&quot;)\n",
       "</code></pre>\n",
       "</li>\n",
       "</ol>\n",
       "<dl>\n",
       "<dt>attribute</dt>\n",
       "<dd>2024-09-13T21:55:37.458285</dd>\n",
       "<dt>css</dt>\n",
       "<dd>1726264537.458285</dd>\n",
       "</dl>\n",
       "<p>with the attribute being reused in the overall html representation.</p>\n",
       "<dl>\n",
       "<dt>tag/element</dt>\n",
       "<dd>\n",
       "<p><code>&lt;time datetime=&quot;2024-09-13T21:55:37.458285&quot;&gt;2024-09-13&lt;/time&gt;</code></p>\n",
       "<pre><code>  flowchart +=\\\n",
       "</code></pre>\n",
       "</dd>\n",
       "</dl>\n",
       "<pre><code class=\"mermaid\">    value --> tag\n",
       "    attribute --> tag\n",
       "    value --> attribute\n",
       "    value --> s[style]\n",
       "    s[style] --> attribute\n",
       "</code></pre>\n"
      ],
      "text/plain": [
       "<IPython.core.display.HTML object>"
      ]
     },
     "metadata": {},
     "output_type": "display_data"
    }
   ],
   "source": [
    "%% \n",
    "1. the series comprosing a dataframe contains type and object information,\n",
    "colorless and colorful forms. this information needs to be transformed to many strings.\n",
    "\n",
    "        flowchart =\\\n",
    "```mermaid\n",
    "flowchart LR\n",
    "    dataframe --> series\n",
    "    series --> value\n",
    "    series --> dtype\n",
    "```\n",
    "\n",
    "2. at the value level, we need to dispatch on the `dtype` or the `type`.\n",
    "\n",
    "        flowchart +=\\\n",
    "```mermaid\n",
    "    dtype --> value\n",
    "    type --> value\n",
    "```\n",
    "\n",
    "3. for each value may need to create 3 different representations for a single `value`.\n",
    "for example, a `time` value will separate attribute and css representations\n",
    "\n",
    "        time = pandas.to_datetime(\"now\")\n",
    "attribute\n",
    ": {{time.isoformat()}}\n",
    "\n",
    "css\n",
    ": {{time.timestamp()}}\n",
    "\n",
    "with the attribute being reused in the overall html representation.\n",
    "\n",
    "tag/element\n",
    ": `<time datetime=\"{{time.isoformat()}}\">{{time.strftime(\"%Y-%m-%d\")}}</time>`\n",
    "\n",
    "        flowchart +=\\\n",
    "```mermaid\n",
    "    value --> tag\n",
    "    attribute --> tag\n",
    "    value --> attribute\n",
    "    value --> s[style]\n",
    "    s[style] --> attribute\n",
    "```"
   ]
  },
  {
   "cell_type": "code",
   "execution_count": 2,
   "id": "0860050a-43bb-49ae-90b2-132cb9b01be1",
   "metadata": {},
   "outputs": [
    {
     "data": {
      "text/markdown": [
       "```mermaid\n",
       "flowchart LR\n",
       "    dataframe --> series\n",
       "    series --> value\n",
       "    series --> dtype\n",
       "dtype --> value\n",
       "type --> value\n",
       "value --> tag\n",
       "attribute --> tag\n",
       "value --> attribute\n",
       "value --> s[style]\n",
       "s[style] --> attribute\n",
       "```"
      ],
      "text/plain": [
       "'flowchart LR\\n    dataframe --> series\\n    series --> value\\n    series --> dtype\\ndtype --> value\\ntype --> value\\nvalue --> tag\\nattribute --> tag\\nvalue --> attribute\\nvalue --> s[style]\\ns[style] --> attribute\\n'"
      ]
     },
     "execution_count": 2,
     "metadata": {},
     "output_type": "execute_result"
    }
   ],
   "source": [
    "    Mermaid(flowchart)"
   ]
  },
  {
   "cell_type": "code",
   "execution_count": null,
   "id": "3e779046-fbb0-4298-85c1-df5d70c5996f",
   "metadata": {},
   "outputs": [],
   "source": []
  }
 ],
 "metadata": {
  "kernelspec": {
   "display_name": "Python [conda env:p311] *",
   "language": "python",
   "name": "conda-env-p311-py"
  },
  "language_info": {
   "codemirror_mode": {
    "name": "ipython",
    "version": 3
   },
   "file_extension": ".py",
   "mimetype": "text/x-python",
   "name": "python",
   "nbconvert_exporter": "python",
   "pygments_lexer": "ipython3",
   "version": "3.11.6"
  },
  "widgets": {
   "application/vnd.jupyter.widget-state+json": {
    "state": {},
    "version_major": 2,
    "version_minor": 0
   }
  }
 },
 "nbformat": 4,
 "nbformat_minor": 5
}
