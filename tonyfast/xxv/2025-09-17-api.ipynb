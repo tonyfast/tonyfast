{
 "cells": [
  {
   "attachments": {},
   "cell_type": "markdown",
   "id": "f3a26fc0-c591-442c-8795-451e99c0c73c",
   "metadata": {},
   "source": [
    "# serving a test endpoint with the `IPython` shell\n",
    "\n",
    "its very possible to prototype web applications in the notebook.\n",
    "they actually provide a really flexible surface for development.\n",
    "interactively we can:\n",
    "\n",
    "1. start a web server\n",
    "2. interactively modify the server endpoints\n",
    "3. run as a standalone server\n",
    "4. make requests to the server\n",
    "\n",
    "```mermaid\n",
    "flowchart LR\n",
    "    fastapi.FastAPI ---> uvicorn.Config --> uvicorn.Server\n",
    "    httpx.ASGITransport -- transport --> httpx.AsyncClient\n",
    "    fastapi.FastAPI -- app --> httpx.ASGITransport\n",
    "```\n",
    "\n",
    "with the feature installed it becomes a lot easier to develop templates\n",
    "and front end features in both parts and as the whole."
   ]
  },
  {
   "cell_type": "code",
   "execution_count": 1,
   "id": "d9799d7f-0cdc-40d2-84e2-bfa2b7a457e3",
   "metadata": {},
   "outputs": [],
   "source": [
    "import hashlib, fastapi.templating, uvicorn\n",
    "from schema_frame import tag\n",
    "shell.display_formatter.formatters[\"text/html\"].for_type(\"bs4.element.Tag\", str);\n",
    "\n",
    "__import__(\"nest_asyncio\").apply()"
   ]
  },
  {
   "cell_type": "code",
   "execution_count": 2,
   "id": "e2b59ecf-d8b0-41dc-b945-aae47aa4b4a4",
   "metadata": {},
   "outputs": [],
   "source": [
    "@dataclass\n",
    "class WebApp:\n",
    "    app: fastapi.FastAPI = None\n",
    "    server: uvicorn.Server = None\n",
    "    favicon: Path = None\n",
    "    task: asyncio.Task = None\n",
    "    stack = None\n",
    "\n",
    "    def __post_init__(self):\n",
    "        self.app = FastAPI()\n",
    "        self.server = uvicorn.server.Server(uvicorn.Config(self.app))\n",
    "        self.app.get(\"/favicon.ico\")(self.get_favicon)\n",
    "\n",
    "    async def __aenter__(self):\n",
    "        self.stack = contextlib.AsyncExitStack()\n",
    "        await self.stack.__aenter__()\n",
    "        return await self.stack.enter_async_context(\n",
    "            httpx.AsyncClient(transport=httpx.ASGITransport(self.app))\n",
    "        )\n",
    "    def __aexit__(self, *args):\n",
    "        return self.stack.__aexit__(*args)\n",
    "\n",
    "    def __enter__(self):\n",
    "        self.stack = contextlib.ExitStack()\n",
    "        self.stack.__enter__()\n",
    "        return self.stack.enter_context(\n",
    "            httpx.Client(transport=httpx.ASGITransport(self.app))\n",
    "        )\n",
    "        \n",
    "    def __exit__(self, *args):\n",
    "        return self.stack.__exit__(*args)\n",
    "        \n",
    "    async def stop(self):\n",
    "        try:\n",
    "            await self.server.shutdown()\n",
    "        except AttributeError: pass\n",
    "\n",
    "    def start(self):\n",
    "        self.task = asyncio.ensure_future(self.server.serve())\n",
    "\n",
    "    @property\n",
    "    def url(self):\n",
    "        return F\"http://{self.server.config.host}:{self.server.config.port}\"\n",
    "\n",
    "    def _ipython_display_(self):\n",
    "        print(self.url, repr(self))\n",
    "    \n",
    "    def iframe(self, path=\"\", open=False, width=\"100%\", height=600):\n",
    "        url = self.url + path or \"\"\n",
    "        attrs = {}\n",
    "        if open:\n",
    "            attrs[\"open\"] = \"true\"\n",
    "        return tag.details(\n",
    "            tag.summary(url),\n",
    "            tag.iframe(src=self.url + path or \"\", width=width, height=height, loading=\"lazy\"), **attrs\n",
    "        )\n",
    "\n",
    "    def get_favicon(self):\n",
    "        url = urllib.parse.urlparse(self.favicon)\n",
    "        if url.scheme and url.scheme != \"file\":\n",
    "            return fastapi.responses.RedirectResponse(self.favicon)\n",
    "        return fastapi.responses.FileResponse(self.favicon)\n",
    "        \n",
    "    \n",
    "        "
   ]
  },
  {
   "cell_type": "markdown",
   "id": "e44e19be-b32e-4b80-8fec-48d11004dd7e",
   "metadata": {},
   "source": [
    "`fastapi` appends routes, and retrieves the first matching routes. as a result, new appended routes are not hit. \n",
    "this custom `fastapi.FastAPI` provides conveniences for interactive development. there is little reason for it to be \n",
    "used outside of interactive development."
   ]
  },
  {
   "cell_type": "code",
   "execution_count": 3,
   "id": "ee338fb5-3e6c-4df3-a19e-ce2e61b64c62",
   "metadata": {},
   "outputs": [],
   "source": [
    "class FastAPI(fastapi.FastAPI):\n",
    "    def verb(self, path, *args, _method=\"get\", **kwargs):\n",
    "        object = getattr(super(), _method)(path, *args, **kwargs)\n",
    "        pops = []\n",
    "        for i, route in enumerate(self.routes):\n",
    "            if route.path == path:\n",
    "                if _method.upper() in route.methods:\n",
    "                    pops.append(i)    \n",
    "        for i in reversed(pops):\n",
    "            self.routes.pop(i)\n",
    "        return object\n",
    "\n",
    "    def template_response(self, *args, **kwargs):\n",
    "        return self.template_environment().TemplateResponse(*args, **kwargs)\n",
    "    \n",
    "    def template_environment(self, *args, **kwargs):\n",
    "        from IPython import get_ipython\n",
    "        shell = get_ipython()\n",
    "        return fastapi.templating.Jinja2Templates(\"\", env=shell.env)\n",
    "        \n",
    "    responses = fastapi.responses\n",
    "    for v in \"get head post put delete options trace patch\".split():\n",
    "        locals().update({v: functools.partialmethod(\n",
    "            functools.wraps(getattr(fastapi.FastAPI, v))(verb), _method=v\n",
    "        )})"
   ]
  },
  {
   "cell_type": "code",
   "execution_count": 4,
   "id": "2220d371-525d-473e-afe5-0d6fc51c4392",
   "metadata": {},
   "outputs": [
    {
     "name": "stderr",
     "output_type": "stream",
     "text": [
      "INFO:     Started server process [20762]\n",
      "INFO:     Waiting for application startup.\n",
      "INFO:     Application startup complete.\n",
      "INFO:     Uvicorn running on http://127.0.0.1:8000 (Press CTRL+C to quit)\n"
     ]
    }
   ],
   "source": [
    "if \"self\" in locals(): \n",
    "    await self.stop()\n",
    "app = (self := WebApp(favicon=\"https://a11yhood.org/images/ahood-200.jpg\")).app\n",
    "self.start()"
   ]
  },
  {
   "cell_type": "code",
   "execution_count": 5,
   "id": "c993409a-0881-409e-9904-73ff8c0a45d7",
   "metadata": {},
   "outputs": [],
   "source": [
    "@compose_left(app.get(\"\"), app.get(\"/\"))\n",
    "def hello(request: fastapi.Request):\n",
    "    return app.responses.HTMLResponse(shell.env.get_template(\"hello.md\").render(df=df, **vars(builtins)))"
   ]
  },
  {
   "cell_type": "code",
   "execution_count": 6,
   "id": "50bf3ccc-e08a-4777-bc5f-92c215f9dd17",
   "metadata": {},
   "outputs": [],
   "source": [
    "df = pandas.read_json(\"../../../research/at.json.gz\")\n",
    "\n",
    "df = df.assign(id=(h := df.index.to_series().apply(\n",
    "        compose_left(str.encode, hashlib.sha256, operator.methodcaller(\"hexdigest\"), take(10), \"\".join)\n",
    "))).reset_index().set_index(\"id\")"
   ]
  },
  {
   "cell_type": "code",
   "execution_count": 7,
   "id": "746c4504-dd03-4542-bda3-4370a186faca",
   "metadata": {},
   "outputs": [],
   "source": [
    "%%\n",
    "\n",
    "    do(Path(\"hello.md\").write_text)\\\n",
    "# hello world\n",
    "\n",
    "we're working with a dataframe that has {{len(df)}} rows.\n",
    "\n",
    "{{df.sample(2)._repr_html_()}}"
   ]
  },
  {
   "cell_type": "code",
   "execution_count": 8,
   "id": "4606330f-eeb3-4dfe-9126-ee4e25f1b39c",
   "metadata": {},
   "outputs": [
    {
     "data": {
      "text/html": [
       "<details><summary>http://127.0.0.1:8000</summary><iframe height=\"600\" loading=\"lazy\" src=\"http://127.0.0.1:8000\" width=\"100%\"></iframe></details>"
      ],
      "text/plain": [
       "<details><summary>http://127.0.0.1:8000</summary><iframe height=\"600\" loading=\"lazy\" src=\"http://127.0.0.1:8000\" width=\"100%\"></iframe></details>"
      ]
     },
     "metadata": {},
     "output_type": "display_data"
    }
   ],
   "source": [
    "display(self.iframe(\"\"))"
   ]
  },
  {
   "cell_type": "code",
   "execution_count": 9,
   "id": "faa8a0e3-48fc-43ba-b190-0cc0789c812c",
   "metadata": {},
   "outputs": [
    {
     "name": "stdout",
     "output_type": "stream",
     "text": [
      "- var ids = df.index[:2]\n",
      "form\n",
      "ol\n",
      "    for id in ids\n",
      "        - var item = df.loc[id]\n",
      "        li.item\n",
      "            header\n",
      "            section\n",
      "                h2: a(href=item.name) !{item[\"name\"]}\n",
      "                ol.row.tags\n",
      "                    each tag in item.tags\n",
      "                        li: a !{tag}\n",
      "                section.description !{item[\"description\"]}\n",
      "            footer\n",
      "style.\n",
      "    .row {display: flex;}\n",
      "    ol.tags li {list-style: none;}\n",
      "\n"
     ]
    }
   ],
   "source": [
    "%%\n",
    "\n",
    "    print\\\n",
    "```pug\n",
    "- var ids = df.index[:2]\n",
    "form\n",
    "ol\n",
    "    for id in ids\n",
    "        - var item = df.loc[id]\n",
    "        li.item\n",
    "            header\n",
    "            section\n",
    "                h2: a(href=item.name) !{item[\"name\"]}\n",
    "                ol.row.tags\n",
    "                    each tag in item.tags\n",
    "                        li: a !{tag}\n",
    "                section.description !{item[\"description\"]}\n",
    "            footer\n",
    "style.\n",
    "    .row {display: flex;}\n",
    "    ol.tags li {list-style: none;}\n",
    "```"
   ]
  },
  {
   "cell_type": "markdown",
   "id": "99f84719-9157-4ee3-bc4d-0480ca4b3902",
   "metadata": {},
   "source": [
    "## accessing data from a dataframe"
   ]
  },
  {
   "cell_type": "code",
   "execution_count": 10,
   "id": "c00e3dee-38b0-4786-9dba-e09603157097",
   "metadata": {},
   "outputs": [],
   "source": [
    "# /item?id=9e3563d58e&id=5d95dc1297\n",
    "@app.get(\"/item\", response_class=fastapi.responses.HTMLResponse)\n",
    "@app.get(\"/item/index.html\", response_class=fastapi.responses.HTMLResponse)\n",
    "def items(id: list[str]=None):\n",
    "    if id:\n",
    "        pass\n",
    "    return str(\n",
    "        tag.ol(*(tag.li(tag.a(x, href=F\"/item/{x}\")) for x in df.index))\n",
    "    )\n",
    "\n",
    "@app.get(\"/item/{id}\")\n",
    "def items(request: fastapi.Request, id: str):\n",
    "    global req\n",
    "    req = request\n",
    "    return df.loc[[id]].reset_index().iloc[0].to_dict()"
   ]
  },
  {
   "cell_type": "code",
   "execution_count": 11,
   "id": "bda9e4b7-a3b6-4cac-98fe-966cbbb42322",
   "metadata": {},
   "outputs": [
    {
     "data": {
      "text/html": [
       "<details><summary>http://127.0.0.1:8000/item</summary><iframe height=\"600\" loading=\"lazy\" src=\"http://127.0.0.1:8000/item\" width=\"100%\"></iframe></details>"
      ],
      "text/plain": [
       "<details><summary>http://127.0.0.1:8000/item</summary><iframe height=\"600\" loading=\"lazy\" src=\"http://127.0.0.1:8000/item\" width=\"100%\"></iframe></details>"
      ]
     },
     "metadata": {},
     "output_type": "display_data"
    },
    {
     "data": {
      "text/html": [
       "<details><summary>http://127.0.0.1:8000/item/9e3563d58e</summary><iframe height=\"600\" loading=\"lazy\" src=\"http://127.0.0.1:8000/item/9e3563d58e\" width=\"100%\"></iframe></details>"
      ],
      "text/plain": [
       "<details><summary>http://127.0.0.1:8000/item/9e3563d58e</summary><iframe height=\"600\" loading=\"lazy\" src=\"http://127.0.0.1:8000/item/9e3563d58e\" width=\"100%\"></iframe></details>"
      ]
     },
     "metadata": {},
     "output_type": "display_data"
    }
   ],
   "source": [
    "display(self.iframe(\"/item\"), self.iframe(\"/item/\" + df.index[0]))"
   ]
  },
  {
   "cell_type": "markdown",
   "id": "ce46b4aa-2b43-4338-9be2-17598a759eb3",
   "metadata": {},
   "source": [
    "## making requests to the server"
   ]
  },
  {
   "cell_type": "code",
   "execution_count": 12,
   "id": "1dedd888-7c81-45e3-bd3c-d9c295fd6e73",
   "metadata": {},
   "outputs": [
    {
     "data": {
      "text/html": [
       "<div>\n",
       "<style scoped>\n",
       "    .dataframe tbody tr th:only-of-type {\n",
       "        vertical-align: middle;\n",
       "    }\n",
       "\n",
       "    .dataframe tbody tr th {\n",
       "        vertical-align: top;\n",
       "    }\n",
       "\n",
       "    .dataframe thead th {\n",
       "        text-align: right;\n",
       "    }\n",
       "</style>\n",
       "<table border=\"1\" class=\"dataframe\">\n",
       "  <thead>\n",
       "    <tr style=\"text-align: right;\">\n",
       "      <th></th>\n",
       "      <th>id</th>\n",
       "      <th>index</th>\n",
       "      <th>description</th>\n",
       "      <th>stargazerCount</th>\n",
       "      <th>forkCount</th>\n",
       "      <th>license</th>\n",
       "      <th>tags</th>\n",
       "      <th>name</th>\n",
       "    </tr>\n",
       "    <tr>\n",
       "      <th>id</th>\n",
       "      <th></th>\n",
       "      <th></th>\n",
       "      <th></th>\n",
       "      <th></th>\n",
       "      <th></th>\n",
       "      <th></th>\n",
       "      <th></th>\n",
       "      <th></th>\n",
       "    </tr>\n",
       "  </thead>\n",
       "  <tbody>\n",
       "    <tr>\n",
       "      <th>9e3563d58e</th>\n",
       "      <td>9e3563d58e</td>\n",
       "      <td>https://github.com/ai-collection/ai-collection</td>\n",
       "      <td>The Generative AI Landscape - A Collection of ...</td>\n",
       "      <td>7916.0</td>\n",
       "      <td>780.0</td>\n",
       "      <td>MIT License</td>\n",
       "      <td>[artificial intelligence, collections, ai, ass...</td>\n",
       "      <td>ai-collection</td>\n",
       "    </tr>\n",
       "    <tr>\n",
       "      <th>5d95dc1297</th>\n",
       "      <td>5d95dc1297</td>\n",
       "      <td>https://github.com/OptiKey/OptiKey</td>\n",
       "      <td>OptiKey - Full computer control and speech wit...</td>\n",
       "      <td>4314.0</td>\n",
       "      <td>507.0</td>\n",
       "      <td>GNU General Public License v3.0</td>\n",
       "      <td>[eye tracking, eyetracking, eye tracker, eyes,...</td>\n",
       "      <td>OptiKey</td>\n",
       "    </tr>\n",
       "    <tr>\n",
       "      <th>078e30ecc2</th>\n",
       "      <td>078e30ecc2</td>\n",
       "      <td>https://github.com/brunopulis/awesome-a11y</td>\n",
       "      <td>A curate list about A11Y</td>\n",
       "      <td>1843.0</td>\n",
       "      <td>145.0</td>\n",
       "      <td>Creative Commons Zero v1.0 Universal</td>\n",
       "      <td>[accessibility, wai aria, wcag, a11y, awesome ...</td>\n",
       "      <td>awesome-a11y</td>\n",
       "    </tr>\n",
       "    <tr>\n",
       "      <th>a974b26bfe</th>\n",
       "      <td>a974b26bfe</td>\n",
       "      <td>https://github.com/Stypox/dicio-android</td>\n",
       "      <td>Dicio assistant app for Android</td>\n",
       "      <td>886.0</td>\n",
       "      <td>81.0</td>\n",
       "      <td>GNU General Public License v3.0</td>\n",
       "      <td>[assistant, assistive technology, personal ass...</td>\n",
       "      <td>dicio-android</td>\n",
       "    </tr>\n",
       "    <tr>\n",
       "      <th>198987f80d</th>\n",
       "      <td>198987f80d</td>\n",
       "      <td>https://github.com/cboard-org/cboard</td>\n",
       "      <td>Augmentative and Alternative Communication (AA...</td>\n",
       "      <td>667.0</td>\n",
       "      <td>180.0</td>\n",
       "      <td>GNU General Public License v3.0</td>\n",
       "      <td>[aac, autism, cerebral palsy, progressive web ...</td>\n",
       "      <td>cboard</td>\n",
       "    </tr>\n",
       "  </tbody>\n",
       "</table>\n",
       "</div>"
      ],
      "text/plain": [
       "                    id                                           index  \\\n",
       "id                                                                       \n",
       "9e3563d58e  9e3563d58e  https://github.com/ai-collection/ai-collection   \n",
       "5d95dc1297  5d95dc1297              https://github.com/OptiKey/OptiKey   \n",
       "078e30ecc2  078e30ecc2      https://github.com/brunopulis/awesome-a11y   \n",
       "a974b26bfe  a974b26bfe         https://github.com/Stypox/dicio-android   \n",
       "198987f80d  198987f80d            https://github.com/cboard-org/cboard   \n",
       "\n",
       "                                                  description  stargazerCount  \\\n",
       "id                                                                              \n",
       "9e3563d58e  The Generative AI Landscape - A Collection of ...          7916.0   \n",
       "5d95dc1297  OptiKey - Full computer control and speech wit...          4314.0   \n",
       "078e30ecc2                           A curate list about A11Y          1843.0   \n",
       "a974b26bfe                    Dicio assistant app for Android           886.0   \n",
       "198987f80d  Augmentative and Alternative Communication (AA...           667.0   \n",
       "\n",
       "            forkCount                               license  \\\n",
       "id                                                            \n",
       "9e3563d58e      780.0                           MIT License   \n",
       "5d95dc1297      507.0       GNU General Public License v3.0   \n",
       "078e30ecc2      145.0  Creative Commons Zero v1.0 Universal   \n",
       "a974b26bfe       81.0       GNU General Public License v3.0   \n",
       "198987f80d      180.0       GNU General Public License v3.0   \n",
       "\n",
       "                                                         tags           name  \n",
       "id                                                                            \n",
       "9e3563d58e  [artificial intelligence, collections, ai, ass...  ai-collection  \n",
       "5d95dc1297  [eye tracking, eyetracking, eye tracker, eyes,...        OptiKey  \n",
       "078e30ecc2  [accessibility, wai aria, wcag, a11y, awesome ...   awesome-a11y  \n",
       "a974b26bfe  [assistant, assistive technology, personal ass...  dicio-android  \n",
       "198987f80d  [aac, autism, cerebral palsy, progressive web ...         cboard  "
      ]
     },
     "execution_count": 12,
     "metadata": {},
     "output_type": "execute_result"
    }
   ],
   "source": [
    "import httpx\n",
    "async with self as client:\n",
    "    responses = (self.url + \"/item/\" + df.index.to_series().head()).apply(client.get).gather()\n",
    "\n",
    "responses.apply(httpx.Response.json).series()"
   ]
  }
 ],
 "metadata": {
  "kernelspec": {
   "display_name": "allYourBase",
   "language": "python",
   "name": "based"
  },
  "language_info": {
   "codemirror_mode": {
    "name": "ipython",
    "version": 3
   },
   "file_extension": ".py",
   "mimetype": "text/x-python",
   "name": "python",
   "nbconvert_exporter": "python",
   "pygments_lexer": "ipython3",
   "version": "3.13.5"
  }
 },
 "nbformat": 4,
 "nbformat_minor": 5
}
