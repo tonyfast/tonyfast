{
 "cells": [
  {
   "cell_type": "markdown",
   "id": "2c6ad601-840b-4265-ab33-ac95b13b31c2",
   "metadata": {},
   "source": [
    "# aria live and in complex web applications"
   ]
  },
  {
   "cell_type": "markdown",
   "id": "29a81e02-a77d-4ffa-b199-16726c777298",
   "metadata": {},
   "source": [
    "Explore running a Deno kernel alongside IPython and literate programming context."
   ]
  },
  {
   "cell_type": "code",
   "execution_count": 37,
   "id": "fbeff157-2e25-4223-b7d7-93545a12dfd7",
   "metadata": {},
   "outputs": [
    {
     "data": {
      "text/html": [
       "<h2>the basic output element says nothing</h2>\n",
       "<p><output id=i>this will say nothing</output></p>\n"
      ]
     },
     "metadata": {
      "jinja:Template": {
       "fbeff157-2e25-4223-b7d7-93545a12dfd7.md": "## the basic output element says nothing\n\n<output id=i>this will say nothing</output>"
      }
     },
     "output_type": "display_data"
    }
   ],
   "source": [
    "%%\n",
    "## the basic output element says nothing\n",
    "\n",
    "<output id=i>this will say nothing</output>"
   ]
  },
  {
   "cell_type": "code",
   "execution_count": 38,
   "id": "468400d9-67ef-4133-9e02-6ccf0facedb1",
   "metadata": {},
   "outputs": [
    {
     "data": {
      "text/html": [
       "<h2>aria live basic mechanics</h2>\n",
       "<p><code>aria-live</code> only updates assistive technology when the text in an element changes. If the text is replaced with an equal string is not read.</p>\n",
       "<p><output id=i>this will say nothing</output></p>\n",
       "<script>\n",
       "setTimeout(()=>{\n",
       "    document.getElementById(\"i\").innerText = \"another message!\";\n",
       "}, 100)\n",
       "</script>"
      ]
     },
     "metadata": {
      "jinja:Template": {
       "468400d9-67ef-4133-9e02-6ccf0facedb1.md": "## aria live basic mechanics\n\n`aria-live` only updates assistive technology when the text in an element changes. If the text is replaced with an equal string is not read. \n\n<output id=i>this will say nothing</output>\n<script>\nsetTimeout(()=>{\n    document.getElementById(\"i\").innerText = \"another message!\";\n}, 100)\n</script>"
      }
     },
     "output_type": "display_data"
    }
   ],
   "source": [
    "%%\n",
    "## aria live basic mechanics\n",
    "\n",
    "`aria-live` only updates assistive technology when the text in an element changes. If the text is replaced with an equal string is not read. \n",
    "\n",
    "<output id=i>this will say nothing</output>\n",
    "<script>\n",
    "setTimeout(()=>{\n",
    "    document.getElementById(\"i\").innerText = \"another message!\";\n",
    "}, 100)\n",
    "</script>"
   ]
  },
  {
   "cell_type": "code",
   "execution_count": 39,
   "id": "19cc48d0-cb71-4e98-acdb-fdead51bc2b4",
   "metadata": {},
   "outputs": [
    {
     "data": {
      "text/html": [
       "<div id=ii aria-live=\"assertive\"></div>\n",
       "<script>\n",
       "setTimeout(()=>{\n",
       "    document.getElementById(\"ii\").innerText = \"holy crap dude did you hear about what happened!\";\n",
       "}, 2000)\n",
       "</script>"
      ]
     },
     "metadata": {
      "jinja:Template": {
       "19cc48d0-cb71-4e98-acdb-fdead51bc2b4.md": "<div id=ii aria-live=\"assertive\"></div>\n<script>\nsetTimeout(()=>{\n    document.getElementById(\"ii\").innerText = \"holy crap dude did you hear about what happened!\";\n}, 2000)\n</script>"
      }
     },
     "output_type": "display_data"
    }
   ],
   "source": [
    "%%\n",
    "<div id=ii aria-live=\"assertive\"></div>\n",
    "<script>\n",
    "setTimeout(()=>{\n",
    "    document.getElementById(\"ii\").innerText = \"holy crap dude did you hear about what happened!\";\n",
    "}, 2000)\n",
    "</script>"
   ]
  },
  {
   "cell_type": "code",
   "execution_count": 40,
   "id": "42bdac0e-2dbe-4a9c-b58d-45d08e9a898d",
   "metadata": {},
   "outputs": [
    {
     "data": {
      "text/html": [
       "<p>Here we use the non-visual pattern in conjunction with the details tag to create a way to expose audible messages without them having a visual impact.</p>\n",
       "<style>\n",
       "details.log:not([open]) + section,\n",
       ".nv:not(:focus):not(:active) {\n",
       "    clip-path: inset(50%);\n",
       "    height: 1px;\n",
       "    overflow: hidden;\n",
       "    position: absolute;\n",
       "    white-space: nowrap;\n",
       "    width: 1px;\n",
       "}\n",
       "</style>\n",
       "<details class=\"log\">\n",
       "    <summary>whats in here?</summary>\n",
       "</details>\n",
       "<section>\n",
       "    <div id=iii aria-live=\"polite\"></div>\n",
       "</section>\n",
       "<script>\n",
       "setTimeout(()=>{\n",
       "    document.getElementById(\"iii\").innerText = \"you'll only hear me when i'm open!\";\n",
       "}, 500)\n",
       "</script>"
      ]
     },
     "metadata": {
      "jinja:Template": {
       "42bdac0e-2dbe-4a9c-b58d-45d08e9a898d.md": "Here we use the non-visual pattern in conjunction with the details tag to create a way to expose audible messages without them having a visual impact.\n\n<style>\ndetails.log:not([open]) + section,\n.nv:not(:focus):not(:active) {\n    clip-path: inset(50%);\n    height: 1px;\n    overflow: hidden;\n    position: absolute;\n    white-space: nowrap;\n    width: 1px;\n}\n</style>\n\n<details class=\"log\">\n    <summary>whats in here?</summary>\n</details>\n<section>\n    <div id=iii aria-live=\"polite\"></div>\n</section>\n\n<script>\nsetTimeout(()=>{\n    document.getElementById(\"iii\").innerText = \"you'll only hear me when i'm open!\";\n}, 500)\n</script>"
      }
     },
     "output_type": "display_data"
    }
   ],
   "source": [
    "%%\n",
    "Here we use the non-visual pattern in conjunction with the details tag to create a way to expose audible messages without them having a visual impact.\n",
    "\n",
    "<style>\n",
    "details.log:not([open]) + section,\n",
    ".nv:not(:focus):not(:active) {\n",
    "    clip-path: inset(50%);\n",
    "    height: 1px;\n",
    "    overflow: hidden;\n",
    "    position: absolute;\n",
    "    white-space: nowrap;\n",
    "    width: 1px;\n",
    "}\n",
    "</style>\n",
    "\n",
    "<details class=\"log\">\n",
    "    <summary>whats in here?</summary>\n",
    "</details>\n",
    "<section>\n",
    "    <div id=iii aria-live=\"polite\"></div>\n",
    "</section>\n",
    "\n",
    "<script>\n",
    "setTimeout(()=>{\n",
    "    document.getElementById(\"iii\").innerText = \"you'll only hear me when i'm open!\";\n",
    "}, 500)\n",
    "</script>"
   ]
  },
  {
   "cell_type": "code",
   "execution_count": 42,
   "id": "1299860d-4d19-45c0-b706-01a4c5b9a49b",
   "metadata": {},
   "outputs": [
    {
     "data": {
      "text/html": [
       "<style>\n",
       "details.log:not([open]) + section,\n",
       ".nv:not(:focus):not(:active) {\n",
       "    clip-path: inset(50%);\n",
       "    height: 1px;\n",
       "    overflow: hidden;\n",
       "    position: absolute;\n",
       "    white-space: nowrap;\n",
       "    width: 1px;\n",
       "}\n",
       "</style>\n",
       "<details class=\"log\">\n",
       "    <summary>whats in here?</summary>\n",
       "</details>\n",
       "<section>\n",
       "    <div id=iv aria-live=\"polite\"></div>\n",
       "</section>\n",
       "<dialog id=ivd><form method=\"dialog\"><button>close</button></form></dialog>\n",
       "<script>\n",
       "document.getElementById(\"ivd\").showModal()\n",
       "setTimeout(()=>{\n",
       "    document.getElementById(\"iv\").innerText = \"the dialog silences me! you'll only hear me if you close the dialog in time\";\n",
       "}, 5000)\n",
       "</script>"
      ]
     },
     "metadata": {
      "jinja:Template": {
       "1299860d-4d19-45c0-b706-01a4c5b9a49b.md": "<style>\ndetails.log:not([open]) + section,\n.nv:not(:focus):not(:active) {\n    clip-path: inset(50%);\n    height: 1px;\n    overflow: hidden;\n    position: absolute;\n    white-space: nowrap;\n    width: 1px;\n}\n</style>\n\n<details class=\"log\">\n    <summary>whats in here?</summary>\n</details>\n<section>\n    <div id=iv aria-live=\"polite\"></div>\n</section>\n<dialog id=ivd><form method=\"dialog\"><button>close</button></form></dialog>\n<script>\ndocument.getElementById(\"ivd\").showModal()\nsetTimeout(()=>{\n    document.getElementById(\"iv\").innerText = \"the dialog silences me! you'll only hear me if you close the dialog in time\";\n}, 5000)\n</script>"
      }
     },
     "output_type": "display_data"
    }
   ],
   "source": [
    "%%\n",
    "<style>\n",
    "details.log:not([open]) + section,\n",
    ".nv:not(:focus):not(:active) {\n",
    "    clip-path: inset(50%);\n",
    "    height: 1px;\n",
    "    overflow: hidden;\n",
    "    position: absolute;\n",
    "    white-space: nowrap;\n",
    "    width: 1px;\n",
    "}\n",
    "</style>\n",
    "\n",
    "<details class=\"log\">\n",
    "    <summary>whats in here?</summary>\n",
    "</details>\n",
    "<section>\n",
    "    <div id=iv aria-live=\"polite\"></div>\n",
    "</section>\n",
    "<dialog id=ivd><form method=\"dialog\"><button>close</button></form></dialog>\n",
    "<script>\n",
    "document.getElementById(\"ivd\").showModal()\n",
    "setTimeout(()=>{\n",
    "    document.getElementById(\"iv\").innerText = \"the dialog silences me! you'll only hear me if you close the dialog in time\";\n",
    "}, 5000)\n",
    "</script>"
   ]
  },
  {
   "cell_type": "code",
   "execution_count": 35,
   "id": "ca57c254-1970-47fb-aa8b-ed9de1784d7d",
   "metadata": {},
   "outputs": [
    {
     "data": {
      "text/html": [
       "<style>\n",
       "details.log:not([open]) + section,\n",
       ".nv:not(:focus):not(:active) {\n",
       "    clip-path: inset(50%);\n",
       "    height: 1px;\n",
       "    overflow: hidden;\n",
       "    position: absolute;\n",
       "    white-space: nowrap;\n",
       "    width: 1px;\n",
       "}\n",
       "</style>\n",
       "<details class=\"log\">\n",
       "    <summary>log</summary>\n",
       "</details>\n",
       "<section>\n",
       "    <div class=v aria-live=\"polite\"></div>\n",
       "</section>\n",
       "<dialog id=vd><form method=\"dialog\">\n",
       "    <button>close</button></form>\n",
       "    <details class=\"log\" open>\n",
       "        <summary>log</summary>\n",
       "    </details>\n",
       "    <section>\n",
       "        <div class=v aria-live=\"polite\"></div>\n",
       "    </section>\n",
       "</dialog>\n",
       "<script>\n",
       "document.getElementById(\"vd\").showModal()\n",
       "setTimeout(()=>{\n",
       "    document.querySelectorAll(\".v\").forEach((element) => {\n",
       "        element.innerText = \"you'll hear me when the element is in the accessibility tree!\";\n",
       "    })\n",
       "}, 500)\n",
       "</script>"
      ]
     },
     "metadata": {
      "jinja:Template": {
       "ca57c254-1970-47fb-aa8b-ed9de1784d7d.md": "<style>\ndetails.log:not([open]) + section,\n.nv:not(:focus):not(:active) {\n    clip-path: inset(50%);\n    height: 1px;\n    overflow: hidden;\n    position: absolute;\n    white-space: nowrap;\n    width: 1px;\n}\n</style>\n\n<details class=\"log\">\n    <summary>log</summary>\n</details>\n<section>\n    <div class=v aria-live=\"polite\"></div>\n</section>\n<dialog id=vd><form method=\"dialog\">\n    <button>close</button></form>\n    <details class=\"log\" open>\n        <summary>log</summary>\n    </details>\n    <section>\n        <div class=v aria-live=\"polite\"></div>\n    </section>\n</dialog>\n<script>\ndocument.getElementById(\"vd\").showModal()\nsetTimeout(()=>{\n    document.querySelectorAll(\".v\").forEach((element) => {\n        element.innerText = \"you'll hear me when the element is in the accessibility tree!\";\n    })\n}, 500)\n</script>"
      }
     },
     "output_type": "display_data"
    }
   ],
   "source": [
    "%%\n",
    "<style>\n",
    "details.log:not([open]) + section,\n",
    ".nv:not(:focus):not(:active) {\n",
    "    clip-path: inset(50%);\n",
    "    height: 1px;\n",
    "    overflow: hidden;\n",
    "    position: absolute;\n",
    "    white-space: nowrap;\n",
    "    width: 1px;\n",
    "}\n",
    "</style>\n",
    "\n",
    "<details class=\"log\">\n",
    "    <summary>log</summary>\n",
    "</details>\n",
    "<section>\n",
    "    <div class=v aria-live=\"polite\"></div>\n",
    "</section>\n",
    "<dialog id=vd><form method=\"dialog\">\n",
    "    <button>close</button></form>\n",
    "    <details class=\"log\" open>\n",
    "        <summary>log</summary>\n",
    "    </details>\n",
    "    <section>\n",
    "        <div class=v aria-live=\"polite\"></div>\n",
    "    </section>\n",
    "</dialog>\n",
    "<script>\n",
    "document.getElementById(\"vd\").showModal()\n",
    "setTimeout(()=>{\n",
    "    document.querySelectorAll(\".v\").forEach((element) => {\n",
    "        element.innerText = \"you'll hear me when the element is in the accessibility tree!\";\n",
    "    })\n",
    "}, 500)\n",
    "</script>"
   ]
  },
  {
   "cell_type": "code",
   "execution_count": 105,
   "id": "e6f53d7d-f4c2-4560-a501-56bcbb4bcf2d",
   "metadata": {},
   "outputs": [
    {
     "data": {
      "text/plain": [
       "\u001b[36m[Function: msg]\u001b[39m"
      ]
     },
     "execution_count": 12,
     "metadata": {},
     "output_type": "execute_result"
    }
   ],
   "source": [
    "%%\n",
    "\n",
    "```deno\n",
    "class ConsoleJawn {\n",
    "    log_to_live = {\n",
    "     'ERROR': 'assertive',\n",
    "     'CRITICAL': 'assertive',\n",
    "     'INFO': 'polite',\n",
    "     'WARN': 'none',\n",
    "     'DEBUG': 'none'\n",
    "    }\n",
    "    msg(level, msg) {\n",
    "    \n",
    "    }\n",
    "    log(msg) {\n",
    "        this.msg(\"LOG\", msg)    \n",
    "    }\n",
    "}\n",
    "new ConsoleJawn().msg\n",
    "```"
   ]
  },
  {
   "attachments": {},
   "cell_type": "markdown",
   "id": "7086eade-2d76-4a7a-9fb9-7157ef82a044",
   "metadata": {},
   "source": [
    "## deno warmup\n",
    "\n",
    "https://docs.deno.com/runtime/reference/cli/jupyter/"
   ]
  },
  {
   "cell_type": "code",
   "execution_count": 2,
   "id": "61b3b678-b04f-4b42-a411-a458ed100540",
   "metadata": {},
   "outputs": [],
   "source": [
    "import jupyter_client.multikernelmanager"
   ]
  },
  {
   "cell_type": "code",
   "execution_count": 54,
   "id": "1e8985b4-490c-4b6a-bb11-53de7597da21",
   "metadata": {},
   "outputs": [
    {
     "name": "stderr",
     "output_type": "stream",
     "text": [
      "\u001b[0m\u001b[33mWarning\u001b[0m \"deno jupyter\" is unstable and might change in the future.\n"
     ]
    }
   ],
   "source": [
    "if \"deno_kernel\" in locals():\n",
    "    del deno_kernel\n",
    "\n",
    "@dataclass\n",
    "class Deno:\n",
    "    name: str = \"deno\"\n",
    "    manager: jupyter_client.multikernelmanager.KernelManager = None\n",
    "    client: object = None\n",
    "    _started: bool = False\n",
    "    def __post_init__(self):\n",
    "        self.manager = jupyter_client.multikernelmanager.KernelManager(\n",
    "            kernel_name=\"deno\"\n",
    "        )\n",
    "        self.ensure_start()\n",
    "        \n",
    "    def ensure_start(self):\n",
    "        if not self._started:\n",
    "            if not self.manager.is_alive():\n",
    "                self.manager.start_kernel()\n",
    "                self.client = self.manager.client()\n",
    "                while not self.client.is_alive():\n",
    "                    pass\n",
    "                self._started = True\n",
    "\n",
    "    def __del__(self):\n",
    "        if self._started:\n",
    "            manager.shutdown_kernel()\n",
    "\n",
    "    def execute(self, code):\n",
    "        self.client.execute_interactive(code)\n",
    "\n",
    "deno_kernel = Deno()"
   ]
  },
  {
   "cell_type": "code",
   "execution_count": 62,
   "id": "269c1450-eae1-45f6-92d4-4ef01488abb4",
   "metadata": {},
   "outputs": [],
   "source": [
    "shell.tangle.parser.fence_methods[\"deno\"] = \"__main__:deno_kernel.execute\""
   ]
  }
 ],
 "metadata": {
  "kernelspec": {
   "display_name": "allYourBase",
   "language": "python",
   "name": "allyourbase"
  },
  "language_info": {
   "codemirror_mode": {
    "name": "ipython",
    "version": 3
   },
   "file_extension": ".py",
   "mimetype": "text/x-python",
   "name": "python",
   "nbconvert_exporter": "python",
   "pygments_lexer": "ipython3",
   "version": "3.13.5"
  }
 },
 "nbformat": 4,
 "nbformat_minor": 5
}
