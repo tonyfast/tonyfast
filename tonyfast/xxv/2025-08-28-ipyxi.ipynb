{
 "cells": [
  {
   "cell_type": "markdown",
   "id": "70b90213-3f67-471e-8eea-bca82d1726a2",
   "metadata": {},
   "source": [
    "# pixi with notebooks\n",
    "\n",
    "i love pixi, and im finding it to be an radical for deploying notebooks.\n",
    "i've been acheiving this ad-hoc on some notebooks about assistive technology.\n",
    "locally, and in ci, i use pixi to execute notebooks with a specific environment.\n",
    "the notebooks create artificats, reports, and documentation for the work."
   ]
  },
  {
   "cell_type": "code",
   "execution_count": 1,
   "id": "feaa2ecc-695d-4cd6-bf6d-00dafa945b5e",
   "metadata": {},
   "outputs": [],
   "source": [
    "import pandas, os;"
   ]
  },
  {
   "cell_type": "markdown",
   "id": "f2790d33-bd11-47ec-b114-fff595d765af",
   "metadata": {},
   "source": [
    "pixi wants lowercase letters, numbers, and hyphens. dont fux with anything else."
   ]
  },
  {
   "cell_type": "code",
   "execution_count": 11,
   "id": "6fdf7a2b-f6ce-449b-ab96-7ab2e4e5e6f3",
   "metadata": {},
   "outputs": [],
   "source": [
    "    name = (file := \"2025-08-28-ipyxi.ipynb\").replace(*\".-\").lower()"
   ]
  },
  {
   "cell_type": "markdown",
   "id": "b53ae521-f6d4-43c0-83b6-8267fd48f605",
   "metadata": {},
   "source": [
    "`yup` is a flag that keeps us out of an infinite loop when run our code. this technique might be needed at times to avoid recursion"
   ]
  },
  {
   "cell_type": "code",
   "execution_count": 16,
   "id": "0fd24b8b-7595-4a17-b06a-ccd5eedcad8d",
   "metadata": {},
   "outputs": [],
   "source": [
    "    yup = not os.environ.get(\"NOPE\") "
   ]
  },
  {
   "cell_type": "code",
   "execution_count": 18,
   "id": "3bcb8c0a-73db-4581-8a8e-aba157d57309",
   "metadata": {},
   "outputs": [
    {
     "name": "stdout",
     "output_type": "stream",
     "text": [
      "\u001b[32m✔ \u001b[0mUpdated environment 2025-08-28-ipyxi-ipynb\n",
      "✨ \u001b[1mPixi task (\u001b[0m\u001b[32m\u001b[1m2025-08-28-ipyxi-ipynb\u001b[0m in \u001b[35m2025-08-28-ipyxi-ipynb\u001b[0m\u001b[1m): \u001b[0m\u001b[34m\u001b[1mjupyter nbconvert --execute --to html 2025-08-28-ipyxi.ipynb\u001b[0m\u001b[33m\u001b[0m\n",
      "\u001b[2K[NbConvertApp] Converting notebook 2025-08-28-ipyxi.ipynb to html                                 \n",
      "[NbConvertApp] Writing 279354 bytes to 2025-08-28-ipyxi.html\n"
     ]
    },
    {
     "data": {
      "text/html": [
       "<p>the vision is that pixi can wrap all the notebook contexts into an executable tasks like <code>pixi run untitled46-ipynb</code>\n",
       "it would be shown inside a closed collapsible elements somewhere near the bottom,\n",
       "the environment should be opaque until its not.</p>\n",
       "<pre><code>if yup:\n",
       "</code></pre>\n",
       "<details open>\n",
       "    <summary>installation</summary>\n",
       "<pre><code>        !pixi add --feature $name pandas   &amp;&gt;/dev/null\n",
       "        !pixi workspace environment add $name --feature $name --force\n",
       "        tasks = !pixi task list\n",
       "        if name not in &quot;&quot;.join(tasks):\n",
       "            !pixi task add $name --feature $name -- jupyter nbconvert --execute --to html $file\n",
       "        !NOPE=1 pixi run $name\n",
       "</code></pre>\n",
       "</details>"
      ],
      "text/x-python": [
       "\n",
       "(\"\"\"the vision is that pixi can wrap all the notebook contexts into an executable tasks like `pixi run untitled46-ipynb`\n",
       "it would be shown inside a closed collapsible elements somewhere near the bottom,\n",
       "the environment should be opaque until its not.\"\"\")\n",
       "\n",
       "if yup:\n",
       "        (\"\"\"<details open>\n",
       "    <summary>installation</summary>\"\"\")\n",
       "\n",
       "\n",
       "        !pixi add --feature $name pandas   &>/dev/null\n",
       "        !pixi workspace environment add $name --feature $name --force\n",
       "        tasks = !pixi task list\n",
       "        if name not in \"\".join(tasks):\n",
       "            !pixi task add $name --feature $name -- jupyter nbconvert --execute --to html $file\n",
       "        !NOPE=1 pixi run $name\n",
       "        (\"\"\"</details>\"\"\");\n"
      ]
     },
     "metadata": {},
     "output_type": "display_data"
    }
   ],
   "source": [
    "%%\n",
    "the vision is that pixi can wrap all the notebook contexts into an executable tasks like `pixi run untitled46-ipynb`\n",
    "it would be shown inside a closed collapsible elements somewhere near the bottom,\n",
    "the environment should be opaque until its not.\n",
    "    \n",
    "    if yup:\n",
    "<details open>\n",
    "    <summary>installation</summary>\n",
    "        \n",
    "            \n",
    "            !pixi add --feature $name pandas   &>/dev/null\n",
    "            !pixi workspace environment add $name --feature $name --force\n",
    "            tasks = !pixi task list\n",
    "            if name not in \"\".join(tasks):\n",
    "                !pixi task add $name --feature $name -- jupyter nbconvert --execute --to html $file\n",
    "            !NOPE=1 pixi run $name\n",
    "</details>"
   ]
  },
  {
   "cell_type": "markdown",
   "id": "3be6f756-3ab9-4e36-83ab-fbb19003b5ba",
   "metadata": {},
   "source": [
    "# conclusion\n",
    "\n",
    "a notebook in an environment, feature, and task in pixi conventions"
   ]
  }
 ],
 "metadata": {
  "kernelspec": {
   "display_name": "allYourBase",
   "language": "python",
   "name": "based"
  },
  "language_info": {
   "codemirror_mode": {
    "name": "ipython",
    "version": 3
   },
   "file_extension": ".py",
   "mimetype": "text/x-python",
   "name": "python",
   "nbconvert_exporter": "python",
   "pygments_lexer": "ipython3",
   "version": "3.13.5"
  }
 },
 "nbformat": 4,
 "nbformat_minor": 5
}
