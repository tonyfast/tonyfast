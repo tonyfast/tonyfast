{
 "cells": [
  {
   "attachments": {},
   "cell_type": "markdown",
   "id": "9863dcea-985e-41a1-8d5b-40d631f032c2",
   "metadata": {},
   "source": [
    "<hgroup>\n",
    "    \n",
    "# two design worksheets for thinking accessibility\n",
    "\n",
    "accessibility starts at landmarks. for any, unit of content, there are six known landmarks that must be established for a complete webpage.\n",
    "</hgroup>\n",
    "\n",
    "Every page of content has primary and secondary `header`, `main`, and `footer` elements.\n",
    "The primary landmark elements are children of the `body` element,\n",
    "And the secondary landmark elements are children of the `main` element.\n",
    "This means that the first task for design is to locate the appropriate landmark for content to belong to.\n",
    "\n",
    "* site navigation belongs to the primary header\n",
    "* content navigation belongs to the secondary header\n",
    "* legal and license info belongs in the primary footer\n",
    "* the secondary main landmark has a region role\n",
    "\n",
    "* the main landmark will have an input and an output. The primary main landmarks employ is some URL pointing to content the input, for the secondary main landmark is the payload of the content.\n",
    "    *  in effect, the header region describes the input\n",
    "    *  the footer region describes the output."
   ]
  },
  {
   "cell_type": "markdown",
   "id": "e9275b1e-1fbc-486d-87aa-6ebb0e1978d4",
   "metadata": {},
   "source": [
    "## purpose of the worksheets\n",
    "\n",
    "the worksheets are designed to be printed out drawn on."
   ]
  },
  {
   "cell_type": "markdown",
   "id": "992068e4-216a-4493-8912-cb0041294c7d",
   "metadata": {},
   "source": [
    "## one column worksheet"
   ]
  },
  {
   "cell_type": "code",
   "execution_count": 13,
   "id": "37c9677f-0706-4301-896f-6fa04b7167ff",
   "metadata": {},
   "outputs": [
    {
     "data": {
      "text/html": [
       "<iframe height=\"600\" srcdoc='&lt;figure id=\"one-col\"&gt;&lt;figcaption&gt;landmark worksheet for:&lt;/figcaption&gt;&lt;style&gt;#one-col {\n",
       "        td, th { border: 2px solid;}\n",
       "        .main { height: 6in;}\n",
       "        .header, .footer {height: 1.5in;}\n",
       "    }&lt;/style&gt;&lt;table&gt;&lt;thead&gt;&lt;tr&gt;&lt;th&gt;region&lt;/th&gt;&lt;th&gt;primary/secondary&lt;/th&gt;&lt;/tr&gt;&lt;/thead&gt;&lt;tbody&gt;&lt;tr&gt;&lt;th class=\"header\"&gt;header&lt;/th&gt;&lt;td class=\"header\" style=\"width: 8in;\"&gt;&lt;/td&gt;&lt;/tr&gt;&lt;/tbody&gt;&lt;tbody&gt;&lt;tr&gt;&lt;th class=\"main\"&gt;main&lt;/th&gt;&lt;td class=\"main\" style=\"width: 8in;\"&gt;&lt;/td&gt;&lt;/tr&gt;&lt;/tbody&gt;&lt;tbody&gt;&lt;tr&gt;&lt;th class=\"footer\"&gt;footer&lt;/th&gt;&lt;td class=\"footer\" style=\"width: 8in;\"&gt;&lt;/td&gt;&lt;/tr&gt;&lt;/tbody&gt;&lt;/table&gt;&lt;/figure&gt;' width=\"800\"></iframe>"
      ],
      "text/plain": [
       "'<iframe height=\"600\" srcdoc=\\'&lt;figure id=\"one-col\"&gt;&lt;figcaption&gt;landmark worksheet for:&lt;/figcaption&gt;&lt;style&gt;#one-col {\\n        td, th { border: 2px solid;}\\n        .main { height: 6in;}\\n        .header, .footer {height: 1.5in;}\\n    }&lt;/style&gt;&lt;table&gt;&lt;thead&gt;&lt;tr&gt;&lt;th&gt;region&lt;/th&gt;&lt;th&gt;primary/secondary&lt;/th&gt;&lt;/tr&gt;&lt;/thead&gt;&lt;tbody&gt;&lt;tr&gt;&lt;th class=\"header\"&gt;header&lt;/th&gt;&lt;td class=\"header\" style=\"width: 8in;\"&gt;&lt;/td&gt;&lt;/tr&gt;&lt;/tbody&gt;&lt;tbody&gt;&lt;tr&gt;&lt;th class=\"main\"&gt;main&lt;/th&gt;&lt;td class=\"main\" style=\"width: 8in;\"&gt;&lt;/td&gt;&lt;/tr&gt;&lt;/tbody&gt;&lt;tbody&gt;&lt;tr&gt;&lt;th class=\"footer\"&gt;footer&lt;/th&gt;&lt;td class=\"footer\" style=\"width: 8in;\"&gt;&lt;/td&gt;&lt;/tr&gt;&lt;/tbody&gt;&lt;/table&gt;&lt;/figure&gt;\\' width=\"800\"></iframe>'"
      ]
     },
     "metadata": {},
     "output_type": "display_data"
    }
   ],
   "source": [
    "    from schema_frame import tag\n",
    "    df = DataFrame(None, \"header main footer\".split(), \"primary/secondary\".split())\n",
    "    \n",
    "    body = pandas.concat([\n",
    "        df.index.to_series().rename(\"region\").html.tag(\"th\"), df.html.tag(\"td\", style=\"width: 8in;\")\n",
    "    ], axis=1)    \n",
    "    \n",
    "    figure = pipe(pandas.concat([\n",
    "        body.columns.to_series().to_frame().html.tag(\"th\").T.html.group(\"tr\").html.tag(\"thead\"),\n",
    "        body.html.attrs_from_index(axis=1).html.group(\"tr\").html.tag(\"tbody\")\n",
    "    ], axis=0).html.group(\"table\"), partial(tag.figure,\n",
    "                                            tag.figcaption(\"landmark worksheet for:\"),\n",
    "        tag.style(\"\"\"#one-col {\n",
    "            td, th { border: 2px solid;}\n",
    "            .main { height: 6in;}\n",
    "            .header, .footer {height: 1.5in;}\n",
    "        }\"\"\") , id=\"one-col\"\n",
    "                                           ))\n",
    "    pipe(\n",
    "        figure,\n",
    "            compose_left(lambda x: tag.iframe(srcdoc=str(x)), HTML, display)\n",
    "    \n",
    "    )"
   ]
  },
  {
   "cell_type": "markdown",
   "id": "8e053011-2d65-49b4-822f-6988223c03fb",
   "metadata": {},
   "source": [
    "## two column worksheet"
   ]
  },
  {
   "cell_type": "code",
   "execution_count": 12,
   "id": "5ff0ab38-190b-4a69-b555-6ac4303c15f2",
   "metadata": {},
   "outputs": [
    {
     "data": {
      "text/html": [
       "<iframe height=\"600\" srcdoc='&lt;figure id=\"two-col\"&gt;&lt;figcaption&gt;landmark worksheet for:&lt;/figcaption&gt;&lt;style&gt;#two-col {\n",
       "        td, th { border: 2px solid;}\n",
       "    }&lt;/style&gt;&lt;table&gt;&lt;thead&gt;&lt;tr&gt;&lt;th&gt;region&lt;/th&gt;&lt;th&gt;primary&lt;/th&gt;&lt;th&gt;secondary&lt;/th&gt;&lt;/tr&gt;&lt;/thead&gt;&lt;tbody&gt;&lt;tr style=\"height: 3in;\"&gt;&lt;th&gt;header&lt;/th&gt;&lt;td style=\"height: 3in; width: 4in;\"&gt;&lt;/td&gt;&lt;td style=\"height: 3in; width: 4in;\"&gt;&lt;/td&gt;&lt;/tr&gt;&lt;/tbody&gt;&lt;tbody&gt;&lt;tr style=\"height: 3in;\"&gt;&lt;th&gt;main&lt;/th&gt;&lt;td style=\"height: 3in; width: 4in;\"&gt;&lt;/td&gt;&lt;td style=\"height: 3in; width: 4in;\"&gt;&lt;/td&gt;&lt;/tr&gt;&lt;/tbody&gt;&lt;tbody&gt;&lt;tr style=\"height: 3in;\"&gt;&lt;th&gt;footer&lt;/th&gt;&lt;td style=\"height: 3in; width: 4in;\"&gt;&lt;/td&gt;&lt;td style=\"height: 3in; width: 4in;\"&gt;&lt;/td&gt;&lt;/tr&gt;&lt;/tbody&gt;&lt;/table&gt;&lt;/figure&gt;' width=\"800\"></iframe>"
      ],
      "text/plain": [
       "'<iframe height=\"600\" srcdoc=\\'&lt;figure id=\"two-col\"&gt;&lt;figcaption&gt;landmark worksheet for:&lt;/figcaption&gt;&lt;style&gt;#two-col {\\n        td, th { border: 2px solid;}\\n    }&lt;/style&gt;&lt;table&gt;&lt;thead&gt;&lt;tr&gt;&lt;th&gt;region&lt;/th&gt;&lt;th&gt;primary&lt;/th&gt;&lt;th&gt;secondary&lt;/th&gt;&lt;/tr&gt;&lt;/thead&gt;&lt;tbody&gt;&lt;tr style=\"height: 3in;\"&gt;&lt;th&gt;header&lt;/th&gt;&lt;td style=\"height: 3in; width: 4in;\"&gt;&lt;/td&gt;&lt;td style=\"height: 3in; width: 4in;\"&gt;&lt;/td&gt;&lt;/tr&gt;&lt;/tbody&gt;&lt;tbody&gt;&lt;tr style=\"height: 3in;\"&gt;&lt;th&gt;main&lt;/th&gt;&lt;td style=\"height: 3in; width: 4in;\"&gt;&lt;/td&gt;&lt;td style=\"height: 3in; width: 4in;\"&gt;&lt;/td&gt;&lt;/tr&gt;&lt;/tbody&gt;&lt;tbody&gt;&lt;tr style=\"height: 3in;\"&gt;&lt;th&gt;footer&lt;/th&gt;&lt;td style=\"height: 3in; width: 4in;\"&gt;&lt;/td&gt;&lt;td style=\"height: 3in; width: 4in;\"&gt;&lt;/td&gt;&lt;/tr&gt;&lt;/tbody&gt;&lt;/table&gt;&lt;/figure&gt;\\' width=\"800\"></iframe>'"
      ]
     },
     "metadata": {},
     "output_type": "display_data"
    }
   ],
   "source": [
    "    df = DataFrame(None, \"header main footer\".split(), \"primary secondary\".split())\n",
    "    \n",
    "    body = pandas.concat([\n",
    "        df.index.to_series().rename(\"region\").html.tag(\"th\"), df.html.tag(\"td\", style=\"height: 3in; width: 4in;\")\n",
    "    ], axis=1)    \n",
    "    \n",
    "    figure = pipe(pandas.concat([\n",
    "        body.columns.to_series().to_frame().html.tag(\"th\").T.html.group(\"tr\").html.tag(\"thead\"),\n",
    "        body.html.group(\"tr\", style=\"height: 3in;\").html.tag(\"tbody\")\n",
    "    ], axis=0).html.group(\"table\"), partial(tag.figure,\n",
    "                                            tag.figcaption(\"landmark worksheet for:\"),\n",
    "        tag.style(\"\"\"#two-col {\n",
    "            td, th { border: 2px solid;}\n",
    "        }\"\"\") , id=\"two-col\"\n",
    "                                           ))\n",
    "    pipe(\n",
    "        figure,\n",
    "            compose_left(lambda x: tag.iframe(srcdoc=str(x)), HTML, display)\n",
    "    )"
   ]
  },
  {
   "cell_type": "code",
   "execution_count": null,
   "id": "4bd3b762-7d9a-4a92-ab82-a8e9d57f028c",
   "metadata": {},
   "outputs": [],
   "source": []
  }
 ],
 "metadata": {
  "kernelspec": {
   "display_name": "allYourBase",
   "language": "python",
   "name": "based"
  },
  "language_info": {
   "codemirror_mode": {
    "name": "ipython",
    "version": 3
   },
   "file_extension": ".py",
   "mimetype": "text/x-python",
   "name": "python",
   "nbconvert_exporter": "python",
   "pygments_lexer": "ipython3",
   "version": "3.13.5"
  }
 },
 "nbformat": 4,
 "nbformat_minor": 5
}
