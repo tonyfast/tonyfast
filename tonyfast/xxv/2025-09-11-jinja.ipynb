{
 "cells": [
  {
   "cell_type": "markdown",
   "id": "6045845a-a06f-465e-abe9-23c5cb37ee91",
   "metadata": {},
   "source": [
    "# the machinery needed to use markdown, pug, and jinja in notebooks"
   ]
  },
  {
   "cell_type": "markdown",
   "id": "20596bc6-e08d-42e4-ac3f-8af234f256a1",
   "metadata": {},
   "source": [
    "this notebook grew out of hand. it now handles creating templates in notebooks,\n",
    "and reusing those templates. further it provides tempalte interoperability between\n",
    "jinja2, markdown, and pug.\n",
    "\n",
    "we expose these templates in the notebook that is saved on disk.\n",
    "then test a `NotebookLoader` that can extract templates in the notebook outputs."
   ]
  },
  {
   "cell_type": "code",
   "execution_count": 1,
   "id": "8e13b57d-4d8a-4038-a492-c70cc0bd4ca6",
   "metadata": {},
   "outputs": [
    {
     "data": {
      "text/markdown": [
       "## `get_environment` creates our extended environment\n",
       "\n",
       "    def get_environment(shell, markdown_env={}):\n",
       "a `jinja2.Environment` for ipython that makes templates reusable inside and outside notebooks\n",
       "        \n",
       "        import jinja2.ext, pypugjs.ext.jinja, markdown_it\n",
       "        env = Environment(loader=jinja2.ChoiceLoader([jinja2.FileSystemLoader(\"\")]))\n",
       "initialize the environment with an extensible `jinja2.ChoiceLoader` and one that lets\n",
       "you access template naturally from the filesystem. the globals are shared with the interactive namespace\n",
       "allowing variables to be used to in templates\n",
       "\n",
       "        env.extend(dict_loader=jinja2.DictLoader({}))\n",
       "we add dict loader that lets us add arbitrary templates to our environment.\n",
       "this is primarily used by the `%template` magic for creating and using templates\n",
       "\n",
       "        shell.add_traits(templates=traitlets.Instance(jinja2.DictLoader, ({},), {}))\n",
       "        env.loader.loaders.append(env.dict_loader)\n",
       "we expose this loader in the `env.loader` and in the `IPython` shell\n",
       "    \n",
       "        env.filters[\"md\"] = partial(markdown_it.MarkdownIt().render, env=markdown_env)\n",
       "initialize a markdown filter that can be used in jinja2...\n",
       "\n",
       "        env.add_extension(pypugjs.ext.jinja.PyPugJSExtension)\n",
       "...and now as `pug` filters with the `pypugjs` extension installed.\n",
       "\n",
       "        env.filters[\"pug\"] = pugjs\n",
       "it makes sense to expose `pug` as a filter in jinja\n",
       "\n",
       "        pypugjs.register_filter(\"md\")(env.filters[\"md\"])\n",
       "and attached markdown filter to the `pypug` registry`\n",
       "\n",
       "        shell.register_magic_function(template_magic, \"line_cell\", \"template\")\n",
       "all of this is easier to manage as an `IPython` `%template` magic\n",
       "        \n",
       "        return env"
      ],
      "text/plain": [
       "'## `get_environment` creates our extended environment\\n\\n    def get_environment(shell, markdown_env={}):\\na `jinja2.Environment` for ipython that makes templates reusable inside and outside notebooks\\n        \\n        import jinja2.ext, pypugjs.ext.jinja, markdown_it\\n        env = Environment(loader=jinja2.ChoiceLoader([jinja2.FileSystemLoader(\"\")]))\\ninitialize the environment with an extensible `jinja2.ChoiceLoader` and one that lets\\nyou access template naturally from the filesystem. the globals are shared with the interactive namespace\\nallowing variables to be used to in templates\\n\\n        env.extend(dict_loader=jinja2.DictLoader({}))\\nwe add dict loader that lets us add arbitrary templates to our environment.\\nthis is primarily used by the `%template` magic for creating and using templates\\n\\n        shell.add_traits(templates=traitlets.Instance(jinja2.DictLoader, ({},), {}))\\n        env.loader.loaders.append(env.dict_loader)\\nwe expose this loader in the `env.loader` and in the `IPython` shell\\n    \\n        env.filters[\"md\"] = partial(markdown_it.MarkdownIt().render, env=markdown_env)\\ninitialize a markdown filter that can be used in jinja2...\\n\\n        env.add_extension(pypugjs.ext.jinja.PyPugJSExtension)\\n...and now as `pug` filters with the `pypugjs` extension installed.\\n\\n        env.filters[\"pug\"] = pugjs\\nit makes sense to expose `pug` as a filter in jinja\\n\\n        pypugjs.register_filter(\"md\")(env.filters[\"md\"])\\nand attached markdown filter to the `pypug` registry`\\n\\n        shell.register_magic_function(template_magic, \"line_cell\", \"template\")\\nall of this is easier to manage as an `IPython` `%template` magic\\n        \\n        return env'"
      ]
     },
     "metadata": {},
     "output_type": "display_data"
    }
   ],
   "source": [
    "%%\n",
    "## `get_environment` creates our extended environment\n",
    "\n",
    "    def get_environment(shell, markdown_env={}):\n",
    "a `jinja2.Environment` for ipython that makes templates reusable inside and outside notebooks\n",
    "        \n",
    "        import jinja2.ext, pypugjs.ext.jinja, markdown_it\n",
    "        env = Environment(loader=jinja2.ChoiceLoader([jinja2.FileSystemLoader(\"\")]))\n",
    "initialize the environment with an extensible `jinja2.ChoiceLoader` and one that lets\n",
    "you access template naturally from the filesystem. the globals are shared with the interactive namespace\n",
    "allowing variables to be used to in templates\n",
    "\n",
    "        env.extend(dict_loader=jinja2.DictLoader({}))\n",
    "we add dict loader that lets us add arbitrary templates to our environment.\n",
    "this is primarily used by the `%template` magic for creating and using templates\n",
    "\n",
    "        shell.add_traits(templates=traitlets.Instance(jinja2.DictLoader, ({},), {}))\n",
    "        env.loader.loaders.append(env.dict_loader)\n",
    "we expose this loader in the `env.loader` and in the `IPython` shell\n",
    "    \n",
    "        env.filters[\"md\"] = partial(markdown_it.MarkdownIt().render, env=markdown_env)\n",
    "initialize a markdown filter that can be used in jinja2...\n",
    "\n",
    "        env.add_extension(pypugjs.ext.jinja.PyPugJSExtension)\n",
    "...and now as `pug` filters with the `pypugjs` extension installed.\n",
    "\n",
    "        env.filters[\"pug\"] = pugjs\n",
    "it makes sense to expose `pug` as a filter in jinja\n",
    "\n",
    "        pypugjs.register_filter(\"md\")(env.filters[\"md\"])\n",
    "and attached markdown filter to the `pypug` registry`\n",
    "\n",
    "        shell.register_magic_function(template_magic, \"line_cell\", \"template\")\n",
    "all of this is easier to manage as an `IPython` `%template` magic\n",
    "        \n",
    "        return env"
   ]
  },
  {
   "cell_type": "code",
   "execution_count": 2,
   "id": "eef50fb3-5034-49f2-b19a-e73110164e29",
   "metadata": {},
   "outputs": [],
   "source": [
    "MARKDOWN_EXT = \".md\","
   ]
  },
  {
   "cell_type": "code",
   "execution_count": 3,
   "id": "f67952ff-f3c6-498a-b4b9-62f47b2cce0b",
   "metadata": {},
   "outputs": [
    {
     "data": {
      "text/markdown": [
       "### an overloaded jinja2 environment\n",
       "\n",
       "    class Environment(jinja2.Environment):\n",
       "the best case scenario is a jinja environment that handles all the output reasoing.\n",
       "        \n",
       "        class template_class(jinja2.Template):\n",
       "templates are the only way to control the output type of a template.\n",
       "so we render notebooks in ipython with a special `template_class` that exports html.\n",
       "_it would be possible extend this to an updating display._\n",
       "    \n",
       "            def render(self, *args, **kwargs):\n",
       "                text = super().render(*args, **kwargs)\n",
       "                if (self.name or self.filename or \"\").endswith(\".md\"):\n",
       "                    text = self.environment.filters[\"md\"](text)\n",
       "                return text\n",
       "\n",
       "        def from_string(self, source, globals = None, template_class = None, filename = None, name=None):\n",
       "we want to be able to dispatch different renderers based on the filename.\n",
       "the default `Environment.from_string` does not accept any argument so we customize\n",
       "the method to accept it. now the filename is carried through to the template and we can\n",
       "reason on the `Template.name`.\n",
       "        \n",
       "            gs = self.make_globals(globals)\n",
       "            cls = template_class or self.template_class\n",
       "            return cls.from_code(self, self.compile(source, name=name, filename=filename), gs, None)"
      ],
      "text/plain": [
       "'### an overloaded jinja2 environment\\n\\n    class Environment(jinja2.Environment):\\nthe best case scenario is a jinja environment that handles all the output reasoing.\\n        \\n        class template_class(jinja2.Template):\\ntemplates are the only way to control the output type of a template.\\nso we render notebooks in ipython with a special `template_class` that exports html.\\n_it would be possible extend this to an updating display._\\n    \\n            def render(self, *args, **kwargs):\\n                text = super().render(*args, **kwargs)\\n                if (self.name or self.filename or \"\").endswith(\".md\"):\\n                    text = self.environment.filters[\"md\"](text)\\n                return text\\n\\n        def from_string(self, source, globals = None, template_class = None, filename = None, name=None):\\nwe want to be able to dispatch different renderers based on the filename.\\nthe default `Environment.from_string` does not accept any argument so we customize\\nthe method to accept it. now the filename is carried through to the template and we can\\nreason on the `Template.name`.\\n        \\n            gs = self.make_globals(globals)\\n            cls = template_class or self.template_class\\n            return cls.from_code(self, self.compile(source, name=name, filename=filename), gs, None)'"
      ]
     },
     "metadata": {},
     "output_type": "display_data"
    }
   ],
   "source": [
    "%%  \n",
    "### an overloaded jinja2 environment\n",
    "\n",
    "    class Environment(jinja2.Environment):\n",
    "the best case scenario is a jinja environment that handles all the output reasoing.\n",
    "        \n",
    "        class template_class(jinja2.Template):\n",
    "templates are the only way to control the output type of a template.\n",
    "so we render notebooks in ipython with a special `template_class` that exports html.\n",
    "_it would be possible extend this to an updating display._\n",
    "    \n",
    "            def render(self, *args, **kwargs):\n",
    "                text = super().render(*args, **kwargs)\n",
    "                if (self.name or self.filename or \"\").endswith(\".md\"):\n",
    "                    text = self.environment.filters[\"md\"](text)\n",
    "                return text\n",
    "\n",
    "        def from_string(self, source, globals = None, template_class = None, filename = None, name=None):\n",
    "we want to be able to dispatch different renderers based on the filename.\n",
    "the default `Environment.from_string` does not accept any argument so we customize\n",
    "the method to accept it. now the filename is carried through to the template and we can\n",
    "reason on the `Template.name`.\n",
    "        \n",
    "            gs = self.make_globals(globals)\n",
    "            cls = template_class or self.template_class\n",
    "            return cls.from_code(self, self.compile(source, name=name, filename=filename), gs, None)"
   ]
  },
  {
   "cell_type": "code",
   "execution_count": 4,
   "id": "08f52fe0-8608-4459-a41a-f2befc6b671a",
   "metadata": {},
   "outputs": [],
   "source": [
    "parser = argparse.ArgumentParser(\"template\")\n",
    "parser.add_argument(\"name\", nargs='?', default=None)\n",
    "parser.add_argument(\"-w\", \"--write\", action=\"store_true\");"
   ]
  },
  {
   "cell_type": "code",
   "execution_count": 5,
   "id": "333aabfd-965f-4573-81a1-6cc52dce76ea",
   "metadata": {},
   "outputs": [
    {
     "data": {
      "text/markdown": [
       "## an ipython magic\n",
       "    def template_magic(line, cell):\n",
       "a template magic that will save templates, and render the templates as html\n",
       "\n",
       "        args = parser.parse_args(shlex.split(line))    \n",
       "        if cell is None:\n",
       "            return\n",
       "        if args.name:\n",
       "            if cell is None:\n",
       "                return shell.env.get_template(args.name).render(globals())\n",
       "            shell.env.dict_loader.mapping[args.name] = cell\n",
       "            if args.write:\n",
       "                Path(args.name).write_text(cell)\n",
       "            return display(\n",
       "                HTML(shell.env.from_string(cell, name=line).render(globals())), metadata={\"jinja2:Template\": {line: cell}}\n",
       "            )\n",
       "        return shell.env.get_template(line).render(globals())"
      ],
      "text/plain": [
       "'## an ipython magic\\n    def template_magic(line, cell):\\na template magic that will save templates, and render the templates as html\\n\\n        args = parser.parse_args(shlex.split(line))    \\n        if cell is None:\\n            return\\n        if args.name:\\n            if cell is None:\\n                return shell.env.get_template(args.name).render(globals())\\n            shell.env.dict_loader.mapping[args.name] = cell\\n            if args.write:\\n                Path(args.name).write_text(cell)\\n            return display(\\n                HTML(shell.env.from_string(cell, name=line).render(globals())), metadata={\"jinja2:Template\": {line: cell}}\\n            )\\n        return shell.env.get_template(line).render(globals())'"
      ]
     },
     "metadata": {},
     "output_type": "display_data"
    }
   ],
   "source": [
    "%%\n",
    "## an ipython magic\n",
    "    def template_magic(line, cell):\n",
    "a template magic that will save templates, and render the templates as html\n",
    "\n",
    "        args = parser.parse_args(shlex.split(line))    \n",
    "        if cell is None:\n",
    "            return\n",
    "        if args.name:\n",
    "            if cell is None:\n",
    "                return shell.env.get_template(args.name).render(globals())\n",
    "            shell.env.dict_loader.mapping[args.name] = cell\n",
    "            if args.write:\n",
    "                Path(args.name).write_text(cell)\n",
    "            return display(\n",
    "                HTML(shell.env.from_string(cell, name=line).render(globals())), metadata={\"jinja2:Template\": {line: cell}}\n",
    "            )\n",
    "        return shell.env.get_template(line).render(globals())"
   ]
  },
  {
   "cell_type": "code",
   "execution_count": 6,
   "id": "32f28705-0a66-4bda-bbb0-e538e38b8541",
   "metadata": {},
   "outputs": [
    {
     "data": {
      "text/markdown": [
       "## a pug filter running through jinja\n",
       "\n",
       "    def pugjs(source):\n",
       "        return shell.env.from_string(env.extensions[\"pypugjs.ext.jinja.PyPugJSExtension\"].preprocess(\n",
       "            source,  \"this.pug\"\n",
       "        ), None, HtmlTemplate).render()"
      ],
      "text/plain": [
       "'## a pug filter running through jinja\\n\\n    def pugjs(source):\\n        return shell.env.from_string(env.extensions[\"pypugjs.ext.jinja.PyPugJSExtension\"].preprocess(\\n            source,  \"this.pug\"\\n        ), None, HtmlTemplate).render()'"
      ]
     },
     "metadata": {},
     "output_type": "display_data"
    }
   ],
   "source": [
    "%%\n",
    "## a pug filter running through jinja\n",
    "\n",
    "    def pugjs(source):\n",
    "        return shell.env.from_string(env.extensions[\"pypugjs.ext.jinja.PyPugJSExtension\"].preprocess(\n",
    "            source,  \"this.pug\"\n",
    "        ), None, HtmlTemplate).render()"
   ]
  },
  {
   "cell_type": "code",
   "execution_count": 7,
   "id": "2de31510-b5d1-4b66-b3cb-64649df7a0a7",
   "metadata": {},
   "outputs": [
    {
     "data": {
      "text/markdown": [
       "## the `IPython` extension\n",
       "\n",
       "    def load_ipython_extension(shell):\n",
       "        env = get_environment(shell)\n",
       "        shell.add_traits(env=traitlets.Instance(\"jinja2.Environment\", (), {}, default_value=env))\n",
       "        shell.env = env\n",
       "\n",
       "\n",
       "    if __name__ == \"__main__\":\n",
       "        load_ipython_extension(shell)"
      ],
      "text/plain": [
       "'## the `IPython` extension\\n\\n    def load_ipython_extension(shell):\\n        env = get_environment(shell)\\n        shell.add_traits(env=traitlets.Instance(\"jinja2.Environment\", (), {}, default_value=env))\\n        shell.env = env\\n\\n\\n    if __name__ == \"__main__\":\\n        load_ipython_extension(shell)'"
      ]
     },
     "metadata": {},
     "output_type": "display_data"
    }
   ],
   "source": [
    "%%\n",
    "## the `IPython` extension\n",
    "\n",
    "    def load_ipython_extension(shell):\n",
    "        env = get_environment(shell)\n",
    "        shell.add_traits(env=traitlets.Instance(\"jinja2.Environment\", (), {}, default_value=env))\n",
    "        shell.env = env\n",
    "\n",
    "\n",
    "    if __name__ == \"__main__\":\n",
    "        load_ipython_extension(shell)"
   ]
  },
  {
   "cell_type": "markdown",
   "id": "c390c30a-abec-41f6-9cc6-9806f7d0b628",
   "metadata": {},
   "source": [
    "## modding `pypugjs` jinja opinions"
   ]
  },
  {
   "cell_type": "code",
   "execution_count": 8,
   "id": "bf5dee22-fe79-4f31-b99e-36644357bf0b",
   "metadata": {},
   "outputs": [],
   "source": [
    "    def visitInclude(self, node):\n",
    "        if md := node.path.endswith(MARKDOWN_EXT):\n",
    "            self.buf.append(\"{% filter md%}\")\n",
    "        self.buf.append(\"{% include '\")\n",
    "        self.buf.append(node.path)\n",
    "        self.buf.append(\"'%}\")\n",
    "        if md:\n",
    "            self.buf.append(\"{% endfilter %}\")\n",
    "\n",
    "    pypugjs.ext.jinja.Compiler.visitInclude = visitInclude"
   ]
  },
  {
   "cell_type": "code",
   "execution_count": 9,
   "id": "53b3af4f-0579-4ce8-8866-2bf3ea9bebdd",
   "metadata": {},
   "outputs": [
    {
     "name": "stdout",
     "output_type": "stream",
     "text": [
      "Overwriting external.pug\n"
     ]
    }
   ],
   "source": [
    "%%file external.pug\n",
    "figure\n",
    "    figcaption this is created from a pug template and can accept variables"
   ]
  },
  {
   "cell_type": "code",
   "execution_count": 10,
   "id": "41305fe8-6a55-49c2-ab75-35a77de65457",
   "metadata": {},
   "outputs": [
    {
     "data": {
      "text/html": [
       "<h4>using external pug in markdown</h4>\n",
       "<figure>\n",
       "  <figcaption>this is created from a pug template and can accept variables</figcaption>\n",
       "</figure>"
      ],
      "text/plain": [
       "<IPython.core.display.HTML object>"
      ]
     },
     "metadata": {
      "jinja2:Template": {
       "pug_in_markdown.md": "#### using external pug in markdown\n\n{% include \"external.pug\" %}\n"
      }
     },
     "output_type": "display_data"
    }
   ],
   "source": [
    "%%template pug_in_markdown.md\n",
    "#### using external pug in markdown\n",
    "\n",
    "{% include \"external.pug\" %}"
   ]
  },
  {
   "cell_type": "code",
   "execution_count": 11,
   "id": "dfea4191-8a63-4a28-bf43-234daf1422a2",
   "metadata": {},
   "outputs": [
    {
     "name": "stdout",
     "output_type": "stream",
     "text": [
      "Overwriting external.md\n"
     ]
    }
   ],
   "source": [
    "%%file external.md\n",
    "_external markdown included through jinja._"
   ]
  },
  {
   "cell_type": "code",
   "execution_count": 12,
   "id": "6eb2494c-bd53-4b51-a93c-73f57f57bd38",
   "metadata": {},
   "outputs": [
    {
     "data": {
      "text/html": [
       "<figure>\n",
       "  <figcaption>using external markdown in pug</figcaption><p><em>external markdown included through jinja.</em></p>\n",
       "\n",
       "</figure>"
      ],
      "text/plain": [
       "<IPython.core.display.HTML object>"
      ]
     },
     "metadata": {
      "jinja2:Template": {
       "markdown_in_pug.pug": "figure\n    figcaption using external markdown in pug\n    include external.md\n"
      }
     },
     "output_type": "display_data"
    }
   ],
   "source": [
    "%%template markdown_in_pug.pug\n",
    "figure\n",
    "    figcaption using external markdown in pug\n",
    "    include external.md"
   ]
  },
  {
   "cell_type": "code",
   "execution_count": 13,
   "id": "1c5b1cf2-29db-420f-8228-ae92279e30b0",
   "metadata": {},
   "outputs": [
    {
     "data": {
      "text/markdown": [
       "## loading jinja templates from as notebook\n",
       "\n",
       "    @dataclass(unsafe_hash=True)\n",
       "    class NotebookLoader(jinja2.BaseLoader):\n",
       "        path: Path\n",
       "        def get_templates_from_notebook_output(self):\n",
       "            return get_templates_from_notebook_output(self.path)\n",
       "        def list_templates(self):\n",
       "            return list(self.get_templates_from_notebook_output())\n",
       "        def get_source(self, environment, name, globals=None):\n",
       "            t = Path(self.path).stat().st_mtime\n",
       "            try:\n",
       "                return self.get_templates_from_notebook_output()[name], name, lambda: Path(self.path).stat().st_mtime == t\n",
       "            except:\n",
       "                raise jinja2.TemplateNotFound(\"can't find template\")\n",
       "    shell.env.loader.loaders = shell.env.loader.loaders[:2]\n",
       "\n",
       "    def get_templates_from_notebook_output(file):\n",
       "        return (\n",
       "            pandas.read_json(file, typ=Series)[[\"cells\"]]\n",
       "                .apply(Series).stack().apply(Series)\n",
       "            [[\"outputs\"]].dropna().stack().apply(Series)\n",
       "            .dropna().stack().apply(Series)\n",
       "            [[\"metadata\"]].stack().apply(Series)[[\"jinja2:Template\"]].stack().pipe(merge)\n",
       "        )\n",
       "\n",
       "    "
      ],
      "text/plain": [
       "'## loading jinja templates from as notebook\\n\\n    @dataclass(unsafe_hash=True)\\n    class NotebookLoader(jinja2.BaseLoader):\\n        path: Path\\n        def get_templates_from_notebook_output(self):\\n            return get_templates_from_notebook_output(self.path)\\n        def list_templates(self):\\n            return list(self.get_templates_from_notebook_output())\\n        def get_source(self, environment, name, globals=None):\\n            t = Path(self.path).stat().st_mtime\\n            try:\\n                return self.get_templates_from_notebook_output()[name], name, lambda: Path(self.path).stat().st_mtime == t\\n            except:\\n                raise jinja2.TemplateNotFound(\"can\\'t find template\")\\n    shell.env.loader.loaders = shell.env.loader.loaders[:2]\\n\\n    def get_templates_from_notebook_output(file):\\n        return (\\n            pandas.read_json(file, typ=Series)[[\"cells\"]]\\n                .apply(Series).stack().apply(Series)\\n            [[\"outputs\"]].dropna().stack().apply(Series)\\n            .dropna().stack().apply(Series)\\n            [[\"metadata\"]].stack().apply(Series)[[\"jinja2:Template\"]].stack().pipe(merge)\\n        )\\n\\n    '"
      ]
     },
     "metadata": {},
     "output_type": "display_data"
    }
   ],
   "source": [
    "%%\n",
    "## loading jinja templates from as notebook\n",
    "\n",
    "    @dataclass(unsafe_hash=True)\n",
    "    class NotebookLoader(jinja2.BaseLoader):\n",
    "        path: Path\n",
    "        def get_templates_from_notebook_output(self):\n",
    "            return get_templates_from_notebook_output(self.path)\n",
    "        def list_templates(self):\n",
    "            return list(self.get_templates_from_notebook_output())\n",
    "        def get_source(self, environment, name, globals=None):\n",
    "            t = Path(self.path).stat().st_mtime\n",
    "            try:\n",
    "                return self.get_templates_from_notebook_output()[name], name, lambda: Path(self.path).stat().st_mtime == t\n",
    "            except:\n",
    "                raise jinja2.TemplateNotFound(\"can't find template\")\n",
    "    shell.env.loader.loaders = shell.env.loader.loaders[:2]\n",
    "\n",
    "    def get_templates_from_notebook_output(file):\n",
    "        return (\n",
    "            pandas.read_json(file, typ=Series)[[\"cells\"]]\n",
    "                .apply(Series).stack().apply(Series)\n",
    "            [[\"outputs\"]].dropna().stack().apply(Series)\n",
    "            .dropna().stack().apply(Series)\n",
    "            [[\"metadata\"]].stack().apply(Series)[[\"jinja2:Template\"]].stack().pipe(merge)\n",
    "        )\n",
    "\n",
    "    "
   ]
  },
  {
   "cell_type": "code",
   "execution_count": 14,
   "id": "517950a2-f445-4a24-8c6a-263a65160e0c",
   "metadata": {},
   "outputs": [],
   "source": [
    "a = 1"
   ]
  },
  {
   "cell_type": "markdown",
   "id": "aded41b9-50b2-454c-a38f-6fed50c6617f",
   "metadata": {},
   "source": [
    "## demos\n",
    "\n",
    "### using a pug template"
   ]
  },
  {
   "cell_type": "code",
   "execution_count": 15,
   "id": "fe600653-74e6-4800-98c4-eb4b6363cdfe",
   "metadata": {},
   "outputs": [
    {
     "data": {
      "text/html": [
       "<hgroup>\n",
       "  <h4>a pug template from a notebook 1</h4>\n",
       "</hgroup>"
      ],
      "text/plain": [
       "<IPython.core.display.HTML object>"
      ]
     },
     "metadata": {
      "jinja2:Template": {
       "this.pug": "hgroup\n    h4 a pug template from a notebook !{a}\n"
      }
     },
     "output_type": "display_data"
    }
   ],
   "source": [
    "%%template this.pug\n",
    "hgroup\n",
    "    h4 a pug template from a notebook !{a}"
   ]
  },
  {
   "cell_type": "markdown",
   "id": "fd011bb6-ded4-4865-8653-76bfb1a7ea82",
   "metadata": {},
   "source": [
    "### using a markdown template"
   ]
  },
  {
   "cell_type": "code",
   "execution_count": 16,
   "id": "34c18785-0139-47f1-8ba1-3fa12d45de1a",
   "metadata": {},
   "outputs": [
    {
     "data": {
      "text/html": [
       "<h4>a markdown template in a notebook</h4>\n",
       "<p>1</p>\n"
      ],
      "text/plain": [
       "<IPython.core.display.HTML object>"
      ]
     },
     "metadata": {
      "jinja2:Template": {
       "this.md": "#### a markdown template in a notebook\n\n{{a}}\n"
      }
     },
     "output_type": "display_data"
    }
   ],
   "source": [
    "%%template this.md\n",
    "#### a markdown template in a notebook\n",
    "\n",
    "{{a}}"
   ]
  },
  {
   "cell_type": "markdown",
   "id": "a54d3247-b939-48a8-a92e-33f3b01d3ef0",
   "metadata": {},
   "source": [
    "## tests"
   ]
  },
  {
   "cell_type": "code",
   "execution_count": 18,
   "id": "f619ea21-3a6a-4854-9653-736a5cc9bafd",
   "metadata": {},
   "outputs": [],
   "source": [
    "    >>> env = Environment(loader=NotebookLoader(\"2025-09-11-jinja.ipynb\"))\n",
    "    ... env.add_extension(\"pypugjs.ext.jinja.PyPugJSExtension\")\n",
    "    ... env.filters.update(shell.env.filters)\n",
    "    ... env.globals = globals()\n",
    "    >>> assert env.get_template(\"this.pug\").render(a=\"abc\").startswith(\"<hgroup\")\n"
   ]
  },
  {
   "cell_type": "markdown",
   "id": "df057300-9a57-4926-aa8f-8cfcd63f4985",
   "metadata": {},
   "source": [
    "## marginalia"
   ]
  },
  {
   "cell_type": "markdown",
   "id": "249e9435-f639-489a-91b0-d6717f5009d7",
   "metadata": {},
   "source": [
    "with pidgy, i realized that having markdown cell inputs and markdown output is redundant.\n",
    "for simplicty, i've been using this technique, but the real win is to have html in and markdown out.\n",
    "\n",
    "it should be possible load templates for notebooks. \n",
    "it would be a notebook loader that took a notebook path and could discover templates\n",
    "in the outputs.\n"
   ]
  },
  {
   "cell_type": "code",
   "execution_count": null,
   "id": "3fd9c6b3-2199-4389-874f-da6c60cff684",
   "metadata": {},
   "outputs": [],
   "source": []
  }
 ],
 "metadata": {
  "kernelspec": {
   "display_name": "allYourBase",
   "language": "python",
   "name": "based"
  },
  "language_info": {
   "codemirror_mode": {
    "name": "ipython",
    "version": 3
   },
   "file_extension": ".py",
   "mimetype": "text/x-python",
   "name": "python",
   "nbconvert_exporter": "python",
   "pygments_lexer": "ipython3",
   "version": "3.13.5"
  }
 },
 "nbformat": 4,
 "nbformat_minor": 5
}
