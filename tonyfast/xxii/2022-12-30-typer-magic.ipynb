{
 "cells": [
  {
   "cell_type": "markdown",
   "id": "d340da8f-8289-4579-ad84-1c79d3948271",
   "metadata": {},
   "source": [
    "# using `typer` in ipython magics\n",
    "\n",
    "- [x] wrap function to consume system arguments using `typer`\n",
    "- [x] register the magic with `IPython`\n",
    "- [x] examples"
   ]
  },
  {
   "cell_type": "markdown",
   "id": "c069ab81-bc23-4f11-885c-839e5ccb0561",
   "metadata": {},
   "source": [
    "## wrapping the function\n",
    "\n",
    "we needs to process system arguments as a string when use magics.\n",
    "the line in a line magic or the first line in a cell magic may take arguments."
   ]
  },
  {
   "cell_type": "markdown",
   "id": "8f9dd11a-7f02-4f12-b018-6881669b062d",
   "metadata": {},
   "source": [
    "`wrap_magic` transforms our function into a magic style method that has the following signature.\n",
    "\n",
    "    def magicish(line: str, cell: str =None): ...\n",
    "\n",
    "    \n",
    "it uses `click` by way of `typer` to deserialize the line of system arguments.\n",
    "these parameters are passed to the original function. \n",
    "the magic function's help/docstring is replaced with the help from the command line interface."
   ]
  },
  {
   "cell_type": "code",
   "execution_count": 33,
   "id": "82e90567-cb15-4585-a752-e46c78dad676",
   "metadata": {},
   "outputs": [
    {
     "data": {
      "text/markdown": [
       "    def wrap_magic(function, cell_key=\"cell\"):\n",
       "        import typer, click\n",
       "        app = typer.Typer(add_completion=False, context_settings={\"help_option_names\": [\"-h\", \"--help\"]})\n",
       "        app.command()(function)\n",
       "        ctx = click.Context(typer.main.get_command(app))\n",
       "        \n",
       "        @functools.wraps(function)\n",
       "        def magic(line, cell=None):\n",
       "            try:\n",
       "                ctx.command.parse_args(ctx, shlex.split(line))\n",
       "            except click.exceptions.Exit:\n",
       "                return\n",
       "            if cell_key in ctx.params:\n",
       "                ctx.params[cell_key] = cell\n",
       "            return function(**ctx.params)\n",
       "        \n",
       "        magic.__doc__ = \"\\n\".join((function.__doc__ or \"\", get_help(ctx)))\n",
       "        return magic"
      ],
      "text/plain": [
       "<IPython.core.display.Markdown object>"
      ]
     },
     "metadata": {},
     "output_type": "display_data"
    }
   ],
   "source": [
    "    def wrap_magic(function, cell_key=\"cell\"):\n",
    "        import typer, click\n",
    "        app = typer.Typer(add_completion=False, context_settings={\"help_option_names\": [\"-h\", \"--help\"]})\n",
    "        app.command()(function)\n",
    "        ctx = click.Context(typer.main.get_command(app))\n",
    "        \n",
    "        @functools.wraps(function)\n",
    "        def magic(line, cell=None):\n",
    "            try:\n",
    "                ctx.command.parse_args(ctx, shlex.split(line))\n",
    "            except click.exceptions.Exit:\n",
    "                return\n",
    "            if cell_key in ctx.params:\n",
    "                ctx.params[cell_key] = cell\n",
    "            return function(**ctx.params)\n",
    "        \n",
    "        magic.__doc__ = \"\\n\".join((function.__doc__ or \"\", get_help(ctx)))\n",
    "        return magic"
   ]
  },
  {
   "cell_type": "markdown",
   "id": "b9cd3487-7346-4ccc-b846-e48a7e9e191d",
   "metadata": {},
   "source": [
    "## register the magic with `IPython`"
   ]
  },
  {
   "cell_type": "markdown",
   "id": "22553d11-b231-4a77-85f7-acc90c989eb2",
   "metadata": {},
   "source": [
    "`register` a line, cell or line/cell magic method."
   ]
  },
  {
   "cell_type": "code",
   "execution_count": 34,
   "id": "5b9ebfae-8054-44d1-8488-97655d0296dd",
   "metadata": {},
   "outputs": [
    {
     "data": {
      "text/markdown": [
       "    def register_magic(function, name=None,  cell_key = \"cell\"):\n",
       "        shell = get_ipython()\n",
       "        signature = inspect.signature(function)\n",
       "        wrapper = wrap_magic(function, cell_key=cell_key)\n",
       "        kind = \"line\"\n",
       "        if cell_key in signature.parameters:\n",
       "            kind = \"line_cell\"\n",
       "            if signature.parameters[cell_key].default is inspect._empty:\n",
       "                kind = \"cell\"\n",
       "        shell.register_magic_function(wrapper, kind, name)\n",
       "        shell.log.info(F\"registered {repr(function)} as magic named {name or function.__name__}\")\n",
       "        return function"
      ],
      "text/plain": [
       "<IPython.core.display.Markdown object>"
      ]
     },
     "metadata": {},
     "output_type": "display_data"
    }
   ],
   "source": [
    "    def register_magic(function, name=None,  cell_key = \"cell\"):\n",
    "        shell = get_ipython()\n",
    "        signature = inspect.signature(function)\n",
    "        wrapper = wrap_magic(function, cell_key=cell_key)\n",
    "        kind = \"line\"\n",
    "        if cell_key in signature.parameters:\n",
    "            kind = \"line_cell\"\n",
    "            if signature.parameters[cell_key].default is inspect._empty:\n",
    "                kind = \"cell\"\n",
    "        shell.register_magic_function(wrapper, kind, name)\n",
    "        shell.log.info(F\"registered {repr(function)} as magic named {name or function.__name__}\")\n",
    "        return function"
   ]
  },
  {
   "cell_type": "code",
   "execution_count": 35,
   "id": "b015a8ed-9f8b-47d6-99e1-dd751d4dc2f0",
   "metadata": {},
   "outputs": [
    {
     "data": {
      "text/markdown": [
       "### getting the help"
      ],
      "text/plain": [
       "<IPython.core.display.Markdown object>"
      ]
     },
     "metadata": {},
     "output_type": "display_data"
    }
   ],
   "source": [
    "### getting the help"
   ]
  },
  {
   "cell_type": "markdown",
   "id": "10c9bdeb-576b-4ef1-8dcc-18ba5965e906",
   "metadata": {},
   "source": [
    "when `rich` is installed, which it often is, we need to do some tomfoolery"
   ]
  },
  {
   "cell_type": "markdown",
   "id": "ebe52806-8959-452a-a8cd-f289df59e07b",
   "metadata": {},
   "source": [
    "in our interactive condition we want access to the `rich` console that `typer` uses.\n",
    "we're going to wrap a cache around `typer`s method so that each we recieve the same `rich.console.Console`\n",
    "each time the function is invoked."
   ]
  },
  {
   "cell_type": "code",
   "execution_count": 36,
   "id": "bd10ff8b-1dac-4ea7-bdec-ece5fd7a5dfd",
   "metadata": {},
   "outputs": [
    {
     "data": {
      "text/markdown": [
       "    import typer\n",
       "    locals().setdefault(\"_get_rich_console\", typer.rich_utils._get_rich_console)\n",
       "    typer.rich_utils._get_rich_console = functools.lru_cache(_get_rich_console)"
      ],
      "text/plain": [
       "<IPython.core.display.Markdown object>"
      ]
     },
     "metadata": {},
     "output_type": "display_data"
    }
   ],
   "source": [
    "    import typer\n",
    "    locals().setdefault(\"_get_rich_console\", typer.rich_utils._get_rich_console)\n",
    "    typer.rich_utils._get_rich_console = functools.lru_cache(_get_rich_console)"
   ]
  },
  {
   "cell_type": "markdown",
   "id": "8a0cfd81-d60e-4422-9202-299bb3caefb4",
   "metadata": {},
   "source": [
    "when the `Console` is consistent we can capture it's output and reclaim the help information"
   ]
  },
  {
   "cell_type": "code",
   "execution_count": 37,
   "id": "c3807774-7719-42d4-9d44-a2a351051777",
   "metadata": {},
   "outputs": [
    {
     "data": {
      "text/markdown": [
       "    def get_help(ctx):\n",
       "        with typer.rich_utils._get_rich_console().capture() as console:\n",
       "            ctx.get_help()\n",
       "        return console.get()"
      ],
      "text/plain": [
       "<IPython.core.display.Markdown object>"
      ]
     },
     "metadata": {},
     "output_type": "display_data"
    }
   ],
   "source": [
    "    def get_help(ctx):\n",
    "        with typer.rich_utils._get_rich_console().capture() as console:\n",
    "            ctx.get_help()\n",
    "        return console.get()"
   ]
  },
  {
   "cell_type": "markdown",
   "id": "05a4c126-531a-4340-93d4-4ef7512beefd",
   "metadata": {},
   "source": [
    "## examples"
   ]
  },
  {
   "cell_type": "markdown",
   "id": "ab2cb2ba-dfd8-4ccf-a0b2-a549ad31c176",
   "metadata": {},
   "source": [
    "* register a line magic"
   ]
  },
  {
   "cell_type": "code",
   "execution_count": 42,
   "id": "c7b72ca7-90bd-4cc1-80b1-2410d7de794e",
   "metadata": {},
   "outputs": [
    {
     "data": {
      "text/html": [
       "<pre style=\"white-space:pre;overflow-x:auto;line-height:normal;font-family:Menlo,'DejaVu Sans Mono',consolas,'Courier New',monospace\"></pre>\n"
      ],
      "text/plain": []
     },
     "metadata": {},
     "output_type": "display_data"
    },
    {
     "name": "stdout",
     "output_type": "stream",
     "text": [
      "worldworldworldworldworld <3\n"
     ]
    },
    {
     "data": {
      "text/markdown": [
       "    if (Ø := \"__file__\" not in locals()):\n",
       "        @register_magic\n",
       "        def hello(count:int = 5, name:str = typer.Option(\"world\", help=\"a name to repeat\"), msg: str = \"<3\"):\n",
       "            \"\"\"a function that says hello\"\"\"\n",
       "            print(name*count, msg)\n",
       "        assert \"hello\" not in shell.magics_manager.magics[\"cell\"]\n",
       "        %hello "
      ],
      "text/plain": [
       "<IPython.core.display.Markdown object>"
      ]
     },
     "metadata": {},
     "output_type": "display_data"
    }
   ],
   "source": [
    "    if (Ø := \"__file__\" not in locals()):\n",
    "        @register_magic\n",
    "        def hello(count:int = 5, name:str = typer.Option(\"world\", help=\"a name to repeat\"), msg: str = \"<3\"):\n",
    "            \"\"\"a function that says hello\"\"\"\n",
    "            print(name*count, msg)\n",
    "        assert \"hello\" not in shell.magics_manager.magics[\"cell\"]\n",
    "        %hello "
   ]
  },
  {
   "cell_type": "markdown",
   "id": "2c217ca8-cba9-4b2f-9f58-f4cf4f3c1d77",
   "metadata": {},
   "source": [
    "* register a cell magic because the cell parameter was found in the signature. this is by convention, and should be configurable."
   ]
  },
  {
   "cell_type": "code",
   "execution_count": 45,
   "id": "311b50cc-72de-4357-a7ae-08ac291d5b59",
   "metadata": {},
   "outputs": [
    {
     "data": {
      "text/html": [
       "<pre style=\"white-space:pre;overflow-x:auto;line-height:normal;font-family:Menlo,'DejaVu Sans Mono',consolas,'Courier New',monospace\"></pre>\n"
      ],
      "text/plain": []
     },
     "metadata": {},
     "output_type": "display_data"
    },
    {
     "data": {
      "text/markdown": [
       "    if Ø:\n",
       "        @register_magic\n",
       "        def yall(count:int = 5, name:str = typer.Option(\"world\", help=\"a name to repeat\"),  cell: str = \"xoxo\"):\n",
       "            \"\"\"a function that says hello to yall\"\"\"\n",
       "            hello(count, name, msg=cell)\n",
       "        assert \"yall\" in shell.magics_manager.magics[\"cell\"], \"the method didn't get registered.\""
      ],
      "text/plain": [
       "<IPython.core.display.Markdown object>"
      ]
     },
     "metadata": {},
     "output_type": "display_data"
    }
   ],
   "source": [
    "    if Ø:\n",
    "        @register_magic\n",
    "        def yall(count:int = 5, name:str = typer.Option(\"world\", help=\"a name to repeat\"),  cell: str = \"xoxo\"):\n",
    "            \"\"\"a function that says hello to yall\"\"\"\n",
    "            hello(count, name, msg=cell)\n",
    "        assert \"yall\" in shell.magics_manager.magics[\"cell\"], \"the method didn't get registered.\""
   ]
  }
 ],
 "metadata": {
  "kernelspec": {
   "display_name": "Python [conda env:root] *",
   "language": "python",
   "name": "conda-root-py"
  },
  "language_info": {
   "codemirror_mode": {
    "name": "ipython",
    "version": 3
   },
   "file_extension": ".py",
   "mimetype": "text/x-python",
   "name": "python",
   "nbconvert_exporter": "python",
   "pygments_lexer": "ipython3",
   "version": "3.9.13"
  }
 },
 "nbformat": 4,
 "nbformat_minor": 5
}
