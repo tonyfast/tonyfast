{
 "cells": [
  {
   "cell_type": "markdown",
   "id": "1e61abbd-5b60-4cb4-98b0-d5dc64a769f0",
   "metadata": {},
   "source": [
    "# exploring many `pyproject.toml configs`"
   ]
  },
  {
   "cell_type": "code",
   "execution_count": 1,
   "id": "bafdd037-f36c-44ee-90ef-d30d83b6a0b5",
   "metadata": {},
   "outputs": [],
   "source": [
    "    import pandas, requests, tomli\n",
    "    from toolz.curried import *\n",
    "    locals().setdefault(\"__path__\", [\"\"])    \n",
    "    from .info import header\n",
    "    __import__(\"requests_cache\").install_cache()"
   ]
  },
  {
   "cell_type": "markdown",
   "id": "f8ca36fe-3358-4447-a826-12b2cf872746",
   "metadata": {},
   "source": [
    "compose a graqhql query to retrieve to the `pyproject.toml` from a bunch of python projects. i'd love suggestions on a better query. currently, there are a lot of empty pyproject.toml requests."
   ]
  },
  {
   "cell_type": "code",
   "execution_count": 2,
   "id": "9252844c-95fd-4cf7-aeec-53c087501a83",
   "metadata": {},
   "outputs": [],
   "source": [
    "    query = \"\"\"\n",
    "    {\n",
    "      search(type: REPOSITORY, query: \"language:python stars:>500\", first:100 %s) {\n",
    "        pageInfo {\n",
    "          hasNextPage endCursor\n",
    "        }\n",
    "        edges {  \n",
    "            node {\n",
    "            ... on Repository {\n",
    "              url \n",
    "              stargazerCount\n",
    "              object(expression:\"HEAD:pyproject.toml\") {\n",
    "                ... on Blob {\n",
    "                  text\n",
    "                  \n",
    "                }\n",
    "              }\n",
    "            }\n",
    "          }\n",
    "        }\n",
    "      }\n",
    "    }\"\"\""
   ]
  },
  {
   "cell_type": "markdown",
   "id": "71787cf8-7f40-4cbf-a73f-5a364989f2e3",
   "metadata": {},
   "source": [
    "paginate through the query to get multiple results"
   ]
  },
  {
   "cell_type": "code",
   "execution_count": null,
   "id": "35c2ba04-091a-4af5-928d-00771d80c0be",
   "metadata": {},
   "outputs": [],
   "source": [
    "    responses = []\n",
    "\n",
    "    for i in range(15):\n",
    "        q = query % \"\"\n",
    "        if responses:\n",
    "            if not responses[-1].json()[\"data\"][\"search\"][\"pageInfo\"][\"hasNextPage\"]:\n",
    "                break\n",
    "            q = query % \"\"\", after: \"%s\" \"\"\" % responses[-1].json()[\"data\"][\"search\"][\"pageInfo\"][\"endCursor\"]\n",
    "        responses.append(\n",
    "            requests.post(\"https://api.github.com/graphql\", json=dict(query=q), **header)\n",
    "        )\n",
    "        if responses[-1].status_code != 200: break"
   ]
  },
  {
   "cell_type": "markdown",
   "id": "176ddf9b-92a0-4008-9fe1-dc31e220f069",
   "metadata": {},
   "source": [
    "transform the responses in a big `pandas` dataframe of `configs`"
   ]
  },
  {
   "cell_type": "code",
   "execution_count": null,
   "id": "10980a10-7deb-43ed-983b-80511ddcdfa7",
   "metadata": {},
   "outputs": [],
   "source": [
    "    df = pipe(responses, map(\n",
    "        compose_left(operator.methodcaller(\"json\"), get(\"data\"), get(\"search\"), get(\"edges\"), pandas.DataFrame)\n",
    "    ), partial(pandas.concat, axis=1)).stack()\n",
    "    configs = df.apply(pandas.Series).dropna(subset=\"object\")\\\n",
    "    .set_index(\"url\")[\"object\"].apply(pandas.Series)[\"text\"].apply(tomli.loads).apply(pandas.Series)"
   ]
  },
  {
   "cell_type": "code",
   "execution_count": null,
   "id": "30234678-181e-4a95-91c5-ac5fa52f76c7",
   "metadata": {},
   "outputs": [],
   "source": [
    "    print(F\"\"\"we made {len(responses)} requests returning information about a {len(df)} repositories.\n",
    "    we retrieved {len(configs)} from this scrape.\n",
    "    \"\"\")"
   ]
  },
  {
   "cell_type": "markdown",
   "id": "3be6b3b6-ffe3-413c-87a9-965b1f499595",
   "metadata": {},
   "source": [
    "## inspecting the build backend"
   ]
  },
  {
   "cell_type": "code",
   "execution_count": null,
   "id": "c9c05286-e51b-4a27-8f55-53d273a72497",
   "metadata": {},
   "outputs": [],
   "source": [
    "    builds = configs[\"build-system\"].dropna().apply(pandas.Series)"
   ]
  },
  {
   "cell_type": "code",
   "execution_count": null,
   "id": "81fbc494-12f7-4b16-9f0e-d6c135453088",
   "metadata": {},
   "outputs": [],
   "source": [
    "    F\"\"\"{len(builds)} projects define a build backends.\"\"\""
   ]
  },
  {
   "cell_type": "markdown",
   "id": "30a2ce8f-503c-4c2c-be03-ba4513c4aa7f",
   "metadata": {},
   "source": [
    "the different build backends frequencies"
   ]
  },
  {
   "cell_type": "code",
   "execution_count": null,
   "id": "8af26abc-82b4-4b8e-a4d2-088861c8ef37",
   "metadata": {},
   "outputs": [],
   "source": [
    "    builds[\"build-backend\"].dropna().value_counts().to_frame(\"build-backend\").T"
   ]
  },
  {
   "cell_type": "markdown",
   "id": "32deae8f-4346-4e1a-a3f3-c217cfc17725",
   "metadata": {},
   "source": [
    "## inspecting the tools"
   ]
  },
  {
   "cell_type": "markdown",
   "id": "b3ca8966-2fca-4a0d-911c-eb90d17d7b20",
   "metadata": {},
   "source": [
    "the different tool frequencies"
   ]
  },
  {
   "cell_type": "code",
   "execution_count": null,
   "id": "76ae4c29-3a76-4aa3-8590-a160039f8761",
   "metadata": {},
   "outputs": [],
   "source": [
    "    tools = configs[\"tool\"].dropna()\n",
    "    ranks = tools.apply(list).apply(pandas.Series).stack().value_counts()"
   ]
  },
  {
   "cell_type": "code",
   "execution_count": null,
   "id": "a227560b-719e-4fa8-b473-52e379eaf1c7",
   "metadata": {},
   "outputs": [],
   "source": [
    "    ranks[ranks>4].to_frame(\"top\").T"
   ]
  },
  {
   "cell_type": "code",
   "execution_count": null,
   "id": "5a3d41cd-9ee5-4c3a-84f5-7d549683b216",
   "metadata": {},
   "outputs": [],
   "source": [
    "    pandas.options.display.max_colwidth = None"
   ]
  },
  {
   "cell_type": "code",
   "execution_count": null,
   "id": "b7097673-e35e-410c-940a-395d78344e74",
   "metadata": {},
   "outputs": [],
   "source": [
    "    ranks[ranks<=4].to_frame(\"bottom\").reset_index().groupby(\"bottom\").agg(list).iloc[::-1]"
   ]
  },
  {
   "cell_type": "code",
   "execution_count": null,
   "id": "cc253f0a-d5cb-4a75-b617-36da6aadb610",
   "metadata": {},
   "outputs": [],
   "source": []
  }
 ],
 "metadata": {
  "kernelspec": {
   "display_name": "Python [conda env:root] *",
   "language": "python",
   "name": "conda-root-py"
  },
  "language_info": {
   "codemirror_mode": {
    "name": "ipython",
    "version": 3
   },
   "file_extension": ".py",
   "mimetype": "text/x-python",
   "name": "python",
   "nbconvert_exporter": "python",
   "pygments_lexer": "ipython3",
   "version": "3.9.13"
  }
 },
 "nbformat": 4,
 "nbformat_minor": 5
}
