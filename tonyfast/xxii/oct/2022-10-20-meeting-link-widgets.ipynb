{
  "metadata": {
    "language_info": {
      "codemirror_mode": {
        "name": "python",
        "version": 3
      },
      "file_extension": ".py",
      "mimetype": "text/x-python",
      "name": "python",
      "nbconvert_exporter": "python",
      "pygments_lexer": "ipython3",
      "version": "3.8"
    },
    "kernelspec": {
      "name": "python",
      "display_name": "Python (Pyodide)",
      "language": "python"
    }
  },
  "nbformat_minor": 4,
  "nbformat": 4,
  "cells": [
    {
      "cell_type": "markdown",
      "source": "# making meeting links",
      "metadata": {}
    },
    {
      "cell_type": "markdown",
      "source": "i need to be able to make meetings with folks.\nthose meetings will often contain:\n\n* some content\n* real time collaboration\n* video chat\n\nthe notebooks builds a link for a video chat and real collaboration.\n\nthis system feels pretty de-platformated using `jupyterlab`s native rtc\nand `jitsi` video chat. ping me on twitter if you want a tour sometime.\n\nin the future we can build: binder links, icalendar events.",
      "metadata": {}
    },
    {
      "cell_type": "code",
      "source": "    try:\n        import ipywidgets, icalendar, dataclasses, uritemplate, traitlets, arrow\n    except: \n        await __import__(\"micropip\").install(\"ipywidgets icalendar dataclasses uritemplate traitlets arrow\".split())\n        import ipywidgets, icalendar, dataclasses, uritemplate, traitlets, arrow\n    from functools import partial; from ipywidgets import *",
      "metadata": {
        "trusted": true
      },
      "execution_count": null,
      "outputs": []
    },
    {
      "cell_type": "code",
      "source": "    video = Text(\"in-this-house-we-wear-sweatpants\", description=\"📹 video chat\")\n    rtc = Text(\"exquisite-potluck\", description=\"🤝 real time collaboration\")\n    document = Text(\"\", description=\"📄 file path\")\n    input = list(zip(\"JVC-PUBLIC room path\".split(), [video, rtc, document]))\n    lite_url = HTML(\"\", description=\"💡 lite\")\n    ",
      "metadata": {
        "trusted": true
      },
      "execution_count": null,
      "outputs": []
    },
    {
      "cell_type": "markdown",
      "source": "`update_lite_url` formats the `input` widgets using a uri template.    ",
      "metadata": {}
    },
    {
      "cell_type": "code",
      "source": "    def update_lite_url(*Δ, lite_template = \"https://tonyfast.github.io/tonyfast/run/lab{?room,JVC-PUBLIC,path}\"):\n        url = uritemplate.URITemplate(lite_template).expand(dict(\n            (k, v.value) for k, v in input if v.value))\n        lite_url.value = F\"\"\"<a href=\"{url}\">{url}</a>\"\"\"",
      "metadata": {
        "trusted": true
      },
      "execution_count": null,
      "outputs": []
    },
    {
      "cell_type": "markdown",
      "source": "initialize the widget interactions",
      "metadata": {}
    },
    {
      "cell_type": "code",
      "source": "    for k, widget in input: widget.observe(update_lite_url, \"value\")\n    update_lite_url()",
      "metadata": {
        "trusted": true
      },
      "execution_count": null,
      "outputs": []
    },
    {
      "cell_type": "markdown",
      "source": "make the `app` and start tinkering with it.",
      "metadata": {}
    },
    {
      "cell_type": "code",
      "source": "    app = VBox([x[1] for x in input] + [lite_url]); app",
      "metadata": {
        "trusted": true
      },
      "execution_count": null,
      "outputs": []
    },
    {
      "cell_type": "markdown",
      "source": "i suspect i'll reuse this document to meet with folks, and build some more tooling for it.",
      "metadata": {}
    }
  ]
}