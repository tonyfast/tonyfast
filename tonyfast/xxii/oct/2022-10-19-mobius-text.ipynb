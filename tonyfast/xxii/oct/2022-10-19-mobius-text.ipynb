{
 "cells": [
  {
   "cell_type": "markdown",
   "id": "e91f726c-953f-4c5c-8693-0da234c70097",
   "metadata": {},
   "source": [
    "# turn some text into a mobius surface\n",
    "\n",
    "a good reference was: https://algebra-fun.gitee.io/blog/2020/06/16/Joy-%E7%BB%98%E5%88%B6Mobius/"
   ]
  },
  {
   "cell_type": "code",
   "execution_count": 1,
   "id": "b2d4293d-1821-40dc-930d-58dee133cfd1",
   "metadata": {},
   "outputs": [],
   "source": [
    "    if __import__(\"sys\").platform == \"emscripten\":\n",
    "        await __import__(\"micropip\").install(\"pandas matplotlib ipympl\".split())\n",
    "    import pandas, matplotlib, io, numpy\n",
    "    from mpl_toolkits.mplot3d import Axes3D\n",
    "    %matplotlib agg"
   ]
  },
  {
   "cell_type": "markdown",
   "id": "1149a197-2258-4472-b018-ee6b2d63944e",
   "metadata": {},
   "source": [
    "`get_text` transforms some text into a dataframe that will allow us to plot a mobius strip."
   ]
  },
  {
   "cell_type": "code",
   "execution_count": 2,
   "id": "0dfe61f4-7d2c-45bb-be57-90dfe3446ed1",
   "metadata": {},
   "outputs": [],
   "source": [
    "    def get_text(text=\"deathbeds\", repeat=2):\n",
    "        return get_text_array(\n",
    "            get_text_figure(text, repeat)\n",
    "        ).pipe(get_parameterized_text).pipe(get_xyz)"
   ]
  },
  {
   "cell_type": "markdown",
   "id": "30b69c5a-e9bd-4382-a20b-1e14f462a9fe",
   "metadata": {},
   "source": [
    "`get_text_figure` transforms text to pixels."
   ]
  },
  {
   "cell_type": "code",
   "execution_count": 3,
   "id": "701a7358-3537-4186-9c5d-84c39d6af25c",
   "metadata": {},
   "outputs": [],
   "source": [
    "    def get_text_figure(text=\"deathbeds\", repeat=1):\n",
    "        matplotlib.pyplot.gca().text(0, 0, text*repeat, size=1000)\n",
    "        matplotlib.pyplot.gca().axis(\"off\")\n",
    "        fig = matplotlib.pyplot.gcf()\n",
    "        return fig"
   ]
  },
  {
   "cell_type": "markdown",
   "id": "960a0bf2-2aba-46f5-ad68-f39ea78e4e2b",
   "metadata": {},
   "source": [
    "`get_text_array` structure those pixels as dataframe"
   ]
  },
  {
   "cell_type": "code",
   "execution_count": 4,
   "id": "3c9fb331-1d9d-4eb5-93c9-dee7dfedb789",
   "metadata": {},
   "outputs": [],
   "source": [
    "    def get_text_array(fig):\n",
    "        data= io.BytesIO()\n",
    "        fig.savefig(data, bbox_inches=\"tight\")\n",
    "        data.seek(0)\n",
    "        where = numpy.where(matplotlib.pyplot.imread(data).sum(2)[::-4, ::20] < 2)\n",
    "        return pandas.concat(\n",
    "            [pandas.Series(where[0], name=\"x\"), pandas.Series(where[1], name=\"y\")], axis=1\n",
    "        ).set_index(\"x\")\n",
    "    "
   ]
  },
  {
   "cell_type": "markdown",
   "id": "fe01ac4b-1b07-4e71-b839-ff7dd621e896",
   "metadata": {},
   "source": [
    "`get_parameterized_text` parameterizes x onto 0..1 and s one 0..2π"
   ]
  },
  {
   "cell_type": "code",
   "execution_count": 5,
   "id": "4fbb134c-407a-4754-9530-464b1a02f777",
   "metadata": {},
   "outputs": [],
   "source": [
    "    def get_parameterized_text(df):\n",
    "        extent = df.index.max() - df.index.min()\n",
    "        df[\"t\"] = df.index.to_series()\n",
    "        df.t = df.t.sub(df.t.min()).div(extent).sub(.5)\n",
    "        extent = df.y.max() - df.y.min()\n",
    "        df[\"s\"] = df.y.add(df.y.min()).div(extent).mul(2*numpy.pi)\n",
    "        return df"
   ]
  },
  {
   "cell_type": "markdown",
   "id": "75728711-24e8-46f4-a246-6348a4cb947e",
   "metadata": {},
   "source": [
    "`get_xyz` moves the parameterization in xyz space."
   ]
  },
  {
   "cell_type": "code",
   "execution_count": 6,
   "id": "eed175bf-fa7a-4b16-bcd0-cd310190d4a1",
   "metadata": {},
   "outputs": [],
   "source": [
    "    def get_xyz(df, R=100, W=50):\n",
    "        return df.assign(\n",
    "            x=(R+W*df.t*df.s.div(2).apply(numpy.cos))*df.s.apply(numpy.cos), \n",
    "            y=(R+W*df.t*df.s.div(2).apply(numpy.cos))*df.s.apply(numpy.sin), \n",
    "            z=W*df.t.mul(df.s.div(2).apply(numpy.sin)), \n",
    "        )"
   ]
  },
  {
   "cell_type": "markdown",
   "id": "ff077d93-c06d-49dc-b056-2fa91a609b37",
   "metadata": {},
   "source": [
    "`get_plot` takes our structured data and plots in 3d."
   ]
  },
  {
   "cell_type": "code",
   "execution_count": 7,
   "id": "b37ded19-7bf9-4ee4-8c6d-65dc2062b242",
   "metadata": {},
   "outputs": [],
   "source": [
    "    def get_plot(df):\n",
    "        fig = matplotlib.pyplot.gcf()\n",
    "        ax = Axes3D(fig, auto_add_to_figure=False)\n",
    "        fig.add_axes(ax)\n",
    "        ax.scatter3D(df.x, df.y, df.z, c=[(.1, .1, .1, .015)], marker=\"v\", s=200, edgecolor=None)\n",
    "        return fig\n",
    "        "
   ]
  },
  {
   "cell_type": "markdown",
   "id": "457d9dee-cd84-47e1-af4d-817a77d57569",
   "metadata": {},
   "source": [
    "use the interactive 3-d dispklay"
   ]
  },
  {
   "cell_type": "code",
   "execution_count": 8,
   "id": "2f33debd-571a-43c9-92eb-38a8445dff58",
   "metadata": {},
   "outputs": [],
   "source": [
    "    %matplotlib ipympl\n",
    "    "
   ]
  },
  {
   "cell_type": "markdown",
   "id": "391c0b8f-a7ec-44fb-8ed3-8658bf60f9b0",
   "metadata": {},
   "source": [
    "plot it all"
   ]
  },
  {
   "cell_type": "code",
   "execution_count": null,
   "id": "6881fb58-3601-487b-8613-b38cb418e1e2",
   "metadata": {},
   "outputs": [],
   "source": [
    "    matplotlib.pyplot.gcf().set_size_inches((6, 6))        \n",
    "    get_text(\"deathbeds\").pipe(get_plot)\n",
    "    "
   ]
  }
 ],
 "metadata": {
  "kernelspec": {
   "display_name": "Python [conda env:root] *",
   "language": "python",
   "name": "conda-root-py"
  },
  "language_info": {
   "codemirror_mode": {
    "name": "ipython",
    "version": 3
   },
   "file_extension": ".py",
   "mimetype": "text/x-python",
   "name": "python",
   "nbconvert_exporter": "python",
   "pygments_lexer": "ipython3",
   "version": "3.9.10"
  }
 },
 "nbformat": 4,
 "nbformat_minor": 5
}
