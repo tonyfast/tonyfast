{
 "cells": [
  {
   "cell_type": "markdown",
   "id": "81e3984e-403e-4973-8854-61279e48faa5",
   "metadata": {},
   "source": [
    "# invoking axe-core from python playwright"
   ]
  },
  {
   "cell_type": "markdown",
   "id": "0c06404a-3717-4e4b-810c-a3f348de7b5c",
   "metadata": {},
   "source": [
    "javascript is not my jam. id rather write python. this post is a result of these inconsistencies.\n",
    "\n",
    "in my accessibility, i often need to test the accessibility of a web page.\n",
    "the javascript way to this is to run using playwright and playwright-axe together.\n",
    "\n",
    "i couldn't find an evident way to do that.\n",
    "instead i peaked into the playwright-axe integration and realizes we\n",
    "could invoke axe through python by copying a little bit."
   ]
  },
  {
   "cell_type": "markdown",
   "id": "493322fb-cb8e-4b81-b64b-5ddbed8b7ea2",
   "metadata": {},
   "source": [
    "## auditting an html file\n",
    "\n",
    "1. create a headless playwright browser\n",
    "2. load the page\n",
    "3. inject axe-core\n",
    "4. audit the page\n",
    "5. close the browser"
   ]
  },
  {
   "cell_type": "code",
   "execution_count": 1,
   "id": "2386f37c-4df2-425b-87bb-0c8712698569",
   "metadata": {},
   "outputs": [],
   "source": [
    "async def audit(file, **config):\n",
    "    import playwright.async_api\n",
    "    async with playwright.async_api.async_playwright() as play:\n",
    "        browser, page = await get_browser_page(play)\n",
    "        await page.goto(file.absolute().as_uri())\n",
    "        await injectAxe(page)\n",
    "        data = await get_audit_data(page, **config)\n",
    "        await browser.close()\n",
    "    return data\n"
   ]
  },
  {
   "cell_type": "code",
   "execution_count": 2,
   "id": "69f69568-ed00-438b-a441-4d03859bd66d",
   "metadata": {},
   "outputs": [],
   "source": [
    "async def get_browser_page(play, **options):\n",
    "    from shlex import split\n",
    "    browser = await play.chromium.launch(\n",
    "        args=split('--enable-blink-features=\"AccessibilityObjectModel\"'),\n",
    "        headless=True,  channel=\"chrome-beta\")\n",
    "    return browser, await browser.new_page()"
   ]
  },
  {
   "cell_type": "markdown",
   "id": "98eb9910-ceed-4770-b71a-efd46ade83b6",
   "metadata": {},
   "source": [
    "`injectAxe` mimics how `playwright-axe` loads the package.\n",
    "we used a cached requests object vendored from unpkg"
   ]
  },
  {
   "cell_type": "code",
   "execution_count": 3,
   "id": "6e7cb333-6cc3-4c73-b256-382bcb3e9c2c",
   "metadata": {},
   "outputs": [],
   "source": [
    "async def injectAxe(page): await page.evaluate(requests.get(\"https://unpkg.com/axe-core\").text)    "
   ]
  },
  {
   "cell_type": "markdown",
   "id": "e2ac6668-b722-42b0-b934-8baa15acc70d",
   "metadata": {},
   "source": [
    "`get_audit_data` extracts the axe test results and the accesssbility tree from the page."
   ]
  },
  {
   "cell_type": "code",
   "execution_count": 4,
   "id": "4e8cd583-bc71-44df-b71d-e0741226f261",
   "metadata": {},
   "outputs": [],
   "source": [
    "async def get_audit_data(page, **config):\n",
    "    from json import dumps\n",
    "    return await __import__(\"asyncio\").gather(\n",
    "        page.evaluate(F\"window.axe.run(window.document, {dumps(config)})\"),\n",
    "        page.accessibility.snapshot())"
   ]
  },
  {
   "cell_type": "markdown",
   "id": "56465634-ed3e-4796-9682-7d201c69093f",
   "metadata": {},
   "source": [
    "## testing a page"
   ]
  },
  {
   "cell_type": "markdown",
   "id": "c29b57af-ed8a-4e8b-9aa3-c1f7f930d2ab",
   "metadata": {},
   "source": [
    "we use this notebook as the test artifact by generating an html version of it with `nbconvert`"
   ]
  },
  {
   "cell_type": "code",
   "execution_count": 5,
   "id": "2842528b-ea2c-48e0-98f6-01d810d31cdb",
   "metadata": {},
   "outputs": [
    {
     "name": "stdout",
     "output_type": "stream",
     "text": [
      "[NbConvertApp] WARNING | Config option `kernel_spec_manager_class` not recognized by `NbConvertApp`.\n",
      "[NbConvertApp] Converting notebook 2022-10-27-axe-core-playwright-python.ipynb to html\n",
      "[NbConvertApp] Writing 591692 bytes to 2022-10-27-axe-core-playwright-python.html\n"
     ]
    }
   ],
   "source": [
    "    import requests_cache, requests, pandas;  requests_cache.install_cache(\"a11y\")\n",
    "    from pathlib import Path\n",
    "    THIS = Path(\"2022-10-27-axe-core-playwright-python.ipynb\")\n",
    "    if __name__ == \"__main__\":\n",
    "        !jupyter nbconvert --to html $THIS"
   ]
  },
  {
   "cell_type": "markdown",
   "id": "b56794ac-55c4-45af-9d05-ad8de6e1ebd4",
   "metadata": {},
   "source": [
    "## getting the accessibility audit objects"
   ]
  },
  {
   "cell_type": "markdown",
   "id": "f88f0f2f-660b-4c78-8083-8e52a7ccc108",
   "metadata": {},
   "source": [
    "`axe` contains the axe test data and `tree` contains the accessibility tree."
   ]
  },
  {
   "cell_type": "code",
   "execution_count": 8,
   "id": "d3d718ef-d767-4955-bf21-be7c6f221d43",
   "metadata": {},
   "outputs": [],
   "source": [
    "    axe, tree = map(pandas.Series, await audit(THIS.with_suffix(\".html\"), runOnly=\"best-practice\".split()))"
   ]
  },
  {
   "cell_type": "markdown",
   "id": "04024d86-9fb2-4165-8ccc-a2eb6e82387d",
   "metadata": {},
   "source": [
    "### axe violations"
   ]
  },
  {
   "cell_type": "code",
   "execution_count": 9,
   "id": "db5b5061-1120-4e18-992b-7c79afeccad0",
   "metadata": {},
   "outputs": [
    {
     "data": {
      "text/html": [
       "<div>\n",
       "<style scoped>\n",
       "    .dataframe tbody tr th:only-of-type {\n",
       "        vertical-align: middle;\n",
       "    }\n",
       "\n",
       "    .dataframe tbody tr th {\n",
       "        vertical-align: top;\n",
       "    }\n",
       "\n",
       "    .dataframe thead th {\n",
       "        text-align: right;\n",
       "    }\n",
       "</style>\n",
       "<table border=\"1\" class=\"dataframe\">\n",
       "  <thead>\n",
       "    <tr style=\"text-align: right;\">\n",
       "      <th></th>\n",
       "      <th>id</th>\n",
       "      <th>impact</th>\n",
       "      <th>tags</th>\n",
       "      <th>description</th>\n",
       "      <th>help</th>\n",
       "      <th>helpUrl</th>\n",
       "      <th>nodes</th>\n",
       "    </tr>\n",
       "  </thead>\n",
       "  <tbody>\n",
       "    <tr>\n",
       "      <th>0</th>\n",
       "      <td>landmark-one-main</td>\n",
       "      <td>moderate</td>\n",
       "      <td>[cat.semantics, best-practice]</td>\n",
       "      <td>Ensures the document has a main landmark</td>\n",
       "      <td>Document should have one main landmark</td>\n",
       "      <td>https://dequeuniversity.com/rules/axe/4.5/land...</td>\n",
       "      <td>[{'any': [], 'all': [{'id': 'page-has-main', '...</td>\n",
       "    </tr>\n",
       "    <tr>\n",
       "      <th>1</th>\n",
       "      <td>region</td>\n",
       "      <td>moderate</td>\n",
       "      <td>[cat.keyboard, best-practice]</td>\n",
       "      <td>Ensures all page content is contained by landm...</td>\n",
       "      <td>All page content should be contained by landmarks</td>\n",
       "      <td>https://dequeuniversity.com/rules/axe/4.5/regi...</td>\n",
       "      <td>[{'any': [{'id': 'region', 'data': {'isIframe'...</td>\n",
       "    </tr>\n",
       "  </tbody>\n",
       "</table>\n",
       "</div>"
      ],
      "text/plain": [
       "                  id    impact                            tags  \\\n",
       "0  landmark-one-main  moderate  [cat.semantics, best-practice]   \n",
       "1             region  moderate   [cat.keyboard, best-practice]   \n",
       "\n",
       "                                         description  \\\n",
       "0           Ensures the document has a main landmark   \n",
       "1  Ensures all page content is contained by landm...   \n",
       "\n",
       "                                                help  \\\n",
       "0             Document should have one main landmark   \n",
       "1  All page content should be contained by landmarks   \n",
       "\n",
       "                                             helpUrl  \\\n",
       "0  https://dequeuniversity.com/rules/axe/4.5/land...   \n",
       "1  https://dequeuniversity.com/rules/axe/4.5/regi...   \n",
       "\n",
       "                                               nodes  \n",
       "0  [{'any': [], 'all': [{'id': 'page-has-main', '...  \n",
       "1  [{'any': [{'id': 'region', 'data': {'isIframe'...  "
      ]
     },
     "execution_count": 9,
     "metadata": {},
     "output_type": "execute_result"
    }
   ],
   "source": [
    "    pandas.DataFrame(axe.violations)"
   ]
  },
  {
   "cell_type": "markdown",
   "id": "1c8bf742-ad0d-4f89-abe4-078eae25ce33",
   "metadata": {},
   "source": [
    "### accessibility tree"
   ]
  },
  {
   "cell_type": "code",
   "execution_count": 10,
   "id": "f0b7af49-c926-459d-a003-42742907f966",
   "metadata": {},
   "outputs": [
    {
     "data": {
      "text/html": [
       "<div>\n",
       "<style scoped>\n",
       "    .dataframe tbody tr th:only-of-type {\n",
       "        vertical-align: middle;\n",
       "    }\n",
       "\n",
       "    .dataframe tbody tr th {\n",
       "        vertical-align: top;\n",
       "    }\n",
       "\n",
       "    .dataframe thead th {\n",
       "        text-align: right;\n",
       "    }\n",
       "</style>\n",
       "<table border=\"1\" class=\"dataframe\">\n",
       "  <thead>\n",
       "    <tr style=\"text-align: right;\">\n",
       "      <th></th>\n",
       "      <th>role</th>\n",
       "      <th>name</th>\n",
       "      <th>level</th>\n",
       "    </tr>\n",
       "  </thead>\n",
       "  <tbody>\n",
       "    <tr>\n",
       "      <th>0</th>\n",
       "      <td>text</td>\n",
       "      <td>Loading [MathJax]/jax/output/CommonHTML/fonts/...</td>\n",
       "      <td>NaN</td>\n",
       "    </tr>\n",
       "    <tr>\n",
       "      <th>1</th>\n",
       "      <td>heading</td>\n",
       "      <td>invoking axe-core from python playwright</td>\n",
       "      <td>1.0</td>\n",
       "    </tr>\n",
       "    <tr>\n",
       "      <th>2</th>\n",
       "      <td>text</td>\n",
       "      <td>javascript is not my jam. id rather write pyth...</td>\n",
       "      <td>NaN</td>\n",
       "    </tr>\n",
       "    <tr>\n",
       "      <th>3</th>\n",
       "      <td>text</td>\n",
       "      <td>in my accessibility, i often need to test the ...</td>\n",
       "      <td>NaN</td>\n",
       "    </tr>\n",
       "    <tr>\n",
       "      <th>4</th>\n",
       "      <td>text</td>\n",
       "      <td>i couldn't find an evident way to do that. ins...</td>\n",
       "      <td>NaN</td>\n",
       "    </tr>\n",
       "    <tr>\n",
       "      <th>...</th>\n",
       "      <td>...</td>\n",
       "      <td>...</td>\n",
       "      <td>...</td>\n",
       "    </tr>\n",
       "    <tr>\n",
       "      <th>275</th>\n",
       "      <td>text</td>\n",
       "      <td>.</td>\n",
       "      <td>NaN</td>\n",
       "    </tr>\n",
       "    <tr>\n",
       "      <th>276</th>\n",
       "      <td>text</td>\n",
       "      <td>children</td>\n",
       "      <td>NaN</td>\n",
       "    </tr>\n",
       "    <tr>\n",
       "      <th>277</th>\n",
       "      <td>text</td>\n",
       "      <td>)</td>\n",
       "      <td>NaN</td>\n",
       "    </tr>\n",
       "    <tr>\n",
       "      <th>278</th>\n",
       "      <td>heading</td>\n",
       "      <td>conclusion</td>\n",
       "      <td>2.0</td>\n",
       "    </tr>\n",
       "    <tr>\n",
       "      <th>279</th>\n",
       "      <td>text</td>\n",
       "      <td>we can run axe in python playwright and analyz...</td>\n",
       "      <td>NaN</td>\n",
       "    </tr>\n",
       "  </tbody>\n",
       "</table>\n",
       "<p>280 rows × 3 columns</p>\n",
       "</div>"
      ],
      "text/plain": [
       "        role                                               name  level\n",
       "0       text  Loading [MathJax]/jax/output/CommonHTML/fonts/...    NaN\n",
       "1    heading           invoking axe-core from python playwright    1.0\n",
       "2       text  javascript is not my jam. id rather write pyth...    NaN\n",
       "3       text  in my accessibility, i often need to test the ...    NaN\n",
       "4       text  i couldn't find an evident way to do that. ins...    NaN\n",
       "..       ...                                                ...    ...\n",
       "275     text                                                  .    NaN\n",
       "276     text                                           children    NaN\n",
       "277     text                                                  )    NaN\n",
       "278  heading                                         conclusion    2.0\n",
       "279     text  we can run axe in python playwright and analyz...    NaN\n",
       "\n",
       "[280 rows x 3 columns]"
      ]
     },
     "execution_count": 10,
     "metadata": {},
     "output_type": "execute_result"
    }
   ],
   "source": [
    "\n",
    "    pandas.DataFrame(tree.children)"
   ]
  },
  {
   "cell_type": "markdown",
   "id": "9f7c3c20-2ac9-4fe8-86a7-ed8ca042c85f",
   "metadata": {},
   "source": [
    "## conclusion\n",
    "\n",
    "we can run axe in python playwright and analyze results in pandas."
   ]
  }
 ],
 "metadata": {
  "kernelspec": {
   "display_name": "Python [conda env:root] *",
   "language": "python",
   "name": "conda-root-py"
  },
  "language_info": {
   "codemirror_mode": {
    "name": "ipython",
    "version": 3
   },
   "file_extension": ".py",
   "mimetype": "text/x-python",
   "name": "python",
   "nbconvert_exporter": "python",
   "pygments_lexer": "ipython3",
   "version": "3.9.10"
  }
 },
 "nbformat": 4,
 "nbformat_minor": 5
}
