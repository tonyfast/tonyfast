{
 "cells": [
  {
   "cell_type": "code",
   "execution_count": 2,
   "id": "e39390e5-e8a0-4f03-a747-0bf64fdc1908",
   "metadata": {
    "slideshow": {
     "slide_type": "slide"
    },
    "tags": []
   },
   "outputs": [
    {
     "data": {
      "application/vnd.jupyter.widget-view+json": {
       "model_id": "c391d11c6fc64b1c956915ba5ba0d7dd",
       "version_major": 2,
       "version_minor": 0
      },
      "text/plain": [
       "HTML(value='<pre><code># %reload_ext pidgy\\n\\nshell.displays_manager.template_cls = pidgy.weave.IPyWidgetsHtml…"
      ]
     },
     "metadata": {},
     "output_type": "display_data"
    }
   ],
   "source": [
    "    # %reload_ext pidgy\n",
    "\n",
    "    shell.displays_manager.template_cls = pidgy.weave.IPyWidgetsHtml"
   ]
  },
  {
   "cell_type": "code",
   "execution_count": 14,
   "id": "1039b9e5-8c9d-4089-b9b8-5b323a61f4b7",
   "metadata": {
    "slideshow": {
     "slide_type": "fragment"
    },
    "tags": []
   },
   "outputs": [
    {
     "data": {
      "text/markdown": [
       "<style>\n",
       "#hunger {\n",
       "    opacity: 0.075;\n",
       "    font-size: 0.075rem;\n",
       "}\n",
       "</style>\n",
       "\n",
       "<span id=\"hunger\">cookies!</span>\n",
       "\n",
       "    cookies =IntSlider(3)"
      ],
      "text/plain": [
       "<IPython.core.display.Markdown object>"
      ]
     },
     "metadata": {},
     "output_type": "display_data"
    }
   ],
   "source": [
    "<style>\n",
    "#hunger {\n",
    "    opacity: {{cookies.value/40}};\n",
    "    font-size: {{cookies.value/40}}rem;\n",
    "}\n",
    "</style>\n",
    "\n",
    "<span id=\"hunger\">cookies!</span>\n",
    "\n",
    "    cookies =IntSlider(3)"
   ]
  },
  {
   "cell_type": "code",
   "execution_count": 15,
   "id": "80ac0df3-1c97-4bb8-8b83-234b0df81dee",
   "metadata": {
    "slideshow": {
     "slide_type": "fragment"
    },
    "tags": []
   },
   "outputs": [
    {
     "data": {
      "application/vnd.jupyter.widget-view+json": {
       "model_id": "9009a786be424c7fa8db293a0ae74b07",
       "version_major": 2,
       "version_minor": 0
      },
      "text/plain": [
       "HTML(value='<p>if i eat 3 then i consume 150 calories.</p>\\n<pre><code>shell.displays_manager.template_cls = p…"
      ]
     },
     "metadata": {},
     "output_type": "display_data"
    }
   ],
   "source": [
    "if i eat {{cookies.value}} then i consume {{cookies.value*50}} calories.\n",
    "\n",
    "    shell.displays_manager.template_cls = pidgy.weave.IPyWidgetsHtml"
   ]
  },
  {
   "cell_type": "code",
   "execution_count": 16,
   "id": "7a3cbce0-a663-49a4-96e4-6e8c57045d06",
   "metadata": {
    "slideshow": {
     "slide_type": "fragment"
    },
    "tags": []
   },
   "outputs": [
    {
     "data": {
      "text/html": [
       "<p>if i eat 3 then i consume 150 calories.</p>\n",
       "<pre><code>shell.displays_manager.template_cls = pidgy.weave.IPythonHtml</code></pre>\n"
      ],
      "text/plain": [
       "<IPython.core.display.HTML object>"
      ]
     },
     "metadata": {},
     "output_type": "display_data"
    }
   ],
   "source": [
    "if i eat {{cookies.value}} then i consume {{cookies.value*50}} calories.\n",
    "\n",
    "    shell.displays_manager.template_cls = pidgy.weave.IPythonHtml"
   ]
  },
  {
   "cell_type": "code",
   "execution_count": 17,
   "id": "9b802e69-6e69-4036-b536-cb790629e9ab",
   "metadata": {
    "slideshow": {
     "slide_type": "fragment"
    },
    "tags": []
   },
   "outputs": [
    {
     "data": {
      "text/markdown": [
       "if i eat 3 then i consume 150 calories.\n",
       "\n",
       "    shell.displays_manager.template_cls = pidgy.weave.IPythonMarkdown"
      ],
      "text/plain": [
       "<IPython.core.display.Markdown object>"
      ]
     },
     "metadata": {},
     "output_type": "display_data"
    }
   ],
   "source": [
    "if i eat {{cookies.value}} then i consume {{cookies.value*50}} calories.\n",
    "\n",
    "    shell.displays_manager.template_cls = pidgy.weave.IPythonMarkdown"
   ]
  },
  {
   "cell_type": "code",
   "execution_count": 18,
   "id": "8eaec19d-58d6-470c-8b1e-8e92d4aa58c3",
   "metadata": {
    "slideshow": {
     "slide_type": "fragment"
    },
    "tags": []
   },
   "outputs": [
    {
     "data": {
      "application/vnd.jupyter.widget-view+json": {
       "model_id": "f01d832846d44809874fb62b3ccec5a8",
       "version_major": 2,
       "version_minor": 0
      },
      "text/plain": [
       "IntSlider(value=3)"
      ]
     },
     "metadata": {},
     "output_type": "display_data"
    },
    {
     "data": {
      "text/markdown": [
       "    display(cookies)"
      ],
      "text/plain": [
       "<IPython.core.display.Markdown object>"
      ]
     },
     "metadata": {},
     "output_type": "display_data"
    }
   ],
   "source": [
    "    display(cookies)"
   ]
  },
  {
   "cell_type": "markdown",
   "id": "8acd605a-1b90-4104-a338-0b74938b07eb",
   "metadata": {},
   "source": [
    "    import pandas"
   ]
  },
  {
   "cell_type": "markdown",
   "id": "722b0c5e-6790-453f-9082-eb5d6617f938",
   "metadata": {},
   "source": [
    "    g = df = pandas.read_json(\"https://api.github.com/users/afshin/gists\")"
   ]
  },
  {
   "cell_type": "markdown",
   "id": "fce9f726-a0fa-483f-a3b5-8f87d6dbbf2e",
   "metadata": {},
   "source": [
    "    shell.displays_manager.template_cls = pidgy.weave.IPyWidgetsHtml\n",
    "{{g.T}}"
   ]
  },
  {
   "cell_type": "markdown",
   "id": "6acbfe33-c55b-4c03-bb10-ac424a2556b7",
   "metadata": {},
   "source": [
    "    shell.displays_manager.template_cls = pidgy.weave.IPythonHtml\n",
    "{{g.T}}"
   ]
  },
  {
   "cell_type": "markdown",
   "id": "ebdd50a9-14be-40fd-9e94-05a1ea41877d",
   "metadata": {},
   "source": [
    "    shell.displays_manager.template_cls = pidgy.weave.IPythonMarkdown\n",
    "{{g.T}}"
   ]
  },
  {
   "cell_type": "markdown",
   "id": "27ad3a47-1ea2-477e-902b-fadd8d0fab64",
   "metadata": {},
   "source": [
    "    g = df.iloc[:5, :5]"
   ]
  },
  {
   "cell_type": "code",
   "execution_count": null,
   "id": "d94b1b84-79e2-4c1d-b43e-ae9ff49922f2",
   "metadata": {},
   "outputs": [],
   "source": []
  }
 ],
 "metadata": {
  "kernelspec": {
   "display_name": "pidgy [conda env:root] *",
   "language": "markdown",
   "name": "conda-root-pidgy"
  },
  "language_info": {
   "codemirror_mode": {
    "name": "ipython",
    "version": 3
   },
   "file_extension": ".py",
   "mimetype": "text/x-python",
   "name": "python",
   "nbconvert_exporter": "python",
   "pygments_lexer": "ipython3",
   "version": "3.9.10"
  }
 },
 "nbformat": 4,
 "nbformat_minor": 5
}
