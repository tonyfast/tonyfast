{
 "cells": [
  {
   "cell_type": "markdown",
   "id": "2b33d255-1d7c-4e2d-a616-ae5280a7ade5",
   "metadata": {
    "slideshow": {
     "slide_type": "slide"
    },
    "tags": []
   },
   "source": [
    "# when markdown and python collide\n",
    "\n",
    "![](https://pbs.twimg.com/media/FfmxiqjacAAXETj?format=jpg&name=large)\n",
    "\n",
    "notebooks commonly communicate with two languages: markdown & python.\n",
    "the separation between markdown & python is strict and does not leave space for them to interact."
   ]
  },
  {
   "cell_type": "code",
   "execution_count": 1,
   "id": "9072b6e4-f397-4da4-83cf-42041a67d142",
   "metadata": {
    "jupyter": {
     "source_hidden": true
    },
    "slideshow": {
     "slide_type": "skip"
    },
    "tags": []
   },
   "outputs": [],
   "source": [
    "    \n",
    "    from IPython import get_ipython\n",
    "    shell = get_ipython()\n",
    "    if shell:\n",
    "        %reload_ext pidgy\n",
    "    import pidgy, pathlib\n",
    "\n",
    "    shell.displays_manager.template_cls = pidgy.weave.IPythonHtml"
   ]
  },
  {
   "cell_type": "code",
   "execution_count": 2,
   "id": "2f92bc4d-7f9f-4519-846e-5fd2e0a0586f",
   "metadata": {
    "jupyter": {
     "source_hidden": true
    },
    "slideshow": {
     "slide_type": "skip"
    }
   },
   "outputs": [
    {
     "data": {
      "text/html": [
       "<style>\n",
       "img {\n",
       "    height: 500px !important;\n",
       "}\n",
       ".jupyter-wrapper .jp-Cell-inputWrapper {\n",
       "    display: none;\n",
       "}\n",
       "</style>\n",
       "<script src=\"https://cdn.jsdelivr.net/npm/mermaid/dist/mermaid.min.js\"></script>\n",
       "<script>mermaid.initialize({startOnLoad:true, \".mermaid\"});</script>"
      ],
      "text/plain": [
       "<IPython.core.display.HTML object>"
      ]
     },
     "metadata": {},
     "output_type": "display_data"
    }
   ],
   "source": [
    "<style>\n",
    "img {\n",
    "    height: 500px !important;\n",
    "}\n",
    ".jupyter-wrapper .jp-Cell-inputWrapper {\n",
    "    display: none;\n",
    "}\n",
    "</style>\n",
    "<script src=\"https://cdn.jsdelivr.net/npm/mermaid/dist/mermaid.min.js\"></script>\n",
    "<script>mermaid.initialize({startOnLoad:true, \".mermaid\"});</script>"
   ]
  },
  {
   "cell_type": "code",
   "execution_count": 21,
   "id": "ead4fd73-9921-47ca-b219-83f6e5ca89bb",
   "metadata": {
    "slideshow": {
     "slide_type": "subslide"
    },
    "tags": []
   },
   "outputs": [
    {
     "data": {
      "text/html": [
       "<h2>literate computing with literary machines using literate programming and computational literacy</h2>\n",
       "<p>annette vee</p>\n",
       "<p><a href=\"#\">cp4e</a></p>\n",
       "<ul>\n",
       "<li>literate computing - Fernando Perez</li>\n",
       "<li>literary machines - Ted Nelson</li>\n",
       "<li>literate programming -  Donald Knuth\n",
       "mermaid chart of tangle weave</li>\n",
       "</ul>\n",
       "<p><img src=\"https://pbs.twimg.com/media/FfmxiqjaEAAekZn?format=jpg&amp;name=large\" alt=\"\" /></p>\n",
       "< />\n"
      ],
      "text/plain": [
       "<IPython.core.display.HTML object>"
      ]
     },
     "metadata": {},
     "output_type": "display_data"
    }
   ],
   "source": [
    "## literate computing with literary machines using literate programming and computational literacy\n",
    "\n",
    "annette vee\n",
    "\n",
    "[cp4e]\n",
    "\n",
    "* literate computing - Fernando Perez\n",
    "* literary machines - Ted Nelson\n",
    "* literate programming -  Donald Knuth\n",
    "mermaid chart of tangle weave\n",
    "\n",
    "\n",
    "[cp4e]: #"
   ]
  },
  {
   "cell_type": "code",
   "execution_count": 33,
   "id": "bc1a6f74-f968-4aea-a3fc-545e2c58670d",
   "metadata": {
    "jupyter": {
     "source_hidden": true
    },
    "slideshow": {
     "slide_type": "slide"
    },
    "tags": []
   },
   "outputs": [
    {
     "data": {
      "text/html": [
       "<h2>alternative input kernels in <code>IPython</code></h2>\n",
       "<p>literate inputs with markdown and python as the document and programming languages</p>\n",
       "<div style=\"font-size: 2rem;\">\n",
       "<pre><code>import midgy as tangle, pidgy as weave\n",
       "</code></pre>\n",
       "</div>"
      ],
      "text/plain": [
       "<IPython.core.display.HTML object>"
      ]
     },
     "metadata": {},
     "output_type": "display_data"
    }
   ],
   "source": [
    "## alternative input kernels in `IPython`\n",
    "\n",
    "literate inputs with markdown and python as the document and programming languages\n",
    "\n",
    "<div style=\"font-size: 2rem;\">\n",
    "    \n",
    "    import midgy as tangle, pidgy as weave\n",
    "    \n",
    "</div>"
   ]
  },
  {
   "cell_type": "code",
   "execution_count": 34,
   "id": "221c065a-2c69-43ce-944f-a8443960d06c",
   "metadata": {
    "jupyter": {
     "source_hidden": true
    },
    "slideshow": {
     "slide_type": "skip"
    },
    "tags": []
   },
   "outputs": [
    {
     "name": "stdout",
     "output_type": "stream",
     "text": [
      "Overwriting a-little-markdown-program.md\n"
     ]
    }
   ],
   "source": [
    "    %%file a-little-markdown-program.md\n",
    "            δϵατκ=\\\n",
    "    death to pseudo code, long live pseudo code\n",
    "\n",
    "            if __name__ == \"__main_\":\n",
    "                print(δϵατκ)"
   ]
  },
  {
   "cell_type": "code",
   "execution_count": 24,
   "id": "6ca3d331-5cc8-485a-b997-ef83845eb66f",
   "metadata": {
    "jupyter": {
     "source_hidden": true
    },
    "slideshow": {
     "slide_type": "fragment"
    },
    "tags": []
   },
   "outputs": [
    {
     "data": {
      "text/plain": [
       "(<module 'a-little-markdown-program' from '/home/tbone/Documents/tonyfast/tonyfast/xxii/oct/a-little-markdown-program.md'>,\n",
       " 'death to pseudo code, long live pseudo code')"
      ]
     },
     "execution_count": 24,
     "metadata": {},
     "output_type": "execute_result"
    },
    {
     "data": {
      "text/html": [
       "<pre><code>import midgy.run\n",
       "with midgy.run.Markdown() as loader:\n",
       "    import a_little_markdown_program\n",
       "a_little_markdown_program, a_little_markdown_program.δϵατκ</code></pre>\n"
      ],
      "text/plain": [
       "<IPython.core.display.HTML object>"
      ]
     },
     "metadata": {},
     "output_type": "display_data"
    }
   ],
   "source": [
    "    import midgy.run\n",
    "    with midgy.run.Markdown() as loader:\n",
    "        import a_little_markdown_program\n",
    "    a_little_markdown_program, a_little_markdown_program.δϵατκ"
   ]
  },
  {
   "cell_type": "code",
   "execution_count": 25,
   "id": "471461a6-397a-492f-8787-021fb0d987d0",
   "metadata": {
    "slideshow": {
     "slide_type": "fragment"
    },
    "tags": []
   },
   "outputs": [
    {
     "data": {
      "text/html": [
       "<p><code>a_little_markdown_program</code> is a module like any other</p>\n",
       "<p><code>&lt;module 'a-little-markdown-program' from '/home/tbone/Documents/tonyfast/tonyfast/xxii/oct/a-little-markdown-program.md'&gt;</code></p>\n",
       "<p>🐇and we even generated a compiled version of the markdown source🎩</p>\n",
       "<pre><code>assert next((pathlib.Path(a_little_markdown_program.__file__).parent / &quot;__pycache__&quot;).glob(&quot;a-little-markdown-program.*.pyc&quot;)),\\\n",
       "</code></pre>\n",
       "<p>verifies there is a compiled file.</p>\n"
      ],
      "text/plain": [
       "<IPython.core.display.HTML object>"
      ]
     },
     "metadata": {},
     "output_type": "display_data"
    }
   ],
   "source": [
    "`a_little_markdown_program` is a module like any other\n",
    "\n",
    "`{{a_little_markdown_program}}`\n",
    "\n",
    "🐇and we even generated a compiled version of the markdown source🎩\n",
    "\n",
    "    assert next((pathlib.Path(a_little_markdown_program.__file__).parent / \"__pycache__\").glob(\"a-little-markdown-program.*.pyc\")),\\\n",
    "verifies there is a compiled file."
   ]
  },
  {
   "cell_type": "markdown",
   "id": "d6b5c6ad-20fe-4f34-8d38-42acf4b5ea01",
   "metadata": {},
   "source": [
    "![](https://pbs.twimg.com/media/FfmxiqjaEAAekZn?format=jpg&name=large)\n"
   ]
  },
  {
   "cell_type": "code",
   "execution_count": 36,
   "id": "954d51d2-6ee0-4a0e-905e-344221e4bd0e",
   "metadata": {
    "slideshow": {
     "slide_type": "slide"
    },
    "tags": []
   },
   "outputs": [
    {
     "data": {
      "text/html": [
       "<h2><a href=\"2022-10-21-pidgy-displays.ipynb\">widgets</a></h2>\n"
      ],
      "text/plain": [
       "<IPython.core.display.HTML object>"
      ]
     },
     "metadata": {},
     "output_type": "display_data"
    }
   ],
   "source": [
    "## [widgets](2022-10-21-pidgy-displays.ipynb)\n",
    "\n"
   ]
  },
  {
   "cell_type": "code",
   "execution_count": 27,
   "id": "744fdbf0-7bd3-468d-be2b-53d8398a7024",
   "metadata": {
    "jupyter": {
     "source_hidden": true
    },
    "slideshow": {
     "slide_type": "slide"
    },
    "tags": []
   },
   "outputs": [
    {
     "data": {
      "text/plain": [
       "<module '2022-10-21-rename-markdown-future' from '/home/tbone/Documents/tonyfast/tonyfast/xxii/oct/2022-10-21-rename-markdown-future.ipynb'>"
      ]
     },
     "metadata": {},
     "output_type": "display_data"
    },
    {
     "data": {
      "text/plain": [
       "<module 'a-little-markdown-program' from '/home/tbone/Documents/tonyfast/tonyfast/xxii/oct/a-little-markdown-program.md'>"
      ]
     },
     "metadata": {},
     "output_type": "display_data"
    },
    {
     "data": {
      "text/plain": [
       "'death to pseudo code, long live pseudo code'"
      ]
     },
     "metadata": {},
     "output_type": "display_data"
    },
    {
     "data": {
      "text/html": [
       "<h2>import notebooks</h2>\n",
       "<p>we can import this presentation.</p>\n",
       "<pre><code>    with midgy.run.Markdown(extensions=[&quot;.ipynb&quot;, &quot;.md&quot;]):\n",
       "        import _022_10_21_rename_markdown_future\n",
       "    &quot;__file__&quot; not in locals() and display(\n",
       "        _022_10_21_rename_markdown_future,\n",
       "        _022_10_21_rename_markdown_future.a_little_markdown_program,\n",
       "        _022_10_21_rename_markdown_future.a_little_markdown_program.δϵατκ\n",
       "    )</code></pre>\n"
      ],
      "text/plain": [
       "<IPython.core.display.HTML object>"
      ]
     },
     "metadata": {},
     "output_type": "display_data"
    }
   ],
   "source": [
    "## import notebooks\n",
    "\n",
    "we can import this presentation.\n",
    "\n",
    "        with midgy.run.Markdown(extensions=[\".ipynb\", \".md\"]):\n",
    "            import _022_10_21_rename_markdown_future\n",
    "        \"__file__\" not in locals() and display(\n",
    "            _022_10_21_rename_markdown_future,\n",
    "            _022_10_21_rename_markdown_future.a_little_markdown_program,\n",
    "            _022_10_21_rename_markdown_future.a_little_markdown_program.δϵατκ\n",
    "        )"
   ]
  },
  {
   "cell_type": "code",
   "execution_count": 28,
   "id": "09d69ef6-94f3-4487-9efb-bfa09892d6c7",
   "metadata": {
    "jupyter": {
     "source_hidden": true
    },
    "slideshow": {
     "slide_type": "fragment"
    },
    "tags": []
   },
   "outputs": [
    {
     "data": {
      "text/html": [
       "<p>i'm not saying importing notebooks is a good idea.\n",
       "it can be done and some folks might thrive working that way.</p>\n"
      ],
      "text/plain": [
       "<IPython.core.display.HTML object>"
      ]
     },
     "metadata": {},
     "output_type": "display_data"
    }
   ],
   "source": [
    "i'm not saying importing notebooks is a good idea.\n",
    "it can be done and some folks might thrive working that way."
   ]
  },
  {
   "cell_type": "code",
   "execution_count": 29,
   "id": "1c1ec880-d97b-4dfe-893e-b5d0e6085f79",
   "metadata": {
    "jupyter": {
     "source_hidden": true
    },
    "slideshow": {
     "slide_type": "slide"
    },
    "tags": []
   },
   "outputs": [
    {
     "data": {
      "text/html": [
       "<p><img src=\"https://pbs.twimg.com/media/FfmxiqlaAAIzTvT?format=jpg&amp;name=large\" alt=\"\" /></p>\n"
      ],
      "text/plain": [
       "<IPython.core.display.HTML object>"
      ]
     },
     "metadata": {},
     "output_type": "display_data"
    }
   ],
   "source": [
    "![](https://pbs.twimg.com/media/FfmxiqlaAAIzTvT?format=jpg&name=large)"
   ]
  },
  {
   "cell_type": "code",
   "execution_count": 30,
   "id": "14cc806c-e5c9-4eef-806e-a74509c5d0d7",
   "metadata": {
    "jupyter": {
     "source_hidden": true
    },
    "slideshow": {
     "slide_type": "slide"
    },
    "tags": []
   },
   "outputs": [
    {
     "data": {
      "text/html": [
       "<h3>an inclusive future for code</h3>\n",
       "<p>in this demo, we used markdown and notebooks for source.</p>\n",
       "<p>literate programs explicitly define a document and program language.\n",
       "notebooks are literate programs.\n",
       "there are times when when code and narrative are inseparable.</p>\n",
       "<pre><code class=\"future\">docker up my-paper.pdf # can a paper contain containers?\n",
       "importpdf my-paper --input-file my-data.csv # could you run a pdf with your data?\n",
       "\n",
       "with importdocx():\n",
       "    import my_word_document\n",
       "</code></pre>\n"
      ],
      "text/plain": [
       "<IPython.core.display.HTML object>"
      ]
     },
     "metadata": {},
     "output_type": "display_data"
    }
   ],
   "source": [
    "### an inclusive future for code\n",
    "\n",
    "in this demo, we used markdown and notebooks for source.\n",
    "\n",
    "literate programs explicitly define a document and program language.\n",
    "notebooks are literate programs.\n",
    "there are times when when code and narrative are inseparable.\n",
    "\n",
    "```future\n",
    "docker up my-paper.pdf # can a paper contain containers?\n",
    "importpdf my-paper --input-file my-data.csv # could you run a pdf with your data?\n",
    "\n",
    "with importdocx():\n",
    "    import my_word_document\n",
    "```"
   ]
  },
  {
   "cell_type": "code",
   "execution_count": 35,
   "id": "c44bd11d-ca89-47c8-a3cd-3f237ac4fef5",
   "metadata": {
    "jupyter": {
     "source_hidden": true
    },
    "slideshow": {
     "slide_type": "fragment"
    },
    "tags": []
   },
   "outputs": [
    {
     "data": {
      "text/html": [
       "<h2>the power of markdown</h2>\n",
       "<p>often notebooks or markdown are means not an ends.</p>\n",
       "<ul>\n",
       "<li>how many agendas have we made in <code>hackmd</code>?</li>\n",
       "<li>how many <code>README</code>s guided our way?</li>\n",
       "<li>how much good code is lost in notebooks?</li>\n",
       "</ul>\n"
      ],
      "text/plain": [
       "<IPython.core.display.HTML object>"
      ]
     },
     "metadata": {},
     "output_type": "display_data"
    }
   ],
   "source": [
    "## the power of markdown\n",
    "\n",
    "often notebooks or markdown are means not an ends.\n",
    "\n",
    "* how many agendas have we made in `hackmd`?\n",
    "* how many `README`s guided our way?\n",
    "* how much good code is lost in notebooks?"
   ]
  },
  {
   "cell_type": "code",
   "execution_count": 32,
   "id": "3ac4a370-def0-4aed-b24e-7e2d444c9a91",
   "metadata": {
    "jupyter": {
     "source_hidden": true
    },
    "slideshow": {
     "slide_type": "fragment"
    },
    "tags": []
   },
   "outputs": [
    {
     "data": {
      "text/html": [
       "<h2>T.S. Eliot excerpt from “The Rock”</h2>\n",
       "<blockquote>\n",
       "<p>Where is the Life we have lost in living?</p>\n",
       "</blockquote>\n",
       "<blockquote>\n",
       "<p>Where is the wisdom we have lost in knowledge?</p>\n",
       "</blockquote>\n",
       "<blockquote>\n",
       "<p>Where is the knowledge we have lost in information?</p>\n",
       "</blockquote>\n"
      ],
      "text/plain": [
       "<IPython.core.display.HTML object>"
      ]
     },
     "metadata": {},
     "output_type": "display_data"
    }
   ],
   "source": [
    "## T.S. Eliot excerpt from “The Rock”\n",
    "> Where is the Life we have lost in living?\n",
    "\n",
    "> Where is the wisdom we have lost in knowledge?\n",
    "\n",
    "> Where is the knowledge we have lost in information?\n"
   ]
  }
 ],
 "metadata": {
  "kernelspec": {
   "display_name": "Python [conda env:root] *",
   "language": "python",
   "name": "conda-root-py"
  },
  "language_info": {
   "codemirror_mode": {
    "name": "ipython",
    "version": 3
   },
   "file_extension": ".py",
   "mimetype": "text/x-python",
   "name": "python",
   "nbconvert_exporter": "python",
   "pygments_lexer": "ipython3",
   "version": "3.9.10"
  }
 },
 "nbformat": 4,
 "nbformat_minor": 5
}
