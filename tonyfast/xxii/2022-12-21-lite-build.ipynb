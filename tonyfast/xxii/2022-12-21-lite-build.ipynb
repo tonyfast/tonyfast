{
 "cells": [
  {
   "cell_type": "markdown",
   "id": "79efbbfc-05d0-4731-a2c5-c83e53b54e06",
   "metadata": {},
   "source": [
    "# `jupyterlite` blog integration\n",
    "\n",
    "    hatch run lite:build\n",
    "    "
   ]
  },
  {
   "cell_type": "markdown",
   "id": "e4a0c68e-a762-4f92-9191-bfc18db86507",
   "metadata": {},
   "source": [
    "i typically write content in my local environments.  there is a different style required to make the same documents reusable in `jupyterlite`. \n",
    "\n",
    "this document is a doit task that builds a lot site and ammends content for lite."
   ]
  },
  {
   "cell_type": "code",
   "execution_count": 9,
   "id": "0992e934-a0b1-465f-9b11-0f0343457611",
   "metadata": {},
   "outputs": [],
   "source": [
    "    def task_lite():\n",
    "        \"\"\"build the jupyter lite site\"\"\"\n",
    "        return dict(\n",
    "            actions=[\"jupyter lite build --contents tonyfast --output-dir site/run\"],\n",
    "            clean=[\"rm -rf site/run\"]\n",
    "        )"
   ]
  },
  {
   "cell_type": "code",
   "execution_count": 10,
   "id": "7be55638-276a-4a57-b98e-ded5307ec1cf",
   "metadata": {},
   "outputs": [
    {
     "name": "stdout",
     "output_type": "stream",
     "text": [
      "lite   build the jupyter lite site\n"
     ]
    }
   ],
   "source": [
    "    if \"__file__\" not in locals():\n",
    "        !importnb -t 2022-12-21-lite-build.ipynb list"
   ]
  }
 ],
 "metadata": {
  "kernelspec": {
   "display_name": "Python [conda env:root] *",
   "language": "python",
   "name": "conda-root-py"
  },
  "language_info": {
   "codemirror_mode": {
    "name": "ipython",
    "version": 3
   },
   "file_extension": ".py",
   "mimetype": "text/x-python",
   "name": "python",
   "nbconvert_exporter": "python",
   "pygments_lexer": "ipython3",
   "version": "3.9.13"
  }
 },
 "nbformat": 4,
 "nbformat_minor": 5
}
