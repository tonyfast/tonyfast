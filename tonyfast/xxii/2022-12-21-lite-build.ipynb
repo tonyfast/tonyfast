{
 "cells": [
  {
   "cell_type": "markdown",
   "id": "79efbbfc-05d0-4731-a2c5-c83e53b54e06",
   "metadata": {},
   "source": [
    "# `jupyterlite` blog integration\n",
    "\n",
    "the primary goal of this document is define a `doit` task that:\n",
    "1. build a `jupyterlite` site\n",
    "2. make the dependencies compatible with `jupyterlite`"
   ]
  },
  {
   "cell_type": "code",
   "execution_count": 1,
   "id": "035819f1-da11-42dd-9394-8ae9defb2f37",
   "metadata": {},
   "outputs": [],
   "source": [
    "    def task_lite():\n",
    "        \"\"\"build the jupyter lite site and append requirements\"\"\"\n",
    "        return dict(\n",
    "            actions=[\n",
    "                \"jupyter lite build --contents tonyfast --output-dir site/run\",\n",
    "                (set_files_imports, (pathlib.Path(\"site/run/files\"),))\n",
    "            ],\n",
    "            clean=[\"rm -rf site/run\"]\n",
    "        )\n",
    "\n",
    "    import typing, tonyfast, pathlib, textwrap, re, json"
   ]
  },
  {
   "cell_type": "markdown",
   "id": "2d31745b-144e-45c1-9aef-09f6d0d554cf",
   "metadata": {},
   "source": [
    "`set_files_imports` iterates through a directory and amends notebooks to work in `jupyterlite`"
   ]
  },
  {
   "cell_type": "code",
   "execution_count": 2,
   "id": "767ee9d0-1009-457d-b3a8-ba1b4a079bbc",
   "metadata": {},
   "outputs": [],
   "source": [
    "    def set_files_imports(FILES: typing.Iterable[pathlib.Path]=(\n",
    "        FILES := (WHERE := pathlib.Path(tonyfast.__file__).parent.parent) / \"site/run/files\"\n",
    "    )) -> None:\n",
    "        for file in FILES.rglob(\"*.ipynb\"):  set_file_imports(file)"
   ]
  },
  {
   "cell_type": "markdown",
   "id": "203e8cb1-798a-4b03-b8eb-cdd79653628c",
   "metadata": {},
   "source": [
    "## building `tonyfast` as `jupyterlite`"
   ]
  },
  {
   "cell_type": "markdown",
   "id": "5945ce2e-d81a-432d-a561-4e93a5bedf65",
   "metadata": {},
   "source": [
    "some documents might use [pidgy] syntax that need to be dealt with."
   ]
  },
  {
   "cell_type": "markdown",
   "id": "52cf3001-b6ac-4ba6-876d-7c47419dec87",
   "metadata": {},
   "source": [
    "`get_imports` finds the imports in each cell"
   ]
  },
  {
   "cell_type": "code",
   "execution_count": 3,
   "id": "e882c5ea-d3b5-45b2-8476-e47eb4f2e03a",
   "metadata": {},
   "outputs": [],
   "source": [
    "    def get_imports(cell: dict, pidgy=False) -> set:\n",
    "        import depfinder\n",
    "        __import__(\"requests_cache\").install_cache()\n",
    "        source = \"\".join(cell[\"source\"])\n",
    "        if pidgy:\n",
    "            source = tangle.render(source)\n",
    "        source = textwrap.dedent(source)\n",
    "        try:\n",
    "            found = depfinder.inspection.get_imported_libs(source)\n",
    "            return found.required_modules.union(found.sketchy_modules)\n",
    "        except BaseException as e:\n",
    "            return"
   ]
  },
  {
   "cell_type": "markdown",
   "id": "5c0f0fb4-43c6-463f-a97e-77272003659d",
   "metadata": {},
   "source": [
    "`get_deps` transforms inputs to dependencies"
   ]
  },
  {
   "cell_type": "code",
   "execution_count": 4,
   "id": "14081144-d38f-4430-a4da-b89ffd16f2f9",
   "metadata": {},
   "outputs": [],
   "source": [
    "    def get_deps(deps: set) -> set:\n",
    "        if \"requests\" in deps: deps.add(\"pyodide-http\")\n",
    "        if \"pandas\" in deps: deps.add(\"jinja2\")\n",
    "        return {\n",
    "            x for x in deps \n",
    "            if not x.startswith(\"_\") or x not in {\"tonyfast\"}\n",
    "        }"
   ]
  },
  {
   "cell_type": "code",
   "execution_count": 5,
   "id": "619eb956-9cf0-4d86-9a2c-e21583891417",
   "metadata": {},
   "outputs": [],
   "source": [
    "    PIDGY = re.compile(\"^\\s*%(re)?load_ext\\s*pidgy\")\n",
    "    from midgy import Python; tangle = Python()\n",
    "    def has_pidgy(nb: dict):\n",
    "        yes = False\n",
    "        for _, cell in iter_code_cells(nb):\n",
    "            yes = yes or PIDGY.match(\"\".join(cell[\"source\"])) and True\n",
    "        return yes"
   ]
  },
  {
   "cell_type": "markdown",
   "id": "2841864a-4b81-4f23-b928-d8f8867332a4",
   "metadata": {},
   "source": [
    "`set_file_imports` operates in one file discovers dependencies and writes code back to the source."
   ]
  },
  {
   "cell_type": "code",
   "execution_count": 6,
   "id": "d9b05e94-3a1c-4b40-a40c-25262eef8d08",
   "metadata": {},
   "outputs": [],
   "source": [
    "    def set_file_imports(file: pathlib.Path) -> None:\n",
    "        data = json.loads(file.read_text())\n",
    "        deps, first = set(), None\n",
    "        pidgy = has_pidgy(data)\n",
    "        for no, cell in iter_code_cells(data):\n",
    "            if first is None:\n",
    "                first = no\n",
    "            deps.update(get_imports(cell, pidgy) or [])\n",
    "            \n",
    "        deps = get_deps(deps)\n",
    "        if deps and (first is not None):\n",
    "            cell = data[\"cells\"][first]\n",
    "            was_str = isinstance(cell[\"source\"], str)\n",
    "            if was_str:\n",
    "                cell[\"source\"] = cell[\"source\"].splitlines(1)\n",
    "            \n",
    "            for i, line in enumerate(list(cell[\"source\"])):\n",
    "                if (left := line.lstrip()):\n",
    "                    if left.startswith((\"%pip install\",)):\n",
    "                        break\n",
    "                    indent = len(line) - len(left)                    \n",
    "                    if \"pyodide-http\" in deps:\n",
    "                        data[\"cells\"][first][\"source\"].insert(i, \" \"*indent + \"__import__('pyodide_http').patch_all()\\n\")\n",
    "                    data[\"cells\"][first][\"source\"].insert(i, \" \"*indent + \"%pip install \" + \" \".join(deps) +\"\\n\")\n",
    "                    print(F\"writing {len(set(deps))} pip requirements to {file}\")\n",
    "                    file.write_text(json.dumps(data, indent=2))\n",
    "                    break\n",
    "        else:\n",
    "            print(F'no deps for {file}')"
   ]
  },
  {
   "cell_type": "markdown",
   "id": "0323dfc5-368e-4fa6-b33f-8082fe77567b",
   "metadata": {},
   "source": [
    "`set_files_imports` sets the dependencies for a lot of files."
   ]
  },
  {
   "cell_type": "code",
   "execution_count": 7,
   "id": "319920b1-1aa6-434c-af83-9e291ff3f95a",
   "metadata": {},
   "outputs": [],
   "source": [
    "    def set_files_imports(FILES: typing.Iterable[pathlib.Path]=FILES):\n",
    "        for file in FILES.rglob(\"*.ipynb\"):\n",
    "            set_file_imports(file)\n",
    "            "
   ]
  },
  {
   "cell_type": "markdown",
   "id": "f3347e68-ab74-441a-980c-a689c21adb7e",
   "metadata": {},
   "source": [
    "`iter_code_cells` iterates through just the code cells."
   ]
  },
  {
   "cell_type": "code",
   "execution_count": 8,
   "id": "e9447a07-d253-4a99-93a0-b02d12c9c5f9",
   "metadata": {},
   "outputs": [],
   "source": [
    "    def iter_code_cells(nb: dict) -> typing.Iterator[tuple[int, dict]]:\n",
    "        for i, cell in enumerate(nb[\"cells\"]):\n",
    "            if cell[\"cell_type\"] == \"code\":\n",
    "                yield i, cell"
   ]
  },
  {
   "cell_type": "markdown",
   "id": "82a9b73e-4120-4e75-a8ad-3aecffae45b3",
   "metadata": {},
   "source": [
    "## usage\n",
    "\n",
    "* from the `tonyfast` module, requires deps\n",
    "* from `hatch` contains deps\n",
    "* from post with `importnb`"
   ]
  },
  {
   "cell_type": "code",
   "execution_count": 9,
   "id": "4d8cdaf7-1590-464c-8331-846c4358b68d",
   "metadata": {},
   "outputs": [
    {
     "name": "stdout",
     "output_type": "stream",
     "text": [
      "lite   build the jupyter lite site and append requirements\n"
     ]
    }
   ],
   "source": [
    "    if '__file__' not in locals():\n",
    "        !importnb -t 2022-12-21-lite-build.ipynb list"
   ]
  }
 ],
 "metadata": {
  "kernelspec": {
   "display_name": "Python [conda env:root] *",
   "language": "python",
   "name": "conda-root-py"
  },
  "language_info": {
   "codemirror_mode": {
    "name": "ipython",
    "version": 3
   },
   "file_extension": ".py",
   "mimetype": "text/x-python",
   "name": "python",
   "nbconvert_exporter": "python",
   "pygments_lexer": "ipython3",
   "version": "3.9.13"
  }
 },
 "nbformat": 4,
 "nbformat_minor": 5
}
