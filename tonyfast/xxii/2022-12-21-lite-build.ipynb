{
 "cells": [
  {
   "cell_type": "markdown",
   "id": "79efbbfc-05d0-4731-a2c5-c83e53b54e06",
   "metadata": {},
   "source": [
    "# `jupyterlite` blog integration\n",
    "\n",
    "    hatch run lite:build\n",
    "    "
   ]
  },
  {
   "cell_type": "markdown",
   "id": "e4a0c68e-a762-4f92-9191-bfc18db86507",
   "metadata": {},
   "source": [
    "i typically write content in my local environments.  there is a different style required to make the same documents reusable in `jupyterlite`. \n",
    "\n",
    "this document is a doit task that builds a lot site and ammends content for lite."
   ]
  },
  {
   "cell_type": "code",
   "execution_count": 27,
   "id": "955f34c9-651f-471f-8f70-5101b08d8e93",
   "metadata": {},
   "outputs": [],
   "source": [
    "    import tonyfast, pathlib, textwrap, re, json\n",
    "    __import__(\"requests_cache\").install_cache()\n",
    "    WHERE = pathlib.Path(tonyfast.__file__).parent.parent\n",
    "    LITE = WHERE / \"site/run\"\n",
    "    FILES = LITE / \"files\""
   ]
  },
  {
   "cell_type": "code",
   "execution_count": 28,
   "id": "f5496101-2174-4e8e-8c83-8e6c1ffb10c9",
   "metadata": {},
   "outputs": [],
   "source": [
    "    PIDGY = re.compile(\"^\\s*%(re)?load_ext\\s*pidgy\")\n",
    "    from midgy import Python\n",
    "    tangle = Python()"
   ]
  },
  {
   "cell_type": "code",
   "execution_count": 30,
   "id": "e9447a07-d253-4a99-93a0-b02d12c9c5f9",
   "metadata": {},
   "outputs": [],
   "source": [
    "    def iter_code_cells(nb):\n",
    "        for i, cell in enumerate(nb[\"cells\"]):\n",
    "            if cell[\"cell_type\"] == \"code\":\n",
    "                yield i, cell"
   ]
  },
  {
   "cell_type": "code",
   "execution_count": 31,
   "id": "fd167a66-7337-43ba-9b3a-f76b0d2d64f3",
   "metadata": {},
   "outputs": [],
   "source": [
    "    def has_pidgy(nb):\n",
    "        yes = False\n",
    "        for _, cell in iter_code_cells(nb):\n",
    "            yes = yes or PIDGY.match(\"\".join(cell[\"source\"])) and True\n",
    "        return yes"
   ]
  },
  {
   "cell_type": "code",
   "execution_count": 38,
   "id": "e882c5ea-d3b5-45b2-8476-e47eb4f2e03a",
   "metadata": {},
   "outputs": [],
   "source": [
    "    def get_imports(cell, pidgy=False):\n",
    "        import depfinder\n",
    "        source = \"\".join(cell[\"source\"])\n",
    "        if pidgy:\n",
    "            source = tangle.render(source)\n",
    "        source = textwrap.dedent(source)\n",
    "        try:\n",
    "            found = depfinder.inspection.get_imported_libs(source)\n",
    "            return found.required_modules.union(found.sketchy_modules)\n",
    "        except BaseException as e:\n",
    "            return"
   ]
  },
  {
   "cell_type": "code",
   "execution_count": 86,
   "id": "14081144-d38f-4430-a4da-b89ffd16f2f9",
   "metadata": {},
   "outputs": [],
   "source": [
    "    def get_deps(deps):\n",
    "        if \"requests\" in deps:\n",
    "            deps.add(\"pyodide-http\")\n",
    "        if \"pandas\" in deps:\n",
    "            deps.add(\"jinja2\")\n",
    "        return {\n",
    "            x for x in deps \n",
    "            if not x.startswith(\"_\") or x not in {\"tonyfast\"}\n",
    "        }"
   ]
  },
  {
   "cell_type": "code",
   "execution_count": 79,
   "id": "d9b05e94-3a1c-4b40-a40c-25262eef8d08",
   "metadata": {},
   "outputs": [],
   "source": [
    "    def set_file_imports(file):\n",
    "        data = json.loads(file.read_text())\n",
    "        deps, first = set(), None\n",
    "        pidgy = has_pidgy(data)\n",
    "        for no, cell in iter_code_cells(data):\n",
    "            if first is None:\n",
    "                first = no\n",
    "            deps.update(get_imports(cell, pidgy) or [])\n",
    "            \n",
    "        deps = get_deps(deps)\n",
    "        if deps and (first is not None):\n",
    "            cell = data[\"cells\"][first]\n",
    "            was_str = isinstance(cell[\"source\"], str)\n",
    "            if was_str:\n",
    "                cell[\"source\"] = cell[\"source\"].splitlines(1)\n",
    "            \n",
    "            for i, line in enumerate(list(cell[\"source\"])):\n",
    "                if (left := line.lstrip()):\n",
    "                    if left.startswith((\"%pip install\",)):\n",
    "                        break\n",
    "                    indent = len(line) - len(left)                    \n",
    "                    if \"pyodide-http\" in deps:\n",
    "                        data[\"cells\"][first][\"source\"].insert(i, \" \"*indent + \"__import__('pyodide_http').patch_all()\\n\")\n",
    "                    data[\"cells\"][first][\"source\"].insert(i, \" \"*indent + \"%pip install \" + \" \".join(deps) +\"\\n\")\n",
    "                    print(F\"writing {len(set(deps))} pip requirements to {file}\")\n",
    "                    file.write_text(json.dumps(data, indent=2))\n",
    "                    break\n",
    "        else:\n",
    "            print(F'no deps for {file}')"
   ]
  },
  {
   "cell_type": "code",
   "execution_count": 80,
   "id": "319920b1-1aa6-434c-af83-9e291ff3f95a",
   "metadata": {},
   "outputs": [],
   "source": [
    "    def set_files_imports(FILES=FILES):\n",
    "        for file in FILES.rglob(\"*.ipynb\"):\n",
    "            set_file_imports(file)\n",
    "            "
   ]
  },
  {
   "cell_type": "code",
   "execution_count": 81,
   "id": "0992e934-a0b1-465f-9b11-0f0343457611",
   "metadata": {},
   "outputs": [],
   "source": [
    "    def task_lite():\n",
    "        \"\"\"build the jupyter lite site and append requirements\"\"\"\n",
    "        return dict(\n",
    "            actions=[\n",
    "                \"jupyter lite build --contents tonyfast --output-dir site/run\",\n",
    "                (set_files_imports, (pathlib.Path(\"site/run/files\"),))\n",
    "            ],\n",
    "            clean=[\"rm -rf site/run\"]\n",
    "        )"
   ]
  },
  {
   "cell_type": "code",
   "execution_count": 82,
   "id": "7be55638-276a-4a57-b98e-ded5307ec1cf",
   "metadata": {},
   "outputs": [
    {
     "name": "stdout",
     "output_type": "stream",
     "text": [
      "lite   build the jupyter lite site and append requirements\n"
     ]
    }
   ],
   "source": [
    "    if \"__file__\" not in locals():\n",
    "        !importnb -t 2022-12-21-lite-build.ipynb list"
   ]
  },
  {
   "cell_type": "code",
   "execution_count": null,
   "id": "ca047ab4-c43d-4bd6-b8e3-70ae6ea31635",
   "metadata": {},
   "outputs": [],
   "source": []
  }
 ],
 "metadata": {
  "kernelspec": {
   "display_name": "Python [conda env:root] *",
   "language": "python",
   "name": "conda-root-py"
  },
  "language_info": {
   "codemirror_mode": {
    "name": "ipython",
    "version": 3
   },
   "file_extension": ".py",
   "mimetype": "text/x-python",
   "name": "python",
   "nbconvert_exporter": "python",
   "pygments_lexer": "ipython3",
   "version": "3.9.13"
  }
 },
 "nbformat": 4,
 "nbformat_minor": 5
}
