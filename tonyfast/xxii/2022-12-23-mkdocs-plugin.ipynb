{
 "cells": [
  {
   "cell_type": "markdown",
   "id": "8209f189-924c-408b-a4f7-5ceb9721f8ca",
   "metadata": {},
   "source": [
    "# `mkdocs` plugin for jupyter notebooks\n",
    "\n",
    "i think i want more control of how `mkdocs` renders notebooks.\n",
    "i've been using [`mkdocs-jupyter`][mkdocs-jupyter] for a while and it is great,\n",
    "but i need more knobs.\n",
    "\n",
    "my particular need is to configure `nbconvert` exporters with more fine grain control than what [`mkdocs-jupyter`][mkdocs-jupyter] offers.\n",
    "the major difference is we are going to target markdown output rather than html.\n",
    "\n",
    "[mkdocs-jupyter]: https://github.com/danielfrg/mkdocs-jupyter\n",
    "[plugin]: https://www.mkdocs.org/dev-guide/plugins/"
   ]
  },
  {
   "cell_type": "markdown",
   "id": "6c2edbce-22fc-4819-845e-4aa40933daed",
   "metadata": {},
   "source": [
    "## checklist for successfully integrating the plugin\n",
    "\n",
    "steps to adding a [`mkdocs` plugin][plugin] to this the `tonyfast` project:\n",
    "\n",
    "- [x] add plugin to `mkdocs.yml`\n",
    "\n",
    "  ```yaml\n",
    "  plugins:\n",
    "      - markdown_notebook\n",
    "  ```\n",
    "  \n",
    "- [x] define plugin entry point for `tonyfast`\n",
    "\n",
    "   ```toml\n",
    "   [project.entry-points.\"mkdocs.plugins\"]\n",
    "   markdown_notebook = \"tonyfast.mkdocs:MarkdownNotebook\"\n",
    "   ```\n",
    "\n",
    "- [x] build the `MarkdownNotebook` plugin \n",
    "- [x] integrate the plugin\n",
    "\n",
    "   ```python\n",
    "   from tonyfast.mkdocs import MarkdownNotebook\n",
    "   ```\n",
    "   \n",
    "- [ ] add and improve the `nbconvert` export display renderers\n",
    "\n",
    "[mkdocs-jupyter]: https://github.com/danielfrg/mkdocs-jupyter\n",
    "[plugin]: https://www.mkdocs.org/dev-guide/plugins/"
   ]
  },
  {
   "cell_type": "markdown",
   "id": "5f82ffe1-1648-4a28-a037-f2321a93da43",
   "metadata": {},
   "source": [
    "## building the [`mkdocs` plugin][plugin]\n",
    "\n",
    "[mkdocs-jupyter]: https://github.com/danielfrg/mkdocs-jupyter\n",
    "[plugin]: https://www.mkdocs.org/dev-guide/plugins/"
   ]
  },
  {
   "cell_type": "code",
   "execution_count": 1,
   "id": "e9608930-7170-4c28-9af3-3e1d2a0270cb",
   "metadata": {},
   "outputs": [],
   "source": [
    "    import json, nbconvert, nbformat, pathlib, mkdocs.plugins, warnings\n",
    "    warnings.filterwarnings(\"ignore\", category=DeprecationWarning)"
   ]
  },
  {
   "cell_type": "markdown",
   "id": "276f1c0b-39a7-4f30-9eab-1183cda72a8a",
   "metadata": {},
   "source": [
    "the [`mkdocs` plugin]"
   ]
  },
  {
   "cell_type": "code",
   "execution_count": 2,
   "id": "69c430f2-ea6a-4c11-b898-18d698394b05",
   "metadata": {},
   "outputs": [],
   "source": [
    "    class MarkdownNotebook(mkdocs.plugins.BasePlugin):\n",
    "        exporter = nbconvert.exporters.HTMLExporter(template_file=\"html-md\")\n",
    "        from jinja2 import DictLoader\n",
    "        for loader in exporter.environment.loader.loaders:\n",
    "            if isinstance(loader, DictLoader):\n",
    "                break\n",
    "        del DictLoader\n",
    "        \n",
    "        config_scheme = (\n",
    "            # ('foo', mkdocs.config.config_options.Type(str, default='a default value')),\n",
    "        )\n",
    "            \n",
    "        def on_page_read_source(self, page, config):\n",
    "            if page.file.src_uri.endswith((\".ipynb\", )):\n",
    "                body = pathlib.Path(page.file.abs_src_path).read_text()\n",
    "                nb = nbformat.v4.reads(body)\n",
    "                prepare_notebook(nb)\n",
    "                return \"\\n\".join((\n",
    "                    \"---\", json.dumps(nb.metadata), \"---\", # add metadata as front matter\n",
    "                    self.exporter.from_notebook_node(nb)[0]            \n",
    "                ))\n",
    "        def on_page_markdown(self, markdown, page, config, files):\n",
    "            import markdown\n",
    "            title = markdown.Markdown(extensions=config['markdown_extensions']).convert(page.title)\n",
    "            page.title = title[len(\"<p>\"):-len(\"</p>\")].strip().replace(\"code>\", \"pre>\")"
   ]
  },
  {
   "cell_type": "markdown",
   "id": "19de00db-e0e8-449e-86eb-05e16f54cc68",
   "metadata": {},
   "source": [
    "we trick `mkdocs` into thinking notebook files are markdown extensions."
   ]
  },
  {
   "cell_type": "code",
   "execution_count": 3,
   "id": "d1cd99cc-b510-4a32-b371-a462750ba642",
   "metadata": {},
   "outputs": [],
   "source": [
    "    mkdocs.utils.markdown_extensions += \".ipynb\", # this feels naughty."
   ]
  },
  {
   "cell_type": "markdown",
   "id": "f255eb64-cea1-4d85-8bb1-f9ea80e1e7cd",
   "metadata": {},
   "source": [
    "it seems the `nbconvert` markdown templates haven't gotten some love in a while. in prepare notebook, we update the notebook form so that it works with the current `jinja2` templates we need."
   ]
  },
  {
   "cell_type": "code",
   "execution_count": 4,
   "id": "d22da79f-7002-4260-af29-5cee3e667ddc",
   "metadata": {},
   "outputs": [],
   "source": [
    "    def prepare_notebook(nb):\n",
    "        for cell in nb.cells:\n",
    "            cell.source = \"\".join(cell.source)\n",
    "            for output in cell.get(\"outputs\", \"\"):\n",
    "                if \"text\" in output:\n",
    "                    output.text = \"\".join(output.text)\n",
    "                if \"data\" in output:\n",
    "                    for k, v in output[\"data\"].items():\n",
    "                        if k.startswith((\"text\",)):\n",
    "                            output.data[k] = \"\".join(v)"
   ]
  },
  {
   "cell_type": "markdown",
   "id": "5a2932ed-2306-4e4d-9d05-27d56b059e14",
   "metadata": {},
   "source": [
    "## modifications to the classic html template\n",
    "\n",
    "these changes let `mkdocs` use its machinery on as much markdown as possible."
   ]
  },
  {
   "cell_type": "code",
   "execution_count": 5,
   "id": "127bc4f1-4b84-49c4-849f-0f43257a78ad",
   "metadata": {},
   "outputs": [],
   "source": [
    "    MarkdownNotebook.loader.mapping[\"html-md\"] = \"\"\"{%- extends 'classic/base.html.j2' -%}\n",
    "    {% block in_prompt %}\n",
    "    {% endblock in_prompt %}\n",
    "\n",
    "    {% block output_prompt %}\n",
    "    {%- endblock output_prompt %}\n",
    "\n",
    "    {% block input %}\n",
    "    ```\n",
    "    {%- if 'magics_language' in cell.metadata  -%}\n",
    "        {{ cell.metadata.magics_language}}\n",
    "    {%- elif 'name' in nb.metadata.get('language_info', {}) -%}\n",
    "        {{ nb.metadata.language_info.name }}\n",
    "    {%- endif %}\n",
    "    {{ cell.source}}\n",
    "    ```\n",
    "    {% endblock input %}\n",
    "\n",
    "    {% block markdowncell scoped %}\n",
    "    {{ cell.source }}\n",
    "    {% endblock markdowncell %}\n",
    "\n",
    "    {% block data_markdown scoped %}\n",
    "    {{ output.data['text/markdown'] }}\n",
    "    {% endblock data_markdown %}\"\"\""
   ]
  }
 ],
 "metadata": {
  "kernelspec": {
   "display_name": "Python [conda env:root] *",
   "language": "python",
   "name": "conda-root-py"
  },
  "language_info": {
   "codemirror_mode": {
    "name": "ipython",
    "version": 3
   },
   "file_extension": ".py",
   "mimetype": "text/x-python",
   "name": "python",
   "nbconvert_exporter": "python",
   "pygments_lexer": "ipython3",
   "version": "3.9.13"
  },
  "tags": [
   "mkdocs-plugin"
  ]
 },
 "nbformat": 4,
 "nbformat_minor": 5
}
