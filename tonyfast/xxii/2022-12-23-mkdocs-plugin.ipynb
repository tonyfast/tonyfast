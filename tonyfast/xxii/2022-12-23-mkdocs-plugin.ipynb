{
 "cells": [
  {
   "cell_type": "markdown",
   "id": "8209f189-924c-408b-a4f7-5ceb9721f8ca",
   "metadata": {},
   "source": [
    "# `mkdocs` plugin for jupyter notebooks"
   ]
  },
  {
   "cell_type": "markdown",
   "id": "8d129e40-d769-4445-b5c9-4c6683f98860",
   "metadata": {},
   "source": [
    "https://www.mkdocs.org/dev-guide/plugins/\n",
    "https://github.com/danielfrg/mkdocs-jupyter"
   ]
  },
  {
   "cell_type": "markdown",
   "id": "5344a8ea-8b78-4ded-a97f-5f3aa9d9e654",
   "metadata": {},
   "source": [
    "- [x] add plugin to `mkdocs.yml`\n",
    "- [x] define plugin entry point for `tonyfast`\n",
    "- [ ] build the plugin\n",
    "- [x] integrate the plugin"
   ]
  },
  {
   "cell_type": "code",
   "execution_count": 10,
   "id": "e9608930-7170-4c28-9af3-3e1d2a0270cb",
   "metadata": {},
   "outputs": [],
   "source": [
    "    import json, nbconvert, nbformat"
   ]
  },
  {
   "cell_type": "code",
   "execution_count": 21,
   "id": "d22da79f-7002-4260-af29-5cee3e667ddc",
   "metadata": {},
   "outputs": [],
   "source": [
    "    def prepare_notebook(nb):\n",
    "        for cell in nb.cells:\n",
    "            cell.source = \"\".join(cell.source)\n",
    "            for output in cell.get(\"outputs\", \"\"):\n",
    "                if \"text\" in output:\n",
    "                    output.text = \"\".join(output.text)\n",
    "                if \"data\" in output:\n",
    "                    for k, v in output[\"data\"].items():\n",
    "                        if k.startswith((\"text\",)):\n",
    "                            output.data[k] = \"\".join(v)\n",
    "                            "
   ]
  },
  {
   "cell_type": "code",
   "execution_count": 24,
   "id": "12789fde-4331-4938-91d6-43db38c7fc8c",
   "metadata": {},
   "outputs": [],
   "source": [
    "    import mkdocs.plugins\n",
    "    mkdocs.utils.markdown_extensions += \".ipynb\",\n",
    "    class Config(mkdocs.config.base.Config):\n",
    "        pass # foo = mkdocs.config.config_options.Type(str, default='a default value')\n",
    "    class MarkdownNotebook(mkdocs.plugins.BasePlugin):\n",
    "        exporter = nbconvert.exporters.MarkdownExporter()\n",
    "        def on_page_markdown(self, markdown, page, config, files):\n",
    "            pass # not the hit\n",
    "            \n",
    "        def on_page_read_source(self, page, config):\n",
    "            if page.file.src_uri.endswith((\".ipynb\", )):\n",
    "                return self.exporter.from_filename(page.file.abs_src_path)[0]            "
   ]
  },
  {
   "cell_type": "code",
   "execution_count": null,
   "id": "6ebf1bc6-c377-4662-acb7-d7163fc74dfb",
   "metadata": {},
   "outputs": [],
   "source": []
  }
 ],
 "metadata": {
  "kernelspec": {
   "display_name": "Python [conda env:root] *",
   "language": "python",
   "name": "conda-root-py"
  },
  "language_info": {
   "codemirror_mode": {
    "name": "ipython",
    "version": 3
   },
   "file_extension": ".py",
   "mimetype": "text/x-python",
   "name": "python",
   "nbconvert_exporter": "python",
   "pygments_lexer": "ipython3",
   "version": "3.9.13"
  }
 },
 "nbformat": 4,
 "nbformat_minor": 5
}
