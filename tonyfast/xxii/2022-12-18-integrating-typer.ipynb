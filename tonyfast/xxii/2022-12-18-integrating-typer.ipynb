{
 "cells": [
  {
   "cell_type": "markdown",
   "id": "f6c1e76a-4347-4a78-b584-cf6720c76380",
   "metadata": {},
   "source": [
    "# integrating `typer` into the blog\n",
    "\n",
    "* add command to __main__\n"
   ]
  },
  {
   "cell_type": "code",
   "execution_count": 6,
   "id": "4d0fb335-a5f9-4d43-b34b-87219126a9be",
   "metadata": {},
   "outputs": [],
   "source": [
    "    def main(greeting: str = \"howdy\", name: str=\"tony\"):\n",
    "        \"\"\"a nothing function that says hi to the audience\"\"\"\n",
    "        print(greeting, name)"
   ]
  },
  {
   "cell_type": "code",
   "execution_count": null,
   "id": "2ca6610e-481c-42da-adef-0386d7a2a665",
   "metadata": {},
   "outputs": [],
   "source": []
  }
 ],
 "metadata": {
  "kernelspec": {
   "display_name": "Python 3 (ipykernel)",
   "language": "python",
   "name": "python3"
  },
  "language_info": {
   "codemirror_mode": {
    "name": "ipython",
    "version": 3
   },
   "file_extension": ".py",
   "mimetype": "text/x-python",
   "name": "python",
   "nbconvert_exporter": "python",
   "pygments_lexer": "ipython3",
   "version": "3.9.12"
  }
 },
 "nbformat": 4,
 "nbformat_minor": 5
}
