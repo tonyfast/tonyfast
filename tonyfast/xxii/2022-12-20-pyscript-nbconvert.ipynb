{
 "cells": [
  {
   "cell_type": "markdown",
   "id": "28bfde93-685f-40f2-a109-6bda114e870f",
   "metadata": {},
   "source": [
    "# rendering a notebook with `pyscript`"
   ]
  },
  {
   "cell_type": "markdown",
   "id": "39bda158-59cd-44ed-a88b-e57ea028d47c",
   "metadata": {},
   "source": [
    "* inject pyscript into the headers\n",
    "* add ids to each output area\n",
    "* make code cells py repls and target the output\n",
    "* find dependencies and put them in the config"
   ]
  },
  {
   "cell_type": "markdown",
   "id": "46d75f3b-f2e4-4162-b074-bb99c6737e62",
   "metadata": {},
   "source": [
    "## `jinja2` template overrides for `nbconvert`"
   ]
  },
  {
   "cell_type": "markdown",
   "id": "b2b903ae-e3f5-4d6e-9f3c-b9b4b3444854",
   "metadata": {},
   "source": [
    "our __pyscript__ is going to be based off of the jupyterlab styling."
   ]
  },
  {
   "cell_type": "code",
   "execution_count": 26,
   "id": "4094a6b8-1c6f-4503-b828-69eb3af6920b",
   "metadata": {},
   "outputs": [
    {
     "name": "stdout",
     "output_type": "stream",
     "text": [
      "Overwriting pyscript.j2\n"
     ]
    }
   ],
   "source": [
    "    %%file pyscript.j2\n",
    "    {%- extends 'lab/index.html.j2' -%}"
   ]
  },
  {
   "cell_type": "code",
   "execution_count": 27,
   "id": "98a87901-bd57-46eb-ad49-674392c5b538",
   "metadata": {},
   "outputs": [
    {
     "name": "stdout",
     "output_type": "stream",
     "text": [
      "Appending to pyscript.j2\n"
     ]
    }
   ],
   "source": [
    "    %%file -a pyscript.j2\n",
    "    {%- block header -%}\n",
    "    {{super()}}\n",
    "    <link rel=\"stylesheet\" href=\"https://pyscript.net/latest/pyscript.css\" />\n",
    "    <script defer src=\"https://pyscript.net/latest/pyscript.js\"></script>\n",
    "    {%- endblock header -%}"
   ]
  },
  {
   "cell_type": "markdown",
   "id": "40d3e25a-63e8-454e-a893-0db0fd905b90",
   "metadata": {},
   "source": [
    "<var>requirejs</var> and <var>pyscript</var> do not play well together, and the block below prevents <var>requirejs</var> from loading."
   ]
  },
  {
   "cell_type": "code",
   "execution_count": 28,
   "id": "3d6c0f71-0392-4164-a64c-f4b333209c0a",
   "metadata": {},
   "outputs": [
    {
     "name": "stdout",
     "output_type": "stream",
     "text": [
      "Appending to pyscript.j2\n"
     ]
    }
   ],
   "source": [
    "    %%file -a pyscript.j2\n",
    "    {%- block html_head_js -%}\n",
    "    {%- endblock html_head_js -%}"
   ]
  },
  {
   "cell_type": "markdown",
   "id": "04ac067a-d66b-4c0c-b7c3-6b3eb4de2451",
   "metadata": {},
   "source": [
    "from a notebook's source we can infer the packages it needs to run.\n",
    "the packages are placed in the `<py-config>` tag"
   ]
  },
  {
   "cell_type": "code",
   "execution_count": 29,
   "id": "95417c7f-8090-400d-817d-989e37e071b4",
   "metadata": {},
   "outputs": [
    {
     "name": "stdout",
     "output_type": "stream",
     "text": [
      "Appending to pyscript.j2\n"
     ]
    }
   ],
   "source": [
    "    %%file -a pyscript.j2\n",
    "    {% block body_header %}   \n",
    "    {{super()}}\n",
    "    <py-config>\n",
    "    packages = {{nb | get_imports_from_cells}}\n",
    "    </py-config>\n",
    "    {% endblock body_header %}"
   ]
  },
  {
   "cell_type": "markdown",
   "id": "ee24e41c-4019-406b-acd3-ea91c827d74f",
   "metadata": {},
   "source": [
    "we replace cell inputs with a `<py-repl>` that does not autogenerate"
   ]
  },
  {
   "cell_type": "code",
   "execution_count": 30,
   "id": "bee30d3e-b393-46e8-b8f3-af5f0a68dcbf",
   "metadata": {},
   "outputs": [
    {
     "name": "stdout",
     "output_type": "stream",
     "text": [
      "Appending to pyscript.j2\n"
     ]
    }
   ],
   "source": [
    "    %%file -a pyscript.j2\n",
    "    {% block input %}\n",
    "    <py-repl output=\"out-{{cell.id}}\">\n",
    "    {{cell.source | escape | dedent}}\n",
    "    </py-repl>\n",
    "    {% endblock input %}\n",
    "    "
   ]
  },
  {
   "cell_type": "markdown",
   "id": "3ab8c74a-db7e-4e63-886b-a7c25e6f3c08",
   "metadata": {},
   "source": [
    "we use any existing outputs as the dead pixels.\n",
    "the outputs are replaced the first pyscript executes in a nearby cell."
   ]
  },
  {
   "cell_type": "code",
   "execution_count": 31,
   "id": "125b722b-0732-4a4b-8c6b-802d69e20d98",
   "metadata": {},
   "outputs": [
    {
     "name": "stdout",
     "output_type": "stream",
     "text": [
      "Appending to pyscript.j2\n"
     ]
    }
   ],
   "source": [
    "    %%file -a pyscript.j2\n",
    "    {% block output %}\n",
    "    <div id=\"out-{{cell.id}}\">{{super()}}</div>\n",
    "    {% endblock output %}\n",
    "    \n",
    "    {% block codecell %}\n",
    "    {{super()}}\n",
    "    {% if not cell.outputs %}\n",
    "    <div id=\"out-{{cell.id}}\"></div>\n",
    "    {% endif %}\n",
    "    {% endblock codecell %}\n",
    "    "
   ]
  },
  {
   "cell_type": "markdown",
   "id": "87324e01-589e-4224-9a90-72a7133c704c",
   "metadata": {},
   "source": [
    "## `nbconvert` exporting machinery"
   ]
  },
  {
   "cell_type": "code",
   "execution_count": 49,
   "id": "e9b325a3-a7f7-4232-9e5a-5d8f9c31c459",
   "metadata": {},
   "outputs": [],
   "source": [
    "    import depfinder, requests_cache, html, textwrap, bs4, requests\n",
    "    from pathlib import Path; from functools import partial; from nbconvert.exporters import HTMLExporter, TemplateExporter\n",
    "    requests_cache.install_cache()"
   ]
  },
  {
   "cell_type": "markdown",
   "id": "445882d2-e6a3-4795-994b-79190da5fd93",
   "metadata": {},
   "source": [
    "### inferring dependencies\n",
    "\n",
    "the `py-config` defines the environment. we use `depfinder` to do that."
   ]
  },
  {
   "cell_type": "code",
   "execution_count": 50,
   "id": "8e3f7d09-3563-4166-a5d5-f251f40c3106",
   "metadata": {},
   "outputs": [],
   "source": [
    "    def get_imports_from_cells(nb):\n",
    "        imports = set()\n",
    "        for cell in nb.cells:\n",
    "            imports.update(get_imports_from_cell(cell))\n",
    "        if imports.intersection({\"requests\", \"httpx\", \"urllib\"}): # add more later\n",
    "            imports.add(\"pyodide-http\")\n",
    "        return list(imports)\n",
    "        \n",
    "    def get_imports_from_cell(cell):\n",
    "        if cell[\"cell_type\"] == \"code\":\n",
    "            try:\n",
    "                yield from depfinder.inspection.get_imported_libs(textwrap.dedent(\"\".join(cell[\"source\"]))).required_modules\n",
    "            except BaseException as e:\n",
    "                pass"
   ]
  },
  {
   "cell_type": "code",
   "execution_count": 51,
   "id": "ffc90fa8-eb70-4d2a-9cec-e9721281fb0c",
   "metadata": {},
   "outputs": [],
   "source": [
    "    exporter = partial(HTMLExporter, template_file=\"pyscript.j2\", filters=dict(\n",
    "        dedent=__import__('textwrap').dedent, get_imports_from_cells=get_imports_from_cells, escape=html.escape\n",
    "    ))"
   ]
  },
  {
   "cell_type": "code",
   "execution_count": 54,
   "id": "cf43510d-29a6-4cbf-94d0-36b85a031648",
   "metadata": {},
   "outputs": [],
   "source": [
    "    def get_pyscript(file):\n",
    "        body, *_ = exporter().from_filename(file)\n",
    "        return body"
   ]
  },
  {
   "cell_type": "code",
   "execution_count": 55,
   "id": "cff58b2f-b268-4df2-8c6b-a8b9438308d5",
   "metadata": {},
   "outputs": [],
   "source": [
    "    def pyscript(file: Path, target: Path = None, write: bool=True):\n",
    "        body = get_pyscript(file)\n",
    "        if write:\n",
    "            if not target:\n",
    "                target = file.with_suffix(F\"{file.suffix}.html\")\n",
    "\n",
    "            return target.write_text(body)"
   ]
  },
  {
   "cell_type": "code",
   "execution_count": 67,
   "id": "804bb883-db50-4bb4-a8ef-5bdbd08b1de9",
   "metadata": {},
   "outputs": [
    {
     "name": "stdout",
     "output_type": "stream",
     "text": [
      "587229\n"
     ]
    }
   ],
   "source": [
    "    if __name__ == \"__main__\":\n",
    "        from IPython.display import *\n",
    "        print(pyscript(Path(\"2022-12-19-integrating-typer.ipynb\")))"
   ]
  }
 ],
 "metadata": {
  "kernelspec": {
   "display_name": "Python [conda env:root] *",
   "language": "python",
   "name": "conda-root-py"
  },
  "language_info": {
   "codemirror_mode": {
    "name": "ipython",
    "version": 3
   },
   "file_extension": ".py",
   "mimetype": "text/x-python",
   "name": "python",
   "nbconvert_exporter": "python",
   "pygments_lexer": "ipython3",
   "version": "3.9.13"
  }
 },
 "nbformat": 4,
 "nbformat_minor": 5
}
