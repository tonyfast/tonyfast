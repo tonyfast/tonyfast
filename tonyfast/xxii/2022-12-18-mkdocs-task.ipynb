{
 "cells": [
  {
   "cell_type": "markdown",
   "id": "6bf354e4-c689-4a5f-afbf-d982e141f6e4",
   "metadata": {},
   "source": [
    "# a task to build a mkdocs site"
   ]
  },
  {
   "cell_type": "code",
   "execution_count": 5,
   "id": "930dad21-a5fe-420e-824f-771825a8dd7a",
   "metadata": {},
   "outputs": [],
   "source": [
    "    def task_mkdocs():\n",
    "        \"\"\"build document with mkdocs\"\"\"\n",
    "        yield dict(name=\"toc\", actions=None)\n",
    "        yield dict(\n",
    "            name=\"build\",\n",
    "            actions=[\"mkdocs build\"],\n",
    "            file_dep=[\"mkdocs.yml\"],\n",
    "            targets=[\"site/index.html\"]\n",
    "        )"
   ]
  }
 ],
 "metadata": {
  "kernelspec": {
   "display_name": "Python 3 (ipykernel)",
   "language": "python",
   "name": "python3"
  },
  "language_info": {
   "codemirror_mode": {
    "name": "ipython",
    "version": 3
   },
   "file_extension": ".py",
   "mimetype": "text/x-python",
   "name": "python",
   "nbconvert_exporter": "python",
   "pygments_lexer": "ipython3",
   "version": "3.9.12"
  }
 },
 "nbformat": 4,
 "nbformat_minor": 5
}
