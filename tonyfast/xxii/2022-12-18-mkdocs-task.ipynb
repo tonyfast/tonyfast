{
 "cells": [
  {
   "cell_type": "markdown",
   "id": "b241213b-576b-4c2d-9406-8da63d6b182a",
   "metadata": {},
   "source": [
    "# accessing `doit` tasks in posts\n",
    "\n",
    "`doit` is a powerful developer tool for defining system tasks.\n",
    "each `doit` task has inputs and outputs that combine to built a computational graph that can be traversed in a smart way. `doit` can be used in incredibly complex build scenarios like jupyterlite or for one off level project tasks\n",
    "\n",
    "## the `mkdocs` task\n",
    "\n",
    "we are building the invocation for `mkdocs` for this site.\n",
    "in this document we:\n",
    "* define functions to find posts\n",
    "* define a `doit` task to execute `mkdocs`"
   ]
  },
  {
   "cell_type": "markdown",
   "id": "95761022-e135-47c6-a6f2-14769f57d648",
   "metadata": {},
   "source": [
    "find posts and build the mkdocs site"
   ]
  },
  {
   "cell_type": "code",
   "execution_count": 7,
   "id": "930dad21-a5fe-420e-824f-771825a8dd7a",
   "metadata": {},
   "outputs": [],
   "source": [
    "    def task_mkdocs():\n",
    "        yield dict(name=\"toc\", actions=[\n",
    "            (set_nav, (pathlib.Path(\"tonyfast\"), \"*.ipynb\", \"mkdocs.yml\"))\n",
    "        ], targets=[\"mkdocs.yml\"], uptodate=[False])\n",
    "        yield dict(\n",
    "            name=\"build\",\n",
    "            actions=[\"mkdocs build\"],\n",
    "            file_dep=[\"mkdocs.yml\"],\n",
    "            targets=[\"site/index.html\"]\n",
    "        )"
   ]
  },
  {
   "cell_type": "code",
   "execution_count": 1,
   "id": "c1271673-dd0f-4f54-b3f0-06eeb6bb744b",
   "metadata": {},
   "outputs": [],
   "source": [
    "    import tonyfast, pathlib, yaml, re\n",
    "    WHERE = pathlib.Path(tonyfast.__file__).parent"
   ]
  },
  {
   "cell_type": "markdown",
   "id": "2b430b3d-9c4c-45a4-b99c-6c0aa453d3d6",
   "metadata": {},
   "source": [
    "`title` is a regex matching `YYYY-MM-DD-TITLE` which is what we consider a valid post;\n",
    "it must have a date and title."
   ]
  },
  {
   "cell_type": "code",
   "execution_count": 2,
   "id": "0a2aac1e-1ade-48a3-970e-e5d976c1a677",
   "metadata": {},
   "outputs": [],
   "source": [
    "    title = re.compile(\"(?P<y>[0-9]{4})-(?P<m>[0-9]{1,2})-(?P<d>[0-9]{1,2})-(?P<t>.+)\")"
   ]
  },
  {
   "cell_type": "markdown",
   "id": "e6fe25e8-13a4-4d74-aeef-12336a6af1bd",
   "metadata": {},
   "source": [
    "find all the potential notebook posts"
   ]
  },
  {
   "cell_type": "code",
   "execution_count": 3,
   "id": "28651130-dd80-4f88-aa83-f3ea724bfac6",
   "metadata": {},
   "outputs": [],
   "source": [
    "    def get_posts_from_dir(dir, glob=\"*.ipynb\"):\n",
    "        for file in dir.iterdir():\n",
    "            if file.is_dir():\n",
    "                if \"checkpoints\" not in file.name: yield from get_posts_from_dir(file, glob)\n",
    "            elif file.suffix in {\".ipynb\"}:\n",
    "                if (m := title.match(str(file.stem))): yield file, m\n",
    "\n",
    "    def get_posts(dir, glob=\"*.ipynb\"):\n",
    "        return sorted((\n",
    "            (x.relative_to(WHERE), y) for x, y in get_posts_from_dir(dir, glob)\n",
    "        ), reverse=True, key=lambda x: x[1].group(*\"ymd\"))"
   ]
  },
  {
   "cell_type": "markdown",
   "id": "9a8fe1a3-371b-4a5a-824f-ca03b8dc15b4",
   "metadata": {},
   "source": [
    "format the ordered entries"
   ]
  },
  {
   "cell_type": "code",
   "execution_count": 4,
   "id": "d6d84762-4ee3-4266-b8cd-0a7fafe933a8",
   "metadata": {},
   "outputs": [],
   "source": [
    "    def get_toc(dir, glob=\"*.ipynb\"):\n",
    "        for x, y in list(get_posts(WHERE, glob)):\n",
    "            yield \" \"* 4 + F\"- {x}\" "
   ]
  },
  {
   "cell_type": "markdown",
   "id": "a719a273-c9ee-40ce-9007-914dbee7596b",
   "metadata": {},
   "source": [
    "we don't use `yaml` cause our `mkdocs` uses `yaml`  tags.\n",
    "instead we put the nav at the end of the document\n",
    "then replace the default with the updated version."
   ]
  },
  {
   "cell_type": "code",
   "execution_count": 5,
   "id": "21aeb265-8bcf-43e0-b556-bedf6ee15082",
   "metadata": {},
   "outputs": [],
   "source": [
    "    def get_nav(dir, glob=\"*.ipynb\"):\n",
    "        return \"\".join(re.split(\n",
    "            \"(notes\\S*:\\S*)\",\n",
    "            (WHERE.parent / \"mkdocs.yml\").read_text(),\n",
    "            1\n",
    "        )[:2] )+ \"\\n\" + \"\\n\".join(get_toc(dir, glob))\n",
    "\n",
    "    def set_nav(dir, glob=\"*.ipynb\", target=WHERE.parent / \"mkdocs.yml\"):\n",
    "        pathlib.Path(target).write_text(get_nav(pathlib.Path(dir), glob))"
   ]
  },
  {
   "cell_type": "markdown",
   "id": "0101403d-58c9-45d9-b197-521d6b5989f1",
   "metadata": {},
   "source": [
    "### invocation\n",
    "\n",
    "the task is exposed in the `tonyfast` module\n",
    "\n",
    "    python -m tonyfast tasks mkdocs\n",
    "    \n",
    "this command is invoked with `hatch` in a virtual environment using:\n",
    "\n",
    "    hatch run docs:build"
   ]
  }
 ],
 "metadata": {
  "kernelspec": {
   "display_name": "Python [conda env:root] *",
   "language": "python",
   "name": "conda-root-py"
  },
  "language_info": {
   "codemirror_mode": {
    "name": "ipython",
    "version": 3
   },
   "file_extension": ".py",
   "mimetype": "text/x-python",
   "name": "python",
   "nbconvert_exporter": "python",
   "pygments_lexer": "ipython3",
   "version": "3.9.13"
  }
 },
 "nbformat": 4,
 "nbformat_minor": 5
}
