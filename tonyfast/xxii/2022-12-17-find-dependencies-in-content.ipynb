{
 "cells": [
  {
   "cell_type": "markdown",
   "id": "7bfe2293-70d7-482c-8ef5-b7d2a6b7f5ea",
   "metadata": {},
   "source": [
    "# automating blog posts to work with jupyter-lite\n",
    "\n",
    "there is a rare occasion that i write notebooks completely in lite.\n",
    "most often i write in a conventional environment then need to ammend the content\n",
    "to work when we are in jupyterlite."
   ]
  },
  {
   "cell_type": "code",
   "execution_count": 1,
   "id": "8f30e8f2-c005-49f7-a472-c0a6d211f2f4",
   "metadata": {},
   "outputs": [
    {
     "data": {
      "text/markdown": [
       "## what do we need to do to make a post work in lite?\n",
       "\n",
       "* explicitly defined dependencies.\n",
       "\n",
       "    working on a virtual file system is different than your standard file system.\n",
       "    normally we don't have to define our environment each time,\n",
       "    but independent of a real file system - in the browser - we need to install packages each time.\n",
       "    \n",
       "* patching shit\n",
       "\n",
       "    if we use requests then we should used https://github.com/koenvo/pyodide-http\n",
       "\n",
       "* dealing with `pidgy` and extensions.\n",
       "    \n",
       "* some packages won't work in lite so we will throw a warning when we know this fo\n",
       "\n",
       "\n",
       "    we can infer this information or provide it explicitly in the metadata"
      ],
      "text/plain": [
       "<IPython.core.display.Markdown object>"
      ]
     },
     "metadata": {},
     "output_type": "display_data"
    }
   ],
   "source": [
    "## what do we need to do to make a post work in lite?\n",
    "\n",
    "* explicitly defined dependencies.\n",
    "\n",
    "    working on a virtual file system is different than your standard file system.\n",
    "    normally we don't have to define our environment each time,\n",
    "    but independent of a real file system - in the browser - we need to install packages each time.\n",
    "    \n",
    "* patching shit\n",
    "\n",
    "    if we use requests then we should used https://github.com/koenvo/pyodide-http\n",
    "\n",
    "* dealing with `pidgy` and extensions.\n",
    "    \n",
    "* some packages won't work in lite so we will throw a warning when we know this fo\n",
    "\n",
    "\n",
    "    we can infer this information or provide it explicitly in the metadata\n"
   ]
  },
  {
   "cell_type": "code",
   "execution_count": 2,
   "id": "70462860-f341-4bc7-a97f-345292aeda2d",
   "metadata": {},
   "outputs": [
    {
     "data": {
      "text/markdown": [
       "sometimes i forget imports"
      ],
      "text/plain": [
       "<IPython.core.display.Markdown object>"
      ]
     },
     "metadata": {},
     "output_type": "display_data"
    }
   ],
   "source": [
    "sometimes i forget imports"
   ]
  },
  {
   "cell_type": "code",
   "execution_count": 3,
   "id": "aeed1c51-6940-46cd-9701-73b0fe522abb",
   "metadata": {},
   "outputs": [
    {
     "data": {
      "text/markdown": [
       "## [`depfinder`](https://github.com/ericdill/depfinder) to find packages in a notebook for python\n",
       "\n",
       "some of my personal style choices might fail like when i use `__import__`, maybe this is a way to cut dependencies from the list."
      ],
      "text/plain": [
       "<IPython.core.display.Markdown object>"
      ]
     },
     "metadata": {},
     "output_type": "display_data"
    }
   ],
   "source": [
    "## [`depfinder`](https://github.com/ericdill/depfinder) to find packages in a notebook for python\n",
    "\n",
    "some of my personal style choices might fail like when i use `__import__`, maybe this is a way to cut dependencies from the list."
   ]
  },
  {
   "cell_type": "code",
   "execution_count": 4,
   "id": "0fcd490d-1a4c-46db-acaf-21781c4f7de6",
   "metadata": {},
   "outputs": [
    {
     "data": {
      "text/markdown": [
       "    from pathlib import Path\n",
       "    import depfinder, pandas\n",
       "    __import__(\"requests_cache\").install_cache()"
      ],
      "text/plain": [
       "<IPython.core.display.Markdown object>"
      ]
     },
     "metadata": {},
     "output_type": "display_data"
    }
   ],
   "source": [
    "    from pathlib import Path\n",
    "    import depfinder, pandas\n",
    "    __import__(\"requests_cache\").install_cache()"
   ]
  },
  {
   "cell_type": "code",
   "execution_count": 5,
   "id": "2acd5cf9-ac84-4087-8ec6-9b92cfbe035b",
   "metadata": {},
   "outputs": [
    {
     "data": {
      "text/markdown": [
       "    def get_files(dir=\"\", glob=\"*.ipynb\") -> pandas.Index:\n",
       "        return pandas.Index(Path(dir).rglob(glob)).rename(\"files\")"
      ],
      "text/plain": [
       "<IPython.core.display.Markdown object>"
      ]
     },
     "metadata": {},
     "output_type": "display_data"
    }
   ],
   "source": [
    "    def get_files(dir=\"\", glob=\"*.ipynb\") -> pandas.Index:\n",
    "        return pandas.Index(Path(dir).rglob(glob)).rename(\"files\")"
   ]
  },
  {
   "cell_type": "code",
   "execution_count": 6,
   "id": "9c3f7023-0a8c-4f0a-b880-c24c23abb991",
   "metadata": {},
   "outputs": [
    {
     "data": {
      "text/markdown": [
       "    def get_cells(files: pandas.Index) -> pandas.DataFrame:\n",
       "        df = (\n",
       "            files.to_series().apply(Path.read_text)\n",
       "            .apply(json.loads).apply(pandas.Series)\n",
       "            .cells.apply(pandas.Series).stack().apply(pandas.Series)\n",
       "        )\n",
       "        return df.join(get_has_pidgy(df))"
      ],
      "text/plain": [
       "<IPython.core.display.Markdown object>"
      ]
     },
     "metadata": {},
     "output_type": "display_data"
    }
   ],
   "source": [
    "    def get_cells(files: pandas.Index) -> pandas.DataFrame:\n",
    "        df = (\n",
    "            files.to_series().apply(Path.read_text)\n",
    "            .apply(json.loads).apply(pandas.Series)\n",
    "            .cells.apply(pandas.Series).stack().apply(pandas.Series)\n",
    "        )\n",
    "        return df.join(get_has_pidgy(df))"
   ]
  },
  {
   "cell_type": "markdown",
   "id": "1fc6b16b-8971-4d25-ab83-9bfb95d7ff61",
   "metadata": {},
   "source": [
    "### can haz pidgy?"
   ]
  },
  {
   "cell_type": "markdown",
   "id": "9935e644-9b35-4a29-8c59-eb2c1df2ca7b",
   "metadata": {},
   "source": [
    "some of these posts are in `pidgy`, i'll use `%reload_ext pidgy` when that is the situation.\n",
    "peek in the `cells` to find `pidgy` notebooks."
   ]
  },
  {
   "cell_type": "code",
   "execution_count": 7,
   "id": "fb0facf2-bb47-47e5-9218-e175be8523fc",
   "metadata": {},
   "outputs": [
    {
     "data": {
      "text/markdown": [
       "    def get_has_pidgy(cells):\n",
       "        return cells[cells.cell_type.eq(\"code\")].source.apply(\"\".join).groupby(\n",
       "            pandas.Grouper(level=0)\n",
       "        ).apply(lambda df: df.str.contains(\"%[re]*load_ext pidgy\").any()).rename(\"pidgy\")"
      ],
      "text/plain": [
       "<IPython.core.display.Markdown object>"
      ]
     },
     "metadata": {},
     "output_type": "display_data"
    }
   ],
   "source": [
    "    def get_has_pidgy(cells):\n",
    "        return cells[cells.cell_type.eq(\"code\")].source.apply(\"\".join).groupby(\n",
    "            pandas.Grouper(level=0)\n",
    "        ).apply(lambda df: df.str.contains(\"%[re]*load_ext pidgy\").any()).rename(\"pidgy\")"
   ]
  },
  {
   "cell_type": "code",
   "execution_count": null,
   "id": "9e77fa1b-8343-444a-b357-b7a47927abd0",
   "metadata": {},
   "outputs": [],
   "source": [
    "    cells = get_cells(get_files())"
   ]
  },
  {
   "cell_type": "code",
   "execution_count": null,
   "id": "dd8f6b97-da12-4a1f-ac32-08760f27ca4f",
   "metadata": {},
   "outputs": [],
   "source": [
    "### get the imports\n",
    "    def get_import(row: pandas.Series) -> dict:\n",
    "`get_import` normalizes the cell source code for analysis by `depfinder`.\n",
    "this method catches those situations or returns the attributes of `depfinder.inspection.ImportFinder`\n",
    "\n",
    "        source = \"\".join(row.source)\n",
    "        if row.pidgy:\n",
    "            source = midgy.python.Python().render(source)\n",
    "        try:\n",
    "            return vars(depfinder.inspection.get_imported_libs(textwrap.dedent(source), row.name[0]))\n",
    "        except BaseException as e:\n",
    "            return None"
   ]
  },
  {
   "cell_type": "markdown",
   "id": "13b73c17-1f61-4625-8538-686941e3c826",
   "metadata": {},
   "source": [
    "### evaluate the sources"
   ]
  },
  {
   "cell_type": "code",
   "execution_count": null,
   "id": "9abbf9fe-e4d7-4184-89b0-bab9e8109ccc",
   "metadata": {},
   "outputs": [],
   "source": [
    "    import depfinder, pandas, midgy\n",
    "    __import__(\"requests_cache\").install_cache()\n",
    "    Ø = __name__ == \"__main__\" and \"__file__\" not in locals()"
   ]
  },
  {
   "cell_type": "code",
   "execution_count": null,
   "id": "2a029fbe-f779-4f1f-953e-a034e60e1642",
   "metadata": {},
   "outputs": [],
   "source": [
    "    def get_modules(cells):\n",
    "        return (\n",
    "            (\n",
    "                results:=\n",
    "                cells[cells.cell_type.eq(\"code\")].apply(get_import, axis=1)\n",
    "                .dropna().apply(functools.partial(pandas.Series, dtype=\"O\"))\n",
    "            )[results.columns[results.columns.str.endswith(\"_modules\")]]\n",
    "        )"
   ]
  },
  {
   "cell_type": "markdown",
   "id": "a574a590-ec7b-44a2-824a-68654dc442d6",
   "metadata": {},
   "source": [
    "a snapshot of the modules import within the content"
   ]
  },
  {
   "cell_type": "code",
   "execution_count": null,
   "id": "d691dbcb-af05-4bc3-b435-56e3c83a88c4",
   "metadata": {},
   "outputs": [],
   "source": [
    "    if Ø:\n",
    "        (cells := get_cells(get_files()))\n",
    "        (cells := cells.join(get_modules(cells)))\n",
    "        modules = cells[cells.columns[cells.columns.str.endswith(\"_modules\")]]\n",
    "        modules = modules.stack().apply(list).apply(pandas.Series, dtype=\"O\").stack()\n",
    "        return HTML(modules.value_counts().to_frame().T.to_html())"
   ]
  },
  {
   "cell_type": "markdown",
   "id": "ee8dfc44-92b4-41ee-bf2e-afcc8e6a2750",
   "metadata": {},
   "source": [
    "## todo\n",
    "\n",
    "* inject the imports back into the notebooks. where though?\n",
    "* find magics"
   ]
  },
  {
   "cell_type": "code",
   "execution_count": null,
   "id": "0eabf8fb-c114-4e78-b160-884f27380f1e",
   "metadata": {},
   "outputs": [],
   "source": []
  }
 ],
 "metadata": {
  "kernelspec": {
   "display_name": "pidgy",
   "language": "markdown",
   "name": "pidgy"
  },
  "language_info": {
   "codemirror_mode": {
    "name": "ipython",
    "version": 3
   },
   "file_extension": ".py",
   "mimetype": "text/x-python",
   "name": "python",
   "nbconvert_exporter": "python",
   "pygments_lexer": "ipython3",
   "version": "3.9.13"
  }
 },
 "nbformat": 4,
 "nbformat_minor": 5
}
