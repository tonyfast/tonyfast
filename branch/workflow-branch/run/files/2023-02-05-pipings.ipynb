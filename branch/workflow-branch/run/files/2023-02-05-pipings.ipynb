{
 "cells": [
  {
   "cell_type": "markdown",
   "id": "952ea25b-3c52-4a29-ac29-72865c395584",
   "metadata": {
    "execution": {
     "iopub.execute_input": "2023-02-06T05:37:13.351029Z",
     "iopub.status.busy": "2023-02-06T05:37:13.350717Z",
     "iopub.status.idle": "2023-02-06T05:37:13.357437Z",
     "shell.execute_reply": "2023-02-06T05:37:13.357139Z",
     "shell.execute_reply.started": "2023-02-06T05:37:13.350942Z"
    }
   },
   "source": [
    "# pipes are common sugar\n",
    "\n",
    "the `|` is a common operator in programming languages.\n",
    "in pidgy, we find the `|` operator in `jijnja2` filters.\n",
    "\n",
    "here we adds pipes to markdown strings used in `pidgy`."
   ]
  },
  {
   "cell_type": "markdown",
   "id": "80b3323c-a265-453c-bb95-9f8a986e1eb2",
   "metadata": {},
   "source": [
    "## the `pipe` classes\n",
    "\n",
    "make it possible chain markdown and python."
   ]
  },
  {
   "cell_type": "code",
   "execution_count": null,
   "id": "fcad1bf8-ba17-42d1-b258-db557beea8de",
   "metadata": {
    "tags": []
   },
   "outputs": [],
   "source": [
    "    class pipe(functools.partial):\n",
    "        def __or__(self, object):\n",
    "            if isinstance(object, str): return super().__call__(object)\n",
    "            if callable(object): return pipe(lambda x: object(super().__call__(x)))\n",
    "            raise NotImplementedError(F\"not implemented for {type(object)}\")\n",
    "            \n",
    "        def __ror__(self, object):\n",
    "            if isinstance(object, str): return super().__call__(object)\n",
    "            if callable(object): return pipe(lambda x: super().__call__(object(x)))\n",
    "\n",
    "    class do(pipe):\n",
    "        def __call__(self, *args, **kwargs):\n",
    "            super().__call__(*args, **kwargs)\n",
    "            object, *_ = args + (None,)\n",
    "            return object"
   ]
  },
  {
   "cell_type": "markdown",
   "id": "6ccf81ab-90e9-4bbf-b4fe-86527bea04ec",
   "metadata": {},
   "source": [
    "`pipe` can used as a decorator"
   ]
  },
  {
   "cell_type": "code",
   "execution_count": null,
   "id": "66c51808-9fd4-4d51-8b7a-f4aea1cc019d",
   "metadata": {
    "tags": []
   },
   "outputs": [],
   "source": [
    "    @pipe\n",
    "    def strip_fence(body):\n",
    "        lines = body.splitlines(1)[1:]\n",
    "        if lines[-1].startswith((\"```\", \"~~~\")):\n",
    "            lines.pop()\n",
    "        return \"\".join(lines)"
   ]
  },
  {
   "cell_type": "markdown",
   "id": "bf2d3305-69ac-4687-a8a6-23e5232d3ed4",
   "metadata": {},
   "source": [
    "maybe we want a pipeable version of `print`"
   ]
  },
  {
   "cell_type": "code",
   "execution_count": null,
   "id": "f4061ace-78e9-49b7-904e-09c8748b7b14",
   "metadata": {
    "tags": []
   },
   "outputs": [],
   "source": [
    "    print = do(print)\n",
    "    print | \"asdf\""
   ]
  },
  {
   "cell_type": "code",
   "execution_count": null,
   "id": "7de27cc8-484c-4435-b794-cc58bc11d4f8",
   "metadata": {
    "tags": []
   },
   "outputs": [],
   "source": [
    "    x=(\n",
    "```test\n",
    "crap\n",
    "```\n",
    "        \n",
    "    )| strip_fence | do(print)"
   ]
  }
 ],
 "metadata": {
  "kernelspec": {
   "display_name": "Python [conda env:root] *",
   "language": "python",
   "name": "conda-root-py"
  },
  "language_info": {
   "codemirror_mode": {
    "name": "ipython",
    "version": 3
   },
   "file_extension": ".py",
   "mimetype": "text/x-python",
   "name": "python",
   "nbconvert_exporter": "python",
   "pygments_lexer": "ipython3",
   "version": "3.9.13"
  },
  "widgets": {
   "application/vnd.jupyter.widget-state+json": {
    "state": {},
    "version_major": 2,
    "version_minor": 0
   }
  }
 },
 "nbformat": 4,
 "nbformat_minor": 5
}
