{
  "cells": [
    {
      "cell_type": "markdown",
      "id": "b89d004a-233f-452e-9da7-84604f291174",
      "metadata": {},
      "source": [
        "# inferring linked data from `IPython` run times."
      ]
    },
    {
      "cell_type": "markdown",
      "id": "1734421e-0762-47e6-8f5f-6f3468bf7b2f",
      "metadata": {},
      "source": [
        "automatically exporting rdf data during interactive computing.\n",
        "\n",
        "we'll modify `IPython`s display formatter to include a system that describes\n",
        "python objects as `json` linked data."
      ]
    },
    {
      "cell_type": "code",
      "execution_count": 1,
      "id": "2f97b27e-f363-4dce-a2d5-45927c92feba",
      "metadata": {
        "tags": [
          "imports",
          "constants"
        ]
      },
      "outputs": [],
      "source": [
        "    %pip install traitlets IPython jinja2 pandas pyld\n",
        "    from functools import singledispatch, singledispatchmethod\n",
        "    import types, gc, re, sys\n",
        "    from IPython.core.formatters import DisplayFormatter, BaseFormatter, catch_format_error, JSONFormatter\n",
        "    from traitlets import ObjectName, Unicode, Instance, List, Any\n",
        "    from IPython import get_ipython\n",
        "    from pathlib import Path\n",
        "    \n",
        "    TYPE, ID, GRAPH, CONTAINER, NEST, CONTEXT = \"@type @id @graph @container @nest @context\".split()\n",
        "    MAIN = __name__ == \"__main__\"\n",
        "    ACTIVE = \"__file__\" not in locals() and MAIN\n",
        "    shell = get_ipython()"
      ]
    },
    {
      "cell_type": "markdown",
      "id": "d2ed9bc9-c426-4bb4-98fb-bf4f3d26c299",
      "metadata": {},
      "source": [
        "a `MetadataFormatter` for including linked data in `IPython` reprs.\n",
        "this class carries machinery to generate:\n",
        "\n",
        "* ids for python types and objects as urns `MetadataFormatter.get_id`\n",
        "* linked data representations of python objects with `MetadataFormatter.get_graph`\n",
        "\n",
        "`MetadataFormatter.for_type, MetadataFormatter.get_id.register, MetadataFormatter.get_graph.register` extra the expression of the linked data graphs."
      ]
    },
    {
      "cell_type": "markdown",
      "id": "1ea5f698-7263-4dc2-b24f-232e9f1dcfcd",
      "metadata": {},
      "source": [
        "## custom metadata formatter"
      ]
    },
    {
      "cell_type": "code",
      "execution_count": 2,
      "id": "cec19c6c-affe-4378-99d9-c927f8d2e726",
      "metadata": {},
      "outputs": [],
      "source": [
        "    class MetadataFormatter(BaseFormatter):\n",
        "        graph, format_type,  = List(), Unicode('application/ld+json') \n",
        "        _return_type, print_method = (list, dict), ObjectName('_repr_metadata_')\n",
        "        \n",
        "        @singledispatchmethod\n",
        "        def get_id(self, object): return next(self.get_object(object), None)\n",
        "        \n",
        "        @singledispatchmethod\n",
        "        def get_graph(self, object):\n",
        "            data = {TYPE: self.get_id(type(object))}\n",
        "            id = self.get_id(object)\n",
        "            if id: \n",
        "                data.setdefault(ID, id)\n",
        "                if isinstance(id, list): return [{ID: x, **data} for x in id]\n",
        "            return data\n",
        "        \n",
        "        def get_object(self, object, filter=None):\n",
        "            if isinstance(filter, str): filter = re.compile(filter)\n",
        "            for referrer in (x for x in gc.get_referrers(object) if isinstance(x, dict)):\n",
        "                yield from self.get_object_from_ns(referrer, object, filter=filter)\n",
        "\n",
        "        def get_object_from_ns(self, ns, object, filter=None):\n",
        "            weakref = ns.get(\"__weakref__\")\n",
        "            parent = None\n",
        "            if weakref: parent = self.get_id(weakref.__objclass__)\n",
        "            else:\n",
        "                parent = ns.get(\"__module__\", ns.get(\"__name__\"))\n",
        "                if parent: parent += \":\"\n",
        "                \n",
        "            if not parent and ns is sys.modules:\n",
        "                return object.__name__\n",
        "\n",
        "            for k in (k for k, v in ns.items() if v is object and not k.startswith(\"_\")): \n",
        "                name = F\"{parent or 'noparent'}#{k}\"\n",
        "                if filter is not None and not filter.match(name): continue\n",
        "                yield name\n",
        "\n",
        "        def get_session_cell_id(self):\n",
        "            data = get_ipython().kernel.get_parent()\n",
        "            return data[\"metadata\"][\"cellId\"], data[\"header\"][\"session\"]\n",
        "   \n",
        "        def set_metadata(self, object=None, **kwargs):\n",
        "            ids = dict(zip((\"cell:id\", \"session:id\"), self.get_session_cell_id()))\n",
        "            node = {} if object is None else self.get_graph(object)\n",
        "            if isinstance(node, dict): node = [node]\n",
        "            for node in node:\n",
        "                self.graph.append({**ids, **node, **kwargs})\n",
        "                \n",
        "            \n",
        "        def __call__(self, object):\n",
        "            explicit = super().__call__(object)\n",
        "            if explicit:\n",
        "                if isinstance(explicit, dict): self.set_metadata(**explicit)\n",
        "                else: \n",
        "                    for e in explicit: self.set_metadata(**w)\n",
        "            else: self.set_metadata(object)\n",
        "            try: return self.graph[:]\n",
        "            finally: self.graph.clear()"
      ]
    },
    {
      "cell_type": "markdown",
      "id": "55478faa-bcc6-4447-9e28-607b2b6bafa6",
      "metadata": {},
      "source": [
        "## custom display formatter"
      ]
    },
    {
      "cell_type": "markdown",
      "id": "58291cbb-ce73-4bfa-b7ea-4c989090666a",
      "metadata": {},
      "source": [
        "the `LinkedDataFormatter` customizes how `IPython`s normal `DisplayFormatter` expresses metadata."
      ]
    },
    {
      "cell_type": "code",
      "execution_count": 3,
      "id": "2069ae29-068c-4f0b-ab52-68ea31169358",
      "metadata": {},
      "outputs": [],
      "source": [
        "    class LinkedDataFormatter(DisplayFormatter):\n",
        "        metadata_formatter = Instance(MetadataFormatter, args=())\n",
        "        def format(self, object, include=None, exclude=None):\n",
        "            data, meta = super().format(object, include, exclude)\n",
        "            g = self.metadata_formatter(object)\n",
        "            if g: meta[GRAPH] = g\n",
        "            return data, meta\n",
        "        \n",
        "    def load_ipython_extension(shell=get_ipython()):\n",
        "        shell.display_formatter = LinkedDataFormatter(**shell.display_formatter._trait_values)\n",
        "        shell.user_ns[\"set_metadata\"] = shell.display_formatter.metadata_formatter.set_metadata\n",
        "            \n",
        "    def unload_ipython_extension(shell=get_ipython()):\n",
        "        shell.display_formatter = DisplayFormatter(**shell.display_formatter._trait_values)\n"
      ]
    },
    {
      "cell_type": "markdown",
      "id": "12548308-caf8-4760-8650-acc8fb13fa6d",
      "metadata": {},
      "source": [
        "extend how the graph is generated for tuples and strings as examples."
      ]
    },
    {
      "cell_type": "code",
      "execution_count": 4,
      "id": "0aa91bd4-ef7e-4447-8572-f8e5db6af7fd",
      "metadata": {},
      "outputs": [],
      "source": [
        "    @MetadataFormatter.get_graph.register(tuple)\n",
        "    def get_graph_tuple(self, object): return list(map(self.get_graph, object))"
      ]
    },
    {
      "cell_type": "markdown",
      "id": "22717127-56b3-4e8d-833e-21ba302cab49",
      "metadata": {},
      "source": [
        "register a different id for modules. we use their namespaces for expansion later."
      ]
    },
    {
      "cell_type": "code",
      "execution_count": 5,
      "id": "131bd548-e951-4a6e-b759-c7630bc6e20e",
      "metadata": {},
      "outputs": [],
      "source": [
        "    @MetadataFormatter.get_id.register(types.ModuleType)\n",
        "    def get_name(self, object): return object.__name__"
      ]
    },
    {
      "cell_type": "markdown",
      "id": "4dc89ef5-0fd5-4510-9399-2a45ab27bef3",
      "metadata": {},
      "source": [
        "activate the display formatter"
      ]
    },
    {
      "cell_type": "code",
      "execution_count": 6,
      "id": "f121d061-df1c-4a41-8dac-de2ffabc54db",
      "metadata": {},
      "outputs": [],
      "source": [
        "    ACTIVE and load_ipython_extension()"
      ]
    },
    {
      "cell_type": "markdown",
      "id": "01efe602-d5c1-4945-a3f7-fdae95ac4349",
      "metadata": {},
      "source": [
        "### some data for the graph"
      ]
    },
    {
      "cell_type": "markdown",
      "id": "50d9dcf9-18f4-4eb7-9a9a-cc3e14b3b2e2",
      "metadata": {},
      "source": [
        "#### dataframes"
      ]
    },
    {
      "cell_type": "markdown",
      "id": "f1227a1b-dbd7-4923-9f04-6b7db2e9828f",
      "metadata": {},
      "source": [
        "create a custom graph expression for `pandas.DataFrame`s"
      ]
    },
    {
      "cell_type": "code",
      "execution_count": 7,
      "id": "37e64bd4-d119-470b-b480-44778d33c549",
      "metadata": {},
      "outputs": [],
      "source": [
        "    import pandas\n",
        "\n",
        "    if ACTIVE:\n",
        "        shell.display_formatter.metadata_formatter.get_graph.register(pandas.DataFrame\n",
        "        )(lambda s, x: {ID: s.get_id(x), TYPE: s.get_id(type(x)), \"pandas.DataFrame:shape\": list(x.shape)})"
      ]
    },
    {
      "cell_type": "code",
      "execution_count": 8,
      "id": "e3a8b43e-aaeb-4b7a-9ccb-4485ae0689a0",
      "metadata": {},
      "outputs": [
        {
          "data": {
            "text/plain": [
              "(Empty DataFrame\n",
              " Columns: []\n",
              " Index: [],\n",
              " <module 'pandas' from '/home/tbone/mambaforge/lib/python3.9/site-packages/pandas/__init__.py'>,\n",
              " pandas.core.frame.DataFrame)"
            ]
          },
          "metadata": {
            "@graph": [
              {
                "@id": "__main__:#df",
                "@type": "pandas.io.parsers.readers:#DataFrame",
                "cell:id": "e3a8b43e-aaeb-4b7a-9ccb-4485ae0689a0",
                "pandas.DataFrame:shape": [
                  0,
                  0
                ],
                "session:id": "3bfd0e1c-4cad-41d2-9252-9eb6c41bd5ab"
              },
              {
                "@id": "pandas",
                "@type": "types:#ModuleType",
                "cell:id": "e3a8b43e-aaeb-4b7a-9ccb-4485ae0689a0",
                "session:id": "3bfd0e1c-4cad-41d2-9252-9eb6c41bd5ab"
              },
              {
                "@id": "pandas.io.parsers.readers:#DataFrame",
                "@type": "builtins:#type",
                "cell:id": "e3a8b43e-aaeb-4b7a-9ccb-4485ae0689a0",
                "session:id": "3bfd0e1c-4cad-41d2-9252-9eb6c41bd5ab"
              }
            ]
          },
          "output_type": "display_data"
        }
      ],
      "source": [
        "    if ACTIVE:\n",
        "        import pandas\n",
        "        df = pandas.DataFrame()\n",
        "        display((df, pandas, pandas.DataFrame))"
      ]
    },
    {
      "cell_type": "markdown",
      "id": "e3dc5bdb-b499-4309-aa79-c0c333f97d56",
      "metadata": {},
      "source": [
        "#### string or url"
      ]
    },
    {
      "cell_type": "markdown",
      "id": "db25096c-b1bb-40a1-9330-e58c96f77a6c",
      "metadata": {},
      "source": [
        "if there is a url hidden in a string we can elevate that as metadata\n",
        "thereby linked it to a cell.\n",
        "\n",
        "for example, this work revists https://nbviewer.org/gist/tonyfast/16d3bc82d69890949212b46040bd86e1 so we'll include that in the graph."
      ]
    },
    {
      "cell_type": "code",
      "execution_count": 9,
      "id": "bc71a7c4-c872-454d-8616-64a741dee4f0",
      "metadata": {},
      "outputs": [
        {
          "data": {
            "text/plain": [
              "'https://nbviewer.org/gist/tonyfast/16d3bc82d69890949212b46040bd86e1'"
            ]
          },
          "execution_count": 9,
          "metadata": {
            "@graph": [
              {
                "@id": "https://nbviewer.org/gist/tonyfast/16d3bc82d69890949212b46040bd86e1",
                "@type": "builtins:#str",
                "cell:id": "bc71a7c4-c872-454d-8616-64a741dee4f0",
                "session:id": "3bfd0e1c-4cad-41d2-9252-9eb6c41bd5ab"
              }
            ]
          },
          "output_type": "execute_result"
        }
      ],
      "source": [
        "    @MetadataFormatter.get_id.register(str)\n",
        "    def get_graph_str(self, object): \n",
        "        from urllib.parse import urlparse\n",
        "        parsed = urlparse(object)\n",
        "        if parsed.scheme:\n",
        "            return object\n",
        "    \"https://nbviewer.org/gist/tonyfast/16d3bc82d69890949212b46040bd86e1\""
      ]
    },
    {
      "cell_type": "markdown",
      "id": "67ce52b5-20b8-4adf-8518-6368d3c24303",
      "metadata": {},
      "source": [
        "## looking at the metadata graph\n",
        "\n",
        "our choice of \"@id\" and \"@type\" are jsonld conventions.\n",
        "through these conventions we can surface the metadata by creating\n",
        "a `jsonld` context. we can ensure a consistent structure of the notebook\n",
        "and thereby context."
      ]
    },
    {
      "cell_type": "code",
      "execution_count": 10,
      "id": "c4377aed-7bb8-4fa1-8dd9-518ef22511a9",
      "metadata": {},
      "outputs": [],
      "source": [
        "    ctx = {\n",
        "        \"cells\": {\n",
        "            ID: \"nb:cell\", CONTAINER: \"@list\", \n",
        "            CONTEXT: {\n",
        "                \"outputs\": {CONTEXT: {\"metadata\": NEST}, ID: \"cell:metadata\"},\n",
        "                \"id\": {ID: \"cell:id\", TYPE: ID},\n",
        "                \"cell_type\": \"cell:type\",\n",
        "                \"metadata\": {\n",
        "                    ID: \"cell:metadata\",\n",
        "                    CONTAINER: GRAPH,\n",
        "                    CONTEXT: {\n",
        "                        \"tags\": \"rdf:name\"\n",
        "                    }\n",
        "                },\n",
        "                \n",
        "            }\n",
        "        },\n",
        "        \"@version\": 1.1}"
      ]
    },
    {
      "cell_type": "code",
      "execution_count": 11,
      "id": "24ee56a0-829c-4be6-8194-88e648e6ac11",
      "metadata": {},
      "outputs": [],
      "source": [
        "    if ACTIVE:\n",
        "        file = Path(\"2022-10-29-metadata-formatter.ipynb\")\n",
        "        data = __import__(\"json\").loads(file.read_text())"
      ]
    },
    {
      "cell_type": "code",
      "execution_count": 12,
      "id": "fc202593-9a00-4f3b-9748-c5f48b7c475e",
      "metadata": {},
      "outputs": [
        {
          "data": {
            "text/plain": [
              "{'nb:cell': {'@list': [{'cell:id': {'@id': 'b89d004a-233f-452e-9da7-84604f291174'},\n",
              "    'cell:metadata': {'@graph': {}},\n",
              "    'cell:type': 'markdown'},\n",
              "   {'cell:id': {'@id': '1734421e-0762-47e6-8f5f-6f3468bf7b2f'},\n",
              "    'cell:metadata': {'@graph': {}},\n",
              "    'cell:type': 'markdown'},\n",
              "   {'cell:id': {'@id': '2f97b27e-f363-4dce-a2d5-45927c92feba'},\n",
              "    'cell:metadata': {'@graph': {'rdf:name': ['imports', 'constants']}},\n",
              "    'cell:type': 'code'},\n",
              "   {'cell:id': {'@id': 'd2ed9bc9-c426-4bb4-98fb-bf4f3d26c299'},\n",
              "    'cell:metadata': {'@graph': {}},\n",
              "    'cell:type': 'markdown'},\n",
              "   {'cell:id': {'@id': '1ea5f698-7263-4dc2-b24f-232e9f1dcfcd'},\n",
              "    'cell:metadata': {'@graph': {}},\n",
              "    'cell:type': 'markdown'},\n",
              "   {'cell:id': {'@id': 'cec19c6c-affe-4378-99d9-c927f8d2e726'},\n",
              "    'cell:metadata': {'@graph': {}},\n",
              "    'cell:type': 'code'},\n",
              "   {'cell:id': {'@id': '55478faa-bcc6-4447-9e28-607b2b6bafa6'},\n",
              "    'cell:metadata': {'@graph': {}},\n",
              "    'cell:type': 'markdown'},\n",
              "   {'cell:id': {'@id': '58291cbb-ce73-4bfa-b7ea-4c989090666a'},\n",
              "    'cell:metadata': {'@graph': {}},\n",
              "    'cell:type': 'markdown'},\n",
              "   {'cell:id': {'@id': '2069ae29-068c-4f0b-ab52-68ea31169358'},\n",
              "    'cell:metadata': {'@graph': {}},\n",
              "    'cell:type': 'code'},\n",
              "   {'cell:id': {'@id': '12548308-caf8-4760-8650-acc8fb13fa6d'},\n",
              "    'cell:metadata': {'@graph': {}},\n",
              "    'cell:type': 'markdown'},\n",
              "   {'cell:id': {'@id': '0aa91bd4-ef7e-4447-8572-f8e5db6af7fd'},\n",
              "    'cell:metadata': {'@graph': {}},\n",
              "    'cell:type': 'code'},\n",
              "   {'cell:id': {'@id': '22717127-56b3-4e8d-833e-21ba302cab49'},\n",
              "    'cell:metadata': {'@graph': {}},\n",
              "    'cell:type': 'markdown'},\n",
              "   {'cell:id': {'@id': '131bd548-e951-4a6e-b759-c7630bc6e20e'},\n",
              "    'cell:metadata': {'@graph': {}},\n",
              "    'cell:type': 'code'},\n",
              "   {'cell:id': {'@id': '4dc89ef5-0fd5-4510-9399-2a45ab27bef3'},\n",
              "    'cell:metadata': {'@graph': {}},\n",
              "    'cell:type': 'markdown'},\n",
              "   {'cell:id': {'@id': 'f121d061-df1c-4a41-8dac-de2ffabc54db'},\n",
              "    'cell:metadata': {'@graph': {}},\n",
              "    'cell:type': 'code'},\n",
              "   {'cell:id': {'@id': '01efe602-d5c1-4945-a3f7-fdae95ac4349'},\n",
              "    'cell:metadata': {'@graph': {}},\n",
              "    'cell:type': 'markdown'},\n",
              "   {'cell:id': {'@id': '50d9dcf9-18f4-4eb7-9a9a-cc3e14b3b2e2'},\n",
              "    'cell:metadata': {'@graph': {}},\n",
              "    'cell:type': 'markdown'},\n",
              "   {'cell:id': {'@id': 'f1227a1b-dbd7-4923-9f04-6b7db2e9828f'},\n",
              "    'cell:metadata': {'@graph': {}},\n",
              "    'cell:type': 'markdown'},\n",
              "   {'cell:id': {'@id': '37e64bd4-d119-470b-b480-44778d33c549'},\n",
              "    'cell:metadata': {'@graph': {}},\n",
              "    'cell:type': 'code'},\n",
              "   {'cell:id': {'@id': 'e3a8b43e-aaeb-4b7a-9ccb-4485ae0689a0'},\n",
              "    'cell:metadata': [{'@graph': {}},\n",
              "     {'@graph': [{'@id': '__main__:#df',\n",
              "        '@type': 'pandas.io.xml:#DataFrame',\n",
              "        'cell:id': 'e3a8b43e-aaeb-4b7a-9ccb-4485ae0689a0',\n",
              "        'pandas.DataFrame:shape': [0, 0],\n",
              "        'session:id': 'f96335f1-429c-4c08-a07e-9aa81224d66d'},\n",
              "       {'@id': 'pandas',\n",
              "        '@type': 'types:#ModuleType',\n",
              "        'cell:id': 'e3a8b43e-aaeb-4b7a-9ccb-4485ae0689a0',\n",
              "        'session:id': 'f96335f1-429c-4c08-a07e-9aa81224d66d'},\n",
              "       {'@id': 'pandas.io.xml:#DataFrame',\n",
              "        '@type': 'builtins:#type',\n",
              "        'cell:id': 'e3a8b43e-aaeb-4b7a-9ccb-4485ae0689a0',\n",
              "        'session:id': 'f96335f1-429c-4c08-a07e-9aa81224d66d'}]}],\n",
              "    'cell:type': 'code'},\n",
              "   {'cell:id': {'@id': 'e3dc5bdb-b499-4309-aa79-c0c333f97d56'},\n",
              "    'cell:metadata': {'@graph': {}},\n",
              "    'cell:type': 'markdown'},\n",
              "   {'cell:id': {'@id': 'db25096c-b1bb-40a1-9330-e58c96f77a6c'},\n",
              "    'cell:metadata': {'@graph': {}},\n",
              "    'cell:type': 'markdown'},\n",
              "   {'cell:id': {'@id': 'bc71a7c4-c872-454d-8616-64a741dee4f0'},\n",
              "    'cell:metadata': [{'@graph': {}},\n",
              "     {'@graph': {'@id': 'https://nbviewer.org/gist/tonyfast/16d3bc82d69890949212b46040bd86e1',\n",
              "       '@type': 'builtins:#str',\n",
              "       'cell:id': 'bc71a7c4-c872-454d-8616-64a741dee4f0',\n",
              "       'session:id': 'f96335f1-429c-4c08-a07e-9aa81224d66d'}}],\n",
              "    'cell:type': 'code'},\n",
              "   {'cell:id': {'@id': '67ce52b5-20b8-4adf-8518-6368d3c24303'},\n",
              "    'cell:metadata': {'@graph': {}},\n",
              "    'cell:type': 'markdown'},\n",
              "   {'cell:id': {'@id': 'c4377aed-7bb8-4fa1-8dd9-518ef22511a9'},\n",
              "    'cell:metadata': {'@graph': {}},\n",
              "    'cell:type': 'code'},\n",
              "   {'cell:id': {'@id': '24ee56a0-829c-4be6-8194-88e648e6ac11'},\n",
              "    'cell:metadata': {'@graph': {}},\n",
              "    'cell:type': 'code'},\n",
              "   {'cell:id': {'@id': 'fc202593-9a00-4f3b-9748-c5f48b7c475e'},\n",
              "    'cell:metadata': [{'@graph': {}},\n",
              "     {'@graph': [{'@id': '__main__:#from_local',\n",
              "        '@type': 'builtins:#dict',\n",
              "        'cell:id': 'fc202593-9a00-4f3b-9748-c5f48b7c475e',\n",
              "        'rdf:description': 'all of the things we can expand from the notebook metadata.',\n",
              "        'session:id': 'f96335f1-429c-4c08-a07e-9aa81224d66d'},\n",
              "       {'@id': '__main__:#from_local',\n",
              "        '@type': 'builtins:#dict',\n",
              "        'cell:id': 'fc202593-9a00-4f3b-9748-c5f48b7c475e',\n",
              "        'session:id': 'f96335f1-429c-4c08-a07e-9aa81224d66d'}]}],\n",
              "    'cell:type': 'code'},\n",
              "   {'cell:id': {'@id': '31d8a531-2334-4243-9c78-25137ce58637'},\n",
              "    'cell:metadata': {'@graph': {}},\n",
              "    'cell:type': 'markdown'},\n",
              "   {'cell:id': {'@id': '55ba1060-beca-4342-a780-db7fd9c8b5ac'},\n",
              "    'cell:metadata': {'@graph': {}},\n",
              "    'cell:type': 'code'},\n",
              "   {'cell:id': {'@id': '3e3d2b0b-81b5-4193-82d6-ec27bf37eaa2'},\n",
              "    'cell:metadata': [{'@graph': {}},\n",
              "     {'@graph': {'@id': '__main__:#from_remote',\n",
              "       '@type': 'builtins:#dict',\n",
              "       'cell:id': '3e3d2b0b-81b5-4193-82d6-ec27bf37eaa2',\n",
              "       'session:id': 'f96335f1-429c-4c08-a07e-9aa81224d66d'}}],\n",
              "    'cell:type': 'code'},\n",
              "   {'cell:id': {'@id': 'aa2688dd-5237-41ec-981a-7e9b8e2a67b0'},\n",
              "    'cell:metadata': {'@graph': {}},\n",
              "    'cell:type': 'markdown'},\n",
              "   {'cell:id': {'@id': 'b461d781-4ec6-4d4d-a49e-251e908421f5'},\n",
              "    'cell:metadata': {'@graph': {}},\n",
              "    'cell:type': 'markdown'},\n",
              "   {'cell:id': {'@id': '30103d50-0741-4a56-95e1-d49c880ef6c3'},\n",
              "    'cell:metadata': {'@graph': {}},\n",
              "    'cell:type': 'markdown'}]}}"
            ]
          },
          "metadata": {
            "@graph": [
              {
                "@id": "__main__:#from_local",
                "@type": "builtins:#dict",
                "cell:id": "fc202593-9a00-4f3b-9748-c5f48b7c475e",
                "rdf:description": "all of the things we can expand from the notebook metadata.",
                "session:id": "3bfd0e1c-4cad-41d2-9252-9eb6c41bd5ab"
              },
              {
                "@id": "__main__:#from_local",
                "@type": "builtins:#dict",
                "cell:id": "fc202593-9a00-4f3b-9748-c5f48b7c475e",
                "session:id": "3bfd0e1c-4cad-41d2-9252-9eb6c41bd5ab"
              }
            ]
          },
          "output_type": "display_data"
        }
      ],
      "source": [
        "    if ACTIVE:\n",
        "        from pyld import jsonld\n",
        "        from IPython.display import JSON\n",
        "        from_local = jsonld.compact(data, {}, options=dict(expandContext=ctx))\n",
        "        set_metadata(from_local, **{\"rdf:description\": \"all of the things we can expand from the notebook metadata.\"})\n",
        "        display(from_local)"
      ]
    },
    {
      "cell_type": "markdown",
      "id": "31d8a531-2334-4243-9c78-25137ce58637",
      "metadata": {},
      "source": [
        "when the post is published we can condense the notation."
      ]
    },
    {
      "cell_type": "code",
      "execution_count": 13,
      "id": "55ba1060-beca-4342-a780-db7fd9c8b5ac",
      "metadata": {},
      "outputs": [
        {
          "data": {
            "text/plain": [
              "'https://raw.githubusercontent.com/tonyfast/tonyfast/main/tonyfast/xxii/oct/2022-10-29-metadata-formatter.ipynb'"
            ]
          },
          "execution_count": 13,
          "metadata": {
            "@graph": [
              {
                "@id": "https://raw.githubusercontent.com/tonyfast/tonyfast/main/tonyfast/xxii/oct/2022-10-29-metadata-formatter.ipynb",
                "@type": "builtins:#str",
                "cell:id": "55ba1060-beca-4342-a780-db7fd9c8b5ac",
                "session:id": "3bfd0e1c-4cad-41d2-9252-9eb6c41bd5ab"
              }
            ]
          },
          "output_type": "execute_result"
        }
      ],
      "source": [
        "    remote = \"https://raw.githubusercontent.com/tonyfast/tonyfast/main/tonyfast/xxii/oct/2022-10-29-metadata-formatter.ipynb\"; remote"
      ]
    },
    {
      "cell_type": "code",
      "execution_count": 14,
      "id": "3e3d2b0b-81b5-4193-82d6-ec27bf37eaa2",
      "metadata": {},
      "outputs": [
        {
          "data": {
            "text/plain": [
              "{'nb:cell': {'@list': [{'cell:id': {'@id': 'b89d004a-233f-452e-9da7-84604f291174'},\n",
              "    'cell:metadata': {'@graph': {}},\n",
              "    'cell:type': 'markdown'},\n",
              "   {'cell:id': {'@id': '1734421e-0762-47e6-8f5f-6f3468bf7b2f'},\n",
              "    'cell:metadata': {'@graph': {}},\n",
              "    'cell:type': 'markdown'},\n",
              "   {'cell:id': {'@id': '2f97b27e-f363-4dce-a2d5-45927c92feba'},\n",
              "    'cell:metadata': {'@graph': {'rdf:name': ['imports', 'constants']}},\n",
              "    'cell:type': 'code'},\n",
              "   {'cell:id': {'@id': 'd2ed9bc9-c426-4bb4-98fb-bf4f3d26c299'},\n",
              "    'cell:metadata': {'@graph': {}},\n",
              "    'cell:type': 'markdown'},\n",
              "   {'cell:id': {'@id': '1ea5f698-7263-4dc2-b24f-232e9f1dcfcd'},\n",
              "    'cell:metadata': {'@graph': {}},\n",
              "    'cell:type': 'markdown'},\n",
              "   {'cell:id': {'@id': 'cec19c6c-affe-4378-99d9-c927f8d2e726'},\n",
              "    'cell:metadata': {'@graph': {}},\n",
              "    'cell:type': 'code'},\n",
              "   {'cell:id': {'@id': '55478faa-bcc6-4447-9e28-607b2b6bafa6'},\n",
              "    'cell:metadata': {'@graph': {}},\n",
              "    'cell:type': 'markdown'},\n",
              "   {'cell:id': {'@id': '58291cbb-ce73-4bfa-b7ea-4c989090666a'},\n",
              "    'cell:metadata': {'@graph': {}},\n",
              "    'cell:type': 'markdown'},\n",
              "   {'cell:id': {'@id': '2069ae29-068c-4f0b-ab52-68ea31169358'},\n",
              "    'cell:metadata': {'@graph': {}},\n",
              "    'cell:type': 'code'},\n",
              "   {'cell:id': {'@id': '12548308-caf8-4760-8650-acc8fb13fa6d'},\n",
              "    'cell:metadata': {'@graph': {}},\n",
              "    'cell:type': 'markdown'},\n",
              "   {'cell:id': {'@id': '0aa91bd4-ef7e-4447-8572-f8e5db6af7fd'},\n",
              "    'cell:metadata': {'@graph': {}},\n",
              "    'cell:type': 'code'},\n",
              "   {'cell:id': {'@id': '22717127-56b3-4e8d-833e-21ba302cab49'},\n",
              "    'cell:metadata': {'@graph': {}},\n",
              "    'cell:type': 'markdown'},\n",
              "   {'cell:id': {'@id': '131bd548-e951-4a6e-b759-c7630bc6e20e'},\n",
              "    'cell:metadata': {'@graph': {}},\n",
              "    'cell:type': 'code'},\n",
              "   {'cell:id': {'@id': '4dc89ef5-0fd5-4510-9399-2a45ab27bef3'},\n",
              "    'cell:metadata': {'@graph': {}},\n",
              "    'cell:type': 'markdown'},\n",
              "   {'cell:id': {'@id': 'f121d061-df1c-4a41-8dac-de2ffabc54db'},\n",
              "    'cell:metadata': {'@graph': {}},\n",
              "    'cell:type': 'code'},\n",
              "   {'cell:id': {'@id': '01efe602-d5c1-4945-a3f7-fdae95ac4349'},\n",
              "    'cell:metadata': {'@graph': {}},\n",
              "    'cell:type': 'markdown'},\n",
              "   {'cell:id': {'@id': '50d9dcf9-18f4-4eb7-9a9a-cc3e14b3b2e2'},\n",
              "    'cell:metadata': {'@graph': {}},\n",
              "    'cell:type': 'markdown'},\n",
              "   {'cell:id': {'@id': 'f1227a1b-dbd7-4923-9f04-6b7db2e9828f'},\n",
              "    'cell:metadata': {'@graph': {}},\n",
              "    'cell:type': 'markdown'},\n",
              "   {'cell:id': {'@id': '37e64bd4-d119-470b-b480-44778d33c549'},\n",
              "    'cell:metadata': {'@graph': {}},\n",
              "    'cell:type': 'code'},\n",
              "   {'cell:id': {'@id': 'e3a8b43e-aaeb-4b7a-9ccb-4485ae0689a0'},\n",
              "    'cell:metadata': [{'@graph': {}},\n",
              "     {'@graph': [{'@id': '#df',\n",
              "        '@type': 'pandas.io.xml:#DataFrame',\n",
              "        'cell:id': 'e3a8b43e-aaeb-4b7a-9ccb-4485ae0689a0',\n",
              "        'pandas.DataFrame:shape': [0, 0],\n",
              "        'session:id': 'f96335f1-429c-4c08-a07e-9aa81224d66d'},\n",
              "       {'@id': 'pandas',\n",
              "        '@type': 'types:#ModuleType',\n",
              "        'cell:id': 'e3a8b43e-aaeb-4b7a-9ccb-4485ae0689a0',\n",
              "        'session:id': 'f96335f1-429c-4c08-a07e-9aa81224d66d'},\n",
              "       {'@id': 'pandas.io.xml:#DataFrame',\n",
              "        '@type': 'builtins:#type',\n",
              "        'cell:id': 'e3a8b43e-aaeb-4b7a-9ccb-4485ae0689a0',\n",
              "        'session:id': 'f96335f1-429c-4c08-a07e-9aa81224d66d'}]}],\n",
              "    'cell:type': 'code'},\n",
              "   {'cell:id': {'@id': 'e3dc5bdb-b499-4309-aa79-c0c333f97d56'},\n",
              "    'cell:metadata': {'@graph': {}},\n",
              "    'cell:type': 'markdown'},\n",
              "   {'cell:id': {'@id': 'db25096c-b1bb-40a1-9330-e58c96f77a6c'},\n",
              "    'cell:metadata': {'@graph': {}},\n",
              "    'cell:type': 'markdown'},\n",
              "   {'cell:id': {'@id': 'bc71a7c4-c872-454d-8616-64a741dee4f0'},\n",
              "    'cell:metadata': [{'@graph': {}},\n",
              "     {'@graph': {'@id': 'https://nbviewer.org/gist/tonyfast/16d3bc82d69890949212b46040bd86e1',\n",
              "       '@type': 'builtins:#str',\n",
              "       'cell:id': 'bc71a7c4-c872-454d-8616-64a741dee4f0',\n",
              "       'session:id': 'f96335f1-429c-4c08-a07e-9aa81224d66d'}}],\n",
              "    'cell:type': 'code'},\n",
              "   {'cell:id': {'@id': '67ce52b5-20b8-4adf-8518-6368d3c24303'},\n",
              "    'cell:metadata': {'@graph': {}},\n",
              "    'cell:type': 'markdown'},\n",
              "   {'cell:id': {'@id': 'c4377aed-7bb8-4fa1-8dd9-518ef22511a9'},\n",
              "    'cell:metadata': {'@graph': {}},\n",
              "    'cell:type': 'code'},\n",
              "   {'cell:id': {'@id': '24ee56a0-829c-4be6-8194-88e648e6ac11'},\n",
              "    'cell:metadata': {'@graph': {}},\n",
              "    'cell:type': 'code'},\n",
              "   {'cell:id': {'@id': 'fc202593-9a00-4f3b-9748-c5f48b7c475e'},\n",
              "    'cell:metadata': [{'@graph': {}},\n",
              "     {'@graph': [{'@id': '#from_local',\n",
              "        '@type': 'builtins:#dict',\n",
              "        'cell:id': 'fc202593-9a00-4f3b-9748-c5f48b7c475e',\n",
              "        'rdf:description': 'all of the things we can expand from the notebook metadata.',\n",
              "        'session:id': 'f96335f1-429c-4c08-a07e-9aa81224d66d'},\n",
              "       {'@id': '#from_local',\n",
              "        '@type': 'builtins:#dict',\n",
              "        'cell:id': 'fc202593-9a00-4f3b-9748-c5f48b7c475e',\n",
              "        'session:id': 'f96335f1-429c-4c08-a07e-9aa81224d66d'}]}],\n",
              "    'cell:type': 'code'},\n",
              "   {'cell:id': {'@id': '31d8a531-2334-4243-9c78-25137ce58637'},\n",
              "    'cell:metadata': {'@graph': {}},\n",
              "    'cell:type': 'markdown'},\n",
              "   {'cell:id': {'@id': '55ba1060-beca-4342-a780-db7fd9c8b5ac'},\n",
              "    'cell:metadata': {'@graph': {}},\n",
              "    'cell:type': 'code'},\n",
              "   {'cell:id': {'@id': '3e3d2b0b-81b5-4193-82d6-ec27bf37eaa2'},\n",
              "    'cell:metadata': [{'@graph': {}},\n",
              "     {'@graph': {'@id': '#from_remote',\n",
              "       '@type': 'builtins:#dict',\n",
              "       'cell:id': '3e3d2b0b-81b5-4193-82d6-ec27bf37eaa2',\n",
              "       'session:id': 'f96335f1-429c-4c08-a07e-9aa81224d66d'}}],\n",
              "    'cell:type': 'code'},\n",
              "   {'cell:id': {'@id': 'aa2688dd-5237-41ec-981a-7e9b8e2a67b0'},\n",
              "    'cell:metadata': {'@graph': {}},\n",
              "    'cell:type': 'markdown'},\n",
              "   {'cell:id': {'@id': 'b461d781-4ec6-4d4d-a49e-251e908421f5'},\n",
              "    'cell:metadata': {'@graph': {}},\n",
              "    'cell:type': 'markdown'},\n",
              "   {'cell:id': {'@id': '30103d50-0741-4a56-95e1-d49c880ef6c3'},\n",
              "    'cell:metadata': {'@graph': {}},\n",
              "    'cell:type': 'markdown'}]}}"
            ]
          },
          "metadata": {
            "@graph": [
              {
                "@id": "__main__:#from_remote",
                "@type": "builtins:#dict",
                "cell:id": "3e3d2b0b-81b5-4193-82d6-ec27bf37eaa2",
                "session:id": "3bfd0e1c-4cad-41d2-9252-9eb6c41bd5ab"
              }
            ]
          },
          "output_type": "display_data"
        }
      ],
      "source": [
        "    if ACTIVE:\n",
        "        from_remote = jsonld.compact(\n",
        "            remote, {},\n",
        "            options=dict(expandContext=ctx)\n",
        "        )\n",
        "        display(from_remote)"
      ]
    },
    {
      "cell_type": "markdown",
      "id": "aa2688dd-5237-41ec-981a-7e9b8e2a67b0",
      "metadata": {},
      "source": [
        "this notebook is certified to have metadata"
      ]
    },
    {
      "cell_type": "markdown",
      "id": "b461d781-4ec6-4d4d-a49e-251e908421f5",
      "metadata": {},
      "source": [
        "## things we capture\n",
        "\n",
        "in this proof of concept we don't capture much, but we do expose machinery to test this concept further and extend.\n",
        "\n",
        "we capture:\n",
        "\n",
        "* kernel session id which can verify the outputs are generated in the same session\n",
        "* each cell id that makes it possible link back to the source cells.\n",
        "* some python variable information."
      ]
    },
    {
      "cell_type": "markdown",
      "id": "30103d50-0741-4a56-95e1-d49c880ef6c3",
      "metadata": {},
      "source": [
        "## things we can capture in the graph.\n",
        "\n",
        "* annotations are type to id mappings.\n",
        "* we could trace function calls\n",
        "* with could encode imports\n",
        "* we could capture variable assignment"
      ]
    }
  ],
  "metadata": {
    "kernelspec": {
      "display_name": "Python [conda env:root] *",
      "language": "python",
      "name": "conda-root-py"
    },
    "language_info": {
      "codemirror_mode": {
        "name": "ipython",
        "version": 3
      },
      "file_extension": ".py",
      "mimetype": "text/x-python",
      "name": "python",
      "nbconvert_exporter": "python",
      "pygments_lexer": "ipython3",
      "version": "3.9.13"
    }
  },
  "nbformat": 4,
  "nbformat_minor": 5
}