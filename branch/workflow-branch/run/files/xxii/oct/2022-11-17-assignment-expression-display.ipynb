{
 "cells": [
  {
   "cell_type": "markdown",
   "id": "83359c98-169f-44f4-9099-48fe35302470",
   "metadata": {},
   "source": [
    "# using assignment expressions to display and assign in `IPython`"
   ]
  },
  {
   "cell_type": "markdown",
   "id": "18892700-dba3-4001-91f3-9b8fee9f77f0",
   "metadata": {},
   "source": [
    "not all notebok users are aware that there are different implicit display conditions\n",
    "that can be configured with `IPython` with the `ast_node_interactivity` option"
   ]
  },
  {
   "cell_type": "code",
   "execution_count": 1,
   "id": "3c43ec13-8797-4c6e-bcf7-47b1e2bf0cb2",
   "metadata": {},
   "outputs": [],
   "source": [
    "    shell = get_ipython()"
   ]
  },
  {
   "cell_type": "markdown",
   "id": "be95d780-6bb3-4328-9798-47894c2ca80b",
   "metadata": {},
   "source": [
    "by default, `shell.ast_node_interactivity` displays the last expressions"
   ]
  },
  {
   "cell_type": "code",
   "execution_count": 2,
   "id": "335a7fda-f5a1-41b6-9462-20575e81bad2",
   "metadata": {},
   "outputs": [
    {
     "data": {
      "text/plain": [
       "'last_expr'"
      ]
     },
     "execution_count": 2,
     "metadata": {},
     "output_type": "execute_result"
    }
   ],
   "source": [
    "    shell.ast_node_interactivity"
   ]
  },
  {
   "cell_type": "markdown",
   "id": "79152f3c-f271-437f-b754-a3e9281a6a7b",
   "metadata": {},
   "source": [
    "the other 5 options follow the code below"
   ]
  },
  {
   "cell_type": "code",
   "execution_count": 6,
   "id": "2da3591e-9dc4-431a-bef8-706d7a367066",
   "metadata": {},
   "outputs": [
    {
     "data": {
      "text/plain": [
       "['all', 'last', 'last_expr', 'none', 'last_expr_or_assign']"
      ]
     },
     "execution_count": 6,
     "metadata": {},
     "output_type": "execute_result"
    }
   ],
   "source": [
    "    shell.traits()[\"ast_node_interactivity\"].values"
   ]
  },
  {
   "cell_type": "markdown",
   "id": "2493385d-ad82-4dd4-b62c-68402e8fa6bc",
   "metadata": {},
   "source": [
    "sometimes when i am debugging i want to store a variable and display it at the same.\n",
    "the `IPython` approach set `shell.ast_node_interactivity = \"last_expr_or_assign\"`.\n",
    "admittedly, i never choose this because i don't want it all the time, just while debugging.\n",
    "\n",
    "what i do instead is set the variable and append an implicit display at the end."
   ]
  },
  {
   "cell_type": "code",
   "execution_count": 7,
   "id": "b1895d8a-e65a-43ea-9fd5-55f4fc0a4102",
   "metadata": {},
   "outputs": [
    {
     "data": {
      "text/plain": [
       "42"
      ]
     },
     "execution_count": 7,
     "metadata": {},
     "output_type": "execute_result"
    }
   ],
   "source": [
    "    my_variable = 42; my_variable"
   ]
  },
  {
   "cell_type": "markdown",
   "id": "3c5d1853-3899-4a84-a622-ff2b5593803d",
   "metadata": {},
   "source": [
    "i've shifted from this approach to using [assignment expressions](https://peps.python.org/pep-0572/) with make more sense."
   ]
  },
  {
   "cell_type": "code",
   "execution_count": 8,
   "id": "1b71cd17-5d5d-4ada-89e0-578331a971fc",
   "metadata": {},
   "outputs": [
    {
     "data": {
      "text/plain": [
       "42"
      ]
     },
     "execution_count": 8,
     "metadata": {},
     "output_type": "execute_result"
    }
   ],
   "source": [
    "    (my_variable := 42)"
   ]
  },
  {
   "cell_type": "markdown",
   "id": "6960cf8b-31d0-4b18-8280-456752a05f08",
   "metadata": {},
   "source": [
    "it feels lispy and i like it.\n",
    "\n",
    "it feels good with some widgets too."
   ]
  },
  {
   "cell_type": "code",
   "execution_count": 5,
   "id": "48717ec2-90aa-43de-9dc3-ffe7ca070d1d",
   "metadata": {},
   "outputs": [
    {
     "data": {
      "application/vnd.jupyter.widget-view+json": {
       "model_id": "7043a8b7c0fb46509ea24e9ee0e4fd7d",
       "version_major": 2,
       "version_minor": 0
      },
      "text/plain": [
       "Button(description='a butt', style=ButtonStyle())"
      ]
     },
     "metadata": {},
     "output_type": "display_data"
    }
   ],
   "source": [
    "    (button := __import__(\"ipywidgets\").Button(description=\"a butt\"))"
   ]
  }
 ],
 "metadata": {
  "kernelspec": {
   "display_name": "Python [conda env:root] *",
   "language": "python",
   "name": "conda-root-py"
  },
  "language_info": {
   "codemirror_mode": {
    "name": "ipython",
    "version": 3
   },
   "file_extension": ".py",
   "mimetype": "text/x-python",
   "name": "python",
   "nbconvert_exporter": "python",
   "pygments_lexer": "ipython3",
   "version": "3.9.13"
  }
 },
 "nbformat": 4,
 "nbformat_minor": 5
}
