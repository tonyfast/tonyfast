{
  "cells": [
    {
      "cell_type": "markdown",
      "id": "f6dd4bf9-5a0e-48db-96a5-2126d2380a2f",
      "metadata": {},
      "source": [
        "# making `__main__` a `__package__`\n",
        "\n",
        "to make an interactive computing session, or a python module generally, appear like a package we need to set two varaiables."
      ]
    },
    {
      "cell_type": "code",
      "execution_count": 1,
      "id": "4b33121f-2aea-481a-b156-3aa4bd61993a",
      "metadata": {},
      "outputs": [],
      "source": [
        "    %pip install pytest\n",
        "    import pytest; from pathlib import Path"
      ]
    },
    {
      "cell_type": "markdown",
      "id": "53c515bf-7fcf-4f53-92b9-2d84793067ea",
      "metadata": {},
      "source": [
        "there is a python file one directory up called `mkdocs.py`.\n",
        "we should be able to get at this file, and we will.\n",
        "\n",
        "our first transgression is not being a package."
      ]
    },
    {
      "cell_type": "code",
      "execution_count": 2,
      "id": "faea5894-3be4-497b-a30a-fad92e40a2f6",
      "metadata": {},
      "outputs": [],
      "source": [
        "    with pytest.raises(ImportError, match=\"attempted relative import with no known parent package\"):\n",
        "        from . import mkdocs"
      ]
    },
    {
      "cell_type": "markdown",
      "id": "176ea0ab-ce14-439b-b1fd-fa403e17c3fd",
      "metadata": {},
      "source": [
        "to be a package we need `__package__` and `__path__`"
      ]
    },
    {
      "cell_type": "code",
      "execution_count": 3,
      "id": "92d7f694-0df6-4c60-9ee1-19d69bf7062f",
      "metadata": {},
      "outputs": [],
      "source": [
        "    __package__, __path__ = __name__, [\"\"]"
      ]
    },
    {
      "cell_type": "markdown",
      "id": "537ceb1b-77b6-4b79-8008-061b625c2004",
      "metadata": {},
      "source": [
        "the `__path__` contains the lookup directories for parts of the package;\n",
        "this is a feature of namespace packages  AND where shit gets weird.\n",
        "\n",
        "now that we quack like a package we can attempt relative imports,\n",
        "but `mkdocs.py` is still out of reach."
      ]
    },
    {
      "cell_type": "code",
      "execution_count": 4,
      "id": "33caf723-ac9b-4581-b5ef-f3561d7e083f",
      "metadata": {},
      "outputs": [],
      "source": [
        "    with pytest.raises(ImportError, match=\"cannot import name 'mkdocs' from '__main__' \\(unknown location\\)\"):\n",
        "        from . import mkdocs"
      ]
    },
    {
      "cell_type": "markdown",
      "id": "62e2906d-938f-47dd-a832-a95f61e4208a",
      "metadata": {},
      "source": [
        "append the parent to the `__path__`"
      ]
    },
    {
      "cell_type": "code",
      "execution_count": 5,
      "id": "bc49ed15-3fb5-4bfd-a15c-22bf135372ed",
      "metadata": {},
      "outputs": [],
      "source": [
        "    __path__ += [\"..\"]"
      ]
    },
    {
      "cell_type": "markdown",
      "id": "f957c92c-ff44-4f4a-b5cf-132e1a4d495c",
      "metadata": {},
      "source": [
        "and boom!"
      ]
    },
    {
      "cell_type": "code",
      "execution_count": 6,
      "id": "d3c530fe-9e49-47fc-9fe7-1b00f7c8aa92",
      "metadata": {},
      "outputs": [],
      "source": [
        "    from . import mkdocs#!"
      ]
    },
    {
      "cell_type": "markdown",
      "id": "04580c66-c097-4628-ac91-69a5a897a23c",
      "metadata": {},
      "source": [
        "## how is this different from `sys.paths`\n",
        "\n",
        "it is probably not much different, but more a cheat code you can abuse at your own \u26a0"
      ]
    }
  ],
  "metadata": {
    "kernelspec": {
      "display_name": "Python [conda env:root] *",
      "language": "python",
      "name": "conda-root-py"
    },
    "language_info": {
      "codemirror_mode": {
        "name": "ipython",
        "version": 3
      },
      "file_extension": ".py",
      "mimetype": "text/x-python",
      "name": "python",
      "nbconvert_exporter": "python",
      "pygments_lexer": "ipython3",
      "version": "3.9.13"
    }
  },
  "nbformat": 4,
  "nbformat_minor": 5
}