{
  "cells": [
    {
      "cell_type": "markdown",
      "id": "855863fb-55ab-4fdb-8df1-7727e4f09415",
      "metadata": {},
      "source": [
        "# fumbling around with `pluggy`\n",
        "\n",
        "https://pluggy.readthedocs.io/\n",
        "\n",
        "* register/unregister plugins\n",
        "* define specs and implementations at the same time."
      ]
    },
    {
      "cell_type": "code",
      "execution_count": 1,
      "id": "8fe10b5d-eff8-4d2a-9028-1d0507df9d80",
      "metadata": {},
      "outputs": [],
      "source": [
        "    %pip install pluggy\n",
        "    import pluggy"
      ]
    },
    {
      "cell_type": "markdown",
      "id": "92e5b573-c1b0-4ac7-8f17-fc1dcd94801e",
      "metadata": {},
      "source": [
        "we're going to think about a sample `PROG`ram that has an interface."
      ]
    },
    {
      "cell_type": "code",
      "execution_count": 2,
      "id": "b1eca470-bccb-459e-87b3-afbee0d15ed2",
      "metadata": {},
      "outputs": [],
      "source": [
        "    PROG = \"sample-program\""
      ]
    },
    {
      "cell_type": "markdown",
      "id": "4787412c-b1c6-47dd-9b17-0cfa5c75a0ae",
      "metadata": {},
      "source": [
        "the `specification` decorates the functions and signatures of our interface.\n",
        "the `implementation` uses the `specification` for consistency when it actually defines computational work."
      ]
    },
    {
      "cell_type": "code",
      "execution_count": 3,
      "id": "37d3fe87-e5e3-4285-b134-07aaccc5f890",
      "metadata": {},
      "outputs": [],
      "source": [
        "    implementation, specification = pluggy.HookimplMarker(PROG), pluggy.HookspecMarker(PROG)"
      ]
    },
    {
      "cell_type": "markdown",
      "id": "dd3b7f37-13c6-4380-a46b-61707e5231cd",
      "metadata": {},
      "source": [
        "`PROG`s `specification` for `my_plugin` provides a default interface."
      ]
    },
    {
      "cell_type": "code",
      "execution_count": 4,
      "id": "53d617c9-0967-453d-8b60-3a43fd64bac8",
      "metadata": {},
      "outputs": [],
      "source": [
        "    @implementation\n",
        "    @specification(firstresult=False)\n",
        "    def my_plugin(a, b, c): return \"\".join(map(str, (a,b,c)))"
      ]
    },
    {
      "cell_type": "markdown",
      "id": "8cbfab29-0283-4407-938f-cb2d177c8fde",
      "metadata": {},
      "source": [
        "we register the `specifaction` onto a plugin `manager`"
      ]
    },
    {
      "cell_type": "code",
      "execution_count": 5,
      "id": "039bd894-e4a3-4d00-99b7-351ed94bb7f3",
      "metadata": {},
      "outputs": [],
      "source": [
        "    manager = pluggy.PluginManager(PROG)"
      ]
    },
    {
      "cell_type": "markdown",
      "id": "e9ff4102-9484-4411-ae11-3664bb2542df",
      "metadata": {},
      "source": [
        "our `specification` lives in the `import __main__` or `MAIN` namespace."
      ]
    },
    {
      "cell_type": "code",
      "execution_count": 6,
      "id": "3f991d64-46b5-4063-9de6-6bf7a5fe4327",
      "metadata": {},
      "outputs": [],
      "source": [
        "    manager.add_hookspecs(__main__ := __import__(__name__))\n",
        "    assert \"my_plugin\" in dir(manager.hook), \"the plugin is registered\""
      ]
    },
    {
      "cell_type": "markdown",
      "id": "0a1eb7f6-f385-4c7c-8fa1-3ffcdecb06c2",
      "metadata": {},
      "source": [
        "now we can add our `implementation` of `my_plugin` in the `__main__` module"
      ]
    },
    {
      "cell_type": "code",
      "execution_count": 7,
      "id": "926ee942-1d7c-44cd-b165-7dc63ac3d054",
      "metadata": {},
      "outputs": [],
      "source": [
        "    manager.register(__main__);"
      ]
    },
    {
      "cell_type": "markdown",
      "id": "9ad56dbf-5f45-45f6-bd5b-76d610e37aa4",
      "metadata": {},
      "source": [
        "now we can execute our `manager.hook.my_plugin` method"
      ]
    },
    {
      "cell_type": "code",
      "execution_count": 8,
      "id": "ab87f66e-6d0e-4360-b03c-da0dce0989b2",
      "metadata": {},
      "outputs": [
        {
          "data": {
            "text/plain": [
              "['102030']"
            ]
          },
          "execution_count": 8,
          "metadata": {},
          "output_type": "execute_result"
        }
      ],
      "source": [
        "    manager.hook.my_plugin(a=10, b=20, c=30)"
      ]
    },
    {
      "cell_type": "markdown",
      "id": "648c5df5-8d28-48d7-9ea5-45e4c3aaf982",
      "metadata": {},
      "source": [
        "let's add another implementation. we can't name it `my_plugin` otherwise we'll lose the scope of our previous method.  here we name our method whatever we want and explicitly define the `implementation:specname` it refers to."
      ]
    },
    {
      "cell_type": "code",
      "execution_count": 9,
      "id": "29ca167d-1ba6-4f40-b74f-e18d028bd569",
      "metadata": {},
      "outputs": [],
      "source": [
        "    @implementation(specname=\"my_plugin\")\n",
        "    def another_plugin(a, b): return (a, b)    "
      ]
    },
    {
      "cell_type": "markdown",
      "id": "1088b9af-6b36-4c30-8b66-2724d56a6e38",
      "metadata": {},
      "source": [
        "now seems like a good time test what `async` functions do"
      ]
    },
    {
      "cell_type": "code",
      "execution_count": 10,
      "id": "c5bf1674-ed56-4167-9c24-f91acc049b4b",
      "metadata": {},
      "outputs": [],
      "source": [
        "    @implementation(specname=\"my_plugin\", trylast=True)\n",
        "    async def async_my_plugin(a, b): return (a, b)    "
      ]
    },
    {
      "cell_type": "markdown",
      "id": "aeea78b6-a4c4-431d-94b6-b54552584ace",
      "metadata": {},
      "source": [
        "reregistering the `__main__` gives an error because `pluggy` doesn't allow someone register the module twice"
      ]
    },
    {
      "cell_type": "code",
      "execution_count": 11,
      "id": "68bac5be-1a27-418b-9d31-22e4d9675e87",
      "metadata": {},
      "outputs": [],
      "source": [
        "    try: manager.register(__main__); assert False, \"can't register the module twice\"\n",
        "    except ValueError: assert True"
      ]
    },
    {
      "cell_type": "markdown",
      "id": "d55cee9a-50ee-47ff-b808-7236d277380a",
      "metadata": {},
      "source": [
        "the proper registration requires we unregister the module first."
      ]
    },
    {
      "cell_type": "code",
      "execution_count": 12,
      "id": "b737c58d-9836-49c4-8667-651be52754e5",
      "metadata": {},
      "outputs": [],
      "source": [
        "    manager.unregister(__main__)\n",
        "    manager.register(__main__);"
      ]
    },
    {
      "cell_type": "markdown",
      "id": "d17a4433-bc34-4da2-89c0-36119ca50385",
      "metadata": {},
      "source": [
        "now our invocation finds both implementations."
      ]
    },
    {
      "cell_type": "code",
      "execution_count": 13,
      "id": "205d1197-c378-45e5-adac-91fea0b32f53",
      "metadata": {},
      "outputs": [
        {
          "data": {
            "text/plain": [
              "['102030', (10, 20), <coroutine object async_my_plugin at 0x7feab0168040>]"
            ]
          },
          "execution_count": 13,
          "metadata": {},
          "output_type": "execute_result"
        }
      ],
      "source": [
        "    (results := manager.hook.my_plugin(a=10, b=20, c=30))"
      ]
    },
    {
      "cell_type": "markdown",
      "id": "cba7ad55-a489-4f40-93f6-00618dd3e937",
      "metadata": {},
      "source": [
        "`async_my_plugin` evaluates to a coroutine that we'd have to handle properly."
      ]
    },
    {
      "cell_type": "code",
      "execution_count": 14,
      "id": "d2d01f25-1455-4505-8fc5-d1b57a0f67af",
      "metadata": {},
      "outputs": [],
      "source": [
        "    assert __import__(\"inspect\").iscoroutine(results[-1])"
      ]
    }
  ],
  "metadata": {
    "kernelspec": {
      "display_name": "Python [conda env:root] *",
      "language": "python",
      "name": "conda-root-py"
    },
    "language_info": {
      "codemirror_mode": {
        "name": "ipython",
        "version": 3
      },
      "file_extension": ".py",
      "mimetype": "text/x-python",
      "name": "python",
      "nbconvert_exporter": "python",
      "pygments_lexer": "ipython3",
      "version": "3.9.10"
    }
  },
  "nbformat": 4,
  "nbformat_minor": 5
}